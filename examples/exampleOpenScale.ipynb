{
 "cells": [
  {
   "cell_type": "markdown",
   "metadata": {},
   "source": [
    "# IBM Watson OpenScale Lab instructions\n",
    "\n",
    "This notebook should be run in a Watson Studio project, using with **Python 3.5 with Spark** runtime environment. **If you are viewing this in Watson Studio and do not see Python 3.5 with Spark in the upper right corner of your screen, please update the runtime now.** It requires service credentials for the following Cloud services:\n",
    "  * IBM Watson OpenScale\n",
    "  * Watson Machine Learning\n",
    "  \n",
    "If you have a paid Cloud account, you may also provision a **Databases for PostgreSQL** or **Db2 Warehouse** service to take full advantage of integration with Watson Studio and continuous learning services. If you choose not to provision this paid service, you can use the free internal PostgreSQL storage with OpenScale, but will not be able to configure continuous learning for your model.\n",
    "\n",
    "The notebook will train, create and deploy a German Credit Risk model, configure OpenScale to monitor that deployment, and inject seven days' worth of historical records and measurements for viewing in the OpenScale Insights dashboard."
   ]
  },
  {
   "cell_type": "markdown",
   "metadata": {
    "collapsed": true
   },
   "source": [
    "# Package installation"
   ]
  },
  {
   "cell_type": "code",
   "execution_count": 1,
   "metadata": {
    "scrolled": true
   },
   "outputs": [
    {
     "name": "stdout",
     "output_type": "stream",
     "text": [
      "Waiting for a Spark session to start...\n",
      "Spark Initialization Done! ApplicationId = app-20190715132235-0000\n",
      "KERNEL_ID = 50a3b543-f62f-4788-9615-d2757981db3f\n",
      "\u001b[31mtensorflow 1.3.0 requires tensorflow-tensorboard<0.2.0,>=0.1.0, which is not installed.\u001b[0m\n",
      "\u001b[31mpyspark 2.3.3 requires py4j==0.10.7, which is not installed.\u001b[0m\n",
      "Successfully installed psycopg2-binary-2.8.3\n",
      "\u001b[31mtensorflow 1.3.0 requires tensorflow-tensorboard<0.2.0,>=0.1.0, which is not installed.\u001b[0m\n",
      "\u001b[31mpyspark 2.3.3 requires py4j==0.10.7, which is not installed.\u001b[0m\n",
      "\u001b[31mibm-cos-sdk-core 2.5.1 has requirement urllib3<1.25,>=1.20, but you'll have urllib3 1.25.3 which is incompatible.\u001b[0m\n",
      "Successfully installed certifi-2019.6.16 chardet-3.0.4 docutils-0.14 ibm-cos-sdk-2.5.1 ibm-cos-sdk-core-2.5.1 ibm-cos-sdk-s3transfer-2.5.1 idna-2.8 jmespath-0.9.4 lomond-0.3.3 numpy-1.16.4 pandas-0.24.2 python-dateutil-2.8.0 pytz-2019.1 requests-2.22.0 six-1.12.0 tabulate-0.8.3 tqdm-4.32.2 urllib3-1.25.3 watson-machine-learning-client-1.0.371\n",
      "\u001b[31mpyspark 2.3.3 requires py4j==0.10.7, which is not installed.\u001b[0m\n",
      "\u001b[31mtensorflow 1.3.0 requires tensorflow-tensorboard<0.2.0,>=0.1.0, which is not installed.\u001b[0m\n",
      "\u001b[31mibm-cos-sdk-core 2.5.1 has requirement urllib3<1.25,>=1.20, but you'll have urllib3 1.25.3 which is incompatible.\u001b[0m\n",
      "\u001b[33mTarget directory /home/spark/shared/user-libs/python3/requests-2.22.0.dist-info already exists. Specify --upgrade to force replacement.\u001b[0m\n",
      "\u001b[33mTarget directory /home/spark/shared/user-libs/python3/dateutil already exists. Specify --upgrade to force replacement.\u001b[0m\n",
      "\u001b[33mTarget directory /home/spark/shared/user-libs/python3/ibm_cos_sdk_core-2.5.1-py3.5.egg-info already exists. Specify --upgrade to force replacement.\u001b[0m\n",
      "\u001b[33mTarget directory /home/spark/shared/user-libs/python3/certifi already exists. Specify --upgrade to force replacement.\u001b[0m\n",
      "\u001b[33mTarget directory /home/spark/shared/user-libs/python3/pandas-0.24.2.dist-info already exists. Specify --upgrade to force replacement.\u001b[0m\n",
      "\u001b[33mTarget directory /home/spark/shared/user-libs/python3/tabulate.py already exists. Specify --upgrade to force replacement.\u001b[0m\n",
      "\u001b[33mTarget directory /home/spark/shared/user-libs/python3/docutils already exists. Specify --upgrade to force replacement.\u001b[0m\n",
      "\u001b[33mTarget directory /home/spark/shared/user-libs/python3/urllib3 already exists. Specify --upgrade to force replacement.\u001b[0m\n",
      "\u001b[33mTarget directory /home/spark/shared/user-libs/python3/pytz-2019.1.dist-info already exists. Specify --upgrade to force replacement.\u001b[0m\n",
      "\u001b[33mTarget directory /home/spark/shared/user-libs/python3/pandas already exists. Specify --upgrade to force replacement.\u001b[0m\n",
      "\u001b[33mTarget directory /home/spark/shared/user-libs/python3/chardet already exists. Specify --upgrade to force replacement.\u001b[0m\n",
      "\u001b[33mTarget directory /home/spark/shared/user-libs/python3/ibm_boto3 already exists. Specify --upgrade to force replacement.\u001b[0m\n",
      "\u001b[33mTarget directory /home/spark/shared/user-libs/python3/__pycache__ already exists. Specify --upgrade to force replacement.\u001b[0m\n",
      "\u001b[33mTarget directory /home/spark/shared/user-libs/python3/idna already exists. Specify --upgrade to force replacement.\u001b[0m\n",
      "\u001b[33mTarget directory /home/spark/shared/user-libs/python3/six.py already exists. Specify --upgrade to force replacement.\u001b[0m\n",
      "\u001b[33mTarget directory /home/spark/shared/user-libs/python3/six-1.12.0.dist-info already exists. Specify --upgrade to force replacement.\u001b[0m\n",
      "\u001b[33mTarget directory /home/spark/shared/user-libs/python3/docutils-0.14.dist-info already exists. Specify --upgrade to force replacement.\u001b[0m\n",
      "\u001b[33mTarget directory /home/spark/shared/user-libs/python3/jmespath already exists. Specify --upgrade to force replacement.\u001b[0m\n",
      "\u001b[33mTarget directory /home/spark/shared/user-libs/python3/numpy-1.16.4.dist-info already exists. Specify --upgrade to force replacement.\u001b[0m\n",
      "\u001b[33mTarget directory /home/spark/shared/user-libs/python3/python_dateutil-2.8.0.dist-info already exists. Specify --upgrade to force replacement.\u001b[0m\n",
      "\u001b[33mTarget directory /home/spark/shared/user-libs/python3/watson_machine_learning_client already exists. Specify --upgrade to force replacement.\u001b[0m\n",
      "\u001b[33mTarget directory /home/spark/shared/user-libs/python3/numpy already exists. Specify --upgrade to force replacement.\u001b[0m\n",
      "\u001b[33mTarget directory /home/spark/shared/user-libs/python3/requests already exists. Specify --upgrade to force replacement.\u001b[0m\n",
      "\u001b[33mTarget directory /home/spark/shared/user-libs/python3/lomond-0.3.3.dist-info already exists. Specify --upgrade to force replacement.\u001b[0m\n",
      "\u001b[33mTarget directory /home/spark/shared/user-libs/python3/ibm_botocore already exists. Specify --upgrade to force replacement.\u001b[0m\n",
      "\u001b[33mTarget directory /home/spark/shared/user-libs/python3/urllib3-1.25.3.dist-info already exists. Specify --upgrade to force replacement.\u001b[0m\n",
      "\u001b[33mTarget directory /home/spark/shared/user-libs/python3/tabulate-0.8.3-py3.5.egg-info already exists. Specify --upgrade to force replacement.\u001b[0m\n",
      "\u001b[33mTarget directory /home/spark/shared/user-libs/python3/pytz already exists. Specify --upgrade to force replacement.\u001b[0m\n",
      "\u001b[33mTarget directory /home/spark/shared/user-libs/python3/ibm_cos_sdk_s3transfer-2.5.1-py3.5.egg-info already exists. Specify --upgrade to force replacement.\u001b[0m\n",
      "\u001b[33mTarget directory /home/spark/shared/user-libs/python3/certifi-2019.6.16.dist-info already exists. Specify --upgrade to force replacement.\u001b[0m\n",
      "\u001b[33mTarget directory /home/spark/shared/user-libs/python3/tqdm-4.32.2.dist-info already exists. Specify --upgrade to force replacement.\u001b[0m\n",
      "\u001b[33mTarget directory /home/spark/shared/user-libs/python3/ibm_cos_sdk-2.5.1-py3.5.egg-info already exists. Specify --upgrade to force replacement.\u001b[0m\n",
      "\u001b[33mTarget directory /home/spark/shared/user-libs/python3/chardet-3.0.4.dist-info already exists. Specify --upgrade to force replacement.\u001b[0m\n",
      "\u001b[33mTarget directory /home/spark/shared/user-libs/python3/jmespath-0.9.4.dist-info already exists. Specify --upgrade to force replacement.\u001b[0m\n",
      "\u001b[33mTarget directory /home/spark/shared/user-libs/python3/lomond already exists. Specify --upgrade to force replacement.\u001b[0m\n",
      "\u001b[33mTarget directory /home/spark/shared/user-libs/python3/idna-2.8.dist-info already exists. Specify --upgrade to force replacement.\u001b[0m\n",
      "\u001b[33mTarget directory /home/spark/shared/user-libs/python3/watson_machine_learning_client-1.0.371.dist-info already exists. Specify --upgrade to force replacement.\u001b[0m\n",
      "\u001b[33mTarget directory /home/spark/shared/user-libs/python3/tqdm already exists. Specify --upgrade to force replacement.\u001b[0m\n",
      "\u001b[33mTarget directory /home/spark/shared/user-libs/python3/ibm_s3transfer already exists. Specify --upgrade to force replacement.\u001b[0m\n",
      "\u001b[33mTarget directory /home/spark/shared/user-libs/python3/bin already exists. Specify --upgrade to force replacement.\u001b[0m\n",
      "Successfully installed certifi-2019.6.16 chardet-3.0.4 docutils-0.14 h5py-2.9.0 ibm-ai-openscale-2.1.7 ibm-cos-sdk-2.5.1 ibm-cos-sdk-core-2.5.1 ibm-cos-sdk-s3transfer-2.5.1 idna-2.8 jmespath-0.9.4 lomond-0.3.3 numpy-1.16.4 pandas-0.24.2 python-dateutil-2.8.0 pytz-2019.1 requests-2.22.0 six-1.12.0 tabulate-0.8.3 tqdm-4.32.2 urllib3-1.25.3 watson-machine-learning-client-1.0.371\n",
      "\u001b[31mtensorflow 1.3.0 requires tensorflow-tensorboard<0.2.0,>=0.1.0, which is not installed.\u001b[0m\n",
      "\u001b[31mpyspark 2.3.3 requires py4j==0.10.7, which is not installed.\u001b[0m\n",
      "\u001b[31mibm-cos-sdk-core 2.5.1 has requirement urllib3<1.25,>=1.20, but you'll have urllib3 1.25.3 which is incompatible.\u001b[0m\n",
      "Successfully installed numpy-1.16.4\n",
      "\u001b[31mtensorflow 1.3.0 requires tensorflow-tensorboard<0.2.0,>=0.1.0, which is not installed.\u001b[0m\n",
      "\u001b[31mpyspark 2.3.3 requires py4j==0.10.7, which is not installed.\u001b[0m\n",
      "\u001b[31mibm-cos-sdk-core 2.5.1 has requirement urllib3<1.25,>=1.20, but you'll have urllib3 1.25.3 which is incompatible.\u001b[0m\n",
      "Successfully installed PyWavelets-1.0.3 cycler-0.10.0 decorator-4.4.0 imageio-2.5.0 joblib-0.13.2 kiwisolver-1.1.0 lime-0.1.1.36 matplotlib-3.0.3 networkx-2.3 numpy-1.16.4 pillow-6.1.0 pyparsing-2.4.0 python-dateutil-2.8.0 scikit-image-0.15.0 scikit-learn-0.21.2 scipy-1.3.0 setuptools-41.0.1 six-1.12.0\n",
      "\u001b[31mpyspark 2.3.3 requires py4j==0.10.7, which is not installed.\u001b[0m\n",
      "\u001b[31mtensorflow 1.3.0 requires tensorflow-tensorboard<0.2.0,>=0.1.0, which is not installed.\u001b[0m\n",
      "\u001b[31mibm-cos-sdk-core 2.5.1 has requirement urllib3<1.25,>=1.20, but you'll have urllib3 1.25.3 which is incompatible.\u001b[0m\n",
      "Successfully installed SciPy-1.3.0 numpy-1.16.4\n",
      "\u001b[31mtensorflow 1.3.0 requires tensorflow-tensorboard<0.2.0,>=0.1.0, which is not installed.\u001b[0m\n",
      "\u001b[31mibm-cos-sdk-core 2.5.1 has requirement urllib3<1.25,>=1.20, but you'll have urllib3 1.25.3 which is incompatible.\u001b[0m\n",
      "Successfully installed py4j-0.10.4 pyspark-2.1.2\n"
     ]
    }
   ],
   "source": [
    "!rm -rf $PIP_BUILD\n",
    "!pip install psycopg2-binary | tail -n 1\n",
    "!pip install --upgrade watson-machine-learning-client --no-cache | tail -n 1\n",
    "!pip install ibm-ai-openscale==2.1.7 --no-cache | tail -n 1\n",
    "!pip install --upgrade numpy --no-cache | tail -n 1\n",
    "!pip install --upgrade lime --no-cache | tail -n 1\n",
    "!pip install --upgrade SciPy --no-cache | tail -n 1\n",
    "!pip install -U pyspark==2.1.2 --no-cache | tail -n 1"
   ]
  },
  {
   "cell_type": "markdown",
   "metadata": {},
   "source": [
    "# Provision services and configure credentials"
   ]
  },
  {
   "cell_type": "markdown",
   "metadata": {},
   "source": [
    "If you have not already, provision an instance of IBM Watson OpenScale using the [OpenScale link in the Cloud catalog](https://cloud.ibm.com/catalog/services/watson-openscale)."
   ]
  },
  {
   "cell_type": "markdown",
   "metadata": {},
   "source": [
    "Your Cloud API key can be generated by going to the [**Users** section of the Cloud console](https://cloud.ibm.com/iam#/users).  \n",
    "* From that page, click your name, scroll down to the **API Keys** section, and click **Create an IBM Cloud API key**. \n",
    "* Give your key a name and click **Create**, then copy the created key and paste it below.\n",
    "\n",
    "Alternately, from the [IBM Cloud CLI](https://console.bluemix.net/docs/cli/reference/ibmcloud/download_cli.html#install_use) :\n",
    "\n",
    "```bash\n",
    "ibmcloud login --sso\n",
    "ibmcloud iam api-key-create 'my_key'\n",
    "```"
   ]
  },
  {
   "cell_type": "code",
   "execution_count": 2,
   "metadata": {
    "scrolled": true
   },
   "outputs": [],
   "source": [
    "CLOUD_API_KEY = \"*****\""
   ]
  },
  {
   "cell_type": "markdown",
   "metadata": {},
   "source": [
    "Get the Watson OpenScale GUID using the [IBM Cloud CLI](https://console.bluemix.net/docs/cli/reference/ibmcloud/download_cli.html#install_use) :\n",
    "\n",
    "```bash\n",
    "ibmcloud resource service-instance <Watson_OpenScale_instance_name>\n",
    "```"
   ]
  },
  {
   "cell_type": "code",
   "execution_count": 3,
   "metadata": {},
   "outputs": [],
   "source": [
    "AIOS_GUID = \"*****\""
   ]
  },
  {
   "cell_type": "code",
   "execution_count": 4,
   "metadata": {},
   "outputs": [],
   "source": [
    "AIOS_CREDENTIALS = {\n",
    "    \"instance_guid\": AIOS_GUID,\n",
    "    \"apikey\": CLOUD_API_KEY,\n",
    "    \"url\": \"https://api.aiopenscale.cloud.ibm.com\"\n",
    "}"
   ]
  },
  {
   "cell_type": "markdown",
   "metadata": {},
   "source": [
    "Next you will need credentials for Watson Machine Learning. If you already have a WML instance, you may use credentials for it. To provision a new Lite instance of WML, use the [IBM Cloud catalog](https://cloud.ibm.com/catalog/services/machine-learning):  \n",
    "* Give your service a name, and click **Create**.  \n",
    "* Once your instance is created, click the **Service Credentials** link on the left side of the screen.  \n",
    "* Click the **New credential** button, give your credentials a name, and click **Add**.  \n",
    "* Your new credentials can be accessed by clicking the **View credentials** button.  \n",
    "* Copy and paste your WML credentials into the cell below."
   ]
  },
  {
   "cell_type": "code",
   "execution_count": 5,
   "metadata": {
    "scrolled": true
   },
   "outputs": [],
   "source": [
    "WML_CREDENTIALS = {\n",
    "    \"apikey\": \"key\",\n",
    "    \"iam_apikey_description\": \"description\",\n",
    "    \"iam_apikey_name\": \"auto-generated-apikey\",\n",
    "    \"iam_role_crn\": \"crn:v1:bluemix:public:iam::::serviceRole:Writer\",\n",
    "    \"iam_serviceid_crn\": \"crn:v1:bluemix:public:iam-identity::\",\n",
    "    \"instance_id\": \"instance_id\",\n",
    "    \"password\": \"password\",\n",
    "    \"url\": \"https://us-south.ml.cloud.ibm.com\",\n",
    "    \"username\": \"username\"\n",
    "}"
   ]
  },
  {
   "cell_type": "markdown",
   "metadata": {},
   "source": [
    "This lab can use Databases for PostgreSQL, Db2 Warehouse, or a free internal verison of PostgreSQL to create a datamart for OpenScale.\n",
    "\n",
    "    **If you have previously configured OpenScale**, it will use your existing datamart, and not interfere with any models you are currently monitoring. **Do not update the cell below where DB_CREDENTIALS are filled out AND comment it out or do not run it. Instead, uncomment the cell for `DB_CREDENTIALS = NONE` AND RUN IT INSTEAD**.\n",
    "\n",
    "**If you do not have a paid Cloud account or would prefer not to provision this paid service**, you may use the free internal PostgreSQL service with OpenScale. **Do not update the cell below where DB_CREDENTIALS are filled out AND comment it out or do not run it. Instead, uncomment the cell for `DB_CREDENTIALS = NONE` AND RUN IT INSTEAD**.\n",
    "\n",
    "**To provision a new instance of Db2 Warehouse**:  \n",
    "* Locate [Db2 Warehouse in the Cloud catalog](https://cloud.ibm.com/catalog/services/db2-warehouse)  \n",
    "* Give your service a name, and click **Create**.  \n",
    "* Once your instance is created, click the **Service Credentials** link on the left side of the screen.  \n",
    "* Click the **New credential** button, give your credentials a name, and click **Add**.  \n",
    "* Your new credentials can be accessed by clicking the **View credentials** button.  \n",
    "* Copy and paste your Db2 Warehouse credentials into the cell below.\n",
    "\n",
    "**To provision a new instance of Databases for PostgreSQL**:\n",
    "* Locate [Databases for PostgreSQL in the Cloud catalog](*https://cloud.ibm.com/catalog/services/databases-for-postgresql)  \n",
    "* Give your service a name, and click **Create**.  \n",
    "* Once your instance is created, click the **Service Credentials** link on the left side of the screen.  \n",
    "* Click the **New credential** button, give your credentials a name, and click **Add**.  \n",
    "* Your new credentials can be accessed by clicking the **View credentials** button.  \n",
    "* Copy and paste your Databases for PostgreSQL credentials into the cell below.\n"
   ]
  },
  {
   "cell_type": "markdown",
   "metadata": {},
   "source": [
    "IF you have previously configured OpenScale and are using an existing datamart OR would prefer not to provision the paid service, uncomment the cell below to set `DB_CREDENTIALS = NONE` AND do not run or comment out the cell where `DB_CREDENTIALS` are set."
   ]
  },
  {
   "cell_type": "code",
   "execution_count": 30,
   "metadata": {},
   "outputs": [],
   "source": [
    "#DB_CREDENTIALS = None"
   ]
  },
  {
   "cell_type": "markdown",
   "metadata": {},
   "source": [
    "Comment out the cell below if you have set `DB_CREDENTIALS = None`."
   ]
  },
  {
   "cell_type": "code",
   "execution_count": null,
   "metadata": {},
   "outputs": [],
   "source": []
  },
  {
   "cell_type": "code",
   "execution_count": 26,
   "metadata": {
    "scrolled": true
   },
   "outputs": [],
   "source": [
    "DB_CREDENTIALS = {\n",
    "  \"hostname\": \"***\",\n",
    "  \"password\": \"***\",\n",
    "  \"https_url\": \"***\",\n",
    "  \"port\": 50000,\n",
    "  \"ssldsn\": \"***\",\n",
    "  \"host\": \"***\",\n",
    "  \"jdbcurl\": \"***\",\n",
    "  \"uri\": \"***\",\n",
    "  \"db\": \"***\",\n",
    "  \"dsn\": \"****\",\n",
    "  \"username\": \"***\",\n",
    "  \"ssljdbcurl\": \"****\"\n",
    "}"
   ]
  },
  {
   "cell_type": "markdown",
   "metadata": {},
   "source": [
    "__If you previously configured OpenScale to use the free internal version of PostgreSQL, you can switch to a new datamart using a paid database service.__ If you would like to delete the internal PostgreSQL configuration and create a new one using service credentials supplied in the cell above, set the __KEEP_MY_INTERNAL_POSTGRES__ variable below to __False__ below. In this case, the notebook will remove your existing internal PostgreSQL datamart and create a new one with the supplied credentials. __*NO DATA MIGRATION WILL OCCUR.*__"
   ]
  },
  {
   "cell_type": "code",
   "execution_count": 6,
   "metadata": {},
   "outputs": [],
   "source": [
    "KEEP_MY_INTERNAL_POSTGRES = True"
   ]
  },
  {
   "cell_type": "markdown",
   "metadata": {},
   "source": [
    "# Run the notebook\n",
    "\n",
    "At this point, the notebook is ready to run. You can either run the cells one at a time, or click the **Kernel** option above and select **Restart and Run All** to run all the cells."
   ]
  },
  {
   "cell_type": "markdown",
   "metadata": {},
   "source": [
    "# Load and explore data"
   ]
  },
  {
   "cell_type": "markdown",
   "metadata": {},
   "source": [
    "## Load the training data from github"
   ]
  },
  {
   "cell_type": "code",
   "execution_count": 7,
   "metadata": {
    "scrolled": true
   },
   "outputs": [
    {
     "name": "stdout",
     "output_type": "stream",
     "text": [
      "rm: cannot remove 'german_credit_data_biased_training.csv': No such file or directory\n",
      "--2019-07-15 13:35:30--  https://raw.githubusercontent.com/IBM/monitor-wml-model-with-watson-openscale/master/data/german_credit_data_biased_training.csv\n",
      "Resolving raw.githubusercontent.com (raw.githubusercontent.com)... 151.101.48.133\n",
      "Connecting to raw.githubusercontent.com (raw.githubusercontent.com)|151.101.48.133|:443... connected.\n",
      "HTTP request sent, awaiting response... 200 OK\n",
      "Length: 689622 (673K) [text/plain]\n",
      "Saving to: 'german_credit_data_biased_training.csv'\n",
      "\n",
      "german_credit_data_ 100%[===================>] 673.46K  --.-KB/s    in 0.02s   \n",
      "\n",
      "2019-07-15 13:35:30 (30.7 MB/s) - 'german_credit_data_biased_training.csv' saved [689622/689622]\n",
      "\n"
     ]
    }
   ],
   "source": [
    "!rm german_credit_data_biased_training.csv\n",
    "!wget https://raw.githubusercontent.com/IBM/monitor-wml-model-with-watson-openscale/master/data/german_credit_data_biased_training.csv"
   ]
  },
  {
   "cell_type": "code",
   "execution_count": 8,
   "metadata": {
    "scrolled": true
   },
   "outputs": [
    {
     "data": {
      "text/plain": [
       "Row(CheckingStatus='0_to_200', LoanDuration=31, CreditHistory='credits_paid_to_date', LoanPurpose='other', LoanAmount=1889, ExistingSavings='100_to_500', EmploymentDuration='less_1', InstallmentPercent=3, Sex='female', OthersOnLoan='none', CurrentResidenceDuration=3, OwnsProperty='savings_insurance', Age=32, InstallmentPlans='none', Housing='own', ExistingCreditsCount=1, Job='skilled', Dependents=1, Telephone='none', ForeignWorker='yes', Risk='No Risk')"
      ]
     },
     "execution_count": 8,
     "metadata": {},
     "output_type": "execute_result"
    }
   ],
   "source": [
    "from pyspark.sql import SparkSession\n",
    "import pandas as pd\n",
    "import json\n",
    "\n",
    "spark = SparkSession.builder.getOrCreate()\n",
    "pd_data = pd.read_csv(\"german_credit_data_biased_training.csv\", sep=\",\", header=0)\n",
    "df_data = spark.read.csv(path=\"german_credit_data_biased_training.csv\", sep=\",\", header=True, inferSchema=True)\n",
    "df_data.head()"
   ]
  },
  {
   "cell_type": "markdown",
   "metadata": {},
   "source": [
    "## Explore data"
   ]
  },
  {
   "cell_type": "code",
   "execution_count": 9,
   "metadata": {
    "scrolled": true
   },
   "outputs": [
    {
     "name": "stdout",
     "output_type": "stream",
     "text": [
      "root\n",
      " |-- CheckingStatus: string (nullable = true)\n",
      " |-- LoanDuration: integer (nullable = true)\n",
      " |-- CreditHistory: string (nullable = true)\n",
      " |-- LoanPurpose: string (nullable = true)\n",
      " |-- LoanAmount: integer (nullable = true)\n",
      " |-- ExistingSavings: string (nullable = true)\n",
      " |-- EmploymentDuration: string (nullable = true)\n",
      " |-- InstallmentPercent: integer (nullable = true)\n",
      " |-- Sex: string (nullable = true)\n",
      " |-- OthersOnLoan: string (nullable = true)\n",
      " |-- CurrentResidenceDuration: integer (nullable = true)\n",
      " |-- OwnsProperty: string (nullable = true)\n",
      " |-- Age: integer (nullable = true)\n",
      " |-- InstallmentPlans: string (nullable = true)\n",
      " |-- Housing: string (nullable = true)\n",
      " |-- ExistingCreditsCount: integer (nullable = true)\n",
      " |-- Job: string (nullable = true)\n",
      " |-- Dependents: integer (nullable = true)\n",
      " |-- Telephone: string (nullable = true)\n",
      " |-- ForeignWorker: string (nullable = true)\n",
      " |-- Risk: string (nullable = true)\n",
      "\n"
     ]
    }
   ],
   "source": [
    "df_data.printSchema()"
   ]
  },
  {
   "cell_type": "code",
   "execution_count": 10,
   "metadata": {
    "scrolled": true
   },
   "outputs": [
    {
     "name": "stdout",
     "output_type": "stream",
     "text": [
      "Number of records: 5000\n"
     ]
    }
   ],
   "source": [
    "print(\"Number of records: \" + str(df_data.count()))"
   ]
  },
  {
   "cell_type": "markdown",
   "metadata": {},
   "source": [
    "# Create a model"
   ]
  },
  {
   "cell_type": "code",
   "execution_count": 11,
   "metadata": {
    "scrolled": true
   },
   "outputs": [
    {
     "name": "stdout",
     "output_type": "stream",
     "text": [
      "Number of records for training: 4016\n",
      "Number of records for evaluation: 984\n",
      "root\n",
      " |-- CheckingStatus: string (nullable = true)\n",
      " |-- LoanDuration: integer (nullable = true)\n",
      " |-- CreditHistory: string (nullable = true)\n",
      " |-- LoanPurpose: string (nullable = true)\n",
      " |-- LoanAmount: integer (nullable = true)\n",
      " |-- ExistingSavings: string (nullable = true)\n",
      " |-- EmploymentDuration: string (nullable = true)\n",
      " |-- InstallmentPercent: integer (nullable = true)\n",
      " |-- Sex: string (nullable = true)\n",
      " |-- OthersOnLoan: string (nullable = true)\n",
      " |-- CurrentResidenceDuration: integer (nullable = true)\n",
      " |-- OwnsProperty: string (nullable = true)\n",
      " |-- Age: integer (nullable = true)\n",
      " |-- InstallmentPlans: string (nullable = true)\n",
      " |-- Housing: string (nullable = true)\n",
      " |-- ExistingCreditsCount: integer (nullable = true)\n",
      " |-- Job: string (nullable = true)\n",
      " |-- Dependents: integer (nullable = true)\n",
      " |-- Telephone: string (nullable = true)\n",
      " |-- ForeignWorker: string (nullable = true)\n",
      " |-- Risk: string (nullable = true)\n",
      "\n"
     ]
    }
   ],
   "source": [
    "spark_df = df_data\n",
    "(train_data, test_data) = spark_df.randomSplit([0.8, 0.2], 24)\n",
    "\n",
    "MODEL_NAME = \"Spark German Risk Model - Final\"\n",
    "DEPLOYMENT_NAME = \"Spark German Risk Deployment - Final\"\n",
    "\n",
    "print(\"Number of records for training: \" + str(train_data.count()))\n",
    "print(\"Number of records for evaluation: \" + str(test_data.count()))\n",
    "\n",
    "spark_df.printSchema()"
   ]
  },
  {
   "cell_type": "code",
   "execution_count": 12,
   "metadata": {
    "scrolled": true
   },
   "outputs": [],
   "source": [
    "from pyspark.ml.feature import OneHotEncoder, StringIndexer, IndexToString, VectorAssembler\n",
    "from pyspark.ml.evaluation import BinaryClassificationEvaluator\n",
    "from pyspark.ml import Pipeline, Model\n",
    "\n",
    "si_CheckingStatus = StringIndexer(inputCol = 'CheckingStatus', outputCol = 'CheckingStatus_IX')\n",
    "si_CreditHistory = StringIndexer(inputCol = 'CreditHistory', outputCol = 'CreditHistory_IX')\n",
    "si_LoanPurpose = StringIndexer(inputCol = 'LoanPurpose', outputCol = 'LoanPurpose_IX')\n",
    "si_ExistingSavings = StringIndexer(inputCol = 'ExistingSavings', outputCol = 'ExistingSavings_IX')\n",
    "si_EmploymentDuration = StringIndexer(inputCol = 'EmploymentDuration', outputCol = 'EmploymentDuration_IX')\n",
    "si_Sex = StringIndexer(inputCol = 'Sex', outputCol = 'Sex_IX')\n",
    "si_OthersOnLoan = StringIndexer(inputCol = 'OthersOnLoan', outputCol = 'OthersOnLoan_IX')\n",
    "si_OwnsProperty = StringIndexer(inputCol = 'OwnsProperty', outputCol = 'OwnsProperty_IX')\n",
    "si_InstallmentPlans = StringIndexer(inputCol = 'InstallmentPlans', outputCol = 'InstallmentPlans_IX')\n",
    "si_Housing = StringIndexer(inputCol = 'Housing', outputCol = 'Housing_IX')\n",
    "si_Job = StringIndexer(inputCol = 'Job', outputCol = 'Job_IX')\n",
    "si_Telephone = StringIndexer(inputCol = 'Telephone', outputCol = 'Telephone_IX')\n",
    "si_ForeignWorker = StringIndexer(inputCol = 'ForeignWorker', outputCol = 'ForeignWorker_IX')"
   ]
  },
  {
   "cell_type": "code",
   "execution_count": 13,
   "metadata": {
    "scrolled": true
   },
   "outputs": [],
   "source": [
    "si_Label = StringIndexer(inputCol=\"Risk\", outputCol=\"label\").fit(spark_df)\n",
    "label_converter = IndexToString(inputCol=\"prediction\", outputCol=\"predictedLabel\", labels=si_Label.labels)"
   ]
  },
  {
   "cell_type": "code",
   "execution_count": 14,
   "metadata": {
    "scrolled": true
   },
   "outputs": [],
   "source": [
    "va_features = VectorAssembler(inputCols=[\"CheckingStatus_IX\", \"CreditHistory_IX\", \"LoanPurpose_IX\", \"ExistingSavings_IX\", \"EmploymentDuration_IX\", \"Sex_IX\", \\\n",
    "                                         \"OthersOnLoan_IX\", \"OwnsProperty_IX\", \"InstallmentPlans_IX\", \"Housing_IX\", \"Job_IX\", \"Telephone_IX\", \"ForeignWorker_IX\", \\\n",
    "                                         \"LoanDuration\", \"LoanAmount\", \"InstallmentPercent\", \"CurrentResidenceDuration\", \"LoanDuration\", \"Age\", \"ExistingCreditsCount\", \\\n",
    "                                         \"Dependents\"], outputCol=\"features\")"
   ]
  },
  {
   "cell_type": "code",
   "execution_count": 15,
   "metadata": {
    "scrolled": true
   },
   "outputs": [],
   "source": [
    "from pyspark.ml.classification import RandomForestClassifier\n",
    "classifier = RandomForestClassifier(featuresCol=\"features\")\n",
    "\n",
    "pipeline = Pipeline(stages=[si_CheckingStatus, si_CreditHistory, si_EmploymentDuration, si_ExistingSavings, si_ForeignWorker, si_Housing, si_InstallmentPlans, si_Job, si_LoanPurpose, si_OthersOnLoan,\\\n",
    "                               si_OwnsProperty, si_Sex, si_Telephone, si_Label, va_features, classifier, label_converter])\n",
    "model = pipeline.fit(train_data)"
   ]
  },
  {
   "cell_type": "code",
   "execution_count": 16,
   "metadata": {
    "scrolled": true
   },
   "outputs": [
    {
     "name": "stdout",
     "output_type": "stream",
     "text": [
      "areaUnderROC = 0.705933\n"
     ]
    }
   ],
   "source": [
    "predictions = model.transform(test_data)\n",
    "evaluatorDT = BinaryClassificationEvaluator(rawPredictionCol=\"prediction\")\n",
    "area_under_curve = evaluatorDT.evaluate(predictions)\n",
    "\n",
    "#default evaluation is areaUnderROC\n",
    "print(\"areaUnderROC = %g\" % area_under_curve)"
   ]
  },
  {
   "cell_type": "markdown",
   "metadata": {},
   "source": [
    "# Save and deploy the model"
   ]
  },
  {
   "cell_type": "code",
   "execution_count": 17,
   "metadata": {
    "scrolled": true
   },
   "outputs": [
    {
     "name": "stderr",
     "output_type": "stream",
     "text": [
      "/home/spark/shared/user-libs/python3/sklearn/externals/joblib/__init__.py:15: DeprecationWarning: sklearn.externals.joblib is deprecated in 0.21 and will be removed in 0.23. Please import this functionality directly from joblib, which can be installed with: pip install joblib. If this warning is raised when loading pickled models, you may need to re-serialize those models with scikit-learn 0.21+.\n",
      "  warnings.warn(msg, category=DeprecationWarning)\n"
     ]
    }
   ],
   "source": [
    "from watson_machine_learning_client import WatsonMachineLearningAPIClient\n",
    "import json\n",
    "\n",
    "wml_client = WatsonMachineLearningAPIClient(WML_CREDENTIALS)"
   ]
  },
  {
   "cell_type": "markdown",
   "metadata": {},
   "source": [
    "### Remove existing model and deployment"
   ]
  },
  {
   "cell_type": "code",
   "execution_count": 18,
   "metadata": {
    "scrolled": true
   },
   "outputs": [
    {
     "name": "stdout",
     "output_type": "stream",
     "text": [
      "Deleting deployment id 5ab6d15c-6005-4dbd-b05d-f5f8f14a93f9\n",
      "Deleting model id 71ad1147-0429-4ea2-8377-7f8102a2cdcd\n",
      "------------------------------------  ------------------------------------  ------------------------  -----------------\n",
      "GUID                                  NAME                                  CREATED                   FRAMEWORK\n",
      "066c8ead-6358-454e-9905-02861957b135  AIOS Spark German Risk Model - Final  2019-02-28T12:59:57.725Z  mllib-2.1\n",
      "6d4e7b60-cced-42ea-abfe-cefc8b774ed5  PredictWildfireIntensity-2-25         2019-02-25T20:54:12.157Z  wml-1.1\n",
      "3238b598-9e2b-48d2-b678-b3bdf19c54a3  Customer Churn Prediction Model       2018-12-11T21:53:42.948Z  scikit-learn-0.19\n",
      "------------------------------------  ------------------------------------  ------------------------  -----------------\n"
     ]
    }
   ],
   "source": [
    "model_deployment_ids = wml_client.deployments.get_uids()\n",
    "for deployment_id in model_deployment_ids:\n",
    "    deployment = wml_client.deployments.get_details(deployment_id)\n",
    "    model_id = deployment['entity']['deployable_asset']['guid']\n",
    "    if deployment['entity']['name'] == DEPLOYMENT_NAME:\n",
    "        print('Deleting deployment id', deployment_id)\n",
    "        wml_client.deployments.delete(deployment_id)\n",
    "        print('Deleting model id', model_id)\n",
    "        wml_client.repository.delete(model_id)\n",
    "wml_client.repository.list_models()"
   ]
  },
  {
   "cell_type": "code",
   "execution_count": 19,
   "metadata": {
    "scrolled": true
   },
   "outputs": [],
   "source": [
    "model_props = {\n",
    "    wml_client.repository.ModelMetaNames.NAME: \"{}\".format(MODEL_NAME),\n",
    "    wml_client.repository.ModelMetaNames.EVALUATION_METHOD: \"binary\",\n",
    "    wml_client.repository.ModelMetaNames.EVALUATION_METRICS: [\n",
    "        {\n",
    "           \"name\": \"areaUnderROC\",\n",
    "           \"value\": area_under_curve,\n",
    "           \"threshold\": 0.7\n",
    "        }\n",
    "    ]\n",
    "}"
   ]
  },
  {
   "cell_type": "code",
   "execution_count": 20,
   "metadata": {
    "scrolled": true
   },
   "outputs": [
    {
     "name": "stdout",
     "output_type": "stream",
     "text": [
      "Storing model ...\n",
      "Done\n"
     ]
    }
   ],
   "source": [
    "wml_models = wml_client.repository.get_details()\n",
    "model_uid = None\n",
    "for model_in in wml_models['models']['resources']:\n",
    "    if MODEL_NAME == model_in['entity']['name']:\n",
    "        model_uid = model_in['metadata']['guid']\n",
    "        break\n",
    "\n",
    "if model_uid is None:\n",
    "    print(\"Storing model ...\")\n",
    "\n",
    "    published_model_details = wml_client.repository.store_model(model=model, meta_props=model_props, training_data=train_data, pipeline=pipeline)\n",
    "    model_uid = wml_client.repository.get_model_uid(published_model_details)\n",
    "    print(\"Done\")"
   ]
  },
  {
   "cell_type": "code",
   "execution_count": 21,
   "metadata": {
    "scrolled": true
   },
   "outputs": [
    {
     "data": {
      "text/plain": [
       "'beb08b92-539b-4f64-bc9b-4d9a66fca5eb'"
      ]
     },
     "execution_count": 21,
     "metadata": {},
     "output_type": "execute_result"
    }
   ],
   "source": [
    "model_uid"
   ]
  },
  {
   "cell_type": "code",
   "execution_count": 22,
   "metadata": {
    "scrolled": true
   },
   "outputs": [
    {
     "name": "stdout",
     "output_type": "stream",
     "text": [
      "Deploying model...\n",
      "\n",
      "\n",
      "#######################################################################################\n",
      "\n",
      "Synchronous deployment creation for uid: 'beb08b92-539b-4f64-bc9b-4d9a66fca5eb' started\n",
      "\n",
      "#######################################################################################\n",
      "\n",
      "\n",
      "INITIALIZING\n",
      "DEPLOY_IN_PROGRESS.\n",
      "DEPLOY_SUCCESS\n",
      "\n",
      "\n",
      "------------------------------------------------------------------------------------------------\n",
      "Successfully finished deployment creation, deployment_uid='4a85b4f0-8c32-4a6c-8e4a-518e95a224dc'\n",
      "------------------------------------------------------------------------------------------------\n",
      "\n",
      "\n",
      "Model id: beb08b92-539b-4f64-bc9b-4d9a66fca5eb\n",
      "Deployment id: 4a85b4f0-8c32-4a6c-8e4a-518e95a224dc\n"
     ]
    }
   ],
   "source": [
    "wml_deployments = wml_client.deployments.get_details()\n",
    "deployment_uid = None\n",
    "for deployment in wml_deployments['resources']:\n",
    "    if DEPLOYMENT_NAME == deployment['entity']['name']:\n",
    "        deployment_uid = deployment['metadata']['guid']\n",
    "        break\n",
    "\n",
    "if deployment_uid is None:\n",
    "    print(\"Deploying model...\")\n",
    "\n",
    "    deployment = wml_client.deployments.create(artifact_uid=model_uid, name=DEPLOYMENT_NAME, asynchronous=False)\n",
    "    deployment_uid = wml_client.deployments.get_uid(deployment)\n",
    "    \n",
    "print(\"Model id: {}\".format(model_uid))\n",
    "print(\"Deployment id: {}\".format(deployment_uid))"
   ]
  },
  {
   "cell_type": "markdown",
   "metadata": {},
   "source": [
    "# Configure OpenScale"
   ]
  },
  {
   "cell_type": "code",
   "execution_count": 23,
   "metadata": {
    "scrolled": true
   },
   "outputs": [],
   "source": [
    "from ibm_ai_openscale import APIClient\n",
    "from ibm_ai_openscale.engines import *\n",
    "from ibm_ai_openscale.utils import *\n",
    "from ibm_ai_openscale.supporting_classes import PayloadRecord, Feature\n",
    "from ibm_ai_openscale.supporting_classes.enums import *"
   ]
  },
  {
   "cell_type": "markdown",
   "metadata": {},
   "source": [
    "## Create schema and datamart"
   ]
  },
  {
   "cell_type": "code",
   "execution_count": 24,
   "metadata": {
    "scrolled": true
   },
   "outputs": [
    {
     "data": {
      "text/plain": [
       "'2.1.7'"
      ]
     },
     "execution_count": 24,
     "metadata": {},
     "output_type": "execute_result"
    }
   ],
   "source": [
    "ai_client = APIClient(aios_credentials=AIOS_CREDENTIALS)\n",
    "ai_client.version"
   ]
  },
  {
   "cell_type": "markdown",
   "metadata": {},
   "source": [
    "#### Note: to delete an existing data_mart, uncomment the next cell and run it."
   ]
  },
  {
   "cell_type": "code",
   "execution_count": null,
   "metadata": {},
   "outputs": [],
   "source": [
    "#ai_client.data_mart.delete()"
   ]
  },
  {
   "cell_type": "markdown",
   "metadata": {},
   "source": [
    "### Set up datamart"
   ]
  },
  {
   "cell_type": "code",
   "execution_count": 29,
   "metadata": {},
   "outputs": [
    {
     "name": "stdout",
     "output_type": "stream",
     "text": [
      "Setting up internal datamart\n"
     ]
    }
   ],
   "source": [
    "try:\n",
    "    data_mart_details = ai_client.data_mart.get_details()\n",
    "    if 'internal_database' in data_mart_details and data_mart_details['internal_database']:\n",
    "        if KEEP_MY_INTERNAL_POSTGRES:\n",
    "            print('Using existing internal datamart.')\n",
    "        else:\n",
    "            if DB_CREDENTIALS is None:\n",
    "                print('No postgres credentials supplied. Using existing internal datamart')\n",
    "            else:\n",
    "                print('Switching to external datamart')\n",
    "                ai_client.data_mart.delete(force=True)\n",
    "                ai_client.data_mart.setup(db_credentials=DB_CREDENTIALS)\n",
    "    else:\n",
    "        print('Using existing external datamart')\n",
    "except:\n",
    "    if DB_CREDENTIALS is None:\n",
    "        print('Setting up internal datamart')\n",
    "        ai_client.data_mart.setup(internal_db=True)\n",
    "    else:\n",
    "        print('Setting up external datamart')\n",
    "        try:\n",
    "            ai_client.data_mart.setup(db_credentials=DB_CREDENTIALS)\n",
    "        except:\n",
    "            print('Setup failed, trying Db2 setup')\n",
    "            ai_client.data_mart.setup(db_credentials=DB_CREDENTIALS, schema=DB_CREDENTIALS['username'])"
   ]
  },
  {
   "cell_type": "code",
   "execution_count": 31,
   "metadata": {
    "scrolled": true
   },
   "outputs": [
    {
     "data": {
      "text/plain": [
       "{'database_configuration': {},\n",
       " 'internal_database': True,\n",
       " 'internal_database_pool': 'compose-psql',\n",
       " 'service_instance_crn': 'crn:v1:bluemix:public:aiopenscale:us-south:a/46816354d9cb773bae86c226aa74c8cc:f94e20cb-aa92-4636-97ce-08de6b714d02::',\n",
       " 'status': {'state': 'active'}}"
      ]
     },
     "execution_count": 31,
     "metadata": {},
     "output_type": "execute_result"
    }
   ],
   "source": [
    "data_mart_details = ai_client.data_mart.get_details()\n",
    "data_mart_details"
   ]
  },
  {
   "cell_type": "markdown",
   "metadata": {},
   "source": [
    "## Bind machine learning engines"
   ]
  },
  {
   "cell_type": "code",
   "execution_count": 32,
   "metadata": {
    "scrolled": false
   },
   "outputs": [
    {
     "data": {
      "text/html": [
       "<HTML>\n",
       "        <body>\n",
       "            <h3>Service bindings</h3>\n",
       "            <table style='border: 1px solid #dddddd; font-family: Courier'>\n",
       "                <th style='border: 1px solid #dddddd'>uid</th><th style='border: 1px solid #dddddd'>name</th><th style='border: 1px solid #dddddd'>service_type</th><th style='border: 1px solid #dddddd'>created</th>\n",
       "                <tr><td style='border: 1px solid #dddddd'>4a7f62cc-f564-4144-8af4-b9f53533d2cf</td><td style='border: 1px solid #dddddd'>WML instance</td><td style='border: 1px solid #dddddd'>watson_machine_learning</td><td style='border: 1px solid #dddddd'>2019-07-15T13:49:16.624Z</td></tr>\n",
       "            </table>\n",
       "        </body>\n",
       "        </HTML>"
      ],
      "text/plain": [
       "<IPython.core.display.HTML object>"
      ]
     },
     "metadata": {},
     "output_type": "display_data"
    }
   ],
   "source": [
    "binding_uid = ai_client.data_mart.bindings.add('WML instance', WatsonMachineLearningInstance(WML_CREDENTIALS))\n",
    "if binding_uid is None:\n",
    "    binding_uid = ai_client.data_mart.bindings.get_details()['service_bindings'][0]['metadata']['guid']\n",
    "bindings_details = ai_client.data_mart.bindings.get_details()\n",
    "ai_client.data_mart.bindings.list()"
   ]
  },
  {
   "cell_type": "code",
   "execution_count": 33,
   "metadata": {
    "scrolled": true
   },
   "outputs": [
    {
     "name": "stdout",
     "output_type": "stream",
     "text": [
      "4a7f62cc-f564-4144-8af4-b9f53533d2cf\n"
     ]
    }
   ],
   "source": [
    "print(binding_uid)"
   ]
  },
  {
   "cell_type": "code",
   "execution_count": 34,
   "metadata": {
    "scrolled": false
   },
   "outputs": [
    {
     "data": {
      "text/html": [
       "<HTML>\n",
       "        <body>\n",
       "            <h3>Available assets</h3>\n",
       "            <table style='border: 1px solid #dddddd; font-family: Courier'>\n",
       "                <th style='border: 1px solid #dddddd'>source_uid</th><th style='border: 1px solid #dddddd'>name</th><th style='border: 1px solid #dddddd'>created</th><th style='border: 1px solid #dddddd'>type</th><th style='border: 1px solid #dddddd'>frameworks</th><th style='border: 1px solid #dddddd'>binding_uid</th><th style='border: 1px solid #dddddd'>is_subscribed</th>\n",
       "                <tr><td style='border: 1px solid #dddddd'>beb08b92-539b-4f64-bc9b-4d9a66fca5eb</td><td style='border: 1px solid #dddddd'>Spark German Risk Model - Final</td><td style='border: 1px solid #dddddd'>2019-07-15T13:40:33.099Z</td><td style='border: 1px solid #dddddd'>model</td><td style='border: 1px solid #dddddd'>mllib-2.3</td><td style='border: 1px solid #dddddd'>4a7f62cc-f564-4144-8af4-b9f53533d2cf</td><td style='border: 1px solid #dddddd'>False</td></tr><tr><td style='border: 1px solid #dddddd'>066c8ead-6358-454e-9905-02861957b135</td><td style='border: 1px solid #dddddd'>AIOS Spark German Risk Model - Final</td><td style='border: 1px solid #dddddd'>2019-02-28T13:00:19.462Z</td><td style='border: 1px solid #dddddd'>model</td><td style='border: 1px solid #dddddd'>mllib-2.1</td><td style='border: 1px solid #dddddd'>4a7f62cc-f564-4144-8af4-b9f53533d2cf</td><td style='border: 1px solid #dddddd'>False</td></tr><tr><td style='border: 1px solid #dddddd'>6d4e7b60-cced-42ea-abfe-cefc8b774ed5</td><td style='border: 1px solid #dddddd'>PredictWildfireIntensity-2-25</td><td style='border: 1px solid #dddddd'>2019-02-25T20:58:38.254Z</td><td style='border: 1px solid #dddddd'>model</td><td style='border: 1px solid #dddddd'>wml-1.1</td><td style='border: 1px solid #dddddd'>4a7f62cc-f564-4144-8af4-b9f53533d2cf</td><td style='border: 1px solid #dddddd'>False</td></tr><tr><td style='border: 1px solid #dddddd'>3238b598-9e2b-48d2-b678-b3bdf19c54a3</td><td style='border: 1px solid #dddddd'>Customer Churn Prediction Model</td><td style='border: 1px solid #dddddd'>2018-12-11T21:53:47.763Z</td><td style='border: 1px solid #dddddd'>model</td><td style='border: 1px solid #dddddd'>scikit-learn-0.19</td><td style='border: 1px solid #dddddd'>4a7f62cc-f564-4144-8af4-b9f53533d2cf</td><td style='border: 1px solid #dddddd'>False</td></tr>\n",
       "            </table>\n",
       "        </body>\n",
       "        </HTML>"
      ],
      "text/plain": [
       "<IPython.core.display.HTML object>"
      ]
     },
     "metadata": {},
     "output_type": "display_data"
    }
   ],
   "source": [
    "ai_client.data_mart.bindings.list_assets()"
   ]
  },
  {
   "cell_type": "markdown",
   "metadata": {},
   "source": [
    "## Subscriptions"
   ]
  },
  {
   "cell_type": "markdown",
   "metadata": {},
   "source": [
    "### Remove existing credit risk subscriptions"
   ]
  },
  {
   "cell_type": "code",
   "execution_count": 35,
   "metadata": {
    "scrolled": true
   },
   "outputs": [],
   "source": [
    "subscriptions_uids = ai_client.data_mart.subscriptions.get_uids()\n",
    "for subscription in subscriptions_uids:\n",
    "    sub_name = ai_client.data_mart.subscriptions.get_details(subscription)['entity']['asset']['name']\n",
    "    if sub_name == MODEL_NAME:\n",
    "        ai_client.data_mart.subscriptions.delete(subscription)\n",
    "        print('Deleted existing subscription for', MODEL_NAME)"
   ]
  },
  {
   "cell_type": "code",
   "execution_count": 36,
   "metadata": {
    "scrolled": false
   },
   "outputs": [],
   "source": [
    "subscription = ai_client.data_mart.subscriptions.add(WatsonMachineLearningAsset(\n",
    "    model_uid,\n",
    "    problem_type=ProblemType.BINARY_CLASSIFICATION,\n",
    "    input_data_type=InputDataType.STRUCTURED,\n",
    "    label_column='Risk',\n",
    "    prediction_column='predictedLabel',\n",
    "    probability_column='probability',\n",
    "    feature_columns = [\"CheckingStatus\",\"LoanDuration\",\"CreditHistory\",\"LoanPurpose\",\"LoanAmount\",\"ExistingSavings\",\"EmploymentDuration\",\"InstallmentPercent\",\"Sex\",\"OthersOnLoan\",\"CurrentResidenceDuration\",\"OwnsProperty\",\"Age\",\"InstallmentPlans\",\"Housing\",\"ExistingCreditsCount\",\"Job\",\"Dependents\",\"Telephone\",\"ForeignWorker\"],\n",
    "    categorical_columns = [\"CheckingStatus\",\"CreditHistory\",\"LoanPurpose\",\"ExistingSavings\",\"EmploymentDuration\",\"Sex\",\"OthersOnLoan\",\"OwnsProperty\",\"InstallmentPlans\",\"Housing\",\"Job\",\"Telephone\",\"ForeignWorker\"]\n",
    "))\n",
    "\n",
    "if subscription is None:\n",
    "    print('Subscription already exists; get the existing one')\n",
    "    subscriptions_uids = ai_client.data_mart.subscriptions.get_uids()\n",
    "    for sub in subscriptions_uids:\n",
    "        if ai_client.data_mart.subscriptions.get_details(sub)['entity']['asset']['name'] == MODEL_NAME:\n",
    "            subscription = ai_client.data_mart.subscriptions.get(sub)"
   ]
  },
  {
   "cell_type": "markdown",
   "metadata": {},
   "source": [
    "Get subscription list"
   ]
  },
  {
   "cell_type": "code",
   "execution_count": 37,
   "metadata": {
    "scrolled": true
   },
   "outputs": [
    {
     "data": {
      "text/html": [
       "<HTML>\n",
       "        <body>\n",
       "            <h3>Subscriptions</h3>\n",
       "            <table style='border: 1px solid #dddddd; font-family: Courier'>\n",
       "                <th style='border: 1px solid #dddddd'>uid</th><th style='border: 1px solid #dddddd'>name</th><th style='border: 1px solid #dddddd'>type</th><th style='border: 1px solid #dddddd'>binding_uid</th><th style='border: 1px solid #dddddd'>created</th>\n",
       "                <tr><td style='border: 1px solid #dddddd'>beb08b92-539b-4f64-bc9b-4d9a66fca5eb</td><td style='border: 1px solid #dddddd'>Spark German Risk Model - Final</td><td style='border: 1px solid #dddddd'>model</td><td style='border: 1px solid #dddddd'>4a7f62cc-f564-4144-8af4-b9f53533d2cf</td><td style='border: 1px solid #dddddd'>2019-07-15T13:49:44.089Z</td></tr>\n",
       "            </table>\n",
       "        </body>\n",
       "        </HTML>"
      ],
      "text/plain": [
       "<IPython.core.display.HTML object>"
      ]
     },
     "metadata": {},
     "output_type": "display_data"
    }
   ],
   "source": [
    "subscriptions_uids = ai_client.data_mart.subscriptions.get_uids()\n",
    "ai_client.data_mart.subscriptions.list()"
   ]
  },
  {
   "cell_type": "code",
   "execution_count": 38,
   "metadata": {
    "scrolled": false
   },
   "outputs": [
    {
     "data": {
      "text/plain": [
       "{'entity': {'asset': {'asset_id': 'beb08b92-539b-4f64-bc9b-4d9a66fca5eb',\n",
       "   'asset_type': 'model',\n",
       "   'created_at': '2019-07-15T13:40:33.099Z',\n",
       "   'name': 'Spark German Risk Model - Final',\n",
       "   'url': 'https://us-south.ml.cloud.ibm.com/v3/wml_instances/4a7f62cc-f564-4144-8af4-b9f53533d2cf/published_models/beb08b92-539b-4f64-bc9b-4d9a66fca5eb'},\n",
       "  'asset_properties': {'categorical_fields': ['CheckingStatus',\n",
       "    'CreditHistory',\n",
       "    'LoanPurpose',\n",
       "    'ExistingSavings',\n",
       "    'EmploymentDuration',\n",
       "    'Sex',\n",
       "    'OthersOnLoan',\n",
       "    'OwnsProperty',\n",
       "    'InstallmentPlans',\n",
       "    'Housing',\n",
       "    'Job',\n",
       "    'Telephone',\n",
       "    'ForeignWorker'],\n",
       "   'feature_fields': ['CheckingStatus',\n",
       "    'LoanDuration',\n",
       "    'CreditHistory',\n",
       "    'LoanPurpose',\n",
       "    'LoanAmount',\n",
       "    'ExistingSavings',\n",
       "    'EmploymentDuration',\n",
       "    'InstallmentPercent',\n",
       "    'Sex',\n",
       "    'OthersOnLoan',\n",
       "    'CurrentResidenceDuration',\n",
       "    'OwnsProperty',\n",
       "    'Age',\n",
       "    'InstallmentPlans',\n",
       "    'Housing',\n",
       "    'ExistingCreditsCount',\n",
       "    'Job',\n",
       "    'Dependents',\n",
       "    'Telephone',\n",
       "    'ForeignWorker'],\n",
       "   'input_data_schema': {'fields': [{'metadata': {'measure': 'discrete',\n",
       "       'modeling_role': 'feature'},\n",
       "      'name': 'CheckingStatus',\n",
       "      'nullable': True,\n",
       "      'type': 'string'},\n",
       "     {'metadata': {'modeling_role': 'feature'},\n",
       "      'name': 'LoanDuration',\n",
       "      'nullable': True,\n",
       "      'type': 'integer'},\n",
       "     {'metadata': {'measure': 'discrete', 'modeling_role': 'feature'},\n",
       "      'name': 'CreditHistory',\n",
       "      'nullable': True,\n",
       "      'type': 'string'},\n",
       "     {'metadata': {'measure': 'discrete', 'modeling_role': 'feature'},\n",
       "      'name': 'LoanPurpose',\n",
       "      'nullable': True,\n",
       "      'type': 'string'},\n",
       "     {'metadata': {'modeling_role': 'feature'},\n",
       "      'name': 'LoanAmount',\n",
       "      'nullable': True,\n",
       "      'type': 'integer'},\n",
       "     {'metadata': {'measure': 'discrete', 'modeling_role': 'feature'},\n",
       "      'name': 'ExistingSavings',\n",
       "      'nullable': True,\n",
       "      'type': 'string'},\n",
       "     {'metadata': {'measure': 'discrete', 'modeling_role': 'feature'},\n",
       "      'name': 'EmploymentDuration',\n",
       "      'nullable': True,\n",
       "      'type': 'string'},\n",
       "     {'metadata': {'modeling_role': 'feature'},\n",
       "      'name': 'InstallmentPercent',\n",
       "      'nullable': True,\n",
       "      'type': 'integer'},\n",
       "     {'metadata': {'measure': 'discrete', 'modeling_role': 'feature'},\n",
       "      'name': 'Sex',\n",
       "      'nullable': True,\n",
       "      'type': 'string'},\n",
       "     {'metadata': {'measure': 'discrete', 'modeling_role': 'feature'},\n",
       "      'name': 'OthersOnLoan',\n",
       "      'nullable': True,\n",
       "      'type': 'string'},\n",
       "     {'metadata': {'modeling_role': 'feature'},\n",
       "      'name': 'CurrentResidenceDuration',\n",
       "      'nullable': True,\n",
       "      'type': 'integer'},\n",
       "     {'metadata': {'measure': 'discrete', 'modeling_role': 'feature'},\n",
       "      'name': 'OwnsProperty',\n",
       "      'nullable': True,\n",
       "      'type': 'string'},\n",
       "     {'metadata': {'modeling_role': 'feature'},\n",
       "      'name': 'Age',\n",
       "      'nullable': True,\n",
       "      'type': 'integer'},\n",
       "     {'metadata': {'measure': 'discrete', 'modeling_role': 'feature'},\n",
       "      'name': 'InstallmentPlans',\n",
       "      'nullable': True,\n",
       "      'type': 'string'},\n",
       "     {'metadata': {'measure': 'discrete', 'modeling_role': 'feature'},\n",
       "      'name': 'Housing',\n",
       "      'nullable': True,\n",
       "      'type': 'string'},\n",
       "     {'metadata': {'modeling_role': 'feature'},\n",
       "      'name': 'ExistingCreditsCount',\n",
       "      'nullable': True,\n",
       "      'type': 'integer'},\n",
       "     {'metadata': {'measure': 'discrete', 'modeling_role': 'feature'},\n",
       "      'name': 'Job',\n",
       "      'nullable': True,\n",
       "      'type': 'string'},\n",
       "     {'metadata': {'modeling_role': 'feature'},\n",
       "      'name': 'Dependents',\n",
       "      'nullable': True,\n",
       "      'type': 'integer'},\n",
       "     {'metadata': {'measure': 'discrete', 'modeling_role': 'feature'},\n",
       "      'name': 'Telephone',\n",
       "      'nullable': True,\n",
       "      'type': 'string'},\n",
       "     {'metadata': {'measure': 'discrete', 'modeling_role': 'feature'},\n",
       "      'name': 'ForeignWorker',\n",
       "      'nullable': True,\n",
       "      'type': 'string'}],\n",
       "    'type': 'struct'},\n",
       "   'input_data_type': 'structured',\n",
       "   'label_column': 'Risk',\n",
       "   'model_type': 'mllib-2.3',\n",
       "   'output_data_schema': {'fields': [{'metadata': {'measure': 'discrete',\n",
       "       'modeling_role': 'feature'},\n",
       "      'name': 'CheckingStatus',\n",
       "      'nullable': True,\n",
       "      'type': 'string'},\n",
       "     {'metadata': {'modeling_role': 'feature'},\n",
       "      'name': 'LoanDuration',\n",
       "      'nullable': True,\n",
       "      'type': 'integer'},\n",
       "     {'metadata': {'measure': 'discrete', 'modeling_role': 'feature'},\n",
       "      'name': 'CreditHistory',\n",
       "      'nullable': True,\n",
       "      'type': 'string'},\n",
       "     {'metadata': {'measure': 'discrete', 'modeling_role': 'feature'},\n",
       "      'name': 'LoanPurpose',\n",
       "      'nullable': True,\n",
       "      'type': 'string'},\n",
       "     {'metadata': {'modeling_role': 'feature'},\n",
       "      'name': 'LoanAmount',\n",
       "      'nullable': True,\n",
       "      'type': 'integer'},\n",
       "     {'metadata': {'measure': 'discrete', 'modeling_role': 'feature'},\n",
       "      'name': 'ExistingSavings',\n",
       "      'nullable': True,\n",
       "      'type': 'string'},\n",
       "     {'metadata': {'measure': 'discrete', 'modeling_role': 'feature'},\n",
       "      'name': 'EmploymentDuration',\n",
       "      'nullable': True,\n",
       "      'type': 'string'},\n",
       "     {'metadata': {'modeling_role': 'feature'},\n",
       "      'name': 'InstallmentPercent',\n",
       "      'nullable': True,\n",
       "      'type': 'integer'},\n",
       "     {'metadata': {'measure': 'discrete', 'modeling_role': 'feature'},\n",
       "      'name': 'Sex',\n",
       "      'nullable': True,\n",
       "      'type': 'string'},\n",
       "     {'metadata': {'measure': 'discrete', 'modeling_role': 'feature'},\n",
       "      'name': 'OthersOnLoan',\n",
       "      'nullable': True,\n",
       "      'type': 'string'},\n",
       "     {'metadata': {'modeling_role': 'feature'},\n",
       "      'name': 'CurrentResidenceDuration',\n",
       "      'nullable': True,\n",
       "      'type': 'integer'},\n",
       "     {'metadata': {'measure': 'discrete', 'modeling_role': 'feature'},\n",
       "      'name': 'OwnsProperty',\n",
       "      'nullable': True,\n",
       "      'type': 'string'},\n",
       "     {'metadata': {'modeling_role': 'feature'},\n",
       "      'name': 'Age',\n",
       "      'nullable': True,\n",
       "      'type': 'integer'},\n",
       "     {'metadata': {'measure': 'discrete', 'modeling_role': 'feature'},\n",
       "      'name': 'InstallmentPlans',\n",
       "      'nullable': True,\n",
       "      'type': 'string'},\n",
       "     {'metadata': {'measure': 'discrete', 'modeling_role': 'feature'},\n",
       "      'name': 'Housing',\n",
       "      'nullable': True,\n",
       "      'type': 'string'},\n",
       "     {'metadata': {'modeling_role': 'feature'},\n",
       "      'name': 'ExistingCreditsCount',\n",
       "      'nullable': True,\n",
       "      'type': 'integer'},\n",
       "     {'metadata': {'measure': 'discrete', 'modeling_role': 'feature'},\n",
       "      'name': 'Job',\n",
       "      'nullable': True,\n",
       "      'type': 'string'},\n",
       "     {'metadata': {'modeling_role': 'feature'},\n",
       "      'name': 'Dependents',\n",
       "      'nullable': True,\n",
       "      'type': 'integer'},\n",
       "     {'metadata': {'measure': 'discrete', 'modeling_role': 'feature'},\n",
       "      'name': 'Telephone',\n",
       "      'nullable': True,\n",
       "      'type': 'string'},\n",
       "     {'metadata': {'measure': 'discrete', 'modeling_role': 'feature'},\n",
       "      'name': 'ForeignWorker',\n",
       "      'nullable': True,\n",
       "      'type': 'string'},\n",
       "     {'metadata': {'modeling_role': 'prediction'},\n",
       "      'name': 'prediction',\n",
       "      'nullable': True,\n",
       "      'type': 'double'},\n",
       "     {'metadata': {'modeling_role': 'probability'},\n",
       "      'name': 'probability',\n",
       "      'nullable': True,\n",
       "      'type': {'containsNull': True,\n",
       "       'elementType': 'double',\n",
       "       'type': 'array'}},\n",
       "     {'metadata': {'modeling_role': 'debiased-prediction'},\n",
       "      'name': 'debiased_prediction',\n",
       "      'nullable': True,\n",
       "      'type': 'double'},\n",
       "     {'metadata': {'modeling_role': 'debiased-probability'},\n",
       "      'name': 'debiased_probability',\n",
       "      'nullable': True,\n",
       "      'type': {'containsNull': True,\n",
       "       'elementType': 'double',\n",
       "       'type': 'array'}},\n",
       "     {'metadata': {'modeling_role': 'prediction-probability'},\n",
       "      'name': 'prediction_probability',\n",
       "      'nullable': True,\n",
       "      'type': 'double'}],\n",
       "    'type': 'struct'},\n",
       "   'predicted_target_field': 'predictedLabel',\n",
       "   'prediction_probability_field': 'probability',\n",
       "   'problem_type': 'binary',\n",
       "   'runtime_environment': 'spark-2.3',\n",
       "   'training_data_schema': {'fields': [{'metadata': {'measure': 'discrete',\n",
       "       'modeling_role': 'feature'},\n",
       "      'name': 'CheckingStatus',\n",
       "      'nullable': True,\n",
       "      'type': 'string'},\n",
       "     {'metadata': {'modeling_role': 'feature'},\n",
       "      'name': 'LoanDuration',\n",
       "      'nullable': True,\n",
       "      'type': 'integer'},\n",
       "     {'metadata': {'measure': 'discrete', 'modeling_role': 'feature'},\n",
       "      'name': 'CreditHistory',\n",
       "      'nullable': True,\n",
       "      'type': 'string'},\n",
       "     {'metadata': {'measure': 'discrete', 'modeling_role': 'feature'},\n",
       "      'name': 'LoanPurpose',\n",
       "      'nullable': True,\n",
       "      'type': 'string'},\n",
       "     {'metadata': {'modeling_role': 'feature'},\n",
       "      'name': 'LoanAmount',\n",
       "      'nullable': True,\n",
       "      'type': 'integer'},\n",
       "     {'metadata': {'measure': 'discrete', 'modeling_role': 'feature'},\n",
       "      'name': 'ExistingSavings',\n",
       "      'nullable': True,\n",
       "      'type': 'string'},\n",
       "     {'metadata': {'measure': 'discrete', 'modeling_role': 'feature'},\n",
       "      'name': 'EmploymentDuration',\n",
       "      'nullable': True,\n",
       "      'type': 'string'},\n",
       "     {'metadata': {'modeling_role': 'feature'},\n",
       "      'name': 'InstallmentPercent',\n",
       "      'nullable': True,\n",
       "      'type': 'integer'},\n",
       "     {'metadata': {'measure': 'discrete', 'modeling_role': 'feature'},\n",
       "      'name': 'Sex',\n",
       "      'nullable': True,\n",
       "      'type': 'string'},\n",
       "     {'metadata': {'measure': 'discrete', 'modeling_role': 'feature'},\n",
       "      'name': 'OthersOnLoan',\n",
       "      'nullable': True,\n",
       "      'type': 'string'},\n",
       "     {'metadata': {'modeling_role': 'feature'},\n",
       "      'name': 'CurrentResidenceDuration',\n",
       "      'nullable': True,\n",
       "      'type': 'integer'},\n",
       "     {'metadata': {'measure': 'discrete', 'modeling_role': 'feature'},\n",
       "      'name': 'OwnsProperty',\n",
       "      'nullable': True,\n",
       "      'type': 'string'},\n",
       "     {'metadata': {'modeling_role': 'feature'},\n",
       "      'name': 'Age',\n",
       "      'nullable': True,\n",
       "      'type': 'integer'},\n",
       "     {'metadata': {'measure': 'discrete', 'modeling_role': 'feature'},\n",
       "      'name': 'InstallmentPlans',\n",
       "      'nullable': True,\n",
       "      'type': 'string'},\n",
       "     {'metadata': {'measure': 'discrete', 'modeling_role': 'feature'},\n",
       "      'name': 'Housing',\n",
       "      'nullable': True,\n",
       "      'type': 'string'},\n",
       "     {'metadata': {'modeling_role': 'feature'},\n",
       "      'name': 'ExistingCreditsCount',\n",
       "      'nullable': True,\n",
       "      'type': 'integer'},\n",
       "     {'metadata': {'measure': 'discrete', 'modeling_role': 'feature'},\n",
       "      'name': 'Job',\n",
       "      'nullable': True,\n",
       "      'type': 'string'},\n",
       "     {'metadata': {'modeling_role': 'feature'},\n",
       "      'name': 'Dependents',\n",
       "      'nullable': True,\n",
       "      'type': 'integer'},\n",
       "     {'metadata': {'measure': 'discrete', 'modeling_role': 'feature'},\n",
       "      'name': 'Telephone',\n",
       "      'nullable': True,\n",
       "      'type': 'string'},\n",
       "     {'metadata': {'measure': 'discrete', 'modeling_role': 'feature'},\n",
       "      'name': 'ForeignWorker',\n",
       "      'nullable': True,\n",
       "      'type': 'string'},\n",
       "     {'metadata': {'modeling_role': 'target'},\n",
       "      'name': 'Risk',\n",
       "      'nullable': True,\n",
       "      'type': 'string'}],\n",
       "    'type': 'struct'}},\n",
       "  'configurations': [{'enabled': True,\n",
       "    'monitor_definition_id': 'payload_logging',\n",
       "    'type': 'payload_logging',\n",
       "    'url': '/v1/data_marts/f94e20cb-aa92-4636-97ce-08de6b714d02/service_bindings/4a7f62cc-f564-4144-8af4-b9f53533d2cf/subscriptions/beb08b92-539b-4f64-bc9b-4d9a66fca5eb/configurations/payload_logging'},\n",
       "   {'enabled': False,\n",
       "    'monitor_definition_id': 'explainability',\n",
       "    'type': 'explainability',\n",
       "    'url': '/v1/data_marts/f94e20cb-aa92-4636-97ce-08de6b714d02/service_bindings/4a7f62cc-f564-4144-8af4-b9f53533d2cf/subscriptions/beb08b92-539b-4f64-bc9b-4d9a66fca5eb/configurations/explainability'},\n",
       "   {'enabled': True,\n",
       "    'monitor_definition_id': 'performance_monitoring',\n",
       "    'type': 'performance_monitoring',\n",
       "    'url': '/v1/data_marts/f94e20cb-aa92-4636-97ce-08de6b714d02/service_bindings/4a7f62cc-f564-4144-8af4-b9f53533d2cf/subscriptions/beb08b92-539b-4f64-bc9b-4d9a66fca5eb/configurations/performance_monitoring'},\n",
       "   {'enabled': False,\n",
       "    'monitor_definition_id': 'fairness_monitoring',\n",
       "    'type': 'fairness_monitoring',\n",
       "    'url': '/v1/data_marts/f94e20cb-aa92-4636-97ce-08de6b714d02/service_bindings/4a7f62cc-f564-4144-8af4-b9f53533d2cf/subscriptions/beb08b92-539b-4f64-bc9b-4d9a66fca5eb/configurations/fairness_monitoring'},\n",
       "   {'enabled': False,\n",
       "    'monitor_definition_id': 'quality',\n",
       "    'type': 'quality_monitoring',\n",
       "    'url': '/v1/data_marts/f94e20cb-aa92-4636-97ce-08de6b714d02/service_bindings/4a7f62cc-f564-4144-8af4-b9f53533d2cf/subscriptions/beb08b92-539b-4f64-bc9b-4d9a66fca5eb/configurations/quality'},\n",
       "   {'enabled': False,\n",
       "    'monitor_definition_id': 'drift',\n",
       "    'type': 'drift',\n",
       "    'url': '/v1/data_marts/f94e20cb-aa92-4636-97ce-08de6b714d02/service_bindings/4a7f62cc-f564-4144-8af4-b9f53533d2cf/subscriptions/beb08b92-539b-4f64-bc9b-4d9a66fca5eb/configurations/drift'}],\n",
       "  'deployments': [{'created_at': '2019-07-15T13:40:33.128Z',\n",
       "    'deployment_id': '4a85b4f0-8c32-4a6c-8e4a-518e95a224dc',\n",
       "    'deployment_rn': '',\n",
       "    'deployment_type': 'online',\n",
       "    'name': 'Spark German Risk Deployment - Final',\n",
       "    'scoring_endpoint': {'request_headers': {'Content-Type': 'application/json'},\n",
       "     'url': 'https://us-south.ml.cloud.ibm.com/v3/wml_instances/4a7f62cc-f564-4144-8af4-b9f53533d2cf/deployments/4a85b4f0-8c32-4a6c-8e4a-518e95a224dc/online'},\n",
       "    'url': 'https://us-south.ml.cloud.ibm.com/v3/wml_instances/4a7f62cc-f564-4144-8af4-b9f53533d2cf/deployments/4a85b4f0-8c32-4a6c-8e4a-518e95a224dc'}],\n",
       "  'service_binding_id': '4a7f62cc-f564-4144-8af4-b9f53533d2cf',\n",
       "  'status': {'state': 'active'}},\n",
       " 'metadata': {'created_at': '2019-07-15T13:49:44.089Z',\n",
       "  'guid': 'beb08b92-539b-4f64-bc9b-4d9a66fca5eb',\n",
       "  'modified_at': '2019-07-15T13:49:45.055Z',\n",
       "  'url': '/v1/data_marts/f94e20cb-aa92-4636-97ce-08de6b714d02/service_bindings/4a7f62cc-f564-4144-8af4-b9f53533d2cf/subscriptions/beb08b92-539b-4f64-bc9b-4d9a66fca5eb'}}"
      ]
     },
     "execution_count": 38,
     "metadata": {},
     "output_type": "execute_result"
    }
   ],
   "source": [
    "subscription.get_details()"
   ]
  },
  {
   "cell_type": "markdown",
   "metadata": {},
   "source": [
    "### Score the model so we can configure monitors"
   ]
  },
  {
   "cell_type": "code",
   "execution_count": 39,
   "metadata": {
    "scrolled": true
   },
   "outputs": [
    {
     "name": "stdout",
     "output_type": "stream",
     "text": [
      "4a85b4f0-8c32-4a6c-8e4a-518e95a224dc\n",
      "https://us-south.ml.cloud.ibm.com/v3/wml_instances/4a7f62cc-f564-4144-8af4-b9f53533d2cf/deployments/4a85b4f0-8c32-4a6c-8e4a-518e95a224dc/online\n"
     ]
    }
   ],
   "source": [
    "credit_risk_scoring_endpoint = None\n",
    "print(deployment_uid)\n",
    "\n",
    "for deployment in wml_client.deployments.get_details()['resources']:\n",
    "    if deployment_uid in deployment['metadata']['guid']:\n",
    "        credit_risk_scoring_endpoint = deployment['entity']['scoring_url']\n",
    "        \n",
    "print(credit_risk_scoring_endpoint)"
   ]
  },
  {
   "cell_type": "code",
   "execution_count": 40,
   "metadata": {
    "scrolled": true
   },
   "outputs": [
    {
     "name": "stdout",
     "output_type": "stream",
     "text": [
      "{'values': [['no_checking', 13, 'credits_paid_to_date', 'car_new', 1343, '100_to_500', '1_to_4', 2, 'female', 'none', 3, 'savings_insurance', 46, 'none', 'own', 2, 'skilled', 1, 'none', 'yes', 0.0, 1.0, 0.0, 1.0, 0.0, 0.0, 0.0, 0.0, 0.0, 0.0, 0.0, 1.0, 0.0, [21, [1, 3, 5, 13, 14, 15, 16, 17, 18, 19, 20], [1.0, 1.0, 1.0, 13.0, 1343.0, 2.0, 3.0, 13.0, 46.0, 2.0, 1.0]], [12.982913614863875, 7.017086385136125], [0.6491456807431938, 0.3508543192568062], 0.0, 'No Risk'], ['no_checking', 24, 'prior_payments_delayed', 'furniture', 4567, '500_to_1000', '1_to_4', 4, 'male', 'none', 4, 'savings_insurance', 36, 'none', 'free', 2, 'management_self-employed', 1, 'none', 'yes', 0.0, 0.0, 0.0, 2.0, 0.0, 2.0, 0.0, 2.0, 1.0, 0.0, 0.0, 0.0, 0.0, [21, [2, 3, 9, 10, 13, 14, 15, 16, 17, 18, 19, 20], [1.0, 2.0, 2.0, 2.0, 24.0, 4567.0, 4.0, 4.0, 24.0, 36.0, 2.0, 1.0]], [12.83781350563707, 7.162186494362929], [0.6418906752818535, 0.3581093247181465], 0.0, 'No Risk'], ['0_to_200', 26, 'all_credits_paid_back', 'car_new', 863, 'less_100', 'less_1', 2, 'female', 'co-applicant', 2, 'real_estate', 38, 'none', 'own', 1, 'skilled', 1, 'none', 'yes', 2.0, 3.0, 3.0, 0.0, 0.0, 0.0, 0.0, 0.0, 0.0, 1.0, 2.0, 1.0, 0.0, [2.0, 3.0, 0.0, 0.0, 3.0, 1.0, 1.0, 2.0, 0.0, 0.0, 0.0, 0.0, 0.0, 26.0, 863.0, 2.0, 2.0, 26.0, 38.0, 1.0, 1.0], [17.562475095716085, 2.437524904283917], [0.8781237547858043, 0.12187624521419585], 0.0, 'No Risk'], ['0_to_200', 14, 'no_credits', 'car_new', 2368, 'less_100', '1_to_4', 3, 'female', 'none', 3, 'real_estate', 29, 'none', 'own', 1, 'skilled', 1, 'none', 'yes', 2.0, 4.0, 0.0, 0.0, 0.0, 0.0, 0.0, 0.0, 0.0, 0.0, 2.0, 1.0, 0.0, [21, [0, 1, 5, 7, 13, 14, 15, 16, 17, 18, 19, 20], [2.0, 4.0, 1.0, 2.0, 14.0, 2368.0, 3.0, 3.0, 14.0, 29.0, 1.0, 1.0]], [18.71569098628055, 1.284309013719452], [0.9357845493140274, 0.06421545068597259], 0.0, 'No Risk'], ['0_to_200', 4, 'no_credits', 'car_new', 250, 'less_100', 'unemployed', 2, 'female', 'none', 3, 'real_estate', 23, 'none', 'rent', 1, 'management_self-employed', 1, 'none', 'yes', 2.0, 4.0, 4.0, 0.0, 0.0, 1.0, 0.0, 2.0, 0.0, 0.0, 2.0, 1.0, 0.0, [2.0, 4.0, 0.0, 0.0, 4.0, 1.0, 0.0, 2.0, 0.0, 1.0, 2.0, 0.0, 0.0, 4.0, 250.0, 2.0, 3.0, 4.0, 23.0, 1.0, 1.0], [19.390500248552485, 0.6094997514475157], [0.9695250124276242, 0.030474987572375784], 0.0, 'No Risk'], ['no_checking', 17, 'credits_paid_to_date', 'car_new', 832, '100_to_500', '1_to_4', 2, 'male', 'none', 2, 'real_estate', 42, 'none', 'own', 1, 'skilled', 1, 'none', 'yes', 0.0, 1.0, 0.0, 1.0, 0.0, 0.0, 0.0, 0.0, 0.0, 0.0, 2.0, 0.0, 0.0, [21, [1, 3, 7, 13, 14, 15, 16, 17, 18, 19, 20], [1.0, 1.0, 2.0, 17.0, 832.0, 2.0, 2.0, 17.0, 42.0, 1.0, 1.0]], [17.322997134259147, 2.6770028657408553], [0.8661498567129572, 0.13385014328704276], 0.0, 'No Risk'], ['no_checking', 33, 'outstanding_credit', 'appliances', 5696, 'unknown', 'greater_7', 4, 'male', 'co-applicant', 4, 'unknown', 54, 'none', 'free', 2, 'skilled', 1, 'yes', 'yes', 0.0, 2.0, 2.0, 4.0, 0.0, 2.0, 0.0, 0.0, 4.0, 1.0, 3.0, 0.0, 1.0, [0.0, 2.0, 4.0, 4.0, 2.0, 0.0, 1.0, 3.0, 0.0, 2.0, 0.0, 1.0, 0.0, 33.0, 5696.0, 4.0, 4.0, 33.0, 54.0, 2.0, 1.0], [1.5615924654146793, 18.438407534585323], [0.07807962327073395, 0.921920376729266], 1.0, 'Risk'], ['0_to_200', 13, 'prior_payments_delayed', 'retraining', 1375, '100_to_500', '4_to_7', 3, 'male', 'none', 3, 'real_estate', 37, 'none', 'own', 2, 'management_self-employed', 1, 'none', 'yes', 2.0, 0.0, 1.0, 1.0, 0.0, 0.0, 0.0, 2.0, 8.0, 0.0, 2.0, 0.0, 0.0, [2.0, 0.0, 8.0, 1.0, 1.0, 0.0, 0.0, 2.0, 0.0, 0.0, 2.0, 0.0, 0.0, 13.0, 1375.0, 3.0, 3.0, 13.0, 37.0, 2.0, 1.0], [16.94291325381695, 3.057086746183048], [0.8471456626908476, 0.1528543373091524], 0.0, 'No Risk']], 'fields': ['CheckingStatus', 'LoanDuration', 'CreditHistory', 'LoanPurpose', 'LoanAmount', 'ExistingSavings', 'EmploymentDuration', 'InstallmentPercent', 'Sex', 'OthersOnLoan', 'CurrentResidenceDuration', 'OwnsProperty', 'Age', 'InstallmentPlans', 'Housing', 'ExistingCreditsCount', 'Job', 'Dependents', 'Telephone', 'ForeignWorker', 'CheckingStatus_IX', 'CreditHistory_IX', 'EmploymentDuration_IX', 'ExistingSavings_IX', 'ForeignWorker_IX', 'Housing_IX', 'InstallmentPlans_IX', 'Job_IX', 'LoanPurpose_IX', 'OthersOnLoan_IX', 'OwnsProperty_IX', 'Sex_IX', 'Telephone_IX', 'features', 'rawPrediction', 'probability', 'prediction', 'predictedLabel']}\n"
     ]
    }
   ],
   "source": [
    "fields = [\"CheckingStatus\",\"LoanDuration\",\"CreditHistory\",\"LoanPurpose\",\"LoanAmount\",\"ExistingSavings\",\"EmploymentDuration\",\"InstallmentPercent\",\"Sex\",\"OthersOnLoan\",\"CurrentResidenceDuration\",\"OwnsProperty\",\"Age\",\"InstallmentPlans\",\"Housing\",\"ExistingCreditsCount\",\"Job\",\"Dependents\",\"Telephone\",\"ForeignWorker\"]\n",
    "values = [\n",
    "  [\"no_checking\",13,\"credits_paid_to_date\",\"car_new\",1343,\"100_to_500\",\"1_to_4\",2,\"female\",\"none\",3,\"savings_insurance\",46,\"none\",\"own\",2,\"skilled\",1,\"none\",\"yes\"],\n",
    "  [\"no_checking\",24,\"prior_payments_delayed\",\"furniture\",4567,\"500_to_1000\",\"1_to_4\",4,\"male\",\"none\",4,\"savings_insurance\",36,\"none\",\"free\",2,\"management_self-employed\",1,\"none\",\"yes\"],\n",
    "  [\"0_to_200\",26,\"all_credits_paid_back\",\"car_new\",863,\"less_100\",\"less_1\",2,\"female\",\"co-applicant\",2,\"real_estate\",38,\"none\",\"own\",1,\"skilled\",1,\"none\",\"yes\"],\n",
    "  [\"0_to_200\",14,\"no_credits\",\"car_new\",2368,\"less_100\",\"1_to_4\",3,\"female\",\"none\",3,\"real_estate\",29,\"none\",\"own\",1,\"skilled\",1,\"none\",\"yes\"],\n",
    "  [\"0_to_200\",4,\"no_credits\",\"car_new\",250,\"less_100\",\"unemployed\",2,\"female\",\"none\",3,\"real_estate\",23,\"none\",\"rent\",1,\"management_self-employed\",1,\"none\",\"yes\"],\n",
    "  [\"no_checking\",17,\"credits_paid_to_date\",\"car_new\",832,\"100_to_500\",\"1_to_4\",2,\"male\",\"none\",2,\"real_estate\",42,\"none\",\"own\",1,\"skilled\",1,\"none\",\"yes\"],\n",
    "  [\"no_checking\",33,\"outstanding_credit\",\"appliances\",5696,\"unknown\",\"greater_7\",4,\"male\",\"co-applicant\",4,\"unknown\",54,\"none\",\"free\",2,\"skilled\",1,\"yes\",\"yes\"],\n",
    "  [\"0_to_200\",13,\"prior_payments_delayed\",\"retraining\",1375,\"100_to_500\",\"4_to_7\",3,\"male\",\"none\",3,\"real_estate\",37,\"none\",\"own\",2,\"management_self-employed\",1,\"none\",\"yes\"]\n",
    "]\n",
    "\n",
    "payload_scoring = {\"fields\": fields,\"values\": values}\n",
    "scoring_response = wml_client.deployments.score(credit_risk_scoring_endpoint, payload_scoring)\n",
    "\n",
    "print(scoring_response)"
   ]
  },
  {
   "cell_type": "markdown",
   "metadata": {},
   "source": [
    "## Quality and feedback monitoring"
   ]
  },
  {
   "cell_type": "markdown",
   "metadata": {},
   "source": [
    "### Enable quality monitoring"
   ]
  },
  {
   "cell_type": "markdown",
   "metadata": {},
   "source": [
    "Wait ten seconds to allow the payload logging table to be set up before we begin enabling monitors."
   ]
  },
  {
   "cell_type": "code",
   "execution_count": 41,
   "metadata": {
    "scrolled": true
   },
   "outputs": [],
   "source": [
    "time.sleep(10)\n",
    "subscription.quality_monitoring.enable(threshold=0.7, min_records=50)"
   ]
  },
  {
   "cell_type": "markdown",
   "metadata": {},
   "source": [
    "### Feedback logging"
   ]
  },
  {
   "cell_type": "code",
   "execution_count": 42,
   "metadata": {},
   "outputs": [
    {
     "name": "stdout",
     "output_type": "stream",
     "text": [
      "rm: cannot remove 'additional_feedback_data.json': No such file or directory\n",
      "--2019-07-15 14:02:08--  https://raw.githubusercontent.com/IBM/monitor-wml-model-with-watson-openscale/master/data/additional_feedback_data.json\n",
      "Resolving raw.githubusercontent.com (raw.githubusercontent.com)... 199.232.8.133\n",
      "Connecting to raw.githubusercontent.com (raw.githubusercontent.com)|199.232.8.133|:443... connected.\n",
      "HTTP request sent, awaiting response... 200 OK\n",
      "Length: 16506 (16K) [text/plain]\n",
      "Saving to: 'additional_feedback_data.json'\n",
      "\n",
      "additional_feedback 100%[===================>]  16.12K  --.-KB/s    in 0s      \n",
      "\n",
      "2019-07-15 14:02:08 (134 MB/s) - 'additional_feedback_data.json' saved [16506/16506]\n",
      "\n"
     ]
    }
   ],
   "source": [
    "!rm additional_feedback_data.json\n",
    "!wget https://raw.githubusercontent.com/IBM/monitor-wml-model-with-watson-openscale/master/data/additional_feedback_data.json"
   ]
  },
  {
   "cell_type": "code",
   "execution_count": 43,
   "metadata": {},
   "outputs": [],
   "source": [
    "with open('additional_feedback_data.json') as feedback_file:\n",
    "    additional_feedback_data = json.load(feedback_file)\n",
    "subscription.feedback_logging.store(additional_feedback_data['data'])"
   ]
  },
  {
   "cell_type": "code",
   "execution_count": 44,
   "metadata": {
    "scrolled": true
   },
   "outputs": [
    {
     "data": {
      "text/html": [
       "<HTML>\n",
       "        <body>\n",
       "            <h3>Feedback_beb08b92-539b-4f64-bc9b-4d9a66fca5eb (binding_id=4a7f62cc-f564-4144-8af4-b9f53533d2cf, subscription_id=beb08b92-539b-4f64-bc9b-4d9a66fca5eb)</h3>\n",
       "            <table style='border: 1px solid #dddddd; font-family: Courier'>\n",
       "                <th style='border: 1px solid #dddddd'>CheckingStatus</th><th style='border: 1px solid #dddddd'>LoanDuration</th><th style='border: 1px solid #dddddd'>CreditHistory</th><th style='border: 1px solid #dddddd'>LoanPurpose</th><th style='border: 1px solid #dddddd'>LoanAmount</th><th style='border: 1px solid #dddddd'>ExistingSavings</th><th style='border: 1px solid #dddddd'>EmploymentDuration</th><th style='border: 1px solid #dddddd'>InstallmentPercent</th><th style='border: 1px solid #dddddd'>Sex</th><th style='border: 1px solid #dddddd'>OthersOnLoan</th><th style='border: 1px solid #dddddd'>CurrentResidenceDuration</th><th style='border: 1px solid #dddddd'>OwnsProperty</th><th style='border: 1px solid #dddddd'>Age</th><th style='border: 1px solid #dddddd'>InstallmentPlans</th><th style='border: 1px solid #dddddd'>Housing</th><th style='border: 1px solid #dddddd'>ExistingCreditsCount</th><th style='border: 1px solid #dddddd'>Job</th><th style='border: 1px solid #dddddd'>Dependents</th><th style='border: 1px solid #dddddd'>Telephone</th><th style='border: 1px solid #dddddd'>ForeignWorker</th><th style='border: 1px solid #dddddd'>Risk</th><th style='border: 1px solid #dddddd'>_training</th>\n",
       "                <tr><td style='border: 1px solid #dddddd'>less_0</td><td style='border: 1px solid #dddddd'>10</td><td style='border: 1px solid #dddddd'>all_credits_paid_back</td><td style='border: 1px solid #dddddd'>car_new</td><td style='border: 1px solid #dddddd'>250</td><td style='border: 1px solid #dddddd'>500_to_1000</td><td style='border: 1px solid #dddddd'>4_to_7</td><td style='border: 1px solid #dddddd'>3</td><td style='border: 1px solid #dddddd'>male</td><td style='border: 1px solid #dddddd'>none</td><td style='border: 1px solid #dddddd'>2</td><td style='border: 1px solid #dddddd'>real_estate</td><td style='border: 1px solid #dddddd'>23</td><td style='border: 1px solid #dddddd'>none</td><td style='border: 1px solid #dddddd'>rent</td><td style='border: 1px solid #dddddd'>1</td><td style='border: 1px solid #dddddd'>skilled</td><td style='border: 1px solid #dddddd'>1</td><td style='border: 1px solid #dddddd'>none</td><td style='border: 1px solid #dddddd'>yes</td><td style='border: 1px solid #dddddd'>No Risk</td><td style='border: 1px solid #dddddd'>2019-07-15 14:02:11.965647+00:00</td></tr><tr><td style='border: 1px solid #dddddd'>no_checking</td><td style='border: 1px solid #dddddd'>23</td><td style='border: 1px solid #dddddd'>prior_payments_delayed</td><td style='border: 1px solid #dddddd'>appliances</td><td style='border: 1px solid #dddddd'>6964</td><td style='border: 1px solid #dddddd'>100_to_500</td><td style='border: 1px solid #dddddd'>4_to_7</td><td style='border: 1px solid #dddddd'>4</td><td style='border: 1px solid #dddddd'>female</td><td style='border: 1px solid #dddddd'>none</td><td style='border: 1px solid #dddddd'>3</td><td style='border: 1px solid #dddddd'>car_other</td><td style='border: 1px solid #dddddd'>39</td><td style='border: 1px solid #dddddd'>none</td><td style='border: 1px solid #dddddd'>own</td><td style='border: 1px solid #dddddd'>1</td><td style='border: 1px solid #dddddd'>skilled</td><td style='border: 1px solid #dddddd'>1</td><td style='border: 1px solid #dddddd'>none</td><td style='border: 1px solid #dddddd'>yes</td><td style='border: 1px solid #dddddd'>Risk</td><td style='border: 1px solid #dddddd'>2019-07-15 14:02:11.965647+00:00</td></tr><tr><td style='border: 1px solid #dddddd'>0_to_200</td><td style='border: 1px solid #dddddd'>30</td><td style='border: 1px solid #dddddd'>outstanding_credit</td><td style='border: 1px solid #dddddd'>appliances</td><td style='border: 1px solid #dddddd'>3464</td><td style='border: 1px solid #dddddd'>100_to_500</td><td style='border: 1px solid #dddddd'>greater_7</td><td style='border: 1px solid #dddddd'>3</td><td style='border: 1px solid #dddddd'>male</td><td style='border: 1px solid #dddddd'>guarantor</td><td style='border: 1px solid #dddddd'>4</td><td style='border: 1px solid #dddddd'>savings_insurance</td><td style='border: 1px solid #dddddd'>51</td><td style='border: 1px solid #dddddd'>stores</td><td style='border: 1px solid #dddddd'>free</td><td style='border: 1px solid #dddddd'>1</td><td style='border: 1px solid #dddddd'>skilled</td><td style='border: 1px solid #dddddd'>1</td><td style='border: 1px solid #dddddd'>yes</td><td style='border: 1px solid #dddddd'>yes</td><td style='border: 1px solid #dddddd'>Risk</td><td style='border: 1px solid #dddddd'>2019-07-15 14:02:11.965647+00:00</td></tr><tr><td style='border: 1px solid #dddddd'>no_checking</td><td style='border: 1px solid #dddddd'>23</td><td style='border: 1px solid #dddddd'>outstanding_credit</td><td style='border: 1px solid #dddddd'>car_used</td><td style='border: 1px solid #dddddd'>2681</td><td style='border: 1px solid #dddddd'>500_to_1000</td><td style='border: 1px solid #dddddd'>greater_7</td><td style='border: 1px solid #dddddd'>4</td><td style='border: 1px solid #dddddd'>male</td><td style='border: 1px solid #dddddd'>none</td><td style='border: 1px solid #dddddd'>3</td><td style='border: 1px solid #dddddd'>car_other</td><td style='border: 1px solid #dddddd'>33</td><td style='border: 1px solid #dddddd'>stores</td><td style='border: 1px solid #dddddd'>free</td><td style='border: 1px solid #dddddd'>1</td><td style='border: 1px solid #dddddd'>unskilled</td><td style='border: 1px solid #dddddd'>1</td><td style='border: 1px solid #dddddd'>yes</td><td style='border: 1px solid #dddddd'>yes</td><td style='border: 1px solid #dddddd'>No Risk</td><td style='border: 1px solid #dddddd'>2019-07-15 14:02:11.965647+00:00</td></tr><tr><td style='border: 1px solid #dddddd'>0_to_200</td><td style='border: 1px solid #dddddd'>18</td><td style='border: 1px solid #dddddd'>prior_payments_delayed</td><td style='border: 1px solid #dddddd'>furniture</td><td style='border: 1px solid #dddddd'>1673</td><td style='border: 1px solid #dddddd'>less_100</td><td style='border: 1px solid #dddddd'>1_to_4</td><td style='border: 1px solid #dddddd'>2</td><td style='border: 1px solid #dddddd'>male</td><td style='border: 1px solid #dddddd'>none</td><td style='border: 1px solid #dddddd'>3</td><td style='border: 1px solid #dddddd'>car_other</td><td style='border: 1px solid #dddddd'>30</td><td style='border: 1px solid #dddddd'>none</td><td style='border: 1px solid #dddddd'>own</td><td style='border: 1px solid #dddddd'>2</td><td style='border: 1px solid #dddddd'>skilled</td><td style='border: 1px solid #dddddd'>1</td><td style='border: 1px solid #dddddd'>none</td><td style='border: 1px solid #dddddd'>yes</td><td style='border: 1px solid #dddddd'>Risk</td><td style='border: 1px solid #dddddd'>2019-07-15 14:02:11.965647+00:00</td></tr><tr><td style='border: 1px solid #dddddd'>no_checking</td><td style='border: 1px solid #dddddd'>44</td><td style='border: 1px solid #dddddd'>outstanding_credit</td><td style='border: 1px solid #dddddd'>radio_tv</td><td style='border: 1px solid #dddddd'>3476</td><td style='border: 1px solid #dddddd'>unknown</td><td style='border: 1px solid #dddddd'>greater_7</td><td style='border: 1px solid #dddddd'>4</td><td style='border: 1px solid #dddddd'>male</td><td style='border: 1px solid #dddddd'>co-applicant</td><td style='border: 1px solid #dddddd'>4</td><td style='border: 1px solid #dddddd'>unknown</td><td style='border: 1px solid #dddddd'>60</td><td style='border: 1px solid #dddddd'>none</td><td style='border: 1px solid #dddddd'>free</td><td style='border: 1px solid #dddddd'>2</td><td style='border: 1px solid #dddddd'>skilled</td><td style='border: 1px solid #dddddd'>2</td><td style='border: 1px solid #dddddd'>yes</td><td style='border: 1px solid #dddddd'>yes</td><td style='border: 1px solid #dddddd'>Risk</td><td style='border: 1px solid #dddddd'>2019-07-15 14:02:11.965647+00:00</td></tr><tr><td style='border: 1px solid #dddddd'>less_0</td><td style='border: 1px solid #dddddd'>8</td><td style='border: 1px solid #dddddd'>no_credits</td><td style='border: 1px solid #dddddd'>education</td><td style='border: 1px solid #dddddd'>803</td><td style='border: 1px solid #dddddd'>less_100</td><td style='border: 1px solid #dddddd'>unemployed</td><td style='border: 1px solid #dddddd'>1</td><td style='border: 1px solid #dddddd'>male</td><td style='border: 1px solid #dddddd'>none</td><td style='border: 1px solid #dddddd'>1</td><td style='border: 1px solid #dddddd'>savings_insurance</td><td style='border: 1px solid #dddddd'>19</td><td style='border: 1px solid #dddddd'>stores</td><td style='border: 1px solid #dddddd'>rent</td><td style='border: 1px solid #dddddd'>1</td><td style='border: 1px solid #dddddd'>skilled</td><td style='border: 1px solid #dddddd'>1</td><td style='border: 1px solid #dddddd'>none</td><td style='border: 1px solid #dddddd'>yes</td><td style='border: 1px solid #dddddd'>No Risk</td><td style='border: 1px solid #dddddd'>2019-07-15 14:02:11.965647+00:00</td></tr><tr><td style='border: 1px solid #dddddd'>0_to_200</td><td style='border: 1px solid #dddddd'>7</td><td style='border: 1px solid #dddddd'>all_credits_paid_back</td><td style='border: 1px solid #dddddd'>car_new</td><td style='border: 1px solid #dddddd'>250</td><td style='border: 1px solid #dddddd'>less_100</td><td style='border: 1px solid #dddddd'>unemployed</td><td style='border: 1px solid #dddddd'>1</td><td style='border: 1px solid #dddddd'>male</td><td style='border: 1px solid #dddddd'>none</td><td style='border: 1px solid #dddddd'>1</td><td style='border: 1px solid #dddddd'>real_estate</td><td style='border: 1px solid #dddddd'>19</td><td style='border: 1px solid #dddddd'>stores</td><td style='border: 1px solid #dddddd'>rent</td><td style='border: 1px solid #dddddd'>1</td><td style='border: 1px solid #dddddd'>skilled</td><td style='border: 1px solid #dddddd'>1</td><td style='border: 1px solid #dddddd'>none</td><td style='border: 1px solid #dddddd'>yes</td><td style='border: 1px solid #dddddd'>No Risk</td><td style='border: 1px solid #dddddd'>2019-07-15 14:02:11.965647+00:00</td></tr><tr><td style='border: 1px solid #dddddd'>0_to_200</td><td style='border: 1px solid #dddddd'>33</td><td style='border: 1px solid #dddddd'>credits_paid_to_date</td><td style='border: 1px solid #dddddd'>radio_tv</td><td style='border: 1px solid #dddddd'>3548</td><td style='border: 1px solid #dddddd'>100_to_500</td><td style='border: 1px solid #dddddd'>1_to_4</td><td style='border: 1px solid #dddddd'>3</td><td style='border: 1px solid #dddddd'>male</td><td style='border: 1px solid #dddddd'>none</td><td style='border: 1px solid #dddddd'>4</td><td style='border: 1px solid #dddddd'>car_other</td><td style='border: 1px solid #dddddd'>28</td><td style='border: 1px solid #dddddd'>none</td><td style='border: 1px solid #dddddd'>own</td><td style='border: 1px solid #dddddd'>2</td><td style='border: 1px solid #dddddd'>skilled</td><td style='border: 1px solid #dddddd'>1</td><td style='border: 1px solid #dddddd'>yes</td><td style='border: 1px solid #dddddd'>yes</td><td style='border: 1px solid #dddddd'>Risk</td><td style='border: 1px solid #dddddd'>2019-07-15 14:02:11.965647+00:00</td></tr><tr><td style='border: 1px solid #dddddd'>no_checking</td><td style='border: 1px solid #dddddd'>24</td><td style='border: 1px solid #dddddd'>prior_payments_delayed</td><td style='border: 1px solid #dddddd'>retraining</td><td style='border: 1px solid #dddddd'>4158</td><td style='border: 1px solid #dddddd'>100_to_500</td><td style='border: 1px solid #dddddd'>greater_7</td><td style='border: 1px solid #dddddd'>3</td><td style='border: 1px solid #dddddd'>female</td><td style='border: 1px solid #dddddd'>none</td><td style='border: 1px solid #dddddd'>2</td><td style='border: 1px solid #dddddd'>savings_insurance</td><td style='border: 1px solid #dddddd'>35</td><td style='border: 1px solid #dddddd'>stores</td><td style='border: 1px solid #dddddd'>own</td><td style='border: 1px solid #dddddd'>1</td><td style='border: 1px solid #dddddd'>unskilled</td><td style='border: 1px solid #dddddd'>2</td><td style='border: 1px solid #dddddd'>none</td><td style='border: 1px solid #dddddd'>yes</td><td style='border: 1px solid #dddddd'>Risk</td><td style='border: 1px solid #dddddd'>2019-07-15 14:02:11.965647+00:00</td></tr>\n",
       "            </table>\n",
       "        </body>\n",
       "        </HTML>"
      ],
      "text/plain": [
       "<IPython.core.display.HTML object>"
      ]
     },
     "metadata": {},
     "output_type": "display_data"
    }
   ],
   "source": [
    "subscription.feedback_logging.show_table()"
   ]
  },
  {
   "cell_type": "code",
   "execution_count": 45,
   "metadata": {
    "scrolled": true
   },
   "outputs": [
    {
     "name": "stdout",
     "output_type": "stream",
     "text": [
      "981937f0-0cf4-44a9-9a9a-b1ba0f802177\n",
      "Run status: initializing\n",
      "Run status: running\n",
      "Run status: completed\n"
     ]
    }
   ],
   "source": [
    "run_details = subscription.quality_monitoring.run()\n",
    "status = run_details['status']\n",
    "id = run_details['id']\n",
    "print(id)\n",
    "\n",
    "print(\"Run status: {}\".format(status))\n",
    "\n",
    "start_time = time.time()\n",
    "elapsed_time = 0\n",
    "\n",
    "while status != 'completed' and elapsed_time < 60:\n",
    "    time.sleep(10)\n",
    "    run_details = subscription.quality_monitoring.get_run_details(run_uid=id)\n",
    "    status = run_details['status']\n",
    "    elapsed_time = time.time() - start_time\n",
    "    print(\"Run status: {}\".format(status))"
   ]
  },
  {
   "cell_type": "code",
   "execution_count": 46,
   "metadata": {
    "scrolled": true
   },
   "outputs": [
    {
     "data": {
      "text/plain": [
       "{'evaluations': [{'asset_id': 'beb08b92-539b-4f64-bc9b-4d9a66fca5eb',\n",
       "   'completed_at': '2019-07-15T14:02:47.946Z',\n",
       "   'data_mart_id': 'f94e20cb-aa92-4636-97ce-08de6b714d02',\n",
       "   'flags': {'batch_size': 1000,\n",
       "    'fetch_size': 1000,\n",
       "    'force': True,\n",
       "    'model_type': ['original', 'recommended'],\n",
       "    'parallelism': 2,\n",
       "    'window_in_millis': 2000},\n",
       "   'id': '981937f0-0cf4-44a9-9a9a-b1ba0f802177',\n",
       "   'measurement_id': '685c7c2c-5cd1-40f7-8853-af68f794d634',\n",
       "   'model_type': 'original',\n",
       "   'output': {'confusion_matrix': {'labels': ['No Risk', 'Risk'],\n",
       "     'metrics_per_label': {'false_positive_rate_per_label': [0.5757575757575758,\n",
       "       0.06153846153846154],\n",
       "      'precision_per_label': [0.7625, 0.7777777777777778],\n",
       "      'recall_per_label': [0.9384615384615385, 0.42424242424242425],\n",
       "      'true_positive_rate_per_label': [0.9384615384615385,\n",
       "       0.42424242424242425]},\n",
       "     'values': [[61.0, 4.0], [19.0, 14.0]]},\n",
       "    'metrics': {'accuracy': 0.7653061224489796,\n",
       "     'area_under_pr': 0.6508108293822579,\n",
       "     'area_under_roc': 0.6813519813519814,\n",
       "     'f1_measure': 0.5490196078431373,\n",
       "     'false_positive_rate': 0.06153846153846154,\n",
       "     'log_loss': 0.43181495576759354,\n",
       "     'precision': 0.7777777777777778,\n",
       "     'recall': 0.42424242424242425,\n",
       "     'true_positive_rate': 0.42424242424242425}},\n",
       "   'problem_type': 'binary',\n",
       "   'rows_in_range': 98,\n",
       "   'rows_max': 10000,\n",
       "   'rows_min': 50,\n",
       "   'service_binding_id': '4a7f62cc-f564-4144-8af4-b9f53533d2cf',\n",
       "   'stages': [{'completed_at': '2019-07-15T14:02:31.034Z',\n",
       "     'id': 1,\n",
       "     'name': 'Prerequisite Check',\n",
       "     'properties': {'input_columns': ['CheckingStatus',\n",
       "       'LoanDuration',\n",
       "       'CreditHistory',\n",
       "       'LoanPurpose',\n",
       "       'LoanAmount',\n",
       "       'ExistingSavings',\n",
       "       'EmploymentDuration',\n",
       "       'InstallmentPercent',\n",
       "       'Sex',\n",
       "       'OthersOnLoan',\n",
       "       'CurrentResidenceDuration',\n",
       "       'OwnsProperty',\n",
       "       'Age',\n",
       "       'InstallmentPlans',\n",
       "       'Housing',\n",
       "       'ExistingCreditsCount',\n",
       "       'Job',\n",
       "       'Dependents',\n",
       "       'Telephone',\n",
       "       'ForeignWorker'],\n",
       "      'training_columns': ['CheckingStatus',\n",
       "       'LoanDuration',\n",
       "       'CreditHistory',\n",
       "       'LoanPurpose',\n",
       "       'LoanAmount',\n",
       "       'ExistingSavings',\n",
       "       'EmploymentDuration',\n",
       "       'InstallmentPercent',\n",
       "       'Sex',\n",
       "       'OthersOnLoan',\n",
       "       'CurrentResidenceDuration',\n",
       "       'OwnsProperty',\n",
       "       'Age',\n",
       "       'InstallmentPlans',\n",
       "       'Housing',\n",
       "       'ExistingCreditsCount',\n",
       "       'Job',\n",
       "       'Dependents',\n",
       "       'Telephone',\n",
       "       'ForeignWorker',\n",
       "       'Risk']},\n",
       "     'started_at': '2019-07-15T14:02:30.873Z'},\n",
       "    {'completed_at': '2019-07-15T14:02:31.045Z',\n",
       "     'id': 2,\n",
       "     'name': 'Acquire Scorer',\n",
       "     'properties': {'scorer': {'guid': '83206c09-bced-4637-a95f-e02e74dbec34'}},\n",
       "     'started_at': '2019-07-15T14:02:31.044Z'},\n",
       "    {'completed_at': '2019-07-15T14:02:47.848Z',\n",
       "     'id': 3,\n",
       "     'name': 'Score Batch',\n",
       "     'properties': {'batch_size': 98},\n",
       "     'started_at': '2019-07-15T14:02:31.064Z'},\n",
       "    {'completed_at': '2019-07-15T14:02:47.850Z',\n",
       "     'id': 4,\n",
       "     'name': 'Calculate probabilities for labels',\n",
       "     'properties': {'classified': {'\"No Risk\"': 0, '\"Risk\"': 1},\n",
       "      'not_classified': []},\n",
       "     'started_at': '2019-07-15T14:02:47.849Z'},\n",
       "    {'completed_at': '2019-07-15T14:02:47.850Z',\n",
       "     'id': 5,\n",
       "     'name': 'Calculate indexes',\n",
       "     'properties': {'indexes': {'\"No Risk\"': 0.0, '\"Risk\"': 1.0},\n",
       "      'true_label': 'Risk'},\n",
       "     'started_at': '2019-07-15T14:02:47.850Z'},\n",
       "    {'completed_at': '2019-07-15T14:02:47.948Z',\n",
       "     'id': 6,\n",
       "     'name': 'Release Scorer',\n",
       "     'started_at': '2019-07-15T14:02:47.947Z'}],\n",
       "   'started_at': '2019-07-15T14:02:30.873Z',\n",
       "   'status': 'completed',\n",
       "   'subscription_id': 'beb08b92-539b-4f64-bc9b-4d9a66fca5eb',\n",
       "   'threshold': 0.7}]}"
      ]
     },
     "execution_count": 46,
     "metadata": {},
     "output_type": "execute_result"
    }
   ],
   "source": [
    "subscription.quality_monitoring.get_run_details()"
   ]
  },
  {
   "cell_type": "code",
   "execution_count": 47,
   "metadata": {
    "scrolled": true
   },
   "outputs": [
    {
     "data": {
      "text/html": [
       "<HTML>\n",
       "        <body>\n",
       "            <h3>QualityMetrics (binding_id=4a7f62cc-f564-4144-8af4-b9f53533d2cf, subscription_id=beb08b92-539b-4f64-bc9b-4d9a66fca5eb)</h3>\n",
       "            <table style='border: 1px solid #dddddd; font-family: Courier'>\n",
       "                <th style='border: 1px solid #dddddd'>ts</th><th style='border: 1px solid #dddddd'>id</th><th style='border: 1px solid #dddddd'>measurement_id</th><th style='border: 1px solid #dddddd'>value</th><th style='border: 1px solid #dddddd'>lower limit</th><th style='border: 1px solid #dddddd'>upper limit</th><th style='border: 1px solid #dddddd'>tags</th><th style='border: 1px solid #dddddd'>binding_id</th><th style='border: 1px solid #dddddd'>subscription_id</th><th style='border: 1px solid #dddddd'>deployment_id</th>\n",
       "                <tr><td style='border: 1px solid #dddddd'>2019-07-15 14:02:30.873000+00:00</td><td style='border: 1px solid #dddddd'>true_positive_rate</td><td style='border: 1px solid #dddddd'>685c7c2c-5cd1-40f7-8853-af68f794d634</td><td style='border: 1px solid #dddddd'>0.42424242424242425</td><td style='border: 1px solid #dddddd'></td><td style='border: 1px solid #dddddd'></td><td style='border: 1px solid #dddddd'>model_type: original</td><td style='border: 1px solid #dddddd'>4a7f62cc-f564-4144-8af4-b9f53533d2cf</td><td style='border: 1px solid #dddddd'>beb08b92-539b-4f64-bc9b-4d9a66fca5eb</td><td style='border: 1px solid #dddddd'>4a85b4f0-8c32-4a6c-8e4a-518e95a224dc</td></tr><tr><td style='border: 1px solid #dddddd'>2019-07-15 14:02:30.873000+00:00</td><td style='border: 1px solid #dddddd'>area_under_roc</td><td style='border: 1px solid #dddddd'>685c7c2c-5cd1-40f7-8853-af68f794d634</td><td style='border: 1px solid #dddddd'>0.6813519813519814</td><td style='border: 1px solid #dddddd'>0.7</td><td style='border: 1px solid #dddddd'></td><td style='border: 1px solid #dddddd'>model_type: original</td><td style='border: 1px solid #dddddd'>4a7f62cc-f564-4144-8af4-b9f53533d2cf</td><td style='border: 1px solid #dddddd'>beb08b92-539b-4f64-bc9b-4d9a66fca5eb</td><td style='border: 1px solid #dddddd'>4a85b4f0-8c32-4a6c-8e4a-518e95a224dc</td></tr><tr><td style='border: 1px solid #dddddd'>2019-07-15 14:02:30.873000+00:00</td><td style='border: 1px solid #dddddd'>precision</td><td style='border: 1px solid #dddddd'>685c7c2c-5cd1-40f7-8853-af68f794d634</td><td style='border: 1px solid #dddddd'>0.7777777777777778</td><td style='border: 1px solid #dddddd'></td><td style='border: 1px solid #dddddd'></td><td style='border: 1px solid #dddddd'>model_type: original</td><td style='border: 1px solid #dddddd'>4a7f62cc-f564-4144-8af4-b9f53533d2cf</td><td style='border: 1px solid #dddddd'>beb08b92-539b-4f64-bc9b-4d9a66fca5eb</td><td style='border: 1px solid #dddddd'>4a85b4f0-8c32-4a6c-8e4a-518e95a224dc</td></tr><tr><td style='border: 1px solid #dddddd'>2019-07-15 14:02:30.873000+00:00</td><td style='border: 1px solid #dddddd'>f1_measure</td><td style='border: 1px solid #dddddd'>685c7c2c-5cd1-40f7-8853-af68f794d634</td><td style='border: 1px solid #dddddd'>0.5490196078431373</td><td style='border: 1px solid #dddddd'></td><td style='border: 1px solid #dddddd'></td><td style='border: 1px solid #dddddd'>model_type: original</td><td style='border: 1px solid #dddddd'>4a7f62cc-f564-4144-8af4-b9f53533d2cf</td><td style='border: 1px solid #dddddd'>beb08b92-539b-4f64-bc9b-4d9a66fca5eb</td><td style='border: 1px solid #dddddd'>4a85b4f0-8c32-4a6c-8e4a-518e95a224dc</td></tr><tr><td style='border: 1px solid #dddddd'>2019-07-15 14:02:30.873000+00:00</td><td style='border: 1px solid #dddddd'>accuracy</td><td style='border: 1px solid #dddddd'>685c7c2c-5cd1-40f7-8853-af68f794d634</td><td style='border: 1px solid #dddddd'>0.7653061224489796</td><td style='border: 1px solid #dddddd'></td><td style='border: 1px solid #dddddd'></td><td style='border: 1px solid #dddddd'>model_type: original</td><td style='border: 1px solid #dddddd'>4a7f62cc-f564-4144-8af4-b9f53533d2cf</td><td style='border: 1px solid #dddddd'>beb08b92-539b-4f64-bc9b-4d9a66fca5eb</td><td style='border: 1px solid #dddddd'>4a85b4f0-8c32-4a6c-8e4a-518e95a224dc</td></tr><tr><td style='border: 1px solid #dddddd'>2019-07-15 14:02:30.873000+00:00</td><td style='border: 1px solid #dddddd'>log_loss</td><td style='border: 1px solid #dddddd'>685c7c2c-5cd1-40f7-8853-af68f794d634</td><td style='border: 1px solid #dddddd'>0.43181495576759354</td><td style='border: 1px solid #dddddd'></td><td style='border: 1px solid #dddddd'></td><td style='border: 1px solid #dddddd'>model_type: original</td><td style='border: 1px solid #dddddd'>4a7f62cc-f564-4144-8af4-b9f53533d2cf</td><td style='border: 1px solid #dddddd'>beb08b92-539b-4f64-bc9b-4d9a66fca5eb</td><td style='border: 1px solid #dddddd'>4a85b4f0-8c32-4a6c-8e4a-518e95a224dc</td></tr><tr><td style='border: 1px solid #dddddd'>2019-07-15 14:02:30.873000+00:00</td><td style='border: 1px solid #dddddd'>false_positive_rate</td><td style='border: 1px solid #dddddd'>685c7c2c-5cd1-40f7-8853-af68f794d634</td><td style='border: 1px solid #dddddd'>0.06153846153846154</td><td style='border: 1px solid #dddddd'></td><td style='border: 1px solid #dddddd'></td><td style='border: 1px solid #dddddd'>model_type: original</td><td style='border: 1px solid #dddddd'>4a7f62cc-f564-4144-8af4-b9f53533d2cf</td><td style='border: 1px solid #dddddd'>beb08b92-539b-4f64-bc9b-4d9a66fca5eb</td><td style='border: 1px solid #dddddd'>4a85b4f0-8c32-4a6c-8e4a-518e95a224dc</td></tr><tr><td style='border: 1px solid #dddddd'>2019-07-15 14:02:30.873000+00:00</td><td style='border: 1px solid #dddddd'>area_under_pr</td><td style='border: 1px solid #dddddd'>685c7c2c-5cd1-40f7-8853-af68f794d634</td><td style='border: 1px solid #dddddd'>0.6508108293822579</td><td style='border: 1px solid #dddddd'></td><td style='border: 1px solid #dddddd'></td><td style='border: 1px solid #dddddd'>model_type: original</td><td style='border: 1px solid #dddddd'>4a7f62cc-f564-4144-8af4-b9f53533d2cf</td><td style='border: 1px solid #dddddd'>beb08b92-539b-4f64-bc9b-4d9a66fca5eb</td><td style='border: 1px solid #dddddd'>4a85b4f0-8c32-4a6c-8e4a-518e95a224dc</td></tr><tr><td style='border: 1px solid #dddddd'>2019-07-15 14:02:30.873000+00:00</td><td style='border: 1px solid #dddddd'>recall</td><td style='border: 1px solid #dddddd'>685c7c2c-5cd1-40f7-8853-af68f794d634</td><td style='border: 1px solid #dddddd'>0.42424242424242425</td><td style='border: 1px solid #dddddd'></td><td style='border: 1px solid #dddddd'></td><td style='border: 1px solid #dddddd'>model_type: original</td><td style='border: 1px solid #dddddd'>4a7f62cc-f564-4144-8af4-b9f53533d2cf</td><td style='border: 1px solid #dddddd'>beb08b92-539b-4f64-bc9b-4d9a66fca5eb</td><td style='border: 1px solid #dddddd'>4a85b4f0-8c32-4a6c-8e4a-518e95a224dc</td></tr>\n",
       "            </table>\n",
       "        </body>\n",
       "        </HTML>"
      ],
      "text/plain": [
       "<IPython.core.display.HTML object>"
      ]
     },
     "metadata": {},
     "output_type": "display_data"
    }
   ],
   "source": [
    "subscription.quality_monitoring.show_table()"
   ]
  },
  {
   "cell_type": "code",
   "execution_count": null,
   "metadata": {
    "scrolled": true
   },
   "outputs": [],
   "source": [
    "#subscription.quality_monitoring._get_data_from_rest_api()"
   ]
  },
  {
   "cell_type": "code",
   "execution_count": 48,
   "metadata": {
    "scrolled": true
   },
   "outputs": [
    {
     "data": {
      "text/plain": [
       "{'deployment_metrics': [{'asset': {'asset_id': 'beb08b92-539b-4f64-bc9b-4d9a66fca5eb',\n",
       "    'asset_type': 'model',\n",
       "    'created_at': '2019-07-15T13:40:33.099Z',\n",
       "    'name': 'Spark German Risk Model - Final',\n",
       "    'url': 'https://us-south.ml.cloud.ibm.com/v3/wml_instances/4a7f62cc-f564-4144-8af4-b9f53533d2cf/published_models/beb08b92-539b-4f64-bc9b-4d9a66fca5eb'},\n",
       "   'deployment': {'created_at': '2019-07-15T13:40:33.128Z',\n",
       "    'deployment_id': '4a85b4f0-8c32-4a6c-8e4a-518e95a224dc',\n",
       "    'deployment_rn': '',\n",
       "    'deployment_type': 'online',\n",
       "    'name': 'Spark German Risk Deployment - Final',\n",
       "    'scoring_endpoint': {'request_headers': {'Content-Type': 'application/json'},\n",
       "     'url': 'https://us-south.ml.cloud.ibm.com/v3/wml_instances/4a7f62cc-f564-4144-8af4-b9f53533d2cf/deployments/4a85b4f0-8c32-4a6c-8e4a-518e95a224dc/online'},\n",
       "    'url': 'https://us-south.ml.cloud.ibm.com/v3/wml_instances/4a7f62cc-f564-4144-8af4-b9f53533d2cf/deployments/4a85b4f0-8c32-4a6c-8e4a-518e95a224dc'},\n",
       "   'metrics': [{'issues': 0,\n",
       "     'metric_type': 'performance',\n",
       "     'timestamp': '2019-07-15T13:50:13.903Z',\n",
       "     'value': {'records': 8, 'response_time': 233.0}},\n",
       "    {'issues': 1,\n",
       "     'metric_type': 'quality',\n",
       "     'timestamp': '2019-07-15T14:02:30.873Z',\n",
       "     'value': {'metrics': [{'name': 'true_positive_rate',\n",
       "        'value': 0.42424242424242425},\n",
       "       {'name': 'area_under_roc', 'value': 0.6813519813519814},\n",
       "       {'name': 'precision', 'value': 0.7777777777777778},\n",
       "       {'name': 'f1_measure', 'value': 0.5490196078431373},\n",
       "       {'name': 'accuracy', 'value': 0.7653061224489796},\n",
       "       {'name': 'log_loss', 'value': 0.43181495576759354},\n",
       "       {'name': 'false_positive_rate', 'value': 0.06153846153846154},\n",
       "       {'name': 'area_under_pr', 'value': 0.6508108293822579},\n",
       "       {'name': 'recall', 'value': 0.42424242424242425}],\n",
       "      'quality': 0.6813519813519814,\n",
       "      'threshold': 0.7}}],\n",
       "   'subscription': {'subscription_id': 'beb08b92-539b-4f64-bc9b-4d9a66fca5eb',\n",
       "    'url': '/v1/data_marts/f94e20cb-aa92-4636-97ce-08de6b714d02/service_bindings/4a7f62cc-f564-4144-8af4-b9f53533d2cf/subscriptions/beb08b92-539b-4f64-bc9b-4d9a66fca5eb'}}]}"
      ]
     },
     "execution_count": 48,
     "metadata": {},
     "output_type": "execute_result"
    }
   ],
   "source": [
    "ai_client.data_mart.get_deployment_metrics()"
   ]
  },
  {
   "cell_type": "markdown",
   "metadata": {},
   "source": [
    "## Fairness monitoring"
   ]
  },
  {
   "cell_type": "code",
   "execution_count": 49,
   "metadata": {
    "scrolled": true
   },
   "outputs": [],
   "source": [
    "subscription.fairness_monitoring.enable(\n",
    "            features=[\n",
    "                Feature(\"Sex\", majority=['male'], minority=['female'], threshold=0.95),\n",
    "                Feature(\"Age\", majority=[[26,75]], minority=[[18,25]], threshold=0.95)\n",
    "            ],\n",
    "            favourable_classes=['No Risk'],\n",
    "            unfavourable_classes=['Risk'],\n",
    "            min_records=1000,\n",
    "            training_data=pd_data\n",
    "        )"
   ]
  },
  {
   "cell_type": "markdown",
   "metadata": {},
   "source": [
    "## Score the model again now that monitoring is configured"
   ]
  },
  {
   "cell_type": "code",
   "execution_count": 50,
   "metadata": {},
   "outputs": [
    {
     "name": "stdout",
     "output_type": "stream",
     "text": [
      "rm: cannot remove 'german_credit_feed.json': No such file or directory\n",
      "--2019-07-15 14:03:34--  https://raw.githubusercontent.com/IBM/monitor-wml-model-with-watson-openscale/master/data/german_credit_feed.json\n",
      "Resolving raw.githubusercontent.com (raw.githubusercontent.com)... 151.101.48.133\n",
      "Connecting to raw.githubusercontent.com (raw.githubusercontent.com)|151.101.48.133|:443... connected.\n",
      "HTTP request sent, awaiting response... 200 OK\n",
      "Length: 3076547 (2.9M) [text/plain]\n",
      "Saving to: 'german_credit_feed.json'\n",
      "\n",
      "german_credit_feed. 100%[===================>]   2.93M  --.-KB/s    in 0.06s   \n",
      "\n",
      "2019-07-15 14:03:35 (49.8 MB/s) - 'german_credit_feed.json' saved [3076547/3076547]\n",
      "\n"
     ]
    }
   ],
   "source": [
    "!rm german_credit_feed.json\n",
    "!wget https://raw.githubusercontent.com/IBM/monitor-wml-model-with-watson-openscale/master/data/german_credit_feed.json"
   ]
  },
  {
   "cell_type": "markdown",
   "metadata": {},
   "source": [
    "Score 1000 randomly chosen records"
   ]
  },
  {
   "cell_type": "code",
   "execution_count": 51,
   "metadata": {},
   "outputs": [
    {
     "name": "stdout",
     "output_type": "stream",
     "text": [
      "{'values': [['less_0', 11, 'no_credits', 'car_new', 250, 'less_100', '1_to_4', 1, 'male', 'none', 1, 'real_estate', 19, 'stores', 'own', 1, 'unskilled', 1, 'none', 'yes', 1.0, 4.0, 0.0, 0.0, 0.0, 0.0, 1.0, 1.0, 0.0, 0.0, 2.0, 0.0, 0.0, [1.0, 4.0, 0.0, 0.0, 0.0, 0.0, 0.0, 2.0, 1.0, 0.0, 1.0, 0.0, 0.0, 11.0, 250.0, 1.0, 1.0, 11.0, 19.0, 1.0, 1.0], [19.32447867792109, 0.6755213220789128], [0.9662239338960543, 0.03377606610394564], 0.0, 'No Risk'], ['no_checking', 30, 'outstanding_credit', 'repairs', 5294, '500_to_1000', '4_to_7', 5, 'male', 'none', 5, 'unknown', 58, 'stores', 'free', 2, 'unskilled', 2, 'yes', 'yes', 0.0, 2.0, 1.0, 2.0, 0.0, 2.0, 1.0, 1.0, 5.0, 0.0, 3.0, 0.0, 1.0, [0.0, 2.0, 5.0, 2.0, 1.0, 0.0, 0.0, 3.0, 1.0, 2.0, 1.0, 1.0, 0.0, 30.0, 5294.0, 5.0, 5.0, 30.0, 58.0, 2.0, 2.0], [5.393858542043912, 14.606141457956088], [0.2696929271021956, 0.7303070728978044], 1.0, 'Risk'], ['0_to_200', 30, 'outstanding_credit', 'appliances', 4448, 'unknown', 'greater_7', 3, 'male', 'none', 2, 'unknown', 31, 'stores', 'own', 2, 'skilled', 1, 'none', 'yes', 2.0, 2.0, 2.0, 4.0, 0.0, 0.0, 1.0, 0.0, 4.0, 0.0, 3.0, 0.0, 0.0, [2.0, 2.0, 4.0, 4.0, 2.0, 0.0, 0.0, 3.0, 1.0, 0.0, 0.0, 0.0, 0.0, 30.0, 4448.0, 3.0, 2.0, 30.0, 31.0, 2.0, 1.0], [12.590026855043059, 7.409973144956941], [0.629501342752153, 0.37049865724784703], 0.0, 'No Risk'], ['less_0', 13, 'all_credits_paid_back', 'car_new', 1759, 'less_100', 'less_1', 1, 'female', 'none', 1, 'real_estate', 31, 'stores', 'own', 1, 'skilled', 1, 'none', 'yes', 1.0, 3.0, 3.0, 0.0, 0.0, 0.0, 1.0, 0.0, 0.0, 0.0, 2.0, 1.0, 0.0, [1.0, 3.0, 0.0, 0.0, 3.0, 1.0, 0.0, 2.0, 1.0, 0.0, 0.0, 0.0, 0.0, 13.0, 1759.0, 1.0, 1.0, 13.0, 31.0, 1.0, 1.0], [19.304848839457858, 0.6951511605421421], [0.9652424419728929, 0.0347575580271071], 0.0, 'No Risk'], ['less_0', 4, 'prior_payments_delayed', 'car_used', 1602, 'less_100', 'less_1', 2, 'male', 'none', 2, 'savings_insurance', 27, 'none', 'own', 1, 'management_self-employed', 1, 'none', 'yes', 1.0, 0.0, 3.0, 0.0, 0.0, 0.0, 0.0, 2.0, 2.0, 0.0, 0.0, 0.0, 0.0, [21, [0, 2, 4, 10, 13, 14, 15, 16, 17, 18, 19, 20], [1.0, 2.0, 3.0, 2.0, 4.0, 1602.0, 2.0, 2.0, 4.0, 27.0, 1.0, 1.0]], [18.57737097982272, 1.422629020177283], [0.9288685489911359, 0.07113145100886414], 0.0, 'No Risk'], ['less_0', 25, 'outstanding_credit', 'appliances', 2364, '100_to_500', '4_to_7', 3, 'male', 'none', 2, 'unknown', 35, 'bank', 'own', 1, 'unemployed', 1, 'yes', 'yes', 1.0, 2.0, 1.0, 1.0, 0.0, 0.0, 2.0, 3.0, 4.0, 0.0, 3.0, 0.0, 1.0, [1.0, 2.0, 4.0, 1.0, 1.0, 0.0, 0.0, 3.0, 2.0, 0.0, 3.0, 1.0, 0.0, 25.0, 2364.0, 3.0, 2.0, 25.0, 35.0, 1.0, 1.0], [14.568768613291933, 5.431231386708066], [0.7284384306645967, 0.2715615693354033], 0.0, 'No Risk'], ['no_checking', 34, 'prior_payments_delayed', 'radio_tv', 2177, '500_to_1000', '4_to_7', 4, 'male', 'none', 3, 'real_estate', 24, 'none', 'own', 1, 'skilled', 2, 'none', 'yes', 0.0, 0.0, 1.0, 2.0, 0.0, 0.0, 0.0, 0.0, 3.0, 0.0, 2.0, 0.0, 0.0, [21, [2, 3, 4, 7, 13, 14, 15, 16, 17, 18, 19, 20], [3.0, 2.0, 1.0, 2.0, 34.0, 2177.0, 4.0, 3.0, 34.0, 24.0, 1.0, 2.0]], [13.257432480461052, 6.742567519538948], [0.6628716240230526, 0.3371283759769474], 0.0, 'No Risk'], ['0_to_200', 16, 'prior_payments_delayed', 'education', 2704, '100_to_500', '1_to_4', 3, 'male', 'none', 3, 'savings_insurance', 42, 'none', 'own', 2, 'skilled', 1, 'yes', 'yes', 2.0, 0.0, 0.0, 1.0, 0.0, 0.0, 0.0, 0.0, 7.0, 0.0, 0.0, 0.0, 1.0, [21, [0, 2, 3, 11, 13, 14, 15, 16, 17, 18, 19, 20], [2.0, 7.0, 1.0, 1.0, 16.0, 2704.0, 3.0, 3.0, 16.0, 42.0, 2.0, 1.0]], [13.980764782642654, 6.019235217357344], [0.6990382391321328, 0.30096176086786725], 0.0, 'No Risk'], ['no_checking', 27, 'prior_payments_delayed', 'car_used', 4913, '100_to_500', '1_to_4', 4, 'male', 'none', 5, 'unknown', 41, 'none', 'own', 1, 'management_self-employed', 1, 'yes', 'yes', 0.0, 0.0, 0.0, 1.0, 0.0, 0.0, 0.0, 2.0, 2.0, 0.0, 3.0, 0.0, 1.0, [0.0, 0.0, 2.0, 1.0, 0.0, 0.0, 0.0, 3.0, 0.0, 0.0, 2.0, 1.0, 0.0, 27.0, 4913.0, 4.0, 5.0, 27.0, 41.0, 1.0, 1.0], [11.778509337364623, 8.221490662635377], [0.5889254668682311, 0.41107453313176884], 0.0, 'No Risk'], ['less_0', 19, 'credits_paid_to_date', 'car_new', 864, 'less_100', '4_to_7', 3, 'female', 'none', 2, 'savings_insurance', 37, 'stores', 'own', 2, 'skilled', 1, 'none', 'yes', 1.0, 1.0, 1.0, 0.0, 0.0, 0.0, 1.0, 0.0, 0.0, 0.0, 0.0, 1.0, 0.0, [1.0, 1.0, 0.0, 0.0, 1.0, 1.0, 0.0, 0.0, 1.0, 0.0, 0.0, 0.0, 0.0, 19.0, 864.0, 3.0, 2.0, 19.0, 37.0, 2.0, 1.0], [15.219714390052872, 4.780285609947128], [0.7609857195026436, 0.23901428049735637], 0.0, 'No Risk'], ['greater_200', 23, 'credits_paid_to_date', 'radio_tv', 3114, 'less_100', '4_to_7', 2, 'male', 'none', 3, 'car_other', 43, 'none', 'own', 2, 'skilled', 1, 'none', 'yes', 3.0, 1.0, 1.0, 0.0, 0.0, 0.0, 0.0, 0.0, 3.0, 0.0, 1.0, 0.0, 0.0, [3.0, 1.0, 3.0, 0.0, 1.0, 0.0, 0.0, 1.0, 0.0, 0.0, 0.0, 0.0, 0.0, 23.0, 3114.0, 2.0, 3.0, 23.0, 43.0, 2.0, 1.0], [12.887561346522617, 7.11243865347738], [0.6443780673261309, 0.35562193267386905], 0.0, 'No Risk'], ['no_checking', 51, 'outstanding_credit', 'radio_tv', 6780, 'unknown', 'greater_7', 5, 'male', 'co-applicant', 4, 'car_other', 43, 'none', 'own', 3, 'skilled', 2, 'yes', 'yes', 0.0, 2.0, 2.0, 4.0, 0.0, 0.0, 0.0, 0.0, 3.0, 1.0, 1.0, 0.0, 1.0, [0.0, 2.0, 3.0, 4.0, 2.0, 0.0, 1.0, 1.0, 0.0, 0.0, 0.0, 1.0, 0.0, 51.0, 6780.0, 5.0, 4.0, 51.0, 43.0, 3.0, 2.0], [3.84740735964561, 16.15259264035439], [0.19237036798228052, 0.8076296320177194], 1.0, 'Risk'], ['0_to_200', 32, 'credits_paid_to_date', 'appliances', 2995, '100_to_500', '1_to_4', 2, 'female', 'none', 3, 'real_estate', 29, 'bank', 'own', 1, 'unemployed', 1, 'yes', 'yes', 2.0, 1.0, 0.0, 1.0, 0.0, 0.0, 2.0, 3.0, 4.0, 0.0, 2.0, 1.0, 1.0, [2.0, 1.0, 4.0, 1.0, 0.0, 1.0, 0.0, 2.0, 2.0, 0.0, 3.0, 1.0, 0.0, 32.0, 2995.0, 2.0, 3.0, 32.0, 29.0, 1.0, 1.0], [16.404038359991382, 3.595961640008614], [0.8202019179995693, 0.17979808200043074], 0.0, 'No Risk'], ['no_checking', 23, 'outstanding_credit', 'business', 2817, '500_to_1000', '1_to_4', 4, 'male', 'none', 4, 'savings_insurance', 35, 'none', 'own', 1, 'management_self-employed', 1, 'yes', 'yes', 0.0, 2.0, 0.0, 2.0, 0.0, 0.0, 0.0, 2.0, 9.0, 0.0, 0.0, 0.0, 1.0, [0.0, 2.0, 9.0, 2.0, 0.0, 0.0, 0.0, 0.0, 0.0, 0.0, 2.0, 1.0, 0.0, 23.0, 2817.0, 4.0, 4.0, 23.0, 35.0, 1.0, 1.0], [13.8420439122468, 6.157956087753201], [0.69210219561234, 0.30789780438766], 0.0, 'No Risk'], ['0_to_200', 13, 'credits_paid_to_date', 'car_new', 2874, '500_to_1000', '1_to_4', 3, 'female', 'none', 2, 'savings_insurance', 32, 'bank', 'rent', 2, 'unemployed', 1, 'none', 'yes', 2.0, 1.0, 0.0, 2.0, 0.0, 1.0, 2.0, 3.0, 0.0, 0.0, 0.0, 1.0, 0.0, [2.0, 1.0, 0.0, 2.0, 0.0, 1.0, 0.0, 0.0, 2.0, 1.0, 3.0, 0.0, 0.0, 13.0, 2874.0, 3.0, 2.0, 13.0, 32.0, 2.0, 1.0], [16.565774689296028, 3.4342253107039715], [0.8282887344648013, 0.17171126553519858], 0.0, 'No Risk'], ['greater_200', 16, 'credits_paid_to_date', 'furniture', 741, '100_to_500', '4_to_7', 2, 'male', 'none', 2, 'real_estate', 25, 'none', 'own', 1, 'skilled', 1, 'none', 'yes', 3.0, 1.0, 1.0, 1.0, 0.0, 0.0, 0.0, 0.0, 1.0, 0.0, 2.0, 0.0, 0.0, [3.0, 1.0, 1.0, 1.0, 1.0, 0.0, 0.0, 2.0, 0.0, 0.0, 0.0, 0.0, 0.0, 16.0, 741.0, 2.0, 2.0, 16.0, 25.0, 1.0, 1.0], [18.2954290499431, 1.7045709500569028], [0.914771452497155, 0.08522854750284514], 0.0, 'No Risk'], ['less_0', 20, 'no_credits', 'car_new', 250, 'less_100', '1_to_4', 2, 'male', 'none', 1, 'real_estate', 34, 'stores', 'own', 1, 'skilled', 1, 'none', 'yes', 1.0, 4.0, 0.0, 0.0, 0.0, 0.0, 1.0, 0.0, 0.0, 0.0, 2.0, 0.0, 0.0, [21, [0, 1, 7, 8, 13, 14, 15, 16, 17, 18, 19, 20], [1.0, 4.0, 2.0, 1.0, 20.0, 250.0, 2.0, 1.0, 20.0, 34.0, 1.0, 1.0]], [18.180142058421634, 1.8198579415783676], [0.9090071029210817, 0.09099289707891837], 0.0, 'No Risk'], ['less_0', 22, 'credits_paid_to_date', 'furniture', 2316, 'less_100', '4_to_7', 2, 'female', 'none', 1, 'car_other', 39, 'stores', 'own', 2, 'unskilled', 1, 'none', 'yes', 1.0, 1.0, 1.0, 0.0, 0.0, 0.0, 1.0, 1.0, 1.0, 0.0, 1.0, 1.0, 0.0, [1.0, 1.0, 1.0, 0.0, 1.0, 1.0, 0.0, 1.0, 1.0, 0.0, 1.0, 0.0, 0.0, 22.0, 2316.0, 2.0, 1.0, 22.0, 39.0, 2.0, 1.0], [14.363990659101379, 5.63600934089862], [0.718199532955069, 0.281800467044931], 0.0, 'No Risk'], ['0_to_200', 21, 'credits_paid_to_date', 'radio_tv', 3177, 'less_100', '4_to_7', 2, 'male', 'none', 3, 'car_other', 40, 'none', 'own', 1, 'skilled', 1, 'none', 'yes', 2.0, 1.0, 1.0, 0.0, 0.0, 0.0, 0.0, 0.0, 3.0, 0.0, 1.0, 0.0, 0.0, [2.0, 1.0, 3.0, 0.0, 1.0, 0.0, 0.0, 1.0, 0.0, 0.0, 0.0, 0.0, 0.0, 21.0, 3177.0, 2.0, 3.0, 21.0, 40.0, 1.0, 1.0], [13.278171154277524, 6.721828845722474], [0.6639085577138762, 0.3360914422861237], 0.0, 'No Risk'], ['less_0', 24, 'all_credits_paid_back', 'retraining', 1028, 'less_100', 'less_1', 3, 'female', 'none', 2, 'car_other', 24, 'none', 'own', 1, 'skilled', 1, 'none', 'yes', 1.0, 3.0, 3.0, 0.0, 0.0, 0.0, 0.0, 0.0, 8.0, 0.0, 1.0, 1.0, 0.0, [1.0, 3.0, 8.0, 0.0, 3.0, 1.0, 0.0, 1.0, 0.0, 0.0, 0.0, 0.0, 0.0, 24.0, 1028.0, 3.0, 2.0, 24.0, 24.0, 1.0, 1.0], [17.317128354841, 2.6828716451589982], [0.8658564177420501, 0.13414358225794992], 0.0, 'No Risk'], ['greater_200', 45, 'prior_payments_delayed', 'repairs', 2783, 'greater_1000', 'greater_7', 5, 'male', 'none', 4, 'savings_insurance', 28, 'none', 'own', 1, 'skilled', 1, 'none', 'yes', 3.0, 0.0, 2.0, 3.0, 0.0, 0.0, 0.0, 0.0, 5.0, 0.0, 0.0, 0.0, 0.0, [21, [0, 2, 3, 4, 13, 14, 15, 16, 17, 18, 19, 20], [3.0, 5.0, 3.0, 2.0, 45.0, 2783.0, 5.0, 4.0, 45.0, 28.0, 1.0, 1.0]], [12.623600260263775, 7.376399739736225], [0.6311800130131887, 0.3688199869868113], 0.0, 'No Risk'], ['no_checking', 23, 'prior_payments_delayed', 'radio_tv', 5093, 'unknown', '1_to_4', 3, 'male', 'none', 4, 'car_other', 54, 'bank', 'own', 2, 'unemployed', 1, 'yes', 'yes', 0.0, 0.0, 0.0, 4.0, 0.0, 0.0, 2.0, 3.0, 3.0, 0.0, 1.0, 0.0, 1.0, [0.0, 0.0, 3.0, 4.0, 0.0, 0.0, 0.0, 1.0, 2.0, 0.0, 3.0, 1.0, 0.0, 23.0, 5093.0, 3.0, 4.0, 23.0, 54.0, 2.0, 1.0], [12.339295354246985, 7.660704645753017], [0.6169647677123492, 0.3830352322876508], 0.0, 'No Risk'], ['0_to_200', 11, 'credits_paid_to_date', 'furniture', 250, 'less_100', 'unemployed', 2, 'female', 'co-applicant', 2, 'real_estate', 27, 'stores', 'own', 2, 'unskilled', 1, 'yes', 'yes', 2.0, 1.0, 4.0, 0.0, 0.0, 0.0, 1.0, 1.0, 1.0, 1.0, 2.0, 1.0, 1.0, [2.0, 1.0, 1.0, 0.0, 4.0, 1.0, 1.0, 2.0, 1.0, 0.0, 1.0, 1.0, 0.0, 11.0, 250.0, 2.0, 2.0, 11.0, 27.0, 2.0, 1.0], [17.24580575919713, 2.754194240802871], [0.8622902879598564, 0.13770971204014354], 0.0, 'No Risk'], ['0_to_200', 4, 'all_credits_paid_back', 'car_new', 2729, 'less_100', 'less_1', 3, 'male', 'none', 3, 'savings_insurance', 28, 'none', 'own', 1, 'skilled', 1, 'none', 'yes', 2.0, 3.0, 3.0, 0.0, 0.0, 0.0, 0.0, 0.0, 0.0, 0.0, 0.0, 0.0, 0.0, [21, [0, 1, 4, 13, 14, 15, 16, 17, 18, 19, 20], [2.0, 3.0, 3.0, 4.0, 2729.0, 3.0, 3.0, 4.0, 28.0, 1.0, 1.0]], [19.062806749490292, 0.9371932505097091], [0.9531403374745147, 0.04685966252548546], 0.0, 'No Risk'], ['0_to_200', 6, 'all_credits_paid_back', 'education', 438, '100_to_500', 'less_1', 3, 'female', 'none', 3, 'savings_insurance', 30, 'none', 'rent', 2, 'skilled', 1, 'none', 'yes', 2.0, 3.0, 3.0, 1.0, 0.0, 1.0, 0.0, 0.0, 7.0, 0.0, 0.0, 1.0, 0.0, [2.0, 3.0, 7.0, 1.0, 3.0, 1.0, 0.0, 0.0, 0.0, 1.0, 0.0, 0.0, 0.0, 6.0, 438.0, 3.0, 3.0, 6.0, 30.0, 2.0, 1.0], [17.532440352809147, 2.467559647190849], [0.8766220176404574, 0.12337798235954248], 0.0, 'No Risk'], ['less_0', 15, 'credits_paid_to_date', 'car_used', 1244, 'less_100', '1_to_4', 1, 'female', 'none', 1, 'savings_insurance', 24, 'stores', 'own', 1, 'skilled', 1, 'none', 'yes', 1.0, 1.0, 0.0, 0.0, 0.0, 0.0, 1.0, 0.0, 2.0, 0.0, 0.0, 1.0, 0.0, [1.0, 1.0, 2.0, 0.0, 0.0, 1.0, 0.0, 0.0, 1.0, 0.0, 0.0, 0.0, 0.0, 15.0, 1244.0, 1.0, 1.0, 15.0, 24.0, 1.0, 1.0], [18.399679885577434, 1.600320114422568], [0.9199839942788716, 0.0800160057211284], 0.0, 'No Risk'], ['less_0', 4, 'all_credits_paid_back', 'car_used', 250, 'less_100', 'unemployed', 1, 'female', 'none', 1, 'real_estate', 19, 'none', 'rent', 1, 'skilled', 1, 'none', 'yes', 1.0, 3.0, 4.0, 0.0, 0.0, 1.0, 0.0, 0.0, 2.0, 0.0, 2.0, 1.0, 0.0, [1.0, 3.0, 2.0, 0.0, 4.0, 1.0, 0.0, 2.0, 0.0, 1.0, 0.0, 0.0, 0.0, 4.0, 250.0, 1.0, 1.0, 4.0, 19.0, 1.0, 1.0], [19.545874301975502, 0.45412569802450037], [0.9772937150987749, 0.022706284901225015], 0.0, 'No Risk'], ['no_checking', 9, 'credits_paid_to_date', 'car_new', 3160, '500_to_1000', 'less_1', 2, 'female', 'none', 2, 'savings_insurance', 33, 'none', 'own', 2, 'skilled', 1, 'yes', 'no', 0.0, 1.0, 3.0, 2.0, 1.0, 0.0, 0.0, 0.0, 0.0, 0.0, 0.0, 1.0, 1.0, [0.0, 1.0, 0.0, 2.0, 3.0, 1.0, 0.0, 0.0, 0.0, 0.0, 0.0, 1.0, 1.0, 9.0, 3160.0, 2.0, 2.0, 9.0, 33.0, 2.0, 1.0], [15.458770533776104, 4.5412294662238955], [0.7729385266888051, 0.22706147331119478], 0.0, 'No Risk'], ['0_to_200', 12, 'all_credits_paid_back', 'appliances', 1164, 'less_100', '1_to_4', 2, 'male', 'none', 2, 'real_estate', 26, 'none', 'own', 1, 'skilled', 1, 'none', 'yes', 2.0, 3.0, 0.0, 0.0, 0.0, 0.0, 0.0, 0.0, 4.0, 0.0, 2.0, 0.0, 0.0, [21, [0, 1, 2, 7, 13, 14, 15, 16, 17, 18, 19, 20], [2.0, 3.0, 4.0, 2.0, 12.0, 1164.0, 2.0, 2.0, 12.0, 26.0, 1.0, 1.0]], [19.115982668822205, 0.8840173311777973], [0.9557991334411101, 0.044200866558889856], 0.0, 'No Risk'], ['no_checking', 41, 'prior_payments_delayed', 'repairs', 4928, '500_to_1000', 'greater_7', 5, 'male', 'none', 3, 'unknown', 43, 'none', 'free', 2, 'skilled', 2, 'yes', 'yes', 0.0, 0.0, 2.0, 2.0, 0.0, 2.0, 0.0, 0.0, 5.0, 0.0, 3.0, 0.0, 1.0, [0.0, 0.0, 5.0, 2.0, 2.0, 0.0, 0.0, 3.0, 0.0, 2.0, 0.0, 1.0, 0.0, 41.0, 4928.0, 5.0, 3.0, 41.0, 43.0, 2.0, 2.0], [7.103517395119963, 12.896482604880038], [0.35517586975599813, 0.6448241302440019], 1.0, 'Risk'], ['no_checking', 33, 'outstanding_credit', 'other', 4997, 'greater_1000', 'greater_7', 5, 'male', 'none', 3, 'unknown', 60, 'stores', 'own', 3, 'unskilled', 2, 'yes', 'yes', 0.0, 2.0, 2.0, 3.0, 0.0, 0.0, 1.0, 1.0, 10.0, 0.0, 3.0, 0.0, 1.0, [0.0, 2.0, 10.0, 3.0, 2.0, 0.0, 0.0, 3.0, 1.0, 0.0, 1.0, 1.0, 0.0, 33.0, 4997.0, 5.0, 3.0, 33.0, 60.0, 3.0, 2.0], [5.197060310395373, 14.802939689604628], [0.25985301551976864, 0.7401469844802314], 1.0, 'Risk'], ['0_to_200', 13, 'credits_paid_to_date', 'retraining', 250, '100_to_500', '1_to_4', 1, 'female', 'none', 1, 'real_estate', 37, 'bank', 'rent', 1, 'unemployed', 1, 'none', 'yes', 2.0, 1.0, 0.0, 1.0, 0.0, 1.0, 2.0, 3.0, 8.0, 0.0, 2.0, 1.0, 0.0, [2.0, 1.0, 8.0, 1.0, 0.0, 1.0, 0.0, 2.0, 2.0, 1.0, 3.0, 0.0, 0.0, 13.0, 250.0, 1.0, 1.0, 13.0, 37.0, 1.0, 1.0], [18.20615839164607, 1.793841608353929], [0.9103079195823035, 0.08969208041769645], 0.0, 'No Risk'], ['0_to_200', 18, 'prior_payments_delayed', 'car_used', 3201, '100_to_500', 'greater_7', 4, 'male', 'none', 3, 'unknown', 40, 'none', 'own', 2, 'skilled', 1, 'yes', 'yes', 2.0, 0.0, 2.0, 1.0, 0.0, 0.0, 0.0, 0.0, 2.0, 0.0, 3.0, 0.0, 1.0, [2.0, 0.0, 2.0, 1.0, 2.0, 0.0, 0.0, 3.0, 0.0, 0.0, 0.0, 1.0, 0.0, 18.0, 3201.0, 4.0, 3.0, 18.0, 40.0, 2.0, 1.0], [10.639850404210797, 9.360149595789203], [0.5319925202105399, 0.4680074797894601], 0.0, 'No Risk'], ['no_checking', 28, 'prior_payments_delayed', 'furniture', 4772, '100_to_500', '4_to_7', 4, 'female', 'none', 4, 'savings_insurance', 45, 'none', 'own', 2, 'skilled', 1, 'none', 'yes', 0.0, 0.0, 1.0, 1.0, 0.0, 0.0, 0.0, 0.0, 1.0, 0.0, 0.0, 1.0, 0.0, [21, [2, 3, 4, 5, 13, 14, 15, 16, 17, 18, 19, 20], [1.0, 1.0, 1.0, 1.0, 28.0, 4772.0, 4.0, 4.0, 28.0, 45.0, 2.0, 1.0]], [8.515297328866808, 11.484702671133192], [0.4257648664433404, 0.5742351335566596], 1.0, 'Risk'], ['no_checking', 30, 'outstanding_credit', 'appliances', 5574, 'greater_1000', '4_to_7', 4, 'male', 'none', 5, 'unknown', 40, 'none', 'own', 1, 'management_self-employed', 1, 'yes', 'yes', 0.0, 2.0, 1.0, 3.0, 0.0, 0.0, 0.0, 2.0, 4.0, 0.0, 3.0, 0.0, 1.0, [0.0, 2.0, 4.0, 3.0, 1.0, 0.0, 0.0, 3.0, 0.0, 0.0, 2.0, 1.0, 0.0, 30.0, 5574.0, 4.0, 5.0, 30.0, 40.0, 1.0, 1.0], [8.769740408877524, 11.230259591122476], [0.4384870204438762, 0.5615129795561238], 1.0, 'Risk'], ['no_checking', 36, 'prior_payments_delayed', 'repairs', 4965, '500_to_1000', 'greater_7', 4, 'female', 'guarantor', 3, 'car_other', 55, 'none', 'free', 1, 'skilled', 1, 'yes', 'yes', 0.0, 0.0, 2.0, 2.0, 0.0, 2.0, 0.0, 0.0, 5.0, 2.0, 1.0, 1.0, 1.0, [0.0, 0.0, 5.0, 2.0, 2.0, 1.0, 2.0, 1.0, 0.0, 2.0, 0.0, 1.0, 0.0, 36.0, 4965.0, 4.0, 3.0, 36.0, 55.0, 1.0, 1.0], [3.970167981357981, 16.02983201864202], [0.19850839906789905, 0.8014916009321009], 1.0, 'Risk'], ['no_checking', 32, 'prior_payments_delayed', 'radio_tv', 5115, 'greater_1000', 'greater_7', 5, 'male', 'none', 5, 'car_other', 58, 'stores', 'own', 3, 'unskilled', 2, 'yes', 'yes', 0.0, 0.0, 2.0, 3.0, 0.0, 0.0, 1.0, 1.0, 3.0, 0.0, 1.0, 0.0, 1.0, [0.0, 0.0, 3.0, 3.0, 2.0, 0.0, 0.0, 1.0, 1.0, 0.0, 1.0, 1.0, 0.0, 32.0, 5115.0, 5.0, 5.0, 32.0, 58.0, 3.0, 2.0], [6.910647540500198, 13.089352459499802], [0.34553237702500994, 0.6544676229749901], 1.0, 'Risk'], ['no_checking', 27, 'outstanding_credit', 'furniture', 5060, '500_to_1000', '4_to_7', 4, 'male', 'none', 3, 'car_other', 52, 'none', 'own', 1, 'skilled', 1, 'none', 'yes', 0.0, 2.0, 1.0, 2.0, 0.0, 0.0, 0.0, 0.0, 1.0, 0.0, 1.0, 0.0, 0.0, [0.0, 2.0, 1.0, 2.0, 1.0, 0.0, 0.0, 1.0, 0.0, 0.0, 0.0, 0.0, 0.0, 27.0, 5060.0, 4.0, 3.0, 27.0, 52.0, 1.0, 1.0], [9.711346821074992, 10.288653178925008], [0.4855673410537496, 0.5144326589462505], 1.0, 'Risk'], ['no_checking', 18, 'credits_paid_to_date', 'radio_tv', 1965, '100_to_500', '4_to_7', 4, 'male', 'none', 4, 'real_estate', 58, 'none', 'free', 2, 'management_self-employed', 1, 'yes', 'yes', 0.0, 1.0, 1.0, 1.0, 0.0, 2.0, 0.0, 2.0, 3.0, 0.0, 2.0, 0.0, 1.0, [0.0, 1.0, 3.0, 1.0, 1.0, 0.0, 0.0, 2.0, 0.0, 2.0, 2.0, 1.0, 0.0, 18.0, 1965.0, 4.0, 4.0, 18.0, 58.0, 2.0, 1.0], [9.520672491149718, 10.47932750885028], [0.4760336245574859, 0.523966375442514], 1.0, 'Risk'], ['less_0', 4, 'all_credits_paid_back', 'car_new', 250, '100_to_500', 'less_1', 1, 'male', 'none', 1, 'savings_insurance', 21, 'stores', 'rent', 1, 'skilled', 1, 'none', 'yes', 1.0, 3.0, 3.0, 1.0, 0.0, 1.0, 1.0, 0.0, 0.0, 0.0, 0.0, 0.0, 0.0, [1.0, 3.0, 0.0, 1.0, 3.0, 0.0, 0.0, 0.0, 1.0, 1.0, 0.0, 0.0, 0.0, 4.0, 250.0, 1.0, 1.0, 4.0, 21.0, 1.0, 1.0], [19.175363599203624, 0.8246364007963769], [0.9587681799601813, 0.041231820039818845], 0.0, 'No Risk'], ['0_to_200', 31, 'outstanding_credit', 'other', 4586, '100_to_500', 'greater_7', 4, 'male', 'none', 3, 'unknown', 41, 'stores', 'own', 2, 'unskilled', 1, 'yes', 'yes', 2.0, 2.0, 2.0, 1.0, 0.0, 0.0, 1.0, 1.0, 10.0, 0.0, 3.0, 0.0, 1.0, [2.0, 2.0, 10.0, 1.0, 2.0, 0.0, 0.0, 3.0, 1.0, 0.0, 1.0, 1.0, 0.0, 31.0, 4586.0, 4.0, 3.0, 31.0, 41.0, 2.0, 1.0], [8.966766077435905, 11.033233922564095], [0.44833830387179524, 0.5516616961282048], 1.0, 'Risk'], ['no_checking', 29, 'prior_payments_delayed', 'furniture', 4644, 'unknown', 'greater_7', 4, 'male', 'none', 5, 'car_other', 44, 'none', 'own', 2, 'skilled', 1, 'yes', 'yes', 0.0, 0.0, 2.0, 4.0, 0.0, 0.0, 0.0, 0.0, 1.0, 0.0, 1.0, 0.0, 1.0, [0.0, 0.0, 1.0, 4.0, 2.0, 0.0, 0.0, 1.0, 0.0, 0.0, 0.0, 1.0, 0.0, 29.0, 4644.0, 4.0, 5.0, 29.0, 44.0, 2.0, 1.0], [8.219822525221117, 11.780177474778883], [0.41099112626105583, 0.5890088737389442], 1.0, 'Risk'], ['0_to_200', 9, 'credits_paid_to_date', 'car_new', 1606, 'less_100', 'less_1', 2, 'female', 'none', 2, 'car_other', 19, 'bank', 'rent', 1, 'unemployed', 1, 'none', 'yes', 2.0, 1.0, 3.0, 0.0, 0.0, 1.0, 2.0, 3.0, 0.0, 0.0, 1.0, 1.0, 0.0, [2.0, 1.0, 0.0, 0.0, 3.0, 1.0, 0.0, 1.0, 2.0, 1.0, 3.0, 0.0, 0.0, 9.0, 1606.0, 2.0, 2.0, 9.0, 19.0, 1.0, 1.0], [18.499574211750737, 1.5004257882492604], [0.924978710587537, 0.07502128941246304], 0.0, 'No Risk'], ['0_to_200', 24, 'credits_paid_to_date', 'furniture', 250, 'less_100', '1_to_4', 1, 'female', 'none', 1, 'real_estate', 19, 'bank', 'rent', 1, 'unemployed', 1, 'none', 'yes', 2.0, 1.0, 0.0, 0.0, 0.0, 1.0, 2.0, 3.0, 1.0, 0.0, 2.0, 1.0, 0.0, [2.0, 1.0, 1.0, 0.0, 0.0, 1.0, 0.0, 2.0, 2.0, 1.0, 3.0, 0.0, 0.0, 24.0, 250.0, 1.0, 1.0, 24.0, 19.0, 1.0, 1.0], [17.969287425234132, 2.0307125747658694], [0.8984643712617066, 0.10153562873829347], 0.0, 'No Risk'], ['less_0', 9, 'all_credits_paid_back', 'appliances', 2985, 'less_100', 'unemployed', 1, 'male', 'none', 1, 'real_estate', 20, 'none', 'own', 1, 'skilled', 1, 'none', 'yes', 1.0, 3.0, 4.0, 0.0, 0.0, 0.0, 0.0, 0.0, 4.0, 0.0, 2.0, 0.0, 0.0, [1.0, 3.0, 4.0, 0.0, 4.0, 0.0, 0.0, 2.0, 0.0, 0.0, 0.0, 0.0, 0.0, 9.0, 2985.0, 1.0, 1.0, 9.0, 20.0, 1.0, 1.0], [19.450759663076244, 0.5492403369237558], [0.9725379831538122, 0.027462016846187792], 0.0, 'No Risk'], ['0_to_200', 30, 'credits_paid_to_date', 'appliances', 3050, '100_to_500', '1_to_4', 3, 'female', 'none', 2, 'car_other', 33, 'none', 'rent', 2, 'skilled', 1, 'none', 'yes', 2.0, 1.0, 0.0, 1.0, 0.0, 1.0, 0.0, 0.0, 4.0, 0.0, 1.0, 1.0, 0.0, [2.0, 1.0, 4.0, 1.0, 0.0, 1.0, 0.0, 1.0, 0.0, 1.0, 0.0, 0.0, 0.0, 30.0, 3050.0, 3.0, 2.0, 30.0, 33.0, 2.0, 1.0], [15.198554941481936, 4.801445058518065], [0.7599277470740968, 0.24007225292590326], 0.0, 'No Risk'], ['no_checking', 36, 'outstanding_credit', 'repairs', 6953, 'unknown', 'greater_7', 5, 'male', 'co-applicant', 5, 'car_other', 54, 'none', 'free', 3, 'management_self-employed', 2, 'yes', 'yes', 0.0, 2.0, 2.0, 4.0, 0.0, 2.0, 0.0, 2.0, 5.0, 1.0, 1.0, 0.0, 1.0, [0.0, 2.0, 5.0, 4.0, 2.0, 0.0, 1.0, 1.0, 0.0, 2.0, 2.0, 1.0, 0.0, 36.0, 6953.0, 5.0, 5.0, 36.0, 54.0, 3.0, 2.0], [1.6029738519007521, 18.397026148099247], [0.08014869259503761, 0.9198513074049623], 1.0, 'Risk'], ['0_to_200', 37, 'all_credits_paid_back', 'car_used', 1797, '500_to_1000', '4_to_7', 3, 'male', 'none', 4, 'car_other', 30, 'none', 'own', 1, 'skilled', 1, 'yes', 'yes', 2.0, 3.0, 1.0, 2.0, 0.0, 0.0, 0.0, 0.0, 2.0, 0.0, 1.0, 0.0, 1.0, [2.0, 3.0, 2.0, 2.0, 1.0, 0.0, 0.0, 1.0, 0.0, 0.0, 0.0, 1.0, 0.0, 37.0, 1797.0, 3.0, 4.0, 37.0, 30.0, 1.0, 1.0], [11.381702757655153, 8.618297242344848], [0.5690851378827577, 0.4309148621172424], 0.0, 'No Risk'], ['less_0', 22, 'prior_payments_delayed', 'furniture', 4379, 'less_100', 'greater_7', 4, 'male', 'none', 2, 'car_other', 37, 'none', 'own', 1, 'skilled', 1, 'none', 'yes', 1.0, 0.0, 2.0, 0.0, 0.0, 0.0, 0.0, 0.0, 1.0, 0.0, 1.0, 0.0, 0.0, [21, [0, 2, 4, 7, 13, 14, 15, 16, 17, 18, 19, 20], [1.0, 1.0, 2.0, 1.0, 22.0, 4379.0, 4.0, 2.0, 22.0, 37.0, 1.0, 1.0]], [15.369500829304958, 4.630499170695044], [0.7684750414652479, 0.23152495853475222], 0.0, 'No Risk'], ['less_0', 4, 'all_credits_paid_back', 'furniture', 1097, 'less_100', 'less_1', 2, 'female', 'none', 2, 'savings_insurance', 19, 'none', 'rent', 1, 'management_self-employed', 1, 'none', 'yes', 1.0, 3.0, 3.0, 0.0, 0.0, 1.0, 0.0, 2.0, 1.0, 0.0, 0.0, 1.0, 0.0, [1.0, 3.0, 1.0, 0.0, 3.0, 1.0, 0.0, 0.0, 0.0, 1.0, 2.0, 0.0, 0.0, 4.0, 1097.0, 2.0, 2.0, 4.0, 19.0, 1.0, 1.0], [19.163967420909994, 0.8360325790900032], [0.9581983710454999, 0.04180162895450017], 0.0, 'No Risk'], ['no_checking', 32, 'prior_payments_delayed', 'business', 5244, '100_to_500', '4_to_7', 4, 'male', 'none', 4, 'savings_insurance', 40, 'none', 'own', 1, 'management_self-employed', 1, 'yes', 'yes', 0.0, 0.0, 1.0, 1.0, 0.0, 0.0, 0.0, 2.0, 9.0, 0.0, 0.0, 0.0, 1.0, [0.0, 0.0, 9.0, 1.0, 1.0, 0.0, 0.0, 0.0, 0.0, 0.0, 2.0, 1.0, 0.0, 32.0, 5244.0, 4.0, 4.0, 32.0, 40.0, 1.0, 1.0], [10.474197363360139, 9.525802636639863], [0.5237098681680069, 0.47629013183199315], 0.0, 'No Risk'], ['no_checking', 34, 'prior_payments_delayed', 'appliances', 3778, '500_to_1000', '4_to_7', 4, 'male', 'none', 4, 'car_other', 46, 'none', 'own', 1, 'skilled', 1, 'none', 'yes', 0.0, 0.0, 1.0, 2.0, 0.0, 0.0, 0.0, 0.0, 4.0, 0.0, 1.0, 0.0, 0.0, [21, [2, 3, 4, 7, 13, 14, 15, 16, 17, 18, 19, 20], [4.0, 2.0, 1.0, 1.0, 34.0, 3778.0, 4.0, 4.0, 34.0, 46.0, 1.0, 1.0]], [10.180997056475013, 9.819002943524987], [0.5090498528237506, 0.49095014717624935], 0.0, 'No Risk'], ['0_to_200', 18, 'prior_payments_delayed', 'retraining', 968, 'less_100', '4_to_7', 3, 'male', 'none', 3, 'savings_insurance', 31, 'bank', 'own', 1, 'unskilled', 1, 'yes', 'yes', 2.0, 0.0, 1.0, 0.0, 0.0, 0.0, 2.0, 1.0, 8.0, 0.0, 0.0, 0.0, 1.0, [2.0, 0.0, 8.0, 0.0, 1.0, 0.0, 0.0, 0.0, 2.0, 0.0, 1.0, 1.0, 0.0, 18.0, 968.0, 3.0, 3.0, 18.0, 31.0, 1.0, 1.0], [15.126618756809588, 4.87338124319041], [0.7563309378404794, 0.2436690621595205], 0.0, 'No Risk'], ['0_to_200', 7, 'all_credits_paid_back', 'car_used', 250, 'less_100', 'unemployed', 2, 'female', 'none', 1, 'real_estate', 23, 'none', 'own', 1, 'skilled', 1, 'yes', 'yes', 2.0, 3.0, 4.0, 0.0, 0.0, 0.0, 0.0, 0.0, 2.0, 0.0, 2.0, 1.0, 1.0, [2.0, 3.0, 2.0, 0.0, 4.0, 1.0, 0.0, 2.0, 0.0, 0.0, 0.0, 1.0, 0.0, 7.0, 250.0, 2.0, 1.0, 7.0, 23.0, 1.0, 1.0], [19.145585326268417, 0.854414673731585], [0.9572792663134206, 0.04272073368657924], 0.0, 'No Risk'], ['no_checking', 9, 'credits_paid_to_date', 'car_new', 3663, 'less_100', '4_to_7', 2, 'female', 'none', 3, 'savings_insurance', 35, 'none', 'own', 1, 'skilled', 1, 'yes', 'yes', 0.0, 1.0, 1.0, 0.0, 0.0, 0.0, 0.0, 0.0, 0.0, 0.0, 0.0, 1.0, 1.0, [21, [1, 4, 5, 11, 13, 14, 15, 16, 17, 18, 19, 20], [1.0, 1.0, 1.0, 1.0, 9.0, 3663.0, 2.0, 3.0, 9.0, 35.0, 1.0, 1.0]], [12.047314831102177, 7.952685168897823], [0.6023657415551089, 0.39763425844489114], 0.0, 'No Risk'], ['greater_200', 24, 'credits_paid_to_date', 'furniture', 612, '500_to_1000', '1_to_4', 3, 'female', 'none', 3, 'real_estate', 36, 'none', 'own', 1, 'skilled', 2, 'none', 'yes', 3.0, 1.0, 0.0, 2.0, 0.0, 0.0, 0.0, 0.0, 1.0, 0.0, 2.0, 1.0, 0.0, [3.0, 1.0, 1.0, 2.0, 0.0, 1.0, 0.0, 2.0, 0.0, 0.0, 0.0, 0.0, 0.0, 24.0, 612.0, 3.0, 3.0, 24.0, 36.0, 1.0, 2.0], [16.05790785564595, 3.9420921443540484], [0.8028953927822975, 0.19710460721770243], 0.0, 'No Risk'], ['0_to_200', 28, 'credits_paid_to_date', 'radio_tv', 2347, '100_to_500', 'less_1', 3, 'male', 'none', 2, 'real_estate', 28, 'none', 'own', 1, 'management_self-employed', 1, 'none', 'yes', 2.0, 1.0, 3.0, 1.0, 0.0, 0.0, 0.0, 2.0, 3.0, 0.0, 2.0, 0.0, 0.0, [2.0, 1.0, 3.0, 1.0, 3.0, 0.0, 0.0, 2.0, 0.0, 0.0, 2.0, 0.0, 0.0, 28.0, 2347.0, 3.0, 2.0, 28.0, 28.0, 1.0, 1.0], [17.256331466896334, 2.743668533103666], [0.8628165733448168, 0.1371834266551833], 0.0, 'No Risk'], ['less_0', 29, 'credits_paid_to_date', 'radio_tv', 250, '100_to_500', '4_to_7', 3, 'male', 'none', 3, 'real_estate', 19, 'stores', 'own', 1, 'skilled', 1, 'none', 'no', 1.0, 1.0, 1.0, 1.0, 1.0, 0.0, 1.0, 0.0, 3.0, 0.0, 2.0, 0.0, 0.0, [1.0, 1.0, 3.0, 1.0, 1.0, 0.0, 0.0, 2.0, 1.0, 0.0, 0.0, 0.0, 1.0, 29.0, 250.0, 3.0, 3.0, 29.0, 19.0, 1.0, 1.0], [15.852978971871753, 4.147021028128246], [0.7926489485935877, 0.2073510514064123], 0.0, 'No Risk'], ['no_checking', 34, 'prior_payments_delayed', 'appliances', 7568, '500_to_1000', 'greater_7', 4, 'male', 'co-applicant', 5, 'unknown', 45, 'stores', 'own', 2, 'unskilled', 2, 'yes', 'yes', 0.0, 0.0, 2.0, 2.0, 0.0, 0.0, 1.0, 1.0, 4.0, 1.0, 3.0, 0.0, 1.0, [0.0, 0.0, 4.0, 2.0, 2.0, 0.0, 1.0, 3.0, 1.0, 0.0, 1.0, 1.0, 0.0, 34.0, 7568.0, 4.0, 5.0, 34.0, 45.0, 2.0, 2.0], [4.325642545022619, 15.674357454977383], [0.21628212725113097, 0.7837178727488692], 1.0, 'Risk'], ['greater_200', 29, 'prior_payments_delayed', 'car_used', 711, 'unknown', 'greater_7', 4, 'male', 'none', 4, 'real_estate', 43, 'none', 'rent', 1, 'skilled', 1, 'none', 'yes', 3.0, 0.0, 2.0, 4.0, 0.0, 1.0, 0.0, 0.0, 2.0, 0.0, 2.0, 0.0, 0.0, [3.0, 0.0, 2.0, 4.0, 2.0, 0.0, 0.0, 2.0, 0.0, 1.0, 0.0, 0.0, 0.0, 29.0, 711.0, 4.0, 4.0, 29.0, 43.0, 1.0, 1.0], [12.715286894922095, 7.284713105077904], [0.6357643447461048, 0.3642356552538952], 0.0, 'No Risk'], ['no_checking', 33, 'prior_payments_delayed', 'appliances', 6134, '500_to_1000', '1_to_4', 4, 'male', 'none', 3, 'car_other', 37, 'none', 'own', 2, 'skilled', 1, 'none', 'yes', 0.0, 0.0, 0.0, 2.0, 0.0, 0.0, 0.0, 0.0, 4.0, 0.0, 1.0, 0.0, 0.0, [21, [2, 3, 7, 13, 14, 15, 16, 17, 18, 19, 20], [4.0, 2.0, 1.0, 33.0, 6134.0, 4.0, 3.0, 33.0, 37.0, 2.0, 1.0]], [12.581677626100559, 7.41832237389944], [0.6290838813050279, 0.370916118694972], 0.0, 'No Risk'], ['less_0', 4, 'all_credits_paid_back', 'repairs', 642, 'less_100', '1_to_4', 2, 'male', 'none', 1, 'savings_insurance', 19, 'stores', 'own', 1, 'skilled', 1, 'none', 'yes', 1.0, 3.0, 0.0, 0.0, 0.0, 0.0, 1.0, 0.0, 5.0, 0.0, 0.0, 0.0, 0.0, [21, [0, 1, 2, 8, 13, 14, 15, 16, 17, 18, 19, 20], [1.0, 3.0, 5.0, 1.0, 4.0, 642.0, 2.0, 1.0, 4.0, 19.0, 1.0, 1.0]], [19.095538854345385, 0.904461145654616], [0.9547769427172692, 0.0452230572827308], 0.0, 'No Risk'], ['no_checking', 21, 'credits_paid_to_date', 'radio_tv', 2802, '100_to_500', 'less_1', 2, 'male', 'none', 4, 'car_other', 45, 'none', 'own', 1, 'skilled', 1, 'none', 'yes', 0.0, 1.0, 3.0, 1.0, 0.0, 0.0, 0.0, 0.0, 3.0, 0.0, 1.0, 0.0, 0.0, [0.0, 1.0, 3.0, 1.0, 3.0, 0.0, 0.0, 1.0, 0.0, 0.0, 0.0, 0.0, 0.0, 21.0, 2802.0, 2.0, 4.0, 21.0, 45.0, 1.0, 1.0], [13.854260865143086, 6.145739134856914], [0.6927130432571543, 0.3072869567428457], 0.0, 'No Risk'], ['no_checking', 24, 'prior_payments_delayed', 'radio_tv', 1715, '100_to_500', 'greater_7', 3, 'female', 'none', 4, 'car_other', 50, 'none', 'own', 1, 'skilled', 1, 'none', 'yes', 0.0, 0.0, 2.0, 1.0, 0.0, 0.0, 0.0, 0.0, 3.0, 0.0, 1.0, 1.0, 0.0, [0.0, 0.0, 3.0, 1.0, 2.0, 1.0, 0.0, 1.0, 0.0, 0.0, 0.0, 0.0, 0.0, 24.0, 1715.0, 3.0, 4.0, 24.0, 50.0, 1.0, 1.0], [8.689313203278038, 11.31068679672196], [0.4344656601639019, 0.565534339836098], 1.0, 'Risk'], ['no_checking', 30, 'prior_payments_delayed', 'appliances', 2075, '500_to_1000', '4_to_7', 3, 'male', 'none', 4, 'real_estate', 28, 'none', 'own', 1, 'skilled', 1, 'yes', 'yes', 0.0, 0.0, 1.0, 2.0, 0.0, 0.0, 0.0, 0.0, 4.0, 0.0, 2.0, 0.0, 1.0, [0.0, 0.0, 4.0, 2.0, 1.0, 0.0, 0.0, 2.0, 0.0, 0.0, 0.0, 1.0, 0.0, 30.0, 2075.0, 3.0, 4.0, 30.0, 28.0, 1.0, 1.0], [11.779457892573072, 8.220542107426928], [0.5889728946286537, 0.4110271053713464], 0.0, 'No Risk'], ['no_checking', 35, 'outstanding_credit', 'furniture', 7218, '500_to_1000', '4_to_7', 3, 'male', 'co-applicant', 3, 'unknown', 54, 'none', 'free', 2, 'skilled', 1, 'yes', 'yes', 0.0, 2.0, 1.0, 2.0, 0.0, 2.0, 0.0, 0.0, 1.0, 1.0, 3.0, 0.0, 1.0, [0.0, 2.0, 1.0, 2.0, 1.0, 0.0, 1.0, 3.0, 0.0, 2.0, 0.0, 1.0, 0.0, 35.0, 7218.0, 3.0, 3.0, 35.0, 54.0, 2.0, 1.0], [2.4983478419476417, 17.50165215805236], [0.12491739209738209, 0.8750826079026179], 1.0, 'Risk'], ['greater_200', 28, 'outstanding_credit', 'appliances', 3854, '500_to_1000', 'greater_7', 3, 'female', 'none', 3, 'car_other', 47, 'stores', 'own', 1, 'skilled', 1, 'yes', 'yes', 3.0, 2.0, 2.0, 2.0, 0.0, 0.0, 1.0, 0.0, 4.0, 0.0, 1.0, 1.0, 1.0, [3.0, 2.0, 4.0, 2.0, 2.0, 1.0, 0.0, 1.0, 1.0, 0.0, 0.0, 1.0, 0.0, 28.0, 3854.0, 3.0, 3.0, 28.0, 47.0, 1.0, 1.0], [9.243716574927138, 10.75628342507286], [0.4621858287463569, 0.5378141712536431], 1.0, 'Risk'], ['less_0', 4, 'credits_paid_to_date', 'education', 250, 'less_100', 'unemployed', 1, 'male', 'none', 1, 'real_estate', 23, 'none', 'rent', 1, 'skilled', 1, 'none', 'yes', 1.0, 1.0, 4.0, 0.0, 0.0, 1.0, 0.0, 0.0, 7.0, 0.0, 2.0, 0.0, 0.0, [1.0, 1.0, 7.0, 0.0, 4.0, 0.0, 0.0, 2.0, 0.0, 1.0, 0.0, 0.0, 0.0, 4.0, 250.0, 1.0, 1.0, 4.0, 23.0, 1.0, 1.0], [19.438177228378883, 0.5618227716211196], [0.971908861418944, 0.028091138581055976], 0.0, 'No Risk'], ['less_0', 12, 'all_credits_paid_back', 'furniture', 2663, 'less_100', '1_to_4', 3, 'female', 'none', 3, 'savings_insurance', 33, 'none', 'own', 2, 'skilled', 1, 'none', 'yes', 1.0, 3.0, 0.0, 0.0, 0.0, 0.0, 0.0, 0.0, 1.0, 0.0, 0.0, 1.0, 0.0, [21, [0, 1, 2, 5, 13, 14, 15, 16, 17, 18, 19, 20], [1.0, 3.0, 1.0, 1.0, 12.0, 2663.0, 3.0, 3.0, 12.0, 33.0, 2.0, 1.0]], [16.30267383737233, 3.6973261626276703], [0.8151336918686164, 0.18486630813138352], 0.0, 'No Risk'], ['no_checking', 33, 'prior_payments_delayed', 'appliances', 2612, '500_to_1000', 'greater_7', 3, 'male', 'none', 4, 'savings_insurance', 32, 'stores', 'own', 1, 'skilled', 1, 'none', 'yes', 0.0, 0.0, 2.0, 2.0, 0.0, 0.0, 1.0, 0.0, 4.0, 0.0, 0.0, 0.0, 0.0, [21, [2, 3, 4, 8, 13, 14, 15, 16, 17, 18, 19, 20], [4.0, 2.0, 2.0, 1.0, 33.0, 2612.0, 3.0, 4.0, 33.0, 32.0, 1.0, 1.0]], [11.579289857892245, 8.420710142107755], [0.5789644928946123, 0.42103550710538773], 0.0, 'No Risk'], ['0_to_200', 23, 'credits_paid_to_date', 'furniture', 250, 'greater_1000', '1_to_4', 3, 'female', 'none', 3, 'savings_insurance', 19, 'stores', 'own', 1, 'skilled', 1, 'none', 'yes', 2.0, 1.0, 0.0, 3.0, 0.0, 0.0, 1.0, 0.0, 1.0, 0.0, 0.0, 1.0, 0.0, [2.0, 1.0, 1.0, 3.0, 0.0, 1.0, 0.0, 0.0, 1.0, 0.0, 0.0, 0.0, 0.0, 23.0, 250.0, 3.0, 3.0, 23.0, 19.0, 1.0, 1.0], [14.90092732230702, 5.099072677692977], [0.7450463661153511, 0.25495363388464887], 0.0, 'No Risk'], ['no_checking', 37, 'prior_payments_delayed', 'appliances', 5447, '500_to_1000', 'greater_7', 5, 'male', 'co-applicant', 3, 'savings_insurance', 44, 'none', 'own', 1, 'skilled', 1, 'yes', 'yes', 0.0, 0.0, 2.0, 2.0, 0.0, 0.0, 0.0, 0.0, 4.0, 1.0, 0.0, 0.0, 1.0, [0.0, 0.0, 4.0, 2.0, 2.0, 0.0, 1.0, 0.0, 0.0, 0.0, 0.0, 1.0, 0.0, 37.0, 5447.0, 5.0, 3.0, 37.0, 44.0, 1.0, 1.0], [5.867874317708714, 14.132125682291283], [0.2933937158854358, 0.7066062841145643], 1.0, 'Risk'], ['less_0', 19, 'credits_paid_to_date', 'car_used', 3626, 'less_100', '4_to_7', 3, 'female', 'none', 3, 'savings_insurance', 37, 'bank', 'own', 1, 'unskilled', 1, 'yes', 'yes', 1.0, 1.0, 1.0, 0.0, 0.0, 0.0, 2.0, 1.0, 2.0, 0.0, 0.0, 1.0, 1.0, [1.0, 1.0, 2.0, 0.0, 1.0, 1.0, 0.0, 0.0, 2.0, 0.0, 1.0, 1.0, 0.0, 19.0, 3626.0, 3.0, 3.0, 19.0, 37.0, 1.0, 1.0], [13.96479442021868, 6.035205579781318], [0.698239721010934, 0.30176027898906593], 0.0, 'No Risk'], ['0_to_200', 4, 'credits_paid_to_date', 'car_used', 865, '100_to_500', 'less_1', 2, 'female', 'none', 2, 'car_other', 45, 'none', 'own', 2, 'skilled', 1, 'none', 'yes', 2.0, 1.0, 3.0, 1.0, 0.0, 0.0, 0.0, 0.0, 2.0, 0.0, 1.0, 1.0, 0.0, [2.0, 1.0, 2.0, 1.0, 3.0, 1.0, 0.0, 1.0, 0.0, 0.0, 0.0, 0.0, 0.0, 4.0, 865.0, 2.0, 2.0, 4.0, 45.0, 2.0, 1.0], [14.50432867367195, 5.495671326328052], [0.7252164336835975, 0.2747835663164026], 0.0, 'No Risk'], ['no_checking', 34, 'outstanding_credit', 'appliances', 5236, '500_to_1000', '1_to_4', 4, 'male', 'guarantor', 4, 'car_other', 61, 'stores', 'free', 2, 'unskilled', 1, 'yes', 'yes', 0.0, 2.0, 0.0, 2.0, 0.0, 2.0, 1.0, 1.0, 4.0, 2.0, 1.0, 0.0, 1.0, [0.0, 2.0, 4.0, 2.0, 0.0, 0.0, 2.0, 1.0, 1.0, 2.0, 1.0, 1.0, 0.0, 34.0, 5236.0, 4.0, 4.0, 34.0, 61.0, 2.0, 1.0], [7.194870111410874, 12.805129888589127], [0.3597435055705437, 0.6402564944294563], 1.0, 'Risk'], ['no_checking', 33, 'outstanding_credit', 'furniture', 5343, 'unknown', 'greater_7', 5, 'male', 'co-applicant', 5, 'car_other', 49, 'none', 'free', 2, 'skilled', 2, 'yes', 'yes', 0.0, 2.0, 2.0, 4.0, 0.0, 2.0, 0.0, 0.0, 1.0, 1.0, 1.0, 0.0, 1.0, [0.0, 2.0, 1.0, 4.0, 2.0, 0.0, 1.0, 1.0, 0.0, 2.0, 0.0, 1.0, 0.0, 33.0, 5343.0, 5.0, 5.0, 33.0, 49.0, 2.0, 2.0], [1.8660774665523545, 18.133922533447645], [0.09330387332761772, 0.9066961266723823], 1.0, 'Risk'], ['0_to_200', 16, 'credits_paid_to_date', 'furniture', 1536, 'less_100', '1_to_4', 2, 'female', 'none', 2, 'real_estate', 25, 'none', 'own', 1, 'skilled', 1, 'none', 'yes', 2.0, 1.0, 0.0, 0.0, 0.0, 0.0, 0.0, 0.0, 1.0, 0.0, 2.0, 1.0, 0.0, [2.0, 1.0, 1.0, 0.0, 0.0, 1.0, 0.0, 2.0, 0.0, 0.0, 0.0, 0.0, 0.0, 16.0, 1536.0, 2.0, 2.0, 16.0, 25.0, 1.0, 1.0], [18.620199966696777, 1.3798000333032245], [0.9310099983348389, 0.06899000166516123], 0.0, 'No Risk'], ['greater_200', 18, 'prior_payments_delayed', 'retraining', 3191, 'less_100', 'less_1', 3, 'female', 'none', 3, 'real_estate', 49, 'none', 'own', 1, 'management_self-employed', 2, 'none', 'yes', 3.0, 0.0, 3.0, 0.0, 0.0, 0.0, 0.0, 2.0, 8.0, 0.0, 2.0, 1.0, 0.0, [3.0, 0.0, 8.0, 0.0, 3.0, 1.0, 0.0, 2.0, 0.0, 0.0, 2.0, 0.0, 0.0, 18.0, 3191.0, 3.0, 3.0, 18.0, 49.0, 1.0, 2.0], [15.444156803133712, 4.555843196866289], [0.7722078401566856, 0.22779215984331444], 0.0, 'No Risk'], ['less_0', 11, 'all_credits_paid_back', 'furniture', 2051, 'less_100', 'less_1', 2, 'female', 'none', 2, 'real_estate', 19, 'bank', 'rent', 1, 'unskilled', 1, 'yes', 'yes', 1.0, 3.0, 3.0, 0.0, 0.0, 1.0, 2.0, 1.0, 1.0, 0.0, 2.0, 1.0, 1.0, [1.0, 3.0, 1.0, 0.0, 3.0, 1.0, 0.0, 2.0, 2.0, 1.0, 1.0, 1.0, 0.0, 11.0, 2051.0, 2.0, 2.0, 11.0, 19.0, 1.0, 1.0], [18.974970037945056, 1.0250299620549443], [0.9487485018972528, 0.05125149810274722], 0.0, 'No Risk'], ['no_checking', 22, 'outstanding_credit', 'appliances', 6563, '500_to_1000', 'greater_7', 4, 'male', 'none', 4, 'car_other', 39, 'none', 'free', 2, 'skilled', 1, 'yes', 'yes', 0.0, 2.0, 2.0, 2.0, 0.0, 2.0, 0.0, 0.0, 4.0, 0.0, 1.0, 0.0, 1.0, [0.0, 2.0, 4.0, 2.0, 2.0, 0.0, 0.0, 1.0, 0.0, 2.0, 0.0, 1.0, 0.0, 22.0, 6563.0, 4.0, 4.0, 22.0, 39.0, 2.0, 1.0], [8.073648719047949, 11.926351280952051], [0.40368243595239744, 0.5963175640476026], 1.0, 'Risk'], ['0_to_200', 20, 'credits_paid_to_date', 'car_used', 250, 'less_100', 'unemployed', 1, 'female', 'none', 1, 'savings_insurance', 26, 'stores', 'own', 1, 'skilled', 1, 'none', 'yes', 2.0, 1.0, 4.0, 0.0, 0.0, 0.0, 1.0, 0.0, 2.0, 0.0, 0.0, 1.0, 0.0, [2.0, 1.0, 2.0, 0.0, 4.0, 1.0, 0.0, 0.0, 1.0, 0.0, 0.0, 0.0, 0.0, 20.0, 250.0, 1.0, 1.0, 20.0, 26.0, 1.0, 1.0], [18.12773774313487, 1.8722622568651286], [0.9063868871567436, 0.09361311284325645], 0.0, 'No Risk'], ['less_0', 29, 'credits_paid_to_date', 'car_used', 761, 'greater_1000', '4_to_7', 3, 'female', 'none', 2, 'real_estate', 46, 'stores', 'own', 2, 'skilled', 1, 'none', 'yes', 1.0, 1.0, 1.0, 3.0, 0.0, 0.0, 1.0, 0.0, 2.0, 0.0, 2.0, 1.0, 0.0, [1.0, 1.0, 2.0, 3.0, 1.0, 1.0, 0.0, 2.0, 1.0, 0.0, 0.0, 0.0, 0.0, 29.0, 761.0, 3.0, 2.0, 29.0, 46.0, 2.0, 1.0], [14.638426139077453, 5.361573860922545], [0.7319213069538728, 0.2680786930461273], 0.0, 'No Risk'], ['0_to_200', 16, 'credits_paid_to_date', 'car_new', 250, 'less_100', 'unemployed', 2, 'female', 'none', 1, 'savings_insurance', 21, 'none', 'rent', 1, 'skilled', 1, 'none', 'yes', 2.0, 1.0, 4.0, 0.0, 0.0, 1.0, 0.0, 0.0, 0.0, 0.0, 0.0, 1.0, 0.0, [2.0, 1.0, 0.0, 0.0, 4.0, 1.0, 0.0, 0.0, 0.0, 1.0, 0.0, 0.0, 0.0, 16.0, 250.0, 2.0, 1.0, 16.0, 21.0, 1.0, 1.0], [18.5811006524588, 1.4188993475412026], [0.9290550326229399, 0.07094496737706012], 0.0, 'No Risk'], ['less_0', 31, 'credits_paid_to_date', 'appliances', 1673, 'less_100', '4_to_7', 2, 'male', 'none', 2, 'real_estate', 25, 'stores', 'own', 1, 'skilled', 1, 'none', 'yes', 1.0, 1.0, 1.0, 0.0, 0.0, 0.0, 1.0, 0.0, 4.0, 0.0, 2.0, 0.0, 0.0, [1.0, 1.0, 4.0, 0.0, 1.0, 0.0, 0.0, 2.0, 1.0, 0.0, 0.0, 0.0, 0.0, 31.0, 1673.0, 2.0, 2.0, 31.0, 25.0, 1.0, 1.0], [16.712075720450333, 3.287924279549667], [0.8356037860225166, 0.16439621397748333], 0.0, 'No Risk'], ['no_checking', 38, 'prior_payments_delayed', 'furniture', 5552, 'unknown', 'greater_7', 4, 'male', 'co-applicant', 5, 'savings_insurance', 48, 'none', 'own', 2, 'skilled', 1, 'none', 'yes', 0.0, 0.0, 2.0, 4.0, 0.0, 0.0, 0.0, 0.0, 1.0, 1.0, 0.0, 0.0, 0.0, [21, [2, 3, 4, 6, 13, 14, 15, 16, 17, 18, 19, 20], [1.0, 4.0, 2.0, 1.0, 38.0, 5552.0, 4.0, 5.0, 38.0, 48.0, 2.0, 1.0]], [6.138739236300531, 13.861260763699468], [0.30693696181502655, 0.6930630381849734], 1.0, 'Risk'], ['0_to_200', 17, 'prior_payments_delayed', 'radio_tv', 1831, 'greater_1000', 'greater_7', 2, 'male', 'none', 3, 'car_other', 28, 'stores', 'own', 1, 'skilled', 2, 'none', 'yes', 2.0, 0.0, 2.0, 3.0, 0.0, 0.0, 1.0, 0.0, 3.0, 0.0, 1.0, 0.0, 0.0, [2.0, 0.0, 3.0, 3.0, 2.0, 0.0, 0.0, 1.0, 1.0, 0.0, 0.0, 0.0, 0.0, 17.0, 1831.0, 2.0, 3.0, 17.0, 28.0, 1.0, 2.0], [15.54554022401984, 4.454459775980161], [0.777277011200992, 0.22272298879900804], 0.0, 'No Risk'], ['greater_200', 20, 'prior_payments_delayed', 'radio_tv', 4220, '500_to_1000', 'less_1', 3, 'male', 'none', 4, 'savings_insurance', 28, 'none', 'own', 2, 'management_self-employed', 1, 'yes', 'yes', 3.0, 0.0, 3.0, 2.0, 0.0, 0.0, 0.0, 2.0, 3.0, 0.0, 0.0, 0.0, 1.0, [3.0, 0.0, 3.0, 2.0, 3.0, 0.0, 0.0, 0.0, 0.0, 0.0, 2.0, 1.0, 0.0, 20.0, 4220.0, 3.0, 4.0, 20.0, 28.0, 2.0, 1.0], [14.502504764958543, 5.497495235041452], [0.7251252382479274, 0.2748747617520727], 0.0, 'No Risk'], ['0_to_200', 6, 'prior_payments_delayed', 'furniture', 2079, '500_to_1000', 'less_1', 3, 'female', 'none', 3, 'savings_insurance', 35, 'none', 'rent', 1, 'skilled', 1, 'none', 'yes', 2.0, 0.0, 3.0, 2.0, 0.0, 1.0, 0.0, 0.0, 1.0, 0.0, 0.0, 1.0, 0.0, [2.0, 0.0, 1.0, 2.0, 3.0, 1.0, 0.0, 0.0, 0.0, 1.0, 0.0, 0.0, 0.0, 6.0, 2079.0, 3.0, 3.0, 6.0, 35.0, 1.0, 1.0], [16.89758069828424, 3.1024193017157633], [0.8448790349142119, 0.15512096508578813], 0.0, 'No Risk'], ['no_checking', 45, 'outstanding_credit', 'radio_tv', 5245, '500_to_1000', '4_to_7', 4, 'male', 'none', 3, 'car_other', 42, 'none', 'own', 2, 'skilled', 1, 'yes', 'yes', 0.0, 2.0, 1.0, 2.0, 0.0, 0.0, 0.0, 0.0, 3.0, 0.0, 1.0, 0.0, 1.0, [0.0, 2.0, 3.0, 2.0, 1.0, 0.0, 0.0, 1.0, 0.0, 0.0, 0.0, 1.0, 0.0, 45.0, 5245.0, 4.0, 3.0, 45.0, 42.0, 2.0, 1.0], [8.327464484319682, 11.672535515680316], [0.4163732242159841, 0.5836267757840158], 1.0, 'Risk'], ['less_0', 19, 'credits_paid_to_date', 'car_used', 893, 'less_100', 'less_1', 2, 'female', 'none', 1, 'real_estate', 24, 'none', 'own', 1, 'skilled', 1, 'none', 'yes', 1.0, 1.0, 3.0, 0.0, 0.0, 0.0, 0.0, 0.0, 2.0, 0.0, 2.0, 1.0, 0.0, [1.0, 1.0, 2.0, 0.0, 3.0, 1.0, 0.0, 2.0, 0.0, 0.0, 0.0, 0.0, 0.0, 19.0, 893.0, 2.0, 1.0, 19.0, 24.0, 1.0, 1.0], [19.176709016222286, 0.8232909837777193], [0.958835450811114, 0.04116454918888595], 0.0, 'No Risk'], ['less_0', 4, 'prior_payments_delayed', 'furniture', 250, 'less_100', 'less_1', 2, 'female', 'none', 3, 'car_other', 35, 'none', 'own', 2, 'skilled', 1, 'none', 'yes', 1.0, 0.0, 3.0, 0.0, 0.0, 0.0, 0.0, 0.0, 1.0, 0.0, 1.0, 1.0, 0.0, [1.0, 0.0, 1.0, 0.0, 3.0, 1.0, 0.0, 1.0, 0.0, 0.0, 0.0, 0.0, 0.0, 4.0, 250.0, 2.0, 3.0, 4.0, 35.0, 2.0, 1.0], [17.64088053995524, 2.3591194600447607], [0.8820440269977621, 0.11795597300223803], 0.0, 'No Risk'], ['0_to_200', 19, 'prior_payments_delayed', 'vacation', 8286, 'less_100', 'greater_7', 3, 'female', 'none', 3, 'unknown', 47, 'none', 'own', 2, 'skilled', 2, 'yes', 'yes', 2.0, 0.0, 2.0, 0.0, 0.0, 0.0, 0.0, 0.0, 6.0, 0.0, 3.0, 1.0, 1.0, [2.0, 0.0, 6.0, 0.0, 2.0, 1.0, 0.0, 3.0, 0.0, 0.0, 0.0, 1.0, 0.0, 19.0, 8286.0, 3.0, 3.0, 19.0, 47.0, 2.0, 2.0], [8.450295602217041, 11.54970439778296], [0.4225147801108521, 0.577485219889148], 1.0, 'Risk'], ['no_checking', 33, 'outstanding_credit', 'repairs', 6328, 'unknown', '1_to_4', 3, 'male', 'none', 4, 'unknown', 51, 'none', 'own', 2, 'skilled', 2, 'yes', 'no', 0.0, 2.0, 0.0, 4.0, 1.0, 0.0, 0.0, 0.0, 5.0, 0.0, 3.0, 0.0, 1.0, [0.0, 2.0, 5.0, 4.0, 0.0, 0.0, 0.0, 3.0, 0.0, 0.0, 0.0, 1.0, 1.0, 33.0, 6328.0, 3.0, 4.0, 33.0, 51.0, 2.0, 2.0], [9.391076716045932, 10.608923283954068], [0.4695538358022966, 0.5304461641977034], 1.0, 'Risk'], ['less_0', 15, 'credits_paid_to_date', 'furniture', 746, 'less_100', 'less_1', 2, 'female', 'none', 3, 'savings_insurance', 27, 'none', 'own', 1, 'skilled', 1, 'none', 'yes', 1.0, 1.0, 3.0, 0.0, 0.0, 0.0, 0.0, 0.0, 1.0, 0.0, 0.0, 1.0, 0.0, [1.0, 1.0, 1.0, 0.0, 3.0, 1.0, 0.0, 0.0, 0.0, 0.0, 0.0, 0.0, 0.0, 15.0, 746.0, 2.0, 3.0, 15.0, 27.0, 1.0, 1.0], [18.15165904161009, 1.848340958389912], [0.9075829520805044, 0.09241704791949559], 0.0, 'No Risk'], ['less_0', 10, 'prior_payments_delayed', 'car_new', 482, '100_to_500', '4_to_7', 3, 'female', 'co-applicant', 2, 'savings_insurance', 36, 'stores', 'own', 1, 'skilled', 1, 'none', 'yes', 1.0, 0.0, 1.0, 1.0, 0.0, 0.0, 1.0, 0.0, 0.0, 1.0, 0.0, 1.0, 0.0, [1.0, 0.0, 0.0, 1.0, 1.0, 1.0, 1.0, 0.0, 1.0, 0.0, 0.0, 0.0, 0.0, 10.0, 482.0, 3.0, 2.0, 10.0, 36.0, 1.0, 1.0], [17.59903075960422, 2.4009692403957827], [0.879951537980211, 0.12004846201978914], 0.0, 'No Risk'], ['less_0', 4, 'credits_paid_to_date', 'car_new', 3243, 'less_100', 'less_1', 2, 'female', 'none', 2, 'car_other', 43, 'none', 'own', 1, 'skilled', 1, 'none', 'yes', 1.0, 1.0, 3.0, 0.0, 0.0, 0.0, 0.0, 0.0, 0.0, 0.0, 1.0, 1.0, 0.0, [1.0, 1.0, 0.0, 0.0, 3.0, 1.0, 0.0, 1.0, 0.0, 0.0, 0.0, 0.0, 0.0, 4.0, 3243.0, 2.0, 2.0, 4.0, 43.0, 1.0, 1.0], [17.223223332015873, 2.77677666798413], [0.8611611666007936, 0.1388388333992065], 0.0, 'No Risk'], ['no_checking', 26, 'prior_payments_delayed', 'radio_tv', 4687, 'unknown', '1_to_4', 3, 'male', 'none', 3, 'savings_insurance', 48, 'none', 'own', 3, 'management_self-employed', 2, 'yes', 'yes', 0.0, 0.0, 0.0, 4.0, 0.0, 0.0, 0.0, 2.0, 3.0, 0.0, 0.0, 0.0, 1.0, [21, [2, 3, 10, 11, 13, 14, 15, 16, 17, 18, 19, 20], [3.0, 4.0, 2.0, 1.0, 26.0, 4687.0, 3.0, 3.0, 26.0, 48.0, 3.0, 2.0]], [11.862478407459491, 8.137521592540507], [0.5931239203729746, 0.4068760796270253], 0.0, 'No Risk'], ['no_checking', 9, 'prior_payments_delayed', 'radio_tv', 2358, '100_to_500', '1_to_4', 3, 'male', 'none', 4, 'savings_insurance', 47, 'none', 'own', 2, 'management_self-employed', 1, 'none', 'yes', 0.0, 0.0, 0.0, 1.0, 0.0, 0.0, 0.0, 2.0, 3.0, 0.0, 0.0, 0.0, 0.0, [21, [2, 3, 10, 13, 14, 15, 16, 17, 18, 19, 20], [3.0, 1.0, 2.0, 9.0, 2358.0, 3.0, 4.0, 9.0, 47.0, 2.0, 1.0]], [13.304937980940714, 6.695062019059287], [0.6652468990470357, 0.33475310095296434], 0.0, 'No Risk'], ['less_0', 13, 'credits_paid_to_date', 'car_new', 4466, 'less_100', 'less_1', 3, 'male', 'none', 2, 'car_other', 29, 'none', 'own', 1, 'skilled', 1, 'none', 'yes', 1.0, 1.0, 3.0, 0.0, 0.0, 0.0, 0.0, 0.0, 0.0, 0.0, 1.0, 0.0, 0.0, [21, [0, 1, 4, 7, 13, 14, 15, 16, 17, 18, 19, 20], [1.0, 1.0, 3.0, 1.0, 13.0, 4466.0, 3.0, 2.0, 13.0, 29.0, 1.0, 1.0]], [17.80317819452948, 2.196821805470522], [0.8901589097264739, 0.1098410902735261], 0.0, 'No Risk'], ['no_checking', 31, 'prior_payments_delayed', 'furniture', 5568, '500_to_1000', 'greater_7', 5, 'male', 'co-applicant', 4, 'unknown', 54, 'none', 'free', 2, 'skilled', 1, 'yes', 'yes', 0.0, 0.0, 2.0, 2.0, 0.0, 2.0, 0.0, 0.0, 1.0, 1.0, 3.0, 0.0, 1.0, [0.0, 0.0, 1.0, 2.0, 2.0, 0.0, 1.0, 3.0, 0.0, 2.0, 0.0, 1.0, 0.0, 31.0, 5568.0, 5.0, 4.0, 31.0, 54.0, 2.0, 1.0], [2.151503881162169, 17.84849611883783], [0.10757519405810845, 0.8924248059418914], 1.0, 'Risk'], ['no_checking', 38, 'prior_payments_delayed', 'other', 6687, 'unknown', '4_to_7', 5, 'male', 'none', 4, 'unknown', 48, 'stores', 'rent', 2, 'unemployed', 2, 'yes', 'yes', 0.0, 0.0, 1.0, 4.0, 0.0, 1.0, 1.0, 3.0, 10.0, 0.0, 3.0, 0.0, 1.0, [0.0, 0.0, 10.0, 4.0, 1.0, 0.0, 0.0, 3.0, 1.0, 1.0, 3.0, 1.0, 0.0, 38.0, 6687.0, 5.0, 4.0, 38.0, 48.0, 2.0, 2.0], [7.3298096429391455, 12.670190357060852], [0.36649048214695734, 0.6335095178530427], 1.0, 'Risk'], ['0_to_200', 31, 'outstanding_credit', 'furniture', 353, '500_to_1000', '4_to_7', 3, 'male', 'none', 3, 'savings_insurance', 21, 'bank', 'own', 1, 'unemployed', 1, 'none', 'yes', 2.0, 2.0, 1.0, 2.0, 0.0, 0.0, 2.0, 3.0, 1.0, 0.0, 0.0, 0.0, 0.0, [2.0, 2.0, 1.0, 2.0, 1.0, 0.0, 0.0, 0.0, 2.0, 0.0, 3.0, 0.0, 0.0, 31.0, 353.0, 3.0, 3.0, 31.0, 21.0, 1.0, 1.0], [14.959688545338842, 5.040311454661158], [0.7479844272669421, 0.25201557273305786], 0.0, 'No Risk'], ['0_to_200', 4, 'all_credits_paid_back', 'car_new', 3501, '100_to_500', 'less_1', 2, 'female', 'none', 1, 'real_estate', 22, 'none', 'rent', 1, 'skilled', 2, 'none', 'yes', 2.0, 3.0, 3.0, 1.0, 0.0, 1.0, 0.0, 0.0, 0.0, 0.0, 2.0, 1.0, 0.0, [2.0, 3.0, 0.0, 1.0, 3.0, 1.0, 0.0, 2.0, 0.0, 1.0, 0.0, 0.0, 0.0, 4.0, 3501.0, 2.0, 1.0, 4.0, 22.0, 1.0, 2.0], [19.078454448578256, 0.9215455514217462], [0.9539227224289126, 0.0460772775710873], 0.0, 'No Risk'], ['less_0', 14, 'all_credits_paid_back', 'appliances', 2840, 'less_100', '4_to_7', 2, 'female', 'none', 2, 'savings_insurance', 31, 'none', 'own', 1, 'skilled', 1, 'none', 'yes', 1.0, 3.0, 1.0, 0.0, 0.0, 0.0, 0.0, 0.0, 4.0, 0.0, 0.0, 1.0, 0.0, [1.0, 3.0, 4.0, 0.0, 1.0, 1.0, 0.0, 0.0, 0.0, 0.0, 0.0, 0.0, 0.0, 14.0, 2840.0, 2.0, 2.0, 14.0, 31.0, 1.0, 1.0], [18.422267043929928, 1.5777329560700717], [0.9211133521964964, 0.07888664780350359], 0.0, 'No Risk'], ['less_0', 14, 'all_credits_paid_back', 'furniture', 1376, 'less_100', 'less_1', 2, 'female', 'none', 3, 'savings_insurance', 25, 'none', 'own', 1, 'skilled', 1, 'none', 'yes', 1.0, 3.0, 3.0, 0.0, 0.0, 0.0, 0.0, 0.0, 1.0, 0.0, 0.0, 1.0, 0.0, [1.0, 3.0, 1.0, 0.0, 3.0, 1.0, 0.0, 0.0, 0.0, 0.0, 0.0, 0.0, 0.0, 14.0, 1376.0, 2.0, 3.0, 14.0, 25.0, 1.0, 1.0], [18.806054224893654, 1.193945775106343], [0.9403027112446829, 0.05969728875531716], 0.0, 'No Risk'], ['less_0', 4, 'all_credits_paid_back', 'car_new', 250, 'less_100', 'unemployed', 1, 'female', 'none', 2, 'savings_insurance', 21, 'none', 'rent', 1, 'management_self-employed', 1, 'none', 'yes', 1.0, 3.0, 4.0, 0.0, 0.0, 1.0, 0.0, 2.0, 0.0, 0.0, 0.0, 1.0, 0.0, [1.0, 3.0, 0.0, 0.0, 4.0, 1.0, 0.0, 0.0, 0.0, 1.0, 2.0, 0.0, 0.0, 4.0, 250.0, 1.0, 2.0, 4.0, 21.0, 1.0, 1.0], [19.366082265577635, 0.6339177344223668], [0.9683041132788818, 0.03169588672111834], 0.0, 'No Risk'], ['0_to_200', 5, 'credits_paid_to_date', 'furniture', 1472, 'less_100', '4_to_7', 3, 'male', 'none', 2, 'real_estate', 38, 'stores', 'own', 1, 'unskilled', 2, 'none', 'yes', 2.0, 1.0, 1.0, 0.0, 0.0, 0.0, 1.0, 1.0, 1.0, 0.0, 2.0, 0.0, 0.0, [2.0, 1.0, 1.0, 0.0, 1.0, 0.0, 0.0, 2.0, 1.0, 0.0, 1.0, 0.0, 0.0, 5.0, 1472.0, 3.0, 2.0, 5.0, 38.0, 1.0, 2.0], [17.65957755869849, 2.3404224413015084], [0.8829788779349246, 0.11702112206507542], 0.0, 'No Risk'], ['no_checking', 27, 'prior_payments_delayed', 'appliances', 3076, '100_to_500', '1_to_4', 4, 'male', 'co-applicant', 3, 'savings_insurance', 41, 'stores', 'rent', 1, 'unskilled', 1, 'yes', 'yes', 0.0, 0.0, 0.0, 1.0, 0.0, 1.0, 1.0, 1.0, 4.0, 1.0, 0.0, 0.0, 1.0, [0.0, 0.0, 4.0, 1.0, 0.0, 0.0, 1.0, 0.0, 1.0, 1.0, 1.0, 1.0, 0.0, 27.0, 3076.0, 4.0, 3.0, 27.0, 41.0, 1.0, 1.0], [12.74933709395127, 7.25066290604873], [0.6374668546975635, 0.3625331453024365], 0.0, 'No Risk'], ['0_to_200', 39, 'prior_payments_delayed', 'radio_tv', 2852, '500_to_1000', '4_to_7', 4, 'male', 'none', 3, 'savings_insurance', 33, 'none', 'own', 1, 'skilled', 1, 'none', 'yes', 2.0, 0.0, 1.0, 2.0, 0.0, 0.0, 0.0, 0.0, 3.0, 0.0, 0.0, 0.0, 0.0, [21, [0, 2, 3, 4, 13, 14, 15, 16, 17, 18, 19, 20], [2.0, 3.0, 2.0, 1.0, 39.0, 2852.0, 4.0, 3.0, 39.0, 33.0, 1.0, 1.0]], [13.34923102032106, 6.650768979678943], [0.6674615510160529, 0.3325384489839471], 0.0, 'No Risk'], ['no_checking', 39, 'outstanding_credit', 'repairs', 3860, 'greater_1000', 'greater_7', 4, 'male', 'none', 4, 'savings_insurance', 30, 'none', 'own', 1, 'skilled', 1, 'yes', 'yes', 0.0, 2.0, 2.0, 3.0, 0.0, 0.0, 0.0, 0.0, 5.0, 0.0, 0.0, 0.0, 1.0, [0.0, 2.0, 5.0, 3.0, 2.0, 0.0, 0.0, 0.0, 0.0, 0.0, 0.0, 1.0, 0.0, 39.0, 3860.0, 4.0, 4.0, 39.0, 30.0, 1.0, 1.0], [10.913342844977034, 9.086657155022966], [0.5456671422488517, 0.4543328577511483], 0.0, 'No Risk'], ['no_checking', 30, 'outstanding_credit', 'radio_tv', 6345, 'unknown', '1_to_4', 3, 'male', 'none', 5, 'unknown', 46, 'none', 'own', 2, 'skilled', 2, 'yes', 'yes', 0.0, 2.0, 0.0, 4.0, 0.0, 0.0, 0.0, 0.0, 3.0, 0.0, 3.0, 0.0, 1.0, [0.0, 2.0, 3.0, 4.0, 0.0, 0.0, 0.0, 3.0, 0.0, 0.0, 0.0, 1.0, 0.0, 30.0, 6345.0, 3.0, 5.0, 30.0, 46.0, 2.0, 2.0], [9.291690499666071, 10.70830950033393], [0.46458452498330355, 0.5354154750166965], 1.0, 'Risk'], ['0_to_200', 17, 'credits_paid_to_date', 'retraining', 250, '500_to_1000', '4_to_7', 3, 'female', 'none', 1, 'real_estate', 22, 'none', 'own', 2, 'skilled', 1, 'none', 'yes', 2.0, 1.0, 1.0, 2.0, 0.0, 0.0, 0.0, 0.0, 8.0, 0.0, 2.0, 1.0, 0.0, [2.0, 1.0, 8.0, 2.0, 1.0, 1.0, 0.0, 2.0, 0.0, 0.0, 0.0, 0.0, 0.0, 17.0, 250.0, 3.0, 1.0, 17.0, 22.0, 2.0, 1.0], [17.950027718165178, 2.0499722818348216], [0.8975013859082589, 0.10249861409174107], 0.0, 'No Risk'], ['no_checking', 33, 'outstanding_credit', 'repairs', 9125, '500_to_1000', 'greater_7', 6, 'male', 'guarantor', 5, 'car_other', 68, 'stores', 'free', 2, 'unemployed', 2, 'yes', 'yes', 0.0, 2.0, 2.0, 2.0, 0.0, 2.0, 1.0, 3.0, 5.0, 2.0, 1.0, 0.0, 1.0, [0.0, 2.0, 5.0, 2.0, 2.0, 0.0, 2.0, 1.0, 1.0, 2.0, 3.0, 1.0, 0.0, 33.0, 9125.0, 6.0, 5.0, 33.0, 68.0, 2.0, 2.0], [2.859540397281566, 17.140459602718433], [0.1429770198640783, 0.8570229801359217], 1.0, 'Risk'], ['no_checking', 30, 'prior_payments_delayed', 'radio_tv', 5259, 'greater_1000', '4_to_7', 4, 'male', 'none', 3, 'savings_insurance', 39, 'none', 'own', 2, 'skilled', 1, 'yes', 'yes', 0.0, 0.0, 1.0, 3.0, 0.0, 0.0, 0.0, 0.0, 3.0, 0.0, 0.0, 0.0, 1.0, [21, [2, 3, 4, 11, 13, 14, 15, 16, 17, 18, 19, 20], [3.0, 3.0, 1.0, 1.0, 30.0, 5259.0, 4.0, 3.0, 30.0, 39.0, 2.0, 1.0]], [10.27845007223326, 9.721549927766743], [0.5139225036116629, 0.4860774963883371], 0.0, 'No Risk'], ['greater_200', 24, 'credits_paid_to_date', 'furniture', 3639, '100_to_500', 'less_1', 3, 'male', 'none', 4, 'car_other', 39, 'none', 'own', 2, 'skilled', 1, 'none', 'yes', 3.0, 1.0, 3.0, 1.0, 0.0, 0.0, 0.0, 0.0, 1.0, 0.0, 1.0, 0.0, 0.0, [3.0, 1.0, 1.0, 1.0, 3.0, 0.0, 0.0, 1.0, 0.0, 0.0, 0.0, 0.0, 0.0, 24.0, 3639.0, 3.0, 4.0, 24.0, 39.0, 2.0, 1.0], [13.235547934198998, 6.764452065801001], [0.6617773967099498, 0.33822260329005005], 0.0, 'No Risk'], ['no_checking', 25, 'prior_payments_delayed', 'radio_tv', 2582, '100_to_500', 'greater_7', 3, 'female', 'none', 2, 'car_other', 42, 'bank', 'free', 1, 'unemployed', 1, 'yes', 'yes', 0.0, 0.0, 2.0, 1.0, 0.0, 2.0, 2.0, 3.0, 3.0, 0.0, 1.0, 1.0, 1.0, [0.0, 0.0, 3.0, 1.0, 2.0, 1.0, 0.0, 1.0, 2.0, 2.0, 3.0, 1.0, 0.0, 25.0, 2582.0, 3.0, 2.0, 25.0, 42.0, 1.0, 1.0], [10.48054010109424, 9.51945989890576], [0.524027005054712, 0.475972994945288], 0.0, 'No Risk'], ['0_to_200', 4, 'all_credits_paid_back', 'car_used', 250, 'less_100', 'less_1', 2, 'female', 'none', 1, 'real_estate', 24, 'none', 'rent', 1, 'skilled', 1, 'none', 'yes', 2.0, 3.0, 3.0, 0.0, 0.0, 1.0, 0.0, 0.0, 2.0, 0.0, 2.0, 1.0, 0.0, [2.0, 3.0, 2.0, 0.0, 3.0, 1.0, 0.0, 2.0, 0.0, 1.0, 0.0, 0.0, 0.0, 4.0, 250.0, 2.0, 1.0, 4.0, 24.0, 1.0, 1.0], [19.46195285836478, 0.5380471416352239], [0.9730976429182387, 0.026902357081761193], 0.0, 'No Risk'], ['less_0', 10, 'all_credits_paid_back', 'car_used', 865, 'less_100', 'less_1', 2, 'female', 'none', 2, 'real_estate', 20, 'bank', 'rent', 1, 'unskilled', 1, 'none', 'yes', 1.0, 3.0, 3.0, 0.0, 0.0, 1.0, 2.0, 1.0, 2.0, 0.0, 2.0, 1.0, 0.0, [1.0, 3.0, 2.0, 0.0, 3.0, 1.0, 0.0, 2.0, 2.0, 1.0, 1.0, 0.0, 0.0, 10.0, 865.0, 2.0, 2.0, 10.0, 20.0, 1.0, 1.0], [19.376634897974846, 0.623365102025156], [0.9688317448987422, 0.031168255101257803], 0.0, 'No Risk'], ['no_checking', 48, 'outstanding_credit', 'radio_tv', 6160, 'greater_1000', '4_to_7', 5, 'male', 'guarantor', 3, 'car_other', 58, 'none', 'free', 2, 'skilled', 1, 'yes', 'yes', 0.0, 2.0, 1.0, 3.0, 0.0, 2.0, 0.0, 0.0, 3.0, 2.0, 1.0, 0.0, 1.0, [0.0, 2.0, 3.0, 3.0, 1.0, 0.0, 2.0, 1.0, 0.0, 2.0, 0.0, 1.0, 0.0, 48.0, 6160.0, 5.0, 3.0, 48.0, 58.0, 2.0, 1.0], [2.968616404431291, 17.03138359556871], [0.14843082022156456, 0.8515691797784355], 1.0, 'Risk'], ['0_to_200', 14, 'prior_payments_delayed', 'car_used', 5454, 'less_100', 'less_1', 3, 'male', 'none', 3, 'car_other', 32, 'stores', 'own', 2, 'unskilled', 1, 'yes', 'yes', 2.0, 0.0, 3.0, 0.0, 0.0, 0.0, 1.0, 1.0, 2.0, 0.0, 1.0, 0.0, 1.0, [2.0, 0.0, 2.0, 0.0, 3.0, 0.0, 0.0, 1.0, 1.0, 0.0, 1.0, 1.0, 0.0, 14.0, 5454.0, 3.0, 3.0, 14.0, 32.0, 2.0, 1.0], [15.7885186825217, 4.211481317478299], [0.789425934126085, 0.21057406587391495], 0.0, 'No Risk'], ['greater_200', 13, 'prior_payments_delayed', 'furniture', 4871, 'less_100', 'less_1', 3, 'male', 'none', 3, 'savings_insurance', 28, 'stores', 'own', 1, 'unskilled', 1, 'none', 'yes', 3.0, 0.0, 3.0, 0.0, 0.0, 0.0, 1.0, 1.0, 1.0, 0.0, 0.0, 0.0, 0.0, [3.0, 0.0, 1.0, 0.0, 3.0, 0.0, 0.0, 0.0, 1.0, 0.0, 1.0, 0.0, 0.0, 13.0, 4871.0, 3.0, 3.0, 13.0, 28.0, 1.0, 1.0], [17.06997187936264, 2.9300281206373624], [0.8534985939681319, 0.1465014060318681], 0.0, 'No Risk'], ['greater_200', 31, 'prior_payments_delayed', 'repairs', 4094, '100_to_500', '1_to_4', 4, 'female', 'none', 4, 'savings_insurance', 34, 'none', 'own', 1, 'skilled', 1, 'yes', 'yes', 3.0, 0.0, 0.0, 1.0, 0.0, 0.0, 0.0, 0.0, 5.0, 0.0, 0.0, 1.0, 1.0, [3.0, 0.0, 5.0, 1.0, 0.0, 1.0, 0.0, 0.0, 0.0, 0.0, 0.0, 1.0, 0.0, 31.0, 4094.0, 4.0, 4.0, 31.0, 34.0, 1.0, 1.0], [12.928067283686543, 7.071932716313458], [0.6464033641843272, 0.3535966358156729], 0.0, 'No Risk'], ['no_checking', 40, 'prior_payments_delayed', 'education', 5380, '500_to_1000', '4_to_7', 4, 'male', 'none', 3, 'unknown', 58, 'none', 'free', 2, 'skilled', 1, 'yes', 'yes', 0.0, 0.0, 1.0, 2.0, 0.0, 2.0, 0.0, 0.0, 7.0, 0.0, 3.0, 0.0, 1.0, [0.0, 0.0, 7.0, 2.0, 1.0, 0.0, 0.0, 3.0, 0.0, 2.0, 0.0, 1.0, 0.0, 40.0, 5380.0, 4.0, 3.0, 40.0, 58.0, 2.0, 1.0], [5.503161468589881, 14.49683853141012], [0.27515807342949405, 0.724841926570506], 1.0, 'Risk'], ['less_0', 22, 'credits_paid_to_date', 'appliances', 3359, '500_to_1000', 'less_1', 2, 'female', 'none', 1, 'car_other', 21, 'bank', 'rent', 1, 'unemployed', 1, 'none', 'yes', 1.0, 1.0, 3.0, 2.0, 0.0, 1.0, 2.0, 3.0, 4.0, 0.0, 1.0, 1.0, 0.0, [1.0, 1.0, 4.0, 2.0, 3.0, 1.0, 0.0, 1.0, 2.0, 1.0, 3.0, 0.0, 0.0, 22.0, 3359.0, 2.0, 1.0, 22.0, 21.0, 1.0, 1.0], [17.54735504115574, 2.4526449588442607], [0.8773677520577869, 0.12263224794221303], 0.0, 'No Risk'], ['0_to_200', 37, 'prior_payments_delayed', 'other', 4166, '100_to_500', 'greater_7', 3, 'male', 'none', 2, 'savings_insurance', 21, 'none', 'own', 2, 'skilled', 1, 'yes', 'yes', 2.0, 0.0, 2.0, 1.0, 0.0, 0.0, 0.0, 0.0, 10.0, 0.0, 0.0, 0.0, 1.0, [2.0, 0.0, 10.0, 1.0, 2.0, 0.0, 0.0, 0.0, 0.0, 0.0, 0.0, 1.0, 0.0, 37.0, 4166.0, 3.0, 2.0, 37.0, 21.0, 2.0, 1.0], [13.20890591626981, 6.791094083730187], [0.6604452958134907, 0.3395547041865094], 0.0, 'No Risk'], ['no_checking', 44, 'outstanding_credit', 'repairs', 6433, 'greater_1000', 'greater_7', 5, 'male', 'co-applicant', 5, 'unknown', 52, 'none', 'free', 2, 'skilled', 2, 'yes', 'yes', 0.0, 2.0, 2.0, 3.0, 0.0, 2.0, 0.0, 0.0, 5.0, 1.0, 3.0, 0.0, 1.0, [0.0, 2.0, 5.0, 3.0, 2.0, 0.0, 1.0, 3.0, 0.0, 2.0, 0.0, 1.0, 0.0, 44.0, 6433.0, 5.0, 5.0, 44.0, 52.0, 2.0, 2.0], [1.4659513786893352, 18.534048621310667], [0.07329756893446675, 0.9267024310655332], 1.0, 'Risk'], ['no_checking', 26, 'prior_payments_delayed', 'car_used', 5783, '100_to_500', '1_to_4', 4, 'male', 'guarantor', 5, 'savings_insurance', 56, 'none', 'free', 2, 'skilled', 2, 'yes', 'yes', 0.0, 0.0, 0.0, 1.0, 0.0, 2.0, 0.0, 0.0, 2.0, 2.0, 0.0, 0.0, 1.0, [0.0, 0.0, 2.0, 1.0, 0.0, 0.0, 2.0, 0.0, 0.0, 2.0, 0.0, 1.0, 0.0, 26.0, 5783.0, 4.0, 5.0, 26.0, 56.0, 2.0, 2.0], [8.182814055678602, 11.817185944321396], [0.4091407027839301, 0.5908592972160698], 1.0, 'Risk'], ['no_checking', 23, 'prior_payments_delayed', 'furniture', 4157, '100_to_500', '4_to_7', 3, 'male', 'none', 3, 'savings_insurance', 42, 'none', 'own', 2, 'skilled', 1, 'none', 'yes', 0.0, 0.0, 1.0, 1.0, 0.0, 0.0, 0.0, 0.0, 1.0, 0.0, 0.0, 0.0, 0.0, [21, [2, 3, 4, 13, 14, 15, 16, 17, 18, 19, 20], [1.0, 1.0, 1.0, 23.0, 4157.0, 3.0, 3.0, 23.0, 42.0, 2.0, 1.0]], [11.616761406706102, 8.383238593293894], [0.5808380703353052, 0.4191619296646948], 0.0, 'No Risk'], ['less_0', 16, 'prior_payments_delayed', 'car_new', 2383, 'less_100', '1_to_4', 3, 'male', 'none', 2, 'car_other', 30, 'none', 'own', 1, 'skilled', 2, 'yes', 'yes', 1.0, 0.0, 0.0, 0.0, 0.0, 0.0, 0.0, 0.0, 0.0, 0.0, 1.0, 0.0, 1.0, [21, [0, 7, 11, 13, 14, 15, 16, 17, 18, 19, 20], [1.0, 1.0, 1.0, 16.0, 2383.0, 3.0, 2.0, 16.0, 30.0, 1.0, 2.0]], [16.745460945319028, 3.2545390546809716], [0.8372730472659514, 0.16272695273404858], 0.0, 'No Risk'], ['less_0', 35, 'outstanding_credit', 'education', 4388, '100_to_500', 'less_1', 2, 'male', 'none', 1, 'unknown', 44, 'stores', 'own', 2, 'skilled', 1, 'yes', 'yes', 1.0, 2.0, 3.0, 1.0, 0.0, 0.0, 1.0, 0.0, 7.0, 0.0, 3.0, 0.0, 1.0, [1.0, 2.0, 7.0, 1.0, 3.0, 0.0, 0.0, 3.0, 1.0, 0.0, 0.0, 1.0, 0.0, 35.0, 4388.0, 2.0, 1.0, 35.0, 44.0, 2.0, 1.0], [11.842811230417455, 8.157188769582545], [0.5921405615208728, 0.40785943847912726], 0.0, 'No Risk'], ['no_checking', 8, 'credits_paid_to_date', 'education', 3138, 'less_100', '1_to_4', 2, 'female', 'none', 3, 'savings_insurance', 42, 'stores', 'own', 1, 'unskilled', 1, 'none', 'yes', 0.0, 1.0, 0.0, 0.0, 0.0, 0.0, 1.0, 1.0, 7.0, 0.0, 0.0, 1.0, 0.0, [0.0, 1.0, 7.0, 0.0, 0.0, 1.0, 0.0, 0.0, 1.0, 0.0, 1.0, 0.0, 0.0, 8.0, 3138.0, 2.0, 3.0, 8.0, 42.0, 1.0, 1.0], [15.805242414605381, 4.19475758539462], [0.790262120730269, 0.209737879269731], 0.0, 'No Risk'], ['less_0', 19, 'prior_payments_delayed', 'retraining', 4211, '100_to_500', '1_to_4', 2, 'male', 'none', 1, 'car_other', 35, 'bank', 'own', 2, 'unskilled', 1, 'none', 'yes', 1.0, 0.0, 0.0, 1.0, 0.0, 0.0, 2.0, 1.0, 8.0, 0.0, 1.0, 0.0, 0.0, [1.0, 0.0, 8.0, 1.0, 0.0, 0.0, 0.0, 1.0, 2.0, 0.0, 1.0, 0.0, 0.0, 19.0, 4211.0, 2.0, 1.0, 19.0, 35.0, 2.0, 1.0], [15.38755700968528, 4.612442990314718], [0.7693778504842641, 0.23062214951573592], 0.0, 'No Risk'], ['less_0', 8, 'all_credits_paid_back', 'car_new', 250, 'less_100', '1_to_4', 2, 'female', 'none', 3, 'savings_insurance', 19, 'none', 'own', 1, 'skilled', 1, 'none', 'yes', 1.0, 3.0, 0.0, 0.0, 0.0, 0.0, 0.0, 0.0, 0.0, 0.0, 0.0, 1.0, 0.0, [21, [0, 1, 5, 13, 14, 15, 16, 17, 18, 19, 20], [1.0, 3.0, 1.0, 8.0, 250.0, 2.0, 3.0, 8.0, 19.0, 1.0, 1.0]], [18.584005105316084, 1.4159948946839178], [0.9292002552658041, 0.07079974473419588], 0.0, 'No Risk'], ['no_checking', 27, 'prior_payments_delayed', 'radio_tv', 6175, '100_to_500', '1_to_4', 4, 'male', 'none', 4, 'car_other', 45, 'stores', 'own', 2, 'unskilled', 1, 'yes', 'yes', 0.0, 0.0, 0.0, 1.0, 0.0, 0.0, 1.0, 1.0, 3.0, 0.0, 1.0, 0.0, 1.0, [0.0, 0.0, 3.0, 1.0, 0.0, 0.0, 0.0, 1.0, 1.0, 0.0, 1.0, 1.0, 0.0, 27.0, 6175.0, 4.0, 4.0, 27.0, 45.0, 2.0, 1.0], [11.18090105928417, 8.819098940715831], [0.5590450529642086, 0.4409549470357915], 0.0, 'No Risk'], ['0_to_200', 21, 'all_credits_paid_back', 'car_new', 4613, '500_to_1000', '4_to_7', 3, 'female', 'none', 1, 'unknown', 50, 'stores', 'own', 2, 'skilled', 1, 'none', 'yes', 2.0, 3.0, 1.0, 2.0, 0.0, 0.0, 1.0, 0.0, 0.0, 0.0, 3.0, 1.0, 0.0, [2.0, 3.0, 0.0, 2.0, 1.0, 1.0, 0.0, 3.0, 1.0, 0.0, 0.0, 0.0, 0.0, 21.0, 4613.0, 3.0, 1.0, 21.0, 50.0, 2.0, 1.0], [13.66980826268674, 6.330191737313262], [0.683490413134337, 0.3165095868656631], 0.0, 'No Risk'], ['no_checking', 49, 'outstanding_credit', 'appliances', 8510, 'greater_1000', 'greater_7', 5, 'male', 'co-applicant', 5, 'unknown', 47, 'none', 'free', 2, 'skilled', 2, 'yes', 'yes', 0.0, 2.0, 2.0, 3.0, 0.0, 2.0, 0.0, 0.0, 4.0, 1.0, 3.0, 0.0, 1.0, [0.0, 2.0, 4.0, 3.0, 2.0, 0.0, 1.0, 3.0, 0.0, 2.0, 0.0, 1.0, 0.0, 49.0, 8510.0, 5.0, 5.0, 49.0, 47.0, 2.0, 2.0], [1.4659513786893352, 18.534048621310667], [0.07329756893446675, 0.9267024310655332], 1.0, 'Risk'], ['less_0', 6, 'all_credits_paid_back', 'car_new', 250, 'less_100', '1_to_4', 1, 'female', 'none', 2, 'savings_insurance', 19, 'bank', 'rent', 1, 'unskilled', 1, 'none', 'yes', 1.0, 3.0, 0.0, 0.0, 0.0, 1.0, 2.0, 1.0, 0.0, 0.0, 0.0, 1.0, 0.0, [1.0, 3.0, 0.0, 0.0, 0.0, 1.0, 0.0, 0.0, 2.0, 1.0, 1.0, 0.0, 0.0, 6.0, 250.0, 1.0, 2.0, 6.0, 19.0, 1.0, 1.0], [19.08176518571498, 0.9182348142850228], [0.9540882592857489, 0.045911740714251144], 0.0, 'No Risk'], ['0_to_200', 24, 'all_credits_paid_back', 'car_new', 2236, 'less_100', 'unemployed', 2, 'female', 'none', 2, 'real_estate', 28, 'none', 'own', 1, 'skilled', 1, 'none', 'yes', 2.0, 3.0, 4.0, 0.0, 0.0, 0.0, 0.0, 0.0, 0.0, 0.0, 2.0, 1.0, 0.0, [2.0, 3.0, 0.0, 0.0, 4.0, 1.0, 0.0, 2.0, 0.0, 0.0, 0.0, 0.0, 0.0, 24.0, 2236.0, 2.0, 2.0, 24.0, 28.0, 1.0, 1.0], [18.521286438331153, 1.478713561668849], [0.9260643219165576, 0.07393567808344245], 0.0, 'No Risk'], ['greater_200', 7, 'credits_paid_to_date', 'car_used', 250, 'less_100', '1_to_4', 3, 'female', 'none', 2, 'savings_insurance', 31, 'bank', 'rent', 1, 'unskilled', 1, 'none', 'yes', 3.0, 1.0, 0.0, 0.0, 0.0, 1.0, 2.0, 1.0, 2.0, 0.0, 0.0, 1.0, 0.0, [3.0, 1.0, 2.0, 0.0, 0.0, 1.0, 0.0, 0.0, 2.0, 1.0, 1.0, 0.0, 0.0, 7.0, 250.0, 3.0, 2.0, 7.0, 31.0, 1.0, 1.0], [18.153501816530543, 1.846498183469456], [0.9076750908265272, 0.0923249091734728], 0.0, 'No Risk'], ['0_to_200', 14, 'credits_paid_to_date', 'repairs', 2036, 'less_100', 'less_1', 3, 'female', 'none', 3, 'real_estate', 30, 'none', 'own', 1, 'management_self-employed', 1, 'none', 'yes', 2.0, 1.0, 3.0, 0.0, 0.0, 0.0, 0.0, 2.0, 5.0, 0.0, 2.0, 1.0, 0.0, [2.0, 1.0, 5.0, 0.0, 3.0, 1.0, 0.0, 2.0, 0.0, 0.0, 2.0, 0.0, 0.0, 14.0, 2036.0, 3.0, 3.0, 14.0, 30.0, 1.0, 1.0], [18.72048987228818, 1.2795101277118213], [0.936024493614409, 0.06397550638559106], 0.0, 'No Risk'], ['no_checking', 20, 'credits_paid_to_date', 'radio_tv', 5988, '100_to_500', '1_to_4', 3, 'female', 'none', 3, 'unknown', 41, 'none', 'own', 1, 'skilled', 1, 'none', 'yes', 0.0, 1.0, 0.0, 1.0, 0.0, 0.0, 0.0, 0.0, 3.0, 0.0, 3.0, 1.0, 0.0, [0.0, 1.0, 3.0, 1.0, 0.0, 1.0, 0.0, 3.0, 0.0, 0.0, 0.0, 0.0, 0.0, 20.0, 5988.0, 3.0, 3.0, 20.0, 41.0, 1.0, 1.0], [13.774915666553245, 6.225084333446754], [0.6887457833276622, 0.31125421667233766], 0.0, 'No Risk'], ['no_checking', 31, 'all_credits_paid_back', 'furniture', 6644, 'greater_1000', '1_to_4', 3, 'male', 'none', 4, 'unknown', 37, 'stores', 'own', 3, 'unskilled', 2, 'yes', 'no', 0.0, 3.0, 0.0, 3.0, 1.0, 0.0, 1.0, 1.0, 1.0, 0.0, 3.0, 0.0, 1.0, [0.0, 3.0, 1.0, 3.0, 0.0, 0.0, 0.0, 3.0, 1.0, 0.0, 1.0, 1.0, 1.0, 31.0, 6644.0, 3.0, 4.0, 31.0, 37.0, 3.0, 2.0], [11.441962802704444, 8.558037197295555], [0.5720981401352222, 0.42790185986477774], 0.0, 'No Risk'], ['greater_200', 24, 'credits_paid_to_date', 'furniture', 2750, '100_to_500', '4_to_7', 4, 'female', 'none', 4, 'real_estate', 32, 'bank', 'rent', 1, 'unskilled', 2, 'none', 'yes', 3.0, 1.0, 1.0, 1.0, 0.0, 1.0, 2.0, 1.0, 1.0, 0.0, 2.0, 1.0, 0.0, [3.0, 1.0, 1.0, 1.0, 1.0, 1.0, 0.0, 2.0, 2.0, 1.0, 1.0, 0.0, 0.0, 24.0, 2750.0, 4.0, 4.0, 24.0, 32.0, 1.0, 2.0], [15.911882226390965, 4.0881177736090315], [0.7955941113195484, 0.20440588868045162], 0.0, 'No Risk'], ['no_checking', 26, 'credits_paid_to_date', 'car_used', 7009, '100_to_500', '4_to_7', 4, 'female', 'none', 4, 'savings_insurance', 45, 'none', 'own', 3, 'management_self-employed', 1, 'yes', 'yes', 0.0, 1.0, 1.0, 1.0, 0.0, 0.0, 0.0, 2.0, 2.0, 0.0, 0.0, 1.0, 1.0, [0.0, 1.0, 2.0, 1.0, 1.0, 1.0, 0.0, 0.0, 0.0, 0.0, 2.0, 1.0, 0.0, 26.0, 7009.0, 4.0, 4.0, 26.0, 45.0, 3.0, 1.0], [8.048650461320216, 11.951349538679782], [0.4024325230660108, 0.5975674769339892], 1.0, 'Risk'], ['less_0', 4, 'all_credits_paid_back', 'car_new', 250, 'less_100', 'less_1', 1, 'male', 'none', 1, 'real_estate', 23, 'stores', 'rent', 1, 'skilled', 1, 'none', 'yes', 1.0, 3.0, 3.0, 0.0, 0.0, 1.0, 1.0, 0.0, 0.0, 0.0, 2.0, 0.0, 0.0, [1.0, 3.0, 0.0, 0.0, 3.0, 0.0, 0.0, 2.0, 1.0, 1.0, 0.0, 0.0, 0.0, 4.0, 250.0, 1.0, 1.0, 4.0, 23.0, 1.0, 1.0], [19.485523205504506, 0.5144767944954936], [0.9742761602752253, 0.025723839724774676], 0.0, 'No Risk'], ['less_0', 11, 'prior_payments_delayed', 'car_new', 250, 'less_100', '1_to_4', 2, 'male', 'none', 2, 'savings_insurance', 28, 'stores', 'own', 1, 'skilled', 1, 'none', 'yes', 1.0, 0.0, 0.0, 0.0, 0.0, 0.0, 1.0, 0.0, 0.0, 0.0, 0.0, 0.0, 0.0, [21, [0, 8, 13, 14, 15, 16, 17, 18, 19, 20], [1.0, 1.0, 11.0, 250.0, 2.0, 2.0, 11.0, 28.0, 1.0, 1.0]], [18.322981152532027, 1.6770188474679784], [0.9161490576266011, 0.0838509423733989], 0.0, 'No Risk'], ['no_checking', 27, 'outstanding_credit', 'appliances', 7220, '500_to_1000', '1_to_4', 4, 'male', 'none', 5, 'car_other', 34, 'none', 'own', 2, 'management_self-employed', 1, 'yes', 'yes', 0.0, 2.0, 0.0, 2.0, 0.0, 0.0, 0.0, 2.0, 4.0, 0.0, 1.0, 0.0, 1.0, [0.0, 2.0, 4.0, 2.0, 0.0, 0.0, 0.0, 1.0, 0.0, 0.0, 2.0, 1.0, 0.0, 27.0, 7220.0, 4.0, 5.0, 27.0, 34.0, 2.0, 1.0], [11.442687459142366, 8.557312540857634], [0.5721343729571183, 0.42786562704288167], 0.0, 'No Risk'], ['no_checking', 34, 'prior_payments_delayed', 'furniture', 4864, 'unknown', '4_to_7', 4, 'male', 'none', 5, 'car_other', 40, 'stores', 'own', 2, 'unskilled', 2, 'yes', 'yes', 0.0, 0.0, 1.0, 4.0, 0.0, 0.0, 1.0, 1.0, 1.0, 0.0, 1.0, 0.0, 1.0, [0.0, 0.0, 1.0, 4.0, 1.0, 0.0, 0.0, 1.0, 1.0, 0.0, 1.0, 1.0, 0.0, 34.0, 4864.0, 4.0, 5.0, 34.0, 40.0, 2.0, 2.0], [10.30386041168203, 9.696139588317969], [0.5151930205841014, 0.48480697941589845], 0.0, 'No Risk'], ['less_0', 10, 'prior_payments_delayed', 'retraining', 3368, '500_to_1000', '1_to_4', 2, 'female', 'none', 1, 'car_other', 43, 'bank', 'rent', 1, 'unemployed', 1, 'none', 'yes', 1.0, 0.0, 0.0, 2.0, 0.0, 1.0, 2.0, 3.0, 8.0, 0.0, 1.0, 1.0, 0.0, [1.0, 0.0, 8.0, 2.0, 0.0, 1.0, 0.0, 1.0, 2.0, 1.0, 3.0, 0.0, 0.0, 10.0, 3368.0, 2.0, 1.0, 10.0, 43.0, 1.0, 1.0], [16.153357015529675, 3.8466429844703267], [0.8076678507764837, 0.19233214922351632], 0.0, 'No Risk'], ['0_to_200', 29, 'credits_paid_to_date', 'radio_tv', 2330, '500_to_1000', 'less_1', 1, 'male', 'none', 2, 'real_estate', 23, 'stores', 'rent', 1, 'skilled', 1, 'none', 'yes', 2.0, 1.0, 3.0, 2.0, 0.0, 1.0, 1.0, 0.0, 3.0, 0.0, 2.0, 0.0, 0.0, [2.0, 1.0, 3.0, 2.0, 3.0, 0.0, 0.0, 2.0, 1.0, 1.0, 0.0, 0.0, 0.0, 29.0, 2330.0, 1.0, 2.0, 29.0, 23.0, 1.0, 1.0], [17.106776277747677, 2.893223722252324], [0.8553388138873839, 0.1446611861126162], 0.0, 'No Risk'], ['0_to_200', 20, 'credits_paid_to_date', 'radio_tv', 1554, 'less_100', '1_to_4', 2, 'male', 'none', 2, 'real_estate', 36, 'none', 'rent', 1, 'skilled', 1, 'none', 'yes', 2.0, 1.0, 0.0, 0.0, 0.0, 1.0, 0.0, 0.0, 3.0, 0.0, 2.0, 0.0, 0.0, [2.0, 1.0, 3.0, 0.0, 0.0, 0.0, 0.0, 2.0, 0.0, 1.0, 0.0, 0.0, 0.0, 20.0, 1554.0, 2.0, 2.0, 20.0, 36.0, 1.0, 1.0], [17.229921387997813, 2.7700786120021865], [0.8614960693998907, 0.13850393060010932], 0.0, 'No Risk'], ['0_to_200', 18, 'prior_payments_delayed', 'car_used', 4494, '500_to_1000', 'greater_7', 3, 'female', 'none', 2, 'savings_insurance', 46, 'stores', 'own', 3, 'skilled', 2, 'yes', 'yes', 2.0, 0.0, 2.0, 2.0, 0.0, 0.0, 1.0, 0.0, 2.0, 0.0, 0.0, 1.0, 1.0, [2.0, 0.0, 2.0, 2.0, 2.0, 1.0, 0.0, 0.0, 1.0, 0.0, 0.0, 1.0, 0.0, 18.0, 4494.0, 3.0, 2.0, 18.0, 46.0, 3.0, 2.0], [12.986308313695675, 7.013691686304323], [0.6493154156847838, 0.35068458431521615], 0.0, 'No Risk'], ['less_0', 25, 'prior_payments_delayed', 'business', 1344, 'less_100', '1_to_4', 3, 'male', 'none', 2, 'car_other', 19, 'bank', 'own', 1, 'unemployed', 1, 'none', 'yes', 1.0, 0.0, 0.0, 0.0, 0.0, 0.0, 2.0, 3.0, 9.0, 0.0, 1.0, 0.0, 0.0, [1.0, 0.0, 9.0, 0.0, 0.0, 0.0, 0.0, 1.0, 2.0, 0.0, 3.0, 0.0, 0.0, 25.0, 1344.0, 3.0, 2.0, 25.0, 19.0, 1.0, 1.0], [16.629988471757784, 3.370011528242216], [0.8314994235878892, 0.1685005764121108], 0.0, 'No Risk'], ['0_to_200', 7, 'all_credits_paid_back', 'car_used', 250, '100_to_500', '4_to_7', 3, 'female', 'none', 3, 'savings_insurance', 28, 'none', 'rent', 1, 'skilled', 1, 'none', 'yes', 2.0, 3.0, 1.0, 1.0, 0.0, 1.0, 0.0, 0.0, 2.0, 0.0, 0.0, 1.0, 0.0, [2.0, 3.0, 2.0, 1.0, 1.0, 1.0, 0.0, 0.0, 0.0, 1.0, 0.0, 0.0, 0.0, 7.0, 250.0, 3.0, 3.0, 7.0, 28.0, 1.0, 1.0], [18.094290963699297, 1.9057090363007043], [0.9047145481849649, 0.09528545181503521], 0.0, 'No Risk'], ['0_to_200', 21, 'credits_paid_to_date', 'repairs', 250, 'greater_1000', 'less_1', 3, 'male', 'co-applicant', 3, 'real_estate', 31, 'none', 'own', 1, 'skilled', 1, 'yes', 'yes', 2.0, 1.0, 3.0, 3.0, 0.0, 0.0, 0.0, 0.0, 5.0, 1.0, 2.0, 0.0, 1.0, [2.0, 1.0, 5.0, 3.0, 3.0, 0.0, 1.0, 2.0, 0.0, 0.0, 0.0, 1.0, 0.0, 21.0, 250.0, 3.0, 3.0, 21.0, 31.0, 1.0, 1.0], [17.083749418099476, 2.9162505819005218], [0.8541874709049739, 0.14581252909502612], 0.0, 'No Risk'], ['0_to_200', 31, 'credits_paid_to_date', 'appliances', 2442, '100_to_500', '1_to_4', 2, 'female', 'co-applicant', 3, 'car_other', 52, 'stores', 'own', 1, 'unskilled', 1, 'yes', 'yes', 2.0, 1.0, 0.0, 1.0, 0.0, 0.0, 1.0, 1.0, 4.0, 1.0, 1.0, 1.0, 1.0, [2.0, 1.0, 4.0, 1.0, 0.0, 1.0, 1.0, 1.0, 1.0, 0.0, 1.0, 1.0, 0.0, 31.0, 2442.0, 2.0, 3.0, 31.0, 52.0, 1.0, 1.0], [10.941410953518863, 9.058589046481138], [0.5470705476759432, 0.4529294523240569], 0.0, 'No Risk'], ['less_0', 12, 'all_credits_paid_back', 'furniture', 3525, 'less_100', 'unemployed', 2, 'male', 'co-applicant', 3, 'real_estate', 32, 'none', 'own', 1, 'skilled', 1, 'yes', 'yes', 1.0, 3.0, 4.0, 0.0, 0.0, 0.0, 0.0, 0.0, 1.0, 1.0, 2.0, 0.0, 1.0, [1.0, 3.0, 1.0, 0.0, 4.0, 0.0, 1.0, 2.0, 0.0, 0.0, 0.0, 1.0, 0.0, 12.0, 3525.0, 2.0, 3.0, 12.0, 32.0, 1.0, 1.0], [17.46122037455555, 2.5387796254444517], [0.8730610187277774, 0.12693898127222258], 0.0, 'No Risk'], ['no_checking', 34, 'prior_payments_delayed', 'repairs', 5352, '500_to_1000', '4_to_7', 5, 'male', 'none', 3, 'savings_insurance', 45, 'none', 'own', 2, 'skilled', 2, 'yes', 'yes', 0.0, 0.0, 1.0, 2.0, 0.0, 0.0, 0.0, 0.0, 5.0, 0.0, 0.0, 0.0, 1.0, [21, [2, 3, 4, 11, 13, 14, 15, 16, 17, 18, 19, 20], [5.0, 2.0, 1.0, 1.0, 34.0, 5352.0, 5.0, 3.0, 34.0, 45.0, 2.0, 2.0]], [8.28041770535772, 11.71958229464228], [0.41402088526788605, 0.585979114732114], 1.0, 'Risk'], ['no_checking', 48, 'outstanding_credit', 'repairs', 9355, 'greater_1000', 'greater_7', 5, 'male', 'co-applicant', 5, 'unknown', 48, 'none', 'own', 2, 'skilled', 2, 'yes', 'yes', 0.0, 2.0, 2.0, 3.0, 0.0, 0.0, 0.0, 0.0, 5.0, 1.0, 3.0, 0.0, 1.0, [0.0, 2.0, 5.0, 3.0, 2.0, 0.0, 1.0, 3.0, 0.0, 0.0, 0.0, 1.0, 0.0, 48.0, 9355.0, 5.0, 5.0, 48.0, 48.0, 2.0, 2.0], [2.3704048564409947, 17.629595143559005], [0.11852024282204973, 0.8814797571779502], 1.0, 'Risk'], ['0_to_200', 23, 'all_credits_paid_back', 'car_used', 1835, '100_to_500', '1_to_4', 3, 'male', 'none', 2, 'real_estate', 31, 'none', 'own', 1, 'skilled', 1, 'none', 'yes', 2.0, 3.0, 0.0, 1.0, 0.0, 0.0, 0.0, 0.0, 2.0, 0.0, 2.0, 0.0, 0.0, [2.0, 3.0, 2.0, 1.0, 0.0, 0.0, 0.0, 2.0, 0.0, 0.0, 0.0, 0.0, 0.0, 23.0, 1835.0, 3.0, 2.0, 23.0, 31.0, 1.0, 1.0], [17.589946895756185, 2.410053104243815], [0.8794973447878093, 0.12050265521219075], 0.0, 'No Risk'], ['no_checking', 13, 'credits_paid_to_date', 'car_new', 819, 'greater_1000', 'greater_7', 3, 'male', 'none', 3, 'real_estate', 41, 'none', 'own', 2, 'skilled', 2, 'none', 'yes', 0.0, 1.0, 2.0, 3.0, 0.0, 0.0, 0.0, 0.0, 0.0, 0.0, 2.0, 0.0, 0.0, [21, [1, 3, 4, 7, 13, 14, 15, 16, 17, 18, 19, 20], [1.0, 3.0, 2.0, 2.0, 13.0, 819.0, 3.0, 3.0, 13.0, 41.0, 2.0, 2.0]], [13.832928608310041, 6.1670713916899595], [0.6916464304155021, 0.308353569584498], 0.0, 'No Risk'], ['less_0', 27, 'prior_payments_delayed', 'car_used', 403, 'greater_1000', '1_to_4', 3, 'female', 'none', 2, 'savings_insurance', 26, 'stores', 'own', 2, 'unskilled', 1, 'none', 'yes', 1.0, 0.0, 0.0, 3.0, 0.0, 0.0, 1.0, 1.0, 2.0, 0.0, 0.0, 1.0, 0.0, [1.0, 0.0, 2.0, 3.0, 0.0, 1.0, 0.0, 0.0, 1.0, 0.0, 1.0, 0.0, 0.0, 27.0, 403.0, 3.0, 2.0, 27.0, 26.0, 2.0, 1.0], [15.200465849040558, 4.79953415095944], [0.7600232924520279, 0.239976707547972], 0.0, 'No Risk'], ['no_checking', 21, 'credits_paid_to_date', 'car_new', 5899, 'greater_1000', '4_to_7', 4, 'male', 'none', 4, 'car_other', 37, 'none', 'own', 2, 'management_self-employed', 1, 'none', 'yes', 0.0, 1.0, 1.0, 3.0, 0.0, 0.0, 0.0, 2.0, 0.0, 0.0, 1.0, 0.0, 0.0, [0.0, 1.0, 0.0, 3.0, 1.0, 0.0, 0.0, 1.0, 0.0, 0.0, 2.0, 0.0, 0.0, 21.0, 5899.0, 4.0, 4.0, 21.0, 37.0, 2.0, 1.0], [11.25143968935114, 8.748560310648859], [0.562571984467557, 0.4374280155324429], 0.0, 'No Risk'], ['0_to_200', 32, 'credits_paid_to_date', 'radio_tv', 4834, '100_to_500', '1_to_4', 4, 'male', 'none', 2, 'car_other', 35, 'none', 'own', 2, 'skilled', 1, 'none', 'yes', 2.0, 1.0, 0.0, 1.0, 0.0, 0.0, 0.0, 0.0, 3.0, 0.0, 1.0, 0.0, 0.0, [2.0, 1.0, 3.0, 1.0, 0.0, 0.0, 0.0, 1.0, 0.0, 0.0, 0.0, 0.0, 0.0, 32.0, 4834.0, 4.0, 2.0, 32.0, 35.0, 2.0, 1.0], [14.361954478552718, 5.638045521447282], [0.7180977239276359, 0.28190227607236407], 0.0, 'No Risk'], ['less_0', 4, 'all_credits_paid_back', 'car_new', 1813, 'less_100', '1_to_4', 3, 'female', 'none', 3, 'savings_insurance', 23, 'none', 'rent', 1, 'skilled', 1, 'none', 'yes', 1.0, 3.0, 0.0, 0.0, 0.0, 1.0, 0.0, 0.0, 0.0, 0.0, 0.0, 1.0, 0.0, [21, [0, 1, 5, 9, 13, 14, 15, 16, 17, 18, 19, 20], [1.0, 3.0, 1.0, 1.0, 4.0, 1813.0, 3.0, 3.0, 4.0, 23.0, 1.0, 1.0]], [18.794802504948102, 1.2051974950519], [0.9397401252474051, 0.060259874752595], 0.0, 'No Risk'], ['less_0', 25, 'credits_paid_to_date', 'car_new', 1414, 'less_100', '4_to_7', 3, 'female', 'none', 3, 'savings_insurance', 39, 'bank', 'own', 1, 'unemployed', 1, 'yes', 'yes', 1.0, 1.0, 1.0, 0.0, 0.0, 0.0, 2.0, 3.0, 0.0, 0.0, 0.0, 1.0, 1.0, [1.0, 1.0, 0.0, 0.0, 1.0, 1.0, 0.0, 0.0, 2.0, 0.0, 3.0, 1.0, 0.0, 25.0, 1414.0, 3.0, 3.0, 25.0, 39.0, 1.0, 1.0], [13.553285982294646, 6.44671401770535], [0.6776642991147325, 0.3223357008852676], 0.0, 'No Risk'], ['no_checking', 28, 'outstanding_credit', 'appliances', 5472, '500_to_1000', '4_to_7', 4, 'male', 'none', 5, 'unknown', 50, 'none', 'free', 2, 'management_self-employed', 1, 'yes', 'yes', 0.0, 2.0, 1.0, 2.0, 0.0, 2.0, 0.0, 2.0, 4.0, 0.0, 3.0, 0.0, 1.0, [0.0, 2.0, 4.0, 2.0, 1.0, 0.0, 0.0, 3.0, 0.0, 2.0, 2.0, 1.0, 0.0, 28.0, 5472.0, 4.0, 5.0, 28.0, 50.0, 2.0, 1.0], [5.315096982961101, 14.684903017038899], [0.26575484914805503, 0.734245150851945], 1.0, 'Risk'], ['less_0', 8, 'all_credits_paid_back', 'car_used', 1202, 'less_100', '1_to_4', 2, 'female', 'none', 2, 'real_estate', 26, 'bank', 'rent', 1, 'unemployed', 1, 'none', 'yes', 1.0, 3.0, 0.0, 0.0, 0.0, 1.0, 2.0, 3.0, 2.0, 0.0, 2.0, 1.0, 0.0, [1.0, 3.0, 2.0, 0.0, 0.0, 1.0, 0.0, 2.0, 2.0, 1.0, 3.0, 0.0, 0.0, 8.0, 1202.0, 2.0, 2.0, 8.0, 26.0, 1.0, 1.0], [19.21559037039143, 0.7844096296085752], [0.9607795185195712, 0.039220481480428754], 0.0, 'No Risk'], ['no_checking', 26, 'prior_payments_delayed', 'business', 6547, '500_to_1000', '4_to_7', 4, 'male', 'none', 3, 'car_other', 35, 'none', 'own', 2, 'management_self-employed', 1, 'yes', 'yes', 0.0, 0.0, 1.0, 2.0, 0.0, 0.0, 0.0, 2.0, 9.0, 0.0, 1.0, 0.0, 1.0, [0.0, 0.0, 9.0, 2.0, 1.0, 0.0, 0.0, 1.0, 0.0, 0.0, 2.0, 1.0, 0.0, 26.0, 6547.0, 4.0, 3.0, 26.0, 35.0, 2.0, 1.0], [9.11877230572041, 10.88122769427959], [0.45593861528602053, 0.5440613847139795], 1.0, 'Risk'], ['greater_200', 36, 'outstanding_credit', 'furniture', 2530, 'unknown', '4_to_7', 3, 'male', 'none', 4, 'unknown', 46, 'none', 'own', 2, 'skilled', 2, 'yes', 'yes', 3.0, 2.0, 1.0, 4.0, 0.0, 0.0, 0.0, 0.0, 1.0, 0.0, 3.0, 0.0, 1.0, [3.0, 2.0, 1.0, 4.0, 1.0, 0.0, 0.0, 3.0, 0.0, 0.0, 0.0, 1.0, 0.0, 36.0, 2530.0, 3.0, 4.0, 36.0, 46.0, 2.0, 2.0], [7.9259015512008695, 12.07409844879913], [0.39629507756004345, 0.6037049224399565], 1.0, 'Risk'], ['less_0', 23, 'credits_paid_to_date', 'car_new', 875, '500_to_1000', 'less_1', 2, 'male', 'none', 3, 'savings_insurance', 33, 'stores', 'rent', 1, 'skilled', 1, 'none', 'yes', 1.0, 1.0, 3.0, 2.0, 0.0, 1.0, 1.0, 0.0, 0.0, 0.0, 0.0, 0.0, 0.0, [1.0, 1.0, 0.0, 2.0, 3.0, 0.0, 0.0, 0.0, 1.0, 1.0, 0.0, 0.0, 0.0, 23.0, 875.0, 2.0, 3.0, 23.0, 33.0, 1.0, 1.0], [15.08246175438507, 4.917538245614925], [0.7541230877192536, 0.24587691228074632], 0.0, 'No Risk'], ['no_checking', 9, 'credits_paid_to_date', 'car_new', 3160, '500_to_1000', 'less_1', 2, 'female', 'none', 2, 'savings_insurance', 33, 'none', 'own', 2, 'skilled', 1, 'yes', 'no', 0.0, 1.0, 3.0, 2.0, 1.0, 0.0, 0.0, 0.0, 0.0, 0.0, 0.0, 1.0, 1.0, [0.0, 1.0, 0.0, 2.0, 3.0, 1.0, 0.0, 0.0, 0.0, 0.0, 0.0, 1.0, 1.0, 9.0, 3160.0, 2.0, 2.0, 9.0, 33.0, 2.0, 1.0], [15.458770533776104, 4.5412294662238955], [0.7729385266888051, 0.22706147331119478], 0.0, 'No Risk'], ['no_checking', 8, 'credits_paid_to_date', 'vacation', 5121, 'less_100', 'less_1', 3, 'female', 'none', 3, 'savings_insurance', 21, 'none', 'rent', 1, 'management_self-employed', 1, 'none', 'yes', 0.0, 1.0, 3.0, 0.0, 0.0, 1.0, 0.0, 2.0, 6.0, 0.0, 0.0, 1.0, 0.0, [0.0, 1.0, 6.0, 0.0, 3.0, 1.0, 0.0, 0.0, 0.0, 1.0, 2.0, 0.0, 0.0, 8.0, 5121.0, 3.0, 3.0, 8.0, 21.0, 1.0, 1.0], [17.751076641062355, 2.248923358937646], [0.8875538320531178, 0.1124461679468823], 0.0, 'No Risk'], ['no_checking', 20, 'outstanding_credit', 'radio_tv', 8817, '100_to_500', '4_to_7', 5, 'male', 'none', 4, 'unknown', 51, 'none', 'own', 2, 'skilled', 2, 'yes', 'yes', 0.0, 2.0, 1.0, 1.0, 0.0, 0.0, 0.0, 0.0, 3.0, 0.0, 3.0, 0.0, 1.0, [0.0, 2.0, 3.0, 1.0, 1.0, 0.0, 0.0, 3.0, 0.0, 0.0, 0.0, 1.0, 0.0, 20.0, 8817.0, 5.0, 4.0, 20.0, 51.0, 2.0, 2.0], [6.882731647206541, 13.117268352793458], [0.34413658236032707, 0.6558634176396729], 1.0, 'Risk'], ['0_to_200', 31, 'outstanding_credit', 'radio_tv', 3174, '500_to_1000', 'greater_7', 3, 'male', 'none', 2, 'car_other', 41, 'none', 'own', 2, 'skilled', 1, 'yes', 'yes', 2.0, 2.0, 2.0, 2.0, 0.0, 0.0, 0.0, 0.0, 3.0, 0.0, 1.0, 0.0, 1.0, [2.0, 2.0, 3.0, 2.0, 2.0, 0.0, 0.0, 1.0, 0.0, 0.0, 0.0, 1.0, 0.0, 31.0, 3174.0, 3.0, 2.0, 31.0, 41.0, 2.0, 1.0], [11.528004692691784, 8.471995307308216], [0.5764002346345892, 0.4235997653654108], 0.0, 'No Risk'], ['less_0', 8, 'all_credits_paid_back', 'car_used', 1202, 'less_100', '1_to_4', 2, 'female', 'none', 2, 'real_estate', 26, 'bank', 'rent', 1, 'unemployed', 1, 'none', 'yes', 1.0, 3.0, 0.0, 0.0, 0.0, 1.0, 2.0, 3.0, 2.0, 0.0, 2.0, 1.0, 0.0, [1.0, 3.0, 2.0, 0.0, 0.0, 1.0, 0.0, 2.0, 2.0, 1.0, 3.0, 0.0, 0.0, 8.0, 1202.0, 2.0, 2.0, 8.0, 26.0, 1.0, 1.0], [19.21559037039143, 0.7844096296085752], [0.9607795185195712, 0.039220481480428754], 0.0, 'No Risk'], ['less_0', 13, 'credits_paid_to_date', 'furniture', 250, 'less_100', '4_to_7', 3, 'male', 'none', 3, 'savings_insurance', 25, 'none', 'own', 1, 'skilled', 1, 'none', 'yes', 1.0, 1.0, 1.0, 0.0, 0.0, 0.0, 0.0, 0.0, 1.0, 0.0, 0.0, 0.0, 0.0, [21, [0, 1, 2, 4, 13, 14, 15, 16, 17, 18, 19, 20], [1.0, 1.0, 1.0, 1.0, 13.0, 250.0, 3.0, 3.0, 13.0, 25.0, 1.0, 1.0]], [18.22037129080857, 1.7796287091914347], [0.9110185645404283, 0.08898143545957171], 0.0, 'No Risk'], ['0_to_200', 18, 'credits_paid_to_date', 'furniture', 1481, 'less_100', '1_to_4', 3, 'male', 'none', 3, 'savings_insurance', 30, 'stores', 'own', 1, 'skilled', 1, 'yes', 'yes', 2.0, 1.0, 0.0, 0.0, 0.0, 0.0, 1.0, 0.0, 1.0, 0.0, 0.0, 0.0, 1.0, [2.0, 1.0, 1.0, 0.0, 0.0, 0.0, 0.0, 0.0, 1.0, 0.0, 0.0, 1.0, 0.0, 18.0, 1481.0, 3.0, 3.0, 18.0, 30.0, 1.0, 1.0], [15.167447893865724, 4.832552106134273], [0.7583723946932863, 0.24162760530671368], 0.0, 'No Risk'], ['no_checking', 39, 'outstanding_credit', 'appliances', 5439, 'unknown', 'greater_7', 5, 'male', 'co-applicant', 4, 'car_other', 37, 'none', 'free', 2, 'skilled', 1, 'yes', 'yes', 0.0, 2.0, 2.0, 4.0, 0.0, 2.0, 0.0, 0.0, 4.0, 1.0, 1.0, 0.0, 1.0, [0.0, 2.0, 4.0, 4.0, 2.0, 0.0, 1.0, 1.0, 0.0, 2.0, 0.0, 1.0, 0.0, 39.0, 5439.0, 5.0, 4.0, 39.0, 37.0, 2.0, 1.0], [4.2233385261731184, 15.776661473826879], [0.21116692630865597, 0.788833073691344], 1.0, 'Risk'], ['0_to_200', 29, 'outstanding_credit', 'furniture', 4650, '100_to_500', '4_to_7', 3, 'male', 'none', 4, 'savings_insurance', 49, 'none', 'free', 2, 'skilled', 2, 'yes', 'yes', 2.0, 2.0, 1.0, 1.0, 0.0, 2.0, 0.0, 0.0, 1.0, 0.0, 0.0, 0.0, 1.0, [2.0, 2.0, 1.0, 1.0, 1.0, 0.0, 0.0, 0.0, 0.0, 2.0, 0.0, 1.0, 0.0, 29.0, 4650.0, 3.0, 4.0, 29.0, 49.0, 2.0, 2.0], [9.698417219821053, 10.301582780178947], [0.48492086099105264, 0.5150791390089473], 1.0, 'Risk'], ['no_checking', 42, 'prior_payments_delayed', 'repairs', 6299, 'unknown', '4_to_7', 4, 'male', 'none', 3, 'car_other', 53, 'none', 'free', 3, 'skilled', 2, 'yes', 'no', 0.0, 0.0, 1.0, 4.0, 1.0, 2.0, 0.0, 0.0, 5.0, 0.0, 1.0, 0.0, 1.0, [0.0, 0.0, 5.0, 4.0, 1.0, 0.0, 0.0, 1.0, 0.0, 2.0, 0.0, 1.0, 1.0, 42.0, 6299.0, 4.0, 3.0, 42.0, 53.0, 3.0, 2.0], [6.265196584085532, 13.734803415914469], [0.31325982920427664, 0.6867401707957235], 1.0, 'Risk'], ['less_0', 9, 'all_credits_paid_back', 'car_used', 2688, 'less_100', '1_to_4', 3, 'female', 'none', 2, 'car_other', 29, 'none', 'own', 1, 'skilled', 1, 'none', 'yes', 1.0, 3.0, 0.0, 0.0, 0.0, 0.0, 0.0, 0.0, 2.0, 0.0, 1.0, 1.0, 0.0, [1.0, 3.0, 2.0, 0.0, 0.0, 1.0, 0.0, 1.0, 0.0, 0.0, 0.0, 0.0, 0.0, 9.0, 2688.0, 3.0, 2.0, 9.0, 29.0, 1.0, 1.0], [18.3984497700285, 1.6015502299714979], [0.9199224885014251, 0.08007751149857491], 0.0, 'No Risk'], ['no_checking', 28, 'outstanding_credit', 'furniture', 10608, '500_to_1000', 'greater_7', 5, 'male', 'co-applicant', 4, 'unknown', 63, 'none', 'free', 2, 'skilled', 2, 'yes', 'yes', 0.0, 2.0, 2.0, 2.0, 0.0, 2.0, 0.0, 0.0, 1.0, 1.0, 3.0, 0.0, 1.0, [0.0, 2.0, 1.0, 2.0, 2.0, 0.0, 1.0, 3.0, 0.0, 2.0, 0.0, 1.0, 0.0, 28.0, 10608.0, 5.0, 4.0, 28.0, 63.0, 2.0, 2.0], [1.4104832186087917, 18.58951678139121], [0.07052416093043958, 0.9294758390695604], 1.0, 'Risk'], ['0_to_200', 14, 'credits_paid_to_date', 'vacation', 2853, 'less_100', 'less_1', 3, 'female', 'none', 3, 'savings_insurance', 30, 'none', 'own', 1, 'skilled', 1, 'none', 'yes', 2.0, 1.0, 3.0, 0.0, 0.0, 0.0, 0.0, 0.0, 6.0, 0.0, 0.0, 1.0, 0.0, [2.0, 1.0, 6.0, 0.0, 3.0, 1.0, 0.0, 0.0, 0.0, 0.0, 0.0, 0.0, 0.0, 14.0, 2853.0, 3.0, 3.0, 14.0, 30.0, 1.0, 1.0], [17.969201454130094, 2.0307985458699083], [0.8984600727065046, 0.10153992729349541], 0.0, 'No Risk'], ['greater_200', 34, 'outstanding_credit', 'appliances', 5250, '500_to_1000', '4_to_7', 4, 'male', 'none', 5, 'car_other', 40, 'none', 'own', 2, 'skilled', 1, 'none', 'yes', 3.0, 2.0, 1.0, 2.0, 0.0, 0.0, 0.0, 0.0, 4.0, 0.0, 1.0, 0.0, 0.0, [3.0, 2.0, 4.0, 2.0, 1.0, 0.0, 0.0, 1.0, 0.0, 0.0, 0.0, 0.0, 0.0, 34.0, 5250.0, 4.0, 5.0, 34.0, 40.0, 2.0, 1.0], [11.736088685972064, 8.263911314027936], [0.5868044342986032, 0.4131955657013968], 0.0, 'No Risk'], ['no_checking', 20, 'outstanding_credit', 'car_used', 3815, 'unknown', 'greater_7', 3, 'male', 'none', 4, 'car_other', 41, 'none', 'own', 2, 'skilled', 2, 'yes', 'yes', 0.0, 2.0, 2.0, 4.0, 0.0, 0.0, 0.0, 0.0, 2.0, 0.0, 1.0, 0.0, 1.0, [0.0, 2.0, 2.0, 4.0, 2.0, 0.0, 0.0, 1.0, 0.0, 0.0, 0.0, 1.0, 0.0, 20.0, 3815.0, 3.0, 4.0, 20.0, 41.0, 2.0, 2.0], [9.185890897248742, 10.81410910275126], [0.4592945448624371, 0.540705455137563], 1.0, 'Risk'], ['0_to_200', 24, 'credits_paid_to_date', 'retraining', 3794, '500_to_1000', '1_to_4', 3, 'male', 'none', 3, 'unknown', 45, 'none', 'own', 2, 'skilled', 2, 'yes', 'yes', 2.0, 1.0, 0.0, 2.0, 0.0, 0.0, 0.0, 0.0, 8.0, 0.0, 3.0, 0.0, 1.0, [2.0, 1.0, 8.0, 2.0, 0.0, 0.0, 0.0, 3.0, 0.0, 0.0, 0.0, 1.0, 0.0, 24.0, 3794.0, 3.0, 3.0, 24.0, 45.0, 2.0, 2.0], [12.438007655975353, 7.561992344024646], [0.6219003827987677, 0.3780996172012323], 0.0, 'No Risk'], ['0_to_200', 4, 'all_credits_paid_back', 'car_new', 2972, 'less_100', '1_to_4', 3, 'male', 'none', 1, 'car_other', 42, 'none', 'own', 1, 'skilled', 1, 'none', 'yes', 2.0, 3.0, 0.0, 0.0, 0.0, 0.0, 0.0, 0.0, 0.0, 0.0, 1.0, 0.0, 0.0, [21, [0, 1, 7, 13, 14, 15, 16, 17, 18, 19, 20], [2.0, 3.0, 1.0, 4.0, 2972.0, 3.0, 1.0, 4.0, 42.0, 1.0, 1.0]], [16.56289711740721, 3.437102882592789], [0.8281448558703606, 0.17185514412963945], 0.0, 'No Risk'], ['0_to_200', 20, 'credits_paid_to_date', 'car_used', 3297, 'less_100', '1_to_4', 2, 'female', 'none', 2, 'car_other', 35, 'stores', 'rent', 1, 'skilled', 1, 'none', 'yes', 2.0, 1.0, 0.0, 0.0, 0.0, 1.0, 1.0, 0.0, 2.0, 0.0, 1.0, 1.0, 0.0, [2.0, 1.0, 2.0, 0.0, 0.0, 1.0, 0.0, 1.0, 1.0, 1.0, 0.0, 0.0, 0.0, 20.0, 3297.0, 2.0, 2.0, 20.0, 35.0, 1.0, 1.0], [15.480430345206502, 4.5195696547934965], [0.7740215172603251, 0.22597848273967483], 0.0, 'No Risk'], ['greater_200', 22, 'outstanding_credit', 'radio_tv', 2396, '100_to_500', '4_to_7', 4, 'male', 'none', 2, 'savings_insurance', 32, 'none', 'own', 1, 'management_self-employed', 1, 'none', 'yes', 3.0, 2.0, 1.0, 1.0, 0.0, 0.0, 0.0, 2.0, 3.0, 0.0, 0.0, 0.0, 0.0, [3.0, 2.0, 3.0, 1.0, 1.0, 0.0, 0.0, 0.0, 0.0, 0.0, 2.0, 0.0, 0.0, 22.0, 2396.0, 4.0, 2.0, 22.0, 32.0, 1.0, 1.0], [15.850895005026457, 4.149104994973548], [0.7925447502513225, 0.20745524974867735], 0.0, 'No Risk'], ['less_0', 8, 'all_credits_paid_back', 'vacation', 1175, 'less_100', 'less_1', 2, 'female', 'none', 2, 'real_estate', 23, 'none', 'rent', 1, 'skilled', 1, 'none', 'yes', 1.0, 3.0, 3.0, 0.0, 0.0, 1.0, 0.0, 0.0, 6.0, 0.0, 2.0, 1.0, 0.0, [1.0, 3.0, 6.0, 0.0, 3.0, 1.0, 0.0, 2.0, 0.0, 1.0, 0.0, 0.0, 0.0, 8.0, 1175.0, 2.0, 2.0, 8.0, 23.0, 1.0, 1.0], [19.376634897974846, 0.623365102025156], [0.9688317448987422, 0.031168255101257803], 0.0, 'No Risk'], ['0_to_200', 28, 'credits_paid_to_date', 'furniture', 250, '100_to_500', 'less_1', 1, 'male', 'none', 3, 'real_estate', 23, 'stores', 'own', 1, 'skilled', 1, 'none', 'yes', 2.0, 1.0, 3.0, 1.0, 0.0, 0.0, 1.0, 0.0, 1.0, 0.0, 2.0, 0.0, 0.0, [2.0, 1.0, 1.0, 1.0, 3.0, 0.0, 0.0, 2.0, 1.0, 0.0, 0.0, 0.0, 0.0, 28.0, 250.0, 1.0, 3.0, 28.0, 23.0, 1.0, 1.0], [16.41045885016764, 3.5895411498323635], [0.8205229425083819, 0.17947705749161813], 0.0, 'No Risk'], ['no_checking', 38, 'prior_payments_delayed', 'appliances', 6499, '500_to_1000', 'greater_7', 5, 'male', 'co-applicant', 4, 'savings_insurance', 45, 'none', 'free', 2, 'skilled', 2, 'yes', 'yes', 0.0, 0.0, 2.0, 2.0, 0.0, 2.0, 0.0, 0.0, 4.0, 1.0, 0.0, 0.0, 1.0, [0.0, 0.0, 4.0, 2.0, 2.0, 0.0, 1.0, 0.0, 0.0, 2.0, 0.0, 1.0, 0.0, 38.0, 6499.0, 5.0, 4.0, 38.0, 45.0, 2.0, 2.0], [3.040945306228407, 16.95905469377159], [0.15204726531142035, 0.8479527346885796], 1.0, 'Risk'], ['0_to_200', 4, 'all_credits_paid_back', 'car_new', 250, 'less_100', '1_to_4', 1, 'male', 'none', 1, 'real_estate', 19, 'stores', 'own', 1, 'skilled', 1, 'none', 'yes', 2.0, 3.0, 0.0, 0.0, 0.0, 0.0, 1.0, 0.0, 0.0, 0.0, 2.0, 0.0, 0.0, [21, [0, 1, 7, 8, 13, 14, 15, 16, 17, 18, 19, 20], [2.0, 3.0, 2.0, 1.0, 4.0, 250.0, 1.0, 1.0, 4.0, 19.0, 1.0, 1.0]], [19.29148753561841, 0.7085124643815939], [0.9645743767809203, 0.03542562321907969], 0.0, 'No Risk'], ['no_checking', 23, 'credits_paid_to_date', 'car_used', 2782, '100_to_500', 'less_1', 3, 'male', 'none', 4, 'car_other', 27, 'none', 'own', 1, 'skilled', 1, 'none', 'yes', 0.0, 1.0, 3.0, 1.0, 0.0, 0.0, 0.0, 0.0, 2.0, 0.0, 1.0, 0.0, 0.0, [0.0, 1.0, 2.0, 1.0, 3.0, 0.0, 0.0, 1.0, 0.0, 0.0, 0.0, 0.0, 0.0, 23.0, 2782.0, 3.0, 4.0, 23.0, 27.0, 1.0, 1.0], [15.414455313138628, 4.58554468686137], [0.7707227656569314, 0.22927723434306851], 0.0, 'No Risk'], ['no_checking', 17, 'credits_paid_to_date', 'car_used', 3180, '100_to_500', '1_to_4', 3, 'male', 'none', 2, 'savings_insurance', 25, 'none', 'free', 2, 'skilled', 1, 'none', 'yes', 0.0, 1.0, 0.0, 1.0, 0.0, 2.0, 0.0, 0.0, 2.0, 0.0, 0.0, 0.0, 0.0, [21, [1, 2, 3, 9, 13, 14, 15, 16, 17, 18, 19, 20], [1.0, 2.0, 1.0, 2.0, 17.0, 3180.0, 3.0, 2.0, 17.0, 25.0, 2.0, 1.0]], [15.090155685026417, 4.909844314973577], [0.7545077842513211, 0.2454922157486789], 0.0, 'No Risk'], ['less_0', 37, 'credits_paid_to_date', 'radio_tv', 625, '100_to_500', '4_to_7', 3, 'female', 'none', 2, 'savings_insurance', 24, 'stores', 'own', 1, 'skilled', 1, 'none', 'yes', 1.0, 1.0, 1.0, 1.0, 0.0, 0.0, 1.0, 0.0, 3.0, 0.0, 0.0, 1.0, 0.0, [1.0, 1.0, 3.0, 1.0, 1.0, 1.0, 0.0, 0.0, 1.0, 0.0, 0.0, 0.0, 0.0, 37.0, 625.0, 3.0, 2.0, 37.0, 24.0, 1.0, 1.0], [15.14661881242792, 4.85338118757208], [0.757330940621396, 0.242669059378604], 0.0, 'No Risk'], ['0_to_200', 32, 'credits_paid_to_date', 'retraining', 4989, '500_to_1000', '1_to_4', 4, 'male', 'none', 2, 'car_other', 19, 'none', 'own', 1, 'skilled', 2, 'none', 'yes', 2.0, 1.0, 0.0, 2.0, 0.0, 0.0, 0.0, 0.0, 8.0, 0.0, 1.0, 0.0, 0.0, [2.0, 1.0, 8.0, 2.0, 0.0, 0.0, 0.0, 1.0, 0.0, 0.0, 0.0, 0.0, 0.0, 32.0, 4989.0, 4.0, 2.0, 32.0, 19.0, 1.0, 2.0], [15.754822845192214, 4.245177154807783], [0.7877411422596108, 0.21225885774038916], 0.0, 'No Risk'], ['0_to_200', 21, 'outstanding_credit', 'furniture', 1032, '100_to_500', 'greater_7', 4, 'male', 'none', 3, 'savings_insurance', 45, 'none', 'own', 1, 'skilled', 1, 'none', 'yes', 2.0, 2.0, 2.0, 1.0, 0.0, 0.0, 0.0, 0.0, 1.0, 0.0, 0.0, 0.0, 0.0, [2.0, 2.0, 1.0, 1.0, 2.0, 0.0, 0.0, 0.0, 0.0, 0.0, 0.0, 0.0, 0.0, 21.0, 1032.0, 4.0, 3.0, 21.0, 45.0, 1.0, 1.0], [12.697435372036772, 7.302564627963228], [0.6348717686018386, 0.3651282313981614], 0.0, 'No Risk'], ['0_to_200', 30, 'outstanding_credit', 'furniture', 7235, 'greater_1000', '4_to_7', 4, 'male', 'none', 3, 'unknown', 45, 'none', 'own', 2, 'skilled', 1, 'yes', 'yes', 2.0, 2.0, 1.0, 3.0, 0.0, 0.0, 0.0, 0.0, 1.0, 0.0, 3.0, 0.0, 1.0, [2.0, 2.0, 1.0, 3.0, 1.0, 0.0, 0.0, 3.0, 0.0, 0.0, 0.0, 1.0, 0.0, 30.0, 7235.0, 4.0, 3.0, 30.0, 45.0, 2.0, 1.0], [7.1982542416381525, 12.801745758361847], [0.3599127120819076, 0.6400872879180923], 1.0, 'Risk'], ['no_checking', 28, 'prior_payments_delayed', 'radio_tv', 5328, '100_to_500', '4_to_7', 3, 'female', 'guarantor', 4, 'savings_insurance', 52, 'bank', 'own', 2, 'unemployed', 1, 'yes', 'yes', 0.0, 0.0, 1.0, 1.0, 0.0, 0.0, 2.0, 3.0, 3.0, 2.0, 0.0, 1.0, 1.0, [0.0, 0.0, 3.0, 1.0, 1.0, 1.0, 2.0, 0.0, 2.0, 0.0, 3.0, 1.0, 0.0, 28.0, 5328.0, 3.0, 4.0, 28.0, 52.0, 2.0, 1.0], [5.565214301792775, 14.434785698207223], [0.27826071508963873, 0.7217392849103612], 1.0, 'Risk'], ['less_0', 36, 'credits_paid_to_date', 'car_used', 2975, 'greater_1000', '4_to_7', 3, 'male', 'none', 2, 'unknown', 20, 'stores', 'own', 1, 'unskilled', 1, 'none', 'yes', 1.0, 1.0, 1.0, 3.0, 0.0, 0.0, 1.0, 1.0, 2.0, 0.0, 3.0, 0.0, 0.0, [1.0, 1.0, 2.0, 3.0, 1.0, 0.0, 0.0, 3.0, 1.0, 0.0, 1.0, 0.0, 0.0, 36.0, 2975.0, 3.0, 2.0, 36.0, 20.0, 1.0, 1.0], [16.211574627867307, 3.788425372132695], [0.8105787313933652, 0.18942126860663472], 0.0, 'No Risk'], ['less_0', 25, 'all_credits_paid_back', 'furniture', 2986, 'less_100', 'less_1', 3, 'female', 'none', 2, 'car_other', 30, 'none', 'own', 1, 'skilled', 1, 'yes', 'yes', 1.0, 3.0, 3.0, 0.0, 0.0, 0.0, 0.0, 0.0, 1.0, 0.0, 1.0, 1.0, 1.0, [1.0, 3.0, 1.0, 0.0, 3.0, 1.0, 0.0, 1.0, 0.0, 0.0, 0.0, 1.0, 0.0, 25.0, 2986.0, 3.0, 2.0, 25.0, 30.0, 1.0, 1.0], [16.220203284161787, 3.7797967158382106], [0.8110101642080895, 0.18898983579191056], 0.0, 'No Risk'], ['no_checking', 25, 'prior_payments_delayed', 'furniture', 6705, '100_to_500', '4_to_7', 3, 'male', 'none', 4, 'car_other', 45, 'none', 'own', 1, 'management_self-employed', 2, 'yes', 'yes', 0.0, 0.0, 1.0, 1.0, 0.0, 0.0, 0.0, 2.0, 1.0, 0.0, 1.0, 0.0, 1.0, [0.0, 0.0, 1.0, 1.0, 1.0, 0.0, 0.0, 1.0, 0.0, 0.0, 2.0, 1.0, 0.0, 25.0, 6705.0, 3.0, 4.0, 25.0, 45.0, 1.0, 2.0], [8.667951167165885, 11.332048832834113], [0.43339755835829424, 0.5666024416417057], 1.0, 'Risk'], ['0_to_200', 4, 'all_credits_paid_back', 'car_used', 250, 'less_100', '1_to_4', 2, 'female', 'none', 2, 'savings_insurance', 23, 'none', 'own', 1, 'skilled', 1, 'none', 'yes', 2.0, 3.0, 0.0, 0.0, 0.0, 0.0, 0.0, 0.0, 2.0, 0.0, 0.0, 1.0, 0.0, [21, [0, 1, 2, 5, 13, 14, 15, 16, 17, 18, 19, 20], [2.0, 3.0, 2.0, 1.0, 4.0, 250.0, 2.0, 2.0, 4.0, 23.0, 1.0, 1.0]], [18.982157484145755, 1.017842515854245], [0.9491078742072878, 0.05089212579271225], 0.0, 'No Risk'], ['0_to_200', 15, 'prior_payments_delayed', 'retraining', 2626, 'greater_1000', '4_to_7', 3, 'female', 'none', 2, 'car_other', 48, 'bank', 'own', 2, 'unemployed', 1, 'none', 'yes', 2.0, 0.0, 1.0, 3.0, 0.0, 0.0, 2.0, 3.0, 8.0, 0.0, 1.0, 1.0, 0.0, [2.0, 0.0, 8.0, 3.0, 1.0, 1.0, 0.0, 1.0, 2.0, 0.0, 3.0, 0.0, 0.0, 15.0, 2626.0, 3.0, 2.0, 15.0, 48.0, 2.0, 1.0], [15.164034240499323, 4.835965759500683], [0.7582017120249659, 0.24179828797503405], 0.0, 'No Risk'], ['no_checking', 52, 'credits_paid_to_date', 'other', 6818, '500_to_1000', '1_to_4', 5, 'male', 'none', 4, 'savings_insurance', 31, 'none', 'own', 2, 'skilled', 1, 'none', 'yes', 0.0, 1.0, 0.0, 2.0, 0.0, 0.0, 0.0, 0.0, 10.0, 0.0, 0.0, 0.0, 0.0, [21, [1, 2, 3, 13, 14, 15, 16, 17, 18, 19, 20], [1.0, 10.0, 2.0, 52.0, 6818.0, 5.0, 4.0, 52.0, 31.0, 2.0, 1.0]], [12.847526525035972, 7.152473474964028], [0.6423763262517986, 0.35762367374820137], 0.0, 'No Risk'], ['0_to_200', 17, 'prior_payments_delayed', 'radio_tv', 1831, 'greater_1000', 'greater_7', 2, 'male', 'none', 3, 'car_other', 28, 'stores', 'own', 1, 'skilled', 2, 'none', 'yes', 2.0, 0.0, 2.0, 3.0, 0.0, 0.0, 1.0, 0.0, 3.0, 0.0, 1.0, 0.0, 0.0, [2.0, 0.0, 3.0, 3.0, 2.0, 0.0, 0.0, 1.0, 1.0, 0.0, 0.0, 0.0, 0.0, 17.0, 1831.0, 2.0, 3.0, 17.0, 28.0, 1.0, 2.0], [15.54554022401984, 4.454459775980161], [0.777277011200992, 0.22272298879900804], 0.0, 'No Risk'], ['no_checking', 22, 'credits_paid_to_date', 'furniture', 4519, '100_to_500', '1_to_4', 4, 'male', 'none', 4, 'car_other', 33, 'none', 'own', 1, 'management_self-employed', 1, 'none', 'yes', 0.0, 1.0, 0.0, 1.0, 0.0, 0.0, 0.0, 2.0, 1.0, 0.0, 1.0, 0.0, 0.0, [0.0, 1.0, 1.0, 1.0, 0.0, 0.0, 0.0, 1.0, 0.0, 0.0, 2.0, 0.0, 0.0, 22.0, 4519.0, 4.0, 4.0, 22.0, 33.0, 1.0, 1.0], [13.501047880496293, 6.498952119503707], [0.6750523940248147, 0.32494760597518535], 0.0, 'No Risk'], ['no_checking', 31, 'prior_payments_delayed', 'appliances', 5155, 'greater_1000', '4_to_7', 3, 'male', 'none', 4, 'savings_insurance', 38, 'none', 'own', 2, 'skilled', 1, 'none', 'yes', 0.0, 0.0, 1.0, 3.0, 0.0, 0.0, 0.0, 0.0, 4.0, 0.0, 0.0, 0.0, 0.0, [21, [2, 3, 4, 13, 14, 15, 16, 17, 18, 19, 20], [4.0, 3.0, 1.0, 31.0, 5155.0, 3.0, 4.0, 31.0, 38.0, 2.0, 1.0]], [11.026414380291312, 8.973585619708686], [0.5513207190145656, 0.4486792809854343], 0.0, 'No Risk'], ['less_0', 11, 'no_credits', 'car_new', 250, 'less_100', '1_to_4', 1, 'male', 'none', 1, 'real_estate', 19, 'stores', 'own', 1, 'unskilled', 1, 'none', 'yes', 1.0, 4.0, 0.0, 0.0, 0.0, 0.0, 1.0, 1.0, 0.0, 0.0, 2.0, 0.0, 0.0, [1.0, 4.0, 0.0, 0.0, 0.0, 0.0, 0.0, 2.0, 1.0, 0.0, 1.0, 0.0, 0.0, 11.0, 250.0, 1.0, 1.0, 11.0, 19.0, 1.0, 1.0], [19.32447867792109, 0.6755213220789128], [0.9662239338960543, 0.03377606610394564], 0.0, 'No Risk'], ['no_checking', 28, 'outstanding_credit', 'appliances', 5824, 'greater_1000', 'greater_7', 4, 'female', 'none', 2, 'car_other', 73, 'none', 'free', 3, 'skilled', 2, 'yes', 'yes', 0.0, 2.0, 2.0, 3.0, 0.0, 2.0, 0.0, 0.0, 4.0, 0.0, 1.0, 1.0, 1.0, [0.0, 2.0, 4.0, 3.0, 2.0, 1.0, 0.0, 1.0, 0.0, 2.0, 0.0, 1.0, 0.0, 28.0, 5824.0, 4.0, 2.0, 28.0, 73.0, 3.0, 2.0], [6.637162534094858, 13.362837465905141], [0.3318581267047429, 0.6681418732952571], 1.0, 'Risk'], ['0_to_200', 15, 'prior_payments_delayed', 'retraining', 398, 'less_100', 'less_1', 2, 'male', 'co-applicant', 2, 'savings_insurance', 44, 'none', 'own', 1, 'skilled', 1, 'yes', 'yes', 2.0, 0.0, 3.0, 0.0, 0.0, 0.0, 0.0, 0.0, 8.0, 1.0, 0.0, 0.0, 1.0, [2.0, 0.0, 8.0, 0.0, 3.0, 0.0, 1.0, 0.0, 0.0, 0.0, 0.0, 1.0, 0.0, 15.0, 398.0, 2.0, 2.0, 15.0, 44.0, 1.0, 1.0], [16.379495972750572, 3.620504027249424], [0.8189747986375288, 0.18102520136247124], 0.0, 'No Risk'], ['less_0', 13, 'credits_paid_to_date', 'car_used', 2580, '100_to_500', '4_to_7', 2, 'male', 'none', 1, 'unknown', 45, 'stores', 'own', 1, 'skilled', 2, 'yes', 'yes', 1.0, 1.0, 1.0, 1.0, 0.0, 0.0, 1.0, 0.0, 2.0, 0.0, 3.0, 0.0, 1.0, [1.0, 1.0, 2.0, 1.0, 1.0, 0.0, 0.0, 3.0, 1.0, 0.0, 0.0, 1.0, 0.0, 13.0, 2580.0, 2.0, 1.0, 13.0, 45.0, 1.0, 2.0], [16.634807195962676, 3.365192804037324], [0.8317403597981338, 0.16825964020186618], 0.0, 'No Risk'], ['no_checking', 28, 'outstanding_credit', 'education', 6366, '500_to_1000', 'greater_7', 3, 'male', 'none', 4, 'unknown', 48, 'stores', 'own', 1, 'unskilled', 1, 'yes', 'yes', 0.0, 2.0, 2.0, 2.0, 0.0, 0.0, 1.0, 1.0, 7.0, 0.0, 3.0, 0.0, 1.0, [0.0, 2.0, 7.0, 2.0, 2.0, 0.0, 0.0, 3.0, 1.0, 0.0, 1.0, 1.0, 0.0, 28.0, 6366.0, 3.0, 4.0, 28.0, 48.0, 1.0, 1.0], [7.456856724036682, 12.543143275963319], [0.3728428362018341, 0.6271571637981659], 1.0, 'Risk'], ['less_0', 18, 'credits_paid_to_date', 'furniture', 250, '500_to_1000', '1_to_4', 3, 'male', 'none', 2, 'real_estate', 19, 'stores', 'rent', 1, 'skilled', 1, 'none', 'yes', 1.0, 1.0, 0.0, 2.0, 0.0, 1.0, 1.0, 0.0, 1.0, 0.0, 2.0, 0.0, 0.0, [1.0, 1.0, 1.0, 2.0, 0.0, 0.0, 0.0, 2.0, 1.0, 1.0, 0.0, 0.0, 0.0, 18.0, 250.0, 3.0, 2.0, 18.0, 19.0, 1.0, 1.0], [18.432058587957393, 1.5679414120426052], [0.9216029293978698, 0.07839707060213028], 0.0, 'No Risk'], ['0_to_200', 4, 'all_credits_paid_back', 'radio_tv', 250, 'less_100', '1_to_4', 3, 'female', 'none', 3, 'savings_insurance', 36, 'none', 'own', 1, 'skilled', 1, 'yes', 'yes', 2.0, 3.0, 0.0, 0.0, 0.0, 0.0, 0.0, 0.0, 3.0, 0.0, 0.0, 1.0, 1.0, [2.0, 3.0, 3.0, 0.0, 0.0, 1.0, 0.0, 0.0, 0.0, 0.0, 0.0, 1.0, 0.0, 4.0, 250.0, 3.0, 3.0, 4.0, 36.0, 1.0, 1.0], [16.633354903150607, 3.3666450968493935], [0.8316677451575304, 0.16833225484246966], 0.0, 'No Risk'], ['no_checking', 25, 'outstanding_credit', 'furniture', 5572, '500_to_1000', 'greater_7', 4, 'male', 'none', 4, 'unknown', 54, 'none', 'own', 2, 'skilled', 2, 'yes', 'yes', 0.0, 2.0, 2.0, 2.0, 0.0, 0.0, 0.0, 0.0, 1.0, 0.0, 3.0, 0.0, 1.0, [0.0, 2.0, 1.0, 2.0, 2.0, 0.0, 0.0, 3.0, 0.0, 0.0, 0.0, 1.0, 0.0, 25.0, 5572.0, 4.0, 4.0, 25.0, 54.0, 2.0, 2.0], [5.344043896484963, 14.655956103515038], [0.2672021948242481, 0.7327978051757519], 1.0, 'Risk'], ['less_0', 18, 'credits_paid_to_date', 'furniture', 3860, 'less_100', 'less_1', 2, 'female', 'none', 1, 'real_estate', 27, 'none', 'own', 1, 'skilled', 1, 'none', 'yes', 1.0, 1.0, 3.0, 0.0, 0.0, 0.0, 0.0, 0.0, 1.0, 0.0, 2.0, 1.0, 0.0, [1.0, 1.0, 1.0, 0.0, 3.0, 1.0, 0.0, 2.0, 0.0, 0.0, 0.0, 0.0, 0.0, 18.0, 3860.0, 2.0, 1.0, 18.0, 27.0, 1.0, 1.0], [19.0956155462052, 0.9043844537948047], [0.9547807773102598, 0.04521922268974023], 0.0, 'No Risk'], ['no_checking', 32, 'outstanding_credit', 'radio_tv', 7071, '500_to_1000', '4_to_7', 3, 'male', 'co-applicant', 3, 'car_other', 40, 'stores', 'own', 1, 'unskilled', 1, 'none', 'yes', 0.0, 2.0, 1.0, 2.0, 0.0, 0.0, 1.0, 1.0, 3.0, 1.0, 1.0, 0.0, 0.0, [0.0, 2.0, 3.0, 2.0, 1.0, 0.0, 1.0, 1.0, 1.0, 0.0, 1.0, 0.0, 0.0, 32.0, 7071.0, 3.0, 3.0, 32.0, 40.0, 1.0, 1.0], [9.138084808784283, 10.861915191215719], [0.4569042404392142, 0.5430957595607859], 1.0, 'Risk'], ['no_checking', 34, 'prior_payments_delayed', 'radio_tv', 7237, 'unknown', '4_to_7', 4, 'male', 'co-applicant', 4, 'savings_insurance', 45, 'none', 'own', 2, 'skilled', 1, 'none', 'yes', 0.0, 0.0, 1.0, 4.0, 0.0, 0.0, 0.0, 0.0, 3.0, 1.0, 0.0, 0.0, 0.0, [21, [2, 3, 4, 6, 13, 14, 15, 16, 17, 18, 19, 20], [3.0, 4.0, 1.0, 1.0, 34.0, 7237.0, 4.0, 4.0, 34.0, 45.0, 2.0, 1.0]], [7.189106094318587, 12.810893905681414], [0.35945530471592935, 0.6405446952840708], 1.0, 'Risk'], ['no_checking', 32, 'prior_payments_delayed', 'radio_tv', 5337, 'unknown', 'greater_7', 4, 'female', 'none', 2, 'car_other', 51, 'stores', 'own', 2, 'unskilled', 1, 'yes', 'yes', 0.0, 0.0, 2.0, 4.0, 0.0, 0.0, 1.0, 1.0, 3.0, 0.0, 1.0, 1.0, 1.0, [0.0, 0.0, 3.0, 4.0, 2.0, 1.0, 0.0, 1.0, 1.0, 0.0, 1.0, 1.0, 0.0, 32.0, 5337.0, 4.0, 2.0, 32.0, 51.0, 2.0, 1.0], [7.029051298822051, 12.97094870117795], [0.35145256494110255, 0.6485474350588974], 1.0, 'Risk'], ['no_checking', 8, 'prior_payments_delayed', 'furniture', 3670, '100_to_500', '1_to_4', 3, 'male', 'none', 3, 'savings_insurance', 41, 'none', 'own', 1, 'management_self-employed', 1, 'none', 'yes', 0.0, 0.0, 0.0, 1.0, 0.0, 0.0, 0.0, 2.0, 1.0, 0.0, 0.0, 0.0, 0.0, [21, [2, 3, 10, 13, 14, 15, 16, 17, 18, 19, 20], [1.0, 1.0, 2.0, 8.0, 3670.0, 3.0, 3.0, 8.0, 41.0, 1.0, 1.0]], [14.253675621466417, 5.74632437853358], [0.712683781073321, 0.2873162189266791], 0.0, 'No Risk'], ['0_to_200', 16, 'credits_paid_to_date', 'car_new', 972, 'less_100', 'less_1', 1, 'female', 'none', 3, 'savings_insurance', 30, 'stores', 'own', 1, 'skilled', 1, 'none', 'yes', 2.0, 1.0, 3.0, 0.0, 0.0, 0.0, 1.0, 0.0, 0.0, 0.0, 0.0, 1.0, 0.0, [2.0, 1.0, 0.0, 0.0, 3.0, 1.0, 0.0, 0.0, 1.0, 0.0, 0.0, 0.0, 0.0, 16.0, 972.0, 1.0, 3.0, 16.0, 30.0, 1.0, 1.0], [17.376709187081516, 2.623290812918483], [0.8688354593540758, 0.13116454064592414], 0.0, 'No Risk'], ['no_checking', 41, 'outstanding_credit', 'education', 9362, 'unknown', 'greater_7', 6, 'male', 'co-applicant', 4, 'unknown', 55, 'none', 'free', 2, 'management_self-employed', 2, 'yes', 'yes', 0.0, 2.0, 2.0, 4.0, 0.0, 2.0, 0.0, 2.0, 7.0, 1.0, 3.0, 0.0, 1.0, [0.0, 2.0, 7.0, 4.0, 2.0, 0.0, 1.0, 3.0, 0.0, 2.0, 2.0, 1.0, 0.0, 41.0, 9362.0, 6.0, 4.0, 41.0, 55.0, 2.0, 2.0], [1.4104832186087917, 18.58951678139121], [0.07052416093043958, 0.9294758390695604], 1.0, 'Risk'], ['less_0', 7, 'prior_payments_delayed', 'furniture', 2843, '100_to_500', '4_to_7', 3, 'female', 'none', 2, 'unknown', 45, 'none', 'own', 1, 'skilled', 1, 'yes', 'yes', 1.0, 0.0, 1.0, 1.0, 0.0, 0.0, 0.0, 0.0, 1.0, 0.0, 3.0, 1.0, 1.0, [1.0, 0.0, 1.0, 1.0, 1.0, 1.0, 0.0, 3.0, 0.0, 0.0, 0.0, 1.0, 0.0, 7.0, 2843.0, 3.0, 2.0, 7.0, 45.0, 1.0, 1.0], [16.253562658629047, 3.7464373413709557], [0.8126781329314522, 0.18732186706854775], 0.0, 'No Risk'], ['no_checking', 31, 'outstanding_credit', 'vacation', 6370, 'unknown', 'greater_7', 5, 'male', 'co-applicant', 3, 'unknown', 61, 'none', 'own', 2, 'skilled', 2, 'yes', 'yes', 0.0, 2.0, 2.0, 4.0, 0.0, 0.0, 0.0, 0.0, 6.0, 1.0, 3.0, 0.0, 1.0, [0.0, 2.0, 6.0, 4.0, 2.0, 0.0, 1.0, 3.0, 0.0, 0.0, 0.0, 1.0, 0.0, 31.0, 6370.0, 5.0, 3.0, 31.0, 61.0, 2.0, 2.0], [2.314936696360451, 17.68506330363955], [0.11574683481802255, 0.8842531651819774], 1.0, 'Risk'], ['less_0', 21, 'credits_paid_to_date', 'furniture', 2907, 'less_100', '4_to_7', 2, 'male', 'none', 3, 'car_other', 33, 'stores', 'rent', 1, 'skilled', 1, 'none', 'yes', 1.0, 1.0, 1.0, 0.0, 0.0, 1.0, 1.0, 0.0, 1.0, 0.0, 1.0, 0.0, 0.0, [1.0, 1.0, 1.0, 0.0, 1.0, 0.0, 0.0, 1.0, 1.0, 1.0, 0.0, 0.0, 0.0, 21.0, 2907.0, 2.0, 3.0, 21.0, 33.0, 1.0, 1.0], [14.221309147906698, 5.7786908520933], [0.7110654573953349, 0.288934542604665], 0.0, 'No Risk'], ['greater_200', 22, 'credits_paid_to_date', 'radio_tv', 1142, '100_to_500', '1_to_4', 3, 'male', 'none', 2, 'real_estate', 38, 'none', 'own', 1, 'skilled', 1, 'yes', 'yes', 3.0, 1.0, 0.0, 1.0, 0.0, 0.0, 0.0, 0.0, 3.0, 0.0, 2.0, 0.0, 1.0, [3.0, 1.0, 3.0, 1.0, 0.0, 0.0, 0.0, 2.0, 0.0, 0.0, 0.0, 1.0, 0.0, 22.0, 1142.0, 3.0, 2.0, 22.0, 38.0, 1.0, 1.0], [16.53777527969311, 3.462224720306888], [0.8268887639846556, 0.1731112360153444], 0.0, 'No Risk'], ['no_checking', 21, 'credits_paid_to_date', 'education', 4966, '100_to_500', '4_to_7', 4, 'male', 'none', 4, 'car_other', 40, 'none', 'own', 1, 'management_self-employed', 1, 'none', 'yes', 0.0, 1.0, 1.0, 1.0, 0.0, 0.0, 0.0, 2.0, 7.0, 0.0, 1.0, 0.0, 0.0, [0.0, 1.0, 7.0, 1.0, 1.0, 0.0, 0.0, 1.0, 0.0, 0.0, 2.0, 0.0, 0.0, 21.0, 4966.0, 4.0, 4.0, 21.0, 40.0, 1.0, 1.0], [10.832162617670319, 9.167837382329681], [0.5416081308835159, 0.45839186911648405], 0.0, 'No Risk'], ['0_to_200', 19, 'prior_payments_delayed', 'car_used', 3664, '100_to_500', 'less_1', 3, 'male', 'none', 2, 'car_other', 29, 'none', 'own', 1, 'skilled', 2, 'none', 'yes', 2.0, 0.0, 3.0, 1.0, 0.0, 0.0, 0.0, 0.0, 2.0, 0.0, 1.0, 0.0, 0.0, [2.0, 0.0, 2.0, 1.0, 3.0, 0.0, 0.0, 1.0, 0.0, 0.0, 0.0, 0.0, 0.0, 19.0, 3664.0, 3.0, 2.0, 19.0, 29.0, 1.0, 2.0], [17.505902345021514, 2.4940976549784866], [0.8752951172510757, 0.12470488274892433], 0.0, 'No Risk'], ['less_0', 15, 'credits_paid_to_date', 'car_new', 250, 'less_100', 'less_1', 2, 'female', 'none', 1, 'savings_insurance', 33, 'none', 'rent', 1, 'skilled', 1, 'none', 'yes', 1.0, 1.0, 3.0, 0.0, 0.0, 1.0, 0.0, 0.0, 0.0, 0.0, 0.0, 1.0, 0.0, [1.0, 1.0, 0.0, 0.0, 3.0, 1.0, 0.0, 0.0, 0.0, 1.0, 0.0, 0.0, 0.0, 15.0, 250.0, 2.0, 1.0, 15.0, 33.0, 1.0, 1.0], [18.268452319364766, 1.7315476806352352], [0.9134226159682383, 0.08657738403176177], 0.0, 'No Risk'], ['greater_200', 16, 'outstanding_credit', 'repairs', 1774, 'unknown', '4_to_7', 3, 'male', 'none', 3, 'car_other', 27, 'stores', 'own', 1, 'unskilled', 2, 'yes', 'no', 3.0, 2.0, 1.0, 4.0, 1.0, 0.0, 1.0, 1.0, 5.0, 0.0, 1.0, 0.0, 1.0, [3.0, 2.0, 5.0, 4.0, 1.0, 0.0, 0.0, 1.0, 1.0, 0.0, 1.0, 1.0, 1.0, 16.0, 1774.0, 3.0, 3.0, 16.0, 27.0, 1.0, 2.0], [15.620936864652194, 4.379063135347806], [0.7810468432326096, 0.2189531567673903], 0.0, 'No Risk'], ['less_0', 19, 'credits_paid_to_date', 'furniture', 250, 'less_100', '1_to_4', 3, 'female', 'none', 1, 'savings_insurance', 19, 'none', 'rent', 1, 'skilled', 1, 'none', 'yes', 1.0, 1.0, 0.0, 0.0, 0.0, 1.0, 0.0, 0.0, 1.0, 0.0, 0.0, 1.0, 0.0, [1.0, 1.0, 1.0, 0.0, 0.0, 1.0, 0.0, 0.0, 0.0, 1.0, 0.0, 0.0, 0.0, 19.0, 250.0, 3.0, 1.0, 19.0, 19.0, 1.0, 1.0], [17.454647882003783, 2.5453521179962166], [0.8727323941001892, 0.12726760589981084], 0.0, 'No Risk'], ['less_0', 13, 'prior_payments_delayed', 'furniture', 2706, '500_to_1000', '4_to_7', 2, 'female', 'none', 2, 'car_other', 43, 'stores', 'own', 1, 'skilled', 1, 'yes', 'yes', 1.0, 0.0, 1.0, 2.0, 0.0, 0.0, 1.0, 0.0, 1.0, 0.0, 1.0, 1.0, 1.0, [1.0, 0.0, 1.0, 2.0, 1.0, 1.0, 0.0, 1.0, 1.0, 0.0, 0.0, 1.0, 0.0, 13.0, 2706.0, 2.0, 2.0, 13.0, 43.0, 1.0, 1.0], [15.82266045593541, 4.1773395440645915], [0.7911330227967704, 0.20886697720322958], 0.0, 'No Risk'], ['less_0', 16, 'credits_paid_to_date', 'car_new', 1270, 'less_100', 'unemployed', 1, 'female', 'none', 2, 'real_estate', 19, 'none', 'own', 1, 'skilled', 1, 'none', 'yes', 1.0, 1.0, 4.0, 0.0, 0.0, 0.0, 0.0, 0.0, 0.0, 0.0, 2.0, 1.0, 0.0, [1.0, 1.0, 0.0, 0.0, 4.0, 1.0, 0.0, 2.0, 0.0, 0.0, 0.0, 0.0, 0.0, 16.0, 1270.0, 1.0, 2.0, 16.0, 19.0, 1.0, 1.0], [18.97745235419613, 1.0225476458038734], [0.9488726177098064, 0.05112738229019366], 0.0, 'No Risk'], ['less_0', 14, 'prior_payments_delayed', 'car_used', 3888, 'less_100', '4_to_7', 3, 'female', 'none', 3, 'savings_insurance', 31, 'stores', 'free', 2, 'skilled', 1, 'none', 'yes', 1.0, 0.0, 1.0, 0.0, 0.0, 2.0, 1.0, 0.0, 2.0, 0.0, 0.0, 1.0, 0.0, [1.0, 0.0, 2.0, 0.0, 1.0, 1.0, 0.0, 0.0, 1.0, 2.0, 0.0, 0.0, 0.0, 14.0, 3888.0, 3.0, 3.0, 14.0, 31.0, 2.0, 1.0], [15.985254742812254, 4.0147452571877436], [0.7992627371406128, 0.2007372628593872], 0.0, 'No Risk'], ['0_to_200', 20, 'credits_paid_to_date', 'repairs', 934, 'less_100', '1_to_4', 3, 'female', 'none', 3, 'savings_insurance', 31, 'none', 'own', 3, 'skilled', 1, 'yes', 'yes', 2.0, 1.0, 0.0, 0.0, 0.0, 0.0, 0.0, 0.0, 5.0, 0.0, 0.0, 1.0, 1.0, [2.0, 1.0, 5.0, 0.0, 0.0, 1.0, 0.0, 0.0, 0.0, 0.0, 0.0, 1.0, 0.0, 20.0, 934.0, 3.0, 3.0, 20.0, 31.0, 3.0, 1.0], [14.303626745127644, 5.696373254872352], [0.7151813372563823, 0.28481866274361767], 0.0, 'No Risk'], ['0_to_200', 23, 'credits_paid_to_date', 'retraining', 3494, 'less_100', '4_to_7', 4, 'male', 'none', 2, 'car_other', 40, 'bank', 'own', 1, 'unskilled', 1, 'none', 'yes', 2.0, 1.0, 1.0, 0.0, 0.0, 0.0, 2.0, 1.0, 8.0, 0.0, 1.0, 0.0, 0.0, [2.0, 1.0, 8.0, 0.0, 1.0, 0.0, 0.0, 1.0, 2.0, 0.0, 1.0, 0.0, 0.0, 23.0, 3494.0, 4.0, 2.0, 23.0, 40.0, 1.0, 1.0], [15.615681074152999, 4.384318925847003], [0.7807840537076499, 0.21921594629235014], 0.0, 'No Risk'], ['less_0', 17, 'all_credits_paid_back', 'furniture', 284, 'less_100', 'unemployed', 2, 'female', 'none', 3, 'real_estate', 19, 'none', 'own', 1, 'skilled', 1, 'none', 'yes', 1.0, 3.0, 4.0, 0.0, 0.0, 0.0, 0.0, 0.0, 1.0, 0.0, 2.0, 1.0, 0.0, [1.0, 3.0, 1.0, 0.0, 4.0, 1.0, 0.0, 2.0, 0.0, 0.0, 0.0, 0.0, 0.0, 17.0, 284.0, 2.0, 3.0, 17.0, 19.0, 1.0, 1.0], [19.11720056705312, 0.8827994329468765], [0.9558600283526563, 0.04413997164734383], 0.0, 'No Risk'], ['no_checking', 28, 'prior_payments_delayed', 'radio_tv', 3566, 'greater_1000', '4_to_7', 4, 'male', 'none', 3, 'savings_insurance', 39, 'none', 'own', 1, 'management_self-employed', 1, 'none', 'yes', 0.0, 0.0, 1.0, 3.0, 0.0, 0.0, 0.0, 2.0, 3.0, 0.0, 0.0, 0.0, 0.0, [21, [2, 3, 4, 10, 13, 14, 15, 16, 17, 18, 19, 20], [3.0, 3.0, 1.0, 2.0, 28.0, 3566.0, 4.0, 3.0, 28.0, 39.0, 1.0, 1.0]], [11.72117707967963, 8.27882292032037], [0.5860588539839815, 0.41394114601601845], 0.0, 'No Risk'], ['less_0', 4, 'credits_paid_to_date', 'car_new', 250, 'less_100', '1_to_4', 2, 'female', 'none', 2, 'real_estate', 19, 'none', 'rent', 1, 'skilled', 1, 'none', 'yes', 1.0, 1.0, 0.0, 0.0, 0.0, 1.0, 0.0, 0.0, 0.0, 0.0, 2.0, 1.0, 0.0, [1.0, 1.0, 0.0, 0.0, 0.0, 1.0, 0.0, 2.0, 0.0, 1.0, 0.0, 0.0, 0.0, 4.0, 250.0, 2.0, 2.0, 4.0, 19.0, 1.0, 1.0], [19.343749260062005, 0.6562507399379978], [0.9671874630031001, 0.032812536996899885], 0.0, 'No Risk'], ['less_0', 12, 'all_credits_paid_back', 'car_used', 676, 'less_100', 'unemployed', 2, 'female', 'none', 3, 'savings_insurance', 24, 'none', 'rent', 1, 'skilled', 1, 'none', 'yes', 1.0, 3.0, 4.0, 0.0, 0.0, 1.0, 0.0, 0.0, 2.0, 0.0, 0.0, 1.0, 0.0, [1.0, 3.0, 2.0, 0.0, 4.0, 1.0, 0.0, 0.0, 0.0, 1.0, 0.0, 0.0, 0.0, 12.0, 676.0, 2.0, 3.0, 12.0, 24.0, 1.0, 1.0], [19.11477449528196, 0.8852255047180391], [0.955738724764098, 0.04426127523590195], 0.0, 'No Risk'], ['no_checking', 8, 'no_credits', 'car_used', 1931, 'less_100', 'less_1', 3, 'female', 'none', 3, 'real_estate', 37, 'none', 'own', 1, 'skilled', 2, 'yes', 'yes', 0.0, 4.0, 3.0, 0.0, 0.0, 0.0, 0.0, 0.0, 2.0, 0.0, 2.0, 1.0, 1.0, [0.0, 4.0, 2.0, 0.0, 3.0, 1.0, 0.0, 2.0, 0.0, 0.0, 0.0, 1.0, 0.0, 8.0, 1931.0, 3.0, 3.0, 8.0, 37.0, 1.0, 2.0], [17.295217223146068, 2.7047827768539348], [0.8647608611573032, 0.13523913884269673], 0.0, 'No Risk'], ['less_0', 20, 'credits_paid_to_date', 'car_used', 398, '100_to_500', '4_to_7', 2, 'male', 'co-applicant', 3, 'savings_insurance', 28, 'stores', 'own', 1, 'unskilled', 1, 'yes', 'yes', 1.0, 1.0, 1.0, 1.0, 0.0, 0.0, 1.0, 1.0, 2.0, 1.0, 0.0, 0.0, 1.0, [1.0, 1.0, 2.0, 1.0, 1.0, 0.0, 1.0, 0.0, 1.0, 0.0, 1.0, 1.0, 0.0, 20.0, 398.0, 2.0, 3.0, 20.0, 28.0, 1.0, 1.0], [16.066553286479063, 3.933446713520933], [0.8033276643239533, 0.1966723356760467], 0.0, 'No Risk'], ['less_0', 9, 'all_credits_paid_back', 'car_new', 272, 'less_100', '1_to_4', 2, 'male', 'none', 2, 'car_other', 34, 'none', 'own', 1, 'skilled', 1, 'none', 'yes', 1.0, 3.0, 0.0, 0.0, 0.0, 0.0, 0.0, 0.0, 0.0, 0.0, 1.0, 0.0, 0.0, [21, [0, 1, 7, 13, 14, 15, 16, 17, 18, 19, 20], [1.0, 3.0, 1.0, 9.0, 272.0, 2.0, 2.0, 9.0, 34.0, 1.0, 1.0]], [18.06678333060409, 1.9332166693959105], [0.9033391665302044, 0.09666083346979552], 0.0, 'No Risk'], ['no_checking', 28, 'prior_payments_delayed', 'radio_tv', 5123, '100_to_500', '4_to_7', 4, 'male', 'none', 4, 'savings_insurance', 48, 'none', 'own', 2, 'management_self-employed', 1, 'yes', 'yes', 0.0, 0.0, 1.0, 1.0, 0.0, 0.0, 0.0, 2.0, 3.0, 0.0, 0.0, 0.0, 1.0, [0.0, 0.0, 3.0, 1.0, 1.0, 0.0, 0.0, 0.0, 0.0, 0.0, 2.0, 1.0, 0.0, 28.0, 5123.0, 4.0, 4.0, 28.0, 48.0, 2.0, 1.0], [9.105608668278055, 10.894391331721945], [0.4552804334139028, 0.5447195665860972], 1.0, 'Risk'], ['less_0', 9, 'all_credits_paid_back', 'car_used', 250, '100_to_500', 'less_1', 2, 'female', 'none', 2, 'real_estate', 32, 'none', 'rent', 1, 'skilled', 1, 'none', 'yes', 1.0, 3.0, 3.0, 1.0, 0.0, 1.0, 0.0, 0.0, 2.0, 0.0, 2.0, 1.0, 0.0, [1.0, 3.0, 2.0, 1.0, 3.0, 1.0, 0.0, 2.0, 0.0, 1.0, 0.0, 0.0, 0.0, 9.0, 250.0, 2.0, 2.0, 9.0, 32.0, 1.0, 1.0], [19.371496044746095, 0.6285039552539019], [0.968574802237305, 0.0314251977626951], 0.0, 'No Risk'], ['0_to_200', 24, 'credits_paid_to_date', 'car_used', 3070, 'less_100', 'unemployed', 3, 'female', 'none', 2, 'savings_insurance', 39, 'none', 'own', 1, 'skilled', 1, 'none', 'yes', 2.0, 1.0, 4.0, 0.0, 0.0, 0.0, 0.0, 0.0, 2.0, 0.0, 0.0, 1.0, 0.0, [2.0, 1.0, 2.0, 0.0, 4.0, 1.0, 0.0, 0.0, 0.0, 0.0, 0.0, 0.0, 0.0, 24.0, 3070.0, 3.0, 2.0, 24.0, 39.0, 1.0, 1.0], [15.081331494483639, 4.918668505516357], [0.754066574724182, 0.2459334252758179], 0.0, 'No Risk'], ['0_to_200', 18, 'prior_payments_delayed', 'radio_tv', 2715, '100_to_500', '1_to_4', 3, 'male', 'none', 2, 'car_other', 31, 'none', 'own', 2, 'skilled', 1, 'yes', 'yes', 2.0, 0.0, 0.0, 1.0, 0.0, 0.0, 0.0, 0.0, 3.0, 0.0, 1.0, 0.0, 1.0, [2.0, 0.0, 3.0, 1.0, 0.0, 0.0, 0.0, 1.0, 0.0, 0.0, 0.0, 1.0, 0.0, 18.0, 2715.0, 3.0, 2.0, 18.0, 31.0, 2.0, 1.0], [15.24989526816377, 4.750104731836227], [0.7624947634081887, 0.2375052365918114], 0.0, 'No Risk'], ['no_checking', 37, 'credits_paid_to_date', 'furniture', 5138, 'unknown', '1_to_4', 3, 'male', 'none', 3, 'unknown', 39, 'stores', 'rent', 2, 'unskilled', 1, 'none', 'yes', 0.0, 1.0, 0.0, 4.0, 0.0, 1.0, 1.0, 1.0, 1.0, 0.0, 3.0, 0.0, 0.0, [0.0, 1.0, 1.0, 4.0, 0.0, 0.0, 0.0, 3.0, 1.0, 1.0, 1.0, 0.0, 0.0, 37.0, 5138.0, 3.0, 3.0, 37.0, 39.0, 2.0, 1.0], [11.858658626652238, 8.141341373347762], [0.5929329313326119, 0.4070670686673881], 0.0, 'No Risk'], ['less_0', 17, 'credits_paid_to_date', 'furniture', 3462, 'less_100', '4_to_7', 2, 'female', 'co-applicant', 1, 'car_other', 41, 'stores', 'own', 1, 'unskilled', 1, 'yes', 'yes', 1.0, 1.0, 1.0, 0.0, 0.0, 0.0, 1.0, 1.0, 1.0, 1.0, 1.0, 1.0, 1.0, [1.0, 1.0, 1.0, 0.0, 1.0, 1.0, 1.0, 1.0, 1.0, 0.0, 1.0, 1.0, 0.0, 17.0, 3462.0, 2.0, 1.0, 17.0, 41.0, 1.0, 1.0], [15.327999423300565, 4.672000576699435], [0.7663999711650282, 0.23360002883497172], 0.0, 'No Risk'], ['less_0', 21, 'credits_paid_to_date', 'furniture', 3556, '100_to_500', '1_to_4', 2, 'male', 'none', 1, 'car_other', 34, 'stores', 'own', 1, 'skilled', 1, 'yes', 'yes', 1.0, 1.0, 0.0, 1.0, 0.0, 0.0, 1.0, 0.0, 1.0, 0.0, 1.0, 0.0, 1.0, [1.0, 1.0, 1.0, 1.0, 0.0, 0.0, 0.0, 1.0, 1.0, 0.0, 0.0, 1.0, 0.0, 21.0, 3556.0, 2.0, 1.0, 21.0, 34.0, 1.0, 1.0], [15.498381515872282, 4.501618484127717], [0.7749190757936141, 0.22508092420638587], 0.0, 'No Risk'], ['0_to_200', 17, 'prior_payments_delayed', 'radio_tv', 2727, '100_to_500', 'greater_7', 3, 'male', 'none', 3, 'car_other', 40, 'none', 'own', 1, 'skilled', 2, 'yes', 'yes', 2.0, 0.0, 2.0, 1.0, 0.0, 0.0, 0.0, 0.0, 3.0, 0.0, 1.0, 0.0, 1.0, [2.0, 0.0, 3.0, 1.0, 2.0, 0.0, 0.0, 1.0, 0.0, 0.0, 0.0, 1.0, 0.0, 17.0, 2727.0, 3.0, 3.0, 17.0, 40.0, 1.0, 2.0], [12.726659973847706, 7.273340026152296], [0.6363329986923854, 0.36366700130761476], 0.0, 'No Risk'], ['no_checking', 24, 'prior_payments_delayed', 'retraining', 5221, 'greater_1000', 'greater_7', 4, 'male', 'none', 4, 'car_other', 29, 'none', 'own', 2, 'management_self-employed', 2, 'yes', 'yes', 0.0, 0.0, 2.0, 3.0, 0.0, 0.0, 0.0, 2.0, 8.0, 0.0, 1.0, 0.0, 1.0, [0.0, 0.0, 8.0, 3.0, 2.0, 0.0, 0.0, 1.0, 0.0, 0.0, 2.0, 1.0, 0.0, 24.0, 5221.0, 4.0, 4.0, 24.0, 29.0, 2.0, 2.0], [9.886499575790307, 10.113500424209695], [0.4943249787895153, 0.5056750212104848], 1.0, 'Risk'], ['no_checking', 13, 'credits_paid_to_date', 'car_used', 3518, 'less_100', 'less_1', 2, 'male', 'none', 4, 'car_other', 29, 'none', 'own', 1, 'management_self-employed', 1, 'yes', 'yes', 0.0, 1.0, 3.0, 0.0, 0.0, 0.0, 0.0, 2.0, 2.0, 0.0, 1.0, 0.0, 1.0, [0.0, 1.0, 2.0, 0.0, 3.0, 0.0, 0.0, 1.0, 0.0, 0.0, 2.0, 1.0, 0.0, 13.0, 3518.0, 2.0, 4.0, 13.0, 29.0, 1.0, 1.0], [16.592061341965824, 3.4079386580341753], [0.8296030670982912, 0.17039693290170876], 0.0, 'No Risk'], ['less_0', 24, 'credits_paid_to_date', 'retraining', 3086, 'less_100', '1_to_4', 3, 'female', 'none', 2, 'car_other', 26, 'stores', 'own', 1, 'skilled', 1, 'none', 'yes', 1.0, 1.0, 0.0, 0.0, 0.0, 0.0, 1.0, 0.0, 8.0, 0.0, 1.0, 1.0, 0.0, [1.0, 1.0, 8.0, 0.0, 0.0, 1.0, 0.0, 1.0, 1.0, 0.0, 0.0, 0.0, 0.0, 24.0, 3086.0, 3.0, 2.0, 24.0, 26.0, 1.0, 1.0], [16.49038351209108, 3.5096164879089193], [0.8245191756045541, 0.175480824395446], 0.0, 'No Risk'], ['0_to_200', 15, 'credits_paid_to_date', 'furniture', 2306, 'less_100', 'unemployed', 1, 'female', 'none', 2, 'real_estate', 35, 'none', 'own', 1, 'skilled', 1, 'none', 'yes', 2.0, 1.0, 4.0, 0.0, 0.0, 0.0, 0.0, 0.0, 1.0, 0.0, 2.0, 1.0, 0.0, [2.0, 1.0, 1.0, 0.0, 4.0, 1.0, 0.0, 2.0, 0.0, 0.0, 0.0, 0.0, 0.0, 15.0, 2306.0, 1.0, 2.0, 15.0, 35.0, 1.0, 1.0], [18.443272629147508, 1.55672737085249], [0.9221636314573756, 0.07783636854262452], 0.0, 'No Risk'], ['less_0', 13, 'all_credits_paid_back', 'car_new', 282, 'less_100', 'unemployed', 1, 'female', 'none', 1, 'savings_insurance', 25, 'stores', 'rent', 1, 'skilled', 1, 'none', 'yes', 1.0, 3.0, 4.0, 0.0, 0.0, 1.0, 1.0, 0.0, 0.0, 0.0, 0.0, 1.0, 0.0, [1.0, 3.0, 0.0, 0.0, 4.0, 1.0, 0.0, 0.0, 1.0, 1.0, 0.0, 0.0, 0.0, 13.0, 282.0, 1.0, 1.0, 13.0, 25.0, 1.0, 1.0], [19.347698050016497, 0.6523019499835047], [0.9673849025008249, 0.03261509749917523], 0.0, 'No Risk'], ['no_checking', 30, 'prior_payments_delayed', 'appliances', 4688, '100_to_500', '4_to_7', 3, 'female', 'none', 4, 'savings_insurance', 41, 'none', 'own', 1, 'skilled', 2, 'none', 'yes', 0.0, 0.0, 1.0, 1.0, 0.0, 0.0, 0.0, 0.0, 4.0, 0.0, 0.0, 1.0, 0.0, [21, [2, 3, 4, 5, 13, 14, 15, 16, 17, 18, 19, 20], [4.0, 1.0, 1.0, 1.0, 30.0, 4688.0, 3.0, 4.0, 30.0, 41.0, 1.0, 2.0]], [9.298183188877799, 10.7018168111222], [0.46490915944388994, 0.53509084055611], 1.0, 'Risk'], ['no_checking', 28, 'prior_payments_delayed', 'car_used', 7992, 'unknown', 'greater_7', 4, 'male', 'co-applicant', 4, 'car_other', 37, 'stores', 'free', 3, 'unskilled', 2, 'yes', 'yes', 0.0, 0.0, 2.0, 4.0, 0.0, 2.0, 1.0, 1.0, 2.0, 1.0, 1.0, 0.0, 1.0, [0.0, 0.0, 2.0, 4.0, 2.0, 0.0, 1.0, 1.0, 1.0, 2.0, 1.0, 1.0, 0.0, 28.0, 7992.0, 4.0, 4.0, 28.0, 37.0, 3.0, 2.0], [5.8082632845259585, 14.191736715474041], [0.2904131642262979, 0.7095868357737021], 1.0, 'Risk'], ['less_0', 24, 'credits_paid_to_date', 'furniture', 2469, 'less_100', 'less_1', 1, 'male', 'none', 1, 'car_other', 21, 'stores', 'rent', 1, 'skilled', 1, 'none', 'yes', 1.0, 1.0, 3.0, 0.0, 0.0, 1.0, 1.0, 0.0, 1.0, 0.0, 1.0, 0.0, 0.0, [1.0, 1.0, 1.0, 0.0, 3.0, 0.0, 0.0, 1.0, 1.0, 1.0, 0.0, 0.0, 0.0, 24.0, 2469.0, 1.0, 1.0, 24.0, 21.0, 1.0, 1.0], [16.994002411457213, 3.005997588542789], [0.8497001205728605, 0.15029987942713943], 0.0, 'No Risk'], ['less_0', 21, 'credits_paid_to_date', 'car_new', 3426, '500_to_1000', '4_to_7', 3, 'female', 'none', 3, 'savings_insurance', 29, 'stores', 'own', 2, 'skilled', 1, 'none', 'yes', 1.0, 1.0, 1.0, 2.0, 0.0, 0.0, 1.0, 0.0, 0.0, 0.0, 0.0, 1.0, 0.0, [1.0, 1.0, 0.0, 2.0, 1.0, 1.0, 0.0, 0.0, 1.0, 0.0, 0.0, 0.0, 0.0, 21.0, 3426.0, 3.0, 3.0, 21.0, 29.0, 2.0, 1.0], [14.978223974822638, 5.021776025177362], [0.7489111987411319, 0.2510888012588681], 0.0, 'No Risk'], ['no_checking', 26, 'prior_payments_delayed', 'furniture', 6346, 'greater_1000', '4_to_7', 4, 'male', 'none', 5, 'savings_insurance', 46, 'none', 'own', 3, 'management_self-employed', 2, 'none', 'yes', 0.0, 0.0, 1.0, 3.0, 0.0, 0.0, 0.0, 2.0, 1.0, 0.0, 0.0, 0.0, 0.0, [21, [2, 3, 4, 10, 13, 14, 15, 16, 17, 18, 19, 20], [1.0, 3.0, 1.0, 2.0, 26.0, 6346.0, 4.0, 5.0, 26.0, 46.0, 3.0, 2.0]], [9.859762262266297, 10.1402377377337], [0.49298811311331486, 0.5070118868866851], 1.0, 'Risk'], ['0_to_200', 11, 'credits_paid_to_date', 'radio_tv', 514, '500_to_1000', '1_to_4', 2, 'female', 'none', 2, 'savings_insurance', 32, 'stores', 'own', 1, 'unskilled', 1, 'none', 'yes', 2.0, 1.0, 0.0, 2.0, 0.0, 0.0, 1.0, 1.0, 3.0, 0.0, 0.0, 1.0, 0.0, [2.0, 1.0, 3.0, 2.0, 0.0, 1.0, 0.0, 0.0, 1.0, 0.0, 1.0, 0.0, 0.0, 11.0, 514.0, 2.0, 2.0, 11.0, 32.0, 1.0, 1.0], [18.042808620530792, 1.9571913794692124], [0.9021404310265394, 0.0978595689734606], 0.0, 'No Risk'], ['greater_200', 14, 'credits_paid_to_date', 'car_new', 8003, 'less_100', 'unemployed', 2, 'male', 'guarantor', 3, 'unknown', 42, 'none', 'free', 2, 'skilled', 1, 'yes', 'yes', 3.0, 1.0, 4.0, 0.0, 0.0, 2.0, 0.0, 0.0, 0.0, 2.0, 3.0, 0.0, 1.0, [3.0, 1.0, 0.0, 0.0, 4.0, 0.0, 2.0, 3.0, 0.0, 2.0, 0.0, 1.0, 0.0, 14.0, 8003.0, 2.0, 3.0, 14.0, 42.0, 2.0, 1.0], [14.355863583714962, 5.6441364162850345], [0.7177931791857483, 0.2822068208142518], 0.0, 'No Risk'], ['less_0', 12, 'all_credits_paid_back', 'car_used', 250, 'less_100', 'less_1', 2, 'female', 'none', 2, 'savings_insurance', 22, 'bank', 'rent', 1, 'unemployed', 1, 'none', 'yes', 1.0, 3.0, 3.0, 0.0, 0.0, 1.0, 2.0, 3.0, 2.0, 0.0, 0.0, 1.0, 0.0, [1.0, 3.0, 2.0, 0.0, 3.0, 1.0, 0.0, 0.0, 2.0, 1.0, 3.0, 0.0, 0.0, 12.0, 250.0, 2.0, 2.0, 12.0, 22.0, 1.0, 1.0], [19.308017645634795, 0.6919823543652069], [0.9654008822817396, 0.03459911771826034], 0.0, 'No Risk'], ['no_checking', 26, 'outstanding_credit', 'business', 4511, 'unknown', 'greater_7', 4, 'male', 'co-applicant', 4, 'savings_insurance', 49, 'none', 'own', 2, 'skilled', 2, 'yes', 'yes', 0.0, 2.0, 2.0, 4.0, 0.0, 0.0, 0.0, 0.0, 9.0, 1.0, 0.0, 0.0, 1.0, [0.0, 2.0, 9.0, 4.0, 2.0, 0.0, 1.0, 0.0, 0.0, 0.0, 0.0, 1.0, 0.0, 26.0, 4511.0, 4.0, 4.0, 26.0, 49.0, 2.0, 2.0], [5.559667670961017, 14.440332329038982], [0.27798338354805086, 0.7220166164519491], 1.0, 'Risk'], ['0_to_200', 25, 'prior_payments_delayed', 'car_used', 344, '100_to_500', 'less_1', 2, 'female', 'none', 2, 'savings_insurance', 35, 'stores', 'own', 1, 'skilled', 1, 'none', 'yes', 2.0, 0.0, 3.0, 1.0, 0.0, 0.0, 1.0, 0.0, 2.0, 0.0, 0.0, 1.0, 0.0, [2.0, 0.0, 2.0, 1.0, 3.0, 1.0, 0.0, 0.0, 1.0, 0.0, 0.0, 0.0, 0.0, 25.0, 344.0, 2.0, 2.0, 25.0, 35.0, 1.0, 1.0], [15.645338574572616, 4.354661425427384], [0.7822669287286308, 0.2177330712713692], 0.0, 'No Risk'], ['no_checking', 14, 'outstanding_credit', 'radio_tv', 5020, 'unknown', 'greater_7', 4, 'male', 'co-applicant', 5, 'savings_insurance', 55, 'none', 'free', 2, 'skilled', 2, 'yes', 'yes', 0.0, 2.0, 2.0, 4.0, 0.0, 2.0, 0.0, 0.0, 3.0, 1.0, 0.0, 0.0, 1.0, [0.0, 2.0, 3.0, 4.0, 2.0, 0.0, 1.0, 0.0, 0.0, 2.0, 0.0, 1.0, 0.0, 14.0, 5020.0, 4.0, 5.0, 14.0, 55.0, 2.0, 2.0], [8.151541649445775, 11.848458350554223], [0.40757708247228874, 0.5924229175277111], 1.0, 'Risk'], ['0_to_200', 23, 'credits_paid_to_date', 'furniture', 3973, 'less_100', '4_to_7', 4, 'male', 'none', 2, 'car_other', 33, 'bank', 'own', 1, 'unemployed', 1, 'none', 'yes', 2.0, 1.0, 1.0, 0.0, 0.0, 0.0, 2.0, 3.0, 1.0, 0.0, 1.0, 0.0, 0.0, [2.0, 1.0, 1.0, 0.0, 1.0, 0.0, 0.0, 1.0, 2.0, 0.0, 3.0, 0.0, 0.0, 23.0, 3973.0, 4.0, 2.0, 23.0, 33.0, 1.0, 1.0], [16.253377363101723, 3.746622636898279], [0.812668868155086, 0.1873311318449139], 0.0, 'No Risk'], ['0_to_200', 21, 'credits_paid_to_date', 'radio_tv', 3606, 'less_100', '1_to_4', 3, 'male', 'none', 3, 'real_estate', 45, 'none', 'own', 1, 'skilled', 1, 'none', 'yes', 2.0, 1.0, 0.0, 0.0, 0.0, 0.0, 0.0, 0.0, 3.0, 0.0, 2.0, 0.0, 0.0, [21, [0, 1, 2, 7, 13, 14, 15, 16, 17, 18, 19, 20], [2.0, 1.0, 3.0, 2.0, 21.0, 3606.0, 3.0, 3.0, 21.0, 45.0, 1.0, 1.0]], [15.302365802813295, 4.697634197186703], [0.7651182901406648, 0.23488170985933515], 0.0, 'No Risk'], ['no_checking', 26, 'prior_payments_delayed', 'furniture', 4249, '500_to_1000', '1_to_4', 3, 'female', 'none', 3, 'car_other', 30, 'none', 'own', 1, 'skilled', 1, 'none', 'yes', 0.0, 0.0, 0.0, 2.0, 0.0, 0.0, 0.0, 0.0, 1.0, 0.0, 1.0, 1.0, 0.0, [21, [2, 3, 5, 7, 13, 14, 15, 16, 17, 18, 19, 20], [1.0, 2.0, 1.0, 1.0, 26.0, 4249.0, 3.0, 3.0, 26.0, 30.0, 1.0, 1.0]], [13.788318039486681, 6.211681960513316], [0.6894159019743342, 0.31058409802566583], 0.0, 'No Risk'], ['0_to_200', 4, 'all_credits_paid_back', 'car_new', 1835, '100_to_500', '4_to_7', 2, 'male', 'none', 2, 'savings_insurance', 35, 'none', 'own', 1, 'skilled', 1, 'none', 'yes', 2.0, 3.0, 1.0, 1.0, 0.0, 0.0, 0.0, 0.0, 0.0, 0.0, 0.0, 0.0, 0.0, [21, [0, 1, 3, 4, 13, 14, 15, 16, 17, 18, 19, 20], [2.0, 3.0, 1.0, 1.0, 4.0, 1835.0, 2.0, 2.0, 4.0, 35.0, 1.0, 1.0]], [17.629637923167124, 2.3703620768328784], [0.881481896158356, 0.1185181038416439], 0.0, 'No Risk'], ['less_0', 4, 'prior_payments_delayed', 'appliances', 1389, '500_to_1000', '4_to_7', 2, 'male', 'none', 1, 'car_other', 20, 'stores', 'own', 1, 'skilled', 1, 'none', 'yes', 1.0, 0.0, 1.0, 2.0, 0.0, 0.0, 1.0, 0.0, 4.0, 0.0, 1.0, 0.0, 0.0, [1.0, 0.0, 4.0, 2.0, 1.0, 0.0, 0.0, 1.0, 1.0, 0.0, 0.0, 0.0, 0.0, 4.0, 1389.0, 2.0, 1.0, 4.0, 20.0, 1.0, 1.0], [18.004477240984606, 1.9955227590153937], [0.9002238620492303, 0.09977613795076969], 0.0, 'No Risk'], ['less_0', 26, 'credits_paid_to_date', 'car_used', 1403, '100_to_500', '4_to_7', 3, 'male', 'none', 3, 'savings_insurance', 19, 'stores', 'own', 2, 'skilled', 1, 'none', 'yes', 1.0, 1.0, 1.0, 1.0, 0.0, 0.0, 1.0, 0.0, 2.0, 0.0, 0.0, 0.0, 0.0, [1.0, 1.0, 2.0, 1.0, 1.0, 0.0, 0.0, 0.0, 1.0, 0.0, 0.0, 0.0, 0.0, 26.0, 1403.0, 3.0, 3.0, 26.0, 19.0, 2.0, 1.0], [15.159761918191503, 4.840238081808497], [0.7579880959095752, 0.24201190409042486], 0.0, 'No Risk'], ['no_checking', 13, 'outstanding_credit', 'car_used', 1510, 'unknown', '1_to_4', 3, 'male', 'none', 4, 'real_estate', 32, 'stores', 'rent', 2, 'unskilled', 1, 'yes', 'yes', 0.0, 2.0, 0.0, 4.0, 0.0, 1.0, 1.0, 1.0, 2.0, 0.0, 2.0, 0.0, 1.0, [0.0, 2.0, 2.0, 4.0, 0.0, 0.0, 0.0, 2.0, 1.0, 1.0, 1.0, 1.0, 0.0, 13.0, 1510.0, 3.0, 4.0, 13.0, 32.0, 2.0, 1.0], [16.377660941382505, 3.6223390586174946], [0.8188830470691253, 0.18111695293087474], 0.0, 'No Risk'], ['0_to_200', 31, 'outstanding_credit', 'radio_tv', 2805, '500_to_1000', '4_to_7', 4, 'male', 'none', 3, 'unknown', 36, 'none', 'own', 1, 'skilled', 1, 'yes', 'yes', 2.0, 2.0, 1.0, 2.0, 0.0, 0.0, 0.0, 0.0, 3.0, 0.0, 3.0, 0.0, 1.0, [2.0, 2.0, 3.0, 2.0, 1.0, 0.0, 0.0, 3.0, 0.0, 0.0, 0.0, 1.0, 0.0, 31.0, 2805.0, 4.0, 3.0, 31.0, 36.0, 1.0, 1.0], [9.978447700450658, 10.021552299549342], [0.49892238502253294, 0.5010776149774671], 1.0, 'Risk'], ['0_to_200', 9, 'prior_payments_delayed', 'car_new', 6276, 'less_100', '1_to_4', 3, 'female', 'none', 2, 'savings_insurance', 34, 'none', 'own', 2, 'skilled', 1, 'none', 'yes', 2.0, 0.0, 0.0, 0.0, 0.0, 0.0, 0.0, 0.0, 0.0, 0.0, 0.0, 1.0, 0.0, [21, [0, 5, 13, 14, 15, 16, 17, 18, 19, 20], [2.0, 1.0, 9.0, 6276.0, 3.0, 2.0, 9.0, 34.0, 2.0, 1.0]], [15.03992114748255, 4.960078852517451], [0.7519960573741276, 0.24800394262587253], 0.0, 'No Risk'], ['less_0', 12, 'credits_paid_to_date', 'furniture', 1135, 'less_100', '1_to_4', 3, 'female', 'none', 3, 'car_other', 31, 'none', 'own', 1, 'skilled', 1, 'none', 'yes', 1.0, 1.0, 0.0, 0.0, 0.0, 0.0, 0.0, 0.0, 1.0, 0.0, 1.0, 1.0, 0.0, [1.0, 1.0, 1.0, 0.0, 0.0, 1.0, 0.0, 1.0, 0.0, 0.0, 0.0, 0.0, 0.0, 12.0, 1135.0, 3.0, 3.0, 12.0, 31.0, 1.0, 1.0], [17.27229885007245, 2.7277011499275514], [0.8636149425036225, 0.13638505749637758], 0.0, 'No Risk'], ['no_checking', 38, 'outstanding_credit', 'repairs', 8579, 'unknown', 'greater_7', 5, 'male', 'co-applicant', 4, 'unknown', 50, 'none', 'own', 2, 'skilled', 1, 'none', 'yes', 0.0, 2.0, 2.0, 4.0, 0.0, 0.0, 0.0, 0.0, 5.0, 1.0, 3.0, 0.0, 0.0, [0.0, 2.0, 5.0, 4.0, 2.0, 0.0, 1.0, 3.0, 0.0, 0.0, 0.0, 0.0, 0.0, 38.0, 8579.0, 5.0, 4.0, 38.0, 50.0, 2.0, 1.0], [4.176468546817378, 15.823531453182623], [0.2088234273408689, 0.7911765726591311], 1.0, 'Risk'], ['no_checking', 29, 'outstanding_credit', 'furniture', 4697, '500_to_1000', 'less_1', 3, 'male', 'none', 4, 'unknown', 42, 'none', 'own', 1, 'skilled', 2, 'yes', 'yes', 0.0, 2.0, 3.0, 2.0, 0.0, 0.0, 0.0, 0.0, 1.0, 0.0, 3.0, 0.0, 1.0, [0.0, 2.0, 1.0, 2.0, 3.0, 0.0, 0.0, 3.0, 0.0, 0.0, 0.0, 1.0, 0.0, 29.0, 4697.0, 3.0, 4.0, 29.0, 42.0, 1.0, 2.0], [12.239411504362419, 7.760588495637581], [0.6119705752181209, 0.3880294247818791], 0.0, 'No Risk'], ['no_checking', 30, 'outstanding_credit', 'repairs', 5914, '500_to_1000', '4_to_7', 5, 'male', 'none', 5, 'unknown', 50, 'none', 'own', 2, 'management_self-employed', 2, 'yes', 'yes', 0.0, 2.0, 1.0, 2.0, 0.0, 0.0, 0.0, 2.0, 5.0, 0.0, 3.0, 0.0, 1.0, [0.0, 2.0, 5.0, 2.0, 1.0, 0.0, 0.0, 3.0, 0.0, 0.0, 2.0, 1.0, 0.0, 30.0, 5914.0, 5.0, 5.0, 30.0, 50.0, 2.0, 2.0], [5.288589763888499, 14.711410236111501], [0.26442948819442497, 0.7355705118055751], 1.0, 'Risk'], ['no_checking', 41, 'outstanding_credit', 'vacation', 4687, 'unknown', 'greater_7', 4, 'male', 'guarantor', 4, 'car_other', 65, 'none', 'free', 2, 'skilled', 1, 'yes', 'yes', 0.0, 2.0, 2.0, 4.0, 0.0, 2.0, 0.0, 0.0, 6.0, 2.0, 1.0, 0.0, 1.0, [0.0, 2.0, 6.0, 4.0, 2.0, 0.0, 2.0, 1.0, 0.0, 2.0, 0.0, 1.0, 0.0, 41.0, 4687.0, 4.0, 4.0, 41.0, 65.0, 2.0, 1.0], [2.899623556026537, 17.100376443973463], [0.14498117780132685, 0.8550188221986732], 1.0, 'Risk'], ['no_checking', 17, 'outstanding_credit', 'car_used', 7495, '500_to_1000', '4_to_7', 4, 'male', 'none', 5, 'savings_insurance', 39, 'none', 'own', 1, 'management_self-employed', 1, 'yes', 'yes', 0.0, 2.0, 1.0, 2.0, 0.0, 0.0, 0.0, 2.0, 2.0, 0.0, 0.0, 0.0, 1.0, [0.0, 2.0, 2.0, 2.0, 1.0, 0.0, 0.0, 0.0, 0.0, 0.0, 2.0, 1.0, 0.0, 17.0, 7495.0, 4.0, 5.0, 17.0, 39.0, 1.0, 1.0], [10.01761108108201, 9.98238891891799], [0.5008805540541005, 0.4991194459458995], 0.0, 'No Risk'], ['0_to_200', 19, 'prior_payments_delayed', 'retraining', 2538, '100_to_500', '1_to_4', 3, 'male', 'none', 3, 'car_other', 25, 'none', 'rent', 1, 'skilled', 1, 'none', 'yes', 2.0, 0.0, 0.0, 1.0, 0.0, 1.0, 0.0, 0.0, 8.0, 0.0, 1.0, 0.0, 0.0, [2.0, 0.0, 8.0, 1.0, 0.0, 0.0, 0.0, 1.0, 0.0, 1.0, 0.0, 0.0, 0.0, 19.0, 2538.0, 3.0, 3.0, 19.0, 25.0, 1.0, 1.0], [15.542188844153454, 4.457811155846543], [0.7771094422076729, 0.2228905577923272], 0.0, 'No Risk'], ['0_to_200', 5, 'prior_payments_delayed', 'car_new', 250, 'less_100', '1_to_4', 3, 'male', 'none', 3, 'real_estate', 27, 'none', 'own', 1, 'management_self-employed', 1, 'none', 'yes', 2.0, 0.0, 0.0, 0.0, 0.0, 0.0, 0.0, 2.0, 0.0, 0.0, 2.0, 0.0, 0.0, [21, [0, 7, 10, 13, 14, 15, 16, 17, 18, 19, 20], [2.0, 2.0, 2.0, 5.0, 250.0, 3.0, 3.0, 5.0, 27.0, 1.0, 1.0]], [18.434962382297904, 1.565037617702098], [0.9217481191148951, 0.07825188088510489], 0.0, 'No Risk'], ['no_checking', 29, 'prior_payments_delayed', 'education', 7106, 'unknown', '4_to_7', 4, 'male', 'none', 3, 'savings_insurance', 38, 'none', 'own', 2, 'skilled', 1, 'yes', 'yes', 0.0, 0.0, 1.0, 4.0, 0.0, 0.0, 0.0, 0.0, 7.0, 0.0, 0.0, 0.0, 1.0, [21, [2, 3, 4, 11, 13, 14, 15, 16, 17, 18, 19, 20], [7.0, 4.0, 1.0, 1.0, 29.0, 7106.0, 4.0, 3.0, 29.0, 38.0, 2.0, 1.0]], [10.405034205643089, 9.594965794356911], [0.5202517102821544, 0.47974828971784556], 0.0, 'No Risk'], ['less_0', 35, 'credits_paid_to_date', 'radio_tv', 2926, '500_to_1000', '4_to_7', 3, 'female', 'none', 1, 'savings_insurance', 43, 'stores', 'own', 2, 'unskilled', 2, 'none', 'yes', 1.0, 1.0, 1.0, 2.0, 0.0, 0.0, 1.0, 1.0, 3.0, 0.0, 0.0, 1.0, 0.0, [1.0, 1.0, 3.0, 2.0, 1.0, 1.0, 0.0, 0.0, 1.0, 0.0, 1.0, 0.0, 0.0, 35.0, 2926.0, 3.0, 1.0, 35.0, 43.0, 2.0, 2.0], [12.94045760639178, 7.059542393608219], [0.647022880319589, 0.35297711968041096], 0.0, 'No Risk'], ['no_checking', 46, 'outstanding_credit', 'other', 7600, 'greater_1000', 'greater_7', 4, 'male', 'co-applicant', 4, 'car_other', 40, 'none', 'own', 2, 'skilled', 2, 'yes', 'yes', 0.0, 2.0, 2.0, 3.0, 0.0, 0.0, 0.0, 0.0, 10.0, 1.0, 1.0, 0.0, 1.0, [0.0, 2.0, 10.0, 3.0, 2.0, 0.0, 1.0, 1.0, 0.0, 0.0, 0.0, 1.0, 0.0, 46.0, 7600.0, 4.0, 4.0, 46.0, 40.0, 2.0, 2.0], [3.84740735964561, 16.15259264035439], [0.19237036798228052, 0.8076296320177194], 1.0, 'Risk'], ['less_0', 20, 'credits_paid_to_date', 'furniture', 902, 'less_100', '4_to_7', 2, 'male', 'none', 1, 'savings_insurance', 26, 'stores', 'own', 1, 'unskilled', 1, 'none', 'no', 1.0, 1.0, 1.0, 0.0, 1.0, 0.0, 1.0, 1.0, 1.0, 0.0, 0.0, 0.0, 0.0, [1.0, 1.0, 1.0, 0.0, 1.0, 0.0, 0.0, 0.0, 1.0, 0.0, 1.0, 0.0, 1.0, 20.0, 902.0, 2.0, 1.0, 20.0, 26.0, 1.0, 1.0], [17.424876938777004, 2.575123061222996], [0.8712438469388502, 0.1287561530611498], 0.0, 'No Risk'], ['no_checking', 46, 'credits_paid_to_date', 'furniture', 5061, '500_to_1000', 'greater_7', 5, 'male', 'none', 5, 'car_other', 43, 'none', 'free', 2, 'skilled', 1, 'yes', 'yes', 0.0, 1.0, 2.0, 2.0, 0.0, 2.0, 0.0, 0.0, 1.0, 0.0, 1.0, 0.0, 1.0, [0.0, 1.0, 1.0, 2.0, 2.0, 0.0, 0.0, 1.0, 0.0, 2.0, 0.0, 1.0, 0.0, 46.0, 5061.0, 5.0, 5.0, 46.0, 43.0, 2.0, 1.0], [7.786381859388936, 12.21361814061106], [0.38931909296944683, 0.6106809070305531], 1.0, 'Risk'], ['less_0', 10, 'all_credits_paid_back', 'car_used', 605, 'less_100', 'less_1', 2, 'female', 'co-applicant', 3, 'real_estate', 26, 'none', 'own', 1, 'skilled', 1, 'none', 'yes', 1.0, 3.0, 3.0, 0.0, 0.0, 0.0, 0.0, 0.0, 2.0, 1.0, 2.0, 1.0, 0.0, [1.0, 3.0, 2.0, 0.0, 3.0, 1.0, 1.0, 2.0, 0.0, 0.0, 0.0, 0.0, 0.0, 10.0, 605.0, 2.0, 3.0, 10.0, 26.0, 1.0, 1.0], [19.354958880221332, 0.6450411197786694], [0.9677479440110666, 0.03225205598893347], 0.0, 'No Risk'], ['less_0', 4, 'all_credits_paid_back', 'car_new', 250, 'less_100', '1_to_4', 1, 'female', 'none', 1, 'real_estate', 33, 'none', 'rent', 1, 'skilled', 1, 'none', 'yes', 1.0, 3.0, 0.0, 0.0, 0.0, 1.0, 0.0, 0.0, 0.0, 0.0, 2.0, 1.0, 0.0, [1.0, 3.0, 0.0, 0.0, 0.0, 1.0, 0.0, 2.0, 0.0, 1.0, 0.0, 0.0, 0.0, 4.0, 250.0, 1.0, 1.0, 4.0, 33.0, 1.0, 1.0], [18.764541238092114, 1.2354587619078876], [0.9382270619046056, 0.06177293809539437], 0.0, 'No Risk'], ['no_checking', 28, 'outstanding_credit', 'appliances', 5834, 'greater_1000', '4_to_7', 4, 'male', 'none', 2, 'unknown', 51, 'none', 'own', 2, 'skilled', 1, 'yes', 'yes', 0.0, 2.0, 1.0, 3.0, 0.0, 0.0, 0.0, 0.0, 4.0, 0.0, 3.0, 0.0, 1.0, [0.0, 2.0, 4.0, 3.0, 1.0, 0.0, 0.0, 3.0, 0.0, 0.0, 0.0, 1.0, 0.0, 28.0, 5834.0, 4.0, 2.0, 28.0, 51.0, 2.0, 1.0], [6.6879935677177205, 13.31200643228228], [0.334399678385886, 0.665600321614114], 1.0, 'Risk'], ['0_to_200', 21, 'credits_paid_to_date', 'retraining', 4344, '500_to_1000', 'greater_7', 4, 'female', 'none', 3, 'savings_insurance', 36, 'none', 'free', 2, 'skilled', 1, 'yes', 'yes', 2.0, 1.0, 2.0, 2.0, 0.0, 2.0, 0.0, 0.0, 8.0, 0.0, 0.0, 1.0, 1.0, [2.0, 1.0, 8.0, 2.0, 2.0, 1.0, 0.0, 0.0, 0.0, 2.0, 0.0, 1.0, 0.0, 21.0, 4344.0, 4.0, 3.0, 21.0, 36.0, 2.0, 1.0], [11.380101635072267, 8.619898364927735], [0.5690050817536133, 0.43099491824638675], 0.0, 'No Risk'], ['no_checking', 37, 'prior_payments_delayed', 'furniture', 6294, 'unknown', 'greater_7', 3, 'male', 'guarantor', 5, 'unknown', 67, 'stores', 'own', 2, 'unskilled', 1, 'yes', 'yes', 0.0, 0.0, 2.0, 4.0, 0.0, 0.0, 1.0, 1.0, 1.0, 2.0, 3.0, 0.0, 1.0, [0.0, 0.0, 1.0, 4.0, 2.0, 0.0, 2.0, 3.0, 1.0, 0.0, 1.0, 1.0, 0.0, 37.0, 6294.0, 3.0, 5.0, 37.0, 67.0, 2.0, 1.0], [4.1147261517169085, 15.885273848283093], [0.20573630758584543, 0.7942636924141546], 1.0, 'Risk'], ['no_checking', 34, 'prior_payments_delayed', 'radio_tv', 2177, '500_to_1000', '4_to_7', 4, 'male', 'none', 3, 'real_estate', 24, 'none', 'own', 1, 'skilled', 2, 'none', 'yes', 0.0, 0.0, 1.0, 2.0, 0.0, 0.0, 0.0, 0.0, 3.0, 0.0, 2.0, 0.0, 0.0, [21, [2, 3, 4, 7, 13, 14, 15, 16, 17, 18, 19, 20], [3.0, 2.0, 1.0, 2.0, 34.0, 2177.0, 4.0, 3.0, 34.0, 24.0, 1.0, 2.0]], [13.257432480461052, 6.742567519538948], [0.6628716240230526, 0.3371283759769474], 0.0, 'No Risk'], ['less_0', 13, 'prior_payments_delayed', 'furniture', 714, '500_to_1000', '1_to_4', 2, 'male', 'none', 2, 'car_other', 33, 'stores', 'rent', 2, 'unskilled', 2, 'yes', 'yes', 1.0, 0.0, 0.0, 2.0, 0.0, 1.0, 1.0, 1.0, 1.0, 0.0, 1.0, 0.0, 1.0, [1.0, 0.0, 1.0, 2.0, 0.0, 0.0, 0.0, 1.0, 1.0, 1.0, 1.0, 1.0, 0.0, 13.0, 714.0, 2.0, 2.0, 13.0, 33.0, 2.0, 2.0], [16.04944682062528, 3.950553179374719], [0.8024723410312641, 0.19752765896873595], 0.0, 'No Risk'], ['no_checking', 14, 'credits_paid_to_date', 'car_new', 589, '100_to_500', 'less_1', 3, 'male', 'none', 3, 'real_estate', 40, 'none', 'own', 1, 'management_self-employed', 1, 'none', 'yes', 0.0, 1.0, 3.0, 1.0, 0.0, 0.0, 0.0, 2.0, 0.0, 0.0, 2.0, 0.0, 0.0, [0.0, 1.0, 0.0, 1.0, 3.0, 0.0, 0.0, 2.0, 0.0, 0.0, 2.0, 0.0, 0.0, 14.0, 589.0, 3.0, 3.0, 14.0, 40.0, 1.0, 1.0], [17.538324979445413, 2.4616750205545883], [0.8769162489722706, 0.12308375102772942], 0.0, 'No Risk'], ['greater_200', 19, 'outstanding_credit', 'radio_tv', 4496, '100_to_500', 'greater_7', 3, 'male', 'none', 2, 'car_other', 45, 'none', 'free', 2, 'skilled', 1, 'yes', 'yes', 3.0, 2.0, 2.0, 1.0, 0.0, 2.0, 0.0, 0.0, 3.0, 0.0, 1.0, 0.0, 1.0, [3.0, 2.0, 3.0, 1.0, 2.0, 0.0, 0.0, 1.0, 0.0, 2.0, 0.0, 1.0, 0.0, 19.0, 4496.0, 3.0, 2.0, 19.0, 45.0, 2.0, 1.0], [11.134595268968956, 8.865404731031045], [0.5567297634484478, 0.4432702365515523], 0.0, 'No Risk'], ['no_checking', 15, 'prior_payments_delayed', 'car_new', 1706, '100_to_500', 'less_1', 3, 'male', 'none', 4, 'real_estate', 23, 'none', 'own', 1, 'management_self-employed', 2, 'yes', 'yes', 0.0, 0.0, 3.0, 1.0, 0.0, 0.0, 0.0, 2.0, 0.0, 0.0, 2.0, 0.0, 1.0, [0.0, 0.0, 0.0, 1.0, 3.0, 0.0, 0.0, 2.0, 0.0, 0.0, 2.0, 1.0, 0.0, 15.0, 1706.0, 3.0, 4.0, 15.0, 23.0, 1.0, 2.0], [16.300427568745267, 3.6995724312547322], [0.8150213784372633, 0.18497862156273662], 0.0, 'No Risk'], ['no_checking', 29, 'prior_payments_delayed', 'furniture', 5559, '100_to_500', '4_to_7', 3, 'female', 'none', 4, 'savings_insurance', 45, 'none', 'own', 1, 'skilled', 1, 'none', 'yes', 0.0, 0.0, 1.0, 1.0, 0.0, 0.0, 0.0, 0.0, 1.0, 0.0, 0.0, 1.0, 0.0, [21, [2, 3, 4, 5, 13, 14, 15, 16, 17, 18, 19, 20], [1.0, 1.0, 1.0, 1.0, 29.0, 5559.0, 3.0, 4.0, 29.0, 45.0, 1.0, 1.0]], [9.827627184196722, 10.17237281580328], [0.49138135920983605, 0.5086186407901641], 1.0, 'Risk'], ['less_0', 30, 'credits_paid_to_date', 'furniture', 2371, 'less_100', 'less_1', 3, 'male', 'none', 3, 'real_estate', 27, 'none', 'own', 1, 'skilled', 1, 'none', 'yes', 1.0, 1.0, 3.0, 0.0, 0.0, 0.0, 0.0, 0.0, 1.0, 0.0, 2.0, 0.0, 0.0, [1.0, 1.0, 1.0, 0.0, 3.0, 0.0, 0.0, 2.0, 0.0, 0.0, 0.0, 0.0, 0.0, 30.0, 2371.0, 3.0, 3.0, 30.0, 27.0, 1.0, 1.0], [16.143155188344632, 3.8568448116553693], [0.8071577594172317, 0.19284224058276847], 0.0, 'No Risk'], ['no_checking', 41, 'outstanding_credit', 'other', 5183, 'greater_1000', 'greater_7', 4, 'male', 'co-applicant', 5, 'car_other', 36, 'stores', 'own', 1, 'unskilled', 1, 'yes', 'yes', 0.0, 2.0, 2.0, 3.0, 0.0, 0.0, 1.0, 1.0, 10.0, 1.0, 1.0, 0.0, 1.0, [0.0, 2.0, 10.0, 3.0, 2.0, 0.0, 1.0, 1.0, 1.0, 0.0, 1.0, 1.0, 0.0, 41.0, 5183.0, 4.0, 5.0, 41.0, 36.0, 1.0, 1.0], [7.546970839025357, 12.453029160974642], [0.3773485419512678, 0.6226514580487321], 1.0, 'Risk'], ['no_checking', 31, 'prior_payments_delayed', 'radio_tv', 4638, 'greater_1000', 'greater_7', 3, 'male', 'none', 4, 'car_other', 41, 'none', 'own', 2, 'skilled', 1, 'yes', 'yes', 0.0, 0.0, 2.0, 3.0, 0.0, 0.0, 0.0, 0.0, 3.0, 0.0, 1.0, 0.0, 1.0, [0.0, 0.0, 3.0, 3.0, 2.0, 0.0, 0.0, 1.0, 0.0, 0.0, 0.0, 1.0, 0.0, 31.0, 4638.0, 3.0, 4.0, 31.0, 41.0, 2.0, 1.0], [8.031397736796329, 11.968602263203671], [0.4015698868398164, 0.5984301131601836], 1.0, 'Risk'], ['0_to_200', 17, 'no_credits', 'furniture', 1017, 'less_100', '1_to_4', 2, 'female', 'none', 1, 'savings_insurance', 33, 'stores', 'own', 1, 'skilled', 1, 'none', 'yes', 2.0, 4.0, 0.0, 0.0, 0.0, 0.0, 1.0, 0.0, 1.0, 0.0, 0.0, 1.0, 0.0, [2.0, 4.0, 1.0, 0.0, 0.0, 1.0, 0.0, 0.0, 1.0, 0.0, 0.0, 0.0, 0.0, 17.0, 1017.0, 2.0, 1.0, 17.0, 33.0, 1.0, 1.0], [17.282133888388152, 2.7178661116118454], [0.8641066944194078, 0.1358933055805923], 0.0, 'No Risk'], ['0_to_200', 21, 'prior_payments_delayed', 'retraining', 6507, 'less_100', 'less_1', 2, 'female', 'none', 3, 'car_other', 31, 'none', 'own', 1, 'skilled', 1, 'yes', 'yes', 2.0, 0.0, 3.0, 0.0, 0.0, 0.0, 0.0, 0.0, 8.0, 0.0, 1.0, 1.0, 1.0, [2.0, 0.0, 8.0, 0.0, 3.0, 1.0, 0.0, 1.0, 0.0, 0.0, 0.0, 1.0, 0.0, 21.0, 6507.0, 2.0, 3.0, 21.0, 31.0, 1.0, 1.0], [15.060637724471968, 4.939362275528028], [0.7530318862235985, 0.24696811377640143], 0.0, 'No Risk'], ['0_to_200', 4, 'no_credits', 'car_new', 250, '100_to_500', 'unemployed', 2, 'male', 'none', 3, 'savings_insurance', 19, 'none', 'rent', 1, 'skilled', 1, 'none', 'yes', 2.0, 4.0, 4.0, 1.0, 0.0, 1.0, 0.0, 0.0, 0.0, 0.0, 0.0, 0.0, 0.0, [2.0, 4.0, 0.0, 1.0, 4.0, 0.0, 0.0, 0.0, 0.0, 1.0, 0.0, 0.0, 0.0, 4.0, 250.0, 2.0, 3.0, 4.0, 19.0, 1.0, 1.0], [18.95855010171106, 1.0414498982889397], [0.9479275050855531, 0.05207249491444699], 0.0, 'No Risk'], ['0_to_200', 10, 'credits_paid_to_date', 'car_new', 250, 'less_100', '1_to_4', 2, 'female', 'none', 1, 'real_estate', 30, 'none', 'own', 1, 'skilled', 1, 'none', 'yes', 2.0, 1.0, 0.0, 0.0, 0.0, 0.0, 0.0, 0.0, 0.0, 0.0, 2.0, 1.0, 0.0, [21, [0, 1, 5, 7, 13, 14, 15, 16, 17, 18, 19, 20], [2.0, 1.0, 1.0, 2.0, 10.0, 250.0, 2.0, 1.0, 10.0, 30.0, 1.0, 1.0]], [19.05629728378303, 0.943702716216969], [0.9528148641891516, 0.04718513581084845], 0.0, 'No Risk'], ['less_0', 17, 'credits_paid_to_date', 'car_used', 866, '500_to_1000', '1_to_4', 3, 'male', 'none', 3, 'savings_insurance', 20, 'none', 'rent', 1, 'skilled', 1, 'none', 'yes', 1.0, 1.0, 0.0, 2.0, 0.0, 1.0, 0.0, 0.0, 2.0, 0.0, 0.0, 0.0, 0.0, [1.0, 1.0, 2.0, 2.0, 0.0, 0.0, 0.0, 0.0, 0.0, 1.0, 0.0, 0.0, 0.0, 17.0, 866.0, 3.0, 3.0, 17.0, 20.0, 1.0, 1.0], [17.31574413499897, 2.6842558650010324], [0.8657872067499485, 0.13421279325005162], 0.0, 'No Risk'], ['no_checking', 43, 'prior_payments_delayed', 'repairs', 6536, 'greater_1000', 'greater_7', 5, 'male', 'none', 3, 'unknown', 50, 'none', 'free', 2, 'skilled', 1, 'yes', 'yes', 0.0, 0.0, 2.0, 3.0, 0.0, 2.0, 0.0, 0.0, 5.0, 0.0, 3.0, 0.0, 1.0, [0.0, 0.0, 5.0, 3.0, 2.0, 0.0, 0.0, 3.0, 0.0, 2.0, 0.0, 1.0, 0.0, 43.0, 6536.0, 5.0, 3.0, 43.0, 50.0, 2.0, 1.0], [4.414293450078196, 15.585706549921806], [0.2207146725039098, 0.7792853274960903], 1.0, 'Risk'], ['0_to_200', 19, 'credits_paid_to_date', 'car_new', 1341, 'less_100', 'less_1', 3, 'female', 'none', 2, 'real_estate', 39, 'none', 'own', 2, 'skilled', 1, 'none', 'yes', 2.0, 1.0, 3.0, 0.0, 0.0, 0.0, 0.0, 0.0, 0.0, 0.0, 2.0, 1.0, 0.0, [2.0, 1.0, 0.0, 0.0, 3.0, 1.0, 0.0, 2.0, 0.0, 0.0, 0.0, 0.0, 0.0, 19.0, 1341.0, 3.0, 2.0, 19.0, 39.0, 2.0, 1.0], [17.087941107474546, 2.9120588925254554], [0.8543970553737272, 0.14560294462627277], 0.0, 'No Risk'], ['no_checking', 35, 'prior_payments_delayed', 'radio_tv', 3752, '500_to_1000', 'greater_7', 4, 'male', 'none', 3, 'unknown', 42, 'none', 'own', 1, 'skilled', 1, 'yes', 'yes', 0.0, 0.0, 2.0, 2.0, 0.0, 0.0, 0.0, 0.0, 3.0, 0.0, 3.0, 0.0, 1.0, [0.0, 0.0, 3.0, 2.0, 2.0, 0.0, 0.0, 3.0, 0.0, 0.0, 0.0, 1.0, 0.0, 35.0, 3752.0, 4.0, 3.0, 35.0, 42.0, 1.0, 1.0], [8.168959798132411, 11.83104020186759], [0.40844798990662057, 0.5915520100933795], 1.0, 'Risk'], ['less_0', 33, 'outstanding_credit', 'appliances', 6477, 'greater_1000', '4_to_7', 4, 'male', 'none', 4, 'car_other', 31, 'none', 'own', 2, 'skilled', 1, 'none', 'yes', 1.0, 2.0, 1.0, 3.0, 0.0, 0.0, 0.0, 0.0, 4.0, 0.0, 1.0, 0.0, 0.0, [1.0, 2.0, 4.0, 3.0, 1.0, 0.0, 0.0, 1.0, 0.0, 0.0, 0.0, 0.0, 0.0, 33.0, 6477.0, 4.0, 4.0, 33.0, 31.0, 2.0, 1.0], [12.767201978138212, 7.232798021861788], [0.6383600989069106, 0.3616399010930894], 0.0, 'No Risk'], ['no_checking', 39, 'outstanding_credit', 'repairs', 7078, 'unknown', 'greater_7', 6, 'male', 'co-applicant', 3, 'car_other', 51, 'none', 'free', 3, 'skilled', 2, 'yes', 'yes', 0.0, 2.0, 2.0, 4.0, 0.0, 2.0, 0.0, 0.0, 5.0, 1.0, 1.0, 0.0, 1.0, [0.0, 2.0, 5.0, 4.0, 2.0, 0.0, 1.0, 1.0, 0.0, 2.0, 0.0, 1.0, 0.0, 39.0, 7078.0, 6.0, 3.0, 39.0, 51.0, 3.0, 2.0], [1.6029738519007521, 18.397026148099247], [0.08014869259503761, 0.9198513074049623], 1.0, 'Risk'], ['less_0', 18, 'credits_paid_to_date', 'furniture', 368, 'less_100', 'less_1', 2, 'female', 'none', 2, 'real_estate', 22, 'none', 'own', 1, 'skilled', 1, 'none', 'yes', 1.0, 1.0, 3.0, 0.0, 0.0, 0.0, 0.0, 0.0, 1.0, 0.0, 2.0, 1.0, 0.0, [1.0, 1.0, 1.0, 0.0, 3.0, 1.0, 0.0, 2.0, 0.0, 0.0, 0.0, 0.0, 0.0, 18.0, 368.0, 2.0, 2.0, 18.0, 22.0, 1.0, 1.0], [19.09408994003175, 0.9059100599682499], [0.9547044970015875, 0.04529550299841249], 0.0, 'No Risk'], ['greater_200', 17, 'credits_paid_to_date', 'car_new', 572, 'less_100', '1_to_4', 1, 'male', 'none', 1, 'real_estate', 30, 'none', 'own', 1, 'skilled', 1, 'none', 'yes', 3.0, 1.0, 0.0, 0.0, 0.0, 0.0, 0.0, 0.0, 0.0, 0.0, 2.0, 0.0, 0.0, [21, [0, 1, 7, 13, 14, 15, 16, 17, 18, 19, 20], [3.0, 1.0, 2.0, 17.0, 572.0, 1.0, 1.0, 17.0, 30.0, 1.0, 1.0]], [18.54015603931719, 1.459843960682812], [0.9270078019658594, 0.0729921980341406], 0.0, 'No Risk'], ['no_checking', 28, 'prior_payments_delayed', 'business', 3687, 'unknown', '1_to_4', 3, 'female', 'none', 4, 'savings_insurance', 25, 'none', 'own', 1, 'skilled', 1, 'none', 'yes', 0.0, 0.0, 0.0, 4.0, 0.0, 0.0, 0.0, 0.0, 9.0, 0.0, 0.0, 1.0, 0.0, [21, [2, 3, 5, 13, 14, 15, 16, 17, 18, 19, 20], [9.0, 4.0, 1.0, 28.0, 3687.0, 3.0, 4.0, 28.0, 25.0, 1.0, 1.0]], [14.247505571520211, 5.752494428479787], [0.7123752785760106, 0.28762472142398937], 0.0, 'No Risk'], ['no_checking', 34, 'outstanding_credit', 'furniture', 8429, '500_to_1000', 'greater_7', 5, 'male', 'co-applicant', 5, 'car_other', 46, 'none', 'free', 2, 'management_self-employed', 2, 'yes', 'yes', 0.0, 2.0, 2.0, 2.0, 0.0, 2.0, 0.0, 2.0, 1.0, 1.0, 1.0, 0.0, 1.0, [0.0, 2.0, 1.0, 2.0, 2.0, 0.0, 1.0, 1.0, 0.0, 2.0, 2.0, 1.0, 0.0, 34.0, 8429.0, 5.0, 5.0, 34.0, 46.0, 2.0, 2.0], [1.8637708164971054, 18.136229183502895], [0.09318854082485527, 0.9068114591751447], 1.0, 'Risk'], ['no_checking', 38, 'prior_payments_delayed', 'appliances', 5275, '500_to_1000', 'greater_7', 5, 'male', 'none', 3, 'car_other', 46, 'none', 'free', 2, 'skilled', 1, 'none', 'yes', 0.0, 0.0, 2.0, 2.0, 0.0, 2.0, 0.0, 0.0, 4.0, 0.0, 1.0, 0.0, 0.0, [0.0, 0.0, 4.0, 2.0, 2.0, 0.0, 0.0, 1.0, 0.0, 2.0, 0.0, 0.0, 0.0, 38.0, 5275.0, 5.0, 3.0, 38.0, 46.0, 2.0, 1.0], [7.911637012989047, 12.088362987010953], [0.39558185064945234, 0.6044181493505476], 1.0, 'Risk'], ['no_checking', 26, 'outstanding_credit', 'appliances', 6754, '500_to_1000', '4_to_7', 5, 'male', 'none', 4, 'unknown', 47, 'none', 'free', 2, 'skilled', 1, 'yes', 'yes', 0.0, 2.0, 1.0, 2.0, 0.0, 2.0, 0.0, 0.0, 4.0, 0.0, 3.0, 0.0, 1.0, [0.0, 2.0, 4.0, 2.0, 1.0, 0.0, 0.0, 3.0, 0.0, 2.0, 0.0, 1.0, 0.0, 26.0, 6754.0, 5.0, 4.0, 26.0, 47.0, 2.0, 1.0], [5.234381772500474, 14.765618227499525], [0.2617190886250237, 0.7382809113749762], 1.0, 'Risk'], ['no_checking', 30, 'outstanding_credit', 'furniture', 5220, 'greater_1000', '4_to_7', 3, 'male', 'co-applicant', 3, 'unknown', 40, 'none', 'own', 1, 'skilled', 1, 'yes', 'yes', 0.0, 2.0, 1.0, 3.0, 0.0, 0.0, 0.0, 0.0, 1.0, 1.0, 3.0, 0.0, 1.0, [0.0, 2.0, 1.0, 3.0, 1.0, 0.0, 1.0, 3.0, 0.0, 0.0, 0.0, 1.0, 0.0, 30.0, 5220.0, 3.0, 3.0, 30.0, 40.0, 1.0, 1.0], [5.962331994004821, 14.037668005995176], [0.2981165997002411, 0.7018834002997589], 1.0, 'Risk'], ['less_0', 4, 'credits_paid_to_date', 'car_used', 438, 'less_100', 'unemployed', 1, 'female', 'none', 2, 'real_estate', 19, 'none', 'rent', 2, 'skilled', 1, 'none', 'yes', 1.0, 1.0, 4.0, 0.0, 0.0, 1.0, 0.0, 0.0, 2.0, 0.0, 2.0, 1.0, 0.0, [1.0, 1.0, 2.0, 0.0, 4.0, 1.0, 0.0, 2.0, 0.0, 1.0, 0.0, 0.0, 0.0, 4.0, 438.0, 1.0, 2.0, 4.0, 19.0, 2.0, 1.0], [17.572395250764377, 2.4276047492356256], [0.8786197625382187, 0.12138023746178125], 0.0, 'No Risk'], ['no_checking', 36, 'prior_payments_delayed', 'radio_tv', 2329, '500_to_1000', '4_to_7', 3, 'male', 'none', 3, 'savings_insurance', 28, 'none', 'own', 2, 'skilled', 1, 'yes', 'yes', 0.0, 0.0, 1.0, 2.0, 0.0, 0.0, 0.0, 0.0, 3.0, 0.0, 0.0, 0.0, 1.0, [21, [2, 3, 4, 11, 13, 14, 15, 16, 17, 18, 19, 20], [3.0, 2.0, 1.0, 1.0, 36.0, 2329.0, 3.0, 3.0, 36.0, 28.0, 2.0, 1.0]], [11.78556161707258, 8.21443838292742], [0.589278080853629, 0.410721919146371], 0.0, 'No Risk'], ['no_checking', 19, 'outstanding_credit', 'radio_tv', 3982, '500_to_1000', '4_to_7', 4, 'male', 'none', 4, 'savings_insurance', 49, 'none', 'free', 2, 'management_self-employed', 1, 'yes', 'yes', 0.0, 2.0, 1.0, 2.0, 0.0, 2.0, 0.0, 2.0, 3.0, 0.0, 0.0, 0.0, 1.0, [0.0, 2.0, 3.0, 2.0, 1.0, 0.0, 0.0, 0.0, 0.0, 2.0, 2.0, 1.0, 0.0, 19.0, 3982.0, 4.0, 4.0, 19.0, 49.0, 2.0, 1.0], [8.961420325906126, 11.038579674093874], [0.44807101629530627, 0.5519289837046937], 1.0, 'Risk'], ['no_checking', 25, 'prior_payments_delayed', 'business', 7599, '100_to_500', 'greater_7', 5, 'male', 'none', 5, 'unknown', 60, 'none', 'free', 2, 'management_self-employed', 2, 'yes', 'yes', 0.0, 0.0, 2.0, 1.0, 0.0, 2.0, 0.0, 2.0, 9.0, 0.0, 3.0, 0.0, 1.0, [0.0, 0.0, 9.0, 1.0, 2.0, 0.0, 0.0, 3.0, 0.0, 2.0, 2.0, 1.0, 0.0, 25.0, 7599.0, 5.0, 5.0, 25.0, 60.0, 2.0, 2.0], [4.644256073277133, 15.355743926722868], [0.23221280366385666, 0.7677871963361433], 1.0, 'Risk'], ['0_to_200', 22, 'credits_paid_to_date', 'radio_tv', 1889, 'less_100', '1_to_4', 2, 'male', 'none', 3, 'savings_insurance', 19, 'none', 'own', 1, 'skilled', 1, 'none', 'yes', 2.0, 1.0, 0.0, 0.0, 0.0, 0.0, 0.0, 0.0, 3.0, 0.0, 0.0, 0.0, 0.0, [21, [0, 1, 2, 13, 14, 15, 16, 17, 18, 19, 20], [2.0, 1.0, 3.0, 22.0, 1889.0, 2.0, 3.0, 22.0, 19.0, 1.0, 1.0]], [15.230666178032921, 4.769333821967075], [0.7615333089016462, 0.2384666910983538], 0.0, 'No Risk'], ['less_0', 11, 'prior_payments_delayed', 'car_new', 2027, '500_to_1000', '1_to_4', 1, 'female', 'none', 2, 'savings_insurance', 35, 'stores', 'rent', 1, 'skilled', 1, 'none', 'no', 1.0, 0.0, 0.0, 2.0, 1.0, 1.0, 1.0, 0.0, 0.0, 0.0, 0.0, 1.0, 0.0, [1.0, 0.0, 0.0, 2.0, 0.0, 1.0, 0.0, 0.0, 1.0, 1.0, 0.0, 0.0, 1.0, 11.0, 2027.0, 1.0, 2.0, 11.0, 35.0, 1.0, 1.0], [17.082137396046562, 2.9178626039534405], [0.854106869802328, 0.145893130197672], 0.0, 'No Risk'], ['0_to_200', 32, 'outstanding_credit', 'vacation', 4272, 'unknown', '4_to_7', 4, 'male', 'none', 4, 'unknown', 36, 'none', 'own', 2, 'skilled', 1, 'yes', 'yes', 2.0, 2.0, 1.0, 4.0, 0.0, 0.0, 0.0, 0.0, 6.0, 0.0, 3.0, 0.0, 1.0, [2.0, 2.0, 6.0, 4.0, 1.0, 0.0, 0.0, 3.0, 0.0, 0.0, 0.0, 1.0, 0.0, 32.0, 4272.0, 4.0, 4.0, 32.0, 36.0, 2.0, 1.0], [9.02238990265034, 10.97761009734966], [0.45111949513251703, 0.548880504867483], 1.0, 'Risk'], ['less_0', 4, 'all_credits_paid_back', 'car_used', 250, 'less_100', 'unemployed', 2, 'male', 'none', 2, 'real_estate', 19, 'none', 'rent', 1, 'skilled', 1, 'none', 'yes', 1.0, 3.0, 4.0, 0.0, 0.0, 1.0, 0.0, 0.0, 2.0, 0.0, 2.0, 0.0, 0.0, [1.0, 3.0, 2.0, 0.0, 4.0, 0.0, 0.0, 2.0, 0.0, 1.0, 0.0, 0.0, 0.0, 4.0, 250.0, 2.0, 2.0, 4.0, 19.0, 1.0, 1.0], [19.497656272625395, 0.5023437273746052], [0.9748828136312697, 0.02511718636873026], 0.0, 'No Risk'], ['no_checking', 32, 'credits_paid_to_date', 'appliances', 5359, '100_to_500', '4_to_7', 4, 'male', 'none', 4, 'savings_insurance', 36, 'none', 'free', 2, 'management_self-employed', 1, 'none', 'yes', 0.0, 1.0, 1.0, 1.0, 0.0, 2.0, 0.0, 2.0, 4.0, 0.0, 0.0, 0.0, 0.0, [0.0, 1.0, 4.0, 1.0, 1.0, 0.0, 0.0, 0.0, 0.0, 2.0, 2.0, 0.0, 0.0, 32.0, 5359.0, 4.0, 4.0, 32.0, 36.0, 2.0, 1.0], [10.283365636622564, 9.716634363377434], [0.5141682818311282, 0.4858317181688717], 0.0, 'No Risk'], ['0_to_200', 20, 'credits_paid_to_date', 'radio_tv', 3282, 'less_100', '4_to_7', 3, 'male', 'none', 3, 'car_other', 32, 'none', 'own', 2, 'skilled', 2, 'none', 'yes', 2.0, 1.0, 1.0, 0.0, 0.0, 0.0, 0.0, 0.0, 3.0, 0.0, 1.0, 0.0, 0.0, [2.0, 1.0, 3.0, 0.0, 1.0, 0.0, 0.0, 1.0, 0.0, 0.0, 0.0, 0.0, 0.0, 20.0, 3282.0, 3.0, 3.0, 20.0, 32.0, 2.0, 2.0], [13.76091854066165, 6.239081459338349], [0.6880459270330825, 0.31195407296691746], 0.0, 'No Risk'], ['0_to_200', 32, 'credits_paid_to_date', 'radio_tv', 2145, '100_to_500', '4_to_7', 4, 'female', 'none', 3, 'car_other', 21, 'stores', 'own', 1, 'skilled', 1, 'yes', 'yes', 2.0, 1.0, 1.0, 1.0, 0.0, 0.0, 1.0, 0.0, 3.0, 0.0, 1.0, 1.0, 1.0, [2.0, 1.0, 3.0, 1.0, 1.0, 1.0, 0.0, 1.0, 1.0, 0.0, 0.0, 1.0, 0.0, 32.0, 2145.0, 4.0, 3.0, 32.0, 21.0, 1.0, 1.0], [13.647327429127813, 6.352672570872188], [0.6823663714563907, 0.3176336285436094], 0.0, 'No Risk'], ['greater_200', 41, 'prior_payments_delayed', 'other', 5492, '100_to_500', '4_to_7', 4, 'male', 'none', 4, 'car_other', 26, 'none', 'own', 2, 'skilled', 1, 'yes', 'yes', 3.0, 0.0, 1.0, 1.0, 0.0, 0.0, 0.0, 0.0, 10.0, 0.0, 1.0, 0.0, 1.0, [3.0, 0.0, 10.0, 1.0, 1.0, 0.0, 0.0, 1.0, 0.0, 0.0, 0.0, 1.0, 0.0, 41.0, 5492.0, 4.0, 4.0, 41.0, 26.0, 2.0, 1.0], [10.737233713687496, 9.262766286312504], [0.5368616856843749, 0.4631383143156252], 0.0, 'No Risk'], ['no_checking', 30, 'prior_payments_delayed', 'business', 2555, '100_to_500', '4_to_7', 3, 'male', 'none', 4, 'car_other', 48, 'none', 'own', 1, 'skilled', 1, 'yes', 'yes', 0.0, 0.0, 1.0, 1.0, 0.0, 0.0, 0.0, 0.0, 9.0, 0.0, 1.0, 0.0, 1.0, [0.0, 0.0, 9.0, 1.0, 1.0, 0.0, 0.0, 1.0, 0.0, 0.0, 0.0, 1.0, 0.0, 30.0, 2555.0, 3.0, 4.0, 30.0, 48.0, 1.0, 1.0], [8.54017224693757, 11.45982775306243], [0.4270086123468785, 0.5729913876531215], 1.0, 'Risk'], ['less_0', 8, 'prior_payments_delayed', 'furniture', 250, 'less_100', 'less_1', 2, 'female', 'none', 1, 'savings_insurance', 31, 'stores', 'own', 1, 'skilled', 1, 'none', 'yes', 1.0, 0.0, 3.0, 0.0, 0.0, 0.0, 1.0, 0.0, 1.0, 0.0, 0.0, 1.0, 0.0, [1.0, 0.0, 1.0, 0.0, 3.0, 1.0, 0.0, 0.0, 1.0, 0.0, 0.0, 0.0, 0.0, 8.0, 250.0, 2.0, 1.0, 8.0, 31.0, 1.0, 1.0], [18.26750691225033, 1.7324930877496731], [0.9133753456125163, 0.08662465438748364], 0.0, 'No Risk'], ['no_checking', 37, 'outstanding_credit', 'retraining', 7108, 'greater_1000', 'greater_7', 4, 'male', 'co-applicant', 4, 'car_other', 50, 'none', 'free', 2, 'skilled', 1, 'yes', 'yes', 0.0, 2.0, 2.0, 3.0, 0.0, 2.0, 0.0, 0.0, 8.0, 1.0, 1.0, 0.0, 1.0, [0.0, 2.0, 8.0, 3.0, 2.0, 0.0, 1.0, 1.0, 0.0, 2.0, 0.0, 1.0, 0.0, 37.0, 7108.0, 4.0, 4.0, 37.0, 50.0, 2.0, 1.0], [1.6249367033063746, 18.375063296693625], [0.08124683516531873, 0.9187531648346813], 1.0, 'Risk'], ['0_to_200', 6, 'all_credits_paid_back', 'car_new', 250, 'less_100', '1_to_4', 1, 'male', 'none', 1, 'real_estate', 22, 'none', 'own', 1, 'skilled', 1, 'none', 'yes', 2.0, 3.0, 0.0, 0.0, 0.0, 0.0, 0.0, 0.0, 0.0, 0.0, 2.0, 0.0, 0.0, [21, [0, 1, 7, 13, 14, 15, 16, 17, 18, 19, 20], [2.0, 3.0, 2.0, 6.0, 250.0, 1.0, 1.0, 6.0, 22.0, 1.0, 1.0]], [19.32593189633811, 0.6740681036618958], [0.9662965948169052, 0.03370340518309479], 0.0, 'No Risk'], ['no_checking', 43, 'outstanding_credit', 'radio_tv', 5931, 'greater_1000', 'greater_7', 5, 'male', 'co-applicant', 4, 'car_other', 60, 'stores', 'own', 2, 'unskilled', 2, 'yes', 'yes', 0.0, 2.0, 2.0, 3.0, 0.0, 0.0, 1.0, 1.0, 3.0, 1.0, 1.0, 0.0, 1.0, [0.0, 2.0, 3.0, 3.0, 2.0, 0.0, 1.0, 1.0, 1.0, 0.0, 1.0, 1.0, 0.0, 43.0, 5931.0, 5.0, 4.0, 43.0, 60.0, 2.0, 2.0], [3.4519509355189473, 16.548049064481052], [0.17259754677594735, 0.8274024532240526], 1.0, 'Risk'], ['0_to_200', 24, 'credits_paid_to_date', 'car_used', 1725, 'less_100', '4_to_7', 3, 'male', 'none', 2, 'car_other', 33, 'none', 'own', 2, 'skilled', 1, 'yes', 'yes', 2.0, 1.0, 1.0, 0.0, 0.0, 0.0, 0.0, 0.0, 2.0, 0.0, 1.0, 0.0, 1.0, [2.0, 1.0, 2.0, 0.0, 1.0, 0.0, 0.0, 1.0, 0.0, 0.0, 0.0, 1.0, 0.0, 24.0, 1725.0, 3.0, 2.0, 24.0, 33.0, 2.0, 1.0], [14.613782665998313, 5.386217334001686], [0.7306891332999157, 0.2693108667000843], 0.0, 'No Risk'], ['no_checking', 20, 'credits_paid_to_date', 'appliances', 3521, '100_to_500', '1_to_4', 3, 'female', 'none', 3, 'real_estate', 25, 'none', 'own', 1, 'management_self-employed', 1, 'none', 'yes', 0.0, 1.0, 0.0, 1.0, 0.0, 0.0, 0.0, 2.0, 4.0, 0.0, 2.0, 1.0, 0.0, [0.0, 1.0, 4.0, 1.0, 0.0, 1.0, 0.0, 2.0, 0.0, 0.0, 2.0, 0.0, 0.0, 20.0, 3521.0, 3.0, 3.0, 20.0, 25.0, 1.0, 1.0], [15.288734136094044, 4.711265863905954], [0.7644367068047022, 0.2355632931952977], 0.0, 'No Risk'], ['less_0', 4, 'all_credits_paid_back', 'car_new', 250, 'less_100', 'less_1', 1, 'female', 'none', 1, 'savings_insurance', 26, 'stores', 'rent', 1, 'skilled', 1, 'none', 'yes', 1.0, 3.0, 3.0, 0.0, 0.0, 1.0, 1.0, 0.0, 0.0, 0.0, 0.0, 1.0, 0.0, [1.0, 3.0, 0.0, 0.0, 3.0, 1.0, 0.0, 0.0, 1.0, 1.0, 0.0, 0.0, 0.0, 4.0, 250.0, 1.0, 1.0, 4.0, 26.0, 1.0, 1.0], [19.353949198456746, 0.6460508015432552], [0.9676974599228373, 0.03230254007716276], 0.0, 'No Risk'], ['greater_200', 31, 'prior_payments_delayed', 'other', 3315, '500_to_1000', 'less_1', 3, 'female', 'none', 2, 'savings_insurance', 35, 'none', 'own', 1, 'skilled', 1, 'none', 'yes', 3.0, 0.0, 3.0, 2.0, 0.0, 0.0, 0.0, 0.0, 10.0, 0.0, 0.0, 1.0, 0.0, [3.0, 0.0, 10.0, 2.0, 3.0, 1.0, 0.0, 0.0, 0.0, 0.0, 0.0, 0.0, 0.0, 31.0, 3315.0, 3.0, 2.0, 31.0, 35.0, 1.0, 1.0], [14.488119110948775, 5.511880889051226], [0.7244059555474387, 0.2755940444525613], 0.0, 'No Risk'], ['0_to_200', 23, 'credits_paid_to_date', 'retraining', 3584, 'less_100', '4_to_7', 3, 'male', 'none', 2, 'real_estate', 33, 'none', 'own', 1, 'skilled', 1, 'none', 'yes', 2.0, 1.0, 1.0, 0.0, 0.0, 0.0, 0.0, 0.0, 8.0, 0.0, 2.0, 0.0, 0.0, [2.0, 1.0, 8.0, 0.0, 1.0, 0.0, 0.0, 2.0, 0.0, 0.0, 0.0, 0.0, 0.0, 23.0, 3584.0, 3.0, 2.0, 23.0, 33.0, 1.0, 1.0], [16.902904286694255, 3.097095713305743], [0.8451452143347128, 0.15485478566528715], 0.0, 'No Risk'], ['0_to_200', 23, 'credits_paid_to_date', 'repairs', 2526, '500_to_1000', 'greater_7', 3, 'male', 'none', 3, 'car_other', 37, 'none', 'own', 2, 'skilled', 1, 'none', 'yes', 2.0, 1.0, 2.0, 2.0, 0.0, 0.0, 0.0, 0.0, 5.0, 0.0, 1.0, 0.0, 0.0, [2.0, 1.0, 5.0, 2.0, 2.0, 0.0, 0.0, 1.0, 0.0, 0.0, 0.0, 0.0, 0.0, 23.0, 2526.0, 3.0, 3.0, 23.0, 37.0, 2.0, 1.0], [12.945721921044743, 7.054278078955253], [0.6472860960522373, 0.3527139039477627], 0.0, 'No Risk'], ['no_checking', 35, 'outstanding_credit', 'repairs', 4669, 'unknown', '4_to_7', 3, 'male', 'none', 4, 'savings_insurance', 38, 'stores', 'own', 2, 'unskilled', 1, 'yes', 'yes', 0.0, 2.0, 1.0, 4.0, 0.0, 0.0, 1.0, 1.0, 5.0, 0.0, 0.0, 0.0, 1.0, [0.0, 2.0, 5.0, 4.0, 1.0, 0.0, 0.0, 0.0, 1.0, 0.0, 1.0, 1.0, 0.0, 35.0, 4669.0, 3.0, 4.0, 35.0, 38.0, 2.0, 1.0], [11.382913641446944, 8.617086358553058], [0.5691456820723472, 0.4308543179276529], 0.0, 'No Risk'], ['no_checking', 26, 'prior_payments_delayed', 'car_used', 2839, 'greater_1000', 'less_1', 2, 'male', 'none', 2, 'savings_insurance', 26, 'bank', 'own', 1, 'unemployed', 2, 'yes', 'yes', 0.0, 0.0, 3.0, 3.0, 0.0, 0.0, 2.0, 3.0, 2.0, 0.0, 0.0, 0.0, 1.0, [0.0, 0.0, 2.0, 3.0, 3.0, 0.0, 0.0, 0.0, 2.0, 0.0, 3.0, 1.0, 0.0, 26.0, 2839.0, 2.0, 2.0, 26.0, 26.0, 1.0, 2.0], [15.314136794079342, 4.685863205920658], [0.7657068397039671, 0.2342931602960329], 0.0, 'No Risk'], ['0_to_200', 25, 'credits_paid_to_date', 'radio_tv', 1497, 'less_100', '4_to_7', 3, 'male', 'none', 3, 'car_other', 19, 'bank', 'rent', 1, 'unskilled', 1, 'none', 'yes', 2.0, 1.0, 1.0, 0.0, 0.0, 1.0, 2.0, 1.0, 3.0, 0.0, 1.0, 0.0, 0.0, [2.0, 1.0, 3.0, 0.0, 1.0, 0.0, 0.0, 1.0, 2.0, 1.0, 1.0, 0.0, 0.0, 25.0, 1497.0, 3.0, 3.0, 25.0, 19.0, 1.0, 1.0], [15.076509772063158, 4.923490227936843], [0.7538254886031579, 0.24617451139684215], 0.0, 'No Risk'], ['no_checking', 27, 'prior_payments_delayed', 'car_used', 5339, '100_to_500', '4_to_7', 3, 'male', 'none', 4, 'car_other', 31, 'none', 'own', 1, 'skilled', 1, 'yes', 'yes', 0.0, 0.0, 1.0, 1.0, 0.0, 0.0, 0.0, 0.0, 2.0, 0.0, 1.0, 0.0, 1.0, [0.0, 0.0, 2.0, 1.0, 1.0, 0.0, 0.0, 1.0, 0.0, 0.0, 0.0, 1.0, 0.0, 27.0, 5339.0, 3.0, 4.0, 27.0, 31.0, 1.0, 1.0], [9.628659479058994, 10.371340520941006], [0.4814329739529497, 0.5185670260470503], 1.0, 'Risk'], ['0_to_200', 27, 'credits_paid_to_date', 'car_used', 1928, 'less_100', '4_to_7', 2, 'female', 'none', 2, 'car_other', 36, 'stores', 'own', 1, 'skilled', 1, 'none', 'yes', 2.0, 1.0, 1.0, 0.0, 0.0, 0.0, 1.0, 0.0, 2.0, 0.0, 1.0, 1.0, 0.0, [2.0, 1.0, 2.0, 0.0, 1.0, 1.0, 0.0, 1.0, 1.0, 0.0, 0.0, 0.0, 0.0, 27.0, 1928.0, 2.0, 2.0, 27.0, 36.0, 1.0, 1.0], [14.127466971683509, 5.8725330283164885], [0.7063733485841756, 0.2936266514158245], 0.0, 'No Risk'], ['no_checking', 29, 'prior_payments_delayed', 'appliances', 4364, '100_to_500', 'greater_7', 4, 'male', 'none', 2, 'savings_insurance', 41, 'none', 'own', 2, 'skilled', 2, 'none', 'yes', 0.0, 0.0, 2.0, 1.0, 0.0, 0.0, 0.0, 0.0, 4.0, 0.0, 0.0, 0.0, 0.0, [21, [2, 3, 4, 13, 14, 15, 16, 17, 18, 19, 20], [4.0, 1.0, 2.0, 29.0, 4364.0, 4.0, 2.0, 29.0, 41.0, 2.0, 2.0]], [11.012899869426793, 8.987100130573207], [0.5506449934713397, 0.44935500652866034], 0.0, 'No Risk'], ['0_to_200', 37, 'outstanding_credit', 'repairs', 4609, '500_to_1000', 'greater_7', 4, 'male', 'none', 3, 'car_other', 47, 'none', 'own', 2, 'skilled', 1, 'yes', 'no', 2.0, 2.0, 2.0, 2.0, 1.0, 0.0, 0.0, 0.0, 5.0, 0.0, 1.0, 0.0, 1.0, [2.0, 2.0, 5.0, 2.0, 2.0, 0.0, 0.0, 1.0, 0.0, 0.0, 0.0, 1.0, 1.0, 37.0, 4609.0, 4.0, 3.0, 37.0, 47.0, 2.0, 1.0], [8.652050929344238, 11.347949070655762], [0.4326025464672119, 0.5673974535327881], 1.0, 'Risk'], ['greater_200', 13, 'prior_payments_delayed', 'radio_tv', 5209, '100_to_500', '1_to_4', 2, 'female', 'none', 3, 'car_other', 30, 'none', 'own', 1, 'skilled', 1, 'none', 'yes', 3.0, 0.0, 0.0, 1.0, 0.0, 0.0, 0.0, 0.0, 3.0, 0.0, 1.0, 1.0, 0.0, [3.0, 0.0, 3.0, 1.0, 0.0, 1.0, 0.0, 1.0, 0.0, 0.0, 0.0, 0.0, 0.0, 13.0, 5209.0, 2.0, 3.0, 13.0, 30.0, 1.0, 1.0], [14.59487744343545, 5.405122556564548], [0.7297438721717725, 0.2702561278282274], 0.0, 'No Risk'], ['0_to_200', 15, 'no_credits', 'car_new', 784, 'less_100', '1_to_4', 2, 'male', 'none', 2, 'savings_insurance', 34, 'none', 'own', 2, 'skilled', 1, 'none', 'yes', 2.0, 4.0, 0.0, 0.0, 0.0, 0.0, 0.0, 0.0, 0.0, 0.0, 0.0, 0.0, 0.0, [21, [0, 1, 13, 14, 15, 16, 17, 18, 19, 20], [2.0, 4.0, 15.0, 784.0, 2.0, 2.0, 15.0, 34.0, 2.0, 1.0]], [16.286010534061624, 3.7139894659383716], [0.8143005267030814, 0.1856994732969186], 0.0, 'No Risk'], ['no_checking', 43, 'prior_payments_delayed', 'appliances', 3950, 'unknown', '4_to_7', 4, 'male', 'none', 4, 'car_other', 32, 'none', 'own', 2, 'skilled', 1, 'yes', 'yes', 0.0, 0.0, 1.0, 4.0, 0.0, 0.0, 0.0, 0.0, 4.0, 0.0, 1.0, 0.0, 1.0, [0.0, 0.0, 4.0, 4.0, 1.0, 0.0, 0.0, 1.0, 0.0, 0.0, 0.0, 1.0, 0.0, 43.0, 3950.0, 4.0, 4.0, 43.0, 32.0, 2.0, 1.0], [10.482986107655924, 9.517013892344075], [0.5241493053827961, 0.47585069461720375], 0.0, 'No Risk'], ['0_to_200', 15, 'credits_paid_to_date', 'car_new', 250, '100_to_500', '1_to_4', 2, 'male', 'none', 2, 'real_estate', 19, 'stores', 'rent', 1, 'skilled', 1, 'none', 'yes', 2.0, 1.0, 0.0, 1.0, 0.0, 1.0, 1.0, 0.0, 0.0, 0.0, 2.0, 0.0, 0.0, [2.0, 1.0, 0.0, 1.0, 0.0, 0.0, 0.0, 2.0, 1.0, 1.0, 0.0, 0.0, 0.0, 15.0, 250.0, 2.0, 2.0, 15.0, 19.0, 1.0, 1.0], [18.828885678372284, 1.1711143216277198], [0.941444283918614, 0.05855571608138598], 0.0, 'No Risk'], ['no_checking', 25, 'prior_payments_delayed', 'car_used', 4169, '100_to_500', '1_to_4', 2, 'male', 'none', 3, 'car_other', 41, 'none', 'own', 1, 'skilled', 1, 'yes', 'no', 0.0, 0.0, 0.0, 1.0, 1.0, 0.0, 0.0, 0.0, 2.0, 0.0, 1.0, 0.0, 1.0, [0.0, 0.0, 2.0, 1.0, 0.0, 0.0, 0.0, 1.0, 0.0, 0.0, 0.0, 1.0, 1.0, 25.0, 4169.0, 2.0, 3.0, 25.0, 41.0, 1.0, 1.0], [12.161113764561767, 7.838886235438233], [0.6080556882280883, 0.39194431177191164], 0.0, 'No Risk'], ['0_to_200', 33, 'outstanding_credit', 'furniture', 1859, '500_to_1000', '4_to_7', 4, 'male', 'none', 4, 'car_other', 28, 'none', 'own', 2, 'skilled', 1, 'none', 'yes', 2.0, 2.0, 1.0, 2.0, 0.0, 0.0, 0.0, 0.0, 1.0, 0.0, 1.0, 0.0, 0.0, [2.0, 2.0, 1.0, 2.0, 1.0, 0.0, 0.0, 1.0, 0.0, 0.0, 0.0, 0.0, 0.0, 33.0, 1859.0, 4.0, 4.0, 33.0, 28.0, 2.0, 1.0], [13.783201980695445, 6.216798019304556], [0.6891600990347723, 0.3108399009652278], 0.0, 'No Risk'], ['greater_200', 9, 'credits_paid_to_date', 'furniture', 2084, 'less_100', 'less_1', 3, 'female', 'none', 2, 'savings_insurance', 23, 'none', 'rent', 1, 'skilled', 1, 'none', 'yes', 3.0, 1.0, 3.0, 0.0, 0.0, 1.0, 0.0, 0.0, 1.0, 0.0, 0.0, 1.0, 0.0, [3.0, 1.0, 1.0, 0.0, 3.0, 1.0, 0.0, 0.0, 0.0, 1.0, 0.0, 0.0, 0.0, 9.0, 2084.0, 3.0, 2.0, 9.0, 23.0, 1.0, 1.0], [18.665958024271706, 1.3340419757282944], [0.9332979012135854, 0.06670209878641473], 0.0, 'No Risk'], ['0_to_200', 32, 'credits_paid_to_date', 'appliances', 4893, '100_to_500', 'greater_7', 4, 'male', 'none', 3, 'car_other', 42, 'bank', 'own', 2, 'unemployed', 2, 'yes', 'yes', 2.0, 1.0, 2.0, 1.0, 0.0, 0.0, 2.0, 3.0, 4.0, 0.0, 1.0, 0.0, 1.0, [2.0, 1.0, 4.0, 1.0, 2.0, 0.0, 0.0, 1.0, 2.0, 0.0, 3.0, 1.0, 0.0, 32.0, 4893.0, 4.0, 3.0, 32.0, 42.0, 2.0, 2.0], [10.720131032676058, 9.27986896732394], [0.5360065516338028, 0.46399344836619705], 0.0, 'No Risk'], ['no_checking', 28, 'prior_payments_delayed', 'appliances', 5284, '100_to_500', '4_to_7', 4, 'male', 'none', 4, 'car_other', 53, 'stores', 'own', 2, 'unskilled', 1, 'yes', 'no', 0.0, 0.0, 1.0, 1.0, 1.0, 0.0, 1.0, 1.0, 4.0, 0.0, 1.0, 0.0, 1.0, [0.0, 0.0, 4.0, 1.0, 1.0, 0.0, 0.0, 1.0, 1.0, 0.0, 1.0, 1.0, 1.0, 28.0, 5284.0, 4.0, 4.0, 28.0, 53.0, 2.0, 1.0], [8.694366082806573, 11.305633917193427], [0.43471830414032864, 0.5652816958596714], 1.0, 'Risk'], ['less_0', 26, 'prior_payments_delayed', 'radio_tv', 2664, 'less_100', '4_to_7', 2, 'female', 'none', 2, 'unknown', 31, 'stores', 'rent', 1, 'unskilled', 1, 'none', 'yes', 1.0, 0.0, 1.0, 0.0, 0.0, 1.0, 1.0, 1.0, 3.0, 0.0, 3.0, 1.0, 0.0, [1.0, 0.0, 3.0, 0.0, 1.0, 1.0, 0.0, 3.0, 1.0, 1.0, 1.0, 0.0, 0.0, 26.0, 2664.0, 2.0, 2.0, 26.0, 31.0, 1.0, 1.0], [15.850725222072096, 4.149274777927906], [0.7925362611036046, 0.20746373889639527], 0.0, 'No Risk'], ['0_to_200', 27, 'outstanding_credit', 'radio_tv', 3285, 'unknown', 'greater_7', 3, 'male', 'none', 4, 'car_other', 39, 'stores', 'own', 2, 'skilled', 1, 'none', 'yes', 2.0, 2.0, 2.0, 4.0, 0.0, 0.0, 1.0, 0.0, 3.0, 0.0, 1.0, 0.0, 0.0, [2.0, 2.0, 3.0, 4.0, 2.0, 0.0, 0.0, 1.0, 1.0, 0.0, 0.0, 0.0, 0.0, 27.0, 3285.0, 3.0, 4.0, 27.0, 39.0, 2.0, 1.0], [11.361208823438801, 8.638791176561199], [0.5680604411719401, 0.43193955882805996], 0.0, 'No Risk'], ['no_checking', 31, 'prior_payments_delayed', 'appliances', 4721, '100_to_500', 'greater_7', 3, 'male', 'none', 2, 'savings_insurance', 51, 'none', 'own', 2, 'skilled', 2, 'yes', 'yes', 0.0, 0.0, 2.0, 1.0, 0.0, 0.0, 0.0, 0.0, 4.0, 0.0, 0.0, 0.0, 1.0, [21, [2, 3, 4, 11, 13, 14, 15, 16, 17, 18, 19, 20], [4.0, 1.0, 2.0, 1.0, 31.0, 4721.0, 3.0, 2.0, 31.0, 51.0, 2.0, 2.0]], [8.24867498206094, 11.75132501793906], [0.41243374910304703, 0.587566250896953], 1.0, 'Risk'], ['no_checking', 45, 'prior_payments_delayed', 'appliances', 8620, 'greater_1000', '4_to_7', 5, 'male', 'co-applicant', 3, 'car_other', 44, 'stores', 'own', 2, 'unskilled', 2, 'yes', 'yes', 0.0, 0.0, 1.0, 3.0, 0.0, 0.0, 1.0, 1.0, 4.0, 1.0, 1.0, 0.0, 1.0, [0.0, 0.0, 4.0, 3.0, 1.0, 0.0, 1.0, 1.0, 1.0, 0.0, 1.0, 1.0, 0.0, 45.0, 8620.0, 5.0, 3.0, 45.0, 44.0, 2.0, 2.0], [6.763721303647204, 13.236278696352795], [0.33818606518236016, 0.6618139348176397], 1.0, 'Risk'], ['no_checking', 24, 'prior_payments_delayed', 'radio_tv', 5317, '100_to_500', '1_to_4', 4, 'female', 'none', 4, 'unknown', 43, 'none', 'own', 1, 'skilled', 2, 'yes', 'yes', 0.0, 0.0, 0.0, 1.0, 0.0, 0.0, 0.0, 0.0, 3.0, 0.0, 3.0, 1.0, 1.0, [0.0, 0.0, 3.0, 1.0, 0.0, 1.0, 0.0, 3.0, 0.0, 0.0, 0.0, 1.0, 0.0, 24.0, 5317.0, 4.0, 4.0, 24.0, 43.0, 1.0, 2.0], [11.116871408309375, 8.883128591690628], [0.5558435704154687, 0.44415642958453133], 0.0, 'No Risk'], ['less_0', 8, 'credits_paid_to_date', 'car_used', 715, 'less_100', '4_to_7', 2, 'female', 'none', 1, 'savings_insurance', 21, 'bank', 'rent', 1, 'unemployed', 1, 'none', 'yes', 1.0, 1.0, 1.0, 0.0, 0.0, 1.0, 2.0, 3.0, 2.0, 0.0, 0.0, 1.0, 0.0, [1.0, 1.0, 2.0, 0.0, 1.0, 1.0, 0.0, 0.0, 2.0, 1.0, 3.0, 0.0, 0.0, 8.0, 715.0, 2.0, 1.0, 8.0, 21.0, 1.0, 1.0], [18.6696515272503, 1.330348472749706], [0.9334825763625147, 0.06651742363748528], 0.0, 'No Risk'], ['less_0', 4, 'all_credits_paid_back', 'appliances', 2773, 'less_100', '4_to_7', 1, 'female', 'none', 2, 'car_other', 27, 'bank', 'rent', 1, 'unemployed', 1, 'yes', 'yes', 1.0, 3.0, 1.0, 0.0, 0.0, 1.0, 2.0, 3.0, 4.0, 0.0, 1.0, 1.0, 1.0, [1.0, 3.0, 4.0, 0.0, 1.0, 1.0, 0.0, 1.0, 2.0, 1.0, 3.0, 1.0, 0.0, 4.0, 2773.0, 1.0, 2.0, 4.0, 27.0, 1.0, 1.0], [18.239346181265276, 1.7606538187347214], [0.911967309063264, 0.08803269093673609], 0.0, 'No Risk'], ['less_0', 16, 'prior_payments_delayed', 'radio_tv', 2588, 'less_100', '1_to_4', 3, 'male', 'none', 2, 'car_other', 49, 'stores', 'rent', 1, 'skilled', 1, 'none', 'yes', 1.0, 0.0, 0.0, 0.0, 0.0, 1.0, 1.0, 0.0, 3.0, 0.0, 1.0, 0.0, 0.0, [1.0, 0.0, 3.0, 0.0, 0.0, 0.0, 0.0, 1.0, 1.0, 1.0, 0.0, 0.0, 0.0, 16.0, 2588.0, 3.0, 2.0, 16.0, 49.0, 1.0, 1.0], [16.151000405927793, 3.848999594072205], [0.8075500202963898, 0.19244997970361027], 0.0, 'No Risk'], ['no_checking', 38, 'outstanding_credit', 'furniture', 5367, '500_to_1000', 'greater_7', 4, 'male', 'co-applicant', 5, 'savings_insurance', 48, 'none', 'free', 2, 'management_self-employed', 2, 'yes', 'yes', 0.0, 2.0, 2.0, 2.0, 0.0, 2.0, 0.0, 2.0, 1.0, 1.0, 0.0, 0.0, 1.0, [0.0, 2.0, 1.0, 2.0, 2.0, 0.0, 1.0, 0.0, 0.0, 2.0, 2.0, 1.0, 0.0, 38.0, 5367.0, 4.0, 5.0, 38.0, 48.0, 2.0, 2.0], [2.8635500366545346, 17.136449963345466], [0.14317750183272673, 0.8568224981672733], 1.0, 'Risk'], ['no_checking', 22, 'prior_payments_delayed', 'radio_tv', 4052, '100_to_500', '4_to_7', 4, 'female', 'none', 3, 'savings_insurance', 30, 'stores', 'own', 2, 'unskilled', 1, 'none', 'yes', 0.0, 0.0, 1.0, 1.0, 0.0, 0.0, 1.0, 1.0, 3.0, 0.0, 0.0, 1.0, 0.0, [0.0, 0.0, 3.0, 1.0, 1.0, 1.0, 0.0, 0.0, 1.0, 0.0, 1.0, 0.0, 0.0, 22.0, 4052.0, 4.0, 3.0, 22.0, 30.0, 2.0, 1.0], [11.90211114149428, 8.09788885850572], [0.595105557074714, 0.404894442925286], 0.0, 'No Risk'], ['0_to_200', 17, 'prior_payments_delayed', 'radio_tv', 1831, 'greater_1000', 'greater_7', 2, 'male', 'none', 3, 'car_other', 28, 'stores', 'own', 1, 'skilled', 2, 'none', 'yes', 2.0, 0.0, 2.0, 3.0, 0.0, 0.0, 1.0, 0.0, 3.0, 0.0, 1.0, 0.0, 0.0, [2.0, 0.0, 3.0, 3.0, 2.0, 0.0, 0.0, 1.0, 1.0, 0.0, 0.0, 0.0, 0.0, 17.0, 1831.0, 2.0, 3.0, 17.0, 28.0, 1.0, 2.0], [15.54554022401984, 4.454459775980161], [0.777277011200992, 0.22272298879900804], 0.0, 'No Risk'], ['0_to_200', 32, 'outstanding_credit', 'appliances', 8055, 'unknown', '4_to_7', 5, 'male', 'none', 3, 'unknown', 26, 'none', 'own', 2, 'skilled', 1, 'yes', 'yes', 2.0, 2.0, 1.0, 4.0, 0.0, 0.0, 0.0, 0.0, 4.0, 0.0, 3.0, 0.0, 1.0, [2.0, 2.0, 4.0, 4.0, 1.0, 0.0, 0.0, 3.0, 0.0, 0.0, 0.0, 1.0, 0.0, 32.0, 8055.0, 5.0, 3.0, 32.0, 26.0, 2.0, 1.0], [9.90293934564419, 10.097060654355813], [0.4951469672822094, 0.5048530327177906], 1.0, 'Risk'], ['no_checking', 40, 'prior_payments_delayed', 'other', 3386, 'greater_1000', '4_to_7', 4, 'male', 'none', 3, 'car_other', 48, 'none', 'own', 2, 'skilled', 1, 'none', 'yes', 0.0, 0.0, 1.0, 3.0, 0.0, 0.0, 0.0, 0.0, 10.0, 0.0, 1.0, 0.0, 0.0, [21, [2, 3, 4, 7, 13, 14, 15, 16, 17, 18, 19, 20], [10.0, 3.0, 1.0, 1.0, 40.0, 3386.0, 4.0, 3.0, 40.0, 48.0, 2.0, 1.0]], [8.718882236748454, 11.281117763251546], [0.4359441118374227, 0.5640558881625772], 1.0, 'Risk'], ['no_checking', 23, 'prior_payments_delayed', 'car_used', 5294, '100_to_500', '1_to_4', 3, 'male', 'none', 2, 'savings_insurance', 47, 'stores', 'own', 1, 'unskilled', 2, 'yes', 'yes', 0.0, 0.0, 0.0, 1.0, 0.0, 0.0, 1.0, 1.0, 2.0, 0.0, 0.0, 0.0, 1.0, [0.0, 0.0, 2.0, 1.0, 0.0, 0.0, 0.0, 0.0, 1.0, 0.0, 1.0, 1.0, 0.0, 23.0, 5294.0, 3.0, 2.0, 23.0, 47.0, 1.0, 2.0], [12.622494008622692, 7.377505991377307], [0.6311247004311346, 0.36887529956886533], 0.0, 'No Risk'], ['0_to_200', 39, 'prior_payments_delayed', 'radio_tv', 2882, '100_to_500', '4_to_7', 3, 'male', 'none', 3, 'savings_insurance', 27, 'none', 'own', 1, 'skilled', 1, 'none', 'yes', 2.0, 0.0, 1.0, 1.0, 0.0, 0.0, 0.0, 0.0, 3.0, 0.0, 0.0, 0.0, 0.0, [21, [0, 2, 3, 4, 13, 14, 15, 16, 17, 18, 19, 20], [2.0, 3.0, 1.0, 1.0, 39.0, 2882.0, 3.0, 3.0, 39.0, 27.0, 1.0, 1.0]], [14.074030465019952, 5.925969534980048], [0.7037015232509976, 0.2962984767490024], 0.0, 'No Risk'], ['no_checking', 24, 'outstanding_credit', 'vacation', 6375, 'unknown', '4_to_7', 3, 'male', 'co-applicant', 4, 'car_other', 34, 'none', 'own', 2, 'skilled', 1, 'none', 'yes', 0.0, 2.0, 1.0, 4.0, 0.0, 0.0, 0.0, 0.0, 6.0, 1.0, 1.0, 0.0, 0.0, [0.0, 2.0, 6.0, 4.0, 1.0, 0.0, 1.0, 1.0, 0.0, 0.0, 0.0, 0.0, 0.0, 24.0, 6375.0, 3.0, 4.0, 24.0, 34.0, 2.0, 1.0], [8.33709967697087, 11.662900323029133], [0.41685498384854347, 0.5831450161514565], 1.0, 'Risk'], ['no_checking', 32, 'prior_payments_delayed', 'car_used', 5078, 'unknown', '1_to_4', 4, 'male', 'none', 5, 'savings_insurance', 51, 'none', 'own', 2, 'management_self-employed', 1, 'yes', 'no', 0.0, 0.0, 0.0, 4.0, 1.0, 0.0, 0.0, 2.0, 2.0, 0.0, 0.0, 0.0, 1.0, [0.0, 0.0, 2.0, 4.0, 0.0, 0.0, 0.0, 0.0, 0.0, 0.0, 2.0, 1.0, 1.0, 32.0, 5078.0, 4.0, 5.0, 32.0, 51.0, 2.0, 1.0], [9.857778261989374, 10.142221738010628], [0.4928889130994687, 0.5071110869005314], 1.0, 'Risk'], ['0_to_200', 19, 'prior_payments_delayed', 'radio_tv', 7171, 'less_100', 'less_1', 3, 'male', 'none', 4, 'unknown', 30, 'none', 'rent', 2, 'skilled', 1, 'none', 'yes', 2.0, 0.0, 3.0, 0.0, 0.0, 1.0, 0.0, 0.0, 3.0, 0.0, 3.0, 0.0, 0.0, [2.0, 0.0, 3.0, 0.0, 3.0, 0.0, 0.0, 3.0, 0.0, 1.0, 0.0, 0.0, 0.0, 19.0, 7171.0, 3.0, 4.0, 19.0, 30.0, 2.0, 1.0], [14.736631835279905, 5.2633681647200925], [0.7368315917639954, 0.2631684082360047], 0.0, 'No Risk'], ['no_checking', 47, 'outstanding_credit', 'business', 8011, 'greater_1000', '4_to_7', 5, 'male', 'co-applicant', 5, 'unknown', 47, 'none', 'free', 2, 'skilled', 1, 'yes', 'yes', 0.0, 2.0, 1.0, 3.0, 0.0, 2.0, 0.0, 0.0, 9.0, 1.0, 3.0, 0.0, 1.0, [0.0, 2.0, 9.0, 3.0, 1.0, 0.0, 1.0, 3.0, 0.0, 2.0, 0.0, 1.0, 0.0, 47.0, 8011.0, 5.0, 5.0, 47.0, 47.0, 2.0, 1.0], [3.3425329189141166, 16.65746708108588], [0.16712664594570587, 0.8328733540542942], 1.0, 'Risk'], ['0_to_200', 15, 'prior_payments_delayed', 'furniture', 3570, 'less_100', '4_to_7', 3, 'female', 'none', 3, 'unknown', 43, 'none', 'own', 1, 'skilled', 1, 'none', 'yes', 2.0, 0.0, 1.0, 0.0, 0.0, 0.0, 0.0, 0.0, 1.0, 0.0, 3.0, 1.0, 0.0, [2.0, 0.0, 1.0, 0.0, 1.0, 1.0, 0.0, 3.0, 0.0, 0.0, 0.0, 0.0, 0.0, 15.0, 3570.0, 3.0, 3.0, 15.0, 43.0, 1.0, 1.0], [14.602999334002007, 5.397000665997995], [0.7301499667001004, 0.26985003329989976], 0.0, 'No Risk'], ['0_to_200', 19, 'prior_payments_delayed', 'car_used', 1979, '100_to_500', '4_to_7', 3, 'male', 'guarantor', 3, 'savings_insurance', 41, 'none', 'own', 2, 'skilled', 1, 'yes', 'yes', 2.0, 0.0, 1.0, 1.0, 0.0, 0.0, 0.0, 0.0, 2.0, 2.0, 0.0, 0.0, 1.0, [2.0, 0.0, 2.0, 1.0, 1.0, 0.0, 2.0, 0.0, 0.0, 0.0, 0.0, 1.0, 0.0, 19.0, 1979.0, 3.0, 3.0, 19.0, 41.0, 2.0, 1.0], [13.262021294355677, 6.737978705644321], [0.663101064717784, 0.3368989352822161], 0.0, 'No Risk'], ['0_to_200', 16, 'credits_paid_to_date', 'car_new', 1304, 'less_100', 'less_1', 1, 'female', 'none', 1, 'real_estate', 30, 'none', 'rent', 1, 'skilled', 1, 'none', 'yes', 2.0, 1.0, 3.0, 0.0, 0.0, 1.0, 0.0, 0.0, 0.0, 0.0, 2.0, 1.0, 0.0, [2.0, 1.0, 0.0, 0.0, 3.0, 1.0, 0.0, 2.0, 0.0, 1.0, 0.0, 0.0, 0.0, 16.0, 1304.0, 1.0, 1.0, 16.0, 30.0, 1.0, 1.0], [18.65229406986368, 1.3477059301363241], [0.9326147034931838, 0.0673852965068162], 0.0, 'No Risk'], ['less_0', 4, 'credits_paid_to_date', 'car_new', 890, '100_to_500', 'less_1', 2, 'male', 'none', 2, 'savings_insurance', 19, 'none', 'rent', 1, 'skilled', 1, 'none', 'yes', 1.0, 1.0, 3.0, 1.0, 0.0, 1.0, 0.0, 0.0, 0.0, 0.0, 0.0, 0.0, 0.0, [1.0, 1.0, 0.0, 1.0, 3.0, 0.0, 0.0, 0.0, 0.0, 1.0, 0.0, 0.0, 0.0, 4.0, 890.0, 2.0, 2.0, 4.0, 19.0, 1.0, 1.0], [18.804151479177516, 1.1958485208224852], [0.9402075739588758, 0.05979242604112426], 0.0, 'No Risk'], ['less_0', 18, 'credits_paid_to_date', 'car_new', 1163, 'less_100', '4_to_7', 2, 'female', 'co-applicant', 3, 'savings_insurance', 49, 'stores', 'own', 1, 'unskilled', 1, 'yes', 'yes', 1.0, 1.0, 1.0, 0.0, 0.0, 0.0, 1.0, 1.0, 0.0, 1.0, 0.0, 1.0, 1.0, [1.0, 1.0, 0.0, 0.0, 1.0, 1.0, 1.0, 0.0, 1.0, 0.0, 1.0, 1.0, 0.0, 18.0, 1163.0, 2.0, 3.0, 18.0, 49.0, 1.0, 1.0], [13.857532412527814, 6.1424675874721855], [0.6928766206263907, 0.3071233793736093], 0.0, 'No Risk'], ['less_0', 28, 'credits_paid_to_date', 'retraining', 3259, 'less_100', '4_to_7', 3, 'male', 'none', 2, 'real_estate', 22, 'none', 'own', 1, 'management_self-employed', 1, 'none', 'yes', 1.0, 1.0, 1.0, 0.0, 0.0, 0.0, 0.0, 2.0, 8.0, 0.0, 2.0, 0.0, 0.0, [1.0, 1.0, 8.0, 0.0, 1.0, 0.0, 0.0, 2.0, 0.0, 0.0, 2.0, 0.0, 0.0, 28.0, 3259.0, 3.0, 2.0, 28.0, 22.0, 1.0, 1.0], [15.768150575535563, 4.231849424464441], [0.788407528776778, 0.211592471223222], 0.0, 'No Risk'], ['no_checking', 32, 'prior_payments_delayed', 'appliances', 7254, '100_to_500', '4_to_7', 4, 'female', 'none', 3, 'savings_insurance', 45, 'none', 'own', 2, 'skilled', 2, 'none', 'yes', 0.0, 0.0, 1.0, 1.0, 0.0, 0.0, 0.0, 0.0, 4.0, 0.0, 0.0, 1.0, 0.0, [21, [2, 3, 4, 5, 13, 14, 15, 16, 17, 18, 19, 20], [4.0, 1.0, 1.0, 1.0, 32.0, 7254.0, 4.0, 3.0, 32.0, 45.0, 2.0, 2.0]], [8.358049585824523, 11.64195041417548], [0.41790247929122615, 0.582097520708774], 1.0, 'Risk'], ['0_to_200', 4, 'all_credits_paid_back', 'car_new', 250, 'less_100', '1_to_4', 1, 'male', 'none', 1, 'savings_insurance', 36, 'stores', 'own', 1, 'skilled', 1, 'none', 'yes', 2.0, 3.0, 0.0, 0.0, 0.0, 0.0, 1.0, 0.0, 0.0, 0.0, 0.0, 0.0, 0.0, [21, [0, 1, 8, 13, 14, 15, 16, 17, 18, 19, 20], [2.0, 3.0, 1.0, 4.0, 250.0, 1.0, 1.0, 4.0, 36.0, 1.0, 1.0]], [18.25802909367039, 1.7419709063296107], [0.9129014546835196, 0.08709854531648054], 0.0, 'No Risk'], ['less_0', 19, 'prior_payments_delayed', 'retraining', 4177, '100_to_500', 'less_1', 3, 'female', 'none', 3, 'savings_insurance', 26, 'none', 'own', 1, 'skilled', 1, 'none', 'yes', 1.0, 0.0, 3.0, 1.0, 0.0, 0.0, 0.0, 0.0, 8.0, 0.0, 0.0, 1.0, 0.0, [1.0, 0.0, 8.0, 1.0, 3.0, 1.0, 0.0, 0.0, 0.0, 0.0, 0.0, 0.0, 0.0, 19.0, 4177.0, 3.0, 3.0, 19.0, 26.0, 1.0, 1.0], [17.323566394338794, 2.676433605661205], [0.8661783197169397, 0.13382168028306024], 0.0, 'No Risk'], ['less_0', 12, 'prior_payments_delayed', 'car_used', 781, 'less_100', '1_to_4', 2, 'female', 'none', 2, 'car_other', 36, 'stores', 'own', 1, 'skilled', 1, 'none', 'yes', 1.0, 0.0, 0.0, 0.0, 0.0, 0.0, 1.0, 0.0, 2.0, 0.0, 1.0, 1.0, 0.0, [1.0, 0.0, 2.0, 0.0, 0.0, 1.0, 0.0, 1.0, 1.0, 0.0, 0.0, 0.0, 0.0, 12.0, 781.0, 2.0, 2.0, 12.0, 36.0, 1.0, 1.0], [17.049868033586808, 2.9501319664131964], [0.8524934016793403, 0.1475065983206598], 0.0, 'No Risk'], ['less_0', 16, 'credits_paid_to_date', 'car_new', 2209, '100_to_500', '4_to_7', 2, 'female', 'none', 1, 'car_other', 29, 'bank', 'own', 2, 'unemployed', 1, 'none', 'yes', 1.0, 1.0, 1.0, 1.0, 0.0, 0.0, 2.0, 3.0, 0.0, 0.0, 1.0, 1.0, 0.0, [1.0, 1.0, 0.0, 1.0, 1.0, 1.0, 0.0, 1.0, 2.0, 0.0, 3.0, 0.0, 0.0, 16.0, 2209.0, 2.0, 1.0, 16.0, 29.0, 2.0, 1.0], [17.060749701132753, 2.939250298867244], [0.8530374850566378, 0.14696251494336224], 0.0, 'No Risk'], ['0_to_200', 19, 'credits_paid_to_date', 'furniture', 2752, 'less_100', '4_to_7', 3, 'female', 'none', 2, 'car_other', 37, 'bank', 'own', 1, 'unemployed', 1, 'yes', 'yes', 2.0, 1.0, 1.0, 0.0, 0.0, 0.0, 2.0, 3.0, 1.0, 0.0, 1.0, 1.0, 1.0, [2.0, 1.0, 1.0, 0.0, 1.0, 1.0, 0.0, 1.0, 2.0, 0.0, 3.0, 1.0, 0.0, 19.0, 2752.0, 3.0, 2.0, 19.0, 37.0, 1.0, 1.0], [15.87634849282194, 4.123651507178061], [0.793817424641097, 0.20618257535890305], 0.0, 'No Risk'], ['0_to_200', 4, 'all_credits_paid_back', 'car_new', 250, '100_to_500', 'unemployed', 1, 'female', 'none', 2, 'real_estate', 19, 'bank', 'rent', 1, 'unskilled', 1, 'none', 'yes', 2.0, 3.0, 4.0, 1.0, 0.0, 1.0, 2.0, 1.0, 0.0, 0.0, 2.0, 1.0, 0.0, [2.0, 3.0, 0.0, 1.0, 4.0, 1.0, 0.0, 2.0, 2.0, 1.0, 1.0, 0.0, 0.0, 4.0, 250.0, 1.0, 2.0, 4.0, 19.0, 1.0, 1.0], [19.460615788081174, 0.5393842119188269], [0.9730307894040587, 0.026969210595941345], 0.0, 'No Risk'], ['less_0', 27, 'credits_paid_to_date', 'car_new', 250, 'less_100', '4_to_7', 3, 'male', 'none', 3, 'savings_insurance', 25, 'stores', 'own', 1, 'skilled', 1, 'none', 'yes', 1.0, 1.0, 1.0, 0.0, 0.0, 0.0, 1.0, 0.0, 0.0, 0.0, 0.0, 0.0, 0.0, [21, [0, 1, 4, 8, 13, 14, 15, 16, 17, 18, 19, 20], [1.0, 1.0, 1.0, 1.0, 27.0, 250.0, 3.0, 3.0, 27.0, 25.0, 1.0, 1.0]], [15.146018197123912, 4.853981802876088], [0.7573009098561956, 0.24269909014380442], 0.0, 'No Risk'], ['no_checking', 44, 'prior_payments_delayed', 'appliances', 8586, '500_to_1000', 'greater_7', 4, 'male', 'co-applicant', 3, 'car_other', 51, 'none', 'free', 2, 'skilled', 1, 'yes', 'yes', 0.0, 0.0, 2.0, 2.0, 0.0, 2.0, 0.0, 0.0, 4.0, 1.0, 1.0, 0.0, 1.0, [0.0, 0.0, 4.0, 2.0, 2.0, 0.0, 1.0, 1.0, 0.0, 2.0, 0.0, 1.0, 0.0, 44.0, 8586.0, 4.0, 3.0, 44.0, 51.0, 2.0, 1.0], [2.10285375120815, 17.89714624879185], [0.1051426875604075, 0.8948573124395924], 1.0, 'Risk'], ['no_checking', 23, 'prior_payments_delayed', 'car_used', 5997, 'greater_1000', '1_to_4', 4, 'male', 'none', 3, 'savings_insurance', 23, 'stores', 'own', 1, 'unskilled', 1, 'yes', 'yes', 0.0, 0.0, 0.0, 3.0, 0.0, 0.0, 1.0, 1.0, 2.0, 0.0, 0.0, 0.0, 1.0, [0.0, 0.0, 2.0, 3.0, 0.0, 0.0, 0.0, 0.0, 1.0, 0.0, 1.0, 1.0, 0.0, 23.0, 5997.0, 4.0, 3.0, 23.0, 23.0, 1.0, 1.0], [14.557270191211154, 5.442729808788846], [0.7278635095605577, 0.27213649043944227], 0.0, 'No Risk'], ['no_checking', 27, 'credits_paid_to_date', 'education', 4364, 'greater_1000', 'less_1', 3, 'male', 'none', 4, 'car_other', 23, 'stores', 'own', 2, 'unskilled', 1, 'none', 'yes', 0.0, 1.0, 3.0, 3.0, 0.0, 0.0, 1.0, 1.0, 7.0, 0.0, 1.0, 0.0, 0.0, [0.0, 1.0, 7.0, 3.0, 3.0, 0.0, 0.0, 1.0, 1.0, 0.0, 1.0, 0.0, 0.0, 27.0, 4364.0, 3.0, 4.0, 27.0, 23.0, 2.0, 1.0], [14.13681405676743, 5.863185943232573], [0.7068407028383714, 0.29315929716162864], 0.0, 'No Risk'], ['no_checking', 32, 'credits_paid_to_date', 'car_used', 6643, '100_to_500', '1_to_4', 2, 'female', 'none', 4, 'savings_insurance', 33, 'none', 'free', 2, 'skilled', 1, 'none', 'no', 0.0, 1.0, 0.0, 1.0, 1.0, 2.0, 0.0, 0.0, 2.0, 0.0, 0.0, 1.0, 0.0, [0.0, 1.0, 2.0, 1.0, 0.0, 1.0, 0.0, 0.0, 0.0, 2.0, 0.0, 0.0, 1.0, 32.0, 6643.0, 2.0, 4.0, 32.0, 33.0, 2.0, 1.0], [10.175714123094739, 9.824285876905261], [0.508785706154737, 0.49121429384526305], 0.0, 'No Risk'], ['no_checking', 28, 'outstanding_credit', 'appliances', 6042, '500_to_1000', '4_to_7', 5, 'male', 'none', 4, 'unknown', 43, 'none', 'free', 2, 'management_self-employed', 1, 'yes', 'yes', 0.0, 2.0, 1.0, 2.0, 0.0, 2.0, 0.0, 2.0, 4.0, 0.0, 3.0, 0.0, 1.0, [0.0, 2.0, 4.0, 2.0, 1.0, 0.0, 0.0, 3.0, 0.0, 2.0, 2.0, 1.0, 0.0, 28.0, 6042.0, 5.0, 4.0, 28.0, 43.0, 2.0, 1.0], [6.979063394093879, 13.02093660590612], [0.348953169704694, 0.6510468302953061], 1.0, 'Risk'], ['no_checking', 19, 'credits_paid_to_date', 'radio_tv', 4737, '100_to_500', '4_to_7', 4, 'female', 'none', 4, 'car_other', 43, 'none', 'own', 2, 'skilled', 1, 'yes', 'yes', 0.0, 1.0, 1.0, 1.0, 0.0, 0.0, 0.0, 0.0, 3.0, 0.0, 1.0, 1.0, 1.0, [0.0, 1.0, 3.0, 1.0, 1.0, 1.0, 0.0, 1.0, 0.0, 0.0, 0.0, 1.0, 0.0, 19.0, 4737.0, 4.0, 4.0, 19.0, 43.0, 2.0, 1.0], [8.11093336181351, 11.88906663818649], [0.4055466680906755, 0.5944533319093245], 1.0, 'Risk'], ['0_to_200', 13, 'prior_payments_delayed', 'car_new', 6693, 'less_100', '1_to_4', 4, 'male', 'none', 3, 'car_other', 33, 'none', 'own', 2, 'management_self-employed', 1, 'yes', 'yes', 2.0, 0.0, 0.0, 0.0, 0.0, 0.0, 0.0, 2.0, 0.0, 0.0, 1.0, 0.0, 1.0, [21, [0, 7, 10, 11, 13, 14, 15, 16, 17, 18, 19, 20], [2.0, 1.0, 2.0, 1.0, 13.0, 6693.0, 4.0, 3.0, 13.0, 33.0, 2.0, 1.0]], [14.490182606911716, 5.509817393088283], [0.7245091303455858, 0.27549086965441416], 0.0, 'No Risk'], ['0_to_200', 19, 'prior_payments_delayed', 'radio_tv', 2456, 'greater_1000', 'greater_7', 4, 'male', 'none', 3, 'unknown', 44, 'none', 'own', 2, 'skilled', 2, 'yes', 'yes', 2.0, 0.0, 2.0, 3.0, 0.0, 0.0, 0.0, 0.0, 3.0, 0.0, 3.0, 0.0, 1.0, [2.0, 0.0, 3.0, 3.0, 2.0, 0.0, 0.0, 3.0, 0.0, 0.0, 0.0, 1.0, 0.0, 19.0, 2456.0, 4.0, 3.0, 19.0, 44.0, 2.0, 2.0], [10.194086820911489, 9.805913179088511], [0.5097043410455744, 0.49029565895442556], 0.0, 'No Risk'], ['0_to_200', 17, 'credits_paid_to_date', 'furniture', 1149, 'less_100', 'less_1', 3, 'female', 'none', 2, 'savings_insurance', 28, 'none', 'own', 2, 'skilled', 1, 'none', 'yes', 2.0, 1.0, 3.0, 0.0, 0.0, 0.0, 0.0, 0.0, 1.0, 0.0, 0.0, 1.0, 0.0, [2.0, 1.0, 1.0, 0.0, 3.0, 1.0, 0.0, 0.0, 0.0, 0.0, 0.0, 0.0, 0.0, 17.0, 1149.0, 3.0, 2.0, 17.0, 28.0, 2.0, 1.0], [18.09473052865196, 1.9052694713480376], [0.904736526432598, 0.09526347356740188], 0.0, 'No Risk'], ['greater_200', 11, 'credits_paid_to_date', 'car_used', 3088, 'less_100', '1_to_4', 2, 'male', 'none', 3, 'savings_insurance', 31, 'none', 'own', 1, 'skilled', 1, 'yes', 'yes', 3.0, 1.0, 0.0, 0.0, 0.0, 0.0, 0.0, 0.0, 2.0, 0.0, 0.0, 0.0, 1.0, [21, [0, 1, 2, 11, 13, 14, 15, 16, 17, 18, 19, 20], [3.0, 1.0, 2.0, 1.0, 11.0, 3088.0, 2.0, 3.0, 11.0, 31.0, 1.0, 1.0]], [16.231092853357666, 3.7689071466423374], [0.8115546426678831, 0.18844535733211684], 0.0, 'No Risk'], ['less_0', 4, 'credits_paid_to_date', 'car_used', 447, 'less_100', 'less_1', 1, 'female', 'none', 1, 'real_estate', 19, 'none', 'rent', 1, 'skilled', 1, 'none', 'yes', 1.0, 1.0, 3.0, 0.0, 0.0, 1.0, 0.0, 0.0, 2.0, 0.0, 2.0, 1.0, 0.0, [1.0, 1.0, 2.0, 0.0, 3.0, 1.0, 0.0, 2.0, 0.0, 1.0, 0.0, 0.0, 0.0, 4.0, 447.0, 1.0, 1.0, 4.0, 19.0, 1.0, 1.0], [19.438177228378883, 0.5618227716211196], [0.971908861418944, 0.028091138581055976], 0.0, 'No Risk'], ['no_checking', 29, 'outstanding_credit', 'repairs', 6644, 'unknown', 'greater_7', 4, 'male', 'co-applicant', 3, 'car_other', 54, 'none', 'free', 2, 'skilled', 1, 'yes', 'yes', 0.0, 2.0, 2.0, 4.0, 0.0, 2.0, 0.0, 0.0, 5.0, 1.0, 1.0, 0.0, 1.0, [0.0, 2.0, 5.0, 4.0, 2.0, 0.0, 1.0, 1.0, 0.0, 2.0, 0.0, 1.0, 0.0, 29.0, 6644.0, 4.0, 3.0, 29.0, 54.0, 2.0, 1.0], [1.6249367033063746, 18.375063296693625], [0.08124683516531873, 0.9187531648346813], 1.0, 'Risk'], ['0_to_200', 14, 'credits_paid_to_date', 'car_used', 1266, 'less_100', '4_to_7', 2, 'female', 'co-applicant', 1, 'savings_insurance', 33, 'stores', 'rent', 2, 'unskilled', 1, 'none', 'yes', 2.0, 1.0, 1.0, 0.0, 0.0, 1.0, 1.0, 1.0, 2.0, 1.0, 0.0, 1.0, 0.0, [2.0, 1.0, 2.0, 0.0, 1.0, 1.0, 1.0, 0.0, 1.0, 1.0, 1.0, 0.0, 0.0, 14.0, 1266.0, 2.0, 1.0, 14.0, 33.0, 2.0, 1.0], [15.40633463300534, 4.59366536699466], [0.770316731650267, 0.22968326834973302], 0.0, 'No Risk'], ['0_to_200', 17, 'prior_payments_delayed', 'car_new', 2486, '100_to_500', 'less_1', 3, 'female', 'none', 3, 'car_other', 24, 'stores', 'own', 1, 'unskilled', 1, 'yes', 'yes', 2.0, 0.0, 3.0, 1.0, 0.0, 0.0, 1.0, 1.0, 0.0, 0.0, 1.0, 1.0, 1.0, [2.0, 0.0, 0.0, 1.0, 3.0, 1.0, 0.0, 1.0, 1.0, 0.0, 1.0, 1.0, 0.0, 17.0, 2486.0, 3.0, 3.0, 17.0, 24.0, 1.0, 1.0], [16.906349826934758, 3.0936501730652406], [0.8453174913467378, 0.15468250865326202], 0.0, 'No Risk'], ['no_checking', 18, 'credits_paid_to_date', 'vacation', 3054, '500_to_1000', 'greater_7', 3, 'male', 'none', 4, 'car_other', 39, 'none', 'free', 2, 'skilled', 1, 'none', 'yes', 0.0, 1.0, 2.0, 2.0, 0.0, 2.0, 0.0, 0.0, 6.0, 0.0, 1.0, 0.0, 0.0, [0.0, 1.0, 6.0, 2.0, 2.0, 0.0, 0.0, 1.0, 0.0, 2.0, 0.0, 0.0, 0.0, 18.0, 3054.0, 3.0, 4.0, 18.0, 39.0, 2.0, 1.0], [10.787988253066997, 9.212011746933003], [0.5393994126533499, 0.46060058734665016], 0.0, 'No Risk'], ['no_checking', 27, 'outstanding_credit', 'other', 9020, 'unknown', 'greater_7', 5, 'male', 'none', 4, 'unknown', 56, 'none', 'own', 2, 'management_self-employed', 2, 'yes', 'yes', 0.0, 2.0, 2.0, 4.0, 0.0, 0.0, 0.0, 2.0, 10.0, 0.0, 3.0, 0.0, 1.0, [0.0, 2.0, 10.0, 4.0, 2.0, 0.0, 0.0, 3.0, 0.0, 0.0, 2.0, 1.0, 0.0, 27.0, 9020.0, 5.0, 4.0, 27.0, 56.0, 2.0, 2.0], [4.880031051691253, 15.119968948308749], [0.24400155258456263, 0.7559984474154374], 1.0, 'Risk'], ['0_to_200', 29, 'all_credits_paid_back', 'radio_tv', 1835, 'less_100', 'less_1', 2, 'female', 'none', 1, 'savings_insurance', 30, 'none', 'rent', 1, 'skilled', 1, 'none', 'yes', 2.0, 3.0, 3.0, 0.0, 0.0, 1.0, 0.0, 0.0, 3.0, 0.0, 0.0, 1.0, 0.0, [2.0, 3.0, 3.0, 0.0, 3.0, 1.0, 0.0, 0.0, 0.0, 1.0, 0.0, 0.0, 0.0, 29.0, 1835.0, 2.0, 1.0, 29.0, 30.0, 1.0, 1.0], [15.793994334603285, 4.206005665396713], [0.7896997167301643, 0.21030028326983566], 0.0, 'No Risk'], ['0_to_200', 19, 'prior_payments_delayed', 'car_used', 4527, 'greater_1000', '1_to_4', 2, 'male', 'none', 3, 'savings_insurance', 26, 'none', 'own', 2, 'skilled', 1, 'none', 'yes', 2.0, 0.0, 0.0, 3.0, 0.0, 0.0, 0.0, 0.0, 2.0, 0.0, 0.0, 0.0, 0.0, [21, [0, 2, 3, 13, 14, 15, 16, 17, 18, 19, 20], [2.0, 2.0, 3.0, 19.0, 4527.0, 2.0, 3.0, 19.0, 26.0, 2.0, 1.0]], [15.160878075724964, 4.839121924275034], [0.7580439037862482, 0.2419560962137517], 0.0, 'No Risk'], ['greater_200', 35, 'outstanding_credit', 'radio_tv', 3838, '500_to_1000', '1_to_4', 3, 'female', 'none', 2, 'car_other', 34, 'stores', 'own', 1, 'unskilled', 1, 'yes', 'yes', 3.0, 2.0, 0.0, 2.0, 0.0, 0.0, 1.0, 1.0, 3.0, 0.0, 1.0, 1.0, 1.0, [3.0, 2.0, 3.0, 2.0, 0.0, 1.0, 0.0, 1.0, 1.0, 0.0, 1.0, 1.0, 0.0, 35.0, 3838.0, 3.0, 2.0, 35.0, 34.0, 1.0, 1.0], [13.392583492663071, 6.6074165073369295], [0.6696291746331535, 0.3303708253668465], 0.0, 'No Risk'], ['less_0', 4, 'prior_payments_delayed', 'car_used', 3341, '100_to_500', '1_to_4', 2, 'female', 'none', 1, 'savings_insurance', 33, 'none', 'rent', 1, 'skilled', 1, 'none', 'yes', 1.0, 0.0, 0.0, 1.0, 0.0, 1.0, 0.0, 0.0, 2.0, 0.0, 0.0, 1.0, 0.0, [1.0, 0.0, 2.0, 1.0, 0.0, 1.0, 0.0, 0.0, 0.0, 1.0, 0.0, 0.0, 0.0, 4.0, 3341.0, 2.0, 1.0, 4.0, 33.0, 1.0, 1.0], [16.970205053174972, 3.0297949468250307], [0.8485102526587485, 0.1514897473412515], 0.0, 'No Risk'], ['no_checking', 36, 'outstanding_credit', 'appliances', 7329, 'unknown', 'greater_7', 5, 'male', 'co-applicant', 4, 'unknown', 56, 'none', 'free', 3, 'skilled', 2, 'yes', 'yes', 0.0, 2.0, 2.0, 4.0, 0.0, 2.0, 0.0, 0.0, 4.0, 1.0, 3.0, 0.0, 1.0, [0.0, 2.0, 4.0, 4.0, 2.0, 0.0, 1.0, 3.0, 0.0, 2.0, 0.0, 1.0, 0.0, 36.0, 7329.0, 5.0, 4.0, 36.0, 56.0, 3.0, 2.0], [1.4104832186087917, 18.58951678139121], [0.07052416093043958, 0.9294758390695604], 1.0, 'Risk'], ['no_checking', 33, 'prior_payments_delayed', 'furniture', 7976, '100_to_500', '4_to_7', 4, 'male', 'co-applicant', 3, 'car_other', 34, 'none', 'free', 2, 'management_self-employed', 1, 'none', 'yes', 0.0, 0.0, 1.0, 1.0, 0.0, 2.0, 0.0, 2.0, 1.0, 1.0, 1.0, 0.0, 0.0, [0.0, 0.0, 1.0, 1.0, 1.0, 0.0, 1.0, 1.0, 0.0, 2.0, 2.0, 0.0, 0.0, 33.0, 7976.0, 4.0, 3.0, 33.0, 34.0, 2.0, 1.0], [6.537009479421384, 13.462990520578613], [0.32685047397106926, 0.6731495260289307], 1.0, 'Risk'], ['no_checking', 38, 'outstanding_credit', 'other', 9000, '500_to_1000', 'greater_7', 6, 'female', 'co-applicant', 5, 'unknown', 53, 'none', 'free', 3, 'skilled', 2, 'yes', 'yes', 0.0, 2.0, 2.0, 2.0, 0.0, 2.0, 0.0, 0.0, 10.0, 1.0, 3.0, 1.0, 1.0, [0.0, 2.0, 10.0, 2.0, 2.0, 1.0, 1.0, 3.0, 0.0, 2.0, 0.0, 1.0, 0.0, 38.0, 9000.0, 6.0, 5.0, 38.0, 53.0, 3.0, 2.0], [1.4104832186087917, 18.58951678139121], [0.07052416093043958, 0.9294758390695604], 1.0, 'Risk'], ['no_checking', 35, 'outstanding_credit', 'furniture', 5212, '500_to_1000', '4_to_7', 4, 'male', 'none', 3, 'unknown', 46, 'none', 'free', 2, 'skilled', 1, 'yes', 'yes', 0.0, 2.0, 1.0, 2.0, 0.0, 2.0, 0.0, 0.0, 1.0, 0.0, 3.0, 0.0, 1.0, [0.0, 2.0, 1.0, 2.0, 1.0, 0.0, 0.0, 3.0, 0.0, 2.0, 0.0, 1.0, 0.0, 35.0, 5212.0, 4.0, 3.0, 35.0, 46.0, 2.0, 1.0], [5.406098355330532, 14.593901644669469], [0.2703049177665266, 0.7296950822334735], 1.0, 'Risk'], ['less_0', 4, 'prior_payments_delayed', 'car_used', 250, 'less_100', 'less_1', 1, 'female', 'none', 2, 'savings_insurance', 26, 'stores', 'rent', 1, 'skilled', 1, 'none', 'yes', 1.0, 0.0, 3.0, 0.0, 0.0, 1.0, 1.0, 0.0, 2.0, 0.0, 0.0, 1.0, 0.0, [1.0, 0.0, 2.0, 0.0, 3.0, 1.0, 0.0, 0.0, 1.0, 1.0, 0.0, 0.0, 0.0, 4.0, 250.0, 1.0, 2.0, 4.0, 26.0, 1.0, 1.0], [18.838041258002278, 1.1619587419977253], [0.9419020629001137, 0.058097937099886254], 0.0, 'No Risk'], ['less_0', 4, 'credits_paid_to_date', 'car_used', 1345, 'less_100', 'unemployed', 1, 'female', 'none', 2, 'car_other', 19, 'none', 'rent', 1, 'skilled', 1, 'none', 'yes', 1.0, 1.0, 4.0, 0.0, 0.0, 1.0, 0.0, 0.0, 2.0, 0.0, 1.0, 1.0, 0.0, [1.0, 1.0, 2.0, 0.0, 4.0, 1.0, 0.0, 1.0, 0.0, 1.0, 0.0, 0.0, 0.0, 4.0, 1345.0, 1.0, 2.0, 4.0, 19.0, 1.0, 1.0], [18.50937089026006, 1.4906291097399367], [0.9254685445130031, 0.07453145548699683], 0.0, 'No Risk'], ['0_to_200', 20, 'credits_paid_to_date', 'car_used', 250, 'less_100', 'unemployed', 1, 'female', 'none', 1, 'savings_insurance', 26, 'stores', 'own', 1, 'skilled', 1, 'none', 'yes', 2.0, 1.0, 4.0, 0.0, 0.0, 0.0, 1.0, 0.0, 2.0, 0.0, 0.0, 1.0, 0.0, [2.0, 1.0, 2.0, 0.0, 4.0, 1.0, 0.0, 0.0, 1.0, 0.0, 0.0, 0.0, 0.0, 20.0, 250.0, 1.0, 1.0, 20.0, 26.0, 1.0, 1.0], [18.12773774313487, 1.8722622568651286], [0.9063868871567436, 0.09361311284325645], 0.0, 'No Risk'], ['0_to_200', 19, 'credits_paid_to_date', 'car_used', 250, 'less_100', '4_to_7', 3, 'female', 'none', 3, 'car_other', 37, 'bank', 'own', 1, 'unemployed', 1, 'none', 'yes', 2.0, 1.0, 1.0, 0.0, 0.0, 0.0, 2.0, 3.0, 2.0, 0.0, 1.0, 1.0, 0.0, [2.0, 1.0, 2.0, 0.0, 1.0, 1.0, 0.0, 1.0, 2.0, 0.0, 3.0, 0.0, 0.0, 19.0, 250.0, 3.0, 3.0, 19.0, 37.0, 1.0, 1.0], [14.647280247393157, 5.352719752606844], [0.7323640123696579, 0.2676359876303422], 0.0, 'No Risk'], ['0_to_200', 15, 'prior_payments_delayed', 'car_used', 2671, 'greater_1000', '1_to_4', 3, 'male', 'co-applicant', 3, 'car_other', 57, 'none', 'free', 2, 'skilled', 1, 'yes', 'yes', 2.0, 0.0, 0.0, 3.0, 0.0, 2.0, 0.0, 0.0, 2.0, 1.0, 1.0, 0.0, 1.0, [2.0, 0.0, 2.0, 3.0, 0.0, 0.0, 1.0, 1.0, 0.0, 2.0, 0.0, 1.0, 0.0, 15.0, 2671.0, 3.0, 3.0, 15.0, 57.0, 2.0, 1.0], [12.190127650847467, 7.809872349152531], [0.6095063825423733, 0.39049361745762656], 0.0, 'No Risk'], ['no_checking', 8, 'prior_payments_delayed', 'car_new', 3062, '100_to_500', 'greater_7', 3, 'male', 'none', 3, 'savings_insurance', 49, 'none', 'own', 2, 'skilled', 1, 'yes', 'yes', 0.0, 0.0, 2.0, 1.0, 0.0, 0.0, 0.0, 0.0, 0.0, 0.0, 0.0, 0.0, 1.0, [21, [3, 4, 11, 13, 14, 15, 16, 17, 18, 19, 20], [1.0, 2.0, 1.0, 8.0, 3062.0, 3.0, 3.0, 8.0, 49.0, 2.0, 1.0]], [10.090587166703209, 9.909412833296791], [0.5045293583351604, 0.49547064166483956], 0.0, 'No Risk'], ['no_checking', 50, 'outstanding_credit', 'repairs', 6822, 'unknown', 'greater_7', 6, 'male', 'guarantor', 5, 'unknown', 57, 'none', 'free', 3, 'skilled', 2, 'yes', 'yes', 0.0, 2.0, 2.0, 4.0, 0.0, 2.0, 0.0, 0.0, 5.0, 2.0, 3.0, 0.0, 1.0, [0.0, 2.0, 5.0, 4.0, 2.0, 0.0, 2.0, 3.0, 0.0, 2.0, 0.0, 1.0, 0.0, 50.0, 6822.0, 6.0, 5.0, 50.0, 57.0, 3.0, 2.0], [1.8349698888671089, 18.165030111132893], [0.09174849444335545, 0.9082515055566447], 1.0, 'Risk'], ['no_checking', 30, 'prior_payments_delayed', 'appliances', 6670, '100_to_500', '4_to_7', 4, 'male', 'none', 5, 'car_other', 44, 'none', 'own', 2, 'skilled', 1, 'none', 'yes', 0.0, 0.0, 1.0, 1.0, 0.0, 0.0, 0.0, 0.0, 4.0, 0.0, 1.0, 0.0, 0.0, [21, [2, 3, 4, 7, 13, 14, 15, 16, 17, 18, 19, 20], [4.0, 1.0, 1.0, 1.0, 30.0, 6670.0, 4.0, 5.0, 30.0, 44.0, 2.0, 1.0]], [11.069963397707562, 8.930036602292436], [0.5534981698853781, 0.4465018301146218], 0.0, 'No Risk'], ['0_to_200', 42, 'all_credits_paid_back', 'radio_tv', 3257, 'less_100', 'less_1', 2, 'male', 'none', 1, 'savings_insurance', 27, 'stores', 'own', 2, 'unskilled', 1, 'none', 'yes', 2.0, 3.0, 3.0, 0.0, 0.0, 0.0, 1.0, 1.0, 3.0, 0.0, 0.0, 0.0, 0.0, [2.0, 3.0, 3.0, 0.0, 3.0, 0.0, 0.0, 0.0, 1.0, 0.0, 1.0, 0.0, 0.0, 42.0, 3257.0, 2.0, 1.0, 42.0, 27.0, 2.0, 1.0], [16.282102599144707, 3.7178974008552905], [0.8141051299572355, 0.18589487004276456], 0.0, 'No Risk'], ['no_checking', 34, 'prior_payments_delayed', 'education', 5180, 'unknown', 'greater_7', 5, 'male', 'co-applicant', 5, 'unknown', 65, 'none', 'free', 3, 'skilled', 1, 'yes', 'yes', 0.0, 0.0, 2.0, 4.0, 0.0, 2.0, 0.0, 0.0, 7.0, 1.0, 3.0, 0.0, 1.0, [0.0, 0.0, 7.0, 4.0, 2.0, 0.0, 1.0, 3.0, 0.0, 2.0, 0.0, 1.0, 0.0, 34.0, 5180.0, 5.0, 5.0, 34.0, 65.0, 3.0, 1.0], [2.151503881162169, 17.84849611883783], [0.10757519405810845, 0.8924248059418914], 1.0, 'Risk'], ['no_checking', 30, 'outstanding_credit', 'repairs', 5361, '500_to_1000', 'greater_7', 4, 'male', 'co-applicant', 3, 'car_other', 46, 'none', 'free', 2, 'skilled', 1, 'yes', 'yes', 0.0, 2.0, 2.0, 2.0, 0.0, 2.0, 0.0, 0.0, 5.0, 1.0, 1.0, 0.0, 1.0, [0.0, 2.0, 5.0, 2.0, 2.0, 0.0, 1.0, 1.0, 0.0, 2.0, 0.0, 1.0, 0.0, 30.0, 5361.0, 4.0, 3.0, 30.0, 46.0, 2.0, 1.0], [1.8631823634125224, 18.136817636587477], [0.09315911817062612, 0.9068408818293738], 1.0, 'Risk'], ['no_checking', 14, 'credits_paid_to_date', 'repairs', 4872, 'less_100', '4_to_7', 3, 'female', 'none', 3, 'real_estate', 47, 'none', 'own', 1, 'management_self-employed', 1, 'none', 'yes', 0.0, 1.0, 1.0, 0.0, 0.0, 0.0, 0.0, 2.0, 5.0, 0.0, 2.0, 1.0, 0.0, [0.0, 1.0, 5.0, 0.0, 1.0, 1.0, 0.0, 2.0, 0.0, 0.0, 2.0, 0.0, 0.0, 14.0, 4872.0, 3.0, 3.0, 14.0, 47.0, 1.0, 1.0], [14.154238580592, 5.845761419407999], [0.7077119290296, 0.2922880709704], 0.0, 'No Risk'], ['greater_200', 21, 'credits_paid_to_date', 'furniture', 2716, 'less_100', '4_to_7', 4, 'female', 'none', 4, 'car_other', 43, 'bank', 'own', 1, 'unskilled', 1, 'none', 'no', 3.0, 1.0, 1.0, 0.0, 1.0, 0.0, 2.0, 1.0, 1.0, 0.0, 1.0, 1.0, 0.0, [3.0, 1.0, 1.0, 0.0, 1.0, 1.0, 0.0, 1.0, 2.0, 0.0, 1.0, 0.0, 1.0, 21.0, 2716.0, 4.0, 4.0, 21.0, 43.0, 1.0, 1.0], [13.885992044260124, 6.114007955739877], [0.6942996022130062, 0.30570039778699387], 0.0, 'No Risk'], ['less_0', 10, 'credits_paid_to_date', 'car_new', 1706, 'less_100', '1_to_4', 3, 'female', 'co-applicant', 3, 'savings_insurance', 36, 'stores', 'own', 1, 'skilled', 1, 'none', 'yes', 1.0, 1.0, 0.0, 0.0, 0.0, 0.0, 1.0, 0.0, 0.0, 1.0, 0.0, 1.0, 0.0, [1.0, 1.0, 0.0, 0.0, 0.0, 1.0, 1.0, 0.0, 1.0, 0.0, 0.0, 0.0, 0.0, 10.0, 1706.0, 3.0, 3.0, 10.0, 36.0, 1.0, 1.0], [17.16967597697777, 2.830324023022232], [0.8584837988488884, 0.14151620115111158], 0.0, 'No Risk'], ['no_checking', 29, 'outstanding_credit', 'furniture', 4993, 'unknown', 'greater_7', 3, 'male', 'none', 4, 'savings_insurance', 30, 'none', 'free', 2, 'skilled', 1, 'yes', 'yes', 0.0, 2.0, 2.0, 4.0, 0.0, 2.0, 0.0, 0.0, 1.0, 0.0, 0.0, 0.0, 1.0, [0.0, 2.0, 1.0, 4.0, 2.0, 0.0, 0.0, 0.0, 0.0, 2.0, 0.0, 1.0, 0.0, 29.0, 4993.0, 3.0, 4.0, 29.0, 30.0, 2.0, 1.0], [9.709610988281886, 10.290389011718114], [0.4854805494140943, 0.5145194505859056], 1.0, 'Risk'], ['0_to_200', 14, 'credits_paid_to_date', 'furniture', 250, '500_to_1000', '1_to_4', 3, 'male', 'none', 2, 'real_estate', 19, 'none', 'own', 1, 'skilled', 1, 'none', 'yes', 2.0, 1.0, 0.0, 2.0, 0.0, 0.0, 0.0, 0.0, 1.0, 0.0, 2.0, 0.0, 0.0, [2.0, 1.0, 1.0, 2.0, 0.0, 0.0, 0.0, 2.0, 0.0, 0.0, 0.0, 0.0, 0.0, 14.0, 250.0, 3.0, 2.0, 14.0, 19.0, 1.0, 1.0], [19.02096969382415, 0.9790303061758496], [0.9510484846912075, 0.04895151530879248], 0.0, 'No Risk'], ['no_checking', 38, 'prior_payments_delayed', 'furniture', 6125, '500_to_1000', '4_to_7', 4, 'male', 'none', 4, 'car_other', 48, 'none', 'free', 2, 'management_self-employed', 1, 'none', 'yes', 0.0, 0.0, 1.0, 2.0, 0.0, 2.0, 0.0, 2.0, 1.0, 0.0, 1.0, 0.0, 0.0, [0.0, 0.0, 1.0, 2.0, 1.0, 0.0, 0.0, 1.0, 0.0, 2.0, 2.0, 0.0, 0.0, 38.0, 6125.0, 4.0, 4.0, 38.0, 48.0, 2.0, 1.0], [8.477904948635945, 11.522095051364053], [0.4238952474317973, 0.5761047525682026], 1.0, 'Risk'], ['0_to_200', 14, 'credits_paid_to_date', 'car_new', 1186, 'less_100', '4_to_7', 3, 'male', 'none', 2, 'savings_insurance', 21, 'bank', 'own', 1, 'unemployed', 1, 'none', 'yes', 2.0, 1.0, 1.0, 0.0, 0.0, 0.0, 2.0, 3.0, 0.0, 0.0, 0.0, 0.0, 0.0, [2.0, 1.0, 0.0, 0.0, 1.0, 0.0, 0.0, 0.0, 2.0, 0.0, 3.0, 0.0, 0.0, 14.0, 1186.0, 3.0, 2.0, 14.0, 21.0, 1.0, 1.0], [18.2796266362695, 1.7203733637305012], [0.913981331813475, 0.08601866818652504], 0.0, 'No Risk'], ['greater_200', 19, 'credits_paid_to_date', 'appliances', 3943, 'less_100', '4_to_7', 3, 'male', 'none', 3, 'savings_insurance', 42, 'none', 'own', 1, 'management_self-employed', 1, 'none', 'yes', 3.0, 1.0, 1.0, 0.0, 0.0, 0.0, 0.0, 2.0, 4.0, 0.0, 0.0, 0.0, 0.0, [3.0, 1.0, 4.0, 0.0, 1.0, 0.0, 0.0, 0.0, 0.0, 0.0, 2.0, 0.0, 0.0, 19.0, 3943.0, 3.0, 3.0, 19.0, 42.0, 1.0, 1.0], [14.22472150024525, 5.77527849975475], [0.7112360750122625, 0.2887639249877375], 0.0, 'No Risk'], ['0_to_200', 22, 'credits_paid_to_date', 'radio_tv', 3554, 'less_100', '1_to_4', 3, 'male', 'none', 2, 'car_other', 33, 'none', 'own', 1, 'skilled', 1, 'yes', 'yes', 2.0, 1.0, 0.0, 0.0, 0.0, 0.0, 0.0, 0.0, 3.0, 0.0, 1.0, 0.0, 1.0, [2.0, 1.0, 3.0, 0.0, 0.0, 0.0, 0.0, 1.0, 0.0, 0.0, 0.0, 1.0, 0.0, 22.0, 3554.0, 3.0, 2.0, 22.0, 33.0, 1.0, 1.0], [15.580219987329501, 4.419780012670496], [0.7790109993664752, 0.22098900063352483], 0.0, 'No Risk'], ['less_0', 9, 'credits_paid_to_date', 'furniture', 389, 'less_100', 'less_1', 2, 'female', 'none', 2, 'car_other', 27, 'bank', 'rent', 1, 'unemployed', 1, 'none', 'yes', 1.0, 1.0, 3.0, 0.0, 0.0, 1.0, 2.0, 3.0, 1.0, 0.0, 1.0, 1.0, 0.0, [1.0, 1.0, 1.0, 0.0, 3.0, 1.0, 0.0, 1.0, 2.0, 1.0, 3.0, 0.0, 0.0, 9.0, 389.0, 2.0, 2.0, 9.0, 27.0, 1.0, 1.0], [18.693733875463913, 1.3062661245360834], [0.9346866937731958, 0.06531330622680417], 0.0, 'No Risk'], ['0_to_200', 13, 'prior_payments_delayed', 'appliances', 7319, '500_to_1000', '4_to_7', 4, 'male', 'none', 3, 'savings_insurance', 37, 'stores', 'own', 2, 'unskilled', 2, 'yes', 'yes', 2.0, 0.0, 1.0, 2.0, 0.0, 0.0, 1.0, 1.0, 4.0, 0.0, 0.0, 0.0, 1.0, [2.0, 0.0, 4.0, 2.0, 1.0, 0.0, 0.0, 0.0, 1.0, 0.0, 1.0, 1.0, 0.0, 13.0, 7319.0, 4.0, 3.0, 13.0, 37.0, 2.0, 2.0], [14.292332187762081, 5.707667812237916], [0.7146166093881042, 0.2853833906118958], 0.0, 'No Risk'], ['0_to_200', 14, 'credits_paid_to_date', 'car_used', 1925, 'less_100', 'less_1', 2, 'female', 'none', 2, 'savings_insurance', 24, 'none', 'own', 1, 'skilled', 1, 'none', 'yes', 2.0, 1.0, 3.0, 0.0, 0.0, 0.0, 0.0, 0.0, 2.0, 0.0, 0.0, 1.0, 0.0, [2.0, 1.0, 2.0, 0.0, 3.0, 1.0, 0.0, 0.0, 0.0, 0.0, 0.0, 0.0, 0.0, 14.0, 1925.0, 2.0, 2.0, 14.0, 24.0, 1.0, 1.0], [18.81964255102399, 1.1803574489760138], [0.9409821275511993, 0.059017872448800676], 0.0, 'No Risk'], ['0_to_200', 11, 'credits_paid_to_date', 'furniture', 3270, 'less_100', 'less_1', 3, 'female', 'none', 3, 'savings_insurance', 27, 'none', 'own', 1, 'skilled', 1, 'none', 'yes', 2.0, 1.0, 3.0, 0.0, 0.0, 0.0, 0.0, 0.0, 1.0, 0.0, 0.0, 1.0, 0.0, [2.0, 1.0, 1.0, 0.0, 3.0, 1.0, 0.0, 0.0, 0.0, 0.0, 0.0, 0.0, 0.0, 11.0, 3270.0, 3.0, 3.0, 11.0, 27.0, 1.0, 1.0], [18.458249502124392, 1.5417504978756087], [0.9229124751062197, 0.07708752489378043], 0.0, 'No Risk'], ['no_checking', 45, 'prior_payments_delayed', 'other', 11215, '500_to_1000', '4_to_7', 5, 'male', 'co-applicant', 4, 'unknown', 43, 'none', 'free', 2, 'management_self-employed', 1, 'none', 'yes', 0.0, 0.0, 1.0, 2.0, 0.0, 2.0, 0.0, 2.0, 10.0, 1.0, 3.0, 0.0, 0.0, [0.0, 0.0, 10.0, 2.0, 1.0, 0.0, 1.0, 3.0, 0.0, 2.0, 2.0, 0.0, 0.0, 45.0, 11215.0, 5.0, 4.0, 45.0, 43.0, 2.0, 1.0], [6.149524597185855, 13.850475402814144], [0.30747622985929274, 0.6925237701407072], 1.0, 'Risk'], ['no_checking', 15, 'prior_payments_delayed', 'furniture', 2827, '100_to_500', '1_to_4', 4, 'male', 'none', 3, 'savings_insurance', 39, 'none', 'own', 2, 'management_self-employed', 2, 'yes', 'yes', 0.0, 0.0, 0.0, 1.0, 0.0, 0.0, 0.0, 2.0, 1.0, 0.0, 0.0, 0.0, 1.0, [21, [2, 3, 10, 11, 13, 14, 15, 16, 17, 18, 19, 20], [1.0, 1.0, 2.0, 1.0, 15.0, 2827.0, 4.0, 3.0, 15.0, 39.0, 2.0, 2.0]], [13.087655557667688, 6.91234444233231], [0.6543827778833844, 0.3456172221166155], 0.0, 'No Risk'], ['less_0', 21, 'prior_payments_delayed', 'retraining', 5230, '100_to_500', 'greater_7', 4, 'female', 'none', 3, 'car_other', 37, 'none', 'own', 1, 'skilled', 1, 'none', 'yes', 1.0, 0.0, 2.0, 1.0, 0.0, 0.0, 0.0, 0.0, 8.0, 0.0, 1.0, 1.0, 0.0, [1.0, 0.0, 8.0, 1.0, 2.0, 1.0, 0.0, 1.0, 0.0, 0.0, 0.0, 0.0, 0.0, 21.0, 5230.0, 4.0, 3.0, 21.0, 37.0, 1.0, 1.0], [13.008928059709625, 6.9910719402903725], [0.6504464029854814, 0.3495535970145187], 0.0, 'No Risk'], ['no_checking', 11, 'all_credits_paid_back', 'furniture', 250, 'less_100', 'less_1', 1, 'female', 'none', 2, 'real_estate', 26, 'none', 'own', 1, 'skilled', 1, 'none', 'yes', 0.0, 3.0, 3.0, 0.0, 0.0, 0.0, 0.0, 0.0, 1.0, 0.0, 2.0, 1.0, 0.0, [0.0, 3.0, 1.0, 0.0, 3.0, 1.0, 0.0, 2.0, 0.0, 0.0, 0.0, 0.0, 0.0, 11.0, 250.0, 1.0, 2.0, 11.0, 26.0, 1.0, 1.0], [18.313141781956897, 1.6868582180431007], [0.915657089097845, 0.08434291090215505], 0.0, 'No Risk'], ['no_checking', 33, 'credits_paid_to_date', 'car_used', 5025, 'unknown', '4_to_7', 3, 'male', 'none', 4, 'savings_insurance', 46, 'none', 'own', 2, 'skilled', 1, 'yes', 'yes', 0.0, 1.0, 1.0, 4.0, 0.0, 0.0, 0.0, 0.0, 2.0, 0.0, 0.0, 0.0, 1.0, [0.0, 1.0, 2.0, 4.0, 1.0, 0.0, 0.0, 0.0, 0.0, 0.0, 0.0, 1.0, 0.0, 33.0, 5025.0, 3.0, 4.0, 33.0, 46.0, 2.0, 1.0], [9.048655741936678, 10.95134425806332], [0.4524327870968339, 0.547567212903166], 1.0, 'Risk'], ['no_checking', 12, 'credits_paid_to_date', 'furniture', 2779, '100_to_500', 'less_1', 3, 'male', 'none', 2, 'savings_insurance', 25, 'none', 'own', 1, 'skilled', 1, 'none', 'yes', 0.0, 1.0, 3.0, 1.0, 0.0, 0.0, 0.0, 0.0, 1.0, 0.0, 0.0, 0.0, 0.0, [21, [1, 2, 3, 4, 13, 14, 15, 16, 17, 18, 19, 20], [1.0, 1.0, 1.0, 3.0, 12.0, 2779.0, 3.0, 2.0, 12.0, 25.0, 1.0, 1.0]], [17.111982504182958, 2.888017495817039], [0.855599125209148, 0.14440087479085198], 0.0, 'No Risk'], ['no_checking', 20, 'outstanding_credit', 'education', 8930, '100_to_500', '4_to_7', 4, 'male', 'none', 3, 'car_other', 35, 'none', 'own', 1, 'management_self-employed', 1, 'none', 'yes', 0.0, 2.0, 1.0, 1.0, 0.0, 0.0, 0.0, 2.0, 7.0, 0.0, 1.0, 0.0, 0.0, [0.0, 2.0, 7.0, 1.0, 1.0, 0.0, 0.0, 1.0, 0.0, 0.0, 2.0, 0.0, 0.0, 20.0, 8930.0, 4.0, 3.0, 20.0, 35.0, 1.0, 1.0], [11.597356551297118, 8.402643448702882], [0.5798678275648559, 0.4201321724351441], 0.0, 'No Risk'], ['0_to_200', 17, 'prior_payments_delayed', 'car_used', 2885, 'less_100', 'less_1', 2, 'female', 'none', 3, 'car_other', 40, 'none', 'own', 2, 'skilled', 1, 'yes', 'yes', 2.0, 0.0, 3.0, 0.0, 0.0, 0.0, 0.0, 0.0, 2.0, 0.0, 1.0, 1.0, 1.0, [2.0, 0.0, 2.0, 0.0, 3.0, 1.0, 0.0, 1.0, 0.0, 0.0, 0.0, 1.0, 0.0, 17.0, 2885.0, 2.0, 3.0, 17.0, 40.0, 2.0, 1.0], [14.665092604874197, 5.3349073951258], [0.73325463024371, 0.26674536975629004], 0.0, 'No Risk'], ['no_checking', 28, 'outstanding_credit', 'furniture', 4741, 'unknown', 'greater_7', 5, 'male', 'co-applicant', 3, 'unknown', 53, 'stores', 'own', 2, 'unskilled', 2, 'yes', 'yes', 0.0, 2.0, 2.0, 4.0, 0.0, 0.0, 1.0, 1.0, 1.0, 1.0, 3.0, 0.0, 1.0, [0.0, 2.0, 1.0, 4.0, 2.0, 0.0, 1.0, 3.0, 1.0, 0.0, 1.0, 1.0, 0.0, 28.0, 4741.0, 5.0, 3.0, 28.0, 53.0, 2.0, 2.0], [3.282306410367213, 16.717693589632788], [0.16411532051836064, 0.8358846794816394], 1.0, 'Risk'], ['no_checking', 31, 'outstanding_credit', 'furniture', 6759, '500_to_1000', '4_to_7', 4, 'male', 'none', 5, 'unknown', 44, 'none', 'own', 2, 'skilled', 1, 'yes', 'yes', 0.0, 2.0, 1.0, 2.0, 0.0, 0.0, 0.0, 0.0, 1.0, 0.0, 3.0, 0.0, 1.0, [0.0, 2.0, 1.0, 2.0, 1.0, 0.0, 0.0, 3.0, 0.0, 0.0, 0.0, 1.0, 0.0, 31.0, 6759.0, 4.0, 5.0, 31.0, 44.0, 2.0, 1.0], [7.411295078581985, 12.588704921418016], [0.37056475392909927, 0.6294352460709007], 1.0, 'Risk'], ['0_to_200', 4, 'all_credits_paid_back', 'radio_tv', 3164, 'less_100', '1_to_4', 3, 'female', 'none', 2, 'savings_insurance', 31, 'stores', 'own', 1, 'unskilled', 2, 'none', 'yes', 2.0, 3.0, 0.0, 0.0, 0.0, 0.0, 1.0, 1.0, 3.0, 0.0, 0.0, 1.0, 0.0, [2.0, 3.0, 3.0, 0.0, 0.0, 1.0, 0.0, 0.0, 1.0, 0.0, 1.0, 0.0, 0.0, 4.0, 3164.0, 3.0, 2.0, 4.0, 31.0, 1.0, 2.0], [17.775600669275363, 2.224399330724637], [0.8887800334637681, 0.11121996653623185], 0.0, 'No Risk'], ['0_to_200', 33, 'prior_payments_delayed', 'furniture', 3051, '100_to_500', '1_to_4', 3, 'female', 'none', 2, 'car_other', 42, 'none', 'free', 2, 'skilled', 2, 'yes', 'yes', 2.0, 0.0, 0.0, 1.0, 0.0, 2.0, 0.0, 0.0, 1.0, 0.0, 1.0, 1.0, 1.0, [2.0, 0.0, 1.0, 1.0, 0.0, 1.0, 0.0, 1.0, 0.0, 2.0, 0.0, 1.0, 0.0, 33.0, 3051.0, 3.0, 2.0, 33.0, 42.0, 2.0, 2.0], [13.417959558200927, 6.582040441799071], [0.6708979779100464, 0.32910202208995354], 0.0, 'No Risk'], ['no_checking', 21, 'credits_paid_to_date', 'car_new', 4391, '100_to_500', '4_to_7', 4, 'male', 'none', 4, 'savings_insurance', 42, 'none', 'own', 2, 'management_self-employed', 1, 'none', 'yes', 0.0, 1.0, 1.0, 1.0, 0.0, 0.0, 0.0, 2.0, 0.0, 0.0, 0.0, 0.0, 0.0, [21, [1, 3, 4, 10, 13, 14, 15, 16, 17, 18, 19, 20], [1.0, 1.0, 1.0, 2.0, 21.0, 4391.0, 4.0, 4.0, 21.0, 42.0, 2.0, 1.0]], [11.10363039915896, 8.896369600841037], [0.5551815199579481, 0.4448184800420519], 0.0, 'No Risk'], ['less_0', 11, 'prior_payments_delayed', 'car_used', 701, 'less_100', '1_to_4', 3, 'male', 'none', 3, 'car_other', 39, 'bank', 'rent', 2, 'unskilled', 1, 'none', 'yes', 1.0, 0.0, 0.0, 0.0, 0.0, 1.0, 2.0, 1.0, 2.0, 0.0, 1.0, 0.0, 0.0, [1.0, 0.0, 2.0, 0.0, 0.0, 0.0, 0.0, 1.0, 2.0, 1.0, 1.0, 0.0, 0.0, 11.0, 701.0, 3.0, 3.0, 11.0, 39.0, 2.0, 1.0], [14.966096631810462, 5.033903368189535], [0.7483048315905232, 0.2516951684094768], 0.0, 'No Risk'], ['0_to_200', 21, 'outstanding_credit', 'appliances', 3079, 'greater_1000', 'greater_7', 4, 'male', 'none', 3, 'unknown', 38, 'none', 'own', 2, 'skilled', 2, 'yes', 'yes', 2.0, 2.0, 2.0, 3.0, 0.0, 0.0, 0.0, 0.0, 4.0, 0.0, 3.0, 0.0, 1.0, [2.0, 2.0, 4.0, 3.0, 2.0, 0.0, 0.0, 3.0, 0.0, 0.0, 0.0, 1.0, 0.0, 21.0, 3079.0, 4.0, 3.0, 21.0, 38.0, 2.0, 2.0], [10.318662309084452, 9.681337690915548], [0.5159331154542226, 0.4840668845457774], 0.0, 'No Risk'], ['0_to_200', 30, 'credits_paid_to_date', 'furniture', 2119, '100_to_500', '4_to_7', 2, 'female', 'none', 2, 'car_other', 56, 'stores', 'own', 1, 'unskilled', 2, 'yes', 'yes', 2.0, 1.0, 1.0, 1.0, 0.0, 0.0, 1.0, 1.0, 1.0, 0.0, 1.0, 1.0, 1.0, [2.0, 1.0, 1.0, 1.0, 1.0, 1.0, 0.0, 1.0, 1.0, 0.0, 1.0, 1.0, 0.0, 30.0, 2119.0, 2.0, 2.0, 30.0, 56.0, 1.0, 2.0], [12.013288421379869, 7.986711578620131], [0.6006644210689934, 0.3993355789310066], 0.0, 'No Risk'], ['0_to_200', 18, 'credits_paid_to_date', 'furniture', 250, 'less_100', 'less_1', 2, 'female', 'co-applicant', 2, 'real_estate', 20, 'none', 'own', 1, 'skilled', 1, 'none', 'yes', 2.0, 1.0, 3.0, 0.0, 0.0, 0.0, 0.0, 0.0, 1.0, 1.0, 2.0, 1.0, 0.0, [2.0, 1.0, 1.0, 0.0, 3.0, 1.0, 1.0, 2.0, 0.0, 0.0, 0.0, 0.0, 0.0, 18.0, 250.0, 2.0, 2.0, 18.0, 20.0, 1.0, 1.0], [19.12635539214424, 0.8736446078557614], [0.9563177696072118, 0.04368223039278806], 0.0, 'No Risk'], ['less_0', 18, 'credits_paid_to_date', 'radio_tv', 1412, 'less_100', '1_to_4', 2, 'male', 'none', 1, 'real_estate', 36, 'none', 'own', 1, 'skilled', 1, 'none', 'yes', 1.0, 1.0, 0.0, 0.0, 0.0, 0.0, 0.0, 0.0, 3.0, 0.0, 2.0, 0.0, 0.0, [21, [0, 1, 2, 7, 13, 14, 15, 16, 17, 18, 19, 20], [1.0, 1.0, 3.0, 2.0, 18.0, 1412.0, 2.0, 1.0, 18.0, 36.0, 1.0, 1.0]], [17.39293079238653, 2.607069207613472], [0.8696465396193265, 0.13035346038067358], 0.0, 'No Risk'], ['no_checking', 30, 'outstanding_credit', 'repairs', 5204, '500_to_1000', '1_to_4', 3, 'male', 'none', 4, 'car_other', 33, 'none', 'free', 1, 'skilled', 1, 'yes', 'yes', 0.0, 2.0, 0.0, 2.0, 0.0, 2.0, 0.0, 0.0, 5.0, 0.0, 1.0, 0.0, 1.0, [0.0, 2.0, 5.0, 2.0, 0.0, 0.0, 0.0, 1.0, 0.0, 2.0, 0.0, 1.0, 0.0, 30.0, 5204.0, 3.0, 4.0, 30.0, 33.0, 1.0, 1.0], [13.279631349105014, 6.7203686508949865], [0.6639815674552507, 0.33601843254474933], 0.0, 'No Risk'], ['no_checking', 14, 'credits_paid_to_date', 'furniture', 851, '100_to_500', 'less_1', 2, 'female', 'none', 2, 'real_estate', 19, 'bank', 'rent', 1, 'unemployed', 1, 'none', 'yes', 0.0, 1.0, 3.0, 1.0, 0.0, 1.0, 2.0, 3.0, 1.0, 0.0, 2.0, 1.0, 0.0, [0.0, 1.0, 1.0, 1.0, 3.0, 1.0, 0.0, 2.0, 2.0, 1.0, 3.0, 0.0, 0.0, 14.0, 851.0, 2.0, 2.0, 14.0, 19.0, 1.0, 1.0], [18.1154136044899, 1.8845863955101], [0.9057706802244949, 0.094229319775505], 0.0, 'No Risk'], ['no_checking', 23, 'outstanding_credit', 'car_used', 6510, '500_to_1000', 'greater_7', 3, 'male', 'co-applicant', 4, 'unknown', 51, 'bank', 'own', 2, 'unemployed', 2, 'yes', 'yes', 0.0, 2.0, 2.0, 2.0, 0.0, 0.0, 2.0, 3.0, 2.0, 1.0, 3.0, 0.0, 1.0, [0.0, 2.0, 2.0, 2.0, 2.0, 0.0, 1.0, 3.0, 2.0, 0.0, 3.0, 1.0, 0.0, 23.0, 6510.0, 3.0, 4.0, 23.0, 51.0, 2.0, 2.0], [5.573090969852216, 14.426909030147785], [0.2786545484926108, 0.7213454515073893], 1.0, 'Risk'], ['less_0', 16, 'credits_paid_to_date', 'furniture', 265, 'less_100', '1_to_4', 3, 'female', 'none', 1, 'savings_insurance', 30, 'stores', 'own', 1, 'skilled', 1, 'none', 'yes', 1.0, 1.0, 0.0, 0.0, 0.0, 0.0, 1.0, 0.0, 1.0, 0.0, 0.0, 1.0, 0.0, [1.0, 1.0, 1.0, 0.0, 0.0, 1.0, 0.0, 0.0, 1.0, 0.0, 0.0, 0.0, 0.0, 16.0, 265.0, 3.0, 1.0, 16.0, 30.0, 1.0, 1.0], [17.92959685648417, 2.0704031435158314], [0.8964798428242083, 0.10352015717579155], 0.0, 'No Risk'], ['no_checking', 39, 'outstanding_credit', 'repairs', 2987, 'greater_1000', '4_to_7', 4, 'male', 'none', 5, 'savings_insurance', 42, 'none', 'own', 2, 'management_self-employed', 1, 'yes', 'yes', 0.0, 2.0, 1.0, 3.0, 0.0, 0.0, 0.0, 2.0, 5.0, 0.0, 0.0, 0.0, 1.0, [0.0, 2.0, 5.0, 3.0, 1.0, 0.0, 0.0, 0.0, 0.0, 0.0, 2.0, 1.0, 0.0, 39.0, 2987.0, 4.0, 5.0, 39.0, 42.0, 2.0, 1.0], [10.350738999802683, 9.649261000197319], [0.5175369499901341, 0.48246305000986595], 0.0, 'No Risk'], ['no_checking', 29, 'prior_payments_delayed', 'repairs', 5353, '100_to_500', '1_to_4', 4, 'male', 'none', 5, 'car_other', 45, 'none', 'own', 1, 'management_self-employed', 1, 'none', 'yes', 0.0, 0.0, 0.0, 1.0, 0.0, 0.0, 0.0, 2.0, 5.0, 0.0, 1.0, 0.0, 0.0, [21, [2, 3, 7, 10, 13, 14, 15, 16, 17, 18, 19, 20], [5.0, 1.0, 1.0, 2.0, 29.0, 5353.0, 4.0, 5.0, 29.0, 45.0, 1.0, 1.0]], [13.140198597192581, 6.859801402807416], [0.6570099298596291, 0.34299007014037086], 0.0, 'No Risk'], ['0_to_200', 4, 'all_credits_paid_back', 'car_new', 250, 'less_100', '1_to_4', 2, 'female', 'none', 2, 'real_estate', 19, 'none', 'rent', 1, 'skilled', 1, 'none', 'yes', 2.0, 3.0, 0.0, 0.0, 0.0, 1.0, 0.0, 0.0, 0.0, 0.0, 2.0, 1.0, 0.0, [2.0, 3.0, 0.0, 0.0, 0.0, 1.0, 0.0, 2.0, 0.0, 1.0, 0.0, 0.0, 0.0, 4.0, 250.0, 2.0, 2.0, 4.0, 19.0, 1.0, 1.0], [19.32593189633811, 0.6740681036618958], [0.9662965948169052, 0.03370340518309479], 0.0, 'No Risk'], ['less_0', 16, 'prior_payments_delayed', 'car_new', 2914, 'less_100', '4_to_7', 3, 'male', 'none', 3, 'savings_insurance', 30, 'none', 'own', 1, 'skilled', 1, 'none', 'yes', 1.0, 0.0, 1.0, 0.0, 0.0, 0.0, 0.0, 0.0, 0.0, 0.0, 0.0, 0.0, 0.0, [21, [0, 4, 13, 14, 15, 16, 17, 18, 19, 20], [1.0, 1.0, 16.0, 2914.0, 3.0, 3.0, 16.0, 30.0, 1.0, 1.0]], [16.75278619903584, 3.2472138009641616], [0.8376393099517919, 0.16236069004820808], 0.0, 'No Risk'], ['less_0', 4, 'no_credits', 'car_new', 250, 'less_100', 'less_1', 1, 'female', 'none', 2, 'real_estate', 32, 'none', 'rent', 1, 'management_self-employed', 1, 'none', 'yes', 1.0, 4.0, 3.0, 0.0, 0.0, 1.0, 0.0, 2.0, 0.0, 0.0, 2.0, 1.0, 0.0, [1.0, 4.0, 0.0, 0.0, 3.0, 1.0, 0.0, 2.0, 0.0, 1.0, 2.0, 0.0, 0.0, 4.0, 250.0, 1.0, 2.0, 4.0, 32.0, 1.0, 1.0], [19.124230046859427, 0.8757699531405723], [0.9562115023429714, 0.043788497657028615], 0.0, 'No Risk'], ['less_0', 14, 'credits_paid_to_date', 'furniture', 561, 'less_100', 'less_1', 2, 'female', 'none', 1, 'savings_insurance', 24, 'none', 'own', 2, 'skilled', 1, 'none', 'yes', 1.0, 1.0, 3.0, 0.0, 0.0, 0.0, 0.0, 0.0, 1.0, 0.0, 0.0, 1.0, 0.0, [1.0, 1.0, 1.0, 0.0, 3.0, 1.0, 0.0, 0.0, 0.0, 0.0, 0.0, 0.0, 0.0, 14.0, 561.0, 2.0, 1.0, 14.0, 24.0, 2.0, 1.0], [18.286743177443995, 1.7132568225560045], [0.9143371588721998, 0.08566284112780023], 0.0, 'No Risk'], ['no_checking', 30, 'outstanding_credit', 'other', 6670, 'greater_1000', '1_to_4', 4, 'male', 'guarantor', 5, 'unknown', 51, 'none', 'own', 2, 'skilled', 1, 'yes', 'yes', 0.0, 2.0, 0.0, 3.0, 0.0, 0.0, 0.0, 0.0, 10.0, 2.0, 3.0, 0.0, 1.0, [0.0, 2.0, 10.0, 3.0, 0.0, 0.0, 2.0, 3.0, 0.0, 0.0, 0.0, 1.0, 0.0, 30.0, 6670.0, 4.0, 5.0, 30.0, 51.0, 2.0, 1.0], [7.523673035139895, 12.476326964860105], [0.37618365175699475, 0.6238163482430052], 1.0, 'Risk'], ['no_checking', 27, 'outstanding_credit', 'furniture', 8177, 'unknown', 'greater_7', 5, 'male', 'co-applicant', 5, 'car_other', 41, 'none', 'own', 2, 'management_self-employed', 2, 'yes', 'yes', 0.0, 2.0, 2.0, 4.0, 0.0, 0.0, 0.0, 2.0, 1.0, 1.0, 1.0, 0.0, 1.0, [0.0, 2.0, 1.0, 4.0, 2.0, 0.0, 1.0, 1.0, 0.0, 0.0, 2.0, 1.0, 0.0, 27.0, 8177.0, 5.0, 5.0, 27.0, 41.0, 2.0, 2.0], [4.083115147792423, 15.916884852207577], [0.20415575738962116, 0.7958442426103789], 1.0, 'Risk'], ['no_checking', 30, 'outstanding_credit', 'radio_tv', 2536, '500_to_1000', 'greater_7', 5, 'male', 'none', 3, 'unknown', 40, 'none', 'free', 2, 'skilled', 1, 'yes', 'yes', 0.0, 2.0, 2.0, 2.0, 0.0, 2.0, 0.0, 0.0, 3.0, 0.0, 3.0, 0.0, 1.0, [0.0, 2.0, 3.0, 2.0, 2.0, 0.0, 0.0, 3.0, 0.0, 2.0, 0.0, 1.0, 0.0, 30.0, 2536.0, 5.0, 3.0, 30.0, 40.0, 2.0, 1.0], [7.5531423176675245, 12.446857682332476], [0.37765711588337625, 0.6223428841166239], 1.0, 'Risk'], ['0_to_200', 13, 'prior_payments_delayed', 'furniture', 2447, 'less_100', 'less_1', 1, 'male', 'co-applicant', 2, 'savings_insurance', 45, 'none', 'own', 1, 'skilled', 1, 'yes', 'yes', 2.0, 0.0, 3.0, 0.0, 0.0, 0.0, 0.0, 0.0, 1.0, 1.0, 0.0, 0.0, 1.0, [2.0, 0.0, 1.0, 0.0, 3.0, 0.0, 1.0, 0.0, 0.0, 0.0, 0.0, 1.0, 0.0, 13.0, 2447.0, 1.0, 2.0, 13.0, 45.0, 1.0, 1.0], [15.832166222474871, 4.1678337775251295], [0.7916083111237435, 0.20839168887625648], 0.0, 'No Risk'], ['0_to_200', 14, 'prior_payments_delayed', 'repairs', 2699, 'less_100', '4_to_7', 3, 'female', 'none', 3, 'savings_insurance', 38, 'none', 'rent', 1, 'skilled', 1, 'yes', 'yes', 2.0, 0.0, 1.0, 0.0, 0.0, 1.0, 0.0, 0.0, 5.0, 0.0, 0.0, 1.0, 1.0, [2.0, 0.0, 5.0, 0.0, 1.0, 1.0, 0.0, 0.0, 0.0, 1.0, 0.0, 1.0, 0.0, 14.0, 2699.0, 3.0, 3.0, 14.0, 38.0, 1.0, 1.0], [14.162912799502436, 5.837087200497563], [0.7081456399751218, 0.29185436002487813], 0.0, 'No Risk'], ['less_0', 26, 'credits_paid_to_date', 'car_used', 1403, '100_to_500', '4_to_7', 3, 'male', 'none', 3, 'savings_insurance', 19, 'stores', 'own', 2, 'skilled', 1, 'none', 'yes', 1.0, 1.0, 1.0, 1.0, 0.0, 0.0, 1.0, 0.0, 2.0, 0.0, 0.0, 0.0, 0.0, [1.0, 1.0, 2.0, 1.0, 1.0, 0.0, 0.0, 0.0, 1.0, 0.0, 0.0, 0.0, 0.0, 26.0, 1403.0, 3.0, 3.0, 26.0, 19.0, 2.0, 1.0], [15.159761918191503, 4.840238081808497], [0.7579880959095752, 0.24201190409042486], 0.0, 'No Risk'], ['greater_200', 36, 'prior_payments_delayed', 'appliances', 3325, '100_to_500', 'greater_7', 4, 'male', 'none', 3, 'savings_insurance', 30, 'none', 'own', 1, 'skilled', 1, 'none', 'yes', 3.0, 0.0, 2.0, 1.0, 0.0, 0.0, 0.0, 0.0, 4.0, 0.0, 0.0, 0.0, 0.0, [21, [0, 2, 3, 4, 13, 14, 15, 16, 17, 18, 19, 20], [3.0, 4.0, 1.0, 2.0, 36.0, 3325.0, 4.0, 3.0, 36.0, 30.0, 1.0, 1.0]], [11.692329377793207, 8.307670622206794], [0.5846164688896603, 0.4153835311103397], 0.0, 'No Risk'], ['no_checking', 39, 'prior_payments_delayed', 'furniture', 3190, '500_to_1000', '1_to_4', 2, 'male', 'none', 4, 'savings_insurance', 30, 'none', 'own', 1, 'skilled', 1, 'none', 'yes', 0.0, 0.0, 0.0, 2.0, 0.0, 0.0, 0.0, 0.0, 1.0, 0.0, 0.0, 0.0, 0.0, [21, [2, 3, 13, 14, 15, 16, 17, 18, 19, 20], [1.0, 2.0, 39.0, 3190.0, 2.0, 4.0, 39.0, 30.0, 1.0, 1.0]], [13.111167381860986, 6.888832618139013], [0.6555583690930493, 0.3444416309069506], 0.0, 'No Risk'], ['less_0', 22, 'credits_paid_to_date', 'radio_tv', 1210, '100_to_500', 'less_1', 3, 'female', 'none', 2, 'savings_insurance', 24, 'stores', 'own', 2, 'skilled', 2, 'none', 'yes', 1.0, 1.0, 3.0, 1.0, 0.0, 0.0, 1.0, 0.0, 3.0, 0.0, 0.0, 1.0, 0.0, [1.0, 1.0, 3.0, 1.0, 3.0, 1.0, 0.0, 0.0, 1.0, 0.0, 0.0, 0.0, 0.0, 22.0, 1210.0, 3.0, 2.0, 22.0, 24.0, 2.0, 2.0], [16.51250692097165, 3.4874930790283463], [0.8256253460485826, 0.17437465395141735], 0.0, 'No Risk'], ['no_checking', 21, 'credits_paid_to_date', 'furniture', 1369, 'unknown', 'greater_7', 4, 'male', 'none', 3, 'savings_insurance', 48, 'none', 'own', 2, 'skilled', 1, 'yes', 'yes', 0.0, 1.0, 2.0, 4.0, 0.0, 0.0, 0.0, 0.0, 1.0, 0.0, 0.0, 0.0, 1.0, [0.0, 1.0, 1.0, 4.0, 2.0, 0.0, 0.0, 0.0, 0.0, 0.0, 0.0, 1.0, 0.0, 21.0, 1369.0, 4.0, 3.0, 21.0, 48.0, 2.0, 1.0], [8.002111066176166, 11.997888933823836], [0.4001055533088083, 0.5998944466911917], 1.0, 'Risk'], ['no_checking', 22, 'outstanding_credit', 'car_used', 4976, '500_to_1000', 'greater_7', 4, 'male', 'none', 4, 'car_other', 47, 'none', 'free', 2, 'management_self-employed', 1, 'yes', 'yes', 0.0, 2.0, 2.0, 2.0, 0.0, 2.0, 0.0, 2.0, 2.0, 0.0, 1.0, 0.0, 1.0, [0.0, 2.0, 2.0, 2.0, 2.0, 0.0, 0.0, 1.0, 0.0, 2.0, 2.0, 1.0, 0.0, 22.0, 4976.0, 4.0, 4.0, 22.0, 47.0, 2.0, 1.0], [7.7800043336486615, 12.219995666351338], [0.38900021668243306, 0.6109997833175669], 1.0, 'Risk'], ['0_to_200', 15, 'prior_payments_delayed', 'furniture', 2742, 'less_100', 'less_1', 3, 'female', 'none', 3, 'car_other', 39, 'none', 'own', 1, 'skilled', 1, 'yes', 'yes', 2.0, 0.0, 3.0, 0.0, 0.0, 0.0, 0.0, 0.0, 1.0, 0.0, 1.0, 1.0, 1.0, [2.0, 0.0, 1.0, 0.0, 3.0, 1.0, 0.0, 1.0, 0.0, 0.0, 0.0, 1.0, 0.0, 15.0, 2742.0, 3.0, 3.0, 15.0, 39.0, 1.0, 1.0], [15.236567478032477, 4.763432521967522], [0.7618283739016238, 0.2381716260983761], 0.0, 'No Risk'], ['0_to_200', 15, 'prior_payments_delayed', 'car_new', 3481, 'less_100', '1_to_4', 3, 'female', 'none', 3, 'unknown', 46, 'stores', 'own', 2, 'unskilled', 1, 'none', 'yes', 2.0, 0.0, 0.0, 0.0, 0.0, 0.0, 1.0, 1.0, 0.0, 0.0, 3.0, 1.0, 0.0, [2.0, 0.0, 0.0, 0.0, 0.0, 1.0, 0.0, 3.0, 1.0, 0.0, 1.0, 0.0, 0.0, 15.0, 3481.0, 3.0, 3.0, 15.0, 46.0, 2.0, 1.0], [14.459885121533038, 5.540114878466961], [0.7229942560766519, 0.2770057439233481], 0.0, 'No Risk'], ['0_to_200', 19, 'credits_paid_to_date', 'car_new', 1537, '500_to_1000', '1_to_4', 3, 'male', 'none', 2, 'savings_insurance', 29, 'none', 'own', 1, 'skilled', 1, 'none', 'yes', 2.0, 1.0, 0.0, 2.0, 0.0, 0.0, 0.0, 0.0, 0.0, 0.0, 0.0, 0.0, 0.0, [21, [0, 1, 3, 13, 14, 15, 16, 17, 18, 19, 20], [2.0, 1.0, 2.0, 19.0, 1537.0, 3.0, 2.0, 19.0, 29.0, 1.0, 1.0]], [17.147453925202374, 2.8525460747976275], [0.8573726962601187, 0.14262730373988136], 0.0, 'No Risk'], ['less_0', 4, 'all_credits_paid_back', 'car_new', 250, 'less_100', 'unemployed', 1, 'female', 'none', 1, 'real_estate', 19, 'none', 'rent', 1, 'skilled', 1, 'none', 'yes', 1.0, 3.0, 4.0, 0.0, 0.0, 1.0, 0.0, 0.0, 0.0, 0.0, 2.0, 1.0, 0.0, [1.0, 3.0, 0.0, 0.0, 4.0, 1.0, 0.0, 2.0, 0.0, 1.0, 0.0, 0.0, 0.0, 4.0, 250.0, 1.0, 1.0, 4.0, 19.0, 1.0, 1.0], [19.545874301975502, 0.45412569802450037], [0.9772937150987749, 0.022706284901225015], 0.0, 'No Risk'], ['0_to_200', 34, 'prior_payments_delayed', 'appliances', 3760, '100_to_500', 'greater_7', 3, 'female', 'none', 1, 'savings_insurance', 52, 'stores', 'own', 2, 'skilled', 1, 'none', 'yes', 2.0, 0.0, 2.0, 1.0, 0.0, 0.0, 1.0, 0.0, 4.0, 0.0, 0.0, 1.0, 0.0, [2.0, 0.0, 4.0, 1.0, 2.0, 1.0, 0.0, 0.0, 1.0, 0.0, 0.0, 0.0, 0.0, 34.0, 3760.0, 3.0, 1.0, 34.0, 52.0, 2.0, 1.0], [11.85012523261486, 8.14987476738514], [0.5925062616307429, 0.40749373836925706], 0.0, 'No Risk'], ['no_checking', 14, 'credits_paid_to_date', 'furniture', 4436, '500_to_1000', '4_to_7', 4, 'male', 'none', 3, 'savings_insurance', 39, 'none', 'own', 1, 'skilled', 1, 'none', 'yes', 0.0, 1.0, 1.0, 2.0, 0.0, 0.0, 0.0, 0.0, 1.0, 0.0, 0.0, 0.0, 0.0, [21, [1, 2, 3, 4, 13, 14, 15, 16, 17, 18, 19, 20], [1.0, 1.0, 2.0, 1.0, 14.0, 4436.0, 4.0, 3.0, 14.0, 39.0, 1.0, 1.0]], [13.311117471806439, 6.688882528193562], [0.665555873590322, 0.33444412640967813], 0.0, 'No Risk'], ['no_checking', 32, 'prior_payments_delayed', 'business', 10637, '100_to_500', '1_to_4', 4, 'male', 'none', 3, 'unknown', 41, 'none', 'free', 2, 'management_self-employed', 1, 'yes', 'yes', 0.0, 0.0, 0.0, 1.0, 0.0, 2.0, 0.0, 2.0, 9.0, 0.0, 3.0, 0.0, 1.0, [0.0, 0.0, 9.0, 1.0, 0.0, 0.0, 0.0, 3.0, 0.0, 2.0, 2.0, 1.0, 0.0, 32.0, 10637.0, 4.0, 3.0, 32.0, 41.0, 2.0, 1.0], [11.386653270506061, 8.613346729493935], [0.5693326635253032, 0.43066733647469685], 0.0, 'No Risk'], ['less_0', 4, 'all_credits_paid_back', 'car_new', 250, 'less_100', 'less_1', 2, 'male', 'none', 1, 'real_estate', 31, 'none', 'rent', 1, 'skilled', 1, 'none', 'yes', 1.0, 3.0, 3.0, 0.0, 0.0, 1.0, 0.0, 0.0, 0.0, 0.0, 2.0, 0.0, 0.0, [1.0, 3.0, 0.0, 0.0, 3.0, 0.0, 0.0, 2.0, 0.0, 1.0, 0.0, 0.0, 0.0, 4.0, 250.0, 2.0, 1.0, 4.0, 31.0, 1.0, 1.0], [19.4469578801311, 0.5530421198688987], [0.9723478940065551, 0.027652105993444937], 0.0, 'No Risk'], ['0_to_200', 23, 'credits_paid_to_date', 'furniture', 3966, 'less_100', 'less_1', 3, 'male', 'none', 2, 'savings_insurance', 36, 'none', 'rent', 1, 'management_self-employed', 1, 'none', 'yes', 2.0, 1.0, 3.0, 0.0, 0.0, 1.0, 0.0, 2.0, 1.0, 0.0, 0.0, 0.0, 0.0, [2.0, 1.0, 1.0, 0.0, 3.0, 0.0, 0.0, 0.0, 0.0, 1.0, 2.0, 0.0, 0.0, 23.0, 3966.0, 3.0, 2.0, 23.0, 36.0, 1.0, 1.0], [16.128324687029792, 3.8716753129702073], [0.8064162343514896, 0.19358376564851038], 0.0, 'No Risk'], ['no_checking', 41, 'outstanding_credit', 'repairs', 6221, 'unknown', 'greater_7', 5, 'female', 'co-applicant', 4, 'unknown', 45, 'none', 'free', 3, 'skilled', 2, 'yes', 'yes', 0.0, 2.0, 2.0, 4.0, 0.0, 2.0, 0.0, 0.0, 5.0, 1.0, 3.0, 1.0, 1.0, [0.0, 2.0, 5.0, 4.0, 2.0, 1.0, 1.0, 3.0, 0.0, 2.0, 0.0, 1.0, 0.0, 41.0, 6221.0, 5.0, 4.0, 41.0, 45.0, 3.0, 2.0], [1.671280183205145, 18.328719816794855], [0.08356400916025725, 0.9164359908397428], 1.0, 'Risk'], ['no_checking', 10, 'credits_paid_to_date', 'vacation', 1141, 'less_100', 'less_1', 2, 'female', 'none', 3, 'savings_insurance', 32, 'none', 'own', 1, 'management_self-employed', 1, 'none', 'yes', 0.0, 1.0, 3.0, 0.0, 0.0, 0.0, 0.0, 2.0, 6.0, 0.0, 0.0, 1.0, 0.0, [0.0, 1.0, 6.0, 0.0, 3.0, 1.0, 0.0, 0.0, 0.0, 0.0, 2.0, 0.0, 0.0, 10.0, 1141.0, 2.0, 3.0, 10.0, 32.0, 1.0, 1.0], [17.373367374697068, 2.62663262530293], [0.8686683687348534, 0.13133163126514652], 0.0, 'No Risk'], ['no_checking', 35, 'prior_payments_delayed', 'furniture', 8662, '500_to_1000', '4_to_7', 5, 'male', 'co-applicant', 5, 'car_other', 41, 'none', 'free', 2, 'management_self-employed', 1, 'yes', 'yes', 0.0, 0.0, 1.0, 2.0, 0.0, 2.0, 0.0, 2.0, 1.0, 1.0, 1.0, 0.0, 1.0, [0.0, 0.0, 1.0, 2.0, 1.0, 0.0, 1.0, 1.0, 0.0, 2.0, 2.0, 1.0, 0.0, 35.0, 8662.0, 5.0, 5.0, 35.0, 41.0, 2.0, 1.0], [4.77218527146179, 15.227814728538208], [0.2386092635730895, 0.7613907364269104], 1.0, 'Risk'], ['no_checking', 21, 'prior_payments_delayed', 'car_used', 3121, '100_to_500', '1_to_4', 3, 'male', 'none', 2, 'car_other', 29, 'none', 'own', 1, 'skilled', 1, 'yes', 'yes', 0.0, 0.0, 0.0, 1.0, 0.0, 0.0, 0.0, 0.0, 2.0, 0.0, 1.0, 0.0, 1.0, [21, [2, 3, 7, 11, 13, 14, 15, 16, 17, 18, 19, 20], [2.0, 1.0, 1.0, 1.0, 21.0, 3121.0, 3.0, 2.0, 21.0, 29.0, 1.0, 1.0]], [15.39966635631379, 4.600333643686209], [0.7699833178156895, 0.23001668218431046], 0.0, 'No Risk'], ['0_to_200', 20, 'prior_payments_delayed', 'car_new', 1908, 'less_100', 'less_1', 3, 'male', 'none', 3, 'savings_insurance', 30, 'none', 'rent', 1, 'skilled', 1, 'none', 'yes', 2.0, 0.0, 3.0, 0.0, 0.0, 1.0, 0.0, 0.0, 0.0, 0.0, 0.0, 0.0, 0.0, [21, [0, 4, 9, 13, 14, 15, 16, 17, 18, 19, 20], [2.0, 3.0, 1.0, 20.0, 1908.0, 3.0, 3.0, 20.0, 30.0, 1.0, 1.0]], [16.472480693910747, 3.527519306089249], [0.8236240346955375, 0.17637596530446248], 0.0, 'No Risk'], ['less_0', 4, 'all_credits_paid_back', 'repairs', 250, 'less_100', 'unemployed', 2, 'female', 'none', 1, 'real_estate', 19, 'none', 'rent', 1, 'skilled', 1, 'none', 'yes', 1.0, 3.0, 4.0, 0.0, 0.0, 1.0, 0.0, 0.0, 5.0, 0.0, 2.0, 1.0, 0.0, [1.0, 3.0, 5.0, 0.0, 4.0, 1.0, 0.0, 2.0, 0.0, 1.0, 0.0, 0.0, 0.0, 4.0, 250.0, 2.0, 1.0, 4.0, 19.0, 1.0, 1.0], [19.545874301975502, 0.45412569802450037], [0.9772937150987749, 0.022706284901225015], 0.0, 'No Risk'], ['no_checking', 32, 'prior_payments_delayed', 'car_used', 4811, '500_to_1000', '4_to_7', 3, 'male', 'none', 3, 'savings_insurance', 45, 'none', 'own', 1, 'skilled', 2, 'yes', 'yes', 0.0, 0.0, 1.0, 2.0, 0.0, 0.0, 0.0, 0.0, 2.0, 0.0, 0.0, 0.0, 1.0, [21, [2, 3, 4, 11, 13, 14, 15, 16, 17, 18, 19, 20], [2.0, 2.0, 1.0, 1.0, 32.0, 4811.0, 3.0, 3.0, 32.0, 45.0, 1.0, 2.0]], [8.389947616751735, 11.610052383248266], [0.41949738083758675, 0.5805026191624133], 1.0, 'Risk'], ['0_to_200', 24, 'credits_paid_to_date', 'furniture', 3391, 'less_100', '1_to_4', 3, 'male', 'none', 3, 'savings_insurance', 19, 'none', 'own', 2, 'management_self-employed', 1, 'none', 'yes', 2.0, 1.0, 0.0, 0.0, 0.0, 0.0, 0.0, 2.0, 1.0, 0.0, 0.0, 0.0, 0.0, [21, [0, 1, 2, 10, 13, 14, 15, 16, 17, 18, 19, 20], [2.0, 1.0, 1.0, 2.0, 24.0, 3391.0, 3.0, 3.0, 24.0, 19.0, 2.0, 1.0]], [15.22466443785028, 4.775335562149717], [0.7612332218925141, 0.2387667781074859], 0.0, 'No Risk'], ['less_0', 4, 'all_credits_paid_back', 'car_new', 250, 'less_100', 'unemployed', 1, 'male', 'none', 1, 'real_estate', 24, 'stores', 'rent', 1, 'skilled', 1, 'none', 'yes', 1.0, 3.0, 4.0, 0.0, 0.0, 1.0, 1.0, 0.0, 0.0, 0.0, 2.0, 0.0, 0.0, [1.0, 3.0, 0.0, 0.0, 4.0, 0.0, 0.0, 2.0, 1.0, 1.0, 0.0, 0.0, 0.0, 4.0, 250.0, 1.0, 1.0, 4.0, 24.0, 1.0, 1.0], [19.511429941255802, 0.4885700587441983], [0.9755714970627901, 0.024428502937209915], 0.0, 'No Risk'], ['no_checking', 12, 'credits_paid_to_date', 'car_new', 1832, 'less_100', '4_to_7', 4, 'male', 'none', 4, 'savings_insurance', 29, 'none', 'own', 1, 'management_self-employed', 1, 'yes', 'yes', 0.0, 1.0, 1.0, 0.0, 0.0, 0.0, 0.0, 2.0, 0.0, 0.0, 0.0, 0.0, 1.0, [21, [1, 4, 10, 11, 13, 14, 15, 16, 17, 18, 19, 20], [1.0, 1.0, 2.0, 1.0, 12.0, 1832.0, 4.0, 4.0, 12.0, 29.0, 1.0, 1.0]], [13.693402735402914, 6.306597264597086], [0.6846701367701458, 0.3153298632298543], 0.0, 'No Risk'], ['no_checking', 22, 'credits_paid_to_date', 'car_used', 3508, '100_to_500', 'less_1', 2, 'male', 'none', 4, 'savings_insurance', 25, 'none', 'own', 1, 'skilled', 1, 'none', 'yes', 0.0, 1.0, 3.0, 1.0, 0.0, 0.0, 0.0, 0.0, 2.0, 0.0, 0.0, 0.0, 0.0, [21, [1, 2, 3, 4, 13, 14, 15, 16, 17, 18, 19, 20], [1.0, 2.0, 1.0, 3.0, 22.0, 3508.0, 2.0, 4.0, 22.0, 25.0, 1.0, 1.0]], [14.915377528178489, 5.0846224718215085], [0.7457688764089245, 0.25423112359107547], 0.0, 'No Risk'], ['no_checking', 27, 'prior_payments_delayed', 'business', 6076, 'greater_1000', '1_to_4', 3, 'male', 'none', 4, 'savings_insurance', 38, 'none', 'own', 2, 'skilled', 1, 'none', 'no', 0.0, 0.0, 0.0, 3.0, 1.0, 0.0, 0.0, 0.0, 9.0, 0.0, 0.0, 0.0, 0.0, [21, [2, 3, 12, 13, 14, 15, 16, 17, 18, 19, 20], [9.0, 3.0, 1.0, 27.0, 6076.0, 3.0, 4.0, 27.0, 38.0, 2.0, 1.0]], [13.03666431808501, 6.963335681914988], [0.6518332159042506, 0.3481667840957494], 0.0, 'No Risk'], ['no_checking', 29, 'outstanding_credit', 'appliances', 6705, '500_to_1000', '4_to_7', 3, 'male', 'guarantor', 5, 'car_other', 55, 'stores', 'own', 1, 'unskilled', 1, 'yes', 'yes', 0.0, 2.0, 1.0, 2.0, 0.0, 0.0, 1.0, 1.0, 4.0, 2.0, 1.0, 0.0, 1.0, [0.0, 2.0, 4.0, 2.0, 1.0, 0.0, 2.0, 1.0, 1.0, 0.0, 1.0, 1.0, 0.0, 29.0, 6705.0, 3.0, 5.0, 29.0, 55.0, 1.0, 1.0], [5.323418354265089, 14.676581645734911], [0.2661709177132544, 0.7338290822867456], 1.0, 'Risk'], ['less_0', 10, 'prior_payments_delayed', 'furniture', 3553, 'less_100', '1_to_4', 3, 'female', 'none', 1, 'car_other', 33, 'none', 'own', 1, 'skilled', 1, 'none', 'yes', 1.0, 0.0, 0.0, 0.0, 0.0, 0.0, 0.0, 0.0, 1.0, 0.0, 1.0, 1.0, 0.0, [21, [0, 2, 5, 7, 13, 14, 15, 16, 17, 18, 19, 20], [1.0, 1.0, 1.0, 1.0, 10.0, 3553.0, 3.0, 1.0, 10.0, 33.0, 1.0, 1.0]], [16.553509229525574, 3.4464907704744285], [0.8276754614762786, 0.1723245385237214], 0.0, 'No Risk'], ['no_checking', 26, 'prior_payments_delayed', 'car_used', 6283, '100_to_500', '1_to_4', 4, 'male', 'none', 3, 'savings_insurance', 39, 'none', 'own', 1, 'management_self-employed', 2, 'yes', 'yes', 0.0, 0.0, 0.0, 1.0, 0.0, 0.0, 0.0, 2.0, 2.0, 0.0, 0.0, 0.0, 1.0, [21, [2, 3, 10, 11, 13, 14, 15, 16, 17, 18, 19, 20], [2.0, 1.0, 2.0, 1.0, 26.0, 6283.0, 4.0, 3.0, 26.0, 39.0, 1.0, 2.0]], [12.955599594978363, 7.0444004050216344], [0.6477799797489182, 0.3522200202510818], 0.0, 'No Risk'], ['less_0', 11, 'prior_payments_delayed', 'retraining', 1611, 'less_100', '1_to_4', 2, 'male', 'none', 1, 'savings_insurance', 19, 'bank', 'rent', 1, 'unskilled', 1, 'none', 'yes', 1.0, 0.0, 0.0, 0.0, 0.0, 1.0, 2.0, 1.0, 8.0, 0.0, 0.0, 0.0, 0.0, [1.0, 0.0, 8.0, 0.0, 0.0, 0.0, 0.0, 0.0, 2.0, 1.0, 1.0, 0.0, 0.0, 11.0, 1611.0, 2.0, 1.0, 11.0, 19.0, 1.0, 1.0], [18.310528903702572, 1.689471096297431], [0.9155264451851285, 0.08447355481487154], 0.0, 'No Risk'], ['no_checking', 27, 'prior_payments_delayed', 'education', 7980, '100_to_500', 'greater_7', 5, 'female', 'none', 4, 'car_other', 46, 'none', 'free', 2, 'skilled', 1, 'yes', 'yes', 0.0, 0.0, 2.0, 1.0, 0.0, 2.0, 0.0, 0.0, 7.0, 0.0, 1.0, 1.0, 1.0, [0.0, 0.0, 7.0, 1.0, 2.0, 1.0, 0.0, 1.0, 0.0, 2.0, 0.0, 1.0, 0.0, 27.0, 7980.0, 5.0, 4.0, 27.0, 46.0, 2.0, 1.0], [5.19962431203501, 14.800375687964989], [0.2599812156017505, 0.7400187843982494], 1.0, 'Risk'], ['less_0', 4, 'prior_payments_delayed', 'furniture', 250, 'less_100', '1_to_4', 1, 'female', 'none', 1, 'real_estate', 19, 'stores', 'rent', 1, 'skilled', 1, 'none', 'yes', 1.0, 0.0, 0.0, 0.0, 0.0, 1.0, 1.0, 0.0, 1.0, 0.0, 2.0, 1.0, 0.0, [1.0, 0.0, 1.0, 0.0, 0.0, 1.0, 0.0, 2.0, 1.0, 1.0, 0.0, 0.0, 0.0, 4.0, 250.0, 1.0, 1.0, 4.0, 19.0, 1.0, 1.0], [19.22949996175005, 0.7705000382499525], [0.9614749980875024, 0.038525001912497615], 0.0, 'No Risk'], ['no_checking', 34, 'prior_payments_delayed', 'appliances', 9030, 'greater_1000', 'greater_7', 5, 'male', 'co-applicant', 5, 'car_other', 56, 'none', 'free', 3, 'skilled', 2, 'yes', 'yes', 0.0, 0.0, 2.0, 3.0, 0.0, 2.0, 0.0, 0.0, 4.0, 1.0, 1.0, 0.0, 1.0, [0.0, 0.0, 4.0, 3.0, 2.0, 0.0, 1.0, 1.0, 0.0, 2.0, 0.0, 1.0, 0.0, 34.0, 9030.0, 5.0, 5.0, 34.0, 56.0, 3.0, 2.0], [2.0808908998025273, 17.91910910019747], [0.10404454499012639, 0.8959554550098737], 1.0, 'Risk'], ['no_checking', 17, 'credits_paid_to_date', 'radio_tv', 4174, '100_to_500', 'less_1', 2, 'male', 'none', 2, 'real_estate', 26, 'none', 'own', 1, 'management_self-employed', 1, 'none', 'yes', 0.0, 1.0, 3.0, 1.0, 0.0, 0.0, 0.0, 2.0, 3.0, 0.0, 2.0, 0.0, 0.0, [0.0, 1.0, 3.0, 1.0, 3.0, 0.0, 0.0, 2.0, 0.0, 0.0, 2.0, 0.0, 0.0, 17.0, 4174.0, 2.0, 2.0, 17.0, 26.0, 1.0, 1.0], [17.68781821610067, 2.3121817838993266], [0.8843909108050336, 0.11560908919496635], 0.0, 'No Risk'], ['less_0', 17, 'prior_payments_delayed', 'radio_tv', 250, '500_to_1000', '4_to_7', 3, 'male', 'none', 3, 'savings_insurance', 27, 'none', 'own', 1, 'skilled', 1, 'none', 'yes', 1.0, 0.0, 1.0, 2.0, 0.0, 0.0, 0.0, 0.0, 3.0, 0.0, 0.0, 0.0, 0.0, [21, [0, 2, 3, 4, 13, 14, 15, 16, 17, 18, 19, 20], [1.0, 3.0, 2.0, 1.0, 17.0, 250.0, 3.0, 3.0, 17.0, 27.0, 1.0, 1.0]], [17.28727635810216, 2.712723641897841], [0.864363817905108, 0.13563618209489203], 0.0, 'No Risk'], ['less_0', 4, 'all_credits_paid_back', 'car_new', 250, '100_to_500', 'less_1', 1, 'male', 'none', 1, 'savings_insurance', 19, 'none', 'rent', 1, 'skilled', 1, 'none', 'yes', 1.0, 3.0, 3.0, 1.0, 0.0, 1.0, 0.0, 0.0, 0.0, 0.0, 0.0, 0.0, 0.0, [1.0, 3.0, 0.0, 1.0, 3.0, 0.0, 0.0, 0.0, 0.0, 1.0, 0.0, 0.0, 0.0, 4.0, 250.0, 1.0, 1.0, 4.0, 19.0, 1.0, 1.0], [19.20980795992332, 0.790192040076679], [0.9604903979961661, 0.03950960200383395], 0.0, 'No Risk'], ['0_to_200', 29, 'outstanding_credit', 'radio_tv', 834, '500_to_1000', '4_to_7', 3, 'male', 'none', 2, 'car_other', 22, 'stores', 'own', 1, 'skilled', 1, 'none', 'yes', 2.0, 2.0, 1.0, 2.0, 0.0, 0.0, 1.0, 0.0, 3.0, 0.0, 1.0, 0.0, 0.0, [2.0, 2.0, 3.0, 2.0, 1.0, 0.0, 0.0, 1.0, 1.0, 0.0, 0.0, 0.0, 0.0, 29.0, 834.0, 3.0, 2.0, 29.0, 22.0, 1.0, 1.0], [15.389897447010352, 4.610102552989648], [0.7694948723505176, 0.23050512764948242], 0.0, 'No Risk'], ['greater_200', 38, 'credits_paid_to_date', 'car_used', 3507, '100_to_500', 'greater_7', 4, 'male', 'none', 2, 'car_other', 28, 'bank', 'own', 2, 'unemployed', 1, 'yes', 'yes', 3.0, 1.0, 2.0, 1.0, 0.0, 0.0, 2.0, 3.0, 2.0, 0.0, 1.0, 0.0, 1.0, [3.0, 1.0, 2.0, 1.0, 2.0, 0.0, 0.0, 1.0, 2.0, 0.0, 3.0, 1.0, 0.0, 38.0, 3507.0, 4.0, 2.0, 38.0, 28.0, 2.0, 1.0], [11.833789623481666, 8.166210376518334], [0.5916894811740833, 0.40831051882591674], 0.0, 'No Risk'], ['no_checking', 42, 'prior_payments_delayed', 'radio_tv', 5463, 'greater_1000', '4_to_7', 5, 'male', 'none', 5, 'car_other', 51, 'stores', 'rent', 2, 'unskilled', 2, 'yes', 'yes', 0.0, 0.0, 1.0, 3.0, 0.0, 1.0, 1.0, 1.0, 3.0, 0.0, 1.0, 0.0, 1.0, [0.0, 0.0, 3.0, 3.0, 1.0, 0.0, 0.0, 1.0, 1.0, 1.0, 1.0, 1.0, 0.0, 42.0, 5463.0, 5.0, 5.0, 42.0, 51.0, 2.0, 2.0], [7.459365754546497, 12.540634245453504], [0.3729682877273249, 0.6270317122726752], 1.0, 'Risk'], ['less_0', 5, 'prior_payments_delayed', 'car_used', 1163, 'less_100', '4_to_7', 2, 'male', 'none', 1, 'car_other', 36, 'none', 'rent', 1, 'skilled', 1, 'none', 'yes', 1.0, 0.0, 1.0, 0.0, 0.0, 1.0, 0.0, 0.0, 2.0, 0.0, 1.0, 0.0, 0.0, [1.0, 0.0, 2.0, 0.0, 1.0, 0.0, 0.0, 1.0, 0.0, 1.0, 0.0, 0.0, 0.0, 5.0, 1163.0, 2.0, 1.0, 5.0, 36.0, 1.0, 1.0], [17.338039931227538, 2.6619600687724647], [0.8669019965613768, 0.1330980034386232], 0.0, 'No Risk'], ['less_0', 17, 'credits_paid_to_date', 'car_used', 1852, 'less_100', 'less_1', 3, 'female', 'none', 1, 'savings_insurance', 26, 'none', 'own', 1, 'skilled', 1, 'none', 'yes', 1.0, 1.0, 3.0, 0.0, 0.0, 0.0, 0.0, 0.0, 2.0, 0.0, 0.0, 1.0, 0.0, [1.0, 1.0, 2.0, 0.0, 3.0, 1.0, 0.0, 0.0, 0.0, 0.0, 0.0, 0.0, 0.0, 17.0, 1852.0, 3.0, 1.0, 17.0, 26.0, 1.0, 1.0], [18.719905958492568, 1.2800940415074338], [0.9359952979246284, 0.06400470207537169], 0.0, 'No Risk'], ['0_to_200', 31, 'credits_paid_to_date', 'retraining', 5946, '100_to_500', 'greater_7', 3, 'female', 'none', 2, 'savings_insurance', 36, 'stores', 'own', 1, 'skilled', 1, 'none', 'yes', 2.0, 1.0, 2.0, 1.0, 0.0, 0.0, 1.0, 0.0, 8.0, 0.0, 0.0, 1.0, 0.0, [2.0, 1.0, 8.0, 1.0, 2.0, 1.0, 0.0, 0.0, 1.0, 0.0, 0.0, 0.0, 0.0, 31.0, 5946.0, 3.0, 2.0, 31.0, 36.0, 1.0, 1.0], [11.866468014031847, 8.133531985968153], [0.5933234007015924, 0.40667659929840766], 0.0, 'No Risk'], ['greater_200', 25, 'credits_paid_to_date', 'radio_tv', 6817, '100_to_500', 'greater_7', 4, 'male', 'none', 2, 'savings_insurance', 39, 'none', 'own', 3, 'skilled', 2, 'yes', 'yes', 3.0, 1.0, 2.0, 1.0, 0.0, 0.0, 0.0, 0.0, 3.0, 0.0, 0.0, 0.0, 1.0, [3.0, 1.0, 3.0, 1.0, 2.0, 0.0, 0.0, 0.0, 0.0, 0.0, 0.0, 1.0, 0.0, 25.0, 6817.0, 4.0, 2.0, 25.0, 39.0, 3.0, 2.0], [11.795158348000765, 8.204841651999235], [0.5897579174000382, 0.41024208259996175], 0.0, 'No Risk'], ['less_0', 7, 'credits_paid_to_date', 'furniture', 250, 'less_100', 'unemployed', 2, 'male', 'none', 1, 'real_estate', 32, 'none', 'rent', 1, 'skilled', 1, 'none', 'yes', 1.0, 1.0, 4.0, 0.0, 0.0, 1.0, 0.0, 0.0, 1.0, 0.0, 2.0, 0.0, 0.0, [1.0, 1.0, 1.0, 0.0, 4.0, 0.0, 0.0, 2.0, 0.0, 1.0, 0.0, 0.0, 0.0, 7.0, 250.0, 2.0, 1.0, 7.0, 32.0, 1.0, 1.0], [19.15695444392955, 0.843045556070449], [0.9578477221964775, 0.042152277803522445], 0.0, 'No Risk'], ['0_to_200', 33, 'prior_payments_delayed', 'car_used', 3089, '100_to_500', 'greater_7', 4, 'male', 'none', 4, 'savings_insurance', 29, 'none', 'own', 2, 'skilled', 1, 'yes', 'yes', 2.0, 0.0, 2.0, 1.0, 0.0, 0.0, 0.0, 0.0, 2.0, 0.0, 0.0, 0.0, 1.0, [2.0, 0.0, 2.0, 1.0, 2.0, 0.0, 0.0, 0.0, 0.0, 0.0, 0.0, 1.0, 0.0, 33.0, 3089.0, 4.0, 4.0, 33.0, 29.0, 2.0, 1.0], [12.746708030854764, 7.253291969145235], [0.6373354015427382, 0.36266459845726173], 0.0, 'No Risk'], ['0_to_200', 23, 'credits_paid_to_date', 'repairs', 2526, '500_to_1000', 'greater_7', 3, 'male', 'none', 3, 'car_other', 37, 'none', 'own', 2, 'skilled', 1, 'none', 'yes', 2.0, 1.0, 2.0, 2.0, 0.0, 0.0, 0.0, 0.0, 5.0, 0.0, 1.0, 0.0, 0.0, [2.0, 1.0, 5.0, 2.0, 2.0, 0.0, 0.0, 1.0, 0.0, 0.0, 0.0, 0.0, 0.0, 23.0, 2526.0, 3.0, 3.0, 23.0, 37.0, 2.0, 1.0], [12.945721921044743, 7.054278078955253], [0.6472860960522373, 0.3527139039477627], 0.0, 'No Risk'], ['no_checking', 27, 'prior_payments_delayed', 'appliances', 1828, 'unknown', '4_to_7', 3, 'male', 'none', 4, 'real_estate', 36, 'none', 'own', 1, 'skilled', 1, 'yes', 'yes', 0.0, 0.0, 1.0, 4.0, 0.0, 0.0, 0.0, 0.0, 4.0, 0.0, 2.0, 0.0, 1.0, [0.0, 0.0, 4.0, 4.0, 1.0, 0.0, 0.0, 2.0, 0.0, 0.0, 0.0, 1.0, 0.0, 27.0, 1828.0, 3.0, 4.0, 27.0, 36.0, 1.0, 1.0], [10.635895873327762, 9.364104126672236], [0.531794793666388, 0.46820520633361185], 0.0, 'No Risk'], ['no_checking', 40, 'outstanding_credit', 'radio_tv', 7075, 'greater_1000', 'greater_7', 5, 'male', 'guarantor', 5, 'car_other', 65, 'none', 'free', 3, 'skilled', 1, 'yes', 'yes', 0.0, 2.0, 2.0, 3.0, 0.0, 2.0, 0.0, 0.0, 3.0, 2.0, 1.0, 0.0, 1.0, [0.0, 2.0, 3.0, 3.0, 2.0, 0.0, 2.0, 1.0, 0.0, 2.0, 0.0, 1.0, 0.0, 40.0, 7075.0, 5.0, 5.0, 40.0, 65.0, 3.0, 1.0], [2.3555293121915346, 17.644470687808465], [0.11777646560957673, 0.8822235343904232], 1.0, 'Risk'], ['no_checking', 31, 'prior_payments_delayed', 'retraining', 8328, '100_to_500', 'greater_7', 4, 'male', 'none', 3, 'unknown', 45, 'none', 'free', 2, 'skilled', 1, 'yes', 'yes', 0.0, 0.0, 2.0, 1.0, 0.0, 2.0, 0.0, 0.0, 8.0, 0.0, 3.0, 0.0, 1.0, [0.0, 0.0, 8.0, 1.0, 2.0, 0.0, 0.0, 3.0, 0.0, 2.0, 0.0, 1.0, 0.0, 31.0, 8328.0, 4.0, 3.0, 31.0, 45.0, 2.0, 1.0], [5.453463173757136, 14.546536826242866], [0.2726731586878568, 0.7273268413121433], 1.0, 'Risk'], ['0_to_200', 6, 'prior_payments_delayed', 'car_new', 1232, '500_to_1000', '1_to_4', 3, 'male', 'none', 4, 'savings_insurance', 37, 'stores', 'own', 2, 'unskilled', 1, 'yes', 'yes', 2.0, 0.0, 0.0, 2.0, 0.0, 0.0, 1.0, 1.0, 0.0, 0.0, 0.0, 0.0, 1.0, [2.0, 0.0, 0.0, 2.0, 0.0, 0.0, 0.0, 0.0, 1.0, 0.0, 1.0, 1.0, 0.0, 6.0, 1232.0, 3.0, 4.0, 6.0, 37.0, 2.0, 1.0], [14.958504826201796, 5.041495173798202], [0.7479252413100899, 0.2520747586899101], 0.0, 'No Risk'], ['greater_200', 24, 'prior_payments_delayed', 'car_used', 3234, '100_to_500', 'greater_7', 4, 'male', 'none', 4, 'car_other', 52, 'none', 'own', 2, 'skilled', 1, 'yes', 'yes', 3.0, 0.0, 2.0, 1.0, 0.0, 0.0, 0.0, 0.0, 2.0, 0.0, 1.0, 0.0, 1.0, [3.0, 0.0, 2.0, 1.0, 2.0, 0.0, 0.0, 1.0, 0.0, 0.0, 0.0, 1.0, 0.0, 24.0, 3234.0, 4.0, 4.0, 24.0, 52.0, 2.0, 1.0], [9.717792563251406, 10.282207436748592], [0.4858896281625703, 0.5141103718374296], 1.0, 'Risk'], ['less_0', 9, 'all_credits_paid_back', 'car_used', 250, '100_to_500', 'less_1', 2, 'female', 'none', 1, 'savings_insurance', 29, 'none', 'rent', 2, 'skilled', 1, 'none', 'yes', 1.0, 3.0, 3.0, 1.0, 0.0, 1.0, 0.0, 0.0, 2.0, 0.0, 0.0, 1.0, 0.0, [1.0, 3.0, 2.0, 1.0, 3.0, 1.0, 0.0, 0.0, 0.0, 1.0, 0.0, 0.0, 0.0, 9.0, 250.0, 2.0, 1.0, 9.0, 29.0, 2.0, 1.0], [18.238265593995, 1.7617344060049966], [0.9119132796997501, 0.08808672030024985], 0.0, 'No Risk'], ['less_0', 19, 'credits_paid_to_date', 'furniture', 250, 'less_100', '1_to_4', 3, 'female', 'none', 1, 'savings_insurance', 19, 'none', 'rent', 1, 'skilled', 1, 'none', 'yes', 1.0, 1.0, 0.0, 0.0, 0.0, 1.0, 0.0, 0.0, 1.0, 0.0, 0.0, 1.0, 0.0, [1.0, 1.0, 1.0, 0.0, 0.0, 1.0, 0.0, 0.0, 0.0, 1.0, 0.0, 0.0, 0.0, 19.0, 250.0, 3.0, 1.0, 19.0, 19.0, 1.0, 1.0], [17.454647882003783, 2.5453521179962166], [0.8727323941001892, 0.12726760589981084], 0.0, 'No Risk'], ['less_0', 4, 'all_credits_paid_back', 'car_new', 250, 'less_100', '1_to_4', 2, 'male', 'none', 1, 'real_estate', 19, 'stores', 'rent', 1, 'skilled', 1, 'none', 'yes', 1.0, 3.0, 0.0, 0.0, 0.0, 1.0, 1.0, 0.0, 0.0, 0.0, 2.0, 0.0, 0.0, [1.0, 3.0, 0.0, 0.0, 0.0, 0.0, 0.0, 2.0, 1.0, 1.0, 0.0, 0.0, 0.0, 4.0, 250.0, 2.0, 1.0, 4.0, 19.0, 1.0, 1.0], [19.439313266537734, 0.5606867334622668], [0.9719656633268867, 0.028034336673113343], 0.0, 'No Risk'], ['0_to_200', 35, 'credits_paid_to_date', 'furniture', 4757, 'less_100', '1_to_4', 3, 'male', 'none', 3, 'car_other', 34, 'none', 'free', 2, 'skilled', 1, 'yes', 'yes', 2.0, 1.0, 0.0, 0.0, 0.0, 2.0, 0.0, 0.0, 1.0, 0.0, 1.0, 0.0, 1.0, [2.0, 1.0, 1.0, 0.0, 0.0, 0.0, 0.0, 1.0, 0.0, 2.0, 0.0, 1.0, 0.0, 35.0, 4757.0, 3.0, 3.0, 35.0, 34.0, 2.0, 1.0], [12.431201429755316, 7.568798570244685], [0.6215600714877658, 0.3784399285122343], 0.0, 'No Risk'], ['no_checking', 29, 'prior_payments_delayed', 'education', 4451, '500_to_1000', '4_to_7', 3, 'male', 'none', 2, 'savings_insurance', 26, 'none', 'own', 1, 'skilled', 2, 'none', 'yes', 0.0, 0.0, 1.0, 2.0, 0.0, 0.0, 0.0, 0.0, 7.0, 0.0, 0.0, 0.0, 0.0, [21, [2, 3, 4, 13, 14, 15, 16, 17, 18, 19, 20], [7.0, 2.0, 1.0, 29.0, 4451.0, 3.0, 2.0, 29.0, 26.0, 1.0, 2.0]], [12.573207372236412, 7.426792627763588], [0.6286603686118206, 0.3713396313881794], 0.0, 'No Risk'], ['0_to_200', 18, 'credits_paid_to_date', 'retraining', 2465, 'less_100', '4_to_7', 3, 'male', 'none', 2, 'savings_insurance', 40, 'none', 'free', 2, 'skilled', 1, 'yes', 'yes', 2.0, 1.0, 1.0, 0.0, 0.0, 2.0, 0.0, 0.0, 8.0, 0.0, 0.0, 0.0, 1.0, [2.0, 1.0, 8.0, 0.0, 1.0, 0.0, 0.0, 0.0, 0.0, 2.0, 0.0, 1.0, 0.0, 18.0, 2465.0, 3.0, 2.0, 18.0, 40.0, 2.0, 1.0], [14.532284991187502, 5.467715008812495], [0.7266142495593753, 0.2733857504406248], 0.0, 'No Risk'], ['less_0', 20, 'credits_paid_to_date', 'car_used', 398, '100_to_500', '4_to_7', 2, 'male', 'co-applicant', 3, 'savings_insurance', 28, 'stores', 'own', 1, 'unskilled', 1, 'yes', 'yes', 1.0, 1.0, 1.0, 1.0, 0.0, 0.0, 1.0, 1.0, 2.0, 1.0, 0.0, 0.0, 1.0, [1.0, 1.0, 2.0, 1.0, 1.0, 0.0, 1.0, 0.0, 1.0, 0.0, 1.0, 1.0, 0.0, 20.0, 398.0, 2.0, 3.0, 20.0, 28.0, 1.0, 1.0], [16.066553286479063, 3.933446713520933], [0.8033276643239533, 0.1966723356760467], 0.0, 'No Risk'], ['0_to_200', 22, 'outstanding_credit', 'radio_tv', 2506, 'greater_1000', 'greater_7', 4, 'male', 'none', 2, 'car_other', 41, 'none', 'free', 2, 'skilled', 1, 'yes', 'yes', 2.0, 2.0, 2.0, 3.0, 0.0, 2.0, 0.0, 0.0, 3.0, 0.0, 1.0, 0.0, 1.0, [2.0, 2.0, 3.0, 3.0, 2.0, 0.0, 0.0, 1.0, 0.0, 2.0, 0.0, 1.0, 0.0, 22.0, 2506.0, 4.0, 2.0, 22.0, 41.0, 2.0, 1.0], [12.405969098658067, 7.5940309013419345], [0.6202984549329034, 0.37970154506709675], 0.0, 'No Risk'], ['no_checking', 27, 'prior_payments_delayed', 'appliances', 8087, '500_to_1000', '1_to_4', 4, 'male', 'none', 4, 'savings_insurance', 42, 'none', 'own', 2, 'management_self-employed', 1, 'none', 'yes', 0.0, 0.0, 0.0, 2.0, 0.0, 0.0, 0.0, 2.0, 4.0, 0.0, 0.0, 0.0, 0.0, [21, [2, 3, 10, 13, 14, 15, 16, 17, 18, 19, 20], [4.0, 2.0, 2.0, 27.0, 8087.0, 4.0, 4.0, 27.0, 42.0, 2.0, 1.0]], [12.73939869902586, 7.260601300974136], [0.6369699349512932, 0.36303006504870683], 0.0, 'No Risk'], ['less_0', 21, 'prior_payments_delayed', 'radio_tv', 3302, 'less_100', 'greater_7', 3, 'female', 'none', 2, 'savings_insurance', 28, 'stores', 'own', 1, 'skilled', 1, 'none', 'yes', 1.0, 0.0, 2.0, 0.0, 0.0, 0.0, 1.0, 0.0, 3.0, 0.0, 0.0, 1.0, 0.0, [1.0, 0.0, 3.0, 0.0, 2.0, 1.0, 0.0, 0.0, 1.0, 0.0, 0.0, 0.0, 0.0, 21.0, 3302.0, 3.0, 2.0, 21.0, 28.0, 1.0, 1.0], [16.476096918115356, 3.5239030818846437], [0.8238048459057679, 0.1761951540942322], 0.0, 'No Risk'], ['0_to_200', 27, 'credits_paid_to_date', 'education', 4924, '100_to_500', '4_to_7', 2, 'male', 'none', 3, 'car_other', 30, 'none', 'own', 1, 'skilled', 1, 'none', 'yes', 2.0, 1.0, 1.0, 1.0, 0.0, 0.0, 0.0, 0.0, 7.0, 0.0, 1.0, 0.0, 0.0, [2.0, 1.0, 7.0, 1.0, 1.0, 0.0, 0.0, 1.0, 0.0, 0.0, 0.0, 0.0, 0.0, 27.0, 4924.0, 2.0, 3.0, 27.0, 30.0, 1.0, 1.0], [12.910062831002074, 7.089937168997925], [0.6455031415501037, 0.35449685844989626], 0.0, 'No Risk'], ['0_to_200', 19, 'credits_paid_to_date', 'car_used', 5444, '500_to_1000', '1_to_4', 3, 'male', 'none', 2, 'car_other', 40, 'none', 'own', 2, 'skilled', 1, 'yes', 'yes', 2.0, 1.0, 0.0, 2.0, 0.0, 0.0, 0.0, 0.0, 2.0, 0.0, 1.0, 0.0, 1.0, [2.0, 1.0, 2.0, 2.0, 0.0, 0.0, 0.0, 1.0, 0.0, 0.0, 0.0, 1.0, 0.0, 19.0, 5444.0, 3.0, 2.0, 19.0, 40.0, 2.0, 1.0], [13.346581583444422, 6.653418416555574], [0.6673290791722212, 0.33267092082777877], 0.0, 'No Risk'], ['0_to_200', 14, 'prior_payments_delayed', 'repairs', 5740, '100_to_500', 'greater_7', 4, 'female', 'none', 2, 'unknown', 47, 'none', 'free', 2, 'skilled', 1, 'yes', 'yes', 2.0, 0.0, 2.0, 1.0, 0.0, 2.0, 0.0, 0.0, 5.0, 0.0, 3.0, 1.0, 1.0, [2.0, 0.0, 5.0, 1.0, 2.0, 1.0, 0.0, 3.0, 0.0, 2.0, 0.0, 1.0, 0.0, 14.0, 5740.0, 4.0, 2.0, 14.0, 47.0, 2.0, 1.0], [10.52165543690502, 9.478344563094979], [0.526082771845251, 0.4739172281547489], 0.0, 'No Risk'], ['less_0', 4, 'all_credits_paid_back', 'car_used', 250, 'less_100', '1_to_4', 1, 'male', 'none', 1, 'real_estate', 35, 'bank', 'rent', 1, 'unskilled', 1, 'none', 'yes', 1.0, 3.0, 0.0, 0.0, 0.0, 1.0, 2.0, 1.0, 2.0, 0.0, 2.0, 0.0, 0.0, [1.0, 3.0, 2.0, 0.0, 0.0, 0.0, 0.0, 2.0, 2.0, 1.0, 1.0, 0.0, 0.0, 4.0, 250.0, 1.0, 1.0, 4.0, 35.0, 1.0, 1.0], [18.624150620957312, 1.3758493790426907], [0.9312075310478655, 0.06879246895213452], 0.0, 'No Risk'], ['no_checking', 47, 'outstanding_credit', 'other', 7994, '500_to_1000', 'greater_7', 5, 'male', 'co-applicant', 3, 'car_other', 45, 'none', 'free', 2, 'skilled', 2, 'yes', 'yes', 0.0, 2.0, 2.0, 2.0, 0.0, 2.0, 0.0, 0.0, 10.0, 1.0, 1.0, 0.0, 1.0, [0.0, 2.0, 10.0, 2.0, 2.0, 0.0, 1.0, 1.0, 0.0, 2.0, 0.0, 1.0, 0.0, 47.0, 7994.0, 5.0, 3.0, 47.0, 45.0, 2.0, 2.0], [1.8637708164971054, 18.136229183502895], [0.09318854082485527, 0.9068114591751447], 1.0, 'Risk'], ['less_0', 22, 'credits_paid_to_date', 'car_new', 5001, 'less_100', 'less_1', 3, 'female', 'none', 1, 'savings_insurance', 24, 'none', 'rent', 1, 'skilled', 1, 'none', 'yes', 1.0, 1.0, 3.0, 0.0, 0.0, 1.0, 0.0, 0.0, 0.0, 0.0, 0.0, 1.0, 0.0, [1.0, 1.0, 0.0, 0.0, 3.0, 1.0, 0.0, 0.0, 0.0, 1.0, 0.0, 0.0, 0.0, 22.0, 5001.0, 3.0, 1.0, 22.0, 24.0, 1.0, 1.0], [17.764749084732703, 2.235250915267294], [0.8882374542366352, 0.11176254576336472], 0.0, 'No Risk'], ['less_0', 4, 'all_credits_paid_back', 'car_new', 250, 'less_100', '1_to_4', 2, 'female', 'none', 2, 'real_estate', 19, 'none', 'rent', 1, 'skilled', 1, 'none', 'yes', 1.0, 3.0, 0.0, 0.0, 0.0, 1.0, 0.0, 0.0, 0.0, 0.0, 2.0, 1.0, 0.0, [1.0, 3.0, 0.0, 0.0, 0.0, 1.0, 0.0, 2.0, 0.0, 1.0, 0.0, 0.0, 0.0, 4.0, 250.0, 2.0, 2.0, 4.0, 19.0, 1.0, 1.0], [19.42553959790733, 0.5744604020926737], [0.9712769798953664, 0.02872302010463368], 0.0, 'No Risk'], ['less_0', 13, 'all_credits_paid_back', 'furniture', 250, '500_to_1000', '4_to_7', 2, 'female', 'none', 2, 'savings_insurance', 26, 'stores', 'own', 2, 'skilled', 1, 'none', 'yes', 1.0, 3.0, 1.0, 2.0, 0.0, 0.0, 1.0, 0.0, 1.0, 0.0, 0.0, 1.0, 0.0, [1.0, 3.0, 1.0, 2.0, 1.0, 1.0, 0.0, 0.0, 1.0, 0.0, 0.0, 0.0, 0.0, 13.0, 250.0, 2.0, 2.0, 13.0, 26.0, 2.0, 1.0], [17.795289724352745, 2.204710275647252], [0.8897644862176374, 0.11023551378236263], 0.0, 'No Risk'], ['no_checking', 27, 'prior_payments_delayed', 'appliances', 1813, '100_to_500', '1_to_4', 4, 'male', 'none', 4, 'savings_insurance', 24, 'stores', 'rent', 1, 'unskilled', 1, 'none', 'yes', 0.0, 0.0, 0.0, 1.0, 0.0, 1.0, 1.0, 1.0, 4.0, 0.0, 0.0, 0.0, 0.0, [0.0, 0.0, 4.0, 1.0, 0.0, 0.0, 0.0, 0.0, 1.0, 1.0, 1.0, 0.0, 0.0, 27.0, 1813.0, 4.0, 4.0, 27.0, 24.0, 1.0, 1.0], [13.377039619519394, 6.622960380480607], [0.6688519809759697, 0.33114801902403035], 0.0, 'No Risk'], ['no_checking', 44, 'outstanding_credit', 'education', 8984, 'greater_1000', 'greater_7', 6, 'male', 'co-applicant', 4, 'car_other', 42, 'none', 'free', 2, 'skilled', 2, 'yes', 'yes', 0.0, 2.0, 2.0, 3.0, 0.0, 2.0, 0.0, 0.0, 7.0, 1.0, 1.0, 0.0, 1.0, [0.0, 2.0, 7.0, 3.0, 2.0, 0.0, 1.0, 1.0, 0.0, 2.0, 0.0, 1.0, 0.0, 44.0, 8984.0, 6.0, 4.0, 44.0, 42.0, 2.0, 2.0], [3.069315537667371, 16.93068446233263], [0.15346577688336854, 0.8465342231166314], 1.0, 'Risk'], ['0_to_200', 26, 'credits_paid_to_date', 'car_new', 527, 'less_100', '1_to_4', 2, 'male', 'none', 3, 'real_estate', 19, 'none', 'own', 1, 'skilled', 1, 'none', 'yes', 2.0, 1.0, 0.0, 0.0, 0.0, 0.0, 0.0, 0.0, 0.0, 0.0, 2.0, 0.0, 0.0, [21, [0, 1, 7, 13, 14, 15, 16, 17, 18, 19, 20], [2.0, 1.0, 2.0, 26.0, 527.0, 2.0, 3.0, 26.0, 19.0, 1.0, 1.0]], [16.305329717352897, 3.6946702826470985], [0.815266485867645, 0.18473351413235495], 0.0, 'No Risk'], ['less_0', 7, 'no_credits', 'education', 980, 'less_100', 'unemployed', 1, 'female', 'none', 2, 'savings_insurance', 19, 'none', 'rent', 1, 'skilled', 1, 'none', 'yes', 1.0, 4.0, 4.0, 0.0, 0.0, 1.0, 0.0, 0.0, 7.0, 0.0, 0.0, 1.0, 0.0, [1.0, 4.0, 7.0, 0.0, 4.0, 1.0, 0.0, 0.0, 0.0, 1.0, 0.0, 0.0, 0.0, 7.0, 980.0, 1.0, 2.0, 7.0, 19.0, 1.0, 1.0], [19.270967626678377, 0.7290323733216223], [0.9635483813339188, 0.03645161866608111], 0.0, 'No Risk'], ['less_0', 13, 'all_credits_paid_back', 'radio_tv', 1233, 'less_100', '1_to_4', 2, 'female', 'none', 1, 'savings_insurance', 26, 'none', 'own', 1, 'skilled', 1, 'none', 'yes', 1.0, 3.0, 0.0, 0.0, 0.0, 0.0, 0.0, 0.0, 3.0, 0.0, 0.0, 1.0, 0.0, [21, [0, 1, 2, 5, 13, 14, 15, 16, 17, 18, 19, 20], [1.0, 3.0, 3.0, 1.0, 13.0, 1233.0, 2.0, 1.0, 13.0, 26.0, 1.0, 1.0]], [18.9345593331713, 1.0654406668286998], [0.9467279666585651, 0.05327203334143499], 0.0, 'No Risk'], ['0_to_200', 14, 'credits_paid_to_date', 'car_new', 6018, '500_to_1000', '4_to_7', 4, 'female', 'none', 2, 'savings_insurance', 42, 'none', 'free', 2, 'skilled', 1, 'yes', 'yes', 2.0, 1.0, 1.0, 2.0, 0.0, 2.0, 0.0, 0.0, 0.0, 0.0, 0.0, 1.0, 1.0, [2.0, 1.0, 0.0, 2.0, 1.0, 1.0, 0.0, 0.0, 0.0, 2.0, 0.0, 1.0, 0.0, 14.0, 6018.0, 4.0, 2.0, 14.0, 42.0, 2.0, 1.0], [12.970203103084657, 7.029796896915342], [0.6485101551542328, 0.3514898448457671], 0.0, 'No Risk'], ['less_0', 10, 'prior_payments_delayed', 'furniture', 3553, 'less_100', '1_to_4', 3, 'female', 'none', 1, 'car_other', 33, 'none', 'own', 1, 'skilled', 1, 'none', 'yes', 1.0, 0.0, 0.0, 0.0, 0.0, 0.0, 0.0, 0.0, 1.0, 0.0, 1.0, 1.0, 0.0, [21, [0, 2, 5, 7, 13, 14, 15, 16, 17, 18, 19, 20], [1.0, 1.0, 1.0, 1.0, 10.0, 3553.0, 3.0, 1.0, 10.0, 33.0, 1.0, 1.0]], [16.553509229525574, 3.4464907704744285], [0.8276754614762786, 0.1723245385237214], 0.0, 'No Risk'], ['no_checking', 12, 'credits_paid_to_date', 'car_new', 2073, 'less_100', '4_to_7', 4, 'male', 'none', 4, 'car_other', 30, 'none', 'own', 1, 'skilled', 1, 'yes', 'yes', 0.0, 1.0, 1.0, 0.0, 0.0, 0.0, 0.0, 0.0, 0.0, 0.0, 1.0, 0.0, 1.0, [21, [1, 4, 7, 11, 13, 14, 15, 16, 17, 18, 19, 20], [1.0, 1.0, 1.0, 1.0, 12.0, 2073.0, 4.0, 4.0, 12.0, 30.0, 1.0, 1.0]], [13.418042823996489, 6.58195717600351], [0.6709021411998244, 0.3290978588001755], 0.0, 'No Risk'], ['0_to_200', 29, 'outstanding_credit', 'furniture', 5241, '500_to_1000', '4_to_7', 2, 'male', 'none', 3, 'car_other', 46, 'none', 'own', 2, 'skilled', 1, 'yes', 'yes', 2.0, 2.0, 1.0, 2.0, 0.0, 0.0, 0.0, 0.0, 1.0, 0.0, 1.0, 0.0, 1.0, [2.0, 2.0, 1.0, 2.0, 1.0, 0.0, 0.0, 1.0, 0.0, 0.0, 0.0, 1.0, 0.0, 29.0, 5241.0, 2.0, 3.0, 29.0, 46.0, 2.0, 1.0], [9.462688083630967, 10.537311916369035], [0.47313440418154834, 0.5268655958184517], 1.0, 'Risk'], ['less_0', 29, 'outstanding_credit', 'car_used', 3062, 'greater_1000', '1_to_4', 3, 'male', 'none', 3, 'car_other', 29, 'stores', 'own', 2, 'unskilled', 1, 'yes', 'yes', 1.0, 2.0, 0.0, 3.0, 0.0, 0.0, 1.0, 1.0, 2.0, 0.0, 1.0, 0.0, 1.0, [1.0, 2.0, 2.0, 3.0, 0.0, 0.0, 0.0, 1.0, 1.0, 0.0, 1.0, 1.0, 0.0, 29.0, 3062.0, 3.0, 3.0, 29.0, 29.0, 2.0, 1.0], [14.466790950111426, 5.533209049888573], [0.7233395475055713, 0.2766604524944286], 0.0, 'No Risk'], ['less_0', 10, 'all_credits_paid_back', 'car_new', 836, 'less_100', 'unemployed', 2, 'female', 'none', 3, 'real_estate', 19, 'none', 'rent', 1, 'skilled', 1, 'none', 'yes', 1.0, 3.0, 4.0, 0.0, 0.0, 1.0, 0.0, 0.0, 0.0, 0.0, 2.0, 1.0, 0.0, [1.0, 3.0, 0.0, 0.0, 4.0, 1.0, 0.0, 2.0, 0.0, 1.0, 0.0, 0.0, 0.0, 10.0, 836.0, 2.0, 3.0, 10.0, 19.0, 1.0, 1.0], [19.351874711339214, 0.6481252886607881], [0.9675937355669605, 0.0324062644330394], 0.0, 'No Risk'], ['less_0', 4, 'all_credits_paid_back', 'car_new', 250, 'less_100', 'unemployed', 1, 'male', 'none', 1, 'real_estate', 19, 'stores', 'own', 1, 'skilled', 1, 'none', 'yes', 1.0, 3.0, 4.0, 0.0, 0.0, 0.0, 1.0, 0.0, 0.0, 0.0, 2.0, 0.0, 0.0, [1.0, 3.0, 0.0, 0.0, 4.0, 0.0, 0.0, 2.0, 1.0, 0.0, 0.0, 0.0, 0.0, 4.0, 250.0, 1.0, 1.0, 4.0, 19.0, 1.0, 1.0], [19.511429941255802, 0.4885700587441983], [0.9755714970627901, 0.024428502937209915], 0.0, 'No Risk'], ['0_to_200', 30, 'credits_paid_to_date', 'car_used', 4973, 'less_100', 'less_1', 2, 'male', 'none', 3, 'unknown', 31, 'stores', 'own', 1, 'unskilled', 1, 'yes', 'yes', 2.0, 1.0, 3.0, 0.0, 0.0, 0.0, 1.0, 1.0, 2.0, 0.0, 3.0, 0.0, 1.0, [2.0, 1.0, 2.0, 0.0, 3.0, 0.0, 0.0, 3.0, 1.0, 0.0, 1.0, 1.0, 0.0, 30.0, 4973.0, 2.0, 3.0, 30.0, 31.0, 1.0, 1.0], [13.928809121343416, 6.071190878656584], [0.6964404560671709, 0.3035595439328292], 0.0, 'No Risk'], ['no_checking', 28, 'outstanding_credit', 'appliances', 8398, '500_to_1000', 'greater_7', 5, 'male', 'co-applicant', 3, 'unknown', 53, 'none', 'free', 2, 'skilled', 1, 'yes', 'yes', 0.0, 2.0, 2.0, 2.0, 0.0, 2.0, 0.0, 0.0, 4.0, 1.0, 3.0, 0.0, 1.0, [0.0, 2.0, 4.0, 2.0, 2.0, 0.0, 1.0, 3.0, 0.0, 2.0, 0.0, 1.0, 0.0, 28.0, 8398.0, 5.0, 3.0, 28.0, 53.0, 2.0, 1.0], [1.4104832186087917, 18.58951678139121], [0.07052416093043958, 0.9294758390695604], 1.0, 'Risk'], ['0_to_200', 28, 'outstanding_credit', 'car_used', 4977, '100_to_500', '1_to_4', 4, 'female', 'none', 3, 'car_other', 49, 'none', 'own', 2, 'skilled', 1, 'yes', 'yes', 2.0, 2.0, 0.0, 1.0, 0.0, 0.0, 0.0, 0.0, 2.0, 0.0, 1.0, 1.0, 1.0, [2.0, 2.0, 2.0, 1.0, 0.0, 1.0, 0.0, 1.0, 0.0, 0.0, 0.0, 1.0, 0.0, 28.0, 4977.0, 4.0, 3.0, 28.0, 49.0, 2.0, 1.0], [11.057222229587385, 8.942777770412617], [0.5528611114793692, 0.44713888852063083], 0.0, 'No Risk'], ['less_0', 21, 'credits_paid_to_date', 'furniture', 250, 'less_100', '4_to_7', 3, 'female', 'none', 2, 'savings_insurance', 40, 'stores', 'own', 1, 'skilled', 1, 'none', 'yes', 1.0, 1.0, 1.0, 0.0, 0.0, 0.0, 1.0, 0.0, 1.0, 0.0, 0.0, 1.0, 0.0, [1.0, 1.0, 1.0, 0.0, 1.0, 1.0, 0.0, 0.0, 1.0, 0.0, 0.0, 0.0, 0.0, 21.0, 250.0, 3.0, 2.0, 21.0, 40.0, 1.0, 1.0], [16.275862006557208, 3.724137993442791], [0.8137931003278605, 0.18620689967213955], 0.0, 'No Risk'], ['0_to_200', 25, 'outstanding_credit', 'radio_tv', 7321, '100_to_500', '4_to_7', 4, 'male', 'none', 3, 'unknown', 40, 'bank', 'own', 2, 'unskilled', 1, 'yes', 'yes', 2.0, 2.0, 1.0, 1.0, 0.0, 0.0, 2.0, 1.0, 3.0, 0.0, 3.0, 0.0, 1.0, [2.0, 2.0, 3.0, 1.0, 1.0, 0.0, 0.0, 3.0, 2.0, 0.0, 1.0, 1.0, 0.0, 25.0, 7321.0, 4.0, 3.0, 25.0, 40.0, 2.0, 1.0], [10.61384818780274, 9.386151812197259], [0.530692409390137, 0.46930759060986293], 0.0, 'No Risk'], ['no_checking', 25, 'prior_payments_delayed', 'appliances', 6885, '100_to_500', 'greater_7', 4, 'male', 'co-applicant', 3, 'car_other', 55, 'none', 'free', 2, 'skilled', 1, 'yes', 'yes', 0.0, 0.0, 2.0, 1.0, 0.0, 2.0, 0.0, 0.0, 4.0, 1.0, 1.0, 0.0, 1.0, [0.0, 0.0, 4.0, 1.0, 2.0, 0.0, 1.0, 1.0, 0.0, 2.0, 0.0, 1.0, 0.0, 25.0, 6885.0, 4.0, 3.0, 25.0, 55.0, 2.0, 1.0], [2.327220450512711, 17.672779549487288], [0.11636102252563556, 0.8836389774743644], 1.0, 'Risk'], ['less_0', 9, 'all_credits_paid_back', 'car_used', 3153, '100_to_500', '4_to_7', 3, 'male', 'none', 1, 'car_other', 45, 'none', 'own', 2, 'skilled', 1, 'none', 'yes', 1.0, 3.0, 1.0, 1.0, 0.0, 0.0, 0.0, 0.0, 2.0, 0.0, 1.0, 0.0, 0.0, [1.0, 3.0, 2.0, 1.0, 1.0, 0.0, 0.0, 1.0, 0.0, 0.0, 0.0, 0.0, 0.0, 9.0, 3153.0, 3.0, 1.0, 9.0, 45.0, 2.0, 1.0], [15.417398095325144, 4.582601904674857], [0.7708699047662572, 0.22913009523374286], 0.0, 'No Risk'], ['no_checking', 39, 'outstanding_credit', 'repairs', 7078, 'unknown', 'greater_7', 6, 'male', 'co-applicant', 3, 'car_other', 51, 'none', 'free', 3, 'skilled', 2, 'yes', 'yes', 0.0, 2.0, 2.0, 4.0, 0.0, 2.0, 0.0, 0.0, 5.0, 1.0, 1.0, 0.0, 1.0, [0.0, 2.0, 5.0, 4.0, 2.0, 0.0, 1.0, 1.0, 0.0, 2.0, 0.0, 1.0, 0.0, 39.0, 7078.0, 6.0, 3.0, 39.0, 51.0, 3.0, 2.0], [1.6029738519007521, 18.397026148099247], [0.08014869259503761, 0.9198513074049623], 1.0, 'Risk'], ['0_to_200', 27, 'outstanding_credit', 'vacation', 5599, 'greater_1000', '1_to_4', 3, 'female', 'none', 1, 'car_other', 29, 'stores', 'own', 2, 'unskilled', 1, 'none', 'yes', 2.0, 2.0, 0.0, 3.0, 0.0, 0.0, 1.0, 1.0, 6.0, 0.0, 1.0, 1.0, 0.0, [2.0, 2.0, 6.0, 3.0, 0.0, 1.0, 0.0, 1.0, 1.0, 0.0, 1.0, 0.0, 0.0, 27.0, 5599.0, 3.0, 1.0, 27.0, 29.0, 2.0, 1.0], [14.78967559126009, 5.2103244087399085], [0.7394837795630045, 0.2605162204369954], 0.0, 'No Risk'], ['0_to_200', 14, 'all_credits_paid_back', 'vacation', 2713, 'less_100', '1_to_4', 3, 'female', 'co-applicant', 3, 'real_estate', 41, 'none', 'own', 1, 'skilled', 1, 'none', 'yes', 2.0, 3.0, 0.0, 0.0, 0.0, 0.0, 0.0, 0.0, 6.0, 1.0, 2.0, 1.0, 0.0, [2.0, 3.0, 6.0, 0.0, 0.0, 1.0, 1.0, 2.0, 0.0, 0.0, 0.0, 0.0, 0.0, 14.0, 2713.0, 3.0, 3.0, 14.0, 41.0, 1.0, 1.0], [16.59483960716517, 3.4051603928348277], [0.8297419803582586, 0.17025801964174142], 0.0, 'No Risk'], ['0_to_200', 28, 'credits_paid_to_date', 'furniture', 2308, 'less_100', 'less_1', 3, 'male', 'co-applicant', 3, 'savings_insurance', 32, 'none', 'own', 1, 'skilled', 1, 'none', 'yes', 2.0, 1.0, 3.0, 0.0, 0.0, 0.0, 0.0, 0.0, 1.0, 1.0, 0.0, 0.0, 0.0, [2.0, 1.0, 1.0, 0.0, 3.0, 0.0, 1.0, 0.0, 0.0, 0.0, 0.0, 0.0, 0.0, 28.0, 2308.0, 3.0, 3.0, 28.0, 32.0, 1.0, 1.0], [13.519010896791595, 6.480989103208403], [0.6759505448395797, 0.32404945516042016], 0.0, 'No Risk'], ['less_0', 9, 'all_credits_paid_back', 'furniture', 250, 'less_100', 'less_1', 2, 'male', 'none', 2, 'savings_insurance', 26, 'stores', 'rent', 1, 'skilled', 1, 'none', 'yes', 1.0, 3.0, 3.0, 0.0, 0.0, 1.0, 1.0, 0.0, 1.0, 0.0, 0.0, 0.0, 0.0, [1.0, 3.0, 1.0, 0.0, 3.0, 0.0, 0.0, 0.0, 1.0, 1.0, 0.0, 0.0, 0.0, 9.0, 250.0, 2.0, 2.0, 9.0, 26.0, 1.0, 1.0], [19.224637699089552, 0.7753623009104456], [0.9612318849544778, 0.038768115045522286], 0.0, 'No Risk'], ['less_0', 18, 'credits_paid_to_date', 'retraining', 1172, 'less_100', 'less_1', 1, 'female', 'none', 2, 'savings_insurance', 24, 'stores', 'rent', 1, 'unskilled', 1, 'none', 'yes', 1.0, 1.0, 3.0, 0.0, 0.0, 1.0, 1.0, 1.0, 8.0, 0.0, 0.0, 1.0, 0.0, [1.0, 1.0, 8.0, 0.0, 3.0, 1.0, 0.0, 0.0, 1.0, 1.0, 1.0, 0.0, 0.0, 18.0, 1172.0, 1.0, 2.0, 18.0, 24.0, 1.0, 1.0], [18.147128272787903, 1.8528717272120974], [0.9073564136393951, 0.09264358636060487], 0.0, 'No Risk'], ['0_to_200', 40, 'prior_payments_delayed', 'appliances', 5505, '100_to_500', 'less_1', 3, 'female', 'none', 4, 'savings_insurance', 27, 'stores', 'own', 1, 'unskilled', 1, 'yes', 'yes', 2.0, 0.0, 3.0, 1.0, 0.0, 0.0, 1.0, 1.0, 4.0, 0.0, 0.0, 1.0, 1.0, [2.0, 0.0, 4.0, 1.0, 3.0, 1.0, 0.0, 0.0, 1.0, 0.0, 1.0, 1.0, 0.0, 40.0, 5505.0, 3.0, 4.0, 40.0, 27.0, 1.0, 1.0], [14.378412646259285, 5.621587353740716], [0.7189206323129642, 0.2810793676870358], 0.0, 'No Risk'], ['no_checking', 12, 'credits_paid_to_date', 'furniture', 2039, 'greater_1000', '1_to_4', 2, 'male', 'none', 4, 'savings_insurance', 33, 'none', 'rent', 1, 'management_self-employed', 2, 'none', 'yes', 0.0, 1.0, 0.0, 3.0, 0.0, 1.0, 0.0, 2.0, 1.0, 0.0, 0.0, 0.0, 0.0, [0.0, 1.0, 1.0, 3.0, 0.0, 0.0, 0.0, 0.0, 0.0, 1.0, 2.0, 0.0, 0.0, 12.0, 2039.0, 2.0, 4.0, 12.0, 33.0, 1.0, 2.0], [16.30214583717728, 3.6978541628227175], [0.8151072918588641, 0.18489270814113587], 0.0, 'No Risk'], ['0_to_200', 16, 'credits_paid_to_date', 'repairs', 1659, 'less_100', 'less_1', 1, 'female', 'none', 1, 'car_other', 38, 'stores', 'own', 1, 'skilled', 1, 'none', 'yes', 2.0, 1.0, 3.0, 0.0, 0.0, 0.0, 1.0, 0.0, 5.0, 0.0, 1.0, 1.0, 0.0, [2.0, 1.0, 5.0, 0.0, 3.0, 1.0, 0.0, 1.0, 1.0, 0.0, 0.0, 0.0, 0.0, 16.0, 1659.0, 1.0, 1.0, 16.0, 38.0, 1.0, 1.0], [16.709423071948617, 3.2905769280513826], [0.8354711535974308, 0.16452884640256912], 0.0, 'No Risk'], ['0_to_200', 29, 'outstanding_credit', 'furniture', 2319, 'unknown', 'greater_7', 4, 'male', 'none', 3, 'car_other', 37, 'stores', 'free', 2, 'skilled', 1, 'yes', 'yes', 2.0, 2.0, 2.0, 4.0, 0.0, 2.0, 1.0, 0.0, 1.0, 0.0, 1.0, 0.0, 1.0, [2.0, 2.0, 1.0, 4.0, 2.0, 0.0, 0.0, 1.0, 1.0, 2.0, 0.0, 1.0, 0.0, 29.0, 2319.0, 4.0, 3.0, 29.0, 37.0, 2.0, 1.0], [11.059556105745003, 8.940443894254999], [0.5529778052872502, 0.44702219471274995], 0.0, 'No Risk'], ['no_checking', 43, 'prior_payments_delayed', 'repairs', 7420, '500_to_1000', 'greater_7', 4, 'male', 'co-applicant', 3, 'car_other', 51, 'none', 'own', 2, 'skilled', 2, 'none', 'yes', 0.0, 0.0, 2.0, 2.0, 0.0, 0.0, 0.0, 0.0, 5.0, 1.0, 1.0, 0.0, 0.0, [0.0, 0.0, 5.0, 2.0, 2.0, 0.0, 1.0, 1.0, 0.0, 0.0, 0.0, 0.0, 0.0, 43.0, 7420.0, 4.0, 3.0, 43.0, 51.0, 2.0, 2.0], [5.559704173185641, 14.44029582681436], [0.27798520865928206, 0.722014791340718], 1.0, 'Risk'], ['no_checking', 26, 'prior_payments_delayed', 'car_used', 3391, '100_to_500', '1_to_4', 4, 'male', 'none', 3, 'car_other', 43, 'none', 'own', 1, 'skilled', 2, 'yes', 'yes', 0.0, 0.0, 0.0, 1.0, 0.0, 0.0, 0.0, 0.0, 2.0, 0.0, 1.0, 0.0, 1.0, [21, [2, 3, 7, 11, 13, 14, 15, 16, 17, 18, 19, 20], [2.0, 1.0, 1.0, 1.0, 26.0, 3391.0, 4.0, 3.0, 26.0, 43.0, 1.0, 2.0]], [12.852440160941573, 7.147559839058428], [0.6426220080470786, 0.3573779919529214], 0.0, 'No Risk'], ['0_to_200', 31, 'credits_paid_to_date', 'education', 2547, 'less_100', '4_to_7', 3, 'female', 'co-applicant', 2, 'real_estate', 40, 'stores', 'own', 1, 'unskilled', 1, 'yes', 'yes', 2.0, 1.0, 1.0, 0.0, 0.0, 0.0, 1.0, 1.0, 7.0, 1.0, 2.0, 1.0, 1.0, [2.0, 1.0, 7.0, 0.0, 1.0, 1.0, 1.0, 2.0, 1.0, 0.0, 1.0, 1.0, 0.0, 31.0, 2547.0, 3.0, 2.0, 31.0, 40.0, 1.0, 1.0], [14.512534848755978, 5.487465151244021], [0.7256267424377989, 0.27437325756220105], 0.0, 'No Risk'], ['no_checking', 32, 'outstanding_credit', 'appliances', 5259, 'unknown', '4_to_7', 4, 'male', 'none', 5, 'car_other', 40, 'none', 'own', 2, 'unskilled', 2, 'yes', 'yes', 0.0, 2.0, 1.0, 4.0, 0.0, 0.0, 0.0, 1.0, 4.0, 0.0, 1.0, 0.0, 1.0, [0.0, 2.0, 4.0, 4.0, 1.0, 0.0, 0.0, 1.0, 0.0, 0.0, 1.0, 1.0, 0.0, 32.0, 5259.0, 4.0, 5.0, 32.0, 40.0, 2.0, 2.0], [9.234719322080577, 10.765280677919423], [0.4617359661040289, 0.5382640338959711], 1.0, 'Risk'], ['0_to_200', 30, 'credits_paid_to_date', 'furniture', 2634, '100_to_500', '4_to_7', 2, 'male', 'guarantor', 3, 'car_other', 48, 'stores', 'free', 1, 'unskilled', 1, 'yes', 'yes', 2.0, 1.0, 1.0, 1.0, 0.0, 2.0, 1.0, 1.0, 1.0, 2.0, 1.0, 0.0, 1.0, [2.0, 1.0, 1.0, 1.0, 1.0, 0.0, 2.0, 1.0, 1.0, 2.0, 1.0, 1.0, 0.0, 30.0, 2634.0, 2.0, 3.0, 30.0, 48.0, 1.0, 1.0], [9.789302285175195, 10.210697714824805], [0.4894651142587597, 0.5105348857412403], 1.0, 'Risk'], ['no_checking', 30, 'prior_payments_delayed', 'other', 8887, '100_to_500', 'greater_7', 4, 'male', 'none', 3, 'car_other', 52, 'stores', 'own', 2, 'unskilled', 1, 'yes', 'yes', 0.0, 0.0, 2.0, 1.0, 0.0, 0.0, 1.0, 1.0, 10.0, 0.0, 1.0, 0.0, 1.0, [0.0, 0.0, 10.0, 1.0, 2.0, 0.0, 0.0, 1.0, 1.0, 0.0, 1.0, 1.0, 0.0, 30.0, 8887.0, 4.0, 3.0, 30.0, 52.0, 2.0, 1.0], [7.4395801742428, 12.5604198257572], [0.37197900871214, 0.62802099128786], 1.0, 'Risk'], ['greater_200', 6, 'credits_paid_to_date', 'car_used', 250, 'less_100', 'less_1', 2, 'female', 'none', 2, 'savings_insurance', 37, 'none', 'own', 1, 'skilled', 1, 'yes', 'yes', 3.0, 1.0, 3.0, 0.0, 0.0, 0.0, 0.0, 0.0, 2.0, 0.0, 0.0, 1.0, 1.0, [3.0, 1.0, 2.0, 0.0, 3.0, 1.0, 0.0, 0.0, 0.0, 0.0, 0.0, 1.0, 0.0, 6.0, 250.0, 2.0, 2.0, 6.0, 37.0, 1.0, 1.0], [17.854064214702674, 2.1459357852973246], [0.8927032107351337, 0.10729678926486623], 0.0, 'No Risk'], ['less_0', 4, 'all_credits_paid_back', 'education', 949, 'less_100', 'less_1', 2, 'male', 'none', 1, 'real_estate', 19, 'none', 'rent', 1, 'skilled', 1, 'none', 'yes', 1.0, 3.0, 3.0, 0.0, 0.0, 1.0, 0.0, 0.0, 7.0, 0.0, 2.0, 0.0, 0.0, [1.0, 3.0, 7.0, 0.0, 3.0, 0.0, 0.0, 2.0, 0.0, 1.0, 0.0, 0.0, 0.0, 4.0, 949.0, 2.0, 1.0, 4.0, 19.0, 1.0, 1.0], [19.42485292732495, 0.5751470726750512], [0.9712426463662475, 0.028757353633752557], 0.0, 'No Risk'], ['no_checking', 41, 'outstanding_credit', 'radio_tv', 6248, 'unknown', 'greater_7', 5, 'male', 'co-applicant', 3, 'unknown', 47, 'none', 'free', 2, 'skilled', 2, 'yes', 'yes', 0.0, 2.0, 2.0, 4.0, 0.0, 2.0, 0.0, 0.0, 3.0, 1.0, 3.0, 0.0, 1.0, [0.0, 2.0, 3.0, 4.0, 2.0, 0.0, 1.0, 3.0, 0.0, 2.0, 0.0, 1.0, 0.0, 41.0, 6248.0, 5.0, 3.0, 41.0, 47.0, 2.0, 2.0], [1.4104832186087917, 18.58951678139121], [0.07052416093043958, 0.9294758390695604], 1.0, 'Risk'], ['0_to_200', 18, 'credits_paid_to_date', 'car_new', 250, '100_to_500', 'less_1', 2, 'female', 'none', 2, 'real_estate', 19, 'stores', 'rent', 1, 'skilled', 1, 'none', 'yes', 2.0, 1.0, 3.0, 1.0, 0.0, 1.0, 1.0, 0.0, 0.0, 0.0, 2.0, 1.0, 0.0, [2.0, 1.0, 0.0, 1.0, 3.0, 1.0, 0.0, 2.0, 1.0, 1.0, 0.0, 0.0, 0.0, 18.0, 250.0, 2.0, 2.0, 18.0, 19.0, 1.0, 1.0], [19.05127046646742, 0.9487295335325795], [0.9525635233233711, 0.04743647667662897], 0.0, 'No Risk'], ['0_to_200', 32, 'credits_paid_to_date', 'car_used', 2409, '100_to_500', '1_to_4', 2, 'male', 'none', 1, 'car_other', 34, 'stores', 'own', 2, 'skilled', 1, 'none', 'yes', 2.0, 1.0, 0.0, 1.0, 0.0, 0.0, 1.0, 0.0, 2.0, 0.0, 1.0, 0.0, 0.0, [2.0, 1.0, 2.0, 1.0, 0.0, 0.0, 0.0, 1.0, 1.0, 0.0, 0.0, 0.0, 0.0, 32.0, 2409.0, 2.0, 1.0, 32.0, 34.0, 2.0, 1.0], [14.869006027986796, 5.130993972013203], [0.7434503013993398, 0.2565496986006602], 0.0, 'No Risk'], ['0_to_200', 17, 'all_credits_paid_back', 'vacation', 3351, '100_to_500', 'less_1', 2, 'female', 'none', 2, 'car_other', 36, 'none', 'own', 1, 'skilled', 2, 'yes', 'yes', 2.0, 3.0, 3.0, 1.0, 0.0, 0.0, 0.0, 0.0, 6.0, 0.0, 1.0, 1.0, 1.0, [2.0, 3.0, 6.0, 1.0, 3.0, 1.0, 0.0, 1.0, 0.0, 0.0, 0.0, 1.0, 0.0, 17.0, 3351.0, 2.0, 2.0, 17.0, 36.0, 1.0, 2.0], [17.485645346577627, 2.5143546534223744], [0.8742822673288814, 0.12571773267111871], 0.0, 'No Risk'], ['no_checking', 8, 'credits_paid_to_date', 'car_used', 3483, 'greater_1000', '4_to_7', 3, 'male', 'none', 4, 'savings_insurance', 33, 'none', 'own', 1, 'management_self-employed', 1, 'yes', 'yes', 0.0, 1.0, 1.0, 3.0, 0.0, 0.0, 0.0, 2.0, 2.0, 0.0, 0.0, 0.0, 1.0, [0.0, 1.0, 2.0, 3.0, 1.0, 0.0, 0.0, 0.0, 0.0, 0.0, 2.0, 1.0, 0.0, 8.0, 3483.0, 3.0, 4.0, 8.0, 33.0, 1.0, 1.0], [12.839620928348328, 7.160379071651676], [0.6419810464174163, 0.35801895358258373], 0.0, 'No Risk'], ['less_0', 4, 'credits_paid_to_date', 'car_new', 250, 'less_100', 'less_1', 1, 'female', 'co-applicant', 1, 'real_estate', 28, 'stores', 'rent', 1, 'skilled', 1, 'none', 'yes', 1.0, 1.0, 3.0, 0.0, 0.0, 1.0, 1.0, 0.0, 0.0, 1.0, 2.0, 1.0, 0.0, [1.0, 1.0, 0.0, 0.0, 3.0, 1.0, 1.0, 2.0, 1.0, 1.0, 0.0, 0.0, 0.0, 4.0, 250.0, 1.0, 1.0, 4.0, 28.0, 1.0, 1.0], [19.36740382982772, 0.6325961701722858], [0.9683701914913858, 0.031629808508614285], 0.0, 'No Risk'], ['greater_200', 33, 'prior_payments_delayed', 'furniture', 6637, '100_to_500', '1_to_4', 3, 'male', 'none', 4, 'savings_insurance', 41, 'none', 'own', 2, 'management_self-employed', 1, 'yes', 'yes', 3.0, 0.0, 0.0, 1.0, 0.0, 0.0, 0.0, 2.0, 1.0, 0.0, 0.0, 0.0, 1.0, [3.0, 0.0, 1.0, 1.0, 0.0, 0.0, 0.0, 0.0, 0.0, 0.0, 2.0, 1.0, 0.0, 33.0, 6637.0, 3.0, 4.0, 33.0, 41.0, 2.0, 1.0], [11.931894832025563, 8.068105167974439], [0.5965947416012781, 0.40340525839872193], 0.0, 'No Risk'], ['greater_200', 31, 'prior_payments_delayed', 'business', 3479, '500_to_1000', '1_to_4', 3, 'male', 'none', 3, 'savings_insurance', 24, 'none', 'own', 1, 'skilled', 1, 'yes', 'yes', 3.0, 0.0, 0.0, 2.0, 0.0, 0.0, 0.0, 0.0, 9.0, 0.0, 0.0, 0.0, 1.0, [21, [0, 2, 3, 11, 13, 14, 15, 16, 17, 18, 19, 20], [3.0, 9.0, 2.0, 1.0, 31.0, 3479.0, 3.0, 3.0, 31.0, 24.0, 1.0, 1.0]], [15.225589675517051, 4.774410324482948], [0.7612794837758525, 0.2387205162241474], 0.0, 'No Risk'], ['no_checking', 33, 'prior_payments_delayed', 'furniture', 5003, '500_to_1000', '4_to_7', 4, 'male', 'none', 5, 'unknown', 36, 'none', 'free', 2, 'skilled', 1, 'yes', 'yes', 0.0, 0.0, 1.0, 2.0, 0.0, 2.0, 0.0, 0.0, 1.0, 0.0, 3.0, 0.0, 1.0, [0.0, 0.0, 1.0, 2.0, 1.0, 0.0, 0.0, 3.0, 0.0, 2.0, 0.0, 1.0, 0.0, 33.0, 5003.0, 4.0, 5.0, 33.0, 36.0, 2.0, 1.0], [7.752546675899509, 12.24745332410049], [0.3876273337949755, 0.6123726662050245], 1.0, 'Risk'], ['less_0', 5, 'prior_payments_delayed', 'car_used', 250, 'less_100', '1_to_4', 2, 'female', 'none', 2, 'real_estate', 22, 'stores', 'rent', 1, 'skilled', 1, 'none', 'yes', 1.0, 0.0, 0.0, 0.0, 0.0, 1.0, 1.0, 0.0, 2.0, 0.0, 2.0, 1.0, 0.0, [1.0, 0.0, 2.0, 0.0, 0.0, 1.0, 0.0, 2.0, 1.0, 1.0, 0.0, 0.0, 0.0, 5.0, 250.0, 2.0, 2.0, 5.0, 22.0, 1.0, 1.0], [19.262375402417035, 0.7376245975829718], [0.9631187701208515, 0.03688122987914858], 0.0, 'No Risk'], ['0_to_200', 25, 'credits_paid_to_date', 'car_new', 250, '100_to_500', '4_to_7', 2, 'male', 'none', 3, 'real_estate', 23, 'stores', 'own', 1, 'skilled', 1, 'none', 'yes', 2.0, 1.0, 1.0, 1.0, 0.0, 0.0, 1.0, 0.0, 0.0, 0.0, 2.0, 0.0, 0.0, [2.0, 1.0, 0.0, 1.0, 1.0, 0.0, 0.0, 2.0, 1.0, 0.0, 0.0, 0.0, 0.0, 25.0, 250.0, 2.0, 3.0, 25.0, 23.0, 1.0, 1.0], [16.232796394367995, 3.7672036056320044], [0.8116398197183997, 0.18836018028160023], 0.0, 'No Risk'], ['no_checking', 25, 'prior_payments_delayed', 'radio_tv', 1553, '100_to_500', '4_to_7', 4, 'male', 'none', 4, 'savings_insurance', 26, 'stores', 'own', 1, 'unskilled', 1, 'none', 'no', 0.0, 0.0, 1.0, 1.0, 1.0, 0.0, 1.0, 1.0, 3.0, 0.0, 0.0, 0.0, 0.0, [0.0, 0.0, 3.0, 1.0, 1.0, 0.0, 0.0, 0.0, 1.0, 0.0, 1.0, 0.0, 1.0, 25.0, 1553.0, 4.0, 4.0, 25.0, 26.0, 1.0, 1.0], [13.752194462066612, 6.247805537933391], [0.6876097231033305, 0.3123902768966695], 0.0, 'No Risk'], ['less_0', 4, 'all_credits_paid_back', 'car_new', 250, 'less_100', 'unemployed', 1, 'female', 'none', 2, 'real_estate', 24, 'bank', 'rent', 1, 'unskilled', 1, 'none', 'yes', 1.0, 3.0, 4.0, 0.0, 0.0, 1.0, 2.0, 1.0, 0.0, 0.0, 2.0, 1.0, 0.0, [1.0, 3.0, 0.0, 0.0, 4.0, 1.0, 0.0, 2.0, 2.0, 1.0, 1.0, 0.0, 0.0, 4.0, 250.0, 1.0, 2.0, 4.0, 24.0, 1.0, 1.0], [19.497656272625395, 0.5023437273746052], [0.9748828136312697, 0.02511718636873026], 0.0, 'No Risk'], ['no_checking', 20, 'credits_paid_to_date', 'retraining', 5941, 'less_100', 'less_1', 3, 'male', 'none', 3, 'savings_insurance', 33, 'none', 'own', 1, 'management_self-employed', 1, 'none', 'yes', 0.0, 1.0, 3.0, 0.0, 0.0, 0.0, 0.0, 2.0, 8.0, 0.0, 0.0, 0.0, 0.0, [21, [1, 2, 4, 10, 13, 14, 15, 16, 17, 18, 19, 20], [1.0, 8.0, 3.0, 2.0, 20.0, 5941.0, 3.0, 3.0, 20.0, 33.0, 1.0, 1.0]], [16.342919633870988, 3.6570803661290086], [0.8171459816935496, 0.18285401830645046], 0.0, 'No Risk'], ['0_to_200', 4, 'prior_payments_delayed', 'car_new', 250, '100_to_500', '1_to_4', 2, 'male', 'none', 2, 'real_estate', 35, 'none', 'own', 1, 'skilled', 1, 'none', 'yes', 2.0, 0.0, 0.0, 1.0, 0.0, 0.0, 0.0, 0.0, 0.0, 0.0, 2.0, 0.0, 0.0, [21, [0, 3, 7, 13, 14, 15, 16, 17, 18, 19, 20], [2.0, 1.0, 2.0, 4.0, 250.0, 2.0, 2.0, 4.0, 35.0, 1.0, 1.0]], [18.633471513871523, 1.3665284861284783], [0.9316735756935761, 0.06832642430642391], 0.0, 'No Risk'], ['0_to_200', 10, 'credits_paid_to_date', 'car_new', 250, 'less_100', '4_to_7', 3, 'female', 'co-applicant', 3, 'savings_insurance', 49, 'none', 'own', 1, 'skilled', 1, 'none', 'yes', 2.0, 1.0, 1.0, 0.0, 0.0, 0.0, 0.0, 0.0, 0.0, 1.0, 0.0, 1.0, 0.0, [2.0, 1.0, 0.0, 0.0, 1.0, 1.0, 1.0, 0.0, 0.0, 0.0, 0.0, 0.0, 0.0, 10.0, 250.0, 3.0, 3.0, 10.0, 49.0, 1.0, 1.0], [15.367374922709486, 4.6326250772905135], [0.7683687461354742, 0.23163125386452568], 0.0, 'No Risk'], ['no_checking', 37, 'outstanding_credit', 'radio_tv', 8479, 'unknown', 'greater_7', 5, 'male', 'co-applicant', 4, 'unknown', 54, 'none', 'free', 2, 'skilled', 2, 'yes', 'yes', 0.0, 2.0, 2.0, 4.0, 0.0, 2.0, 0.0, 0.0, 3.0, 1.0, 3.0, 0.0, 1.0, [0.0, 2.0, 3.0, 4.0, 2.0, 0.0, 1.0, 3.0, 0.0, 2.0, 0.0, 1.0, 0.0, 37.0, 8479.0, 5.0, 4.0, 37.0, 54.0, 2.0, 2.0], [1.4104832186087917, 18.58951678139121], [0.07052416093043958, 0.9294758390695604], 1.0, 'Risk'], ['0_to_200', 24, 'credits_paid_to_date', 'furniture', 3198, 'less_100', '4_to_7', 3, 'male', 'none', 3, 'savings_insurance', 35, 'none', 'own', 2, 'skilled', 1, 'none', 'yes', 2.0, 1.0, 1.0, 0.0, 0.0, 0.0, 0.0, 0.0, 1.0, 0.0, 0.0, 0.0, 0.0, [21, [0, 1, 2, 4, 13, 14, 15, 16, 17, 18, 19, 20], [2.0, 1.0, 1.0, 1.0, 24.0, 3198.0, 3.0, 3.0, 24.0, 35.0, 2.0, 1.0]], [13.5213050329061, 6.478694967093897], [0.6760652516453051, 0.3239347483546949], 0.0, 'No Risk'], ['less_0', 12, 'all_credits_paid_back', 'furniture', 889, 'less_100', 'less_1', 2, 'female', 'none', 1, 'savings_insurance', 21, 'none', 'own', 1, 'skilled', 1, 'none', 'yes', 1.0, 3.0, 3.0, 0.0, 0.0, 0.0, 0.0, 0.0, 1.0, 0.0, 0.0, 1.0, 0.0, [1.0, 3.0, 1.0, 0.0, 3.0, 1.0, 0.0, 0.0, 0.0, 0.0, 0.0, 0.0, 0.0, 12.0, 889.0, 2.0, 1.0, 12.0, 21.0, 1.0, 1.0], [19.180027566068556, 0.8199724339314429], [0.9590013783034278, 0.040998621696572146], 0.0, 'No Risk'], ['no_checking', 31, 'outstanding_credit', 'other', 6817, 'unknown', 'greater_7', 5, 'male', 'none', 5, 'car_other', 47, 'stores', 'rent', 2, 'unskilled', 2, 'yes', 'yes', 0.0, 2.0, 2.0, 4.0, 0.0, 1.0, 1.0, 1.0, 10.0, 0.0, 1.0, 0.0, 1.0, [0.0, 2.0, 10.0, 4.0, 2.0, 0.0, 0.0, 1.0, 1.0, 1.0, 1.0, 1.0, 0.0, 31.0, 6817.0, 5.0, 5.0, 31.0, 47.0, 2.0, 2.0], [6.9692714357065455, 13.030728564293454], [0.3484635717853273, 0.6515364282146727], 1.0, 'Risk'], ['less_0', 16, 'credits_paid_to_date', 'furniture', 265, 'less_100', '1_to_4', 3, 'female', 'none', 1, 'savings_insurance', 30, 'stores', 'own', 1, 'skilled', 1, 'none', 'yes', 1.0, 1.0, 0.0, 0.0, 0.0, 0.0, 1.0, 0.0, 1.0, 0.0, 0.0, 1.0, 0.0, [1.0, 1.0, 1.0, 0.0, 0.0, 1.0, 0.0, 0.0, 1.0, 0.0, 0.0, 0.0, 0.0, 16.0, 265.0, 3.0, 1.0, 16.0, 30.0, 1.0, 1.0], [17.92959685648417, 2.0704031435158314], [0.8964798428242083, 0.10352015717579155], 0.0, 'No Risk'], ['less_0', 17, 'all_credits_paid_back', 'car_new', 914, '100_to_500', 'less_1', 1, 'male', 'none', 3, 'car_other', 29, 'stores', 'rent', 2, 'skilled', 1, 'none', 'yes', 1.0, 3.0, 3.0, 1.0, 0.0, 1.0, 1.0, 0.0, 0.0, 0.0, 1.0, 0.0, 0.0, [1.0, 3.0, 0.0, 1.0, 3.0, 0.0, 0.0, 1.0, 1.0, 1.0, 0.0, 0.0, 0.0, 17.0, 914.0, 1.0, 3.0, 17.0, 29.0, 2.0, 1.0], [17.536717366458667, 2.463282633541328], [0.8768358683229335, 0.12316413167706641], 0.0, 'No Risk'], ['no_checking', 36, 'outstanding_credit', 'radio_tv', 5646, 'unknown', '4_to_7', 3, 'male', 'co-applicant', 4, 'unknown', 52, 'none', 'own', 2, 'skilled', 2, 'none', 'yes', 0.0, 2.0, 1.0, 4.0, 0.0, 0.0, 0.0, 0.0, 3.0, 1.0, 3.0, 0.0, 0.0, [0.0, 2.0, 3.0, 4.0, 1.0, 0.0, 1.0, 3.0, 0.0, 0.0, 0.0, 0.0, 0.0, 36.0, 5646.0, 3.0, 4.0, 36.0, 52.0, 2.0, 2.0], [6.380948425554131, 13.619051574445871], [0.3190474212777065, 0.6809525787222935], 1.0, 'Risk'], ['less_0', 11, 'all_credits_paid_back', 'car_new', 760, '100_to_500', '1_to_4', 1, 'female', 'none', 2, 'car_other', 19, 'bank', 'rent', 1, 'unemployed', 1, 'none', 'yes', 1.0, 3.0, 0.0, 1.0, 0.0, 1.0, 2.0, 3.0, 0.0, 0.0, 1.0, 1.0, 0.0, [1.0, 3.0, 0.0, 1.0, 0.0, 1.0, 0.0, 1.0, 2.0, 1.0, 3.0, 0.0, 0.0, 11.0, 760.0, 1.0, 2.0, 11.0, 19.0, 1.0, 1.0], [18.21986417077538, 1.7801358292246194], [0.9109932085387691, 0.08900679146123097], 0.0, 'No Risk'], ['greater_200', 16, 'credits_paid_to_date', 'furniture', 4105, 'less_100', '1_to_4', 3, 'male', 'none', 2, 'real_estate', 25, 'none', 'own', 1, 'management_self-employed', 1, 'none', 'yes', 3.0, 1.0, 0.0, 0.0, 0.0, 0.0, 0.0, 2.0, 1.0, 0.0, 2.0, 0.0, 0.0, [3.0, 1.0, 1.0, 0.0, 0.0, 0.0, 0.0, 2.0, 0.0, 0.0, 2.0, 0.0, 0.0, 16.0, 4105.0, 3.0, 2.0, 16.0, 25.0, 1.0, 1.0], [18.195686490724853, 1.8043135092751479], [0.9097843245362427, 0.09021567546375739], 0.0, 'No Risk'], ['0_to_200', 19, 'all_credits_paid_back', 'car_new', 4062, '500_to_1000', '1_to_4', 2, 'male', 'co-applicant', 3, 'car_other', 52, 'stores', 'own', 1, 'unskilled', 1, 'yes', 'yes', 2.0, 3.0, 0.0, 2.0, 0.0, 0.0, 1.0, 1.0, 0.0, 1.0, 1.0, 0.0, 1.0, [2.0, 3.0, 0.0, 2.0, 0.0, 0.0, 1.0, 1.0, 1.0, 0.0, 1.0, 1.0, 0.0, 19.0, 4062.0, 2.0, 3.0, 19.0, 52.0, 1.0, 1.0], [13.533482418722372, 6.4665175812776265], [0.6766741209361186, 0.3233258790638813], 0.0, 'No Risk'], ['no_checking', 34, 'prior_payments_delayed', 'radio_tv', 9704, '100_to_500', '4_to_7', 5, 'male', 'co-applicant', 3, 'car_other', 39, 'none', 'free', 2, 'management_self-employed', 1, 'none', 'yes', 0.0, 0.0, 1.0, 1.0, 0.0, 2.0, 0.0, 2.0, 3.0, 1.0, 1.0, 0.0, 0.0, [0.0, 0.0, 3.0, 1.0, 1.0, 0.0, 1.0, 1.0, 0.0, 2.0, 2.0, 0.0, 0.0, 34.0, 9704.0, 5.0, 3.0, 34.0, 39.0, 2.0, 1.0], [6.82584259800409, 13.174157401995906], [0.3412921299002046, 0.6587078700997954], 1.0, 'Risk'], ['no_checking', 18, 'outstanding_credit', 'radio_tv', 6087, 'unknown', 'greater_7', 3, 'male', 'co-applicant', 3, 'unknown', 53, 'none', 'own', 2, 'skilled', 1, 'yes', 'yes', 0.0, 2.0, 2.0, 4.0, 0.0, 0.0, 0.0, 0.0, 3.0, 1.0, 3.0, 0.0, 1.0, [0.0, 2.0, 3.0, 4.0, 2.0, 0.0, 1.0, 3.0, 0.0, 0.0, 0.0, 1.0, 0.0, 18.0, 6087.0, 3.0, 3.0, 18.0, 53.0, 2.0, 1.0], [6.274114495659228, 13.72588550434077], [0.31370572478296144, 0.6862942752170385], 1.0, 'Risk'], ['no_checking', 17, 'outstanding_credit', 'car_used', 2166, '500_to_1000', '4_to_7', 3, 'male', 'none', 4, 'car_other', 48, 'stores', 'rent', 2, 'unskilled', 1, 'yes', 'yes', 0.0, 2.0, 1.0, 2.0, 0.0, 1.0, 1.0, 1.0, 2.0, 0.0, 1.0, 0.0, 1.0, [0.0, 2.0, 2.0, 2.0, 1.0, 0.0, 0.0, 1.0, 1.0, 1.0, 1.0, 1.0, 0.0, 17.0, 2166.0, 3.0, 4.0, 17.0, 48.0, 2.0, 1.0], [11.0124853174975, 8.987514682502502], [0.550624265874875, 0.4493757341251251], 0.0, 'No Risk'], ['no_checking', 35, 'outstanding_credit', 'radio_tv', 7271, '500_to_1000', 'greater_7', 5, 'male', 'co-applicant', 5, 'car_other', 40, 'none', 'free', 3, 'skilled', 2, 'yes', 'yes', 0.0, 2.0, 2.0, 2.0, 0.0, 2.0, 0.0, 0.0, 3.0, 1.0, 1.0, 0.0, 1.0, [0.0, 2.0, 3.0, 2.0, 2.0, 0.0, 1.0, 1.0, 0.0, 2.0, 0.0, 1.0, 0.0, 35.0, 7271.0, 5.0, 5.0, 35.0, 40.0, 3.0, 2.0], [3.069315537667371, 16.93068446233263], [0.15346577688336854, 0.8465342231166314], 1.0, 'Risk'], ['less_0', 17, 'credits_paid_to_date', 'furniture', 914, '100_to_500', '1_to_4', 2, 'male', 'none', 1, 'car_other', 30, 'stores', 'own', 1, 'skilled', 1, 'yes', 'yes', 1.0, 1.0, 0.0, 1.0, 0.0, 0.0, 1.0, 0.0, 1.0, 0.0, 1.0, 0.0, 1.0, [1.0, 1.0, 1.0, 1.0, 0.0, 0.0, 0.0, 1.0, 1.0, 0.0, 0.0, 1.0, 0.0, 17.0, 914.0, 2.0, 1.0, 17.0, 30.0, 1.0, 1.0], [16.772928531767263, 3.2270714682327375], [0.8386464265883632, 0.16135357341163686], 0.0, 'No Risk'], ['less_0', 29, 'credits_paid_to_date', 'business', 5302, '100_to_500', '4_to_7', 3, 'male', 'none', 3, 'car_other', 39, 'none', 'rent', 2, 'skilled', 1, 'none', 'yes', 1.0, 1.0, 1.0, 1.0, 0.0, 1.0, 0.0, 0.0, 9.0, 0.0, 1.0, 0.0, 0.0, [1.0, 1.0, 9.0, 1.0, 1.0, 0.0, 0.0, 1.0, 0.0, 1.0, 0.0, 0.0, 0.0, 29.0, 5302.0, 3.0, 3.0, 29.0, 39.0, 2.0, 1.0], [11.437508971266775, 8.562491028733225], [0.5718754485633387, 0.4281245514366613], 0.0, 'No Risk'], ['no_checking', 38, 'prior_payments_delayed', 'repairs', 5121, 'unknown', '4_to_7', 3, 'male', 'none', 3, 'car_other', 51, 'none', 'own', 2, 'skilled', 2, 'yes', 'yes', 0.0, 0.0, 1.0, 4.0, 0.0, 0.0, 0.0, 0.0, 5.0, 0.0, 1.0, 0.0, 1.0, [0.0, 0.0, 5.0, 4.0, 1.0, 0.0, 0.0, 1.0, 0.0, 0.0, 0.0, 1.0, 0.0, 38.0, 5121.0, 3.0, 3.0, 38.0, 51.0, 2.0, 2.0], [7.420727768253591, 12.57927223174641], [0.37103638841267955, 0.6289636115873205], 1.0, 'Risk'], ['0_to_200', 28, 'credits_paid_to_date', 'car_used', 250, '100_to_500', 'unemployed', 2, 'male', 'none', 3, 'savings_insurance', 22, 'none', 'own', 1, 'skilled', 1, 'yes', 'yes', 2.0, 1.0, 4.0, 1.0, 0.0, 0.0, 0.0, 0.0, 2.0, 0.0, 0.0, 0.0, 1.0, [2.0, 1.0, 2.0, 1.0, 4.0, 0.0, 0.0, 0.0, 0.0, 0.0, 0.0, 1.0, 0.0, 28.0, 250.0, 2.0, 3.0, 28.0, 22.0, 1.0, 1.0], [14.296941897070633, 5.703058102929367], [0.7148470948535317, 0.28515290514646835], 0.0, 'No Risk'], ['no_checking', 32, 'prior_payments_delayed', 'appliances', 5636, 'unknown', 'greater_7', 3, 'male', 'none', 3, 'unknown', 49, 'none', 'own', 2, 'skilled', 1, 'yes', 'yes', 0.0, 0.0, 2.0, 4.0, 0.0, 0.0, 0.0, 0.0, 4.0, 0.0, 3.0, 0.0, 1.0, [0.0, 0.0, 4.0, 4.0, 2.0, 0.0, 0.0, 3.0, 0.0, 0.0, 0.0, 1.0, 0.0, 32.0, 5636.0, 3.0, 3.0, 32.0, 49.0, 2.0, 1.0], [4.884778511021753, 15.11522148897825], [0.2442389255510876, 0.7557610744489124], 1.0, 'Risk'], ['no_checking', 41, 'credits_paid_to_date', 'radio_tv', 3287, '500_to_1000', 'greater_7', 3, 'male', 'none', 4, 'car_other', 41, 'none', 'own', 2, 'skilled', 1, 'none', 'yes', 0.0, 1.0, 2.0, 2.0, 0.0, 0.0, 0.0, 0.0, 3.0, 0.0, 1.0, 0.0, 0.0, [0.0, 1.0, 3.0, 2.0, 2.0, 0.0, 0.0, 1.0, 0.0, 0.0, 0.0, 0.0, 0.0, 41.0, 3287.0, 3.0, 4.0, 41.0, 41.0, 2.0, 1.0], [10.110367659929395, 9.889632340070605], [0.5055183829964698, 0.49448161700353027], 0.0, 'No Risk'], ['0_to_200', 27, 'outstanding_credit', 'appliances', 6780, '100_to_500', '4_to_7', 3, 'male', 'none', 4, 'car_other', 28, 'bank', 'own', 1, 'unskilled', 1, 'yes', 'yes', 2.0, 2.0, 1.0, 1.0, 0.0, 0.0, 2.0, 1.0, 4.0, 0.0, 1.0, 0.0, 1.0, [2.0, 2.0, 4.0, 1.0, 1.0, 0.0, 0.0, 1.0, 2.0, 0.0, 1.0, 1.0, 0.0, 27.0, 6780.0, 3.0, 4.0, 27.0, 28.0, 1.0, 1.0], [12.850188718735968, 7.149811281264031], [0.6425094359367984, 0.35749056406320157], 0.0, 'No Risk'], ['less_0', 9, 'all_credits_paid_back', 'car_new', 742, 'less_100', 'less_1', 2, 'male', 'none', 2, 'real_estate', 29, 'none', 'rent', 2, 'skilled', 1, 'none', 'yes', 1.0, 3.0, 3.0, 0.0, 0.0, 1.0, 0.0, 0.0, 0.0, 0.0, 2.0, 0.0, 0.0, [1.0, 3.0, 0.0, 0.0, 3.0, 0.0, 0.0, 2.0, 0.0, 1.0, 0.0, 0.0, 0.0, 9.0, 742.0, 2.0, 2.0, 9.0, 29.0, 2.0, 1.0], [18.594127133078306, 1.405872866921692], [0.9297063566539154, 0.07029364334608461], 0.0, 'No Risk'], ['0_to_200', 29, 'outstanding_credit', 'vacation', 4529, '500_to_1000', 'less_1', 3, 'female', 'none', 2, 'car_other', 51, 'none', 'own', 2, 'skilled', 1, 'none', 'yes', 2.0, 2.0, 3.0, 2.0, 0.0, 0.0, 0.0, 0.0, 6.0, 0.0, 1.0, 1.0, 0.0, [2.0, 2.0, 6.0, 2.0, 3.0, 1.0, 0.0, 1.0, 0.0, 0.0, 0.0, 0.0, 0.0, 29.0, 4529.0, 3.0, 2.0, 29.0, 51.0, 2.0, 1.0], [12.911308871906321, 7.0886911280936795], [0.6455654435953161, 0.35443455640468396], 0.0, 'No Risk'], ['no_checking', 21, 'outstanding_credit', 'education', 7364, 'unknown', '4_to_7', 3, 'male', 'none', 4, 'car_other', 41, 'none', 'own', 3, 'management_self-employed', 2, 'yes', 'yes', 0.0, 2.0, 1.0, 4.0, 0.0, 0.0, 0.0, 2.0, 7.0, 0.0, 1.0, 0.0, 1.0, [0.0, 2.0, 7.0, 4.0, 1.0, 0.0, 0.0, 1.0, 0.0, 0.0, 2.0, 1.0, 0.0, 21.0, 7364.0, 3.0, 4.0, 21.0, 41.0, 3.0, 2.0], [9.06339498058779, 10.93660501941221], [0.45316974902938945, 0.5468302509706106], 1.0, 'Risk'], ['less_0', 6, 'all_credits_paid_back', 'car_new', 250, 'less_100', 'less_1', 1, 'female', 'none', 1, 'savings_insurance', 19, 'bank', 'own', 1, 'unskilled', 1, 'none', 'yes', 1.0, 3.0, 3.0, 0.0, 0.0, 0.0, 2.0, 1.0, 0.0, 0.0, 0.0, 1.0, 0.0, [1.0, 3.0, 0.0, 0.0, 3.0, 1.0, 0.0, 0.0, 2.0, 0.0, 1.0, 0.0, 0.0, 6.0, 250.0, 1.0, 1.0, 6.0, 19.0, 1.0, 1.0], [19.388393559176443, 0.6116064408235572], [0.9694196779588221, 0.03058032204117786], 0.0, 'No Risk'], ['less_0', 8, 'all_credits_paid_back', 'car_new', 529, '100_to_500', '4_to_7', 2, 'male', 'none', 2, 'savings_insurance', 39, 'none', 'own', 2, 'skilled', 1, 'none', 'yes', 1.0, 3.0, 1.0, 1.0, 0.0, 0.0, 0.0, 0.0, 0.0, 0.0, 0.0, 0.0, 0.0, [21, [0, 1, 3, 4, 13, 14, 15, 16, 17, 18, 19, 20], [1.0, 3.0, 1.0, 1.0, 8.0, 529.0, 2.0, 2.0, 8.0, 39.0, 2.0, 1.0]], [15.845942551579155, 4.1540574484208435], [0.7922971275789578, 0.20770287242104218], 0.0, 'No Risk'], ['no_checking', 15, 'credits_paid_to_date', 'furniture', 1234, '100_to_500', '4_to_7', 3, 'female', 'none', 4, 'savings_insurance', 37, 'none', 'rent', 1, 'skilled', 2, 'none', 'yes', 0.0, 1.0, 1.0, 1.0, 0.0, 1.0, 0.0, 0.0, 1.0, 0.0, 0.0, 1.0, 0.0, [0.0, 1.0, 1.0, 1.0, 1.0, 1.0, 0.0, 0.0, 0.0, 1.0, 0.0, 0.0, 0.0, 15.0, 1234.0, 3.0, 4.0, 15.0, 37.0, 1.0, 2.0], [14.095204335282979, 5.904795664717021], [0.7047602167641489, 0.29523978323585104], 0.0, 'No Risk'], ['0_to_200', 15, 'no_credits', 'car_used', 5810, 'less_100', '1_to_4', 2, 'male', 'none', 2, 'real_estate', 38, 'bank', 'rent', 1, 'unskilled', 1, 'none', 'yes', 2.0, 4.0, 0.0, 0.0, 0.0, 1.0, 2.0, 1.0, 2.0, 0.0, 2.0, 0.0, 0.0, [2.0, 4.0, 2.0, 0.0, 0.0, 0.0, 0.0, 2.0, 2.0, 1.0, 1.0, 0.0, 0.0, 15.0, 5810.0, 2.0, 2.0, 15.0, 38.0, 1.0, 1.0], [16.887181270717555, 3.112818729282442], [0.8443590635358779, 0.1556409364641221], 0.0, 'No Risk'], ['0_to_200', 18, 'credits_paid_to_date', 'furniture', 1503, 'less_100', '1_to_4', 3, 'male', 'none', 1, 'savings_insurance', 36, 'none', 'own', 1, 'skilled', 1, 'none', 'yes', 2.0, 1.0, 0.0, 0.0, 0.0, 0.0, 0.0, 0.0, 1.0, 0.0, 0.0, 0.0, 0.0, [21, [0, 1, 2, 13, 14, 15, 16, 17, 18, 19, 20], [2.0, 1.0, 1.0, 18.0, 1503.0, 3.0, 1.0, 18.0, 36.0, 1.0, 1.0]], [15.993743569736296, 4.006256430263702], [0.7996871784868149, 0.2003128215131851], 0.0, 'No Risk'], ['less_0', 11, 'prior_payments_delayed', 'car_new', 1515, 'less_100', '1_to_4', 1, 'female', 'none', 1, 'real_estate', 36, 'stores', 'own', 1, 'skilled', 1, 'none', 'yes', 1.0, 0.0, 0.0, 0.0, 0.0, 0.0, 1.0, 0.0, 0.0, 0.0, 2.0, 1.0, 0.0, [21, [0, 5, 7, 8, 13, 14, 15, 16, 17, 18, 19, 20], [1.0, 1.0, 2.0, 1.0, 11.0, 1515.0, 1.0, 1.0, 11.0, 36.0, 1.0, 1.0]], [18.306326413041653, 1.6936735869583486], [0.9153163206520827, 0.08468367934791743], 0.0, 'No Risk'], ['less_0', 4, 'credits_paid_to_date', 'car_new', 250, 'less_100', 'unemployed', 1, 'female', 'none', 2, 'real_estate', 31, 'stores', 'rent', 1, 'skilled', 1, 'none', 'yes', 1.0, 1.0, 4.0, 0.0, 0.0, 1.0, 1.0, 0.0, 0.0, 0.0, 2.0, 1.0, 0.0, [1.0, 1.0, 0.0, 0.0, 4.0, 1.0, 0.0, 2.0, 1.0, 1.0, 0.0, 0.0, 0.0, 4.0, 250.0, 1.0, 2.0, 4.0, 31.0, 1.0, 1.0], [18.880875719955267, 1.1191242800447347], [0.9440437859977633, 0.055956214002236736], 0.0, 'No Risk'], ['less_0', 10, 'all_credits_paid_back', 'car_new', 250, 'less_100', '1_to_4', 2, 'female', 'none', 2, 'real_estate', 23, 'none', 'own', 1, 'skilled', 1, 'none', 'yes', 1.0, 3.0, 0.0, 0.0, 0.0, 0.0, 0.0, 0.0, 0.0, 0.0, 2.0, 1.0, 0.0, [21, [0, 1, 5, 7, 13, 14, 15, 16, 17, 18, 19, 20], [1.0, 3.0, 1.0, 2.0, 10.0, 250.0, 2.0, 2.0, 10.0, 23.0, 1.0, 1.0]], [19.310705009290682, 0.6892949907093198], [0.9655352504645339, 0.03446474953546598], 0.0, 'No Risk'], ['0_to_200', 35, 'prior_payments_delayed', 'furniture', 298, '500_to_1000', '4_to_7', 4, 'female', 'none', 2, 'real_estate', 27, 'stores', 'free', 2, 'skilled', 1, 'none', 'yes', 2.0, 0.0, 1.0, 2.0, 0.0, 2.0, 1.0, 0.0, 1.0, 0.0, 2.0, 1.0, 0.0, [2.0, 0.0, 1.0, 2.0, 1.0, 1.0, 0.0, 2.0, 1.0, 2.0, 0.0, 0.0, 0.0, 35.0, 298.0, 4.0, 2.0, 35.0, 27.0, 2.0, 1.0], [14.644276926394687, 5.355723073605316], [0.7322138463197342, 0.26778615368026576], 0.0, 'No Risk'], ['no_checking', 29, 'outstanding_credit', 'furniture', 5512, '500_to_1000', 'greater_7', 4, 'male', 'co-applicant', 4, 'car_other', 53, 'none', 'free', 3, 'skilled', 1, 'yes', 'yes', 0.0, 2.0, 2.0, 2.0, 0.0, 2.0, 0.0, 0.0, 1.0, 1.0, 1.0, 0.0, 1.0, [0.0, 2.0, 1.0, 2.0, 2.0, 0.0, 1.0, 1.0, 0.0, 2.0, 0.0, 1.0, 0.0, 29.0, 5512.0, 4.0, 4.0, 29.0, 53.0, 3.0, 1.0], [1.888040317957977, 18.111959682042023], [0.09440201589789884, 0.9055979841021011], 1.0, 'Risk'], ['0_to_200', 13, 'credits_paid_to_date', 'car_used', 2144, 'less_100', '4_to_7', 3, 'male', 'none', 3, 'real_estate', 28, 'none', 'own', 1, 'skilled', 1, 'none', 'yes', 2.0, 1.0, 1.0, 0.0, 0.0, 0.0, 0.0, 0.0, 2.0, 0.0, 2.0, 0.0, 0.0, [2.0, 1.0, 2.0, 0.0, 1.0, 0.0, 0.0, 2.0, 0.0, 0.0, 0.0, 0.0, 0.0, 13.0, 2144.0, 3.0, 3.0, 13.0, 28.0, 1.0, 1.0], [18.36790762796541, 1.632092372034592], [0.9183953813982704, 0.0816046186017296], 0.0, 'No Risk'], ['0_to_200', 13, 'prior_payments_delayed', 'repairs', 2556, 'less_100', '1_to_4', 2, 'male', 'none', 2, 'savings_insurance', 28, 'none', 'rent', 1, 'skilled', 1, 'none', 'yes', 2.0, 0.0, 0.0, 0.0, 0.0, 1.0, 0.0, 0.0, 5.0, 0.0, 0.0, 0.0, 0.0, [21, [0, 2, 9, 13, 14, 15, 16, 17, 18, 19, 20], [2.0, 5.0, 1.0, 13.0, 2556.0, 2.0, 2.0, 13.0, 28.0, 1.0, 1.0]], [18.14751949931386, 1.8524805006861458], [0.9073759749656928, 0.09262402503430728], 0.0, 'No Risk'], ['less_0', 8, 'credits_paid_to_date', 'car_new', 250, '500_to_1000', 'unemployed', 1, 'female', 'none', 2, 'real_estate', 19, 'stores', 'own', 1, 'skilled', 1, 'none', 'yes', 1.0, 1.0, 4.0, 2.0, 0.0, 0.0, 1.0, 0.0, 0.0, 0.0, 2.0, 1.0, 0.0, [1.0, 1.0, 0.0, 2.0, 4.0, 1.0, 0.0, 2.0, 1.0, 0.0, 0.0, 0.0, 0.0, 8.0, 250.0, 1.0, 2.0, 8.0, 19.0, 1.0, 1.0], [19.32827103227418, 0.6717289677258207], [0.966413551613709, 0.03358644838629103], 0.0, 'No Risk'], ['greater_200', 17, 'outstanding_credit', 'radio_tv', 786, '100_to_500', '1_to_4', 3, 'male', 'co-applicant', 4, 'car_other', 54, 'none', 'own', 2, 'skilled', 1, 'yes', 'yes', 3.0, 2.0, 0.0, 1.0, 0.0, 0.0, 0.0, 0.0, 3.0, 1.0, 1.0, 0.0, 1.0, [3.0, 2.0, 3.0, 1.0, 0.0, 0.0, 1.0, 1.0, 0.0, 0.0, 0.0, 1.0, 0.0, 17.0, 786.0, 3.0, 4.0, 17.0, 54.0, 2.0, 1.0], [11.588394775339308, 8.411605224660693], [0.5794197387669654, 0.42058026123303466], 0.0, 'No Risk'], ['0_to_200', 23, 'credits_paid_to_date', 'car_new', 3299, 'greater_1000', '1_to_4', 3, 'female', 'none', 3, 'car_other', 35, 'none', 'own', 2, 'skilled', 1, 'yes', 'yes', 2.0, 1.0, 0.0, 3.0, 0.0, 0.0, 0.0, 0.0, 0.0, 0.0, 1.0, 1.0, 1.0, [2.0, 1.0, 0.0, 3.0, 0.0, 1.0, 0.0, 1.0, 0.0, 0.0, 0.0, 1.0, 0.0, 23.0, 3299.0, 3.0, 3.0, 23.0, 35.0, 2.0, 1.0], [12.79929539382241, 7.200704606177586], [0.6399647696911206, 0.3600352303088794], 0.0, 'No Risk'], ['greater_200', 32, 'prior_payments_delayed', 'education', 7273, '100_to_500', '1_to_4', 4, 'male', 'none', 3, 'car_other', 35, 'stores', 'own', 2, 'unskilled', 1, 'yes', 'yes', 3.0, 0.0, 0.0, 1.0, 0.0, 0.0, 1.0, 1.0, 7.0, 0.0, 1.0, 0.0, 1.0, [3.0, 0.0, 7.0, 1.0, 0.0, 0.0, 0.0, 1.0, 1.0, 0.0, 1.0, 1.0, 0.0, 32.0, 7273.0, 4.0, 3.0, 32.0, 35.0, 2.0, 1.0], [11.22954439688068, 8.77045560311932], [0.561477219844034, 0.438522780155966], 0.0, 'No Risk'], ['no_checking', 24, 'prior_payments_delayed', 'furniture', 3595, '100_to_500', '1_to_4', 4, 'female', 'co-applicant', 3, 'savings_insurance', 45, 'none', 'free', 1, 'skilled', 1, 'none', 'yes', 0.0, 0.0, 0.0, 1.0, 0.0, 2.0, 0.0, 0.0, 1.0, 1.0, 0.0, 1.0, 0.0, [0.0, 0.0, 1.0, 1.0, 0.0, 1.0, 1.0, 0.0, 0.0, 2.0, 0.0, 0.0, 0.0, 24.0, 3595.0, 4.0, 3.0, 24.0, 45.0, 1.0, 1.0], [11.679598971962855, 8.320401028037143], [0.5839799485981427, 0.41602005140185716], 0.0, 'No Risk'], ['less_0', 15, 'all_credits_paid_back', 'repairs', 498, 'less_100', '1_to_4', 3, 'female', 'none', 3, 'real_estate', 21, 'none', 'rent', 1, 'skilled', 1, 'none', 'yes', 1.0, 3.0, 0.0, 0.0, 0.0, 1.0, 0.0, 0.0, 5.0, 0.0, 2.0, 1.0, 0.0, [1.0, 3.0, 5.0, 0.0, 0.0, 1.0, 0.0, 2.0, 0.0, 1.0, 0.0, 0.0, 0.0, 15.0, 498.0, 3.0, 3.0, 15.0, 21.0, 1.0, 1.0], [18.871185591411813, 1.128814408588187], [0.9435592795705906, 0.056440720429409355], 0.0, 'No Risk'], ['less_0', 15, 'prior_payments_delayed', 'radio_tv', 250, 'less_100', 'less_1', 2, 'male', 'co-applicant', 3, 'savings_insurance', 43, 'bank', 'own', 1, 'unemployed', 1, 'yes', 'yes', 1.0, 0.0, 3.0, 0.0, 0.0, 0.0, 2.0, 3.0, 3.0, 1.0, 0.0, 0.0, 1.0, [1.0, 0.0, 3.0, 0.0, 3.0, 0.0, 1.0, 0.0, 2.0, 0.0, 3.0, 1.0, 0.0, 15.0, 250.0, 2.0, 3.0, 15.0, 43.0, 1.0, 1.0], [15.781988136106975, 4.218011863893023], [0.7890994068053488, 0.21090059319465118], 0.0, 'No Risk'], ['less_0', 8, 'all_credits_paid_back', 'car_used', 250, '100_to_500', 'less_1', 1, 'female', 'none', 2, 'car_other', 35, 'stores', 'rent', 1, 'skilled', 1, 'none', 'yes', 1.0, 3.0, 3.0, 1.0, 0.0, 1.0, 1.0, 0.0, 2.0, 0.0, 1.0, 1.0, 0.0, [1.0, 3.0, 2.0, 1.0, 3.0, 1.0, 0.0, 1.0, 1.0, 1.0, 0.0, 0.0, 0.0, 8.0, 250.0, 1.0, 2.0, 8.0, 35.0, 1.0, 1.0], [18.84885053469136, 1.1511494653086418], [0.942442526734568, 0.05755747326543209], 0.0, 'No Risk'], ['no_checking', 37, 'prior_payments_delayed', 'radio_tv', 6235, '500_to_1000', 'greater_7', 3, 'male', 'co-applicant', 2, 'car_other', 35, 'none', 'own', 2, 'skilled', 1, 'none', 'yes', 0.0, 0.0, 2.0, 2.0, 0.0, 0.0, 0.0, 0.0, 3.0, 1.0, 1.0, 0.0, 0.0, [0.0, 0.0, 3.0, 2.0, 2.0, 0.0, 1.0, 1.0, 0.0, 0.0, 0.0, 0.0, 0.0, 37.0, 6235.0, 3.0, 2.0, 37.0, 35.0, 2.0, 1.0], [7.8326954278740395, 12.16730457212596], [0.39163477139370195, 0.608365228606298], 1.0, 'Risk'], ['0_to_200', 7, 'all_credits_paid_back', 'car_used', 540, 'less_100', 'less_1', 2, 'female', 'none', 2, 'real_estate', 19, 'none', 'own', 1, 'skilled', 1, 'none', 'yes', 2.0, 3.0, 3.0, 0.0, 0.0, 0.0, 0.0, 0.0, 2.0, 0.0, 2.0, 1.0, 0.0, [2.0, 3.0, 2.0, 0.0, 3.0, 1.0, 0.0, 2.0, 0.0, 0.0, 0.0, 0.0, 0.0, 7.0, 540.0, 2.0, 2.0, 7.0, 19.0, 1.0, 1.0], [19.46195285836478, 0.5380471416352239], [0.9730976429182387, 0.026902357081761193], 0.0, 'No Risk'], ['less_0', 11, 'prior_payments_delayed', 'furniture', 250, '100_to_500', '1_to_4', 1, 'male', 'none', 1, 'real_estate', 19, 'stores', 'rent', 1, 'skilled', 1, 'none', 'no', 1.0, 0.0, 0.0, 1.0, 1.0, 1.0, 1.0, 0.0, 1.0, 0.0, 2.0, 0.0, 0.0, [1.0, 0.0, 1.0, 1.0, 0.0, 0.0, 0.0, 2.0, 1.0, 1.0, 0.0, 0.0, 1.0, 11.0, 250.0, 1.0, 1.0, 11.0, 19.0, 1.0, 1.0], [18.89892316454259, 1.1010768354574074], [0.9449461582271296, 0.05505384177287037], 0.0, 'No Risk'], ['no_checking', 29, 'credits_paid_to_date', 'car_used', 5463, '100_to_500', '4_to_7', 3, 'male', 'none', 4, 'car_other', 48, 'stores', 'rent', 1, 'unskilled', 1, 'none', 'yes', 0.0, 1.0, 1.0, 1.0, 0.0, 1.0, 1.0, 1.0, 2.0, 0.0, 1.0, 0.0, 0.0, [0.0, 1.0, 2.0, 1.0, 1.0, 0.0, 0.0, 1.0, 1.0, 1.0, 1.0, 0.0, 0.0, 29.0, 5463.0, 3.0, 4.0, 29.0, 48.0, 1.0, 1.0], [11.44161875112017, 8.558381248879828], [0.5720809375560085, 0.42791906244399136], 0.0, 'No Risk'], ['0_to_200', 4, 'all_credits_paid_back', 'car_new', 250, 'less_100', '1_to_4', 1, 'male', 'none', 1, 'savings_insurance', 36, 'stores', 'own', 1, 'skilled', 1, 'none', 'yes', 2.0, 3.0, 0.0, 0.0, 0.0, 0.0, 1.0, 0.0, 0.0, 0.0, 0.0, 0.0, 0.0, [21, [0, 1, 8, 13, 14, 15, 16, 17, 18, 19, 20], [2.0, 3.0, 1.0, 4.0, 250.0, 1.0, 1.0, 4.0, 36.0, 1.0, 1.0]], [18.25802909367039, 1.7419709063296107], [0.9129014546835196, 0.08709854531648054], 0.0, 'No Risk'], ['0_to_200', 21, 'no_credits', 'car_new', 1135, 'less_100', 'less_1', 2, 'female', 'none', 3, 'savings_insurance', 19, 'none', 'own', 1, 'skilled', 1, 'none', 'yes', 2.0, 4.0, 3.0, 0.0, 0.0, 0.0, 0.0, 0.0, 0.0, 0.0, 0.0, 1.0, 0.0, [21, [0, 1, 4, 5, 13, 14, 15, 16, 17, 18, 19, 20], [2.0, 4.0, 3.0, 1.0, 21.0, 1135.0, 2.0, 3.0, 21.0, 19.0, 1.0, 1.0]], [16.041770281623474, 3.9582297183765194], [0.802088514081174, 0.19791148591882604], 0.0, 'No Risk'], ['0_to_200', 26, 'prior_payments_delayed', 'radio_tv', 250, '100_to_500', 'greater_7', 2, 'male', 'none', 2, 'real_estate', 28, 'none', 'own', 1, 'skilled', 1, 'none', 'no', 2.0, 0.0, 2.0, 1.0, 1.0, 0.0, 0.0, 0.0, 3.0, 0.0, 2.0, 0.0, 0.0, [2.0, 0.0, 3.0, 1.0, 2.0, 0.0, 0.0, 2.0, 0.0, 0.0, 0.0, 0.0, 1.0, 26.0, 250.0, 2.0, 2.0, 26.0, 28.0, 1.0, 1.0], [15.01480719644944, 4.985192803550559], [0.750740359822472, 0.24925964017752794], 0.0, 'No Risk'], ['greater_200', 27, 'prior_payments_delayed', 'radio_tv', 5139, '500_to_1000', 'greater_7', 4, 'male', 'none', 3, 'savings_insurance', 36, 'stores', 'own', 2, 'unskilled', 1, 'yes', 'yes', 3.0, 0.0, 2.0, 2.0, 0.0, 0.0, 1.0, 1.0, 3.0, 0.0, 0.0, 0.0, 1.0, [3.0, 0.0, 3.0, 2.0, 2.0, 0.0, 0.0, 0.0, 1.0, 0.0, 1.0, 1.0, 0.0, 27.0, 5139.0, 4.0, 3.0, 27.0, 36.0, 2.0, 1.0], [11.993046473897381, 8.006953526102615], [0.5996523236948692, 0.4003476763051308], 0.0, 'No Risk'], ['no_checking', 25, 'prior_payments_delayed', 'car_used', 4448, 'greater_1000', 'greater_7', 4, 'male', 'none', 3, 'savings_insurance', 41, 'none', 'own', 2, 'skilled', 2, 'yes', 'yes', 0.0, 0.0, 2.0, 3.0, 0.0, 0.0, 0.0, 0.0, 2.0, 0.0, 0.0, 0.0, 1.0, [21, [2, 3, 4, 11, 13, 14, 15, 16, 17, 18, 19, 20], [2.0, 3.0, 2.0, 1.0, 25.0, 4448.0, 4.0, 3.0, 25.0, 41.0, 2.0, 2.0]], [9.07604859863082, 10.923951401369182], [0.45380242993154096, 0.5461975700684591], 1.0, 'Risk'], ['0_to_200', 15, 'credits_paid_to_date', 'car_new', 2567, '500_to_1000', '4_to_7', 2, 'male', 'none', 3, 'real_estate', 33, 'none', 'own', 1, 'skilled', 1, 'none', 'yes', 2.0, 1.0, 1.0, 2.0, 0.0, 0.0, 0.0, 0.0, 0.0, 0.0, 2.0, 0.0, 0.0, [2.0, 1.0, 0.0, 2.0, 1.0, 0.0, 0.0, 2.0, 0.0, 0.0, 0.0, 0.0, 0.0, 15.0, 2567.0, 2.0, 3.0, 15.0, 33.0, 1.0, 1.0], [17.24061301032078, 2.7593869896792214], [0.8620306505160389, 0.13796934948396106], 0.0, 'No Risk'], ['0_to_200', 20, 'credits_paid_to_date', 'radio_tv', 2290, 'less_100', '1_to_4', 2, 'male', 'none', 3, 'savings_insurance', 32, 'none', 'own', 1, 'skilled', 2, 'none', 'yes', 2.0, 1.0, 0.0, 0.0, 0.0, 0.0, 0.0, 0.0, 3.0, 0.0, 0.0, 0.0, 0.0, [21, [0, 1, 2, 13, 14, 15, 16, 17, 18, 19, 20], [2.0, 1.0, 3.0, 20.0, 2290.0, 2.0, 3.0, 20.0, 32.0, 1.0, 2.0]], [14.606010856261403, 5.393989143738594], [0.7303005428130702, 0.2696994571869297], 0.0, 'No Risk'], ['no_checking', 37, 'prior_payments_delayed', 'other', 8290, '500_to_1000', '4_to_7', 4, 'male', 'none', 5, 'car_other', 43, 'none', 'own', 2, 'management_self-employed', 2, 'yes', 'yes', 0.0, 0.0, 1.0, 2.0, 0.0, 0.0, 0.0, 2.0, 10.0, 0.0, 1.0, 0.0, 1.0, [0.0, 0.0, 10.0, 2.0, 1.0, 0.0, 0.0, 1.0, 0.0, 0.0, 2.0, 1.0, 0.0, 37.0, 8290.0, 4.0, 5.0, 37.0, 43.0, 2.0, 2.0], [9.072848182732661, 10.927151817267335], [0.4536424091366332, 0.5463575908633669], 1.0, 'Risk'], ['0_to_200', 17, 'no_credits', 'car_new', 250, 'less_100', '1_to_4', 3, 'female', 'none', 2, 'real_estate', 19, 'stores', 'own', 1, 'skilled', 1, 'none', 'yes', 2.0, 4.0, 0.0, 0.0, 0.0, 0.0, 1.0, 0.0, 0.0, 0.0, 2.0, 1.0, 0.0, [2.0, 4.0, 0.0, 0.0, 0.0, 1.0, 0.0, 2.0, 1.0, 0.0, 0.0, 0.0, 0.0, 17.0, 250.0, 3.0, 2.0, 17.0, 19.0, 1.0, 1.0], [18.82977619773585, 1.1702238022641556], [0.9414888098867922, 0.05851119011320776], 0.0, 'No Risk'], ['less_0', 4, 'all_credits_paid_back', 'car_new', 250, 'less_100', '1_to_4', 1, 'female', 'none', 2, 'real_estate', 19, 'stores', 'rent', 1, 'skilled', 1, 'none', 'yes', 1.0, 3.0, 0.0, 0.0, 0.0, 1.0, 1.0, 0.0, 0.0, 0.0, 2.0, 1.0, 0.0, [1.0, 3.0, 0.0, 0.0, 0.0, 1.0, 0.0, 2.0, 1.0, 1.0, 0.0, 0.0, 0.0, 4.0, 250.0, 1.0, 2.0, 4.0, 19.0, 1.0, 1.0], [19.39109523718763, 0.6089047628123716], [0.9695547618593814, 0.030445238140618575], 0.0, 'No Risk'], ['no_checking', 26, 'prior_payments_delayed', 'appliances', 2717, '100_to_500', '1_to_4', 4, 'male', 'none', 3, 'savings_insurance', 36, 'none', 'own', 1, 'skilled', 1, 'none', 'yes', 0.0, 0.0, 0.0, 1.0, 0.0, 0.0, 0.0, 0.0, 4.0, 0.0, 0.0, 0.0, 0.0, [21, [2, 3, 13, 14, 15, 16, 17, 18, 19, 20], [4.0, 1.0, 26.0, 2717.0, 4.0, 3.0, 26.0, 36.0, 1.0, 1.0]], [13.310386012860672, 6.689613987139327], [0.6655193006430336, 0.33448069935696634], 0.0, 'No Risk'], ['no_checking', 28, 'prior_payments_delayed', 'furniture', 7971, '500_to_1000', 'less_1', 4, 'male', 'none', 4, 'car_other', 44, 'none', 'own', 2, 'skilled', 2, 'yes', 'yes', 0.0, 0.0, 3.0, 2.0, 0.0, 0.0, 0.0, 0.0, 1.0, 0.0, 1.0, 0.0, 1.0, [0.0, 0.0, 1.0, 2.0, 3.0, 0.0, 0.0, 1.0, 0.0, 0.0, 0.0, 1.0, 0.0, 28.0, 7971.0, 4.0, 4.0, 28.0, 44.0, 2.0, 2.0], [11.631462850975007, 8.368537149024993], [0.5815731425487504, 0.41842685745124963], 0.0, 'No Risk'], ['no_checking', 40, 'prior_payments_delayed', 'repairs', 2734, '500_to_1000', '4_to_7', 4, 'male', 'none', 5, 'car_other', 39, 'none', 'own', 2, 'skilled', 1, 'yes', 'yes', 0.0, 0.0, 1.0, 2.0, 0.0, 0.0, 0.0, 0.0, 5.0, 0.0, 1.0, 0.0, 1.0, [0.0, 0.0, 5.0, 2.0, 1.0, 0.0, 0.0, 1.0, 0.0, 0.0, 0.0, 1.0, 0.0, 40.0, 2734.0, 4.0, 5.0, 40.0, 39.0, 2.0, 1.0], [9.550490595220063, 10.449509404779937], [0.4775245297610032, 0.5224754702389969], 1.0, 'Risk'], ['no_checking', 33, 'prior_payments_delayed', 'car_used', 5083, '500_to_1000', 'greater_7', 4, 'male', 'none', 5, 'car_other', 47, 'none', 'free', 2, 'skilled', 1, 'yes', 'yes', 0.0, 0.0, 2.0, 2.0, 0.0, 2.0, 0.0, 0.0, 2.0, 0.0, 1.0, 0.0, 1.0, [0.0, 0.0, 2.0, 2.0, 2.0, 0.0, 0.0, 1.0, 0.0, 2.0, 0.0, 1.0, 0.0, 33.0, 5083.0, 4.0, 5.0, 33.0, 47.0, 2.0, 1.0], [6.273276816693155, 13.726723183306847], [0.31366384083465776, 0.6863361591653423], 1.0, 'Risk'], ['less_0', 11, 'prior_payments_delayed', 'car_new', 250, 'less_100', '1_to_4', 2, 'male', 'none', 2, 'savings_insurance', 28, 'stores', 'own', 1, 'skilled', 1, 'none', 'yes', 1.0, 0.0, 0.0, 0.0, 0.0, 0.0, 1.0, 0.0, 0.0, 0.0, 0.0, 0.0, 0.0, [21, [0, 8, 13, 14, 15, 16, 17, 18, 19, 20], [1.0, 1.0, 11.0, 250.0, 2.0, 2.0, 11.0, 28.0, 1.0, 1.0]], [18.322981152532027, 1.6770188474679784], [0.9161490576266011, 0.0838509423733989], 0.0, 'No Risk'], ['less_0', 17, 'prior_payments_delayed', 'radio_tv', 3955, 'less_100', '1_to_4', 2, 'female', 'none', 3, 'unknown', 20, 'stores', 'own', 1, 'skilled', 1, 'none', 'yes', 1.0, 0.0, 0.0, 0.0, 0.0, 0.0, 1.0, 0.0, 3.0, 0.0, 3.0, 1.0, 0.0, [1.0, 0.0, 3.0, 0.0, 0.0, 1.0, 0.0, 3.0, 1.0, 0.0, 0.0, 0.0, 0.0, 17.0, 3955.0, 2.0, 3.0, 17.0, 20.0, 1.0, 1.0], [17.453476665301906, 2.5465233346980947], [0.8726738332650953, 0.12732616673490474], 0.0, 'No Risk'], ['greater_200', 30, 'prior_payments_delayed', 'car_used', 8077, 'greater_1000', '4_to_7', 5, 'male', 'none', 4, 'unknown', 42, 'none', 'own', 2, 'skilled', 1, 'none', 'yes', 3.0, 0.0, 1.0, 3.0, 0.0, 0.0, 0.0, 0.0, 2.0, 0.0, 3.0, 0.0, 0.0, [3.0, 0.0, 2.0, 3.0, 1.0, 0.0, 0.0, 3.0, 0.0, 0.0, 0.0, 0.0, 0.0, 30.0, 8077.0, 5.0, 4.0, 30.0, 42.0, 2.0, 1.0], [9.694297739634465, 10.305702260365535], [0.4847148869817232, 0.5152851130182767], 1.0, 'Risk'], ['0_to_200', 17, 'credits_paid_to_date', 'radio_tv', 2707, 'less_100', 'unemployed', 3, 'female', 'none', 2, 'real_estate', 34, 'none', 'own', 1, 'skilled', 1, 'none', 'yes', 2.0, 1.0, 4.0, 0.0, 0.0, 0.0, 0.0, 0.0, 3.0, 0.0, 2.0, 1.0, 0.0, [2.0, 1.0, 3.0, 0.0, 4.0, 1.0, 0.0, 2.0, 0.0, 0.0, 0.0, 0.0, 0.0, 17.0, 2707.0, 3.0, 2.0, 17.0, 34.0, 1.0, 1.0], [18.198887957088093, 1.8011120429119074], [0.9099443978544046, 0.09005560214559537], 0.0, 'No Risk'], ['no_checking', 20, 'credits_paid_to_date', 'car_new', 6435, '100_to_500', 'greater_7', 4, 'male', 'none', 3, 'unknown', 38, 'none', 'free', 1, 'management_self-employed', 1, 'none', 'yes', 0.0, 1.0, 2.0, 1.0, 0.0, 2.0, 0.0, 2.0, 0.0, 0.0, 3.0, 0.0, 0.0, [0.0, 1.0, 0.0, 1.0, 2.0, 0.0, 0.0, 3.0, 0.0, 2.0, 2.0, 0.0, 0.0, 20.0, 6435.0, 4.0, 3.0, 20.0, 38.0, 1.0, 1.0], [11.561709276282238, 8.438290723717765], [0.5780854638141119, 0.4219145361858882], 0.0, 'No Risk'], ['less_0', 11, 'all_credits_paid_back', 'furniture', 250, 'less_100', 'less_1', 2, 'female', 'none', 2, 'real_estate', 21, 'bank', 'rent', 1, 'unskilled', 1, 'none', 'yes', 1.0, 3.0, 3.0, 0.0, 0.0, 1.0, 2.0, 1.0, 1.0, 0.0, 2.0, 1.0, 0.0, [1.0, 3.0, 1.0, 0.0, 3.0, 1.0, 0.0, 2.0, 2.0, 1.0, 1.0, 0.0, 0.0, 11.0, 250.0, 2.0, 2.0, 11.0, 21.0, 1.0, 1.0], [19.390656066857012, 0.609343933142986], [0.9695328033428506, 0.0304671966571493], 0.0, 'No Risk'], ['0_to_200', 23, 'credits_paid_to_date', 'furniture', 2941, 'less_100', '4_to_7', 2, 'male', 'none', 2, 'savings_insurance', 25, 'bank', 'own', 1, 'unemployed', 1, 'none', 'yes', 2.0, 1.0, 1.0, 0.0, 0.0, 0.0, 2.0, 3.0, 1.0, 0.0, 0.0, 0.0, 0.0, [2.0, 1.0, 1.0, 0.0, 1.0, 0.0, 0.0, 0.0, 2.0, 0.0, 3.0, 0.0, 0.0, 23.0, 2941.0, 2.0, 2.0, 23.0, 25.0, 1.0, 1.0], [16.825606264262237, 3.174393735737764], [0.8412803132131119, 0.1587196867868882], 0.0, 'No Risk'], ['0_to_200', 17, 'credits_paid_to_date', 'furniture', 4331, '100_to_500', 'less_1', 3, 'male', 'none', 2, 'car_other', 30, 'bank', 'rent', 2, 'unskilled', 1, 'none', 'yes', 2.0, 1.0, 3.0, 1.0, 0.0, 1.0, 2.0, 1.0, 1.0, 0.0, 1.0, 0.0, 0.0, [2.0, 1.0, 1.0, 1.0, 3.0, 0.0, 0.0, 1.0, 2.0, 1.0, 1.0, 0.0, 0.0, 17.0, 4331.0, 3.0, 2.0, 17.0, 30.0, 2.0, 1.0], [17.52271176138154, 2.4772882386184567], [0.8761355880690772, 0.12386441193092286], 0.0, 'No Risk'], ['no_checking', 27, 'outstanding_credit', 'appliances', 7146, '500_to_1000', '1_to_4', 3, 'male', 'none', 3, 'unknown', 48, 'none', 'own', 1, 'skilled', 2, 'yes', 'yes', 0.0, 2.0, 0.0, 2.0, 0.0, 0.0, 0.0, 0.0, 4.0, 0.0, 3.0, 0.0, 1.0, [0.0, 2.0, 4.0, 2.0, 0.0, 0.0, 0.0, 3.0, 0.0, 0.0, 0.0, 1.0, 0.0, 27.0, 7146.0, 3.0, 3.0, 27.0, 48.0, 1.0, 2.0], [11.874482254590195, 8.125517745409802], [0.5937241127295099, 0.4062758872704902], 0.0, 'No Risk'], ['no_checking', 27, 'prior_payments_delayed', 'radio_tv', 4401, '100_to_500', '4_to_7', 4, 'female', 'none', 4, 'savings_insurance', 47, 'none', 'own', 1, 'skilled', 1, 'none', 'yes', 0.0, 0.0, 1.0, 1.0, 0.0, 0.0, 0.0, 0.0, 3.0, 0.0, 0.0, 1.0, 0.0, [21, [2, 3, 4, 5, 13, 14, 15, 16, 17, 18, 19, 20], [3.0, 1.0, 1.0, 1.0, 27.0, 4401.0, 4.0, 4.0, 27.0, 47.0, 1.0, 1.0]], [9.55323631085829, 10.446763689141711], [0.47766181554291454, 0.5223381844570856], 1.0, 'Risk'], ['no_checking', 26, 'outstanding_credit', 'radio_tv', 5118, 'greater_1000', '4_to_7', 3, 'male', 'none', 4, 'unknown', 47, 'stores', 'own', 2, 'unskilled', 2, 'yes', 'yes', 0.0, 2.0, 1.0, 3.0, 0.0, 0.0, 1.0, 1.0, 3.0, 0.0, 3.0, 0.0, 1.0, [0.0, 2.0, 3.0, 3.0, 1.0, 0.0, 0.0, 3.0, 1.0, 0.0, 1.0, 1.0, 0.0, 26.0, 5118.0, 3.0, 4.0, 26.0, 47.0, 2.0, 2.0], [7.169150076511698, 12.830849923488302], [0.35845750382558494, 0.6415424961744151], 1.0, 'Risk'], ['0_to_200', 15, 'credits_paid_to_date', 'furniture', 1797, 'less_100', '1_to_4', 3, 'female', 'none', 2, 'savings_insurance', 36, 'none', 'rent', 1, 'skilled', 1, 'none', 'yes', 2.0, 1.0, 0.0, 0.0, 0.0, 1.0, 0.0, 0.0, 1.0, 0.0, 0.0, 1.0, 0.0, [2.0, 1.0, 1.0, 0.0, 0.0, 1.0, 0.0, 0.0, 0.0, 1.0, 0.0, 0.0, 0.0, 15.0, 1797.0, 3.0, 2.0, 15.0, 36.0, 1.0, 1.0], [16.882488835625274, 3.1175111643747253], [0.8441244417812637, 0.15587555821873628], 0.0, 'No Risk'], ['greater_200', 13, 'credits_paid_to_date', 'repairs', 904, 'less_100', '1_to_4', 2, 'female', 'none', 1, 'savings_insurance', 39, 'none', 'own', 1, 'skilled', 1, 'none', 'yes', 3.0, 1.0, 0.0, 0.0, 0.0, 0.0, 0.0, 0.0, 5.0, 0.0, 0.0, 1.0, 0.0, [21, [0, 1, 2, 5, 13, 14, 15, 16, 17, 18, 19, 20], [3.0, 1.0, 5.0, 1.0, 13.0, 904.0, 2.0, 1.0, 13.0, 39.0, 1.0, 1.0]], [17.020899382934434, 2.979100617065568], [0.8510449691467216, 0.14895503085327835], 0.0, 'No Risk'], ['greater_200', 31, 'outstanding_credit', 'furniture', 5524, '500_to_1000', '1_to_4', 4, 'male', 'none', 4, 'unknown', 40, 'none', 'own', 2, 'skilled', 1, 'yes', 'yes', 3.0, 2.0, 0.0, 2.0, 0.0, 0.0, 0.0, 0.0, 1.0, 0.0, 3.0, 0.0, 1.0, [3.0, 2.0, 1.0, 2.0, 0.0, 0.0, 0.0, 3.0, 0.0, 0.0, 0.0, 1.0, 0.0, 31.0, 5524.0, 4.0, 4.0, 31.0, 40.0, 2.0, 1.0], [10.379673832726843, 9.620326167273157], [0.5189836916363422, 0.4810163083636579], 0.0, 'No Risk'], ['no_checking', 41, 'prior_payments_delayed', 'radio_tv', 5164, 'unknown', '4_to_7', 4, 'male', 'co-applicant', 4, 'savings_insurance', 44, 'none', 'own', 2, 'skilled', 1, 'yes', 'yes', 0.0, 0.0, 1.0, 4.0, 0.0, 0.0, 0.0, 0.0, 3.0, 1.0, 0.0, 0.0, 1.0, [0.0, 0.0, 3.0, 4.0, 1.0, 0.0, 1.0, 0.0, 0.0, 0.0, 0.0, 1.0, 0.0, 41.0, 5164.0, 4.0, 4.0, 41.0, 44.0, 2.0, 1.0], [6.376747869506707, 13.623252130493292], [0.31883739347533535, 0.6811626065246645], 1.0, 'Risk'], ['0_to_200', 25, 'all_credits_paid_back', 'radio_tv', 3569, 'less_100', 'unemployed', 2, 'female', 'co-applicant', 2, 'real_estate', 32, 'none', 'own', 1, 'skilled', 1, 'none', 'yes', 2.0, 3.0, 4.0, 0.0, 0.0, 0.0, 0.0, 0.0, 3.0, 1.0, 2.0, 1.0, 0.0, [2.0, 3.0, 3.0, 0.0, 4.0, 1.0, 1.0, 2.0, 0.0, 0.0, 0.0, 0.0, 0.0, 25.0, 3569.0, 2.0, 2.0, 25.0, 32.0, 1.0, 1.0], [16.193506768822992, 3.806493231177009], [0.8096753384411496, 0.19032466155885047], 0.0, 'No Risk'], ['no_checking', 45, 'prior_payments_delayed', 'repairs', 4851, '500_to_1000', 'greater_7', 5, 'male', 'co-applicant', 5, 'unknown', 46, 'none', 'free', 2, 'skilled', 1, 'yes', 'yes', 0.0, 0.0, 2.0, 2.0, 0.0, 2.0, 0.0, 0.0, 5.0, 1.0, 3.0, 0.0, 1.0, [0.0, 0.0, 5.0, 2.0, 2.0, 0.0, 1.0, 3.0, 0.0, 2.0, 0.0, 1.0, 0.0, 45.0, 4851.0, 5.0, 5.0, 45.0, 46.0, 2.0, 1.0], [2.2783436265071852, 17.721656373492813], [0.11391718132535926, 0.8860828186746407], 1.0, 'Risk'], ['less_0', 6, 'prior_payments_delayed', 'car_new', 250, '100_to_500', '1_to_4', 1, 'male', 'none', 1, 'savings_insurance', 21, 'stores', 'rent', 1, 'skilled', 1, 'none', 'yes', 1.0, 0.0, 0.0, 1.0, 0.0, 1.0, 1.0, 0.0, 0.0, 0.0, 0.0, 0.0, 0.0, [21, [0, 3, 8, 9, 13, 14, 15, 16, 17, 18, 19, 20], [1.0, 1.0, 1.0, 1.0, 6.0, 250.0, 1.0, 1.0, 6.0, 21.0, 1.0, 1.0]], [18.307448171245657, 1.6925518287543493], [0.9153724085622825, 0.08462759143771743], 0.0, 'No Risk'], ['0_to_200', 13, 'prior_payments_delayed', 'retraining', 3556, 'less_100', 'less_1', 3, 'male', 'none', 3, 'savings_insurance', 28, 'none', 'rent', 1, 'management_self-employed', 1, 'none', 'yes', 2.0, 0.0, 3.0, 0.0, 0.0, 1.0, 0.0, 2.0, 8.0, 0.0, 0.0, 0.0, 0.0, [2.0, 0.0, 8.0, 0.0, 3.0, 0.0, 0.0, 0.0, 0.0, 1.0, 2.0, 0.0, 0.0, 13.0, 3556.0, 3.0, 3.0, 13.0, 28.0, 1.0, 1.0], [18.4518806057698, 1.548119394230203], [0.92259403028849, 0.07740596971151013], 0.0, 'No Risk'], ['no_checking', 13, 'outstanding_credit', 'car_new', 1249, '100_to_500', 'greater_7', 3, 'male', 'none', 3, 'savings_insurance', 31, 'none', 'free', 1, 'skilled', 1, 'none', 'yes', 0.0, 2.0, 2.0, 1.0, 0.0, 2.0, 0.0, 0.0, 0.0, 0.0, 0.0, 0.0, 0.0, [21, [1, 3, 4, 9, 13, 14, 15, 16, 17, 18, 19, 20], [2.0, 1.0, 2.0, 2.0, 13.0, 1249.0, 3.0, 3.0, 13.0, 31.0, 1.0, 1.0]], [14.169906207178304, 5.830093792821693], [0.7084953103589153, 0.2915046896410847], 0.0, 'No Risk'], ['less_0', 8, 'all_credits_paid_back', 'car_new', 250, 'less_100', '1_to_4', 2, 'male', 'co-applicant', 2, 'savings_insurance', 43, 'none', 'free', 1, 'skilled', 1, 'yes', 'yes', 1.0, 3.0, 0.0, 0.0, 0.0, 2.0, 0.0, 0.0, 0.0, 1.0, 0.0, 0.0, 1.0, [1.0, 3.0, 0.0, 0.0, 0.0, 0.0, 1.0, 0.0, 0.0, 2.0, 0.0, 1.0, 0.0, 8.0, 250.0, 2.0, 2.0, 8.0, 43.0, 1.0, 1.0], [16.85176953168669, 3.14823046831331], [0.8425884765843344, 0.1574115234156655], 0.0, 'No Risk'], ['less_0', 4, 'all_credits_paid_back', 'car_used', 296, 'less_100', 'less_1', 1, 'female', 'none', 1, 'real_estate', 19, 'none', 'rent', 1, 'management_self-employed', 1, 'none', 'yes', 1.0, 3.0, 3.0, 0.0, 0.0, 1.0, 0.0, 2.0, 2.0, 0.0, 2.0, 1.0, 0.0, [1.0, 3.0, 2.0, 0.0, 3.0, 1.0, 0.0, 2.0, 0.0, 1.0, 2.0, 0.0, 0.0, 4.0, 296.0, 1.0, 1.0, 4.0, 19.0, 1.0, 1.0], [19.519967566224206, 0.4800324337757957], [0.9759983783112102, 0.02400162168878978], 0.0, 'No Risk'], ['no_checking', 41, 'outstanding_credit', 'education', 7323, 'greater_1000', 'greater_7', 5, 'male', 'co-applicant', 5, 'unknown', 54, 'none', 'free', 2, 'skilled', 2, 'yes', 'yes', 0.0, 2.0, 2.0, 3.0, 0.0, 2.0, 0.0, 0.0, 7.0, 1.0, 3.0, 0.0, 1.0, [0.0, 2.0, 7.0, 3.0, 2.0, 0.0, 1.0, 3.0, 0.0, 2.0, 0.0, 1.0, 0.0, 41.0, 7323.0, 5.0, 5.0, 41.0, 54.0, 2.0, 2.0], [1.4659513786893352, 18.534048621310667], [0.07329756893446675, 0.9267024310655332], 1.0, 'Risk'], ['0_to_200', 13, 'credits_paid_to_date', 'radio_tv', 2537, '500_to_1000', '1_to_4', 3, 'male', 'none', 2, 'real_estate', 31, 'none', 'own', 1, 'skilled', 2, 'none', 'yes', 2.0, 1.0, 0.0, 2.0, 0.0, 0.0, 0.0, 0.0, 3.0, 0.0, 2.0, 0.0, 0.0, [2.0, 1.0, 3.0, 2.0, 0.0, 0.0, 0.0, 2.0, 0.0, 0.0, 0.0, 0.0, 0.0, 13.0, 2537.0, 3.0, 2.0, 13.0, 31.0, 1.0, 2.0], [18.51392705364699, 1.4860729463530082], [0.9256963526823496, 0.0743036473176504], 0.0, 'No Risk'], ['no_checking', 12, 'credits_paid_to_date', 'repairs', 5170, 'less_100', 'less_1', 3, 'male', 'none', 3, 'car_other', 43, 'none', 'free', 1, 'management_self-employed', 1, 'yes', 'yes', 0.0, 1.0, 3.0, 0.0, 0.0, 2.0, 0.0, 2.0, 5.0, 0.0, 1.0, 0.0, 1.0, [0.0, 1.0, 5.0, 0.0, 3.0, 0.0, 0.0, 1.0, 0.0, 2.0, 2.0, 1.0, 0.0, 12.0, 5170.0, 3.0, 3.0, 12.0, 43.0, 1.0, 1.0], [15.856675148254038, 4.143324851745964], [0.7928337574127019, 0.2071662425872982], 0.0, 'No Risk'], ['no_checking', 29, 'prior_payments_delayed', 'repairs', 3323, '100_to_500', 'greater_7', 4, 'male', 'none', 3, 'savings_insurance', 34, 'none', 'own', 1, 'management_self-employed', 1, 'none', 'yes', 0.0, 0.0, 2.0, 1.0, 0.0, 0.0, 0.0, 2.0, 5.0, 0.0, 0.0, 0.0, 0.0, [21, [2, 3, 4, 10, 13, 14, 15, 16, 17, 18, 19, 20], [5.0, 1.0, 2.0, 2.0, 29.0, 3323.0, 4.0, 3.0, 29.0, 34.0, 1.0, 1.0]], [11.562074355973234, 8.437925644026766], [0.5781037177986617, 0.4218962822013383], 0.0, 'No Risk'], ['no_checking', 26, 'outstanding_credit', 'education', 7801, '500_to_1000', '1_to_4', 3, 'male', 'none', 2, 'car_other', 40, 'none', 'free', 2, 'management_self-employed', 1, 'yes', 'yes', 0.0, 2.0, 0.0, 2.0, 0.0, 2.0, 0.0, 2.0, 7.0, 0.0, 1.0, 0.0, 1.0, [0.0, 2.0, 7.0, 2.0, 0.0, 0.0, 0.0, 1.0, 0.0, 2.0, 2.0, 1.0, 0.0, 26.0, 7801.0, 3.0, 2.0, 26.0, 40.0, 2.0, 1.0], [11.142157653111283, 8.857842346888715], [0.5571078826555642, 0.44289211734443573], 0.0, 'No Risk'], ['no_checking', 33, 'outstanding_credit', 'appliances', 4854, 'unknown', '4_to_7', 3, 'male', 'none', 4, 'savings_insurance', 40, 'none', 'own', 2, 'skilled', 2, 'yes', 'no', 0.0, 2.0, 1.0, 4.0, 1.0, 0.0, 0.0, 0.0, 4.0, 0.0, 0.0, 0.0, 1.0, [0.0, 2.0, 4.0, 4.0, 1.0, 0.0, 0.0, 0.0, 0.0, 0.0, 0.0, 1.0, 1.0, 33.0, 4854.0, 3.0, 4.0, 33.0, 40.0, 2.0, 2.0], [10.192187883556542, 9.80781211644346], [0.5096093941778271, 0.490390605822173], 0.0, 'No Risk'], ['greater_200', 20, 'credits_paid_to_date', 'car_new', 904, 'greater_1000', 'greater_7', 2, 'male', 'none', 2, 'real_estate', 20, 'none', 'own', 2, 'skilled', 1, 'none', 'yes', 3.0, 1.0, 2.0, 3.0, 0.0, 0.0, 0.0, 0.0, 0.0, 0.0, 2.0, 0.0, 0.0, [3.0, 1.0, 0.0, 3.0, 2.0, 0.0, 0.0, 2.0, 0.0, 0.0, 0.0, 0.0, 0.0, 20.0, 904.0, 2.0, 2.0, 20.0, 20.0, 2.0, 1.0], [17.653044268910982, 2.3469557310890177], [0.8826522134455491, 0.11734778655445088], 0.0, 'No Risk'], ['no_checking', 52, 'outstanding_credit', 'appliances', 9249, 'unknown', 'greater_7', 5, 'male', 'co-applicant', 4, 'unknown', 52, 'none', 'free', 3, 'skilled', 2, 'yes', 'yes', 0.0, 2.0, 2.0, 4.0, 0.0, 2.0, 0.0, 0.0, 4.0, 1.0, 3.0, 0.0, 1.0, [0.0, 2.0, 4.0, 4.0, 2.0, 0.0, 1.0, 3.0, 0.0, 2.0, 0.0, 1.0, 0.0, 52.0, 9249.0, 5.0, 4.0, 52.0, 52.0, 3.0, 2.0], [1.4104832186087917, 18.58951678139121], [0.07052416093043958, 0.9294758390695604], 1.0, 'Risk'], ['0_to_200', 26, 'credits_paid_to_date', 'car_new', 2941, '100_to_500', '4_to_7', 3, 'male', 'none', 2, 'car_other', 38, 'none', 'own', 1, 'skilled', 1, 'none', 'yes', 2.0, 1.0, 1.0, 1.0, 0.0, 0.0, 0.0, 0.0, 0.0, 0.0, 1.0, 0.0, 0.0, [2.0, 1.0, 0.0, 1.0, 1.0, 0.0, 0.0, 1.0, 0.0, 0.0, 0.0, 0.0, 0.0, 26.0, 2941.0, 3.0, 2.0, 26.0, 38.0, 1.0, 1.0], [14.680243776725325, 5.319756223274679], [0.7340121888362661, 0.2659878111637339], 0.0, 'No Risk'], ['0_to_200', 16, 'prior_payments_delayed', 'car_used', 3769, 'less_100', 'greater_7', 4, 'female', 'none', 3, 'car_other', 59, 'none', 'own', 1, 'skilled', 1, 'yes', 'yes', 2.0, 0.0, 2.0, 0.0, 0.0, 0.0, 0.0, 0.0, 2.0, 0.0, 1.0, 1.0, 1.0, [2.0, 0.0, 2.0, 0.0, 2.0, 1.0, 0.0, 1.0, 0.0, 0.0, 0.0, 1.0, 0.0, 16.0, 3769.0, 4.0, 3.0, 16.0, 59.0, 1.0, 1.0], [12.690908428543217, 7.309091571456782], [0.6345454214271609, 0.3654545785728391], 0.0, 'No Risk'], ['0_to_200', 32, 'prior_payments_delayed', 'car_used', 3946, '100_to_500', 'less_1', 2, 'female', 'none', 2, 'car_other', 31, 'stores', 'own', 1, 'skilled', 1, 'none', 'yes', 2.0, 0.0, 3.0, 1.0, 0.0, 0.0, 1.0, 0.0, 2.0, 0.0, 1.0, 1.0, 0.0, [2.0, 0.0, 2.0, 1.0, 3.0, 1.0, 0.0, 1.0, 1.0, 0.0, 0.0, 0.0, 0.0, 32.0, 3946.0, 2.0, 2.0, 32.0, 31.0, 1.0, 1.0], [15.438422670797557, 4.561577329202443], [0.7719211335398779, 0.22807886646012215], 0.0, 'No Risk'], ['no_checking', 39, 'prior_payments_delayed', 'appliances', 5450, 'greater_1000', '1_to_4', 4, 'male', 'none', 3, 'car_other', 39, 'none', 'own', 2, 'skilled', 1, 'yes', 'yes', 0.0, 0.0, 0.0, 3.0, 0.0, 0.0, 0.0, 0.0, 4.0, 0.0, 1.0, 0.0, 1.0, [21, [2, 3, 7, 11, 13, 14, 15, 16, 17, 18, 19, 20], [4.0, 3.0, 1.0, 1.0, 39.0, 5450.0, 4.0, 3.0, 39.0, 39.0, 2.0, 1.0]], [11.269718983713977, 8.730281016286021], [0.5634859491856988, 0.43651405081430106], 0.0, 'No Risk'], ['0_to_200', 45, 'prior_payments_delayed', 'repairs', 5199, '100_to_500', 'greater_7', 5, 'male', 'none', 4, 'unknown', 44, 'none', 'own', 2, 'skilled', 1, 'yes', 'yes', 2.0, 0.0, 2.0, 1.0, 0.0, 0.0, 0.0, 0.0, 5.0, 0.0, 3.0, 0.0, 1.0, [2.0, 0.0, 5.0, 1.0, 2.0, 0.0, 0.0, 3.0, 0.0, 0.0, 0.0, 1.0, 0.0, 45.0, 5199.0, 5.0, 4.0, 45.0, 44.0, 2.0, 1.0], [7.555782391806743, 12.444217608193258], [0.3777891195903372, 0.6222108804096629], 1.0, 'Risk'], ['0_to_200', 4, 'prior_payments_delayed', 'car_used', 4107, 'less_100', 'less_1', 3, 'male', 'none', 2, 'car_other', 37, 'none', 'own', 1, 'management_self-employed', 1, 'yes', 'yes', 2.0, 0.0, 3.0, 0.0, 0.0, 0.0, 0.0, 2.0, 2.0, 0.0, 1.0, 0.0, 1.0, [2.0, 0.0, 2.0, 0.0, 3.0, 0.0, 0.0, 1.0, 0.0, 0.0, 2.0, 1.0, 0.0, 4.0, 4107.0, 3.0, 2.0, 4.0, 37.0, 1.0, 1.0], [16.38121524542962, 3.6187847545703806], [0.819060762271481, 0.18093923772851903], 0.0, 'No Risk'], ['less_0', 9, 'all_credits_paid_back', 'car_new', 314, 'less_100', '1_to_4', 3, 'female', 'none', 1, 'savings_insurance', 30, 'none', 'own', 1, 'skilled', 1, 'none', 'yes', 1.0, 3.0, 0.0, 0.0, 0.0, 0.0, 0.0, 0.0, 0.0, 0.0, 0.0, 1.0, 0.0, [21, [0, 1, 5, 13, 14, 15, 16, 17, 18, 19, 20], [1.0, 3.0, 1.0, 9.0, 314.0, 3.0, 1.0, 9.0, 30.0, 1.0, 1.0]], [18.79310775225852, 1.20689224774148], [0.9396553876129261, 0.060344612387074004], 0.0, 'No Risk'], ['0_to_200', 6, 'all_credits_paid_back', 'vacation', 3430, 'less_100', '1_to_4', 2, 'female', 'none', 1, 'savings_insurance', 24, 'none', 'own', 1, 'skilled', 1, 'none', 'yes', 2.0, 3.0, 0.0, 0.0, 0.0, 0.0, 0.0, 0.0, 6.0, 0.0, 0.0, 1.0, 0.0, [21, [0, 1, 2, 5, 13, 14, 15, 16, 17, 18, 19, 20], [2.0, 3.0, 6.0, 1.0, 6.0, 3430.0, 2.0, 1.0, 6.0, 24.0, 1.0, 1.0]], [18.912221953477914, 1.0877780465220899], [0.9456110976738955, 0.05438890232610449], 0.0, 'No Risk'], ['less_0', 13, 'no_credits', 'car_new', 250, 'less_100', 'unemployed', 1, 'male', 'none', 1, 'real_estate', 19, 'none', 'rent', 1, 'skilled', 1, 'none', 'yes', 1.0, 4.0, 4.0, 0.0, 0.0, 1.0, 0.0, 0.0, 0.0, 0.0, 2.0, 0.0, 0.0, [1.0, 4.0, 0.0, 0.0, 4.0, 0.0, 0.0, 2.0, 0.0, 1.0, 0.0, 0.0, 0.0, 13.0, 250.0, 1.0, 1.0, 13.0, 19.0, 1.0, 1.0], [19.513716417783957, 0.4862835822160452], [0.9756858208891976, 0.024314179110802255], 0.0, 'No Risk'], ['no_checking', 25, 'outstanding_credit', 'repairs', 6008, 'unknown', 'greater_7', 5, 'male', 'none', 4, 'unknown', 54, 'none', 'own', 2, 'skilled', 2, 'yes', 'yes', 0.0, 2.0, 2.0, 4.0, 0.0, 0.0, 0.0, 0.0, 5.0, 0.0, 3.0, 0.0, 1.0, [0.0, 2.0, 5.0, 4.0, 2.0, 0.0, 0.0, 3.0, 0.0, 0.0, 0.0, 1.0, 0.0, 25.0, 6008.0, 5.0, 4.0, 25.0, 54.0, 2.0, 2.0], [4.812326523115515, 15.187673476884484], [0.24061632615577574, 0.7593836738442242], 1.0, 'Risk'], ['0_to_200', 22, 'outstanding_credit', 'radio_tv', 3518, '100_to_500', '4_to_7', 3, 'male', 'none', 4, 'car_other', 41, 'none', 'own', 1, 'skilled', 1, 'none', 'yes', 2.0, 2.0, 1.0, 1.0, 0.0, 0.0, 0.0, 0.0, 3.0, 0.0, 1.0, 0.0, 0.0, [2.0, 2.0, 3.0, 1.0, 1.0, 0.0, 0.0, 1.0, 0.0, 0.0, 0.0, 0.0, 0.0, 22.0, 3518.0, 3.0, 4.0, 22.0, 41.0, 1.0, 1.0], [12.290650565543949, 7.709349434456054], [0.6145325282771973, 0.3854674717228026], 0.0, 'No Risk'], ['0_to_200', 25, 'prior_payments_delayed', 'radio_tv', 1528, '100_to_500', '4_to_7', 3, 'female', 'none', 3, 'real_estate', 39, 'none', 'own', 1, 'skilled', 1, 'none', 'yes', 2.0, 0.0, 1.0, 1.0, 0.0, 0.0, 0.0, 0.0, 3.0, 0.0, 2.0, 1.0, 0.0, [2.0, 0.0, 3.0, 1.0, 1.0, 1.0, 0.0, 2.0, 0.0, 0.0, 0.0, 0.0, 0.0, 25.0, 1528.0, 3.0, 3.0, 25.0, 39.0, 1.0, 1.0], [13.62807615899105, 6.371923841008947], [0.6814038079495526, 0.31859619205044737], 0.0, 'No Risk'], ['no_checking', 36, 'outstanding_credit', 'furniture', 6662, '500_to_1000', '4_to_7', 4, 'male', 'none', 3, 'savings_insurance', 45, 'none', 'free', 2, 'skilled', 1, 'yes', 'yes', 0.0, 2.0, 1.0, 2.0, 0.0, 2.0, 0.0, 0.0, 1.0, 0.0, 0.0, 0.0, 1.0, [0.0, 2.0, 1.0, 2.0, 1.0, 0.0, 0.0, 0.0, 0.0, 2.0, 0.0, 1.0, 0.0, 36.0, 6662.0, 4.0, 3.0, 36.0, 45.0, 2.0, 1.0], [7.852025189373107, 12.147974810626893], [0.3926012594686553, 0.6073987405313447], 1.0, 'Risk'], ['0_to_200', 21, 'credits_paid_to_date', 'repairs', 5184, 'less_100', 'less_1', 3, 'male', 'co-applicant', 3, 'car_other', 38, 'none', 'own', 1, 'skilled', 1, 'none', 'yes', 2.0, 1.0, 3.0, 0.0, 0.0, 0.0, 0.0, 0.0, 5.0, 1.0, 1.0, 0.0, 0.0, [2.0, 1.0, 5.0, 0.0, 3.0, 0.0, 1.0, 1.0, 0.0, 0.0, 0.0, 0.0, 0.0, 21.0, 5184.0, 3.0, 3.0, 21.0, 38.0, 1.0, 1.0], [14.875034268244267, 5.124965731755729], [0.7437517134122135, 0.25624828658778653], 0.0, 'No Risk'], ['0_to_200', 16, 'credits_paid_to_date', 'furniture', 1270, 'less_100', 'less_1', 2, 'female', 'co-applicant', 3, 'real_estate', 39, 'bank', 'own', 1, 'unemployed', 1, 'yes', 'yes', 2.0, 1.0, 3.0, 0.0, 0.0, 0.0, 2.0, 3.0, 1.0, 1.0, 2.0, 1.0, 1.0, [2.0, 1.0, 1.0, 0.0, 3.0, 1.0, 1.0, 2.0, 2.0, 0.0, 3.0, 1.0, 0.0, 16.0, 1270.0, 2.0, 3.0, 16.0, 39.0, 1.0, 1.0], [16.014083744231115, 3.9859162557688848], [0.8007041872115558, 0.19929581278844424], 0.0, 'No Risk'], ['0_to_200', 15, 'credits_paid_to_date', 'vacation', 676, 'less_100', '4_to_7', 2, 'female', 'none', 1, 'savings_insurance', 31, 'bank', 'rent', 1, 'unskilled', 1, 'none', 'yes', 2.0, 1.0, 1.0, 0.0, 0.0, 1.0, 2.0, 1.0, 6.0, 0.0, 0.0, 1.0, 0.0, [2.0, 1.0, 6.0, 0.0, 1.0, 1.0, 0.0, 0.0, 2.0, 1.0, 1.0, 0.0, 0.0, 15.0, 676.0, 2.0, 1.0, 15.0, 31.0, 1.0, 1.0], [17.89234513143671, 2.1076548685632956], [0.8946172565718353, 0.10538274342816477], 0.0, 'No Risk'], ['greater_200', 33, 'prior_payments_delayed', 'business', 7909, '100_to_500', '1_to_4', 4, 'male', 'none', 3, 'unknown', 32, 'none', 'own', 1, 'skilled', 1, 'yes', 'yes', 3.0, 0.0, 0.0, 1.0, 0.0, 0.0, 0.0, 0.0, 9.0, 0.0, 3.0, 0.0, 1.0, [3.0, 0.0, 9.0, 1.0, 0.0, 0.0, 0.0, 3.0, 0.0, 0.0, 0.0, 1.0, 0.0, 33.0, 7909.0, 4.0, 3.0, 33.0, 32.0, 1.0, 1.0], [10.274170367623372, 9.725829632376627], [0.5137085183811686, 0.48629148161883134], 0.0, 'No Risk'], ['less_0', 16, 'credits_paid_to_date', 'car_new', 2058, '500_to_1000', 'unemployed', 2, 'female', 'none', 1, 'real_estate', 19, 'stores', 'rent', 2, 'skilled', 1, 'none', 'yes', 1.0, 1.0, 4.0, 2.0, 0.0, 1.0, 1.0, 0.0, 0.0, 0.0, 2.0, 1.0, 0.0, [1.0, 1.0, 0.0, 2.0, 4.0, 1.0, 0.0, 2.0, 1.0, 1.0, 0.0, 0.0, 0.0, 16.0, 2058.0, 2.0, 1.0, 16.0, 19.0, 2.0, 1.0], [17.067453300275492, 2.9325466997245093], [0.8533726650137746, 0.14662733498622546], 0.0, 'No Risk'], ['0_to_200', 24, 'credits_paid_to_date', 'radio_tv', 1703, 'greater_1000', '1_to_4', 3, 'male', 'none', 2, 'real_estate', 32, 'none', 'own', 2, 'skilled', 1, 'yes', 'yes', 2.0, 1.0, 0.0, 3.0, 0.0, 0.0, 0.0, 0.0, 3.0, 0.0, 2.0, 0.0, 1.0, [2.0, 1.0, 3.0, 3.0, 0.0, 0.0, 0.0, 2.0, 0.0, 0.0, 0.0, 1.0, 0.0, 24.0, 1703.0, 3.0, 2.0, 24.0, 32.0, 2.0, 1.0], [17.03954457176886, 2.960455428231138], [0.851977228588443, 0.1480227714115569], 0.0, 'No Risk'], ['0_to_200', 17, 'credits_paid_to_date', 'car_new', 2637, 'less_100', '4_to_7', 3, 'female', 'none', 3, 'car_other', 37, 'none', 'own', 1, 'skilled', 1, 'none', 'yes', 2.0, 1.0, 1.0, 0.0, 0.0, 0.0, 0.0, 0.0, 0.0, 0.0, 1.0, 1.0, 0.0, [2.0, 1.0, 0.0, 0.0, 1.0, 1.0, 0.0, 1.0, 0.0, 0.0, 0.0, 0.0, 0.0, 17.0, 2637.0, 3.0, 3.0, 17.0, 37.0, 1.0, 1.0], [15.197497126494701, 4.8025028735053015], [0.759874856324735, 0.24012514367526502], 0.0, 'No Risk'], ['no_checking', 25, 'prior_payments_delayed', 'radio_tv', 6529, 'unknown', 'greater_7', 5, 'male', 'none', 3, 'unknown', 55, 'none', 'free', 2, 'skilled', 2, 'yes', 'yes', 0.0, 0.0, 2.0, 4.0, 0.0, 2.0, 0.0, 0.0, 3.0, 0.0, 3.0, 0.0, 1.0, [0.0, 0.0, 3.0, 4.0, 2.0, 0.0, 0.0, 3.0, 0.0, 2.0, 0.0, 1.0, 0.0, 25.0, 6529.0, 5.0, 3.0, 25.0, 55.0, 2.0, 2.0], [5.296007723362638, 14.703992276637365], [0.26480038616813184, 0.7351996138318682], 1.0, 'Risk'], ['0_to_200', 17, 'prior_payments_delayed', 'education', 1248, 'greater_1000', '4_to_7', 3, 'male', 'none', 2, 'savings_insurance', 19, 'bank', 'rent', 2, 'unemployed', 1, 'yes', 'yes', 2.0, 0.0, 1.0, 3.0, 0.0, 1.0, 2.0, 3.0, 7.0, 0.0, 0.0, 0.0, 1.0, [2.0, 0.0, 7.0, 3.0, 1.0, 0.0, 0.0, 0.0, 2.0, 1.0, 3.0, 1.0, 0.0, 17.0, 1248.0, 3.0, 2.0, 17.0, 19.0, 2.0, 1.0], [15.567146890187022, 4.432853109812975], [0.7783573445093512, 0.2216426554906488], 0.0, 'No Risk'], ['0_to_200', 21, 'credits_paid_to_date', 'retraining', 4025, 'less_100', '1_to_4', 2, 'male', 'co-applicant', 3, 'car_other', 34, 'bank', 'own', 1, 'unskilled', 1, 'none', 'yes', 2.0, 1.0, 0.0, 0.0, 0.0, 0.0, 2.0, 1.0, 8.0, 1.0, 1.0, 0.0, 0.0, [2.0, 1.0, 8.0, 0.0, 0.0, 0.0, 1.0, 1.0, 2.0, 0.0, 1.0, 0.0, 0.0, 21.0, 4025.0, 2.0, 3.0, 21.0, 34.0, 1.0, 1.0], [14.58494238056161, 5.415057619438388], [0.7292471190280805, 0.2707528809719194], 0.0, 'No Risk'], ['less_0', 16, 'credits_paid_to_date', 'furniture', 988, 'less_100', '1_to_4', 3, 'female', 'none', 3, 'savings_insurance', 30, 'none', 'own', 1, 'skilled', 1, 'none', 'yes', 1.0, 1.0, 0.0, 0.0, 0.0, 0.0, 0.0, 0.0, 1.0, 0.0, 0.0, 1.0, 0.0, [21, [0, 1, 2, 5, 13, 14, 15, 16, 17, 18, 19, 20], [1.0, 1.0, 1.0, 1.0, 16.0, 988.0, 3.0, 3.0, 16.0, 30.0, 1.0, 1.0]], [16.735252630268576, 3.2647473697314227], [0.8367626315134288, 0.16323736848657114], 0.0, 'No Risk'], ['0_to_200', 14, 'credits_paid_to_date', 'car_used', 1457, '100_to_500', 'less_1', 3, 'male', 'none', 3, 'car_other', 31, 'none', 'own', 1, 'skilled', 1, 'yes', 'yes', 2.0, 1.0, 3.0, 1.0, 0.0, 0.0, 0.0, 0.0, 2.0, 0.0, 1.0, 0.0, 1.0, [2.0, 1.0, 2.0, 1.0, 3.0, 0.0, 0.0, 1.0, 0.0, 0.0, 0.0, 1.0, 0.0, 14.0, 1457.0, 3.0, 3.0, 14.0, 31.0, 1.0, 1.0], [16.740535598896148, 3.25946440110385], [0.8370267799448075, 0.1629732200551925], 0.0, 'No Risk'], ['no_checking', 25, 'prior_payments_delayed', 'education', 4829, 'greater_1000', '4_to_7', 4, 'male', 'none', 4, 'unknown', 41, 'none', 'free', 2, 'skilled', 2, 'yes', 'yes', 0.0, 0.0, 1.0, 3.0, 0.0, 2.0, 0.0, 0.0, 7.0, 0.0, 3.0, 0.0, 1.0, [0.0, 0.0, 7.0, 3.0, 1.0, 0.0, 0.0, 3.0, 0.0, 2.0, 0.0, 1.0, 0.0, 25.0, 4829.0, 4.0, 4.0, 25.0, 41.0, 2.0, 2.0], [8.023326036678183, 11.976673963321817], [0.40116630183390917, 0.5988336981660909], 1.0, 'Risk'], ['less_0', 25, 'credits_paid_to_date', 'retraining', 5881, 'less_100', 'less_1', 2, 'male', 'none', 2, 'unknown', 31, 'none', 'own', 1, 'skilled', 1, 'yes', 'yes', 1.0, 1.0, 3.0, 0.0, 0.0, 0.0, 0.0, 0.0, 8.0, 0.0, 3.0, 0.0, 1.0, [1.0, 1.0, 8.0, 0.0, 3.0, 0.0, 0.0, 3.0, 0.0, 0.0, 0.0, 1.0, 0.0, 25.0, 5881.0, 2.0, 2.0, 25.0, 31.0, 1.0, 1.0], [16.029612652989684, 3.9703873470103135], [0.8014806326494843, 0.1985193673505157], 0.0, 'No Risk'], ['less_0', 4, 'prior_payments_delayed', 'car_new', 250, 'less_100', 'unemployed', 1, 'female', 'none', 1, 'savings_insurance', 24, 'stores', 'rent', 1, 'skilled', 1, 'none', 'yes', 1.0, 0.0, 4.0, 0.0, 0.0, 1.0, 1.0, 0.0, 0.0, 0.0, 0.0, 1.0, 0.0, [1.0, 0.0, 0.0, 0.0, 4.0, 1.0, 0.0, 0.0, 1.0, 1.0, 0.0, 0.0, 0.0, 4.0, 250.0, 1.0, 1.0, 4.0, 24.0, 1.0, 1.0], [18.886259287352384, 1.1137407126476206], [0.944312964367619, 0.055687035632381025], 0.0, 'No Risk'], ['no_checking', 26, 'outstanding_credit', 'radio_tv', 6391, '500_to_1000', 'greater_7', 5, 'male', 'co-applicant', 5, 'car_other', 50, 'none', 'own', 2, 'management_self-employed', 1, 'yes', 'yes', 0.0, 2.0, 2.0, 2.0, 0.0, 0.0, 0.0, 2.0, 3.0, 1.0, 1.0, 0.0, 1.0, [0.0, 2.0, 3.0, 2.0, 2.0, 0.0, 1.0, 1.0, 0.0, 0.0, 2.0, 1.0, 0.0, 26.0, 6391.0, 5.0, 5.0, 26.0, 50.0, 2.0, 1.0], [2.7188094434735497, 17.28119055652645], [0.1359404721736775, 0.8640595278263226], 1.0, 'Risk'], ['less_0', 4, 'all_credits_paid_back', 'car_new', 250, 'less_100', 'unemployed', 1, 'female', 'none', 2, 'real_estate', 22, 'none', 'own', 1, 'skilled', 1, 'none', 'yes', 1.0, 3.0, 4.0, 0.0, 0.0, 0.0, 0.0, 0.0, 0.0, 0.0, 2.0, 1.0, 0.0, [1.0, 3.0, 0.0, 0.0, 4.0, 1.0, 0.0, 2.0, 0.0, 0.0, 0.0, 0.0, 0.0, 4.0, 250.0, 1.0, 2.0, 4.0, 22.0, 1.0, 1.0], [19.497656272625395, 0.5023437273746052], [0.9748828136312697, 0.02511718636873026], 0.0, 'No Risk'], ['no_checking', 28, 'prior_payments_delayed', 'business', 3687, 'unknown', '1_to_4', 3, 'female', 'none', 4, 'savings_insurance', 25, 'none', 'own', 1, 'skilled', 1, 'none', 'yes', 0.0, 0.0, 0.0, 4.0, 0.0, 0.0, 0.0, 0.0, 9.0, 0.0, 0.0, 1.0, 0.0, [21, [2, 3, 5, 13, 14, 15, 16, 17, 18, 19, 20], [9.0, 4.0, 1.0, 28.0, 3687.0, 3.0, 4.0, 28.0, 25.0, 1.0, 1.0]], [14.247505571520211, 5.752494428479787], [0.7123752785760106, 0.28762472142398937], 0.0, 'No Risk'], ['greater_200', 12, 'credits_paid_to_date', 'car_new', 250, 'less_100', 'less_1', 2, 'female', 'none', 3, 'savings_insurance', 29, 'none', 'own', 1, 'skilled', 1, 'none', 'yes', 3.0, 1.0, 3.0, 0.0, 0.0, 0.0, 0.0, 0.0, 0.0, 0.0, 0.0, 1.0, 0.0, [21, [0, 1, 4, 5, 13, 14, 15, 16, 17, 18, 19, 20], [3.0, 1.0, 3.0, 1.0, 12.0, 250.0, 2.0, 3.0, 12.0, 29.0, 1.0, 1.0]], [18.50976489287529, 1.490235107124711], [0.9254882446437644, 0.07451175535623555], 0.0, 'No Risk'], ['no_checking', 27, 'outstanding_credit', 'appliances', 5987, '500_to_1000', 'greater_7', 3, 'male', 'co-applicant', 3, 'unknown', 56, 'none', 'free', 2, 'skilled', 1, 'yes', 'yes', 0.0, 2.0, 2.0, 2.0, 0.0, 2.0, 0.0, 0.0, 4.0, 1.0, 3.0, 0.0, 1.0, [0.0, 2.0, 4.0, 2.0, 2.0, 0.0, 1.0, 3.0, 0.0, 2.0, 0.0, 1.0, 0.0, 27.0, 5987.0, 3.0, 3.0, 27.0, 56.0, 2.0, 1.0], [1.5615924654146793, 18.438407534585323], [0.07807962327073395, 0.921920376729266], 1.0, 'Risk'], ['less_0', 13, 'all_credits_paid_back', 'vacation', 3459, 'less_100', '1_to_4', 2, 'female', 'none', 2, 'savings_insurance', 35, 'none', 'own', 1, 'skilled', 1, 'none', 'yes', 1.0, 3.0, 0.0, 0.0, 0.0, 0.0, 0.0, 0.0, 6.0, 0.0, 0.0, 1.0, 0.0, [21, [0, 1, 2, 5, 13, 14, 15, 16, 17, 18, 19, 20], [1.0, 3.0, 6.0, 1.0, 13.0, 3459.0, 2.0, 2.0, 13.0, 35.0, 1.0, 1.0]], [17.69126612048061, 2.3087338795193904], [0.8845633060240304, 0.11543669397596952], 0.0, 'No Risk'], ['no_checking', 33, 'prior_payments_delayed', 'furniture', 1933, 'unknown', '1_to_4', 2, 'male', 'none', 4, 'car_other', 33, 'none', 'own', 1, 'skilled', 1, 'none', 'yes', 0.0, 0.0, 0.0, 4.0, 0.0, 0.0, 0.0, 0.0, 1.0, 0.0, 1.0, 0.0, 0.0, [21, [2, 3, 7, 13, 14, 15, 16, 17, 18, 19, 20], [1.0, 4.0, 1.0, 33.0, 1933.0, 2.0, 4.0, 33.0, 33.0, 1.0, 1.0]], [13.801079551433064, 6.198920448566936], [0.6900539775716532, 0.3099460224283468], 0.0, 'No Risk'], ['less_0', 28, 'outstanding_credit', 'appliances', 1691, '500_to_1000', '1_to_4', 3, 'male', 'none', 2, 'savings_insurance', 29, 'none', 'rent', 2, 'skilled', 1, 'none', 'yes', 1.0, 2.0, 0.0, 2.0, 0.0, 1.0, 0.0, 0.0, 4.0, 0.0, 0.0, 0.0, 0.0, [1.0, 2.0, 4.0, 2.0, 0.0, 0.0, 0.0, 0.0, 0.0, 1.0, 0.0, 0.0, 0.0, 28.0, 1691.0, 3.0, 2.0, 28.0, 29.0, 2.0, 1.0], [15.305842878429276, 4.694157121570722], [0.7652921439214638, 0.23470785607853611], 0.0, 'No Risk'], ['no_checking', 33, 'prior_payments_delayed', 'vacation', 7025, '100_to_500', '4_to_7', 4, 'male', 'none', 4, 'unknown', 41, 'stores', 'own', 2, 'unskilled', 2, 'yes', 'yes', 0.0, 0.0, 1.0, 1.0, 0.0, 0.0, 1.0, 1.0, 6.0, 0.0, 3.0, 0.0, 1.0, [0.0, 0.0, 6.0, 1.0, 1.0, 0.0, 0.0, 3.0, 1.0, 0.0, 1.0, 1.0, 0.0, 33.0, 7025.0, 4.0, 4.0, 33.0, 41.0, 2.0, 2.0], [8.992489479640907, 11.007510520359093], [0.44962447398204536, 0.5503755260179546], 1.0, 'Risk'], ['less_0', 23, 'prior_payments_delayed', 'repairs', 1544, '100_to_500', '4_to_7', 3, 'male', 'none', 3, 'savings_insurance', 27, 'none', 'own', 1, 'skilled', 1, 'none', 'yes', 1.0, 0.0, 1.0, 1.0, 0.0, 0.0, 0.0, 0.0, 5.0, 0.0, 0.0, 0.0, 0.0, [21, [0, 2, 3, 4, 13, 14, 15, 16, 17, 18, 19, 20], [1.0, 5.0, 1.0, 1.0, 23.0, 1544.0, 3.0, 3.0, 23.0, 27.0, 1.0, 1.0]], [15.370342677903471, 4.629657322096529], [0.7685171338951735, 0.23148286610482643], 0.0, 'No Risk'], ['0_to_200', 4, 'credits_paid_to_date', 'vacation', 1521, '100_to_500', '1_to_4', 2, 'female', 'none', 2, 'savings_insurance', 32, 'none', 'rent', 1, 'skilled', 1, 'none', 'yes', 2.0, 1.0, 0.0, 1.0, 0.0, 1.0, 0.0, 0.0, 6.0, 0.0, 0.0, 1.0, 0.0, [2.0, 1.0, 6.0, 1.0, 0.0, 1.0, 0.0, 0.0, 0.0, 1.0, 0.0, 0.0, 0.0, 4.0, 1521.0, 2.0, 2.0, 4.0, 32.0, 1.0, 1.0], [17.86377468713134, 2.1362253128686652], [0.8931887343565669, 0.10681126564343324], 0.0, 'No Risk'], ['no_checking', 25, 'prior_payments_delayed', 'radio_tv', 9803, '100_to_500', 'greater_7', 5, 'male', 'co-applicant', 3, 'car_other', 53, 'none', 'free', 2, 'skilled', 1, 'none', 'yes', 0.0, 0.0, 2.0, 1.0, 0.0, 2.0, 0.0, 0.0, 3.0, 1.0, 1.0, 0.0, 0.0, [0.0, 0.0, 3.0, 1.0, 2.0, 0.0, 1.0, 1.0, 0.0, 2.0, 0.0, 0.0, 0.0, 25.0, 9803.0, 5.0, 3.0, 25.0, 53.0, 2.0, 1.0], [4.819475462041757, 15.180524537958242], [0.24097377310208784, 0.7590262268979121], 1.0, 'Risk'], ['no_checking', 28, 'prior_payments_delayed', 'repairs', 6998, '100_to_500', '1_to_4', 4, 'male', 'none', 3, 'car_other', 37, 'stores', 'own', 2, 'unskilled', 1, 'yes', 'yes', 0.0, 0.0, 0.0, 1.0, 0.0, 0.0, 1.0, 1.0, 5.0, 0.0, 1.0, 0.0, 1.0, [0.0, 0.0, 5.0, 1.0, 0.0, 0.0, 0.0, 1.0, 1.0, 0.0, 1.0, 1.0, 0.0, 28.0, 6998.0, 4.0, 3.0, 28.0, 37.0, 2.0, 1.0], [12.520781126157827, 7.479218873842174], [0.6260390563078914, 0.3739609436921087], 0.0, 'No Risk'], ['less_0', 12, 'credits_paid_to_date', 'car_new', 1071, 'less_100', 'less_1', 2, 'male', 'none', 1, 'savings_insurance', 28, 'stores', 'rent', 1, 'skilled', 1, 'none', 'yes', 1.0, 1.0, 3.0, 0.0, 0.0, 1.0, 1.0, 0.0, 0.0, 0.0, 0.0, 0.0, 0.0, [1.0, 1.0, 0.0, 0.0, 3.0, 0.0, 0.0, 0.0, 1.0, 1.0, 0.0, 0.0, 0.0, 12.0, 1071.0, 2.0, 1.0, 12.0, 28.0, 1.0, 1.0], [18.9643528628695, 1.0356471371305012], [0.948217643143475, 0.05178235685652506], 0.0, 'No Risk'], ['no_checking', 43, 'prior_payments_delayed', 'radio_tv', 5720, '500_to_1000', '4_to_7', 5, 'male', 'none', 4, 'car_other', 40, 'none', 'free', 2, 'skilled', 1, 'yes', 'yes', 0.0, 0.0, 1.0, 2.0, 0.0, 2.0, 0.0, 0.0, 3.0, 0.0, 1.0, 0.0, 1.0, [0.0, 0.0, 3.0, 2.0, 1.0, 0.0, 0.0, 1.0, 0.0, 2.0, 0.0, 1.0, 0.0, 43.0, 5720.0, 5.0, 4.0, 43.0, 40.0, 2.0, 1.0], [8.432177679679155, 11.567822320320841], [0.42160888398395785, 0.5783911160160422], 1.0, 'Risk'], ['no_checking', 41, 'prior_payments_delayed', 'radio_tv', 5039, '500_to_1000', '4_to_7', 4, 'male', 'none', 2, 'savings_insurance', 45, 'none', 'own', 2, 'skilled', 1, 'yes', 'yes', 0.0, 0.0, 1.0, 2.0, 0.0, 0.0, 0.0, 0.0, 3.0, 0.0, 0.0, 0.0, 1.0, [21, [2, 3, 4, 11, 13, 14, 15, 16, 17, 18, 19, 20], [3.0, 2.0, 1.0, 1.0, 41.0, 5039.0, 4.0, 2.0, 41.0, 45.0, 2.0, 1.0]], [9.676096477123451, 10.32390352287655], [0.48380482385617257, 0.5161951761438275], 1.0, 'Risk'], ['0_to_200', 4, 'all_credits_paid_back', 'car_new', 370, 'less_100', 'unemployed', 2, 'male', 'none', 2, 'real_estate', 33, 'none', 'own', 1, 'skilled', 1, 'none', 'yes', 2.0, 3.0, 4.0, 0.0, 0.0, 0.0, 0.0, 0.0, 0.0, 0.0, 2.0, 0.0, 0.0, [21, [0, 1, 4, 7, 13, 14, 15, 16, 17, 18, 19, 20], [2.0, 3.0, 4.0, 2.0, 4.0, 370.0, 2.0, 2.0, 4.0, 33.0, 1.0, 1.0]], [18.96722874778615, 1.0327712522138475], [0.9483614373893076, 0.05163856261069237], 0.0, 'No Risk'], ['no_checking', 27, 'all_credits_paid_back', 'car_new', 6785, 'less_100', '1_to_4', 4, 'male', 'none', 4, 'car_other', 46, 'none', 'own', 2, 'management_self-employed', 2, 'none', 'yes', 0.0, 3.0, 0.0, 0.0, 0.0, 0.0, 0.0, 2.0, 0.0, 0.0, 1.0, 0.0, 0.0, [21, [1, 7, 10, 13, 14, 15, 16, 17, 18, 19, 20], [3.0, 1.0, 2.0, 27.0, 6785.0, 4.0, 4.0, 27.0, 46.0, 2.0, 2.0]], [12.390461912305774, 7.609538087694225], [0.6195230956152887, 0.38047690438471127], 0.0, 'No Risk'], ['less_0', 18, 'prior_payments_delayed', 'radio_tv', 3021, 'less_100', '4_to_7', 2, 'female', 'none', 2, 'car_other', 24, 'stores', 'own', 1, 'skilled', 1, 'none', 'yes', 1.0, 0.0, 1.0, 0.0, 0.0, 0.0, 1.0, 0.0, 3.0, 0.0, 1.0, 1.0, 0.0, [1.0, 0.0, 3.0, 0.0, 1.0, 1.0, 0.0, 1.0, 1.0, 0.0, 0.0, 0.0, 0.0, 18.0, 3021.0, 2.0, 2.0, 18.0, 24.0, 1.0, 1.0], [17.037290240971245, 2.962709759028755], [0.8518645120485623, 0.14813548795143777], 0.0, 'No Risk'], ['less_0', 34, 'outstanding_credit', 'radio_tv', 1131, '100_to_500', '4_to_7', 3, 'male', 'none', 3, 'savings_insurance', 39, 'none', 'own', 1, 'skilled', 2, 'yes', 'yes', 1.0, 2.0, 1.0, 1.0, 0.0, 0.0, 0.0, 0.0, 3.0, 0.0, 0.0, 0.0, 1.0, [1.0, 2.0, 3.0, 1.0, 1.0, 0.0, 0.0, 0.0, 0.0, 0.0, 0.0, 1.0, 0.0, 34.0, 1131.0, 3.0, 3.0, 34.0, 39.0, 1.0, 2.0], [12.079395519408331, 7.920604480591671], [0.6039697759704165, 0.3960302240295835], 0.0, 'No Risk'], ['0_to_200', 15, 'prior_payments_delayed', 'car_new', 250, 'less_100', 'less_1', 2, 'male', 'none', 3, 'savings_insurance', 27, 'none', 'own', 1, 'skilled', 1, 'none', 'yes', 2.0, 0.0, 3.0, 0.0, 0.0, 0.0, 0.0, 0.0, 0.0, 0.0, 0.0, 0.0, 0.0, [21, [0, 4, 13, 14, 15, 16, 17, 18, 19, 20], [2.0, 3.0, 15.0, 250.0, 2.0, 3.0, 15.0, 27.0, 1.0, 1.0]], [17.993085649722918, 2.006914350277085], [0.8996542824861458, 0.10034571751385424], 0.0, 'No Risk'], ['less_0', 4, 'credits_paid_to_date', 'car_new', 250, 'less_100', '1_to_4', 2, 'male', 'none', 2, 'real_estate', 19, 'bank', 'own', 1, 'unemployed', 1, 'none', 'yes', 1.0, 1.0, 0.0, 0.0, 0.0, 0.0, 2.0, 3.0, 0.0, 0.0, 2.0, 0.0, 0.0, [1.0, 1.0, 0.0, 0.0, 0.0, 0.0, 0.0, 2.0, 2.0, 0.0, 3.0, 0.0, 0.0, 4.0, 250.0, 2.0, 2.0, 4.0, 19.0, 1.0, 1.0], [19.243667359980105, 0.7563326400198978], [0.9621833679990051, 0.03781663200099488], 0.0, 'No Risk'], ['less_0', 15, 'credits_paid_to_date', 'car_new', 2376, '500_to_1000', '1_to_4', 2, 'male', 'none', 1, 'savings_insurance', 34, 'none', 'own', 1, 'skilled', 1, 'none', 'yes', 1.0, 1.0, 0.0, 2.0, 0.0, 0.0, 0.0, 0.0, 0.0, 0.0, 0.0, 0.0, 0.0, [21, [0, 1, 3, 13, 14, 15, 16, 17, 18, 19, 20], [1.0, 1.0, 2.0, 15.0, 2376.0, 2.0, 1.0, 15.0, 34.0, 1.0, 1.0]], [17.195396884580052, 2.804603115419949], [0.8597698442290026, 0.14023015577099746], 0.0, 'No Risk'], ['no_checking', 19, 'outstanding_credit', 'car_used', 7757, '100_to_500', 'greater_7', 3, 'male', 'co-applicant', 3, 'car_other', 41, 'none', 'free', 2, 'management_self-employed', 1, 'none', 'yes', 0.0, 2.0, 2.0, 1.0, 0.0, 2.0, 0.0, 2.0, 2.0, 1.0, 1.0, 0.0, 0.0, [0.0, 2.0, 2.0, 1.0, 2.0, 0.0, 1.0, 1.0, 0.0, 2.0, 2.0, 0.0, 0.0, 19.0, 7757.0, 3.0, 3.0, 19.0, 41.0, 2.0, 1.0], [9.267874845134381, 10.732125154865619], [0.46339374225671903, 0.536606257743281], 1.0, 'Risk'], ['less_0', 22, 'credits_paid_to_date', 'radio_tv', 509, '500_to_1000', '1_to_4', 1, 'male', 'none', 3, 'real_estate', 26, 'bank', 'rent', 1, 'unskilled', 1, 'none', 'yes', 1.0, 1.0, 0.0, 2.0, 0.0, 1.0, 2.0, 1.0, 3.0, 0.0, 2.0, 0.0, 0.0, [1.0, 1.0, 3.0, 2.0, 0.0, 0.0, 0.0, 2.0, 2.0, 1.0, 1.0, 0.0, 0.0, 22.0, 509.0, 1.0, 3.0, 22.0, 26.0, 1.0, 1.0], [17.10266744410128, 2.897332555898723], [0.8551333722050639, 0.14486662779493614], 0.0, 'No Risk'], ['no_checking', 32, 'prior_payments_delayed', 'car_used', 3085, '500_to_1000', 'greater_7', 4, 'male', 'none', 3, 'savings_insurance', 45, 'none', 'free', 2, 'skilled', 1, 'none', 'yes', 0.0, 0.0, 2.0, 2.0, 0.0, 2.0, 0.0, 0.0, 2.0, 0.0, 0.0, 0.0, 0.0, [21, [2, 3, 4, 9, 13, 14, 15, 16, 17, 18, 19, 20], [2.0, 2.0, 2.0, 2.0, 32.0, 3085.0, 4.0, 3.0, 32.0, 45.0, 2.0, 1.0]], [8.74747967492382, 11.25252032507618], [0.437373983746191, 0.562626016253809], 1.0, 'Risk'], ['no_checking', 35, 'prior_payments_delayed', 'other', 6433, '500_to_1000', '1_to_4', 4, 'female', 'co-applicant', 4, 'car_other', 43, 'none', 'own', 1, 'skilled', 1, 'none', 'yes', 0.0, 0.0, 0.0, 2.0, 0.0, 0.0, 0.0, 0.0, 10.0, 1.0, 1.0, 1.0, 0.0, [0.0, 0.0, 10.0, 2.0, 0.0, 1.0, 1.0, 1.0, 0.0, 0.0, 0.0, 0.0, 0.0, 35.0, 6433.0, 4.0, 4.0, 35.0, 43.0, 1.0, 1.0], [10.53830563608842, 9.461694363911581], [0.526915281804421, 0.47308471819557907], 0.0, 'No Risk'], ['greater_200', 33, 'prior_payments_delayed', 'furniture', 6637, '100_to_500', '1_to_4', 3, 'male', 'none', 4, 'savings_insurance', 41, 'none', 'own', 2, 'management_self-employed', 1, 'yes', 'yes', 3.0, 0.0, 0.0, 1.0, 0.0, 0.0, 0.0, 2.0, 1.0, 0.0, 0.0, 0.0, 1.0, [3.0, 0.0, 1.0, 1.0, 0.0, 0.0, 0.0, 0.0, 0.0, 0.0, 2.0, 1.0, 0.0, 33.0, 6637.0, 3.0, 4.0, 33.0, 41.0, 2.0, 1.0], [11.931894832025563, 8.068105167974439], [0.5965947416012781, 0.40340525839872193], 0.0, 'No Risk'], ['less_0', 13, 'all_credits_paid_back', 'car_new', 282, 'less_100', 'unemployed', 1, 'female', 'none', 1, 'savings_insurance', 25, 'stores', 'rent', 1, 'skilled', 1, 'none', 'yes', 1.0, 3.0, 4.0, 0.0, 0.0, 1.0, 1.0, 0.0, 0.0, 0.0, 0.0, 1.0, 0.0, [1.0, 3.0, 0.0, 0.0, 4.0, 1.0, 0.0, 0.0, 1.0, 1.0, 0.0, 0.0, 0.0, 13.0, 282.0, 1.0, 1.0, 13.0, 25.0, 1.0, 1.0], [19.347698050016497, 0.6523019499835047], [0.9673849025008249, 0.03261509749917523], 0.0, 'No Risk'], ['no_checking', 32, 'prior_payments_delayed', 'retraining', 5105, '100_to_500', '4_to_7', 3, 'male', 'guarantor', 4, 'savings_insurance', 39, 'none', 'free', 1, 'skilled', 1, 'yes', 'yes', 0.0, 0.0, 1.0, 1.0, 0.0, 2.0, 0.0, 0.0, 8.0, 2.0, 0.0, 0.0, 1.0, [0.0, 0.0, 8.0, 1.0, 1.0, 0.0, 2.0, 0.0, 0.0, 2.0, 0.0, 1.0, 0.0, 32.0, 5105.0, 3.0, 4.0, 32.0, 39.0, 1.0, 1.0], [6.34602477888541, 13.653975221114587], [0.3173012389442706, 0.6826987610557295], 1.0, 'Risk'], ['0_to_200', 18, 'prior_payments_delayed', 'furniture', 3701, '100_to_500', 'less_1', 2, 'male', 'none', 3, 'unknown', 43, 'stores', 'own', 1, 'unskilled', 1, 'none', 'yes', 2.0, 0.0, 3.0, 1.0, 0.0, 0.0, 1.0, 1.0, 1.0, 0.0, 3.0, 0.0, 0.0, [2.0, 0.0, 1.0, 1.0, 3.0, 0.0, 0.0, 3.0, 1.0, 0.0, 1.0, 0.0, 0.0, 18.0, 3701.0, 2.0, 3.0, 18.0, 43.0, 1.0, 1.0], [15.480910825117661, 4.519089174882337], [0.7740455412558831, 0.22595445874411685], 0.0, 'No Risk'], ['less_0', 11, 'all_credits_paid_back', 'car_used', 250, '100_to_500', 'less_1', 1, 'female', 'none', 1, 'savings_insurance', 29, 'stores', 'rent', 1, 'unskilled', 1, 'none', 'yes', 1.0, 3.0, 3.0, 1.0, 0.0, 1.0, 1.0, 1.0, 2.0, 0.0, 0.0, 1.0, 0.0, [1.0, 3.0, 2.0, 1.0, 3.0, 1.0, 0.0, 0.0, 1.0, 1.0, 1.0, 0.0, 0.0, 11.0, 250.0, 1.0, 1.0, 11.0, 29.0, 1.0, 1.0], [19.175363599203624, 0.8246364007963769], [0.9587681799601813, 0.041231820039818845], 0.0, 'No Risk'], ['no_checking', 17, 'credits_paid_to_date', 'car_used', 2800, '100_to_500', '4_to_7', 2, 'female', 'none', 2, 'real_estate', 36, 'none', 'own', 1, 'skilled', 1, 'none', 'yes', 0.0, 1.0, 1.0, 1.0, 0.0, 0.0, 0.0, 0.0, 2.0, 0.0, 2.0, 1.0, 0.0, [0.0, 1.0, 2.0, 1.0, 1.0, 1.0, 0.0, 2.0, 0.0, 0.0, 0.0, 0.0, 0.0, 17.0, 2800.0, 2.0, 2.0, 17.0, 36.0, 1.0, 1.0], [15.622466670269732, 4.377533329730266], [0.7811233335134866, 0.2188766664865133], 0.0, 'No Risk'], ['no_checking', 25, 'outstanding_credit', 'appliances', 6809, 'unknown', '1_to_4', 4, 'male', 'none', 5, 'car_other', 38, 'none', 'own', 2, 'management_self-employed', 1, 'yes', 'yes', 0.0, 2.0, 0.0, 4.0, 0.0, 0.0, 0.0, 2.0, 4.0, 0.0, 1.0, 0.0, 1.0, [0.0, 2.0, 4.0, 4.0, 0.0, 0.0, 0.0, 1.0, 0.0, 0.0, 2.0, 1.0, 0.0, 25.0, 6809.0, 4.0, 5.0, 25.0, 38.0, 2.0, 1.0], [11.219682417735829, 8.780317582264171], [0.5609841208867914, 0.43901587911320855], 0.0, 'No Risk'], ['greater_200', 21, 'outstanding_credit', 'furniture', 3626, '500_to_1000', '1_to_4', 4, 'female', 'none', 4, 'savings_insurance', 39, 'none', 'free', 1, 'skilled', 1, 'none', 'yes', 3.0, 2.0, 0.0, 2.0, 0.0, 2.0, 0.0, 0.0, 1.0, 0.0, 0.0, 1.0, 0.0, [3.0, 2.0, 1.0, 2.0, 0.0, 1.0, 0.0, 0.0, 0.0, 2.0, 0.0, 0.0, 0.0, 21.0, 3626.0, 4.0, 4.0, 21.0, 39.0, 1.0, 1.0], [11.760762855994333, 8.239237144005667], [0.5880381427997167, 0.41196185720028333], 0.0, 'No Risk'], ['0_to_200', 4, 'no_credits', 'appliances', 1252, 'less_100', 'unemployed', 1, 'female', 'none', 1, 'real_estate', 19, 'none', 'rent', 1, 'skilled', 1, 'none', 'yes', 2.0, 4.0, 4.0, 0.0, 0.0, 1.0, 0.0, 0.0, 4.0, 0.0, 2.0, 1.0, 0.0, [2.0, 4.0, 4.0, 0.0, 4.0, 1.0, 0.0, 2.0, 0.0, 1.0, 0.0, 0.0, 0.0, 4.0, 1252.0, 1.0, 1.0, 4.0, 19.0, 1.0, 1.0], [19.392744955216816, 0.6072550447831842], [0.9696372477608408, 0.030362752239159206], 0.0, 'No Risk'], ['less_0', 10, 'prior_payments_delayed', 'car_used', 347, 'less_100', 'less_1', 2, 'female', 'none', 1, 'savings_insurance', 36, 'bank', 'rent', 1, 'unskilled', 1, 'yes', 'yes', 1.0, 0.0, 3.0, 0.0, 0.0, 1.0, 2.0, 1.0, 2.0, 0.0, 0.0, 1.0, 1.0, [1.0, 0.0, 2.0, 0.0, 3.0, 1.0, 0.0, 0.0, 2.0, 1.0, 1.0, 1.0, 0.0, 10.0, 347.0, 2.0, 1.0, 10.0, 36.0, 1.0, 1.0], [17.634567039964573, 2.365432960035429], [0.8817283519982286, 0.11827164800177145], 0.0, 'No Risk'], ['less_0', 13, 'all_credits_paid_back', 'vacation', 1587, 'less_100', 'unemployed', 2, 'female', 'co-applicant', 2, 'real_estate', 37, 'none', 'rent', 1, 'skilled', 1, 'none', 'yes', 1.0, 3.0, 4.0, 0.0, 0.0, 1.0, 0.0, 0.0, 6.0, 1.0, 2.0, 1.0, 0.0, [1.0, 3.0, 6.0, 0.0, 4.0, 1.0, 1.0, 2.0, 0.0, 1.0, 0.0, 0.0, 0.0, 13.0, 1587.0, 2.0, 2.0, 13.0, 37.0, 1.0, 1.0], [18.664253624968026, 1.3357463750319736], [0.9332126812484013, 0.06678731875159868], 0.0, 'No Risk'], ['no_checking', 27, 'prior_payments_delayed', 'radio_tv', 7161, '500_to_1000', '1_to_4', 4, 'male', 'none', 5, 'savings_insurance', 22, 'none', 'free', 2, 'management_self-employed', 1, 'none', 'yes', 0.0, 0.0, 0.0, 2.0, 0.0, 2.0, 0.0, 2.0, 3.0, 0.0, 0.0, 0.0, 0.0, [21, [2, 3, 9, 10, 13, 14, 15, 16, 17, 18, 19, 20], [3.0, 2.0, 2.0, 2.0, 27.0, 7161.0, 4.0, 5.0, 27.0, 22.0, 2.0, 1.0]], [10.583640054904754, 9.416359945095246], [0.5291820027452376, 0.4708179972547623], 0.0, 'No Risk'], ['0_to_200', 28, 'credits_paid_to_date', 'radio_tv', 250, '100_to_500', 'less_1', 2, 'female', 'co-applicant', 3, 'real_estate', 28, 'stores', 'own', 1, 'unskilled', 1, 'none', 'yes', 2.0, 1.0, 3.0, 1.0, 0.0, 0.0, 1.0, 1.0, 3.0, 1.0, 2.0, 1.0, 0.0, [2.0, 1.0, 3.0, 1.0, 3.0, 1.0, 1.0, 2.0, 1.0, 0.0, 1.0, 0.0, 0.0, 28.0, 250.0, 2.0, 3.0, 28.0, 28.0, 1.0, 1.0], [15.9304044124895, 4.0695955875105], [0.796520220624475, 0.20347977937552503], 0.0, 'No Risk'], ['less_0', 27, 'prior_payments_delayed', 'car_used', 403, 'greater_1000', '1_to_4', 3, 'female', 'none', 2, 'savings_insurance', 26, 'stores', 'own', 2, 'unskilled', 1, 'none', 'yes', 1.0, 0.0, 0.0, 3.0, 0.0, 0.0, 1.0, 1.0, 2.0, 0.0, 0.0, 1.0, 0.0, [1.0, 0.0, 2.0, 3.0, 0.0, 1.0, 0.0, 0.0, 1.0, 0.0, 1.0, 0.0, 0.0, 27.0, 403.0, 3.0, 2.0, 27.0, 26.0, 2.0, 1.0], [15.200465849040558, 4.79953415095944], [0.7600232924520279, 0.239976707547972], 0.0, 'No Risk'], ['no_checking', 9, 'prior_payments_delayed', 'car_used', 3486, 'greater_1000', '4_to_7', 4, 'male', 'none', 3, 'savings_insurance', 29, 'stores', 'rent', 2, 'unskilled', 1, 'none', 'yes', 0.0, 0.0, 1.0, 3.0, 0.0, 1.0, 1.0, 1.0, 2.0, 0.0, 0.0, 0.0, 0.0, [0.0, 0.0, 2.0, 3.0, 1.0, 0.0, 0.0, 0.0, 1.0, 1.0, 1.0, 0.0, 0.0, 9.0, 3486.0, 4.0, 3.0, 9.0, 29.0, 2.0, 1.0], [13.271459665834435, 6.728540334165564], [0.6635729832917218, 0.33642701670827824], 0.0, 'No Risk'], ['less_0', 7, 'all_credits_paid_back', 'car_new', 2617, 'less_100', 'less_1', 2, 'male', 'none', 2, 'real_estate', 19, 'none', 'rent', 1, 'skilled', 1, 'none', 'yes', 1.0, 3.0, 3.0, 0.0, 0.0, 1.0, 0.0, 0.0, 0.0, 0.0, 2.0, 0.0, 0.0, [1.0, 3.0, 0.0, 0.0, 3.0, 0.0, 0.0, 2.0, 0.0, 1.0, 0.0, 0.0, 0.0, 7.0, 2617.0, 2.0, 2.0, 7.0, 19.0, 1.0, 1.0], [19.376634897974846, 0.623365102025156], [0.9688317448987422, 0.031168255101257803], 0.0, 'No Risk'], ['0_to_200', 21, 'outstanding_credit', 'radio_tv', 3606, '500_to_1000', '1_to_4', 2, 'male', 'none', 2, 'car_other', 30, 'none', 'own', 3, 'skilled', 2, 'yes', 'yes', 2.0, 2.0, 0.0, 2.0, 0.0, 0.0, 0.0, 0.0, 3.0, 0.0, 1.0, 0.0, 1.0, [2.0, 2.0, 3.0, 2.0, 0.0, 0.0, 0.0, 1.0, 0.0, 0.0, 0.0, 1.0, 0.0, 21.0, 3606.0, 2.0, 2.0, 21.0, 30.0, 3.0, 2.0], [15.154416849692629, 4.845583150307367], [0.7577208424846316, 0.24227915751536838], 0.0, 'No Risk'], ['no_checking', 25, 'all_credits_paid_back', 'radio_tv', 3953, 'less_100', '1_to_4', 3, 'male', 'none', 3, 'real_estate', 33, 'none', 'own', 2, 'skilled', 2, 'yes', 'yes', 0.0, 3.0, 0.0, 0.0, 0.0, 0.0, 0.0, 0.0, 3.0, 0.0, 2.0, 0.0, 1.0, [21, [1, 2, 7, 11, 13, 14, 15, 16, 17, 18, 19, 20], [3.0, 3.0, 2.0, 1.0, 25.0, 3953.0, 3.0, 3.0, 25.0, 33.0, 2.0, 2.0]], [13.703484994261027, 6.296515005738973], [0.6851742497130513, 0.31482575028694865], 0.0, 'No Risk'], ['no_checking', 33, 'outstanding_credit', 'vacation', 8126, '500_to_1000', '4_to_7', 5, 'female', 'guarantor', 5, 'unknown', 63, 'stores', 'free', 2, 'unskilled', 2, 'yes', 'yes', 0.0, 2.0, 1.0, 2.0, 0.0, 2.0, 1.0, 1.0, 6.0, 2.0, 3.0, 1.0, 1.0, [0.0, 2.0, 6.0, 2.0, 1.0, 1.0, 2.0, 3.0, 1.0, 2.0, 1.0, 1.0, 0.0, 33.0, 8126.0, 5.0, 5.0, 33.0, 63.0, 2.0, 2.0], [3.236892602995895, 16.763107397004106], [0.16184463014979475, 0.8381553698502053], 1.0, 'Risk'], ['no_checking', 24, 'prior_payments_delayed', 'appliances', 1905, '500_to_1000', '4_to_7', 4, 'female', 'none', 3, 'real_estate', 41, 'none', 'own', 1, 'skilled', 1, 'none', 'yes', 0.0, 0.0, 1.0, 2.0, 0.0, 0.0, 0.0, 0.0, 4.0, 0.0, 2.0, 1.0, 0.0, [0.0, 0.0, 4.0, 2.0, 1.0, 1.0, 0.0, 2.0, 0.0, 0.0, 0.0, 0.0, 0.0, 24.0, 1905.0, 4.0, 3.0, 24.0, 41.0, 1.0, 1.0], [10.95258583044927, 9.04741416955073], [0.5476292915224634, 0.4523707084775365], 0.0, 'No Risk'], ['0_to_200', 15, 'credits_paid_to_date', 'furniture', 2370, '500_to_1000', '4_to_7', 3, 'female', 'none', 3, 'car_other', 32, 'none', 'own', 1, 'skilled', 1, 'none', 'yes', 2.0, 1.0, 1.0, 2.0, 0.0, 0.0, 0.0, 0.0, 1.0, 0.0, 1.0, 1.0, 0.0, [2.0, 1.0, 1.0, 2.0, 1.0, 1.0, 0.0, 1.0, 0.0, 0.0, 0.0, 0.0, 0.0, 15.0, 2370.0, 3.0, 3.0, 15.0, 32.0, 1.0, 1.0], [15.370194412644405, 4.629805587355599], [0.7685097206322201, 0.2314902793677799], 0.0, 'No Risk'], ['0_to_200', 4, 'all_credits_paid_back', 'car_new', 250, 'less_100', 'less_1', 1, 'male', 'none', 1, 'real_estate', 19, 'none', 'own', 1, 'skilled', 1, 'none', 'yes', 2.0, 3.0, 3.0, 0.0, 0.0, 0.0, 0.0, 0.0, 0.0, 0.0, 2.0, 0.0, 0.0, [21, [0, 1, 4, 7, 13, 14, 15, 16, 17, 18, 19, 20], [2.0, 3.0, 3.0, 2.0, 4.0, 250.0, 1.0, 1.0, 4.0, 19.0, 1.0, 1.0]], [19.46195285836478, 0.5380471416352239], [0.9730976429182387, 0.026902357081761193], 0.0, 'No Risk'], ['no_checking', 51, 'outstanding_credit', 'appliances', 7408, 'greater_1000', 'greater_7', 4, 'male', 'co-applicant', 5, 'unknown', 48, 'none', 'free', 2, 'skilled', 1, 'yes', 'yes', 0.0, 2.0, 2.0, 3.0, 0.0, 2.0, 0.0, 0.0, 4.0, 1.0, 3.0, 0.0, 1.0, [0.0, 2.0, 4.0, 3.0, 2.0, 0.0, 1.0, 3.0, 0.0, 2.0, 0.0, 1.0, 0.0, 51.0, 7408.0, 4.0, 5.0, 51.0, 48.0, 2.0, 1.0], [1.4879142300949577, 18.512085769905045], [0.07439571150474787, 0.9256042884952521], 1.0, 'Risk'], ['no_checking', 40, 'prior_payments_delayed', 'furniture', 4187, '500_to_1000', 'greater_7', 4, 'male', 'guarantor', 4, 'savings_insurance', 44, 'none', 'free', 2, 'skilled', 1, 'yes', 'yes', 0.0, 0.0, 2.0, 2.0, 0.0, 2.0, 0.0, 0.0, 1.0, 2.0, 0.0, 0.0, 1.0, [0.0, 0.0, 1.0, 2.0, 2.0, 0.0, 2.0, 0.0, 0.0, 2.0, 0.0, 1.0, 0.0, 40.0, 4187.0, 4.0, 4.0, 40.0, 44.0, 2.0, 1.0], [5.748853873900265, 14.251146126099735], [0.28744269369501324, 0.7125573063049868], 1.0, 'Risk'], ['0_to_200', 14, 'credits_paid_to_date', 'appliances', 1218, '500_to_1000', '1_to_4', 2, 'male', 'co-applicant', 3, 'savings_insurance', 35, 'stores', 'own', 1, 'unskilled', 1, 'yes', 'yes', 2.0, 1.0, 0.0, 2.0, 0.0, 0.0, 1.0, 1.0, 4.0, 1.0, 0.0, 0.0, 1.0, [2.0, 1.0, 4.0, 2.0, 0.0, 0.0, 1.0, 0.0, 1.0, 0.0, 1.0, 1.0, 0.0, 14.0, 1218.0, 2.0, 3.0, 14.0, 35.0, 1.0, 1.0], [15.133519421214656, 4.866480578785342], [0.7566759710607329, 0.24332402893926713], 0.0, 'No Risk'], ['less_0', 8, 'prior_payments_delayed', 'repairs', 250, '500_to_1000', 'less_1', 1, 'female', 'none', 1, 'real_estate', 19, 'stores', 'rent', 1, 'skilled', 1, 'none', 'yes', 1.0, 0.0, 3.0, 2.0, 0.0, 1.0, 1.0, 0.0, 5.0, 0.0, 2.0, 1.0, 0.0, [1.0, 0.0, 5.0, 2.0, 3.0, 1.0, 0.0, 2.0, 1.0, 1.0, 0.0, 0.0, 0.0, 8.0, 250.0, 1.0, 1.0, 8.0, 19.0, 1.0, 1.0], [19.094377932329436, 0.9056220676705674], [0.9547188966164717, 0.045281103383528365], 0.0, 'No Risk'], ['less_0', 9, 'all_credits_paid_back', 'vacation', 496, 'less_100', '1_to_4', 1, 'female', 'none', 2, 'real_estate', 24, 'none', 'own', 1, 'skilled', 1, 'none', 'yes', 1.0, 3.0, 0.0, 0.0, 0.0, 0.0, 0.0, 0.0, 6.0, 0.0, 2.0, 1.0, 0.0, [1.0, 3.0, 6.0, 0.0, 0.0, 1.0, 0.0, 2.0, 0.0, 0.0, 0.0, 0.0, 0.0, 9.0, 496.0, 1.0, 2.0, 9.0, 24.0, 1.0, 1.0], [19.310705009290682, 0.6892949907093198], [0.9655352504645339, 0.03446474953546598], 0.0, 'No Risk'], ['no_checking', 34, 'all_credits_paid_back', 'appliances', 3272, '100_to_500', 'less_1', 3, 'male', 'none', 3, 'car_other', 33, 'none', 'own', 2, 'skilled', 1, 'yes', 'yes', 0.0, 3.0, 3.0, 1.0, 0.0, 0.0, 0.0, 0.0, 4.0, 0.0, 1.0, 0.0, 1.0, [0.0, 3.0, 4.0, 1.0, 3.0, 0.0, 0.0, 1.0, 0.0, 0.0, 0.0, 1.0, 0.0, 34.0, 3272.0, 3.0, 3.0, 34.0, 33.0, 2.0, 1.0], [13.828958609515817, 6.1710413904841825], [0.6914479304757909, 0.3085520695242091], 0.0, 'No Risk'], ['less_0', 30, 'outstanding_credit', 'business', 5370, '100_to_500', '4_to_7', 4, 'male', 'none', 3, 'savings_insurance', 33, 'none', 'rent', 2, 'skilled', 1, 'yes', 'yes', 1.0, 2.0, 1.0, 1.0, 0.0, 1.0, 0.0, 0.0, 9.0, 0.0, 0.0, 0.0, 1.0, [1.0, 2.0, 9.0, 1.0, 1.0, 0.0, 0.0, 0.0, 0.0, 1.0, 0.0, 1.0, 0.0, 30.0, 5370.0, 4.0, 3.0, 30.0, 33.0, 2.0, 1.0], [12.211431783208683, 7.788568216791317], [0.6105715891604342, 0.38942841083956586], 0.0, 'No Risk'], ['less_0', 19, 'credits_paid_to_date', 'car_used', 1422, 'less_100', '4_to_7', 2, 'female', 'none', 3, 'savings_insurance', 33, 'stores', 'own', 2, 'skilled', 1, 'none', 'no', 1.0, 1.0, 1.0, 0.0, 1.0, 0.0, 1.0, 0.0, 2.0, 0.0, 0.0, 1.0, 0.0, [1.0, 1.0, 2.0, 0.0, 1.0, 1.0, 0.0, 0.0, 1.0, 0.0, 0.0, 0.0, 1.0, 19.0, 1422.0, 2.0, 3.0, 19.0, 33.0, 2.0, 1.0], [14.478992717472037, 5.52100728252796], [0.723949635873602, 0.27605036412639805], 0.0, 'No Risk'], ['less_0', 4, 'all_credits_paid_back', 'car_new', 3070, 'less_100', '1_to_4', 2, 'female', 'none', 2, 'real_estate', 33, 'bank', 'own', 1, 'unskilled', 1, 'none', 'yes', 1.0, 3.0, 0.0, 0.0, 0.0, 0.0, 2.0, 1.0, 0.0, 0.0, 2.0, 1.0, 0.0, [1.0, 3.0, 0.0, 0.0, 0.0, 1.0, 0.0, 2.0, 2.0, 0.0, 1.0, 0.0, 0.0, 4.0, 3070.0, 2.0, 2.0, 4.0, 33.0, 1.0, 1.0], [18.746390943554538, 1.2536090564454623], [0.9373195471777269, 0.06268045282227311], 0.0, 'No Risk'], ['less_0', 16, 'credits_paid_to_date', 'car_used', 4055, 'less_100', '1_to_4', 2, 'female', 'none', 3, 'unknown', 40, 'stores', 'own', 1, 'skilled', 1, 'none', 'yes', 1.0, 1.0, 0.0, 0.0, 0.0, 0.0, 1.0, 0.0, 2.0, 0.0, 3.0, 1.0, 0.0, [1.0, 1.0, 2.0, 0.0, 0.0, 1.0, 0.0, 3.0, 1.0, 0.0, 0.0, 0.0, 0.0, 16.0, 4055.0, 2.0, 3.0, 16.0, 40.0, 1.0, 1.0], [15.715805024981485, 4.284194975018515], [0.7857902512490742, 0.21420974875092574], 0.0, 'No Risk'], ['no_checking', 30, 'prior_payments_delayed', 'car_used', 4636, 'unknown', '4_to_7', 4, 'male', 'none', 3, 'savings_insurance', 42, 'none', 'own', 2, 'skilled', 2, 'yes', 'yes', 0.0, 0.0, 1.0, 4.0, 0.0, 0.0, 0.0, 0.0, 2.0, 0.0, 0.0, 0.0, 1.0, [21, [2, 3, 4, 11, 13, 14, 15, 16, 17, 18, 19, 20], [2.0, 4.0, 1.0, 1.0, 30.0, 4636.0, 4.0, 3.0, 30.0, 42.0, 2.0, 2.0]], [10.22503812596417, 9.774961874035831], [0.5112519062982085, 0.48874809370179156], 0.0, 'No Risk'], ['no_checking', 11, 'credits_paid_to_date', 'furniture', 9429, '500_to_1000', 'greater_7', 4, 'male', 'none', 3, 'unknown', 47, 'none', 'own', 2, 'skilled', 1, 'none', 'yes', 0.0, 1.0, 2.0, 2.0, 0.0, 0.0, 0.0, 0.0, 1.0, 0.0, 3.0, 0.0, 0.0, [0.0, 1.0, 1.0, 2.0, 2.0, 0.0, 0.0, 3.0, 0.0, 0.0, 0.0, 0.0, 0.0, 11.0, 9429.0, 4.0, 3.0, 11.0, 47.0, 2.0, 1.0], [10.443491614689592, 9.556508385310408], [0.5221745807344795, 0.4778254192655204], 0.0, 'No Risk'], ['no_checking', 34, 'prior_payments_delayed', 'appliances', 6084, '500_to_1000', '4_to_7', 3, 'female', 'none', 3, 'car_other', 50, 'none', 'own', 2, 'skilled', 2, 'yes', 'yes', 0.0, 0.0, 1.0, 2.0, 0.0, 0.0, 0.0, 0.0, 4.0, 0.0, 1.0, 1.0, 1.0, [0.0, 0.0, 4.0, 2.0, 1.0, 1.0, 0.0, 1.0, 0.0, 0.0, 0.0, 1.0, 0.0, 34.0, 6084.0, 3.0, 3.0, 34.0, 50.0, 2.0, 2.0], [5.930703975960033, 14.069296024039968], [0.29653519879800166, 0.7034648012019984], 1.0, 'Risk'], ['0_to_200', 6, 'all_credits_paid_back', 'education', 250, 'less_100', 'less_1', 1, 'male', 'none', 1, 'real_estate', 31, 'stores', 'rent', 1, 'skilled', 1, 'none', 'yes', 2.0, 3.0, 3.0, 0.0, 0.0, 1.0, 1.0, 0.0, 7.0, 0.0, 2.0, 0.0, 0.0, [2.0, 3.0, 7.0, 0.0, 3.0, 0.0, 0.0, 2.0, 1.0, 1.0, 0.0, 0.0, 0.0, 6.0, 250.0, 1.0, 1.0, 6.0, 31.0, 1.0, 1.0], [19.079989007630406, 0.9200109923695936], [0.9539994503815203, 0.04600054961847968], 0.0, 'No Risk'], ['less_0', 16, 'prior_payments_delayed', 'repairs', 1912, '100_to_500', '4_to_7', 2, 'male', 'none', 3, 'savings_insurance', 41, 'none', 'rent', 2, 'skilled', 1, 'none', 'yes', 1.0, 0.0, 1.0, 1.0, 0.0, 1.0, 0.0, 0.0, 5.0, 0.0, 0.0, 0.0, 0.0, [1.0, 0.0, 5.0, 1.0, 1.0, 0.0, 0.0, 0.0, 0.0, 1.0, 0.0, 0.0, 0.0, 16.0, 1912.0, 2.0, 3.0, 16.0, 41.0, 2.0, 1.0], [14.673411560183965, 5.326588439816032], [0.7336705780091983, 0.2663294219908016], 0.0, 'No Risk'], ['no_checking', 33, 'outstanding_credit', 'vacation', 8126, '500_to_1000', '4_to_7', 5, 'female', 'guarantor', 5, 'unknown', 63, 'stores', 'free', 2, 'unskilled', 2, 'yes', 'yes', 0.0, 2.0, 1.0, 2.0, 0.0, 2.0, 1.0, 1.0, 6.0, 2.0, 3.0, 1.0, 1.0, [0.0, 2.0, 6.0, 2.0, 1.0, 1.0, 2.0, 3.0, 1.0, 2.0, 1.0, 1.0, 0.0, 33.0, 8126.0, 5.0, 5.0, 33.0, 63.0, 2.0, 2.0], [3.236892602995895, 16.763107397004106], [0.16184463014979475, 0.8381553698502053], 1.0, 'Risk'], ['greater_200', 25, 'credits_paid_to_date', 'radio_tv', 2857, '100_to_500', '4_to_7', 3, 'male', 'none', 2, 'car_other', 37, 'none', 'own', 2, 'skilled', 1, 'yes', 'yes', 3.0, 1.0, 1.0, 1.0, 0.0, 0.0, 0.0, 0.0, 3.0, 0.0, 1.0, 0.0, 1.0, [3.0, 1.0, 3.0, 1.0, 1.0, 0.0, 0.0, 1.0, 0.0, 0.0, 0.0, 1.0, 0.0, 25.0, 2857.0, 3.0, 2.0, 25.0, 37.0, 2.0, 1.0], [12.63792247879595, 7.362077521204048], [0.6318961239397975, 0.3681038760602024], 0.0, 'No Risk'], ['no_checking', 35, 'outstanding_credit', 'furniture', 8700, 'unknown', 'greater_7', 5, 'male', 'co-applicant', 4, 'unknown', 55, 'none', 'free', 3, 'skilled', 2, 'yes', 'yes', 0.0, 2.0, 2.0, 4.0, 0.0, 2.0, 0.0, 0.0, 1.0, 1.0, 3.0, 0.0, 1.0, [0.0, 2.0, 1.0, 4.0, 2.0, 0.0, 1.0, 3.0, 0.0, 2.0, 0.0, 1.0, 0.0, 35.0, 8700.0, 5.0, 4.0, 35.0, 55.0, 3.0, 2.0], [1.4104832186087917, 18.58951678139121], [0.07052416093043958, 0.9294758390695604], 1.0, 'Risk'], ['greater_200', 22, 'prior_payments_delayed', 'car_used', 3893, '100_to_500', '4_to_7', 4, 'female', 'none', 4, 'savings_insurance', 44, 'none', 'own', 1, 'skilled', 1, 'none', 'yes', 3.0, 0.0, 1.0, 1.0, 0.0, 0.0, 0.0, 0.0, 2.0, 0.0, 0.0, 1.0, 0.0, [3.0, 0.0, 2.0, 1.0, 1.0, 1.0, 0.0, 0.0, 0.0, 0.0, 0.0, 0.0, 0.0, 22.0, 3893.0, 4.0, 4.0, 22.0, 44.0, 1.0, 1.0], [11.852393717110903, 8.1476062828891], [0.592619685855545, 0.4073803141444549], 0.0, 'No Risk'], ['0_to_200', 41, 'prior_payments_delayed', 'vacation', 4709, 'unknown', 'greater_7', 3, 'male', 'none', 3, 'unknown', 41, 'stores', 'own', 2, 'unskilled', 1, 'yes', 'no', 2.0, 0.0, 2.0, 4.0, 1.0, 0.0, 1.0, 1.0, 6.0, 0.0, 3.0, 0.0, 1.0, [2.0, 0.0, 6.0, 4.0, 2.0, 0.0, 0.0, 3.0, 1.0, 0.0, 1.0, 1.0, 1.0, 41.0, 4709.0, 3.0, 3.0, 41.0, 41.0, 2.0, 1.0], [7.799066734559663, 12.200933265440337], [0.38995333672798316, 0.6100466632720168], 1.0, 'Risk'], ['0_to_200', 14, 'credits_paid_to_date', 'car_new', 1186, 'less_100', '4_to_7', 3, 'male', 'none', 2, 'savings_insurance', 21, 'bank', 'own', 1, 'unemployed', 1, 'none', 'yes', 2.0, 1.0, 1.0, 0.0, 0.0, 0.0, 2.0, 3.0, 0.0, 0.0, 0.0, 0.0, 0.0, [2.0, 1.0, 0.0, 0.0, 1.0, 0.0, 0.0, 0.0, 2.0, 0.0, 3.0, 0.0, 0.0, 14.0, 1186.0, 3.0, 2.0, 14.0, 21.0, 1.0, 1.0], [18.2796266362695, 1.7203733637305012], [0.913981331813475, 0.08601866818652504], 0.0, 'No Risk'], ['no_checking', 23, 'outstanding_credit', 'car_used', 5003, '500_to_1000', '4_to_7', 4, 'male', 'none', 3, 'unknown', 39, 'none', 'own', 1, 'skilled', 1, 'none', 'yes', 0.0, 2.0, 1.0, 2.0, 0.0, 0.0, 0.0, 0.0, 2.0, 0.0, 3.0, 0.0, 0.0, [0.0, 2.0, 2.0, 2.0, 1.0, 0.0, 0.0, 3.0, 0.0, 0.0, 0.0, 0.0, 0.0, 23.0, 5003.0, 4.0, 3.0, 23.0, 39.0, 1.0, 1.0], [11.03524274156066, 8.96475725843934], [0.551762137078033, 0.448237862921967], 0.0, 'No Risk'], ['0_to_200', 20, 'prior_payments_delayed', 'furniture', 4612, 'greater_1000', '4_to_7', 3, 'male', 'none', 2, 'car_other', 40, 'stores', 'own', 2, 'unskilled', 1, 'none', 'yes', 2.0, 0.0, 1.0, 3.0, 0.0, 0.0, 1.0, 1.0, 1.0, 0.0, 1.0, 0.0, 0.0, [2.0, 0.0, 1.0, 3.0, 1.0, 0.0, 0.0, 1.0, 1.0, 0.0, 1.0, 0.0, 0.0, 20.0, 4612.0, 3.0, 2.0, 20.0, 40.0, 2.0, 1.0], [13.982765986327852, 6.017234013672147], [0.6991382993163926, 0.30086170068360735], 0.0, 'No Risk'], ['greater_200', 21, 'prior_payments_delayed', 'retraining', 5658, 'less_100', 'less_1', 2, 'female', 'none', 3, 'car_other', 34, 'none', 'own', 2, 'skilled', 1, 'yes', 'yes', 3.0, 0.0, 3.0, 0.0, 0.0, 0.0, 0.0, 0.0, 8.0, 0.0, 1.0, 1.0, 1.0, [3.0, 0.0, 8.0, 0.0, 3.0, 1.0, 0.0, 1.0, 0.0, 0.0, 0.0, 1.0, 0.0, 21.0, 5658.0, 2.0, 3.0, 21.0, 34.0, 2.0, 1.0], [13.972868155562727, 6.02713184443727], [0.6986434077781365, 0.30135659222186356], 0.0, 'No Risk'], ['no_checking', 33, 'prior_payments_delayed', 'furniture', 2885, '500_to_1000', '4_to_7', 4, 'male', 'none', 4, 'real_estate', 33, 'none', 'own', 1, 'skilled', 1, 'yes', 'yes', 0.0, 0.0, 1.0, 2.0, 0.0, 0.0, 0.0, 0.0, 1.0, 0.0, 2.0, 0.0, 1.0, [0.0, 0.0, 1.0, 2.0, 1.0, 0.0, 0.0, 2.0, 0.0, 0.0, 0.0, 1.0, 0.0, 33.0, 2885.0, 4.0, 4.0, 33.0, 33.0, 1.0, 1.0], [11.85260332126076, 8.147396678739238], [0.592630166063038, 0.4073698339369619], 0.0, 'No Risk'], ['less_0', 9, 'all_credits_paid_back', 'car_new', 647, 'less_100', '1_to_4', 3, 'female', 'none', 2, 'savings_insurance', 31, 'bank', 'rent', 1, 'unskilled', 1, 'none', 'yes', 1.0, 3.0, 0.0, 0.0, 0.0, 1.0, 2.0, 1.0, 0.0, 0.0, 0.0, 1.0, 0.0, [1.0, 3.0, 0.0, 0.0, 0.0, 1.0, 0.0, 0.0, 2.0, 1.0, 1.0, 0.0, 0.0, 9.0, 647.0, 3.0, 2.0, 9.0, 31.0, 1.0, 1.0], [18.744889722908415, 1.255110277091585], [0.9372444861454208, 0.06275551385457925], 0.0, 'No Risk'], ['less_0', 17, 'credits_paid_to_date', 'car_used', 1968, 'less_100', 'unemployed', 1, 'female', 'none', 1, 'real_estate', 22, 'bank', 'rent', 1, 'unskilled', 1, 'none', 'yes', 1.0, 1.0, 4.0, 0.0, 0.0, 1.0, 2.0, 1.0, 2.0, 0.0, 2.0, 1.0, 0.0, [1.0, 1.0, 2.0, 0.0, 4.0, 1.0, 0.0, 2.0, 2.0, 1.0, 1.0, 0.0, 0.0, 17.0, 1968.0, 1.0, 1.0, 17.0, 22.0, 1.0, 1.0], [19.18531128908878, 0.8146887109112236], [0.9592655644544388, 0.04073443554556117], 0.0, 'No Risk'], ['less_0', 16, 'prior_payments_delayed', 'radio_tv', 7086, 'less_100', '4_to_7', 3, 'male', 'none', 3, 'car_other', 44, 'none', 'own', 3, 'skilled', 1, 'yes', 'yes', 1.0, 0.0, 1.0, 0.0, 0.0, 0.0, 0.0, 0.0, 3.0, 0.0, 1.0, 0.0, 1.0, [1.0, 0.0, 3.0, 0.0, 1.0, 0.0, 0.0, 1.0, 0.0, 0.0, 0.0, 1.0, 0.0, 16.0, 7086.0, 3.0, 3.0, 16.0, 44.0, 3.0, 1.0], [12.856909244224514, 7.143090755775483], [0.6428454622112258, 0.3571545377887742], 0.0, 'No Risk'], ['greater_200', 16, 'outstanding_credit', 'radio_tv', 3381, 'greater_1000', '4_to_7', 3, 'male', 'none', 2, 'unknown', 29, 'none', 'rent', 1, 'skilled', 1, 'yes', 'yes', 3.0, 2.0, 1.0, 3.0, 0.0, 1.0, 0.0, 0.0, 3.0, 0.0, 3.0, 0.0, 1.0, [3.0, 2.0, 3.0, 3.0, 1.0, 0.0, 0.0, 3.0, 0.0, 1.0, 0.0, 1.0, 0.0, 16.0, 3381.0, 3.0, 2.0, 16.0, 29.0, 1.0, 1.0], [16.632526397754326, 3.3674736022456795], [0.831626319887716, 0.1683736801122839], 0.0, 'No Risk'], ['0_to_200', 6, 'prior_payments_delayed', 'car_used', 2634, 'less_100', '1_to_4', 2, 'male', 'none', 3, 'car_other', 21, 'none', 'own', 1, 'skilled', 1, 'yes', 'yes', 2.0, 0.0, 0.0, 0.0, 0.0, 0.0, 0.0, 0.0, 2.0, 0.0, 1.0, 0.0, 1.0, [21, [0, 2, 7, 11, 13, 14, 15, 16, 17, 18, 19, 20], [2.0, 2.0, 1.0, 1.0, 6.0, 2634.0, 2.0, 3.0, 6.0, 21.0, 1.0, 1.0]], [17.289208241538482, 2.710791758461517], [0.8644604120769241, 0.13553958792307585], 0.0, 'No Risk'], ['0_to_200', 24, 'credits_paid_to_date', 'radio_tv', 4363, 'less_100', '4_to_7', 3, 'male', 'none', 2, 'car_other', 36, 'none', 'own', 2, 'skilled', 1, 'none', 'yes', 2.0, 1.0, 1.0, 0.0, 0.0, 0.0, 0.0, 0.0, 3.0, 0.0, 1.0, 0.0, 0.0, [2.0, 1.0, 3.0, 0.0, 1.0, 0.0, 0.0, 1.0, 0.0, 0.0, 0.0, 0.0, 0.0, 24.0, 4363.0, 3.0, 2.0, 24.0, 36.0, 2.0, 1.0], [14.37903696250471, 5.620963037495288], [0.7189518481252355, 0.2810481518747644], 0.0, 'No Risk'], ['no_checking', 44, 'prior_payments_delayed', 'radio_tv', 5871, 'unknown', 'greater_7', 4, 'male', 'co-applicant', 4, 'savings_insurance', 41, 'none', 'own', 2, 'skilled', 1, 'yes', 'yes', 0.0, 0.0, 2.0, 4.0, 0.0, 0.0, 0.0, 0.0, 3.0, 1.0, 0.0, 0.0, 1.0, [0.0, 0.0, 3.0, 4.0, 2.0, 0.0, 1.0, 0.0, 0.0, 0.0, 0.0, 1.0, 0.0, 44.0, 5871.0, 4.0, 4.0, 44.0, 41.0, 2.0, 1.0], [5.483569165009938, 14.516430834990059], [0.27417845825049697, 0.7258215417495031], 1.0, 'Risk'], ['no_checking', 38, 'outstanding_credit', 'radio_tv', 4296, 'greater_1000', 'greater_7', 4, 'male', 'co-applicant', 3, 'unknown', 56, 'none', 'free', 2, 'skilled', 1, 'yes', 'yes', 0.0, 2.0, 2.0, 3.0, 0.0, 2.0, 0.0, 0.0, 3.0, 1.0, 3.0, 0.0, 1.0, [0.0, 2.0, 3.0, 3.0, 2.0, 0.0, 1.0, 3.0, 0.0, 2.0, 0.0, 1.0, 0.0, 38.0, 4296.0, 4.0, 3.0, 38.0, 56.0, 2.0, 1.0], [2.526653012211793, 17.47334698778821], [0.12633265061058963, 0.8736673493894104], 1.0, 'Risk'], ['less_0', 20, 'prior_payments_delayed', 'radio_tv', 4378, 'greater_1000', '1_to_4', 3, 'female', 'none', 3, 'unknown', 37, 'stores', 'rent', 1, 'skilled', 2, 'none', 'yes', 1.0, 0.0, 0.0, 3.0, 0.0, 1.0, 1.0, 0.0, 3.0, 0.0, 3.0, 1.0, 0.0, [1.0, 0.0, 3.0, 3.0, 0.0, 1.0, 0.0, 3.0, 1.0, 1.0, 0.0, 0.0, 0.0, 20.0, 4378.0, 3.0, 3.0, 20.0, 37.0, 1.0, 2.0], [14.568584728999305, 5.431415271000692], [0.7284292364499654, 0.2715707635500347], 0.0, 'No Risk'], ['no_checking', 45, 'outstanding_credit', 'radio_tv', 6316, '500_to_1000', '4_to_7', 5, 'male', 'co-applicant', 5, 'unknown', 50, 'stores', 'own', 2, 'unskilled', 2, 'yes', 'yes', 0.0, 2.0, 1.0, 2.0, 0.0, 0.0, 1.0, 1.0, 3.0, 1.0, 3.0, 0.0, 1.0, [0.0, 2.0, 3.0, 2.0, 1.0, 0.0, 1.0, 3.0, 1.0, 0.0, 1.0, 1.0, 0.0, 45.0, 6316.0, 5.0, 5.0, 45.0, 50.0, 2.0, 2.0], [4.517384021483056, 15.482615978516945], [0.22586920107415281, 0.7741307989258472], 1.0, 'Risk'], ['0_to_200', 26, 'credits_paid_to_date', 'retraining', 2341, 'greater_1000', '1_to_4', 2, 'male', 'none', 2, 'car_other', 39, 'none', 'own', 1, 'skilled', 1, 'yes', 'yes', 2.0, 1.0, 0.0, 3.0, 0.0, 0.0, 0.0, 0.0, 8.0, 0.0, 1.0, 0.0, 1.0, [2.0, 1.0, 8.0, 3.0, 0.0, 0.0, 0.0, 1.0, 0.0, 0.0, 0.0, 1.0, 0.0, 26.0, 2341.0, 2.0, 2.0, 26.0, 39.0, 1.0, 1.0], [14.820273062337087, 5.179726937662911], [0.7410136531168543, 0.2589863468831456], 0.0, 'No Risk'], ['0_to_200', 23, 'credits_paid_to_date', 'car_new', 3299, 'greater_1000', '1_to_4', 3, 'female', 'none', 3, 'car_other', 35, 'none', 'own', 2, 'skilled', 1, 'yes', 'yes', 2.0, 1.0, 0.0, 3.0, 0.0, 0.0, 0.0, 0.0, 0.0, 0.0, 1.0, 1.0, 1.0, [2.0, 1.0, 0.0, 3.0, 0.0, 1.0, 0.0, 1.0, 0.0, 0.0, 0.0, 1.0, 0.0, 23.0, 3299.0, 3.0, 3.0, 23.0, 35.0, 2.0, 1.0], [12.79929539382241, 7.200704606177586], [0.6399647696911206, 0.3600352303088794], 0.0, 'No Risk'], ['less_0', 13, 'prior_payments_delayed', 'car_new', 250, '100_to_500', '1_to_4', 2, 'male', 'none', 2, 'savings_insurance', 24, 'bank', 'rent', 1, 'unskilled', 1, 'yes', 'yes', 1.0, 0.0, 0.0, 1.0, 0.0, 1.0, 2.0, 1.0, 0.0, 0.0, 0.0, 0.0, 1.0, [1.0, 0.0, 0.0, 1.0, 0.0, 0.0, 0.0, 0.0, 2.0, 1.0, 1.0, 1.0, 0.0, 13.0, 250.0, 2.0, 2.0, 13.0, 24.0, 1.0, 1.0], [18.0977831121423, 1.902216887857705], [0.9048891556071148, 0.09511084439288524], 0.0, 'No Risk'], ['greater_200', 33, 'outstanding_credit', 'radio_tv', 2604, '500_to_1000', '4_to_7', 3, 'male', 'co-applicant', 4, 'car_other', 52, 'stores', 'own', 1, 'unskilled', 1, 'yes', 'yes', 3.0, 2.0, 1.0, 2.0, 0.0, 0.0, 1.0, 1.0, 3.0, 1.0, 1.0, 0.0, 1.0, [3.0, 2.0, 3.0, 2.0, 1.0, 0.0, 1.0, 1.0, 1.0, 0.0, 1.0, 1.0, 0.0, 33.0, 2604.0, 3.0, 4.0, 33.0, 52.0, 1.0, 1.0], [8.02447734486318, 11.975522655136817], [0.40122386724315906, 0.5987761327568408], 1.0, 'Risk'], ['less_0', 18, 'prior_payments_delayed', 'furniture', 250, 'greater_1000', 'less_1', 2, 'male', 'none', 3, 'savings_insurance', 19, 'stores', 'rent', 2, 'skilled', 1, 'none', 'yes', 1.0, 0.0, 3.0, 3.0, 0.0, 1.0, 1.0, 0.0, 1.0, 0.0, 0.0, 0.0, 0.0, [1.0, 0.0, 1.0, 3.0, 3.0, 0.0, 0.0, 0.0, 1.0, 1.0, 0.0, 0.0, 0.0, 18.0, 250.0, 2.0, 3.0, 18.0, 19.0, 2.0, 1.0], [16.21906742831265, 3.7809325716873476], [0.8109533714156325, 0.1890466285843674], 0.0, 'No Risk'], ['no_checking', 22, 'credits_paid_to_date', 'radio_tv', 4603, '100_to_500', '4_to_7', 4, 'female', 'none', 4, 'savings_insurance', 33, 'none', 'own', 1, 'management_self-employed', 1, 'none', 'yes', 0.0, 1.0, 1.0, 1.0, 0.0, 0.0, 0.0, 2.0, 3.0, 0.0, 0.0, 1.0, 0.0, [0.0, 1.0, 3.0, 1.0, 1.0, 1.0, 0.0, 0.0, 0.0, 0.0, 2.0, 0.0, 0.0, 22.0, 4603.0, 4.0, 4.0, 22.0, 33.0, 1.0, 1.0], [11.008703693000095, 8.991296306999905], [0.5504351846500047, 0.44956481534999526], 0.0, 'No Risk'], ['no_checking', 8, 'credits_paid_to_date', 'car_new', 4785, '500_to_1000', '4_to_7', 4, 'female', 'none', 3, 'savings_insurance', 43, 'none', 'own', 2, 'management_self-employed', 1, 'none', 'yes', 0.0, 1.0, 1.0, 2.0, 0.0, 0.0, 0.0, 2.0, 0.0, 0.0, 0.0, 1.0, 0.0, [0.0, 1.0, 0.0, 2.0, 1.0, 1.0, 0.0, 0.0, 0.0, 0.0, 2.0, 0.0, 0.0, 8.0, 4785.0, 4.0, 3.0, 8.0, 43.0, 2.0, 1.0], [12.079602197901915, 7.920397802098086], [0.6039801098950958, 0.3960198901049043], 0.0, 'No Risk'], ['0_to_200', 22, 'outstanding_credit', 'education', 5403, 'greater_1000', 'greater_7', 3, 'male', 'none', 2, 'unknown', 47, 'none', 'own', 2, 'skilled', 2, 'yes', 'yes', 2.0, 2.0, 2.0, 3.0, 0.0, 0.0, 0.0, 0.0, 7.0, 0.0, 3.0, 0.0, 1.0, [2.0, 2.0, 7.0, 3.0, 2.0, 0.0, 0.0, 3.0, 0.0, 0.0, 0.0, 1.0, 0.0, 22.0, 5403.0, 3.0, 2.0, 22.0, 47.0, 2.0, 2.0], [11.45101982351938, 8.54898017648062], [0.572550991175969, 0.42744900882403103], 0.0, 'No Risk'], ['less_0', 8, 'all_credits_paid_back', 'car_used', 2829, '100_to_500', '4_to_7', 3, 'male', 'none', 1, 'savings_insurance', 30, 'bank', 'rent', 1, 'unemployed', 1, 'none', 'yes', 1.0, 3.0, 1.0, 1.0, 0.0, 1.0, 2.0, 3.0, 2.0, 0.0, 0.0, 0.0, 0.0, [1.0, 3.0, 2.0, 1.0, 1.0, 0.0, 0.0, 0.0, 2.0, 1.0, 3.0, 0.0, 0.0, 8.0, 2829.0, 3.0, 1.0, 8.0, 30.0, 1.0, 1.0], [18.324057358218457, 1.675942641781544], [0.9162028679109229, 0.0837971320890772], 0.0, 'No Risk'], ['less_0', 4, 'credits_paid_to_date', 'car_used', 250, 'less_100', '1_to_4', 2, 'female', 'none', 2, 'savings_insurance', 37, 'none', 'rent', 2, 'skilled', 2, 'yes', 'no', 1.0, 1.0, 0.0, 0.0, 1.0, 1.0, 0.0, 0.0, 2.0, 0.0, 0.0, 1.0, 1.0, [1.0, 1.0, 2.0, 0.0, 0.0, 1.0, 0.0, 0.0, 0.0, 1.0, 0.0, 1.0, 1.0, 4.0, 250.0, 2.0, 2.0, 4.0, 37.0, 2.0, 2.0], [16.56859535284507, 3.431404647154931], [0.8284297676422534, 0.17157023235774654], 0.0, 'No Risk'], ['0_to_200', 21, 'prior_payments_delayed', 'education', 3139, 'less_100', 'less_1', 3, 'female', 'none', 3, 'car_other', 30, 'bank', 'own', 1, 'unemployed', 1, 'none', 'yes', 2.0, 0.0, 3.0, 0.0, 0.0, 0.0, 2.0, 3.0, 7.0, 0.0, 1.0, 1.0, 0.0, [2.0, 0.0, 7.0, 0.0, 3.0, 1.0, 0.0, 1.0, 2.0, 0.0, 3.0, 0.0, 0.0, 21.0, 3139.0, 3.0, 3.0, 21.0, 30.0, 1.0, 1.0], [15.387245367085823, 4.612754632914176], [0.7693622683542911, 0.2306377316457088], 0.0, 'No Risk'], ['less_0', 23, 'credits_paid_to_date', 'car_new', 250, 'less_100', '1_to_4', 2, 'male', 'none', 3, 'savings_insurance', 23, 'stores', 'own', 1, 'skilled', 1, 'none', 'yes', 1.0, 1.0, 0.0, 0.0, 0.0, 0.0, 1.0, 0.0, 0.0, 0.0, 0.0, 0.0, 0.0, [21, [0, 1, 8, 13, 14, 15, 16, 17, 18, 19, 20], [1.0, 1.0, 1.0, 23.0, 250.0, 2.0, 3.0, 23.0, 23.0, 1.0, 1.0]], [15.39445985155009, 4.605540148449907], [0.7697229925775046, 0.23027700742249538], 0.0, 'No Risk'], ['no_checking', 31, 'prior_payments_delayed', 'business', 4972, 'unknown', '4_to_7', 4, 'male', 'none', 3, 'car_other', 46, 'none', 'own', 2, 'skilled', 1, 'yes', 'yes', 0.0, 0.0, 1.0, 4.0, 0.0, 0.0, 0.0, 0.0, 9.0, 0.0, 1.0, 0.0, 1.0, [0.0, 0.0, 9.0, 4.0, 1.0, 0.0, 0.0, 1.0, 0.0, 0.0, 0.0, 1.0, 0.0, 31.0, 4972.0, 4.0, 3.0, 31.0, 46.0, 2.0, 1.0], [8.116604906987872, 11.883395093012126], [0.4058302453493936, 0.5941697546506063], 1.0, 'Risk'], ['no_checking', 30, 'all_credits_paid_back', 'car_new', 5164, '500_to_1000', '4_to_7', 4, 'male', 'none', 4, 'savings_insurance', 35, 'none', 'own', 2, 'management_self-employed', 1, 'yes', 'yes', 0.0, 3.0, 1.0, 2.0, 0.0, 0.0, 0.0, 2.0, 0.0, 0.0, 0.0, 0.0, 1.0, [0.0, 3.0, 0.0, 2.0, 1.0, 0.0, 0.0, 0.0, 0.0, 0.0, 2.0, 1.0, 0.0, 30.0, 5164.0, 4.0, 4.0, 30.0, 35.0, 2.0, 1.0], [10.180311305801807, 9.819688694198193], [0.5090155652900903, 0.49098443470990966], 0.0, 'No Risk'], ['greater_200', 7, 'credits_paid_to_date', 'car_new', 250, 'less_100', 'unemployed', 2, 'female', 'none', 3, 'real_estate', 19, 'none', 'own', 1, 'skilled', 1, 'none', 'yes', 3.0, 1.0, 4.0, 0.0, 0.0, 0.0, 0.0, 0.0, 0.0, 0.0, 2.0, 1.0, 0.0, [3.0, 1.0, 0.0, 0.0, 4.0, 1.0, 0.0, 2.0, 0.0, 0.0, 0.0, 0.0, 0.0, 7.0, 250.0, 2.0, 3.0, 7.0, 19.0, 1.0, 1.0], [18.975820799306256, 1.0241792006937427], [0.9487910399653128, 0.05120896003468713], 0.0, 'No Risk'], ['no_checking', 37, 'prior_payments_delayed', 'repairs', 6532, '500_to_1000', '1_to_4', 4, 'male', 'none', 5, 'car_other', 55, 'none', 'own', 2, 'management_self-employed', 2, 'yes', 'yes', 0.0, 0.0, 0.0, 2.0, 0.0, 0.0, 0.0, 2.0, 5.0, 0.0, 1.0, 0.0, 1.0, [0.0, 0.0, 5.0, 2.0, 0.0, 0.0, 0.0, 1.0, 0.0, 0.0, 2.0, 1.0, 0.0, 37.0, 6532.0, 4.0, 5.0, 37.0, 55.0, 2.0, 2.0], [10.575215529474342, 9.42478447052566], [0.5287607764737171, 0.471239223526283], 0.0, 'No Risk'], ['0_to_200', 24, 'credits_paid_to_date', 'retraining', 3794, '500_to_1000', '1_to_4', 3, 'male', 'none', 3, 'unknown', 45, 'none', 'own', 2, 'skilled', 2, 'yes', 'yes', 2.0, 1.0, 0.0, 2.0, 0.0, 0.0, 0.0, 0.0, 8.0, 0.0, 3.0, 0.0, 1.0, [2.0, 1.0, 8.0, 2.0, 0.0, 0.0, 0.0, 3.0, 0.0, 0.0, 0.0, 1.0, 0.0, 24.0, 3794.0, 3.0, 3.0, 24.0, 45.0, 2.0, 2.0], [12.438007655975353, 7.561992344024646], [0.6219003827987677, 0.3780996172012323], 0.0, 'No Risk'], ['0_to_200', 32, 'outstanding_credit', 'appliances', 3786, '100_to_500', '4_to_7', 4, 'male', 'none', 4, 'unknown', 36, 'none', 'own', 1, 'skilled', 2, 'yes', 'yes', 2.0, 2.0, 1.0, 1.0, 0.0, 0.0, 0.0, 0.0, 4.0, 0.0, 3.0, 0.0, 1.0, [2.0, 2.0, 4.0, 1.0, 1.0, 0.0, 0.0, 3.0, 0.0, 0.0, 0.0, 1.0, 0.0, 32.0, 3786.0, 4.0, 4.0, 32.0, 36.0, 1.0, 2.0], [9.426609608910608, 10.57339039108939], [0.4713304804455304, 0.5286695195544695], 1.0, 'Risk'], ['0_to_200', 18, 'prior_payments_delayed', 'furniture', 2258, 'greater_1000', '4_to_7', 2, 'male', 'none', 3, 'savings_insurance', 39, 'none', 'own', 1, 'skilled', 1, 'yes', 'yes', 2.0, 0.0, 1.0, 3.0, 0.0, 0.0, 0.0, 0.0, 1.0, 0.0, 0.0, 0.0, 1.0, [2.0, 0.0, 1.0, 3.0, 1.0, 0.0, 0.0, 0.0, 0.0, 0.0, 0.0, 1.0, 0.0, 18.0, 2258.0, 2.0, 3.0, 18.0, 39.0, 1.0, 1.0], [13.640501617280734, 6.359498382719266], [0.6820250808640367, 0.3179749191359633], 0.0, 'No Risk'], ['no_checking', 24, 'credits_paid_to_date', 'furniture', 6564, 'greater_1000', '4_to_7', 4, 'male', 'none', 3, 'savings_insurance', 40, 'stores', 'rent', 2, 'unskilled', 1, 'none', 'yes', 0.0, 1.0, 1.0, 3.0, 0.0, 1.0, 1.0, 1.0, 1.0, 0.0, 0.0, 0.0, 0.0, [0.0, 1.0, 1.0, 3.0, 1.0, 0.0, 0.0, 0.0, 1.0, 1.0, 1.0, 0.0, 0.0, 24.0, 6564.0, 4.0, 3.0, 24.0, 40.0, 2.0, 1.0], [12.806370187257597, 7.1936298127424], [0.6403185093628799, 0.35968149063712007], 0.0, 'No Risk'], ['less_0', 16, 'prior_payments_delayed', 'furniture', 250, 'less_100', 'less_1', 2, 'male', 'none', 3, 'car_other', 19, 'stores', 'rent', 1, 'skilled', 1, 'none', 'yes', 1.0, 0.0, 3.0, 0.0, 0.0, 1.0, 1.0, 0.0, 1.0, 0.0, 1.0, 0.0, 0.0, [1.0, 0.0, 1.0, 0.0, 3.0, 0.0, 0.0, 1.0, 1.0, 1.0, 0.0, 0.0, 0.0, 16.0, 250.0, 2.0, 3.0, 16.0, 19.0, 1.0, 1.0], [17.507107460110916, 2.4928925398890818], [0.875355373005546, 0.12464462699445411], 0.0, 'No Risk'], ['no_checking', 15, 'all_credits_paid_back', 'radio_tv', 3749, 'less_100', 'less_1', 2, 'female', 'none', 3, 'real_estate', 32, 'stores', 'rent', 1, 'unskilled', 1, 'none', 'yes', 0.0, 3.0, 3.0, 0.0, 0.0, 1.0, 1.0, 1.0, 3.0, 0.0, 2.0, 1.0, 0.0, [0.0, 3.0, 3.0, 0.0, 3.0, 1.0, 0.0, 2.0, 1.0, 1.0, 1.0, 0.0, 0.0, 15.0, 3749.0, 2.0, 3.0, 15.0, 32.0, 1.0, 1.0], [17.775554960180983, 2.2244450398190168], [0.8887777480090492, 0.11122225199095084], 0.0, 'No Risk'], ['less_0', 10, 'all_credits_paid_back', 'vacation', 250, 'less_100', 'less_1', 2, 'female', 'none', 1, 'real_estate', 19, 'none', 'own', 1, 'skilled', 1, 'none', 'yes', 1.0, 3.0, 3.0, 0.0, 0.0, 0.0, 0.0, 0.0, 6.0, 0.0, 2.0, 1.0, 0.0, [1.0, 3.0, 6.0, 0.0, 3.0, 1.0, 0.0, 2.0, 0.0, 0.0, 0.0, 0.0, 0.0, 10.0, 250.0, 2.0, 1.0, 10.0, 19.0, 1.0, 1.0], [19.519967566224206, 0.4800324337757957], [0.9759983783112102, 0.02400162168878978], 0.0, 'No Risk'], ['less_0', 19, 'prior_payments_delayed', 'education', 250, 'less_100', 'less_1', 2, 'female', 'none', 1, 'savings_insurance', 23, 'stores', 'own', 1, 'skilled', 1, 'yes', 'yes', 1.0, 0.0, 3.0, 0.0, 0.0, 0.0, 1.0, 0.0, 7.0, 0.0, 0.0, 1.0, 1.0, [1.0, 0.0, 7.0, 0.0, 3.0, 1.0, 0.0, 0.0, 1.0, 0.0, 0.0, 1.0, 0.0, 19.0, 250.0, 2.0, 1.0, 19.0, 23.0, 1.0, 1.0], [18.051842791215087, 1.9481572087849128], [0.9025921395607543, 0.09740786043924564], 0.0, 'No Risk'], ['less_0', 22, 'credits_paid_to_date', 'car_new', 1794, '500_to_1000', 'less_1', 3, 'male', 'none', 3, 'savings_insurance', 23, 'none', 'rent', 2, 'skilled', 2, 'yes', 'yes', 1.0, 1.0, 3.0, 2.0, 0.0, 1.0, 0.0, 0.0, 0.0, 0.0, 0.0, 0.0, 1.0, [1.0, 1.0, 0.0, 2.0, 3.0, 0.0, 0.0, 0.0, 0.0, 1.0, 0.0, 1.0, 0.0, 22.0, 1794.0, 3.0, 3.0, 22.0, 23.0, 2.0, 2.0], [15.752494637472454, 4.247505362527541], [0.787624731873623, 0.2123752681263771], 0.0, 'No Risk'], ['0_to_200', 32, 'outstanding_credit', 'appliances', 3786, '100_to_500', '4_to_7', 4, 'male', 'none', 4, 'unknown', 36, 'none', 'own', 1, 'skilled', 2, 'yes', 'yes', 2.0, 2.0, 1.0, 1.0, 0.0, 0.0, 0.0, 0.0, 4.0, 0.0, 3.0, 0.0, 1.0, [2.0, 2.0, 4.0, 1.0, 1.0, 0.0, 0.0, 3.0, 0.0, 0.0, 0.0, 1.0, 0.0, 32.0, 3786.0, 4.0, 4.0, 32.0, 36.0, 1.0, 2.0], [9.426609608910608, 10.57339039108939], [0.4713304804455304, 0.5286695195544695], 1.0, 'Risk'], ['no_checking', 41, 'prior_payments_delayed', 'vacation', 6480, '500_to_1000', '4_to_7', 3, 'male', 'none', 3, 'unknown', 35, 'none', 'own', 1, 'skilled', 1, 'none', 'yes', 0.0, 0.0, 1.0, 2.0, 0.0, 0.0, 0.0, 0.0, 6.0, 0.0, 3.0, 0.0, 0.0, [21, [2, 3, 4, 7, 13, 14, 15, 16, 17, 18, 19, 20], [6.0, 2.0, 1.0, 3.0, 41.0, 6480.0, 3.0, 3.0, 41.0, 35.0, 1.0, 1.0]], [10.831082971041209, 9.168917028958791], [0.5415541485520604, 0.4584458514479396], 0.0, 'No Risk'], ['0_to_200', 8, 'prior_payments_delayed', 'car_used', 250, '500_to_1000', '1_to_4', 3, 'female', 'none', 3, 'real_estate', 28, 'none', 'own', 1, 'skilled', 1, 'none', 'yes', 2.0, 0.0, 0.0, 2.0, 0.0, 0.0, 0.0, 0.0, 2.0, 0.0, 2.0, 1.0, 0.0, [2.0, 0.0, 2.0, 2.0, 0.0, 1.0, 0.0, 2.0, 0.0, 0.0, 0.0, 0.0, 0.0, 8.0, 250.0, 3.0, 3.0, 8.0, 28.0, 1.0, 1.0], [18.404467485172347, 1.595532514827653], [0.9202233742586173, 0.07977662574138264], 0.0, 'No Risk'], ['less_0', 12, 'all_credits_paid_back', 'car_used', 415, 'less_100', 'unemployed', 1, 'female', 'none', 2, 'real_estate', 25, 'none', 'rent', 1, 'skilled', 1, 'none', 'yes', 1.0, 3.0, 4.0, 0.0, 0.0, 1.0, 0.0, 0.0, 2.0, 0.0, 2.0, 1.0, 0.0, [1.0, 3.0, 2.0, 0.0, 4.0, 1.0, 0.0, 2.0, 0.0, 1.0, 0.0, 0.0, 0.0, 12.0, 415.0, 1.0, 2.0, 12.0, 25.0, 1.0, 1.0], [19.46549838843385, 0.53450161156615], [0.9732749194216925, 0.026725080578307497], 0.0, 'No Risk'], ['no_checking', 45, 'outstanding_credit', 'appliances', 5615, '500_to_1000', '4_to_7', 5, 'male', 'none', 3, 'car_other', 44, 'none', 'free', 2, 'skilled', 1, 'yes', 'yes', 0.0, 2.0, 1.0, 2.0, 0.0, 2.0, 0.0, 0.0, 4.0, 0.0, 1.0, 0.0, 1.0, [0.0, 2.0, 4.0, 2.0, 1.0, 0.0, 0.0, 1.0, 0.0, 2.0, 0.0, 1.0, 0.0, 45.0, 5615.0, 5.0, 3.0, 45.0, 44.0, 2.0, 1.0], [7.686793981266175, 12.313206018733823], [0.3843396990633088, 0.6156603009366912], 1.0, 'Risk'], ['0_to_200', 10, 'credits_paid_to_date', 'furniture', 272, 'less_100', '4_to_7', 2, 'male', 'none', 2, 'savings_insurance', 24, 'stores', 'rent', 2, 'unskilled', 2, 'yes', 'yes', 2.0, 1.0, 1.0, 0.0, 0.0, 1.0, 1.0, 1.0, 1.0, 0.0, 0.0, 0.0, 1.0, [2.0, 1.0, 1.0, 0.0, 1.0, 0.0, 0.0, 0.0, 1.0, 1.0, 1.0, 1.0, 0.0, 10.0, 272.0, 2.0, 2.0, 10.0, 24.0, 2.0, 2.0], [17.34517638402015, 2.654823615979847], [0.8672588192010077, 0.1327411807989924], 0.0, 'No Risk'], ['less_0', 13, 'all_credits_paid_back', 'car_new', 250, 'less_100', '1_to_4', 1, 'female', 'none', 2, 'real_estate', 21, 'stores', 'rent', 1, 'skilled', 1, 'none', 'yes', 1.0, 3.0, 0.0, 0.0, 0.0, 1.0, 1.0, 0.0, 0.0, 0.0, 2.0, 1.0, 0.0, [1.0, 3.0, 0.0, 0.0, 0.0, 1.0, 0.0, 2.0, 1.0, 1.0, 0.0, 0.0, 0.0, 13.0, 250.0, 1.0, 2.0, 13.0, 21.0, 1.0, 1.0], [19.290785994193104, 0.7092140058068978], [0.964539299709655, 0.03546070029034488], 0.0, 'No Risk'], ['no_checking', 51, 'outstanding_credit', 'education', 7961, 'greater_1000', '4_to_7', 4, 'male', 'co-applicant', 3, 'car_other', 47, 'none', 'free', 2, 'skilled', 1, 'yes', 'yes', 0.0, 2.0, 1.0, 3.0, 0.0, 2.0, 0.0, 0.0, 7.0, 1.0, 1.0, 0.0, 1.0, [0.0, 2.0, 7.0, 3.0, 1.0, 0.0, 1.0, 1.0, 0.0, 2.0, 0.0, 1.0, 0.0, 51.0, 7961.0, 4.0, 3.0, 51.0, 47.0, 2.0, 1.0], [2.7246999379629915, 17.275300062037008], [0.13623499689814958, 0.8637650031018504], 1.0, 'Risk'], ['0_to_200', 17, 'credits_paid_to_date', 'furniture', 1815, '500_to_1000', '4_to_7', 3, 'male', 'none', 3, 'car_other', 37, 'bank', 'rent', 2, 'unemployed', 1, 'yes', 'yes', 2.0, 1.0, 1.0, 2.0, 0.0, 1.0, 2.0, 3.0, 1.0, 0.0, 1.0, 0.0, 1.0, [2.0, 1.0, 1.0, 2.0, 1.0, 0.0, 0.0, 1.0, 2.0, 1.0, 3.0, 1.0, 0.0, 17.0, 1815.0, 3.0, 3.0, 17.0, 37.0, 2.0, 1.0], [13.994721478351169, 6.005278521648828], [0.6997360739175585, 0.30026392608244146], 0.0, 'No Risk'], ['greater_200', 21, 'credits_paid_to_date', 'furniture', 2518, '500_to_1000', '4_to_7', 3, 'female', 'none', 4, 'real_estate', 38, 'none', 'own', 2, 'skilled', 1, 'none', 'yes', 3.0, 1.0, 1.0, 2.0, 0.0, 0.0, 0.0, 0.0, 1.0, 0.0, 2.0, 1.0, 0.0, [3.0, 1.0, 1.0, 2.0, 1.0, 1.0, 0.0, 2.0, 0.0, 0.0, 0.0, 0.0, 0.0, 21.0, 2518.0, 3.0, 4.0, 21.0, 38.0, 2.0, 1.0], [14.842329323432892, 5.157670676567104], [0.7421164661716447, 0.25788353382835527], 0.0, 'No Risk'], ['less_0', 9, 'all_credits_paid_back', 'education', 1034, 'less_100', 'unemployed', 1, 'female', 'none', 1, 'savings_insurance', 28, 'none', 'rent', 1, 'skilled', 1, 'none', 'yes', 1.0, 3.0, 4.0, 0.0, 0.0, 1.0, 0.0, 0.0, 7.0, 0.0, 0.0, 1.0, 0.0, [1.0, 3.0, 7.0, 0.0, 4.0, 1.0, 0.0, 0.0, 0.0, 1.0, 0.0, 0.0, 0.0, 9.0, 1034.0, 1.0, 1.0, 9.0, 28.0, 1.0, 1.0], [19.319185656028484, 0.6808143439715175], [0.9659592828014242, 0.034040717198575876], 0.0, 'No Risk'], ['0_to_200', 30, 'credits_paid_to_date', 'radio_tv', 3589, 'less_100', 'less_1', 3, 'male', 'none', 3, 'car_other', 29, 'none', 'rent', 1, 'skilled', 1, 'yes', 'yes', 2.0, 1.0, 3.0, 0.0, 0.0, 1.0, 0.0, 0.0, 3.0, 0.0, 1.0, 0.0, 1.0, [2.0, 1.0, 3.0, 0.0, 3.0, 0.0, 0.0, 1.0, 0.0, 1.0, 0.0, 1.0, 0.0, 30.0, 3589.0, 3.0, 3.0, 30.0, 29.0, 1.0, 1.0], [14.800267142762324, 5.199732857237675], [0.7400133571381162, 0.2599866428618837], 0.0, 'No Risk'], ['0_to_200', 20, 'prior_payments_delayed', 'education', 2847, '100_to_500', 'less_1', 3, 'male', 'none', 4, 'car_other', 31, 'none', 'own', 1, 'management_self-employed', 1, 'yes', 'yes', 2.0, 0.0, 3.0, 1.0, 0.0, 0.0, 0.0, 2.0, 7.0, 0.0, 1.0, 0.0, 1.0, [2.0, 0.0, 7.0, 1.0, 3.0, 0.0, 0.0, 1.0, 0.0, 0.0, 2.0, 1.0, 0.0, 20.0, 2847.0, 3.0, 4.0, 20.0, 31.0, 1.0, 1.0], [14.403417470219608, 5.596582529780393], [0.7201708735109804, 0.27982912648901964], 0.0, 'No Risk'], ['less_0', 19, 'prior_payments_delayed', 'car_used', 3581, 'greater_1000', '4_to_7', 3, 'male', 'none', 2, 'car_other', 48, 'none', 'rent', 2, 'skilled', 1, 'none', 'yes', 1.0, 0.0, 1.0, 3.0, 0.0, 1.0, 0.0, 0.0, 2.0, 0.0, 1.0, 0.0, 0.0, [1.0, 0.0, 2.0, 3.0, 1.0, 0.0, 0.0, 1.0, 0.0, 1.0, 0.0, 0.0, 0.0, 19.0, 3581.0, 3.0, 2.0, 19.0, 48.0, 2.0, 1.0], [13.89049553917058, 6.109504460829419], [0.694524776958529, 0.30547522304147096], 0.0, 'No Risk'], ['no_checking', 37, 'prior_payments_delayed', 'appliances', 6411, 'unknown', 'greater_7', 5, 'female', 'none', 3, 'car_other', 51, 'none', 'own', 3, 'skilled', 1, 'none', 'yes', 0.0, 0.0, 2.0, 4.0, 0.0, 0.0, 0.0, 0.0, 4.0, 0.0, 1.0, 1.0, 0.0, [0.0, 0.0, 4.0, 4.0, 2.0, 1.0, 0.0, 1.0, 0.0, 0.0, 0.0, 0.0, 0.0, 37.0, 6411.0, 5.0, 3.0, 37.0, 51.0, 3.0, 1.0], [5.938542689568227, 14.061457310431773], [0.29692713447841135, 0.7030728655215887], 1.0, 'Risk'], ['no_checking', 26, 'prior_payments_delayed', 'radio_tv', 4127, '100_to_500', '4_to_7', 4, 'male', 'none', 3, 'savings_insurance', 38, 'stores', 'free', 1, 'unskilled', 1, 'yes', 'yes', 0.0, 0.0, 1.0, 1.0, 0.0, 2.0, 1.0, 1.0, 3.0, 0.0, 0.0, 0.0, 1.0, [0.0, 0.0, 3.0, 1.0, 1.0, 0.0, 0.0, 0.0, 1.0, 2.0, 1.0, 1.0, 0.0, 26.0, 4127.0, 4.0, 3.0, 26.0, 38.0, 1.0, 1.0], [11.589802965497046, 8.410197034502954], [0.5794901482748523, 0.42050985172514765], 0.0, 'No Risk'], ['no_checking', 10, 'credits_paid_to_date', 'furniture', 4565, '500_to_1000', '4_to_7', 3, 'male', 'guarantor', 3, 'unknown', 46, 'none', 'own', 2, 'skilled', 1, 'yes', 'yes', 0.0, 1.0, 1.0, 2.0, 0.0, 0.0, 0.0, 0.0, 1.0, 2.0, 3.0, 0.0, 1.0, [0.0, 1.0, 1.0, 2.0, 1.0, 0.0, 2.0, 3.0, 0.0, 0.0, 0.0, 1.0, 0.0, 10.0, 4565.0, 3.0, 3.0, 10.0, 46.0, 2.0, 1.0], [10.20190297408941, 9.798097025910588], [0.5100951487044705, 0.4899048512955294], 0.0, 'No Risk'], ['0_to_200', 4, 'all_credits_paid_back', 'car_new', 2572, 'less_100', 'less_1', 1, 'female', 'none', 1, 'real_estate', 22, 'none', 'own', 1, 'skilled', 1, 'none', 'yes', 2.0, 3.0, 3.0, 0.0, 0.0, 0.0, 0.0, 0.0, 0.0, 0.0, 2.0, 1.0, 0.0, [2.0, 3.0, 0.0, 0.0, 3.0, 1.0, 0.0, 2.0, 0.0, 0.0, 0.0, 0.0, 0.0, 4.0, 2572.0, 1.0, 1.0, 4.0, 22.0, 1.0, 1.0], [19.36683821946552, 0.6331617805344795], [0.968341910973276, 0.03165808902672397], 0.0, 'No Risk'], ['no_checking', 59, 'outstanding_credit', 'other', 8328, 'unknown', 'greater_7', 6, 'female', 'co-applicant', 4, 'unknown', 51, 'stores', 'own', 4, 'unemployed', 2, 'yes', 'yes', 0.0, 2.0, 2.0, 4.0, 0.0, 0.0, 1.0, 3.0, 10.0, 1.0, 3.0, 1.0, 1.0, [0.0, 2.0, 10.0, 4.0, 2.0, 1.0, 1.0, 3.0, 1.0, 0.0, 3.0, 1.0, 0.0, 59.0, 8328.0, 6.0, 4.0, 59.0, 51.0, 4.0, 2.0], [2.937231118155697, 17.062768881844303], [0.14686155590778485, 0.8531384440922152], 1.0, 'Risk'], ['less_0', 18, 'prior_payments_delayed', 'car_new', 1668, 'less_100', 'less_1', 2, 'male', 'none', 1, 'car_other', 31, 'none', 'own', 1, 'skilled', 1, 'yes', 'yes', 1.0, 0.0, 3.0, 0.0, 0.0, 0.0, 0.0, 0.0, 0.0, 0.0, 1.0, 0.0, 1.0, [21, [0, 4, 7, 11, 13, 14, 15, 16, 17, 18, 19, 20], [1.0, 3.0, 1.0, 1.0, 18.0, 1668.0, 2.0, 1.0, 18.0, 31.0, 1.0, 1.0]], [16.892605543534163, 3.1073944564658347], [0.8446302771767084, 0.15536972282329176], 0.0, 'No Risk'], ['0_to_200', 32, 'outstanding_credit', 'radio_tv', 1060, 'unknown', '4_to_7', 3, 'male', 'none', 3, 'savings_insurance', 25, 'stores', 'own', 1, 'unskilled', 1, 'none', 'yes', 2.0, 2.0, 1.0, 4.0, 0.0, 0.0, 1.0, 1.0, 3.0, 0.0, 0.0, 0.0, 0.0, [2.0, 2.0, 3.0, 4.0, 1.0, 0.0, 0.0, 0.0, 1.0, 0.0, 1.0, 0.0, 0.0, 32.0, 1060.0, 3.0, 3.0, 32.0, 25.0, 1.0, 1.0], [15.020479675462392, 4.979520324537607], [0.7510239837731196, 0.24897601622688037], 0.0, 'No Risk'], ['no_checking', 32, 'prior_payments_delayed', 'retraining', 4973, '100_to_500', '4_to_7', 4, 'female', 'none', 3, 'car_other', 56, 'none', 'own', 1, 'skilled', 1, 'yes', 'yes', 0.0, 0.0, 1.0, 1.0, 0.0, 0.0, 0.0, 0.0, 8.0, 0.0, 1.0, 1.0, 1.0, [0.0, 0.0, 8.0, 1.0, 1.0, 1.0, 0.0, 1.0, 0.0, 0.0, 0.0, 1.0, 0.0, 32.0, 4973.0, 4.0, 3.0, 32.0, 56.0, 1.0, 1.0], [6.415417968660077, 13.584582031339925], [0.3207708984330038, 0.6792291015669961], 1.0, 'Risk'], ['0_to_200', 21, 'outstanding_credit', 'radio_tv', 5644, '100_to_500', '4_to_7', 3, 'male', 'co-applicant', 3, 'savings_insurance', 49, 'none', 'own', 2, 'skilled', 1, 'yes', 'yes', 2.0, 2.0, 1.0, 1.0, 0.0, 0.0, 0.0, 0.0, 3.0, 1.0, 0.0, 0.0, 1.0, [2.0, 2.0, 3.0, 1.0, 1.0, 0.0, 1.0, 0.0, 0.0, 0.0, 0.0, 1.0, 0.0, 21.0, 5644.0, 3.0, 3.0, 21.0, 49.0, 2.0, 1.0], [10.510561025161762, 9.48943897483824], [0.5255280512580881, 0.474471948741912], 0.0, 'No Risk'], ['greater_200', 25, 'credits_paid_to_date', 'radio_tv', 5113, '100_to_500', '4_to_7', 4, 'male', 'none', 4, 'savings_insurance', 33, 'none', 'free', 2, 'management_self-employed', 1, 'yes', 'yes', 3.0, 1.0, 1.0, 1.0, 0.0, 2.0, 0.0, 2.0, 3.0, 0.0, 0.0, 0.0, 1.0, [3.0, 1.0, 3.0, 1.0, 1.0, 0.0, 0.0, 0.0, 0.0, 2.0, 2.0, 1.0, 0.0, 25.0, 5113.0, 4.0, 4.0, 25.0, 33.0, 2.0, 1.0], [11.697772435316654, 8.302227564683346], [0.5848886217658327, 0.41511137823416727], 0.0, 'No Risk'], ['0_to_200', 21, 'credits_paid_to_date', 'furniture', 2093, 'less_100', '1_to_4', 1, 'male', 'none', 3, 'real_estate', 24, 'none', 'rent', 1, 'skilled', 1, 'none', 'yes', 2.0, 1.0, 0.0, 0.0, 0.0, 1.0, 0.0, 0.0, 1.0, 0.0, 2.0, 0.0, 0.0, [2.0, 1.0, 1.0, 0.0, 0.0, 0.0, 0.0, 2.0, 0.0, 1.0, 0.0, 0.0, 0.0, 21.0, 2093.0, 1.0, 3.0, 21.0, 24.0, 1.0, 1.0], [16.58593934818982, 3.4140606518101775], [0.8292969674094911, 0.17070303259050887], 0.0, 'No Risk'], ['no_checking', 30, 'outstanding_credit', 'furniture', 5772, '500_to_1000', 'greater_7', 5, 'male', 'co-applicant', 5, 'car_other', 51, 'none', 'free', 2, 'skilled', 1, 'yes', 'no', 0.0, 2.0, 2.0, 2.0, 1.0, 2.0, 0.0, 0.0, 1.0, 1.0, 1.0, 0.0, 1.0, [0.0, 2.0, 1.0, 2.0, 2.0, 0.0, 1.0, 1.0, 0.0, 2.0, 0.0, 1.0, 1.0, 30.0, 5772.0, 5.0, 5.0, 30.0, 51.0, 2.0, 1.0], [1.7321202473010175, 18.26787975269898], [0.08660601236505087, 0.9133939876349491], 1.0, 'Risk'], ['0_to_200', 19, 'credits_paid_to_date', 'furniture', 1771, '500_to_1000', '1_to_4', 3, 'male', 'none', 3, 'real_estate', 33, 'none', 'own', 1, 'skilled', 1, 'none', 'yes', 2.0, 1.0, 0.0, 2.0, 0.0, 0.0, 0.0, 0.0, 1.0, 0.0, 2.0, 0.0, 0.0, [2.0, 1.0, 1.0, 2.0, 0.0, 0.0, 0.0, 2.0, 0.0, 0.0, 0.0, 0.0, 0.0, 19.0, 1771.0, 3.0, 3.0, 19.0, 33.0, 1.0, 1.0], [16.586203024807112, 3.413796975192886], [0.8293101512403556, 0.1706898487596443], 0.0, 'No Risk'], ['no_checking', 17, 'outstanding_credit', 'furniture', 3024, 'unknown', '4_to_7', 2, 'male', 'none', 2, 'unknown', 58, 'none', 'own', 2, 'skilled', 2, 'yes', 'yes', 0.0, 2.0, 1.0, 4.0, 0.0, 0.0, 0.0, 0.0, 1.0, 0.0, 3.0, 0.0, 1.0, [0.0, 2.0, 1.0, 4.0, 1.0, 0.0, 0.0, 3.0, 0.0, 0.0, 0.0, 1.0, 0.0, 17.0, 3024.0, 2.0, 2.0, 17.0, 58.0, 2.0, 2.0], [11.400613508793663, 8.599386491206337], [0.5700306754396831, 0.42996932456031683], 0.0, 'No Risk'], ['no_checking', 32, 'prior_payments_delayed', 'furniture', 4318, 'greater_1000', '1_to_4', 4, 'male', 'none', 5, 'savings_insurance', 30, 'none', 'own', 1, 'management_self-employed', 1, 'none', 'yes', 0.0, 0.0, 0.0, 3.0, 0.0, 0.0, 0.0, 2.0, 1.0, 0.0, 0.0, 0.0, 0.0, [21, [2, 3, 10, 13, 14, 15, 16, 17, 18, 19, 20], [1.0, 3.0, 2.0, 32.0, 4318.0, 4.0, 5.0, 32.0, 30.0, 1.0, 1.0]], [13.248041541352777, 6.7519584586472225], [0.6624020770676389, 0.3375979229323611], 0.0, 'No Risk'], ['less_0', 4, 'all_credits_paid_back', 'car_new', 358, 'less_100', 'unemployed', 1, 'female', 'none', 1, 'savings_insurance', 19, 'none', 'rent', 1, 'skilled', 1, 'none', 'yes', 1.0, 3.0, 4.0, 0.0, 0.0, 1.0, 0.0, 0.0, 0.0, 0.0, 0.0, 1.0, 0.0, [1.0, 3.0, 0.0, 0.0, 4.0, 1.0, 0.0, 0.0, 0.0, 1.0, 0.0, 0.0, 0.0, 4.0, 358.0, 1.0, 1.0, 4.0, 19.0, 1.0, 1.0], [19.414300294927738, 0.5856997050722619], [0.9707150147463869, 0.029284985253613095], 0.0, 'No Risk'], ['no_checking', 41, 'prior_payments_delayed', 'furniture', 7500, '500_to_1000', '4_to_7', 5, 'male', 'co-applicant', 3, 'unknown', 51, 'none', 'own', 2, 'skilled', 1, 'yes', 'yes', 0.0, 0.0, 1.0, 2.0, 0.0, 0.0, 0.0, 0.0, 1.0, 1.0, 3.0, 0.0, 1.0, [0.0, 0.0, 1.0, 2.0, 1.0, 0.0, 1.0, 3.0, 0.0, 0.0, 0.0, 1.0, 0.0, 41.0, 7500.0, 5.0, 3.0, 41.0, 51.0, 2.0, 1.0], [3.826026759262612, 16.173973240737386], [0.19130133796313065, 0.8086986620368695], 1.0, 'Risk'], ['0_to_200', 6, 'all_credits_paid_back', 'car_new', 865, 'less_100', 'unemployed', 2, 'male', 'none', 1, 'real_estate', 19, 'none', 'rent', 1, 'skilled', 1, 'none', 'yes', 2.0, 3.0, 4.0, 0.0, 0.0, 1.0, 0.0, 0.0, 0.0, 0.0, 2.0, 0.0, 0.0, [2.0, 3.0, 0.0, 0.0, 4.0, 0.0, 0.0, 2.0, 0.0, 1.0, 0.0, 0.0, 0.0, 6.0, 865.0, 2.0, 1.0, 6.0, 19.0, 1.0, 1.0], [19.392744955216816, 0.6072550447831842], [0.9696372477608408, 0.030362752239159206], 0.0, 'No Risk'], ['no_checking', 52, 'credits_paid_to_date', 'other', 6818, '500_to_1000', '1_to_4', 5, 'male', 'none', 4, 'savings_insurance', 31, 'none', 'own', 2, 'skilled', 1, 'none', 'yes', 0.0, 1.0, 0.0, 2.0, 0.0, 0.0, 0.0, 0.0, 10.0, 0.0, 0.0, 0.0, 0.0, [21, [1, 2, 3, 13, 14, 15, 16, 17, 18, 19, 20], [1.0, 10.0, 2.0, 52.0, 6818.0, 5.0, 4.0, 52.0, 31.0, 2.0, 1.0]], [12.847526525035972, 7.152473474964028], [0.6423763262517986, 0.35762367374820137], 0.0, 'No Risk'], ['greater_200', 31, 'outstanding_credit', 'appliances', 5263, '500_to_1000', '4_to_7', 4, 'male', 'none', 2, 'unknown', 42, 'none', 'own', 1, 'skilled', 1, 'yes', 'yes', 3.0, 2.0, 1.0, 2.0, 0.0, 0.0, 0.0, 0.0, 4.0, 0.0, 3.0, 0.0, 1.0, [3.0, 2.0, 4.0, 2.0, 1.0, 0.0, 0.0, 3.0, 0.0, 0.0, 0.0, 1.0, 0.0, 31.0, 5263.0, 4.0, 2.0, 31.0, 42.0, 1.0, 1.0], [9.805856903841168, 10.194143096158832], [0.4902928451920584, 0.5097071548079416], 1.0, 'Risk'], ['no_checking', 34, 'prior_payments_delayed', 'radio_tv', 6096, '500_to_1000', 'less_1', 4, 'male', 'none', 3, 'unknown', 58, 'none', 'free', 3, 'management_self-employed', 2, 'yes', 'yes', 0.0, 0.0, 3.0, 2.0, 0.0, 2.0, 0.0, 2.0, 3.0, 0.0, 3.0, 0.0, 1.0, [0.0, 0.0, 3.0, 2.0, 3.0, 0.0, 0.0, 3.0, 0.0, 2.0, 2.0, 1.0, 0.0, 34.0, 6096.0, 4.0, 3.0, 34.0, 58.0, 3.0, 2.0], [9.917906253028647, 10.082093746971353], [0.4958953126514324, 0.5041046873485676], 1.0, 'Risk'], ['0_to_200', 21, 'credits_paid_to_date', 'repairs', 255, '100_to_500', '4_to_7', 3, 'male', 'none', 3, 'real_estate', 33, 'stores', 'rent', 2, 'skilled', 1, 'none', 'yes', 2.0, 1.0, 1.0, 1.0, 0.0, 1.0, 1.0, 0.0, 5.0, 0.0, 2.0, 0.0, 0.0, [2.0, 1.0, 5.0, 1.0, 1.0, 0.0, 0.0, 2.0, 1.0, 1.0, 0.0, 0.0, 0.0, 21.0, 255.0, 3.0, 3.0, 21.0, 33.0, 2.0, 1.0], [16.179011196478662, 3.8209888035213417], [0.8089505598239329, 0.19104944017606706], 0.0, 'No Risk'], ['no_checking', 51, 'outstanding_credit', 'repairs', 6017, 'greater_1000', '4_to_7', 3, 'male', 'co-applicant', 2, 'unknown', 47, 'none', 'own', 2, 'skilled', 1, 'yes', 'yes', 0.0, 2.0, 1.0, 3.0, 0.0, 0.0, 0.0, 0.0, 5.0, 1.0, 3.0, 0.0, 1.0, [0.0, 2.0, 5.0, 3.0, 1.0, 0.0, 1.0, 3.0, 0.0, 0.0, 0.0, 1.0, 0.0, 51.0, 6017.0, 3.0, 2.0, 51.0, 47.0, 2.0, 1.0], [4.139632090932269, 15.86036790906773], [0.20698160454661343, 0.7930183954533865], 1.0, 'Risk'], ['no_checking', 32, 'prior_payments_delayed', 'business', 6587, 'unknown', '1_to_4', 4, 'male', 'none', 4, 'car_other', 39, 'none', 'own', 2, 'skilled', 1, 'none', 'no', 0.0, 0.0, 0.0, 4.0, 1.0, 0.0, 0.0, 0.0, 9.0, 0.0, 1.0, 0.0, 0.0, [21, [2, 3, 7, 12, 13, 14, 15, 16, 17, 18, 19, 20], [9.0, 4.0, 1.0, 1.0, 32.0, 6587.0, 4.0, 4.0, 32.0, 39.0, 2.0, 1.0]], [12.844521448884736, 7.155478551115263], [0.6422260724442368, 0.35777392755576315], 0.0, 'No Risk'], ['no_checking', 33, 'prior_payments_delayed', 'business', 5458, '100_to_500', '4_to_7', 3, 'male', 'none', 3, 'car_other', 39, 'none', 'own', 2, 'skilled', 1, 'yes', 'yes', 0.0, 0.0, 1.0, 1.0, 0.0, 0.0, 0.0, 0.0, 9.0, 0.0, 1.0, 0.0, 1.0, [0.0, 0.0, 9.0, 1.0, 1.0, 0.0, 0.0, 1.0, 0.0, 0.0, 0.0, 1.0, 0.0, 33.0, 5458.0, 3.0, 3.0, 33.0, 39.0, 2.0, 1.0], [9.072848182732661, 10.927151817267335], [0.4536424091366332, 0.5463575908633669], 1.0, 'Risk'], ['greater_200', 24, 'outstanding_credit', 'car_used', 4419, '500_to_1000', '4_to_7', 4, 'male', 'none', 4, 'car_other', 58, 'none', 'own', 2, 'skilled', 1, 'yes', 'yes', 3.0, 2.0, 1.0, 2.0, 0.0, 0.0, 0.0, 0.0, 2.0, 0.0, 1.0, 0.0, 1.0, [3.0, 2.0, 2.0, 2.0, 1.0, 0.0, 0.0, 1.0, 0.0, 0.0, 0.0, 1.0, 0.0, 24.0, 4419.0, 4.0, 4.0, 24.0, 58.0, 2.0, 1.0], [9.81280887993465, 10.187191120065352], [0.4906404439967325, 0.5093595560032675], 1.0, 'Risk'], ['no_checking', 28, 'prior_payments_delayed', 'car_used', 4355, 'unknown', 'greater_7', 4, 'male', 'none', 4, 'unknown', 45, 'none', 'own', 2, 'skilled', 1, 'none', 'yes', 0.0, 0.0, 2.0, 4.0, 0.0, 0.0, 0.0, 0.0, 2.0, 0.0, 3.0, 0.0, 0.0, [21, [2, 3, 4, 7, 13, 14, 15, 16, 17, 18, 19, 20], [2.0, 4.0, 2.0, 3.0, 28.0, 4355.0, 4.0, 4.0, 28.0, 45.0, 2.0, 1.0]], [7.716067840519054, 12.283932159480948], [0.3858033920259527, 0.6141966079740474], 1.0, 'Risk'], ['no_checking', 38, 'prior_payments_delayed', 'other', 5651, 'unknown', '1_to_4', 4, 'male', 'none', 5, 'car_other', 34, 'none', 'own', 1, 'management_self-employed', 1, 'none', 'yes', 0.0, 0.0, 0.0, 4.0, 0.0, 0.0, 0.0, 2.0, 10.0, 0.0, 1.0, 0.0, 0.0, [21, [2, 3, 7, 10, 13, 14, 15, 16, 17, 18, 19, 20], [10.0, 4.0, 1.0, 2.0, 38.0, 5651.0, 4.0, 5.0, 38.0, 34.0, 1.0, 1.0]], [13.021504706859519, 6.978495293140482], [0.651075235342976, 0.3489247646570241], 0.0, 'No Risk'], ['0_to_200', 16, 'credits_paid_to_date', 'car_used', 2953, '500_to_1000', '4_to_7', 2, 'male', 'none', 3, 'car_other', 36, 'none', 'own', 1, 'skilled', 1, 'none', 'yes', 2.0, 1.0, 1.0, 2.0, 0.0, 0.0, 0.0, 0.0, 2.0, 0.0, 1.0, 0.0, 0.0, [2.0, 1.0, 2.0, 2.0, 1.0, 0.0, 0.0, 1.0, 0.0, 0.0, 0.0, 0.0, 0.0, 16.0, 2953.0, 2.0, 3.0, 16.0, 36.0, 1.0, 1.0], [15.059424672632774, 4.940575327367229], [0.7529712336316385, 0.2470287663683614], 0.0, 'No Risk'], ['no_checking', 36, 'prior_payments_delayed', 'furniture', 6244, '500_to_1000', '1_to_4', 4, 'male', 'none', 4, 'car_other', 37, 'none', 'own', 2, 'skilled', 1, 'none', 'yes', 0.0, 0.0, 0.0, 2.0, 0.0, 0.0, 0.0, 0.0, 1.0, 0.0, 1.0, 0.0, 0.0, [21, [2, 3, 7, 13, 14, 15, 16, 17, 18, 19, 20], [1.0, 2.0, 1.0, 36.0, 6244.0, 4.0, 4.0, 36.0, 37.0, 2.0, 1.0]], [12.367003197656272, 7.63299680234373], [0.6183501598828136, 0.3816498401171865], 0.0, 'No Risk'], ['0_to_200', 34, 'prior_payments_delayed', 'education', 1087, '100_to_500', '1_to_4', 2, 'male', 'none', 2, 'savings_insurance', 25, 'stores', 'own', 1, 'skilled', 1, 'none', 'yes', 2.0, 0.0, 0.0, 1.0, 0.0, 0.0, 1.0, 0.0, 7.0, 0.0, 0.0, 0.0, 0.0, [21, [0, 2, 3, 8, 13, 14, 15, 16, 17, 18, 19, 20], [2.0, 7.0, 1.0, 1.0, 34.0, 1087.0, 2.0, 2.0, 34.0, 25.0, 1.0, 1.0]], [15.688764806048892, 4.311235193951107], [0.7844382403024446, 0.21556175969755534], 0.0, 'No Risk'], ['no_checking', 8, 'credits_paid_to_date', 'car_new', 2384, 'less_100', '1_to_4', 2, 'male', 'co-applicant', 2, 'car_other', 42, 'none', 'free', 1, 'skilled', 1, 'yes', 'yes', 0.0, 1.0, 0.0, 0.0, 0.0, 2.0, 0.0, 0.0, 0.0, 1.0, 1.0, 0.0, 1.0, [0.0, 1.0, 0.0, 0.0, 0.0, 0.0, 1.0, 1.0, 0.0, 2.0, 0.0, 1.0, 0.0, 8.0, 2384.0, 2.0, 2.0, 8.0, 42.0, 1.0, 1.0], [15.058538032380557, 4.941461967619442], [0.7529269016190279, 0.24707309838097208], 0.0, 'No Risk'], ['greater_200', 19, 'prior_payments_delayed', 'radio_tv', 4918, '100_to_500', '1_to_4', 3, 'female', 'none', 3, 'savings_insurance', 51, 'none', 'own', 1, 'skilled', 1, 'yes', 'yes', 3.0, 0.0, 0.0, 1.0, 0.0, 0.0, 0.0, 0.0, 3.0, 0.0, 0.0, 1.0, 1.0, [3.0, 0.0, 3.0, 1.0, 0.0, 1.0, 0.0, 0.0, 0.0, 0.0, 0.0, 1.0, 0.0, 19.0, 4918.0, 3.0, 3.0, 19.0, 51.0, 1.0, 1.0], [12.289129920638702, 7.710870079361295], [0.6144564960319352, 0.3855435039680648], 0.0, 'No Risk'], ['0_to_200', 19, 'credits_paid_to_date', 'retraining', 2258, 'less_100', '1_to_4', 2, 'female', 'none', 2, 'savings_insurance', 35, 'bank', 'rent', 1, 'unskilled', 1, 'yes', 'yes', 2.0, 1.0, 0.0, 0.0, 0.0, 1.0, 2.0, 1.0, 8.0, 0.0, 0.0, 1.0, 1.0, [2.0, 1.0, 8.0, 0.0, 0.0, 1.0, 0.0, 0.0, 2.0, 1.0, 1.0, 1.0, 0.0, 19.0, 2258.0, 2.0, 2.0, 19.0, 35.0, 1.0, 1.0], [16.904150431170585, 3.0958495688294163], [0.8452075215585293, 0.15479247844147082], 0.0, 'No Risk'], ['less_0', 4, 'prior_payments_delayed', 'appliances', 1389, '500_to_1000', '4_to_7', 2, 'male', 'none', 1, 'car_other', 20, 'stores', 'own', 1, 'skilled', 1, 'none', 'yes', 1.0, 0.0, 1.0, 2.0, 0.0, 0.0, 1.0, 0.0, 4.0, 0.0, 1.0, 0.0, 0.0, [1.0, 0.0, 4.0, 2.0, 1.0, 0.0, 0.0, 1.0, 1.0, 0.0, 0.0, 0.0, 0.0, 4.0, 1389.0, 2.0, 1.0, 4.0, 20.0, 1.0, 1.0], [18.004477240984606, 1.9955227590153937], [0.9002238620492303, 0.09977613795076969], 0.0, 'No Risk'], ['0_to_200', 8, 'all_credits_paid_back', 'car_used', 250, '100_to_500', 'less_1', 2, 'female', 'none', 3, 'real_estate', 22, 'none', 'rent', 1, 'skilled', 1, 'none', 'yes', 2.0, 3.0, 3.0, 1.0, 0.0, 1.0, 0.0, 0.0, 2.0, 0.0, 2.0, 1.0, 0.0, [2.0, 3.0, 2.0, 1.0, 3.0, 1.0, 0.0, 2.0, 0.0, 1.0, 0.0, 0.0, 0.0, 8.0, 250.0, 2.0, 3.0, 8.0, 22.0, 1.0, 1.0], [19.33734970676629, 0.6626502932337093], [0.9668674853383145, 0.033132514661685465], 0.0, 'No Risk'], ['less_0', 12, 'prior_payments_delayed', 'repairs', 2707, 'less_100', '1_to_4', 3, 'male', 'none', 3, 'car_other', 34, 'bank', 'rent', 2, 'unskilled', 1, 'none', 'yes', 1.0, 0.0, 0.0, 0.0, 0.0, 1.0, 2.0, 1.0, 5.0, 0.0, 1.0, 0.0, 0.0, [1.0, 0.0, 5.0, 0.0, 0.0, 0.0, 0.0, 1.0, 2.0, 1.0, 1.0, 0.0, 0.0, 12.0, 2707.0, 3.0, 3.0, 12.0, 34.0, 2.0, 1.0], [15.88719775613384, 4.11280224386616], [0.794359887806692, 0.20564011219330797], 0.0, 'No Risk'], ['greater_200', 33, 'prior_payments_delayed', 'appliances', 4890, '500_to_1000', '4_to_7', 4, 'male', 'none', 4, 'car_other', 45, 'none', 'own', 2, 'skilled', 1, 'yes', 'yes', 3.0, 0.0, 1.0, 2.0, 0.0, 0.0, 0.0, 0.0, 4.0, 0.0, 1.0, 0.0, 1.0, [3.0, 0.0, 4.0, 2.0, 1.0, 0.0, 0.0, 1.0, 0.0, 0.0, 0.0, 1.0, 0.0, 33.0, 4890.0, 4.0, 4.0, 33.0, 45.0, 2.0, 1.0], [9.462688083630967, 10.537311916369035], [0.47313440418154834, 0.5268655958184517], 1.0, 'Risk'], ['0_to_200', 12, 'no_credits', 'car_new', 250, 'less_100', 'less_1', 2, 'female', 'none', 1, 'real_estate', 20, 'bank', 'rent', 1, 'unskilled', 1, 'none', 'yes', 2.0, 4.0, 3.0, 0.0, 0.0, 1.0, 2.0, 1.0, 0.0, 0.0, 2.0, 1.0, 0.0, [2.0, 4.0, 0.0, 0.0, 3.0, 1.0, 0.0, 2.0, 2.0, 1.0, 1.0, 0.0, 0.0, 12.0, 250.0, 2.0, 1.0, 12.0, 20.0, 1.0, 1.0], [19.46195285836478, 0.5380471416352239], [0.9730976429182387, 0.026902357081761193], 0.0, 'No Risk'], ['no_checking', 30, 'prior_payments_delayed', 'car_used', 6975, 'unknown', '1_to_4', 4, 'male', 'none', 5, 'car_other', 47, 'none', 'own', 2, 'skilled', 2, 'yes', 'yes', 0.0, 0.0, 0.0, 4.0, 0.0, 0.0, 0.0, 0.0, 2.0, 0.0, 1.0, 0.0, 1.0, [21, [2, 3, 7, 11, 13, 14, 15, 16, 17, 18, 19, 20], [2.0, 4.0, 1.0, 1.0, 30.0, 6975.0, 4.0, 5.0, 30.0, 47.0, 2.0, 2.0]], [10.339828229435543, 9.660171770564455], [0.5169914114717772, 0.48300858852822276], 0.0, 'No Risk'], ['0_to_200', 14, 'prior_payments_delayed', 'furniture', 3823, 'less_100', '1_to_4', 2, 'female', 'none', 2, 'unknown', 48, 'none', 'free', 2, 'skilled', 1, 'yes', 'yes', 2.0, 0.0, 0.0, 0.0, 0.0, 2.0, 0.0, 0.0, 1.0, 0.0, 3.0, 1.0, 1.0, [2.0, 0.0, 1.0, 0.0, 0.0, 1.0, 0.0, 3.0, 0.0, 2.0, 0.0, 1.0, 0.0, 14.0, 3823.0, 2.0, 2.0, 14.0, 48.0, 2.0, 1.0], [13.444630011017148, 6.555369988982851], [0.6722315005508575, 0.32776849944914255], 0.0, 'No Risk'], ['less_0', 21, 'prior_payments_delayed', 'car_used', 1589, 'less_100', 'less_1', 2, 'male', 'none', 3, 'car_other', 34, 'none', 'own', 1, 'skilled', 1, 'yes', 'yes', 1.0, 0.0, 3.0, 0.0, 0.0, 0.0, 0.0, 0.0, 2.0, 0.0, 1.0, 0.0, 1.0, [1.0, 0.0, 2.0, 0.0, 3.0, 0.0, 0.0, 1.0, 0.0, 0.0, 0.0, 1.0, 0.0, 21.0, 1589.0, 2.0, 3.0, 21.0, 34.0, 1.0, 1.0], [15.070333971063265, 4.9296660289367304], [0.7535166985531634, 0.24648330144683656], 0.0, 'No Risk'], ['less_0', 4, 'all_credits_paid_back', 'car_new', 250, 'less_100', '1_to_4', 2, 'female', 'none', 1, 'real_estate', 19, 'bank', 'rent', 1, 'unskilled', 1, 'none', 'yes', 1.0, 3.0, 0.0, 0.0, 0.0, 1.0, 2.0, 1.0, 0.0, 0.0, 2.0, 1.0, 0.0, [1.0, 3.0, 0.0, 0.0, 0.0, 1.0, 0.0, 2.0, 2.0, 1.0, 1.0, 0.0, 0.0, 4.0, 250.0, 2.0, 1.0, 4.0, 19.0, 1.0, 1.0], [19.473757627257434, 0.5262423727425688], [0.9736878813628715, 0.026312118637128436], 0.0, 'No Risk'], ['0_to_200', 19, 'prior_payments_delayed', 'radio_tv', 3159, 'greater_1000', 'greater_7', 2, 'male', 'guarantor', 3, 'car_other', 55, 'stores', 'own', 2, 'skilled', 1, 'yes', 'yes', 2.0, 0.0, 2.0, 3.0, 0.0, 0.0, 1.0, 0.0, 3.0, 2.0, 1.0, 0.0, 1.0, [2.0, 0.0, 3.0, 3.0, 2.0, 0.0, 2.0, 1.0, 1.0, 0.0, 0.0, 1.0, 0.0, 19.0, 3159.0, 2.0, 3.0, 19.0, 55.0, 2.0, 1.0], [9.908027362059114, 10.091972637940886], [0.4954013681029557, 0.5045986318970443], 1.0, 'Risk'], ['0_to_200', 25, 'credits_paid_to_date', 'radio_tv', 250, 'greater_1000', '1_to_4', 3, 'male', 'none', 3, 'savings_insurance', 31, 'bank', 'rent', 1, 'unemployed', 1, 'yes', 'yes', 2.0, 1.0, 0.0, 3.0, 0.0, 1.0, 2.0, 3.0, 3.0, 0.0, 0.0, 0.0, 1.0, [2.0, 1.0, 3.0, 3.0, 0.0, 0.0, 0.0, 0.0, 2.0, 1.0, 3.0, 1.0, 0.0, 25.0, 250.0, 3.0, 3.0, 25.0, 31.0, 1.0, 1.0], [15.793487480801591, 4.206512519198407], [0.7896743740400796, 0.21032562595992035], 0.0, 'No Risk'], ['no_checking', 25, 'outstanding_credit', 'radio_tv', 8107, '500_to_1000', '4_to_7', 5, 'male', 'guarantor', 4, 'car_other', 60, 'none', 'free', 2, 'management_self-employed', 1, 'yes', 'yes', 0.0, 2.0, 1.0, 2.0, 0.0, 2.0, 0.0, 2.0, 3.0, 2.0, 1.0, 0.0, 1.0, [0.0, 2.0, 3.0, 2.0, 1.0, 0.0, 2.0, 1.0, 0.0, 2.0, 2.0, 1.0, 0.0, 25.0, 8107.0, 5.0, 4.0, 25.0, 60.0, 2.0, 1.0], [4.182387822812675, 15.817612177187323], [0.20911939114063377, 0.7908806088593662], 1.0, 'Risk'], ['less_0', 9, 'all_credits_paid_back', 'education', 2164, 'less_100', '1_to_4', 2, 'female', 'none', 1, 'real_estate', 26, 'none', 'rent', 1, 'skilled', 1, 'none', 'yes', 1.0, 3.0, 0.0, 0.0, 0.0, 1.0, 0.0, 0.0, 7.0, 0.0, 2.0, 1.0, 0.0, [1.0, 3.0, 7.0, 0.0, 0.0, 1.0, 0.0, 2.0, 0.0, 1.0, 0.0, 0.0, 0.0, 9.0, 2164.0, 2.0, 1.0, 9.0, 26.0, 1.0, 1.0], [19.26380839974153, 0.7361916002584704], [0.9631904199870764, 0.03680958001292351], 0.0, 'No Risk'], ['no_checking', 22, 'credits_paid_to_date', 'car_new', 5162, '100_to_500', '1_to_4', 3, 'female', 'none', 4, 'car_other', 49, 'none', 'free', 2, 'skilled', 2, 'yes', 'yes', 0.0, 1.0, 0.0, 1.0, 0.0, 2.0, 0.0, 0.0, 0.0, 0.0, 1.0, 1.0, 1.0, [0.0, 1.0, 0.0, 1.0, 0.0, 1.0, 0.0, 1.0, 0.0, 2.0, 0.0, 1.0, 0.0, 22.0, 5162.0, 3.0, 4.0, 22.0, 49.0, 2.0, 2.0], [10.494527973851204, 9.505472026148798], [0.5247263986925602, 0.4752736013074399], 0.0, 'No Risk'], ['0_to_200', 35, 'prior_payments_delayed', 'vacation', 5912, '100_to_500', '4_to_7', 4, 'female', 'none', 2, 'savings_insurance', 41, 'none', 'own', 2, 'skilled', 1, 'none', 'yes', 2.0, 0.0, 1.0, 1.0, 0.0, 0.0, 0.0, 0.0, 6.0, 0.0, 0.0, 1.0, 0.0, [2.0, 0.0, 6.0, 1.0, 1.0, 1.0, 0.0, 0.0, 0.0, 0.0, 0.0, 0.0, 0.0, 35.0, 5912.0, 4.0, 2.0, 35.0, 41.0, 2.0, 1.0], [11.114544071716445, 8.885455928283555], [0.5557272035858223, 0.4442727964141778], 0.0, 'No Risk'], ['less_0', 4, 'all_credits_paid_back', 'car_new', 1450, 'less_100', 'less_1', 1, 'male', 'none', 2, 'savings_insurance', 25, 'none', 'rent', 1, 'skilled', 2, 'none', 'yes', 1.0, 3.0, 3.0, 0.0, 0.0, 1.0, 0.0, 0.0, 0.0, 0.0, 0.0, 0.0, 0.0, [21, [0, 1, 4, 9, 13, 14, 15, 16, 17, 18, 19, 20], [1.0, 3.0, 3.0, 1.0, 4.0, 1450.0, 1.0, 2.0, 4.0, 25.0, 1.0, 2.0]], [18.904347945336088, 1.0956520546639121], [0.9452173972668044, 0.05478260273319561], 0.0, 'No Risk'], ['less_0', 14, 'credits_paid_to_date', 'car_new', 4319, '100_to_500', '1_to_4', 3, 'female', 'none', 3, 'savings_insurance', 33, 'none', 'own', 2, 'skilled', 1, 'none', 'yes', 1.0, 1.0, 0.0, 1.0, 0.0, 0.0, 0.0, 0.0, 0.0, 0.0, 0.0, 1.0, 0.0, [21, [0, 1, 3, 5, 13, 14, 15, 16, 17, 18, 19, 20], [1.0, 1.0, 1.0, 1.0, 14.0, 4319.0, 3.0, 3.0, 14.0, 33.0, 2.0, 1.0]], [15.473155307835622, 4.526844692164376], [0.7736577653917811, 0.2263422346082188], 0.0, 'No Risk'], ['no_checking', 23, 'credits_paid_to_date', 'car_used', 2782, '100_to_500', 'less_1', 3, 'male', 'none', 4, 'car_other', 27, 'none', 'own', 1, 'skilled', 1, 'none', 'yes', 0.0, 1.0, 3.0, 1.0, 0.0, 0.0, 0.0, 0.0, 2.0, 0.0, 1.0, 0.0, 0.0, [0.0, 1.0, 2.0, 1.0, 3.0, 0.0, 0.0, 1.0, 0.0, 0.0, 0.0, 0.0, 0.0, 23.0, 2782.0, 3.0, 4.0, 23.0, 27.0, 1.0, 1.0], [15.414455313138628, 4.58554468686137], [0.7707227656569314, 0.22927723434306851], 0.0, 'No Risk'], ['greater_200', 34, 'prior_payments_delayed', 'radio_tv', 4959, '100_to_500', '1_to_4', 4, 'female', 'none', 2, 'car_other', 41, 'none', 'own', 1, 'skilled', 2, 'yes', 'yes', 3.0, 0.0, 0.0, 1.0, 0.0, 0.0, 0.0, 0.0, 3.0, 0.0, 1.0, 1.0, 1.0, [3.0, 0.0, 3.0, 1.0, 0.0, 1.0, 0.0, 1.0, 0.0, 0.0, 0.0, 1.0, 0.0, 34.0, 4959.0, 4.0, 2.0, 34.0, 41.0, 1.0, 2.0], [12.831087908888083, 7.168912091111916], [0.6415543954444042, 0.3584456045555958], 0.0, 'No Risk'], ['less_0', 14, 'all_credits_paid_back', 'car_used', 250, 'less_100', 'less_1', 1, 'female', 'co-applicant', 3, 'savings_insurance', 31, 'stores', 'own', 1, 'skilled', 1, 'none', 'yes', 1.0, 3.0, 3.0, 0.0, 0.0, 0.0, 1.0, 0.0, 2.0, 1.0, 0.0, 1.0, 0.0, [1.0, 3.0, 2.0, 0.0, 3.0, 1.0, 1.0, 0.0, 1.0, 0.0, 0.0, 0.0, 0.0, 14.0, 250.0, 1.0, 3.0, 14.0, 31.0, 1.0, 1.0], [18.123721549912933, 1.8762784500870686], [0.9061860774956466, 0.09381392250435343], 0.0, 'No Risk'], ['no_checking', 38, 'prior_payments_delayed', 'other', 6259, 'unknown', 'greater_7', 5, 'male', 'none', 4, 'unknown', 50, 'none', 'own', 2, 'skilled', 2, 'yes', 'yes', 0.0, 0.0, 2.0, 4.0, 0.0, 0.0, 0.0, 0.0, 10.0, 0.0, 3.0, 0.0, 1.0, [0.0, 0.0, 10.0, 4.0, 2.0, 0.0, 0.0, 3.0, 0.0, 0.0, 0.0, 1.0, 0.0, 38.0, 6259.0, 5.0, 4.0, 38.0, 50.0, 2.0, 2.0], [4.595122448895608, 15.404877551104393], [0.2297561224447804, 0.7702438775552196], 1.0, 'Risk'], ['no_checking', 34, 'all_credits_paid_back', 'furniture', 4470, 'greater_1000', '1_to_4', 3, 'male', 'none', 3, 'car_other', 50, 'none', 'own', 2, 'skilled', 1, 'none', 'yes', 0.0, 3.0, 0.0, 3.0, 0.0, 0.0, 0.0, 0.0, 1.0, 0.0, 1.0, 0.0, 0.0, [21, [1, 2, 3, 7, 13, 14, 15, 16, 17, 18, 19, 20], [3.0, 1.0, 3.0, 1.0, 34.0, 4470.0, 3.0, 3.0, 34.0, 50.0, 2.0, 1.0]], [11.60015210364801, 8.399847896351991], [0.5800076051824006, 0.41999239481759953], 0.0, 'No Risk'], ['no_checking', 37, 'outstanding_credit', 'appliances', 5802, 'greater_1000', 'greater_7', 4, 'male', 'co-applicant', 3, 'car_other', 51, 'none', 'free', 2, 'skilled', 2, 'yes', 'yes', 0.0, 2.0, 2.0, 3.0, 0.0, 2.0, 0.0, 0.0, 4.0, 1.0, 1.0, 0.0, 1.0, [0.0, 2.0, 4.0, 3.0, 2.0, 0.0, 1.0, 1.0, 0.0, 2.0, 0.0, 1.0, 0.0, 37.0, 5802.0, 4.0, 3.0, 37.0, 51.0, 2.0, 2.0], [1.75408309870664, 18.24591690129336], [0.087704154935332, 0.912295845064668], 1.0, 'Risk'], ['0_to_200', 28, 'outstanding_credit', 'radio_tv', 4489, '500_to_1000', '4_to_7', 3, 'female', 'none', 2, 'savings_insurance', 40, 'stores', 'own', 1, 'skilled', 1, 'none', 'yes', 2.0, 2.0, 1.0, 2.0, 0.0, 0.0, 1.0, 0.0, 3.0, 0.0, 0.0, 1.0, 0.0, [2.0, 2.0, 3.0, 2.0, 1.0, 1.0, 0.0, 0.0, 1.0, 0.0, 0.0, 0.0, 0.0, 28.0, 4489.0, 3.0, 2.0, 28.0, 40.0, 1.0, 1.0], [12.894208215916589, 7.1057917840834115], [0.6447104107958295, 0.3552895892041706], 0.0, 'No Risk'], ['0_to_200', 31, 'credits_paid_to_date', 'appliances', 250, '500_to_1000', '1_to_4', 1, 'female', 'none', 3, 'savings_insurance', 33, 'stores', 'own', 1, 'skilled', 1, 'none', 'yes', 2.0, 1.0, 0.0, 2.0, 0.0, 0.0, 1.0, 0.0, 4.0, 0.0, 0.0, 1.0, 0.0, [2.0, 1.0, 4.0, 2.0, 0.0, 1.0, 0.0, 0.0, 1.0, 0.0, 0.0, 0.0, 0.0, 31.0, 250.0, 1.0, 3.0, 31.0, 33.0, 1.0, 1.0], [14.142225618378971, 5.857774381621028], [0.7071112809189486, 0.2928887190810514], 0.0, 'No Risk'], ['no_checking', 42, 'outstanding_credit', 'retraining', 7211, 'greater_1000', 'greater_7', 5, 'male', 'co-applicant', 5, 'car_other', 51, 'none', 'free', 2, 'skilled', 1, 'yes', 'yes', 0.0, 2.0, 2.0, 3.0, 0.0, 2.0, 0.0, 0.0, 8.0, 1.0, 1.0, 0.0, 1.0, [0.0, 2.0, 8.0, 3.0, 2.0, 0.0, 1.0, 1.0, 0.0, 2.0, 0.0, 1.0, 0.0, 42.0, 7211.0, 5.0, 5.0, 42.0, 51.0, 2.0, 1.0], [1.6029738519007521, 18.397026148099247], [0.08014869259503761, 0.9198513074049623], 1.0, 'Risk'], ['no_checking', 23, 'prior_payments_delayed', 'car_used', 7288, '100_to_500', '1_to_4', 3, 'male', 'none', 4, 'car_other', 45, 'stores', 'own', 2, 'unskilled', 2, 'yes', 'yes', 0.0, 0.0, 0.0, 1.0, 0.0, 0.0, 1.0, 1.0, 2.0, 0.0, 1.0, 0.0, 1.0, [0.0, 0.0, 2.0, 1.0, 0.0, 0.0, 0.0, 1.0, 1.0, 0.0, 1.0, 1.0, 0.0, 23.0, 7288.0, 3.0, 4.0, 23.0, 45.0, 2.0, 2.0], [11.779046617192659, 8.220953382807343], [0.5889523308596329, 0.41104766914036717], 0.0, 'No Risk'], ['less_0', 9, 'all_credits_paid_back', 'car_new', 314, 'less_100', '1_to_4', 3, 'female', 'none', 1, 'savings_insurance', 30, 'none', 'own', 1, 'skilled', 1, 'none', 'yes', 1.0, 3.0, 0.0, 0.0, 0.0, 0.0, 0.0, 0.0, 0.0, 0.0, 0.0, 1.0, 0.0, [21, [0, 1, 5, 13, 14, 15, 16, 17, 18, 19, 20], [1.0, 3.0, 1.0, 9.0, 314.0, 3.0, 1.0, 9.0, 30.0, 1.0, 1.0]], [18.79310775225852, 1.20689224774148], [0.9396553876129261, 0.060344612387074004], 0.0, 'No Risk'], ['no_checking', 9, 'prior_payments_delayed', 'furniture', 2717, '100_to_500', '4_to_7', 2, 'male', 'none', 3, 'savings_insurance', 35, 'none', 'own', 1, 'management_self-employed', 1, 'none', 'yes', 0.0, 0.0, 1.0, 1.0, 0.0, 0.0, 0.0, 2.0, 1.0, 0.0, 0.0, 0.0, 0.0, [21, [2, 3, 4, 10, 13, 14, 15, 16, 17, 18, 19, 20], [1.0, 1.0, 1.0, 2.0, 9.0, 2717.0, 2.0, 3.0, 9.0, 35.0, 1.0, 1.0]], [13.154661827912589, 6.845338172087411], [0.6577330913956294, 0.34226690860437053], 0.0, 'No Risk'], ['no_checking', 36, 'prior_payments_delayed', 'vacation', 4467, 'unknown', '4_to_7', 4, 'male', 'none', 3, 'car_other', 55, 'none', 'own', 2, 'skilled', 2, 'yes', 'yes', 0.0, 0.0, 1.0, 4.0, 0.0, 0.0, 0.0, 0.0, 6.0, 0.0, 1.0, 0.0, 1.0, [0.0, 0.0, 6.0, 4.0, 1.0, 0.0, 0.0, 1.0, 0.0, 0.0, 0.0, 1.0, 0.0, 36.0, 4467.0, 4.0, 3.0, 36.0, 55.0, 2.0, 2.0], [7.665573819123738, 12.334426180876262], [0.3832786909561869, 0.6167213090438131], 1.0, 'Risk'], ['less_0', 26, 'outstanding_credit', 'business', 3298, 'less_100', '4_to_7', 4, 'male', 'none', 3, 'savings_insurance', 30, 'bank', 'rent', 1, 'unskilled', 1, 'yes', 'yes', 1.0, 2.0, 1.0, 0.0, 0.0, 1.0, 2.0, 1.0, 9.0, 0.0, 0.0, 0.0, 1.0, [1.0, 2.0, 9.0, 0.0, 1.0, 0.0, 0.0, 0.0, 2.0, 1.0, 1.0, 1.0, 0.0, 26.0, 3298.0, 4.0, 3.0, 26.0, 30.0, 1.0, 1.0], [14.74601968634224, 5.253980313657759], [0.737300984317112, 0.26269901568288795], 0.0, 'No Risk'], ['less_0', 14, 'credits_paid_to_date', 'repairs', 1148, 'less_100', '4_to_7', 3, 'male', 'none', 3, 'car_other', 28, 'none', 'own', 1, 'skilled', 1, 'yes', 'yes', 1.0, 1.0, 1.0, 0.0, 0.0, 0.0, 0.0, 0.0, 5.0, 0.0, 1.0, 0.0, 1.0, [1.0, 1.0, 5.0, 0.0, 1.0, 0.0, 0.0, 1.0, 0.0, 0.0, 0.0, 1.0, 0.0, 14.0, 1148.0, 3.0, 3.0, 14.0, 28.0, 1.0, 1.0], [16.737241209213686, 3.2627587907863167], [0.8368620604606841, 0.1631379395393158], 0.0, 'No Risk'], ['0_to_200', 23, 'prior_payments_delayed', 'car_used', 2741, '100_to_500', 'greater_7', 2, 'female', 'none', 2, 'car_other', 59, 'stores', 'own', 2, 'skilled', 1, 'none', 'yes', 2.0, 0.0, 2.0, 1.0, 0.0, 0.0, 1.0, 0.0, 2.0, 0.0, 1.0, 1.0, 0.0, [2.0, 0.0, 2.0, 1.0, 2.0, 1.0, 0.0, 1.0, 1.0, 0.0, 0.0, 0.0, 0.0, 23.0, 2741.0, 2.0, 2.0, 23.0, 59.0, 2.0, 1.0], [11.48724305039866, 8.51275694960134], [0.5743621525199331, 0.42563784748006694], 0.0, 'No Risk'], ['0_to_200', 25, 'prior_payments_delayed', 'radio_tv', 1282, 'greater_1000', '4_to_7', 3, 'male', 'none', 2, 'savings_insurance', 47, 'none', 'own', 2, 'skilled', 1, 'yes', 'yes', 2.0, 0.0, 1.0, 3.0, 0.0, 0.0, 0.0, 0.0, 3.0, 0.0, 0.0, 0.0, 1.0, [2.0, 0.0, 3.0, 3.0, 1.0, 0.0, 0.0, 0.0, 0.0, 0.0, 0.0, 1.0, 0.0, 25.0, 1282.0, 3.0, 2.0, 25.0, 47.0, 2.0, 1.0], [12.815118929639953, 7.184881070360047], [0.6407559464819976, 0.35924405351800237], 0.0, 'No Risk'], ['no_checking', 33, 'prior_payments_delayed', 'other', 8181, 'unknown', '4_to_7', 4, 'male', 'none', 3, 'unknown', 41, 'none', 'own', 2, 'skilled', 1, 'none', 'yes', 0.0, 0.0, 1.0, 4.0, 0.0, 0.0, 0.0, 0.0, 10.0, 0.0, 3.0, 0.0, 0.0, [21, [2, 3, 4, 7, 13, 14, 15, 16, 17, 18, 19, 20], [10.0, 4.0, 1.0, 3.0, 33.0, 8181.0, 4.0, 3.0, 33.0, 41.0, 2.0, 1.0]], [10.342218780394655, 9.657781219605344], [0.5171109390197327, 0.4828890609802672], 0.0, 'No Risk'], ['less_0', 23, 'credits_paid_to_date', 'business', 1514, 'less_100', '4_to_7', 3, 'female', 'none', 2, 'real_estate', 33, 'none', 'own', 1, 'skilled', 1, 'none', 'yes', 1.0, 1.0, 1.0, 0.0, 0.0, 0.0, 0.0, 0.0, 9.0, 0.0, 2.0, 1.0, 0.0, [1.0, 1.0, 9.0, 0.0, 1.0, 1.0, 0.0, 2.0, 0.0, 0.0, 0.0, 0.0, 0.0, 23.0, 1514.0, 3.0, 2.0, 23.0, 33.0, 1.0, 1.0], [16.890884260683887, 3.1091157393161106], [0.8445442130341945, 0.15545578696580556], 0.0, 'No Risk'], ['no_checking', 47, 'outstanding_credit', 'repairs', 6906, 'unknown', 'greater_7', 5, 'male', 'co-applicant', 4, 'unknown', 50, 'stores', 'own', 3, 'unskilled', 2, 'yes', 'yes', 0.0, 2.0, 2.0, 4.0, 0.0, 0.0, 1.0, 1.0, 5.0, 1.0, 3.0, 0.0, 1.0, [0.0, 2.0, 5.0, 4.0, 2.0, 0.0, 1.0, 3.0, 1.0, 0.0, 1.0, 1.0, 0.0, 47.0, 6906.0, 5.0, 4.0, 47.0, 50.0, 3.0, 2.0], [3.9630597708150135, 16.03694022918499], [0.19815298854075064, 0.8018470114592493], 1.0, 'Risk'], ['less_0', 32, 'credits_paid_to_date', 'car_used', 250, 'less_100', '4_to_7', 2, 'male', 'none', 2, 'savings_insurance', 28, 'stores', 'rent', 1, 'unskilled', 1, 'none', 'yes', 1.0, 1.0, 1.0, 0.0, 0.0, 1.0, 1.0, 1.0, 2.0, 0.0, 0.0, 0.0, 0.0, [1.0, 1.0, 2.0, 0.0, 1.0, 0.0, 0.0, 0.0, 1.0, 1.0, 1.0, 0.0, 0.0, 32.0, 250.0, 2.0, 2.0, 32.0, 28.0, 1.0, 1.0], [15.89466732818254, 4.105332671817458], [0.7947333664091271, 0.2052666335908729], 0.0, 'No Risk'], ['no_checking', 26, 'prior_payments_delayed', 'car_used', 3861, '100_to_500', '1_to_4', 4, 'female', 'none', 4, 'real_estate', 43, 'none', 'own', 2, 'management_self-employed', 1, 'yes', 'yes', 0.0, 0.0, 0.0, 1.0, 0.0, 0.0, 0.0, 2.0, 2.0, 0.0, 2.0, 1.0, 1.0, [0.0, 0.0, 2.0, 1.0, 0.0, 1.0, 0.0, 2.0, 0.0, 0.0, 2.0, 1.0, 0.0, 26.0, 3861.0, 4.0, 4.0, 26.0, 43.0, 2.0, 1.0], [11.897132822380406, 8.102867177619594], [0.5948566411190204, 0.4051433588809797], 0.0, 'No Risk'], ['less_0', 7, 'prior_payments_delayed', 'vacation', 2013, '500_to_1000', '4_to_7', 2, 'male', 'none', 3, 'unknown', 47, 'none', 'rent', 1, 'skilled', 1, 'yes', 'yes', 1.0, 0.0, 1.0, 2.0, 0.0, 1.0, 0.0, 0.0, 6.0, 0.0, 3.0, 0.0, 1.0, [1.0, 0.0, 6.0, 2.0, 1.0, 0.0, 0.0, 3.0, 0.0, 1.0, 0.0, 1.0, 0.0, 7.0, 2013.0, 2.0, 3.0, 7.0, 47.0, 1.0, 1.0], [14.87786975932816, 5.122130240671839], [0.743893487966408, 0.25610651203359197], 0.0, 'No Risk'], ['0_to_200', 17, 'credits_paid_to_date', 'car_used', 1970, 'less_100', '1_to_4', 3, 'female', 'none', 2, 'car_other', 43, 'none', 'own', 2, 'skilled', 1, 'yes', 'yes', 2.0, 1.0, 0.0, 0.0, 0.0, 0.0, 0.0, 0.0, 2.0, 0.0, 1.0, 1.0, 1.0, [2.0, 1.0, 2.0, 0.0, 0.0, 1.0, 0.0, 1.0, 0.0, 0.0, 0.0, 1.0, 0.0, 17.0, 1970.0, 3.0, 2.0, 17.0, 43.0, 2.0, 1.0], [15.644045629318706, 4.355954370681294], [0.7822022814659353, 0.2177977185340647], 0.0, 'No Risk'], ['0_to_200', 27, 'credits_paid_to_date', 'radio_tv', 4083, 'less_100', '4_to_7', 3, 'male', 'none', 2, 'savings_insurance', 30, 'none', 'own', 2, 'skilled', 2, 'none', 'yes', 2.0, 1.0, 1.0, 0.0, 0.0, 0.0, 0.0, 0.0, 3.0, 0.0, 0.0, 0.0, 0.0, [21, [0, 1, 2, 4, 13, 14, 15, 16, 17, 18, 19, 20], [2.0, 1.0, 3.0, 1.0, 27.0, 4083.0, 3.0, 2.0, 27.0, 30.0, 2.0, 2.0]], [14.618287064835854, 5.381712935164148], [0.7309143532417925, 0.26908564675820734], 0.0, 'No Risk'], ['less_0', 9, 'all_credits_paid_back', 'furniture', 250, 'less_100', 'less_1', 2, 'male', 'none', 2, 'savings_insurance', 26, 'stores', 'rent', 1, 'skilled', 1, 'none', 'yes', 1.0, 3.0, 3.0, 0.0, 0.0, 1.0, 1.0, 0.0, 1.0, 0.0, 0.0, 0.0, 0.0, [1.0, 3.0, 1.0, 0.0, 3.0, 0.0, 0.0, 0.0, 1.0, 1.0, 0.0, 0.0, 0.0, 9.0, 250.0, 2.0, 2.0, 9.0, 26.0, 1.0, 1.0], [19.224637699089552, 0.7753623009104456], [0.9612318849544778, 0.038768115045522286], 0.0, 'No Risk'], ['no_checking', 20, 'credits_paid_to_date', 'radio_tv', 1731, '500_to_1000', '1_to_4', 3, 'male', 'co-applicant', 3, 'real_estate', 41, 'none', 'own', 1, 'management_self-employed', 1, 'none', 'yes', 0.0, 1.0, 0.0, 2.0, 0.0, 0.0, 0.0, 2.0, 3.0, 1.0, 2.0, 0.0, 0.0, [0.0, 1.0, 3.0, 2.0, 0.0, 0.0, 1.0, 2.0, 0.0, 0.0, 2.0, 0.0, 0.0, 20.0, 1731.0, 3.0, 3.0, 20.0, 41.0, 1.0, 1.0], [15.052219819663291, 4.947780180336707], [0.7526109909831645, 0.24738900901683536], 0.0, 'No Risk'], ['no_checking', 9, 'prior_payments_delayed', 'radio_tv', 1456, '500_to_1000', '1_to_4', 3, 'female', 'none', 3, 'savings_insurance', 45, 'none', 'own', 1, 'skilled', 1, 'none', 'yes', 0.0, 0.0, 0.0, 2.0, 0.0, 0.0, 0.0, 0.0, 3.0, 0.0, 0.0, 1.0, 0.0, [21, [2, 3, 5, 13, 14, 15, 16, 17, 18, 19, 20], [3.0, 2.0, 1.0, 9.0, 1456.0, 3.0, 3.0, 9.0, 45.0, 1.0, 1.0]], [15.105057324316236, 4.8949426756837635], [0.7552528662158118, 0.24474713378418816], 0.0, 'No Risk'], ['no_checking', 31, 'credits_paid_to_date', 'furniture', 3522, '100_to_500', 'greater_7', 4, 'female', 'none', 3, 'savings_insurance', 30, 'none', 'own', 1, 'skilled', 1, 'none', 'yes', 0.0, 1.0, 2.0, 1.0, 0.0, 0.0, 0.0, 0.0, 1.0, 0.0, 0.0, 1.0, 0.0, [0.0, 1.0, 1.0, 1.0, 2.0, 1.0, 0.0, 0.0, 0.0, 0.0, 0.0, 0.0, 0.0, 31.0, 3522.0, 4.0, 3.0, 31.0, 30.0, 1.0, 1.0], [10.451681885875956, 9.548318114124044], [0.5225840942937978, 0.4774159057062022], 0.0, 'No Risk'], ['no_checking', 25, 'prior_payments_delayed', 'radio_tv', 9803, '100_to_500', 'greater_7', 5, 'male', 'co-applicant', 3, 'car_other', 53, 'none', 'free', 2, 'skilled', 1, 'none', 'yes', 0.0, 0.0, 2.0, 1.0, 0.0, 2.0, 0.0, 0.0, 3.0, 1.0, 1.0, 0.0, 0.0, [0.0, 0.0, 3.0, 1.0, 2.0, 0.0, 1.0, 1.0, 0.0, 2.0, 0.0, 0.0, 0.0, 25.0, 9803.0, 5.0, 3.0, 25.0, 53.0, 2.0, 1.0], [4.819475462041757, 15.180524537958242], [0.24097377310208784, 0.7590262268979121], 1.0, 'Risk'], ['less_0', 20, 'prior_payments_delayed', 'radio_tv', 1161, 'less_100', '1_to_4', 3, 'male', 'none', 2, 'car_other', 40, 'none', 'own', 1, 'skilled', 1, 'none', 'yes', 1.0, 0.0, 0.0, 0.0, 0.0, 0.0, 0.0, 0.0, 3.0, 0.0, 1.0, 0.0, 0.0, [21, [0, 2, 7, 13, 14, 15, 16, 17, 18, 19, 20], [1.0, 3.0, 1.0, 20.0, 1161.0, 3.0, 2.0, 20.0, 40.0, 1.0, 1.0]], [15.481164215614154, 4.518835784385843], [0.7740582107807078, 0.22594178921929217], 0.0, 'No Risk'], ['no_checking', 13, 'credits_paid_to_date', 'furniture', 3460, 'less_100', 'less_1', 3, 'male', 'none', 3, 'real_estate', 24, 'none', 'own', 1, 'management_self-employed', 1, 'none', 'yes', 0.0, 1.0, 3.0, 0.0, 0.0, 0.0, 0.0, 2.0, 1.0, 0.0, 2.0, 0.0, 0.0, [0.0, 1.0, 1.0, 0.0, 3.0, 0.0, 0.0, 2.0, 0.0, 0.0, 2.0, 0.0, 0.0, 13.0, 3460.0, 3.0, 3.0, 13.0, 24.0, 1.0, 1.0], [17.563687991097016, 2.4363120089029837], [0.8781843995548508, 0.12181560044514919], 0.0, 'No Risk'], ['less_0', 4, 'all_credits_paid_back', 'car_new', 695, 'less_100', 'less_1', 2, 'female', 'none', 1, 'real_estate', 22, 'none', 'own', 1, 'skilled', 1, 'none', 'yes', 1.0, 3.0, 3.0, 0.0, 0.0, 0.0, 0.0, 0.0, 0.0, 0.0, 2.0, 1.0, 0.0, [1.0, 3.0, 0.0, 0.0, 3.0, 1.0, 0.0, 2.0, 0.0, 0.0, 0.0, 0.0, 0.0, 4.0, 695.0, 2.0, 1.0, 4.0, 22.0, 1.0, 1.0], [19.42485292732495, 0.5751470726750512], [0.9712426463662475, 0.028757353633752557], 0.0, 'No Risk'], ['no_checking', 37, 'prior_payments_delayed', 'furniture', 5536, '500_to_1000', '4_to_7', 3, 'male', 'none', 4, 'savings_insurance', 47, 'stores', 'free', 2, 'unskilled', 1, 'yes', 'yes', 0.0, 0.0, 1.0, 2.0, 0.0, 2.0, 1.0, 1.0, 1.0, 0.0, 0.0, 0.0, 1.0, [0.0, 0.0, 1.0, 2.0, 1.0, 0.0, 0.0, 0.0, 1.0, 2.0, 1.0, 1.0, 0.0, 37.0, 5536.0, 3.0, 4.0, 37.0, 47.0, 2.0, 1.0], [8.730675951704292, 11.269324048295706], [0.4365337975852146, 0.5634662024147853], 1.0, 'Risk'], ['0_to_200', 28, 'credits_paid_to_date', 'furniture', 3612, 'greater_1000', '1_to_4', 2, 'male', 'none', 3, 'car_other', 39, 'bank', 'rent', 2, 'unemployed', 1, 'none', 'yes', 2.0, 1.0, 0.0, 3.0, 0.0, 1.0, 2.0, 3.0, 1.0, 0.0, 1.0, 0.0, 0.0, [2.0, 1.0, 1.0, 3.0, 0.0, 0.0, 0.0, 1.0, 2.0, 1.0, 3.0, 0.0, 0.0, 28.0, 3612.0, 2.0, 3.0, 28.0, 39.0, 2.0, 1.0], [13.465544486251046, 6.534455513748953], [0.6732772243125523, 0.3267227756874477], 0.0, 'No Risk'], ['less_0', 10, 'all_credits_paid_back', 'car_used', 250, 'less_100', 'less_1', 2, 'female', 'none', 1, 'real_estate', 21, 'none', 'own', 1, 'skilled', 1, 'none', 'yes', 1.0, 3.0, 3.0, 0.0, 0.0, 0.0, 0.0, 0.0, 2.0, 0.0, 2.0, 1.0, 0.0, [1.0, 3.0, 2.0, 0.0, 3.0, 1.0, 0.0, 2.0, 0.0, 0.0, 0.0, 0.0, 0.0, 10.0, 250.0, 2.0, 1.0, 10.0, 21.0, 1.0, 1.0], [19.519967566224206, 0.4800324337757957], [0.9759983783112102, 0.02400162168878978], 0.0, 'No Risk'], ['no_checking', 34, 'outstanding_credit', 'furniture', 7079, 'unknown', 'greater_7', 5, 'male', 'co-applicant', 5, 'unknown', 52, 'none', 'own', 2, 'skilled', 2, 'yes', 'yes', 0.0, 2.0, 2.0, 4.0, 0.0, 0.0, 0.0, 0.0, 1.0, 1.0, 3.0, 0.0, 1.0, [0.0, 2.0, 1.0, 4.0, 2.0, 0.0, 1.0, 3.0, 0.0, 0.0, 0.0, 1.0, 0.0, 34.0, 7079.0, 5.0, 5.0, 34.0, 52.0, 2.0, 2.0], [2.314936696360451, 17.68506330363955], [0.11574683481802255, 0.8842531651819774], 1.0, 'Risk'], ['less_0', 12, 'prior_payments_delayed', 'car_new', 353, '100_to_500', '4_to_7', 3, 'male', 'none', 3, 'savings_insurance', 33, 'none', 'rent', 1, 'skilled', 1, 'yes', 'yes', 1.0, 0.0, 1.0, 1.0, 0.0, 1.0, 0.0, 0.0, 0.0, 0.0, 0.0, 0.0, 1.0, [1.0, 0.0, 0.0, 1.0, 1.0, 0.0, 0.0, 0.0, 0.0, 1.0, 0.0, 1.0, 0.0, 12.0, 353.0, 3.0, 3.0, 12.0, 33.0, 1.0, 1.0], [15.6004091850003, 4.3995908149997005], [0.7800204592500151, 0.21997954074998502], 0.0, 'No Risk'], ['no_checking', 30, 'prior_payments_delayed', 'appliances', 5398, 'greater_1000', '1_to_4', 4, 'male', 'none', 5, 'savings_insurance', 40, 'none', 'own', 1, 'management_self-employed', 1, 'none', 'yes', 0.0, 0.0, 0.0, 3.0, 0.0, 0.0, 0.0, 2.0, 4.0, 0.0, 0.0, 0.0, 0.0, [21, [2, 3, 10, 13, 14, 15, 16, 17, 18, 19, 20], [4.0, 3.0, 2.0, 30.0, 5398.0, 4.0, 5.0, 30.0, 40.0, 1.0, 1.0]], [13.004193547263123, 6.995806452736877], [0.6502096773631562, 0.34979032263684384], 0.0, 'No Risk'], ['0_to_200', 27, 'prior_payments_delayed', 'radio_tv', 6769, '100_to_500', 'greater_7', 3, 'male', 'none', 2, 'unknown', 47, 'none', 'free', 2, 'skilled', 1, 'yes', 'yes', 2.0, 0.0, 2.0, 1.0, 0.0, 2.0, 0.0, 0.0, 3.0, 0.0, 3.0, 0.0, 1.0, [2.0, 0.0, 3.0, 1.0, 2.0, 0.0, 0.0, 3.0, 0.0, 2.0, 0.0, 1.0, 0.0, 27.0, 6769.0, 3.0, 2.0, 27.0, 47.0, 2.0, 1.0], [8.537244913537029, 11.462755086462971], [0.42686224567685144, 0.5731377543231486], 1.0, 'Risk'], ['less_0', 4, 'all_credits_paid_back', 'car_new', 250, 'less_100', 'unemployed', 1, 'female', 'none', 1, 'real_estate', 23, 'none', 'rent', 1, 'skilled', 1, 'none', 'yes', 1.0, 3.0, 4.0, 0.0, 0.0, 1.0, 0.0, 0.0, 0.0, 0.0, 2.0, 1.0, 0.0, [1.0, 3.0, 0.0, 0.0, 4.0, 1.0, 0.0, 2.0, 0.0, 1.0, 0.0, 0.0, 0.0, 4.0, 250.0, 1.0, 1.0, 4.0, 23.0, 1.0, 1.0], [19.545874301975502, 0.45412569802450037], [0.9772937150987749, 0.022706284901225015], 0.0, 'No Risk'], ['no_checking', 37, 'prior_payments_delayed', 'repairs', 9937, 'greater_1000', 'greater_7', 4, 'male', 'co-applicant', 5, 'unknown', 49, 'none', 'free', 2, 'skilled', 1, 'yes', 'yes', 0.0, 0.0, 2.0, 3.0, 0.0, 2.0, 0.0, 0.0, 5.0, 1.0, 3.0, 0.0, 1.0, [0.0, 0.0, 5.0, 3.0, 2.0, 0.0, 1.0, 3.0, 0.0, 2.0, 0.0, 1.0, 0.0, 37.0, 9937.0, 4.0, 5.0, 37.0, 49.0, 2.0, 1.0], [1.9658312779967329, 18.034168722003265], [0.09829156389983665, 0.9017084361001633], 1.0, 'Risk'], ['0_to_200', 25, 'prior_payments_delayed', 'business', 2898, 'less_100', '1_to_4', 3, 'female', 'none', 1, 'real_estate', 31, 'none', 'own', 1, 'skilled', 1, 'none', 'yes', 2.0, 0.0, 0.0, 0.0, 0.0, 0.0, 0.0, 0.0, 9.0, 0.0, 2.0, 1.0, 0.0, [21, [0, 2, 5, 7, 13, 14, 15, 16, 17, 18, 19, 20], [2.0, 9.0, 1.0, 2.0, 25.0, 2898.0, 3.0, 1.0, 25.0, 31.0, 1.0, 1.0]], [16.977024321190093, 3.0229756788099063], [0.8488512160595046, 0.1511487839404953], 0.0, 'No Risk'], ['0_to_200', 4, 'prior_payments_delayed', 'car_new', 250, 'less_100', '4_to_7', 3, 'female', 'none', 2, 'savings_insurance', 33, 'bank', 'rent', 1, 'unskilled', 1, 'none', 'yes', 2.0, 0.0, 1.0, 0.0, 0.0, 1.0, 2.0, 1.0, 0.0, 0.0, 0.0, 1.0, 0.0, [2.0, 0.0, 0.0, 0.0, 1.0, 1.0, 0.0, 0.0, 2.0, 1.0, 1.0, 0.0, 0.0, 4.0, 250.0, 3.0, 2.0, 4.0, 33.0, 1.0, 1.0], [17.516605291711034, 2.4833947082889667], [0.8758302645855517, 0.12416973541444834], 0.0, 'No Risk'], ['no_checking', 49, 'outstanding_credit', 'education', 3459, 'unknown', 'greater_7', 4, 'male', 'none', 3, 'car_other', 32, 'stores', 'own', 2, 'unskilled', 2, 'yes', 'yes', 0.0, 2.0, 2.0, 4.0, 0.0, 0.0, 1.0, 1.0, 7.0, 0.0, 1.0, 0.0, 1.0, [0.0, 2.0, 7.0, 4.0, 2.0, 0.0, 0.0, 1.0, 1.0, 0.0, 1.0, 1.0, 0.0, 49.0, 3459.0, 4.0, 3.0, 49.0, 32.0, 2.0, 2.0], [10.367219073529274, 9.632780926470728], [0.5183609536764637, 0.4816390463235364], 0.0, 'No Risk'], ['less_0', 4, 'credits_paid_to_date', 'car_used', 286, 'less_100', '1_to_4', 1, 'female', 'none', 1, 'real_estate', 25, 'bank', 'rent', 2, 'unskilled', 1, 'none', 'yes', 1.0, 1.0, 0.0, 0.0, 0.0, 1.0, 2.0, 1.0, 2.0, 0.0, 2.0, 1.0, 0.0, [1.0, 1.0, 2.0, 0.0, 0.0, 1.0, 0.0, 2.0, 2.0, 1.0, 1.0, 0.0, 0.0, 4.0, 286.0, 1.0, 1.0, 4.0, 25.0, 2.0, 1.0], [18.72431265262157, 1.2756873473784285], [0.9362156326310785, 0.06378436736892143], 0.0, 'No Risk'], ['0_to_200', 22, 'all_credits_paid_back', 'radio_tv', 250, 'less_100', 'unemployed', 2, 'female', 'none', 3, 'savings_insurance', 19, 'none', 'rent', 1, 'skilled', 1, 'none', 'yes', 2.0, 3.0, 4.0, 0.0, 0.0, 1.0, 0.0, 0.0, 3.0, 0.0, 0.0, 1.0, 0.0, [2.0, 3.0, 3.0, 0.0, 4.0, 1.0, 0.0, 0.0, 0.0, 1.0, 0.0, 0.0, 0.0, 22.0, 250.0, 2.0, 3.0, 22.0, 19.0, 1.0, 1.0], [15.766160525525917, 4.23383947447408], [0.788308026276296, 0.21169197372370405], 0.0, 'No Risk'], ['less_0', 22, 'prior_payments_delayed', 'furniture', 1561, 'less_100', 'less_1', 1, 'male', 'none', 3, 'savings_insurance', 33, 'stores', 'rent', 1, 'unskilled', 1, 'none', 'yes', 1.0, 0.0, 3.0, 0.0, 0.0, 1.0, 1.0, 1.0, 1.0, 0.0, 0.0, 0.0, 0.0, [1.0, 0.0, 1.0, 0.0, 3.0, 0.0, 0.0, 0.0, 1.0, 1.0, 1.0, 0.0, 0.0, 22.0, 1561.0, 1.0, 3.0, 22.0, 33.0, 1.0, 1.0], [15.034611616442735, 4.9653883835572605], [0.7517305808221368, 0.24826941917786308], 0.0, 'No Risk'], ['0_to_200', 14, 'credits_paid_to_date', 'furniture', 2448, '500_to_1000', '4_to_7', 3, 'female', 'none', 2, 'real_estate', 46, 'none', 'own', 2, 'skilled', 1, 'none', 'yes', 2.0, 1.0, 1.0, 2.0, 0.0, 0.0, 0.0, 0.0, 1.0, 0.0, 2.0, 1.0, 0.0, [2.0, 1.0, 1.0, 2.0, 1.0, 1.0, 0.0, 2.0, 0.0, 0.0, 0.0, 0.0, 0.0, 14.0, 2448.0, 3.0, 2.0, 14.0, 46.0, 2.0, 1.0], [16.393899505906163, 3.606100494093836], [0.8196949752953081, 0.1803050247046918], 0.0, 'No Risk'], ['less_0', 15, 'credits_paid_to_date', 'vacation', 4655, 'less_100', '4_to_7', 2, 'female', 'none', 2, 'savings_insurance', 27, 'none', 'own', 1, 'skilled', 1, 'none', 'yes', 1.0, 1.0, 1.0, 0.0, 0.0, 0.0, 0.0, 0.0, 6.0, 0.0, 0.0, 1.0, 0.0, [1.0, 1.0, 6.0, 0.0, 1.0, 1.0, 0.0, 0.0, 0.0, 0.0, 0.0, 0.0, 0.0, 15.0, 4655.0, 2.0, 2.0, 15.0, 27.0, 1.0, 1.0], [17.528663842252858, 2.471336157747144], [0.8764331921126429, 0.12356680788735722], 0.0, 'No Risk'], ['no_checking', 9, 'all_credits_paid_back', 'car_used', 250, '100_to_500', '4_to_7', 3, 'male', 'none', 4, 'real_estate', 41, 'none', 'own', 1, 'skilled', 1, 'none', 'yes', 0.0, 3.0, 1.0, 1.0, 0.0, 0.0, 0.0, 0.0, 2.0, 0.0, 2.0, 0.0, 0.0, [0.0, 3.0, 2.0, 1.0, 1.0, 0.0, 0.0, 2.0, 0.0, 0.0, 0.0, 0.0, 0.0, 9.0, 250.0, 3.0, 4.0, 9.0, 41.0, 1.0, 1.0], [14.058757660260087, 5.941242339739913], [0.7029378830130043, 0.29706211698699564], 0.0, 'No Risk'], ['less_0', 10, 'all_credits_paid_back', 'car_used', 1866, 'less_100', '1_to_4', 3, 'female', 'none', 1, 'savings_insurance', 38, 'none', 'own', 1, 'skilled', 1, 'none', 'yes', 1.0, 3.0, 0.0, 0.0, 0.0, 0.0, 0.0, 0.0, 2.0, 0.0, 0.0, 1.0, 0.0, [21, [0, 1, 2, 5, 13, 14, 15, 16, 17, 18, 19, 20], [1.0, 3.0, 2.0, 1.0, 10.0, 1866.0, 3.0, 1.0, 10.0, 38.0, 1.0, 1.0]], [17.45074457125896, 2.5492554287410396], [0.8725372285629479, 0.12746277143705198], 0.0, 'No Risk'], ['0_to_200', 16, 'prior_payments_delayed', 'radio_tv', 4259, '500_to_1000', 'greater_7', 4, 'female', 'none', 3, 'car_other', 37, 'none', 'own', 1, 'skilled', 1, 'none', 'yes', 2.0, 0.0, 2.0, 2.0, 0.0, 0.0, 0.0, 0.0, 3.0, 0.0, 1.0, 1.0, 0.0, [2.0, 0.0, 3.0, 2.0, 2.0, 1.0, 0.0, 1.0, 0.0, 0.0, 0.0, 0.0, 0.0, 16.0, 4259.0, 4.0, 3.0, 16.0, 37.0, 1.0, 1.0], [14.733571359786886, 5.266428640213116], [0.7366785679893443, 0.2633214320106558], 0.0, 'No Risk'], ['0_to_200', 16, 'all_credits_paid_back', 'car_new', 1774, '500_to_1000', '4_to_7', 2, 'male', 'none', 3, 'real_estate', 35, 'stores', 'own', 2, 'skilled', 1, 'none', 'yes', 2.0, 3.0, 1.0, 2.0, 0.0, 0.0, 1.0, 0.0, 0.0, 0.0, 2.0, 0.0, 0.0, [2.0, 3.0, 0.0, 2.0, 1.0, 0.0, 0.0, 2.0, 1.0, 0.0, 0.0, 0.0, 0.0, 16.0, 1774.0, 2.0, 3.0, 16.0, 35.0, 2.0, 1.0], [16.492386234217534, 3.5076137657824633], [0.8246193117108769, 0.1753806882891232], 0.0, 'No Risk'], ['less_0', 5, 'all_credits_paid_back', 'car_new', 2493, 'less_100', 'less_1', 2, 'female', 'none', 2, 'savings_insurance', 19, 'bank', 'rent', 1, 'unskilled', 1, 'none', 'yes', 1.0, 3.0, 3.0, 0.0, 0.0, 1.0, 2.0, 1.0, 0.0, 0.0, 0.0, 1.0, 0.0, [1.0, 3.0, 0.0, 0.0, 3.0, 1.0, 0.0, 0.0, 2.0, 1.0, 1.0, 0.0, 0.0, 5.0, 2493.0, 2.0, 2.0, 5.0, 19.0, 1.0, 1.0], [19.245060890927082, 0.7549391090729177], [0.9622530445463541, 0.03774695545364588], 0.0, 'No Risk'], ['no_checking', 34, 'outstanding_credit', 'radio_tv', 8151, '500_to_1000', '4_to_7', 4, 'male', 'co-applicant', 4, 'unknown', 49, 'stores', 'own', 2, 'unskilled', 1, 'yes', 'yes', 0.0, 2.0, 1.0, 2.0, 0.0, 0.0, 1.0, 1.0, 3.0, 1.0, 3.0, 0.0, 1.0, [0.0, 2.0, 3.0, 2.0, 1.0, 0.0, 1.0, 3.0, 1.0, 0.0, 1.0, 1.0, 0.0, 34.0, 8151.0, 4.0, 4.0, 34.0, 49.0, 2.0, 1.0], [4.903098307197342, 15.096901692802659], [0.2451549153598671, 0.7548450846401329], 1.0, 'Risk'], ['less_0', 18, 'prior_payments_delayed', 'car_used', 1105, '100_to_500', 'less_1', 1, 'female', 'none', 1, 'savings_insurance', 27, 'stores', 'own', 1, 'skilled', 1, 'none', 'yes', 1.0, 0.0, 3.0, 1.0, 0.0, 0.0, 1.0, 0.0, 2.0, 0.0, 0.0, 1.0, 0.0, [1.0, 0.0, 2.0, 1.0, 3.0, 1.0, 0.0, 0.0, 1.0, 0.0, 0.0, 0.0, 0.0, 18.0, 1105.0, 1.0, 1.0, 18.0, 27.0, 1.0, 1.0], [18.00578368470724, 1.9942163152927603], [0.900289184235362, 0.09971081576463801], 0.0, 'No Risk'], ['no_checking', 31, 'prior_payments_delayed', 'appliances', 6011, '100_to_500', '4_to_7', 4, 'male', 'none', 4, 'savings_insurance', 37, 'none', 'own', 1, 'skilled', 1, 'yes', 'yes', 0.0, 0.0, 1.0, 1.0, 0.0, 0.0, 0.0, 0.0, 4.0, 0.0, 0.0, 0.0, 1.0, [21, [2, 3, 4, 11, 13, 14, 15, 16, 17, 18, 19, 20], [4.0, 1.0, 1.0, 1.0, 31.0, 6011.0, 4.0, 4.0, 31.0, 37.0, 1.0, 1.0]], [10.183346185217012, 9.816653814782992], [0.5091673092608505, 0.4908326907391495], 0.0, 'No Risk'], ['less_0', 28, 'credits_paid_to_date', 'furniture', 250, 'greater_1000', '4_to_7', 3, 'male', 'none', 2, 'savings_insurance', 21, 'stores', 'own', 1, 'skilled', 1, 'none', 'yes', 1.0, 1.0, 1.0, 3.0, 0.0, 0.0, 1.0, 0.0, 1.0, 0.0, 0.0, 0.0, 0.0, [1.0, 1.0, 1.0, 3.0, 1.0, 0.0, 0.0, 0.0, 1.0, 0.0, 0.0, 0.0, 0.0, 28.0, 250.0, 3.0, 2.0, 28.0, 21.0, 1.0, 1.0], [15.570217482755526, 4.429782517244474], [0.7785108741377763, 0.22148912586222372], 0.0, 'No Risk'], ['0_to_200', 39, 'prior_payments_delayed', 'appliances', 1168, '500_to_1000', '4_to_7', 3, 'female', 'none', 3, 'savings_insurance', 22, 'stores', 'own', 1, 'skilled', 1, 'none', 'no', 2.0, 0.0, 1.0, 2.0, 1.0, 0.0, 1.0, 0.0, 4.0, 0.0, 0.0, 1.0, 0.0, [2.0, 0.0, 4.0, 2.0, 1.0, 1.0, 0.0, 0.0, 1.0, 0.0, 0.0, 0.0, 1.0, 39.0, 1168.0, 3.0, 3.0, 39.0, 22.0, 1.0, 1.0], [13.813751263723784, 6.186248736276217], [0.6906875631861892, 0.3093124368138108], 0.0, 'No Risk'], ['less_0', 4, 'no_credits', 'car_new', 250, 'less_100', 'unemployed', 1, 'male', 'none', 2, 'real_estate', 19, 'none', 'rent', 1, 'skilled', 1, 'none', 'yes', 1.0, 4.0, 4.0, 0.0, 0.0, 1.0, 0.0, 0.0, 0.0, 0.0, 2.0, 0.0, 0.0, [1.0, 4.0, 0.0, 0.0, 4.0, 0.0, 0.0, 2.0, 0.0, 1.0, 0.0, 0.0, 0.0, 4.0, 250.0, 1.0, 2.0, 4.0, 19.0, 1.0, 1.0], [19.497656272625395, 0.5023437273746052], [0.9748828136312697, 0.02511718636873026], 0.0, 'No Risk'], ['no_checking', 33, 'prior_payments_delayed', 'vacation', 7036, '100_to_500', '4_to_7', 5, 'male', 'none', 4, 'unknown', 46, 'none', 'free', 2, 'management_self-employed', 1, 'yes', 'yes', 0.0, 0.0, 1.0, 1.0, 0.0, 2.0, 0.0, 2.0, 6.0, 0.0, 3.0, 0.0, 1.0, [0.0, 0.0, 6.0, 1.0, 1.0, 0.0, 0.0, 3.0, 0.0, 2.0, 2.0, 1.0, 0.0, 33.0, 7036.0, 5.0, 4.0, 33.0, 46.0, 2.0, 1.0], [6.035515892803145, 13.964484107196855], [0.30177579464015725, 0.6982242053598428], 1.0, 'Risk'], ['0_to_200', 24, 'credits_paid_to_date', 'radio_tv', 4591, 'less_100', '4_to_7', 2, 'female', 'guarantor', 3, 'savings_insurance', 42, 'stores', 'own', 2, 'unskilled', 1, 'none', 'yes', 2.0, 1.0, 1.0, 0.0, 0.0, 0.0, 1.0, 1.0, 3.0, 2.0, 0.0, 1.0, 0.0, [2.0, 1.0, 3.0, 0.0, 1.0, 1.0, 2.0, 0.0, 1.0, 0.0, 1.0, 0.0, 0.0, 24.0, 4591.0, 2.0, 3.0, 24.0, 42.0, 2.0, 1.0], [11.516153602884245, 8.483846397115755], [0.5758076801442122, 0.42419231985578776], 0.0, 'No Risk'], ['less_0', 15, 'credits_paid_to_date', 'furniture', 3696, 'less_100', '4_to_7', 3, 'male', 'none', 2, 'car_other', 35, 'stores', 'own', 1, 'skilled', 1, 'none', 'yes', 1.0, 1.0, 1.0, 0.0, 0.0, 0.0, 1.0, 0.0, 1.0, 0.0, 1.0, 0.0, 0.0, [1.0, 1.0, 1.0, 0.0, 1.0, 0.0, 0.0, 1.0, 1.0, 0.0, 0.0, 0.0, 0.0, 15.0, 3696.0, 3.0, 2.0, 15.0, 35.0, 1.0, 1.0], [16.791925858826016, 3.208074141173985], [0.8395962929413008, 0.16040370705869925], 0.0, 'No Risk'], ['greater_200', 10, 'credits_paid_to_date', 'car_new', 1612, 'less_100', 'less_1', 3, 'female', 'co-applicant', 3, 'savings_insurance', 39, 'none', 'own', 1, 'skilled', 1, 'none', 'yes', 3.0, 1.0, 3.0, 0.0, 0.0, 0.0, 0.0, 0.0, 0.0, 1.0, 0.0, 1.0, 0.0, [3.0, 1.0, 0.0, 0.0, 3.0, 1.0, 1.0, 0.0, 0.0, 0.0, 0.0, 0.0, 0.0, 10.0, 1612.0, 3.0, 3.0, 10.0, 39.0, 1.0, 1.0], [16.600035233141963, 3.399964766858037], [0.8300017616570982, 0.16999823834290184], 0.0, 'No Risk'], ['0_to_200', 17, 'credits_paid_to_date', 'furniture', 250, 'less_100', '4_to_7', 3, 'female', 'none', 1, 'real_estate', 32, 'stores', 'own', 1, 'skilled', 1, 'yes', 'yes', 2.0, 1.0, 1.0, 0.0, 0.0, 0.0, 1.0, 0.0, 1.0, 0.0, 2.0, 1.0, 1.0, [2.0, 1.0, 1.0, 0.0, 1.0, 1.0, 0.0, 2.0, 1.0, 0.0, 0.0, 1.0, 0.0, 17.0, 250.0, 3.0, 1.0, 17.0, 32.0, 1.0, 1.0], [18.272545091178554, 1.7274549088214424], [0.9136272545589278, 0.08637274544107214], 0.0, 'No Risk'], ['less_0', 9, 'prior_payments_delayed', 'furniture', 1978, 'less_100', '1_to_4', 3, 'female', 'none', 3, 'real_estate', 27, 'none', 'own', 1, 'skilled', 1, 'none', 'yes', 1.0, 0.0, 0.0, 0.0, 0.0, 0.0, 0.0, 0.0, 1.0, 0.0, 2.0, 1.0, 0.0, [21, [0, 2, 5, 7, 13, 14, 15, 16, 17, 18, 19, 20], [1.0, 1.0, 1.0, 2.0, 9.0, 1978.0, 3.0, 3.0, 9.0, 27.0, 1.0, 1.0]], [18.683376364542617, 1.3166236354573833], [0.9341688182271308, 0.06583118177286916], 0.0, 'No Risk'], ['less_0', 25, 'credits_paid_to_date', 'furniture', 250, 'greater_1000', '1_to_4', 2, 'male', 'none', 2, 'real_estate', 19, 'stores', 'rent', 1, 'unskilled', 1, 'none', 'yes', 1.0, 1.0, 0.0, 3.0, 0.0, 1.0, 1.0, 1.0, 1.0, 0.0, 2.0, 0.0, 0.0, [1.0, 1.0, 1.0, 3.0, 0.0, 0.0, 0.0, 2.0, 1.0, 1.0, 1.0, 0.0, 0.0, 25.0, 250.0, 2.0, 2.0, 25.0, 19.0, 1.0, 1.0], [17.43349058746422, 2.566509412535779], [0.871674529373211, 0.12832547062678895], 0.0, 'No Risk'], ['less_0', 4, 'all_credits_paid_back', 'car_new', 250, 'less_100', 'unemployed', 1, 'female', 'none', 2, 'real_estate', 29, 'none', 'rent', 2, 'skilled', 1, 'none', 'yes', 1.0, 3.0, 4.0, 0.0, 0.0, 1.0, 0.0, 0.0, 0.0, 0.0, 2.0, 1.0, 0.0, [1.0, 3.0, 0.0, 0.0, 4.0, 1.0, 0.0, 2.0, 0.0, 1.0, 0.0, 0.0, 0.0, 4.0, 250.0, 1.0, 2.0, 4.0, 29.0, 2.0, 1.0], [18.75821966518496, 1.241780334815036], [0.9379109832592482, 0.06208901674075181], 0.0, 'No Risk'], ['0_to_200', 22, 'outstanding_credit', 'radio_tv', 315, 'unknown', '4_to_7', 3, 'male', 'none', 4, 'car_other', 24, 'none', 'own', 1, 'skilled', 1, 'none', 'yes', 2.0, 2.0, 1.0, 4.0, 0.0, 0.0, 0.0, 0.0, 3.0, 0.0, 1.0, 0.0, 0.0, [2.0, 2.0, 3.0, 4.0, 1.0, 0.0, 0.0, 1.0, 0.0, 0.0, 0.0, 0.0, 0.0, 22.0, 315.0, 3.0, 4.0, 22.0, 24.0, 1.0, 1.0], [14.186336465562434, 5.813663534437568], [0.7093168232781217, 0.2906831767218784], 0.0, 'No Risk'], ['less_0', 4, 'all_credits_paid_back', 'repairs', 279, 'less_100', 'unemployed', 2, 'male', 'none', 1, 'savings_insurance', 23, 'none', 'rent', 1, 'skilled', 1, 'none', 'yes', 1.0, 3.0, 4.0, 0.0, 0.0, 1.0, 0.0, 0.0, 5.0, 0.0, 0.0, 0.0, 0.0, [1.0, 3.0, 5.0, 0.0, 4.0, 0.0, 0.0, 0.0, 0.0, 1.0, 0.0, 0.0, 0.0, 4.0, 279.0, 2.0, 1.0, 4.0, 23.0, 1.0, 1.0], [19.414300294927738, 0.5856997050722619], [0.9707150147463869, 0.029284985253613095], 0.0, 'No Risk'], ['no_checking', 27, 'outstanding_credit', 'radio_tv', 6016, '500_to_1000', '1_to_4', 3, 'male', 'none', 5, 'car_other', 45, 'none', 'own', 2, 'management_self-employed', 1, 'yes', 'yes', 0.0, 2.0, 0.0, 2.0, 0.0, 0.0, 0.0, 2.0, 3.0, 0.0, 1.0, 0.0, 1.0, [0.0, 2.0, 3.0, 2.0, 0.0, 0.0, 0.0, 1.0, 0.0, 0.0, 2.0, 1.0, 0.0, 27.0, 6016.0, 3.0, 5.0, 27.0, 45.0, 2.0, 1.0], [10.315421610855521, 9.684578389144482], [0.515771080542776, 0.484228919457224], 0.0, 'No Risk'], ['no_checking', 32, 'outstanding_credit', 'appliances', 5259, 'unknown', '4_to_7', 4, 'male', 'none', 5, 'car_other', 40, 'none', 'own', 2, 'unskilled', 2, 'yes', 'yes', 0.0, 2.0, 1.0, 4.0, 0.0, 0.0, 0.0, 1.0, 4.0, 0.0, 1.0, 0.0, 1.0, [0.0, 2.0, 4.0, 4.0, 1.0, 0.0, 0.0, 1.0, 0.0, 0.0, 1.0, 1.0, 0.0, 32.0, 5259.0, 4.0, 5.0, 32.0, 40.0, 2.0, 2.0], [9.234719322080577, 10.765280677919423], [0.4617359661040289, 0.5382640338959711], 1.0, 'Risk'], ['no_checking', 36, 'prior_payments_delayed', 'other', 8716, '100_to_500', 'greater_7', 5, 'male', 'none', 4, 'unknown', 51, 'none', 'own', 2, 'management_self-employed', 1, 'yes', 'yes', 0.0, 0.0, 2.0, 1.0, 0.0, 0.0, 0.0, 2.0, 10.0, 0.0, 3.0, 0.0, 1.0, [0.0, 0.0, 10.0, 1.0, 2.0, 0.0, 0.0, 3.0, 0.0, 0.0, 2.0, 1.0, 0.0, 36.0, 8716.0, 5.0, 4.0, 36.0, 51.0, 2.0, 1.0], [5.047157907982474, 14.952842092017528], [0.2523578953991237, 0.7476421046008763], 1.0, 'Risk'], ['no_checking', 10, 'no_credits', 'car_new', 600, 'less_100', 'less_1', 3, 'male', 'none', 4, 'real_estate', 28, 'none', 'own', 1, 'management_self-employed', 1, 'none', 'yes', 0.0, 4.0, 3.0, 0.0, 0.0, 0.0, 0.0, 2.0, 0.0, 0.0, 2.0, 0.0, 0.0, [21, [1, 4, 7, 10, 13, 14, 15, 16, 17, 18, 19, 20], [4.0, 3.0, 2.0, 2.0, 10.0, 600.0, 3.0, 4.0, 10.0, 28.0, 1.0, 1.0]], [17.99050336616773, 2.009496633832272], [0.8995251683083865, 0.1004748316916136], 0.0, 'No Risk'], ['0_to_200', 20, 'credits_paid_to_date', 'radio_tv', 4973, 'less_100', 'less_1', 3, 'male', 'none', 3, 'savings_insurance', 25, 'none', 'own', 1, 'management_self-employed', 1, 'none', 'yes', 2.0, 1.0, 3.0, 0.0, 0.0, 0.0, 0.0, 2.0, 3.0, 0.0, 0.0, 0.0, 0.0, [2.0, 1.0, 3.0, 0.0, 3.0, 0.0, 0.0, 0.0, 0.0, 0.0, 2.0, 0.0, 0.0, 20.0, 4973.0, 3.0, 3.0, 20.0, 25.0, 1.0, 1.0], [16.628495702031888, 3.3715042979681065], [0.8314247851015947, 0.16857521489840538], 0.0, 'No Risk'], ['0_to_200', 30, 'prior_payments_delayed', 'car_used', 6255, '100_to_500', '4_to_7', 3, 'male', 'none', 4, 'unknown', 48, 'none', 'own', 3, 'skilled', 2, 'yes', 'yes', 2.0, 0.0, 1.0, 1.0, 0.0, 0.0, 0.0, 0.0, 2.0, 0.0, 3.0, 0.0, 1.0, [2.0, 0.0, 2.0, 1.0, 1.0, 0.0, 0.0, 3.0, 0.0, 0.0, 0.0, 1.0, 0.0, 30.0, 6255.0, 3.0, 4.0, 30.0, 48.0, 3.0, 2.0], [6.947574534883693, 13.052425465116306], [0.3473787267441847, 0.6526212732558153], 1.0, 'Risk'], ['0_to_200', 30, 'outstanding_credit', 'radio_tv', 5111, 'unknown', '4_to_7', 4, 'male', 'none', 4, 'unknown', 41, 'none', 'own', 2, 'skilled', 1, 'none', 'yes', 2.0, 2.0, 1.0, 4.0, 0.0, 0.0, 0.0, 0.0, 3.0, 0.0, 3.0, 0.0, 0.0, [2.0, 2.0, 3.0, 4.0, 1.0, 0.0, 0.0, 3.0, 0.0, 0.0, 0.0, 0.0, 0.0, 30.0, 5111.0, 4.0, 4.0, 30.0, 41.0, 2.0, 1.0], [10.149888031370665, 9.850111968629333], [0.5074944015685332, 0.4925055984314667], 0.0, 'No Risk'], ['greater_200', 23, 'credits_paid_to_date', 'furniture', 3710, 'less_100', '1_to_4', 3, 'male', 'none', 2, 'real_estate', 31, 'stores', 'own', 2, 'skilled', 2, 'none', 'yes', 3.0, 1.0, 0.0, 0.0, 0.0, 0.0, 1.0, 0.0, 1.0, 0.0, 2.0, 0.0, 0.0, [3.0, 1.0, 1.0, 0.0, 0.0, 0.0, 0.0, 2.0, 1.0, 0.0, 0.0, 0.0, 0.0, 23.0, 3710.0, 3.0, 2.0, 23.0, 31.0, 2.0, 2.0], [17.494162314229353, 2.5058376857706475], [0.8747081157114677, 0.12529188428853238], 0.0, 'No Risk'], ['less_0', 4, 'credits_paid_to_date', 'car_new', 250, 'less_100', '1_to_4', 2, 'female', 'none', 1, 'real_estate', 26, 'none', 'own', 1, 'skilled', 1, 'none', 'yes', 1.0, 1.0, 0.0, 0.0, 0.0, 0.0, 0.0, 0.0, 0.0, 0.0, 2.0, 1.0, 0.0, [21, [0, 1, 5, 7, 13, 14, 15, 16, 17, 18, 19, 20], [1.0, 1.0, 1.0, 2.0, 4.0, 250.0, 2.0, 1.0, 4.0, 26.0, 1.0, 1.0]], [19.39196728941211, 0.6080327105878929], [0.9695983644706054, 0.03040163552939464], 0.0, 'No Risk'], ['no_checking', 26, 'outstanding_credit', 'appliances', 5981, 'unknown', '4_to_7', 4, 'male', 'none', 5, 'car_other', 43, 'none', 'own', 2, 'skilled', 2, 'yes', 'yes', 0.0, 2.0, 1.0, 4.0, 0.0, 0.0, 0.0, 0.0, 4.0, 0.0, 1.0, 0.0, 1.0, [0.0, 2.0, 4.0, 4.0, 1.0, 0.0, 0.0, 1.0, 0.0, 0.0, 0.0, 1.0, 0.0, 26.0, 5981.0, 4.0, 5.0, 26.0, 43.0, 2.0, 2.0], [7.989107815187067, 12.010892184812931], [0.3994553907593533, 0.6005446092406466], 1.0, 'Risk'], ['less_0', 14, 'all_credits_paid_back', 'car_new', 250, 'less_100', '1_to_4', 1, 'female', 'none', 2, 'savings_insurance', 31, 'stores', 'own', 1, 'skilled', 1, 'none', 'yes', 1.0, 3.0, 0.0, 0.0, 0.0, 0.0, 1.0, 0.0, 0.0, 0.0, 0.0, 1.0, 0.0, [21, [0, 1, 5, 8, 13, 14, 15, 16, 17, 18, 19, 20], [1.0, 3.0, 1.0, 1.0, 14.0, 250.0, 1.0, 2.0, 14.0, 31.0, 1.0, 1.0]], [18.57167285891351, 1.4283271410864895], [0.9285836429456754, 0.07141635705432448], 0.0, 'No Risk'], ['no_checking', 12, 'outstanding_credit', 'radio_tv', 4768, '100_to_500', '1_to_4', 3, 'male', 'none', 4, 'car_other', 45, 'stores', 'own', 1, 'unskilled', 2, 'yes', 'yes', 0.0, 2.0, 0.0, 1.0, 0.0, 0.0, 1.0, 1.0, 3.0, 0.0, 1.0, 0.0, 1.0, [0.0, 2.0, 3.0, 1.0, 0.0, 0.0, 0.0, 1.0, 1.0, 0.0, 1.0, 1.0, 0.0, 12.0, 4768.0, 3.0, 4.0, 12.0, 45.0, 1.0, 2.0], [13.658305220310059, 6.341694779689941], [0.6829152610155029, 0.31708473898449707], 0.0, 'No Risk'], ['greater_200', 36, 'outstanding_credit', 'appliances', 4288, '500_to_1000', '4_to_7', 4, 'female', 'none', 3, 'car_other', 55, 'none', 'own', 2, 'skilled', 1, 'yes', 'yes', 3.0, 2.0, 1.0, 2.0, 0.0, 0.0, 0.0, 0.0, 4.0, 0.0, 1.0, 1.0, 1.0, [3.0, 2.0, 4.0, 2.0, 1.0, 1.0, 0.0, 1.0, 0.0, 0.0, 0.0, 1.0, 0.0, 36.0, 4288.0, 4.0, 3.0, 36.0, 55.0, 2.0, 1.0], [7.997539942976329, 12.00246005702367], [0.3998769971488164, 0.6001230028511835], 1.0, 'Risk'], ['greater_200', 25, 'credits_paid_to_date', 'radio_tv', 6817, '100_to_500', 'greater_7', 4, 'male', 'none', 2, 'savings_insurance', 39, 'none', 'own', 3, 'skilled', 2, 'yes', 'yes', 3.0, 1.0, 2.0, 1.0, 0.0, 0.0, 0.0, 0.0, 3.0, 0.0, 0.0, 0.0, 1.0, [3.0, 1.0, 3.0, 1.0, 2.0, 0.0, 0.0, 0.0, 0.0, 0.0, 0.0, 1.0, 0.0, 25.0, 6817.0, 4.0, 2.0, 25.0, 39.0, 3.0, 2.0], [11.795158348000765, 8.204841651999235], [0.5897579174000382, 0.41024208259996175], 0.0, 'No Risk'], ['less_0', 8, 'credits_paid_to_date', 'car_used', 323, 'less_100', '4_to_7', 3, 'male', 'none', 2, 'car_other', 37, 'bank', 'rent', 1, 'unemployed', 1, 'none', 'yes', 1.0, 1.0, 1.0, 0.0, 0.0, 1.0, 2.0, 3.0, 2.0, 0.0, 1.0, 0.0, 0.0, [1.0, 1.0, 2.0, 0.0, 1.0, 0.0, 0.0, 1.0, 2.0, 1.0, 3.0, 0.0, 0.0, 8.0, 323.0, 3.0, 2.0, 8.0, 37.0, 1.0, 1.0], [17.689281241966064, 2.310718758033938], [0.8844640620983031, 0.11553593790169688], 0.0, 'No Risk'], ['0_to_200', 17, 'credits_paid_to_date', 'car_new', 5919, 'less_100', 'less_1', 3, 'male', 'none', 2, 'savings_insurance', 26, 'none', 'own', 2, 'skilled', 1, 'yes', 'yes', 2.0, 1.0, 3.0, 0.0, 0.0, 0.0, 0.0, 0.0, 0.0, 0.0, 0.0, 0.0, 1.0, [21, [0, 1, 4, 11, 13, 14, 15, 16, 17, 18, 19, 20], [2.0, 1.0, 3.0, 1.0, 17.0, 5919.0, 3.0, 2.0, 17.0, 26.0, 2.0, 1.0]], [16.887115324410193, 3.112884675589805], [0.8443557662205098, 0.1556442337794903], 0.0, 'No Risk'], ['0_to_200', 14, 'credits_paid_to_date', 'furniture', 2574, 'less_100', 'unemployed', 2, 'male', 'none', 2, 'savings_insurance', 28, 'none', 'own', 1, 'skilled', 1, 'none', 'yes', 2.0, 1.0, 4.0, 0.0, 0.0, 0.0, 0.0, 0.0, 1.0, 0.0, 0.0, 0.0, 0.0, [21, [0, 1, 2, 4, 13, 14, 15, 16, 17, 18, 19, 20], [2.0, 1.0, 1.0, 4.0, 14.0, 2574.0, 2.0, 2.0, 14.0, 28.0, 1.0, 1.0]], [18.7385490810069, 1.2614509189930994], [0.936927454050345, 0.06307254594965497], 0.0, 'No Risk'], ['no_checking', 27, 'all_credits_paid_back', 'radio_tv', 6899, 'greater_1000', '1_to_4', 4, 'female', 'none', 4, 'car_other', 40, 'none', 'own', 2, 'skilled', 2, 'none', 'yes', 0.0, 3.0, 0.0, 3.0, 0.0, 0.0, 0.0, 0.0, 3.0, 0.0, 1.0, 1.0, 0.0, [0.0, 3.0, 3.0, 3.0, 0.0, 1.0, 0.0, 1.0, 0.0, 0.0, 0.0, 0.0, 0.0, 27.0, 6899.0, 4.0, 4.0, 27.0, 40.0, 2.0, 2.0], [11.222180350592636, 8.777819649407364], [0.5611090175296318, 0.43889098247036823], 0.0, 'No Risk'], ['0_to_200', 20, 'prior_payments_delayed', 'radio_tv', 1744, 'greater_1000', 'greater_7', 4, 'male', 'none', 3, 'car_other', 27, 'stores', 'own', 1, 'skilled', 1, 'none', 'yes', 2.0, 0.0, 2.0, 3.0, 0.0, 0.0, 1.0, 0.0, 3.0, 0.0, 1.0, 0.0, 0.0, [2.0, 0.0, 3.0, 3.0, 2.0, 0.0, 0.0, 1.0, 1.0, 0.0, 0.0, 0.0, 0.0, 20.0, 1744.0, 4.0, 3.0, 20.0, 27.0, 1.0, 1.0], [13.925008379652295, 6.074991620347708], [0.6962504189826146, 0.30374958101738536], 0.0, 'No Risk'], ['no_checking', 28, 'prior_payments_delayed', 'business', 7894, '100_to_500', '4_to_7', 5, 'male', 'none', 3, 'savings_insurance', 38, 'none', 'own', 2, 'skilled', 2, 'yes', 'yes', 0.0, 0.0, 1.0, 1.0, 0.0, 0.0, 0.0, 0.0, 9.0, 0.0, 0.0, 0.0, 1.0, [21, [2, 3, 4, 11, 13, 14, 15, 16, 17, 18, 19, 20], [9.0, 1.0, 1.0, 1.0, 28.0, 7894.0, 5.0, 3.0, 28.0, 38.0, 2.0, 2.0]], [9.525637623812427, 10.474362376187571], [0.47628188119062137, 0.5237181188093786], 1.0, 'Risk'], ['no_checking', 30, 'outstanding_credit', 'radio_tv', 8052, '500_to_1000', 'greater_7', 3, 'male', 'co-applicant', 4, 'unknown', 54, 'none', 'free', 2, 'skilled', 1, 'yes', 'yes', 0.0, 2.0, 2.0, 2.0, 0.0, 2.0, 0.0, 0.0, 3.0, 1.0, 3.0, 0.0, 1.0, [0.0, 2.0, 3.0, 2.0, 2.0, 0.0, 1.0, 3.0, 0.0, 2.0, 0.0, 1.0, 0.0, 30.0, 8052.0, 3.0, 4.0, 30.0, 54.0, 2.0, 1.0], [1.432446070014414, 18.56755392998559], [0.07162230350072069, 0.9283776964992793], 1.0, 'Risk'], ['greater_200', 37, 'outstanding_credit', 'furniture', 4597, '500_to_1000', '4_to_7', 3, 'male', 'none', 4, 'car_other', 40, 'bank', 'own', 1, 'unemployed', 1, 'yes', 'yes', 3.0, 2.0, 1.0, 2.0, 0.0, 0.0, 2.0, 3.0, 1.0, 0.0, 1.0, 0.0, 1.0, [3.0, 2.0, 1.0, 2.0, 1.0, 0.0, 0.0, 1.0, 2.0, 0.0, 3.0, 1.0, 0.0, 37.0, 4597.0, 3.0, 4.0, 37.0, 40.0, 1.0, 1.0], [11.215113589890981, 8.784886410109017], [0.5607556794945491, 0.43924432050545087], 0.0, 'No Risk'], ['less_0', 11, 'credits_paid_to_date', 'furniture', 907, 'less_100', '1_to_4', 3, 'female', 'none', 2, 'real_estate', 31, 'none', 'own', 1, 'skilled', 1, 'none', 'yes', 1.0, 1.0, 0.0, 0.0, 0.0, 0.0, 0.0, 0.0, 1.0, 0.0, 2.0, 1.0, 0.0, [1.0, 1.0, 1.0, 0.0, 0.0, 1.0, 0.0, 2.0, 0.0, 0.0, 0.0, 0.0, 0.0, 11.0, 907.0, 3.0, 2.0, 11.0, 31.0, 1.0, 1.0], [18.85257724809677, 1.1474227519032283], [0.9426288624048386, 0.057371137595161416], 0.0, 'No Risk'], ['no_checking', 27, 'prior_payments_delayed', 'appliances', 6663, '100_to_500', '4_to_7', 3, 'female', 'none', 2, 'unknown', 46, 'none', 'own', 1, 'skilled', 2, 'yes', 'yes', 0.0, 0.0, 1.0, 1.0, 0.0, 0.0, 0.0, 0.0, 4.0, 0.0, 3.0, 1.0, 1.0, [0.0, 0.0, 4.0, 1.0, 1.0, 1.0, 0.0, 3.0, 0.0, 0.0, 0.0, 1.0, 0.0, 27.0, 6663.0, 3.0, 2.0, 27.0, 46.0, 1.0, 2.0], [8.119030091860726, 11.880969908139273], [0.4059515045930363, 0.5940484954069636], 1.0, 'Risk'], ['less_0', 8, 'prior_payments_delayed', 'vacation', 2792, 'less_100', '1_to_4', 3, 'male', 'none', 2, 'car_other', 27, 'none', 'own', 1, 'skilled', 1, 'none', 'yes', 1.0, 0.0, 0.0, 0.0, 0.0, 0.0, 0.0, 0.0, 6.0, 0.0, 1.0, 0.0, 0.0, [21, [0, 2, 7, 13, 14, 15, 16, 17, 18, 19, 20], [1.0, 6.0, 1.0, 8.0, 2792.0, 3.0, 2.0, 8.0, 27.0, 1.0, 1.0]], [17.788944686181893, 2.2110553138181097], [0.8894472343090944, 0.11055276569090547], 0.0, 'No Risk'], ['less_0', 4, 'no_credits', 'car_new', 250, 'less_100', 'less_1', 1, 'female', 'none', 1, 'real_estate', 20, 'none', 'rent', 1, 'skilled', 1, 'none', 'yes', 1.0, 4.0, 3.0, 0.0, 0.0, 1.0, 0.0, 0.0, 0.0, 0.0, 2.0, 1.0, 0.0, [1.0, 4.0, 0.0, 0.0, 3.0, 1.0, 0.0, 2.0, 0.0, 1.0, 0.0, 0.0, 0.0, 4.0, 250.0, 1.0, 1.0, 4.0, 20.0, 1.0, 1.0], [19.519967566224206, 0.4800324337757957], [0.9759983783112102, 0.02400162168878978], 0.0, 'No Risk'], ['no_checking', 27, 'credits_paid_to_date', 'education', 4364, 'greater_1000', 'less_1', 3, 'male', 'none', 4, 'car_other', 23, 'stores', 'own', 2, 'unskilled', 1, 'none', 'yes', 0.0, 1.0, 3.0, 3.0, 0.0, 0.0, 1.0, 1.0, 7.0, 0.0, 1.0, 0.0, 0.0, [0.0, 1.0, 7.0, 3.0, 3.0, 0.0, 0.0, 1.0, 1.0, 0.0, 1.0, 0.0, 0.0, 27.0, 4364.0, 3.0, 4.0, 27.0, 23.0, 2.0, 1.0], [14.13681405676743, 5.863185943232573], [0.7068407028383714, 0.29315929716162864], 0.0, 'No Risk'], ['less_0', 31, 'outstanding_credit', 'car_used', 3709, '100_to_500', 'greater_7', 4, 'male', 'none', 4, 'savings_insurance', 39, 'stores', 'rent', 1, 'unskilled', 2, 'none', 'yes', 1.0, 2.0, 2.0, 1.0, 0.0, 1.0, 1.0, 1.0, 2.0, 0.0, 0.0, 0.0, 0.0, [1.0, 2.0, 2.0, 1.0, 2.0, 0.0, 0.0, 0.0, 1.0, 1.0, 1.0, 0.0, 0.0, 31.0, 3709.0, 4.0, 4.0, 31.0, 39.0, 1.0, 2.0], [11.530728460010812, 8.469271539989187], [0.5765364230005405, 0.42346357699945936], 0.0, 'No Risk'], ['0_to_200', 15, 'credits_paid_to_date', 'car_new', 250, 'less_100', 'less_1', 1, 'female', 'none', 2, 'real_estate', 26, 'stores', 'own', 1, 'unskilled', 1, 'none', 'yes', 2.0, 1.0, 3.0, 0.0, 0.0, 0.0, 1.0, 1.0, 0.0, 0.0, 2.0, 1.0, 0.0, [2.0, 1.0, 0.0, 0.0, 3.0, 1.0, 0.0, 2.0, 1.0, 0.0, 1.0, 0.0, 0.0, 15.0, 250.0, 1.0, 2.0, 15.0, 26.0, 1.0, 1.0], [19.212482518596765, 0.7875174814032396], [0.960624125929838, 0.03937587407016197], 0.0, 'No Risk'], ['less_0', 4, 'all_credits_paid_back', 'car_new', 250, '100_to_500', 'less_1', 2, 'female', 'none', 1, 'real_estate', 36, 'stores', 'rent', 1, 'skilled', 1, 'none', 'yes', 1.0, 3.0, 3.0, 1.0, 0.0, 1.0, 1.0, 0.0, 0.0, 0.0, 2.0, 1.0, 0.0, [1.0, 3.0, 0.0, 1.0, 3.0, 1.0, 0.0, 2.0, 1.0, 1.0, 0.0, 0.0, 0.0, 4.0, 250.0, 2.0, 1.0, 4.0, 36.0, 1.0, 1.0], [19.32901555240426, 0.6709844475957393], [0.966450777620213, 0.03354922237978696], 0.0, 'No Risk'], ['no_checking', 29, 'credits_paid_to_date', 'radio_tv', 5231, 'greater_1000', '4_to_7', 4, 'male', 'none', 3, 'car_other', 53, 'none', 'own', 3, 'skilled', 2, 'yes', 'yes', 0.0, 1.0, 1.0, 3.0, 0.0, 0.0, 0.0, 0.0, 3.0, 0.0, 1.0, 0.0, 1.0, [0.0, 1.0, 3.0, 3.0, 1.0, 0.0, 0.0, 1.0, 0.0, 0.0, 0.0, 1.0, 0.0, 29.0, 5231.0, 4.0, 3.0, 29.0, 53.0, 3.0, 2.0], [7.837287867081905, 12.162712132918093], [0.39186439335409523, 0.6081356066459047], 1.0, 'Risk'], ['0_to_200', 6, 'all_credits_paid_back', 'education', 4926, 'less_100', '1_to_4', 3, 'female', 'none', 2, 'savings_insurance', 21, 'none', 'own', 1, 'skilled', 1, 'none', 'yes', 2.0, 3.0, 0.0, 0.0, 0.0, 0.0, 0.0, 0.0, 7.0, 0.0, 0.0, 1.0, 0.0, [21, [0, 1, 2, 5, 13, 14, 15, 16, 17, 18, 19, 20], [2.0, 3.0, 7.0, 1.0, 6.0, 4926.0, 3.0, 2.0, 6.0, 21.0, 1.0, 1.0]], [18.36878088002801, 1.6312191199719908], [0.9184390440014004, 0.08156095599859954], 0.0, 'No Risk'], ['less_0', 23, 'all_credits_paid_back', 'furniture', 2916, '100_to_500', '1_to_4', 3, 'female', 'none', 2, 'real_estate', 25, 'none', 'own', 2, 'skilled', 1, 'none', 'yes', 1.0, 3.0, 0.0, 1.0, 0.0, 0.0, 0.0, 0.0, 1.0, 0.0, 2.0, 1.0, 0.0, [1.0, 3.0, 1.0, 1.0, 0.0, 1.0, 0.0, 2.0, 0.0, 0.0, 0.0, 0.0, 0.0, 23.0, 2916.0, 3.0, 2.0, 23.0, 25.0, 2.0, 1.0], [17.261456068955393, 2.7385439310446062], [0.8630728034477697, 0.13692719655223032], 0.0, 'No Risk'], ['0_to_200', 26, 'outstanding_credit', 'appliances', 930, '500_to_1000', 'greater_7', 3, 'male', 'none', 2, 'car_other', 42, 'bank', 'rent', 1, 'unemployed', 1, 'yes', 'yes', 2.0, 2.0, 2.0, 2.0, 0.0, 1.0, 2.0, 3.0, 4.0, 0.0, 1.0, 0.0, 1.0, [2.0, 2.0, 4.0, 2.0, 2.0, 0.0, 0.0, 1.0, 2.0, 1.0, 3.0, 1.0, 0.0, 26.0, 930.0, 3.0, 2.0, 26.0, 42.0, 1.0, 1.0], [13.709962829719212, 6.2900371702807885], [0.6854981414859606, 0.31450185851403945], 0.0, 'No Risk'], ['less_0', 19, 'prior_payments_delayed', 'car_new', 4213, 'less_100', '4_to_7', 3, 'female', 'none', 3, 'savings_insurance', 36, 'none', 'free', 2, 'skilled', 1, 'none', 'yes', 1.0, 0.0, 1.0, 0.0, 0.0, 2.0, 0.0, 0.0, 0.0, 0.0, 0.0, 1.0, 0.0, [21, [0, 4, 5, 9, 13, 14, 15, 16, 17, 18, 19, 20], [1.0, 1.0, 1.0, 2.0, 19.0, 4213.0, 3.0, 3.0, 19.0, 36.0, 2.0, 1.0]], [13.808924443210302, 6.191075556789693], [0.6904462221605153, 0.3095537778394848], 0.0, 'No Risk'], ['0_to_200', 17, 'prior_payments_delayed', 'car_used', 3127, '100_to_500', 'less_1', 3, 'male', 'none', 4, 'unknown', 36, 'none', 'own', 1, 'skilled', 1, 'none', 'yes', 2.0, 0.0, 3.0, 1.0, 0.0, 0.0, 0.0, 0.0, 2.0, 0.0, 3.0, 0.0, 0.0, [2.0, 0.0, 2.0, 1.0, 3.0, 0.0, 0.0, 3.0, 0.0, 0.0, 0.0, 0.0, 0.0, 17.0, 3127.0, 3.0, 4.0, 17.0, 36.0, 1.0, 1.0], [14.696064730971482, 5.303935269028517], [0.7348032365485742, 0.26519676345142584], 0.0, 'No Risk']], 'fields': ['CheckingStatus', 'LoanDuration', 'CreditHistory', 'LoanPurpose', 'LoanAmount', 'ExistingSavings', 'EmploymentDuration', 'InstallmentPercent', 'Sex', 'OthersOnLoan', 'CurrentResidenceDuration', 'OwnsProperty', 'Age', 'InstallmentPlans', 'Housing', 'ExistingCreditsCount', 'Job', 'Dependents', 'Telephone', 'ForeignWorker', 'CheckingStatus_IX', 'CreditHistory_IX', 'EmploymentDuration_IX', 'ExistingSavings_IX', 'ForeignWorker_IX', 'Housing_IX', 'InstallmentPlans_IX', 'Job_IX', 'LoanPurpose_IX', 'OthersOnLoan_IX', 'OwnsProperty_IX', 'Sex_IX', 'Telephone_IX', 'features', 'rawPrediction', 'probability', 'prediction', 'predictedLabel']}\n"
     ]
    }
   ],
   "source": [
    "import random\n",
    "\n",
    "with open('german_credit_feed.json', 'r') as scoring_file:\n",
    "    scoring_data = json.load(scoring_file)\n",
    "\n",
    "fields = scoring_data['fields']\n",
    "values = []\n",
    "for _ in range(1000):\n",
    "    values.append(random.choice(scoring_data['values']))\n",
    "payload_scoring = {\"fields\": fields, \"values\": values}\n",
    "\n",
    "scoring_response = wml_client.deployments.score(credit_risk_scoring_endpoint, payload_scoring)\n",
    "print(scoring_response)"
   ]
  },
  {
   "cell_type": "code",
   "execution_count": 52,
   "metadata": {
    "scrolled": false
   },
   "outputs": [
    {
     "data": {
      "text/plain": [
       "{'entity': {'asset': {'asset_id': 'beb08b92-539b-4f64-bc9b-4d9a66fca5eb',\n",
       "   'asset_type': 'model',\n",
       "   'created_at': '2019-07-15T13:40:33.099Z',\n",
       "   'name': 'Spark German Risk Model - Final',\n",
       "   'url': 'https://us-south.ml.cloud.ibm.com/v3/wml_instances/4a7f62cc-f564-4144-8af4-b9f53533d2cf/published_models/beb08b92-539b-4f64-bc9b-4d9a66fca5eb'},\n",
       "  'asset_properties': {'categorical_fields': ['CheckingStatus',\n",
       "    'CreditHistory',\n",
       "    'LoanPurpose',\n",
       "    'ExistingSavings',\n",
       "    'EmploymentDuration',\n",
       "    'Sex',\n",
       "    'OthersOnLoan',\n",
       "    'OwnsProperty',\n",
       "    'InstallmentPlans',\n",
       "    'Housing',\n",
       "    'Job',\n",
       "    'Telephone',\n",
       "    'ForeignWorker'],\n",
       "   'feature_fields': ['CheckingStatus',\n",
       "    'LoanDuration',\n",
       "    'CreditHistory',\n",
       "    'LoanPurpose',\n",
       "    'LoanAmount',\n",
       "    'ExistingSavings',\n",
       "    'EmploymentDuration',\n",
       "    'InstallmentPercent',\n",
       "    'Sex',\n",
       "    'OthersOnLoan',\n",
       "    'CurrentResidenceDuration',\n",
       "    'OwnsProperty',\n",
       "    'Age',\n",
       "    'InstallmentPlans',\n",
       "    'Housing',\n",
       "    'ExistingCreditsCount',\n",
       "    'Job',\n",
       "    'Dependents',\n",
       "    'Telephone',\n",
       "    'ForeignWorker'],\n",
       "   'input_data_schema': {'fields': [{'metadata': {'measure': 'discrete',\n",
       "       'modeling_role': 'feature'},\n",
       "      'name': 'CheckingStatus',\n",
       "      'nullable': True,\n",
       "      'type': 'string'},\n",
       "     {'metadata': {'modeling_role': 'feature'},\n",
       "      'name': 'LoanDuration',\n",
       "      'nullable': True,\n",
       "      'type': 'integer'},\n",
       "     {'metadata': {'measure': 'discrete', 'modeling_role': 'feature'},\n",
       "      'name': 'CreditHistory',\n",
       "      'nullable': True,\n",
       "      'type': 'string'},\n",
       "     {'metadata': {'measure': 'discrete', 'modeling_role': 'feature'},\n",
       "      'name': 'LoanPurpose',\n",
       "      'nullable': True,\n",
       "      'type': 'string'},\n",
       "     {'metadata': {'modeling_role': 'feature'},\n",
       "      'name': 'LoanAmount',\n",
       "      'nullable': True,\n",
       "      'type': 'integer'},\n",
       "     {'metadata': {'measure': 'discrete', 'modeling_role': 'feature'},\n",
       "      'name': 'ExistingSavings',\n",
       "      'nullable': True,\n",
       "      'type': 'string'},\n",
       "     {'metadata': {'measure': 'discrete', 'modeling_role': 'feature'},\n",
       "      'name': 'EmploymentDuration',\n",
       "      'nullable': True,\n",
       "      'type': 'string'},\n",
       "     {'metadata': {'modeling_role': 'feature'},\n",
       "      'name': 'InstallmentPercent',\n",
       "      'nullable': True,\n",
       "      'type': 'integer'},\n",
       "     {'metadata': {'measure': 'discrete', 'modeling_role': 'feature'},\n",
       "      'name': 'Sex',\n",
       "      'nullable': True,\n",
       "      'type': 'string'},\n",
       "     {'metadata': {'measure': 'discrete', 'modeling_role': 'feature'},\n",
       "      'name': 'OthersOnLoan',\n",
       "      'nullable': True,\n",
       "      'type': 'string'},\n",
       "     {'metadata': {'modeling_role': 'feature'},\n",
       "      'name': 'CurrentResidenceDuration',\n",
       "      'nullable': True,\n",
       "      'type': 'integer'},\n",
       "     {'metadata': {'measure': 'discrete', 'modeling_role': 'feature'},\n",
       "      'name': 'OwnsProperty',\n",
       "      'nullable': True,\n",
       "      'type': 'string'},\n",
       "     {'metadata': {'modeling_role': 'feature'},\n",
       "      'name': 'Age',\n",
       "      'nullable': True,\n",
       "      'type': 'integer'},\n",
       "     {'metadata': {'measure': 'discrete', 'modeling_role': 'feature'},\n",
       "      'name': 'InstallmentPlans',\n",
       "      'nullable': True,\n",
       "      'type': 'string'},\n",
       "     {'metadata': {'measure': 'discrete', 'modeling_role': 'feature'},\n",
       "      'name': 'Housing',\n",
       "      'nullable': True,\n",
       "      'type': 'string'},\n",
       "     {'metadata': {'modeling_role': 'feature'},\n",
       "      'name': 'ExistingCreditsCount',\n",
       "      'nullable': True,\n",
       "      'type': 'integer'},\n",
       "     {'metadata': {'measure': 'discrete', 'modeling_role': 'feature'},\n",
       "      'name': 'Job',\n",
       "      'nullable': True,\n",
       "      'type': 'string'},\n",
       "     {'metadata': {'modeling_role': 'feature'},\n",
       "      'name': 'Dependents',\n",
       "      'nullable': True,\n",
       "      'type': 'integer'},\n",
       "     {'metadata': {'measure': 'discrete', 'modeling_role': 'feature'},\n",
       "      'name': 'Telephone',\n",
       "      'nullable': True,\n",
       "      'type': 'string'},\n",
       "     {'metadata': {'measure': 'discrete', 'modeling_role': 'feature'},\n",
       "      'name': 'ForeignWorker',\n",
       "      'nullable': True,\n",
       "      'type': 'string'}],\n",
       "    'type': 'struct'},\n",
       "   'input_data_type': 'structured',\n",
       "   'label_column': 'Risk',\n",
       "   'model_type': 'mllib-2.3',\n",
       "   'output_data_schema': {'fields': [{'metadata': {'columnInfo': {'columnLength': 64},\n",
       "       'measure': 'discrete',\n",
       "       'modeling_role': 'feature'},\n",
       "      'name': 'CheckingStatus',\n",
       "      'nullable': True,\n",
       "      'type': 'string'},\n",
       "     {'metadata': {'modeling_role': 'feature'},\n",
       "      'name': 'LoanDuration',\n",
       "      'nullable': True,\n",
       "      'type': 'integer'},\n",
       "     {'metadata': {'columnInfo': {'columnLength': 64},\n",
       "       'measure': 'discrete',\n",
       "       'modeling_role': 'feature'},\n",
       "      'name': 'CreditHistory',\n",
       "      'nullable': True,\n",
       "      'type': 'string'},\n",
       "     {'metadata': {'columnInfo': {'columnLength': 64},\n",
       "       'measure': 'discrete',\n",
       "       'modeling_role': 'feature'},\n",
       "      'name': 'LoanPurpose',\n",
       "      'nullable': True,\n",
       "      'type': 'string'},\n",
       "     {'metadata': {'modeling_role': 'feature'},\n",
       "      'name': 'LoanAmount',\n",
       "      'nullable': True,\n",
       "      'type': 'integer'},\n",
       "     {'metadata': {'columnInfo': {'columnLength': 64},\n",
       "       'measure': 'discrete',\n",
       "       'modeling_role': 'feature'},\n",
       "      'name': 'ExistingSavings',\n",
       "      'nullable': True,\n",
       "      'type': 'string'},\n",
       "     {'metadata': {'columnInfo': {'columnLength': 64},\n",
       "       'measure': 'discrete',\n",
       "       'modeling_role': 'feature'},\n",
       "      'name': 'EmploymentDuration',\n",
       "      'nullable': True,\n",
       "      'type': 'string'},\n",
       "     {'metadata': {'modeling_role': 'feature'},\n",
       "      'name': 'InstallmentPercent',\n",
       "      'nullable': True,\n",
       "      'type': 'integer'},\n",
       "     {'metadata': {'columnInfo': {'columnLength': 64},\n",
       "       'measure': 'discrete',\n",
       "       'modeling_role': 'feature'},\n",
       "      'name': 'Sex',\n",
       "      'nullable': True,\n",
       "      'type': 'string'},\n",
       "     {'metadata': {'columnInfo': {'columnLength': 64},\n",
       "       'measure': 'discrete',\n",
       "       'modeling_role': 'feature'},\n",
       "      'name': 'OthersOnLoan',\n",
       "      'nullable': True,\n",
       "      'type': 'string'},\n",
       "     {'metadata': {'modeling_role': 'feature'},\n",
       "      'name': 'CurrentResidenceDuration',\n",
       "      'nullable': True,\n",
       "      'type': 'integer'},\n",
       "     {'metadata': {'columnInfo': {'columnLength': 64},\n",
       "       'measure': 'discrete',\n",
       "       'modeling_role': 'feature'},\n",
       "      'name': 'OwnsProperty',\n",
       "      'nullable': True,\n",
       "      'type': 'string'},\n",
       "     {'metadata': {'modeling_role': 'feature'},\n",
       "      'name': 'Age',\n",
       "      'nullable': True,\n",
       "      'type': 'integer'},\n",
       "     {'metadata': {'columnInfo': {'columnLength': 64},\n",
       "       'measure': 'discrete',\n",
       "       'modeling_role': 'feature'},\n",
       "      'name': 'InstallmentPlans',\n",
       "      'nullable': True,\n",
       "      'type': 'string'},\n",
       "     {'metadata': {'columnInfo': {'columnLength': 64},\n",
       "       'measure': 'discrete',\n",
       "       'modeling_role': 'feature'},\n",
       "      'name': 'Housing',\n",
       "      'nullable': True,\n",
       "      'type': 'string'},\n",
       "     {'metadata': {'modeling_role': 'feature'},\n",
       "      'name': 'ExistingCreditsCount',\n",
       "      'nullable': True,\n",
       "      'type': 'integer'},\n",
       "     {'metadata': {'columnInfo': {'columnLength': 64},\n",
       "       'measure': 'discrete',\n",
       "       'modeling_role': 'feature'},\n",
       "      'name': 'Job',\n",
       "      'nullable': True,\n",
       "      'type': 'string'},\n",
       "     {'metadata': {'modeling_role': 'feature'},\n",
       "      'name': 'Dependents',\n",
       "      'nullable': True,\n",
       "      'type': 'integer'},\n",
       "     {'metadata': {'columnInfo': {'columnLength': 64},\n",
       "       'measure': 'discrete',\n",
       "       'modeling_role': 'feature'},\n",
       "      'name': 'Telephone',\n",
       "      'nullable': True,\n",
       "      'type': 'string'},\n",
       "     {'metadata': {'columnInfo': {'columnLength': 64},\n",
       "       'measure': 'discrete',\n",
       "       'modeling_role': 'feature'},\n",
       "      'name': 'ForeignWorker',\n",
       "      'nullable': True,\n",
       "      'type': 'string'},\n",
       "     {'metadata': {},\n",
       "      'name': 'CheckingStatus_IX',\n",
       "      'nullable': True,\n",
       "      'type': 'double'},\n",
       "     {'metadata': {},\n",
       "      'name': 'CreditHistory_IX',\n",
       "      'nullable': True,\n",
       "      'type': 'double'},\n",
       "     {'metadata': {},\n",
       "      'name': 'EmploymentDuration_IX',\n",
       "      'nullable': True,\n",
       "      'type': 'double'},\n",
       "     {'metadata': {},\n",
       "      'name': 'ExistingSavings_IX',\n",
       "      'nullable': True,\n",
       "      'type': 'double'},\n",
       "     {'metadata': {},\n",
       "      'name': 'ForeignWorker_IX',\n",
       "      'nullable': True,\n",
       "      'type': 'double'},\n",
       "     {'metadata': {},\n",
       "      'name': 'Housing_IX',\n",
       "      'nullable': True,\n",
       "      'type': 'double'},\n",
       "     {'metadata': {},\n",
       "      'name': 'InstallmentPlans_IX',\n",
       "      'nullable': True,\n",
       "      'type': 'double'},\n",
       "     {'metadata': {}, 'name': 'Job_IX', 'nullable': True, 'type': 'double'},\n",
       "     {'metadata': {},\n",
       "      'name': 'LoanPurpose_IX',\n",
       "      'nullable': True,\n",
       "      'type': 'double'},\n",
       "     {'metadata': {},\n",
       "      'name': 'OthersOnLoan_IX',\n",
       "      'nullable': True,\n",
       "      'type': 'double'},\n",
       "     {'metadata': {},\n",
       "      'name': 'OwnsProperty_IX',\n",
       "      'nullable': True,\n",
       "      'type': 'double'},\n",
       "     {'metadata': {}, 'name': 'Sex_IX', 'nullable': True, 'type': 'double'},\n",
       "     {'metadata': {},\n",
       "      'name': 'Telephone_IX',\n",
       "      'nullable': True,\n",
       "      'type': 'double'},\n",
       "     {'metadata': {},\n",
       "      'name': 'features',\n",
       "      'nullable': True,\n",
       "      'type': {'containsNull': True,\n",
       "       'elementType': 'double',\n",
       "       'type': 'array'}},\n",
       "     {'metadata': {},\n",
       "      'name': 'rawPrediction',\n",
       "      'nullable': True,\n",
       "      'type': {'containsNull': True,\n",
       "       'elementType': 'double',\n",
       "       'type': 'array'}},\n",
       "     {'metadata': {'modeling_role': 'probability'},\n",
       "      'name': 'probability',\n",
       "      'nullable': True,\n",
       "      'type': {'containsNull': True,\n",
       "       'elementType': 'double',\n",
       "       'type': 'array'}},\n",
       "     {'metadata': {'modeling_role': 'prediction'},\n",
       "      'name': 'prediction',\n",
       "      'nullable': True,\n",
       "      'type': 'double'},\n",
       "     {'metadata': {'columnInfo': {'columnLength': 64},\n",
       "       'modeling_role': 'decoded-target'},\n",
       "      'name': 'predictedLabel',\n",
       "      'nullable': True,\n",
       "      'type': 'string'},\n",
       "     {'metadata': {'modeling_role': 'debiased-prediction'},\n",
       "      'name': 'debiased_prediction',\n",
       "      'nullable': True,\n",
       "      'type': 'double'},\n",
       "     {'metadata': {'modeling_role': 'debiased-probability'},\n",
       "      'name': 'debiased_probability',\n",
       "      'nullable': True,\n",
       "      'type': {'containsNull': True,\n",
       "       'elementType': 'double',\n",
       "       'type': 'array'}},\n",
       "     {'metadata': {'modeling_role': 'prediction-probability'},\n",
       "      'name': 'prediction_probability',\n",
       "      'nullable': True,\n",
       "      'type': 'double'},\n",
       "     {'metadata': {'columnInfo': {'columnLength': 64},\n",
       "       'modeling_role': 'debiased-decoded-target'},\n",
       "      'name': 'debiased_decoded_target',\n",
       "      'nullable': True,\n",
       "      'type': 'string'}],\n",
       "    'type': 'struct'},\n",
       "   'predicted_target_field': 'predictedLabel',\n",
       "   'prediction_probability_field': 'probability',\n",
       "   'problem_type': 'binary',\n",
       "   'runtime_environment': 'spark-2.3',\n",
       "   'training_data_schema': {'fields': [{'metadata': {'measure': 'discrete',\n",
       "       'modeling_role': 'feature'},\n",
       "      'name': 'CheckingStatus',\n",
       "      'nullable': True,\n",
       "      'type': 'string'},\n",
       "     {'metadata': {'modeling_role': 'feature'},\n",
       "      'name': 'LoanDuration',\n",
       "      'nullable': True,\n",
       "      'type': 'integer'},\n",
       "     {'metadata': {'measure': 'discrete', 'modeling_role': 'feature'},\n",
       "      'name': 'CreditHistory',\n",
       "      'nullable': True,\n",
       "      'type': 'string'},\n",
       "     {'metadata': {'measure': 'discrete', 'modeling_role': 'feature'},\n",
       "      'name': 'LoanPurpose',\n",
       "      'nullable': True,\n",
       "      'type': 'string'},\n",
       "     {'metadata': {'modeling_role': 'feature'},\n",
       "      'name': 'LoanAmount',\n",
       "      'nullable': True,\n",
       "      'type': 'integer'},\n",
       "     {'metadata': {'measure': 'discrete', 'modeling_role': 'feature'},\n",
       "      'name': 'ExistingSavings',\n",
       "      'nullable': True,\n",
       "      'type': 'string'},\n",
       "     {'metadata': {'measure': 'discrete', 'modeling_role': 'feature'},\n",
       "      'name': 'EmploymentDuration',\n",
       "      'nullable': True,\n",
       "      'type': 'string'},\n",
       "     {'metadata': {'modeling_role': 'feature'},\n",
       "      'name': 'InstallmentPercent',\n",
       "      'nullable': True,\n",
       "      'type': 'integer'},\n",
       "     {'metadata': {'measure': 'discrete', 'modeling_role': 'feature'},\n",
       "      'name': 'Sex',\n",
       "      'nullable': True,\n",
       "      'type': 'string'},\n",
       "     {'metadata': {'measure': 'discrete', 'modeling_role': 'feature'},\n",
       "      'name': 'OthersOnLoan',\n",
       "      'nullable': True,\n",
       "      'type': 'string'},\n",
       "     {'metadata': {'modeling_role': 'feature'},\n",
       "      'name': 'CurrentResidenceDuration',\n",
       "      'nullable': True,\n",
       "      'type': 'integer'},\n",
       "     {'metadata': {'measure': 'discrete', 'modeling_role': 'feature'},\n",
       "      'name': 'OwnsProperty',\n",
       "      'nullable': True,\n",
       "      'type': 'string'},\n",
       "     {'metadata': {'modeling_role': 'feature'},\n",
       "      'name': 'Age',\n",
       "      'nullable': True,\n",
       "      'type': 'integer'},\n",
       "     {'metadata': {'measure': 'discrete', 'modeling_role': 'feature'},\n",
       "      'name': 'InstallmentPlans',\n",
       "      'nullable': True,\n",
       "      'type': 'string'},\n",
       "     {'metadata': {'measure': 'discrete', 'modeling_role': 'feature'},\n",
       "      'name': 'Housing',\n",
       "      'nullable': True,\n",
       "      'type': 'string'},\n",
       "     {'metadata': {'modeling_role': 'feature'},\n",
       "      'name': 'ExistingCreditsCount',\n",
       "      'nullable': True,\n",
       "      'type': 'integer'},\n",
       "     {'metadata': {'measure': 'discrete', 'modeling_role': 'feature'},\n",
       "      'name': 'Job',\n",
       "      'nullable': True,\n",
       "      'type': 'string'},\n",
       "     {'metadata': {'modeling_role': 'feature'},\n",
       "      'name': 'Dependents',\n",
       "      'nullable': True,\n",
       "      'type': 'integer'},\n",
       "     {'metadata': {'measure': 'discrete', 'modeling_role': 'feature'},\n",
       "      'name': 'Telephone',\n",
       "      'nullable': True,\n",
       "      'type': 'string'},\n",
       "     {'metadata': {'measure': 'discrete', 'modeling_role': 'feature'},\n",
       "      'name': 'ForeignWorker',\n",
       "      'nullable': True,\n",
       "      'type': 'string'},\n",
       "     {'metadata': {'modeling_role': 'target'},\n",
       "      'name': 'Risk',\n",
       "      'nullable': True,\n",
       "      'type': 'string'}],\n",
       "    'type': 'struct'}},\n",
       "  'configurations': [{'enabled': True,\n",
       "    'monitor_definition_id': 'payload_logging',\n",
       "    'type': 'payload_logging',\n",
       "    'url': '/v1/data_marts/f94e20cb-aa92-4636-97ce-08de6b714d02/service_bindings/4a7f62cc-f564-4144-8af4-b9f53533d2cf/subscriptions/beb08b92-539b-4f64-bc9b-4d9a66fca5eb/configurations/payload_logging'},\n",
       "   {'enabled': False,\n",
       "    'monitor_definition_id': 'explainability',\n",
       "    'type': 'explainability',\n",
       "    'url': '/v1/data_marts/f94e20cb-aa92-4636-97ce-08de6b714d02/service_bindings/4a7f62cc-f564-4144-8af4-b9f53533d2cf/subscriptions/beb08b92-539b-4f64-bc9b-4d9a66fca5eb/configurations/explainability'},\n",
       "   {'enabled': True,\n",
       "    'monitor_definition_id': 'performance_monitoring',\n",
       "    'type': 'performance_monitoring',\n",
       "    'url': '/v1/data_marts/f94e20cb-aa92-4636-97ce-08de6b714d02/service_bindings/4a7f62cc-f564-4144-8af4-b9f53533d2cf/subscriptions/beb08b92-539b-4f64-bc9b-4d9a66fca5eb/configurations/performance_monitoring'},\n",
       "   {'enabled': True,\n",
       "    'monitor_definition_id': 'fairness_monitoring',\n",
       "    'type': 'fairness_monitoring',\n",
       "    'url': '/v1/data_marts/f94e20cb-aa92-4636-97ce-08de6b714d02/service_bindings/4a7f62cc-f564-4144-8af4-b9f53533d2cf/subscriptions/beb08b92-539b-4f64-bc9b-4d9a66fca5eb/configurations/fairness_monitoring'},\n",
       "   {'enabled': True,\n",
       "    'monitor_definition_id': 'quality',\n",
       "    'type': 'quality_monitoring',\n",
       "    'url': '/v1/data_marts/f94e20cb-aa92-4636-97ce-08de6b714d02/service_bindings/4a7f62cc-f564-4144-8af4-b9f53533d2cf/subscriptions/beb08b92-539b-4f64-bc9b-4d9a66fca5eb/configurations/quality'},\n",
       "   {'enabled': False,\n",
       "    'monitor_definition_id': 'drift',\n",
       "    'type': 'drift',\n",
       "    'url': '/v1/data_marts/f94e20cb-aa92-4636-97ce-08de6b714d02/service_bindings/4a7f62cc-f564-4144-8af4-b9f53533d2cf/subscriptions/beb08b92-539b-4f64-bc9b-4d9a66fca5eb/configurations/drift'}],\n",
       "  'deployments': [{'created_at': '2019-07-15T13:40:33.128Z',\n",
       "    'deployment_id': '4a85b4f0-8c32-4a6c-8e4a-518e95a224dc',\n",
       "    'deployment_rn': '',\n",
       "    'deployment_type': 'online',\n",
       "    'name': 'Spark German Risk Deployment - Final',\n",
       "    'scoring_endpoint': {'request_headers': {'Content-Type': 'application/json'},\n",
       "     'url': 'https://us-south.ml.cloud.ibm.com/v3/wml_instances/4a7f62cc-f564-4144-8af4-b9f53533d2cf/deployments/4a85b4f0-8c32-4a6c-8e4a-518e95a224dc/online'},\n",
       "    'url': 'https://us-south.ml.cloud.ibm.com/v3/wml_instances/4a7f62cc-f564-4144-8af4-b9f53533d2cf/deployments/4a85b4f0-8c32-4a6c-8e4a-518e95a224dc'}],\n",
       "  'service_binding_id': '4a7f62cc-f564-4144-8af4-b9f53533d2cf',\n",
       "  'status': {'state': 'active'}},\n",
       " 'metadata': {'created_at': '2019-07-15T13:49:44.089Z',\n",
       "  'guid': 'beb08b92-539b-4f64-bc9b-4d9a66fca5eb',\n",
       "  'modified_at': '2019-07-15T14:03:43.906Z',\n",
       "  'url': '/v1/data_marts/f94e20cb-aa92-4636-97ce-08de6b714d02/service_bindings/4a7f62cc-f564-4144-8af4-b9f53533d2cf/subscriptions/beb08b92-539b-4f64-bc9b-4d9a66fca5eb'}}"
      ]
     },
     "execution_count": 52,
     "metadata": {},
     "output_type": "execute_result"
    }
   ],
   "source": [
    "subscription.get_details()"
   ]
  },
  {
   "cell_type": "markdown",
   "metadata": {},
   "source": [
    "# Insert historical payloads"
   ]
  },
  {
   "cell_type": "code",
   "execution_count": 53,
   "metadata": {
    "scrolled": false
   },
   "outputs": [
    {
     "name": "stdout",
     "output_type": "stream",
     "text": [
      "rm: cannot remove 'payload_history*.json': No such file or directory\n",
      "--2019-07-15 14:03:59--  https://raw.githubusercontent.com/IBM/monitor-wml-model-with-watson-openscale/master/data/payload_history_1.json\n",
      "Resolving raw.githubusercontent.com (raw.githubusercontent.com)... 199.232.8.133\n",
      "Connecting to raw.githubusercontent.com (raw.githubusercontent.com)|199.232.8.133|:443... connected.\n",
      "HTTP request sent, awaiting response... 200 OK\n",
      "Length: 3817949 (3.6M) [text/plain]\n",
      "Saving to: 'payload_history_1.json'\n",
      "\n",
      "payload_history_1.j 100%[===================>]   3.64M  --.-KB/s    in 0.06s   \n",
      "\n",
      "2019-07-15 14:03:59 (63.2 MB/s) - 'payload_history_1.json' saved [3817949/3817949]\n",
      "\n",
      "--2019-07-15 14:04:00--  https://raw.githubusercontent.com/IBM/monitor-wml-model-with-watson-openscale/master/data/payload_history_2.json\n",
      "Resolving raw.githubusercontent.com (raw.githubusercontent.com)... 151.101.48.133\n",
      "Connecting to raw.githubusercontent.com (raw.githubusercontent.com)|151.101.48.133|:443... connected.\n",
      "HTTP request sent, awaiting response... 200 OK\n",
      "Length: 3818645 (3.6M) [text/plain]\n",
      "Saving to: 'payload_history_2.json'\n",
      "\n",
      "payload_history_2.j 100%[===================>]   3.64M  --.-KB/s    in 0.06s   \n",
      "\n",
      "2019-07-15 14:04:00 (63.1 MB/s) - 'payload_history_2.json' saved [3818645/3818645]\n",
      "\n",
      "--2019-07-15 14:04:01--  https://raw.githubusercontent.com/IBM/monitor-wml-model-with-watson-openscale/master/data/payload_history_3.json\n",
      "Resolving raw.githubusercontent.com (raw.githubusercontent.com)... 199.232.8.133\n",
      "Connecting to raw.githubusercontent.com (raw.githubusercontent.com)|199.232.8.133|:443... connected.\n",
      "HTTP request sent, awaiting response... 200 OK\n",
      "Length: 3818470 (3.6M) [text/plain]\n",
      "Saving to: 'payload_history_3.json'\n",
      "\n",
      "payload_history_3.j 100%[===================>]   3.64M  --.-KB/s    in 0.07s   \n",
      "\n",
      "2019-07-15 14:04:01 (55.5 MB/s) - 'payload_history_3.json' saved [3818470/3818470]\n",
      "\n",
      "--2019-07-15 14:04:02--  https://raw.githubusercontent.com/IBM/monitor-wml-model-with-watson-openscale/master/data/payload_history_4.json\n",
      "Resolving raw.githubusercontent.com (raw.githubusercontent.com)... 199.232.8.133\n",
      "Connecting to raw.githubusercontent.com (raw.githubusercontent.com)|199.232.8.133|:443... connected.\n",
      "HTTP request sent, awaiting response... 200 OK\n",
      "Length: 3818106 (3.6M) [text/plain]\n",
      "Saving to: 'payload_history_4.json'\n",
      "\n",
      "payload_history_4.j 100%[===================>]   3.64M  --.-KB/s    in 0.06s   \n",
      "\n",
      "2019-07-15 14:04:02 (59.4 MB/s) - 'payload_history_4.json' saved [3818106/3818106]\n",
      "\n",
      "--2019-07-15 14:04:03--  https://raw.githubusercontent.com/IBM/monitor-wml-model-with-watson-openscale/master/data/payload_history_5.json\n",
      "Resolving raw.githubusercontent.com (raw.githubusercontent.com)... 199.232.8.133\n",
      "Connecting to raw.githubusercontent.com (raw.githubusercontent.com)|199.232.8.133|:443... connected.\n",
      "HTTP request sent, awaiting response... 200 OK\n",
      "Length: 3817474 (3.6M) [text/plain]\n",
      "Saving to: 'payload_history_5.json'\n",
      "\n",
      "payload_history_5.j 100%[===================>]   3.64M  --.-KB/s    in 0.06s   \n",
      "\n",
      "2019-07-15 14:04:03 (59.8 MB/s) - 'payload_history_5.json' saved [3817474/3817474]\n",
      "\n",
      "--2019-07-15 14:04:04--  https://raw.githubusercontent.com/IBM/monitor-wml-model-with-watson-openscale/master/data/payload_history_6.json\n",
      "Resolving raw.githubusercontent.com (raw.githubusercontent.com)... 199.232.8.133\n",
      "Connecting to raw.githubusercontent.com (raw.githubusercontent.com)|199.232.8.133|:443... connected.\n",
      "HTTP request sent, awaiting response... 200 OK\n",
      "Length: 3817921 (3.6M) [text/plain]\n",
      "Saving to: 'payload_history_6.json'\n",
      "\n",
      "payload_history_6.j 100%[===================>]   3.64M  --.-KB/s    in 0.06s   \n",
      "\n",
      "2019-07-15 14:04:04 (57.0 MB/s) - 'payload_history_6.json' saved [3817921/3817921]\n",
      "\n",
      "--2019-07-15 14:04:05--  https://raw.githubusercontent.com/IBM/monitor-wml-model-with-watson-openscale/master/data/payload_history_7.json\n",
      "Resolving raw.githubusercontent.com (raw.githubusercontent.com)... 199.232.8.133\n",
      "Connecting to raw.githubusercontent.com (raw.githubusercontent.com)|199.232.8.133|:443... connected.\n",
      "HTTP request sent, awaiting response... 200 OK\n",
      "Length: 3818121 (3.6M) [text/plain]\n",
      "Saving to: 'payload_history_7.json'\n",
      "\n",
      "payload_history_7.j 100%[===================>]   3.64M  --.-KB/s    in 0.06s   \n",
      "\n",
      "2019-07-15 14:04:05 (58.1 MB/s) - 'payload_history_7.json' saved [3818121/3818121]\n",
      "\n"
     ]
    }
   ],
   "source": [
    "!rm payload_history*.json\n",
    "!wget https://raw.githubusercontent.com/IBM/monitor-wml-model-with-watson-openscale/master/data/payload_history_1.json\n",
    "!wget https://raw.githubusercontent.com/IBM/monitor-wml-model-with-watson-openscale/master/data/payload_history_2.json\n",
    "!wget https://raw.githubusercontent.com/IBM/monitor-wml-model-with-watson-openscale/master/data/payload_history_3.json\n",
    "!wget https://raw.githubusercontent.com/IBM/monitor-wml-model-with-watson-openscale/master/data/payload_history_4.json\n",
    "!wget https://raw.githubusercontent.com/IBM/monitor-wml-model-with-watson-openscale/master/data/payload_history_5.json\n",
    "!wget https://raw.githubusercontent.com/IBM/monitor-wml-model-with-watson-openscale/master/data/payload_history_6.json\n",
    "!wget https://raw.githubusercontent.com/IBM/monitor-wml-model-with-watson-openscale/master/data/payload_history_7.json"
   ]
  },
  {
   "cell_type": "code",
   "execution_count": 54,
   "metadata": {
    "scrolled": true
   },
   "outputs": [],
   "source": [
    "historyDays = 7"
   ]
  },
  {
   "cell_type": "code",
   "execution_count": 55,
   "metadata": {
    "scrolled": true
   },
   "outputs": [
    {
     "name": "stdout",
     "output_type": "stream",
     "text": [
      "Loading day 1\n",
      "Loading day 2\n",
      "Loading day 3\n",
      "Loading day 4\n",
      "Loading day 5\n",
      "Loading day 6\n",
      "Loading day 7\n",
      "Finished\n"
     ]
    }
   ],
   "source": [
    "from ibm_ai_openscale.supporting_classes import PayloadRecord, Feature\n",
    "import datetime\n",
    "import time\n",
    "\n",
    "for day in range(historyDays):\n",
    "    print('Loading day {}'.format(day + 1))\n",
    "    history_file = 'payload_history_' + str(day + 1) + '.json'\n",
    "    with open(history_file) as f:\n",
    "        payloads = json.load(f)\n",
    "        hourly_records = int(len(payloads) / 24)\n",
    "        index = 0\n",
    "        for hour in range(24):\n",
    "            recordsList = []\n",
    "            for i in range(hourly_records):\n",
    "                score_time = str(datetime.datetime.utcnow() + datetime.timedelta(hours=(-(24*day + hour + 1))))\n",
    "                recordsList.append(PayloadRecord(request=payloads[index]['request'], response=payloads[index]['response'], scoring_timestamp=score_time))\n",
    "                index += 1\n",
    "            subscription.payload_logging.store(records=recordsList)\n",
    "print('Finished')"
   ]
  },
  {
   "cell_type": "code",
   "execution_count": 56,
   "metadata": {
    "scrolled": true
   },
   "outputs": [
    {
     "name": "stdout",
     "output_type": "stream",
     "text": [
      "f94e20cb-aa92-4636-97ce-08de6b714d02\n"
     ]
    }
   ],
   "source": [
    "data_mart_id = subscription.get_details()['metadata']['url'].split('/service_bindings')[0].split('marts/')[1]\n",
    "print(data_mart_id)"
   ]
  },
  {
   "cell_type": "code",
   "execution_count": 57,
   "metadata": {
    "scrolled": true
   },
   "outputs": [
    {
     "name": "stdout",
     "output_type": "stream",
     "text": [
      "https://api.aiopenscale.cloud.ibm.com/v1/data_marts/f94e20cb-aa92-4636-97ce-08de6b714d02/metrics\n"
     ]
    }
   ],
   "source": [
    "performance_metrics_url = 'https://api.aiopenscale.cloud.ibm.com' + subscription.get_details()['metadata']['url'].split('/service_bindings')[0] + '/metrics'\n",
    "print(performance_metrics_url)"
   ]
  },
  {
   "cell_type": "markdown",
   "metadata": {},
   "source": [
    "## Insert historical fairness metrics"
   ]
  },
  {
   "cell_type": "code",
   "execution_count": 58,
   "metadata": {},
   "outputs": [
    {
     "name": "stdout",
     "output_type": "stream",
     "text": [
      "rm: cannot remove 'fairness_history.json': No such file or directory\n",
      "--2019-07-15 14:11:48--  https://raw.githubusercontent.com/IBM/monitor-wml-model-with-watson-openscale/master/data/fairness_history.json\n",
      "Resolving raw.githubusercontent.com (raw.githubusercontent.com)... 151.101.48.133\n",
      "Connecting to raw.githubusercontent.com (raw.githubusercontent.com)|151.101.48.133|:443... connected.\n",
      "HTTP request sent, awaiting response... 200 OK\n",
      "Length: 877247 (857K) [text/plain]\n",
      "Saving to: 'fairness_history.json'\n",
      "\n",
      "fairness_history.js 100%[===================>] 856.69K  --.-KB/s    in 0.03s   \n",
      "\n",
      "2019-07-15 14:11:48 (28.8 MB/s) - 'fairness_history.json' saved [877247/877247]\n",
      "\n"
     ]
    }
   ],
   "source": [
    "!rm fairness_history.json\n",
    "!wget https://raw.githubusercontent.com/IBM/monitor-wml-model-with-watson-openscale/master/data/fairness_history.json"
   ]
  },
  {
   "cell_type": "code",
   "execution_count": 59,
   "metadata": {
    "scrolled": true
   },
   "outputs": [
    {
     "name": "stdout",
     "output_type": "stream",
     "text": [
      "Day 1\n",
      "Day 2\n",
      "Day 3\n",
      "Day 4\n",
      "Day 5\n",
      "Day 6\n",
      "Day 7\n",
      "Finished\n"
     ]
    }
   ],
   "source": [
    "import random\n",
    "token_data = {\n",
    "    'grant_type': 'urn:ibm:params:oauth:grant-type:apikey',\n",
    "    'response_type': 'cloud_iam',\n",
    "    'apikey': AIOS_CREDENTIALS['apikey']\n",
    "}\n",
    "\n",
    "response = requests.post('https://iam.bluemix.net/identity/token', data=token_data)\n",
    "iam_token = response.json()['access_token']\n",
    "iam_headers = {\n",
    "    'Content-Type': 'application/json',\n",
    "    'Authorization': 'Bearer %s' % iam_token\n",
    "}\n",
    "\n",
    "with open('fairness_history.json', 'r') as history_file:\n",
    "    payloads = json.load(history_file)\n",
    "\n",
    "for day in range(historyDays):\n",
    "    print('Day', day + 1)\n",
    "    for hour in range(24):\n",
    "        score_time = (datetime.datetime.utcnow() + datetime.timedelta(hours=(-(24*day + hour + 1)))).strftime('%Y-%m-%dT%H:%M:%SZ')\n",
    "        \n",
    "        qualityMetric = {\n",
    "            'metric_type': 'fairness',\n",
    "            'binding_id': binding_uid,\n",
    "            'timestamp': score_time,\n",
    "            'subscription_id': model_uid,\n",
    "            'asset_revision': model_uid,\n",
    "            'deployment_id': deployment_uid,\n",
    "            'value': random.choice(payloads)\n",
    "        }\n",
    "\n",
    "        response = requests.post(performance_metrics_url, json=[qualityMetric], headers=iam_headers)\n",
    "print('Finished')"
   ]
  },
  {
   "cell_type": "markdown",
   "metadata": {},
   "source": [
    "## Insert historical quality metrics"
   ]
  },
  {
   "cell_type": "code",
   "execution_count": 60,
   "metadata": {
    "scrolled": true
   },
   "outputs": [
    {
     "name": "stdout",
     "output_type": "stream",
     "text": [
      "Day 1\n",
      "Day 2\n",
      "Day 3\n",
      "Day 4\n",
      "Day 5\n",
      "Day 6\n",
      "Day 7\n",
      "Finished\n"
     ]
    }
   ],
   "source": [
    "token_data = {\n",
    "    'grant_type': 'urn:ibm:params:oauth:grant-type:apikey',\n",
    "    'response_type': 'cloud_iam',\n",
    "    'apikey': AIOS_CREDENTIALS['apikey']\n",
    "}\n",
    "\n",
    "response = requests.post('https://iam.bluemix.net/identity/token', data=token_data)\n",
    "iam_token = response.json()['access_token']\n",
    "iam_headers = {\n",
    "    'Content-Type': 'application/json',\n",
    "    'Authorization': 'Bearer %s' % iam_token\n",
    "}\n",
    "\n",
    "measurements = [0.76, 0.78, 0.68, 0.72, 0.73, 0.77, 0.80]\n",
    "for day in range(historyDays):\n",
    "    print('Day', day + 1)\n",
    "    for hour in range(24):\n",
    "        score_time = (datetime.datetime.utcnow() + datetime.timedelta(hours=(-(24*day + hour + 1)))).strftime('%Y-%m-%dT%H:%M:%SZ')\n",
    "        \n",
    "        qualityMetric = {\n",
    "            'metric_type': 'quality',\n",
    "            'binding_id': binding_uid,\n",
    "            'timestamp': score_time,\n",
    "            'subscription_id': model_uid,\n",
    "            'asset_revision': model_uid,\n",
    "            'deployment_id': deployment_uid,\n",
    "            'value': {\n",
    "                'quality': measurements[day],\n",
    "                'threshold': 0.7,\n",
    "                'metrics': [\n",
    "                    {\n",
    "                        'name': 'auroc',\n",
    "                        'value': measurements[day],\n",
    "                        'threshold': 0.7\n",
    "                    }\n",
    "                ]\n",
    "            }\n",
    "        }\n",
    "\n",
    "        response = requests.post(performance_metrics_url, json=[qualityMetric], headers=iam_headers)\n",
    "print('Finished')"
   ]
  },
  {
   "cell_type": "markdown",
   "metadata": {},
   "source": [
    "## Insert historical performance metrics"
   ]
  },
  {
   "cell_type": "code",
   "execution_count": 61,
   "metadata": {},
   "outputs": [
    {
     "name": "stdout",
     "output_type": "stream",
     "text": [
      "Day 1\n",
      "Day 2\n",
      "Day 3\n",
      "Day 4\n",
      "Day 5\n",
      "Day 6\n",
      "Day 7\n",
      "Finished\n"
     ]
    }
   ],
   "source": [
    "token_data = {\n",
    "    'grant_type': 'urn:ibm:params:oauth:grant-type:apikey',\n",
    "    'response_type': 'cloud_iam',\n",
    "    'apikey': AIOS_CREDENTIALS['apikey']\n",
    "}\n",
    "\n",
    "response = requests.post('https://iam.bluemix.net/identity/token', data=token_data)\n",
    "iam_token = response.json()['access_token']\n",
    "iam_headers = {\n",
    "    'Content-Type': 'application/json',\n",
    "    'Authorization': 'Bearer %s' % iam_token\n",
    "}\n",
    "\n",
    "for day in range(historyDays):\n",
    "    print('Day', day + 1)\n",
    "    for hour in range(24):\n",
    "        score_time = (datetime.datetime.utcnow() + datetime.timedelta(hours=(-(24*day + hour + 1)))).strftime('%Y-%m-%dT%H:%M:%SZ')\n",
    "        score_count = random.randint(60, 600)\n",
    "        score_resp = random.uniform(60, 300)\n",
    "\n",
    "        performanceMetric = {\n",
    "            'metric_type': 'performance',\n",
    "            'binding_id': binding_uid,\n",
    "            'timestamp': score_time,\n",
    "            'subscription_id': model_uid,\n",
    "            'asset_revision': model_uid,\n",
    "            'deployment_id': deployment_uid,\n",
    "            'value': {\n",
    "                'response_time': score_resp,\n",
    "                'records': score_count\n",
    "            }\n",
    "        }\n",
    "\n",
    "        response = requests.post(performance_metrics_url, json=[performanceMetric], headers=iam_headers)\n",
    "print('Finished')"
   ]
  },
  {
   "cell_type": "markdown",
   "metadata": {},
   "source": [
    "## Configure Explainability"
   ]
  },
  {
   "cell_type": "code",
   "execution_count": 62,
   "metadata": {
    "scrolled": true
   },
   "outputs": [],
   "source": [
    "from ibm_ai_openscale.supporting_classes import *\n",
    "subscription.explainability.enable(training_data=pd_data)"
   ]
  },
  {
   "cell_type": "code",
   "execution_count": 63,
   "metadata": {
    "scrolled": true
   },
   "outputs": [
    {
     "data": {
      "text/plain": [
       "{'enabled': True,\n",
       " 'parameters': {'training_statistics': {'base_values': {'0': 'no_checking',\n",
       "    '1': 21.0,\n",
       "    '10': 3.0,\n",
       "    '11': 'savings_insurance',\n",
       "    '12': 36.0,\n",
       "    '13': 'none',\n",
       "    '14': 'own',\n",
       "    '15': 1.0,\n",
       "    '16': 'skilled',\n",
       "    '17': 1.0,\n",
       "    '18': 'none',\n",
       "    '19': 'yes',\n",
       "    '2': 'prior_payments_delayed',\n",
       "    '3': 'car_new',\n",
       "    '4': 3238.5,\n",
       "    '5': 'less_100',\n",
       "    '6': '1_to_4',\n",
       "    '7': 3.0,\n",
       "    '8': 'male',\n",
       "    '9': 'none'},\n",
       "   'categorical_columns': ['CheckingStatus',\n",
       "    'CreditHistory',\n",
       "    'LoanPurpose',\n",
       "    'ExistingSavings',\n",
       "    'EmploymentDuration',\n",
       "    'Sex',\n",
       "    'OthersOnLoan',\n",
       "    'OwnsProperty',\n",
       "    'InstallmentPlans',\n",
       "    'Housing',\n",
       "    'Job',\n",
       "    'Telephone',\n",
       "    'ForeignWorker'],\n",
       "   'categorical_columns_encoding_mapping': {'0': ['0_to_200',\n",
       "     'greater_200',\n",
       "     'less_0',\n",
       "     'no_checking'],\n",
       "    '11': ['car_other', 'real_estate', 'savings_insurance', 'unknown'],\n",
       "    '13': ['bank', 'none', 'stores'],\n",
       "    '14': ['free', 'own', 'rent'],\n",
       "    '16': ['management_self-employed', 'skilled', 'unemployed', 'unskilled'],\n",
       "    '18': ['none', 'yes'],\n",
       "    '19': ['no', 'yes'],\n",
       "    '2': ['all_credits_paid_back',\n",
       "     'credits_paid_to_date',\n",
       "     'no_credits',\n",
       "     'outstanding_credit',\n",
       "     'prior_payments_delayed'],\n",
       "    '3': ['appliances',\n",
       "     'business',\n",
       "     'car_new',\n",
       "     'car_used',\n",
       "     'education',\n",
       "     'furniture',\n",
       "     'other',\n",
       "     'radio_tv',\n",
       "     'repairs',\n",
       "     'retraining',\n",
       "     'vacation'],\n",
       "    '5': ['100_to_500', '500_to_1000', 'greater_1000', 'less_100', 'unknown'],\n",
       "    '6': ['1_to_4', '4_to_7', 'greater_7', 'less_1', 'unemployed'],\n",
       "    '8': ['female', 'male'],\n",
       "    '9': ['co-applicant', 'guarantor', 'none']},\n",
       "   'categorical_counts': {'0': {'0_to_200': 1304,\n",
       "     'greater_200': 305,\n",
       "     'less_0': 1398,\n",
       "     'no_checking': 1993},\n",
       "    '11': {'car_other': 1540,\n",
       "     'real_estate': 1087,\n",
       "     'savings_insurance': 1660,\n",
       "     'unknown': 713},\n",
       "    '13': {'bank': 466, 'none': 3517, 'stores': 1017},\n",
       "    '14': {'free': 739, 'own': 3195, 'rent': 1066},\n",
       "    '16': {'management_self-employed': 641,\n",
       "     'skilled': 3400,\n",
       "     'unemployed': 286,\n",
       "     'unskilled': 673},\n",
       "    '18': {'none': 2941, 'yes': 2059},\n",
       "    '19': {'no': 123, 'yes': 4877},\n",
       "    '2': {'all_credits_paid_back': 769,\n",
       "     'credits_paid_to_date': 1490,\n",
       "     'no_credits': 117,\n",
       "     'outstanding_credit': 938,\n",
       "     'prior_payments_delayed': 1686},\n",
       "    '3': {'appliances': 561,\n",
       "     'business': 146,\n",
       "     'car_new': 945,\n",
       "     'car_used': 808,\n",
       "     'education': 167,\n",
       "     'furniture': 853,\n",
       "     'other': 113,\n",
       "     'radio_tv': 755,\n",
       "     'repairs': 283,\n",
       "     'retraining': 164,\n",
       "     'vacation': 205},\n",
       "    '5': {'100_to_500': 1133,\n",
       "     '500_to_1000': 1078,\n",
       "     'greater_1000': 558,\n",
       "     'less_100': 1856,\n",
       "     'unknown': 375},\n",
       "    '6': {'1_to_4': 1470,\n",
       "     '4_to_7': 1400,\n",
       "     'greater_7': 930,\n",
       "     'less_1': 904,\n",
       "     'unemployed': 296},\n",
       "    '8': {'female': 1896, 'male': 3104},\n",
       "    '9': {'co-applicant': 717, 'guarantor': 110, 'none': 4173}},\n",
       "   'class_labels': ['No Risk', 'Risk'],\n",
       "   'd_bins': {'1': [13.0, 21.0, 29.0],\n",
       "    '10': [2.0, 3.0, 4.0],\n",
       "    '12': [28.0, 36.0, 44.0],\n",
       "    '15': [1.0, 1.0, 2.0],\n",
       "    '17': [1.0, 1.0, 1.0],\n",
       "    '4': [1326.75, 3238.5, 5355.0],\n",
       "    '7': [2.0, 3.0, 4.0]},\n",
       "   'd_maxs': {'1': [13.0, 21.0, 29.0, 64],\n",
       "    '10': [2.0, 3.0, 4.0, 6],\n",
       "    '12': [28.0, 36.0, 44.0, 74],\n",
       "    '15': [1.0, 2.0, 4],\n",
       "    '17': [1.0, 2],\n",
       "    '4': [1326.75, 3238.5, 5355.0, 11676],\n",
       "    '7': [2.0, 3.0, 4.0, 6]},\n",
       "   'd_means': {'1': [7.876363636363636,\n",
       "     17.343856655290104,\n",
       "     25.615767634854773,\n",
       "     36.010416666666664],\n",
       "    '10': [1.6606574761399788, 3.0, 4.0, 5.008403361344538],\n",
       "    '12': [22.81831610044313,\n",
       "     32.60750586395621,\n",
       "     40.36829268292683,\n",
       "     50.49076517150396],\n",
       "    '15': [1.0, 2.0, 3.005714285714286],\n",
       "    '17': [1.0, 2.0],\n",
       "    '4': [480.6648, 2291.952, 4282.900079936051, 6867.1305044035225],\n",
       "    '7': [1.6991202346041057, 3.0, 4.0, 5.039735099337748]},\n",
       "   'd_mins': {'1': [4, 13.0, 21.0, 29.0],\n",
       "    '10': [1, 2.0, 3.0, 4.0],\n",
       "    '12': [19, 28.0, 36.0, 44.0],\n",
       "    '15': [1, 1.0, 2.0],\n",
       "    '17': [1, 1.0],\n",
       "    '4': [250, 1326.75, 3238.5, 5355.0],\n",
       "    '7': [1, 2.0, 3.0, 4.0]},\n",
       "   'd_stds': {'1': [3.277136423855652,\n",
       "     2.3104647243135257,\n",
       "     2.2016780501487694,\n",
       "     5.480360081360561],\n",
       "    '10': [0.4734861934310266, 1e-11, 1e-11, 0.09128386968395145],\n",
       "    '12': [3.3320991295514313,\n",
       "     2.2814080024457186,\n",
       "     2.2498714352952085,\n",
       "     4.849734375521442],\n",
       "    '15': [1e-11, 1e-11, 0.0753766054858451],\n",
       "    '17': [1e-11, 1e-11],\n",
       "    '4': [341.97517167327516,\n",
       "     542.3014505752415,\n",
       "     614.7408612958544,\n",
       "     1206.6756003938751],\n",
       "    '7': [0.4586405260990112, 1e-11, 1e-11, 0.1953361748941403]},\n",
       "   'feature_columns': ['CheckingStatus',\n",
       "    'LoanDuration',\n",
       "    'CreditHistory',\n",
       "    'LoanPurpose',\n",
       "    'LoanAmount',\n",
       "    'ExistingSavings',\n",
       "    'EmploymentDuration',\n",
       "    'InstallmentPercent',\n",
       "    'Sex',\n",
       "    'OthersOnLoan',\n",
       "    'CurrentResidenceDuration',\n",
       "    'OwnsProperty',\n",
       "    'Age',\n",
       "    'InstallmentPlans',\n",
       "    'Housing',\n",
       "    'ExistingCreditsCount',\n",
       "    'Job',\n",
       "    'Dependents',\n",
       "    'Telephone',\n",
       "    'ForeignWorker'],\n",
       "   'feature_frequencies': {'0': [1304, 305, 1398, 1993],\n",
       "    '1': [1375, 1172, 1205, 1248],\n",
       "    '10': [1886, 1677, 1080, 357],\n",
       "    '11': [1540, 1087, 1660, 713],\n",
       "    '12': [1354, 1279, 1230, 1137],\n",
       "    '13': [466, 3517, 1017],\n",
       "    '14': [739, 3195, 1066],\n",
       "    '15': [2847, 1978, 175],\n",
       "    '16': [641, 3400, 286, 673],\n",
       "    '17': [4177, 823],\n",
       "    '18': [2941, 2059],\n",
       "    '19': [123, 4877],\n",
       "    '2': [769, 1490, 117, 938, 1686],\n",
       "    '3': [561, 146, 945, 808, 167, 853, 113, 755, 283, 164, 205],\n",
       "    '4': [1250, 1250, 1251, 1249],\n",
       "    '5': [1133, 1078, 558, 1856, 375],\n",
       "    '6': [1470, 1400, 930, 904, 296],\n",
       "    '7': [1705, 1636, 1206, 453],\n",
       "    '8': [1896, 3104],\n",
       "    '9': [717, 110, 4173]},\n",
       "   'feature_values': {'0': [0, 1, 2, 3],\n",
       "    '1': [0, 1, 2, 3],\n",
       "    '10': [0, 1, 2, 3],\n",
       "    '11': [0, 1, 2, 3],\n",
       "    '12': [0, 1, 2, 3],\n",
       "    '13': [0, 1, 2],\n",
       "    '14': [0, 1, 2],\n",
       "    '15': [0, 1, 2],\n",
       "    '16': [0, 1, 2, 3],\n",
       "    '17': [0, 1],\n",
       "    '18': [0, 1],\n",
       "    '19': [0, 1],\n",
       "    '2': [0, 1, 2, 3, 4],\n",
       "    '3': [0, 1, 2, 3, 4, 5, 6, 7, 8, 9, 10],\n",
       "    '4': [0, 1, 2, 3],\n",
       "    '5': [0, 1, 2, 3, 4],\n",
       "    '6': [0, 1, 2, 3, 4],\n",
       "    '7': [0, 1, 2, 3],\n",
       "    '8': [0, 1],\n",
       "    '9': [0, 1, 2]},\n",
       "   'maxs': {'1': 64, '10': 6, '12': 74, '15': 4, '17': 2, '4': 11676, '7': 6},\n",
       "   'mins': {'1': 4, '10': 1, '12': 19, '15': 1, '17': 1, '4': 250, '7': 1},\n",
       "   'stds': {'1': 11.161727061705102,\n",
       "    '10': 1.1155905879846781,\n",
       "    '12': 10.647470602917858,\n",
       "    '15': 0.565358611856227,\n",
       "    '17': 0.3708191472942033,\n",
       "    '4': 2487.983946968911,\n",
       "    '7': 1.126982803772977}}}}"
      ]
     },
     "execution_count": 63,
     "metadata": {},
     "output_type": "execute_result"
    }
   ],
   "source": [
    "subscription.explainability.get_details()"
   ]
  },
  {
   "cell_type": "markdown",
   "metadata": {},
   "source": [
    "## Run fairness monitor"
   ]
  },
  {
   "cell_type": "markdown",
   "metadata": {},
   "source": [
    "Kick off a fairness monitor run on current data. Depending on how fast the monitor runs, the table may not contain the most recent results."
   ]
  },
  {
   "cell_type": "code",
   "execution_count": 64,
   "metadata": {
    "scrolled": true
   },
   "outputs": [],
   "source": [
    "run_details = subscription.fairness_monitoring.run()"
   ]
  },
  {
   "cell_type": "code",
   "execution_count": 65,
   "metadata": {
    "scrolled": true
   },
   "outputs": [
    {
     "data": {
      "text/html": [
       "<HTML>\n",
       "        <body>\n",
       "            <h3>FairnessMetrics (binding_id=4a7f62cc-f564-4144-8af4-b9f53533d2cf, subscription_id=beb08b92-539b-4f64-bc9b-4d9a66fca5eb)</h3>\n",
       "            <table style='border: 1px solid #dddddd; font-family: Courier'>\n",
       "                <th style='border: 1px solid #dddddd'>ts</th><th style='border: 1px solid #dddddd'>feature</th><th style='border: 1px solid #dddddd'>feature_value</th><th style='border: 1px solid #dddddd'>fairness_biased</th><th style='border: 1px solid #dddddd'>fairness_value</th><th style='border: 1px solid #dddddd'>fairness_fav_class</th><th style='border: 1px solid #dddddd'>binding_id</th><th style='border: 1px solid #dddddd'>subscription_id</th><th style='border: 1px solid #dddddd'>asset_revision</th><th style='border: 1px solid #dddddd'>deployment_id</th><th style='border: 1px solid #dddddd'>process</th>\n",
       "                <tr><td style='border: 1px solid #dddddd'>2019-07-15 14:04:31.042507+00:00</td><td style='border: 1px solid #dddddd'>Sex</td><td style='border: 1px solid #dddddd'>female</td><td style='border: 1px solid #dddddd'>True</td><td style='border: 1px solid #dddddd'>0.939</td><td style='border: 1px solid #dddddd'>72.39999999999999</td><td style='border: 1px solid #dddddd'>4a7f62cc-f564-4144-8af4-b9f53533d2cf</td><td style='border: 1px solid #dddddd'>beb08b92-539b-4f64-bc9b-4d9a66fca5eb</td><td style='border: 1px solid #dddddd'>beb08b92-539b-4f64-bc9b-4d9a66fca5eb</td><td style='border: 1px solid #dddddd'>4a85b4f0-8c32-4a6c-8e4a-518e95a224dc</td><td style='border: 1px solid #dddddd'></td></tr><tr><td style='border: 1px solid #dddddd'>2019-07-15 14:04:31.042507+00:00</td><td style='border: 1px solid #dddddd'>Age</td><td style='border: 1px solid #dddddd'>[18, 25]</td><td style='border: 1px solid #dddddd'>False</td><td style='border: 1px solid #dddddd'>1.009</td><td style='border: 1px solid #dddddd'>81.14254021075983</td><td style='border: 1px solid #dddddd'>4a7f62cc-f564-4144-8af4-b9f53533d2cf</td><td style='border: 1px solid #dddddd'>beb08b92-539b-4f64-bc9b-4d9a66fca5eb</td><td style='border: 1px solid #dddddd'>beb08b92-539b-4f64-bc9b-4d9a66fca5eb</td><td style='border: 1px solid #dddddd'>4a85b4f0-8c32-4a6c-8e4a-518e95a224dc</td><td style='border: 1px solid #dddddd'></td></tr><tr><td style='border: 1px solid #dddddd'>2019-07-15 13:11:51+00:00</td><td style='border: 1px solid #dddddd'>Sex</td><td style='border: 1px solid #dddddd'>female</td><td style='border: 1px solid #dddddd'>True</td><td style='border: 1px solid #dddddd'>0.905</td><td style='border: 1px solid #dddddd'>71.5</td><td style='border: 1px solid #dddddd'>4a7f62cc-f564-4144-8af4-b9f53533d2cf</td><td style='border: 1px solid #dddddd'>beb08b92-539b-4f64-bc9b-4d9a66fca5eb</td><td style='border: 1px solid #dddddd'>beb08b92-539b-4f64-bc9b-4d9a66fca5eb</td><td style='border: 1px solid #dddddd'>4a85b4f0-8c32-4a6c-8e4a-518e95a224dc</td><td style='border: 1px solid #dddddd'></td></tr><tr><td style='border: 1px solid #dddddd'>2019-07-15 13:11:51+00:00</td><td style='border: 1px solid #dddddd'>Age</td><td style='border: 1px solid #dddddd'>[18, 25]</td><td style='border: 1px solid #dddddd'>False</td><td style='border: 1px solid #dddddd'>1.024</td><td style='border: 1px solid #dddddd'>81.91780821917808</td><td style='border: 1px solid #dddddd'>4a7f62cc-f564-4144-8af4-b9f53533d2cf</td><td style='border: 1px solid #dddddd'>beb08b92-539b-4f64-bc9b-4d9a66fca5eb</td><td style='border: 1px solid #dddddd'>beb08b92-539b-4f64-bc9b-4d9a66fca5eb</td><td style='border: 1px solid #dddddd'>4a85b4f0-8c32-4a6c-8e4a-518e95a224dc</td><td style='border: 1px solid #dddddd'></td></tr><tr><td style='border: 1px solid #dddddd'>2019-07-15 14:13:46.815328+00:00</td><td style='border: 1px solid #dddddd'>Sex</td><td style='border: 1px solid #dddddd'>female</td><td style='border: 1px solid #dddddd'>True</td><td style='border: 1px solid #dddddd'>0.939</td><td style='border: 1px solid #dddddd'>72.39999999999999</td><td style='border: 1px solid #dddddd'>4a7f62cc-f564-4144-8af4-b9f53533d2cf</td><td style='border: 1px solid #dddddd'>beb08b92-539b-4f64-bc9b-4d9a66fca5eb</td><td style='border: 1px solid #dddddd'>beb08b92-539b-4f64-bc9b-4d9a66fca5eb</td><td style='border: 1px solid #dddddd'>4a85b4f0-8c32-4a6c-8e4a-518e95a224dc</td><td style='border: 1px solid #dddddd'></td></tr><tr><td style='border: 1px solid #dddddd'>2019-07-15 14:13:46.815328+00:00</td><td style='border: 1px solid #dddddd'>Age</td><td style='border: 1px solid #dddddd'>[18, 25]</td><td style='border: 1px solid #dddddd'>False</td><td style='border: 1px solid #dddddd'>1.009</td><td style='border: 1px solid #dddddd'>81.14254021075983</td><td style='border: 1px solid #dddddd'>4a7f62cc-f564-4144-8af4-b9f53533d2cf</td><td style='border: 1px solid #dddddd'>beb08b92-539b-4f64-bc9b-4d9a66fca5eb</td><td style='border: 1px solid #dddddd'>beb08b92-539b-4f64-bc9b-4d9a66fca5eb</td><td style='border: 1px solid #dddddd'>4a85b4f0-8c32-4a6c-8e4a-518e95a224dc</td><td style='border: 1px solid #dddddd'></td></tr>\n",
       "            </table>\n",
       "        </body>\n",
       "        </HTML>"
      ],
      "text/plain": [
       "<IPython.core.display.HTML object>"
      ]
     },
     "metadata": {},
     "output_type": "display_data"
    }
   ],
   "source": [
    "subscription.fairness_monitoring.show_table()"
   ]
  },
  {
   "cell_type": "markdown",
   "metadata": {},
   "source": [
    "## Additional data to help debugging\n",
    "You will use the `Deployment` to configure the OpenScale dashboard."
   ]
  },
  {
   "cell_type": "code",
   "execution_count": 66,
   "metadata": {
    "scrolled": true
   },
   "outputs": [
    {
     "name": "stdout",
     "output_type": "stream",
     "text": [
      "Datamart: f94e20cb-aa92-4636-97ce-08de6b714d02\n",
      "Model: beb08b92-539b-4f64-bc9b-4d9a66fca5eb\n",
      "Deployment: 4a85b4f0-8c32-4a6c-8e4a-518e95a224dc\n",
      "Binding: 4a7f62cc-f564-4144-8af4-b9f53533d2cf\n",
      "Scoring URL: https://us-south.ml.cloud.ibm.com/v3/wml_instances/4a7f62cc-f564-4144-8af4-b9f53533d2cf/deployments/4a85b4f0-8c32-4a6c-8e4a-518e95a224dc/online\n"
     ]
    }
   ],
   "source": [
    "print('Datamart:', data_mart_id)\n",
    "print('Model:', model_uid)\n",
    "print('Deployment:', deployment_uid)\n",
    "print('Binding:', binding_uid)\n",
    "print('Scoring URL:', credit_risk_scoring_endpoint)"
   ]
  },
  {
   "cell_type": "markdown",
   "metadata": {},
   "source": [
    "## Identify transactions for Explainability"
   ]
  },
  {
   "cell_type": "markdown",
   "metadata": {},
   "source": [
    "Transaction IDs identified by the cells below can be copied and pasted into the Explainability tab of the OpenScale dashboard."
   ]
  },
  {
   "cell_type": "code",
   "execution_count": 67,
   "metadata": {},
   "outputs": [
    {
     "data": {
      "text/html": [
       "<div>\n",
       "<style scoped>\n",
       "    .dataframe tbody tr th:only-of-type {\n",
       "        vertical-align: middle;\n",
       "    }\n",
       "\n",
       "    .dataframe tbody tr th {\n",
       "        vertical-align: top;\n",
       "    }\n",
       "\n",
       "    .dataframe thead th {\n",
       "        text-align: right;\n",
       "    }\n",
       "</style>\n",
       "<table border=\"1\" class=\"dataframe\">\n",
       "  <thead>\n",
       "    <tr style=\"text-align: right;\">\n",
       "      <th></th>\n",
       "      <th>scoring_id</th>\n",
       "      <th>predictedLabel</th>\n",
       "      <th>probability</th>\n",
       "    </tr>\n",
       "  </thead>\n",
       "  <tbody>\n",
       "    <tr>\n",
       "      <th>0</th>\n",
       "      <td>a2a9cb72a4844ddb660517346a5fb324-147</td>\n",
       "      <td>No Risk</td>\n",
       "      <td>[0.5721343729571183, 0.42786562704288167]</td>\n",
       "    </tr>\n",
       "    <tr>\n",
       "      <th>1</th>\n",
       "      <td>a2a9cb72a4844ddb660517346a5fb324-15</td>\n",
       "      <td>No Risk</td>\n",
       "      <td>[0.8282887344648013, 0.17171126553519858]</td>\n",
       "    </tr>\n",
       "    <tr>\n",
       "      <th>2</th>\n",
       "      <td>a2a9cb72a4844ddb660517346a5fb324-145</td>\n",
       "      <td>No Risk</td>\n",
       "      <td>[0.9742761602752253, 0.025723839724774676]</td>\n",
       "    </tr>\n",
       "    <tr>\n",
       "      <th>3</th>\n",
       "      <td>a2a9cb72a4844ddb660517346a5fb324-146</td>\n",
       "      <td>No Risk</td>\n",
       "      <td>[0.9161490576266011, 0.0838509423733989]</td>\n",
       "    </tr>\n",
       "    <tr>\n",
       "      <th>4</th>\n",
       "      <td>a2a9cb72a4844ddb660517346a5fb324-142</td>\n",
       "      <td>No Risk</td>\n",
       "      <td>[0.5720981401352222, 0.42790185986477774]</td>\n",
       "    </tr>\n",
       "    <tr>\n",
       "      <th>5</th>\n",
       "      <td>a2a9cb72a4844ddb660517346a5fb324-149</td>\n",
       "      <td>No Risk</td>\n",
       "      <td>[0.8076678507764837, 0.19233214922351632]</td>\n",
       "    </tr>\n",
       "    <tr>\n",
       "      <th>6</th>\n",
       "      <td>a2a9cb72a4844ddb660517346a5fb324-107</td>\n",
       "      <td>No Risk</td>\n",
       "      <td>[0.8829788779349246, 0.11702112206507542]</td>\n",
       "    </tr>\n",
       "    <tr>\n",
       "      <th>7</th>\n",
       "      <td>a2a9cb72a4844ddb660517346a5fb324-144</td>\n",
       "      <td>Risk</td>\n",
       "      <td>[0.4024325230660108, 0.5975674769339892]</td>\n",
       "    </tr>\n",
       "    <tr>\n",
       "      <th>8</th>\n",
       "      <td>a2a9cb72a4844ddb660517346a5fb324-113</td>\n",
       "      <td>Risk</td>\n",
       "      <td>[0.1429770198640783, 0.8570229801359217]</td>\n",
       "    </tr>\n",
       "    <tr>\n",
       "      <th>9</th>\n",
       "      <td>a2a9cb72a4844ddb660517346a5fb324-12</td>\n",
       "      <td>Risk</td>\n",
       "      <td>[0.19237036798228052, 0.8076296320177194]</td>\n",
       "    </tr>\n",
       "    <tr>\n",
       "      <th>10</th>\n",
       "      <td>a2a9cb72a4844ddb660517346a5fb324-127</td>\n",
       "      <td>Risk</td>\n",
       "      <td>[0.4091407027839301, 0.5908592972160698]</td>\n",
       "    </tr>\n",
       "    <tr>\n",
       "      <th>11</th>\n",
       "      <td>a2a9cb72a4844ddb660517346a5fb324-133</td>\n",
       "      <td>No Risk</td>\n",
       "      <td>[0.9292002552658041, 0.07079974473419588]</td>\n",
       "    </tr>\n",
       "    <tr>\n",
       "      <th>12</th>\n",
       "      <td>a2a9cb72a4844ddb660517346a5fb324-141</td>\n",
       "      <td>No Risk</td>\n",
       "      <td>[0.6887457833276622, 0.31125421667233766]</td>\n",
       "    </tr>\n",
       "    <tr>\n",
       "      <th>13</th>\n",
       "      <td>a2a9cb72a4844ddb660517346a5fb324-148</td>\n",
       "      <td>No Risk</td>\n",
       "      <td>[0.5151930205841014, 0.48480697941589845]</td>\n",
       "    </tr>\n",
       "    <tr>\n",
       "      <th>14</th>\n",
       "      <td>a2a9cb72a4844ddb660517346a5fb324-102</td>\n",
       "      <td>No Risk</td>\n",
       "      <td>[0.7479844272669421, 0.25201557273305786]</td>\n",
       "    </tr>\n",
       "    <tr>\n",
       "      <th>15</th>\n",
       "      <td>a2a9cb72a4844ddb660517346a5fb324-101</td>\n",
       "      <td>Risk</td>\n",
       "      <td>[0.36649048214695734, 0.6335095178530427]</td>\n",
       "    </tr>\n",
       "    <tr>\n",
       "      <th>16</th>\n",
       "      <td>a2a9cb72a4844ddb660517346a5fb324-120</td>\n",
       "      <td>No Risk</td>\n",
       "      <td>[0.789425934126085, 0.21057406587391495]</td>\n",
       "    </tr>\n",
       "    <tr>\n",
       "      <th>17</th>\n",
       "      <td>a2a9cb72a4844ddb660517346a5fb324-143</td>\n",
       "      <td>No Risk</td>\n",
       "      <td>[0.7955941113195484, 0.20440588868045162]</td>\n",
       "    </tr>\n",
       "    <tr>\n",
       "      <th>18</th>\n",
       "      <td>a2a9cb72a4844ddb660517346a5fb324-11</td>\n",
       "      <td>No Risk</td>\n",
       "      <td>[0.6443780673261309, 0.35562193267386905]</td>\n",
       "    </tr>\n",
       "    <tr>\n",
       "      <th>19</th>\n",
       "      <td>a2a9cb72a4844ddb660517346a5fb324-112</td>\n",
       "      <td>No Risk</td>\n",
       "      <td>[0.8975013859082589, 0.10249861409174107]</td>\n",
       "    </tr>\n",
       "    <tr>\n",
       "      <th>20</th>\n",
       "      <td>a2a9cb72a4844ddb660517346a5fb324-116</td>\n",
       "      <td>No Risk</td>\n",
       "      <td>[0.524027005054712, 0.475972994945288]</td>\n",
       "    </tr>\n",
       "    <tr>\n",
       "      <th>21</th>\n",
       "      <td>a2a9cb72a4844ddb660517346a5fb324-119</td>\n",
       "      <td>Risk</td>\n",
       "      <td>[0.14843082022156456, 0.8515691797784355]</td>\n",
       "    </tr>\n",
       "    <tr>\n",
       "      <th>22</th>\n",
       "      <td>a2a9cb72a4844ddb660517346a5fb324-123</td>\n",
       "      <td>Risk</td>\n",
       "      <td>[0.27515807342949405, 0.724841926570506]</td>\n",
       "    </tr>\n",
       "    <tr>\n",
       "      <th>23</th>\n",
       "      <td>a2a9cb72a4844ddb660517346a5fb324-126</td>\n",
       "      <td>Risk</td>\n",
       "      <td>[0.07329756893446675, 0.9267024310655332]</td>\n",
       "    </tr>\n",
       "    <tr>\n",
       "      <th>24</th>\n",
       "      <td>a2a9cb72a4844ddb660517346a5fb324-13</td>\n",
       "      <td>No Risk</td>\n",
       "      <td>[0.8202019179995693, 0.17979808200043074]</td>\n",
       "    </tr>\n",
       "    <tr>\n",
       "      <th>25</th>\n",
       "      <td>a2a9cb72a4844ddb660517346a5fb324-132</td>\n",
       "      <td>No Risk</td>\n",
       "      <td>[0.7693778504842641, 0.23062214951573592]</td>\n",
       "    </tr>\n",
       "    <tr>\n",
       "      <th>26</th>\n",
       "      <td>a2a9cb72a4844ddb660517346a5fb324-139</td>\n",
       "      <td>No Risk</td>\n",
       "      <td>[0.9076750908265272, 0.0923249091734728]</td>\n",
       "    </tr>\n",
       "    <tr>\n",
       "      <th>27</th>\n",
       "      <td>a2a9cb72a4844ddb660517346a5fb324-138</td>\n",
       "      <td>No Risk</td>\n",
       "      <td>[0.9260643219165576, 0.07393567808344245]</td>\n",
       "    </tr>\n",
       "    <tr>\n",
       "      <th>28</th>\n",
       "      <td>a2a9cb72a4844ddb660517346a5fb324-14</td>\n",
       "      <td>No Risk</td>\n",
       "      <td>[0.69210219561234, 0.30789780438766]</td>\n",
       "    </tr>\n",
       "    <tr>\n",
       "      <th>29</th>\n",
       "      <td>a2a9cb72a4844ddb660517346a5fb324-140</td>\n",
       "      <td>No Risk</td>\n",
       "      <td>[0.936024493614409, 0.06397550638559106]</td>\n",
       "    </tr>\n",
       "    <tr>\n",
       "      <th>30</th>\n",
       "      <td>a2a9cb72a4844ddb660517346a5fb324-10</td>\n",
       "      <td>No Risk</td>\n",
       "      <td>[0.7609857195026436, 0.23901428049735637]</td>\n",
       "    </tr>\n",
       "    <tr>\n",
       "      <th>31</th>\n",
       "      <td>a2a9cb72a4844ddb660517346a5fb324-1</td>\n",
       "      <td>No Risk</td>\n",
       "      <td>[0.9662239338960543, 0.03377606610394564]</td>\n",
       "    </tr>\n",
       "    <tr>\n",
       "      <th>32</th>\n",
       "      <td>a2a9cb72a4844ddb660517346a5fb324-100</td>\n",
       "      <td>Risk</td>\n",
       "      <td>[0.10757519405810845, 0.8924248059418914]</td>\n",
       "    </tr>\n",
       "    <tr>\n",
       "      <th>33</th>\n",
       "      <td>a2a9cb72a4844ddb660517346a5fb324-1000</td>\n",
       "      <td>No Risk</td>\n",
       "      <td>[0.7348032365485742, 0.26519676345142584]</td>\n",
       "    </tr>\n",
       "    <tr>\n",
       "      <th>34</th>\n",
       "      <td>a2a9cb72a4844ddb660517346a5fb324-103</td>\n",
       "      <td>No Risk</td>\n",
       "      <td>[0.9539227224289126, 0.0460772775710873]</td>\n",
       "    </tr>\n",
       "    <tr>\n",
       "      <th>35</th>\n",
       "      <td>a2a9cb72a4844ddb660517346a5fb324-106</td>\n",
       "      <td>No Risk</td>\n",
       "      <td>[0.9683041132788818, 0.03169588672111834]</td>\n",
       "    </tr>\n",
       "    <tr>\n",
       "      <th>36</th>\n",
       "      <td>a2a9cb72a4844ddb660517346a5fb324-105</td>\n",
       "      <td>No Risk</td>\n",
       "      <td>[0.9403027112446829, 0.05969728875531716]</td>\n",
       "    </tr>\n",
       "    <tr>\n",
       "      <th>37</th>\n",
       "      <td>a2a9cb72a4844ddb660517346a5fb324-104</td>\n",
       "      <td>No Risk</td>\n",
       "      <td>[0.9211133521964964, 0.07888664780350359]</td>\n",
       "    </tr>\n",
       "    <tr>\n",
       "      <th>38</th>\n",
       "      <td>a2a9cb72a4844ddb660517346a5fb324-108</td>\n",
       "      <td>No Risk</td>\n",
       "      <td>[0.6374668546975635, 0.3625331453024365]</td>\n",
       "    </tr>\n",
       "    <tr>\n",
       "      <th>39</th>\n",
       "      <td>a2a9cb72a4844ddb660517346a5fb324-109</td>\n",
       "      <td>No Risk</td>\n",
       "      <td>[0.6674615510160529, 0.3325384489839471]</td>\n",
       "    </tr>\n",
       "    <tr>\n",
       "      <th>40</th>\n",
       "      <td>a2a9cb72a4844ddb660517346a5fb324-110</td>\n",
       "      <td>No Risk</td>\n",
       "      <td>[0.5456671422488517, 0.4543328577511483]</td>\n",
       "    </tr>\n",
       "    <tr>\n",
       "      <th>41</th>\n",
       "      <td>a2a9cb72a4844ddb660517346a5fb324-111</td>\n",
       "      <td>Risk</td>\n",
       "      <td>[0.46458452498330355, 0.5354154750166965]</td>\n",
       "    </tr>\n",
       "    <tr>\n",
       "      <th>42</th>\n",
       "      <td>a2a9cb72a4844ddb660517346a5fb324-114</td>\n",
       "      <td>No Risk</td>\n",
       "      <td>[0.5139225036116629, 0.4860774963883371]</td>\n",
       "    </tr>\n",
       "    <tr>\n",
       "      <th>43</th>\n",
       "      <td>a2a9cb72a4844ddb660517346a5fb324-115</td>\n",
       "      <td>No Risk</td>\n",
       "      <td>[0.6617773967099498, 0.33822260329005005]</td>\n",
       "    </tr>\n",
       "    <tr>\n",
       "      <th>44</th>\n",
       "      <td>a2a9cb72a4844ddb660517346a5fb324-117</td>\n",
       "      <td>No Risk</td>\n",
       "      <td>[0.9730976429182387, 0.026902357081761193]</td>\n",
       "    </tr>\n",
       "    <tr>\n",
       "      <th>45</th>\n",
       "      <td>a2a9cb72a4844ddb660517346a5fb324-118</td>\n",
       "      <td>No Risk</td>\n",
       "      <td>[0.9688317448987422, 0.031168255101257803]</td>\n",
       "    </tr>\n",
       "    <tr>\n",
       "      <th>46</th>\n",
       "      <td>a2a9cb72a4844ddb660517346a5fb324-121</td>\n",
       "      <td>No Risk</td>\n",
       "      <td>[0.8534985939681319, 0.1465014060318681]</td>\n",
       "    </tr>\n",
       "    <tr>\n",
       "      <th>47</th>\n",
       "      <td>a2a9cb72a4844ddb660517346a5fb324-122</td>\n",
       "      <td>No Risk</td>\n",
       "      <td>[0.6464033641843272, 0.3535966358156729]</td>\n",
       "    </tr>\n",
       "    <tr>\n",
       "      <th>48</th>\n",
       "      <td>a2a9cb72a4844ddb660517346a5fb324-124</td>\n",
       "      <td>No Risk</td>\n",
       "      <td>[0.8773677520577869, 0.12263224794221303]</td>\n",
       "    </tr>\n",
       "    <tr>\n",
       "      <th>49</th>\n",
       "      <td>a2a9cb72a4844ddb660517346a5fb324-125</td>\n",
       "      <td>No Risk</td>\n",
       "      <td>[0.6604452958134907, 0.3395547041865094]</td>\n",
       "    </tr>\n",
       "    <tr>\n",
       "      <th>50</th>\n",
       "      <td>a2a9cb72a4844ddb660517346a5fb324-128</td>\n",
       "      <td>No Risk</td>\n",
       "      <td>[0.5808380703353052, 0.4191619296646948]</td>\n",
       "    </tr>\n",
       "    <tr>\n",
       "      <th>51</th>\n",
       "      <td>a2a9cb72a4844ddb660517346a5fb324-129</td>\n",
       "      <td>No Risk</td>\n",
       "      <td>[0.8372730472659514, 0.16272695273404858]</td>\n",
       "    </tr>\n",
       "    <tr>\n",
       "      <th>52</th>\n",
       "      <td>a2a9cb72a4844ddb660517346a5fb324-130</td>\n",
       "      <td>No Risk</td>\n",
       "      <td>[0.5921405615208728, 0.40785943847912726]</td>\n",
       "    </tr>\n",
       "    <tr>\n",
       "      <th>53</th>\n",
       "      <td>a2a9cb72a4844ddb660517346a5fb324-131</td>\n",
       "      <td>No Risk</td>\n",
       "      <td>[0.790262120730269, 0.209737879269731]</td>\n",
       "    </tr>\n",
       "    <tr>\n",
       "      <th>54</th>\n",
       "      <td>a2a9cb72a4844ddb660517346a5fb324-134</td>\n",
       "      <td>No Risk</td>\n",
       "      <td>[0.5590450529642086, 0.4409549470357915]</td>\n",
       "    </tr>\n",
       "    <tr>\n",
       "      <th>55</th>\n",
       "      <td>a2a9cb72a4844ddb660517346a5fb324-135</td>\n",
       "      <td>No Risk</td>\n",
       "      <td>[0.683490413134337, 0.3165095868656631]</td>\n",
       "    </tr>\n",
       "    <tr>\n",
       "      <th>56</th>\n",
       "      <td>a2a9cb72a4844ddb660517346a5fb324-136</td>\n",
       "      <td>Risk</td>\n",
       "      <td>[0.07329756893446675, 0.9267024310655332]</td>\n",
       "    </tr>\n",
       "    <tr>\n",
       "      <th>57</th>\n",
       "      <td>a2a9cb72a4844ddb660517346a5fb324-137</td>\n",
       "      <td>No Risk</td>\n",
       "      <td>[0.9540882592857489, 0.045911740714251144]</td>\n",
       "    </tr>\n",
       "    <tr>\n",
       "      <th>58</th>\n",
       "      <td>a2a9cb72a4844ddb660517346a5fb324-151</td>\n",
       "      <td>No Risk</td>\n",
       "      <td>[0.8614960693998907, 0.13850393060010932]</td>\n",
       "    </tr>\n",
       "    <tr>\n",
       "      <th>59</th>\n",
       "      <td>a2a9cb72a4844ddb660517346a5fb324-150</td>\n",
       "      <td>No Risk</td>\n",
       "      <td>[0.8553388138873839, 0.1446611861126162]</td>\n",
       "    </tr>\n",
       "  </tbody>\n",
       "</table>\n",
       "</div>"
      ],
      "text/plain": [
       "                               scoring_id predictedLabel  \\\n",
       "0    a2a9cb72a4844ddb660517346a5fb324-147        No Risk   \n",
       "1     a2a9cb72a4844ddb660517346a5fb324-15        No Risk   \n",
       "2    a2a9cb72a4844ddb660517346a5fb324-145        No Risk   \n",
       "3    a2a9cb72a4844ddb660517346a5fb324-146        No Risk   \n",
       "4    a2a9cb72a4844ddb660517346a5fb324-142        No Risk   \n",
       "5    a2a9cb72a4844ddb660517346a5fb324-149        No Risk   \n",
       "6    a2a9cb72a4844ddb660517346a5fb324-107        No Risk   \n",
       "7    a2a9cb72a4844ddb660517346a5fb324-144           Risk   \n",
       "8    a2a9cb72a4844ddb660517346a5fb324-113           Risk   \n",
       "9     a2a9cb72a4844ddb660517346a5fb324-12           Risk   \n",
       "10   a2a9cb72a4844ddb660517346a5fb324-127           Risk   \n",
       "11   a2a9cb72a4844ddb660517346a5fb324-133        No Risk   \n",
       "12   a2a9cb72a4844ddb660517346a5fb324-141        No Risk   \n",
       "13   a2a9cb72a4844ddb660517346a5fb324-148        No Risk   \n",
       "14   a2a9cb72a4844ddb660517346a5fb324-102        No Risk   \n",
       "15   a2a9cb72a4844ddb660517346a5fb324-101           Risk   \n",
       "16   a2a9cb72a4844ddb660517346a5fb324-120        No Risk   \n",
       "17   a2a9cb72a4844ddb660517346a5fb324-143        No Risk   \n",
       "18    a2a9cb72a4844ddb660517346a5fb324-11        No Risk   \n",
       "19   a2a9cb72a4844ddb660517346a5fb324-112        No Risk   \n",
       "20   a2a9cb72a4844ddb660517346a5fb324-116        No Risk   \n",
       "21   a2a9cb72a4844ddb660517346a5fb324-119           Risk   \n",
       "22   a2a9cb72a4844ddb660517346a5fb324-123           Risk   \n",
       "23   a2a9cb72a4844ddb660517346a5fb324-126           Risk   \n",
       "24    a2a9cb72a4844ddb660517346a5fb324-13        No Risk   \n",
       "25   a2a9cb72a4844ddb660517346a5fb324-132        No Risk   \n",
       "26   a2a9cb72a4844ddb660517346a5fb324-139        No Risk   \n",
       "27   a2a9cb72a4844ddb660517346a5fb324-138        No Risk   \n",
       "28    a2a9cb72a4844ddb660517346a5fb324-14        No Risk   \n",
       "29   a2a9cb72a4844ddb660517346a5fb324-140        No Risk   \n",
       "30    a2a9cb72a4844ddb660517346a5fb324-10        No Risk   \n",
       "31     a2a9cb72a4844ddb660517346a5fb324-1        No Risk   \n",
       "32   a2a9cb72a4844ddb660517346a5fb324-100           Risk   \n",
       "33  a2a9cb72a4844ddb660517346a5fb324-1000        No Risk   \n",
       "34   a2a9cb72a4844ddb660517346a5fb324-103        No Risk   \n",
       "35   a2a9cb72a4844ddb660517346a5fb324-106        No Risk   \n",
       "36   a2a9cb72a4844ddb660517346a5fb324-105        No Risk   \n",
       "37   a2a9cb72a4844ddb660517346a5fb324-104        No Risk   \n",
       "38   a2a9cb72a4844ddb660517346a5fb324-108        No Risk   \n",
       "39   a2a9cb72a4844ddb660517346a5fb324-109        No Risk   \n",
       "40   a2a9cb72a4844ddb660517346a5fb324-110        No Risk   \n",
       "41   a2a9cb72a4844ddb660517346a5fb324-111           Risk   \n",
       "42   a2a9cb72a4844ddb660517346a5fb324-114        No Risk   \n",
       "43   a2a9cb72a4844ddb660517346a5fb324-115        No Risk   \n",
       "44   a2a9cb72a4844ddb660517346a5fb324-117        No Risk   \n",
       "45   a2a9cb72a4844ddb660517346a5fb324-118        No Risk   \n",
       "46   a2a9cb72a4844ddb660517346a5fb324-121        No Risk   \n",
       "47   a2a9cb72a4844ddb660517346a5fb324-122        No Risk   \n",
       "48   a2a9cb72a4844ddb660517346a5fb324-124        No Risk   \n",
       "49   a2a9cb72a4844ddb660517346a5fb324-125        No Risk   \n",
       "50   a2a9cb72a4844ddb660517346a5fb324-128        No Risk   \n",
       "51   a2a9cb72a4844ddb660517346a5fb324-129        No Risk   \n",
       "52   a2a9cb72a4844ddb660517346a5fb324-130        No Risk   \n",
       "53   a2a9cb72a4844ddb660517346a5fb324-131        No Risk   \n",
       "54   a2a9cb72a4844ddb660517346a5fb324-134        No Risk   \n",
       "55   a2a9cb72a4844ddb660517346a5fb324-135        No Risk   \n",
       "56   a2a9cb72a4844ddb660517346a5fb324-136           Risk   \n",
       "57   a2a9cb72a4844ddb660517346a5fb324-137        No Risk   \n",
       "58   a2a9cb72a4844ddb660517346a5fb324-151        No Risk   \n",
       "59   a2a9cb72a4844ddb660517346a5fb324-150        No Risk   \n",
       "\n",
       "                                   probability  \n",
       "0    [0.5721343729571183, 0.42786562704288167]  \n",
       "1    [0.8282887344648013, 0.17171126553519858]  \n",
       "2   [0.9742761602752253, 0.025723839724774676]  \n",
       "3     [0.9161490576266011, 0.0838509423733989]  \n",
       "4    [0.5720981401352222, 0.42790185986477774]  \n",
       "5    [0.8076678507764837, 0.19233214922351632]  \n",
       "6    [0.8829788779349246, 0.11702112206507542]  \n",
       "7     [0.4024325230660108, 0.5975674769339892]  \n",
       "8     [0.1429770198640783, 0.8570229801359217]  \n",
       "9    [0.19237036798228052, 0.8076296320177194]  \n",
       "10    [0.4091407027839301, 0.5908592972160698]  \n",
       "11   [0.9292002552658041, 0.07079974473419588]  \n",
       "12   [0.6887457833276622, 0.31125421667233766]  \n",
       "13   [0.5151930205841014, 0.48480697941589845]  \n",
       "14   [0.7479844272669421, 0.25201557273305786]  \n",
       "15   [0.36649048214695734, 0.6335095178530427]  \n",
       "16    [0.789425934126085, 0.21057406587391495]  \n",
       "17   [0.7955941113195484, 0.20440588868045162]  \n",
       "18   [0.6443780673261309, 0.35562193267386905]  \n",
       "19   [0.8975013859082589, 0.10249861409174107]  \n",
       "20      [0.524027005054712, 0.475972994945288]  \n",
       "21   [0.14843082022156456, 0.8515691797784355]  \n",
       "22    [0.27515807342949405, 0.724841926570506]  \n",
       "23   [0.07329756893446675, 0.9267024310655332]  \n",
       "24   [0.8202019179995693, 0.17979808200043074]  \n",
       "25   [0.7693778504842641, 0.23062214951573592]  \n",
       "26    [0.9076750908265272, 0.0923249091734728]  \n",
       "27   [0.9260643219165576, 0.07393567808344245]  \n",
       "28        [0.69210219561234, 0.30789780438766]  \n",
       "29    [0.936024493614409, 0.06397550638559106]  \n",
       "30   [0.7609857195026436, 0.23901428049735637]  \n",
       "31   [0.9662239338960543, 0.03377606610394564]  \n",
       "32   [0.10757519405810845, 0.8924248059418914]  \n",
       "33   [0.7348032365485742, 0.26519676345142584]  \n",
       "34    [0.9539227224289126, 0.0460772775710873]  \n",
       "35   [0.9683041132788818, 0.03169588672111834]  \n",
       "36   [0.9403027112446829, 0.05969728875531716]  \n",
       "37   [0.9211133521964964, 0.07888664780350359]  \n",
       "38    [0.6374668546975635, 0.3625331453024365]  \n",
       "39    [0.6674615510160529, 0.3325384489839471]  \n",
       "40    [0.5456671422488517, 0.4543328577511483]  \n",
       "41   [0.46458452498330355, 0.5354154750166965]  \n",
       "42    [0.5139225036116629, 0.4860774963883371]  \n",
       "43   [0.6617773967099498, 0.33822260329005005]  \n",
       "44  [0.9730976429182387, 0.026902357081761193]  \n",
       "45  [0.9688317448987422, 0.031168255101257803]  \n",
       "46    [0.8534985939681319, 0.1465014060318681]  \n",
       "47    [0.6464033641843272, 0.3535966358156729]  \n",
       "48   [0.8773677520577869, 0.12263224794221303]  \n",
       "49    [0.6604452958134907, 0.3395547041865094]  \n",
       "50    [0.5808380703353052, 0.4191619296646948]  \n",
       "51   [0.8372730472659514, 0.16272695273404858]  \n",
       "52   [0.5921405615208728, 0.40785943847912726]  \n",
       "53      [0.790262120730269, 0.209737879269731]  \n",
       "54    [0.5590450529642086, 0.4409549470357915]  \n",
       "55     [0.683490413134337, 0.3165095868656631]  \n",
       "56   [0.07329756893446675, 0.9267024310655332]  \n",
       "57  [0.9540882592857489, 0.045911740714251144]  \n",
       "58   [0.8614960693998907, 0.13850393060010932]  \n",
       "59    [0.8553388138873839, 0.1446611861126162]  "
      ]
     },
     "execution_count": 67,
     "metadata": {},
     "output_type": "execute_result"
    }
   ],
   "source": [
    "payload_data = subscription.payload_logging.get_table_content(limit=60)\n",
    "payload_data.filter(items=['scoring_id', 'predictedLabel', 'probability'])"
   ]
  },
  {
   "cell_type": "markdown",
   "metadata": {},
   "source": [
    "## Congratulations!\n",
    "\n",
    "You have finished the hands-on lab for IBM Watson OpenScale. You can now view the [OpenScale Dashboard](https://aiopenscale.cloud.ibm.com/). Click on the tile for the German Credit model to see fairness, accuracy, and performance monitors. Click on the timeseries graph to get detailed information on transactions during a specific time window.\n",
    "\n",
    "## Next steps\n",
    "\n",
    "OpenScale shows model performance over time. You have two options to keep data flowing to your OpenScale graphs:\n",
    "  * Download, configure and schedule the [model feed notebook](https://raw.githubusercontent.com/emartensibm/german-credit/master/german_credit_scoring_feed.ipynb). This notebook can be set up with your WML credentials, and scheduled to provide a consistent flow of scoring requests to your model, which will appear in your OpenScale monitors.\n",
    "  * Re-run this notebook. Running this notebook from the beginning will delete and re-create the model and deployment, and re-create the historical data. Please note that the payload and measurement logs for the previous deployment will continue to be stored in your datamart, and cal be deleted if necessary."
   ]
  }
 ],
 "metadata": {
  "kernelspec": {
   "display_name": "Python 3.5 with Spark",
   "language": "python3",
   "name": "python3"
  },
  "language_info": {
   "codemirror_mode": {
    "name": "ipython",
    "version": 3
   },
   "file_extension": ".py",
   "mimetype": "text/x-python",
   "name": "python",
   "nbconvert_exporter": "python",
   "pygments_lexer": "ipython3",
   "version": "3.5.4"
  }
 },
 "nbformat": 4,
 "nbformat_minor": 1
}
