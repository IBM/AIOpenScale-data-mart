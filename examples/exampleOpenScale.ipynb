{
 "cells": [
  {
   "cell_type": "markdown",
   "metadata": {},
   "source": [
    "# IBM Watson OpenScale Lab instructions\n",
    "\n",
    "This notebook should be run in a Watson Studio project, using with **Python 3.5 with Spark** runtime environment. **If you are viewing this in Watson Studio and do not see Python 3.5 with Spark in the upper right corner of your screen, please update the runtime now.** It requires service credentials for the following Cloud services:\n",
    "  * IBM Watson OpenScale\n",
    "  * Watson Machine Learning\n",
    "  \n",
    "If you have a paid Cloud account, you may also provision a **Databases for PostgreSQL** or **Db2 Warehouse** service to take full advantage of integration with Watson Studio and continuous learning services. If you choose not to provision this paid service, you can use the free internal PostgreSQL storage with OpenScale, but will not be able to configure continuous learning for your model.\n",
    "\n",
    "The notebook will train, create and deploy a German Credit Risk model, configure OpenScale to monitor that deployment, and inject seven days' worth of historical records and measurements for viewing in the OpenScale Insights dashboard."
   ]
  },
  {
   "cell_type": "markdown",
   "metadata": {
    "collapsed": true
   },
   "source": [
    "# Package installation"
   ]
  },
  {
   "cell_type": "code",
   "execution_count": 2,
   "metadata": {
    "scrolled": true
   },
   "outputs": [
    {
     "name": "stdout",
     "output_type": "stream",
     "text": [
      "\u001b[31mnotebook 5.0.0 requires nbconvert, which is not installed.\u001b[0m\n",
      "\u001b[31mipywidgets 6.0.0 requires widgetsnbextension~=2.0.0, which is not installed.\u001b[0m\n",
      "\u001b[31mtensorflow 1.3.0 requires tensorflow-tensorboard<0.2.0,>=0.1.0, which is not installed.\u001b[0m\n",
      "Requirement already satisfied: psycopg2-binary in /gpfs/global_fs01/sym_shared/YPProdSpark/user/s49d-fa6eebe94d4691-2ef1a5e3ed71/.local/lib/python3.5/site-packages (2.7.7)\n",
      "\u001b[31mnotebook 5.0.0 requires nbconvert, which is not installed.\u001b[0m\n",
      "\u001b[31mipywidgets 6.0.0 requires widgetsnbextension~=2.0.0, which is not installed.\u001b[0m\n",
      "\u001b[31mtensorflow 1.3.0 requires tensorflow-tensorboard<0.2.0,>=0.1.0, which is not installed.\u001b[0m\n",
      "Requirement not upgraded as not directly required: jmespath<1.0.0,>=0.7.1 in /usr/local/src/conda3_runtime.v51/home/envs/DSX-Python35-Spark/lib/python3.5/site-packages (from ibm-cos-sdk-core==2.*,>=2.0.0->ibm-cos-sdk->watson-machine-learning-client) (0.9.3)\n",
      "\u001b[31mnotebook 5.0.0 requires nbconvert, which is not installed.\u001b[0m\n",
      "\u001b[31mipywidgets 6.0.0 requires widgetsnbextension~=2.0.0, which is not installed.\u001b[0m\n",
      "\u001b[31mtensorflow 1.3.0 requires tensorflow-tensorboard<0.2.0,>=0.1.0, which is not installed.\u001b[0m\n",
      "Requirement already satisfied: jmespath<1.0.0,>=0.7.1 in /usr/local/src/conda3_runtime.v51/home/envs/DSX-Python35-Spark/lib/python3.5/site-packages (from ibm-cos-sdk-core==2.*,>=2.0.0->ibm-cos-sdk->watson-machine-learning-client->ibm-ai-openscale==2.1.1) (0.9.3)\n",
      "\u001b[31mnotebook 5.0.0 requires nbconvert, which is not installed.\u001b[0m\n",
      "\u001b[31mipywidgets 6.0.0 requires widgetsnbextension~=2.0.0, which is not installed.\u001b[0m\n",
      "\u001b[31mtensorflow 1.3.0 requires tensorflow-tensorboard<0.2.0,>=0.1.0, which is not installed.\u001b[0m\n",
      "Requirement already up-to-date: numpy in /gpfs/global_fs01/sym_shared/YPProdSpark/user/s49d-fa6eebe94d4691-2ef1a5e3ed71/.local/lib/python3.5/site-packages (1.16.2)\n",
      "\u001b[31mException:\n",
      "Traceback (most recent call last):\n",
      "  File \"/usr/local/src/conda3_runtime/home/envs/DSX-Python35-Spark/lib/python3.5/site-packages/pip/_internal/basecommand.py\", line 228, in main\n",
      "    status = self.run(options, args)\n",
      "  File \"/usr/local/src/conda3_runtime/home/envs/DSX-Python35-Spark/lib/python3.5/site-packages/pip/_internal/commands/install.py\", line 291, in run\n",
      "    resolver.resolve(requirement_set)\n",
      "  File \"/usr/local/src/conda3_runtime/home/envs/DSX-Python35-Spark/lib/python3.5/site-packages/pip/_internal/resolve.py\", line 103, in resolve\n",
      "    self._resolve_one(requirement_set, req)\n",
      "  File \"/usr/local/src/conda3_runtime/home/envs/DSX-Python35-Spark/lib/python3.5/site-packages/pip/_internal/resolve.py\", line 262, in _resolve_one\n",
      "    check_dist_requires_python(dist)\n",
      "  File \"/usr/local/src/conda3_runtime/home/envs/DSX-Python35-Spark/lib/python3.5/site-packages/pip/_internal/utils/packaging.py\", line 46, in check_dist_requires_python\n",
      "    feed_parser.feed(metadata)\n",
      "  File \"/usr/local/src/conda3_runtime/home/envs/DSX-Python35-Spark/lib/python3.5/email/feedparser.py\", line 178, in feed\n",
      "    self._input.push(data)\n",
      "  File \"/usr/local/src/conda3_runtime/home/envs/DSX-Python35-Spark/lib/python3.5/email/feedparser.py\", line 104, in push\n",
      "    self._partial.write(data)\n",
      "TypeError: string argument expected, got 'NoneType'\u001b[0m\n",
      "Requirement already up-to-date: lime in /gpfs/global_fs01/sym_shared/YPProdSpark/user/s49d-fa6eebe94d4691-2ef1a5e3ed71/.local/lib/python3.5/site-packages (0.1.1.33)\n",
      "\u001b[31mnotebook 5.0.0 requires nbconvert, which is not installed.\u001b[0m\n",
      "\u001b[31mipywidgets 6.0.0 requires widgetsnbextension~=2.0.0, which is not installed.\u001b[0m\n",
      "\u001b[31mtensorflow 1.3.0 requires tensorflow-tensorboard<0.2.0,>=0.1.0, which is not installed.\u001b[0m\n",
      "Requirement not upgraded as not directly required: numpy>=1.8.2 in /gpfs/global_fs01/sym_shared/YPProdSpark/user/s49d-fa6eebe94d4691-2ef1a5e3ed71/.local/lib/python3.5/site-packages (from SciPy) (1.16.2)\n"
     ]
    }
   ],
   "source": [
    "!rm -rf $PIP_BUILD\n",
    "!pip install psycopg2-binary | tail -n 1\n",
    "!pip install --upgrade watson-machine-learning-client --no-cache | tail -n 1\n",
    "!pip install ibm-ai-openscale==2.1.1 --no-cache | tail -n 1\n",
    "!pip install --upgrade numpy --no-cache | tail -n 1\n",
    "!pip install --upgrade lime --no-cache | tail -n 1\n",
    "!pip install --upgrade SciPy --no-cache | tail -n 1"
   ]
  },
  {
   "cell_type": "markdown",
   "metadata": {},
   "source": [
    "# Provision services and configure credentials"
   ]
  },
  {
   "cell_type": "markdown",
   "metadata": {},
   "source": [
    "If you have not already, provision an instance of IBM Watson OpenScale using the [OpenScale link in the Cloud catalog](https://cloud.ibm.com/catalog/services/watson-openscale)."
   ]
  },
  {
   "cell_type": "markdown",
   "metadata": {},
   "source": [
    "Your Cloud API key can be generated by going to the [**Users** section of the Cloud console](https://cloud.ibm.com/iam#/users).  \n",
    "* From that page, click your name, scroll down to the **API Keys** section, and click **Create an IBM Cloud API key**. \n",
    "* Give your key a name and click **Create**, then copy the created key and paste it below.\n",
    "\n",
    "Alternately, from the [IBM Cloud CLI](https://console.bluemix.net/docs/cli/reference/ibmcloud/download_cli.html#install_use) :\n",
    "\n",
    "```bash\n",
    "ibmcloud login --sso\n",
    "ibmcloud iam api-key-create 'my_key'\n",
    "```"
   ]
  },
  {
   "cell_type": "code",
   "execution_count": 3,
   "metadata": {
    "scrolled": true
   },
   "outputs": [],
   "source": [
    "CLOUD_API_KEY = \"*****\""
   ]
  },
  {
   "cell_type": "markdown",
   "metadata": {},
   "source": [
    "Get the Watson OpenScale GUID using the [IBM Cloud CLI](https://console.bluemix.net/docs/cli/reference/ibmcloud/download_cli.html#install_use) :\n",
    "\n",
    "```bash\n",
    "ibmcloud resource service-instance <Watson_OpenScale_instance_name>\n",
    "```"
   ]
  },
  {
   "cell_type": "code",
   "execution_count": 4,
   "metadata": {},
   "outputs": [],
   "source": [
    "AIOS_GUID = \"*****\""
   ]
  },
  {
   "cell_type": "code",
   "execution_count": 5,
   "metadata": {},
   "outputs": [],
   "source": [
    "AIOS_CREDENTIALS = {\n",
    "    \"instance_guid\": AIOS_GUID,\n",
    "    \"apikey\": CLOUD_API_KEY,\n",
    "    \"url\": \"https://api.aiopenscale.cloud.ibm.com\"\n",
    "}"
   ]
  },
  {
   "cell_type": "markdown",
   "metadata": {},
   "source": [
    "Next you will need credentials for Watson Machine Learning. If you already have a WML instance, you may use credentials for it. To provision a new Lite instance of WML, use the [IBM Cloud catalog](https://cloud.ibm.com/catalog/services/machine-learning):  \n",
    "* Give your service a name, and click **Create**.  \n",
    "* Once your instance is created, click the **Service Credentials** link on the left side of the screen.  \n",
    "* Click the **New credential** button, give your credentials a name, and click **Add**.  \n",
    "* Your new credentials can be accessed by clicking the **View credentials** button.  \n",
    "* Copy and paste your WML credentials into the cell below."
   ]
  },
  {
   "cell_type": "code",
   "execution_count": 6,
   "metadata": {
    "scrolled": true
   },
   "outputs": [],
   "source": [
    "WML_CREDENTIALS = {\n",
    "  \"apikey\": \"kjfkdjfkdjfkdjkdjfkdjfkdfj\",\n",
    "  \"iam_apikey_description\": \"Auto generated apikey during resource-key operation for Instance - crn:v1:bluemix:public:pm-20:us-south:a/fkjkfdkfjkdjkdjfkdjfkdfjdkfabb::\",\n",
    "  \"iam_apikey_name\": \"auto-generated-apikey-kdjfkjdkdjf99938493893e3\",\n",
    "  \"iam_role_crn\": \"crn:v1:bluemix:public:iam::::serviceRole:Writer\",\n",
    "  \"iam_serviceid_crn\": \"crn:v1:bluemix:public:iam-identity::a/kdfjkdjfkdjfkd9ee42::serviceid:ServiceId-kjfkdejfkdjfkdjfkdjfd54\",\n",
    "  \"instance_id\": \"kfjkdjfkdjfdkfjde66abb\",\n",
    "  \"password\": \"kdfjkdfjkdjfkdjf21e0\",\n",
    "  \"url\": \"https://us-south.ml.cloud.ibm.com\",\n",
    "  \"username\": \"kejfkdjfkdjfkdfjdkjfe3\"\n",
    "}\n"
   ]
  },
  {
   "cell_type": "markdown",
   "metadata": {},
   "source": [
    "This lab can use Databases for PostgreSQL, Db2 Warehouse, or a free internal verison of PostgreSQL to create a datamart for OpenScale.\n",
    "\n",
    "**If you have previously configured OpenScale**, it will use your existing datamart, and not interfere with any models you are currently monitoring. **Do not update the cell below**.\n",
    "\n",
    "**If you do not have a paid Cloud account or would prefer not to provision this paid service**, you may use the free internal PostgreSQL service with OpenScale. **Do not update the cell below**.\n",
    "\n",
    "**To provision a new instance of Db2 Warehouse**:  \n",
    "* Locate [Db2 Warehouse in the Cloud catalog](https://cloud.ibm.com/catalog/services/db2-warehouse)  \n",
    "* Give your service a name, and click **Create**.  \n",
    "* Once your instance is created, click the **Service Credentials** link on the left side of the screen.  \n",
    "* Click the **New credential** button, give your credentials a name, and click **Add**.  \n",
    "* Your new credentials can be accessed by clicking the **View credentials** button.  \n",
    "* Copy and paste your Db2 Warehouse credentials into the cell below.\n",
    "\n",
    "**To provision a new instance of Databases for PostgreSQL**:\n",
    "* Locate [Databases for PostgreSQL in the Cloud catalog](*https://cloud.ibm.com/catalog/services/databases-for-postgresql)  \n",
    "* Give your service a name, and click **Create**.  \n",
    "* Once your instance is created, click the **Service Credentials** link on the left side of the screen.  \n",
    "* Click the **New credential** button, give your credentials a name, and click **Add**.  \n",
    "* Your new credentials can be accessed by clicking the **View credentials** button.  \n",
    "* Copy and paste your Databases for PostgreSQL credentials into the cell below."
   ]
  },
  {
   "cell_type": "code",
   "execution_count": 28,
   "metadata": {
    "scrolled": true
   },
   "outputs": [],
   "source": [
    "DB_CREDENTIALS = {\n",
    "  \"hostname\": \"***\",\n",
    "  \"password\": \"***\",\n",
    "  \"https_url\": \"***\",\n",
    "  \"port\": 50000,\n",
    "  \"ssldsn\": \"***\",\n",
    "  \"host\": \"***\",\n",
    "  \"jdbcurl\": \"***\",\n",
    "  \"uri\": \"***\",\n",
    "  \"db\": \"***\",\n",
    "  \"dsn\": \"****\",\n",
    "  \"username\": \"***\",\n",
    "  \"ssljdbcurl\": \"****\"\n",
    "}"
   ]
  },
  {
   "cell_type": "markdown",
   "metadata": {},
   "source": [
    "__If you previously configured OpenScale to use the free internal version of PostgreSQL, you can switch to a new datamart using a paid database service.__ If you would like to delete the internal PostgreSQL configuration and create a new one using service credentials supplied in the cell above, set the __KEEP_MY_INTERNAL_POSTGRES__ variable below to __False__ below. In this case, the notebook will remove your existing internal PostgreSQL datamart and create a new one with the supplied credentials. __*NO DATA MIGRATION WILL OCCUR.*__"
   ]
  },
  {
   "cell_type": "code",
   "execution_count": 7,
   "metadata": {},
   "outputs": [],
   "source": [
    "KEEP_MY_INTERNAL_POSTGRES = True"
   ]
  },
  {
   "cell_type": "markdown",
   "metadata": {},
   "source": [
    "# Run the notebook\n",
    "\n",
    "At this point, the notebook is ready to run. You can either run the cells one at a time, or click the **Kernel** option above and select **Restart and Run All** to run all the cells."
   ]
  },
  {
   "cell_type": "markdown",
   "metadata": {},
   "source": [
    "# Load and explore data"
   ]
  },
  {
   "cell_type": "markdown",
   "metadata": {},
   "source": [
    "## Load the training data from github"
   ]
  },
  {
   "cell_type": "code",
   "execution_count": 7,
   "metadata": {
    "scrolled": true
   },
   "outputs": [
    {
     "name": "stdout",
     "output_type": "stream",
     "text": [
      "--2019-03-18 14:33:51--  https://raw.githubusercontent.com/IBM/monitor-wml-model-with-watson-openscale/master/data/german_credit_data_biased_training.csv\n",
      "Resolving raw.githubusercontent.com (raw.githubusercontent.com)... 151.101.48.133\n",
      "Connecting to raw.githubusercontent.com (raw.githubusercontent.com)|151.101.48.133|:443... connected.\n",
      "HTTP request sent, awaiting response... 200 OK\n",
      "Length: 689622 (673K) [text/plain]\n",
      "Saving to: ‘german_credit_data_biased_training.csv’\n",
      "\n",
      "100%[======================================>] 689,622     --.-K/s   in 0.03s   \n",
      "\n",
      "2019-03-18 14:33:51 (22.3 MB/s) - ‘german_credit_data_biased_training.csv’ saved [689622/689622]\n",
      "\n"
     ]
    }
   ],
   "source": [
    "!rm german_credit_data_biased_training.csv\n",
    "!wget https://raw.githubusercontent.com/IBM/monitor-wml-model-with-watson-openscale/master/data/german_credit_data_biased_training.csv"
   ]
  },
  {
   "cell_type": "code",
   "execution_count": 8,
   "metadata": {
    "scrolled": true
   },
   "outputs": [
    {
     "data": {
      "text/plain": [
       "Row(CheckingStatus='0_to_200', LoanDuration=31, CreditHistory='credits_paid_to_date', LoanPurpose='other', LoanAmount=1889, ExistingSavings='100_to_500', EmploymentDuration='less_1', InstallmentPercent=3, Sex='female', OthersOnLoan='none', CurrentResidenceDuration=3, OwnsProperty='savings_insurance', Age=32, InstallmentPlans='none', Housing='own', ExistingCreditsCount=1, Job='skilled', Dependents=1, Telephone='none', ForeignWorker='yes', Risk='No Risk')"
      ]
     },
     "execution_count": 8,
     "metadata": {},
     "output_type": "execute_result"
    }
   ],
   "source": [
    "from pyspark.sql import SparkSession\n",
    "import pandas as pd\n",
    "import json\n",
    "\n",
    "spark = SparkSession.builder.getOrCreate()\n",
    "pd_data = pd.read_csv(\"german_credit_data_biased_training.csv\", sep=\",\", header=0)\n",
    "df_data = spark.read.csv(path=\"german_credit_data_biased_training.csv\", sep=\",\", header=True, inferSchema=True)\n",
    "df_data.head()"
   ]
  },
  {
   "cell_type": "markdown",
   "metadata": {},
   "source": [
    "## Explore data"
   ]
  },
  {
   "cell_type": "code",
   "execution_count": 9,
   "metadata": {
    "scrolled": true
   },
   "outputs": [
    {
     "name": "stdout",
     "output_type": "stream",
     "text": [
      "root\n",
      " |-- CheckingStatus: string (nullable = true)\n",
      " |-- LoanDuration: integer (nullable = true)\n",
      " |-- CreditHistory: string (nullable = true)\n",
      " |-- LoanPurpose: string (nullable = true)\n",
      " |-- LoanAmount: integer (nullable = true)\n",
      " |-- ExistingSavings: string (nullable = true)\n",
      " |-- EmploymentDuration: string (nullable = true)\n",
      " |-- InstallmentPercent: integer (nullable = true)\n",
      " |-- Sex: string (nullable = true)\n",
      " |-- OthersOnLoan: string (nullable = true)\n",
      " |-- CurrentResidenceDuration: integer (nullable = true)\n",
      " |-- OwnsProperty: string (nullable = true)\n",
      " |-- Age: integer (nullable = true)\n",
      " |-- InstallmentPlans: string (nullable = true)\n",
      " |-- Housing: string (nullable = true)\n",
      " |-- ExistingCreditsCount: integer (nullable = true)\n",
      " |-- Job: string (nullable = true)\n",
      " |-- Dependents: integer (nullable = true)\n",
      " |-- Telephone: string (nullable = true)\n",
      " |-- ForeignWorker: string (nullable = true)\n",
      " |-- Risk: string (nullable = true)\n",
      "\n"
     ]
    }
   ],
   "source": [
    "df_data.printSchema()"
   ]
  },
  {
   "cell_type": "code",
   "execution_count": 10,
   "metadata": {
    "scrolled": true
   },
   "outputs": [
    {
     "name": "stdout",
     "output_type": "stream",
     "text": [
      "Number of records: 5000\n"
     ]
    }
   ],
   "source": [
    "print(\"Number of records: \" + str(df_data.count()))"
   ]
  },
  {
   "cell_type": "markdown",
   "metadata": {},
   "source": [
    "# Create a model"
   ]
  },
  {
   "cell_type": "code",
   "execution_count": 15,
   "metadata": {
    "scrolled": true
   },
   "outputs": [
    {
     "name": "stdout",
     "output_type": "stream",
     "text": [
      "Number of records for training: 4016\n",
      "Number of records for evaluation: 984\n",
      "root\n",
      " |-- CheckingStatus: string (nullable = true)\n",
      " |-- LoanDuration: integer (nullable = true)\n",
      " |-- CreditHistory: string (nullable = true)\n",
      " |-- LoanPurpose: string (nullable = true)\n",
      " |-- LoanAmount: integer (nullable = true)\n",
      " |-- ExistingSavings: string (nullable = true)\n",
      " |-- EmploymentDuration: string (nullable = true)\n",
      " |-- InstallmentPercent: integer (nullable = true)\n",
      " |-- Sex: string (nullable = true)\n",
      " |-- OthersOnLoan: string (nullable = true)\n",
      " |-- CurrentResidenceDuration: integer (nullable = true)\n",
      " |-- OwnsProperty: string (nullable = true)\n",
      " |-- Age: integer (nullable = true)\n",
      " |-- InstallmentPlans: string (nullable = true)\n",
      " |-- Housing: string (nullable = true)\n",
      " |-- ExistingCreditsCount: integer (nullable = true)\n",
      " |-- Job: string (nullable = true)\n",
      " |-- Dependents: integer (nullable = true)\n",
      " |-- Telephone: string (nullable = true)\n",
      " |-- ForeignWorker: string (nullable = true)\n",
      " |-- Risk: string (nullable = true)\n",
      "\n"
     ]
    }
   ],
   "source": [
    "spark_df = df_data\n",
    "(train_data, test_data) = spark_df.randomSplit([0.8, 0.2], 24)\n",
    "\n",
    "MODEL_NAME = \"Spark German Risk Model - Final\"\n",
    "DEPLOYMENT_NAME = \"Spark German Risk Deployment - Final\"\n",
    "\n",
    "print(\"Number of records for training: \" + str(train_data.count()))\n",
    "print(\"Number of records for evaluation: \" + str(test_data.count()))\n",
    "\n",
    "spark_df.printSchema()"
   ]
  },
  {
   "cell_type": "code",
   "execution_count": 16,
   "metadata": {
    "scrolled": true
   },
   "outputs": [],
   "source": [
    "from pyspark.ml.feature import OneHotEncoder, StringIndexer, IndexToString, VectorAssembler\n",
    "from pyspark.ml.evaluation import BinaryClassificationEvaluator\n",
    "from pyspark.ml import Pipeline, Model\n",
    "\n",
    "si_CheckingStatus = StringIndexer(inputCol = 'CheckingStatus', outputCol = 'CheckingStatus_IX')\n",
    "si_CreditHistory = StringIndexer(inputCol = 'CreditHistory', outputCol = 'CreditHistory_IX')\n",
    "si_LoanPurpose = StringIndexer(inputCol = 'LoanPurpose', outputCol = 'LoanPurpose_IX')\n",
    "si_ExistingSavings = StringIndexer(inputCol = 'ExistingSavings', outputCol = 'ExistingSavings_IX')\n",
    "si_EmploymentDuration = StringIndexer(inputCol = 'EmploymentDuration', outputCol = 'EmploymentDuration_IX')\n",
    "si_Sex = StringIndexer(inputCol = 'Sex', outputCol = 'Sex_IX')\n",
    "si_OthersOnLoan = StringIndexer(inputCol = 'OthersOnLoan', outputCol = 'OthersOnLoan_IX')\n",
    "si_OwnsProperty = StringIndexer(inputCol = 'OwnsProperty', outputCol = 'OwnsProperty_IX')\n",
    "si_InstallmentPlans = StringIndexer(inputCol = 'InstallmentPlans', outputCol = 'InstallmentPlans_IX')\n",
    "si_Housing = StringIndexer(inputCol = 'Housing', outputCol = 'Housing_IX')\n",
    "si_Job = StringIndexer(inputCol = 'Job', outputCol = 'Job_IX')\n",
    "si_Telephone = StringIndexer(inputCol = 'Telephone', outputCol = 'Telephone_IX')\n",
    "si_ForeignWorker = StringIndexer(inputCol = 'ForeignWorker', outputCol = 'ForeignWorker_IX')"
   ]
  },
  {
   "cell_type": "code",
   "execution_count": 17,
   "metadata": {
    "scrolled": true
   },
   "outputs": [],
   "source": [
    "si_Label = StringIndexer(inputCol=\"Risk\", outputCol=\"label\").fit(spark_df)\n",
    "label_converter = IndexToString(inputCol=\"prediction\", outputCol=\"predictedLabel\", labels=si_Label.labels)"
   ]
  },
  {
   "cell_type": "code",
   "execution_count": 18,
   "metadata": {
    "scrolled": true
   },
   "outputs": [],
   "source": [
    "va_features = VectorAssembler(inputCols=[\"CheckingStatus_IX\", \"CreditHistory_IX\", \"LoanPurpose_IX\", \"ExistingSavings_IX\", \"EmploymentDuration_IX\", \"Sex_IX\", \\\n",
    "                                         \"OthersOnLoan_IX\", \"OwnsProperty_IX\", \"InstallmentPlans_IX\", \"Housing_IX\", \"Job_IX\", \"Telephone_IX\", \"ForeignWorker_IX\", \\\n",
    "                                         \"LoanDuration\", \"LoanAmount\", \"InstallmentPercent\", \"CurrentResidenceDuration\", \"LoanDuration\", \"Age\", \"ExistingCreditsCount\", \\\n",
    "                                         \"Dependents\"], outputCol=\"features\")"
   ]
  },
  {
   "cell_type": "code",
   "execution_count": 19,
   "metadata": {
    "scrolled": true
   },
   "outputs": [],
   "source": [
    "from pyspark.ml.classification import RandomForestClassifier\n",
    "classifier = RandomForestClassifier(featuresCol=\"features\")\n",
    "\n",
    "pipeline = Pipeline(stages=[si_CheckingStatus, si_CreditHistory, si_EmploymentDuration, si_ExistingSavings, si_ForeignWorker, si_Housing, si_InstallmentPlans, si_Job, si_LoanPurpose, si_OthersOnLoan,\\\n",
    "                               si_OwnsProperty, si_Sex, si_Telephone, si_Label, va_features, classifier, label_converter])\n",
    "model = pipeline.fit(train_data)"
   ]
  },
  {
   "cell_type": "code",
   "execution_count": 25,
   "metadata": {
    "scrolled": true
   },
   "outputs": [
    {
     "name": "stdout",
     "output_type": "stream",
     "text": [
      "areaUnderROC = 0.704369\n"
     ]
    }
   ],
   "source": [
    "predictions = model.transform(test_data)\n",
    "evaluatorDT = BinaryClassificationEvaluator(rawPredictionCol=\"prediction\")\n",
    "area_under_curve = evaluatorDT.evaluate(predictions)\n",
    "\n",
    "#default evaluation is areaUnderROC\n",
    "print(\"areaUnderROC = %g\" % area_under_curve)"
   ]
  },
  {
   "cell_type": "markdown",
   "metadata": {},
   "source": [
    "# Save and deploy the model"
   ]
  },
  {
   "cell_type": "code",
   "execution_count": 21,
   "metadata": {
    "scrolled": true
   },
   "outputs": [],
   "source": [
    "from watson_machine_learning_client import WatsonMachineLearningAPIClient\n",
    "import json\n",
    "\n",
    "wml_client = WatsonMachineLearningAPIClient(WML_CREDENTIALS)"
   ]
  },
  {
   "cell_type": "markdown",
   "metadata": {},
   "source": [
    "### Remove existing model and deployment"
   ]
  },
  {
   "cell_type": "code",
   "execution_count": 22,
   "metadata": {
    "scrolled": true
   },
   "outputs": [
    {
     "name": "stdout",
     "output_type": "stream",
     "text": [
      "Deleting deployment id 71a0bee8-a90f-4bf2-bca0-8c390e8dba67\n",
      "Deleting model id 4ca90750-43d3-4535-9052-170ce8616675\n",
      "------------------------------------  --------------  ------------------------  ---------\n",
      "GUID                                  NAME            CREATED                   FRAMEWORK\n",
      "52dc0b30-606f-40ec-b3de-f67d67acf6f9  drug-selection  2018-11-07T20:22:33.177Z  mllib-2.1\n",
      "------------------------------------  --------------  ------------------------  ---------\n"
     ]
    }
   ],
   "source": [
    "model_deployment_ids = wml_client.deployments.get_uids()\n",
    "for deployment_id in model_deployment_ids:\n",
    "    deployment = wml_client.deployments.get_details(deployment_id)\n",
    "    model_id = deployment['entity']['deployable_asset']['guid']\n",
    "    if deployment['entity']['name'] == DEPLOYMENT_NAME:\n",
    "        print('Deleting deployment id', deployment_id)\n",
    "        wml_client.deployments.delete(deployment_id)\n",
    "        print('Deleting model id', model_id)\n",
    "        wml_client.repository.delete(model_id)\n",
    "wml_client.repository.list_models()"
   ]
  },
  {
   "cell_type": "code",
   "execution_count": 26,
   "metadata": {
    "scrolled": true
   },
   "outputs": [],
   "source": [
    "model_props = {\n",
    "    wml_client.repository.ModelMetaNames.NAME: \"{}\".format(MODEL_NAME),\n",
    "    wml_client.repository.ModelMetaNames.EVALUATION_METHOD: \"binary\",\n",
    "    wml_client.repository.ModelMetaNames.EVALUATION_METRICS: [\n",
    "        {\n",
    "           \"name\": \"areaUnderROC\",\n",
    "           \"value\": area_under_curve,\n",
    "           \"threshold\": 0.7\n",
    "        }\n",
    "    ]\n",
    "}"
   ]
  },
  {
   "cell_type": "code",
   "execution_count": 27,
   "metadata": {
    "scrolled": true
   },
   "outputs": [
    {
     "name": "stdout",
     "output_type": "stream",
     "text": [
      "Storing model ...\n",
      "Done\n"
     ]
    }
   ],
   "source": [
    "wml_models = wml_client.repository.get_details()\n",
    "model_uid = None\n",
    "for model_in in wml_models['models']['resources']:\n",
    "    if MODEL_NAME == model_in['entity']['name']:\n",
    "        model_uid = model_in['metadata']['guid']\n",
    "        break\n",
    "\n",
    "if model_uid is None:\n",
    "    print(\"Storing model ...\")\n",
    "\n",
    "    published_model_details = wml_client.repository.store_model(model=model, meta_props=model_props, training_data=train_data, pipeline=pipeline)\n",
    "    model_uid = wml_client.repository.get_model_uid(published_model_details)\n",
    "    print(\"Done\")"
   ]
  },
  {
   "cell_type": "code",
   "execution_count": 28,
   "metadata": {
    "scrolled": true
   },
   "outputs": [
    {
     "data": {
      "text/plain": [
       "'b9473da0-9ae7-474a-a397-2b6ce7aa6b65'"
      ]
     },
     "execution_count": 28,
     "metadata": {},
     "output_type": "execute_result"
    }
   ],
   "source": [
    "model_uid"
   ]
  },
  {
   "cell_type": "code",
   "execution_count": 29,
   "metadata": {
    "scrolled": true
   },
   "outputs": [
    {
     "name": "stdout",
     "output_type": "stream",
     "text": [
      "Deploying model...\n",
      "\n",
      "\n",
      "#######################################################################################\n",
      "\n",
      "Synchronous deployment creation for uid: 'b9473da0-9ae7-474a-a397-2b6ce7aa6b65' started\n",
      "\n",
      "#######################################################################################\n",
      "\n",
      "\n",
      "INITIALIZING\n",
      "DEPLOY_SUCCESS\n",
      "\n",
      "\n",
      "------------------------------------------------------------------------------------------------\n",
      "Successfully finished deployment creation, deployment_uid='4d125552-83ee-456a-b1d4-3fd518743082'\n",
      "------------------------------------------------------------------------------------------------\n",
      "\n",
      "\n",
      "Model id: b9473da0-9ae7-474a-a397-2b6ce7aa6b65\n",
      "Deployment id: 4d125552-83ee-456a-b1d4-3fd518743082\n"
     ]
    }
   ],
   "source": [
    "wml_deployments = wml_client.deployments.get_details()\n",
    "deployment_uid = None\n",
    "for deployment in wml_deployments['resources']:\n",
    "    if DEPLOYMENT_NAME == deployment['entity']['name']:\n",
    "        deployment_uid = deployment['metadata']['guid']\n",
    "        break\n",
    "\n",
    "if deployment_uid is None:\n",
    "    print(\"Deploying model...\")\n",
    "\n",
    "    deployment = wml_client.deployments.create(artifact_uid=model_uid, name=DEPLOYMENT_NAME, asynchronous=False)\n",
    "    deployment_uid = wml_client.deployments.get_uid(deployment)\n",
    "    \n",
    "print(\"Model id: {}\".format(model_uid))\n",
    "print(\"Deployment id: {}\".format(deployment_uid))"
   ]
  },
  {
   "cell_type": "markdown",
   "metadata": {},
   "source": [
    "# Configure OpenScale"
   ]
  },
  {
   "cell_type": "code",
   "execution_count": 30,
   "metadata": {
    "scrolled": true
   },
   "outputs": [],
   "source": [
    "from ibm_ai_openscale import APIClient\n",
    "from ibm_ai_openscale.engines import *\n",
    "from ibm_ai_openscale.utils import *\n",
    "from ibm_ai_openscale.supporting_classes import PayloadRecord, Feature\n",
    "from ibm_ai_openscale.supporting_classes.enums import *"
   ]
  },
  {
   "cell_type": "markdown",
   "metadata": {},
   "source": [
    "## Create schema and datamart"
   ]
  },
  {
   "cell_type": "code",
   "execution_count": 31,
   "metadata": {
    "scrolled": true
   },
   "outputs": [
    {
     "data": {
      "text/plain": [
       "'2.1.1'"
      ]
     },
     "execution_count": 31,
     "metadata": {},
     "output_type": "execute_result"
    }
   ],
   "source": [
    "ai_client = APIClient(aios_credentials=AIOS_CREDENTIALS)\n",
    "ai_client.version"
   ]
  },
  {
   "cell_type": "markdown",
   "metadata": {},
   "source": [
    "#### Note: to delete an existing data_mart, uncomment the next cell and run it."
   ]
  },
  {
   "cell_type": "code",
   "execution_count": 25,
   "metadata": {},
   "outputs": [],
   "source": [
    "#ai_client.data_mart.delete()"
   ]
  },
  {
   "cell_type": "markdown",
   "metadata": {},
   "source": [
    "### Set up datamart"
   ]
  },
  {
   "cell_type": "code",
   "execution_count": 32,
   "metadata": {},
   "outputs": [
    {
     "name": "stdout",
     "output_type": "stream",
     "text": [
      "Using existing internal datamart.\n"
     ]
    }
   ],
   "source": [
    "try:\n",
    "    data_mart_details = ai_client.data_mart.get_details()\n",
    "    if 'internal_database' in data_mart_details and data_mart_details['internal_database']:\n",
    "        if KEEP_MY_INTERNAL_POSTGRES:\n",
    "            print('Using existing internal datamart.')\n",
    "        else:\n",
    "            if DB_CREDENTIALS is None:\n",
    "                print('No postgres credentials supplied. Using existing internal datamart')\n",
    "            else:\n",
    "                print('Switching to external datamart')\n",
    "                ai_client.data_mart.delete(force=True)\n",
    "                ai_client.data_mart.setup(db_credentials=DB_CREDENTIALS)\n",
    "    else:\n",
    "        print('Using existing external datamart')\n",
    "except:\n",
    "    if DB_CREDENTIALS is None:\n",
    "        print('Setting up internal datamart')\n",
    "        ai_client.data_mart.setup(internal_db=True)\n",
    "    else:\n",
    "        print('Setting up external datamart')\n",
    "        try:\n",
    "            ai_client.data_mart.setup(db_credentials=DB_CREDENTIALS)\n",
    "        except:\n",
    "            print('Setup failed, trying Db2 setup')\n",
    "            ai_client.data_mart.setup(db_credentials=DB_CREDENTIALS, schema=DB_CREDENTIALS['username'])"
   ]
  },
  {
   "cell_type": "code",
   "execution_count": 33,
   "metadata": {
    "scrolled": true
   },
   "outputs": [
    {
     "data": {
      "text/plain": [
       "{'database_configuration': {},\n",
       " 'internal_database': True,\n",
       " 'service_instance_crn': 'crn:v1:bluemix:public:aiopenscale:us-south:a/46816354d9cb773bae86c226aa74c8cc:f94e20cb-aa92-4636-97ce-08de6b714d02::',\n",
       " 'status': {'state': 'active'}}"
      ]
     },
     "execution_count": 33,
     "metadata": {},
     "output_type": "execute_result"
    }
   ],
   "source": [
    "data_mart_details = ai_client.data_mart.get_details()\n",
    "data_mart_details"
   ]
  },
  {
   "cell_type": "markdown",
   "metadata": {},
   "source": [
    "## Bind machine learning engines"
   ]
  },
  {
   "cell_type": "code",
   "execution_count": 34,
   "metadata": {
    "scrolled": false
   },
   "outputs": [
    {
     "data": {
      "text/html": [
       "<HTML>\n",
       "        <body>\n",
       "            <h3>Service bindings</h3>\n",
       "            <table style='border: 1px solid #dddddd; font-family: Courier'>\n",
       "                <th style='border: 1px solid #dddddd'>uid</th><th style='border: 1px solid #dddddd'>name</th><th style='border: 1px solid #dddddd'>service_type</th><th style='border: 1px solid #dddddd'>created</th>\n",
       "                <tr><td style='border: 1px solid #dddddd'>9e7215a4-16bb-464f-9e31-ff9270e66abb</td><td style='border: 1px solid #dddddd'>WML instance</td><td style='border: 1px solid #dddddd'>watson_machine_learning</td><td style='border: 1px solid #dddddd'>2019-03-19T14:02:36.415Z</td></tr>\n",
       "            </table>\n",
       "        </body>\n",
       "        </HTML>"
      ],
      "text/plain": [
       "<IPython.core.display.HTML object>"
      ]
     },
     "metadata": {},
     "output_type": "display_data"
    }
   ],
   "source": [
    "binding_uid = ai_client.data_mart.bindings.add('WML instance', WatsonMachineLearningInstance(WML_CREDENTIALS))\n",
    "if binding_uid is None:\n",
    "    binding_uid = ai_client.data_mart.bindings.get_details()['service_bindings'][0]['metadata']['guid']\n",
    "bindings_details = ai_client.data_mart.bindings.get_details()\n",
    "ai_client.data_mart.bindings.list()"
   ]
  },
  {
   "cell_type": "code",
   "execution_count": 35,
   "metadata": {
    "scrolled": true
   },
   "outputs": [
    {
     "name": "stdout",
     "output_type": "stream",
     "text": [
      "9e7215a4-16bb-464f-9e31-ff9270e66abb\n"
     ]
    }
   ],
   "source": [
    "print(binding_uid)"
   ]
  },
  {
   "cell_type": "code",
   "execution_count": 36,
   "metadata": {
    "scrolled": false
   },
   "outputs": [
    {
     "data": {
      "text/html": [
       "<HTML>\n",
       "        <body>\n",
       "            <h3>Available assets</h3>\n",
       "            <table style='border: 1px solid #dddddd; font-family: Courier'>\n",
       "                <th style='border: 1px solid #dddddd'>source_uid</th><th style='border: 1px solid #dddddd'>name</th><th style='border: 1px solid #dddddd'>created</th><th style='border: 1px solid #dddddd'>type</th><th style='border: 1px solid #dddddd'>frameworks</th><th style='border: 1px solid #dddddd'>binding_uid</th><th style='border: 1px solid #dddddd'>is_subscribed</th>\n",
       "                <tr><td style='border: 1px solid #dddddd'>b9473da0-9ae7-474a-a397-2b6ce7aa6b65</td><td style='border: 1px solid #dddddd'>Spark German Risk Model - Final</td><td style='border: 1px solid #dddddd'>2019-03-19T14:00:27.876Z</td><td style='border: 1px solid #dddddd'>model</td><td style='border: 1px solid #dddddd'>mllib-2.1</td><td style='border: 1px solid #dddddd'>9e7215a4-16bb-464f-9e31-ff9270e66abb</td><td style='border: 1px solid #dddddd'>False</td></tr><tr><td style='border: 1px solid #dddddd'>52dc0b30-606f-40ec-b3de-f67d67acf6f9</td><td style='border: 1px solid #dddddd'>drug-selection</td><td style='border: 1px solid #dddddd'>2018-11-07T20:22:43.078Z</td><td style='border: 1px solid #dddddd'>model</td><td style='border: 1px solid #dddddd'>mllib-2.1</td><td style='border: 1px solid #dddddd'>9e7215a4-16bb-464f-9e31-ff9270e66abb</td><td style='border: 1px solid #dddddd'>False</td></tr>\n",
       "            </table>\n",
       "        </body>\n",
       "        </HTML>"
      ],
      "text/plain": [
       "<IPython.core.display.HTML object>"
      ]
     },
     "metadata": {},
     "output_type": "display_data"
    }
   ],
   "source": [
    "ai_client.data_mart.bindings.list_assets()"
   ]
  },
  {
   "cell_type": "markdown",
   "metadata": {},
   "source": [
    "## Subscriptions"
   ]
  },
  {
   "cell_type": "markdown",
   "metadata": {},
   "source": [
    "### Remove existing credit risk subscriptions"
   ]
  },
  {
   "cell_type": "code",
   "execution_count": 37,
   "metadata": {
    "scrolled": true
   },
   "outputs": [],
   "source": [
    "subscriptions_uids = ai_client.data_mart.subscriptions.get_uids()\n",
    "for subscription in subscriptions_uids:\n",
    "    sub_name = ai_client.data_mart.subscriptions.get_details(subscription)['entity']['asset']['name']\n",
    "    if sub_name == MODEL_NAME:\n",
    "        ai_client.data_mart.subscriptions.delete(subscription)\n",
    "        print('Deleted existing subscription for', MODEL_NAME)"
   ]
  },
  {
   "cell_type": "code",
   "execution_count": 38,
   "metadata": {
    "scrolled": false
   },
   "outputs": [],
   "source": [
    "subscription = ai_client.data_mart.subscriptions.add(WatsonMachineLearningAsset(\n",
    "    model_uid,\n",
    "    problem_type=ProblemType.BINARY_CLASSIFICATION,\n",
    "    input_data_type=InputDataType.STRUCTURED,\n",
    "    label_column='Risk',\n",
    "    prediction_column='predictedLabel',\n",
    "    probability_column='probability',\n",
    "    feature_columns = [\"CheckingStatus\",\"LoanDuration\",\"CreditHistory\",\"LoanPurpose\",\"LoanAmount\",\"ExistingSavings\",\"EmploymentDuration\",\"InstallmentPercent\",\"Sex\",\"OthersOnLoan\",\"CurrentResidenceDuration\",\"OwnsProperty\",\"Age\",\"InstallmentPlans\",\"Housing\",\"ExistingCreditsCount\",\"Job\",\"Dependents\",\"Telephone\",\"ForeignWorker\"],\n",
    "    categorical_columns = [\"CheckingStatus\",\"CreditHistory\",\"LoanPurpose\",\"ExistingSavings\",\"EmploymentDuration\",\"Sex\",\"OthersOnLoan\",\"OwnsProperty\",\"InstallmentPlans\",\"Housing\",\"Job\",\"Telephone\",\"ForeignWorker\"]\n",
    "))\n",
    "\n",
    "if subscription is None:\n",
    "    print('Subscription already exists; get the existing one')\n",
    "    subscriptions_uids = ai_client.data_mart.subscriptions.get_uids()\n",
    "    for sub in subscriptions_uids:\n",
    "        if ai_client.data_mart.subscriptions.get_details(sub)['entity']['asset']['name'] == MODEL_NAME:\n",
    "            subscription = ai_client.data_mart.subscriptions.get(sub)"
   ]
  },
  {
   "cell_type": "markdown",
   "metadata": {},
   "source": [
    "Get subscription list"
   ]
  },
  {
   "cell_type": "code",
   "execution_count": 39,
   "metadata": {
    "scrolled": true
   },
   "outputs": [
    {
     "data": {
      "text/html": [
       "<HTML>\n",
       "        <body>\n",
       "            <h3>Subscriptions</h3>\n",
       "            <table style='border: 1px solid #dddddd; font-family: Courier'>\n",
       "                <th style='border: 1px solid #dddddd'>uid</th><th style='border: 1px solid #dddddd'>name</th><th style='border: 1px solid #dddddd'>type</th><th style='border: 1px solid #dddddd'>binding_uid</th><th style='border: 1px solid #dddddd'>created</th>\n",
       "                <tr><td style='border: 1px solid #dddddd'>b9473da0-9ae7-474a-a397-2b6ce7aa6b65</td><td style='border: 1px solid #dddddd'>Spark German Risk Model - Final</td><td style='border: 1px solid #dddddd'>model</td><td style='border: 1px solid #dddddd'>9e7215a4-16bb-464f-9e31-ff9270e66abb</td><td style='border: 1px solid #dddddd'>2019-03-19T14:02:56.917Z</td></tr>\n",
       "            </table>\n",
       "        </body>\n",
       "        </HTML>"
      ],
      "text/plain": [
       "<IPython.core.display.HTML object>"
      ]
     },
     "metadata": {},
     "output_type": "display_data"
    }
   ],
   "source": [
    "subscriptions_uids = ai_client.data_mart.subscriptions.get_uids()\n",
    "ai_client.data_mart.subscriptions.list()"
   ]
  },
  {
   "cell_type": "code",
   "execution_count": 40,
   "metadata": {
    "scrolled": false
   },
   "outputs": [
    {
     "data": {
      "text/plain": [
       "{'entity': {'asset': {'asset_id': 'b9473da0-9ae7-474a-a397-2b6ce7aa6b65',\n",
       "   'asset_type': 'model',\n",
       "   'created_at': '2019-03-19T14:00:27.876Z',\n",
       "   'name': 'Spark German Risk Model - Final',\n",
       "   'url': 'https://us-south.ml.cloud.ibm.com/v3/wml_instances/9e7215a4-16bb-464f-9e31-ff9270e66abb/published_models/b9473da0-9ae7-474a-a397-2b6ce7aa6b65'},\n",
       "  'asset_properties': {'categorical_fields': ['CheckingStatus',\n",
       "    'CreditHistory',\n",
       "    'LoanPurpose',\n",
       "    'ExistingSavings',\n",
       "    'EmploymentDuration',\n",
       "    'Sex',\n",
       "    'OthersOnLoan',\n",
       "    'OwnsProperty',\n",
       "    'InstallmentPlans',\n",
       "    'Housing',\n",
       "    'Job',\n",
       "    'Telephone',\n",
       "    'ForeignWorker'],\n",
       "   'feature_fields': ['CheckingStatus',\n",
       "    'LoanDuration',\n",
       "    'CreditHistory',\n",
       "    'LoanPurpose',\n",
       "    'LoanAmount',\n",
       "    'ExistingSavings',\n",
       "    'EmploymentDuration',\n",
       "    'InstallmentPercent',\n",
       "    'Sex',\n",
       "    'OthersOnLoan',\n",
       "    'CurrentResidenceDuration',\n",
       "    'OwnsProperty',\n",
       "    'Age',\n",
       "    'InstallmentPlans',\n",
       "    'Housing',\n",
       "    'ExistingCreditsCount',\n",
       "    'Job',\n",
       "    'Dependents',\n",
       "    'Telephone',\n",
       "    'ForeignWorker'],\n",
       "   'input_data_schema': {'fields': [{'metadata': {'measure': 'discrete',\n",
       "       'modeling_role': 'feature'},\n",
       "      'name': 'CheckingStatus',\n",
       "      'nullable': True,\n",
       "      'type': 'string'},\n",
       "     {'metadata': {'modeling_role': 'feature'},\n",
       "      'name': 'LoanDuration',\n",
       "      'nullable': True,\n",
       "      'type': 'integer'},\n",
       "     {'metadata': {'measure': 'discrete', 'modeling_role': 'feature'},\n",
       "      'name': 'CreditHistory',\n",
       "      'nullable': True,\n",
       "      'type': 'string'},\n",
       "     {'metadata': {'measure': 'discrete', 'modeling_role': 'feature'},\n",
       "      'name': 'LoanPurpose',\n",
       "      'nullable': True,\n",
       "      'type': 'string'},\n",
       "     {'metadata': {'modeling_role': 'feature'},\n",
       "      'name': 'LoanAmount',\n",
       "      'nullable': True,\n",
       "      'type': 'integer'},\n",
       "     {'metadata': {'measure': 'discrete', 'modeling_role': 'feature'},\n",
       "      'name': 'ExistingSavings',\n",
       "      'nullable': True,\n",
       "      'type': 'string'},\n",
       "     {'metadata': {'measure': 'discrete', 'modeling_role': 'feature'},\n",
       "      'name': 'EmploymentDuration',\n",
       "      'nullable': True,\n",
       "      'type': 'string'},\n",
       "     {'metadata': {'modeling_role': 'feature'},\n",
       "      'name': 'InstallmentPercent',\n",
       "      'nullable': True,\n",
       "      'type': 'integer'},\n",
       "     {'metadata': {'measure': 'discrete', 'modeling_role': 'feature'},\n",
       "      'name': 'Sex',\n",
       "      'nullable': True,\n",
       "      'type': 'string'},\n",
       "     {'metadata': {'measure': 'discrete', 'modeling_role': 'feature'},\n",
       "      'name': 'OthersOnLoan',\n",
       "      'nullable': True,\n",
       "      'type': 'string'},\n",
       "     {'metadata': {'modeling_role': 'feature'},\n",
       "      'name': 'CurrentResidenceDuration',\n",
       "      'nullable': True,\n",
       "      'type': 'integer'},\n",
       "     {'metadata': {'measure': 'discrete', 'modeling_role': 'feature'},\n",
       "      'name': 'OwnsProperty',\n",
       "      'nullable': True,\n",
       "      'type': 'string'},\n",
       "     {'metadata': {'modeling_role': 'feature'},\n",
       "      'name': 'Age',\n",
       "      'nullable': True,\n",
       "      'type': 'integer'},\n",
       "     {'metadata': {'measure': 'discrete', 'modeling_role': 'feature'},\n",
       "      'name': 'InstallmentPlans',\n",
       "      'nullable': True,\n",
       "      'type': 'string'},\n",
       "     {'metadata': {'measure': 'discrete', 'modeling_role': 'feature'},\n",
       "      'name': 'Housing',\n",
       "      'nullable': True,\n",
       "      'type': 'string'},\n",
       "     {'metadata': {'modeling_role': 'feature'},\n",
       "      'name': 'ExistingCreditsCount',\n",
       "      'nullable': True,\n",
       "      'type': 'integer'},\n",
       "     {'metadata': {'measure': 'discrete', 'modeling_role': 'feature'},\n",
       "      'name': 'Job',\n",
       "      'nullable': True,\n",
       "      'type': 'string'},\n",
       "     {'metadata': {'modeling_role': 'feature'},\n",
       "      'name': 'Dependents',\n",
       "      'nullable': True,\n",
       "      'type': 'integer'},\n",
       "     {'metadata': {'measure': 'discrete', 'modeling_role': 'feature'},\n",
       "      'name': 'Telephone',\n",
       "      'nullable': True,\n",
       "      'type': 'string'},\n",
       "     {'metadata': {'measure': 'discrete', 'modeling_role': 'feature'},\n",
       "      'name': 'ForeignWorker',\n",
       "      'nullable': True,\n",
       "      'type': 'string'}],\n",
       "    'type': 'struct'},\n",
       "   'input_data_type': 'structured',\n",
       "   'label_column': 'Risk',\n",
       "   'model_type': 'mllib-2.1',\n",
       "   'output_data_schema': {'fields': [{'metadata': {'measure': 'discrete',\n",
       "       'modeling_role': 'feature'},\n",
       "      'name': 'CheckingStatus',\n",
       "      'nullable': True,\n",
       "      'type': 'string'},\n",
       "     {'metadata': {'modeling_role': 'feature'},\n",
       "      'name': 'LoanDuration',\n",
       "      'nullable': True,\n",
       "      'type': 'integer'},\n",
       "     {'metadata': {'measure': 'discrete', 'modeling_role': 'feature'},\n",
       "      'name': 'CreditHistory',\n",
       "      'nullable': True,\n",
       "      'type': 'string'},\n",
       "     {'metadata': {'measure': 'discrete', 'modeling_role': 'feature'},\n",
       "      'name': 'LoanPurpose',\n",
       "      'nullable': True,\n",
       "      'type': 'string'},\n",
       "     {'metadata': {'modeling_role': 'feature'},\n",
       "      'name': 'LoanAmount',\n",
       "      'nullable': True,\n",
       "      'type': 'integer'},\n",
       "     {'metadata': {'measure': 'discrete', 'modeling_role': 'feature'},\n",
       "      'name': 'ExistingSavings',\n",
       "      'nullable': True,\n",
       "      'type': 'string'},\n",
       "     {'metadata': {'measure': 'discrete', 'modeling_role': 'feature'},\n",
       "      'name': 'EmploymentDuration',\n",
       "      'nullable': True,\n",
       "      'type': 'string'},\n",
       "     {'metadata': {'modeling_role': 'feature'},\n",
       "      'name': 'InstallmentPercent',\n",
       "      'nullable': True,\n",
       "      'type': 'integer'},\n",
       "     {'metadata': {'measure': 'discrete', 'modeling_role': 'feature'},\n",
       "      'name': 'Sex',\n",
       "      'nullable': True,\n",
       "      'type': 'string'},\n",
       "     {'metadata': {'measure': 'discrete', 'modeling_role': 'feature'},\n",
       "      'name': 'OthersOnLoan',\n",
       "      'nullable': True,\n",
       "      'type': 'string'},\n",
       "     {'metadata': {'modeling_role': 'feature'},\n",
       "      'name': 'CurrentResidenceDuration',\n",
       "      'nullable': True,\n",
       "      'type': 'integer'},\n",
       "     {'metadata': {'measure': 'discrete', 'modeling_role': 'feature'},\n",
       "      'name': 'OwnsProperty',\n",
       "      'nullable': True,\n",
       "      'type': 'string'},\n",
       "     {'metadata': {'modeling_role': 'feature'},\n",
       "      'name': 'Age',\n",
       "      'nullable': True,\n",
       "      'type': 'integer'},\n",
       "     {'metadata': {'measure': 'discrete', 'modeling_role': 'feature'},\n",
       "      'name': 'InstallmentPlans',\n",
       "      'nullable': True,\n",
       "      'type': 'string'},\n",
       "     {'metadata': {'measure': 'discrete', 'modeling_role': 'feature'},\n",
       "      'name': 'Housing',\n",
       "      'nullable': True,\n",
       "      'type': 'string'},\n",
       "     {'metadata': {'modeling_role': 'feature'},\n",
       "      'name': 'ExistingCreditsCount',\n",
       "      'nullable': True,\n",
       "      'type': 'integer'},\n",
       "     {'metadata': {'measure': 'discrete', 'modeling_role': 'feature'},\n",
       "      'name': 'Job',\n",
       "      'nullable': True,\n",
       "      'type': 'string'},\n",
       "     {'metadata': {'modeling_role': 'feature'},\n",
       "      'name': 'Dependents',\n",
       "      'nullable': True,\n",
       "      'type': 'integer'},\n",
       "     {'metadata': {'measure': 'discrete', 'modeling_role': 'feature'},\n",
       "      'name': 'Telephone',\n",
       "      'nullable': True,\n",
       "      'type': 'string'},\n",
       "     {'metadata': {'measure': 'discrete', 'modeling_role': 'feature'},\n",
       "      'name': 'ForeignWorker',\n",
       "      'nullable': True,\n",
       "      'type': 'string'},\n",
       "     {'metadata': {'modeling_role': 'prediction'},\n",
       "      'name': 'prediction',\n",
       "      'nullable': True,\n",
       "      'type': 'double'},\n",
       "     {'metadata': {'modeling_role': 'probability'},\n",
       "      'name': 'probability',\n",
       "      'nullable': True,\n",
       "      'type': {'containsNull': True,\n",
       "       'elementType': 'double',\n",
       "       'type': 'array'}},\n",
       "     {'metadata': {'modeling_role': 'debiased-prediction'},\n",
       "      'name': 'debiased_prediction',\n",
       "      'nullable': True,\n",
       "      'type': 'double'},\n",
       "     {'metadata': {'modeling_role': 'debiased-probability'},\n",
       "      'name': 'debiased_probability',\n",
       "      'nullable': True,\n",
       "      'type': {'containsNull': True,\n",
       "       'elementType': 'double',\n",
       "       'type': 'array'}}],\n",
       "    'type': 'struct'},\n",
       "   'predicted_target_field': 'predictedLabel',\n",
       "   'prediction_probability_field': 'probability',\n",
       "   'problem_type': 'binary',\n",
       "   'runtime_environment': 'spark-2.1',\n",
       "   'training_data_schema': {'fields': [{'metadata': {'measure': 'discrete',\n",
       "       'modeling_role': 'feature'},\n",
       "      'name': 'CheckingStatus',\n",
       "      'nullable': True,\n",
       "      'type': 'string'},\n",
       "     {'metadata': {'modeling_role': 'feature'},\n",
       "      'name': 'LoanDuration',\n",
       "      'nullable': True,\n",
       "      'type': 'integer'},\n",
       "     {'metadata': {'measure': 'discrete', 'modeling_role': 'feature'},\n",
       "      'name': 'CreditHistory',\n",
       "      'nullable': True,\n",
       "      'type': 'string'},\n",
       "     {'metadata': {'measure': 'discrete', 'modeling_role': 'feature'},\n",
       "      'name': 'LoanPurpose',\n",
       "      'nullable': True,\n",
       "      'type': 'string'},\n",
       "     {'metadata': {'modeling_role': 'feature'},\n",
       "      'name': 'LoanAmount',\n",
       "      'nullable': True,\n",
       "      'type': 'integer'},\n",
       "     {'metadata': {'measure': 'discrete', 'modeling_role': 'feature'},\n",
       "      'name': 'ExistingSavings',\n",
       "      'nullable': True,\n",
       "      'type': 'string'},\n",
       "     {'metadata': {'measure': 'discrete', 'modeling_role': 'feature'},\n",
       "      'name': 'EmploymentDuration',\n",
       "      'nullable': True,\n",
       "      'type': 'string'},\n",
       "     {'metadata': {'modeling_role': 'feature'},\n",
       "      'name': 'InstallmentPercent',\n",
       "      'nullable': True,\n",
       "      'type': 'integer'},\n",
       "     {'metadata': {'measure': 'discrete', 'modeling_role': 'feature'},\n",
       "      'name': 'Sex',\n",
       "      'nullable': True,\n",
       "      'type': 'string'},\n",
       "     {'metadata': {'measure': 'discrete', 'modeling_role': 'feature'},\n",
       "      'name': 'OthersOnLoan',\n",
       "      'nullable': True,\n",
       "      'type': 'string'},\n",
       "     {'metadata': {'modeling_role': 'feature'},\n",
       "      'name': 'CurrentResidenceDuration',\n",
       "      'nullable': True,\n",
       "      'type': 'integer'},\n",
       "     {'metadata': {'measure': 'discrete', 'modeling_role': 'feature'},\n",
       "      'name': 'OwnsProperty',\n",
       "      'nullable': True,\n",
       "      'type': 'string'},\n",
       "     {'metadata': {'modeling_role': 'feature'},\n",
       "      'name': 'Age',\n",
       "      'nullable': True,\n",
       "      'type': 'integer'},\n",
       "     {'metadata': {'measure': 'discrete', 'modeling_role': 'feature'},\n",
       "      'name': 'InstallmentPlans',\n",
       "      'nullable': True,\n",
       "      'type': 'string'},\n",
       "     {'metadata': {'measure': 'discrete', 'modeling_role': 'feature'},\n",
       "      'name': 'Housing',\n",
       "      'nullable': True,\n",
       "      'type': 'string'},\n",
       "     {'metadata': {'modeling_role': 'feature'},\n",
       "      'name': 'ExistingCreditsCount',\n",
       "      'nullable': True,\n",
       "      'type': 'integer'},\n",
       "     {'metadata': {'measure': 'discrete', 'modeling_role': 'feature'},\n",
       "      'name': 'Job',\n",
       "      'nullable': True,\n",
       "      'type': 'string'},\n",
       "     {'metadata': {'modeling_role': 'feature'},\n",
       "      'name': 'Dependents',\n",
       "      'nullable': True,\n",
       "      'type': 'integer'},\n",
       "     {'metadata': {'measure': 'discrete', 'modeling_role': 'feature'},\n",
       "      'name': 'Telephone',\n",
       "      'nullable': True,\n",
       "      'type': 'string'},\n",
       "     {'metadata': {'measure': 'discrete', 'modeling_role': 'feature'},\n",
       "      'name': 'ForeignWorker',\n",
       "      'nullable': True,\n",
       "      'type': 'string'},\n",
       "     {'metadata': {'modeling_role': 'target'},\n",
       "      'name': 'Risk',\n",
       "      'nullable': True,\n",
       "      'type': 'string'}],\n",
       "    'type': 'struct'}},\n",
       "  'configurations': [{'enabled': True,\n",
       "    'monitor_definition_id': 'payload_logging',\n",
       "    'type': 'payload_logging',\n",
       "    'url': '/v1/data_marts/f94e20cb-aa92-4636-97ce-08de6b714d02/service_bindings/9e7215a4-16bb-464f-9e31-ff9270e66abb/subscriptions/b9473da0-9ae7-474a-a397-2b6ce7aa6b65/configurations/payload_logging'},\n",
       "   {'enabled': False,\n",
       "    'monitor_definition_id': 'explainability',\n",
       "    'type': 'explainability',\n",
       "    'url': '/v1/data_marts/f94e20cb-aa92-4636-97ce-08de6b714d02/service_bindings/9e7215a4-16bb-464f-9e31-ff9270e66abb/subscriptions/b9473da0-9ae7-474a-a397-2b6ce7aa6b65/configurations/explainability'},\n",
       "   {'enabled': True,\n",
       "    'monitor_definition_id': 'performance_monitoring',\n",
       "    'type': 'performance_monitoring',\n",
       "    'url': '/v1/data_marts/f94e20cb-aa92-4636-97ce-08de6b714d02/service_bindings/9e7215a4-16bb-464f-9e31-ff9270e66abb/subscriptions/b9473da0-9ae7-474a-a397-2b6ce7aa6b65/configurations/performance_monitoring'},\n",
       "   {'enabled': False,\n",
       "    'monitor_definition_id': 'fairness_monitoring',\n",
       "    'type': 'fairness_monitoring',\n",
       "    'url': '/v1/data_marts/f94e20cb-aa92-4636-97ce-08de6b714d02/service_bindings/9e7215a4-16bb-464f-9e31-ff9270e66abb/subscriptions/b9473da0-9ae7-474a-a397-2b6ce7aa6b65/configurations/fairness_monitoring'},\n",
       "   {'enabled': False,\n",
       "    'monitor_definition_id': 'quality',\n",
       "    'type': 'quality_monitoring',\n",
       "    'url': '/v1/data_marts/f94e20cb-aa92-4636-97ce-08de6b714d02/service_bindings/9e7215a4-16bb-464f-9e31-ff9270e66abb/subscriptions/b9473da0-9ae7-474a-a397-2b6ce7aa6b65/configurations/quality'}],\n",
       "  'deployments': [{'created_at': '2019-03-19T14:00:27.898Z',\n",
       "    'deployment_id': '4d125552-83ee-456a-b1d4-3fd518743082',\n",
       "    'deployment_rn': '',\n",
       "    'deployment_type': 'online',\n",
       "    'name': 'Spark German Risk Deployment - Final',\n",
       "    'scoring_endpoint': {'request_headers': {'Content-Type': 'application/json'},\n",
       "     'url': 'https://us-south.ml.cloud.ibm.com/v3/wml_instances/9e7215a4-16bb-464f-9e31-ff9270e66abb/deployments/4d125552-83ee-456a-b1d4-3fd518743082/online'},\n",
       "    'url': 'https://us-south.ml.cloud.ibm.com/v3/wml_instances/9e7215a4-16bb-464f-9e31-ff9270e66abb/deployments/4d125552-83ee-456a-b1d4-3fd518743082'}],\n",
       "  'service_binding_id': '9e7215a4-16bb-464f-9e31-ff9270e66abb',\n",
       "  'status': {'state': 'active'}},\n",
       " 'metadata': {'created_at': '2019-03-19T14:02:56.917Z',\n",
       "  'guid': 'b9473da0-9ae7-474a-a397-2b6ce7aa6b65',\n",
       "  'modified_at': '2019-03-19T14:02:57.835Z',\n",
       "  'url': '/v1/data_marts/f94e20cb-aa92-4636-97ce-08de6b714d02/service_bindings/9e7215a4-16bb-464f-9e31-ff9270e66abb/subscriptions/b9473da0-9ae7-474a-a397-2b6ce7aa6b65'}}"
      ]
     },
     "execution_count": 40,
     "metadata": {},
     "output_type": "execute_result"
    }
   ],
   "source": [
    "subscription.get_details()"
   ]
  },
  {
   "cell_type": "markdown",
   "metadata": {},
   "source": [
    "### Score the model so we can configure monitors"
   ]
  },
  {
   "cell_type": "code",
   "execution_count": 41,
   "metadata": {
    "scrolled": true
   },
   "outputs": [
    {
     "name": "stdout",
     "output_type": "stream",
     "text": [
      "4d125552-83ee-456a-b1d4-3fd518743082\n",
      "https://us-south.ml.cloud.ibm.com/v3/wml_instances/9e7215a4-16bb-464f-9e31-ff9270e66abb/deployments/4d125552-83ee-456a-b1d4-3fd518743082/online\n"
     ]
    }
   ],
   "source": [
    "credit_risk_scoring_endpoint = None\n",
    "print(deployment_uid)\n",
    "\n",
    "for deployment in wml_client.deployments.get_details()['resources']:\n",
    "    if deployment_uid in deployment['metadata']['guid']:\n",
    "        credit_risk_scoring_endpoint = deployment['entity']['scoring_url']\n",
    "        \n",
    "print(credit_risk_scoring_endpoint)"
   ]
  },
  {
   "cell_type": "code",
   "execution_count": 42,
   "metadata": {
    "scrolled": true
   },
   "outputs": [
    {
     "name": "stdout",
     "output_type": "stream",
     "text": [
      "{'fields': ['CheckingStatus', 'LoanDuration', 'CreditHistory', 'LoanPurpose', 'LoanAmount', 'ExistingSavings', 'EmploymentDuration', 'InstallmentPercent', 'Sex', 'OthersOnLoan', 'CurrentResidenceDuration', 'OwnsProperty', 'Age', 'InstallmentPlans', 'Housing', 'ExistingCreditsCount', 'Job', 'Dependents', 'Telephone', 'ForeignWorker', 'CheckingStatus_IX', 'CreditHistory_IX', 'EmploymentDuration_IX', 'ExistingSavings_IX', 'ForeignWorker_IX', 'Housing_IX', 'InstallmentPlans_IX', 'Job_IX', 'LoanPurpose_IX', 'OthersOnLoan_IX', 'OwnsProperty_IX', 'Sex_IX', 'Telephone_IX', 'features', 'rawPrediction', 'probability', 'prediction', 'predictedLabel'], 'values': [['no_checking', 13, 'credits_paid_to_date', 'car_new', 1343, '100_to_500', '1_to_4', 2, 'female', 'none', 3, 'savings_insurance', 46, 'none', 'own', 2, 'skilled', 1, 'none', 'yes', 0.0, 1.0, 0.0, 1.0, 0.0, 0.0, 0.0, 0.0, 0.0, 0.0, 0.0, 1.0, 0.0, [21, [1, 3, 5, 13, 14, 15, 16, 17, 18, 19, 20], [1.0, 1.0, 1.0, 13.0, 1343.0, 2.0, 3.0, 13.0, 46.0, 2.0, 1.0]], [13.971941431472468, 6.028058568527531], [0.6985970715736234, 0.30140292842637656], 0.0, 'No Risk'], ['no_checking', 24, 'prior_payments_delayed', 'furniture', 4567, '500_to_1000', '1_to_4', 4, 'male', 'none', 4, 'savings_insurance', 36, 'none', 'free', 2, 'management_self-employed', 1, 'none', 'yes', 0.0, 0.0, 0.0, 2.0, 0.0, 2.0, 0.0, 2.0, 1.0, 0.0, 0.0, 0.0, 0.0, [21, [2, 3, 9, 10, 13, 14, 15, 16, 17, 18, 19, 20], [1.0, 2.0, 2.0, 2.0, 24.0, 4567.0, 4.0, 4.0, 24.0, 36.0, 2.0, 1.0]], [12.825830916582673, 7.174169083417325], [0.6412915458291337, 0.3587084541708663], 0.0, 'No Risk'], ['0_to_200', 26, 'all_credits_paid_back', 'car_new', 863, 'less_100', 'less_1', 2, 'female', 'co-applicant', 2, 'real_estate', 38, 'none', 'own', 1, 'skilled', 1, 'none', 'yes', 2.0, 3.0, 3.0, 0.0, 0.0, 0.0, 0.0, 0.0, 0.0, 1.0, 2.0, 1.0, 0.0, [2.0, 3.0, 0.0, 0.0, 3.0, 1.0, 1.0, 2.0, 0.0, 0.0, 0.0, 0.0, 0.0, 26.0, 863.0, 2.0, 2.0, 26.0, 38.0, 1.0, 1.0], [16.883473456341566, 3.1165265436584337], [0.8441736728170783, 0.1558263271829217], 0.0, 'No Risk'], ['0_to_200', 14, 'no_credits', 'car_new', 2368, 'less_100', '1_to_4', 3, 'female', 'none', 3, 'real_estate', 29, 'none', 'own', 1, 'skilled', 1, 'none', 'yes', 2.0, 4.0, 0.0, 0.0, 0.0, 0.0, 0.0, 0.0, 0.0, 0.0, 2.0, 1.0, 0.0, [21, [0, 1, 5, 7, 13, 14, 15, 16, 17, 18, 19, 20], [2.0, 4.0, 1.0, 2.0, 14.0, 2368.0, 3.0, 3.0, 14.0, 29.0, 1.0, 1.0]], [18.31280895985018, 1.6871910401498225], [0.9156404479925089, 0.08435955200749111], 0.0, 'No Risk'], ['0_to_200', 4, 'no_credits', 'car_new', 250, 'less_100', 'unemployed', 2, 'female', 'none', 3, 'real_estate', 23, 'none', 'rent', 1, 'management_self-employed', 1, 'none', 'yes', 2.0, 4.0, 4.0, 0.0, 0.0, 1.0, 0.0, 2.0, 0.0, 0.0, 2.0, 1.0, 0.0, [2.0, 4.0, 0.0, 0.0, 4.0, 1.0, 0.0, 2.0, 0.0, 1.0, 2.0, 0.0, 0.0, 4.0, 250.0, 2.0, 3.0, 4.0, 23.0, 1.0, 1.0], [19.518073276537134, 0.48192672346286597], [0.9759036638268567, 0.024096336173143298], 0.0, 'No Risk'], ['no_checking', 17, 'credits_paid_to_date', 'car_new', 832, '100_to_500', '1_to_4', 2, 'male', 'none', 2, 'real_estate', 42, 'none', 'own', 1, 'skilled', 1, 'none', 'yes', 0.0, 1.0, 0.0, 1.0, 0.0, 0.0, 0.0, 0.0, 0.0, 0.0, 2.0, 0.0, 0.0, [21, [1, 3, 7, 13, 14, 15, 16, 17, 18, 19, 20], [1.0, 1.0, 2.0, 17.0, 832.0, 2.0, 2.0, 17.0, 42.0, 1.0, 1.0]], [16.463944546495203, 3.536055453504799], [0.8231972273247601, 0.17680277267523997], 0.0, 'No Risk'], ['no_checking', 33, 'outstanding_credit', 'appliances', 5696, 'unknown', 'greater_7', 4, 'male', 'co-applicant', 4, 'unknown', 54, 'none', 'free', 2, 'skilled', 1, 'yes', 'yes', 0.0, 2.0, 2.0, 4.0, 0.0, 2.0, 0.0, 0.0, 4.0, 1.0, 3.0, 0.0, 1.0, [0.0, 2.0, 4.0, 4.0, 2.0, 0.0, 1.0, 3.0, 0.0, 2.0, 0.0, 1.0, 0.0, 33.0, 5696.0, 4.0, 4.0, 33.0, 54.0, 2.0, 1.0], [1.7320844895772893, 18.26791551042271], [0.08660422447886447, 0.9133957755211355], 1.0, 'Risk'], ['0_to_200', 13, 'prior_payments_delayed', 'retraining', 1375, '100_to_500', '4_to_7', 3, 'male', 'none', 3, 'real_estate', 37, 'none', 'own', 2, 'management_self-employed', 1, 'none', 'yes', 2.0, 0.0, 1.0, 1.0, 0.0, 0.0, 0.0, 2.0, 8.0, 0.0, 2.0, 0.0, 0.0, [2.0, 0.0, 8.0, 1.0, 1.0, 0.0, 0.0, 2.0, 0.0, 0.0, 2.0, 0.0, 0.0, 13.0, 1375.0, 3.0, 3.0, 13.0, 37.0, 2.0, 1.0], [17.053572313544958, 2.9464276864550407], [0.8526786156772479, 0.14732138432275205], 0.0, 'No Risk']]}\n"
     ]
    }
   ],
   "source": [
    "fields = [\"CheckingStatus\",\"LoanDuration\",\"CreditHistory\",\"LoanPurpose\",\"LoanAmount\",\"ExistingSavings\",\"EmploymentDuration\",\"InstallmentPercent\",\"Sex\",\"OthersOnLoan\",\"CurrentResidenceDuration\",\"OwnsProperty\",\"Age\",\"InstallmentPlans\",\"Housing\",\"ExistingCreditsCount\",\"Job\",\"Dependents\",\"Telephone\",\"ForeignWorker\"]\n",
    "values = [\n",
    "  [\"no_checking\",13,\"credits_paid_to_date\",\"car_new\",1343,\"100_to_500\",\"1_to_4\",2,\"female\",\"none\",3,\"savings_insurance\",46,\"none\",\"own\",2,\"skilled\",1,\"none\",\"yes\"],\n",
    "  [\"no_checking\",24,\"prior_payments_delayed\",\"furniture\",4567,\"500_to_1000\",\"1_to_4\",4,\"male\",\"none\",4,\"savings_insurance\",36,\"none\",\"free\",2,\"management_self-employed\",1,\"none\",\"yes\"],\n",
    "  [\"0_to_200\",26,\"all_credits_paid_back\",\"car_new\",863,\"less_100\",\"less_1\",2,\"female\",\"co-applicant\",2,\"real_estate\",38,\"none\",\"own\",1,\"skilled\",1,\"none\",\"yes\"],\n",
    "  [\"0_to_200\",14,\"no_credits\",\"car_new\",2368,\"less_100\",\"1_to_4\",3,\"female\",\"none\",3,\"real_estate\",29,\"none\",\"own\",1,\"skilled\",1,\"none\",\"yes\"],\n",
    "  [\"0_to_200\",4,\"no_credits\",\"car_new\",250,\"less_100\",\"unemployed\",2,\"female\",\"none\",3,\"real_estate\",23,\"none\",\"rent\",1,\"management_self-employed\",1,\"none\",\"yes\"],\n",
    "  [\"no_checking\",17,\"credits_paid_to_date\",\"car_new\",832,\"100_to_500\",\"1_to_4\",2,\"male\",\"none\",2,\"real_estate\",42,\"none\",\"own\",1,\"skilled\",1,\"none\",\"yes\"],\n",
    "  [\"no_checking\",33,\"outstanding_credit\",\"appliances\",5696,\"unknown\",\"greater_7\",4,\"male\",\"co-applicant\",4,\"unknown\",54,\"none\",\"free\",2,\"skilled\",1,\"yes\",\"yes\"],\n",
    "  [\"0_to_200\",13,\"prior_payments_delayed\",\"retraining\",1375,\"100_to_500\",\"4_to_7\",3,\"male\",\"none\",3,\"real_estate\",37,\"none\",\"own\",2,\"management_self-employed\",1,\"none\",\"yes\"]\n",
    "]\n",
    "\n",
    "payload_scoring = {\"fields\": fields,\"values\": values}\n",
    "scoring_response = wml_client.deployments.score(credit_risk_scoring_endpoint, payload_scoring)\n",
    "\n",
    "print(scoring_response)"
   ]
  },
  {
   "cell_type": "markdown",
   "metadata": {},
   "source": [
    "## Quality and feedback monitoring"
   ]
  },
  {
   "cell_type": "markdown",
   "metadata": {},
   "source": [
    "### Enable quality monitoring"
   ]
  },
  {
   "cell_type": "markdown",
   "metadata": {},
   "source": [
    "Wait ten seconds to allow the payload logging table to be set up before we begin enabling monitors."
   ]
  },
  {
   "cell_type": "code",
   "execution_count": 43,
   "metadata": {
    "scrolled": true
   },
   "outputs": [],
   "source": [
    "time.sleep(10)\n",
    "subscription.quality_monitoring.enable(threshold=0.7, min_records=50)"
   ]
  },
  {
   "cell_type": "markdown",
   "metadata": {},
   "source": [
    "### Feedback logging"
   ]
  },
  {
   "cell_type": "code",
   "execution_count": 44,
   "metadata": {},
   "outputs": [
    {
     "name": "stdout",
     "output_type": "stream",
     "text": [
      "--2019-03-19 09:04:02--  https://raw.githubusercontent.com/emartensibm/german-credit/master/additional_feedback_data.json\n",
      "Resolving raw.githubusercontent.com (raw.githubusercontent.com)... 151.101.48.133\n",
      "Connecting to raw.githubusercontent.com (raw.githubusercontent.com)|151.101.48.133|:443... connected.\n",
      "HTTP request sent, awaiting response... 200 OK\n",
      "Length: 16506 (16K) [text/plain]\n",
      "Saving to: ‘additional_feedback_data.json’\n",
      "\n",
      "100%[======================================>] 16,506      --.-K/s   in 0.001s  \n",
      "\n",
      "2019-03-19 09:04:02 (27.8 MB/s) - ‘additional_feedback_data.json’ saved [16506/16506]\n",
      "\n"
     ]
    }
   ],
   "source": [
    "!rm additional_feedback_data.json\n",
    "!wget https://raw.githubusercontent.com/emartensibm/german-credit/master/additional_feedback_data.json"
   ]
  },
  {
   "cell_type": "code",
   "execution_count": 45,
   "metadata": {},
   "outputs": [],
   "source": [
    "with open('additional_feedback_data.json') as feedback_file:\n",
    "    additional_feedback_data = json.load(feedback_file)\n",
    "subscription.feedback_logging.store(additional_feedback_data['data'])"
   ]
  },
  {
   "cell_type": "code",
   "execution_count": 46,
   "metadata": {
    "scrolled": true
   },
   "outputs": [
    {
     "data": {
      "text/html": [
       "<HTML>\n",
       "        <body>\n",
       "            <h3>Feedback_b9473da0-9ae7-474a-a397-2b6ce7aa6b65 (binding_id=9e7215a4-16bb-464f-9e31-ff9270e66abb, subscription_id=b9473da0-9ae7-474a-a397-2b6ce7aa6b65)</h3>\n",
       "            <table style='border: 1px solid #dddddd; font-family: Courier'>\n",
       "                <th style='border: 1px solid #dddddd'>CheckingStatus</th><th style='border: 1px solid #dddddd'>LoanDuration</th><th style='border: 1px solid #dddddd'>CreditHistory</th><th style='border: 1px solid #dddddd'>LoanPurpose</th><th style='border: 1px solid #dddddd'>LoanAmount</th><th style='border: 1px solid #dddddd'>ExistingSavings</th><th style='border: 1px solid #dddddd'>EmploymentDuration</th><th style='border: 1px solid #dddddd'>InstallmentPercent</th><th style='border: 1px solid #dddddd'>Sex</th><th style='border: 1px solid #dddddd'>OthersOnLoan</th><th style='border: 1px solid #dddddd'>CurrentResidenceDuration</th><th style='border: 1px solid #dddddd'>OwnsProperty</th><th style='border: 1px solid #dddddd'>Age</th><th style='border: 1px solid #dddddd'>InstallmentPlans</th><th style='border: 1px solid #dddddd'>Housing</th><th style='border: 1px solid #dddddd'>ExistingCreditsCount</th><th style='border: 1px solid #dddddd'>Job</th><th style='border: 1px solid #dddddd'>Dependents</th><th style='border: 1px solid #dddddd'>Telephone</th><th style='border: 1px solid #dddddd'>ForeignWorker</th><th style='border: 1px solid #dddddd'>Risk</th><th style='border: 1px solid #dddddd'>_training</th>\n",
       "                <tr><td style='border: 1px solid #dddddd'>less_0</td><td style='border: 1px solid #dddddd'>10</td><td style='border: 1px solid #dddddd'>all_credits_paid_back</td><td style='border: 1px solid #dddddd'>car_new</td><td style='border: 1px solid #dddddd'>250</td><td style='border: 1px solid #dddddd'>500_to_1000</td><td style='border: 1px solid #dddddd'>4_to_7</td><td style='border: 1px solid #dddddd'>3</td><td style='border: 1px solid #dddddd'>male</td><td style='border: 1px solid #dddddd'>none</td><td style='border: 1px solid #dddddd'>2</td><td style='border: 1px solid #dddddd'>real_estate</td><td style='border: 1px solid #dddddd'>23</td><td style='border: 1px solid #dddddd'>none</td><td style='border: 1px solid #dddddd'>rent</td><td style='border: 1px solid #dddddd'>1</td><td style='border: 1px solid #dddddd'>skilled</td><td style='border: 1px solid #dddddd'>1</td><td style='border: 1px solid #dddddd'>none</td><td style='border: 1px solid #dddddd'>yes</td><td style='border: 1px solid #dddddd'>No Risk</td><td style='border: 1px solid #dddddd'>2019-03-19 14:04:13.230000+00:00</td></tr><tr><td style='border: 1px solid #dddddd'>no_checking</td><td style='border: 1px solid #dddddd'>23</td><td style='border: 1px solid #dddddd'>prior_payments_delayed</td><td style='border: 1px solid #dddddd'>appliances</td><td style='border: 1px solid #dddddd'>6964</td><td style='border: 1px solid #dddddd'>100_to_500</td><td style='border: 1px solid #dddddd'>4_to_7</td><td style='border: 1px solid #dddddd'>4</td><td style='border: 1px solid #dddddd'>female</td><td style='border: 1px solid #dddddd'>none</td><td style='border: 1px solid #dddddd'>3</td><td style='border: 1px solid #dddddd'>car_other</td><td style='border: 1px solid #dddddd'>39</td><td style='border: 1px solid #dddddd'>none</td><td style='border: 1px solid #dddddd'>own</td><td style='border: 1px solid #dddddd'>1</td><td style='border: 1px solid #dddddd'>skilled</td><td style='border: 1px solid #dddddd'>1</td><td style='border: 1px solid #dddddd'>none</td><td style='border: 1px solid #dddddd'>yes</td><td style='border: 1px solid #dddddd'>Risk</td><td style='border: 1px solid #dddddd'>2019-03-19 14:04:13.230000+00:00</td></tr><tr><td style='border: 1px solid #dddddd'>0_to_200</td><td style='border: 1px solid #dddddd'>30</td><td style='border: 1px solid #dddddd'>outstanding_credit</td><td style='border: 1px solid #dddddd'>appliances</td><td style='border: 1px solid #dddddd'>3464</td><td style='border: 1px solid #dddddd'>100_to_500</td><td style='border: 1px solid #dddddd'>greater_7</td><td style='border: 1px solid #dddddd'>3</td><td style='border: 1px solid #dddddd'>male</td><td style='border: 1px solid #dddddd'>guarantor</td><td style='border: 1px solid #dddddd'>4</td><td style='border: 1px solid #dddddd'>savings_insurance</td><td style='border: 1px solid #dddddd'>51</td><td style='border: 1px solid #dddddd'>stores</td><td style='border: 1px solid #dddddd'>free</td><td style='border: 1px solid #dddddd'>1</td><td style='border: 1px solid #dddddd'>skilled</td><td style='border: 1px solid #dddddd'>1</td><td style='border: 1px solid #dddddd'>yes</td><td style='border: 1px solid #dddddd'>yes</td><td style='border: 1px solid #dddddd'>Risk</td><td style='border: 1px solid #dddddd'>2019-03-19 14:04:13.230000+00:00</td></tr><tr><td style='border: 1px solid #dddddd'>no_checking</td><td style='border: 1px solid #dddddd'>23</td><td style='border: 1px solid #dddddd'>outstanding_credit</td><td style='border: 1px solid #dddddd'>car_used</td><td style='border: 1px solid #dddddd'>2681</td><td style='border: 1px solid #dddddd'>500_to_1000</td><td style='border: 1px solid #dddddd'>greater_7</td><td style='border: 1px solid #dddddd'>4</td><td style='border: 1px solid #dddddd'>male</td><td style='border: 1px solid #dddddd'>none</td><td style='border: 1px solid #dddddd'>3</td><td style='border: 1px solid #dddddd'>car_other</td><td style='border: 1px solid #dddddd'>33</td><td style='border: 1px solid #dddddd'>stores</td><td style='border: 1px solid #dddddd'>free</td><td style='border: 1px solid #dddddd'>1</td><td style='border: 1px solid #dddddd'>unskilled</td><td style='border: 1px solid #dddddd'>1</td><td style='border: 1px solid #dddddd'>yes</td><td style='border: 1px solid #dddddd'>yes</td><td style='border: 1px solid #dddddd'>No Risk</td><td style='border: 1px solid #dddddd'>2019-03-19 14:04:13.230000+00:00</td></tr><tr><td style='border: 1px solid #dddddd'>0_to_200</td><td style='border: 1px solid #dddddd'>18</td><td style='border: 1px solid #dddddd'>prior_payments_delayed</td><td style='border: 1px solid #dddddd'>furniture</td><td style='border: 1px solid #dddddd'>1673</td><td style='border: 1px solid #dddddd'>less_100</td><td style='border: 1px solid #dddddd'>1_to_4</td><td style='border: 1px solid #dddddd'>2</td><td style='border: 1px solid #dddddd'>male</td><td style='border: 1px solid #dddddd'>none</td><td style='border: 1px solid #dddddd'>3</td><td style='border: 1px solid #dddddd'>car_other</td><td style='border: 1px solid #dddddd'>30</td><td style='border: 1px solid #dddddd'>none</td><td style='border: 1px solid #dddddd'>own</td><td style='border: 1px solid #dddddd'>2</td><td style='border: 1px solid #dddddd'>skilled</td><td style='border: 1px solid #dddddd'>1</td><td style='border: 1px solid #dddddd'>none</td><td style='border: 1px solid #dddddd'>yes</td><td style='border: 1px solid #dddddd'>Risk</td><td style='border: 1px solid #dddddd'>2019-03-19 14:04:13.230000+00:00</td></tr><tr><td style='border: 1px solid #dddddd'>no_checking</td><td style='border: 1px solid #dddddd'>44</td><td style='border: 1px solid #dddddd'>outstanding_credit</td><td style='border: 1px solid #dddddd'>radio_tv</td><td style='border: 1px solid #dddddd'>3476</td><td style='border: 1px solid #dddddd'>unknown</td><td style='border: 1px solid #dddddd'>greater_7</td><td style='border: 1px solid #dddddd'>4</td><td style='border: 1px solid #dddddd'>male</td><td style='border: 1px solid #dddddd'>co-applicant</td><td style='border: 1px solid #dddddd'>4</td><td style='border: 1px solid #dddddd'>unknown</td><td style='border: 1px solid #dddddd'>60</td><td style='border: 1px solid #dddddd'>none</td><td style='border: 1px solid #dddddd'>free</td><td style='border: 1px solid #dddddd'>2</td><td style='border: 1px solid #dddddd'>skilled</td><td style='border: 1px solid #dddddd'>2</td><td style='border: 1px solid #dddddd'>yes</td><td style='border: 1px solid #dddddd'>yes</td><td style='border: 1px solid #dddddd'>Risk</td><td style='border: 1px solid #dddddd'>2019-03-19 14:04:13.230000+00:00</td></tr><tr><td style='border: 1px solid #dddddd'>less_0</td><td style='border: 1px solid #dddddd'>8</td><td style='border: 1px solid #dddddd'>no_credits</td><td style='border: 1px solid #dddddd'>education</td><td style='border: 1px solid #dddddd'>803</td><td style='border: 1px solid #dddddd'>less_100</td><td style='border: 1px solid #dddddd'>unemployed</td><td style='border: 1px solid #dddddd'>1</td><td style='border: 1px solid #dddddd'>male</td><td style='border: 1px solid #dddddd'>none</td><td style='border: 1px solid #dddddd'>1</td><td style='border: 1px solid #dddddd'>savings_insurance</td><td style='border: 1px solid #dddddd'>19</td><td style='border: 1px solid #dddddd'>stores</td><td style='border: 1px solid #dddddd'>rent</td><td style='border: 1px solid #dddddd'>1</td><td style='border: 1px solid #dddddd'>skilled</td><td style='border: 1px solid #dddddd'>1</td><td style='border: 1px solid #dddddd'>none</td><td style='border: 1px solid #dddddd'>yes</td><td style='border: 1px solid #dddddd'>No Risk</td><td style='border: 1px solid #dddddd'>2019-03-19 14:04:13.230000+00:00</td></tr><tr><td style='border: 1px solid #dddddd'>0_to_200</td><td style='border: 1px solid #dddddd'>7</td><td style='border: 1px solid #dddddd'>all_credits_paid_back</td><td style='border: 1px solid #dddddd'>car_new</td><td style='border: 1px solid #dddddd'>250</td><td style='border: 1px solid #dddddd'>less_100</td><td style='border: 1px solid #dddddd'>unemployed</td><td style='border: 1px solid #dddddd'>1</td><td style='border: 1px solid #dddddd'>male</td><td style='border: 1px solid #dddddd'>none</td><td style='border: 1px solid #dddddd'>1</td><td style='border: 1px solid #dddddd'>real_estate</td><td style='border: 1px solid #dddddd'>19</td><td style='border: 1px solid #dddddd'>stores</td><td style='border: 1px solid #dddddd'>rent</td><td style='border: 1px solid #dddddd'>1</td><td style='border: 1px solid #dddddd'>skilled</td><td style='border: 1px solid #dddddd'>1</td><td style='border: 1px solid #dddddd'>none</td><td style='border: 1px solid #dddddd'>yes</td><td style='border: 1px solid #dddddd'>No Risk</td><td style='border: 1px solid #dddddd'>2019-03-19 14:04:13.230000+00:00</td></tr><tr><td style='border: 1px solid #dddddd'>0_to_200</td><td style='border: 1px solid #dddddd'>33</td><td style='border: 1px solid #dddddd'>credits_paid_to_date</td><td style='border: 1px solid #dddddd'>radio_tv</td><td style='border: 1px solid #dddddd'>3548</td><td style='border: 1px solid #dddddd'>100_to_500</td><td style='border: 1px solid #dddddd'>1_to_4</td><td style='border: 1px solid #dddddd'>3</td><td style='border: 1px solid #dddddd'>male</td><td style='border: 1px solid #dddddd'>none</td><td style='border: 1px solid #dddddd'>4</td><td style='border: 1px solid #dddddd'>car_other</td><td style='border: 1px solid #dddddd'>28</td><td style='border: 1px solid #dddddd'>none</td><td style='border: 1px solid #dddddd'>own</td><td style='border: 1px solid #dddddd'>2</td><td style='border: 1px solid #dddddd'>skilled</td><td style='border: 1px solid #dddddd'>1</td><td style='border: 1px solid #dddddd'>yes</td><td style='border: 1px solid #dddddd'>yes</td><td style='border: 1px solid #dddddd'>Risk</td><td style='border: 1px solid #dddddd'>2019-03-19 14:04:13.230000+00:00</td></tr><tr><td style='border: 1px solid #dddddd'>no_checking</td><td style='border: 1px solid #dddddd'>24</td><td style='border: 1px solid #dddddd'>prior_payments_delayed</td><td style='border: 1px solid #dddddd'>retraining</td><td style='border: 1px solid #dddddd'>4158</td><td style='border: 1px solid #dddddd'>100_to_500</td><td style='border: 1px solid #dddddd'>greater_7</td><td style='border: 1px solid #dddddd'>3</td><td style='border: 1px solid #dddddd'>female</td><td style='border: 1px solid #dddddd'>none</td><td style='border: 1px solid #dddddd'>2</td><td style='border: 1px solid #dddddd'>savings_insurance</td><td style='border: 1px solid #dddddd'>35</td><td style='border: 1px solid #dddddd'>stores</td><td style='border: 1px solid #dddddd'>own</td><td style='border: 1px solid #dddddd'>1</td><td style='border: 1px solid #dddddd'>unskilled</td><td style='border: 1px solid #dddddd'>2</td><td style='border: 1px solid #dddddd'>none</td><td style='border: 1px solid #dddddd'>yes</td><td style='border: 1px solid #dddddd'>Risk</td><td style='border: 1px solid #dddddd'>2019-03-19 14:04:13.230000+00:00</td></tr>\n",
       "            </table>\n",
       "        </body>\n",
       "        </HTML>"
      ],
      "text/plain": [
       "<IPython.core.display.HTML object>"
      ]
     },
     "metadata": {},
     "output_type": "display_data"
    }
   ],
   "source": [
    "subscription.feedback_logging.show_table()"
   ]
  },
  {
   "cell_type": "code",
   "execution_count": 47,
   "metadata": {
    "scrolled": true
   },
   "outputs": [
    {
     "name": "stdout",
     "output_type": "stream",
     "text": [
      "b5695cca-2a27-49e3-b2ec-e5be44bca944\n",
      "Run status: running\n",
      "Run status: running\n",
      "Run status: completed\n"
     ]
    }
   ],
   "source": [
    "run_details = subscription.quality_monitoring.run()\n",
    "status = run_details['status']\n",
    "id = run_details['id']\n",
    "print(id)\n",
    "\n",
    "print(\"Run status: {}\".format(status))\n",
    "\n",
    "start_time = time.time()\n",
    "elapsed_time = 0\n",
    "\n",
    "while status != 'completed' and elapsed_time < 60:\n",
    "    time.sleep(10)\n",
    "    run_details = subscription.quality_monitoring.get_run_details(run_uid=id)\n",
    "    status = run_details['status']\n",
    "    elapsed_time = time.time() - start_time\n",
    "    print(\"Run status: {}\".format(status))"
   ]
  },
  {
   "cell_type": "code",
   "execution_count": 48,
   "metadata": {
    "scrolled": true
   },
   "outputs": [
    {
     "data": {
      "text/plain": [
       "{'evaluations': [{'completed_at': '2019-03-19T14:04:54.099Z',\n",
       "   'data_mart_id': 'f94e20cb-aa92-4636-97ce-08de6b714d02',\n",
       "   'flags': {'batch_size': 1000,\n",
       "    'fetch_size': 1000,\n",
       "    'force': False,\n",
       "    'parallelism': 4,\n",
       "    'window_in_millis': 2000},\n",
       "   'id': 'b5695cca-2a27-49e3-b2ec-e5be44bca944',\n",
       "   'metrics': {'area_under_pr': 0.33858998144712427,\n",
       "    'area_under_roc': 0.7469512195121951},\n",
       "   'problem_type': 'binary',\n",
       "   'rows_in_range': 98,\n",
       "   'rows_max': 10000,\n",
       "   'rows_min': 50,\n",
       "   'service_binding_id': '9e7215a4-16bb-464f-9e31-ff9270e66abb',\n",
       "   'stages': [{'completed_at': '2019-03-19T14:04:42.800Z',\n",
       "     'id': 1,\n",
       "     'name': 'Prerequisite Check',\n",
       "     'properties': {'input_columns': ['CheckingStatus',\n",
       "       'LoanDuration',\n",
       "       'CreditHistory',\n",
       "       'LoanPurpose',\n",
       "       'LoanAmount',\n",
       "       'ExistingSavings',\n",
       "       'EmploymentDuration',\n",
       "       'InstallmentPercent',\n",
       "       'Sex',\n",
       "       'OthersOnLoan',\n",
       "       'CurrentResidenceDuration',\n",
       "       'OwnsProperty',\n",
       "       'Age',\n",
       "       'InstallmentPlans',\n",
       "       'Housing',\n",
       "       'ExistingCreditsCount',\n",
       "       'Job',\n",
       "       'Dependents',\n",
       "       'Telephone',\n",
       "       'ForeignWorker'],\n",
       "      'training_columns': ['CheckingStatus',\n",
       "       'LoanDuration',\n",
       "       'CreditHistory',\n",
       "       'LoanPurpose',\n",
       "       'LoanAmount',\n",
       "       'ExistingSavings',\n",
       "       'EmploymentDuration',\n",
       "       'InstallmentPercent',\n",
       "       'Sex',\n",
       "       'OthersOnLoan',\n",
       "       'CurrentResidenceDuration',\n",
       "       'OwnsProperty',\n",
       "       'Age',\n",
       "       'InstallmentPlans',\n",
       "       'Housing',\n",
       "       'ExistingCreditsCount',\n",
       "       'Job',\n",
       "       'Dependents',\n",
       "       'Telephone',\n",
       "       'ForeignWorker',\n",
       "       'Risk']},\n",
       "     'started_at': '2019-03-19T14:04:38.531Z'},\n",
       "    {'completed_at': '2019-03-19T14:04:42.811Z',\n",
       "     'id': 2,\n",
       "     'name': 'Acquire Scorer',\n",
       "     'properties': {'scorer': {'guid': 'd74c38a3-2c67-43f6-915f-2435a744797d'}},\n",
       "     'started_at': '2019-03-19T14:04:42.811Z'},\n",
       "    {'completed_at': '2019-03-19T14:04:54.020Z',\n",
       "     'id': 3,\n",
       "     'name': 'Score Batch',\n",
       "     'properties': {'batch_size': 98},\n",
       "     'started_at': '2019-03-19T14:04:42.828Z'},\n",
       "    {'id': 4,\n",
       "     'name': 'Release Scorer',\n",
       "     'started_at': '2019-03-19T14:04:54.099Z'}],\n",
       "   'started_at': '2019-03-19T14:04:38.531Z',\n",
       "   'status': 'completed',\n",
       "   'subscription_id': 'b9473da0-9ae7-474a-a397-2b6ce7aa6b65',\n",
       "   'threshold': 0.7}]}"
      ]
     },
     "execution_count": 48,
     "metadata": {},
     "output_type": "execute_result"
    }
   ],
   "source": [
    "subscription.quality_monitoring.get_run_details()"
   ]
  },
  {
   "cell_type": "code",
   "execution_count": 49,
   "metadata": {
    "scrolled": true
   },
   "outputs": [
    {
     "data": {
      "text/html": [
       "<HTML>\n",
       "        <body>\n",
       "            <h3>QualityMetrics (binding_id=9e7215a4-16bb-464f-9e31-ff9270e66abb, subscription_id=b9473da0-9ae7-474a-a397-2b6ce7aa6b65)</h3>\n",
       "            <table style='border: 1px solid #dddddd; font-family: Courier'>\n",
       "                <th style='border: 1px solid #dddddd'>ts</th><th style='border: 1px solid #dddddd'>quality</th><th style='border: 1px solid #dddddd'>quality_threshold</th><th style='border: 1px solid #dddddd'>binding_id</th><th style='border: 1px solid #dddddd'>subscription_id</th><th style='border: 1px solid #dddddd'>deployment_id</th><th style='border: 1px solid #dddddd'>process</th><th style='border: 1px solid #dddddd'>asset_revision</th>\n",
       "                <tr><td style='border: 1px solid #dddddd'>2019-03-19 14:04:38.531000+00:00</td><td style='border: 1px solid #dddddd'>0.7469512195121951</td><td style='border: 1px solid #dddddd'>0.7</td><td style='border: 1px solid #dddddd'>9e7215a4-16bb-464f-9e31-ff9270e66abb</td><td style='border: 1px solid #dddddd'>b9473da0-9ae7-474a-a397-2b6ce7aa6b65</td><td style='border: 1px solid #dddddd'>4d125552-83ee-456a-b1d4-3fd518743082</td><td style='border: 1px solid #dddddd'>Accuracy_evaluation_b5695cca-2a27-49e3-b2ec-e5be44bca944</td><td style='border: 1px solid #dddddd'></td></tr>\n",
       "            </table>\n",
       "        </body>\n",
       "        </HTML>"
      ],
      "text/plain": [
       "<IPython.core.display.HTML object>"
      ]
     },
     "metadata": {},
     "output_type": "display_data"
    }
   ],
   "source": [
    "subscription.quality_monitoring.show_table()"
   ]
  },
  {
   "cell_type": "code",
   "execution_count": 50,
   "metadata": {
    "scrolled": true
   },
   "outputs": [
    {
     "data": {
      "text/plain": [
       "[[datetime.datetime(2019, 3, 19, 14, 4, 38, 531000, tzinfo=tzutc()),\n",
       "  0.7469512195121951,\n",
       "  0.7,\n",
       "  '9e7215a4-16bb-464f-9e31-ff9270e66abb',\n",
       "  'b9473da0-9ae7-474a-a397-2b6ce7aa6b65',\n",
       "  '4d125552-83ee-456a-b1d4-3fd518743082',\n",
       "  'Accuracy_evaluation_b5695cca-2a27-49e3-b2ec-e5be44bca944',\n",
       "  '']]"
      ]
     },
     "execution_count": 50,
     "metadata": {},
     "output_type": "execute_result"
    }
   ],
   "source": [
    "subscription.quality_monitoring._get_data_from_rest_api()"
   ]
  },
  {
   "cell_type": "code",
   "execution_count": 51,
   "metadata": {
    "scrolled": true
   },
   "outputs": [
    {
     "data": {
      "text/plain": [
       "{'deployment_metrics': [{'asset': {'asset_id': 'b9473da0-9ae7-474a-a397-2b6ce7aa6b65',\n",
       "    'asset_type': 'model',\n",
       "    'created_at': '2019-03-19T14:00:27.876Z',\n",
       "    'name': 'Spark German Risk Model - Final',\n",
       "    'url': 'https://us-south.ml.cloud.ibm.com/v3/wml_instances/9e7215a4-16bb-464f-9e31-ff9270e66abb/published_models/b9473da0-9ae7-474a-a397-2b6ce7aa6b65'},\n",
       "   'deployment': {'created_at': '2019-03-19T14:00:27.898Z',\n",
       "    'deployment_id': '4d125552-83ee-456a-b1d4-3fd518743082',\n",
       "    'deployment_rn': '',\n",
       "    'deployment_type': 'online',\n",
       "    'name': 'Spark German Risk Deployment - Final',\n",
       "    'scoring_endpoint': {'request_headers': {'Content-Type': 'application/json'},\n",
       "     'url': 'https://us-south.ml.cloud.ibm.com/v3/wml_instances/9e7215a4-16bb-464f-9e31-ff9270e66abb/deployments/4d125552-83ee-456a-b1d4-3fd518743082/online'},\n",
       "    'url': 'https://us-south.ml.cloud.ibm.com/v3/wml_instances/9e7215a4-16bb-464f-9e31-ff9270e66abb/deployments/4d125552-83ee-456a-b1d4-3fd518743082'},\n",
       "   'metrics': [{'issues': 0,\n",
       "     'metric_type': 'performance',\n",
       "     'timestamp': '2019-03-19T14:03:27.412Z',\n",
       "     'value': {'records': 8, 'response_time': 287.0}},\n",
       "    {'issues': 0,\n",
       "     'metric_type': 'quality',\n",
       "     'timestamp': '2019-03-19T14:04:38.531Z',\n",
       "     'value': {'metrics': [{'name': 'area_under_roc',\n",
       "        'value': 0.7469512195121951},\n",
       "       {'name': 'area_under_pr', 'value': 0.33858998144712427}],\n",
       "      'quality': 0.7469512195121951,\n",
       "      'threshold': 0.7}}],\n",
       "   'subscription': {'subscription_id': 'b9473da0-9ae7-474a-a397-2b6ce7aa6b65',\n",
       "    'url': '/v1/data_marts/f94e20cb-aa92-4636-97ce-08de6b714d02/service_bindings/9e7215a4-16bb-464f-9e31-ff9270e66abb/subscriptions/b9473da0-9ae7-474a-a397-2b6ce7aa6b65'}}]}"
      ]
     },
     "execution_count": 51,
     "metadata": {},
     "output_type": "execute_result"
    }
   ],
   "source": [
    "ai_client.data_mart.get_deployment_metrics()"
   ]
  },
  {
   "cell_type": "markdown",
   "metadata": {},
   "source": [
    "## Fairness monitoring"
   ]
  },
  {
   "cell_type": "code",
   "execution_count": 52,
   "metadata": {
    "scrolled": true
   },
   "outputs": [],
   "source": [
    "subscription.fairness_monitoring.enable(\n",
    "            features=[\n",
    "                Feature(\"Sex\", majority=['male'], minority=['female'], threshold=0.95),\n",
    "                Feature(\"Age\", majority=[[26,75]], minority=[[18,25]], threshold=0.95)\n",
    "            ],\n",
    "            favourable_classes=['No Risk'],\n",
    "            unfavourable_classes=['Risk'],\n",
    "            min_records=1000,\n",
    "            training_data=pd_data\n",
    "        )"
   ]
  },
  {
   "cell_type": "markdown",
   "metadata": {},
   "source": [
    "## Score the model again now that monitoring is configured"
   ]
  },
  {
   "cell_type": "code",
   "execution_count": 53,
   "metadata": {},
   "outputs": [
    {
     "name": "stdout",
     "output_type": "stream",
     "text": [
      "--2019-03-19 09:05:41--  https://raw.githubusercontent.com/emartensibm/german-credit/master/german_credit_feed.json\n",
      "Resolving raw.githubusercontent.com (raw.githubusercontent.com)... 151.101.48.133\n",
      "Connecting to raw.githubusercontent.com (raw.githubusercontent.com)|151.101.48.133|:443... connected.\n",
      "HTTP request sent, awaiting response... 200 OK\n",
      "Length: 3076547 (2.9M) [text/plain]\n",
      "Saving to: ‘german_credit_feed.json’\n",
      "\n",
      "100%[======================================>] 3,076,547   --.-K/s   in 0.08s   \n",
      "\n",
      "2019-03-19 09:05:41 (35.4 MB/s) - ‘german_credit_feed.json’ saved [3076547/3076547]\n",
      "\n"
     ]
    }
   ],
   "source": [
    "!rm german_credit_feed.json\n",
    "!wget https://raw.githubusercontent.com/emartensibm/german-credit/master/german_credit_feed.json"
   ]
  },
  {
   "cell_type": "markdown",
   "metadata": {},
   "source": [
    "Score 1000 randomly chosen records"
   ]
  },
  {
   "cell_type": "code",
   "execution_count": 54,
   "metadata": {},
   "outputs": [
    {
     "name": "stdout",
     "output_type": "stream",
     "text": [
      "{'fields': ['CheckingStatus', 'LoanDuration', 'CreditHistory', 'LoanPurpose', 'LoanAmount', 'ExistingSavings', 'EmploymentDuration', 'InstallmentPercent', 'Sex', 'OthersOnLoan', 'CurrentResidenceDuration', 'OwnsProperty', 'Age', 'InstallmentPlans', 'Housing', 'ExistingCreditsCount', 'Job', 'Dependents', 'Telephone', 'ForeignWorker', 'CheckingStatus_IX', 'CreditHistory_IX', 'EmploymentDuration_IX', 'ExistingSavings_IX', 'ForeignWorker_IX', 'Housing_IX', 'InstallmentPlans_IX', 'Job_IX', 'LoanPurpose_IX', 'OthersOnLoan_IX', 'OwnsProperty_IX', 'Sex_IX', 'Telephone_IX', 'features', 'rawPrediction', 'probability', 'prediction', 'predictedLabel'], 'values': [['less_0', 22, 'prior_payments_delayed', 'radio_tv', 4182, '100_to_500', '1_to_4', 3, 'male', 'none', 2, 'car_other', 29, 'none', 'own', 1, 'skilled', 1, 'none', 'yes', 1.0, 0.0, 0.0, 1.0, 0.0, 0.0, 0.0, 0.0, 3.0, 0.0, 1.0, 0.0, 0.0, [21, [0, 2, 3, 7, 13, 14, 15, 16, 17, 18, 19, 20], [1.0, 3.0, 1.0, 1.0, 22.0, 4182.0, 3.0, 2.0, 22.0, 29.0, 1.0, 1.0]], [15.716452478051917, 4.2835475219480825], [0.7858226239025958, 0.21417737609740412], 0.0, 'No Risk'], ['0_to_200', 22, 'outstanding_credit', 'appliances', 2754, '500_to_1000', 'less_1', 2, 'male', 'none', 3, 'savings_insurance', 31, 'none', 'rent', 1, 'skilled', 1, 'none', 'yes', 2.0, 2.0, 3.0, 2.0, 0.0, 1.0, 0.0, 0.0, 4.0, 0.0, 0.0, 0.0, 0.0, [2.0, 2.0, 4.0, 2.0, 3.0, 0.0, 0.0, 0.0, 0.0, 1.0, 0.0, 0.0, 0.0, 22.0, 2754.0, 2.0, 3.0, 22.0, 31.0, 1.0, 1.0], [16.229968874341658, 3.77003112565834], [0.8114984437170829, 0.188501556282917], 0.0, 'No Risk'], ['no_checking', 32, 'credits_paid_to_date', 'appliances', 5359, '100_to_500', '4_to_7', 4, 'male', 'none', 4, 'savings_insurance', 36, 'none', 'free', 2, 'management_self-employed', 1, 'none', 'yes', 0.0, 1.0, 1.0, 1.0, 0.0, 2.0, 0.0, 2.0, 4.0, 0.0, 0.0, 0.0, 0.0, [0.0, 1.0, 4.0, 1.0, 1.0, 0.0, 0.0, 0.0, 0.0, 2.0, 2.0, 0.0, 0.0, 32.0, 5359.0, 4.0, 4.0, 32.0, 36.0, 2.0, 1.0], [11.258150835992582, 8.741849164007416], [0.5629075417996291, 0.4370924582003708], 0.0, 'No Risk'], ['no_checking', 44, 'prior_payments_delayed', 'appliances', 7818, 'unknown', '1_to_4', 5, 'male', 'co-applicant', 4, 'car_other', 46, 'none', 'free', 2, 'skilled', 1, 'yes', 'yes', 0.0, 0.0, 0.0, 4.0, 0.0, 2.0, 0.0, 0.0, 4.0, 1.0, 1.0, 0.0, 1.0, [0.0, 0.0, 4.0, 4.0, 0.0, 0.0, 1.0, 1.0, 0.0, 2.0, 0.0, 1.0, 0.0, 44.0, 7818.0, 5.0, 4.0, 44.0, 46.0, 2.0, 1.0], [5.510525973604126, 14.489474026395872], [0.27552629868020634, 0.7244737013197937], 1.0, 'Risk'], ['less_0', 13, 'all_credits_paid_back', 'vacation', 3056, 'less_100', 'unemployed', 1, 'female', 'co-applicant', 1, 'savings_insurance', 36, 'none', 'own', 1, 'skilled', 1, 'none', 'yes', 1.0, 3.0, 4.0, 0.0, 0.0, 0.0, 0.0, 0.0, 6.0, 1.0, 0.0, 1.0, 0.0, [1.0, 3.0, 6.0, 0.0, 4.0, 1.0, 1.0, 0.0, 0.0, 0.0, 0.0, 0.0, 0.0, 13.0, 3056.0, 1.0, 1.0, 13.0, 36.0, 1.0, 1.0], [18.040404862294313, 1.9595951377056826], [0.9020202431147158, 0.09797975688528415], 0.0, 'No Risk'], ['no_checking', 8, 'prior_payments_delayed', 'furniture', 3635, 'greater_1000', '1_to_4', 3, 'female', 'none', 4, 'savings_insurance', 43, 'none', 'own', 1, 'management_self-employed', 1, 'none', 'yes', 0.0, 0.0, 0.0, 3.0, 0.0, 0.0, 0.0, 2.0, 1.0, 0.0, 0.0, 1.0, 0.0, [21, [2, 3, 5, 10, 13, 14, 15, 16, 17, 18, 19, 20], [1.0, 3.0, 1.0, 2.0, 8.0, 3635.0, 3.0, 4.0, 8.0, 43.0, 1.0, 1.0]], [14.88453119037176, 5.11546880962824], [0.744226559518588, 0.255773440481412], 0.0, 'No Risk'], ['less_0', 4, 'all_credits_paid_back', 'car_new', 250, 'less_100', '1_to_4', 1, 'female', 'none', 2, 'savings_insurance', 24, 'none', 'rent', 1, 'skilled', 1, 'none', 'yes', 1.0, 3.0, 0.0, 0.0, 0.0, 1.0, 0.0, 0.0, 0.0, 0.0, 0.0, 1.0, 0.0, [21, [0, 1, 5, 9, 13, 14, 15, 16, 17, 18, 19, 20], [1.0, 3.0, 1.0, 1.0, 4.0, 250.0, 1.0, 2.0, 4.0, 24.0, 1.0, 1.0]], [18.890143823652775, 1.1098561763472214], [0.9445071911826389, 0.05549280881736108], 0.0, 'No Risk'], ['no_checking', 29, 'prior_payments_delayed', 'appliances', 1981, '500_to_1000', 'greater_7', 3, 'male', 'none', 2, 'car_other', 36, 'none', 'own', 1, 'skilled', 1, 'none', 'yes', 0.0, 0.0, 2.0, 2.0, 0.0, 0.0, 0.0, 0.0, 4.0, 0.0, 1.0, 0.0, 0.0, [21, [2, 3, 4, 7, 13, 14, 15, 16, 17, 18, 19, 20], [4.0, 2.0, 2.0, 1.0, 29.0, 1981.0, 3.0, 2.0, 29.0, 36.0, 1.0, 1.0]], [12.556167862305665, 7.443832137694333], [0.6278083931152832, 0.37219160688471664], 0.0, 'No Risk'], ['no_checking', 17, 'credits_paid_to_date', 'car_new', 2022, '100_to_500', '4_to_7', 4, 'male', 'none', 3, 'car_other', 38, 'stores', 'own', 1, 'unskilled', 1, 'yes', 'yes', 0.0, 1.0, 1.0, 1.0, 0.0, 0.0, 1.0, 1.0, 0.0, 0.0, 1.0, 0.0, 1.0, [0.0, 1.0, 0.0, 1.0, 1.0, 0.0, 0.0, 1.0, 1.0, 0.0, 1.0, 1.0, 0.0, 17.0, 2022.0, 4.0, 3.0, 17.0, 38.0, 1.0, 1.0], [12.326726589712198, 7.673273410287801], [0.6163363294856099, 0.38366367051439004], 0.0, 'No Risk'], ['less_0', 12, 'prior_payments_delayed', 'furniture', 3141, 'less_100', '4_to_7', 3, 'female', 'none', 2, 'car_other', 39, 'stores', 'own', 1, 'unskilled', 1, 'yes', 'yes', 1.0, 0.0, 1.0, 0.0, 0.0, 0.0, 1.0, 1.0, 1.0, 0.0, 1.0, 1.0, 1.0, [1.0, 0.0, 1.0, 0.0, 1.0, 1.0, 0.0, 1.0, 1.0, 0.0, 1.0, 1.0, 0.0, 12.0, 3141.0, 3.0, 2.0, 12.0, 39.0, 1.0, 1.0], [15.295841783598124, 4.704158216401875], [0.7647920891799063, 0.23520791082009374], 0.0, 'No Risk'], ['less_0', 16, 'credits_paid_to_date', 'car_new', 250, 'less_100', 'unemployed', 2, 'female', 'none', 1, 'real_estate', 20, 'none', 'own', 1, 'skilled', 1, 'none', 'yes', 1.0, 1.0, 4.0, 0.0, 0.0, 0.0, 0.0, 0.0, 0.0, 0.0, 2.0, 1.0, 0.0, [1.0, 1.0, 0.0, 0.0, 4.0, 1.0, 0.0, 2.0, 0.0, 0.0, 0.0, 0.0, 0.0, 16.0, 250.0, 2.0, 1.0, 16.0, 20.0, 1.0, 1.0], [19.59008699407663, 0.40991300592336954], [0.9795043497038316, 0.02049565029616848], 0.0, 'No Risk'], ['no_checking', 43, 'prior_payments_delayed', 'repairs', 3767, 'unknown', '4_to_7', 4, 'female', 'none', 4, 'car_other', 36, 'bank', 'own', 3, 'unemployed', 2, 'none', 'yes', 0.0, 0.0, 1.0, 4.0, 0.0, 0.0, 2.0, 3.0, 5.0, 0.0, 1.0, 1.0, 0.0, [0.0, 0.0, 5.0, 4.0, 1.0, 1.0, 0.0, 1.0, 2.0, 0.0, 3.0, 0.0, 0.0, 43.0, 3767.0, 4.0, 4.0, 43.0, 36.0, 3.0, 2.0], [9.145237325497948, 10.854762674502052], [0.4572618662748974, 0.5427381337251026], 1.0, 'Risk'], ['no_checking', 28, 'prior_payments_delayed', 'appliances', 5645, '100_to_500', '1_to_4', 3, 'female', 'none', 3, 'car_other', 53, 'none', 'own', 2, 'skilled', 1, 'yes', 'yes', 0.0, 0.0, 0.0, 1.0, 0.0, 0.0, 0.0, 0.0, 4.0, 0.0, 1.0, 1.0, 1.0, [0.0, 0.0, 4.0, 1.0, 0.0, 1.0, 0.0, 1.0, 0.0, 0.0, 0.0, 1.0, 0.0, 28.0, 5645.0, 3.0, 3.0, 28.0, 53.0, 2.0, 1.0], [9.48495554770396, 10.515044452296042], [0.47424777738519797, 0.5257522226148021], 1.0, 'Risk'], ['less_0', 22, 'all_credits_paid_back', 'furniture', 1109, '500_to_1000', 'unemployed', 2, 'female', 'none', 2, 'real_estate', 26, 'none', 'own', 2, 'skilled', 1, 'yes', 'yes', 1.0, 3.0, 4.0, 2.0, 0.0, 0.0, 0.0, 0.0, 1.0, 0.0, 2.0, 1.0, 1.0, [1.0, 3.0, 1.0, 2.0, 4.0, 1.0, 0.0, 2.0, 0.0, 0.0, 0.0, 1.0, 0.0, 22.0, 1109.0, 2.0, 2.0, 22.0, 26.0, 2.0, 1.0], [18.262200700494535, 1.7377992995054692], [0.9131100350247267, 0.08688996497527345], 0.0, 'No Risk'], ['no_checking', 20, 'prior_payments_delayed', 'radio_tv', 1708, 'unknown', '1_to_4', 3, 'male', 'none', 4, 'real_estate', 41, 'none', 'own', 2, 'management_self-employed', 2, 'yes', 'yes', 0.0, 0.0, 0.0, 4.0, 0.0, 0.0, 0.0, 2.0, 3.0, 0.0, 2.0, 0.0, 1.0, [0.0, 0.0, 3.0, 4.0, 0.0, 0.0, 0.0, 2.0, 0.0, 0.0, 2.0, 1.0, 0.0, 20.0, 1708.0, 3.0, 4.0, 20.0, 41.0, 2.0, 2.0], [13.51384589674713, 6.48615410325287], [0.6756922948373565, 0.3243077051626435], 0.0, 'No Risk'], ['0_to_200', 20, 'prior_payments_delayed', 'radio_tv', 3994, '100_to_500', '1_to_4', 2, 'female', 'none', 2, 'car_other', 36, 'bank', 'rent', 1, 'unemployed', 1, 'none', 'yes', 2.0, 0.0, 0.0, 1.0, 0.0, 1.0, 2.0, 3.0, 3.0, 0.0, 1.0, 1.0, 0.0, [2.0, 0.0, 3.0, 1.0, 0.0, 1.0, 0.0, 1.0, 2.0, 1.0, 3.0, 0.0, 0.0, 20.0, 3994.0, 2.0, 2.0, 20.0, 36.0, 1.0, 1.0], [15.541672342759439, 4.458327657240561], [0.7770836171379719, 0.22291638286202806], 0.0, 'No Risk'], ['no_checking', 28, 'prior_payments_delayed', 'furniture', 5162, '100_to_500', '4_to_7', 3, 'male', 'none', 4, 'car_other', 45, 'none', 'own', 2, 'management_self-employed', 1, 'yes', 'yes', 0.0, 0.0, 1.0, 1.0, 0.0, 0.0, 0.0, 2.0, 1.0, 0.0, 1.0, 0.0, 1.0, [0.0, 0.0, 1.0, 1.0, 1.0, 0.0, 0.0, 1.0, 0.0, 0.0, 2.0, 1.0, 0.0, 28.0, 5162.0, 3.0, 4.0, 28.0, 45.0, 2.0, 1.0], [9.053302195071156, 10.946697804928846], [0.4526651097535578, 0.5473348902464423], 1.0, 'Risk'], ['0_to_200', 27, 'credits_paid_to_date', 'car_used', 3525, 'less_100', '4_to_7', 3, 'male', 'none', 2, 'unknown', 37, 'bank', 'own', 1, 'unemployed', 1, 'none', 'yes', 2.0, 1.0, 1.0, 0.0, 0.0, 0.0, 2.0, 3.0, 2.0, 0.0, 3.0, 0.0, 0.0, [2.0, 1.0, 2.0, 0.0, 1.0, 0.0, 0.0, 3.0, 2.0, 0.0, 3.0, 0.0, 0.0, 27.0, 3525.0, 3.0, 2.0, 27.0, 37.0, 1.0, 1.0], [14.155150404172245, 5.844849595827758], [0.7077575202086122, 0.29224247979138784], 0.0, 'No Risk'], ['no_checking', 37, 'outstanding_credit', 'furniture', 2947, 'unknown', '4_to_7', 3, 'male', 'guarantor', 3, 'savings_insurance', 44, 'none', 'free', 2, 'skilled', 2, 'yes', 'yes', 0.0, 2.0, 1.0, 4.0, 0.0, 2.0, 0.0, 0.0, 1.0, 2.0, 0.0, 0.0, 1.0, [0.0, 2.0, 1.0, 4.0, 1.0, 0.0, 2.0, 0.0, 0.0, 2.0, 0.0, 1.0, 0.0, 37.0, 2947.0, 3.0, 3.0, 37.0, 44.0, 2.0, 2.0], [7.663335843876239, 12.336664156123762], [0.38316679219381194, 0.6168332078061881], 1.0, 'Risk'], ['0_to_200', 18, 'credits_paid_to_date', 'car_used', 4054, '500_to_1000', '1_to_4', 2, 'female', 'none', 3, 'savings_insurance', 36, 'none', 'own', 1, 'skilled', 1, 'none', 'yes', 2.0, 1.0, 0.0, 2.0, 0.0, 0.0, 0.0, 0.0, 2.0, 0.0, 0.0, 1.0, 0.0, [2.0, 1.0, 2.0, 2.0, 0.0, 1.0, 0.0, 0.0, 0.0, 0.0, 0.0, 0.0, 0.0, 18.0, 4054.0, 2.0, 3.0, 18.0, 36.0, 1.0, 1.0], [14.447197923795455, 5.552802076204547], [0.7223598961897726, 0.2776401038102273], 0.0, 'No Risk'], ['no_checking', 27, 'prior_payments_delayed', 'furniture', 5346, '100_to_500', '1_to_4', 4, 'male', 'none', 5, 'car_other', 38, 'none', 'own', 1, 'management_self-employed', 2, 'yes', 'yes', 0.0, 0.0, 0.0, 1.0, 0.0, 0.0, 0.0, 2.0, 1.0, 0.0, 1.0, 0.0, 1.0, [0.0, 0.0, 1.0, 1.0, 0.0, 0.0, 0.0, 1.0, 0.0, 0.0, 2.0, 1.0, 0.0, 27.0, 5346.0, 4.0, 5.0, 27.0, 38.0, 1.0, 2.0], [11.364892363050616, 8.635107636949382], [0.5682446181525308, 0.4317553818474691], 0.0, 'No Risk'], ['less_0', 9, 'credits_paid_to_date', 'furniture', 389, 'less_100', 'less_1', 2, 'female', 'none', 2, 'car_other', 27, 'bank', 'rent', 1, 'unemployed', 1, 'none', 'yes', 1.0, 1.0, 3.0, 0.0, 0.0, 1.0, 2.0, 3.0, 1.0, 0.0, 1.0, 1.0, 0.0, [1.0, 1.0, 1.0, 0.0, 3.0, 1.0, 0.0, 1.0, 2.0, 1.0, 3.0, 0.0, 0.0, 9.0, 389.0, 2.0, 2.0, 9.0, 27.0, 1.0, 1.0], [18.43355621158844, 1.5664437884115623], [0.9216778105794219, 0.07832218942057811], 0.0, 'No Risk'], ['less_0', 28, 'credits_paid_to_date', 'retraining', 250, '500_to_1000', '4_to_7', 2, 'male', 'none', 1, 'real_estate', 22, 'bank', 'rent', 1, 'unemployed', 1, 'none', 'yes', 1.0, 1.0, 1.0, 2.0, 0.0, 1.0, 2.0, 3.0, 8.0, 0.0, 2.0, 0.0, 0.0, [1.0, 1.0, 8.0, 2.0, 1.0, 0.0, 0.0, 2.0, 2.0, 1.0, 3.0, 0.0, 0.0, 28.0, 250.0, 2.0, 1.0, 28.0, 22.0, 1.0, 1.0], [17.61072975556979, 2.389270244430216], [0.8805364877784893, 0.11946351222151078], 0.0, 'No Risk'], ['no_checking', 30, 'prior_payments_delayed', 'car_used', 2567, '500_to_1000', 'greater_7', 3, 'male', 'none', 3, 'car_other', 50, 'none', 'own', 1, 'skilled', 1, 'yes', 'yes', 0.0, 0.0, 2.0, 2.0, 0.0, 0.0, 0.0, 0.0, 2.0, 0.0, 1.0, 0.0, 1.0, [0.0, 0.0, 2.0, 2.0, 2.0, 0.0, 0.0, 1.0, 0.0, 0.0, 0.0, 1.0, 0.0, 30.0, 2567.0, 3.0, 3.0, 30.0, 50.0, 1.0, 1.0], [8.129052487701873, 11.870947512298129], [0.40645262438509366, 0.5935473756149064], 1.0, 'Risk'], ['less_0', 4, 'all_credits_paid_back', 'car_new', 1345, 'less_100', 'less_1', 1, 'female', 'none', 2, 'car_other', 32, 'none', 'own', 2, 'skilled', 1, 'none', 'yes', 1.0, 3.0, 3.0, 0.0, 0.0, 0.0, 0.0, 0.0, 0.0, 0.0, 1.0, 1.0, 0.0, [1.0, 3.0, 0.0, 0.0, 3.0, 1.0, 0.0, 1.0, 0.0, 0.0, 0.0, 0.0, 0.0, 4.0, 1345.0, 1.0, 2.0, 4.0, 32.0, 2.0, 1.0], [17.724210576694112, 2.275789423305882], [0.886210528834706, 0.11378947116529414], 0.0, 'No Risk'], ['less_0', 12, 'all_credits_paid_back', 'car_new', 3102, 'less_100', 'less_1', 2, 'female', 'co-applicant', 3, 'savings_insurance', 33, 'stores', 'own', 1, 'unskilled', 1, 'none', 'yes', 1.0, 3.0, 3.0, 0.0, 0.0, 0.0, 1.0, 1.0, 0.0, 1.0, 0.0, 1.0, 0.0, [1.0, 3.0, 0.0, 0.0, 3.0, 1.0, 1.0, 0.0, 1.0, 0.0, 1.0, 0.0, 0.0, 12.0, 3102.0, 2.0, 3.0, 12.0, 33.0, 1.0, 1.0], [17.24465839494765, 2.7553416050523483], [0.8622329197473826, 0.13776708025261744], 0.0, 'No Risk'], ['less_0', 12, 'no_credits', 'car_new', 250, 'less_100', 'less_1', 1, 'female', 'co-applicant', 2, 'savings_insurance', 20, 'bank', 'rent', 1, 'unemployed', 1, 'none', 'yes', 1.0, 4.0, 3.0, 0.0, 0.0, 1.0, 2.0, 3.0, 0.0, 1.0, 0.0, 1.0, 0.0, [1.0, 4.0, 0.0, 0.0, 3.0, 1.0, 1.0, 0.0, 2.0, 1.0, 3.0, 0.0, 0.0, 12.0, 250.0, 1.0, 2.0, 12.0, 20.0, 1.0, 1.0], [19.105703006252668, 0.8942969937473308], [0.9552851503126334, 0.04471484968736654], 0.0, 'No Risk'], ['no_checking', 27, 'outstanding_credit', 'radio_tv', 4130, 'unknown', 'greater_7', 5, 'male', 'none', 5, 'savings_insurance', 34, 'none', 'own', 2, 'skilled', 2, 'yes', 'yes', 0.0, 2.0, 2.0, 4.0, 0.0, 0.0, 0.0, 0.0, 3.0, 0.0, 0.0, 0.0, 1.0, [0.0, 2.0, 3.0, 4.0, 2.0, 0.0, 0.0, 0.0, 0.0, 0.0, 0.0, 1.0, 0.0, 27.0, 4130.0, 5.0, 5.0, 27.0, 34.0, 2.0, 2.0], [9.274433308926678, 10.72556669107332], [0.4637216654463339, 0.536278334553666], 1.0, 'Risk'], ['less_0', 4, 'all_credits_paid_back', 'car_new', 1450, 'less_100', 'less_1', 1, 'male', 'none', 2, 'savings_insurance', 25, 'none', 'rent', 1, 'skilled', 2, 'none', 'yes', 1.0, 3.0, 3.0, 0.0, 0.0, 1.0, 0.0, 0.0, 0.0, 0.0, 0.0, 0.0, 0.0, [21, [0, 1, 4, 9, 13, 14, 15, 16, 17, 18, 19, 20], [1.0, 3.0, 3.0, 1.0, 4.0, 1450.0, 1.0, 2.0, 4.0, 25.0, 1.0, 2.0]], [19.268441382391895, 0.7315586176080995], [0.963422069119595, 0.03657793088040499], 0.0, 'No Risk'], ['no_checking', 32, 'prior_payments_delayed', 'appliances', 5311, '100_to_500', '4_to_7', 4, 'male', 'none', 5, 'car_other', 43, 'none', 'own', 3, 'skilled', 1, 'yes', 'yes', 0.0, 0.0, 1.0, 1.0, 0.0, 0.0, 0.0, 0.0, 4.0, 0.0, 1.0, 0.0, 1.0, [0.0, 0.0, 4.0, 1.0, 1.0, 0.0, 0.0, 1.0, 0.0, 0.0, 0.0, 1.0, 0.0, 32.0, 5311.0, 4.0, 5.0, 32.0, 43.0, 3.0, 1.0], [8.661815905541943, 11.338184094458057], [0.43309079527709715, 0.5669092047229028], 1.0, 'Risk'], ['no_checking', 36, 'outstanding_credit', 'radio_tv', 3054, 'greater_1000', 'greater_7', 5, 'male', 'co-applicant', 4, 'car_other', 58, 'none', 'free', 2, 'skilled', 1, 'yes', 'yes', 0.0, 2.0, 2.0, 3.0, 0.0, 2.0, 0.0, 0.0, 3.0, 1.0, 1.0, 0.0, 1.0, [0.0, 2.0, 3.0, 3.0, 2.0, 0.0, 1.0, 1.0, 0.0, 2.0, 0.0, 1.0, 0.0, 36.0, 3054.0, 5.0, 4.0, 36.0, 58.0, 2.0, 1.0], [3.0308194491640124, 16.96918055083599], [0.15154097245820058, 0.8484590275417994], 1.0, 'Risk'], ['0_to_200', 5, 'all_credits_paid_back', 'car_new', 250, 'less_100', 'less_1', 2, 'female', 'none', 2, 'real_estate', 19, 'none', 'own', 1, 'skilled', 1, 'none', 'yes', 2.0, 3.0, 3.0, 0.0, 0.0, 0.0, 0.0, 0.0, 0.0, 0.0, 2.0, 1.0, 0.0, [2.0, 3.0, 0.0, 0.0, 3.0, 1.0, 0.0, 2.0, 0.0, 0.0, 0.0, 0.0, 0.0, 5.0, 250.0, 2.0, 2.0, 5.0, 19.0, 1.0, 1.0], [19.68540570358526, 0.3145942964147401], [0.9842702851792631, 0.015729714820737005], 0.0, 'No Risk'], ['less_0', 11, 'all_credits_paid_back', 'appliances', 250, 'less_100', '1_to_4', 1, 'female', 'none', 1, 'savings_insurance', 23, 'stores', 'own', 1, 'skilled', 1, 'none', 'yes', 1.0, 3.0, 0.0, 0.0, 0.0, 0.0, 1.0, 0.0, 4.0, 0.0, 0.0, 1.0, 0.0, [1.0, 3.0, 4.0, 0.0, 0.0, 1.0, 0.0, 0.0, 1.0, 0.0, 0.0, 0.0, 0.0, 11.0, 250.0, 1.0, 1.0, 11.0, 23.0, 1.0, 1.0], [18.750974820255514, 1.2490251797444836], [0.9375487410127759, 0.06245125898722419], 0.0, 'No Risk'], ['less_0', 38, 'prior_payments_delayed', 'appliances', 6930, 'less_100', '1_to_4', 3, 'male', 'none', 2, 'savings_insurance', 31, 'none', 'own', 1, 'skilled', 2, 'yes', 'yes', 1.0, 0.0, 0.0, 0.0, 0.0, 0.0, 0.0, 0.0, 4.0, 0.0, 0.0, 0.0, 1.0, [21, [0, 2, 11, 13, 14, 15, 16, 17, 18, 19, 20], [1.0, 4.0, 1.0, 38.0, 6930.0, 3.0, 2.0, 38.0, 31.0, 1.0, 2.0]], [13.402326172828376, 6.597673827171627], [0.6701163086414187, 0.32988369135858125], 0.0, 'No Risk'], ['no_checking', 55, 'outstanding_credit', 'repairs', 3651, 'unknown', 'greater_7', 5, 'female', 'co-applicant', 4, 'savings_insurance', 59, 'none', 'free', 3, 'skilled', 2, 'yes', 'yes', 0.0, 2.0, 2.0, 4.0, 0.0, 2.0, 0.0, 0.0, 5.0, 1.0, 0.0, 1.0, 1.0, [0.0, 2.0, 5.0, 4.0, 2.0, 1.0, 1.0, 0.0, 0.0, 2.0, 0.0, 1.0, 0.0, 55.0, 3651.0, 5.0, 4.0, 55.0, 59.0, 3.0, 2.0], [3.986043253479768, 16.013956746520233], [0.1993021626739884, 0.8006978373260116], 1.0, 'Risk'], ['no_checking', 25, 'credits_paid_to_date', 'furniture', 3648, '100_to_500', '1_to_4', 4, 'male', 'co-applicant', 5, 'savings_insurance', 48, 'none', 'free', 1, 'skilled', 1, 'yes', 'yes', 0.0, 1.0, 0.0, 1.0, 0.0, 2.0, 0.0, 0.0, 1.0, 1.0, 0.0, 0.0, 1.0, [0.0, 1.0, 1.0, 1.0, 0.0, 0.0, 1.0, 0.0, 0.0, 2.0, 0.0, 1.0, 0.0, 25.0, 3648.0, 4.0, 5.0, 25.0, 48.0, 1.0, 1.0], [12.046607044557737, 7.953392955442261], [0.6023303522278869, 0.39766964777211306], 0.0, 'No Risk'], ['no_checking', 10, 'no_credits', 'car_new', 600, 'less_100', 'less_1', 3, 'male', 'none', 4, 'real_estate', 28, 'none', 'own', 1, 'management_self-employed', 1, 'none', 'yes', 0.0, 4.0, 3.0, 0.0, 0.0, 0.0, 0.0, 2.0, 0.0, 0.0, 2.0, 0.0, 0.0, [21, [1, 4, 7, 10, 13, 14, 15, 16, 17, 18, 19, 20], [4.0, 3.0, 2.0, 2.0, 10.0, 600.0, 3.0, 4.0, 10.0, 28.0, 1.0, 1.0]], [18.56424240587696, 1.4357575941230416], [0.9282121202938479, 0.07178787970615207], 0.0, 'No Risk'], ['no_checking', 9, 'credits_paid_to_date', 'car_new', 1108, 'less_100', '1_to_4', 3, 'male', 'none', 4, 'savings_insurance', 29, 'stores', 'own', 1, 'unskilled', 1, 'none', 'yes', 0.0, 1.0, 0.0, 0.0, 0.0, 0.0, 1.0, 1.0, 0.0, 0.0, 0.0, 0.0, 0.0, [21, [1, 8, 10, 13, 14, 15, 16, 17, 18, 19, 20], [1.0, 1.0, 1.0, 9.0, 1108.0, 3.0, 4.0, 9.0, 29.0, 1.0, 1.0]], [16.31304194153185, 3.6869580584681505], [0.8156520970765925, 0.18434790292340753], 0.0, 'No Risk'], ['no_checking', 30, 'prior_payments_delayed', 'appliances', 5971, '500_to_1000', 'greater_7', 3, 'female', 'co-applicant', 3, 'savings_insurance', 50, 'stores', 'free', 1, 'unskilled', 1, 'none', 'yes', 0.0, 0.0, 2.0, 2.0, 0.0, 2.0, 1.0, 1.0, 4.0, 1.0, 0.0, 1.0, 0.0, [0.0, 0.0, 4.0, 2.0, 2.0, 1.0, 1.0, 0.0, 1.0, 2.0, 1.0, 0.0, 0.0, 30.0, 5971.0, 3.0, 3.0, 30.0, 50.0, 1.0, 1.0], [7.523360731960048, 12.47663926803995], [0.3761680365980024, 0.6238319634019975], 1.0, 'Risk'], ['greater_200', 13, 'prior_payments_delayed', 'furniture', 250, '100_to_500', 'unemployed', 1, 'female', 'none', 3, 'savings_insurance', 34, 'bank', 'rent', 1, 'unemployed', 1, 'none', 'yes', 3.0, 0.0, 4.0, 1.0, 0.0, 1.0, 2.0, 3.0, 1.0, 0.0, 0.0, 1.0, 0.0, [3.0, 0.0, 1.0, 1.0, 4.0, 1.0, 0.0, 0.0, 2.0, 1.0, 3.0, 0.0, 0.0, 13.0, 250.0, 1.0, 3.0, 13.0, 34.0, 1.0, 1.0], [16.672531330035262, 3.327468669964736], [0.8336265665017631, 0.1663734334982368], 0.0, 'No Risk'], ['no_checking', 25, 'prior_payments_delayed', 'education', 5664, '100_to_500', '1_to_4', 4, 'female', 'none', 3, 'car_other', 55, 'none', 'own', 2, 'skilled', 1, 'none', 'yes', 0.0, 0.0, 0.0, 1.0, 0.0, 0.0, 0.0, 0.0, 7.0, 0.0, 1.0, 1.0, 0.0, [21, [2, 3, 5, 7, 13, 14, 15, 16, 17, 18, 19, 20], [7.0, 1.0, 1.0, 1.0, 25.0, 5664.0, 4.0, 3.0, 25.0, 55.0, 2.0, 1.0]], [9.25179808092374, 10.748201919076262], [0.462589904046187, 0.5374100959538131], 1.0, 'Risk'], ['no_checking', 8, 'credits_paid_to_date', 'car_used', 3301, '100_to_500', '4_to_7', 4, 'male', 'none', 4, 'savings_insurance', 23, 'none', 'own', 2, 'management_self-employed', 1, 'yes', 'yes', 0.0, 1.0, 1.0, 1.0, 0.0, 0.0, 0.0, 2.0, 2.0, 0.0, 0.0, 0.0, 1.0, [0.0, 1.0, 2.0, 1.0, 1.0, 0.0, 0.0, 0.0, 0.0, 0.0, 2.0, 1.0, 0.0, 8.0, 3301.0, 4.0, 4.0, 8.0, 23.0, 2.0, 1.0], [13.113343052461913, 6.8866569475380865], [0.6556671526230956, 0.34433284737690434], 0.0, 'No Risk'], ['no_checking', 33, 'prior_payments_delayed', 'radio_tv', 2617, 'unknown', '4_to_7', 3, 'male', 'none', 4, 'savings_insurance', 35, 'none', 'own', 1, 'skilled', 1, 'none', 'yes', 0.0, 0.0, 1.0, 4.0, 0.0, 0.0, 0.0, 0.0, 3.0, 0.0, 0.0, 0.0, 0.0, [21, [2, 3, 4, 13, 14, 15, 16, 17, 18, 19, 20], [3.0, 4.0, 1.0, 33.0, 2617.0, 3.0, 4.0, 33.0, 35.0, 1.0, 1.0]], [12.183894559848277, 7.816105440151724], [0.6091947279924138, 0.3908052720075862], 0.0, 'No Risk'], ['no_checking', 29, 'outstanding_credit', 'repairs', 7581, '500_to_1000', '4_to_7', 4, 'male', 'co-applicant', 3, 'unknown', 44, 'stores', 'own', 2, 'skilled', 2, 'yes', 'yes', 0.0, 2.0, 1.0, 2.0, 0.0, 0.0, 1.0, 0.0, 5.0, 1.0, 3.0, 0.0, 1.0, [0.0, 2.0, 5.0, 2.0, 1.0, 0.0, 1.0, 3.0, 1.0, 0.0, 0.0, 1.0, 0.0, 29.0, 7581.0, 4.0, 3.0, 29.0, 44.0, 2.0, 2.0], [3.92139144775334, 16.07860855224666], [0.196069572387667, 0.803930427612333], 1.0, 'Risk'], ['0_to_200', 21, 'credits_paid_to_date', 'radio_tv', 3846, 'less_100', '1_to_4', 2, 'female', 'co-applicant', 3, 'car_other', 51, 'stores', 'own', 1, 'unskilled', 1, 'yes', 'yes', 2.0, 1.0, 0.0, 0.0, 0.0, 0.0, 1.0, 1.0, 3.0, 1.0, 1.0, 1.0, 1.0, [2.0, 1.0, 3.0, 0.0, 0.0, 1.0, 1.0, 1.0, 1.0, 0.0, 1.0, 1.0, 0.0, 21.0, 3846.0, 2.0, 3.0, 21.0, 51.0, 1.0, 1.0], [12.462850775504949, 7.537149224495052], [0.6231425387752474, 0.3768574612247526], 0.0, 'No Risk'], ['no_checking', 32, 'outstanding_credit', 'appliances', 7812, 'unknown', 'greater_7', 5, 'male', 'co-applicant', 4, 'unknown', 49, 'stores', 'own', 2, 'unskilled', 2, 'none', 'yes', 0.0, 2.0, 2.0, 4.0, 0.0, 0.0, 1.0, 1.0, 4.0, 1.0, 3.0, 0.0, 0.0, [0.0, 2.0, 4.0, 4.0, 2.0, 0.0, 1.0, 3.0, 1.0, 0.0, 1.0, 0.0, 0.0, 32.0, 7812.0, 5.0, 4.0, 32.0, 49.0, 2.0, 2.0], [3.440188752272387, 16.559811247727612], [0.17200943761361936, 0.8279905623863806], 1.0, 'Risk'], ['no_checking', 51, 'outstanding_credit', 'vacation', 6773, 'unknown', 'greater_7', 5, 'female', 'co-applicant', 6, 'car_other', 39, 'none', 'free', 2, 'management_self-employed', 2, 'yes', 'yes', 0.0, 2.0, 2.0, 4.0, 0.0, 2.0, 0.0, 2.0, 6.0, 1.0, 1.0, 1.0, 1.0, [0.0, 2.0, 6.0, 4.0, 2.0, 1.0, 1.0, 1.0, 0.0, 2.0, 2.0, 1.0, 0.0, 51.0, 6773.0, 5.0, 6.0, 51.0, 39.0, 2.0, 2.0], [2.886695905176882, 17.113304094823118], [0.1443347952588441, 0.8556652047411559], 1.0, 'Risk'], ['no_checking', 31, 'prior_payments_delayed', 'car_used', 5011, '100_to_500', '1_to_4', 3, 'male', 'none', 3, 'savings_insurance', 41, 'stores', 'own', 1, 'unskilled', 1, 'yes', 'no', 0.0, 0.0, 0.0, 1.0, 1.0, 0.0, 1.0, 1.0, 2.0, 0.0, 0.0, 0.0, 1.0, [0.0, 0.0, 2.0, 1.0, 0.0, 0.0, 0.0, 0.0, 1.0, 0.0, 1.0, 1.0, 1.0, 31.0, 5011.0, 3.0, 3.0, 31.0, 41.0, 1.0, 1.0], [12.688856691096898, 7.311143308903103], [0.634442834554845, 0.36555716544515515], 0.0, 'No Risk'], ['less_0', 21, 'prior_payments_delayed', 'education', 250, 'less_100', 'less_1', 1, 'male', 'none', 2, 'real_estate', 25, 'stores', 'own', 1, 'skilled', 1, 'yes', 'yes', 1.0, 0.0, 3.0, 0.0, 0.0, 0.0, 1.0, 0.0, 7.0, 0.0, 2.0, 0.0, 1.0, [1.0, 0.0, 7.0, 0.0, 3.0, 0.0, 0.0, 2.0, 1.0, 0.0, 0.0, 1.0, 0.0, 21.0, 250.0, 1.0, 2.0, 21.0, 25.0, 1.0, 1.0], [18.24446643362735, 1.7555335663726537], [0.9122233216813672, 0.08777667831863267], 0.0, 'No Risk'], ['0_to_200', 36, 'prior_payments_delayed', 'furniture', 1928, '100_to_500', 'less_1', 1, 'male', 'none', 3, 'car_other', 26, 'stores', 'own', 1, 'skilled', 1, 'none', 'yes', 2.0, 0.0, 3.0, 1.0, 0.0, 0.0, 1.0, 0.0, 1.0, 0.0, 1.0, 0.0, 0.0, [2.0, 0.0, 1.0, 1.0, 3.0, 0.0, 0.0, 1.0, 1.0, 0.0, 0.0, 0.0, 0.0, 36.0, 1928.0, 1.0, 3.0, 36.0, 26.0, 1.0, 1.0], [14.205685290235486, 5.794314709764513], [0.7102842645117743, 0.28971573548822566], 0.0, 'No Risk'], ['no_checking', 8, 'prior_payments_delayed', 'furniture', 3319, '100_to_500', '1_to_4', 2, 'male', 'none', 2, 'car_other', 32, 'none', 'rent', 1, 'skilled', 1, 'yes', 'yes', 0.0, 0.0, 0.0, 1.0, 0.0, 1.0, 0.0, 0.0, 1.0, 0.0, 1.0, 0.0, 1.0, [0.0, 0.0, 1.0, 1.0, 0.0, 0.0, 0.0, 1.0, 0.0, 1.0, 0.0, 1.0, 0.0, 8.0, 3319.0, 2.0, 2.0, 8.0, 32.0, 1.0, 1.0], [15.997769236443732, 4.002230763556268], [0.7998884618221866, 0.2001115381778134], 0.0, 'No Risk'], ['0_to_200', 17, 'all_credits_paid_back', 'vacation', 3673, 'less_100', 'less_1', 3, 'female', 'none', 2, 'real_estate', 24, 'none', 'own', 2, 'skilled', 1, 'yes', 'yes', 2.0, 3.0, 3.0, 0.0, 0.0, 0.0, 0.0, 0.0, 6.0, 0.0, 2.0, 1.0, 1.0, [2.0, 3.0, 6.0, 0.0, 3.0, 1.0, 0.0, 2.0, 0.0, 0.0, 0.0, 1.0, 0.0, 17.0, 3673.0, 3.0, 2.0, 17.0, 24.0, 2.0, 1.0], [18.546440256828294, 1.453559743171699], [0.927322012841415, 0.07267798715858496], 0.0, 'No Risk'], ['no_checking', 24, 'prior_payments_delayed', 'appliances', 4849, 'greater_1000', 'greater_7', 3, 'male', 'none', 3, 'savings_insurance', 43, 'none', 'own', 2, 'skilled', 2, 'none', 'yes', 0.0, 0.0, 2.0, 3.0, 0.0, 0.0, 0.0, 0.0, 4.0, 0.0, 0.0, 0.0, 0.0, [21, [2, 3, 4, 13, 14, 15, 16, 17, 18, 19, 20], [4.0, 3.0, 2.0, 24.0, 4849.0, 3.0, 3.0, 24.0, 43.0, 2.0, 2.0]], [11.467598472314236, 8.532401527685762], [0.5733799236157118, 0.4266200763842881], 0.0, 'No Risk'], ['no_checking', 29, 'outstanding_credit', 'furniture', 6046, '500_to_1000', 'greater_7', 4, 'female', 'co-applicant', 4, 'car_other', 56, 'none', 'free', 2, 'skilled', 1, 'yes', 'yes', 0.0, 2.0, 2.0, 2.0, 0.0, 2.0, 0.0, 0.0, 1.0, 1.0, 1.0, 1.0, 1.0, [0.0, 2.0, 1.0, 2.0, 2.0, 1.0, 1.0, 1.0, 0.0, 2.0, 0.0, 1.0, 0.0, 29.0, 6046.0, 4.0, 4.0, 29.0, 56.0, 2.0, 1.0], [2.51839265107312, 17.48160734892688], [0.12591963255365599, 0.874080367446344], 1.0, 'Risk'], ['no_checking', 31, 'prior_payments_delayed', 'appliances', 3274, '500_to_1000', '1_to_4', 3, 'female', 'none', 3, 'car_other', 40, 'none', 'own', 1, 'skilled', 1, 'yes', 'yes', 0.0, 0.0, 0.0, 2.0, 0.0, 0.0, 0.0, 0.0, 4.0, 0.0, 1.0, 1.0, 1.0, [0.0, 0.0, 4.0, 2.0, 0.0, 1.0, 0.0, 1.0, 0.0, 0.0, 0.0, 1.0, 0.0, 31.0, 3274.0, 3.0, 3.0, 31.0, 40.0, 1.0, 1.0], [12.027176298068314, 7.972823701931685], [0.6013588149034157, 0.39864118509658425], 0.0, 'No Risk'], ['less_0', 21, 'credits_paid_to_date', 'furniture', 1561, 'less_100', '1_to_4', 3, 'male', 'none', 2, 'real_estate', 27, 'none', 'own', 1, 'skilled', 1, 'none', 'yes', 1.0, 1.0, 0.0, 0.0, 0.0, 0.0, 0.0, 0.0, 1.0, 0.0, 2.0, 0.0, 0.0, [21, [0, 1, 2, 7, 13, 14, 15, 16, 17, 18, 19, 20], [1.0, 1.0, 1.0, 2.0, 21.0, 1561.0, 3.0, 2.0, 21.0, 27.0, 1.0, 1.0]], [17.86494180935226, 2.1350581906477397], [0.893247090467613, 0.10675290953238699], 0.0, 'No Risk'], ['no_checking', 35, 'outstanding_credit', 'other', 10370, 'greater_1000', 'greater_7', 6, 'male', 'co-applicant', 4, 'unknown', 50, 'none', 'free', 2, 'skilled', 2, 'yes', 'no', 0.0, 2.0, 2.0, 3.0, 1.0, 2.0, 0.0, 0.0, 10.0, 1.0, 3.0, 0.0, 1.0, [0.0, 2.0, 10.0, 3.0, 2.0, 0.0, 1.0, 3.0, 0.0, 2.0, 0.0, 1.0, 1.0, 35.0, 10370.0, 6.0, 4.0, 35.0, 50.0, 2.0, 2.0], [1.3430017510046708, 18.65699824899533], [0.06715008755023354, 0.9328499124497664], 1.0, 'Risk'], ['less_0', 13, 'no_credits', 'car_used', 250, '100_to_500', 'unemployed', 1, 'male', 'none', 2, 'savings_insurance', 19, 'none', 'rent', 1, 'skilled', 1, 'none', 'yes', 1.0, 4.0, 4.0, 1.0, 0.0, 1.0, 0.0, 0.0, 2.0, 0.0, 0.0, 0.0, 0.0, [1.0, 4.0, 2.0, 1.0, 4.0, 0.0, 0.0, 0.0, 0.0, 1.0, 0.0, 0.0, 0.0, 13.0, 250.0, 1.0, 2.0, 13.0, 19.0, 1.0, 1.0], [19.374052599215016, 0.6259474007849803], [0.968702629960751, 0.031297370039249026], 0.0, 'No Risk'], ['less_0', 25, 'all_credits_paid_back', 'furniture', 2986, 'less_100', 'less_1', 3, 'female', 'none', 2, 'car_other', 30, 'none', 'own', 1, 'skilled', 1, 'yes', 'yes', 1.0, 3.0, 3.0, 0.0, 0.0, 0.0, 0.0, 0.0, 1.0, 0.0, 1.0, 1.0, 1.0, [1.0, 3.0, 1.0, 0.0, 3.0, 1.0, 0.0, 1.0, 0.0, 0.0, 0.0, 1.0, 0.0, 25.0, 2986.0, 3.0, 2.0, 25.0, 30.0, 1.0, 1.0], [15.99057691452456, 4.009423085475438], [0.799528845726228, 0.2004711542737719], 0.0, 'No Risk'], ['no_checking', 28, 'prior_payments_delayed', 'furniture', 4169, '100_to_500', 'greater_7', 4, 'male', 'none', 3, 'savings_insurance', 52, 'none', 'free', 2, 'management_self-employed', 2, 'yes', 'yes', 0.0, 0.0, 2.0, 1.0, 0.0, 2.0, 0.0, 2.0, 1.0, 0.0, 0.0, 0.0, 1.0, [0.0, 0.0, 1.0, 1.0, 2.0, 0.0, 0.0, 0.0, 0.0, 2.0, 2.0, 1.0, 0.0, 28.0, 4169.0, 4.0, 3.0, 28.0, 52.0, 2.0, 2.0], [7.7708088723594155, 12.229191127640588], [0.3885404436179707, 0.6114595563820293], 1.0, 'Risk'], ['0_to_200', 25, 'credits_paid_to_date', 'radio_tv', 2905, 'less_100', '4_to_7', 3, 'male', 'none', 3, 'real_estate', 38, 'none', 'own', 2, 'skilled', 1, 'yes', 'yes', 2.0, 1.0, 1.0, 0.0, 0.0, 0.0, 0.0, 0.0, 3.0, 0.0, 2.0, 0.0, 1.0, [2.0, 1.0, 3.0, 0.0, 1.0, 0.0, 0.0, 2.0, 0.0, 0.0, 0.0, 1.0, 0.0, 25.0, 2905.0, 3.0, 3.0, 25.0, 38.0, 2.0, 1.0], [14.377087408941902, 5.622912591058098], [0.7188543704470951, 0.2811456295529049], 0.0, 'No Risk'], ['no_checking', 29, 'prior_payments_delayed', 'repairs', 5353, '100_to_500', '1_to_4', 4, 'male', 'none', 5, 'car_other', 45, 'none', 'own', 1, 'management_self-employed', 1, 'none', 'yes', 0.0, 0.0, 0.0, 1.0, 0.0, 0.0, 0.0, 2.0, 5.0, 0.0, 1.0, 0.0, 0.0, [21, [2, 3, 7, 10, 13, 14, 15, 16, 17, 18, 19, 20], [5.0, 1.0, 1.0, 2.0, 29.0, 5353.0, 4.0, 5.0, 29.0, 45.0, 1.0, 1.0]], [10.5581590750726, 9.4418409249274], [0.52790795375363, 0.47209204624636997], 0.0, 'No Risk'], ['0_to_200', 4, 'prior_payments_delayed', 'car_new', 250, 'less_100', '4_to_7', 3, 'male', 'none', 1, 'car_other', 29, 'none', 'own', 1, 'skilled', 1, 'yes', 'yes', 2.0, 0.0, 1.0, 0.0, 0.0, 0.0, 0.0, 0.0, 0.0, 0.0, 1.0, 0.0, 1.0, [21, [0, 4, 7, 11, 13, 14, 15, 16, 17, 18, 19, 20], [2.0, 1.0, 1.0, 1.0, 4.0, 250.0, 3.0, 1.0, 4.0, 29.0, 1.0, 1.0]], [17.18029878507226, 2.819701214927738], [0.859014939253613, 0.1409850607463869], 0.0, 'No Risk'], ['0_to_200', 13, 'credits_paid_to_date', 'repairs', 250, 'less_100', '4_to_7', 3, 'female', 'none', 2, 'savings_insurance', 27, 'none', 'own', 1, 'skilled', 1, 'none', 'yes', 2.0, 1.0, 1.0, 0.0, 0.0, 0.0, 0.0, 0.0, 5.0, 0.0, 0.0, 1.0, 0.0, [2.0, 1.0, 5.0, 0.0, 1.0, 1.0, 0.0, 0.0, 0.0, 0.0, 0.0, 0.0, 0.0, 13.0, 250.0, 3.0, 2.0, 13.0, 27.0, 1.0, 1.0], [17.95248959116156, 2.0475104088384377], [0.8976244795580781, 0.1023755204419219], 0.0, 'No Risk'], ['less_0', 4, 'all_credits_paid_back', 'car_new', 250, 'less_100', 'unemployed', 1, 'female', 'none', 2, 'real_estate', 19, 'none', 'rent', 1, 'management_self-employed', 1, 'none', 'yes', 1.0, 3.0, 4.0, 0.0, 0.0, 1.0, 0.0, 2.0, 0.0, 0.0, 2.0, 1.0, 0.0, [1.0, 3.0, 0.0, 0.0, 4.0, 1.0, 0.0, 2.0, 0.0, 1.0, 2.0, 0.0, 0.0, 4.0, 250.0, 1.0, 2.0, 4.0, 19.0, 1.0, 1.0], [19.73822260499371, 0.2617773950062894], [0.9869111302496855, 0.01308886975031447], 0.0, 'No Risk'], ['0_to_200', 26, 'credits_paid_to_date', 'repairs', 2446, 'less_100', 'less_1', 3, 'male', 'none', 2, 'real_estate', 31, 'none', 'own', 2, 'skilled', 1, 'yes', 'yes', 2.0, 1.0, 3.0, 0.0, 0.0, 0.0, 0.0, 0.0, 5.0, 0.0, 2.0, 0.0, 1.0, [2.0, 1.0, 5.0, 0.0, 3.0, 0.0, 0.0, 2.0, 0.0, 0.0, 0.0, 1.0, 0.0, 26.0, 2446.0, 3.0, 2.0, 26.0, 31.0, 2.0, 1.0], [17.165729341501102, 2.8342706584988964], [0.8582864670750551, 0.14171353292494482], 0.0, 'No Risk'], ['greater_200', 41, 'outstanding_credit', 'radio_tv', 9686, '500_to_1000', 'greater_7', 5, 'male', 'co-applicant', 3, 'unknown', 50, 'none', 'free', 2, 'skilled', 1, 'yes', 'yes', 3.0, 2.0, 2.0, 2.0, 0.0, 2.0, 0.0, 0.0, 3.0, 1.0, 3.0, 0.0, 1.0, [3.0, 2.0, 3.0, 2.0, 2.0, 0.0, 1.0, 3.0, 0.0, 2.0, 0.0, 1.0, 0.0, 41.0, 9686.0, 5.0, 3.0, 41.0, 50.0, 2.0, 1.0], [3.396635202018427, 16.60336479798157], [0.16983176010092138, 0.8301682398990786], 1.0, 'Risk'], ['no_checking', 36, 'outstanding_credit', 'repairs', 7833, 'greater_1000', 'greater_7', 5, 'female', 'co-applicant', 4, 'unknown', 45, 'none', 'free', 2, 'management_self-employed', 2, 'yes', 'yes', 0.0, 2.0, 2.0, 3.0, 0.0, 2.0, 0.0, 2.0, 5.0, 1.0, 3.0, 1.0, 1.0, [0.0, 2.0, 5.0, 3.0, 2.0, 1.0, 1.0, 3.0, 0.0, 2.0, 2.0, 1.0, 0.0, 36.0, 7833.0, 5.0, 4.0, 36.0, 45.0, 2.0, 2.0], [1.8740951445518137, 18.125904855448187], [0.09370475722759068, 0.9062952427724094], 1.0, 'Risk'], ['greater_200', 27, 'outstanding_credit', 'appliances', 5176, '500_to_1000', '1_to_4', 4, 'male', 'none', 4, 'savings_insurance', 44, 'none', 'own', 2, 'management_self-employed', 1, 'none', 'yes', 3.0, 2.0, 0.0, 2.0, 0.0, 0.0, 0.0, 2.0, 4.0, 0.0, 0.0, 0.0, 0.0, [3.0, 2.0, 4.0, 2.0, 0.0, 0.0, 0.0, 0.0, 0.0, 0.0, 2.0, 0.0, 0.0, 27.0, 5176.0, 4.0, 4.0, 27.0, 44.0, 2.0, 1.0], [13.143639496821281, 6.856360503178718], [0.6571819748410641, 0.3428180251589359], 0.0, 'No Risk'], ['no_checking', 44, 'prior_payments_delayed', 'radio_tv', 6268, '500_to_1000', 'greater_7', 4, 'male', 'co-applicant', 3, 'car_other', 44, 'none', 'free', 2, 'skilled', 1, 'yes', 'yes', 0.0, 0.0, 2.0, 2.0, 0.0, 2.0, 0.0, 0.0, 3.0, 1.0, 1.0, 0.0, 1.0, [0.0, 0.0, 3.0, 2.0, 2.0, 0.0, 1.0, 1.0, 0.0, 2.0, 0.0, 1.0, 0.0, 44.0, 6268.0, 4.0, 3.0, 44.0, 44.0, 2.0, 1.0], [2.8059505635619755, 17.194049436438025], [0.14029752817809876, 0.8597024718219013], 1.0, 'Risk'], ['less_0', 8, 'prior_payments_delayed', 'furniture', 250, 'less_100', '1_to_4', 2, 'male', 'co-applicant', 2, 'real_estate', 35, 'stores', 'own', 1, 'skilled', 1, 'none', 'yes', 1.0, 0.0, 0.0, 0.0, 0.0, 0.0, 1.0, 0.0, 1.0, 1.0, 2.0, 0.0, 0.0, [1.0, 0.0, 1.0, 0.0, 0.0, 0.0, 1.0, 2.0, 1.0, 0.0, 0.0, 0.0, 0.0, 8.0, 250.0, 2.0, 2.0, 8.0, 35.0, 1.0, 1.0], [18.654339399965625, 1.345660600034375], [0.9327169699982812, 0.06728303000171874], 0.0, 'No Risk'], ['less_0', 4, 'all_credits_paid_back', 'car_used', 250, 'less_100', 'less_1', 2, 'male', 'none', 1, 'real_estate', 24, 'none', 'rent', 2, 'skilled', 1, 'none', 'yes', 1.0, 3.0, 3.0, 0.0, 0.0, 1.0, 0.0, 0.0, 2.0, 0.0, 2.0, 0.0, 0.0, [1.0, 3.0, 2.0, 0.0, 3.0, 0.0, 0.0, 2.0, 0.0, 1.0, 0.0, 0.0, 0.0, 4.0, 250.0, 2.0, 1.0, 4.0, 24.0, 2.0, 1.0], [19.547524696740652, 0.4524753032593472], [0.9773762348370326, 0.02262376516296736], 0.0, 'No Risk'], ['greater_200', 10, 'credits_paid_to_date', 'car_new', 3781, 'less_100', 'less_1', 2, 'female', 'none', 1, 'savings_insurance', 28, 'none', 'own', 1, 'skilled', 1, 'none', 'yes', 3.0, 1.0, 3.0, 0.0, 0.0, 0.0, 0.0, 0.0, 0.0, 0.0, 0.0, 1.0, 0.0, [21, [0, 1, 4, 5, 13, 14, 15, 16, 17, 18, 19, 20], [3.0, 1.0, 3.0, 1.0, 10.0, 3781.0, 2.0, 1.0, 10.0, 28.0, 1.0, 1.0]], [18.562987447476274, 1.4370125525237252], [0.9281493723738137, 0.07185062762618626], 0.0, 'No Risk'], ['less_0', 4, 'no_credits', 'car_new', 250, 'less_100', 'unemployed', 1, 'male', 'none', 2, 'real_estate', 30, 'none', 'rent', 1, 'skilled', 1, 'none', 'yes', 1.0, 4.0, 4.0, 0.0, 0.0, 1.0, 0.0, 0.0, 0.0, 0.0, 2.0, 0.0, 0.0, [1.0, 4.0, 0.0, 0.0, 4.0, 0.0, 0.0, 2.0, 0.0, 1.0, 0.0, 0.0, 0.0, 4.0, 250.0, 1.0, 2.0, 4.0, 30.0, 1.0, 1.0], [19.697589886938815, 0.3024101130611856], [0.9848794943469408, 0.01512050565305928], 0.0, 'No Risk'], ['no_checking', 30, 'prior_payments_delayed', 'car_used', 4636, 'unknown', '4_to_7', 4, 'male', 'none', 3, 'savings_insurance', 42, 'none', 'own', 2, 'skilled', 2, 'yes', 'yes', 0.0, 0.0, 1.0, 4.0, 0.0, 0.0, 0.0, 0.0, 2.0, 0.0, 0.0, 0.0, 1.0, [21, [2, 3, 4, 11, 13, 14, 15, 16, 17, 18, 19, 20], [2.0, 4.0, 1.0, 1.0, 30.0, 4636.0, 4.0, 3.0, 30.0, 42.0, 2.0, 2.0]], [10.708174747494805, 9.291825252505193], [0.5354087373747403, 0.4645912626252596], 0.0, 'No Risk'], ['0_to_200', 15, 'credits_paid_to_date', 'car_used', 6254, '100_to_500', 'less_1', 2, 'male', 'none', 3, 'unknown', 30, 'none', 'own', 1, 'skilled', 2, 'yes', 'yes', 2.0, 1.0, 3.0, 1.0, 0.0, 0.0, 0.0, 0.0, 2.0, 0.0, 3.0, 0.0, 1.0, [2.0, 1.0, 2.0, 1.0, 3.0, 0.0, 0.0, 3.0, 0.0, 0.0, 0.0, 1.0, 0.0, 15.0, 6254.0, 2.0, 3.0, 15.0, 30.0, 1.0, 2.0], [15.033230528577286, 4.966769471422716], [0.7516615264288642, 0.24833847357113575], 0.0, 'No Risk'], ['0_to_200', 20, 'credits_paid_to_date', 'car_new', 2231, 'less_100', '4_to_7', 3, 'male', 'none', 3, 'real_estate', 37, 'none', 'own', 1, 'skilled', 2, 'none', 'yes', 2.0, 1.0, 1.0, 0.0, 0.0, 0.0, 0.0, 0.0, 0.0, 0.0, 2.0, 0.0, 0.0, [21, [0, 1, 4, 7, 13, 14, 15, 16, 17, 18, 19, 20], [2.0, 1.0, 1.0, 2.0, 20.0, 2231.0, 3.0, 3.0, 20.0, 37.0, 1.0, 2.0]], [16.34118859826965, 3.658811401730351], [0.8170594299134825, 0.18294057008651754], 0.0, 'No Risk'], ['no_checking', 33, 'prior_payments_delayed', 'furniture', 6325, '100_to_500', '1_to_4', 4, 'male', 'none', 4, 'car_other', 32, 'none', 'free', 2, 'skilled', 1, 'yes', 'yes', 0.0, 0.0, 0.0, 1.0, 0.0, 2.0, 0.0, 0.0, 1.0, 0.0, 1.0, 0.0, 1.0, [0.0, 0.0, 1.0, 1.0, 0.0, 0.0, 0.0, 1.0, 0.0, 2.0, 0.0, 1.0, 0.0, 33.0, 6325.0, 4.0, 4.0, 33.0, 32.0, 2.0, 1.0], [10.06248049059929, 9.93751950940071], [0.5031240245299645, 0.4968759754700355], 0.0, 'No Risk'], ['less_0', 14, 'all_credits_paid_back', 'car_new', 3991, 'less_100', 'unemployed', 2, 'female', 'none', 2, 'savings_insurance', 29, 'none', 'own', 2, 'skilled', 1, 'none', 'yes', 1.0, 3.0, 4.0, 0.0, 0.0, 0.0, 0.0, 0.0, 0.0, 0.0, 0.0, 1.0, 0.0, [21, [0, 1, 4, 5, 13, 14, 15, 16, 17, 18, 19, 20], [1.0, 3.0, 4.0, 1.0, 14.0, 3991.0, 2.0, 2.0, 14.0, 29.0, 2.0, 1.0]], [18.127348346696337, 1.8726516533036592], [0.906367417334817, 0.09363258266518298], 0.0, 'No Risk'], ['0_to_200', 10, 'credits_paid_to_date', 'car_new', 3355, 'less_100', '4_to_7', 2, 'female', 'none', 3, 'savings_insurance', 32, 'bank', 'own', 2, 'unemployed', 1, 'none', 'yes', 2.0, 1.0, 1.0, 0.0, 0.0, 0.0, 2.0, 3.0, 0.0, 0.0, 0.0, 1.0, 0.0, [2.0, 1.0, 0.0, 0.0, 1.0, 1.0, 0.0, 0.0, 2.0, 0.0, 3.0, 0.0, 0.0, 10.0, 3355.0, 2.0, 3.0, 10.0, 32.0, 2.0, 1.0], [15.066731636399446, 4.933268363600556], [0.7533365818199723, 0.2466634181800278], 0.0, 'No Risk'], ['no_checking', 29, 'prior_payments_delayed', 'education', 6009, '100_to_500', '1_to_4', 4, 'female', 'none', 4, 'car_other', 38, 'none', 'own', 2, 'skilled', 1, 'none', 'yes', 0.0, 0.0, 0.0, 1.0, 0.0, 0.0, 0.0, 0.0, 7.0, 0.0, 1.0, 1.0, 0.0, [21, [2, 3, 5, 7, 13, 14, 15, 16, 17, 18, 19, 20], [7.0, 1.0, 1.0, 1.0, 29.0, 6009.0, 4.0, 4.0, 29.0, 38.0, 2.0, 1.0]], [10.900707305274628, 9.09929269472537], [0.5450353652637314, 0.4549646347362685], 0.0, 'No Risk'], ['no_checking', 28, 'prior_payments_delayed', 'business', 5438, '500_to_1000', '4_to_7', 3, 'male', 'none', 3, 'unknown', 43, 'bank', 'own', 2, 'unskilled', 1, 'yes', 'yes', 0.0, 0.0, 1.0, 2.0, 0.0, 0.0, 2.0, 1.0, 9.0, 0.0, 3.0, 0.0, 1.0, [0.0, 0.0, 9.0, 2.0, 1.0, 0.0, 0.0, 3.0, 2.0, 0.0, 1.0, 1.0, 0.0, 28.0, 5438.0, 3.0, 3.0, 28.0, 43.0, 2.0, 1.0], [9.34293146256814, 10.657068537431861], [0.467146573128407, 0.5328534268715931], 1.0, 'Risk'], ['no_checking', 32, 'all_credits_paid_back', 'education', 2855, '500_to_1000', 'greater_7', 3, 'female', 'co-applicant', 3, 'real_estate', 29, 'none', 'own', 1, 'skilled', 1, 'none', 'yes', 0.0, 3.0, 2.0, 2.0, 0.0, 0.0, 0.0, 0.0, 7.0, 1.0, 2.0, 1.0, 0.0, [0.0, 3.0, 7.0, 2.0, 2.0, 1.0, 1.0, 2.0, 0.0, 0.0, 0.0, 0.0, 0.0, 32.0, 2855.0, 3.0, 3.0, 32.0, 29.0, 1.0, 1.0], [8.814041373104503, 11.185958626895495], [0.44070206865522515, 0.5592979313447748], 1.0, 'Risk'], ['no_checking', 23, 'outstanding_credit', 'business', 2733, '500_to_1000', '1_to_4', 3, 'male', 'none', 2, 'savings_insurance', 44, 'none', 'own', 2, 'skilled', 2, 'yes', 'yes', 0.0, 2.0, 0.0, 2.0, 0.0, 0.0, 0.0, 0.0, 9.0, 0.0, 0.0, 0.0, 1.0, [21, [1, 2, 3, 11, 13, 14, 15, 16, 17, 18, 19, 20], [2.0, 9.0, 2.0, 1.0, 23.0, 2733.0, 3.0, 2.0, 23.0, 44.0, 2.0, 2.0]], [14.883200255152245, 5.116799744847751], [0.7441600127576123, 0.2558399872423876], 0.0, 'No Risk'], ['0_to_200', 24, 'outstanding_credit', 'radio_tv', 9282, '500_to_1000', '1_to_4', 4, 'male', 'none', 5, 'car_other', 32, 'none', 'own', 2, 'management_self-employed', 1, 'none', 'yes', 2.0, 2.0, 0.0, 2.0, 0.0, 0.0, 0.0, 2.0, 3.0, 0.0, 1.0, 0.0, 0.0, [2.0, 2.0, 3.0, 2.0, 0.0, 0.0, 0.0, 1.0, 0.0, 0.0, 2.0, 0.0, 0.0, 24.0, 9282.0, 4.0, 5.0, 24.0, 32.0, 2.0, 1.0], [12.817860827092463, 7.182139172907537], [0.6408930413546232, 0.35910695864537684], 0.0, 'No Risk'], ['no_checking', 22, 'outstanding_credit', 'appliances', 4072, 'unknown', '4_to_7', 3, 'male', 'none', 4, 'car_other', 33, 'none', 'own', 1, 'skilled', 2, 'none', 'yes', 0.0, 2.0, 1.0, 4.0, 0.0, 0.0, 0.0, 0.0, 4.0, 0.0, 1.0, 0.0, 0.0, [0.0, 2.0, 4.0, 4.0, 1.0, 0.0, 0.0, 1.0, 0.0, 0.0, 0.0, 0.0, 0.0, 22.0, 4072.0, 3.0, 4.0, 22.0, 33.0, 1.0, 2.0], [11.350353720520994, 8.649646279479002], [0.5675176860260498, 0.4324823139739502], 0.0, 'No Risk'], ['less_0', 12, 'all_credits_paid_back', 'car_used', 299, '500_to_1000', 'less_1', 2, 'female', 'none', 1, 'savings_insurance', 35, 'stores', 'rent', 1, 'skilled', 1, 'none', 'yes', 1.0, 3.0, 3.0, 2.0, 0.0, 1.0, 1.0, 0.0, 2.0, 0.0, 0.0, 1.0, 0.0, [1.0, 3.0, 2.0, 2.0, 3.0, 1.0, 0.0, 0.0, 1.0, 1.0, 0.0, 0.0, 0.0, 12.0, 299.0, 2.0, 1.0, 12.0, 35.0, 1.0, 1.0], [18.165650979093297, 1.8343490209066957], [0.9082825489546652, 0.09171745104533482], 0.0, 'No Risk'], ['no_checking', 33, 'prior_payments_delayed', 'radio_tv', 5367, '500_to_1000', '1_to_4', 3, 'male', 'none', 4, 'savings_insurance', 52, 'none', 'free', 2, 'skilled', 1, 'yes', 'yes', 0.0, 0.0, 0.0, 2.0, 0.0, 2.0, 0.0, 0.0, 3.0, 0.0, 0.0, 0.0, 1.0, [21, [2, 3, 9, 11, 13, 14, 15, 16, 17, 18, 19, 20], [3.0, 2.0, 2.0, 1.0, 33.0, 5367.0, 3.0, 4.0, 33.0, 52.0, 2.0, 1.0]], [8.3367521157088, 11.663247884291199], [0.41683760578544, 0.58316239421456], 1.0, 'Risk'], ['0_to_200', 21, 'credits_paid_to_date', 'appliances', 4023, 'less_100', '4_to_7', 2, 'female', 'none', 3, 'car_other', 40, 'bank', 'own', 2, 'unemployed', 1, 'none', 'yes', 2.0, 1.0, 1.0, 0.0, 0.0, 0.0, 2.0, 3.0, 4.0, 0.0, 1.0, 1.0, 0.0, [2.0, 1.0, 4.0, 0.0, 1.0, 1.0, 0.0, 1.0, 2.0, 0.0, 3.0, 0.0, 0.0, 21.0, 4023.0, 2.0, 3.0, 21.0, 40.0, 2.0, 1.0], [13.193719746648732, 6.80628025335127], [0.6596859873324366, 0.3403140126675635], 0.0, 'No Risk'], ['greater_200', 4, 'credits_paid_to_date', 'car_used', 746, 'less_100', 'less_1', 2, 'female', 'none', 3, 'real_estate', 21, 'none', 'own', 1, 'management_self-employed', 1, 'yes', 'yes', 3.0, 1.0, 3.0, 0.0, 0.0, 0.0, 0.0, 2.0, 2.0, 0.0, 2.0, 1.0, 1.0, [3.0, 1.0, 2.0, 0.0, 3.0, 1.0, 0.0, 2.0, 0.0, 0.0, 2.0, 1.0, 0.0, 4.0, 746.0, 2.0, 3.0, 4.0, 21.0, 1.0, 1.0], [18.67042054893861, 1.329579451061393], [0.9335210274469304, 0.06647897255306964], 0.0, 'No Risk'], ['less_0', 23, 'credits_paid_to_date', 'furniture', 2056, 'less_100', '4_to_7', 2, 'male', 'none', 3, 'real_estate', 39, 'stores', 'rent', 2, 'skilled', 1, 'none', 'yes', 1.0, 1.0, 1.0, 0.0, 0.0, 1.0, 1.0, 0.0, 1.0, 0.0, 2.0, 0.0, 0.0, [1.0, 1.0, 1.0, 0.0, 1.0, 0.0, 0.0, 2.0, 1.0, 1.0, 0.0, 0.0, 0.0, 23.0, 2056.0, 2.0, 3.0, 23.0, 39.0, 2.0, 1.0], [16.11570126534222, 3.8842987346577815], [0.8057850632671109, 0.19421493673288903], 0.0, 'No Risk'], ['no_checking', 13, 'all_credits_paid_back', 'car_used', 2597, 'less_100', '1_to_4', 3, 'female', 'none', 2, 'car_other', 44, 'stores', 'own', 1, 'skilled', 1, 'yes', 'yes', 0.0, 3.0, 0.0, 0.0, 0.0, 0.0, 1.0, 0.0, 2.0, 0.0, 1.0, 1.0, 1.0, [0.0, 3.0, 2.0, 0.0, 0.0, 1.0, 0.0, 1.0, 1.0, 0.0, 0.0, 1.0, 0.0, 13.0, 2597.0, 3.0, 2.0, 13.0, 44.0, 1.0, 1.0], [14.938115330736041, 5.061884669263955], [0.7469057665368022, 0.2530942334631978], 0.0, 'No Risk'], ['no_checking', 40, 'outstanding_credit', 'education', 7168, 'greater_1000', 'greater_7', 5, 'male', 'co-applicant', 4, 'car_other', 45, 'none', 'free', 3, 'unskilled', 2, 'yes', 'yes', 0.0, 2.0, 2.0, 3.0, 0.0, 2.0, 0.0, 1.0, 7.0, 1.0, 1.0, 0.0, 1.0, [0.0, 2.0, 7.0, 3.0, 2.0, 0.0, 1.0, 1.0, 0.0, 2.0, 1.0, 1.0, 0.0, 40.0, 7168.0, 5.0, 4.0, 40.0, 45.0, 3.0, 2.0], [2.8033535897725836, 17.196646410227416], [0.14016767948862918, 0.8598323205113708], 1.0, 'Risk'], ['less_0', 4, 'no_credits', 'appliances', 250, 'less_100', 'unemployed', 2, 'female', 'none', 1, 'real_estate', 25, 'stores', 'rent', 1, 'unskilled', 1, 'none', 'yes', 1.0, 4.0, 4.0, 0.0, 0.0, 1.0, 1.0, 1.0, 4.0, 0.0, 2.0, 1.0, 0.0, [1.0, 4.0, 4.0, 0.0, 4.0, 1.0, 0.0, 2.0, 1.0, 1.0, 1.0, 0.0, 0.0, 4.0, 250.0, 2.0, 1.0, 4.0, 25.0, 1.0, 1.0], [19.69674795061583, 0.30325204938416955], [0.9848373975307915, 0.015162602469208478], 0.0, 'No Risk'], ['less_0', 16, 'prior_payments_delayed', 'car_used', 4061, 'less_100', '4_to_7', 4, 'male', 'none', 2, 'savings_insurance', 36, 'stores', 'own', 2, 'unskilled', 1, 'yes', 'yes', 1.0, 0.0, 1.0, 0.0, 0.0, 0.0, 1.0, 1.0, 2.0, 0.0, 0.0, 0.0, 1.0, [1.0, 0.0, 2.0, 0.0, 1.0, 0.0, 0.0, 0.0, 1.0, 0.0, 1.0, 1.0, 0.0, 16.0, 4061.0, 4.0, 2.0, 16.0, 36.0, 2.0, 1.0], [15.110092279277158, 4.889907720722845], [0.7555046139638577, 0.2444953860361422], 0.0, 'No Risk'], ['0_to_200', 34, 'prior_payments_delayed', 'appliances', 3021, '100_to_500', '4_to_7', 3, 'male', 'none', 4, 'savings_insurance', 32, 'none', 'own', 2, 'skilled', 1, 'none', 'yes', 2.0, 0.0, 1.0, 1.0, 0.0, 0.0, 0.0, 0.0, 4.0, 0.0, 0.0, 0.0, 0.0, [21, [0, 2, 3, 4, 13, 14, 15, 16, 17, 18, 19, 20], [2.0, 4.0, 1.0, 1.0, 34.0, 3021.0, 3.0, 4.0, 34.0, 32.0, 2.0, 1.0]], [12.73980743185772, 7.26019256814228], [0.636990371592886, 0.363009628407114], 0.0, 'No Risk'], ['less_0', 4, 'all_credits_paid_back', 'car_new', 250, 'less_100', '1_to_4', 2, 'male', 'co-applicant', 1, 'real_estate', 34, 'stores', 'rent', 1, 'skilled', 1, 'none', 'yes', 1.0, 3.0, 0.0, 0.0, 0.0, 1.0, 1.0, 0.0, 0.0, 1.0, 2.0, 0.0, 0.0, [1.0, 3.0, 0.0, 0.0, 0.0, 0.0, 1.0, 2.0, 1.0, 1.0, 0.0, 0.0, 0.0, 4.0, 250.0, 2.0, 1.0, 4.0, 34.0, 1.0, 1.0], [19.09332768543284, 0.9066723145671605], [0.954666384271642, 0.04533361572835802], 0.0, 'No Risk'], ['less_0', 10, 'credits_paid_to_date', 'radio_tv', 2801, 'less_100', '1_to_4', 1, 'female', 'none', 2, 'car_other', 35, 'stores', 'own', 1, 'skilled', 1, 'none', 'yes', 1.0, 1.0, 0.0, 0.0, 0.0, 0.0, 1.0, 0.0, 3.0, 0.0, 1.0, 1.0, 0.0, [1.0, 1.0, 3.0, 0.0, 0.0, 1.0, 0.0, 1.0, 1.0, 0.0, 0.0, 0.0, 0.0, 10.0, 2801.0, 1.0, 2.0, 10.0, 35.0, 1.0, 1.0], [15.925478581346294, 4.074521418653705], [0.7962739290673146, 0.20372607093268527], 0.0, 'No Risk'], ['no_checking', 31, 'prior_payments_delayed', 'appliances', 2875, '500_to_1000', '4_to_7', 4, 'male', 'none', 3, 'car_other', 22, 'none', 'own', 1, 'management_self-employed', 1, 'none', 'yes', 0.0, 0.0, 1.0, 2.0, 0.0, 0.0, 0.0, 2.0, 4.0, 0.0, 1.0, 0.0, 0.0, [0.0, 0.0, 4.0, 2.0, 1.0, 0.0, 0.0, 1.0, 0.0, 0.0, 2.0, 0.0, 0.0, 31.0, 2875.0, 4.0, 3.0, 31.0, 22.0, 1.0, 1.0], [11.758350187695743, 8.241649812304258], [0.5879175093847872, 0.4120824906152129], 0.0, 'No Risk'], ['less_0', 13, 'all_credits_paid_back', 'car_new', 250, '500_to_1000', 'less_1', 2, 'male', 'none', 3, 'real_estate', 30, 'none', 'rent', 2, 'skilled', 1, 'none', 'yes', 1.0, 3.0, 3.0, 2.0, 0.0, 1.0, 0.0, 0.0, 0.0, 0.0, 2.0, 0.0, 0.0, [1.0, 3.0, 0.0, 2.0, 3.0, 0.0, 0.0, 2.0, 0.0, 1.0, 0.0, 0.0, 0.0, 13.0, 250.0, 2.0, 3.0, 13.0, 30.0, 2.0, 1.0], [18.91473854227885, 1.0852614577211497], [0.9457369271139425, 0.05426307288605749], 0.0, 'No Risk'], ['less_0', 4, 'all_credits_paid_back', 'car_new', 250, '100_to_500', 'less_1', 2, 'female', 'none', 1, 'real_estate', 36, 'stores', 'rent', 1, 'skilled', 1, 'none', 'yes', 1.0, 3.0, 3.0, 1.0, 0.0, 1.0, 1.0, 0.0, 0.0, 0.0, 2.0, 1.0, 0.0, [1.0, 3.0, 0.0, 1.0, 3.0, 1.0, 0.0, 2.0, 1.0, 1.0, 0.0, 0.0, 0.0, 4.0, 250.0, 2.0, 1.0, 4.0, 36.0, 1.0, 1.0], [19.309968018166636, 0.6900319818333607], [0.9654984009083319, 0.03450159909166804], 0.0, 'No Risk'], ['less_0', 4, 'all_credits_paid_back', 'car_used', 250, 'less_100', '1_to_4', 1, 'female', 'none', 1, 'real_estate', 23, 'none', 'rent', 1, 'skilled', 1, 'none', 'yes', 1.0, 3.0, 0.0, 0.0, 0.0, 1.0, 0.0, 0.0, 2.0, 0.0, 2.0, 1.0, 0.0, [1.0, 3.0, 2.0, 0.0, 0.0, 1.0, 0.0, 2.0, 0.0, 1.0, 0.0, 0.0, 0.0, 4.0, 250.0, 1.0, 1.0, 4.0, 23.0, 1.0, 1.0], [19.514017799870526, 0.48598220012947363], [0.9757008899935263, 0.02429911000647368], 0.0, 'No Risk'], ['0_to_200', 28, 'credits_paid_to_date', 'car_used', 4934, 'less_100', '4_to_7', 3, 'male', 'none', 4, 'savings_insurance', 42, 'none', 'own', 1, 'skilled', 1, 'none', 'yes', 2.0, 1.0, 1.0, 0.0, 0.0, 0.0, 0.0, 0.0, 2.0, 0.0, 0.0, 0.0, 0.0, [21, [0, 1, 2, 4, 13, 14, 15, 16, 17, 18, 19, 20], [2.0, 1.0, 2.0, 1.0, 28.0, 4934.0, 3.0, 4.0, 28.0, 42.0, 1.0, 1.0]], [12.772358872866977, 7.227641127133024], [0.6386179436433489, 0.3613820563566512], 0.0, 'No Risk'], ['no_checking', 45, 'prior_payments_delayed', 'radio_tv', 8780, 'greater_1000', 'greater_7', 6, 'male', 'co-applicant', 5, 'unknown', 50, 'none', 'free', 3, 'skilled', 2, 'yes', 'yes', 0.0, 0.0, 2.0, 3.0, 0.0, 2.0, 0.0, 0.0, 3.0, 1.0, 3.0, 0.0, 1.0, [0.0, 0.0, 3.0, 3.0, 2.0, 0.0, 1.0, 3.0, 0.0, 2.0, 0.0, 1.0, 0.0, 45.0, 8780.0, 6.0, 5.0, 45.0, 50.0, 3.0, 2.0], [1.3212143623450243, 18.678785637654975], [0.06606071811725121, 0.9339392818827488], 1.0, 'Risk'], ['less_0', 17, 'credits_paid_to_date', 'furniture', 3605, '100_to_500', '4_to_7', 3, 'female', 'none', 3, 'savings_insurance', 32, 'none', 'own', 1, 'skilled', 1, 'none', 'yes', 1.0, 1.0, 1.0, 1.0, 0.0, 0.0, 0.0, 0.0, 1.0, 0.0, 0.0, 1.0, 0.0, [1.0, 1.0, 1.0, 1.0, 1.0, 1.0, 0.0, 0.0, 0.0, 0.0, 0.0, 0.0, 0.0, 17.0, 3605.0, 3.0, 3.0, 17.0, 32.0, 1.0, 1.0], [15.247077013407646, 4.752922986592356], [0.7623538506703823, 0.2376461493296178], 0.0, 'No Risk'], ['no_checking', 44, 'prior_payments_delayed', 'repairs', 9463, 'unknown', 'greater_7', 5, 'male', 'co-applicant', 4, 'unknown', 46, 'stores', 'free', 3, 'unskilled', 2, 'yes', 'yes', 0.0, 0.0, 2.0, 4.0, 0.0, 2.0, 1.0, 1.0, 5.0, 1.0, 3.0, 0.0, 1.0, [0.0, 0.0, 5.0, 4.0, 2.0, 0.0, 1.0, 3.0, 1.0, 2.0, 1.0, 1.0, 0.0, 44.0, 9463.0, 5.0, 4.0, 44.0, 46.0, 3.0, 2.0], [2.7489316769484176, 17.251068323051584], [0.13744658384742087, 0.8625534161525792], 1.0, 'Risk'], ['no_checking', 40, 'prior_payments_delayed', 'repairs', 5304, '500_to_1000', 'greater_7', 4, 'male', 'co-applicant', 3, 'car_other', 40, 'stores', 'own', 1, 'unskilled', 1, 'none', 'yes', 0.0, 0.0, 2.0, 2.0, 0.0, 0.0, 1.0, 1.0, 5.0, 1.0, 1.0, 0.0, 0.0, [0.0, 0.0, 5.0, 2.0, 2.0, 0.0, 1.0, 1.0, 1.0, 0.0, 1.0, 0.0, 0.0, 40.0, 5304.0, 4.0, 3.0, 40.0, 40.0, 1.0, 1.0], [7.289680294324441, 12.71031970567556], [0.36448401471622205, 0.6355159852837781], 1.0, 'Risk'], ['less_0', 13, 'all_credits_paid_back', 'car_used', 250, '500_to_1000', 'less_1', 2, 'female', 'none', 2, 'real_estate', 19, 'stores', 'rent', 1, 'skilled', 1, 'none', 'yes', 1.0, 3.0, 3.0, 2.0, 0.0, 1.0, 1.0, 0.0, 2.0, 0.0, 2.0, 1.0, 0.0, [1.0, 3.0, 2.0, 2.0, 3.0, 1.0, 0.0, 2.0, 1.0, 1.0, 0.0, 0.0, 0.0, 13.0, 250.0, 2.0, 2.0, 13.0, 19.0, 1.0, 1.0], [19.652238016344008, 0.3477619836559895], [0.9826119008172005, 0.017388099182799478], 0.0, 'No Risk'], ['less_0', 8, 'prior_payments_delayed', 'car_new', 1387, 'less_100', '1_to_4', 2, 'male', 'none', 3, 'real_estate', 26, 'bank', 'rent', 1, 'unskilled', 1, 'none', 'yes', 1.0, 0.0, 0.0, 0.0, 0.0, 1.0, 2.0, 1.0, 0.0, 0.0, 2.0, 0.0, 0.0, [1.0, 0.0, 0.0, 0.0, 0.0, 0.0, 0.0, 2.0, 2.0, 1.0, 1.0, 0.0, 0.0, 8.0, 1387.0, 2.0, 3.0, 8.0, 26.0, 1.0, 1.0], [18.08865272909055, 1.9113472709094488], [0.9044326364545275, 0.09556736354547243], 0.0, 'No Risk'], ['no_checking', 34, 'prior_payments_delayed', 'furniture', 10452, '100_to_500', 'less_1', 3, 'male', 'co-applicant', 5, 'car_other', 37, 'none', 'own', 2, 'management_self-employed', 1, 'none', 'yes', 0.0, 0.0, 3.0, 1.0, 0.0, 0.0, 0.0, 2.0, 1.0, 1.0, 1.0, 0.0, 0.0, [0.0, 0.0, 1.0, 1.0, 3.0, 0.0, 1.0, 1.0, 0.0, 0.0, 2.0, 0.0, 0.0, 34.0, 10452.0, 3.0, 5.0, 34.0, 37.0, 2.0, 1.0], [7.9031370527832046, 12.096862947216794], [0.3951568526391602, 0.6048431473608397], 1.0, 'Risk'], ['no_checking', 26, 'outstanding_credit', 'education', 7801, '500_to_1000', '1_to_4', 3, 'male', 'none', 2, 'car_other', 40, 'none', 'free', 2, 'management_self-employed', 1, 'yes', 'yes', 0.0, 2.0, 0.0, 2.0, 0.0, 2.0, 0.0, 2.0, 7.0, 0.0, 1.0, 0.0, 1.0, [0.0, 2.0, 7.0, 2.0, 0.0, 0.0, 0.0, 1.0, 0.0, 2.0, 2.0, 1.0, 0.0, 26.0, 7801.0, 3.0, 2.0, 26.0, 40.0, 2.0, 1.0], [12.43594644647325, 7.564053553526748], [0.6217973223236626, 0.3782026776763374], 0.0, 'No Risk'], ['greater_200', 23, 'credits_paid_to_date', 'retraining', 3641, '500_to_1000', '4_to_7', 2, 'female', 'none', 2, 'savings_insurance', 37, 'none', 'own', 2, 'skilled', 1, 'none', 'yes', 3.0, 1.0, 1.0, 2.0, 0.0, 0.0, 0.0, 0.0, 8.0, 0.0, 0.0, 1.0, 0.0, [3.0, 1.0, 8.0, 2.0, 1.0, 1.0, 0.0, 0.0, 0.0, 0.0, 0.0, 0.0, 0.0, 23.0, 3641.0, 2.0, 2.0, 23.0, 37.0, 2.0, 1.0], [14.986815310357866, 5.013184689642136], [0.7493407655178933, 0.2506592344821068], 0.0, 'No Risk'], ['0_to_200', 27, 'credits_paid_to_date', 'education', 3675, 'less_100', '1_to_4', 3, 'female', 'none', 1, 'savings_insurance', 30, 'none', 'own', 2, 'skilled', 1, 'none', 'yes', 2.0, 1.0, 0.0, 0.0, 0.0, 0.0, 0.0, 0.0, 7.0, 0.0, 0.0, 1.0, 0.0, [21, [0, 1, 2, 5, 13, 14, 15, 16, 17, 18, 19, 20], [2.0, 1.0, 7.0, 1.0, 27.0, 3675.0, 3.0, 1.0, 27.0, 30.0, 2.0, 1.0]], [15.183327282318196, 4.8166727176818025], [0.7591663641159098, 0.24083363588409012], 0.0, 'No Risk'], ['no_checking', 28, 'prior_payments_delayed', 'business', 5588, '500_to_1000', '4_to_7', 4, 'male', 'none', 3, 'savings_insurance', 39, 'none', 'own', 2, 'skilled', 1, 'yes', 'yes', 0.0, 0.0, 1.0, 2.0, 0.0, 0.0, 0.0, 0.0, 9.0, 0.0, 0.0, 0.0, 1.0, [21, [2, 3, 4, 11, 13, 14, 15, 16, 17, 18, 19, 20], [9.0, 2.0, 1.0, 1.0, 28.0, 5588.0, 4.0, 3.0, 28.0, 39.0, 2.0, 1.0]], [10.683992207492416, 9.316007792507584], [0.5341996103746208, 0.4658003896253792], 0.0, 'No Risk'], ['less_0', 16, 'credits_paid_to_date', 'car_new', 705, '500_to_1000', 'less_1', 1, 'male', 'none', 3, 'real_estate', 24, 'stores', 'rent', 1, 'skilled', 1, 'none', 'yes', 1.0, 1.0, 3.0, 2.0, 0.0, 1.0, 1.0, 0.0, 0.0, 0.0, 2.0, 0.0, 0.0, [1.0, 1.0, 0.0, 2.0, 3.0, 0.0, 0.0, 2.0, 1.0, 1.0, 0.0, 0.0, 0.0, 16.0, 705.0, 1.0, 3.0, 16.0, 24.0, 1.0, 1.0], [19.02419106590224, 0.9758089340977611], [0.951209553295112, 0.04879044670488806], 0.0, 'No Risk'], ['no_checking', 40, 'outstanding_credit', 'appliances', 3279, 'greater_1000', 'greater_7', 5, 'male', 'co-applicant', 4, 'unknown', 39, 'none', 'free', 2, 'skilled', 1, 'yes', 'yes', 0.0, 2.0, 2.0, 3.0, 0.0, 2.0, 0.0, 0.0, 4.0, 1.0, 3.0, 0.0, 1.0, [0.0, 2.0, 4.0, 3.0, 2.0, 0.0, 1.0, 3.0, 0.0, 2.0, 0.0, 1.0, 0.0, 40.0, 3279.0, 5.0, 4.0, 40.0, 39.0, 2.0, 1.0], [3.89421283688193, 16.10578716311807], [0.1947106418440965, 0.8052893581559035], 1.0, 'Risk'], ['no_checking', 30, 'prior_payments_delayed', 'appliances', 2039, '500_to_1000', '4_to_7', 4, 'male', 'co-applicant', 4, 'car_other', 35, 'none', 'own', 2, 'skilled', 2, 'yes', 'yes', 0.0, 0.0, 1.0, 2.0, 0.0, 0.0, 0.0, 0.0, 4.0, 1.0, 1.0, 0.0, 1.0, [0.0, 0.0, 4.0, 2.0, 1.0, 0.0, 1.0, 1.0, 0.0, 0.0, 0.0, 1.0, 0.0, 30.0, 2039.0, 4.0, 4.0, 30.0, 35.0, 2.0, 2.0], [7.219273892422784, 12.780726107577216], [0.3609636946211392, 0.6390363053788608], 1.0, 'Risk'], ['no_checking', 12, 'outstanding_credit', 'radio_tv', 3419, 'unknown', '4_to_7', 3, 'male', 'none', 3, 'car_other', 43, 'bank', 'own', 1, 'unskilled', 1, 'yes', 'yes', 0.0, 2.0, 1.0, 4.0, 0.0, 0.0, 2.0, 1.0, 3.0, 0.0, 1.0, 0.0, 1.0, [0.0, 2.0, 3.0, 4.0, 1.0, 0.0, 0.0, 1.0, 2.0, 0.0, 1.0, 1.0, 0.0, 12.0, 3419.0, 3.0, 3.0, 12.0, 43.0, 1.0, 1.0], [12.843368931521631, 7.1566310684783705], [0.6421684465760815, 0.35783155342391854], 0.0, 'No Risk'], ['no_checking', 39, 'prior_payments_delayed', 'repairs', 4552, '500_to_1000', 'greater_7', 5, 'male', 'none', 3, 'car_other', 42, 'stores', 'own', 2, 'unskilled', 1, 'yes', 'yes', 0.0, 0.0, 2.0, 2.0, 0.0, 0.0, 1.0, 1.0, 5.0, 0.0, 1.0, 0.0, 1.0, [0.0, 0.0, 5.0, 2.0, 2.0, 0.0, 0.0, 1.0, 1.0, 0.0, 1.0, 1.0, 0.0, 39.0, 4552.0, 5.0, 3.0, 39.0, 42.0, 2.0, 1.0], [8.530111883240274, 11.469888116759728], [0.42650559416201367, 0.5734944058379864], 1.0, 'Risk'], ['no_checking', 12, 'all_credits_paid_back', 'car_used', 3753, '500_to_1000', '4_to_7', 4, 'male', 'none', 2, 'real_estate', 36, 'none', 'own', 1, 'management_self-employed', 1, 'none', 'yes', 0.0, 3.0, 1.0, 2.0, 0.0, 0.0, 0.0, 2.0, 2.0, 0.0, 2.0, 0.0, 0.0, [0.0, 3.0, 2.0, 2.0, 1.0, 0.0, 0.0, 2.0, 0.0, 0.0, 2.0, 0.0, 0.0, 12.0, 3753.0, 4.0, 2.0, 12.0, 36.0, 1.0, 1.0], [15.77424438893606, 4.225755611063943], [0.7887122194468028, 0.2112877805531971], 0.0, 'No Risk'], ['less_0', 23, 'credits_paid_to_date', 'furniture', 1167, 'less_100', '1_to_4', 3, 'male', 'none', 3, 'car_other', 32, 'none', 'own', 1, 'skilled', 2, 'none', 'yes', 1.0, 1.0, 0.0, 0.0, 0.0, 0.0, 0.0, 0.0, 1.0, 0.0, 1.0, 0.0, 0.0, [21, [0, 1, 2, 7, 13, 14, 15, 16, 17, 18, 19, 20], [1.0, 1.0, 1.0, 1.0, 23.0, 1167.0, 3.0, 3.0, 23.0, 32.0, 1.0, 2.0]], [15.040207161227567, 4.959792838772432], [0.7520103580613784, 0.2479896419386216], 0.0, 'No Risk'], ['less_0', 9, 'prior_payments_delayed', 'car_used', 2023, 'less_100', '4_to_7', 2, 'female', 'none', 3, 'savings_insurance', 32, 'stores', 'own', 1, 'skilled', 1, 'none', 'yes', 1.0, 0.0, 1.0, 0.0, 0.0, 0.0, 1.0, 0.0, 2.0, 0.0, 0.0, 1.0, 0.0, [1.0, 0.0, 2.0, 0.0, 1.0, 1.0, 0.0, 0.0, 1.0, 0.0, 0.0, 0.0, 0.0, 9.0, 2023.0, 2.0, 3.0, 9.0, 32.0, 1.0, 1.0], [15.48879535283628, 4.51120464716372], [0.774439767641814, 0.225560232358186], 0.0, 'No Risk'], ['no_checking', 47, 'outstanding_credit', 'other', 7889, 'unknown', 'greater_7', 5, 'male', 'co-applicant', 3, 'car_other', 51, 'none', 'own', 2, 'skilled', 2, 'yes', 'yes', 0.0, 2.0, 2.0, 4.0, 0.0, 0.0, 0.0, 0.0, 10.0, 1.0, 1.0, 0.0, 1.0, [0.0, 2.0, 10.0, 4.0, 2.0, 0.0, 1.0, 1.0, 0.0, 0.0, 0.0, 1.0, 0.0, 47.0, 7889.0, 5.0, 3.0, 47.0, 51.0, 2.0, 2.0], [2.853438775249976, 17.146561224750027], [0.14267193876249876, 0.8573280612375012], 1.0, 'Risk'], ['0_to_200', 5, 'credits_paid_to_date', 'furniture', 1472, 'less_100', '4_to_7', 3, 'male', 'none', 2, 'real_estate', 38, 'stores', 'own', 1, 'unskilled', 2, 'none', 'yes', 2.0, 1.0, 1.0, 0.0, 0.0, 0.0, 1.0, 1.0, 1.0, 0.0, 2.0, 0.0, 0.0, [2.0, 1.0, 1.0, 0.0, 1.0, 0.0, 0.0, 2.0, 1.0, 0.0, 1.0, 0.0, 0.0, 5.0, 1472.0, 3.0, 2.0, 5.0, 38.0, 1.0, 2.0], [18.120119607120127, 1.8798803928798704], [0.9060059803560065, 0.09399401964399354], 0.0, 'No Risk'], ['no_checking', 43, 'prior_payments_delayed', 'radio_tv', 7702, 'greater_1000', '4_to_7', 4, 'male', 'co-applicant', 4, 'unknown', 48, 'none', 'own', 2, 'skilled', 2, 'yes', 'yes', 0.0, 0.0, 1.0, 3.0, 0.0, 0.0, 0.0, 0.0, 3.0, 1.0, 3.0, 0.0, 1.0, [0.0, 0.0, 3.0, 3.0, 1.0, 0.0, 1.0, 3.0, 0.0, 0.0, 0.0, 1.0, 0.0, 43.0, 7702.0, 4.0, 4.0, 43.0, 48.0, 2.0, 2.0], [3.52424450034102, 16.47575549965898], [0.176212225017051, 0.823787774982949], 1.0, 'Risk'], ['no_checking', 28, 'outstanding_credit', 'appliances', 6020, 'unknown', 'greater_7', 4, 'male', 'none', 5, 'car_other', 46, 'none', 'own', 2, 'skilled', 1, 'none', 'yes', 0.0, 2.0, 2.0, 4.0, 0.0, 0.0, 0.0, 0.0, 4.0, 0.0, 1.0, 0.0, 0.0, [0.0, 2.0, 4.0, 4.0, 2.0, 0.0, 0.0, 1.0, 0.0, 0.0, 0.0, 0.0, 0.0, 28.0, 6020.0, 4.0, 5.0, 28.0, 46.0, 2.0, 1.0], [8.668555410438838, 11.331444589561166], [0.4334277705219418, 0.5665722294780582], 1.0, 'Risk'], ['less_0', 8, 'no_credits', 'car_used', 404, 'less_100', 'unemployed', 1, 'male', 'none', 1, 'real_estate', 22, 'none', 'rent', 1, 'skilled', 1, 'none', 'yes', 1.0, 4.0, 4.0, 0.0, 0.0, 1.0, 0.0, 0.0, 2.0, 0.0, 2.0, 0.0, 0.0, [1.0, 4.0, 2.0, 0.0, 4.0, 0.0, 0.0, 2.0, 0.0, 1.0, 0.0, 0.0, 0.0, 8.0, 404.0, 1.0, 1.0, 8.0, 22.0, 1.0, 1.0], [19.70896974609473, 0.2910302539052717], [0.9854484873047363, 0.014551512695263584], 0.0, 'No Risk'], ['0_to_200', 18, 'credits_paid_to_date', 'furniture', 1481, 'less_100', '1_to_4', 3, 'male', 'none', 3, 'savings_insurance', 30, 'stores', 'own', 1, 'skilled', 1, 'yes', 'yes', 2.0, 1.0, 0.0, 0.0, 0.0, 0.0, 1.0, 0.0, 1.0, 0.0, 0.0, 0.0, 1.0, [2.0, 1.0, 1.0, 0.0, 0.0, 0.0, 0.0, 0.0, 1.0, 0.0, 0.0, 1.0, 0.0, 18.0, 1481.0, 3.0, 3.0, 18.0, 30.0, 1.0, 1.0], [15.318164110315532, 4.681835889684471], [0.7659082055157764, 0.23409179448422354], 0.0, 'No Risk'], ['less_0', 15, 'prior_payments_delayed', 'radio_tv', 2604, '500_to_1000', '1_to_4', 2, 'male', 'none', 3, 'car_other', 25, 'stores', 'rent', 1, 'unskilled', 1, 'none', 'yes', 1.0, 0.0, 0.0, 2.0, 0.0, 1.0, 1.0, 1.0, 3.0, 0.0, 1.0, 0.0, 0.0, [1.0, 0.0, 3.0, 2.0, 0.0, 0.0, 0.0, 1.0, 1.0, 1.0, 1.0, 0.0, 0.0, 15.0, 2604.0, 2.0, 3.0, 15.0, 25.0, 1.0, 1.0], [15.958906351060644, 4.041093648939356], [0.7979453175530322, 0.20205468244696778], 0.0, 'No Risk'], ['no_checking', 35, 'prior_payments_delayed', 'furniture', 6881, '500_to_1000', 'greater_7', 4, 'male', 'co-applicant', 4, 'savings_insurance', 54, 'none', 'free', 2, 'skilled', 2, 'yes', 'yes', 0.0, 0.0, 2.0, 2.0, 0.0, 2.0, 0.0, 0.0, 1.0, 1.0, 0.0, 0.0, 1.0, [0.0, 0.0, 1.0, 2.0, 2.0, 0.0, 1.0, 0.0, 0.0, 2.0, 0.0, 1.0, 0.0, 35.0, 6881.0, 4.0, 4.0, 35.0, 54.0, 2.0, 2.0], [3.5920324915488164, 16.407967508451183], [0.17960162457744083, 0.8203983754225591], 1.0, 'Risk'], ['0_to_200', 30, 'credits_paid_to_date', 'business', 797, '100_to_500', '1_to_4', 3, 'female', 'co-applicant', 2, 'savings_insurance', 39, 'stores', 'own', 1, 'skilled', 1, 'yes', 'yes', 2.0, 1.0, 0.0, 1.0, 0.0, 0.0, 1.0, 0.0, 9.0, 1.0, 0.0, 1.0, 1.0, [2.0, 1.0, 9.0, 1.0, 0.0, 1.0, 1.0, 0.0, 1.0, 0.0, 0.0, 1.0, 0.0, 30.0, 797.0, 3.0, 2.0, 30.0, 39.0, 1.0, 1.0], [14.35512972254485, 5.644870277455146], [0.7177564861272426, 0.28224351387275737], 0.0, 'No Risk'], ['no_checking', 10, 'prior_payments_delayed', 'furniture', 3706, 'greater_1000', 'greater_7', 4, 'male', 'none', 3, 'unknown', 61, 'stores', 'own', 2, 'unskilled', 2, 'yes', 'yes', 0.0, 0.0, 2.0, 3.0, 0.0, 0.0, 1.0, 1.0, 1.0, 0.0, 3.0, 0.0, 1.0, [0.0, 0.0, 1.0, 3.0, 2.0, 0.0, 0.0, 3.0, 1.0, 0.0, 1.0, 1.0, 0.0, 10.0, 3706.0, 4.0, 3.0, 10.0, 61.0, 2.0, 2.0], [9.18612050705787, 10.81387949294213], [0.4593060253528935, 0.5406939746471064], 1.0, 'Risk'], ['no_checking', 19, 'outstanding_credit', 'appliances', 5253, 'greater_1000', 'greater_7', 4, 'male', 'none', 5, 'car_other', 36, 'stores', 'own', 2, 'unskilled', 2, 'yes', 'yes', 0.0, 2.0, 2.0, 3.0, 0.0, 0.0, 1.0, 1.0, 4.0, 0.0, 1.0, 0.0, 1.0, [0.0, 2.0, 4.0, 3.0, 2.0, 0.0, 0.0, 1.0, 1.0, 0.0, 1.0, 1.0, 0.0, 19.0, 5253.0, 4.0, 5.0, 19.0, 36.0, 2.0, 2.0], [10.532077515994308, 9.46792248400569], [0.5266038757997153, 0.47339612420028454], 0.0, 'No Risk'], ['no_checking', 30, 'prior_payments_delayed', 'radio_tv', 5234, '500_to_1000', 'greater_7', 5, 'male', 'none', 3, 'unknown', 50, 'none', 'free', 2, 'skilled', 1, 'yes', 'yes', 0.0, 0.0, 2.0, 2.0, 0.0, 2.0, 0.0, 0.0, 3.0, 0.0, 3.0, 0.0, 1.0, [0.0, 0.0, 3.0, 2.0, 2.0, 0.0, 0.0, 3.0, 0.0, 2.0, 0.0, 1.0, 0.0, 30.0, 5234.0, 5.0, 3.0, 30.0, 50.0, 2.0, 1.0], [3.7970904941598023, 16.202909505840196], [0.1898545247079901, 0.8101454752920099], 1.0, 'Risk'], ['less_0', 6, 'all_credits_paid_back', 'car_new', 250, 'less_100', 'less_1', 2, 'male', 'none', 1, 'real_estate', 19, 'stores', 'rent', 1, 'skilled', 1, 'none', 'yes', 1.0, 3.0, 3.0, 0.0, 0.0, 1.0, 1.0, 0.0, 0.0, 0.0, 2.0, 0.0, 0.0, [1.0, 3.0, 0.0, 0.0, 3.0, 0.0, 0.0, 2.0, 1.0, 1.0, 0.0, 0.0, 0.0, 6.0, 250.0, 2.0, 1.0, 6.0, 19.0, 1.0, 1.0], [19.68922781534239, 0.3107721846576088], [0.9844613907671196, 0.01553860923288044], 0.0, 'No Risk'], ['no_checking', 25, 'all_credits_paid_back', 'car_new', 3541, 'less_100', '1_to_4', 3, 'male', 'co-applicant', 3, 'car_other', 49, 'none', 'free', 1, 'skilled', 1, 'yes', 'yes', 0.0, 3.0, 0.0, 0.0, 0.0, 2.0, 0.0, 0.0, 0.0, 1.0, 1.0, 0.0, 1.0, [0.0, 3.0, 0.0, 0.0, 0.0, 0.0, 1.0, 1.0, 0.0, 2.0, 0.0, 1.0, 0.0, 25.0, 3541.0, 3.0, 3.0, 25.0, 49.0, 1.0, 1.0], [12.398565585591294, 7.601434414408708], [0.6199282792795647, 0.3800717207204354], 0.0, 'No Risk'], ['no_checking', 19, 'credits_paid_to_date', 'furniture', 2136, '100_to_500', '4_to_7', 3, 'male', 'co-applicant', 3, 'car_other', 56, 'none', 'own', 1, 'skilled', 1, 'yes', 'yes', 0.0, 1.0, 1.0, 1.0, 0.0, 0.0, 0.0, 0.0, 1.0, 1.0, 1.0, 0.0, 1.0, [0.0, 1.0, 1.0, 1.0, 1.0, 0.0, 1.0, 1.0, 0.0, 0.0, 0.0, 1.0, 0.0, 19.0, 2136.0, 3.0, 3.0, 19.0, 56.0, 1.0, 1.0], [11.5587062858541, 8.441293714145898], [0.5779353142927051, 0.4220646857072949], 0.0, 'No Risk'], ['no_checking', 44, 'outstanding_credit', 'appliances', 6710, 'greater_1000', '1_to_4', 4, 'male', 'none', 4, 'unknown', 46, 'none', 'own', 2, 'skilled', 1, 'yes', 'yes', 0.0, 2.0, 0.0, 3.0, 0.0, 0.0, 0.0, 0.0, 4.0, 0.0, 3.0, 0.0, 1.0, [0.0, 2.0, 4.0, 3.0, 0.0, 0.0, 0.0, 3.0, 0.0, 0.0, 0.0, 1.0, 0.0, 44.0, 6710.0, 4.0, 4.0, 44.0, 46.0, 2.0, 1.0], [8.996956375408082, 11.003043624591918], [0.44984781877040414, 0.5501521812295959], 1.0, 'Risk'], ['no_checking', 38, 'prior_payments_delayed', 'other', 6687, 'unknown', '4_to_7', 5, 'male', 'none', 4, 'unknown', 48, 'stores', 'rent', 2, 'unemployed', 2, 'yes', 'yes', 0.0, 0.0, 1.0, 4.0, 0.0, 1.0, 1.0, 3.0, 10.0, 0.0, 3.0, 0.0, 1.0, [0.0, 0.0, 10.0, 4.0, 1.0, 0.0, 0.0, 3.0, 1.0, 1.0, 3.0, 1.0, 0.0, 38.0, 6687.0, 5.0, 4.0, 38.0, 48.0, 2.0, 2.0], [5.1002243133676615, 14.899775686632339], [0.2550112156683831, 0.744988784331617], 1.0, 'Risk'], ['less_0', 11, 'prior_payments_delayed', 'car_used', 473, 'less_100', '1_to_4', 2, 'male', 'none', 3, 'real_estate', 23, 'bank', 'own', 1, 'unskilled', 1, 'none', 'yes', 1.0, 0.0, 0.0, 0.0, 0.0, 0.0, 2.0, 1.0, 2.0, 0.0, 2.0, 0.0, 0.0, [1.0, 0.0, 2.0, 0.0, 0.0, 0.0, 0.0, 2.0, 2.0, 0.0, 1.0, 0.0, 0.0, 11.0, 473.0, 2.0, 3.0, 11.0, 23.0, 1.0, 1.0], [18.08406226601617, 1.9159377339838326], [0.9042031133008084, 0.09579688669919163], 0.0, 'No Risk'], ['no_checking', 16, 'credits_paid_to_date', 'retraining', 3011, 'greater_1000', '1_to_4', 3, 'male', 'none', 2, 'real_estate', 32, 'none', 'rent', 1, 'skilled', 1, 'none', 'yes', 0.0, 1.0, 0.0, 3.0, 0.0, 1.0, 0.0, 0.0, 8.0, 0.0, 2.0, 0.0, 0.0, [0.0, 1.0, 8.0, 3.0, 0.0, 0.0, 0.0, 2.0, 0.0, 1.0, 0.0, 0.0, 0.0, 16.0, 3011.0, 3.0, 2.0, 16.0, 32.0, 1.0, 1.0], [16.91838367181796, 3.0816163281820406], [0.845919183590898, 0.15408081640910204], 0.0, 'No Risk'], ['no_checking', 13, 'credits_paid_to_date', 'car_new', 3662, 'less_100', 'less_1', 2, 'female', 'none', 4, 'real_estate', 32, 'none', 'free', 2, 'management_self-employed', 1, 'yes', 'yes', 0.0, 1.0, 3.0, 0.0, 0.0, 2.0, 0.0, 2.0, 0.0, 0.0, 2.0, 1.0, 1.0, [0.0, 1.0, 0.0, 0.0, 3.0, 1.0, 0.0, 2.0, 0.0, 2.0, 2.0, 1.0, 0.0, 13.0, 3662.0, 2.0, 4.0, 13.0, 32.0, 2.0, 1.0], [15.967708384340142, 4.032291615659857], [0.7983854192170071, 0.20161458078299285], 0.0, 'No Risk'], ['no_checking', 18, 'outstanding_credit', 'furniture', 6152, '100_to_500', 'less_1', 4, 'male', 'none', 3, 'unknown', 45, 'none', 'free', 2, 'management_self-employed', 1, 'yes', 'yes', 0.0, 2.0, 3.0, 1.0, 0.0, 2.0, 0.0, 2.0, 1.0, 0.0, 3.0, 0.0, 1.0, [0.0, 2.0, 1.0, 1.0, 3.0, 0.0, 0.0, 3.0, 0.0, 2.0, 2.0, 1.0, 0.0, 18.0, 6152.0, 4.0, 3.0, 18.0, 45.0, 2.0, 1.0], [13.944721499268015, 6.055278500731983], [0.6972360749634008, 0.30276392503659916], 0.0, 'No Risk'], ['no_checking', 8, 'credits_paid_to_date', 'appliances', 686, 'greater_1000', '4_to_7', 4, 'male', 'none', 4, 'real_estate', 23, 'none', 'own', 1, 'management_self-employed', 1, 'none', 'yes', 0.0, 1.0, 1.0, 3.0, 0.0, 0.0, 0.0, 2.0, 4.0, 0.0, 2.0, 0.0, 0.0, [0.0, 1.0, 4.0, 3.0, 1.0, 0.0, 0.0, 2.0, 0.0, 0.0, 2.0, 0.0, 0.0, 8.0, 686.0, 4.0, 4.0, 8.0, 23.0, 1.0, 1.0], [16.006868048084062, 3.993131951915938], [0.8003434024042031, 0.1996565975957969], 0.0, 'No Risk'], ['0_to_200', 4, 'all_credits_paid_back', 'car_new', 250, 'less_100', 'less_1', 2, 'female', 'none', 1, 'savings_insurance', 33, 'none', 'rent', 1, 'skilled', 1, 'none', 'yes', 2.0, 3.0, 3.0, 0.0, 0.0, 1.0, 0.0, 0.0, 0.0, 0.0, 0.0, 1.0, 0.0, [2.0, 3.0, 0.0, 0.0, 3.0, 1.0, 0.0, 0.0, 0.0, 1.0, 0.0, 0.0, 0.0, 4.0, 250.0, 2.0, 1.0, 4.0, 33.0, 1.0, 1.0], [18.403257268703552, 1.5967427312964426], [0.920162863435178, 0.07983713656482216], 0.0, 'No Risk'], ['no_checking', 20, 'prior_payments_delayed', 'furniture', 5634, '100_to_500', '1_to_4', 2, 'male', 'none', 3, 'savings_insurance', 34, 'stores', 'own', 2, 'unskilled', 1, 'yes', 'yes', 0.0, 0.0, 0.0, 1.0, 0.0, 0.0, 1.0, 1.0, 1.0, 0.0, 0.0, 0.0, 1.0, [0.0, 0.0, 1.0, 1.0, 0.0, 0.0, 0.0, 0.0, 1.0, 0.0, 1.0, 1.0, 0.0, 20.0, 5634.0, 2.0, 3.0, 20.0, 34.0, 2.0, 1.0], [12.153420466194834, 7.8465795338051665], [0.6076710233097418, 0.39232897669025835], 0.0, 'No Risk'], ['no_checking', 47, 'prior_payments_delayed', 'furniture', 7378, '500_to_1000', 'greater_7', 5, 'male', 'co-applicant', 5, 'savings_insurance', 41, 'none', 'own', 2, 'skilled', 1, 'none', 'yes', 0.0, 0.0, 2.0, 2.0, 0.0, 0.0, 0.0, 0.0, 1.0, 1.0, 0.0, 0.0, 0.0, [21, [2, 3, 4, 6, 13, 14, 15, 16, 17, 18, 19, 20], [1.0, 2.0, 2.0, 1.0, 47.0, 7378.0, 5.0, 5.0, 47.0, 41.0, 2.0, 1.0]], [7.905850043131217, 12.094149956868783], [0.39529250215656087, 0.6047074978434391], 1.0, 'Risk'], ['greater_200', 12, 'credits_paid_to_date', 'car_new', 250, 'less_100', '4_to_7', 3, 'male', 'none', 3, 'savings_insurance', 27, 'bank', 'own', 1, 'unemployed', 1, 'none', 'yes', 3.0, 1.0, 1.0, 0.0, 0.0, 0.0, 2.0, 3.0, 0.0, 0.0, 0.0, 0.0, 0.0, [3.0, 1.0, 0.0, 0.0, 1.0, 0.0, 0.0, 0.0, 2.0, 0.0, 3.0, 0.0, 0.0, 12.0, 250.0, 3.0, 3.0, 12.0, 27.0, 1.0, 1.0], [16.66612442653313, 3.3338755734668704], [0.8333062213266565, 0.1666937786733435], 0.0, 'No Risk'], ['no_checking', 23, 'prior_payments_delayed', 'furniture', 1803, '500_to_1000', '4_to_7', 4, 'male', 'none', 3, 'car_other', 26, 'bank', 'own', 1, 'unskilled', 2, 'none', 'yes', 0.0, 0.0, 1.0, 2.0, 0.0, 0.0, 2.0, 1.0, 1.0, 0.0, 1.0, 0.0, 0.0, [0.0, 0.0, 1.0, 2.0, 1.0, 0.0, 0.0, 1.0, 2.0, 0.0, 1.0, 0.0, 0.0, 23.0, 1803.0, 4.0, 3.0, 23.0, 26.0, 1.0, 2.0], [13.523938471636555, 6.476061528363445], [0.6761969235818277, 0.32380307641817224], 0.0, 'No Risk'], ['no_checking', 29, 'outstanding_credit', 'other', 6934, '500_to_1000', 'greater_7', 5, 'male', 'co-applicant', 5, 'car_other', 51, 'none', 'own', 3, 'skilled', 2, 'yes', 'yes', 0.0, 2.0, 2.0, 2.0, 0.0, 0.0, 0.0, 0.0, 10.0, 1.0, 1.0, 0.0, 1.0, [0.0, 2.0, 10.0, 2.0, 2.0, 0.0, 1.0, 1.0, 0.0, 0.0, 0.0, 1.0, 0.0, 29.0, 6934.0, 5.0, 5.0, 29.0, 51.0, 3.0, 2.0], [3.380261435790927, 16.619738564209072], [0.16901307178954633, 0.8309869282104536], 1.0, 'Risk'], ['0_to_200', 9, 'prior_payments_delayed', 'furniture', 2776, 'less_100', '4_to_7', 2, 'male', 'none', 3, 'savings_insurance', 42, 'none', 'own', 2, 'skilled', 2, 'yes', 'yes', 2.0, 0.0, 1.0, 0.0, 0.0, 0.0, 0.0, 0.0, 1.0, 0.0, 0.0, 0.0, 1.0, [21, [0, 2, 4, 11, 13, 14, 15, 16, 17, 18, 19, 20], [2.0, 1.0, 1.0, 1.0, 9.0, 2776.0, 2.0, 3.0, 9.0, 42.0, 2.0, 2.0]], [14.338588029767909, 5.661411970232093], [0.7169294014883955, 0.28307059851160465], 0.0, 'No Risk'], ['no_checking', 32, 'outstanding_credit', 'vacation', 6030, 'unknown', 'greater_7', 5, 'male', 'none', 4, 'car_other', 48, 'none', 'own', 2, 'skilled', 2, 'yes', 'yes', 0.0, 2.0, 2.0, 4.0, 0.0, 0.0, 0.0, 0.0, 6.0, 0.0, 1.0, 0.0, 1.0, [0.0, 2.0, 6.0, 4.0, 2.0, 0.0, 0.0, 1.0, 0.0, 0.0, 0.0, 1.0, 0.0, 32.0, 6030.0, 5.0, 4.0, 32.0, 48.0, 2.0, 2.0], [4.817409924423146, 15.182590075576854], [0.24087049622115728, 0.7591295037788427], 1.0, 'Risk'], ['0_to_200', 8, 'all_credits_paid_back', 'car_used', 1920, '500_to_1000', 'less_1', 1, 'male', 'co-applicant', 1, 'real_estate', 22, 'none', 'own', 1, 'skilled', 1, 'yes', 'yes', 2.0, 3.0, 3.0, 2.0, 0.0, 0.0, 0.0, 0.0, 2.0, 1.0, 2.0, 0.0, 1.0, [2.0, 3.0, 2.0, 2.0, 3.0, 0.0, 1.0, 2.0, 0.0, 0.0, 0.0, 1.0, 0.0, 8.0, 1920.0, 1.0, 1.0, 8.0, 22.0, 1.0, 1.0], [18.4496258859595, 1.550374114040503], [0.922481294297975, 0.07751870570202515], 0.0, 'No Risk'], ['0_to_200', 4, 'credits_paid_to_date', 'car_used', 2148, 'less_100', '1_to_4', 2, 'female', 'none', 2, 'real_estate', 29, 'none', 'own', 1, 'skilled', 1, 'none', 'yes', 2.0, 1.0, 0.0, 0.0, 0.0, 0.0, 0.0, 0.0, 2.0, 0.0, 2.0, 1.0, 0.0, [2.0, 1.0, 2.0, 0.0, 0.0, 1.0, 0.0, 2.0, 0.0, 0.0, 0.0, 0.0, 0.0, 4.0, 2148.0, 2.0, 2.0, 4.0, 29.0, 1.0, 1.0], [18.45617817968588, 1.5438218203141192], [0.9228089089842941, 0.07719109101570595], 0.0, 'No Risk'], ['no_checking', 29, 'prior_payments_delayed', 'car_used', 5292, 'greater_1000', '4_to_7', 4, 'male', 'none', 5, 'car_other', 40, 'none', 'own', 2, 'skilled', 1, 'none', 'yes', 0.0, 0.0, 1.0, 3.0, 0.0, 0.0, 0.0, 0.0, 2.0, 0.0, 1.0, 0.0, 0.0, [21, [2, 3, 4, 7, 13, 14, 15, 16, 17, 18, 19, 20], [2.0, 3.0, 1.0, 1.0, 29.0, 5292.0, 4.0, 5.0, 29.0, 40.0, 2.0, 1.0]], [10.127031013272953, 9.872968986727047], [0.5063515506636477, 0.4936484493363523], 0.0, 'No Risk'], ['0_to_200', 21, 'all_credits_paid_back', 'furniture', 1492, 'less_100', 'unemployed', 2, 'female', 'none', 3, 'savings_insurance', 30, 'none', 'own', 1, 'skilled', 1, 'none', 'yes', 2.0, 3.0, 4.0, 0.0, 0.0, 0.0, 0.0, 0.0, 1.0, 0.0, 0.0, 1.0, 0.0, [2.0, 3.0, 1.0, 0.0, 4.0, 1.0, 0.0, 0.0, 0.0, 0.0, 0.0, 0.0, 0.0, 21.0, 1492.0, 2.0, 3.0, 21.0, 30.0, 1.0, 1.0], [16.062732349476114, 3.937267650523887], [0.8031366174738057, 0.19686338252619434], 0.0, 'No Risk'], ['less_0', 12, 'all_credits_paid_back', 'furniture', 250, '500_to_1000', 'less_1', 2, 'female', 'co-applicant', 3, 'savings_insurance', 30, 'stores', 'own', 1, 'skilled', 1, 'yes', 'yes', 1.0, 3.0, 3.0, 2.0, 0.0, 0.0, 1.0, 0.0, 1.0, 1.0, 0.0, 1.0, 1.0, [1.0, 3.0, 1.0, 2.0, 3.0, 1.0, 1.0, 0.0, 1.0, 0.0, 0.0, 1.0, 0.0, 12.0, 250.0, 2.0, 3.0, 12.0, 30.0, 1.0, 1.0], [16.988305372646323, 3.011694627353678], [0.8494152686323162, 0.1505847313676839], 0.0, 'No Risk'], ['0_to_200', 19, 'prior_payments_delayed', 'car_used', 2058, '100_to_500', 'greater_7', 4, 'male', 'none', 2, 'car_other', 36, 'none', 'own', 2, 'skilled', 1, 'yes', 'yes', 2.0, 0.0, 2.0, 1.0, 0.0, 0.0, 0.0, 0.0, 2.0, 0.0, 1.0, 0.0, 1.0, [2.0, 0.0, 2.0, 1.0, 2.0, 0.0, 0.0, 1.0, 0.0, 0.0, 0.0, 1.0, 0.0, 19.0, 2058.0, 4.0, 2.0, 19.0, 36.0, 2.0, 1.0], [14.09448841731027, 5.905511582689732], [0.7047244208655135, 0.2952755791344866], 0.0, 'No Risk'], ['0_to_200', 7, 'all_credits_paid_back', 'car_new', 250, 'less_100', '1_to_4', 1, 'female', 'none', 1, 'savings_insurance', 28, 'stores', 'own', 1, 'skilled', 1, 'none', 'yes', 2.0, 3.0, 0.0, 0.0, 0.0, 0.0, 1.0, 0.0, 0.0, 0.0, 0.0, 1.0, 0.0, [21, [0, 1, 5, 8, 13, 14, 15, 16, 17, 18, 19, 20], [2.0, 3.0, 1.0, 1.0, 7.0, 250.0, 1.0, 1.0, 7.0, 28.0, 1.0, 1.0]], [18.864377047284272, 1.1356229527157244], [0.9432188523642138, 0.05678114763578623], 0.0, 'No Risk'], ['0_to_200', 24, 'credits_paid_to_date', 'radio_tv', 250, 'less_100', '4_to_7', 3, 'male', 'none', 2, 'car_other', 19, 'bank', 'rent', 1, 'unemployed', 1, 'none', 'yes', 2.0, 1.0, 1.0, 0.0, 0.0, 1.0, 2.0, 3.0, 3.0, 0.0, 1.0, 0.0, 0.0, [2.0, 1.0, 3.0, 0.0, 1.0, 0.0, 0.0, 1.0, 2.0, 1.0, 3.0, 0.0, 0.0, 24.0, 250.0, 3.0, 2.0, 24.0, 19.0, 1.0, 1.0], [15.733049881711132, 4.266950118288867], [0.7866524940855566, 0.21334750591444335], 0.0, 'No Risk'], ['0_to_200', 27, 'credits_paid_to_date', 'car_used', 2407, 'less_100', 'less_1', 2, 'male', 'none', 3, 'car_other', 29, 'none', 'own', 1, 'skilled', 1, 'none', 'yes', 2.0, 1.0, 3.0, 0.0, 0.0, 0.0, 0.0, 0.0, 2.0, 0.0, 1.0, 0.0, 0.0, [2.0, 1.0, 2.0, 0.0, 3.0, 0.0, 0.0, 1.0, 0.0, 0.0, 0.0, 0.0, 0.0, 27.0, 2407.0, 2.0, 3.0, 27.0, 29.0, 1.0, 1.0], [15.138078295517827, 4.861921704482172], [0.7569039147758914, 0.24309608522410858], 0.0, 'No Risk'], ['no_checking', 36, 'prior_payments_delayed', 'appliances', 5619, '500_to_1000', '4_to_7', 4, 'male', 'guarantor', 4, 'car_other', 66, 'none', 'own', 2, 'skilled', 1, 'yes', 'yes', 0.0, 0.0, 1.0, 2.0, 0.0, 0.0, 0.0, 0.0, 4.0, 2.0, 1.0, 0.0, 1.0, [0.0, 0.0, 4.0, 2.0, 1.0, 0.0, 2.0, 1.0, 0.0, 0.0, 0.0, 1.0, 0.0, 36.0, 5619.0, 4.0, 4.0, 36.0, 66.0, 2.0, 1.0], [5.4027672789809635, 14.597232721019036], [0.27013836394904817, 0.7298616360509518], 1.0, 'Risk'], ['no_checking', 12, 'prior_payments_delayed', 'furniture', 3644, '100_to_500', '4_to_7', 3, 'female', 'none', 3, 'real_estate', 33, 'none', 'own', 1, 'skilled', 1, 'yes', 'yes', 0.0, 0.0, 1.0, 1.0, 0.0, 0.0, 0.0, 0.0, 1.0, 0.0, 2.0, 1.0, 1.0, [0.0, 0.0, 1.0, 1.0, 1.0, 1.0, 0.0, 2.0, 0.0, 0.0, 0.0, 1.0, 0.0, 12.0, 3644.0, 3.0, 3.0, 12.0, 33.0, 1.0, 1.0], [15.088766547372884, 4.911233452627117], [0.7544383273686442, 0.24556167263135587], 0.0, 'No Risk'], ['less_0', 17, 'prior_payments_delayed', 'furniture', 2273, '100_to_500', 'greater_7', 3, 'male', 'none', 1, 'car_other', 42, 'bank', 'own', 1, 'unskilled', 1, 'none', 'yes', 1.0, 0.0, 2.0, 1.0, 0.0, 0.0, 2.0, 1.0, 1.0, 0.0, 1.0, 0.0, 0.0, [1.0, 0.0, 1.0, 1.0, 2.0, 0.0, 0.0, 1.0, 2.0, 0.0, 1.0, 0.0, 0.0, 17.0, 2273.0, 3.0, 1.0, 17.0, 42.0, 1.0, 1.0], [15.78885349906278, 4.211146500937219], [0.789442674953139, 0.21055732504686095], 0.0, 'No Risk'], ['less_0', 17, 'credits_paid_to_date', 'repairs', 2615, 'less_100', 'less_1', 3, 'female', 'co-applicant', 3, 'real_estate', 40, 'none', 'own', 1, 'skilled', 1, 'yes', 'yes', 1.0, 1.0, 3.0, 0.0, 0.0, 0.0, 0.0, 0.0, 5.0, 1.0, 2.0, 1.0, 1.0, [1.0, 1.0, 5.0, 0.0, 3.0, 1.0, 1.0, 2.0, 0.0, 0.0, 0.0, 1.0, 0.0, 17.0, 2615.0, 3.0, 3.0, 17.0, 40.0, 1.0, 1.0], [18.172765424449246, 1.8272345755507544], [0.9086382712224623, 0.09136172877753772], 0.0, 'No Risk'], ['less_0', 7, 'all_credits_paid_back', 'car_used', 250, '100_to_500', 'unemployed', 2, 'female', 'none', 2, 'real_estate', 19, 'bank', 'rent', 1, 'unemployed', 1, 'none', 'yes', 1.0, 3.0, 4.0, 1.0, 0.0, 1.0, 2.0, 3.0, 2.0, 0.0, 2.0, 1.0, 0.0, [1.0, 3.0, 2.0, 1.0, 4.0, 1.0, 0.0, 2.0, 2.0, 1.0, 3.0, 0.0, 0.0, 7.0, 250.0, 2.0, 2.0, 7.0, 19.0, 1.0, 1.0], [19.72339075220183, 0.27660924779816753], [0.9861695376100916, 0.01383046238990838], 0.0, 'No Risk'], ['0_to_200', 22, 'credits_paid_to_date', 'radio_tv', 667, 'less_100', 'unemployed', 1, 'female', 'none', 2, 'real_estate', 33, 'none', 'own', 1, 'skilled', 1, 'none', 'yes', 2.0, 1.0, 4.0, 0.0, 0.0, 0.0, 0.0, 0.0, 3.0, 0.0, 2.0, 1.0, 0.0, [2.0, 1.0, 3.0, 0.0, 4.0, 1.0, 0.0, 2.0, 0.0, 0.0, 0.0, 0.0, 0.0, 22.0, 667.0, 1.0, 2.0, 22.0, 33.0, 1.0, 1.0], [18.537664953856037, 1.4623350461439635], [0.9268832476928018, 0.07311675230719818], 0.0, 'No Risk'], ['no_checking', 22, 'outstanding_credit', 'car_used', 3426, 'unknown', '4_to_7', 4, 'male', 'none', 3, 'car_other', 35, 'none', 'own', 2, 'skilled', 1, 'none', 'yes', 0.0, 2.0, 1.0, 4.0, 0.0, 0.0, 0.0, 0.0, 2.0, 0.0, 1.0, 0.0, 0.0, [0.0, 2.0, 2.0, 4.0, 1.0, 0.0, 0.0, 1.0, 0.0, 0.0, 0.0, 0.0, 0.0, 22.0, 3426.0, 4.0, 3.0, 22.0, 35.0, 2.0, 1.0], [11.466687626392652, 8.533312373607345], [0.5733343813196327, 0.4266656186803673], 0.0, 'No Risk'], ['no_checking', 29, 'outstanding_credit', 'appliances', 8314, '500_to_1000', '4_to_7', 4, 'male', 'co-applicant', 5, 'unknown', 47, 'none', 'free', 2, 'skilled', 1, 'yes', 'yes', 0.0, 2.0, 1.0, 2.0, 0.0, 2.0, 0.0, 0.0, 4.0, 1.0, 3.0, 0.0, 1.0, [0.0, 2.0, 4.0, 2.0, 1.0, 0.0, 1.0, 3.0, 0.0, 2.0, 0.0, 1.0, 0.0, 29.0, 8314.0, 4.0, 5.0, 29.0, 47.0, 2.0, 1.0], [2.520050543957079, 17.47994945604292], [0.12600252719785393, 0.873997472802146], 1.0, 'Risk'], ['no_checking', 33, 'prior_payments_delayed', 'furniture', 6966, 'unknown', '1_to_4', 4, 'male', 'none', 4, 'savings_insurance', 47, 'none', 'own', 2, 'skilled', 2, 'none', 'yes', 0.0, 0.0, 0.0, 4.0, 0.0, 0.0, 0.0, 0.0, 1.0, 0.0, 0.0, 0.0, 0.0, [21, [2, 3, 13, 14, 15, 16, 17, 18, 19, 20], [1.0, 4.0, 33.0, 6966.0, 4.0, 4.0, 33.0, 47.0, 2.0, 2.0]], [10.326952135460509, 9.673047864539493], [0.5163476067730255, 0.4836523932269746], 0.0, 'No Risk'], ['0_to_200', 36, 'prior_payments_delayed', 'appliances', 751, '500_to_1000', '4_to_7', 3, 'female', 'none', 3, 'savings_insurance', 19, 'bank', 'rent', 1, 'unemployed', 1, 'none', 'yes', 2.0, 0.0, 1.0, 2.0, 0.0, 1.0, 2.0, 3.0, 4.0, 0.0, 0.0, 1.0, 0.0, [2.0, 0.0, 4.0, 2.0, 1.0, 1.0, 0.0, 0.0, 2.0, 1.0, 3.0, 0.0, 0.0, 36.0, 751.0, 3.0, 3.0, 36.0, 19.0, 1.0, 1.0], [13.76356803031592, 6.236431969684082], [0.688178401515796, 0.3118215984842041], 0.0, 'No Risk'], ['no_checking', 8, 'credits_paid_to_date', 'furniture', 3753, '100_to_500', '4_to_7', 3, 'female', 'none', 2, 'car_other', 52, 'none', 'own', 1, 'skilled', 2, 'yes', 'yes', 0.0, 1.0, 1.0, 1.0, 0.0, 0.0, 0.0, 0.0, 1.0, 0.0, 1.0, 1.0, 1.0, [0.0, 1.0, 1.0, 1.0, 1.0, 1.0, 0.0, 1.0, 0.0, 0.0, 0.0, 1.0, 0.0, 8.0, 3753.0, 3.0, 2.0, 8.0, 52.0, 1.0, 2.0], [11.661497642024155, 8.338502357975845], [0.5830748821012077, 0.4169251178987922], 0.0, 'No Risk'], ['0_to_200', 23, 'all_credits_paid_back', 'retraining', 7109, 'less_100', '4_to_7', 3, 'female', 'none', 2, 'unknown', 33, 'none', 'own', 1, 'skilled', 1, 'none', 'yes', 2.0, 3.0, 1.0, 0.0, 0.0, 0.0, 0.0, 0.0, 8.0, 0.0, 3.0, 1.0, 0.0, [2.0, 3.0, 8.0, 0.0, 1.0, 1.0, 0.0, 3.0, 0.0, 0.0, 0.0, 0.0, 0.0, 23.0, 7109.0, 3.0, 2.0, 23.0, 33.0, 1.0, 1.0], [14.213039425305107, 5.786960574694895], [0.7106519712652554, 0.28934802873474474], 0.0, 'No Risk'], ['less_0', 15, 'prior_payments_delayed', 'radio_tv', 3062, 'less_100', '1_to_4', 3, 'male', 'none', 1, 'savings_insurance', 30, 'none', 'own', 2, 'skilled', 1, 'none', 'yes', 1.0, 0.0, 0.0, 0.0, 0.0, 0.0, 0.0, 0.0, 3.0, 0.0, 0.0, 0.0, 0.0, [21, [0, 2, 13, 14, 15, 16, 17, 18, 19, 20], [1.0, 3.0, 15.0, 3062.0, 3.0, 1.0, 15.0, 30.0, 2.0, 1.0]], [16.462780983996826, 3.5372190160031733], [0.8231390491998413, 0.17686095080015868], 0.0, 'No Risk'], ['less_0', 4, 'all_credits_paid_back', 'car_used', 250, 'less_100', 'unemployed', 1, 'male', 'none', 1, 'real_estate', 19, 'stores', 'rent', 1, 'skilled', 1, 'none', 'yes', 1.0, 3.0, 4.0, 0.0, 0.0, 1.0, 1.0, 0.0, 2.0, 0.0, 2.0, 0.0, 0.0, [1.0, 3.0, 2.0, 0.0, 4.0, 0.0, 0.0, 2.0, 1.0, 1.0, 0.0, 0.0, 0.0, 4.0, 250.0, 1.0, 1.0, 4.0, 19.0, 1.0, 1.0], [19.68922781534239, 0.3107721846576088], [0.9844613907671196, 0.01553860923288044], 0.0, 'No Risk'], ['0_to_200', 15, 'prior_payments_delayed', 'radio_tv', 4663, '100_to_500', 'greater_7', 3, 'female', 'co-applicant', 2, 'car_other', 44, 'none', 'own', 1, 'skilled', 1, 'none', 'yes', 2.0, 0.0, 2.0, 1.0, 0.0, 0.0, 0.0, 0.0, 3.0, 1.0, 1.0, 1.0, 0.0, [2.0, 0.0, 3.0, 1.0, 2.0, 1.0, 1.0, 1.0, 0.0, 0.0, 0.0, 0.0, 0.0, 15.0, 4663.0, 3.0, 2.0, 15.0, 44.0, 1.0, 1.0], [14.618044102524404, 5.3819558974755966], [0.7309022051262202, 0.2690977948737798], 0.0, 'No Risk'], ['less_0', 21, 'prior_payments_delayed', 'education', 250, 'less_100', 'less_1', 1, 'male', 'none', 2, 'real_estate', 25, 'stores', 'own', 1, 'skilled', 1, 'yes', 'yes', 1.0, 0.0, 3.0, 0.0, 0.0, 0.0, 1.0, 0.0, 7.0, 0.0, 2.0, 0.0, 1.0, [1.0, 0.0, 7.0, 0.0, 3.0, 0.0, 0.0, 2.0, 1.0, 0.0, 0.0, 1.0, 0.0, 21.0, 250.0, 1.0, 2.0, 21.0, 25.0, 1.0, 1.0], [18.24446643362735, 1.7555335663726537], [0.9122233216813672, 0.08777667831863267], 0.0, 'No Risk'], ['less_0', 19, 'prior_payments_delayed', 'furniture', 250, '100_to_500', 'less_1', 2, 'female', 'none', 2, 'real_estate', 33, 'stores', 'own', 1, 'skilled', 1, 'none', 'no', 1.0, 0.0, 3.0, 1.0, 1.0, 0.0, 1.0, 0.0, 1.0, 0.0, 2.0, 1.0, 0.0, [1.0, 0.0, 1.0, 1.0, 3.0, 1.0, 0.0, 2.0, 1.0, 0.0, 0.0, 0.0, 1.0, 19.0, 250.0, 2.0, 2.0, 19.0, 33.0, 1.0, 1.0], [18.88851119058704, 1.1114888094129585], [0.9444255595293521, 0.05557444047064793], 0.0, 'No Risk'], ['less_0', 11, 'all_credits_paid_back', 'furniture', 2491, 'less_100', 'unemployed', 1, 'male', 'none', 2, 'car_other', 24, 'stores', 'own', 1, 'skilled', 1, 'none', 'yes', 1.0, 3.0, 4.0, 0.0, 0.0, 0.0, 1.0, 0.0, 1.0, 0.0, 1.0, 0.0, 0.0, [1.0, 3.0, 1.0, 0.0, 4.0, 0.0, 0.0, 1.0, 1.0, 0.0, 0.0, 0.0, 0.0, 11.0, 2491.0, 1.0, 2.0, 11.0, 24.0, 1.0, 1.0], [18.658754638681533, 1.3412453613184665], [0.9329377319340766, 0.06706226806592333], 0.0, 'No Risk'], ['0_to_200', 45, 'outstanding_credit', 'radio_tv', 4268, '500_to_1000', 'greater_7', 5, 'male', 'none', 2, 'savings_insurance', 39, 'none', 'free', 2, 'skilled', 1, 'yes', 'yes', 2.0, 2.0, 2.0, 2.0, 0.0, 2.0, 0.0, 0.0, 3.0, 0.0, 0.0, 0.0, 1.0, [2.0, 2.0, 3.0, 2.0, 2.0, 0.0, 0.0, 0.0, 0.0, 2.0, 0.0, 1.0, 0.0, 45.0, 4268.0, 5.0, 2.0, 45.0, 39.0, 2.0, 1.0], [11.523141594501666, 8.47685840549833], [0.5761570797250835, 0.4238429202749166], 0.0, 'No Risk'], ['less_0', 4, 'all_credits_paid_back', 'car_new', 250, '100_to_500', '1_to_4', 1, 'female', 'none', 2, 'savings_insurance', 19, 'stores', 'rent', 1, 'skilled', 1, 'none', 'yes', 1.0, 3.0, 0.0, 1.0, 0.0, 1.0, 1.0, 0.0, 0.0, 0.0, 0.0, 1.0, 0.0, [1.0, 3.0, 0.0, 1.0, 0.0, 1.0, 0.0, 0.0, 1.0, 1.0, 0.0, 0.0, 0.0, 4.0, 250.0, 1.0, 2.0, 4.0, 19.0, 1.0, 1.0], [18.872511349632187, 1.1274886503678085], [0.9436255674816095, 0.05637443251839044], 0.0, 'No Risk'], ['0_to_200', 21, 'credits_paid_to_date', 'radio_tv', 250, '100_to_500', '1_to_4', 3, 'female', 'none', 3, 'real_estate', 27, 'none', 'own', 1, 'skilled', 1, 'none', 'yes', 2.0, 1.0, 0.0, 1.0, 0.0, 0.0, 0.0, 0.0, 3.0, 0.0, 2.0, 1.0, 0.0, [2.0, 1.0, 3.0, 1.0, 0.0, 1.0, 0.0, 2.0, 0.0, 0.0, 0.0, 0.0, 0.0, 21.0, 250.0, 3.0, 3.0, 21.0, 27.0, 1.0, 1.0], [17.77429682590018, 2.22570317409982], [0.888714841295009, 0.111285158704991], 0.0, 'No Risk'], ['less_0', 13, 'all_credits_paid_back', 'car_new', 250, 'less_100', 'less_1', 1, 'female', 'none', 1, 'real_estate', 19, 'stores', 'rent', 1, 'skilled', 1, 'none', 'yes', 1.0, 3.0, 3.0, 0.0, 0.0, 1.0, 1.0, 0.0, 0.0, 0.0, 2.0, 1.0, 0.0, [1.0, 3.0, 0.0, 0.0, 3.0, 1.0, 0.0, 2.0, 1.0, 1.0, 0.0, 0.0, 0.0, 13.0, 250.0, 1.0, 1.0, 13.0, 19.0, 1.0, 1.0], [19.667069869135887, 0.3329301308641113], [0.9833534934567945, 0.016646506543205566], 0.0, 'No Risk'], ['less_0', 17, 'credits_paid_to_date', 'car_new', 673, '500_to_1000', '4_to_7', 3, 'female', 'none', 3, 'real_estate', 39, 'stores', 'own', 1, 'skilled', 2, 'none', 'yes', 1.0, 1.0, 1.0, 2.0, 0.0, 0.0, 1.0, 0.0, 0.0, 0.0, 2.0, 1.0, 0.0, [1.0, 1.0, 0.0, 2.0, 1.0, 1.0, 0.0, 2.0, 1.0, 0.0, 0.0, 0.0, 0.0, 17.0, 673.0, 3.0, 3.0, 17.0, 39.0, 1.0, 2.0], [18.156745083878718, 1.8432549161212817], [0.9078372541939359, 0.09216274580606408], 0.0, 'No Risk'], ['no_checking', 29, 'prior_payments_delayed', 'car_used', 6532, 'unknown', 'greater_7', 5, 'male', 'none', 4, 'car_other', 45, 'none', 'own', 2, 'skilled', 2, 'none', 'yes', 0.0, 0.0, 2.0, 4.0, 0.0, 0.0, 0.0, 0.0, 2.0, 0.0, 1.0, 0.0, 0.0, [21, [2, 3, 4, 7, 13, 14, 15, 16, 17, 18, 19, 20], [2.0, 4.0, 2.0, 1.0, 29.0, 6532.0, 5.0, 4.0, 29.0, 45.0, 2.0, 2.0]], [8.322155508542462, 11.677844491457543], [0.41610777542712296, 0.5838922245728769], 1.0, 'Risk'], ['no_checking', 29, 'prior_payments_delayed', 'radio_tv', 6717, 'unknown', '1_to_4', 4, 'male', 'none', 4, 'car_other', 45, 'none', 'own', 2, 'management_self-employed', 1, 'none', 'yes', 0.0, 0.0, 0.0, 4.0, 0.0, 0.0, 0.0, 2.0, 3.0, 0.0, 1.0, 0.0, 0.0, [21, [2, 3, 7, 10, 13, 14, 15, 16, 17, 18, 19, 20], [3.0, 4.0, 1.0, 2.0, 29.0, 6717.0, 4.0, 4.0, 29.0, 45.0, 2.0, 1.0]], [10.92157557034042, 9.07842442965958], [0.5460787785170209, 0.45392122148297903], 0.0, 'No Risk'], ['less_0', 12, 'prior_payments_delayed', 'car_used', 3715, 'less_100', '1_to_4', 2, 'male', 'none', 2, 'savings_insurance', 27, 'none', 'own', 1, 'skilled', 1, 'none', 'yes', 1.0, 0.0, 0.0, 0.0, 0.0, 0.0, 0.0, 0.0, 2.0, 0.0, 0.0, 0.0, 0.0, [21, [0, 2, 13, 14, 15, 16, 17, 18, 19, 20], [1.0, 2.0, 12.0, 3715.0, 2.0, 2.0, 12.0, 27.0, 1.0, 1.0]], [17.9078357160151, 2.0921642839849], [0.895391785800755, 0.104608214199245], 0.0, 'No Risk'], ['no_checking', 10, 'credits_paid_to_date', 'furniture', 7053, 'less_100', '1_to_4', 3, 'male', 'none', 4, 'car_other', 35, 'none', 'own', 1, 'management_self-employed', 2, 'yes', 'yes', 0.0, 1.0, 0.0, 0.0, 0.0, 0.0, 0.0, 2.0, 1.0, 0.0, 1.0, 0.0, 1.0, [0.0, 1.0, 1.0, 0.0, 0.0, 0.0, 0.0, 1.0, 0.0, 0.0, 2.0, 1.0, 0.0, 10.0, 7053.0, 3.0, 4.0, 10.0, 35.0, 1.0, 2.0], [13.737502542231274, 6.262497457768725], [0.6868751271115637, 0.31312487288843627], 0.0, 'No Risk'], ['less_0', 7, 'all_credits_paid_back', 'education', 1944, '100_to_500', '4_to_7', 2, 'male', 'none', 2, 'car_other', 29, 'stores', 'own', 1, 'skilled', 1, 'none', 'yes', 1.0, 3.0, 1.0, 1.0, 0.0, 0.0, 1.0, 0.0, 7.0, 0.0, 1.0, 0.0, 0.0, [1.0, 3.0, 7.0, 1.0, 1.0, 0.0, 0.0, 1.0, 1.0, 0.0, 0.0, 0.0, 0.0, 7.0, 1944.0, 2.0, 2.0, 7.0, 29.0, 1.0, 1.0], [17.267893538458097, 2.732106461541904], [0.8633946769229048, 0.13660532307709522], 0.0, 'No Risk'], ['greater_200', 21, 'credits_paid_to_date', 'car_used', 405, '100_to_500', '4_to_7', 3, 'male', 'none', 4, 'savings_insurance', 25, 'none', 'own', 1, 'skilled', 2, 'none', 'yes', 3.0, 1.0, 1.0, 1.0, 0.0, 0.0, 0.0, 0.0, 2.0, 0.0, 0.0, 0.0, 0.0, [3.0, 1.0, 2.0, 1.0, 1.0, 0.0, 0.0, 0.0, 0.0, 0.0, 0.0, 0.0, 0.0, 21.0, 405.0, 3.0, 4.0, 21.0, 25.0, 1.0, 2.0], [15.220295570906742, 4.779704429093256], [0.7610147785453372, 0.23898522145466278], 0.0, 'No Risk'], ['0_to_200', 13, 'prior_payments_delayed', 'car_used', 5141, 'less_100', '4_to_7', 4, 'male', 'none', 3, 'unknown', 40, 'none', 'own', 1, 'skilled', 1, 'none', 'yes', 2.0, 0.0, 1.0, 0.0, 0.0, 0.0, 0.0, 0.0, 2.0, 0.0, 3.0, 0.0, 0.0, [21, [0, 2, 4, 7, 13, 14, 15, 16, 17, 18, 19, 20], [2.0, 2.0, 1.0, 3.0, 13.0, 5141.0, 4.0, 3.0, 13.0, 40.0, 1.0, 1.0]], [14.384632812122211, 5.615367187877792], [0.7192316406061104, 0.28076835939388955], 0.0, 'No Risk'], ['less_0', 8, 'all_credits_paid_back', 'car_new', 250, 'less_100', '1_to_4', 3, 'female', 'none', 1, 'real_estate', 22, 'bank', 'rent', 1, 'unskilled', 1, 'none', 'yes', 1.0, 3.0, 0.0, 0.0, 0.0, 1.0, 2.0, 1.0, 0.0, 0.0, 2.0, 1.0, 0.0, [1.0, 3.0, 0.0, 0.0, 0.0, 1.0, 0.0, 2.0, 2.0, 1.0, 1.0, 0.0, 0.0, 8.0, 250.0, 3.0, 1.0, 8.0, 22.0, 1.0, 1.0], [19.514017799870526, 0.48598220012947363], [0.9757008899935263, 0.02429911000647368], 0.0, 'No Risk'], ['0_to_200', 19, 'prior_payments_delayed', 'radio_tv', 7171, 'less_100', 'less_1', 3, 'male', 'none', 4, 'unknown', 30, 'none', 'rent', 2, 'skilled', 1, 'none', 'yes', 2.0, 0.0, 3.0, 0.0, 0.0, 1.0, 0.0, 0.0, 3.0, 0.0, 3.0, 0.0, 0.0, [2.0, 0.0, 3.0, 0.0, 3.0, 0.0, 0.0, 3.0, 0.0, 1.0, 0.0, 0.0, 0.0, 19.0, 7171.0, 3.0, 4.0, 19.0, 30.0, 2.0, 1.0], [13.029590482254472, 6.970409517745528], [0.6514795241127236, 0.3485204758872764], 0.0, 'No Risk'], ['no_checking', 19, 'outstanding_credit', 'appliances', 4281, 'unknown', '4_to_7', 3, 'female', 'none', 3, 'car_other', 59, 'bank', 'rent', 2, 'unemployed', 1, 'none', 'yes', 0.0, 2.0, 1.0, 4.0, 0.0, 1.0, 2.0, 3.0, 4.0, 0.0, 1.0, 1.0, 0.0, [0.0, 2.0, 4.0, 4.0, 1.0, 1.0, 0.0, 1.0, 2.0, 1.0, 3.0, 0.0, 0.0, 19.0, 4281.0, 3.0, 3.0, 19.0, 59.0, 2.0, 1.0], [9.33930135920425, 10.660698640795749], [0.4669650679602125, 0.5330349320397875], 1.0, 'Risk'], ['0_to_200', 20, 'prior_payments_delayed', 'education', 250, 'less_100', '4_to_7', 3, 'male', 'none', 3, 'real_estate', 33, 'none', 'own', 2, 'skilled', 1, 'none', 'yes', 2.0, 0.0, 1.0, 0.0, 0.0, 0.0, 0.0, 0.0, 7.0, 0.0, 2.0, 0.0, 0.0, [21, [0, 2, 4, 7, 13, 14, 15, 16, 17, 18, 19, 20], [2.0, 7.0, 1.0, 2.0, 20.0, 250.0, 3.0, 3.0, 20.0, 33.0, 2.0, 1.0]], [16.80423676607904, 3.1957632339209616], [0.840211838303952, 0.1597881616960481], 0.0, 'No Risk'], ['no_checking', 28, 'outstanding_credit', 'business', 6941, 'unknown', 'greater_7', 5, 'female', 'none', 5, 'car_other', 46, 'none', 'own', 2, 'management_self-employed', 2, 'yes', 'no', 0.0, 2.0, 2.0, 4.0, 1.0, 0.0, 0.0, 2.0, 9.0, 0.0, 1.0, 1.0, 1.0, [0.0, 2.0, 9.0, 4.0, 2.0, 1.0, 0.0, 1.0, 0.0, 0.0, 2.0, 1.0, 1.0, 28.0, 6941.0, 5.0, 5.0, 28.0, 46.0, 2.0, 2.0], [5.513903253217494, 14.486096746782506], [0.2756951626608747, 0.7243048373391253], 1.0, 'Risk'], ['less_0', 14, 'prior_payments_delayed', 'car_new', 2708, 'less_100', 'less_1', 3, 'male', 'none', 2, 'real_estate', 33, 'none', 'own', 1, 'skilled', 1, 'none', 'yes', 1.0, 0.0, 3.0, 0.0, 0.0, 0.0, 0.0, 0.0, 0.0, 0.0, 2.0, 0.0, 0.0, [21, [0, 4, 7, 13, 14, 15, 16, 17, 18, 19, 20], [1.0, 3.0, 2.0, 14.0, 2708.0, 3.0, 2.0, 14.0, 33.0, 1.0, 1.0]], [18.476604413328626, 1.5233955866713673], [0.9238302206664316, 0.07616977933356839], 0.0, 'No Risk'], ['no_checking', 39, 'prior_payments_delayed', 'furniture', 5842, '500_to_1000', '4_to_7', 4, 'male', 'none', 3, 'car_other', 40, 'none', 'own', 2, 'skilled', 1, 'none', 'no', 0.0, 0.0, 1.0, 2.0, 1.0, 0.0, 0.0, 0.0, 1.0, 0.0, 1.0, 0.0, 0.0, [0.0, 0.0, 1.0, 2.0, 1.0, 0.0, 0.0, 1.0, 0.0, 0.0, 0.0, 0.0, 1.0, 39.0, 5842.0, 4.0, 3.0, 39.0, 40.0, 2.0, 1.0], [9.515672601540997, 10.484327398459001], [0.4757836300770498, 0.5242163699229501], 1.0, 'Risk'], ['no_checking', 17, 'credits_paid_to_date', 'radio_tv', 4677, '100_to_500', '4_to_7', 4, 'female', 'none', 2, 'car_other', 37, 'none', 'own', 1, 'skilled', 2, 'none', 'yes', 0.0, 1.0, 1.0, 1.0, 0.0, 0.0, 0.0, 0.0, 3.0, 0.0, 1.0, 1.0, 0.0, [0.0, 1.0, 3.0, 1.0, 1.0, 1.0, 0.0, 1.0, 0.0, 0.0, 0.0, 0.0, 0.0, 17.0, 4677.0, 4.0, 2.0, 17.0, 37.0, 1.0, 2.0], [11.497460873177035, 8.502539126822965], [0.5748730436588517, 0.4251269563411483], 0.0, 'No Risk'], ['no_checking', 27, 'prior_payments_delayed', 'business', 5693, '100_to_500', '4_to_7', 3, 'male', 'none', 4, 'unknown', 40, 'none', 'own', 1, 'skilled', 1, 'none', 'yes', 0.0, 0.0, 1.0, 1.0, 0.0, 0.0, 0.0, 0.0, 9.0, 0.0, 3.0, 0.0, 0.0, [21, [2, 3, 4, 7, 13, 14, 15, 16, 17, 18, 19, 20], [9.0, 1.0, 1.0, 3.0, 27.0, 5693.0, 3.0, 4.0, 27.0, 40.0, 1.0, 1.0]], [10.261754998341168, 9.738245001658832], [0.5130877499170584, 0.4869122500829416], 0.0, 'No Risk'], ['no_checking', 46, 'outstanding_credit', 'education', 8175, 'greater_1000', 'greater_7', 6, 'female', 'co-applicant', 5, 'unknown', 53, 'none', 'free', 2, 'management_self-employed', 2, 'yes', 'no', 0.0, 2.0, 2.0, 3.0, 1.0, 2.0, 0.0, 2.0, 7.0, 1.0, 3.0, 1.0, 1.0, [0.0, 2.0, 7.0, 3.0, 2.0, 1.0, 1.0, 3.0, 0.0, 2.0, 2.0, 1.0, 1.0, 46.0, 8175.0, 6.0, 5.0, 46.0, 53.0, 2.0, 2.0], [1.2487383146359714, 18.751261685364028], [0.06243691573179857, 0.9375630842682015], 1.0, 'Risk'], ['no_checking', 25, 'prior_payments_delayed', 'education', 4443, '100_to_500', 'greater_7', 3, 'male', 'none', 3, 'car_other', 28, 'none', 'own', 1, 'skilled', 1, 'none', 'yes', 0.0, 0.0, 2.0, 1.0, 0.0, 0.0, 0.0, 0.0, 7.0, 0.0, 1.0, 0.0, 0.0, [21, [2, 3, 4, 7, 13, 14, 15, 16, 17, 18, 19, 20], [7.0, 1.0, 2.0, 1.0, 25.0, 4443.0, 3.0, 3.0, 25.0, 28.0, 1.0, 1.0]], [11.899493729645394, 8.100506270354604], [0.5949746864822697, 0.4050253135177302], 0.0, 'No Risk'], ['no_checking', 24, 'outstanding_credit', 'appliances', 2423, '500_to_1000', '1_to_4', 4, 'female', 'none', 4, 'car_other', 53, 'none', 'own', 1, 'skilled', 1, 'yes', 'yes', 0.0, 2.0, 0.0, 2.0, 0.0, 0.0, 0.0, 0.0, 4.0, 0.0, 1.0, 1.0, 1.0, [0.0, 2.0, 4.0, 2.0, 0.0, 1.0, 0.0, 1.0, 0.0, 0.0, 0.0, 1.0, 0.0, 24.0, 2423.0, 4.0, 4.0, 24.0, 53.0, 1.0, 1.0], [10.696624983380616, 9.303375016619384], [0.5348312491690308, 0.4651687508309692], 0.0, 'No Risk'], ['less_0', 4, 'all_credits_paid_back', 'car_new', 250, 'less_100', 'unemployed', 1, 'female', 'none', 1, 'real_estate', 19, 'none', 'rent', 1, 'skilled', 1, 'none', 'yes', 1.0, 3.0, 4.0, 0.0, 0.0, 1.0, 0.0, 0.0, 0.0, 0.0, 2.0, 1.0, 0.0, [1.0, 3.0, 0.0, 0.0, 4.0, 1.0, 0.0, 2.0, 0.0, 1.0, 0.0, 0.0, 0.0, 4.0, 250.0, 1.0, 1.0, 4.0, 19.0, 1.0, 1.0], [19.73822260499371, 0.2617773950062894], [0.9869111302496855, 0.01308886975031447], 0.0, 'No Risk'], ['no_checking', 28, 'prior_payments_delayed', 'radio_tv', 5584, '100_to_500', '1_to_4', 4, 'male', 'guarantor', 4, 'car_other', 49, 'none', 'own', 2, 'skilled', 1, 'yes', 'yes', 0.0, 0.0, 0.0, 1.0, 0.0, 0.0, 0.0, 0.0, 3.0, 2.0, 1.0, 0.0, 1.0, [0.0, 0.0, 3.0, 1.0, 0.0, 0.0, 2.0, 1.0, 0.0, 0.0, 0.0, 1.0, 0.0, 28.0, 5584.0, 4.0, 4.0, 28.0, 49.0, 2.0, 1.0], [8.294555801289626, 11.705444198710374], [0.4147277900644813, 0.5852722099355188], 1.0, 'Risk'], ['0_to_200', 34, 'prior_payments_delayed', 'radio_tv', 2320, '100_to_500', '1_to_4', 3, 'male', 'none', 2, 'car_other', 23, 'bank', 'own', 2, 'unemployed', 1, 'none', 'yes', 2.0, 0.0, 0.0, 1.0, 0.0, 0.0, 2.0, 3.0, 3.0, 0.0, 1.0, 0.0, 0.0, [2.0, 0.0, 3.0, 1.0, 0.0, 0.0, 0.0, 1.0, 2.0, 0.0, 3.0, 0.0, 0.0, 34.0, 2320.0, 3.0, 2.0, 34.0, 23.0, 2.0, 1.0], [15.238760776682879, 4.761239223317118], [0.7619380388341441, 0.23806196116585596], 0.0, 'No Risk'], ['less_0', 8, 'prior_payments_delayed', 'furniture', 1093, 'less_100', '4_to_7', 3, 'male', 'none', 2, 'car_other', 19, 'bank', 'rent', 1, 'unemployed', 1, 'none', 'yes', 1.0, 0.0, 1.0, 0.0, 0.0, 1.0, 2.0, 3.0, 1.0, 0.0, 1.0, 0.0, 0.0, [1.0, 0.0, 1.0, 0.0, 1.0, 0.0, 0.0, 1.0, 2.0, 1.0, 3.0, 0.0, 0.0, 8.0, 1093.0, 3.0, 2.0, 8.0, 19.0, 1.0, 1.0], [17.481730246223705, 2.5182697537762966], [0.8740865123111853, 0.12591348768881483], 0.0, 'No Risk'], ['less_0', 30, 'credits_paid_to_date', 'furniture', 250, '100_to_500', 'less_1', 3, 'female', 'none', 3, 'real_estate', 31, 'stores', 'rent', 1, 'skilled', 1, 'none', 'yes', 1.0, 1.0, 3.0, 1.0, 0.0, 1.0, 1.0, 0.0, 1.0, 0.0, 2.0, 1.0, 0.0, [1.0, 1.0, 1.0, 1.0, 3.0, 1.0, 0.0, 2.0, 1.0, 1.0, 0.0, 0.0, 0.0, 30.0, 250.0, 3.0, 3.0, 30.0, 31.0, 1.0, 1.0], [15.98796584060479, 4.012034159395207], [0.7993982920302396, 0.2006017079697604], 0.0, 'No Risk'], ['no_checking', 38, 'prior_payments_delayed', 'other', 5581, '500_to_1000', 'greater_7', 5, 'male', 'none', 5, 'unknown', 45, 'none', 'free', 3, 'skilled', 2, 'yes', 'yes', 0.0, 0.0, 2.0, 2.0, 0.0, 2.0, 0.0, 0.0, 10.0, 0.0, 3.0, 0.0, 1.0, [0.0, 0.0, 10.0, 2.0, 2.0, 0.0, 0.0, 3.0, 0.0, 2.0, 0.0, 1.0, 0.0, 38.0, 5581.0, 5.0, 5.0, 38.0, 45.0, 3.0, 2.0], [4.05050642972586, 15.949493570274138], [0.20252532148629301, 0.797474678513707], 1.0, 'Risk'], ['0_to_200', 15, 'prior_payments_delayed', 'radio_tv', 2312, 'less_100', '1_to_4', 3, 'male', 'none', 3, 'car_other', 31, 'none', 'own', 1, 'skilled', 1, 'none', 'yes', 2.0, 0.0, 0.0, 0.0, 0.0, 0.0, 0.0, 0.0, 3.0, 0.0, 1.0, 0.0, 0.0, [21, [0, 2, 7, 13, 14, 15, 16, 17, 18, 19, 20], [2.0, 3.0, 1.0, 15.0, 2312.0, 3.0, 3.0, 15.0, 31.0, 1.0, 1.0]], [15.000441904159501, 4.999558095840499], [0.750022095207975, 0.24997790479202492], 0.0, 'No Risk'], ['greater_200', 25, 'credits_paid_to_date', 'radio_tv', 3645, '100_to_500', 'less_1', 2, 'female', 'co-applicant', 4, 'savings_insurance', 50, 'none', 'own', 1, 'skilled', 1, 'none', 'yes', 3.0, 1.0, 3.0, 1.0, 0.0, 0.0, 0.0, 0.0, 3.0, 1.0, 0.0, 1.0, 0.0, [3.0, 1.0, 3.0, 1.0, 3.0, 1.0, 1.0, 0.0, 0.0, 0.0, 0.0, 0.0, 0.0, 25.0, 3645.0, 2.0, 4.0, 25.0, 50.0, 1.0, 1.0], [13.041982813848318, 6.958017186151679], [0.652099140692416, 0.347900859307584], 0.0, 'No Risk'], ['no_checking', 48, 'outstanding_credit', 'radio_tv', 6581, 'unknown', 'greater_7', 5, 'male', 'co-applicant', 5, 'unknown', 46, 'none', 'own', 2, 'skilled', 1, 'none', 'yes', 0.0, 2.0, 2.0, 4.0, 0.0, 0.0, 0.0, 0.0, 3.0, 1.0, 3.0, 0.0, 0.0, [0.0, 2.0, 3.0, 4.0, 2.0, 0.0, 1.0, 3.0, 0.0, 0.0, 0.0, 0.0, 0.0, 48.0, 6581.0, 5.0, 5.0, 48.0, 46.0, 2.0, 1.0], [4.034332955330895, 15.965667044669104], [0.20171664776654477, 0.7982833522334551], 1.0, 'Risk'], ['0_to_200', 4, 'prior_payments_delayed', 'car_used', 2615, 'less_100', 'unemployed', 2, 'female', 'none', 3, 'real_estate', 25, 'none', 'own', 1, 'management_self-employed', 1, 'none', 'yes', 2.0, 0.0, 4.0, 0.0, 0.0, 0.0, 0.0, 2.0, 2.0, 0.0, 2.0, 1.0, 0.0, [2.0, 0.0, 2.0, 0.0, 4.0, 1.0, 0.0, 2.0, 0.0, 0.0, 2.0, 0.0, 0.0, 4.0, 2615.0, 2.0, 3.0, 4.0, 25.0, 1.0, 1.0], [18.238029693770397, 1.761970306229605], [0.9119014846885198, 0.08809851531148025], 0.0, 'No Risk'], ['0_to_200', 19, 'prior_payments_delayed', 'furniture', 1769, '100_to_500', '1_to_4', 3, 'male', 'none', 4, 'car_other', 35, 'none', 'own', 1, 'skilled', 1, 'none', 'yes', 2.0, 0.0, 0.0, 1.0, 0.0, 0.0, 0.0, 0.0, 1.0, 0.0, 1.0, 0.0, 0.0, [21, [0, 2, 3, 7, 13, 14, 15, 16, 17, 18, 19, 20], [2.0, 1.0, 1.0, 1.0, 19.0, 1769.0, 3.0, 4.0, 19.0, 35.0, 1.0, 1.0]], [13.879132192217382, 6.12086780778262], [0.6939566096108691, 0.306043390389131], 0.0, 'No Risk'], ['0_to_200', 28, 'credits_paid_to_date', 'radio_tv', 2347, '100_to_500', 'less_1', 3, 'male', 'none', 2, 'real_estate', 28, 'none', 'own', 1, 'management_self-employed', 1, 'none', 'yes', 2.0, 1.0, 3.0, 1.0, 0.0, 0.0, 0.0, 2.0, 3.0, 0.0, 2.0, 0.0, 0.0, [2.0, 1.0, 3.0, 1.0, 3.0, 0.0, 0.0, 2.0, 0.0, 0.0, 2.0, 0.0, 0.0, 28.0, 2347.0, 3.0, 2.0, 28.0, 28.0, 1.0, 1.0], [17.170264730025096, 2.8297352699749063], [0.8585132365012547, 0.14148676349874528], 0.0, 'No Risk'], ['greater_200', 30, 'prior_payments_delayed', 'education', 4872, 'greater_1000', 'greater_7', 3, 'male', 'guarantor', 4, 'car_other', 50, 'none', 'free', 3, 'skilled', 1, 'yes', 'yes', 3.0, 0.0, 2.0, 3.0, 0.0, 2.0, 0.0, 0.0, 7.0, 2.0, 1.0, 0.0, 1.0, [3.0, 0.0, 7.0, 3.0, 2.0, 0.0, 2.0, 1.0, 0.0, 2.0, 0.0, 1.0, 0.0, 30.0, 4872.0, 3.0, 4.0, 30.0, 50.0, 3.0, 1.0], [6.262419928793116, 13.737580071206885], [0.3131209964396558, 0.6868790035603443], 1.0, 'Risk'], ['no_checking', 40, 'prior_payments_delayed', 'appliances', 4999, 'unknown', '1_to_4', 3, 'male', 'none', 2, 'savings_insurance', 35, 'none', 'own', 1, 'skilled', 1, 'none', 'yes', 0.0, 0.0, 0.0, 4.0, 0.0, 0.0, 0.0, 0.0, 4.0, 0.0, 0.0, 0.0, 0.0, [21, [2, 3, 13, 14, 15, 16, 17, 18, 19, 20], [4.0, 4.0, 40.0, 4999.0, 3.0, 2.0, 40.0, 35.0, 1.0, 1.0]], [13.111915383067492, 6.888084616932509], [0.6555957691533746, 0.3444042308466254], 0.0, 'No Risk'], ['less_0', 19, 'all_credits_paid_back', 'car_new', 702, 'less_100', '1_to_4', 3, 'female', 'none', 3, 'car_other', 25, 'none', 'rent', 1, 'skilled', 1, 'none', 'yes', 1.0, 3.0, 0.0, 0.0, 0.0, 1.0, 0.0, 0.0, 0.0, 0.0, 1.0, 1.0, 0.0, [1.0, 3.0, 0.0, 0.0, 0.0, 1.0, 0.0, 1.0, 0.0, 1.0, 0.0, 0.0, 0.0, 19.0, 702.0, 3.0, 3.0, 19.0, 25.0, 1.0, 1.0], [16.129210387271108, 3.8707896127288937], [0.8064605193635555, 0.1935394806364447], 0.0, 'No Risk'], ['no_checking', 49, 'outstanding_credit', 'education', 8455, 'unknown', 'greater_7', 4, 'male', 'co-applicant', 4, 'unknown', 52, 'none', 'free', 2, 'skilled', 2, 'yes', 'yes', 0.0, 2.0, 2.0, 4.0, 0.0, 2.0, 0.0, 0.0, 7.0, 1.0, 3.0, 0.0, 1.0, [0.0, 2.0, 7.0, 4.0, 2.0, 0.0, 1.0, 3.0, 0.0, 2.0, 0.0, 1.0, 0.0, 49.0, 8455.0, 4.0, 4.0, 49.0, 52.0, 2.0, 2.0], [1.4534593388576926, 18.546540661142306], [0.07267296694288464, 0.9273270330571153], 1.0, 'Risk'], ['no_checking', 27, 'prior_payments_delayed', 'business', 6076, 'greater_1000', '1_to_4', 3, 'male', 'none', 4, 'savings_insurance', 38, 'none', 'own', 2, 'skilled', 1, 'none', 'no', 0.0, 0.0, 0.0, 3.0, 1.0, 0.0, 0.0, 0.0, 9.0, 0.0, 0.0, 0.0, 0.0, [21, [2, 3, 12, 13, 14, 15, 16, 17, 18, 19, 20], [9.0, 3.0, 1.0, 27.0, 6076.0, 3.0, 4.0, 27.0, 38.0, 2.0, 1.0]], [12.535742504265075, 7.464257495734922], [0.6267871252132539, 0.3732128747867462], 0.0, 'No Risk'], ['0_to_200', 20, 'prior_payments_delayed', 'furniture', 3507, '100_to_500', '1_to_4', 2, 'female', 'none', 3, 'savings_insurance', 32, 'none', 'rent', 1, 'skilled', 1, 'none', 'yes', 2.0, 0.0, 0.0, 1.0, 0.0, 1.0, 0.0, 0.0, 1.0, 0.0, 0.0, 1.0, 0.0, [2.0, 0.0, 1.0, 1.0, 0.0, 1.0, 0.0, 0.0, 0.0, 1.0, 0.0, 0.0, 0.0, 20.0, 3507.0, 2.0, 3.0, 20.0, 32.0, 1.0, 1.0], [14.848045379100926, 5.151954620899076], [0.7424022689550462, 0.2575977310449538], 0.0, 'No Risk'], ['no_checking', 18, 'credits_paid_to_date', 'furniture', 4573, 'greater_1000', '1_to_4', 4, 'male', 'none', 3, 'car_other', 41, 'none', 'own', 2, 'skilled', 1, 'none', 'yes', 0.0, 1.0, 0.0, 3.0, 0.0, 0.0, 0.0, 0.0, 1.0, 0.0, 1.0, 0.0, 0.0, [21, [1, 2, 3, 7, 13, 14, 15, 16, 17, 18, 19, 20], [1.0, 1.0, 3.0, 1.0, 18.0, 4573.0, 4.0, 3.0, 18.0, 41.0, 2.0, 1.0]], [12.629360221820926, 7.370639778179071], [0.6314680110910464, 0.3685319889089536], 0.0, 'No Risk'], ['0_to_200', 26, 'outstanding_credit', 'retraining', 3667, '500_to_1000', 'greater_7', 3, 'female', 'none', 3, 'unknown', 31, 'stores', 'own', 1, 'skilled', 1, 'yes', 'yes', 2.0, 2.0, 2.0, 2.0, 0.0, 0.0, 1.0, 0.0, 8.0, 0.0, 3.0, 1.0, 1.0, [2.0, 2.0, 8.0, 2.0, 2.0, 1.0, 0.0, 3.0, 1.0, 0.0, 0.0, 1.0, 0.0, 26.0, 3667.0, 3.0, 3.0, 26.0, 31.0, 1.0, 1.0], [10.754345382415007, 9.245654617584993], [0.5377172691207504, 0.46228273087924965], 0.0, 'No Risk'], ['less_0', 10, 'all_credits_paid_back', 'car_used', 250, 'less_100', 'less_1', 2, 'female', 'co-applicant', 3, 'savings_insurance', 29, 'bank', 'rent', 1, 'unemployed', 1, 'none', 'yes', 1.0, 3.0, 3.0, 0.0, 0.0, 1.0, 2.0, 3.0, 2.0, 1.0, 0.0, 1.0, 0.0, [1.0, 3.0, 2.0, 0.0, 3.0, 1.0, 1.0, 0.0, 2.0, 1.0, 3.0, 0.0, 0.0, 10.0, 250.0, 2.0, 3.0, 10.0, 29.0, 1.0, 1.0], [17.849745933063808, 2.1502540669361934], [0.8924872966531904, 0.10751270334680967], 0.0, 'No Risk'], ['0_to_200', 13, 'prior_payments_delayed', 'furniture', 4499, 'less_100', '1_to_4', 2, 'male', 'none', 2, 'savings_insurance', 31, 'none', 'free', 1, 'management_self-employed', 1, 'none', 'yes', 2.0, 0.0, 0.0, 0.0, 0.0, 2.0, 0.0, 2.0, 1.0, 0.0, 0.0, 0.0, 0.0, [21, [0, 2, 9, 10, 13, 14, 15, 16, 17, 18, 19, 20], [2.0, 1.0, 2.0, 2.0, 13.0, 4499.0, 2.0, 2.0, 13.0, 31.0, 1.0, 1.0]], [16.88821155002171, 3.1117884499782917], [0.8444105775010854, 0.15558942249891458], 0.0, 'No Risk'], ['no_checking', 31, 'prior_payments_delayed', 'radio_tv', 6774, '500_to_1000', '4_to_7', 4, 'male', 'none', 3, 'unknown', 42, 'stores', 'own', 1, 'unskilled', 1, 'none', 'yes', 0.0, 0.0, 1.0, 2.0, 0.0, 0.0, 1.0, 1.0, 3.0, 0.0, 3.0, 0.0, 0.0, [0.0, 0.0, 3.0, 2.0, 1.0, 0.0, 0.0, 3.0, 1.0, 0.0, 1.0, 0.0, 0.0, 31.0, 6774.0, 4.0, 3.0, 31.0, 42.0, 1.0, 1.0], [8.99530723598182, 11.00469276401818], [0.449765361799091, 0.550234638200909], 1.0, 'Risk'], ['no_checking', 27, 'prior_payments_delayed', 'appliances', 5733, '500_to_1000', 'greater_7', 4, 'male', 'none', 5, 'unknown', 43, 'none', 'own', 2, 'skilled', 1, 'yes', 'yes', 0.0, 0.0, 2.0, 2.0, 0.0, 0.0, 0.0, 0.0, 4.0, 0.0, 3.0, 0.0, 1.0, [0.0, 0.0, 4.0, 2.0, 2.0, 0.0, 0.0, 3.0, 0.0, 0.0, 0.0, 1.0, 0.0, 27.0, 5733.0, 4.0, 5.0, 27.0, 43.0, 2.0, 1.0], [7.596199548389225, 12.403800451610776], [0.37980997741946126, 0.6201900225805388], 1.0, 'Risk'], ['0_to_200', 18, 'prior_payments_delayed', 'furniture', 2258, 'greater_1000', '4_to_7', 2, 'male', 'none', 3, 'savings_insurance', 39, 'none', 'own', 1, 'skilled', 1, 'yes', 'yes', 2.0, 0.0, 1.0, 3.0, 0.0, 0.0, 0.0, 0.0, 1.0, 0.0, 0.0, 0.0, 1.0, [2.0, 0.0, 1.0, 3.0, 1.0, 0.0, 0.0, 0.0, 0.0, 0.0, 0.0, 1.0, 0.0, 18.0, 2258.0, 2.0, 3.0, 18.0, 39.0, 1.0, 1.0], [13.441676369713774, 6.558323630286229], [0.6720838184856885, 0.3279161815143114], 0.0, 'No Risk'], ['no_checking', 32, 'prior_payments_delayed', 'education', 6880, 'greater_1000', '1_to_4', 4, 'male', 'none', 5, 'car_other', 40, 'none', 'own', 2, 'management_self-employed', 2, 'yes', 'yes', 0.0, 0.0, 0.0, 3.0, 0.0, 0.0, 0.0, 2.0, 7.0, 0.0, 1.0, 0.0, 1.0, [0.0, 0.0, 7.0, 3.0, 0.0, 0.0, 0.0, 1.0, 0.0, 0.0, 2.0, 1.0, 0.0, 32.0, 6880.0, 4.0, 5.0, 32.0, 40.0, 2.0, 2.0], [10.646710099597628, 9.35328990040237], [0.5323355049798815, 0.4676644950201185], 0.0, 'No Risk'], ['less_0', 9, 'all_credits_paid_back', 'car_new', 250, '500_to_1000', '4_to_7', 1, 'male', 'none', 1, 'real_estate', 28, 'stores', 'rent', 1, 'skilled', 1, 'none', 'yes', 1.0, 3.0, 1.0, 2.0, 0.0, 1.0, 1.0, 0.0, 0.0, 0.0, 2.0, 0.0, 0.0, [1.0, 3.0, 0.0, 2.0, 1.0, 0.0, 0.0, 2.0, 1.0, 1.0, 0.0, 0.0, 0.0, 9.0, 250.0, 1.0, 1.0, 9.0, 28.0, 1.0, 1.0], [19.283762081947053, 0.7162379180529505], [0.9641881040973524, 0.035811895902647516], 0.0, 'No Risk'], ['less_0', 4, 'all_credits_paid_back', 'car_new', 1180, '100_to_500', '1_to_4', 2, 'female', 'none', 2, 'savings_insurance', 40, 'none', 'own', 2, 'skilled', 1, 'yes', 'yes', 1.0, 3.0, 0.0, 1.0, 0.0, 0.0, 0.0, 0.0, 0.0, 0.0, 0.0, 1.0, 1.0, [1.0, 3.0, 0.0, 1.0, 0.0, 1.0, 0.0, 0.0, 0.0, 0.0, 0.0, 1.0, 0.0, 4.0, 1180.0, 2.0, 2.0, 4.0, 40.0, 2.0, 1.0], [15.972652592024978, 4.027347407975018], [0.798632629601249, 0.20136737039875094], 0.0, 'No Risk'], ['0_to_200', 6, 'all_credits_paid_back', 'car_new', 250, 'less_100', '1_to_4', 2, 'male', 'co-applicant', 1, 'real_estate', 25, 'stores', 'rent', 1, 'unskilled', 1, 'none', 'yes', 2.0, 3.0, 0.0, 0.0, 0.0, 1.0, 1.0, 1.0, 0.0, 1.0, 2.0, 0.0, 0.0, [2.0, 3.0, 0.0, 0.0, 0.0, 0.0, 1.0, 2.0, 1.0, 1.0, 1.0, 0.0, 0.0, 6.0, 250.0, 2.0, 1.0, 6.0, 25.0, 1.0, 1.0], [19.05301725163986, 0.9469827483601391], [0.952650862581993, 0.047349137418006955], 0.0, 'No Risk'], ['0_to_200', 19, 'credits_paid_to_date', 'car_new', 2230, 'less_100', '4_to_7', 2, 'male', 'none', 1, 'real_estate', 32, 'none', 'rent', 1, 'skilled', 2, 'yes', 'yes', 2.0, 1.0, 1.0, 0.0, 0.0, 1.0, 0.0, 0.0, 0.0, 0.0, 2.0, 0.0, 1.0, [2.0, 1.0, 0.0, 0.0, 1.0, 0.0, 0.0, 2.0, 0.0, 1.0, 0.0, 1.0, 0.0, 19.0, 2230.0, 2.0, 1.0, 19.0, 32.0, 1.0, 2.0], [16.908975654656555, 3.0910243453434463], [0.8454487827328278, 0.1545512172671723], 0.0, 'No Risk'], ['no_checking', 27, 'outstanding_credit', 'radio_tv', 4782, '500_to_1000', '1_to_4', 4, 'male', 'none', 3, 'car_other', 48, 'stores', 'rent', 3, 'unskilled', 2, 'yes', 'yes', 0.0, 2.0, 0.0, 2.0, 0.0, 1.0, 1.0, 1.0, 3.0, 0.0, 1.0, 0.0, 1.0, [0.0, 2.0, 3.0, 2.0, 0.0, 0.0, 0.0, 1.0, 1.0, 1.0, 1.0, 1.0, 0.0, 27.0, 4782.0, 4.0, 3.0, 27.0, 48.0, 3.0, 2.0], [11.113794886344728, 8.886205113655274], [0.5556897443172364, 0.4443102556827637], 0.0, 'No Risk'], ['no_checking', 35, 'prior_payments_delayed', 'radio_tv', 5535, 'unknown', '1_to_4', 4, 'male', 'none', 5, 'car_other', 54, 'none', 'own', 2, 'skilled', 2, 'yes', 'yes', 0.0, 0.0, 0.0, 4.0, 0.0, 0.0, 0.0, 0.0, 3.0, 0.0, 1.0, 0.0, 1.0, [21, [2, 3, 7, 11, 13, 14, 15, 16, 17, 18, 19, 20], [3.0, 4.0, 1.0, 1.0, 35.0, 5535.0, 4.0, 5.0, 35.0, 54.0, 2.0, 2.0]], [8.263831340629745, 11.736168659370254], [0.41319156703148724, 0.5868084329685127], 1.0, 'Risk'], ['no_checking', 22, 'outstanding_credit', 'car_used', 7460, '500_to_1000', '1_to_4', 4, 'male', 'none', 4, 'savings_insurance', 50, 'stores', 'own', 2, 'unskilled', 1, 'yes', 'yes', 0.0, 2.0, 0.0, 2.0, 0.0, 0.0, 1.0, 1.0, 2.0, 0.0, 0.0, 0.0, 1.0, [0.0, 2.0, 2.0, 2.0, 0.0, 0.0, 0.0, 0.0, 1.0, 0.0, 1.0, 1.0, 0.0, 22.0, 7460.0, 4.0, 4.0, 22.0, 50.0, 2.0, 1.0], [11.411184809672047, 8.588815190327953], [0.5705592404836024, 0.42944075951639765], 0.0, 'No Risk'], ['0_to_200', 21, 'outstanding_credit', 'furniture', 2823, '100_to_500', '1_to_4', 3, 'female', 'none', 4, 'car_other', 43, 'none', 'free', 2, 'skilled', 1, 'yes', 'yes', 2.0, 2.0, 0.0, 1.0, 0.0, 2.0, 0.0, 0.0, 1.0, 0.0, 1.0, 1.0, 1.0, [2.0, 2.0, 1.0, 1.0, 0.0, 1.0, 0.0, 1.0, 0.0, 2.0, 0.0, 1.0, 0.0, 21.0, 2823.0, 3.0, 4.0, 21.0, 43.0, 2.0, 1.0], [13.075683403750816, 6.924316596249184], [0.6537841701875408, 0.34621582981245924], 0.0, 'No Risk'], ['less_0', 12, 'all_credits_paid_back', 'car_new', 3440, 'less_100', 'less_1', 2, 'female', 'co-applicant', 3, 'real_estate', 30, 'none', 'own', 1, 'skilled', 1, 'none', 'yes', 1.0, 3.0, 3.0, 0.0, 0.0, 0.0, 0.0, 0.0, 0.0, 1.0, 2.0, 1.0, 0.0, [1.0, 3.0, 0.0, 0.0, 3.0, 1.0, 1.0, 2.0, 0.0, 0.0, 0.0, 0.0, 0.0, 12.0, 3440.0, 2.0, 3.0, 12.0, 30.0, 1.0, 1.0], [18.965208399990548, 1.03479160000945], [0.9482604199995276, 0.051739580000472504], 0.0, 'No Risk'], ['less_0', 6, 'all_credits_paid_back', 'car_used', 250, '100_to_500', 'unemployed', 1, 'female', 'none', 2, 'real_estate', 21, 'none', 'rent', 1, 'skilled', 1, 'none', 'yes', 1.0, 3.0, 4.0, 1.0, 0.0, 1.0, 0.0, 0.0, 2.0, 0.0, 2.0, 1.0, 0.0, [1.0, 3.0, 2.0, 1.0, 4.0, 1.0, 0.0, 2.0, 0.0, 1.0, 0.0, 0.0, 0.0, 6.0, 250.0, 1.0, 2.0, 6.0, 21.0, 1.0, 1.0], [19.72339075220183, 0.27660924779816753], [0.9861695376100916, 0.01383046238990838], 0.0, 'No Risk'], ['greater_200', 6, 'credits_paid_to_date', 'car_used', 1207, '500_to_1000', '1_to_4', 1, 'male', 'none', 2, 'savings_insurance', 27, 'none', 'rent', 1, 'skilled', 1, 'none', 'yes', 3.0, 1.0, 0.0, 2.0, 0.0, 1.0, 0.0, 0.0, 2.0, 0.0, 0.0, 0.0, 0.0, [3.0, 1.0, 2.0, 2.0, 0.0, 0.0, 0.0, 0.0, 0.0, 1.0, 0.0, 0.0, 0.0, 6.0, 1207.0, 1.0, 2.0, 6.0, 27.0, 1.0, 1.0], [17.980855465017854, 2.019144534982145], [0.8990427732508927, 0.10095722674910726], 0.0, 'No Risk'], ['0_to_200', 10, 'prior_payments_delayed', 'car_new', 1765, '500_to_1000', '1_to_4', 2, 'female', 'none', 1, 'savings_insurance', 36, 'none', 'own', 1, 'skilled', 1, 'none', 'yes', 2.0, 0.0, 0.0, 2.0, 0.0, 0.0, 0.0, 0.0, 0.0, 0.0, 0.0, 1.0, 0.0, [21, [0, 3, 5, 13, 14, 15, 16, 17, 18, 19, 20], [2.0, 2.0, 1.0, 10.0, 1765.0, 2.0, 1.0, 10.0, 36.0, 1.0, 1.0]], [16.569437483724624, 3.4305625162753737], [0.8284718741862314, 0.17152812581376872], 0.0, 'No Risk'], ['less_0', 4, 'all_credits_paid_back', 'car_new', 250, '100_to_500', 'less_1', 2, 'female', 'none', 2, 'real_estate', 19, 'none', 'rent', 1, 'skilled', 1, 'none', 'yes', 1.0, 3.0, 3.0, 1.0, 0.0, 1.0, 0.0, 0.0, 0.0, 0.0, 2.0, 1.0, 0.0, [1.0, 3.0, 0.0, 1.0, 3.0, 1.0, 0.0, 2.0, 0.0, 1.0, 0.0, 0.0, 0.0, 4.0, 250.0, 2.0, 2.0, 4.0, 19.0, 1.0, 1.0], [19.72339075220183, 0.27660924779816753], [0.9861695376100916, 0.01383046238990838], 0.0, 'No Risk'], ['less_0', 4, 'no_credits', 'car_new', 250, 'less_100', 'less_1', 1, 'female', 'none', 1, 'real_estate', 21, 'bank', 'rent', 1, 'unskilled', 1, 'none', 'yes', 1.0, 4.0, 3.0, 0.0, 0.0, 1.0, 2.0, 1.0, 0.0, 0.0, 2.0, 1.0, 0.0, [1.0, 4.0, 0.0, 0.0, 3.0, 1.0, 0.0, 2.0, 2.0, 1.0, 1.0, 0.0, 0.0, 4.0, 250.0, 1.0, 1.0, 4.0, 21.0, 1.0, 1.0], [19.73822260499371, 0.2617773950062894], [0.9869111302496855, 0.01308886975031447], 0.0, 'No Risk'], ['less_0', 9, 'all_credits_paid_back', 'car_used', 3471, 'less_100', '1_to_4', 3, 'male', 'none', 3, 'car_other', 37, 'none', 'own', 1, 'skilled', 1, 'none', 'yes', 1.0, 3.0, 0.0, 0.0, 0.0, 0.0, 0.0, 0.0, 2.0, 0.0, 1.0, 0.0, 0.0, [21, [0, 1, 2, 7, 13, 14, 15, 16, 17, 18, 19, 20], [1.0, 3.0, 2.0, 1.0, 9.0, 3471.0, 3.0, 3.0, 9.0, 37.0, 1.0, 1.0]], [15.685184371062151, 4.3148156289378505], [0.7842592185531075, 0.21574078144689252], 0.0, 'No Risk'], ['no_checking', 24, 'all_credits_paid_back', 'furniture', 5033, 'less_100', '1_to_4', 3, 'female', 'none', 4, 'real_estate', 21, 'stores', 'own', 2, 'unskilled', 2, 'yes', 'yes', 0.0, 3.0, 0.0, 0.0, 0.0, 0.0, 1.0, 1.0, 1.0, 0.0, 2.0, 1.0, 1.0, [0.0, 3.0, 1.0, 0.0, 0.0, 1.0, 0.0, 2.0, 1.0, 0.0, 1.0, 1.0, 0.0, 24.0, 5033.0, 3.0, 4.0, 24.0, 21.0, 2.0, 2.0], [13.417516300707604, 6.582483699292395], [0.6708758150353802, 0.32912418496461976], 0.0, 'No Risk'], ['less_0', 10, 'prior_payments_delayed', 'furniture', 617, '500_to_1000', '1_to_4', 1, 'male', 'none', 2, 'car_other', 60, 'stores', 'own', 2, 'unskilled', 2, 'yes', 'yes', 1.0, 0.0, 0.0, 2.0, 0.0, 0.0, 1.0, 1.0, 1.0, 0.0, 1.0, 0.0, 1.0, [1.0, 0.0, 1.0, 2.0, 0.0, 0.0, 0.0, 1.0, 1.0, 0.0, 1.0, 1.0, 0.0, 10.0, 617.0, 1.0, 2.0, 10.0, 60.0, 2.0, 2.0], [13.03177077233714, 6.968229227662863], [0.6515885386168568, 0.34841146138314305], 0.0, 'No Risk'], ['0_to_200', 14, 'credits_paid_to_date', 'appliances', 1549, 'less_100', '4_to_7', 2, 'male', 'none', 2, 'savings_insurance', 43, 'none', 'own', 1, 'skilled', 1, 'yes', 'yes', 2.0, 1.0, 1.0, 0.0, 0.0, 0.0, 0.0, 0.0, 4.0, 0.0, 0.0, 0.0, 1.0, [2.0, 1.0, 4.0, 0.0, 1.0, 0.0, 0.0, 0.0, 0.0, 0.0, 0.0, 1.0, 0.0, 14.0, 1549.0, 2.0, 2.0, 14.0, 43.0, 1.0, 1.0], [15.7884777506671, 4.2115222493329], [0.789423887533355, 0.21057611246664498], 0.0, 'No Risk'], ['less_0', 11, 'credits_paid_to_date', 'furniture', 265, 'less_100', 'less_1', 1, 'female', 'none', 1, 'savings_insurance', 21, 'bank', 'rent', 1, 'unemployed', 1, 'none', 'yes', 1.0, 1.0, 3.0, 0.0, 0.0, 1.0, 2.0, 3.0, 1.0, 0.0, 0.0, 1.0, 0.0, [1.0, 1.0, 1.0, 0.0, 3.0, 1.0, 0.0, 0.0, 2.0, 1.0, 3.0, 0.0, 0.0, 11.0, 265.0, 1.0, 1.0, 11.0, 21.0, 1.0, 1.0], [19.417561491445127, 0.5824385085548682], [0.9708780745722565, 0.029121925427743417], 0.0, 'No Risk'], ['no_checking', 47, 'outstanding_credit', 'education', 6949, '500_to_1000', '1_to_4', 4, 'male', 'none', 3, 'unknown', 46, 'none', 'free', 3, 'skilled', 1, 'yes', 'yes', 0.0, 2.0, 0.0, 2.0, 0.0, 2.0, 0.0, 0.0, 7.0, 0.0, 3.0, 0.0, 1.0, [0.0, 2.0, 7.0, 2.0, 0.0, 0.0, 0.0, 3.0, 0.0, 2.0, 0.0, 1.0, 0.0, 47.0, 6949.0, 4.0, 3.0, 47.0, 46.0, 3.0, 1.0], [8.22910361781987, 11.77089638218013], [0.41145518089099353, 0.5885448191090065], 1.0, 'Risk'], ['no_checking', 33, 'prior_payments_delayed', 'furniture', 5888, '500_to_1000', '1_to_4', 4, 'male', 'none', 4, 'savings_insurance', 36, 'none', 'own', 2, 'skilled', 1, 'none', 'yes', 0.0, 0.0, 0.0, 2.0, 0.0, 0.0, 0.0, 0.0, 1.0, 0.0, 0.0, 0.0, 0.0, [21, [2, 3, 13, 14, 15, 16, 17, 18, 19, 20], [1.0, 2.0, 33.0, 5888.0, 4.0, 4.0, 33.0, 36.0, 2.0, 1.0]], [11.348162992449032, 8.65183700755097], [0.5674081496224516, 0.4325918503775485], 0.0, 'No Risk'], ['0_to_200', 14, 'credits_paid_to_date', 'appliances', 1362, '500_to_1000', '1_to_4', 2, 'female', 'none', 3, 'car_other', 39, 'stores', 'own', 2, 'skilled', 2, 'yes', 'yes', 2.0, 1.0, 0.0, 2.0, 0.0, 0.0, 1.0, 0.0, 4.0, 0.0, 1.0, 1.0, 1.0, [2.0, 1.0, 4.0, 2.0, 0.0, 1.0, 0.0, 1.0, 1.0, 0.0, 0.0, 1.0, 0.0, 14.0, 1362.0, 2.0, 3.0, 14.0, 39.0, 2.0, 2.0], [14.56692345199203, 5.43307654800797], [0.7283461725996015, 0.2716538274003985], 0.0, 'No Risk'], ['0_to_200', 18, 'prior_payments_delayed', 'radio_tv', 2797, '100_to_500', '1_to_4', 3, 'male', 'none', 2, 'savings_insurance', 43, 'none', 'own', 1, 'management_self-employed', 1, 'none', 'yes', 2.0, 0.0, 0.0, 1.0, 0.0, 0.0, 0.0, 2.0, 3.0, 0.0, 0.0, 0.0, 0.0, [21, [0, 2, 3, 10, 13, 14, 15, 16, 17, 18, 19, 20], [2.0, 3.0, 1.0, 2.0, 18.0, 2797.0, 3.0, 2.0, 18.0, 43.0, 1.0, 1.0]], [15.395709271217715, 4.604290728782281], [0.7697854635608858, 0.2302145364391141], 0.0, 'No Risk'], ['0_to_200', 33, 'prior_payments_delayed', 'appliances', 4669, '100_to_500', '1_to_4', 4, 'female', 'none', 2, 'car_other', 34, 'bank', 'rent', 2, 'unemployed', 1, 'none', 'yes', 2.0, 0.0, 0.0, 1.0, 0.0, 1.0, 2.0, 3.0, 4.0, 0.0, 1.0, 1.0, 0.0, [2.0, 0.0, 4.0, 1.0, 0.0, 1.0, 0.0, 1.0, 2.0, 1.0, 3.0, 0.0, 0.0, 33.0, 4669.0, 4.0, 2.0, 33.0, 34.0, 2.0, 1.0], [15.30534041206826, 4.69465958793174], [0.765267020603413, 0.23473297939658702], 0.0, 'No Risk'], ['0_to_200', 14, 'credits_paid_to_date', 'furniture', 250, 'less_100', '1_to_4', 2, 'male', 'none', 3, 'real_estate', 29, 'none', 'own', 1, 'skilled', 1, 'none', 'yes', 2.0, 1.0, 0.0, 0.0, 0.0, 0.0, 0.0, 0.0, 1.0, 0.0, 2.0, 0.0, 0.0, [21, [0, 1, 2, 7, 13, 14, 15, 16, 17, 18, 19, 20], [2.0, 1.0, 1.0, 2.0, 14.0, 250.0, 2.0, 3.0, 14.0, 29.0, 1.0, 1.0]], [18.08466861347342, 1.9153313865265862], [0.9042334306736708, 0.09576656932632929], 0.0, 'No Risk'], ['0_to_200', 10, 'credits_paid_to_date', 'repairs', 250, '500_to_1000', 'less_1', 1, 'male', 'none', 3, 'real_estate', 22, 'bank', 'rent', 1, 'unskilled', 2, 'none', 'yes', 2.0, 1.0, 3.0, 2.0, 0.0, 1.0, 2.0, 1.0, 5.0, 0.0, 2.0, 0.0, 0.0, [2.0, 1.0, 5.0, 2.0, 3.0, 0.0, 0.0, 2.0, 2.0, 1.0, 1.0, 0.0, 0.0, 10.0, 250.0, 1.0, 3.0, 10.0, 22.0, 1.0, 2.0], [19.21231733043669, 0.7876826695633089], [0.9606158665218345, 0.039384133478165446], 0.0, 'No Risk'], ['no_checking', 43, 'outstanding_credit', 'education', 5671, 'greater_1000', 'greater_7', 3, 'male', 'co-applicant', 4, 'car_other', 34, 'none', 'own', 1, 'skilled', 2, 'yes', 'yes', 0.0, 2.0, 2.0, 3.0, 0.0, 0.0, 0.0, 0.0, 7.0, 1.0, 1.0, 0.0, 1.0, [0.0, 2.0, 7.0, 3.0, 2.0, 0.0, 1.0, 1.0, 0.0, 0.0, 0.0, 1.0, 0.0, 43.0, 5671.0, 3.0, 4.0, 43.0, 34.0, 1.0, 2.0], [5.234034025034151, 14.765965974965852], [0.2617017012517075, 0.7382982987482924], 1.0, 'Risk'], ['less_0', 12, 'prior_payments_delayed', 'car_used', 3672, '500_to_1000', '1_to_4', 2, 'female', 'none', 1, 'car_other', 39, 'stores', 'own', 1, 'unskilled', 1, 'none', 'yes', 1.0, 0.0, 0.0, 2.0, 0.0, 0.0, 1.0, 1.0, 2.0, 0.0, 1.0, 1.0, 0.0, [1.0, 0.0, 2.0, 2.0, 0.0, 1.0, 0.0, 1.0, 1.0, 0.0, 1.0, 0.0, 0.0, 12.0, 3672.0, 2.0, 1.0, 12.0, 39.0, 1.0, 1.0], [15.545583402535899, 4.4544165974641], [0.7772791701267949, 0.222720829873205], 0.0, 'No Risk'], ['no_checking', 44, 'outstanding_credit', 'education', 8984, 'greater_1000', 'greater_7', 6, 'male', 'co-applicant', 4, 'car_other', 42, 'none', 'free', 2, 'skilled', 2, 'yes', 'yes', 0.0, 2.0, 2.0, 3.0, 0.0, 2.0, 0.0, 0.0, 7.0, 1.0, 1.0, 0.0, 1.0, [0.0, 2.0, 7.0, 3.0, 2.0, 0.0, 1.0, 1.0, 0.0, 2.0, 0.0, 1.0, 0.0, 44.0, 8984.0, 6.0, 4.0, 44.0, 42.0, 2.0, 2.0], [2.886695905176882, 17.113304094823118], [0.1443347952588441, 0.8556652047411559], 1.0, 'Risk'], ['less_0', 8, 'no_credits', 'radio_tv', 250, 'less_100', 'less_1', 2, 'male', 'none', 2, 'real_estate', 27, 'none', 'own', 1, 'skilled', 1, 'none', 'yes', 1.0, 4.0, 3.0, 0.0, 0.0, 0.0, 0.0, 0.0, 3.0, 0.0, 2.0, 0.0, 0.0, [1.0, 4.0, 3.0, 0.0, 3.0, 0.0, 0.0, 2.0, 0.0, 0.0, 0.0, 0.0, 0.0, 8.0, 250.0, 2.0, 2.0, 8.0, 27.0, 1.0, 1.0], [19.677885568311822, 0.3221144316881793], [0.9838942784155911, 0.016105721584408966], 0.0, 'No Risk'], ['less_0', 15, 'credits_paid_to_date', 'furniture', 2914, '100_to_500', '1_to_4', 2, 'male', 'none', 1, 'car_other', 28, 'bank', 'rent', 2, 'unemployed', 1, 'yes', 'yes', 1.0, 1.0, 0.0, 1.0, 0.0, 1.0, 2.0, 3.0, 1.0, 0.0, 1.0, 0.0, 1.0, [1.0, 1.0, 1.0, 1.0, 0.0, 0.0, 0.0, 1.0, 2.0, 1.0, 3.0, 1.0, 0.0, 15.0, 2914.0, 2.0, 1.0, 15.0, 28.0, 2.0, 1.0], [15.963096496638707, 4.036903503361293], [0.7981548248319353, 0.20184517516806463], 0.0, 'No Risk'], ['no_checking', 27, 'prior_payments_delayed', 'car_used', 8599, '100_to_500', '1_to_4', 4, 'female', 'co-applicant', 4, 'unknown', 53, 'none', 'own', 2, 'skilled', 1, 'none', 'yes', 0.0, 0.0, 0.0, 1.0, 0.0, 0.0, 0.0, 0.0, 2.0, 1.0, 3.0, 1.0, 0.0, [0.0, 0.0, 2.0, 1.0, 0.0, 1.0, 1.0, 3.0, 0.0, 0.0, 0.0, 0.0, 0.0, 27.0, 8599.0, 4.0, 4.0, 27.0, 53.0, 2.0, 1.0], [7.916727255825736, 12.083272744174266], [0.39583636279128676, 0.6041636372087132], 1.0, 'Risk'], ['no_checking', 15, 'outstanding_credit', 'radio_tv', 3869, '100_to_500', '4_to_7', 3, 'male', 'none', 4, 'savings_insurance', 42, 'none', 'own', 1, 'management_self-employed', 1, 'none', 'yes', 0.0, 2.0, 1.0, 1.0, 0.0, 0.0, 0.0, 2.0, 3.0, 0.0, 0.0, 0.0, 0.0, [0.0, 2.0, 3.0, 1.0, 1.0, 0.0, 0.0, 0.0, 0.0, 0.0, 2.0, 0.0, 0.0, 15.0, 3869.0, 3.0, 4.0, 15.0, 42.0, 1.0, 1.0], [12.342958984748678, 7.657041015251321], [0.6171479492374339, 0.382852050762566], 0.0, 'No Risk'], ['no_checking', 17, 'outstanding_credit', 'radio_tv', 2478, '500_to_1000', 'greater_7', 4, 'male', 'none', 4, 'unknown', 52, 'none', 'own', 2, 'management_self-employed', 1, 'yes', 'yes', 0.0, 2.0, 2.0, 2.0, 0.0, 0.0, 0.0, 2.0, 3.0, 0.0, 3.0, 0.0, 1.0, [0.0, 2.0, 3.0, 2.0, 2.0, 0.0, 0.0, 3.0, 0.0, 0.0, 2.0, 1.0, 0.0, 17.0, 2478.0, 4.0, 4.0, 17.0, 52.0, 2.0, 1.0], [8.28432577157091, 11.71567422842909], [0.4142162885785455, 0.5857837114214546], 1.0, 'Risk'], ['less_0', 15, 'all_credits_paid_back', 'furniture', 250, 'less_100', 'less_1', 2, 'female', 'none', 2, 'savings_insurance', 19, 'none', 'rent', 1, 'skilled', 1, 'none', 'yes', 1.0, 3.0, 3.0, 0.0, 0.0, 1.0, 0.0, 0.0, 1.0, 0.0, 0.0, 1.0, 0.0, [1.0, 3.0, 1.0, 0.0, 3.0, 1.0, 0.0, 0.0, 0.0, 1.0, 0.0, 0.0, 0.0, 15.0, 250.0, 2.0, 2.0, 15.0, 19.0, 1.0, 1.0], [19.23729631106179, 0.7627036889382057], [0.9618648155530897, 0.038135184446910296], 0.0, 'No Risk'], ['0_to_200', 18, 'prior_payments_delayed', 'furniture', 2961, 'less_100', 'less_1', 3, 'male', 'none', 3, 'savings_insurance', 38, 'none', 'own', 1, 'management_self-employed', 1, 'none', 'yes', 2.0, 0.0, 3.0, 0.0, 0.0, 0.0, 0.0, 2.0, 1.0, 0.0, 0.0, 0.0, 0.0, [21, [0, 2, 4, 10, 13, 14, 15, 16, 17, 18, 19, 20], [2.0, 1.0, 3.0, 2.0, 18.0, 2961.0, 3.0, 3.0, 18.0, 38.0, 1.0, 1.0]], [15.772991960606847, 4.227008039393152], [0.7886495980303423, 0.21135040196965763], 0.0, 'No Risk'], ['greater_200', 20, 'outstanding_credit', 'car_used', 8075, '100_to_500', '4_to_7', 4, 'male', 'none', 5, 'unknown', 48, 'stores', 'own', 2, 'unskilled', 1, 'yes', 'yes', 3.0, 2.0, 1.0, 1.0, 0.0, 0.0, 1.0, 1.0, 2.0, 0.0, 3.0, 0.0, 1.0, [3.0, 2.0, 2.0, 1.0, 1.0, 0.0, 0.0, 3.0, 1.0, 0.0, 1.0, 1.0, 0.0, 20.0, 8075.0, 4.0, 5.0, 20.0, 48.0, 2.0, 1.0], [9.363634266782261, 10.636365733217739], [0.46818171333911307, 0.5318182866608869], 1.0, 'Risk'], ['less_0', 22, 'credits_paid_to_date', 'radio_tv', 2192, '500_to_1000', '1_to_4', 2, 'male', 'none', 3, 'car_other', 28, 'none', 'own', 2, 'skilled', 1, 'none', 'yes', 1.0, 1.0, 0.0, 2.0, 0.0, 0.0, 0.0, 0.0, 3.0, 0.0, 1.0, 0.0, 0.0, [1.0, 1.0, 3.0, 2.0, 0.0, 0.0, 0.0, 1.0, 0.0, 0.0, 0.0, 0.0, 0.0, 22.0, 2192.0, 2.0, 3.0, 22.0, 28.0, 2.0, 1.0], [14.700522756034621, 5.299477243965378], [0.7350261378017311, 0.2649738621982689], 0.0, 'No Risk'], ['less_0', 22, 'prior_payments_delayed', 'car_used', 2176, 'less_100', '1_to_4', 3, 'male', 'none', 2, 'savings_insurance', 26, 'none', 'own', 1, 'skilled', 2, 'none', 'yes', 1.0, 0.0, 0.0, 0.0, 0.0, 0.0, 0.0, 0.0, 2.0, 0.0, 0.0, 0.0, 0.0, [21, [0, 2, 13, 14, 15, 16, 17, 18, 19, 20], [1.0, 2.0, 22.0, 2176.0, 3.0, 2.0, 22.0, 26.0, 1.0, 2.0]], [16.553294746335176, 3.4467052536648186], [0.827664737316759, 0.17233526268324098], 0.0, 'No Risk'], ['0_to_200', 14, 'credits_paid_to_date', 'furniture', 2985, 'less_100', 'unemployed', 2, 'female', 'none', 3, 'real_estate', 29, 'none', 'own', 1, 'management_self-employed', 1, 'none', 'yes', 2.0, 1.0, 4.0, 0.0, 0.0, 0.0, 0.0, 2.0, 1.0, 0.0, 2.0, 1.0, 0.0, [2.0, 1.0, 1.0, 0.0, 4.0, 1.0, 0.0, 2.0, 0.0, 0.0, 2.0, 0.0, 0.0, 14.0, 2985.0, 2.0, 3.0, 14.0, 29.0, 1.0, 1.0], [18.283965131938142, 1.7160348680618558], [0.9141982565969071, 0.0858017434030928], 0.0, 'No Risk'], ['no_checking', 22, 'credits_paid_to_date', 'radio_tv', 5805, '100_to_500', 'greater_7', 4, 'male', 'none', 3, 'savings_insurance', 38, 'none', 'own', 2, 'management_self-employed', 1, 'none', 'yes', 0.0, 1.0, 2.0, 1.0, 0.0, 0.0, 0.0, 2.0, 3.0, 0.0, 0.0, 0.0, 0.0, [0.0, 1.0, 3.0, 1.0, 2.0, 0.0, 0.0, 0.0, 0.0, 0.0, 2.0, 0.0, 0.0, 22.0, 5805.0, 4.0, 3.0, 22.0, 38.0, 2.0, 1.0], [10.986916398234651, 9.01308360176535], [0.5493458199117326, 0.4506541800882675], 0.0, 'No Risk'], ['less_0', 4, 'credits_paid_to_date', 'car_new', 250, '100_to_500', '4_to_7', 1, 'female', 'none', 2, 'savings_insurance', 23, 'bank', 'own', 1, 'unemployed', 1, 'yes', 'yes', 1.0, 1.0, 1.0, 1.0, 0.0, 0.0, 2.0, 3.0, 0.0, 0.0, 0.0, 1.0, 1.0, [1.0, 1.0, 0.0, 1.0, 1.0, 1.0, 0.0, 0.0, 2.0, 0.0, 3.0, 1.0, 0.0, 4.0, 250.0, 1.0, 2.0, 4.0, 23.0, 1.0, 1.0], [18.3596994318169, 1.6403005681830987], [0.917984971590845, 0.08201502840915494], 0.0, 'No Risk'], ['less_0', 9, 'all_credits_paid_back', 'vacation', 496, 'less_100', '1_to_4', 1, 'female', 'none', 2, 'real_estate', 24, 'none', 'own', 1, 'skilled', 1, 'none', 'yes', 1.0, 3.0, 0.0, 0.0, 0.0, 0.0, 0.0, 0.0, 6.0, 0.0, 2.0, 1.0, 0.0, [1.0, 3.0, 6.0, 0.0, 0.0, 1.0, 0.0, 2.0, 0.0, 0.0, 0.0, 0.0, 0.0, 9.0, 496.0, 1.0, 2.0, 9.0, 24.0, 1.0, 1.0], [19.35591669407643, 0.6440833059235699], [0.9677958347038216, 0.03220416529617849], 0.0, 'No Risk'], ['greater_200', 21, 'credits_paid_to_date', 'radio_tv', 3973, 'less_100', '4_to_7', 4, 'male', 'none', 3, 'savings_insurance', 37, 'none', 'free', 1, 'management_self-employed', 1, 'none', 'yes', 3.0, 1.0, 1.0, 0.0, 0.0, 2.0, 0.0, 2.0, 3.0, 0.0, 0.0, 0.0, 0.0, [3.0, 1.0, 3.0, 0.0, 1.0, 0.0, 0.0, 0.0, 0.0, 2.0, 2.0, 0.0, 0.0, 21.0, 3973.0, 4.0, 3.0, 21.0, 37.0, 1.0, 1.0], [14.098831182031775, 5.901168817968226], [0.7049415591015887, 0.29505844089841127], 0.0, 'No Risk'], ['no_checking', 42, 'outstanding_credit', 'repairs', 6299, 'unknown', 'greater_7', 4, 'male', 'co-applicant', 4, 'unknown', 50, 'bank', 'own', 2, 'unemployed', 2, 'yes', 'yes', 0.0, 2.0, 2.0, 4.0, 0.0, 0.0, 2.0, 3.0, 5.0, 1.0, 3.0, 0.0, 1.0, [0.0, 2.0, 5.0, 4.0, 2.0, 0.0, 1.0, 3.0, 2.0, 0.0, 3.0, 1.0, 0.0, 42.0, 6299.0, 4.0, 4.0, 42.0, 50.0, 2.0, 2.0], [4.2163799515109845, 15.783620048489016], [0.21081899757554923, 0.7891810024244508], 1.0, 'Risk'], ['0_to_200', 4, 'all_credits_paid_back', 'car_new', 2710, 'less_100', 'unemployed', 1, 'female', 'none', 2, 'real_estate', 25, 'none', 'own', 1, 'management_self-employed', 1, 'none', 'yes', 2.0, 3.0, 4.0, 0.0, 0.0, 0.0, 0.0, 2.0, 0.0, 0.0, 2.0, 1.0, 0.0, [2.0, 3.0, 0.0, 0.0, 4.0, 1.0, 0.0, 2.0, 0.0, 0.0, 2.0, 0.0, 0.0, 4.0, 2710.0, 1.0, 2.0, 4.0, 25.0, 1.0, 1.0], [19.55198067537949, 0.4480193246205074], [0.9775990337689746, 0.022400966231025374], 0.0, 'No Risk'], ['no_checking', 36, 'prior_payments_delayed', 'appliances', 5310, '500_to_1000', '4_to_7', 3, 'male', 'none', 4, 'savings_insurance', 37, 'none', 'own', 2, 'management_self-employed', 1, 'none', 'yes', 0.0, 0.0, 1.0, 2.0, 0.0, 0.0, 0.0, 2.0, 4.0, 0.0, 0.0, 0.0, 0.0, [21, [2, 3, 4, 10, 13, 14, 15, 16, 17, 18, 19, 20], [4.0, 2.0, 1.0, 2.0, 36.0, 5310.0, 3.0, 4.0, 36.0, 37.0, 2.0, 1.0]], [11.524769140735867, 8.475230859264132], [0.5762384570367933, 0.42376154296320656], 0.0, 'No Risk'], ['0_to_200', 17, 'credits_paid_to_date', 'furniture', 3772, '100_to_500', '1_to_4', 2, 'female', 'none', 3, 'car_other', 40, 'none', 'own', 1, 'skilled', 1, 'none', 'yes', 2.0, 1.0, 0.0, 1.0, 0.0, 0.0, 0.0, 0.0, 1.0, 0.0, 1.0, 1.0, 0.0, [2.0, 1.0, 1.0, 1.0, 0.0, 1.0, 0.0, 1.0, 0.0, 0.0, 0.0, 0.0, 0.0, 17.0, 3772.0, 2.0, 3.0, 17.0, 40.0, 1.0, 1.0], [14.233541659455456, 5.766458340544545], [0.7116770829727728, 0.28832291702722723], 0.0, 'No Risk'], ['no_checking', 14, 'outstanding_credit', 'car_new', 3141, 'unknown', '4_to_7', 4, 'male', 'none', 4, 'savings_insurance', 47, 'none', 'own', 1, 'skilled', 1, 'none', 'yes', 0.0, 2.0, 1.0, 4.0, 0.0, 0.0, 0.0, 0.0, 0.0, 0.0, 0.0, 0.0, 0.0, [21, [1, 3, 4, 13, 14, 15, 16, 17, 18, 19, 20], [2.0, 4.0, 1.0, 14.0, 3141.0, 4.0, 4.0, 14.0, 47.0, 1.0, 1.0]], [11.67217975676523, 8.327820243234772], [0.5836089878382615, 0.41639101216173857], 0.0, 'No Risk'], ['0_to_200', 14, 'credits_paid_to_date', 'car_new', 2422, 'less_100', 'less_1', 1, 'male', 'none', 1, 'savings_insurance', 33, 'stores', 'own', 1, 'skilled', 1, 'none', 'yes', 2.0, 1.0, 3.0, 0.0, 0.0, 0.0, 1.0, 0.0, 0.0, 0.0, 0.0, 0.0, 0.0, [21, [0, 1, 4, 8, 13, 14, 15, 16, 17, 18, 19, 20], [2.0, 1.0, 3.0, 1.0, 14.0, 2422.0, 1.0, 1.0, 14.0, 33.0, 1.0, 1.0]], [17.610968744522626, 2.3890312554773683], [0.8805484372261316, 0.11945156277386845], 0.0, 'No Risk'], ['0_to_200', 26, 'outstanding_credit', 'car_used', 4502, '500_to_1000', '4_to_7', 3, 'male', 'none', 2, 'unknown', 39, 'stores', 'own', 2, 'skilled', 1, 'none', 'yes', 2.0, 2.0, 1.0, 2.0, 0.0, 0.0, 1.0, 0.0, 2.0, 0.0, 3.0, 0.0, 0.0, [2.0, 2.0, 2.0, 2.0, 1.0, 0.0, 0.0, 3.0, 1.0, 0.0, 0.0, 0.0, 0.0, 26.0, 4502.0, 3.0, 2.0, 26.0, 39.0, 2.0, 1.0], [11.560884627201268, 8.439115372798732], [0.5780442313600634, 0.42195576863993656], 0.0, 'No Risk'], ['0_to_200', 17, 'credits_paid_to_date', 'furniture', 3285, 'less_100', 'less_1', 2, 'female', 'none', 2, 'car_other', 32, 'none', 'own', 1, 'skilled', 1, 'none', 'yes', 2.0, 1.0, 3.0, 0.0, 0.0, 0.0, 0.0, 0.0, 1.0, 0.0, 1.0, 1.0, 0.0, [2.0, 1.0, 1.0, 0.0, 3.0, 1.0, 0.0, 1.0, 0.0, 0.0, 0.0, 0.0, 0.0, 17.0, 3285.0, 2.0, 2.0, 17.0, 32.0, 1.0, 1.0], [17.35485990957494, 2.645140090425056], [0.8677429954787472, 0.13225700452125283], 0.0, 'No Risk'], ['no_checking', 8, 'credits_paid_to_date', 'car_new', 5534, 'less_100', '4_to_7', 3, 'male', 'none', 4, 'savings_insurance', 42, 'none', 'own', 2, 'management_self-employed', 1, 'yes', 'yes', 0.0, 1.0, 1.0, 0.0, 0.0, 0.0, 0.0, 2.0, 0.0, 0.0, 0.0, 0.0, 1.0, [21, [1, 4, 10, 11, 13, 14, 15, 16, 17, 18, 19, 20], [1.0, 1.0, 2.0, 1.0, 8.0, 5534.0, 3.0, 4.0, 8.0, 42.0, 2.0, 1.0]], [13.04556350438698, 6.954436495613022], [0.6522781752193489, 0.3477218247806511], 0.0, 'No Risk'], ['greater_200', 14, 'credits_paid_to_date', 'vacation', 4760, '100_to_500', '1_to_4', 4, 'female', 'none', 4, 'car_other', 33, 'none', 'own', 1, 'skilled', 1, 'none', 'no', 3.0, 1.0, 0.0, 1.0, 1.0, 0.0, 0.0, 0.0, 6.0, 0.0, 1.0, 1.0, 0.0, [3.0, 1.0, 6.0, 1.0, 0.0, 1.0, 0.0, 1.0, 0.0, 0.0, 0.0, 0.0, 1.0, 14.0, 4760.0, 4.0, 4.0, 14.0, 33.0, 1.0, 1.0], [14.283533785971716, 5.716466214028285], [0.7141766892985858, 0.28582331070141426], 0.0, 'No Risk'], ['no_checking', 29, 'outstanding_credit', 'appliances', 7030, 'greater_1000', '4_to_7', 4, 'male', 'none', 4, 'car_other', 63, 'none', 'free', 2, 'management_self-employed', 2, 'yes', 'yes', 0.0, 2.0, 1.0, 3.0, 0.0, 2.0, 0.0, 2.0, 4.0, 0.0, 1.0, 0.0, 1.0, [0.0, 2.0, 4.0, 3.0, 1.0, 0.0, 0.0, 1.0, 0.0, 2.0, 2.0, 1.0, 0.0, 29.0, 7030.0, 4.0, 4.0, 29.0, 63.0, 2.0, 2.0], [7.082613218980583, 12.917386781019417], [0.3541306609490292, 0.6458693390509709], 1.0, 'Risk'], ['no_checking', 26, 'outstanding_credit', 'radio_tv', 2393, '500_to_1000', '4_to_7', 4, 'male', 'none', 3, 'savings_insurance', 33, 'stores', 'own', 1, 'unskilled', 1, 'none', 'yes', 0.0, 2.0, 1.0, 2.0, 0.0, 0.0, 1.0, 1.0, 3.0, 0.0, 0.0, 0.0, 0.0, [0.0, 2.0, 3.0, 2.0, 1.0, 0.0, 0.0, 0.0, 1.0, 0.0, 1.0, 0.0, 0.0, 26.0, 2393.0, 4.0, 3.0, 26.0, 33.0, 1.0, 1.0], [13.123074772624303, 6.876925227375696], [0.6561537386312152, 0.3438462613687848], 0.0, 'No Risk'], ['no_checking', 10, 'credits_paid_to_date', 'vacation', 1141, 'less_100', 'less_1', 2, 'female', 'none', 3, 'savings_insurance', 32, 'none', 'own', 1, 'management_self-employed', 1, 'none', 'yes', 0.0, 1.0, 3.0, 0.0, 0.0, 0.0, 0.0, 2.0, 6.0, 0.0, 0.0, 1.0, 0.0, [0.0, 1.0, 6.0, 0.0, 3.0, 1.0, 0.0, 0.0, 0.0, 0.0, 2.0, 0.0, 0.0, 10.0, 1141.0, 2.0, 3.0, 10.0, 32.0, 1.0, 1.0], [17.34339961960162, 2.656600380398377], [0.8671699809800811, 0.13283001901991887], 0.0, 'No Risk'], ['0_to_200', 17, 'prior_payments_delayed', 'radio_tv', 4994, 'less_100', 'greater_7', 4, 'male', 'none', 2, 'savings_insurance', 41, 'none', 'own', 1, 'skilled', 2, 'none', 'yes', 2.0, 0.0, 2.0, 0.0, 0.0, 0.0, 0.0, 0.0, 3.0, 0.0, 0.0, 0.0, 0.0, [21, [0, 2, 4, 13, 14, 15, 16, 17, 18, 19, 20], [2.0, 3.0, 2.0, 17.0, 4994.0, 4.0, 2.0, 17.0, 41.0, 1.0, 2.0]], [15.242676224054096, 4.757323775945903], [0.7621338112027047, 0.23786618879729512], 0.0, 'No Risk'], ['0_to_200', 10, 'credits_paid_to_date', 'car_new', 250, 'less_100', 'less_1', 2, 'female', 'none', 2, 'real_estate', 24, 'none', 'own', 1, 'skilled', 1, 'none', 'yes', 2.0, 1.0, 3.0, 0.0, 0.0, 0.0, 0.0, 0.0, 0.0, 0.0, 2.0, 1.0, 0.0, [2.0, 1.0, 0.0, 0.0, 3.0, 1.0, 0.0, 2.0, 0.0, 0.0, 0.0, 0.0, 0.0, 10.0, 250.0, 2.0, 2.0, 10.0, 24.0, 1.0, 1.0], [19.66683427501383, 0.3331657249861687], [0.9833417137506915, 0.016658286249308436], 0.0, 'No Risk'], ['0_to_200', 21, 'credits_paid_to_date', 'appliances', 3003, 'less_100', '4_to_7', 4, 'male', 'none', 3, 'real_estate', 37, 'none', 'own', 2, 'skilled', 1, 'none', 'yes', 2.0, 1.0, 1.0, 0.0, 0.0, 0.0, 0.0, 0.0, 4.0, 0.0, 2.0, 0.0, 0.0, [2.0, 1.0, 4.0, 0.0, 1.0, 0.0, 0.0, 2.0, 0.0, 0.0, 0.0, 0.0, 0.0, 21.0, 3003.0, 4.0, 3.0, 21.0, 37.0, 2.0, 1.0], [16.074430599706297, 3.9255694002937047], [0.8037215299853149, 0.19627847001468524], 0.0, 'No Risk'], ['less_0', 11, 'all_credits_paid_back', 'car_used', 250, 'less_100', '1_to_4', 2, 'male', 'none', 3, 'real_estate', 30, 'bank', 'rent', 1, 'unskilled', 1, 'none', 'yes', 1.0, 3.0, 0.0, 0.0, 0.0, 1.0, 2.0, 1.0, 2.0, 0.0, 2.0, 0.0, 0.0, [1.0, 3.0, 2.0, 0.0, 0.0, 0.0, 0.0, 2.0, 2.0, 1.0, 1.0, 0.0, 0.0, 11.0, 250.0, 2.0, 3.0, 11.0, 30.0, 1.0, 1.0], [18.89445046050588, 1.105549539494123], [0.9447225230252938, 0.05527747697470614], 0.0, 'No Risk'], ['less_0', 22, 'credits_paid_to_date', 'car_new', 1005, 'less_100', 'less_1', 3, 'female', 'none', 2, 'real_estate', 31, 'none', 'own', 1, 'skilled', 1, 'none', 'yes', 1.0, 1.0, 3.0, 0.0, 0.0, 0.0, 0.0, 0.0, 0.0, 0.0, 2.0, 1.0, 0.0, [1.0, 1.0, 0.0, 0.0, 3.0, 1.0, 0.0, 2.0, 0.0, 0.0, 0.0, 0.0, 0.0, 22.0, 1005.0, 3.0, 2.0, 22.0, 31.0, 1.0, 1.0], [18.521751104731777, 1.4782488952682242], [0.9260875552365888, 0.07391244476341122], 0.0, 'No Risk'], ['no_checking', 25, 'outstanding_credit', 'appliances', 7862, 'greater_1000', '4_to_7', 5, 'male', 'none', 4, 'unknown', 51, 'none', 'free', 2, 'management_self-employed', 2, 'yes', 'yes', 0.0, 2.0, 1.0, 3.0, 0.0, 2.0, 0.0, 2.0, 4.0, 0.0, 3.0, 0.0, 1.0, [0.0, 2.0, 4.0, 3.0, 1.0, 0.0, 0.0, 3.0, 0.0, 2.0, 2.0, 1.0, 0.0, 25.0, 7862.0, 5.0, 4.0, 25.0, 51.0, 2.0, 2.0], [4.961374482633012, 15.038625517366986], [0.2480687241316506, 0.7519312758683493], 1.0, 'Risk'], ['no_checking', 35, 'outstanding_credit', 'repairs', 9030, 'unknown', 'greater_7', 5, 'male', 'guarantor', 4, 'unknown', 48, 'none', 'free', 2, 'skilled', 1, 'yes', 'yes', 0.0, 2.0, 2.0, 4.0, 0.0, 2.0, 0.0, 0.0, 5.0, 2.0, 3.0, 0.0, 1.0, [0.0, 2.0, 5.0, 4.0, 2.0, 0.0, 2.0, 3.0, 0.0, 2.0, 0.0, 1.0, 0.0, 35.0, 9030.0, 5.0, 4.0, 35.0, 48.0, 2.0, 1.0], [2.1291246913978847, 17.870875308602116], [0.10645623456989424, 0.8935437654301058], 1.0, 'Risk'], ['0_to_200', 8, 'all_credits_paid_back', 'car_used', 2669, 'less_100', '1_to_4', 3, 'female', 'none', 3, 'savings_insurance', 35, 'none', 'own', 2, 'management_self-employed', 1, 'yes', 'yes', 2.0, 3.0, 0.0, 0.0, 0.0, 0.0, 0.0, 2.0, 2.0, 0.0, 0.0, 1.0, 1.0, [2.0, 3.0, 2.0, 0.0, 0.0, 1.0, 0.0, 0.0, 0.0, 0.0, 2.0, 1.0, 0.0, 8.0, 2669.0, 3.0, 3.0, 8.0, 35.0, 2.0, 1.0], [14.677355354738175, 5.322644645261828], [0.7338677677369086, 0.26613223226309135], 0.0, 'No Risk'], ['no_checking', 12, 'credits_paid_to_date', 'radio_tv', 2898, 'less_100', 'less_1', 3, 'male', 'co-applicant', 4, 'savings_insurance', 39, 'none', 'own', 1, 'skilled', 1, 'yes', 'yes', 0.0, 1.0, 3.0, 0.0, 0.0, 0.0, 0.0, 0.0, 3.0, 1.0, 0.0, 0.0, 1.0, [0.0, 1.0, 3.0, 0.0, 3.0, 0.0, 1.0, 0.0, 0.0, 0.0, 0.0, 1.0, 0.0, 12.0, 2898.0, 3.0, 4.0, 12.0, 39.0, 1.0, 1.0], [13.937322305709293, 6.062677694290705], [0.6968661152854647, 0.3031338847145353], 0.0, 'No Risk'], ['0_to_200', 33, 'credits_paid_to_date', 'radio_tv', 3548, '100_to_500', '1_to_4', 3, 'male', 'none', 4, 'car_other', 28, 'none', 'own', 2, 'skilled', 1, 'yes', 'yes', 2.0, 1.0, 0.0, 1.0, 0.0, 0.0, 0.0, 0.0, 3.0, 0.0, 1.0, 0.0, 1.0, [2.0, 1.0, 3.0, 1.0, 0.0, 0.0, 0.0, 1.0, 0.0, 0.0, 0.0, 1.0, 0.0, 33.0, 3548.0, 3.0, 4.0, 33.0, 28.0, 2.0, 1.0], [12.304398096699718, 7.695601903300286], [0.6152199048349858, 0.3847800951650142], 0.0, 'No Risk'], ['no_checking', 24, 'credits_paid_to_date', 'radio_tv', 5148, 'less_100', '4_to_7', 3, 'male', 'none', 3, 'unknown', 46, 'none', 'own', 1, 'skilled', 1, 'none', 'yes', 0.0, 1.0, 1.0, 0.0, 0.0, 0.0, 0.0, 0.0, 3.0, 0.0, 3.0, 0.0, 0.0, [21, [1, 2, 4, 7, 13, 14, 15, 16, 17, 18, 19, 20], [1.0, 3.0, 1.0, 3.0, 24.0, 5148.0, 3.0, 3.0, 24.0, 46.0, 1.0, 1.0]], [10.136841005758917, 9.86315899424108], [0.5068420502879459, 0.49315794971205407], 0.0, 'No Risk'], ['less_0', 10, 'all_credits_paid_back', 'car_used', 250, '100_to_500', 'less_1', 1, 'male', 'none', 2, 'real_estate', 24, 'stores', 'rent', 1, 'skilled', 1, 'none', 'yes', 1.0, 3.0, 3.0, 1.0, 0.0, 1.0, 1.0, 0.0, 2.0, 0.0, 2.0, 0.0, 0.0, [1.0, 3.0, 2.0, 1.0, 3.0, 0.0, 0.0, 2.0, 1.0, 1.0, 0.0, 0.0, 0.0, 10.0, 250.0, 1.0, 2.0, 10.0, 24.0, 1.0, 1.0], [19.674395962550513, 0.325604037449487], [0.9837197981275256, 0.01628020187247435], 0.0, 'No Risk'], ['no_checking', 37, 'prior_payments_delayed', 'other', 5683, '500_to_1000', '1_to_4', 4, 'female', 'co-applicant', 3, 'savings_insurance', 38, 'none', 'own', 1, 'skilled', 1, 'none', 'yes', 0.0, 0.0, 0.0, 2.0, 0.0, 0.0, 0.0, 0.0, 10.0, 1.0, 0.0, 1.0, 0.0, [21, [2, 3, 5, 6, 13, 14, 15, 16, 17, 18, 19, 20], [10.0, 2.0, 1.0, 1.0, 37.0, 5683.0, 4.0, 3.0, 37.0, 38.0, 1.0, 1.0]], [10.032408249449517, 9.967591750550483], [0.5016204124724759, 0.49837958752752415], 0.0, 'No Risk'], ['less_0', 4, 'all_credits_paid_back', 'car_new', 250, 'less_100', '1_to_4', 2, 'female', 'none', 2, 'real_estate', 19, 'stores', 'rent', 1, 'skilled', 1, 'none', 'yes', 1.0, 3.0, 0.0, 0.0, 0.0, 1.0, 1.0, 0.0, 0.0, 0.0, 2.0, 1.0, 0.0, [1.0, 3.0, 0.0, 0.0, 0.0, 1.0, 0.0, 2.0, 1.0, 1.0, 0.0, 0.0, 0.0, 4.0, 250.0, 2.0, 2.0, 4.0, 19.0, 1.0, 1.0], [19.511217178641818, 0.4887828213581826], [0.9755608589320909, 0.024439141067909127], 0.0, 'No Risk'], ['0_to_200', 15, 'credits_paid_to_date', 'furniture', 3446, 'less_100', '1_to_4', 2, 'male', 'none', 3, 'car_other', 21, 'none', 'own', 1, 'skilled', 1, 'yes', 'yes', 2.0, 1.0, 0.0, 0.0, 0.0, 0.0, 0.0, 0.0, 1.0, 0.0, 1.0, 0.0, 1.0, [2.0, 1.0, 1.0, 0.0, 0.0, 0.0, 0.0, 1.0, 0.0, 0.0, 0.0, 1.0, 0.0, 15.0, 3446.0, 2.0, 3.0, 15.0, 21.0, 1.0, 1.0], [15.598891363609885, 4.401108636390116], [0.7799445681804943, 0.22005543181950582], 0.0, 'No Risk'], ['less_0', 4, 'no_credits', 'car_new', 250, 'less_100', 'unemployed', 1, 'female', 'none', 2, 'real_estate', 26, 'none', 'rent', 1, 'skilled', 1, 'none', 'yes', 1.0, 4.0, 4.0, 0.0, 0.0, 1.0, 0.0, 0.0, 0.0, 0.0, 2.0, 1.0, 0.0, [1.0, 4.0, 0.0, 0.0, 4.0, 1.0, 0.0, 2.0, 0.0, 1.0, 0.0, 0.0, 0.0, 4.0, 250.0, 1.0, 2.0, 4.0, 26.0, 1.0, 1.0], [19.73822260499371, 0.2617773950062894], [0.9869111302496855, 0.01308886975031447], 0.0, 'No Risk'], ['no_checking', 26, 'prior_payments_delayed', 'radio_tv', 4146, '500_to_1000', '1_to_4', 4, 'male', 'none', 4, 'car_other', 36, 'none', 'free', 1, 'management_self-employed', 2, 'yes', 'yes', 0.0, 0.0, 0.0, 2.0, 0.0, 2.0, 0.0, 2.0, 3.0, 0.0, 1.0, 0.0, 1.0, [0.0, 0.0, 3.0, 2.0, 0.0, 0.0, 0.0, 1.0, 0.0, 2.0, 2.0, 1.0, 0.0, 26.0, 4146.0, 4.0, 4.0, 26.0, 36.0, 1.0, 2.0], [12.265982656732161, 7.734017343267841], [0.613299132836608, 0.386700867163392], 0.0, 'No Risk'], ['0_to_200', 14, 'prior_payments_delayed', 'retraining', 3583, '100_to_500', '1_to_4', 3, 'female', 'none', 3, 'savings_insurance', 34, 'none', 'rent', 1, 'management_self-employed', 1, 'none', 'yes', 2.0, 0.0, 0.0, 1.0, 0.0, 1.0, 0.0, 2.0, 8.0, 0.0, 0.0, 1.0, 0.0, [2.0, 0.0, 8.0, 1.0, 0.0, 1.0, 0.0, 0.0, 0.0, 1.0, 2.0, 0.0, 0.0, 14.0, 3583.0, 3.0, 3.0, 14.0, 34.0, 1.0, 1.0], [14.958684770280872, 5.041315229719128], [0.7479342385140436, 0.2520657614859564], 0.0, 'No Risk'], ['no_checking', 19, 'credits_paid_to_date', 'radio_tv', 4465, 'greater_1000', '1_to_4', 2, 'female', 'none', 4, 'savings_insurance', 27, 'none', 'rent', 1, 'skilled', 1, 'none', 'yes', 0.0, 1.0, 0.0, 3.0, 0.0, 1.0, 0.0, 0.0, 3.0, 0.0, 0.0, 1.0, 0.0, [0.0, 1.0, 3.0, 3.0, 0.0, 1.0, 0.0, 0.0, 0.0, 1.0, 0.0, 0.0, 0.0, 19.0, 4465.0, 2.0, 4.0, 19.0, 27.0, 1.0, 1.0], [14.109109452123395, 5.890890547876602], [0.7054554726061699, 0.29454452739383014], 0.0, 'No Risk'], ['less_0', 9, 'prior_payments_delayed', 'car_new', 351, 'less_100', '1_to_4', 2, 'male', 'none', 3, 'car_other', 34, 'bank', 'rent', 1, 'unemployed', 1, 'none', 'yes', 1.0, 0.0, 0.0, 0.0, 0.0, 1.0, 2.0, 3.0, 0.0, 0.0, 1.0, 0.0, 0.0, [1.0, 0.0, 0.0, 0.0, 0.0, 0.0, 0.0, 1.0, 2.0, 1.0, 3.0, 0.0, 0.0, 9.0, 351.0, 2.0, 3.0, 9.0, 34.0, 1.0, 1.0], [15.858979671510944, 4.141020328489056], [0.7929489835755472, 0.20705101642445278], 0.0, 'No Risk'], ['less_0', 17, 'no_credits', 'car_new', 3047, 'less_100', 'unemployed', 1, 'male', 'none', 2, 'car_other', 26, 'bank', 'rent', 1, 'unemployed', 1, 'none', 'yes', 1.0, 4.0, 4.0, 0.0, 0.0, 1.0, 2.0, 3.0, 0.0, 0.0, 1.0, 0.0, 0.0, [1.0, 4.0, 0.0, 0.0, 4.0, 0.0, 0.0, 1.0, 2.0, 1.0, 3.0, 0.0, 0.0, 17.0, 3047.0, 1.0, 2.0, 17.0, 26.0, 1.0, 1.0], [18.08438233645997, 1.9156176635400253], [0.9042191168229987, 0.09578088317700129], 0.0, 'No Risk'], ['0_to_200', 4, 'all_credits_paid_back', 'car_new', 2043, 'less_100', 'less_1', 2, 'female', 'none', 3, 'savings_insurance', 44, 'none', 'own', 1, 'skilled', 1, 'none', 'yes', 2.0, 3.0, 3.0, 0.0, 0.0, 0.0, 0.0, 0.0, 0.0, 0.0, 0.0, 1.0, 0.0, [21, [0, 1, 4, 5, 13, 14, 15, 16, 17, 18, 19, 20], [2.0, 3.0, 3.0, 1.0, 4.0, 2043.0, 2.0, 3.0, 4.0, 44.0, 1.0, 1.0]], [17.135854502088375, 2.864145497911619], [0.8567927251044191, 0.14320727489558102], 0.0, 'No Risk'], ['0_to_200', 17, 'credits_paid_to_date', 'furniture', 2860, 'less_100', 'unemployed', 1, 'female', 'none', 1, 'real_estate', 25, 'bank', 'rent', 1, 'unskilled', 1, 'none', 'yes', 2.0, 1.0, 4.0, 0.0, 0.0, 1.0, 2.0, 1.0, 1.0, 0.0, 2.0, 1.0, 0.0, [2.0, 1.0, 1.0, 0.0, 4.0, 1.0, 0.0, 2.0, 2.0, 1.0, 1.0, 0.0, 0.0, 17.0, 2860.0, 1.0, 1.0, 17.0, 25.0, 1.0, 1.0], [19.521467103031718, 0.4785328969682808], [0.9760733551515859, 0.023926644848414037], 0.0, 'No Risk'], ['no_checking', 17, 'credits_paid_to_date', 'car_used', 6494, '100_to_500', '1_to_4', 4, 'female', 'none', 4, 'unknown', 31, 'none', 'free', 1, 'skilled', 1, 'none', 'yes', 0.0, 1.0, 0.0, 1.0, 0.0, 2.0, 0.0, 0.0, 2.0, 0.0, 3.0, 1.0, 0.0, [0.0, 1.0, 2.0, 1.0, 0.0, 1.0, 0.0, 3.0, 0.0, 2.0, 0.0, 0.0, 0.0, 17.0, 6494.0, 4.0, 4.0, 17.0, 31.0, 1.0, 1.0], [12.732200887317859, 7.267799112682139], [0.636610044365893, 0.363389955634107], 0.0, 'No Risk'], ['greater_200', 28, 'prior_payments_delayed', 'radio_tv', 3704, 'greater_1000', '4_to_7', 2, 'male', 'none', 4, 'unknown', 47, 'none', 'own', 2, 'skilled', 1, 'none', 'yes', 3.0, 0.0, 1.0, 3.0, 0.0, 0.0, 0.0, 0.0, 3.0, 0.0, 3.0, 0.0, 0.0, [3.0, 0.0, 3.0, 3.0, 1.0, 0.0, 0.0, 3.0, 0.0, 0.0, 0.0, 0.0, 0.0, 28.0, 3704.0, 2.0, 4.0, 28.0, 47.0, 2.0, 1.0], [10.033622026270292, 9.966377973729706], [0.5016811013135146, 0.4983188986864853], 0.0, 'No Risk'], ['0_to_200', 26, 'credits_paid_to_date', 'radio_tv', 3059, 'less_100', 'less_1', 3, 'female', 'none', 3, 'savings_insurance', 21, 'none', 'own', 1, 'skilled', 1, 'none', 'yes', 2.0, 1.0, 3.0, 0.0, 0.0, 0.0, 0.0, 0.0, 3.0, 0.0, 0.0, 1.0, 0.0, [2.0, 1.0, 3.0, 0.0, 3.0, 1.0, 0.0, 0.0, 0.0, 0.0, 0.0, 0.0, 0.0, 26.0, 3059.0, 3.0, 3.0, 26.0, 21.0, 1.0, 1.0], [15.803185402122917, 4.196814597877081], [0.7901592701061458, 0.20984072989385405], 0.0, 'No Risk'], ['no_checking', 34, 'credits_paid_to_date', 'car_used', 7391, '100_to_500', 'greater_7', 5, 'male', 'co-applicant', 3, 'savings_insurance', 44, 'none', 'own', 2, 'skilled', 2, 'none', 'yes', 0.0, 1.0, 2.0, 1.0, 0.0, 0.0, 0.0, 0.0, 2.0, 1.0, 0.0, 0.0, 0.0, [0.0, 1.0, 2.0, 1.0, 2.0, 0.0, 1.0, 0.0, 0.0, 0.0, 0.0, 0.0, 0.0, 34.0, 7391.0, 5.0, 3.0, 34.0, 44.0, 2.0, 2.0], [8.932433025058879, 11.067566974941121], [0.44662165125294395, 0.553378348747056], 1.0, 'Risk'], ['less_0', 30, 'credits_paid_to_date', 'radio_tv', 1455, 'greater_1000', 'less_1', 2, 'male', 'none', 1, 'savings_insurance', 32, 'stores', 'own', 1, 'skilled', 1, 'none', 'yes', 1.0, 1.0, 3.0, 3.0, 0.0, 0.0, 1.0, 0.0, 3.0, 0.0, 0.0, 0.0, 0.0, [1.0, 1.0, 3.0, 3.0, 3.0, 0.0, 0.0, 0.0, 1.0, 0.0, 0.0, 0.0, 0.0, 30.0, 1455.0, 2.0, 1.0, 30.0, 32.0, 1.0, 1.0], [15.454171479284962, 4.545828520715039], [0.7727085739642481, 0.22729142603575198], 0.0, 'No Risk'], ['less_0', 13, 'credits_paid_to_date', 'vacation', 2520, '100_to_500', '4_to_7', 3, 'male', 'none', 3, 'savings_insurance', 25, 'bank', 'rent', 1, 'unskilled', 1, 'none', 'yes', 1.0, 1.0, 1.0, 1.0, 0.0, 1.0, 2.0, 1.0, 6.0, 0.0, 0.0, 0.0, 0.0, [1.0, 1.0, 6.0, 1.0, 1.0, 0.0, 0.0, 0.0, 2.0, 1.0, 1.0, 0.0, 0.0, 13.0, 2520.0, 3.0, 3.0, 13.0, 25.0, 1.0, 1.0], [16.418344105177397, 3.5816558948226005], [0.82091720525887, 0.17908279474113006], 0.0, 'No Risk'], ['0_to_200', 21, 'no_credits', 'car_new', 2991, 'less_100', '1_to_4', 3, 'male', 'co-applicant', 3, 'real_estate', 39, 'none', 'free', 1, 'skilled', 1, 'yes', 'yes', 2.0, 4.0, 0.0, 0.0, 0.0, 2.0, 0.0, 0.0, 0.0, 1.0, 2.0, 0.0, 1.0, [2.0, 4.0, 0.0, 0.0, 0.0, 0.0, 1.0, 2.0, 0.0, 2.0, 0.0, 1.0, 0.0, 21.0, 2991.0, 3.0, 3.0, 21.0, 39.0, 1.0, 1.0], [16.70675814721147, 3.293241852788531], [0.8353379073605736, 0.16466209263942655], 0.0, 'No Risk'], ['greater_200', 19, 'outstanding_credit', 'car_used', 5264, 'unknown', 'greater_7', 4, 'female', 'none', 3, 'savings_insurance', 47, 'none', 'own', 2, 'skilled', 1, 'none', 'yes', 3.0, 2.0, 2.0, 4.0, 0.0, 0.0, 0.0, 0.0, 2.0, 0.0, 0.0, 1.0, 0.0, [3.0, 2.0, 2.0, 4.0, 2.0, 1.0, 0.0, 0.0, 0.0, 0.0, 0.0, 0.0, 0.0, 19.0, 5264.0, 4.0, 3.0, 19.0, 47.0, 2.0, 1.0], [11.333826245881973, 8.666173754118029], [0.5666913122940986, 0.4333086877059015], 0.0, 'No Risk'], ['less_0', 18, 'credits_paid_to_date', 'vacation', 3256, '100_to_500', '1_to_4', 2, 'male', 'none', 2, 'car_other', 37, 'stores', 'own', 2, 'unskilled', 1, 'none', 'yes', 1.0, 1.0, 0.0, 1.0, 0.0, 0.0, 1.0, 1.0, 6.0, 0.0, 1.0, 0.0, 0.0, [1.0, 1.0, 6.0, 1.0, 0.0, 0.0, 0.0, 1.0, 1.0, 0.0, 1.0, 0.0, 0.0, 18.0, 3256.0, 2.0, 2.0, 18.0, 37.0, 2.0, 1.0], [15.075086364714236, 4.924913635285767], [0.7537543182357117, 0.24624568176428832], 0.0, 'No Risk'], ['less_0', 9, 'all_credits_paid_back', 'car_new', 1631, '100_to_500', 'less_1', 1, 'female', 'co-applicant', 2, 'real_estate', 35, 'stores', 'own', 2, 'skilled', 1, 'none', 'yes', 1.0, 3.0, 3.0, 1.0, 0.0, 0.0, 1.0, 0.0, 0.0, 1.0, 2.0, 1.0, 0.0, [1.0, 3.0, 0.0, 1.0, 3.0, 1.0, 1.0, 2.0, 1.0, 0.0, 0.0, 0.0, 0.0, 9.0, 1631.0, 1.0, 2.0, 9.0, 35.0, 2.0, 1.0], [18.123472948879957, 1.8765270511200383], [0.906173647443998, 0.09382635255600193], 0.0, 'No Risk'], ['greater_200', 50, 'prior_payments_delayed', 'appliances', 6599, 'greater_1000', '4_to_7', 4, 'male', 'none', 3, 'unknown', 45, 'none', 'own', 2, 'skilled', 1, 'none', 'yes', 3.0, 0.0, 1.0, 3.0, 0.0, 0.0, 0.0, 0.0, 4.0, 0.0, 3.0, 0.0, 0.0, [3.0, 0.0, 4.0, 3.0, 1.0, 0.0, 0.0, 3.0, 0.0, 0.0, 0.0, 0.0, 0.0, 50.0, 6599.0, 4.0, 3.0, 50.0, 45.0, 2.0, 1.0], [8.070528930228258, 11.929471069771743], [0.4035264465114129, 0.5964735534885872], 1.0, 'Risk'], ['less_0', 22, 'prior_payments_delayed', 'education', 4770, 'less_100', '1_to_4', 3, 'female', 'none', 2, 'car_other', 30, 'none', 'own', 1, 'skilled', 1, 'none', 'yes', 1.0, 0.0, 0.0, 0.0, 0.0, 0.0, 0.0, 0.0, 7.0, 0.0, 1.0, 1.0, 0.0, [21, [0, 2, 5, 7, 13, 14, 15, 16, 17, 18, 19, 20], [1.0, 7.0, 1.0, 1.0, 22.0, 4770.0, 3.0, 2.0, 22.0, 30.0, 1.0, 1.0]], [15.492878393365698, 4.507121606634301], [0.7746439196682849, 0.22535608033171503], 0.0, 'No Risk'], ['no_checking', 53, 'outstanding_credit', 'radio_tv', 8236, 'unknown', 'greater_7', 5, 'male', 'co-applicant', 4, 'unknown', 64, 'none', 'free', 3, 'skilled', 2, 'yes', 'yes', 0.0, 2.0, 2.0, 4.0, 0.0, 2.0, 0.0, 0.0, 3.0, 1.0, 3.0, 0.0, 1.0, [0.0, 2.0, 3.0, 4.0, 2.0, 0.0, 1.0, 3.0, 0.0, 2.0, 0.0, 1.0, 0.0, 53.0, 8236.0, 5.0, 4.0, 53.0, 64.0, 3.0, 2.0], [1.4368728750356785, 18.56312712496432], [0.07184364375178393, 0.928156356248216], 1.0, 'Risk'], ['0_to_200', 15, 'credits_paid_to_date', 'furniture', 1803, '500_to_1000', '1_to_4', 2, 'female', 'none', 2, 'real_estate', 29, 'stores', 'own', 2, 'skilled', 2, 'yes', 'yes', 2.0, 1.0, 0.0, 2.0, 0.0, 0.0, 1.0, 0.0, 1.0, 0.0, 2.0, 1.0, 1.0, [2.0, 1.0, 1.0, 2.0, 0.0, 1.0, 0.0, 2.0, 1.0, 0.0, 0.0, 1.0, 0.0, 15.0, 1803.0, 2.0, 2.0, 15.0, 29.0, 2.0, 2.0], [17.141602534273286, 2.8583974657267133], [0.8570801267136643, 0.14291987328633565], 0.0, 'No Risk'], ['no_checking', 37, 'outstanding_credit', 'furniture', 7121, '500_to_1000', '4_to_7', 4, 'male', 'co-applicant', 5, 'car_other', 49, 'stores', 'own', 2, 'unskilled', 2, 'yes', 'yes', 0.0, 2.0, 1.0, 2.0, 0.0, 0.0, 1.0, 1.0, 1.0, 1.0, 1.0, 0.0, 1.0, [0.0, 2.0, 1.0, 2.0, 1.0, 0.0, 1.0, 1.0, 1.0, 0.0, 1.0, 1.0, 0.0, 37.0, 7121.0, 4.0, 5.0, 37.0, 49.0, 2.0, 2.0], [4.798940620727319, 15.201059379272682], [0.23994703103636597, 0.7600529689636341], 1.0, 'Risk'], ['no_checking', 20, 'prior_payments_delayed', 'repairs', 2962, '500_to_1000', 'greater_7', 3, 'female', 'none', 2, 'car_other', 31, 'none', 'own', 1, 'skilled', 2, 'none', 'no', 0.0, 0.0, 2.0, 2.0, 1.0, 0.0, 0.0, 0.0, 5.0, 0.0, 1.0, 1.0, 0.0, [0.0, 0.0, 5.0, 2.0, 2.0, 1.0, 0.0, 1.0, 0.0, 0.0, 0.0, 0.0, 1.0, 20.0, 2962.0, 3.0, 2.0, 20.0, 31.0, 1.0, 2.0], [14.060843848311805, 5.939156151688195], [0.7030421924155903, 0.29695780758440976], 0.0, 'No Risk'], ['0_to_200', 16, 'prior_payments_delayed', 'car_used', 8362, 'less_100', '1_to_4', 2, 'female', 'none', 3, 'car_other', 42, 'bank', 'own', 2, 'unskilled', 1, 'yes', 'no', 2.0, 0.0, 0.0, 0.0, 1.0, 0.0, 2.0, 1.0, 2.0, 0.0, 1.0, 1.0, 1.0, [2.0, 0.0, 2.0, 0.0, 0.0, 1.0, 0.0, 1.0, 2.0, 0.0, 1.0, 1.0, 1.0, 16.0, 8362.0, 2.0, 3.0, 16.0, 42.0, 2.0, 1.0], [14.32313878406013, 5.676861215939873], [0.7161569392030064, 0.28384306079699356], 0.0, 'No Risk'], ['0_to_200', 10, 'credits_paid_to_date', 'car_new', 4141, '500_to_1000', '4_to_7', 3, 'male', 'none', 2, 'car_other', 37, 'none', 'own', 2, 'skilled', 2, 'none', 'yes', 2.0, 1.0, 1.0, 2.0, 0.0, 0.0, 0.0, 0.0, 0.0, 0.0, 1.0, 0.0, 0.0, [2.0, 1.0, 0.0, 2.0, 1.0, 0.0, 0.0, 1.0, 0.0, 0.0, 0.0, 0.0, 0.0, 10.0, 4141.0, 3.0, 2.0, 10.0, 37.0, 2.0, 2.0], [15.366988824544709, 4.633011175455291], [0.7683494412272355, 0.23165055877276455], 0.0, 'No Risk'], ['0_to_200', 26, 'credits_paid_to_date', 'car_new', 1743, '100_to_500', '4_to_7', 3, 'male', 'none', 2, 'car_other', 37, 'stores', 'own', 2, 'unskilled', 1, 'yes', 'yes', 2.0, 1.0, 1.0, 1.0, 0.0, 0.0, 1.0, 1.0, 0.0, 0.0, 1.0, 0.0, 1.0, [2.0, 1.0, 0.0, 1.0, 1.0, 0.0, 0.0, 1.0, 1.0, 0.0, 1.0, 1.0, 0.0, 26.0, 1743.0, 3.0, 2.0, 26.0, 37.0, 2.0, 1.0], [14.87401617693842, 5.1259838230615795], [0.743700808846921, 0.256299191153079], 0.0, 'No Risk'], ['greater_200', 13, 'credits_paid_to_date', 'car_new', 250, 'greater_1000', '4_to_7', 3, 'male', 'none', 4, 'real_estate', 29, 'none', 'rent', 3, 'skilled', 1, 'none', 'yes', 3.0, 1.0, 1.0, 3.0, 0.0, 1.0, 0.0, 0.0, 0.0, 0.0, 2.0, 0.0, 0.0, [3.0, 1.0, 0.0, 3.0, 1.0, 0.0, 0.0, 2.0, 0.0, 1.0, 0.0, 0.0, 0.0, 13.0, 250.0, 3.0, 4.0, 13.0, 29.0, 3.0, 1.0], [16.882710362359948, 3.117289637640052], [0.8441355181179974, 0.15586448188200258], 0.0, 'No Risk'], ['0_to_200', 28, 'credits_paid_to_date', 'radio_tv', 3230, 'less_100', '4_to_7', 4, 'male', 'none', 4, 'savings_insurance', 41, 'none', 'own', 3, 'skilled', 1, 'none', 'yes', 2.0, 1.0, 1.0, 0.0, 0.0, 0.0, 0.0, 0.0, 3.0, 0.0, 0.0, 0.0, 0.0, [21, [0, 1, 2, 4, 13, 14, 15, 16, 17, 18, 19, 20], [2.0, 1.0, 3.0, 1.0, 28.0, 3230.0, 4.0, 4.0, 28.0, 41.0, 3.0, 1.0]], [12.08556617555523, 7.914433824444769], [0.6042783087777616, 0.39572169122223844], 0.0, 'No Risk'], ['less_0', 4, 'prior_payments_delayed', 'car_used', 250, '500_to_1000', '4_to_7', 3, 'male', 'none', 1, 'real_estate', 30, 'none', 'own', 1, 'skilled', 2, 'none', 'yes', 1.0, 0.0, 1.0, 2.0, 0.0, 0.0, 0.0, 0.0, 2.0, 0.0, 2.0, 0.0, 0.0, [1.0, 0.0, 2.0, 2.0, 1.0, 0.0, 0.0, 2.0, 0.0, 0.0, 0.0, 0.0, 0.0, 4.0, 250.0, 3.0, 1.0, 4.0, 30.0, 1.0, 2.0], [18.966184398792535, 1.033815601207466], [0.9483092199396268, 0.051690780060373295], 0.0, 'No Risk'], ['no_checking', 33, 'outstanding_credit', 'furniture', 5469, 'greater_1000', '4_to_7', 4, 'male', 'co-applicant', 4, 'unknown', 42, 'stores', 'own', 2, 'unskilled', 1, 'yes', 'yes', 0.0, 2.0, 1.0, 3.0, 0.0, 0.0, 1.0, 1.0, 1.0, 1.0, 3.0, 0.0, 1.0, [0.0, 2.0, 1.0, 3.0, 1.0, 0.0, 1.0, 3.0, 1.0, 0.0, 1.0, 1.0, 0.0, 33.0, 5469.0, 4.0, 4.0, 33.0, 42.0, 2.0, 1.0], [4.324617320844255, 15.675382679155746], [0.21623086604221275, 0.7837691339577872], 1.0, 'Risk'], ['no_checking', 48, 'outstanding_credit', 'repairs', 7801, '500_to_1000', '4_to_7', 4, 'male', 'co-applicant', 5, 'unknown', 63, 'none', 'free', 3, 'skilled', 2, 'yes', 'no', 0.0, 2.0, 1.0, 2.0, 1.0, 2.0, 0.0, 0.0, 5.0, 1.0, 3.0, 0.0, 1.0, [0.0, 2.0, 5.0, 2.0, 1.0, 0.0, 1.0, 3.0, 0.0, 2.0, 0.0, 1.0, 1.0, 48.0, 7801.0, 4.0, 5.0, 48.0, 63.0, 3.0, 2.0], [2.079963138385237, 17.920036861614765], [0.10399815691926184, 0.8960018430807383], 1.0, 'Risk'], ['0_to_200', 4, 'all_credits_paid_back', 'car_new', 2420, 'less_100', 'unemployed', 1, 'male', 'none', 3, 'savings_insurance', 28, 'none', 'own', 1, 'skilled', 1, 'none', 'yes', 2.0, 3.0, 4.0, 0.0, 0.0, 0.0, 0.0, 0.0, 0.0, 0.0, 0.0, 0.0, 0.0, [21, [0, 1, 4, 13, 14, 15, 16, 17, 18, 19, 20], [2.0, 3.0, 4.0, 4.0, 2420.0, 1.0, 3.0, 4.0, 28.0, 1.0, 1.0]], [17.72231237359117, 2.2776876264088295], [0.8861156186795585, 0.11388438132044147], 0.0, 'No Risk'], ['less_0', 16, 'credits_paid_to_date', 'retraining', 1589, '500_to_1000', '1_to_4', 3, 'male', 'none', 3, 'car_other', 40, 'none', 'own', 1, 'skilled', 1, 'yes', 'yes', 1.0, 1.0, 0.0, 2.0, 0.0, 0.0, 0.0, 0.0, 8.0, 0.0, 1.0, 0.0, 1.0, [1.0, 1.0, 8.0, 2.0, 0.0, 0.0, 0.0, 1.0, 0.0, 0.0, 0.0, 1.0, 0.0, 16.0, 1589.0, 3.0, 3.0, 16.0, 40.0, 1.0, 1.0], [14.820720606653342, 5.1792793933466585], [0.7410360303326671, 0.2589639696673329], 0.0, 'No Risk'], ['less_0', 4, 'no_credits', 'repairs', 250, 'less_100', 'less_1', 1, 'female', 'none', 2, 'savings_insurance', 33, 'none', 'rent', 1, 'skilled', 1, 'none', 'yes', 1.0, 4.0, 3.0, 0.0, 0.0, 1.0, 0.0, 0.0, 5.0, 0.0, 0.0, 1.0, 0.0, [1.0, 4.0, 5.0, 0.0, 3.0, 1.0, 0.0, 0.0, 0.0, 1.0, 0.0, 0.0, 0.0, 4.0, 250.0, 1.0, 2.0, 4.0, 33.0, 1.0, 1.0], [18.528019173465456, 1.471980826534538], [0.9264009586732731, 0.07359904132672693], 0.0, 'No Risk'], ['0_to_200', 25, 'all_credits_paid_back', 'car_new', 1577, '500_to_1000', 'unemployed', 1, 'male', 'none', 3, 'real_estate', 29, 'none', 'own', 1, 'skilled', 1, 'yes', 'yes', 2.0, 3.0, 4.0, 2.0, 0.0, 0.0, 0.0, 0.0, 0.0, 0.0, 2.0, 0.0, 1.0, [2.0, 3.0, 0.0, 2.0, 4.0, 0.0, 0.0, 2.0, 0.0, 0.0, 0.0, 1.0, 0.0, 25.0, 1577.0, 1.0, 3.0, 25.0, 29.0, 1.0, 1.0], [16.26691523988452, 3.7330847601154833], [0.8133457619942259, 0.18665423800577416], 0.0, 'No Risk'], ['0_to_200', 20, 'credits_paid_to_date', 'retraining', 3129, '500_to_1000', 'less_1', 2, 'male', 'co-applicant', 2, 'real_estate', 30, 'bank', 'rent', 1, 'unemployed', 1, 'yes', 'yes', 2.0, 1.0, 3.0, 2.0, 0.0, 1.0, 2.0, 3.0, 8.0, 1.0, 2.0, 0.0, 1.0, [2.0, 1.0, 8.0, 2.0, 3.0, 0.0, 1.0, 2.0, 2.0, 1.0, 3.0, 1.0, 0.0, 20.0, 3129.0, 2.0, 2.0, 20.0, 30.0, 1.0, 1.0], [17.932165224702622, 2.0678347752973805], [0.8966082612351309, 0.103391738764869], 0.0, 'No Risk'], ['no_checking', 8, 'prior_payments_delayed', 'furniture', 1125, '100_to_500', 'greater_7', 4, 'male', 'none', 4, 'car_other', 36, 'none', 'own', 1, 'management_self-employed', 1, 'none', 'yes', 0.0, 0.0, 2.0, 1.0, 0.0, 0.0, 0.0, 2.0, 1.0, 0.0, 1.0, 0.0, 0.0, [0.0, 0.0, 1.0, 1.0, 2.0, 0.0, 0.0, 1.0, 0.0, 0.0, 2.0, 0.0, 0.0, 8.0, 1125.0, 4.0, 4.0, 8.0, 36.0, 1.0, 1.0], [13.65431001649846, 6.34568998350154], [0.682715500824923, 0.317284499175077], 0.0, 'No Risk'], ['no_checking', 26, 'prior_payments_delayed', 'appliances', 6548, '100_to_500', '1_to_4', 3, 'female', 'guarantor', 2, 'car_other', 47, 'none', 'free', 1, 'skilled', 1, 'yes', 'yes', 0.0, 0.0, 0.0, 1.0, 0.0, 2.0, 0.0, 0.0, 4.0, 2.0, 1.0, 1.0, 1.0, [0.0, 0.0, 4.0, 1.0, 0.0, 1.0, 2.0, 1.0, 0.0, 2.0, 0.0, 1.0, 0.0, 26.0, 6548.0, 3.0, 2.0, 26.0, 47.0, 1.0, 1.0], [9.034167622136568, 10.965832377863432], [0.4517083811068284, 0.5482916188931716], 1.0, 'Risk'], ['no_checking', 18, 'credits_paid_to_date', 'radio_tv', 4561, '100_to_500', '1_to_4', 3, 'male', 'none', 3, 'real_estate', 38, 'none', 'own', 2, 'management_self-employed', 1, 'yes', 'yes', 0.0, 1.0, 0.0, 1.0, 0.0, 0.0, 0.0, 2.0, 3.0, 0.0, 2.0, 0.0, 1.0, [0.0, 1.0, 3.0, 1.0, 0.0, 0.0, 0.0, 2.0, 0.0, 0.0, 2.0, 1.0, 0.0, 18.0, 4561.0, 3.0, 3.0, 18.0, 38.0, 2.0, 1.0], [14.776361093635161, 5.2236389063648385], [0.7388180546817581, 0.2611819453182419], 0.0, 'No Risk'], ['no_checking', 32, 'outstanding_credit', 'repairs', 3698, 'greater_1000', '1_to_4', 3, 'male', 'none', 2, 'savings_insurance', 32, 'none', 'own', 1, 'management_self-employed', 1, 'none', 'yes', 0.0, 2.0, 0.0, 3.0, 0.0, 0.0, 0.0, 2.0, 5.0, 0.0, 0.0, 0.0, 0.0, [21, [1, 2, 3, 10, 13, 14, 15, 16, 17, 18, 19, 20], [2.0, 5.0, 3.0, 2.0, 32.0, 3698.0, 3.0, 2.0, 32.0, 32.0, 1.0, 1.0]], [14.371187218835042, 5.6288127811649575], [0.7185593609417521, 0.2814406390582479], 0.0, 'No Risk'], ['0_to_200', 4, 'all_credits_paid_back', 'furniture', 250, '100_to_500', '1_to_4', 2, 'female', 'none', 3, 'real_estate', 19, 'none', 'rent', 1, 'skilled', 1, 'none', 'yes', 2.0, 3.0, 0.0, 1.0, 0.0, 1.0, 0.0, 0.0, 1.0, 0.0, 2.0, 1.0, 0.0, [2.0, 3.0, 1.0, 1.0, 0.0, 1.0, 0.0, 2.0, 0.0, 1.0, 0.0, 0.0, 0.0, 4.0, 250.0, 2.0, 3.0, 4.0, 19.0, 1.0, 1.0], [18.829491074409084, 1.1705089255909142], [0.9414745537204542, 0.058525446279545715], 0.0, 'No Risk'], ['no_checking', 29, 'prior_payments_delayed', 'car_used', 6738, '100_to_500', 'greater_7', 5, 'male', 'none', 5, 'car_other', 29, 'none', 'own', 1, 'management_self-employed', 2, 'yes', 'yes', 0.0, 0.0, 2.0, 1.0, 0.0, 0.0, 0.0, 2.0, 2.0, 0.0, 1.0, 0.0, 1.0, [0.0, 0.0, 2.0, 1.0, 2.0, 0.0, 0.0, 1.0, 0.0, 0.0, 2.0, 1.0, 0.0, 29.0, 6738.0, 5.0, 5.0, 29.0, 29.0, 1.0, 2.0], [8.661903899549388, 11.338096100450612], [0.4330951949774694, 0.5669048050225306], 1.0, 'Risk'], ['0_to_200', 10, 'credits_paid_to_date', 'appliances', 2203, '500_to_1000', 'less_1', 3, 'male', 'none', 3, 'savings_insurance', 27, 'none', 'own', 1, 'skilled', 1, 'none', 'yes', 2.0, 1.0, 3.0, 2.0, 0.0, 0.0, 0.0, 0.0, 4.0, 0.0, 0.0, 0.0, 0.0, [2.0, 1.0, 4.0, 2.0, 3.0, 0.0, 0.0, 0.0, 0.0, 0.0, 0.0, 0.0, 0.0, 10.0, 2203.0, 3.0, 3.0, 10.0, 27.0, 1.0, 1.0], [17.295270007023518, 2.7047299929764828], [0.8647635003511759, 0.13523649964882414], 0.0, 'No Risk'], ['no_checking', 21, 'credits_paid_to_date', 'education', 4463, 'greater_1000', 'greater_7', 4, 'male', 'none', 4, 'car_other', 32, 'none', 'own', 2, 'skilled', 1, 'none', 'yes', 0.0, 1.0, 2.0, 3.0, 0.0, 0.0, 0.0, 0.0, 7.0, 0.0, 1.0, 0.0, 0.0, [0.0, 1.0, 7.0, 3.0, 2.0, 0.0, 0.0, 1.0, 0.0, 0.0, 0.0, 0.0, 0.0, 21.0, 4463.0, 4.0, 4.0, 21.0, 32.0, 2.0, 1.0], [10.577623835950744, 9.422376164049256], [0.5288811917975372, 0.47111880820246277], 0.0, 'No Risk'], ['no_checking', 14, 'credits_paid_to_date', 'car_new', 6034, '100_to_500', '4_to_7', 4, 'male', 'none', 3, 'unknown', 30, 'stores', 'own', 2, 'unskilled', 1, 'yes', 'yes', 0.0, 1.0, 1.0, 1.0, 0.0, 0.0, 1.0, 1.0, 0.0, 0.0, 3.0, 0.0, 1.0, [0.0, 1.0, 0.0, 1.0, 1.0, 0.0, 0.0, 3.0, 1.0, 0.0, 1.0, 1.0, 0.0, 14.0, 6034.0, 4.0, 3.0, 14.0, 30.0, 2.0, 1.0], [9.712029086318877, 10.287970913681123], [0.4856014543159438, 0.5143985456840562], 1.0, 'Risk'], ['no_checking', 41, 'prior_payments_delayed', 'repairs', 6154, 'greater_1000', 'greater_7', 4, 'male', 'co-applicant', 5, 'car_other', 42, 'none', 'free', 2, 'skilled', 1, 'none', 'yes', 0.0, 0.0, 2.0, 3.0, 0.0, 2.0, 0.0, 0.0, 5.0, 1.0, 1.0, 0.0, 0.0, [0.0, 0.0, 5.0, 3.0, 2.0, 0.0, 1.0, 1.0, 0.0, 2.0, 0.0, 0.0, 0.0, 41.0, 6154.0, 4.0, 5.0, 41.0, 42.0, 2.0, 1.0], [4.231326479355433, 15.768673520644567], [0.21156632396777164, 0.7884336760322284], 1.0, 'Risk'], ['less_0', 30, 'outstanding_credit', 'furniture', 5803, 'greater_1000', 'greater_7', 4, 'male', 'none', 4, 'unknown', 38, 'stores', 'own', 2, 'unskilled', 1, 'yes', 'yes', 1.0, 2.0, 2.0, 3.0, 0.0, 0.0, 1.0, 1.0, 1.0, 0.0, 3.0, 0.0, 1.0, [1.0, 2.0, 1.0, 3.0, 2.0, 0.0, 0.0, 3.0, 1.0, 0.0, 1.0, 1.0, 0.0, 30.0, 5803.0, 4.0, 4.0, 30.0, 38.0, 2.0, 1.0], [9.865099410726662, 10.134900589273338], [0.4932549705363331, 0.5067450294636668], 1.0, 'Risk'], ['0_to_200', 10, 'credits_paid_to_date', 'furniture', 272, 'less_100', '4_to_7', 2, 'male', 'none', 2, 'savings_insurance', 24, 'stores', 'rent', 2, 'unskilled', 2, 'yes', 'yes', 2.0, 1.0, 1.0, 0.0, 0.0, 1.0, 1.0, 1.0, 1.0, 0.0, 0.0, 0.0, 1.0, [2.0, 1.0, 1.0, 0.0, 1.0, 0.0, 0.0, 0.0, 1.0, 1.0, 1.0, 1.0, 0.0, 10.0, 272.0, 2.0, 2.0, 10.0, 24.0, 2.0, 2.0], [17.281303637669303, 2.7186963623306957], [0.8640651818834651, 0.1359348181165348], 0.0, 'No Risk'], ['0_to_200', 29, 'credits_paid_to_date', 'furniture', 2030, '100_to_500', '1_to_4', 2, 'male', 'none', 3, 'real_estate', 19, 'stores', 'own', 1, 'skilled', 1, 'none', 'yes', 2.0, 1.0, 0.0, 1.0, 0.0, 0.0, 1.0, 0.0, 1.0, 0.0, 2.0, 0.0, 0.0, [2.0, 1.0, 1.0, 1.0, 0.0, 0.0, 0.0, 2.0, 1.0, 0.0, 0.0, 0.0, 0.0, 29.0, 2030.0, 2.0, 3.0, 29.0, 19.0, 1.0, 1.0], [15.368946024028958, 4.631053975971044], [0.7684473012014479, 0.2315526987985522], 0.0, 'No Risk'], ['less_0', 4, 'all_credits_paid_back', 'repairs', 250, 'less_100', '1_to_4', 2, 'male', 'none', 1, 'savings_insurance', 36, 'none', 'rent', 1, 'skilled', 1, 'none', 'yes', 1.0, 3.0, 0.0, 0.0, 0.0, 1.0, 0.0, 0.0, 5.0, 0.0, 0.0, 0.0, 0.0, [21, [0, 1, 2, 9, 13, 14, 15, 16, 17, 18, 19, 20], [1.0, 3.0, 5.0, 1.0, 4.0, 250.0, 2.0, 1.0, 4.0, 36.0, 1.0, 1.0]], [17.731125091736008, 2.268874908263988], [0.8865562545868005, 0.11344374541319942], 0.0, 'No Risk'], ['no_checking', 34, 'outstanding_credit', 'other', 8483, '500_to_1000', 'greater_7', 6, 'male', 'co-applicant', 4, 'unknown', 47, 'none', 'free', 2, 'management_self-employed', 1, 'yes', 'yes', 0.0, 2.0, 2.0, 2.0, 0.0, 2.0, 0.0, 2.0, 10.0, 1.0, 3.0, 0.0, 1.0, [0.0, 2.0, 10.0, 2.0, 2.0, 0.0, 1.0, 3.0, 0.0, 2.0, 2.0, 1.0, 0.0, 34.0, 8483.0, 6.0, 4.0, 34.0, 47.0, 2.0, 1.0], [1.4071203809127744, 18.592879619087228], [0.0703560190456387, 0.9296439809543612], 1.0, 'Risk'], ['no_checking', 16, 'outstanding_credit', 'car_used', 5157, 'unknown', 'greater_7', 4, 'male', 'none', 2, 'unknown', 54, 'stores', 'own', 2, 'unskilled', 1, 'yes', 'no', 0.0, 2.0, 2.0, 4.0, 1.0, 0.0, 1.0, 1.0, 2.0, 0.0, 3.0, 0.0, 1.0, [0.0, 2.0, 2.0, 4.0, 2.0, 0.0, 0.0, 3.0, 1.0, 0.0, 1.0, 1.0, 1.0, 16.0, 5157.0, 4.0, 2.0, 16.0, 54.0, 2.0, 1.0], [8.444215422548954, 11.55578457745105], [0.4222107711274476, 0.5777892288725524], 1.0, 'Risk'], ['0_to_200', 19, 'credits_paid_to_date', 'car_new', 1965, '500_to_1000', 'less_1', 1, 'female', 'none', 3, 'real_estate', 29, 'stores', 'rent', 1, 'skilled', 1, 'none', 'yes', 2.0, 1.0, 3.0, 2.0, 0.0, 1.0, 1.0, 0.0, 0.0, 0.0, 2.0, 1.0, 0.0, [2.0, 1.0, 0.0, 2.0, 3.0, 1.0, 0.0, 2.0, 1.0, 1.0, 0.0, 0.0, 0.0, 19.0, 1965.0, 1.0, 3.0, 19.0, 29.0, 1.0, 1.0], [18.50864450633577, 1.49135549366423], [0.9254322253167885, 0.07456777468321149], 0.0, 'No Risk'], ['less_0', 30, 'outstanding_credit', 'repairs', 2771, '100_to_500', '4_to_7', 3, 'male', 'co-applicant', 2, 'car_other', 36, 'bank', 'own', 1, 'unemployed', 1, 'none', 'yes', 1.0, 2.0, 1.0, 1.0, 0.0, 0.0, 2.0, 3.0, 5.0, 1.0, 1.0, 0.0, 0.0, [1.0, 2.0, 5.0, 1.0, 1.0, 0.0, 1.0, 1.0, 2.0, 0.0, 3.0, 0.0, 0.0, 30.0, 2771.0, 3.0, 2.0, 30.0, 36.0, 1.0, 1.0], [13.796605205513794, 6.203394794486206], [0.6898302602756897, 0.3101697397243103], 0.0, 'No Risk'], ['0_to_200', 9, 'all_credits_paid_back', 'car_used', 2732, 'less_100', '4_to_7', 3, 'female', 'none', 3, 'real_estate', 19, 'bank', 'rent', 1, 'unskilled', 1, 'none', 'yes', 2.0, 3.0, 1.0, 0.0, 0.0, 1.0, 2.0, 1.0, 2.0, 0.0, 2.0, 1.0, 0.0, [2.0, 3.0, 2.0, 0.0, 1.0, 1.0, 0.0, 2.0, 2.0, 1.0, 1.0, 0.0, 0.0, 9.0, 2732.0, 3.0, 3.0, 9.0, 19.0, 1.0, 1.0], [18.060514236799346, 1.9394857632006581], [0.9030257118399672, 0.0969742881600329], 0.0, 'No Risk'], ['less_0', 9, 'all_credits_paid_back', 'car_used', 250, 'less_100', 'less_1', 2, 'female', 'none', 3, 'savings_insurance', 25, 'none', 'rent', 1, 'skilled', 1, 'none', 'yes', 1.0, 3.0, 3.0, 0.0, 0.0, 1.0, 0.0, 0.0, 2.0, 0.0, 0.0, 1.0, 0.0, [1.0, 3.0, 2.0, 0.0, 3.0, 1.0, 0.0, 0.0, 0.0, 1.0, 0.0, 0.0, 0.0, 9.0, 250.0, 2.0, 3.0, 9.0, 25.0, 1.0, 1.0], [18.290470324562854, 1.70952967543714], [0.914523516228143, 0.08547648377185703], 0.0, 'No Risk'], ['less_0', 4, 'all_credits_paid_back', 'car_new', 250, 'less_100', 'unemployed', 1, 'female', 'none', 1, 'real_estate', 21, 'none', 'rent', 1, 'skilled', 1, 'none', 'yes', 1.0, 3.0, 4.0, 0.0, 0.0, 1.0, 0.0, 0.0, 0.0, 0.0, 2.0, 1.0, 0.0, [1.0, 3.0, 0.0, 0.0, 4.0, 1.0, 0.0, 2.0, 0.0, 1.0, 0.0, 0.0, 0.0, 4.0, 250.0, 1.0, 1.0, 4.0, 21.0, 1.0, 1.0], [19.73822260499371, 0.2617773950062894], [0.9869111302496855, 0.01308886975031447], 0.0, 'No Risk'], ['0_to_200', 18, 'credits_paid_to_date', 'retraining', 250, '500_to_1000', '1_to_4', 3, 'male', 'none', 2, 'real_estate', 32, 'bank', 'rent', 1, 'unskilled', 1, 'none', 'yes', 2.0, 1.0, 0.0, 2.0, 0.0, 1.0, 2.0, 1.0, 8.0, 0.0, 2.0, 0.0, 0.0, [2.0, 1.0, 8.0, 2.0, 0.0, 0.0, 0.0, 2.0, 2.0, 1.0, 1.0, 0.0, 0.0, 18.0, 250.0, 3.0, 2.0, 18.0, 32.0, 1.0, 1.0], [18.344415532865895, 1.6555844671341085], [0.9172207766432946, 0.08277922335670541], 0.0, 'No Risk'], ['less_0', 8, 'prior_payments_delayed', 'furniture', 3149, 'less_100', '1_to_4', 3, 'male', 'none', 3, 'car_other', 38, 'none', 'own', 2, 'skilled', 1, 'none', 'yes', 1.0, 0.0, 0.0, 0.0, 0.0, 0.0, 0.0, 0.0, 1.0, 0.0, 1.0, 0.0, 0.0, [21, [0, 2, 7, 13, 14, 15, 16, 17, 18, 19, 20], [1.0, 1.0, 1.0, 8.0, 3149.0, 3.0, 3.0, 8.0, 38.0, 2.0, 1.0]], [14.888302825067068, 5.111697174932932], [0.7444151412533534, 0.2555848587466466], 0.0, 'No Risk'], ['0_to_200', 25, 'outstanding_credit', 'radio_tv', 3916, 'unknown', 'greater_7', 4, 'male', 'none', 4, 'savings_insurance', 40, 'bank', 'own', 2, 'unskilled', 2, 'yes', 'yes', 2.0, 2.0, 2.0, 4.0, 0.0, 0.0, 2.0, 1.0, 3.0, 0.0, 0.0, 0.0, 1.0, [2.0, 2.0, 3.0, 4.0, 2.0, 0.0, 0.0, 0.0, 2.0, 0.0, 1.0, 1.0, 0.0, 25.0, 3916.0, 4.0, 4.0, 25.0, 40.0, 2.0, 2.0], [11.366202906424427, 8.633797093575573], [0.5683101453212214, 0.4316898546787787], 0.0, 'No Risk'], ['no_checking', 29, 'outstanding_credit', 'furniture', 5227, '500_to_1000', '1_to_4', 3, 'male', 'none', 3, 'car_other', 42, 'none', 'own', 1, 'skilled', 1, 'yes', 'yes', 0.0, 2.0, 0.0, 2.0, 0.0, 0.0, 0.0, 0.0, 1.0, 0.0, 1.0, 0.0, 1.0, [0.0, 2.0, 1.0, 2.0, 0.0, 0.0, 0.0, 1.0, 0.0, 0.0, 0.0, 1.0, 0.0, 29.0, 5227.0, 3.0, 3.0, 29.0, 42.0, 1.0, 1.0], [10.54422420761127, 9.45577579238873], [0.5272112103805635, 0.4727887896194365], 0.0, 'No Risk'], ['no_checking', 25, 'outstanding_credit', 'furniture', 2055, 'greater_1000', 'greater_7', 3, 'male', 'none', 4, 'unknown', 49, 'none', 'own', 1, 'skilled', 1, 'none', 'yes', 0.0, 2.0, 2.0, 3.0, 0.0, 0.0, 0.0, 0.0, 1.0, 0.0, 3.0, 0.0, 0.0, [0.0, 2.0, 1.0, 3.0, 2.0, 0.0, 0.0, 3.0, 0.0, 0.0, 0.0, 0.0, 0.0, 25.0, 2055.0, 3.0, 4.0, 25.0, 49.0, 1.0, 1.0], [8.649490471707503, 11.350509528292497], [0.4324745235853752, 0.5675254764146248], 1.0, 'Risk'], ['no_checking', 30, 'outstanding_credit', 'repairs', 7180, '500_to_1000', 'greater_7', 4, 'male', 'co-applicant', 5, 'car_other', 51, 'none', 'free', 2, 'skilled', 1, 'yes', 'yes', 0.0, 2.0, 2.0, 2.0, 0.0, 2.0, 0.0, 0.0, 5.0, 1.0, 1.0, 0.0, 1.0, [0.0, 2.0, 5.0, 2.0, 2.0, 0.0, 1.0, 1.0, 0.0, 2.0, 0.0, 1.0, 0.0, 30.0, 7180.0, 4.0, 5.0, 30.0, 51.0, 2.0, 1.0], [2.1498644004769605, 17.850135599523036], [0.10749322002384805, 0.8925067799761519], 1.0, 'Risk'], ['no_checking', 34, 'prior_payments_delayed', 'furniture', 8266, '500_to_1000', 'greater_7', 5, 'male', 'co-applicant', 5, 'unknown', 47, 'none', 'free', 2, 'skilled', 2, 'yes', 'yes', 0.0, 0.0, 2.0, 2.0, 0.0, 2.0, 0.0, 0.0, 1.0, 1.0, 3.0, 0.0, 1.0, [0.0, 0.0, 1.0, 2.0, 2.0, 0.0, 1.0, 3.0, 0.0, 2.0, 0.0, 1.0, 0.0, 34.0, 8266.0, 5.0, 5.0, 34.0, 47.0, 2.0, 2.0], [1.385332992253128, 18.614667007746874], [0.06926664961265638, 0.9307333503873435], 1.0, 'Risk'], ['no_checking', 24, 'outstanding_credit', 'radio_tv', 4246, '500_to_1000', '1_to_4', 2, 'male', 'none', 3, 'savings_insurance', 30, 'none', 'own', 1, 'skilled', 2, 'none', 'yes', 0.0, 2.0, 0.0, 2.0, 0.0, 0.0, 0.0, 0.0, 3.0, 0.0, 0.0, 0.0, 0.0, [21, [1, 2, 3, 13, 14, 15, 16, 17, 18, 19, 20], [2.0, 3.0, 2.0, 24.0, 4246.0, 2.0, 3.0, 24.0, 30.0, 1.0, 2.0]], [14.038456888927913, 5.961543111072086], [0.7019228444463956, 0.29807715555360426], 0.0, 'No Risk'], ['no_checking', 39, 'prior_payments_delayed', 'other', 6239, '500_to_1000', '1_to_4', 4, 'male', 'none', 3, 'savings_insurance', 39, 'none', 'own', 3, 'management_self-employed', 1, 'yes', 'yes', 0.0, 0.0, 0.0, 2.0, 0.0, 0.0, 0.0, 2.0, 10.0, 0.0, 0.0, 0.0, 1.0, [21, [2, 3, 10, 11, 13, 14, 15, 16, 17, 18, 19, 20], [10.0, 2.0, 2.0, 1.0, 39.0, 6239.0, 4.0, 3.0, 39.0, 39.0, 3.0, 1.0]], [11.405192776055182, 8.594807223944821], [0.570259638802759, 0.42974036119724096], 0.0, 'No Risk'], ['greater_200', 16, 'credits_paid_to_date', 'car_new', 4534, 'less_100', 'less_1', 3, 'female', 'co-applicant', 3, 'savings_insurance', 30, 'none', 'free', 1, 'skilled', 1, 'yes', 'yes', 3.0, 1.0, 3.0, 0.0, 0.0, 2.0, 0.0, 0.0, 0.0, 1.0, 0.0, 1.0, 1.0, [3.0, 1.0, 0.0, 0.0, 3.0, 1.0, 1.0, 0.0, 0.0, 2.0, 0.0, 1.0, 0.0, 16.0, 4534.0, 3.0, 3.0, 16.0, 30.0, 1.0, 1.0], [16.053117742698817, 3.9468822573011844], [0.8026558871349408, 0.1973441128650592], 0.0, 'No Risk'], ['no_checking', 29, 'outstanding_credit', 'furniture', 4994, 'unknown', '4_to_7', 3, 'male', 'none', 3, 'unknown', 50, 'bank', 'own', 2, 'unemployed', 1, 'yes', 'yes', 0.0, 2.0, 1.0, 4.0, 0.0, 0.0, 2.0, 3.0, 1.0, 0.0, 3.0, 0.0, 1.0, [0.0, 2.0, 1.0, 4.0, 1.0, 0.0, 0.0, 3.0, 2.0, 0.0, 3.0, 1.0, 0.0, 29.0, 4994.0, 3.0, 3.0, 29.0, 50.0, 2.0, 1.0], [8.993166876503356, 11.006833123496643], [0.4496583438251678, 0.5503416561748321], 1.0, 'Risk'], ['0_to_200', 10, 'credits_paid_to_date', 'furniture', 353, 'less_100', '4_to_7', 3, 'female', 'none', 2, 'real_estate', 30, 'none', 'own', 1, 'skilled', 1, 'none', 'yes', 2.0, 1.0, 1.0, 0.0, 0.0, 0.0, 0.0, 0.0, 1.0, 0.0, 2.0, 1.0, 0.0, [2.0, 1.0, 1.0, 0.0, 1.0, 1.0, 0.0, 2.0, 0.0, 0.0, 0.0, 0.0, 0.0, 10.0, 353.0, 3.0, 2.0, 10.0, 30.0, 1.0, 1.0], [18.714770710215284, 1.2852292897847193], [0.935738535510764, 0.06426146448923595], 0.0, 'No Risk'], ['greater_200', 40, 'outstanding_credit', 'appliances', 6569, 'unknown', 'greater_7', 5, 'male', 'co-applicant', 4, 'unknown', 48, 'none', 'free', 2, 'skilled', 1, 'yes', 'yes', 3.0, 2.0, 2.0, 4.0, 0.0, 2.0, 0.0, 0.0, 4.0, 1.0, 3.0, 0.0, 1.0, [3.0, 2.0, 4.0, 4.0, 2.0, 0.0, 1.0, 3.0, 0.0, 2.0, 0.0, 1.0, 0.0, 40.0, 6569.0, 5.0, 4.0, 40.0, 48.0, 2.0, 1.0], [3.446739539273037, 16.553260460726964], [0.17233697696365186, 0.8276630230363482], 1.0, 'Risk'], ['0_to_200', 4, 'all_credits_paid_back', 'car_used', 3167, 'less_100', '1_to_4', 3, 'female', 'none', 3, 'savings_insurance', 34, 'stores', 'own', 2, 'unskilled', 1, 'none', 'yes', 2.0, 3.0, 0.0, 0.0, 0.0, 0.0, 1.0, 1.0, 2.0, 0.0, 0.0, 1.0, 0.0, [2.0, 3.0, 2.0, 0.0, 0.0, 1.0, 0.0, 0.0, 1.0, 0.0, 1.0, 0.0, 0.0, 4.0, 3167.0, 3.0, 3.0, 4.0, 34.0, 2.0, 1.0], [14.795124211525765, 5.2048757884742365], [0.7397562105762883, 0.26024378942371185], 0.0, 'No Risk'], ['less_0', 4, 'credits_paid_to_date', 'car_used', 250, '500_to_1000', '1_to_4', 2, 'female', 'none', 2, 'real_estate', 28, 'none', 'own', 1, 'skilled', 1, 'none', 'yes', 1.0, 1.0, 0.0, 2.0, 0.0, 0.0, 0.0, 0.0, 2.0, 0.0, 2.0, 1.0, 0.0, [1.0, 1.0, 2.0, 2.0, 0.0, 1.0, 0.0, 2.0, 0.0, 0.0, 0.0, 0.0, 0.0, 4.0, 250.0, 2.0, 2.0, 4.0, 28.0, 1.0, 1.0], [19.308800437100142, 0.6911995628998554], [0.9654400218550073, 0.03455997814499277], 0.0, 'No Risk'], ['0_to_200', 31, 'prior_payments_delayed', 'car_used', 1995, '100_to_500', '1_to_4', 2, 'female', 'none', 3, 'car_other', 22, 'stores', 'own', 1, 'unskilled', 1, 'yes', 'yes', 2.0, 0.0, 0.0, 1.0, 0.0, 0.0, 1.0, 1.0, 2.0, 0.0, 1.0, 1.0, 1.0, [2.0, 0.0, 2.0, 1.0, 0.0, 1.0, 0.0, 1.0, 1.0, 0.0, 1.0, 1.0, 0.0, 31.0, 1995.0, 2.0, 3.0, 31.0, 22.0, 1.0, 1.0], [13.689566171426172, 6.310433828573828], [0.6844783085713086, 0.3155216914286914], 0.0, 'No Risk'], ['no_checking', 8, 'prior_payments_delayed', 'vacation', 1807, '500_to_1000', '1_to_4', 3, 'male', 'co-applicant', 4, 'real_estate', 45, 'none', 'own', 1, 'management_self-employed', 1, 'yes', 'yes', 0.0, 0.0, 0.0, 2.0, 0.0, 0.0, 0.0, 2.0, 6.0, 1.0, 2.0, 0.0, 1.0, [0.0, 0.0, 6.0, 2.0, 0.0, 0.0, 1.0, 2.0, 0.0, 0.0, 2.0, 1.0, 0.0, 8.0, 1807.0, 3.0, 4.0, 8.0, 45.0, 1.0, 1.0], [14.568173407232957, 5.431826592767042], [0.7284086703616478, 0.2715913296383521], 0.0, 'No Risk'], ['0_to_200', 22, 'credits_paid_to_date', 'car_new', 4137, '100_to_500', 'less_1', 3, 'male', 'none', 2, 'car_other', 41, 'none', 'own', 1, 'skilled', 1, 'yes', 'yes', 2.0, 1.0, 3.0, 1.0, 0.0, 0.0, 0.0, 0.0, 0.0, 0.0, 1.0, 0.0, 1.0, [2.0, 1.0, 0.0, 1.0, 3.0, 0.0, 0.0, 1.0, 0.0, 0.0, 0.0, 1.0, 0.0, 22.0, 4137.0, 3.0, 2.0, 22.0, 41.0, 1.0, 1.0], [15.831722713222497, 4.168277286777504], [0.7915861356611249, 0.20841386433887518], 0.0, 'No Risk'], ['no_checking', 19, 'outstanding_credit', 'education', 4597, '100_to_500', '4_to_7', 3, 'male', 'none', 4, 'unknown', 30, 'none', 'own', 2, 'skilled', 1, 'yes', 'yes', 0.0, 2.0, 1.0, 1.0, 0.0, 0.0, 0.0, 0.0, 7.0, 0.0, 3.0, 0.0, 1.0, [0.0, 2.0, 7.0, 1.0, 1.0, 0.0, 0.0, 3.0, 0.0, 0.0, 0.0, 1.0, 0.0, 19.0, 4597.0, 3.0, 4.0, 19.0, 30.0, 2.0, 1.0], [8.422330736562438, 11.577669263437564], [0.4211165368281219, 0.5788834631718782], 1.0, 'Risk'], ['0_to_200', 5, 'all_credits_paid_back', 'car_new', 2048, 'less_100', '1_to_4', 3, 'female', 'none', 2, 'savings_insurance', 19, 'none', 'own', 1, 'skilled', 1, 'none', 'yes', 2.0, 3.0, 0.0, 0.0, 0.0, 0.0, 0.0, 0.0, 0.0, 0.0, 0.0, 1.0, 0.0, [21, [0, 1, 5, 13, 14, 15, 16, 17, 18, 19, 20], [2.0, 3.0, 1.0, 5.0, 2048.0, 3.0, 2.0, 5.0, 19.0, 1.0, 1.0]], [18.23904788971877, 1.760952110281234], [0.9119523944859383, 0.08804760551406168], 0.0, 'No Risk'], ['0_to_200', 6, 'prior_payments_delayed', 'car_used', 1577, '500_to_1000', '4_to_7', 3, 'male', 'none', 2, 'car_other', 35, 'none', 'own', 1, 'skilled', 1, 'yes', 'yes', 2.0, 0.0, 1.0, 2.0, 0.0, 0.0, 0.0, 0.0, 2.0, 0.0, 1.0, 0.0, 1.0, [2.0, 0.0, 2.0, 2.0, 1.0, 0.0, 0.0, 1.0, 0.0, 0.0, 0.0, 1.0, 0.0, 6.0, 1577.0, 3.0, 2.0, 6.0, 35.0, 1.0, 1.0], [16.414848221287507, 3.5851517787124942], [0.8207424110643753, 0.1792575889356247], 0.0, 'No Risk'], ['no_checking', 36, 'outstanding_credit', 'repairs', 7886, '500_to_1000', 'greater_7', 4, 'male', 'co-applicant', 5, 'unknown', 50, 'none', 'free', 2, 'skilled', 1, 'yes', 'yes', 0.0, 2.0, 2.0, 2.0, 0.0, 2.0, 0.0, 0.0, 5.0, 1.0, 3.0, 0.0, 1.0, [0.0, 2.0, 5.0, 2.0, 2.0, 0.0, 1.0, 3.0, 0.0, 2.0, 0.0, 1.0, 0.0, 36.0, 7886.0, 4.0, 5.0, 36.0, 50.0, 2.0, 1.0], [1.359588214826685, 18.640411785173313], [0.06797941074133425, 0.9320205892586657], 1.0, 'Risk'], ['no_checking', 34, 'outstanding_credit', 'education', 6081, '500_to_1000', '4_to_7', 5, 'male', 'none', 5, 'unknown', 51, 'stores', 'own', 2, 'unskilled', 1, 'yes', 'yes', 0.0, 2.0, 1.0, 2.0, 0.0, 0.0, 1.0, 1.0, 7.0, 0.0, 3.0, 0.0, 1.0, [0.0, 2.0, 7.0, 2.0, 1.0, 0.0, 0.0, 3.0, 1.0, 0.0, 1.0, 1.0, 0.0, 34.0, 6081.0, 5.0, 5.0, 34.0, 51.0, 2.0, 1.0], [5.090791801449413, 14.909208198550584], [0.2545395900724707, 0.7454604099275293], 1.0, 'Risk'], ['no_checking', 42, 'outstanding_credit', 'repairs', 6938, 'greater_1000', 'greater_7', 4, 'male', 'co-applicant', 5, 'unknown', 50, 'bank', 'own', 2, 'unemployed', 2, 'yes', 'yes', 0.0, 2.0, 2.0, 3.0, 0.0, 0.0, 2.0, 3.0, 5.0, 1.0, 3.0, 0.0, 1.0, [0.0, 2.0, 5.0, 3.0, 2.0, 0.0, 1.0, 3.0, 2.0, 0.0, 3.0, 1.0, 0.0, 42.0, 6938.0, 4.0, 5.0, 42.0, 50.0, 2.0, 2.0], [4.2163799515109845, 15.783620048489016], [0.21081899757554923, 0.7891810024244508], 1.0, 'Risk'], ['no_checking', 13, 'credits_paid_to_date', 'repairs', 2008, 'greater_1000', '1_to_4', 3, 'male', 'none', 2, 'savings_insurance', 31, 'stores', 'rent', 1, 'unskilled', 1, 'none', 'yes', 0.0, 1.0, 0.0, 3.0, 0.0, 1.0, 1.0, 1.0, 5.0, 0.0, 0.0, 0.0, 0.0, [0.0, 1.0, 5.0, 3.0, 0.0, 0.0, 0.0, 0.0, 1.0, 1.0, 1.0, 0.0, 0.0, 13.0, 2008.0, 3.0, 2.0, 13.0, 31.0, 1.0, 1.0], [17.126958250827236, 2.8730417491727605], [0.856347912541362, 0.14365208745863806], 0.0, 'No Risk'], ['0_to_200', 8, 'all_credits_paid_back', 'car_new', 250, 'less_100', '1_to_4', 3, 'female', 'co-applicant', 1, 'savings_insurance', 25, 'bank', 'own', 1, 'unemployed', 1, 'yes', 'yes', 2.0, 3.0, 0.0, 0.0, 0.0, 0.0, 2.0, 3.0, 0.0, 1.0, 0.0, 1.0, 1.0, [2.0, 3.0, 0.0, 0.0, 0.0, 1.0, 1.0, 0.0, 2.0, 0.0, 3.0, 1.0, 0.0, 8.0, 250.0, 3.0, 1.0, 8.0, 25.0, 1.0, 1.0], [18.047676770801054, 1.9523232291989459], [0.9023838385400527, 0.0976161614599473], 0.0, 'No Risk'], ['less_0', 4, 'credits_paid_to_date', 'car_new', 250, 'less_100', '1_to_4', 2, 'female', 'none', 3, 'savings_insurance', 19, 'none', 'rent', 1, 'skilled', 1, 'none', 'yes', 1.0, 1.0, 0.0, 0.0, 0.0, 1.0, 0.0, 0.0, 0.0, 0.0, 0.0, 1.0, 0.0, [21, [0, 1, 5, 9, 13, 14, 15, 16, 17, 18, 19, 20], [1.0, 1.0, 1.0, 1.0, 4.0, 250.0, 2.0, 3.0, 4.0, 19.0, 1.0, 1.0]], [17.14496715710228, 2.8550328428977183], [0.8572483578551141, 0.14275164214488595], 0.0, 'No Risk'], ['0_to_200', 6, 'prior_payments_delayed', 'car_used', 2136, '100_to_500', '4_to_7', 3, 'female', 'none', 3, 'real_estate', 28, 'none', 'own', 1, 'skilled', 1, 'none', 'yes', 2.0, 0.0, 1.0, 1.0, 0.0, 0.0, 0.0, 0.0, 2.0, 0.0, 2.0, 1.0, 0.0, [2.0, 0.0, 2.0, 1.0, 1.0, 1.0, 0.0, 2.0, 0.0, 0.0, 0.0, 0.0, 0.0, 6.0, 2136.0, 3.0, 3.0, 6.0, 28.0, 1.0, 1.0], [17.32771024865806, 2.6722897513419395], [0.8663855124329031, 0.13361448756709698], 0.0, 'No Risk'], ['no_checking', 38, 'prior_payments_delayed', 'repairs', 7025, '500_to_1000', '4_to_7', 5, 'male', 'none', 5, 'savings_insurance', 48, 'none', 'free', 2, 'management_self-employed', 1, 'none', 'yes', 0.0, 0.0, 1.0, 2.0, 0.0, 2.0, 0.0, 2.0, 5.0, 0.0, 0.0, 0.0, 0.0, [0.0, 0.0, 5.0, 2.0, 1.0, 0.0, 0.0, 0.0, 0.0, 2.0, 2.0, 0.0, 0.0, 38.0, 7025.0, 5.0, 5.0, 38.0, 48.0, 2.0, 1.0], [8.37082270931536, 11.629177290684638], [0.41854113546576804, 0.5814588645342319], 1.0, 'Risk'], ['less_0', 8, 'prior_payments_delayed', 'car_used', 1251, 'less_100', '1_to_4', 1, 'female', 'none', 2, 'savings_insurance', 35, 'none', 'own', 1, 'skilled', 1, 'none', 'yes', 1.0, 0.0, 0.0, 0.0, 0.0, 0.0, 0.0, 0.0, 2.0, 0.0, 0.0, 1.0, 0.0, [21, [0, 2, 5, 13, 14, 15, 16, 17, 18, 19, 20], [1.0, 2.0, 1.0, 8.0, 1251.0, 1.0, 2.0, 8.0, 35.0, 1.0, 1.0]], [17.088165176679794, 2.911834823320201], [0.8544082588339899, 0.1455917411660101], 0.0, 'No Risk'], ['less_0', 12, 'prior_payments_delayed', 'car_new', 2061, '100_to_500', '1_to_4', 1, 'female', 'none', 2, 'car_other', 40, 'bank', 'rent', 2, 'unemployed', 1, 'none', 'yes', 1.0, 0.0, 0.0, 1.0, 0.0, 1.0, 2.0, 3.0, 0.0, 0.0, 1.0, 1.0, 0.0, [1.0, 0.0, 0.0, 1.0, 0.0, 1.0, 0.0, 1.0, 2.0, 1.0, 3.0, 0.0, 0.0, 12.0, 2061.0, 1.0, 2.0, 12.0, 40.0, 2.0, 1.0], [15.358134343727754, 4.641865656272245], [0.7679067171863877, 0.23209328281361224], 0.0, 'No Risk'], ['less_0', 9, 'prior_payments_delayed', 'furniture', 250, '500_to_1000', '4_to_7', 2, 'male', 'none', 1, 'savings_insurance', 22, 'stores', 'rent', 1, 'skilled', 1, 'none', 'yes', 1.0, 0.0, 1.0, 2.0, 0.0, 1.0, 1.0, 0.0, 1.0, 0.0, 0.0, 0.0, 0.0, [1.0, 0.0, 1.0, 2.0, 1.0, 0.0, 0.0, 0.0, 1.0, 1.0, 0.0, 0.0, 0.0, 9.0, 250.0, 2.0, 1.0, 9.0, 22.0, 1.0, 1.0], [18.2314586421612, 1.7685413578387987], [0.91157293210806, 0.08842706789193994], 0.0, 'No Risk'], ['greater_200', 26, 'credits_paid_to_date', 'car_used', 3939, '100_to_500', 'greater_7', 4, 'female', 'none', 3, 'unknown', 48, 'none', 'own', 2, 'skilled', 2, 'yes', 'yes', 3.0, 1.0, 2.0, 1.0, 0.0, 0.0, 0.0, 0.0, 2.0, 0.0, 3.0, 1.0, 1.0, [3.0, 1.0, 2.0, 1.0, 2.0, 1.0, 0.0, 3.0, 0.0, 0.0, 0.0, 1.0, 0.0, 26.0, 3939.0, 4.0, 3.0, 26.0, 48.0, 2.0, 2.0], [7.40134869451862, 12.598651305481383], [0.37006743472593095, 0.629932565274069], 1.0, 'Risk'], ['no_checking', 27, 'prior_payments_delayed', 'car_used', 5276, 'unknown', 'greater_7', 4, 'male', 'none', 4, 'savings_insurance', 44, 'none', 'free', 2, 'skilled', 1, 'none', 'yes', 0.0, 0.0, 2.0, 4.0, 0.0, 2.0, 0.0, 0.0, 2.0, 0.0, 0.0, 0.0, 0.0, [21, [2, 3, 4, 9, 13, 14, 15, 16, 17, 18, 19, 20], [2.0, 4.0, 2.0, 2.0, 27.0, 5276.0, 4.0, 4.0, 27.0, 44.0, 2.0, 1.0]], [10.303212338950898, 9.696787661049102], [0.5151606169475449, 0.4848393830524551], 0.0, 'No Risk'], ['greater_200', 25, 'credits_paid_to_date', 'car_used', 2840, '100_to_500', '1_to_4', 3, 'male', 'none', 4, 'car_other', 39, 'none', 'own', 2, 'skilled', 1, 'none', 'yes', 3.0, 1.0, 0.0, 1.0, 0.0, 0.0, 0.0, 0.0, 2.0, 0.0, 1.0, 0.0, 0.0, [3.0, 1.0, 2.0, 1.0, 0.0, 0.0, 0.0, 1.0, 0.0, 0.0, 0.0, 0.0, 0.0, 25.0, 2840.0, 3.0, 4.0, 25.0, 39.0, 2.0, 1.0], [12.644332838734547, 7.355667161265453], [0.6322166419367273, 0.36778335806327267], 0.0, 'No Risk'], ['0_to_200', 15, 'prior_payments_delayed', 'radio_tv', 1059, '100_to_500', '4_to_7', 3, 'male', 'none', 3, 'car_other', 41, 'none', 'own', 1, 'skilled', 1, 'yes', 'yes', 2.0, 0.0, 1.0, 1.0, 0.0, 0.0, 0.0, 0.0, 3.0, 0.0, 1.0, 0.0, 1.0, [2.0, 0.0, 3.0, 1.0, 1.0, 0.0, 0.0, 1.0, 0.0, 0.0, 0.0, 1.0, 0.0, 15.0, 1059.0, 3.0, 3.0, 15.0, 41.0, 1.0, 1.0], [13.996266266164284, 6.003733733835716], [0.6998133133082142, 0.30018668669178583], 0.0, 'No Risk'], ['0_to_200', 21, 'credits_paid_to_date', 'furniture', 2810, '500_to_1000', 'less_1', 1, 'male', 'none', 1, 'car_other', 33, 'stores', 'own', 1, 'skilled', 1, 'none', 'yes', 2.0, 1.0, 3.0, 2.0, 0.0, 0.0, 1.0, 0.0, 1.0, 0.0, 1.0, 0.0, 0.0, [2.0, 1.0, 1.0, 2.0, 3.0, 0.0, 0.0, 1.0, 1.0, 0.0, 0.0, 0.0, 0.0, 21.0, 2810.0, 1.0, 1.0, 21.0, 33.0, 1.0, 1.0], [16.570639369463937, 3.4293606305360624], [0.8285319684731969, 0.17146803152680312], 0.0, 'No Risk'], ['0_to_200', 16, 'credits_paid_to_date', 'car_used', 3814, '500_to_1000', '1_to_4', 3, 'male', 'co-applicant', 3, 'car_other', 37, 'bank', 'rent', 1, 'unskilled', 1, 'none', 'yes', 2.0, 1.0, 0.0, 2.0, 0.0, 1.0, 2.0, 1.0, 2.0, 1.0, 1.0, 0.0, 0.0, [2.0, 1.0, 2.0, 2.0, 0.0, 0.0, 1.0, 1.0, 2.0, 1.0, 1.0, 0.0, 0.0, 16.0, 3814.0, 3.0, 3.0, 16.0, 37.0, 1.0, 1.0], [14.690910769835467, 5.309089230164535], [0.7345455384917734, 0.2654544615082267], 0.0, 'No Risk'], ['0_to_200', 17, 'credits_paid_to_date', 'car_used', 1799, '500_to_1000', '1_to_4', 2, 'male', 'none', 3, 'car_other', 32, 'bank', 'rent', 1, 'unemployed', 1, 'none', 'yes', 2.0, 1.0, 0.0, 2.0, 0.0, 1.0, 2.0, 3.0, 2.0, 0.0, 1.0, 0.0, 0.0, [2.0, 1.0, 2.0, 2.0, 0.0, 0.0, 0.0, 1.0, 2.0, 1.0, 3.0, 0.0, 0.0, 17.0, 1799.0, 2.0, 3.0, 17.0, 32.0, 1.0, 1.0], [15.326323162348864, 4.673676837651139], [0.766316158117443, 0.23368384188255692], 0.0, 'No Risk'], ['less_0', 4, 'all_credits_paid_back', 'repairs', 250, 'less_100', 'unemployed', 1, 'female', 'none', 1, 'real_estate', 19, 'stores', 'own', 1, 'skilled', 1, 'none', 'yes', 1.0, 3.0, 4.0, 0.0, 0.0, 0.0, 1.0, 0.0, 5.0, 0.0, 2.0, 1.0, 0.0, [1.0, 3.0, 5.0, 0.0, 4.0, 1.0, 0.0, 2.0, 1.0, 0.0, 0.0, 0.0, 0.0, 4.0, 250.0, 1.0, 1.0, 4.0, 19.0, 1.0, 1.0], [19.643931049207378, 0.35606895079262024], [0.9821965524603689, 0.017803447539631014], 0.0, 'No Risk'], ['no_checking', 21, 'outstanding_credit', 'appliances', 5092, 'unknown', 'greater_7', 3, 'male', 'guarantor', 5, 'unknown', 67, 'bank', 'own', 2, 'unemployed', 2, 'yes', 'yes', 0.0, 2.0, 2.0, 4.0, 0.0, 0.0, 2.0, 3.0, 4.0, 2.0, 3.0, 0.0, 1.0, [0.0, 2.0, 4.0, 4.0, 2.0, 0.0, 2.0, 3.0, 2.0, 0.0, 3.0, 1.0, 0.0, 21.0, 5092.0, 3.0, 5.0, 21.0, 67.0, 2.0, 2.0], [7.207675864019014, 12.79232413598099], [0.3603837932009506, 0.6396162067990494], 1.0, 'Risk'], ['less_0', 17, 'credits_paid_to_date', 'furniture', 3092, 'less_100', 'less_1', 3, 'male', 'none', 2, 'real_estate', 29, 'none', 'own', 2, 'skilled', 1, 'none', 'yes', 1.0, 1.0, 3.0, 0.0, 0.0, 0.0, 0.0, 0.0, 1.0, 0.0, 2.0, 0.0, 0.0, [1.0, 1.0, 1.0, 0.0, 3.0, 0.0, 0.0, 2.0, 0.0, 0.0, 0.0, 0.0, 0.0, 17.0, 3092.0, 3.0, 2.0, 17.0, 29.0, 2.0, 1.0], [18.05423074674988, 1.9457692532501196], [0.902711537337494, 0.09728846266250599], 0.0, 'No Risk'], ['no_checking', 31, 'outstanding_credit', 'furniture', 5025, '500_to_1000', 'greater_7', 5, 'male', 'co-applicant', 4, 'unknown', 49, 'stores', 'own', 2, 'unskilled', 2, 'yes', 'yes', 0.0, 2.0, 2.0, 2.0, 0.0, 0.0, 1.0, 1.0, 1.0, 1.0, 3.0, 0.0, 1.0, [0.0, 2.0, 1.0, 2.0, 2.0, 0.0, 1.0, 3.0, 1.0, 0.0, 1.0, 1.0, 0.0, 31.0, 5025.0, 5.0, 4.0, 31.0, 49.0, 2.0, 2.0], [3.1332574213304136, 16.866742578669587], [0.1566628710665207, 0.8433371289334793], 1.0, 'Risk'], ['no_checking', 49, 'outstanding_credit', 'radio_tv', 8089, 'greater_1000', 'greater_7', 5, 'male', 'co-applicant', 5, 'unknown', 48, 'stores', 'free', 2, 'unemployed', 2, 'yes', 'yes', 0.0, 2.0, 2.0, 3.0, 0.0, 2.0, 1.0, 3.0, 3.0, 1.0, 3.0, 0.0, 1.0, [0.0, 2.0, 3.0, 3.0, 2.0, 0.0, 1.0, 3.0, 1.0, 2.0, 3.0, 1.0, 0.0, 49.0, 8089.0, 5.0, 5.0, 49.0, 48.0, 2.0, 2.0], [2.9127832308480706, 17.08721676915193], [0.14563916154240353, 0.8543608384575965], 1.0, 'Risk'], ['0_to_200', 10, 'credits_paid_to_date', 'appliances', 5787, 'less_100', 'less_1', 3, 'female', 'none', 2, 'savings_insurance', 21, 'none', 'own', 1, 'management_self-employed', 1, 'none', 'yes', 2.0, 1.0, 3.0, 0.0, 0.0, 0.0, 0.0, 2.0, 4.0, 0.0, 0.0, 1.0, 0.0, [2.0, 1.0, 4.0, 0.0, 3.0, 1.0, 0.0, 0.0, 0.0, 0.0, 2.0, 0.0, 0.0, 10.0, 5787.0, 3.0, 2.0, 10.0, 21.0, 1.0, 1.0], [18.773151062625672, 1.2268489373743283], [0.9386575531312836, 0.06134244686871641], 0.0, 'No Risk'], ['less_0', 4, 'credits_paid_to_date', 'car_new', 250, '100_to_500', '1_to_4', 2, 'male', 'none', 3, 'savings_insurance', 21, 'bank', 'rent', 1, 'unskilled', 1, 'none', 'yes', 1.0, 1.0, 0.0, 1.0, 0.0, 1.0, 2.0, 1.0, 0.0, 0.0, 0.0, 0.0, 0.0, [1.0, 1.0, 0.0, 1.0, 0.0, 0.0, 0.0, 0.0, 2.0, 1.0, 1.0, 0.0, 0.0, 4.0, 250.0, 2.0, 3.0, 4.0, 21.0, 1.0, 1.0], [16.872963045292636, 3.1270369547073638], [0.8436481522646317, 0.1563518477353682], 0.0, 'No Risk'], ['no_checking', 27, 'prior_payments_delayed', 'appliances', 7155, '100_to_500', '1_to_4', 4, 'male', 'none', 4, 'car_other', 45, 'none', 'own', 1, 'management_self-employed', 1, 'none', 'yes', 0.0, 0.0, 0.0, 1.0, 0.0, 0.0, 0.0, 2.0, 4.0, 0.0, 1.0, 0.0, 0.0, [21, [2, 3, 7, 10, 13, 14, 15, 16, 17, 18, 19, 20], [4.0, 1.0, 1.0, 2.0, 27.0, 7155.0, 4.0, 4.0, 27.0, 45.0, 1.0, 1.0]], [11.014957028789787, 8.985042971210213], [0.5507478514394893, 0.44925214856051066], 0.0, 'No Risk'], ['no_checking', 31, 'prior_payments_delayed', 'appliances', 6077, '500_to_1000', 'greater_7', 3, 'male', 'none', 2, 'unknown', 52, 'none', 'free', 2, 'skilled', 1, 'none', 'yes', 0.0, 0.0, 2.0, 2.0, 0.0, 2.0, 0.0, 0.0, 4.0, 0.0, 3.0, 0.0, 0.0, [0.0, 0.0, 4.0, 2.0, 2.0, 0.0, 0.0, 3.0, 0.0, 2.0, 0.0, 0.0, 0.0, 31.0, 6077.0, 3.0, 2.0, 31.0, 52.0, 2.0, 1.0], [6.4620869387216135, 13.537913061278386], [0.3231043469360807, 0.6768956530639193], 1.0, 'Risk'], ['no_checking', 36, 'outstanding_credit', 'other', 8626, '500_to_1000', 'greater_7', 5, 'male', 'guarantor', 5, 'unknown', 59, 'none', 'free', 2, 'skilled', 1, 'yes', 'yes', 0.0, 2.0, 2.0, 2.0, 0.0, 2.0, 0.0, 0.0, 10.0, 2.0, 3.0, 0.0, 1.0, [0.0, 2.0, 10.0, 2.0, 2.0, 0.0, 2.0, 3.0, 0.0, 2.0, 0.0, 1.0, 0.0, 36.0, 8626.0, 5.0, 5.0, 36.0, 59.0, 2.0, 1.0], [1.9409901309981774, 18.059009869001823], [0.09704950654990888, 0.9029504934500912], 1.0, 'Risk'], ['no_checking', 43, 'outstanding_credit', 'education', 8462, 'greater_1000', 'greater_7', 6, 'male', 'co-applicant', 3, 'unknown', 52, 'none', 'own', 2, 'skilled', 2, 'yes', 'yes', 0.0, 2.0, 2.0, 3.0, 0.0, 0.0, 0.0, 0.0, 7.0, 1.0, 3.0, 0.0, 1.0, [0.0, 2.0, 7.0, 3.0, 2.0, 0.0, 1.0, 3.0, 0.0, 0.0, 0.0, 1.0, 0.0, 43.0, 8462.0, 6.0, 3.0, 43.0, 52.0, 2.0, 2.0], [2.9033064324883666, 17.096693567511632], [0.14516532162441834, 0.8548346783755816], 1.0, 'Risk'], ['greater_200', 38, 'prior_payments_delayed', 'appliances', 3996, '100_to_500', 'less_1', 4, 'male', 'none', 3, 'car_other', 32, 'none', 'own', 1, 'skilled', 1, 'yes', 'yes', 3.0, 0.0, 3.0, 1.0, 0.0, 0.0, 0.0, 0.0, 4.0, 0.0, 1.0, 0.0, 1.0, [3.0, 0.0, 4.0, 1.0, 3.0, 0.0, 0.0, 1.0, 0.0, 0.0, 0.0, 1.0, 0.0, 38.0, 3996.0, 4.0, 3.0, 38.0, 32.0, 1.0, 1.0], [13.077034986327726, 6.922965013672277], [0.6538517493163862, 0.34614825068361377], 0.0, 'No Risk'], ['no_checking', 12, 'credits_paid_to_date', 'furniture', 2779, '100_to_500', 'less_1', 3, 'male', 'none', 2, 'savings_insurance', 25, 'none', 'own', 1, 'skilled', 1, 'none', 'yes', 0.0, 1.0, 3.0, 1.0, 0.0, 0.0, 0.0, 0.0, 1.0, 0.0, 0.0, 0.0, 0.0, [21, [1, 2, 3, 4, 13, 14, 15, 16, 17, 18, 19, 20], [1.0, 1.0, 1.0, 3.0, 12.0, 2779.0, 3.0, 2.0, 12.0, 25.0, 1.0, 1.0]], [18.012179382881367, 1.9878206171186337], [0.9006089691440684, 0.09939103085593168], 0.0, 'No Risk'], ['no_checking', 40, 'credits_paid_to_date', 'vacation', 3066, '100_to_500', 'less_1', 2, 'male', 'none', 2, 'real_estate', 29, 'none', 'own', 2, 'skilled', 2, 'none', 'yes', 0.0, 1.0, 3.0, 1.0, 0.0, 0.0, 0.0, 0.0, 6.0, 0.0, 2.0, 0.0, 0.0, [0.0, 1.0, 6.0, 1.0, 3.0, 0.0, 0.0, 2.0, 0.0, 0.0, 0.0, 0.0, 0.0, 40.0, 3066.0, 2.0, 2.0, 40.0, 29.0, 2.0, 2.0], [15.218382600415524, 4.781617399584478], [0.7609191300207762, 0.2390808699792239], 0.0, 'No Risk'], ['no_checking', 37, 'prior_payments_delayed', 'repairs', 6431, 'unknown', '4_to_7', 3, 'male', 'none', 3, 'unknown', 55, 'none', 'own', 2, 'skilled', 2, 'none', 'yes', 0.0, 0.0, 1.0, 4.0, 0.0, 0.0, 0.0, 0.0, 5.0, 0.0, 3.0, 0.0, 0.0, [21, [2, 3, 4, 7, 13, 14, 15, 16, 17, 18, 19, 20], [5.0, 4.0, 1.0, 3.0, 37.0, 6431.0, 3.0, 3.0, 37.0, 55.0, 2.0, 2.0]], [7.054219815279335, 12.945780184720668], [0.3527109907639667, 0.6472890092360333], 1.0, 'Risk'], ['no_checking', 34, 'credits_paid_to_date', 'car_used', 5050, 'greater_1000', '4_to_7', 3, 'male', 'guarantor', 3, 'car_other', 53, 'none', 'free', 2, 'skilled', 2, 'yes', 'yes', 0.0, 1.0, 1.0, 3.0, 0.0, 2.0, 0.0, 0.0, 2.0, 2.0, 1.0, 0.0, 1.0, [0.0, 1.0, 2.0, 3.0, 1.0, 0.0, 2.0, 1.0, 0.0, 2.0, 0.0, 1.0, 0.0, 34.0, 5050.0, 3.0, 3.0, 34.0, 53.0, 2.0, 2.0], [5.58587332156785, 14.414126678432151], [0.2792936660783925, 0.7207063339216075], 1.0, 'Risk'], ['0_to_200', 14, 'credits_paid_to_date', 'vacation', 1112, 'less_100', 'less_1', 3, 'female', 'none', 3, 'savings_insurance', 19, 'bank', 'own', 1, 'unemployed', 1, 'none', 'yes', 2.0, 1.0, 3.0, 0.0, 0.0, 0.0, 2.0, 3.0, 6.0, 0.0, 0.0, 1.0, 0.0, [2.0, 1.0, 6.0, 0.0, 3.0, 1.0, 0.0, 0.0, 2.0, 0.0, 3.0, 0.0, 0.0, 14.0, 1112.0, 3.0, 3.0, 14.0, 19.0, 1.0, 1.0], [17.756770332343756, 2.243229667656245], [0.8878385166171878, 0.11216148338281225], 0.0, 'No Risk'], ['less_0', 12, 'credits_paid_to_date', 'furniture', 1135, 'less_100', '1_to_4', 3, 'female', 'none', 3, 'car_other', 31, 'none', 'own', 1, 'skilled', 1, 'none', 'yes', 1.0, 1.0, 0.0, 0.0, 0.0, 0.0, 0.0, 0.0, 1.0, 0.0, 1.0, 1.0, 0.0, [1.0, 1.0, 1.0, 0.0, 0.0, 1.0, 0.0, 1.0, 0.0, 0.0, 0.0, 0.0, 0.0, 12.0, 1135.0, 3.0, 3.0, 12.0, 31.0, 1.0, 1.0], [16.069766765217892, 3.930233234782106], [0.8034883382608946, 0.1965116617391053], 0.0, 'No Risk'], ['less_0', 17, 'credits_paid_to_date', 'repairs', 1757, 'less_100', 'less_1', 3, 'female', 'none', 3, 'savings_insurance', 22, 'bank', 'rent', 1, 'unskilled', 1, 'none', 'yes', 1.0, 1.0, 3.0, 0.0, 0.0, 1.0, 2.0, 1.0, 5.0, 0.0, 0.0, 1.0, 0.0, [1.0, 1.0, 5.0, 0.0, 3.0, 1.0, 0.0, 0.0, 2.0, 1.0, 1.0, 0.0, 0.0, 17.0, 1757.0, 3.0, 3.0, 17.0, 22.0, 1.0, 1.0], [17.765307579200645, 2.234692420799352], [0.8882653789600324, 0.11173462103996763], 0.0, 'No Risk'], ['0_to_200', 14, 'all_credits_paid_back', 'car_used', 733, 'less_100', 'unemployed', 2, 'female', 'co-applicant', 3, 'real_estate', 34, 'bank', 'own', 1, 'unskilled', 1, 'none', 'yes', 2.0, 3.0, 4.0, 0.0, 0.0, 0.0, 2.0, 1.0, 2.0, 1.0, 2.0, 1.0, 0.0, [2.0, 3.0, 2.0, 0.0, 4.0, 1.0, 1.0, 2.0, 2.0, 0.0, 1.0, 0.0, 0.0, 14.0, 733.0, 2.0, 3.0, 14.0, 34.0, 1.0, 1.0], [18.84555002116227, 1.1544499788377254], [0.9422775010581137, 0.05772249894188628], 0.0, 'No Risk'], ['0_to_200', 27, 'outstanding_credit', 'education', 4354, '100_to_500', '4_to_7', 3, 'male', 'none', 3, 'car_other', 33, 'bank', 'own', 2, 'unskilled', 2, 'yes', 'yes', 2.0, 2.0, 1.0, 1.0, 0.0, 0.0, 2.0, 1.0, 7.0, 0.0, 1.0, 0.0, 1.0, [2.0, 2.0, 7.0, 1.0, 1.0, 0.0, 0.0, 1.0, 2.0, 0.0, 1.0, 1.0, 0.0, 27.0, 4354.0, 3.0, 3.0, 27.0, 33.0, 2.0, 2.0], [11.427804816831284, 8.572195183168713], [0.5713902408415643, 0.42860975915843574], 0.0, 'No Risk'], ['no_checking', 26, 'prior_payments_delayed', 'car_used', 4027, '100_to_500', '4_to_7', 4, 'male', 'none', 2, 'savings_insurance', 45, 'stores', 'free', 2, 'unskilled', 1, 'yes', 'yes', 0.0, 0.0, 1.0, 1.0, 0.0, 2.0, 1.0, 1.0, 2.0, 0.0, 0.0, 0.0, 1.0, [0.0, 0.0, 2.0, 1.0, 1.0, 0.0, 0.0, 0.0, 1.0, 2.0, 1.0, 1.0, 0.0, 26.0, 4027.0, 4.0, 2.0, 26.0, 45.0, 2.0, 1.0], [10.750486468787328, 9.249513531212674], [0.5375243234393664, 0.4624756765606337], 0.0, 'No Risk'], ['no_checking', 26, 'prior_payments_delayed', 'car_used', 5783, '100_to_500', '1_to_4', 4, 'male', 'guarantor', 5, 'savings_insurance', 56, 'none', 'free', 2, 'skilled', 2, 'yes', 'yes', 0.0, 0.0, 0.0, 1.0, 0.0, 2.0, 0.0, 0.0, 2.0, 2.0, 0.0, 0.0, 1.0, [0.0, 0.0, 2.0, 1.0, 0.0, 0.0, 2.0, 0.0, 0.0, 2.0, 0.0, 1.0, 0.0, 26.0, 5783.0, 4.0, 5.0, 26.0, 56.0, 2.0, 2.0], [8.646325228772634, 11.353674771227368], [0.43231626143863167, 0.5676837385613684], 1.0, 'Risk'], ['less_0', 8, 'no_credits', 'car_new', 542, 'less_100', 'less_1', 1, 'female', 'none', 2, 'savings_insurance', 23, 'bank', 'rent', 1, 'unskilled', 1, 'none', 'yes', 1.0, 4.0, 3.0, 0.0, 0.0, 1.0, 2.0, 1.0, 0.0, 0.0, 0.0, 1.0, 0.0, [1.0, 4.0, 0.0, 0.0, 3.0, 1.0, 0.0, 0.0, 2.0, 1.0, 1.0, 0.0, 0.0, 8.0, 542.0, 1.0, 2.0, 8.0, 23.0, 1.0, 1.0], [19.426082668760277, 0.5739173312397212], [0.971304133438014, 0.028695866561986066], 0.0, 'No Risk'], ['0_to_200', 33, 'prior_payments_delayed', 'appliances', 5230, '100_to_500', '4_to_7', 3, 'male', 'none', 2, 'car_other', 35, 'none', 'free', 3, 'skilled', 1, 'yes', 'yes', 2.0, 0.0, 1.0, 1.0, 0.0, 2.0, 0.0, 0.0, 4.0, 0.0, 1.0, 0.0, 1.0, [2.0, 0.0, 4.0, 1.0, 1.0, 0.0, 0.0, 1.0, 0.0, 2.0, 0.0, 1.0, 0.0, 33.0, 5230.0, 3.0, 2.0, 33.0, 35.0, 3.0, 1.0], [12.319429459608047, 7.680570540391952], [0.6159714729804023, 0.3840285270195976], 0.0, 'No Risk'], ['no_checking', 26, 'prior_payments_delayed', 'education', 5729, '100_to_500', '4_to_7', 3, 'male', 'none', 3, 'car_other', 47, 'none', 'own', 2, 'management_self-employed', 1, 'none', 'yes', 0.0, 0.0, 1.0, 1.0, 0.0, 0.0, 0.0, 2.0, 7.0, 0.0, 1.0, 0.0, 0.0, [0.0, 0.0, 7.0, 1.0, 1.0, 0.0, 0.0, 1.0, 0.0, 0.0, 2.0, 0.0, 0.0, 26.0, 5729.0, 3.0, 3.0, 26.0, 47.0, 2.0, 1.0], [10.116829365009393, 9.883170634990607], [0.5058414682504696, 0.4941585317495304], 0.0, 'No Risk'], ['no_checking', 26, 'prior_payments_delayed', 'car_used', 3836, 'unknown', 'greater_7', 4, 'male', 'none', 3, 'savings_insurance', 44, 'none', 'own', 2, 'skilled', 1, 'none', 'yes', 0.0, 0.0, 2.0, 4.0, 0.0, 0.0, 0.0, 0.0, 2.0, 0.0, 0.0, 0.0, 0.0, [21, [2, 3, 4, 13, 14, 15, 16, 17, 18, 19, 20], [2.0, 4.0, 2.0, 26.0, 3836.0, 4.0, 3.0, 26.0, 44.0, 2.0, 1.0]], [10.52440851011219, 9.47559148988781], [0.5262204255056095, 0.4737795744943905], 0.0, 'No Risk'], ['less_0', 4, 'credits_paid_to_date', 'car_new', 250, 'less_100', 'less_1', 1, 'male', 'none', 2, 'real_estate', 28, 'none', 'rent', 1, 'skilled', 1, 'none', 'yes', 1.0, 1.0, 3.0, 0.0, 0.0, 1.0, 0.0, 0.0, 0.0, 0.0, 2.0, 0.0, 0.0, [1.0, 1.0, 0.0, 0.0, 3.0, 0.0, 0.0, 2.0, 0.0, 1.0, 0.0, 0.0, 0.0, 4.0, 250.0, 1.0, 2.0, 4.0, 28.0, 1.0, 1.0], [19.617106964102295, 0.3828930358977062], [0.9808553482051148, 0.01914465179488531], 0.0, 'No Risk'], ['0_to_200', 4, 'all_credits_paid_back', 'car_new', 268, 'less_100', '1_to_4', 2, 'female', 'none', 3, 'real_estate', 44, 'none', 'own', 1, 'skilled', 1, 'none', 'yes', 2.0, 3.0, 0.0, 0.0, 0.0, 0.0, 0.0, 0.0, 0.0, 0.0, 2.0, 1.0, 0.0, [21, [0, 1, 5, 7, 13, 14, 15, 16, 17, 18, 19, 20], [2.0, 3.0, 1.0, 2.0, 4.0, 268.0, 2.0, 3.0, 4.0, 44.0, 1.0, 1.0]], [17.8161941471517, 2.1838058528483004], [0.8908097073575849, 0.10919029264241502], 0.0, 'No Risk'], ['no_checking', 30, 'outstanding_credit', 'repairs', 9015, '500_to_1000', 'greater_7', 5, 'male', 'co-applicant', 4, 'unknown', 57, 'none', 'free', 2, 'skilled', 1, 'yes', 'yes', 0.0, 2.0, 2.0, 2.0, 0.0, 2.0, 0.0, 0.0, 5.0, 1.0, 3.0, 0.0, 1.0, [0.0, 2.0, 5.0, 2.0, 2.0, 0.0, 1.0, 3.0, 0.0, 2.0, 0.0, 1.0, 0.0, 30.0, 9015.0, 5.0, 4.0, 30.0, 57.0, 2.0, 1.0], [1.3430017510046708, 18.65699824899533], [0.06715008755023354, 0.9328499124497664], 1.0, 'Risk'], ['no_checking', 34, 'prior_payments_delayed', 'furniture', 2088, '500_to_1000', 'less_1', 3, 'male', 'none', 4, 'savings_insurance', 34, 'none', 'rent', 1, 'skilled', 1, 'yes', 'yes', 0.0, 0.0, 3.0, 2.0, 0.0, 1.0, 0.0, 0.0, 1.0, 0.0, 0.0, 0.0, 1.0, [0.0, 0.0, 1.0, 2.0, 3.0, 0.0, 0.0, 0.0, 0.0, 1.0, 0.0, 1.0, 0.0, 34.0, 2088.0, 3.0, 4.0, 34.0, 34.0, 1.0, 1.0], [11.723941945670225, 8.276058054329777], [0.5861970972835112, 0.41380290271648884], 0.0, 'No Risk'], ['no_checking', 47, 'outstanding_credit', 'other', 7994, '500_to_1000', 'greater_7', 5, 'male', 'co-applicant', 3, 'car_other', 45, 'none', 'free', 2, 'skilled', 2, 'yes', 'yes', 0.0, 2.0, 2.0, 2.0, 0.0, 2.0, 0.0, 0.0, 10.0, 1.0, 1.0, 0.0, 1.0, [0.0, 2.0, 10.0, 2.0, 2.0, 0.0, 1.0, 1.0, 0.0, 2.0, 0.0, 1.0, 0.0, 47.0, 7994.0, 5.0, 3.0, 47.0, 45.0, 2.0, 2.0], [2.5162908577030114, 17.483709142296988], [0.12581454288515057, 0.8741854571148494], 1.0, 'Risk'], ['no_checking', 12, 'outstanding_credit', 'car_used', 4218, '100_to_500', 'greater_7', 4, 'male', 'none', 3, 'unknown', 44, 'none', 'free', 3, 'skilled', 2, 'yes', 'yes', 0.0, 2.0, 2.0, 1.0, 0.0, 2.0, 0.0, 0.0, 2.0, 0.0, 3.0, 0.0, 1.0, [0.0, 2.0, 2.0, 1.0, 2.0, 0.0, 0.0, 3.0, 0.0, 2.0, 0.0, 1.0, 0.0, 12.0, 4218.0, 4.0, 3.0, 12.0, 44.0, 3.0, 2.0], [8.722198540639035, 11.277801459360964], [0.4361099270319517, 0.5638900729680482], 1.0, 'Risk'], ['less_0', 21, 'credits_paid_to_date', 'car_new', 3426, '500_to_1000', '4_to_7', 3, 'female', 'none', 3, 'savings_insurance', 29, 'stores', 'own', 2, 'skilled', 1, 'none', 'yes', 1.0, 1.0, 1.0, 2.0, 0.0, 0.0, 1.0, 0.0, 0.0, 0.0, 0.0, 1.0, 0.0, [1.0, 1.0, 0.0, 2.0, 1.0, 1.0, 0.0, 0.0, 1.0, 0.0, 0.0, 0.0, 0.0, 21.0, 3426.0, 3.0, 3.0, 21.0, 29.0, 2.0, 1.0], [15.266955833379738, 4.733044166620261], [0.7633477916689869, 0.23665220833101305], 0.0, 'No Risk'], ['no_checking', 19, 'outstanding_credit', 'car_used', 1877, 'unknown', '1_to_4', 3, 'male', 'none', 4, 'real_estate', 24, 'none', 'own', 1, 'skilled', 1, 'none', 'yes', 0.0, 2.0, 0.0, 4.0, 0.0, 0.0, 0.0, 0.0, 2.0, 0.0, 2.0, 0.0, 0.0, [21, [1, 2, 3, 7, 13, 14, 15, 16, 17, 18, 19, 20], [2.0, 2.0, 4.0, 2.0, 19.0, 1877.0, 3.0, 4.0, 19.0, 24.0, 1.0, 1.0]], [15.286455821887339, 4.713544178112663], [0.764322791094367, 0.23567720890563315], 0.0, 'No Risk'], ['no_checking', 41, 'prior_payments_delayed', 'repairs', 8731, 'unknown', '4_to_7', 4, 'male', 'co-applicant', 5, 'car_other', 41, 'stores', 'own', 2, 'unskilled', 2, 'none', 'yes', 0.0, 0.0, 1.0, 4.0, 0.0, 0.0, 1.0, 1.0, 5.0, 1.0, 1.0, 0.0, 0.0, [0.0, 0.0, 5.0, 4.0, 1.0, 0.0, 1.0, 1.0, 1.0, 0.0, 1.0, 0.0, 0.0, 41.0, 8731.0, 4.0, 5.0, 41.0, 41.0, 2.0, 2.0], [6.445855169405126, 13.554144830594872], [0.3222927584702563, 0.6777072415297436], 1.0, 'Risk'], ['0_to_200', 21, 'credits_paid_to_date', 'repairs', 2105, '100_to_500', 'less_1', 2, 'male', 'none', 3, 'savings_insurance', 25, 'none', 'own', 1, 'skilled', 1, 'none', 'yes', 2.0, 1.0, 3.0, 1.0, 0.0, 0.0, 0.0, 0.0, 5.0, 0.0, 0.0, 0.0, 0.0, [2.0, 1.0, 5.0, 1.0, 3.0, 0.0, 0.0, 0.0, 0.0, 0.0, 0.0, 0.0, 0.0, 21.0, 2105.0, 2.0, 3.0, 21.0, 25.0, 1.0, 1.0], [16.97542935362997, 3.0245706463700324], [0.8487714676814984, 0.15122853231850159], 0.0, 'No Risk'], ['no_checking', 24, 'prior_payments_delayed', 'radio_tv', 4473, 'unknown', '1_to_4', 2, 'male', 'none', 4, 'car_other', 38, 'none', 'own', 2, 'skilled', 1, 'none', 'yes', 0.0, 0.0, 0.0, 4.0, 0.0, 0.0, 0.0, 0.0, 3.0, 0.0, 1.0, 0.0, 0.0, [21, [2, 3, 7, 13, 14, 15, 16, 17, 18, 19, 20], [3.0, 4.0, 1.0, 24.0, 4473.0, 2.0, 4.0, 24.0, 38.0, 2.0, 1.0]], [11.557709185771799, 8.442290814228198], [0.57788545928859, 0.42211454071140997], 0.0, 'No Risk'], ['greater_200', 17, 'outstanding_credit', 'furniture', 823, '500_to_1000', '1_to_4', 2, 'male', 'none', 4, 'savings_insurance', 46, 'none', 'rent', 2, 'skilled', 2, 'yes', 'yes', 3.0, 2.0, 0.0, 2.0, 0.0, 1.0, 0.0, 0.0, 1.0, 0.0, 0.0, 0.0, 1.0, [3.0, 2.0, 1.0, 2.0, 0.0, 0.0, 0.0, 0.0, 0.0, 1.0, 0.0, 1.0, 0.0, 17.0, 823.0, 2.0, 4.0, 17.0, 46.0, 2.0, 2.0], [11.905815226337156, 8.094184773662848], [0.5952907613168577, 0.40470923868314235], 0.0, 'No Risk'], ['0_to_200', 27, 'outstanding_credit', 'vacation', 8523, 'greater_1000', '4_to_7', 4, 'male', 'guarantor', 3, 'car_other', 30, 'none', 'free', 1, 'skilled', 1, 'none', 'yes', 2.0, 2.0, 1.0, 3.0, 0.0, 2.0, 0.0, 0.0, 6.0, 2.0, 1.0, 0.0, 0.0, [2.0, 2.0, 6.0, 3.0, 1.0, 0.0, 2.0, 1.0, 0.0, 2.0, 0.0, 0.0, 0.0, 27.0, 8523.0, 4.0, 3.0, 27.0, 30.0, 1.0, 1.0], [9.597062005659845, 10.402937994340153], [0.4798531002829923, 0.5201468997170077], 1.0, 'Risk'], ['no_checking', 27, 'outstanding_credit', 'furniture', 8334, 'unknown', '4_to_7', 4, 'male', 'co-applicant', 4, 'unknown', 45, 'none', 'own', 3, 'skilled', 2, 'yes', 'yes', 0.0, 2.0, 1.0, 4.0, 0.0, 0.0, 0.0, 0.0, 1.0, 1.0, 3.0, 0.0, 1.0, [0.0, 2.0, 1.0, 4.0, 1.0, 0.0, 1.0, 3.0, 0.0, 0.0, 0.0, 1.0, 0.0, 27.0, 8334.0, 4.0, 4.0, 27.0, 45.0, 3.0, 2.0], [3.890740696562331, 16.10925930343767], [0.19453703482811652, 0.8054629651718834], 1.0, 'Risk'], ['greater_200', 50, 'prior_payments_delayed', 'appliances', 7369, 'greater_1000', '4_to_7', 5, 'male', 'co-applicant', 3, 'unknown', 36, 'none', 'own', 2, 'skilled', 1, 'none', 'yes', 3.0, 0.0, 1.0, 3.0, 0.0, 0.0, 0.0, 0.0, 4.0, 1.0, 3.0, 0.0, 0.0, [3.0, 0.0, 4.0, 3.0, 1.0, 0.0, 1.0, 3.0, 0.0, 0.0, 0.0, 0.0, 0.0, 50.0, 7369.0, 5.0, 3.0, 50.0, 36.0, 2.0, 1.0], [5.86076509358626, 14.139234906413737], [0.29303825467931305, 0.706961745320687], 1.0, 'Risk'], ['less_0', 22, 'prior_payments_delayed', 'retraining', 3655, 'less_100', '1_to_4', 3, 'male', 'none', 2, 'car_other', 31, 'stores', 'own', 1, 'unskilled', 1, 'yes', 'yes', 1.0, 0.0, 0.0, 0.0, 0.0, 0.0, 1.0, 1.0, 8.0, 0.0, 1.0, 0.0, 1.0, [1.0, 0.0, 8.0, 0.0, 0.0, 0.0, 0.0, 1.0, 1.0, 0.0, 1.0, 1.0, 0.0, 22.0, 3655.0, 3.0, 2.0, 22.0, 31.0, 1.0, 1.0], [15.675401847382481, 4.324598152617518], [0.7837700923691241, 0.21622990763087588], 0.0, 'No Risk'], ['0_to_200', 31, 'credits_paid_to_date', 'radio_tv', 2990, '500_to_1000', '1_to_4', 2, 'female', 'none', 3, 'savings_insurance', 34, 'stores', 'own', 2, 'unskilled', 1, 'none', 'yes', 2.0, 1.0, 0.0, 2.0, 0.0, 0.0, 1.0, 1.0, 3.0, 0.0, 0.0, 1.0, 0.0, [2.0, 1.0, 3.0, 2.0, 0.0, 1.0, 0.0, 0.0, 1.0, 0.0, 1.0, 0.0, 0.0, 31.0, 2990.0, 2.0, 3.0, 31.0, 34.0, 2.0, 1.0], [14.090423779680474, 5.909576220319525], [0.7045211889840237, 0.29547881101597623], 0.0, 'No Risk'], ['greater_200', 15, 'prior_payments_delayed', 'radio_tv', 3708, '100_to_500', '4_to_7', 4, 'female', 'none', 4, 'savings_insurance', 33, 'none', 'own', 1, 'skilled', 1, 'none', 'yes', 3.0, 0.0, 1.0, 1.0, 0.0, 0.0, 0.0, 0.0, 3.0, 0.0, 0.0, 1.0, 0.0, [3.0, 0.0, 3.0, 1.0, 1.0, 1.0, 0.0, 0.0, 0.0, 0.0, 0.0, 0.0, 0.0, 15.0, 3708.0, 4.0, 4.0, 15.0, 33.0, 1.0, 1.0], [14.265836643137431, 5.734163356862569], [0.7132918321568715, 0.28670816784312847], 0.0, 'No Risk'], ['less_0', 4, 'credits_paid_to_date', 'car_used', 250, '500_to_1000', 'less_1', 2, 'male', 'none', 2, 'real_estate', 20, 'none', 'rent', 2, 'skilled', 1, 'none', 'yes', 1.0, 1.0, 3.0, 2.0, 0.0, 1.0, 0.0, 0.0, 2.0, 0.0, 2.0, 0.0, 0.0, [1.0, 1.0, 2.0, 2.0, 3.0, 0.0, 0.0, 2.0, 0.0, 1.0, 0.0, 0.0, 0.0, 4.0, 250.0, 2.0, 2.0, 4.0, 20.0, 2.0, 1.0], [19.192286154894582, 0.8077138451054192], [0.9596143077447291, 0.04038569225527096], 0.0, 'No Risk'], ['0_to_200', 7, 'all_credits_paid_back', 'car_used', 250, 'less_100', 'less_1', 2, 'male', 'co-applicant', 2, 'real_estate', 19, 'none', 'own', 1, 'skilled', 1, 'none', 'yes', 2.0, 3.0, 3.0, 0.0, 0.0, 0.0, 0.0, 0.0, 2.0, 1.0, 2.0, 0.0, 0.0, [2.0, 3.0, 2.0, 0.0, 3.0, 0.0, 1.0, 2.0, 0.0, 0.0, 0.0, 0.0, 0.0, 7.0, 250.0, 2.0, 2.0, 7.0, 19.0, 1.0, 1.0], [19.35435790032763, 0.6456420996723691], [0.9677178950163816, 0.032282104983618456], 0.0, 'No Risk'], ['0_to_200', 18, 'prior_payments_delayed', 'furniture', 2058, '100_to_500', '1_to_4', 2, 'male', 'none', 2, 'savings_insurance', 38, 'none', 'own', 2, 'skilled', 1, 'none', 'yes', 2.0, 0.0, 0.0, 1.0, 0.0, 0.0, 0.0, 0.0, 1.0, 0.0, 0.0, 0.0, 0.0, [21, [0, 2, 3, 13, 14, 15, 16, 17, 18, 19, 20], [2.0, 1.0, 1.0, 18.0, 2058.0, 2.0, 2.0, 18.0, 38.0, 2.0, 1.0]], [14.926466590921606, 5.073533409078394], [0.7463233295460803, 0.2536766704539197], 0.0, 'No Risk'], ['less_0', 32, 'credits_paid_to_date', 'appliances', 1674, 'less_100', '1_to_4', 3, 'male', 'none', 2, 'savings_insurance', 36, 'none', 'own', 1, 'skilled', 1, 'none', 'yes', 1.0, 1.0, 0.0, 0.0, 0.0, 0.0, 0.0, 0.0, 4.0, 0.0, 0.0, 0.0, 0.0, [21, [0, 1, 2, 13, 14, 15, 16, 17, 18, 19, 20], [1.0, 1.0, 4.0, 32.0, 1674.0, 3.0, 2.0, 32.0, 36.0, 1.0, 1.0]], [14.605129176879327, 5.394870823120673], [0.7302564588439664, 0.26974354115603366], 0.0, 'No Risk'], ['greater_200', 39, 'outstanding_credit', 'other', 6415, '500_to_1000', '4_to_7', 4, 'male', 'none', 3, 'car_other', 41, 'stores', 'own', 2, 'unskilled', 2, 'yes', 'yes', 3.0, 2.0, 1.0, 2.0, 0.0, 0.0, 1.0, 1.0, 10.0, 0.0, 1.0, 0.0, 1.0, [3.0, 2.0, 10.0, 2.0, 1.0, 0.0, 0.0, 1.0, 1.0, 0.0, 1.0, 1.0, 0.0, 39.0, 6415.0, 4.0, 3.0, 39.0, 41.0, 2.0, 2.0], [10.199795954893569, 9.800204045106433], [0.5099897977446785, 0.49001020225532166], 0.0, 'No Risk'], ['no_checking', 20, 'credits_paid_to_date', 'radio_tv', 3101, 'greater_1000', 'greater_7', 4, 'male', 'none', 4, 'car_other', 43, 'none', 'own', 1, 'skilled', 2, 'none', 'yes', 0.0, 1.0, 2.0, 3.0, 0.0, 0.0, 0.0, 0.0, 3.0, 0.0, 1.0, 0.0, 0.0, [0.0, 1.0, 3.0, 3.0, 2.0, 0.0, 0.0, 1.0, 0.0, 0.0, 0.0, 0.0, 0.0, 20.0, 3101.0, 4.0, 4.0, 20.0, 43.0, 1.0, 2.0], [11.299898533585717, 8.700101466414283], [0.5649949266792859, 0.43500507332071414], 0.0, 'No Risk'], ['no_checking', 36, 'credits_paid_to_date', 'radio_tv', 4998, '100_to_500', '1_to_4', 4, 'male', 'none', 4, 'car_other', 40, 'none', 'own', 2, 'skilled', 1, 'none', 'yes', 0.0, 1.0, 0.0, 1.0, 0.0, 0.0, 0.0, 0.0, 3.0, 0.0, 1.0, 0.0, 0.0, [21, [1, 2, 3, 7, 13, 14, 15, 16, 17, 18, 19, 20], [1.0, 3.0, 1.0, 1.0, 36.0, 4998.0, 4.0, 4.0, 36.0, 40.0, 2.0, 1.0]], [11.331634748378379, 8.668365251621621], [0.5665817374189189, 0.43341826258108107], 0.0, 'No Risk'], ['no_checking', 28, 'prior_payments_delayed', 'appliances', 4984, '100_to_500', 'greater_7', 4, 'male', 'none', 4, 'savings_insurance', 40, 'none', 'own', 2, 'skilled', 1, 'yes', 'yes', 0.0, 0.0, 2.0, 1.0, 0.0, 0.0, 0.0, 0.0, 4.0, 0.0, 0.0, 0.0, 1.0, [21, [2, 3, 4, 11, 13, 14, 15, 16, 17, 18, 19, 20], [4.0, 1.0, 2.0, 1.0, 28.0, 4984.0, 4.0, 4.0, 28.0, 40.0, 2.0, 1.0]], [9.392263520968706, 10.607736479031294], [0.46961317604843533, 0.5303868239515647], 1.0, 'Risk'], ['no_checking', 28, 'prior_payments_delayed', 'car_used', 4543, '100_to_500', '1_to_4', 4, 'female', 'none', 2, 'car_other', 39, 'none', 'own', 1, 'skilled', 1, 'none', 'yes', 0.0, 0.0, 0.0, 1.0, 0.0, 0.0, 0.0, 0.0, 2.0, 0.0, 1.0, 1.0, 0.0, [21, [2, 3, 5, 7, 13, 14, 15, 16, 17, 18, 19, 20], [2.0, 1.0, 1.0, 1.0, 28.0, 4543.0, 4.0, 2.0, 28.0, 39.0, 1.0, 1.0]], [12.006050578735955, 7.993949421264045], [0.6003025289367978, 0.39969747106320225], 0.0, 'No Risk'], ['0_to_200', 12, 'prior_payments_delayed', 'car_new', 3892, 'less_100', '4_to_7', 2, 'male', 'none', 3, 'savings_insurance', 37, 'none', 'own', 2, 'management_self-employed', 1, 'none', 'no', 2.0, 0.0, 1.0, 0.0, 1.0, 0.0, 0.0, 2.0, 0.0, 0.0, 0.0, 0.0, 0.0, [21, [0, 4, 10, 12, 13, 14, 15, 16, 17, 18, 19, 20], [2.0, 1.0, 2.0, 1.0, 12.0, 3892.0, 2.0, 3.0, 12.0, 37.0, 2.0, 1.0]], [14.336952647834165, 5.663047352165837], [0.7168476323917082, 0.2831523676082918], 0.0, 'No Risk'], ['no_checking', 39, 'prior_payments_delayed', 'radio_tv', 6573, '500_to_1000', 'greater_7', 5, 'male', 'none', 5, 'unknown', 46, 'stores', 'own', 2, 'unskilled', 1, 'yes', 'yes', 0.0, 0.0, 2.0, 2.0, 0.0, 0.0, 1.0, 1.0, 3.0, 0.0, 3.0, 0.0, 1.0, [0.0, 0.0, 3.0, 2.0, 2.0, 0.0, 0.0, 3.0, 1.0, 0.0, 1.0, 1.0, 0.0, 39.0, 6573.0, 5.0, 5.0, 39.0, 46.0, 2.0, 1.0], [5.426806048677259, 14.573193951322741], [0.2713403024338629, 0.728659697566137], 1.0, 'Risk'], ['0_to_200', 29, 'prior_payments_delayed', 'car_used', 4434, '100_to_500', 'greater_7', 4, 'male', 'none', 4, 'car_other', 41, 'none', 'own', 1, 'skilled', 1, 'none', 'yes', 2.0, 0.0, 2.0, 1.0, 0.0, 0.0, 0.0, 0.0, 2.0, 0.0, 1.0, 0.0, 0.0, [2.0, 0.0, 2.0, 1.0, 2.0, 0.0, 0.0, 1.0, 0.0, 0.0, 0.0, 0.0, 0.0, 29.0, 4434.0, 4.0, 4.0, 29.0, 41.0, 1.0, 1.0], [10.853687358672264, 9.146312641327736], [0.5426843679336132, 0.4573156320663868], 0.0, 'No Risk'], ['0_to_200', 20, 'credits_paid_to_date', 'furniture', 1879, '500_to_1000', '1_to_4', 2, 'male', 'none', 2, 'savings_insurance', 25, 'none', 'rent', 1, 'skilled', 1, 'none', 'yes', 2.0, 1.0, 0.0, 2.0, 0.0, 1.0, 0.0, 0.0, 1.0, 0.0, 0.0, 0.0, 0.0, [2.0, 1.0, 1.0, 2.0, 0.0, 0.0, 0.0, 0.0, 0.0, 1.0, 0.0, 0.0, 0.0, 20.0, 1879.0, 2.0, 2.0, 20.0, 25.0, 1.0, 1.0], [16.611033418290695, 3.388966581709303], [0.8305516709145347, 0.16944832908546514], 0.0, 'No Risk'], ['less_0', 8, 'all_credits_paid_back', 'car_used', 250, '100_to_500', '4_to_7', 3, 'male', 'none', 2, 'savings_insurance', 29, 'none', 'own', 1, 'skilled', 1, 'none', 'yes', 1.0, 3.0, 1.0, 1.0, 0.0, 0.0, 0.0, 0.0, 2.0, 0.0, 0.0, 0.0, 0.0, [1.0, 3.0, 2.0, 1.0, 1.0, 0.0, 0.0, 0.0, 0.0, 0.0, 0.0, 0.0, 0.0, 8.0, 250.0, 3.0, 2.0, 8.0, 29.0, 1.0, 1.0], [18.37926799243192, 1.620732007568076], [0.9189633996215961, 0.08103660037840381], 0.0, 'No Risk'], ['less_0', 4, 'all_credits_paid_back', 'car_new', 250, '100_to_500', 'less_1', 2, 'female', 'co-applicant', 3, 'real_estate', 22, 'stores', 'rent', 1, 'unskilled', 1, 'none', 'no', 1.0, 3.0, 3.0, 1.0, 1.0, 1.0, 1.0, 1.0, 0.0, 1.0, 2.0, 1.0, 0.0, [1.0, 3.0, 0.0, 1.0, 3.0, 1.0, 1.0, 2.0, 1.0, 1.0, 1.0, 0.0, 1.0, 4.0, 250.0, 2.0, 3.0, 4.0, 22.0, 1.0, 1.0], [17.515791675001537, 2.484208324998463], [0.8757895837500769, 0.12421041624992316], 0.0, 'No Risk'], ['no_checking', 30, 'outstanding_credit', 'furniture', 7197, '500_to_1000', '4_to_7', 4, 'male', 'none', 4, 'unknown', 44, 'none', 'free', 2, 'skilled', 2, 'yes', 'yes', 0.0, 2.0, 1.0, 2.0, 0.0, 2.0, 0.0, 0.0, 1.0, 0.0, 3.0, 0.0, 1.0, [0.0, 2.0, 1.0, 2.0, 1.0, 0.0, 0.0, 3.0, 0.0, 2.0, 0.0, 1.0, 0.0, 30.0, 7197.0, 4.0, 4.0, 30.0, 44.0, 2.0, 2.0], [6.788437534394981, 13.21156246560502], [0.33942187671974905, 0.660578123280251], 1.0, 'Risk'], ['no_checking', 39, 'prior_payments_delayed', 'furniture', 4996, '500_to_1000', 'greater_7', 4, 'male', 'co-applicant', 4, 'unknown', 48, 'bank', 'own', 2, 'unemployed', 2, 'yes', 'yes', 0.0, 0.0, 2.0, 2.0, 0.0, 0.0, 2.0, 3.0, 1.0, 1.0, 3.0, 0.0, 1.0, [0.0, 0.0, 1.0, 2.0, 2.0, 0.0, 1.0, 3.0, 2.0, 0.0, 3.0, 1.0, 0.0, 39.0, 4996.0, 4.0, 4.0, 39.0, 48.0, 2.0, 2.0], [3.7754239881120935, 16.224576011887905], [0.18877119940560466, 0.8112288005943953], 1.0, 'Risk'], ['less_0', 10, 'all_credits_paid_back', 'car_new', 530, '100_to_500', '4_to_7', 3, 'female', 'none', 1, 'real_estate', 43, 'none', 'own', 2, 'skilled', 2, 'none', 'no', 1.0, 3.0, 1.0, 1.0, 1.0, 0.0, 0.0, 0.0, 0.0, 0.0, 2.0, 1.0, 0.0, [1.0, 3.0, 0.0, 1.0, 1.0, 1.0, 0.0, 2.0, 0.0, 0.0, 0.0, 0.0, 1.0, 10.0, 530.0, 3.0, 1.0, 10.0, 43.0, 2.0, 2.0], [17.509780364841685, 2.4902196351583163], [0.8754890182420842, 0.12451098175791582], 0.0, 'No Risk'], ['less_0', 27, 'outstanding_credit', 'car_used', 2817, '100_to_500', 'less_1', 3, 'male', 'none', 3, 'savings_insurance', 28, 'none', 'own', 2, 'skilled', 1, 'yes', 'yes', 1.0, 2.0, 3.0, 1.0, 0.0, 0.0, 0.0, 0.0, 2.0, 0.0, 0.0, 0.0, 1.0, [1.0, 2.0, 2.0, 1.0, 3.0, 0.0, 0.0, 0.0, 0.0, 0.0, 0.0, 1.0, 0.0, 27.0, 2817.0, 3.0, 3.0, 27.0, 28.0, 2.0, 1.0], [14.488693941856756, 5.511306058143245], [0.7244346970928378, 0.27556530290716225], 0.0, 'No Risk'], ['0_to_200', 22, 'credits_paid_to_date', 'radio_tv', 1889, 'less_100', '1_to_4', 2, 'male', 'none', 3, 'savings_insurance', 19, 'none', 'own', 1, 'skilled', 1, 'none', 'yes', 2.0, 1.0, 0.0, 0.0, 0.0, 0.0, 0.0, 0.0, 3.0, 0.0, 0.0, 0.0, 0.0, [21, [0, 1, 2, 13, 14, 15, 16, 17, 18, 19, 20], [2.0, 1.0, 3.0, 22.0, 1889.0, 2.0, 3.0, 22.0, 19.0, 1.0, 1.0]], [15.190957168004621, 4.809042831995377], [0.7595478584002311, 0.24045214159976885], 0.0, 'No Risk'], ['less_0', 18, 'credits_paid_to_date', 'furniture', 1462, 'less_100', 'less_1', 3, 'female', 'none', 1, 'savings_insurance', 35, 'none', 'own', 2, 'skilled', 1, 'none', 'yes', 1.0, 1.0, 3.0, 0.0, 0.0, 0.0, 0.0, 0.0, 1.0, 0.0, 0.0, 1.0, 0.0, [1.0, 1.0, 1.0, 0.0, 3.0, 1.0, 0.0, 0.0, 0.0, 0.0, 0.0, 0.0, 0.0, 18.0, 1462.0, 3.0, 1.0, 18.0, 35.0, 2.0, 1.0], [16.74814967010703, 3.2518503298929664], [0.8374074835053517, 0.16259251649464834], 0.0, 'No Risk'], ['no_checking', 22, 'prior_payments_delayed', 'repairs', 5243, '100_to_500', '4_to_7', 4, 'male', 'co-applicant', 3, 'savings_insurance', 38, 'none', 'free', 1, 'management_self-employed', 1, 'yes', 'yes', 0.0, 0.0, 1.0, 1.0, 0.0, 2.0, 0.0, 2.0, 5.0, 1.0, 0.0, 0.0, 1.0, [0.0, 0.0, 5.0, 1.0, 1.0, 0.0, 1.0, 0.0, 0.0, 2.0, 2.0, 1.0, 0.0, 22.0, 5243.0, 4.0, 3.0, 22.0, 38.0, 1.0, 1.0], [9.438278483106547, 10.561721516893451], [0.47191392415532735, 0.5280860758446726], 1.0, 'Risk'], ['no_checking', 27, 'prior_payments_delayed', 'radio_tv', 6165, '500_to_1000', 'greater_7', 5, 'female', 'none', 3, 'savings_insurance', 50, 'none', 'free', 2, 'skilled', 1, 'none', 'yes', 0.0, 0.0, 2.0, 2.0, 0.0, 2.0, 0.0, 0.0, 3.0, 0.0, 0.0, 1.0, 0.0, [0.0, 0.0, 3.0, 2.0, 2.0, 1.0, 0.0, 0.0, 0.0, 2.0, 0.0, 0.0, 0.0, 27.0, 6165.0, 5.0, 3.0, 27.0, 50.0, 2.0, 1.0], [6.4498659974292245, 13.550134002570775], [0.32249329987146125, 0.6775067001285388], 1.0, 'Risk'], ['less_0', 7, 'all_credits_paid_back', 'car_new', 250, 'less_100', 'less_1', 2, 'male', 'none', 1, 'real_estate', 23, 'stores', 'rent', 1, 'skilled', 1, 'none', 'yes', 1.0, 3.0, 3.0, 0.0, 0.0, 1.0, 1.0, 0.0, 0.0, 0.0, 2.0, 0.0, 0.0, [1.0, 3.0, 0.0, 0.0, 3.0, 0.0, 0.0, 2.0, 1.0, 1.0, 0.0, 0.0, 0.0, 7.0, 250.0, 2.0, 1.0, 7.0, 23.0, 1.0, 1.0], [19.68922781534239, 0.3107721846576088], [0.9844613907671196, 0.01553860923288044], 0.0, 'No Risk'], ['less_0', 12, 'prior_payments_delayed', 'car_used', 1911, 'less_100', '1_to_4', 3, 'male', 'none', 3, 'savings_insurance', 19, 'none', 'own', 1, 'skilled', 1, 'none', 'yes', 1.0, 0.0, 0.0, 0.0, 0.0, 0.0, 0.0, 0.0, 2.0, 0.0, 0.0, 0.0, 0.0, [21, [0, 2, 13, 14, 15, 16, 17, 18, 19, 20], [1.0, 2.0, 12.0, 1911.0, 3.0, 3.0, 12.0, 19.0, 1.0, 1.0]], [16.048683736357717, 3.9513162636422843], [0.8024341868178858, 0.19756581318211422], 0.0, 'No Risk'], ['0_to_200', 14, 'prior_payments_delayed', 'car_used', 4216, '100_to_500', '1_to_4', 3, 'male', 'none', 4, 'car_other', 46, 'none', 'own', 2, 'skilled', 1, 'yes', 'yes', 2.0, 0.0, 0.0, 1.0, 0.0, 0.0, 0.0, 0.0, 2.0, 0.0, 1.0, 0.0, 1.0, [2.0, 0.0, 2.0, 1.0, 0.0, 0.0, 0.0, 1.0, 0.0, 0.0, 0.0, 1.0, 0.0, 14.0, 4216.0, 3.0, 4.0, 14.0, 46.0, 2.0, 1.0], [13.458772615255175, 6.541227384744827], [0.6729386307627587, 0.3270613692372414], 0.0, 'No Risk'], ['less_0', 23, 'prior_payments_delayed', 'education', 4056, 'greater_1000', 'greater_7', 4, 'male', 'none', 2, 'unknown', 48, 'none', 'own', 2, 'skilled', 1, 'none', 'yes', 1.0, 0.0, 2.0, 3.0, 0.0, 0.0, 0.0, 0.0, 7.0, 0.0, 3.0, 0.0, 0.0, [1.0, 0.0, 7.0, 3.0, 2.0, 0.0, 0.0, 3.0, 0.0, 0.0, 0.0, 0.0, 0.0, 23.0, 4056.0, 4.0, 2.0, 23.0, 48.0, 2.0, 1.0], [12.873469847898013, 7.126530152101984], [0.6436734923949008, 0.35632650760509926], 0.0, 'No Risk'], ['less_0', 16, 'prior_payments_delayed', 'car_new', 2383, 'less_100', '1_to_4', 3, 'male', 'none', 2, 'car_other', 30, 'none', 'own', 1, 'skilled', 2, 'yes', 'yes', 1.0, 0.0, 0.0, 0.0, 0.0, 0.0, 0.0, 0.0, 0.0, 0.0, 1.0, 0.0, 1.0, [21, [0, 7, 11, 13, 14, 15, 16, 17, 18, 19, 20], [1.0, 1.0, 1.0, 16.0, 2383.0, 3.0, 2.0, 16.0, 30.0, 1.0, 2.0]], [16.85433201718184, 3.145667982818157], [0.8427166008590922, 0.1572833991409079], 0.0, 'No Risk'], ['0_to_200', 27, 'prior_payments_delayed', 'appliances', 3938, 'greater_1000', '4_to_7', 4, 'male', 'none', 4, 'car_other', 42, 'none', 'free', 3, 'skilled', 2, 'yes', 'yes', 2.0, 0.0, 1.0, 3.0, 0.0, 2.0, 0.0, 0.0, 4.0, 0.0, 1.0, 0.0, 1.0, [2.0, 0.0, 4.0, 3.0, 1.0, 0.0, 0.0, 1.0, 0.0, 2.0, 0.0, 1.0, 0.0, 27.0, 3938.0, 4.0, 4.0, 27.0, 42.0, 3.0, 2.0], [10.470087608108452, 9.529912391891548], [0.5235043804054226, 0.4764956195945774], 0.0, 'No Risk'], ['0_to_200', 8, 'credits_paid_to_date', 'car_used', 3686, '100_to_500', '1_to_4', 2, 'female', 'none', 2, 'car_other', 37, 'none', 'own', 1, 'skilled', 1, 'none', 'yes', 2.0, 1.0, 0.0, 1.0, 0.0, 0.0, 0.0, 0.0, 2.0, 0.0, 1.0, 1.0, 0.0, [2.0, 1.0, 2.0, 1.0, 0.0, 1.0, 0.0, 1.0, 0.0, 0.0, 0.0, 0.0, 0.0, 8.0, 3686.0, 2.0, 2.0, 8.0, 37.0, 1.0, 1.0], [16.120576343910074, 3.8794236560899265], [0.8060288171955037, 0.19397118280449632], 0.0, 'No Risk'], ['0_to_200', 4, 'credits_paid_to_date', 'car_new', 260, 'less_100', 'less_1', 2, 'female', 'none', 3, 'real_estate', 19, 'stores', 'rent', 1, 'unskilled', 1, 'none', 'yes', 2.0, 1.0, 3.0, 0.0, 0.0, 1.0, 1.0, 1.0, 0.0, 0.0, 2.0, 1.0, 0.0, [2.0, 1.0, 0.0, 0.0, 3.0, 1.0, 0.0, 2.0, 1.0, 1.0, 1.0, 0.0, 0.0, 4.0, 260.0, 2.0, 3.0, 4.0, 19.0, 1.0, 1.0], [19.307960671923013, 0.6920393280769855], [0.9653980335961506, 0.03460196640384928], 0.0, 'No Risk'], ['no_checking', 32, 'prior_payments_delayed', 'business', 7164, '100_to_500', '4_to_7', 4, 'male', 'none', 4, 'car_other', 32, 'stores', 'rent', 1, 'unskilled', 1, 'none', 'yes', 0.0, 0.0, 1.0, 1.0, 0.0, 1.0, 1.0, 1.0, 9.0, 0.0, 1.0, 0.0, 0.0, [0.0, 0.0, 9.0, 1.0, 1.0, 0.0, 0.0, 1.0, 1.0, 1.0, 1.0, 0.0, 0.0, 32.0, 7164.0, 4.0, 4.0, 32.0, 32.0, 1.0, 1.0], [10.082899540201844, 9.917100459798156], [0.5041449770100922, 0.4958550229899078], 0.0, 'No Risk'], ['no_checking', 40, 'outstanding_credit', 'other', 5974, 'unknown', 'greater_7', 5, 'male', 'none', 3, 'unknown', 40, 'none', 'free', 2, 'skilled', 1, 'yes', 'yes', 0.0, 2.0, 2.0, 4.0, 0.0, 2.0, 0.0, 0.0, 10.0, 0.0, 3.0, 0.0, 1.0, [0.0, 2.0, 10.0, 4.0, 2.0, 0.0, 0.0, 3.0, 0.0, 2.0, 0.0, 1.0, 0.0, 40.0, 5974.0, 5.0, 3.0, 40.0, 40.0, 2.0, 1.0], [6.482874627902831, 13.51712537209717], [0.3241437313951415, 0.6758562686048585], 1.0, 'Risk'], ['0_to_200', 35, 'prior_payments_delayed', 'furniture', 3711, '100_to_500', 'greater_7', 4, 'male', 'none', 4, 'unknown', 38, 'none', 'own', 1, 'skilled', 1, 'none', 'yes', 2.0, 0.0, 2.0, 1.0, 0.0, 0.0, 0.0, 0.0, 1.0, 0.0, 3.0, 0.0, 0.0, [2.0, 0.0, 1.0, 1.0, 2.0, 0.0, 0.0, 3.0, 0.0, 0.0, 0.0, 0.0, 0.0, 35.0, 3711.0, 4.0, 4.0, 35.0, 38.0, 1.0, 1.0], [10.038261037340392, 9.961738962659606], [0.5019130518670196, 0.49808694813298027], 0.0, 'No Risk'], ['0_to_200', 16, 'all_credits_paid_back', 'car_new', 1141, '500_to_1000', 'less_1', 2, 'female', 'none', 2, 'real_estate', 27, 'none', 'own', 1, 'skilled', 1, 'none', 'yes', 2.0, 3.0, 3.0, 2.0, 0.0, 0.0, 0.0, 0.0, 0.0, 0.0, 2.0, 1.0, 0.0, [2.0, 3.0, 0.0, 2.0, 3.0, 1.0, 0.0, 2.0, 0.0, 0.0, 0.0, 0.0, 0.0, 16.0, 1141.0, 2.0, 2.0, 16.0, 27.0, 1.0, 1.0], [19.312427959219193, 0.6875720407808061], [0.9656213979609596, 0.03437860203904031], 0.0, 'No Risk'], ['no_checking', 32, 'prior_payments_delayed', 'car_used', 5150, '500_to_1000', 'greater_7', 4, 'male', 'guarantor', 3, 'car_other', 72, 'none', 'free', 2, 'skilled', 1, 'yes', 'yes', 0.0, 0.0, 2.0, 2.0, 0.0, 2.0, 0.0, 0.0, 2.0, 2.0, 1.0, 0.0, 1.0, [0.0, 0.0, 2.0, 2.0, 2.0, 0.0, 2.0, 1.0, 0.0, 2.0, 0.0, 1.0, 0.0, 32.0, 5150.0, 4.0, 3.0, 32.0, 72.0, 2.0, 1.0], [2.9975582906209435, 17.002441709379056], [0.14987791453104718, 0.8501220854689528], 1.0, 'Risk'], ['0_to_200', 18, 'prior_payments_delayed', 'business', 4785, 'greater_1000', '1_to_4', 3, 'male', 'none', 4, 'unknown', 49, 'none', 'rent', 2, 'skilled', 1, 'none', 'yes', 2.0, 0.0, 0.0, 3.0, 0.0, 1.0, 0.0, 0.0, 9.0, 0.0, 3.0, 0.0, 0.0, [2.0, 0.0, 9.0, 3.0, 0.0, 0.0, 0.0, 3.0, 0.0, 1.0, 0.0, 0.0, 0.0, 18.0, 4785.0, 3.0, 4.0, 18.0, 49.0, 2.0, 1.0], [11.351637718158637, 8.648362281841363], [0.5675818859079318, 0.43241811409206815], 0.0, 'No Risk'], ['less_0', 18, 'credits_paid_to_date', 'car_new', 250, '500_to_1000', '1_to_4', 1, 'male', 'none', 1, 'real_estate', 19, 'stores', 'rent', 1, 'skilled', 1, 'none', 'yes', 1.0, 1.0, 0.0, 2.0, 0.0, 1.0, 1.0, 0.0, 0.0, 0.0, 2.0, 0.0, 0.0, [1.0, 1.0, 0.0, 2.0, 0.0, 0.0, 0.0, 2.0, 1.0, 1.0, 0.0, 0.0, 0.0, 18.0, 250.0, 1.0, 1.0, 18.0, 19.0, 1.0, 1.0], [18.25878638280065, 1.7412136171993493], [0.9129393191400326, 0.08706068085996746], 0.0, 'No Risk'], ['no_checking', 27, 'outstanding_credit', 'furniture', 4447, 'unknown', 'greater_7', 4, 'male', 'co-applicant', 5, 'car_other', 56, 'none', 'own', 2, 'skilled', 2, 'yes', 'yes', 0.0, 2.0, 2.0, 4.0, 0.0, 0.0, 0.0, 0.0, 1.0, 1.0, 1.0, 0.0, 1.0, [0.0, 2.0, 1.0, 4.0, 2.0, 0.0, 1.0, 1.0, 0.0, 0.0, 0.0, 1.0, 0.0, 27.0, 4447.0, 4.0, 5.0, 27.0, 56.0, 2.0, 2.0], [4.199748778011778, 15.800251221988225], [0.20998743890058888, 0.7900125610994111], 1.0, 'Risk'], ['0_to_200', 10, 'credits_paid_to_date', 'furniture', 3303, 'less_100', '4_to_7', 2, 'female', 'none', 3, 'savings_insurance', 19, 'none', 'own', 1, 'skilled', 1, 'none', 'yes', 2.0, 1.0, 1.0, 0.0, 0.0, 0.0, 0.0, 0.0, 1.0, 0.0, 0.0, 1.0, 0.0, [2.0, 1.0, 1.0, 0.0, 1.0, 1.0, 0.0, 0.0, 0.0, 0.0, 0.0, 0.0, 0.0, 10.0, 3303.0, 2.0, 3.0, 10.0, 19.0, 1.0, 1.0], [15.71230983100547, 4.287690168994531], [0.7856154915502735, 0.21438450844972654], 0.0, 'No Risk'], ['no_checking', 31, 'prior_payments_delayed', 'car_used', 4639, 'unknown', '1_to_4', 2, 'male', 'none', 4, 'unknown', 45, 'none', 'own', 2, 'skilled', 1, 'yes', 'yes', 0.0, 0.0, 0.0, 4.0, 0.0, 0.0, 0.0, 0.0, 2.0, 0.0, 3.0, 0.0, 1.0, [21, [2, 3, 7, 11, 13, 14, 15, 16, 17, 18, 19, 20], [2.0, 4.0, 3.0, 1.0, 31.0, 4639.0, 2.0, 4.0, 31.0, 45.0, 2.0, 1.0]], [10.382337514115406, 9.617662485884592], [0.5191168757057703, 0.48088312429422964], 0.0, 'No Risk'], ['0_to_200', 24, 'credits_paid_to_date', 'car_new', 3613, 'less_100', '1_to_4', 3, 'male', 'none', 2, 'savings_insurance', 41, 'none', 'own', 1, 'skilled', 2, 'none', 'yes', 2.0, 1.0, 0.0, 0.0, 0.0, 0.0, 0.0, 0.0, 0.0, 0.0, 0.0, 0.0, 0.0, [21, [0, 1, 13, 14, 15, 16, 17, 18, 19, 20], [2.0, 1.0, 24.0, 3613.0, 3.0, 2.0, 24.0, 41.0, 1.0, 2.0]], [15.61023622910232, 4.389763770897677], [0.7805118114551162, 0.21948818854488386], 0.0, 'No Risk'], ['0_to_200', 18, 'credits_paid_to_date', 'retraining', 250, '500_to_1000', '1_to_4', 3, 'male', 'none', 2, 'real_estate', 32, 'bank', 'rent', 1, 'unskilled', 1, 'none', 'yes', 2.0, 1.0, 0.0, 2.0, 0.0, 1.0, 2.0, 1.0, 8.0, 0.0, 2.0, 0.0, 0.0, [2.0, 1.0, 8.0, 2.0, 0.0, 0.0, 0.0, 2.0, 2.0, 1.0, 1.0, 0.0, 0.0, 18.0, 250.0, 3.0, 2.0, 18.0, 32.0, 1.0, 1.0], [18.344415532865895, 1.6555844671341085], [0.9172207766432946, 0.08277922335670541], 0.0, 'No Risk'], ['no_checking', 14, 'credits_paid_to_date', 'furniture', 7457, '100_to_500', '1_to_4', 4, 'male', 'guarantor', 3, 'car_other', 35, 'none', 'free', 1, 'skilled', 1, 'none', 'yes', 0.0, 1.0, 0.0, 1.0, 0.0, 2.0, 0.0, 0.0, 1.0, 2.0, 1.0, 0.0, 0.0, [0.0, 1.0, 1.0, 1.0, 0.0, 0.0, 2.0, 1.0, 0.0, 2.0, 0.0, 0.0, 0.0, 14.0, 7457.0, 4.0, 3.0, 14.0, 35.0, 1.0, 1.0], [13.133121001758488, 6.8668789982415115], [0.6566560500879244, 0.34334394991207556], 0.0, 'No Risk'], ['less_0', 22, 'prior_payments_delayed', 'car_used', 1019, '100_to_500', '4_to_7', 3, 'female', 'none', 1, 'savings_insurance', 29, 'stores', 'own', 2, 'skilled', 1, 'none', 'yes', 1.0, 0.0, 1.0, 1.0, 0.0, 0.0, 1.0, 0.0, 2.0, 0.0, 0.0, 1.0, 0.0, [1.0, 0.0, 2.0, 1.0, 1.0, 1.0, 0.0, 0.0, 1.0, 0.0, 0.0, 0.0, 0.0, 22.0, 1019.0, 3.0, 1.0, 22.0, 29.0, 2.0, 1.0], [16.204259137754192, 3.7957408622458066], [0.8102129568877097, 0.18978704311229033], 0.0, 'No Risk'], ['less_0', 10, 'all_credits_paid_back', 'car_used', 788, 'less_100', '1_to_4', 3, 'male', 'none', 2, 'real_estate', 22, 'none', 'own', 1, 'skilled', 1, 'none', 'yes', 1.0, 3.0, 0.0, 0.0, 0.0, 0.0, 0.0, 0.0, 2.0, 0.0, 2.0, 0.0, 0.0, [21, [0, 1, 2, 7, 13, 14, 15, 16, 17, 18, 19, 20], [1.0, 3.0, 2.0, 2.0, 10.0, 788.0, 3.0, 2.0, 10.0, 22.0, 1.0, 1.0]], [18.968910049679707, 1.0310899503202973], [0.9484455024839852, 0.051554497516014854], 0.0, 'No Risk'], ['greater_200', 21, 'credits_paid_to_date', 'furniture', 889, '100_to_500', 'unemployed', 2, 'male', 'none', 2, 'car_other', 21, 'none', 'own', 1, 'skilled', 1, 'none', 'yes', 3.0, 1.0, 4.0, 1.0, 0.0, 0.0, 0.0, 0.0, 1.0, 0.0, 1.0, 0.0, 0.0, [3.0, 1.0, 1.0, 1.0, 4.0, 0.0, 0.0, 1.0, 0.0, 0.0, 0.0, 0.0, 0.0, 21.0, 889.0, 2.0, 2.0, 21.0, 21.0, 1.0, 1.0], [16.914410887500054, 3.0855891124999473], [0.8457205443750027, 0.15427945562499737], 0.0, 'No Risk'], ['less_0', 4, 'credits_paid_to_date', 'car_new', 250, '100_to_500', '4_to_7', 1, 'male', 'none', 1, 'savings_insurance', 21, 'stores', 'own', 1, 'skilled', 1, 'none', 'yes', 1.0, 1.0, 1.0, 1.0, 0.0, 0.0, 1.0, 0.0, 0.0, 0.0, 0.0, 0.0, 0.0, [1.0, 1.0, 0.0, 1.0, 1.0, 0.0, 0.0, 0.0, 1.0, 0.0, 0.0, 0.0, 0.0, 4.0, 250.0, 1.0, 1.0, 4.0, 21.0, 1.0, 1.0], [18.553054076510897, 1.4469459234890998], [0.927652703825545, 0.072347296174455], 0.0, 'No Risk'], ['0_to_200', 17, 'no_credits', 'car_new', 1662, 'less_100', 'less_1', 2, 'female', 'none', 2, 'savings_insurance', 32, 'none', 'own', 2, 'skilled', 1, 'yes', 'yes', 2.0, 4.0, 3.0, 0.0, 0.0, 0.0, 0.0, 0.0, 0.0, 0.0, 0.0, 1.0, 1.0, [2.0, 4.0, 0.0, 0.0, 3.0, 1.0, 0.0, 0.0, 0.0, 0.0, 0.0, 1.0, 0.0, 17.0, 1662.0, 2.0, 2.0, 17.0, 32.0, 2.0, 1.0], [17.47889126737168, 2.521108732628315], [0.8739445633685843, 0.12605543663141577], 0.0, 'No Risk'], ['0_to_200', 14, 'prior_payments_delayed', 'radio_tv', 1896, 'greater_1000', '1_to_4', 2, 'male', 'co-applicant', 3, 'car_other', 39, 'none', 'own', 2, 'skilled', 1, 'none', 'yes', 2.0, 0.0, 0.0, 3.0, 0.0, 0.0, 0.0, 0.0, 3.0, 1.0, 1.0, 0.0, 0.0, [2.0, 0.0, 3.0, 3.0, 0.0, 0.0, 1.0, 1.0, 0.0, 0.0, 0.0, 0.0, 0.0, 14.0, 1896.0, 2.0, 3.0, 14.0, 39.0, 2.0, 1.0], [14.37868057685736, 5.621319423142641], [0.718934028842868, 0.28106597115713206], 0.0, 'No Risk'], ['no_checking', 47, 'outstanding_credit', 'vacation', 4785, 'unknown', 'greater_7', 5, 'male', 'none', 5, 'unknown', 51, 'stores', 'own', 2, 'unskilled', 2, 'yes', 'yes', 0.0, 2.0, 2.0, 4.0, 0.0, 0.0, 1.0, 1.0, 6.0, 0.0, 3.0, 0.0, 1.0, [0.0, 2.0, 6.0, 4.0, 2.0, 0.0, 0.0, 3.0, 1.0, 0.0, 1.0, 1.0, 0.0, 47.0, 4785.0, 5.0, 5.0, 47.0, 51.0, 2.0, 2.0], [4.698752581043927, 15.301247418956073], [0.23493762905219634, 0.7650623709478037], 1.0, 'Risk'], ['0_to_200', 16, 'prior_payments_delayed', 'radio_tv', 4259, '500_to_1000', 'greater_7', 4, 'female', 'none', 3, 'car_other', 37, 'none', 'own', 1, 'skilled', 1, 'none', 'yes', 2.0, 0.0, 2.0, 2.0, 0.0, 0.0, 0.0, 0.0, 3.0, 0.0, 1.0, 1.0, 0.0, [2.0, 0.0, 3.0, 2.0, 2.0, 1.0, 0.0, 1.0, 0.0, 0.0, 0.0, 0.0, 0.0, 16.0, 4259.0, 4.0, 3.0, 16.0, 37.0, 1.0, 1.0], [14.308906476960848, 5.691093523039153], [0.7154453238480424, 0.2845546761519576], 0.0, 'No Risk'], ['0_to_200', 28, 'outstanding_credit', 'car_used', 3941, '500_to_1000', '4_to_7', 4, 'male', 'none', 3, 'car_other', 35, 'none', 'own', 1, 'skilled', 1, 'yes', 'yes', 2.0, 2.0, 1.0, 2.0, 0.0, 0.0, 0.0, 0.0, 2.0, 0.0, 1.0, 0.0, 1.0, [2.0, 2.0, 2.0, 2.0, 1.0, 0.0, 0.0, 1.0, 0.0, 0.0, 0.0, 1.0, 0.0, 28.0, 3941.0, 4.0, 3.0, 28.0, 35.0, 1.0, 1.0], [11.554074051319846, 8.445925948680152], [0.5777037025659923, 0.4222962974340076], 0.0, 'No Risk'], ['less_0', 4, 'all_credits_paid_back', 'car_new', 250, 'less_100', 'less_1', 1, 'female', 'none', 1, 'real_estate', 23, 'none', 'rent', 1, 'skilled', 1, 'none', 'yes', 1.0, 3.0, 3.0, 0.0, 0.0, 1.0, 0.0, 0.0, 0.0, 0.0, 2.0, 1.0, 0.0, [1.0, 3.0, 0.0, 0.0, 3.0, 1.0, 0.0, 2.0, 0.0, 1.0, 0.0, 0.0, 0.0, 4.0, 250.0, 1.0, 1.0, 4.0, 23.0, 1.0, 1.0], [19.73822260499371, 0.2617773950062894], [0.9869111302496855, 0.01308886975031447], 0.0, 'No Risk'], ['less_0', 10, 'all_credits_paid_back', 'furniture', 3496, 'less_100', 'unemployed', 1, 'male', 'none', 2, 'savings_insurance', 38, 'none', 'own', 1, 'skilled', 1, 'none', 'yes', 1.0, 3.0, 4.0, 0.0, 0.0, 0.0, 0.0, 0.0, 1.0, 0.0, 0.0, 0.0, 0.0, [21, [0, 1, 2, 4, 13, 14, 15, 16, 17, 18, 19, 20], [1.0, 3.0, 1.0, 4.0, 10.0, 3496.0, 1.0, 2.0, 10.0, 38.0, 1.0, 1.0]], [17.655474420349062, 2.3445255796509334], [0.8827737210174532, 0.1172262789825467], 0.0, 'No Risk'], ['less_0', 31, 'outstanding_credit', 'car_used', 3709, '100_to_500', 'greater_7', 4, 'male', 'none', 4, 'savings_insurance', 39, 'stores', 'rent', 1, 'unskilled', 2, 'none', 'yes', 1.0, 2.0, 2.0, 1.0, 0.0, 1.0, 1.0, 1.0, 2.0, 0.0, 0.0, 0.0, 0.0, [1.0, 2.0, 2.0, 1.0, 2.0, 0.0, 0.0, 0.0, 1.0, 1.0, 1.0, 0.0, 0.0, 31.0, 3709.0, 4.0, 4.0, 31.0, 39.0, 1.0, 2.0], [12.936106281630192, 7.063893718369808], [0.6468053140815095, 0.3531946859184904], 0.0, 'No Risk'], ['no_checking', 36, 'prior_payments_delayed', 'vacation', 8405, 'greater_1000', 'greater_7', 5, 'male', 'co-applicant', 5, 'car_other', 33, 'none', 'free', 2, 'skilled', 2, 'yes', 'yes', 0.0, 0.0, 2.0, 3.0, 0.0, 2.0, 0.0, 0.0, 6.0, 1.0, 1.0, 0.0, 1.0, [0.0, 0.0, 6.0, 3.0, 2.0, 0.0, 1.0, 1.0, 0.0, 2.0, 0.0, 1.0, 0.0, 36.0, 8405.0, 5.0, 5.0, 36.0, 33.0, 2.0, 2.0], [2.886695905176882, 17.113304094823118], [0.1443347952588441, 0.8556652047411559], 1.0, 'Risk'], ['less_0', 9, 'all_credits_paid_back', 'education', 3882, 'less_100', '1_to_4', 3, 'female', 'none', 1, 'real_estate', 24, 'none', 'own', 1, 'management_self-employed', 1, 'none', 'yes', 1.0, 3.0, 0.0, 0.0, 0.0, 0.0, 0.0, 2.0, 7.0, 0.0, 2.0, 1.0, 0.0, [1.0, 3.0, 7.0, 0.0, 0.0, 1.0, 0.0, 2.0, 0.0, 0.0, 2.0, 0.0, 0.0, 9.0, 3882.0, 3.0, 1.0, 9.0, 24.0, 1.0, 1.0], [18.82217245440924, 1.1778275455907603], [0.941108622720462, 0.05889137727953801], 0.0, 'No Risk'], ['0_to_200', 16, 'credits_paid_to_date', 'car_new', 547, '500_to_1000', 'less_1', 2, 'female', 'none', 3, 'real_estate', 22, 'none', 'own', 1, 'skilled', 1, 'none', 'yes', 2.0, 1.0, 3.0, 2.0, 0.0, 0.0, 0.0, 0.0, 0.0, 0.0, 2.0, 1.0, 0.0, [2.0, 1.0, 0.0, 2.0, 3.0, 1.0, 0.0, 2.0, 0.0, 0.0, 0.0, 0.0, 0.0, 16.0, 547.0, 2.0, 3.0, 16.0, 22.0, 1.0, 1.0], [19.240311917722682, 0.7596880822773144], [0.9620155958861343, 0.03798440411386573], 0.0, 'No Risk'], ['no_checking', 8, 'prior_payments_delayed', 'car_used', 2335, '100_to_500', '4_to_7', 3, 'female', 'none', 3, 'car_other', 48, 'stores', 'rent', 1, 'unskilled', 1, 'none', 'yes', 0.0, 0.0, 1.0, 1.0, 0.0, 1.0, 1.0, 1.0, 2.0, 0.0, 1.0, 1.0, 0.0, [0.0, 0.0, 2.0, 1.0, 1.0, 1.0, 0.0, 1.0, 1.0, 1.0, 1.0, 0.0, 0.0, 8.0, 2335.0, 3.0, 3.0, 8.0, 48.0, 1.0, 1.0], [9.982779659732998, 10.017220340267006], [0.4991389829866498, 0.5008610170133502], 1.0, 'Risk'], ['0_to_200', 22, 'outstanding_credit', 'car_used', 4484, '100_to_500', 'greater_7', 4, 'male', 'co-applicant', 3, 'car_other', 57, 'bank', 'own', 2, 'unskilled', 2, 'yes', 'yes', 2.0, 2.0, 2.0, 1.0, 0.0, 0.0, 2.0, 1.0, 2.0, 1.0, 1.0, 0.0, 1.0, [2.0, 2.0, 2.0, 1.0, 2.0, 0.0, 1.0, 1.0, 2.0, 0.0, 1.0, 1.0, 0.0, 22.0, 4484.0, 4.0, 3.0, 22.0, 57.0, 2.0, 2.0], [10.256836859212186, 9.743163140787814], [0.5128418429606093, 0.4871581570393907], 0.0, 'No Risk'], ['no_checking', 37, 'outstanding_credit', 'retraining', 7108, 'greater_1000', 'greater_7', 4, 'male', 'co-applicant', 4, 'car_other', 50, 'none', 'free', 2, 'skilled', 1, 'yes', 'yes', 0.0, 2.0, 2.0, 3.0, 0.0, 2.0, 0.0, 0.0, 8.0, 1.0, 1.0, 0.0, 1.0, [0.0, 2.0, 8.0, 3.0, 2.0, 0.0, 1.0, 1.0, 0.0, 2.0, 0.0, 1.0, 0.0, 37.0, 7108.0, 4.0, 4.0, 37.0, 50.0, 2.0, 1.0], [1.860181860794421, 18.139818139205577], [0.09300909303972106, 0.906990906960279], 1.0, 'Risk'], ['0_to_200', 14, 'credits_paid_to_date', 'appliances', 250, 'less_100', 'less_1', 2, 'female', 'none', 1, 'real_estate', 19, 'bank', 'rent', 1, 'unemployed', 1, 'none', 'yes', 2.0, 1.0, 3.0, 0.0, 0.0, 1.0, 2.0, 3.0, 4.0, 0.0, 2.0, 1.0, 0.0, [2.0, 1.0, 4.0, 0.0, 3.0, 1.0, 0.0, 2.0, 2.0, 1.0, 3.0, 0.0, 0.0, 14.0, 250.0, 2.0, 1.0, 14.0, 19.0, 1.0, 1.0], [19.64290389548508, 0.35709610451491886], [0.982145194774254, 0.017854805225745944], 0.0, 'No Risk'], ['no_checking', 35, 'prior_payments_delayed', 'appliances', 8082, '100_to_500', 'greater_7', 5, 'female', 'guarantor', 5, 'car_other', 55, 'none', 'free', 2, 'skilled', 1, 'yes', 'yes', 0.0, 0.0, 2.0, 1.0, 0.0, 2.0, 0.0, 0.0, 4.0, 2.0, 1.0, 1.0, 1.0, [0.0, 0.0, 4.0, 1.0, 2.0, 1.0, 2.0, 1.0, 0.0, 2.0, 0.0, 1.0, 0.0, 35.0, 8082.0, 5.0, 5.0, 35.0, 55.0, 2.0, 1.0], [2.6399746213181268, 17.360025378681872], [0.13199873106590634, 0.8680012689340936], 1.0, 'Risk'], ['no_checking', 33, 'prior_payments_delayed', 'furniture', 2556, '500_to_1000', '4_to_7', 3, 'male', 'none', 2, 'real_estate', 37, 'none', 'own', 1, 'skilled', 1, 'none', 'yes', 0.0, 0.0, 1.0, 2.0, 0.0, 0.0, 0.0, 0.0, 1.0, 0.0, 2.0, 0.0, 0.0, [21, [2, 3, 4, 7, 13, 14, 15, 16, 17, 18, 19, 20], [1.0, 2.0, 1.0, 2.0, 33.0, 2556.0, 3.0, 2.0, 33.0, 37.0, 1.0, 1.0]], [13.278522065395158, 6.721477934604843], [0.6639261032697579, 0.3360738967302422], 0.0, 'No Risk'], ['no_checking', 25, 'prior_payments_delayed', 'radio_tv', 4639, 'unknown', '1_to_4', 4, 'male', 'none', 3, 'savings_insurance', 42, 'none', 'own', 2, 'skilled', 2, 'none', 'yes', 0.0, 0.0, 0.0, 4.0, 0.0, 0.0, 0.0, 0.0, 3.0, 0.0, 0.0, 0.0, 0.0, [21, [2, 3, 13, 14, 15, 16, 17, 18, 19, 20], [3.0, 4.0, 25.0, 4639.0, 4.0, 3.0, 25.0, 42.0, 2.0, 2.0]], [12.670875926376048, 7.329124073623949], [0.6335437963188025, 0.3664562036811975], 0.0, 'No Risk'], ['greater_200', 17, 'credits_paid_to_date', 'car_used', 750, 'less_100', '4_to_7', 3, 'male', 'none', 3, 'real_estate', 23, 'none', 'own', 1, 'management_self-employed', 1, 'none', 'yes', 3.0, 1.0, 1.0, 0.0, 0.0, 0.0, 0.0, 2.0, 2.0, 0.0, 2.0, 0.0, 0.0, [3.0, 1.0, 2.0, 0.0, 1.0, 0.0, 0.0, 2.0, 0.0, 0.0, 2.0, 0.0, 0.0, 17.0, 750.0, 3.0, 3.0, 17.0, 23.0, 1.0, 1.0], [18.017761992086697, 1.9822380079133024], [0.9008880996043349, 0.09911190039566511], 0.0, 'No Risk'], ['no_checking', 18, 'credits_paid_to_date', 'car_used', 3509, '100_to_500', '1_to_4', 3, 'female', 'none', 3, 'car_other', 54, 'none', 'own', 1, 'skilled', 1, 'none', 'yes', 0.0, 1.0, 0.0, 1.0, 0.0, 0.0, 0.0, 0.0, 2.0, 0.0, 1.0, 1.0, 0.0, [0.0, 1.0, 2.0, 1.0, 0.0, 1.0, 0.0, 1.0, 0.0, 0.0, 0.0, 0.0, 0.0, 18.0, 3509.0, 3.0, 3.0, 18.0, 54.0, 1.0, 1.0], [11.727920092816086, 8.272079907183912], [0.5863960046408043, 0.41360399535919556], 0.0, 'No Risk'], ['less_0', 4, 'all_credits_paid_back', 'car_used', 250, 'less_100', 'unemployed', 1, 'female', 'none', 2, 'savings_insurance', 25, 'none', 'rent', 1, 'skilled', 1, 'none', 'yes', 1.0, 3.0, 4.0, 0.0, 0.0, 1.0, 0.0, 0.0, 2.0, 0.0, 0.0, 1.0, 0.0, [1.0, 3.0, 2.0, 0.0, 4.0, 1.0, 0.0, 0.0, 0.0, 1.0, 0.0, 0.0, 0.0, 4.0, 250.0, 1.0, 2.0, 4.0, 25.0, 1.0, 1.0], [19.426082668760277, 0.5739173312397212], [0.971304133438014, 0.028695866561986066], 0.0, 'No Risk'], ['0_to_200', 10, 'credits_paid_to_date', 'car_new', 250, 'less_100', '1_to_4', 2, 'male', 'none', 2, 'real_estate', 36, 'bank', 'rent', 1, 'unemployed', 1, 'none', 'yes', 2.0, 1.0, 0.0, 0.0, 0.0, 1.0, 2.0, 3.0, 0.0, 0.0, 2.0, 0.0, 0.0, [2.0, 1.0, 0.0, 0.0, 0.0, 0.0, 0.0, 2.0, 2.0, 1.0, 3.0, 0.0, 0.0, 10.0, 250.0, 2.0, 2.0, 10.0, 36.0, 1.0, 1.0], [18.68697581703589, 1.31302418296411], [0.9343487908517945, 0.0656512091482055], 0.0, 'No Risk'], ['less_0', 4, 'all_credits_paid_back', 'car_new', 250, 'less_100', 'unemployed', 1, 'female', 'none', 2, 'real_estate', 19, 'none', 'rent', 1, 'skilled', 1, 'none', 'yes', 1.0, 3.0, 4.0, 0.0, 0.0, 1.0, 0.0, 0.0, 0.0, 0.0, 2.0, 1.0, 0.0, [1.0, 3.0, 0.0, 0.0, 4.0, 1.0, 0.0, 2.0, 0.0, 1.0, 0.0, 0.0, 0.0, 4.0, 250.0, 1.0, 2.0, 4.0, 19.0, 1.0, 1.0], [19.73822260499371, 0.2617773950062894], [0.9869111302496855, 0.01308886975031447], 0.0, 'No Risk'], ['0_to_200', 14, 'credits_paid_to_date', 'car_used', 250, 'less_100', '4_to_7', 3, 'male', 'none', 3, 'savings_insurance', 27, 'none', 'own', 1, 'skilled', 1, 'none', 'yes', 2.0, 1.0, 1.0, 0.0, 0.0, 0.0, 0.0, 0.0, 2.0, 0.0, 0.0, 0.0, 0.0, [21, [0, 1, 2, 4, 13, 14, 15, 16, 17, 18, 19, 20], [2.0, 1.0, 2.0, 1.0, 14.0, 250.0, 3.0, 3.0, 14.0, 27.0, 1.0, 1.0]], [16.523296108664596, 3.476703891335405], [0.8261648054332298, 0.17383519456677027], 0.0, 'No Risk'], ['0_to_200', 14, 'credits_paid_to_date', 'car_new', 250, 'less_100', 'less_1', 2, 'female', 'none', 1, 'real_estate', 28, 'none', 'rent', 1, 'skilled', 1, 'none', 'yes', 2.0, 1.0, 3.0, 0.0, 0.0, 1.0, 0.0, 0.0, 0.0, 0.0, 2.0, 1.0, 0.0, [2.0, 1.0, 0.0, 0.0, 3.0, 1.0, 0.0, 2.0, 0.0, 1.0, 0.0, 0.0, 0.0, 14.0, 250.0, 2.0, 1.0, 14.0, 28.0, 1.0, 1.0], [19.64290389548508, 0.35709610451491886], [0.982145194774254, 0.017854805225745944], 0.0, 'No Risk'], ['no_checking', 36, 'prior_payments_delayed', 'other', 8106, '100_to_500', 'greater_7', 4, 'male', 'none', 3, 'unknown', 47, 'none', 'free', 2, 'skilled', 1, 'none', 'yes', 0.0, 0.0, 2.0, 1.0, 0.0, 2.0, 0.0, 0.0, 10.0, 0.0, 3.0, 0.0, 0.0, [0.0, 0.0, 10.0, 1.0, 2.0, 0.0, 0.0, 3.0, 0.0, 2.0, 0.0, 0.0, 0.0, 36.0, 8106.0, 4.0, 3.0, 36.0, 47.0, 2.0, 1.0], [6.161805556156737, 13.838194443843264], [0.3080902778078368, 0.6919097221921632], 1.0, 'Risk'], ['0_to_200', 26, 'outstanding_credit', 'furniture', 5520, '100_to_500', '4_to_7', 4, 'male', 'none', 3, 'car_other', 48, 'none', 'own', 2, 'skilled', 1, 'yes', 'yes', 2.0, 2.0, 1.0, 1.0, 0.0, 0.0, 0.0, 0.0, 1.0, 0.0, 1.0, 0.0, 1.0, [2.0, 2.0, 1.0, 1.0, 1.0, 0.0, 0.0, 1.0, 0.0, 0.0, 0.0, 1.0, 0.0, 26.0, 5520.0, 4.0, 3.0, 26.0, 48.0, 2.0, 1.0], [10.208757379644432, 9.79124262035557], [0.5104378689822215, 0.4895621310177785], 0.0, 'No Risk'], ['less_0', 34, 'credits_paid_to_date', 'furniture', 1813, 'less_100', '4_to_7', 3, 'male', 'none', 3, 'savings_insurance', 26, 'none', 'own', 1, 'skilled', 1, 'none', 'yes', 1.0, 1.0, 1.0, 0.0, 0.0, 0.0, 0.0, 0.0, 1.0, 0.0, 0.0, 0.0, 0.0, [21, [0, 1, 2, 4, 13, 14, 15, 16, 17, 18, 19, 20], [1.0, 1.0, 1.0, 1.0, 34.0, 1813.0, 3.0, 3.0, 34.0, 26.0, 1.0, 1.0]], [13.716440553096833, 6.283559446903169], [0.6858220276548417, 0.31417797234515843], 0.0, 'No Risk'], ['0_to_200', 4, 'prior_payments_delayed', 'car_new', 2309, 'less_100', 'less_1', 2, 'female', 'none', 2, 'savings_insurance', 37, 'none', 'own', 1, 'skilled', 1, 'yes', 'yes', 2.0, 0.0, 3.0, 0.0, 0.0, 0.0, 0.0, 0.0, 0.0, 0.0, 0.0, 1.0, 1.0, [21, [0, 4, 5, 11, 13, 14, 15, 16, 17, 18, 19, 20], [2.0, 3.0, 1.0, 1.0, 4.0, 2309.0, 2.0, 2.0, 4.0, 37.0, 1.0, 1.0]], [17.408446635188117, 2.591553364811877], [0.8704223317594062, 0.12957766824059389], 0.0, 'No Risk'], ['no_checking', 17, 'credits_paid_to_date', 'car_new', 3269, '100_to_500', '4_to_7', 4, 'female', 'none', 4, 'real_estate', 32, 'none', 'own', 1, 'skilled', 1, 'yes', 'yes', 0.0, 1.0, 1.0, 1.0, 0.0, 0.0, 0.0, 0.0, 0.0, 0.0, 2.0, 1.0, 1.0, [0.0, 1.0, 0.0, 1.0, 1.0, 1.0, 0.0, 2.0, 0.0, 0.0, 0.0, 1.0, 0.0, 17.0, 3269.0, 4.0, 4.0, 17.0, 32.0, 1.0, 1.0], [13.663599738978597, 6.336400261021401], [0.6831799869489299, 0.31682001305107005], 0.0, 'No Risk'], ['no_checking', 42, 'prior_payments_delayed', 'repairs', 6136, 'greater_1000', 'greater_7', 5, 'male', 'none', 4, 'savings_insurance', 52, 'none', 'free', 2, 'skilled', 1, 'none', 'yes', 0.0, 0.0, 2.0, 3.0, 0.0, 2.0, 0.0, 0.0, 5.0, 0.0, 0.0, 0.0, 0.0, [21, [2, 3, 4, 9, 13, 14, 15, 16, 17, 18, 19, 20], [5.0, 3.0, 2.0, 2.0, 42.0, 6136.0, 5.0, 4.0, 42.0, 52.0, 2.0, 1.0]], [7.231249548460564, 12.768750451539438], [0.3615624774230282, 0.6384375225769718], 1.0, 'Risk'], ['no_checking', 26, 'prior_payments_delayed', 'appliances', 5024, 'unknown', 'greater_7', 3, 'male', 'none', 4, 'unknown', 45, 'none', 'own', 2, 'skilled', 2, 'yes', 'yes', 0.0, 0.0, 2.0, 4.0, 0.0, 0.0, 0.0, 0.0, 4.0, 0.0, 3.0, 0.0, 1.0, [0.0, 0.0, 4.0, 4.0, 2.0, 0.0, 0.0, 3.0, 0.0, 0.0, 0.0, 1.0, 0.0, 26.0, 5024.0, 3.0, 4.0, 26.0, 45.0, 2.0, 2.0], [5.939434614244323, 14.06056538575568], [0.2969717307122161, 0.7030282692877838], 1.0, 'Risk'], ['greater_200', 15, 'prior_payments_delayed', 'radio_tv', 3708, '100_to_500', '4_to_7', 4, 'female', 'none', 4, 'savings_insurance', 33, 'none', 'own', 1, 'skilled', 1, 'none', 'yes', 3.0, 0.0, 1.0, 1.0, 0.0, 0.0, 0.0, 0.0, 3.0, 0.0, 0.0, 1.0, 0.0, [3.0, 0.0, 3.0, 1.0, 1.0, 1.0, 0.0, 0.0, 0.0, 0.0, 0.0, 0.0, 0.0, 15.0, 3708.0, 4.0, 4.0, 15.0, 33.0, 1.0, 1.0], [14.265836643137431, 5.734163356862569], [0.7132918321568715, 0.28670816784312847], 0.0, 'No Risk'], ['less_0', 10, 'prior_payments_delayed', 'furniture', 1274, '500_to_1000', 'less_1', 2, 'male', 'co-applicant', 1, 'car_other', 46, 'stores', 'own', 2, 'skilled', 1, 'yes', 'yes', 1.0, 0.0, 3.0, 2.0, 0.0, 0.0, 1.0, 0.0, 1.0, 1.0, 1.0, 0.0, 1.0, [1.0, 0.0, 1.0, 2.0, 3.0, 0.0, 1.0, 1.0, 1.0, 0.0, 0.0, 1.0, 0.0, 10.0, 1274.0, 2.0, 1.0, 10.0, 46.0, 2.0, 1.0], [15.60843840420933, 4.391561595790668], [0.7804219202104665, 0.2195780797895334], 0.0, 'No Risk'], ['0_to_200', 22, 'all_credits_paid_back', 'car_new', 5255, 'less_100', 'less_1', 2, 'male', 'co-applicant', 2, 'real_estate', 40, 'none', 'own', 1, 'skilled', 1, 'none', 'yes', 2.0, 3.0, 3.0, 0.0, 0.0, 0.0, 0.0, 0.0, 0.0, 1.0, 2.0, 0.0, 0.0, [2.0, 3.0, 0.0, 0.0, 3.0, 0.0, 1.0, 2.0, 0.0, 0.0, 0.0, 0.0, 0.0, 22.0, 5255.0, 2.0, 2.0, 22.0, 40.0, 1.0, 1.0], [16.01901367883929, 3.9809863211607093], [0.8009506839419644, 0.19904931605803547], 0.0, 'No Risk'], ['less_0', 12, 'prior_payments_delayed', 'furniture', 1686, 'less_100', 'less_1', 2, 'male', 'none', 3, 'real_estate', 27, 'none', 'rent', 1, 'management_self-employed', 1, 'none', 'yes', 1.0, 0.0, 3.0, 0.0, 0.0, 1.0, 0.0, 2.0, 1.0, 0.0, 2.0, 0.0, 0.0, [1.0, 0.0, 1.0, 0.0, 3.0, 0.0, 0.0, 2.0, 0.0, 1.0, 2.0, 0.0, 0.0, 12.0, 1686.0, 2.0, 3.0, 12.0, 27.0, 1.0, 1.0], [19.00359142426461, 0.9964085757353883], [0.9501795712132306, 0.04982042878676943], 0.0, 'No Risk'], ['less_0', 20, 'credits_paid_to_date', 'car_new', 2789, '500_to_1000', 'unemployed', 2, 'male', 'none', 2, 'savings_insurance', 25, 'bank', 'rent', 1, 'unemployed', 1, 'none', 'yes', 1.0, 1.0, 4.0, 2.0, 0.0, 1.0, 2.0, 3.0, 0.0, 0.0, 0.0, 0.0, 0.0, [1.0, 1.0, 0.0, 2.0, 4.0, 0.0, 0.0, 0.0, 2.0, 1.0, 3.0, 0.0, 0.0, 20.0, 2789.0, 2.0, 2.0, 20.0, 25.0, 1.0, 1.0], [17.957969926607575, 2.0420300733924233], [0.8978984963303788, 0.10210150366962116], 0.0, 'No Risk'], ['no_checking', 28, 'outstanding_credit', 'radio_tv', 4446, '500_to_1000', '4_to_7', 4, 'male', 'none', 5, 'car_other', 38, 'none', 'own', 2, 'skilled', 1, 'yes', 'yes', 0.0, 2.0, 1.0, 2.0, 0.0, 0.0, 0.0, 0.0, 3.0, 0.0, 1.0, 0.0, 1.0, [0.0, 2.0, 3.0, 2.0, 1.0, 0.0, 0.0, 1.0, 0.0, 0.0, 0.0, 1.0, 0.0, 28.0, 4446.0, 4.0, 5.0, 28.0, 38.0, 2.0, 1.0], [9.536506775298937, 10.463493224701063], [0.47682533876494687, 0.5231746612350532], 1.0, 'Risk'], ['no_checking', 17, 'credits_paid_to_date', 'radio_tv', 4389, '500_to_1000', 'less_1', 2, 'male', 'co-applicant', 4, 'savings_insurance', 54, 'none', 'own', 1, 'skilled', 1, 'yes', 'yes', 0.0, 1.0, 3.0, 2.0, 0.0, 0.0, 0.0, 0.0, 3.0, 1.0, 0.0, 0.0, 1.0, [0.0, 1.0, 3.0, 2.0, 3.0, 0.0, 1.0, 0.0, 0.0, 0.0, 0.0, 1.0, 0.0, 17.0, 4389.0, 2.0, 4.0, 17.0, 54.0, 1.0, 1.0], [12.129195833364504, 7.870804166635495], [0.6064597916682252, 0.3935402083317748], 0.0, 'No Risk'], ['greater_200', 24, 'credits_paid_to_date', 'retraining', 6969, 'less_100', '1_to_4', 4, 'male', 'none', 4, 'car_other', 33, 'none', 'own', 2, 'management_self-employed', 1, 'none', 'yes', 3.0, 1.0, 0.0, 0.0, 0.0, 0.0, 0.0, 2.0, 8.0, 0.0, 1.0, 0.0, 0.0, [3.0, 1.0, 8.0, 0.0, 0.0, 0.0, 0.0, 1.0, 0.0, 0.0, 2.0, 0.0, 0.0, 24.0, 6969.0, 4.0, 4.0, 24.0, 33.0, 2.0, 1.0], [12.711866601584898, 7.288133398415102], [0.6355933300792449, 0.3644066699207551], 0.0, 'No Risk'], ['no_checking', 28, 'prior_payments_delayed', 'radio_tv', 4709, 'greater_1000', '4_to_7', 4, 'male', 'none', 5, 'savings_insurance', 39, 'none', 'own', 2, 'management_self-employed', 1, 'yes', 'yes', 0.0, 0.0, 1.0, 3.0, 0.0, 0.0, 0.0, 2.0, 3.0, 0.0, 0.0, 0.0, 1.0, [0.0, 0.0, 3.0, 3.0, 1.0, 0.0, 0.0, 0.0, 0.0, 0.0, 2.0, 1.0, 0.0, 28.0, 4709.0, 4.0, 5.0, 28.0, 39.0, 2.0, 1.0], [10.644647142085459, 9.35535285791454], [0.532232357104273, 0.467767642895727], 0.0, 'No Risk'], ['0_to_200', 22, 'outstanding_credit', 'radio_tv', 3835, '100_to_500', 'greater_7', 4, 'male', 'none', 2, 'unknown', 45, 'none', 'own', 1, 'skilled', 1, 'none', 'yes', 2.0, 2.0, 2.0, 1.0, 0.0, 0.0, 0.0, 0.0, 3.0, 0.0, 3.0, 0.0, 0.0, [2.0, 2.0, 3.0, 1.0, 2.0, 0.0, 0.0, 3.0, 0.0, 0.0, 0.0, 0.0, 0.0, 22.0, 3835.0, 4.0, 2.0, 22.0, 45.0, 1.0, 1.0], [12.793605895012172, 7.206394104987828], [0.6396802947506086, 0.3603197052493914], 0.0, 'No Risk'], ['no_checking', 16, 'outstanding_credit', 'radio_tv', 5300, '100_to_500', 'greater_7', 4, 'male', 'none', 4, 'unknown', 40, 'none', 'own', 2, 'skilled', 2, 'yes', 'yes', 0.0, 2.0, 2.0, 1.0, 0.0, 0.0, 0.0, 0.0, 3.0, 0.0, 3.0, 0.0, 1.0, [0.0, 2.0, 3.0, 1.0, 2.0, 0.0, 0.0, 3.0, 0.0, 0.0, 0.0, 1.0, 0.0, 16.0, 5300.0, 4.0, 4.0, 16.0, 40.0, 2.0, 2.0], [8.560655632614909, 11.43934436738509], [0.42803278163074543, 0.5719672183692545], 1.0, 'Risk'], ['0_to_200', 28, 'credits_paid_to_date', 'car_used', 2736, 'less_100', 'less_1', 3, 'female', 'none', 3, 'car_other', 34, 'bank', 'rent', 1, 'unskilled', 1, 'yes', 'yes', 2.0, 1.0, 3.0, 0.0, 0.0, 1.0, 2.0, 1.0, 2.0, 0.0, 1.0, 1.0, 1.0, [2.0, 1.0, 2.0, 0.0, 3.0, 1.0, 0.0, 1.0, 2.0, 1.0, 1.0, 1.0, 0.0, 28.0, 2736.0, 3.0, 3.0, 28.0, 34.0, 1.0, 1.0], [14.845650982399544, 5.154349017600456], [0.7422825491199772, 0.2577174508800228], 0.0, 'No Risk'], ['no_checking', 26, 'outstanding_credit', 'furniture', 6722, '500_to_1000', '1_to_4', 4, 'male', 'none', 3, 'car_other', 39, 'none', 'own', 1, 'management_self-employed', 2, 'yes', 'yes', 0.0, 2.0, 0.0, 2.0, 0.0, 0.0, 0.0, 2.0, 1.0, 0.0, 1.0, 0.0, 1.0, [0.0, 2.0, 1.0, 2.0, 0.0, 0.0, 0.0, 1.0, 0.0, 0.0, 2.0, 1.0, 0.0, 26.0, 6722.0, 4.0, 3.0, 26.0, 39.0, 1.0, 2.0], [11.128641208947505, 8.871358791052495], [0.5564320604473753, 0.44356793955262475], 0.0, 'No Risk'], ['no_checking', 8, 'prior_payments_delayed', 'retraining', 4348, '100_to_500', '1_to_4', 4, 'female', 'none', 4, 'unknown', 48, 'none', 'own', 2, 'management_self-employed', 1, 'none', 'yes', 0.0, 0.0, 0.0, 1.0, 0.0, 0.0, 0.0, 2.0, 8.0, 0.0, 3.0, 1.0, 0.0, [0.0, 0.0, 8.0, 1.0, 0.0, 1.0, 0.0, 3.0, 0.0, 0.0, 2.0, 0.0, 0.0, 8.0, 4348.0, 4.0, 4.0, 8.0, 48.0, 2.0, 1.0], [11.705658918448789, 8.294341081551208], [0.5852829459224396, 0.4147170540775605], 0.0, 'No Risk'], ['no_checking', 13, 'credits_paid_to_date', 'furniture', 6868, 'less_100', '1_to_4', 4, 'male', 'none', 4, 'savings_insurance', 45, 'none', 'own', 1, 'management_self-employed', 1, 'none', 'yes', 0.0, 1.0, 0.0, 0.0, 0.0, 0.0, 0.0, 2.0, 1.0, 0.0, 0.0, 0.0, 0.0, [21, [1, 2, 10, 13, 14, 15, 16, 17, 18, 19, 20], [1.0, 1.0, 2.0, 13.0, 6868.0, 4.0, 4.0, 13.0, 45.0, 1.0, 1.0]], [14.033397357255602, 5.966602642744396], [0.7016698678627801, 0.2983301321372198], 0.0, 'No Risk'], ['no_checking', 38, 'outstanding_credit', 'radio_tv', 4296, 'greater_1000', 'greater_7', 4, 'male', 'co-applicant', 3, 'unknown', 56, 'none', 'free', 2, 'skilled', 1, 'yes', 'yes', 0.0, 2.0, 2.0, 3.0, 0.0, 2.0, 0.0, 0.0, 3.0, 1.0, 3.0, 0.0, 1.0, [0.0, 2.0, 3.0, 3.0, 2.0, 0.0, 1.0, 3.0, 0.0, 2.0, 0.0, 1.0, 0.0, 38.0, 4296.0, 4.0, 3.0, 38.0, 56.0, 2.0, 1.0], [2.1653511216137526, 17.834648878386247], [0.10826755608068764, 0.8917324439193124], 1.0, 'Risk'], ['no_checking', 32, 'prior_payments_delayed', 'business', 5778, '100_to_500', '4_to_7', 4, 'male', 'none', 3, 'savings_insurance', 37, 'none', 'own', 2, 'management_self-employed', 2, 'none', 'yes', 0.0, 0.0, 1.0, 1.0, 0.0, 0.0, 0.0, 2.0, 9.0, 0.0, 0.0, 0.0, 0.0, [21, [2, 3, 4, 10, 13, 14, 15, 16, 17, 18, 19, 20], [9.0, 1.0, 1.0, 2.0, 32.0, 5778.0, 4.0, 3.0, 32.0, 37.0, 2.0, 2.0]], [11.534945551939947, 8.465054448060053], [0.5767472775969973, 0.42325272240300266], 0.0, 'No Risk'], ['no_checking', 33, 'credits_paid_to_date', 'car_used', 3878, '100_to_500', '1_to_4', 4, 'male', 'none', 4, 'car_other', 35, 'none', 'own', 1, 'skilled', 1, 'none', 'yes', 0.0, 1.0, 0.0, 1.0, 0.0, 0.0, 0.0, 0.0, 2.0, 0.0, 1.0, 0.0, 0.0, [21, [1, 2, 3, 7, 13, 14, 15, 16, 17, 18, 19, 20], [1.0, 2.0, 1.0, 1.0, 33.0, 3878.0, 4.0, 4.0, 33.0, 35.0, 1.0, 1.0]], [12.149901766412448, 7.850098233587552], [0.6074950883206224, 0.3925049116793776], 0.0, 'No Risk'], ['no_checking', 32, 'prior_payments_delayed', 'business', 3630, '100_to_500', 'less_1', 3, 'female', 'none', 2, 'savings_insurance', 45, 'none', 'own', 1, 'skilled', 1, 'none', 'yes', 0.0, 0.0, 3.0, 1.0, 0.0, 0.0, 0.0, 0.0, 9.0, 0.0, 0.0, 1.0, 0.0, [21, [2, 3, 4, 5, 13, 14, 15, 16, 17, 18, 19, 20], [9.0, 1.0, 3.0, 1.0, 32.0, 3630.0, 3.0, 2.0, 32.0, 45.0, 1.0, 1.0]], [13.476922926701157, 6.523077073298843], [0.6738461463350578, 0.32615385366494215], 0.0, 'No Risk'], ['no_checking', 37, 'prior_payments_delayed', 'repairs', 6431, 'unknown', '4_to_7', 3, 'male', 'none', 3, 'unknown', 55, 'none', 'own', 2, 'skilled', 2, 'none', 'yes', 0.0, 0.0, 1.0, 4.0, 0.0, 0.0, 0.0, 0.0, 5.0, 0.0, 3.0, 0.0, 0.0, [21, [2, 3, 4, 7, 13, 14, 15, 16, 17, 18, 19, 20], [5.0, 4.0, 1.0, 3.0, 37.0, 6431.0, 3.0, 3.0, 37.0, 55.0, 2.0, 2.0]], [7.054219815279335, 12.945780184720668], [0.3527109907639667, 0.6472890092360333], 1.0, 'Risk'], ['no_checking', 31, 'outstanding_credit', 'radio_tv', 5688, '500_to_1000', 'greater_7', 4, 'male', 'co-applicant', 5, 'unknown', 54, 'stores', 'own', 2, 'unskilled', 2, 'yes', 'yes', 0.0, 2.0, 2.0, 2.0, 0.0, 0.0, 1.0, 1.0, 3.0, 1.0, 3.0, 0.0, 1.0, [0.0, 2.0, 3.0, 2.0, 2.0, 0.0, 1.0, 3.0, 1.0, 0.0, 1.0, 1.0, 0.0, 31.0, 5688.0, 4.0, 5.0, 31.0, 54.0, 2.0, 2.0], [3.106097032709923, 16.893902967290078], [0.15530485163549615, 0.8446951483645039], 1.0, 'Risk'], ['0_to_200', 25, 'outstanding_credit', 'radio_tv', 4611, '100_to_500', '4_to_7', 4, 'male', 'none', 4, 'car_other', 37, 'none', 'own', 2, 'skilled', 1, 'yes', 'yes', 2.0, 2.0, 1.0, 1.0, 0.0, 0.0, 0.0, 0.0, 3.0, 0.0, 1.0, 0.0, 1.0, [2.0, 2.0, 3.0, 1.0, 1.0, 0.0, 0.0, 1.0, 0.0, 0.0, 0.0, 1.0, 0.0, 25.0, 4611.0, 4.0, 4.0, 25.0, 37.0, 2.0, 1.0], [10.551729679834956, 9.448270320165044], [0.5275864839917478, 0.4724135160082522], 0.0, 'No Risk'], ['0_to_200', 14, 'credits_paid_to_date', 'car_new', 1796, 'greater_1000', '4_to_7', 2, 'female', 'none', 2, 'car_other', 37, 'stores', 'own', 2, 'skilled', 1, 'yes', 'yes', 2.0, 1.0, 1.0, 3.0, 0.0, 0.0, 1.0, 0.0, 0.0, 0.0, 1.0, 1.0, 1.0, [2.0, 1.0, 0.0, 3.0, 1.0, 1.0, 0.0, 1.0, 1.0, 0.0, 0.0, 1.0, 0.0, 14.0, 1796.0, 2.0, 2.0, 14.0, 37.0, 2.0, 1.0], [14.511663513379801, 5.488336486620199], [0.7255831756689901, 0.27441682433100995], 0.0, 'No Risk'], ['no_checking', 30, 'outstanding_credit', 'other', 6189, '500_to_1000', 'greater_7', 4, 'male', 'co-applicant', 3, 'car_other', 56, 'none', 'free', 2, 'management_self-employed', 1, 'yes', 'yes', 0.0, 2.0, 2.0, 2.0, 0.0, 2.0, 0.0, 2.0, 10.0, 1.0, 1.0, 0.0, 1.0, [0.0, 2.0, 10.0, 2.0, 2.0, 0.0, 1.0, 1.0, 0.0, 2.0, 2.0, 1.0, 0.0, 30.0, 6189.0, 4.0, 3.0, 30.0, 56.0, 2.0, 1.0], [2.239010155834809, 17.760989844165188], [0.11195050779174047, 0.8880494922082596], 1.0, 'Risk'], ['0_to_200', 22, 'credits_paid_to_date', 'car_used', 1548, '100_to_500', '4_to_7', 3, 'male', 'none', 3, 'savings_insurance', 31, 'none', 'rent', 1, 'skilled', 1, 'none', 'yes', 2.0, 1.0, 1.0, 1.0, 0.0, 1.0, 0.0, 0.0, 2.0, 0.0, 0.0, 0.0, 0.0, [2.0, 1.0, 2.0, 1.0, 1.0, 0.0, 0.0, 0.0, 0.0, 1.0, 0.0, 0.0, 0.0, 22.0, 1548.0, 3.0, 3.0, 22.0, 31.0, 1.0, 1.0], [15.095641680708356, 4.904358319291645], [0.7547820840354178, 0.24521791596458226], 0.0, 'No Risk'], ['less_0', 20, 'prior_payments_delayed', 'car_used', 2588, 'greater_1000', '4_to_7', 3, 'male', 'none', 3, 'car_other', 32, 'stores', 'own', 1, 'skilled', 1, 'none', 'yes', 1.0, 0.0, 1.0, 3.0, 0.0, 0.0, 1.0, 0.0, 2.0, 0.0, 1.0, 0.0, 0.0, [1.0, 0.0, 2.0, 3.0, 1.0, 0.0, 0.0, 1.0, 1.0, 0.0, 0.0, 0.0, 0.0, 20.0, 2588.0, 3.0, 3.0, 20.0, 32.0, 1.0, 1.0], [14.076855703687011, 5.923144296312991], [0.7038427851843505, 0.29615721481564955], 0.0, 'No Risk'], ['0_to_200', 19, 'credits_paid_to_date', 'car_used', 1597, '500_to_1000', '4_to_7', 2, 'female', 'co-applicant', 3, 'car_other', 38, 'stores', 'own', 1, 'unskilled', 1, 'none', 'yes', 2.0, 1.0, 1.0, 2.0, 0.0, 0.0, 1.0, 1.0, 2.0, 1.0, 1.0, 1.0, 0.0, [2.0, 1.0, 2.0, 2.0, 1.0, 1.0, 1.0, 1.0, 1.0, 0.0, 1.0, 0.0, 0.0, 19.0, 1597.0, 2.0, 3.0, 19.0, 38.0, 1.0, 1.0], [13.449738361505387, 6.550261638494614], [0.6724869180752694, 0.3275130819247307], 0.0, 'No Risk'], ['0_to_200', 15, 'prior_payments_delayed', 'radio_tv', 5045, 'less_100', 'less_1', 3, 'male', 'none', 2, 'car_other', 39, 'bank', 'own', 1, 'unemployed', 2, 'none', 'yes', 2.0, 0.0, 3.0, 0.0, 0.0, 0.0, 2.0, 3.0, 3.0, 0.0, 1.0, 0.0, 0.0, [2.0, 0.0, 3.0, 0.0, 3.0, 0.0, 0.0, 1.0, 2.0, 0.0, 3.0, 0.0, 0.0, 15.0, 5045.0, 3.0, 2.0, 15.0, 39.0, 1.0, 2.0], [16.374599074451204, 3.625400925548795], [0.8187299537225602, 0.18127004627743976], 0.0, 'No Risk'], ['no_checking', 37, 'outstanding_credit', 'appliances', 7854, 'unknown', 'greater_7', 6, 'male', 'co-applicant', 4, 'car_other', 56, 'none', 'free', 2, 'skilled', 2, 'yes', 'yes', 0.0, 2.0, 2.0, 4.0, 0.0, 2.0, 0.0, 0.0, 4.0, 1.0, 1.0, 0.0, 1.0, [0.0, 2.0, 4.0, 4.0, 2.0, 0.0, 1.0, 1.0, 0.0, 2.0, 0.0, 1.0, 0.0, 37.0, 7854.0, 6.0, 4.0, 37.0, 56.0, 2.0, 2.0], [1.8435953969724068, 18.156404603027593], [0.09217976984862034, 0.9078202301513796], 1.0, 'Risk'], ['no_checking', 50, 'outstanding_credit', 'vacation', 8129, 'greater_1000', 'greater_7', 4, 'male', 'co-applicant', 5, 'unknown', 53, 'none', 'free', 3, 'skilled', 2, 'yes', 'yes', 0.0, 2.0, 2.0, 3.0, 0.0, 2.0, 0.0, 0.0, 6.0, 1.0, 3.0, 0.0, 1.0, [0.0, 2.0, 6.0, 3.0, 2.0, 0.0, 1.0, 3.0, 0.0, 2.0, 0.0, 1.0, 0.0, 50.0, 8129.0, 4.0, 5.0, 50.0, 53.0, 3.0, 2.0], [1.359588214826685, 18.640411785173313], [0.06797941074133425, 0.9320205892586657], 1.0, 'Risk'], ['0_to_200', 13, 'credits_paid_to_date', 'car_used', 2458, 'less_100', 'less_1', 2, 'female', 'none', 2, 'car_other', 41, 'none', 'own', 2, 'skilled', 1, 'yes', 'yes', 2.0, 1.0, 3.0, 0.0, 0.0, 0.0, 0.0, 0.0, 2.0, 0.0, 1.0, 1.0, 1.0, [2.0, 1.0, 2.0, 0.0, 3.0, 1.0, 0.0, 1.0, 0.0, 0.0, 0.0, 1.0, 0.0, 13.0, 2458.0, 2.0, 2.0, 13.0, 41.0, 2.0, 1.0], [16.484730466692206, 3.5152695333077917], [0.8242365233346104, 0.1757634766653896], 0.0, 'No Risk'], ['less_0', 18, 'credits_paid_to_date', 'radio_tv', 1958, 'less_100', '4_to_7', 3, 'female', 'none', 2, 'savings_insurance', 33, 'bank', 'rent', 2, 'unemployed', 2, 'none', 'yes', 1.0, 1.0, 1.0, 0.0, 0.0, 1.0, 2.0, 3.0, 3.0, 0.0, 0.0, 1.0, 0.0, [1.0, 1.0, 3.0, 0.0, 1.0, 1.0, 0.0, 0.0, 2.0, 1.0, 3.0, 0.0, 0.0, 18.0, 1958.0, 3.0, 2.0, 18.0, 33.0, 2.0, 2.0], [15.68400182522292, 4.31599817477708], [0.784200091261146, 0.21579990873885402], 0.0, 'No Risk'], ['less_0', 4, 'all_credits_paid_back', 'education', 3553, 'less_100', 'less_1', 1, 'female', 'none', 1, 'savings_insurance', 22, 'bank', 'own', 2, 'unskilled', 1, 'none', 'yes', 1.0, 3.0, 3.0, 0.0, 0.0, 0.0, 2.0, 1.0, 7.0, 0.0, 0.0, 1.0, 0.0, [1.0, 3.0, 7.0, 0.0, 3.0, 1.0, 0.0, 0.0, 2.0, 0.0, 1.0, 0.0, 0.0, 4.0, 3553.0, 1.0, 1.0, 4.0, 22.0, 2.0, 1.0], [18.490983826613803, 1.509016173386196], [0.9245491913306901, 0.0754508086693098], 0.0, 'No Risk'], ['greater_200', 23, 'prior_payments_delayed', 'car_used', 5477, '100_to_500', '1_to_4', 4, 'male', 'none', 4, 'savings_insurance', 35, 'none', 'own', 1, 'management_self-employed', 2, 'yes', 'yes', 3.0, 0.0, 0.0, 1.0, 0.0, 0.0, 0.0, 2.0, 2.0, 0.0, 0.0, 0.0, 1.0, [3.0, 0.0, 2.0, 1.0, 0.0, 0.0, 0.0, 0.0, 0.0, 0.0, 2.0, 1.0, 0.0, 23.0, 5477.0, 4.0, 4.0, 23.0, 35.0, 1.0, 2.0], [13.027028607975538, 6.972971392024461], [0.6513514303987769, 0.34864856960122304], 0.0, 'No Risk'], ['0_to_200', 18, 'prior_payments_delayed', 'retraining', 4387, '500_to_1000', '4_to_7', 4, 'male', 'none', 2, 'unknown', 39, 'none', 'own', 1, 'skilled', 2, 'yes', 'yes', 2.0, 0.0, 1.0, 2.0, 0.0, 0.0, 0.0, 0.0, 8.0, 0.0, 3.0, 0.0, 1.0, [2.0, 0.0, 8.0, 2.0, 1.0, 0.0, 0.0, 3.0, 0.0, 0.0, 0.0, 1.0, 0.0, 18.0, 4387.0, 4.0, 2.0, 18.0, 39.0, 1.0, 2.0], [14.327106833355163, 5.672893166644838], [0.7163553416677582, 0.2836446583322419], 0.0, 'No Risk'], ['no_checking', 39, 'prior_payments_delayed', 'repairs', 7078, 'greater_1000', '1_to_4', 3, 'male', 'none', 3, 'savings_insurance', 44, 'none', 'free', 3, 'skilled', 2, 'yes', 'yes', 0.0, 0.0, 0.0, 3.0, 0.0, 2.0, 0.0, 0.0, 5.0, 0.0, 0.0, 0.0, 1.0, [21, [2, 3, 9, 11, 13, 14, 15, 16, 17, 18, 19, 20], [5.0, 3.0, 2.0, 1.0, 39.0, 7078.0, 3.0, 3.0, 39.0, 44.0, 3.0, 2.0]], [10.724929825833133, 9.275070174166869], [0.5362464912916567, 0.4637535087083434], 0.0, 'No Risk'], ['less_0', 6, 'prior_payments_delayed', 'car_new', 2074, 'less_100', 'less_1', 2, 'male', 'none', 3, 'savings_insurance', 30, 'none', 'rent', 1, 'skilled', 1, 'none', 'yes', 1.0, 0.0, 3.0, 0.0, 0.0, 1.0, 0.0, 0.0, 0.0, 0.0, 0.0, 0.0, 0.0, [21, [0, 4, 9, 13, 14, 15, 16, 17, 18, 19, 20], [1.0, 3.0, 1.0, 6.0, 2074.0, 2.0, 3.0, 6.0, 30.0, 1.0, 1.0]], [17.315806436057287, 2.684193563942712], [0.8657903218028643, 0.1342096781971356], 0.0, 'No Risk'], ['no_checking', 25, 'outstanding_credit', 'radio_tv', 5453, '500_to_1000', '4_to_7', 3, 'male', 'none', 4, 'unknown', 46, 'none', 'own', 2, 'skilled', 1, 'yes', 'yes', 0.0, 2.0, 1.0, 2.0, 0.0, 0.0, 0.0, 0.0, 3.0, 0.0, 3.0, 0.0, 1.0, [0.0, 2.0, 3.0, 2.0, 1.0, 0.0, 0.0, 3.0, 0.0, 0.0, 0.0, 1.0, 0.0, 25.0, 5453.0, 3.0, 4.0, 25.0, 46.0, 2.0, 1.0], [6.793863123036021, 13.20613687696398], [0.33969315615180107, 0.6603068438481989], 1.0, 'Risk'], ['no_checking', 22, 'prior_payments_delayed', 'car_used', 2840, '500_to_1000', '1_to_4', 2, 'female', 'none', 4, 'car_other', 46, 'none', 'own', 2, 'skilled', 1, 'none', 'yes', 0.0, 0.0, 0.0, 2.0, 0.0, 0.0, 0.0, 0.0, 2.0, 0.0, 1.0, 1.0, 0.0, [21, [2, 3, 5, 7, 13, 14, 15, 16, 17, 18, 19, 20], [2.0, 2.0, 1.0, 1.0, 22.0, 2840.0, 2.0, 4.0, 22.0, 46.0, 2.0, 1.0]], [10.068048671857898, 9.931951328142103], [0.5034024335928949, 0.4965975664071052], 0.0, 'No Risk'], ['0_to_200', 23, 'outstanding_credit', 'business', 5030, '100_to_500', '4_to_7', 4, 'male', 'none', 4, 'car_other', 46, 'none', 'own', 1, 'management_self-employed', 1, 'yes', 'yes', 2.0, 2.0, 1.0, 1.0, 0.0, 0.0, 0.0, 2.0, 9.0, 0.0, 1.0, 0.0, 1.0, [2.0, 2.0, 9.0, 1.0, 1.0, 0.0, 0.0, 1.0, 0.0, 0.0, 2.0, 1.0, 0.0, 23.0, 5030.0, 4.0, 4.0, 23.0, 46.0, 1.0, 1.0], [11.760412937796557, 8.239587062203443], [0.5880206468898279, 0.41197935311017214], 0.0, 'No Risk'], ['no_checking', 29, 'outstanding_credit', 'appliances', 6531, 'unknown', 'greater_7', 4, 'male', 'co-applicant', 3, 'unknown', 49, 'none', 'free', 3, 'skilled', 2, 'yes', 'yes', 0.0, 2.0, 2.0, 4.0, 0.0, 2.0, 0.0, 0.0, 4.0, 1.0, 3.0, 0.0, 1.0, [0.0, 2.0, 4.0, 4.0, 2.0, 0.0, 1.0, 3.0, 0.0, 2.0, 0.0, 1.0, 0.0, 29.0, 6531.0, 4.0, 3.0, 29.0, 49.0, 3.0, 2.0], [2.800151609643988, 17.19984839035601], [0.1400075804821994, 0.8599924195178007], 1.0, 'Risk'], ['no_checking', 30, 'outstanding_credit', 'radio_tv', 6799, '500_to_1000', '4_to_7', 5, 'male', 'co-applicant', 4, 'car_other', 47, 'none', 'free', 2, 'management_self-employed', 2, 'yes', 'yes', 0.0, 2.0, 1.0, 2.0, 0.0, 2.0, 0.0, 2.0, 3.0, 1.0, 1.0, 0.0, 1.0, [0.0, 2.0, 3.0, 2.0, 1.0, 0.0, 1.0, 1.0, 0.0, 2.0, 2.0, 1.0, 0.0, 30.0, 6799.0, 5.0, 4.0, 30.0, 47.0, 2.0, 2.0], [3.139524313588981, 16.860475686411014], [0.15697621567944908, 0.8430237843205509], 1.0, 'Risk'], ['0_to_200', 4, 'all_credits_paid_back', 'education', 692, '100_to_500', 'less_1', 2, 'female', 'none', 1, 'real_estate', 19, 'none', 'rent', 1, 'skilled', 1, 'none', 'yes', 2.0, 3.0, 3.0, 1.0, 0.0, 1.0, 0.0, 0.0, 7.0, 0.0, 2.0, 1.0, 0.0, [2.0, 3.0, 7.0, 1.0, 3.0, 1.0, 0.0, 2.0, 0.0, 1.0, 0.0, 0.0, 0.0, 4.0, 692.0, 2.0, 1.0, 4.0, 19.0, 1.0, 1.0], [19.441992141564846, 0.5580078584351545], [0.9720996070782423, 0.02790039292175773], 0.0, 'No Risk'], ['0_to_200', 18, 'prior_payments_delayed', 'furniture', 3343, '500_to_1000', 'greater_7', 3, 'male', 'none', 2, 'savings_insurance', 34, 'none', 'own', 2, 'skilled', 1, 'none', 'yes', 2.0, 0.0, 2.0, 2.0, 0.0, 0.0, 0.0, 0.0, 1.0, 0.0, 0.0, 0.0, 0.0, [21, [0, 2, 3, 4, 13, 14, 15, 16, 17, 18, 19, 20], [2.0, 1.0, 2.0, 2.0, 18.0, 3343.0, 3.0, 2.0, 18.0, 34.0, 2.0, 1.0]], [14.468522362413085, 5.531477637586915], [0.7234261181206543, 0.27657388187934573], 0.0, 'No Risk'], ['less_0', 9, 'all_credits_paid_back', 'car_used', 536, 'less_100', 'less_1', 2, 'male', 'none', 1, 'savings_insurance', 20, 'none', 'own', 1, 'skilled', 1, 'none', 'yes', 1.0, 3.0, 3.0, 0.0, 0.0, 0.0, 0.0, 0.0, 2.0, 0.0, 0.0, 0.0, 0.0, [21, [0, 1, 2, 4, 13, 14, 15, 16, 17, 18, 19, 20], [1.0, 3.0, 2.0, 3.0, 9.0, 536.0, 2.0, 1.0, 9.0, 20.0, 1.0, 1.0]], [19.24365630406082, 0.7563436959391763], [0.9621828152030412, 0.03781718479695882], 0.0, 'No Risk'], ['no_checking', 25, 'outstanding_credit', 'radio_tv', 2429, '500_to_1000', '1_to_4', 2, 'male', 'none', 3, 'unknown', 32, 'none', 'own', 1, 'skilled', 1, 'yes', 'yes', 0.0, 2.0, 0.0, 2.0, 0.0, 0.0, 0.0, 0.0, 3.0, 0.0, 3.0, 0.0, 1.0, [0.0, 2.0, 3.0, 2.0, 0.0, 0.0, 0.0, 3.0, 0.0, 0.0, 0.0, 1.0, 0.0, 25.0, 2429.0, 2.0, 3.0, 25.0, 32.0, 1.0, 1.0], [12.930722549029552, 7.06927745097045], [0.6465361274514776, 0.3534638725485225], 0.0, 'No Risk'], ['no_checking', 35, 'prior_payments_delayed', 'appliances', 8040, 'unknown', '1_to_4', 4, 'male', 'co-applicant', 5, 'unknown', 53, 'none', 'own', 2, 'skilled', 1, 'yes', 'yes', 0.0, 0.0, 0.0, 4.0, 0.0, 0.0, 0.0, 0.0, 4.0, 1.0, 3.0, 0.0, 1.0, [0.0, 0.0, 4.0, 4.0, 0.0, 0.0, 1.0, 3.0, 0.0, 0.0, 0.0, 1.0, 0.0, 35.0, 8040.0, 4.0, 5.0, 35.0, 53.0, 2.0, 1.0], [6.632989305896984, 13.367010694103016], [0.33164946529484923, 0.6683505347051508], 1.0, 'Risk'], ['no_checking', 26, 'outstanding_credit', 'appliances', 6754, '500_to_1000', '4_to_7', 5, 'male', 'none', 4, 'unknown', 47, 'none', 'free', 2, 'skilled', 1, 'yes', 'yes', 0.0, 2.0, 1.0, 2.0, 0.0, 2.0, 0.0, 0.0, 4.0, 0.0, 3.0, 0.0, 1.0, [0.0, 2.0, 4.0, 2.0, 1.0, 0.0, 0.0, 3.0, 0.0, 2.0, 0.0, 1.0, 0.0, 26.0, 6754.0, 5.0, 4.0, 26.0, 47.0, 2.0, 1.0], [4.743848964359653, 15.256151035640345], [0.23719244821798266, 0.7628075517820172], 1.0, 'Risk'], ['less_0', 20, 'prior_payments_delayed', 'car_used', 3203, '100_to_500', 'less_1', 2, 'female', 'none', 3, 'savings_insurance', 28, 'bank', 'rent', 1, 'unskilled', 1, 'none', 'yes', 1.0, 0.0, 3.0, 1.0, 0.0, 1.0, 2.0, 1.0, 2.0, 0.0, 0.0, 1.0, 0.0, [1.0, 0.0, 2.0, 1.0, 3.0, 1.0, 0.0, 0.0, 2.0, 1.0, 1.0, 0.0, 0.0, 20.0, 3203.0, 2.0, 3.0, 20.0, 28.0, 1.0, 1.0], [16.707063907437448, 3.292936092562552], [0.8353531953718724, 0.16464680462812759], 0.0, 'No Risk'], ['no_checking', 8, 'prior_payments_delayed', 'furniture', 7377, '100_to_500', '1_to_4', 4, 'male', 'none', 5, 'unknown', 54, 'none', 'own', 1, 'management_self-employed', 1, 'yes', 'yes', 0.0, 0.0, 0.0, 1.0, 0.0, 0.0, 0.0, 2.0, 1.0, 0.0, 3.0, 0.0, 1.0, [0.0, 0.0, 1.0, 1.0, 0.0, 0.0, 0.0, 3.0, 0.0, 0.0, 2.0, 1.0, 0.0, 8.0, 7377.0, 4.0, 5.0, 8.0, 54.0, 1.0, 1.0], [12.174738081144369, 7.825261918855627], [0.6087369040572186, 0.3912630959427814], 0.0, 'No Risk'], ['no_checking', 27, 'credits_paid_to_date', 'car_used', 4024, '100_to_500', '4_to_7', 4, 'female', 'none', 4, 'car_other', 42, 'bank', 'own', 1, 'unskilled', 1, 'none', 'yes', 0.0, 1.0, 1.0, 1.0, 0.0, 0.0, 2.0, 1.0, 2.0, 0.0, 1.0, 1.0, 0.0, [0.0, 1.0, 2.0, 1.0, 1.0, 1.0, 0.0, 1.0, 2.0, 0.0, 1.0, 0.0, 0.0, 27.0, 4024.0, 4.0, 4.0, 27.0, 42.0, 1.0, 1.0], [10.73397482617841, 9.26602517382159], [0.5366987413089205, 0.4633012586910795], 0.0, 'No Risk'], ['0_to_200', 13, 'prior_payments_delayed', 'appliances', 250, '500_to_1000', '1_to_4', 3, 'female', 'none', 2, 'car_other', 39, 'none', 'own', 1, 'skilled', 1, 'none', 'yes', 2.0, 0.0, 0.0, 2.0, 0.0, 0.0, 0.0, 0.0, 4.0, 0.0, 1.0, 1.0, 0.0, [2.0, 0.0, 4.0, 2.0, 0.0, 1.0, 0.0, 1.0, 0.0, 0.0, 0.0, 0.0, 0.0, 13.0, 250.0, 3.0, 2.0, 13.0, 39.0, 1.0, 1.0], [16.293333163069715, 3.70666683693028], [0.814666658153486, 0.18533334184651407], 0.0, 'No Risk'], ['no_checking', 50, 'outstanding_credit', 'radio_tv', 10144, '500_to_1000', '4_to_7', 4, 'male', 'co-applicant', 5, 'unknown', 50, 'none', 'free', 2, 'skilled', 2, 'yes', 'yes', 0.0, 2.0, 1.0, 2.0, 0.0, 2.0, 0.0, 0.0, 3.0, 1.0, 3.0, 0.0, 1.0, [0.0, 2.0, 3.0, 2.0, 1.0, 0.0, 1.0, 3.0, 0.0, 2.0, 0.0, 1.0, 0.0, 50.0, 10144.0, 4.0, 5.0, 50.0, 50.0, 2.0, 2.0], [2.079963138385237, 17.920036861614765], [0.10399815691926184, 0.8960018430807383], 1.0, 'Risk'], ['less_0', 17, 'credits_paid_to_date', 'furniture', 1301, 'less_100', '1_to_4', 1, 'male', 'co-applicant', 1, 'savings_insurance', 47, 'stores', 'own', 1, 'skilled', 1, 'yes', 'yes', 1.0, 1.0, 0.0, 0.0, 0.0, 0.0, 1.0, 0.0, 1.0, 1.0, 0.0, 0.0, 1.0, [1.0, 1.0, 1.0, 0.0, 0.0, 0.0, 1.0, 0.0, 1.0, 0.0, 0.0, 1.0, 0.0, 17.0, 1301.0, 1.0, 1.0, 17.0, 47.0, 1.0, 1.0], [15.888660298520737, 4.111339701479263], [0.7944330149260368, 0.20556698507396315], 0.0, 'No Risk'], ['less_0', 5, 'prior_payments_delayed', 'furniture', 961, 'less_100', 'less_1', 2, 'female', 'none', 3, 'real_estate', 26, 'none', 'own', 1, 'skilled', 1, 'none', 'yes', 1.0, 0.0, 3.0, 0.0, 0.0, 0.0, 0.0, 0.0, 1.0, 0.0, 2.0, 1.0, 0.0, [1.0, 0.0, 1.0, 0.0, 3.0, 1.0, 0.0, 2.0, 0.0, 0.0, 0.0, 0.0, 0.0, 5.0, 961.0, 2.0, 3.0, 5.0, 26.0, 1.0, 1.0], [19.026938514307975, 0.9730614856920261], [0.9513469257153988, 0.048653074284601305], 0.0, 'No Risk'], ['less_0', 14, 'all_credits_paid_back', 'car_used', 250, 'less_100', '1_to_4', 2, 'male', 'none', 2, 'real_estate', 24, 'stores', 'own', 1, 'unskilled', 1, 'none', 'yes', 1.0, 3.0, 0.0, 0.0, 0.0, 0.0, 1.0, 1.0, 2.0, 0.0, 2.0, 0.0, 0.0, [1.0, 3.0, 2.0, 0.0, 0.0, 0.0, 0.0, 2.0, 1.0, 0.0, 1.0, 0.0, 0.0, 14.0, 250.0, 2.0, 2.0, 14.0, 24.0, 1.0, 1.0], [19.143153981947755, 0.856846018052247], [0.9571576990973876, 0.042842300902612346], 0.0, 'No Risk'], ['0_to_200', 18, 'prior_payments_delayed', 'radio_tv', 5258, 'less_100', '1_to_4', 3, 'male', 'none', 4, 'unknown', 38, 'stores', 'own', 1, 'unskilled', 1, 'none', 'yes', 2.0, 0.0, 0.0, 0.0, 0.0, 0.0, 1.0, 1.0, 3.0, 0.0, 3.0, 0.0, 0.0, [2.0, 0.0, 3.0, 0.0, 0.0, 0.0, 0.0, 3.0, 1.0, 0.0, 1.0, 0.0, 0.0, 18.0, 5258.0, 3.0, 4.0, 18.0, 38.0, 1.0, 1.0], [12.757824817579296, 7.242175182420706], [0.6378912408789648, 0.3621087591210353], 0.0, 'No Risk'], ['greater_200', 36, 'prior_payments_delayed', 'vacation', 2186, 'greater_1000', '1_to_4', 3, 'male', 'none', 2, 'real_estate', 37, 'none', 'own', 1, 'skilled', 2, 'none', 'yes', 3.0, 0.0, 0.0, 3.0, 0.0, 0.0, 0.0, 0.0, 6.0, 0.0, 2.0, 0.0, 0.0, [21, [0, 2, 3, 7, 13, 14, 15, 16, 17, 18, 19, 20], [3.0, 6.0, 3.0, 2.0, 36.0, 2186.0, 3.0, 2.0, 36.0, 37.0, 1.0, 2.0]], [16.063328960867103, 3.9366710391328956], [0.8031664480433551, 0.1968335519566448], 0.0, 'No Risk'], ['less_0', 13, 'prior_payments_delayed', 'furniture', 1171, 'less_100', 'less_1', 3, 'female', 'none', 3, 'savings_insurance', 28, 'none', 'own', 1, 'skilled', 1, 'none', 'yes', 1.0, 0.0, 3.0, 0.0, 0.0, 0.0, 0.0, 0.0, 1.0, 0.0, 0.0, 1.0, 0.0, [21, [0, 2, 4, 5, 13, 14, 15, 16, 17, 18, 19, 20], [1.0, 1.0, 3.0, 1.0, 13.0, 1171.0, 3.0, 3.0, 13.0, 28.0, 1.0, 1.0]], [17.59337523500369, 2.406624764996303], [0.8796687617501848, 0.12033123824981519], 0.0, 'No Risk'], ['no_checking', 12, 'credits_paid_to_date', 'car_new', 568, '100_to_500', '4_to_7', 3, 'male', 'none', 4, 'real_estate', 35, 'none', 'own', 1, 'skilled', 1, 'none', 'yes', 0.0, 1.0, 1.0, 1.0, 0.0, 0.0, 0.0, 0.0, 0.0, 0.0, 2.0, 0.0, 0.0, [21, [1, 3, 4, 7, 13, 14, 15, 16, 17, 18, 19, 20], [1.0, 1.0, 1.0, 2.0, 12.0, 568.0, 3.0, 4.0, 12.0, 35.0, 1.0, 1.0]], [16.491799491912364, 3.508200508087638], [0.8245899745956182, 0.17541002540438191], 0.0, 'No Risk'], ['no_checking', 32, 'prior_payments_delayed', 'appliances', 7296, '100_to_500', '4_to_7', 5, 'male', 'none', 3, 'unknown', 53, 'none', 'free', 2, 'management_self-employed', 1, 'yes', 'yes', 0.0, 0.0, 1.0, 1.0, 0.0, 2.0, 0.0, 2.0, 4.0, 0.0, 3.0, 0.0, 1.0, [0.0, 0.0, 4.0, 1.0, 1.0, 0.0, 0.0, 3.0, 0.0, 2.0, 2.0, 1.0, 0.0, 32.0, 7296.0, 5.0, 3.0, 32.0, 53.0, 2.0, 1.0], [5.078618211376585, 14.921381788623416], [0.25393091056882927, 0.7460690894311708], 1.0, 'Risk'], ['less_0', 8, 'all_credits_paid_back', 'furniture', 250, 'less_100', '1_to_4', 2, 'male', 'none', 2, 'savings_insurance', 29, 'none', 'own', 1, 'management_self-employed', 1, 'none', 'yes', 1.0, 3.0, 0.0, 0.0, 0.0, 0.0, 0.0, 2.0, 1.0, 0.0, 0.0, 0.0, 0.0, [21, [0, 1, 2, 10, 13, 14, 15, 16, 17, 18, 19, 20], [1.0, 3.0, 1.0, 2.0, 8.0, 250.0, 2.0, 2.0, 8.0, 29.0, 1.0, 1.0]], [18.590140806907108, 1.4098591930928912], [0.9295070403453554, 0.07049295965464455], 0.0, 'No Risk'], ['0_to_200', 21, 'credits_paid_to_date', 'car_used', 2484, 'less_100', 'less_1', 1, 'male', 'none', 3, 'savings_insurance', 34, 'none', 'own', 1, 'skilled', 1, 'none', 'yes', 2.0, 1.0, 3.0, 0.0, 0.0, 0.0, 0.0, 0.0, 2.0, 0.0, 0.0, 0.0, 0.0, [21, [0, 1, 2, 4, 13, 14, 15, 16, 17, 18, 19, 20], [2.0, 1.0, 2.0, 3.0, 21.0, 2484.0, 1.0, 3.0, 21.0, 34.0, 1.0, 1.0]], [16.268138790231685, 3.7318612097683133], [0.8134069395115843, 0.18659306048841567], 0.0, 'No Risk'], ['no_checking', 29, 'prior_payments_delayed', 'furniture', 6160, '100_to_500', '4_to_7', 4, 'male', 'none', 3, 'car_other', 43, 'stores', 'own', 2, 'unskilled', 1, 'yes', 'yes', 0.0, 0.0, 1.0, 1.0, 0.0, 0.0, 1.0, 1.0, 1.0, 0.0, 1.0, 0.0, 1.0, [0.0, 0.0, 1.0, 1.0, 1.0, 0.0, 0.0, 1.0, 1.0, 0.0, 1.0, 1.0, 0.0, 29.0, 6160.0, 4.0, 3.0, 29.0, 43.0, 2.0, 1.0], [9.714526793412551, 10.285473206587449], [0.48572633967062756, 0.5142736603293725], 1.0, 'Risk'], ['0_to_200', 30, 'credits_paid_to_date', 'furniture', 2743, 'less_100', 'unemployed', 3, 'male', 'none', 3, 'real_estate', 19, 'none', 'rent', 1, 'skilled', 1, 'none', 'yes', 2.0, 1.0, 4.0, 0.0, 0.0, 1.0, 0.0, 0.0, 1.0, 0.0, 2.0, 0.0, 0.0, [2.0, 1.0, 1.0, 0.0, 4.0, 0.0, 0.0, 2.0, 0.0, 1.0, 0.0, 0.0, 0.0, 30.0, 2743.0, 3.0, 3.0, 30.0, 19.0, 1.0, 1.0], [15.03865480323269, 4.961345196767309], [0.7519327401616345, 0.24806725983836544], 0.0, 'No Risk'], ['no_checking', 33, 'outstanding_credit', 'other', 5936, '500_to_1000', 'greater_7', 4, 'male', 'none', 4, 'unknown', 47, 'stores', 'own', 1, 'unskilled', 1, 'none', 'yes', 0.0, 2.0, 2.0, 2.0, 0.0, 0.0, 1.0, 1.0, 10.0, 0.0, 3.0, 0.0, 0.0, [0.0, 2.0, 10.0, 2.0, 2.0, 0.0, 0.0, 3.0, 1.0, 0.0, 1.0, 0.0, 0.0, 33.0, 5936.0, 4.0, 4.0, 33.0, 47.0, 1.0, 1.0], [7.4900697717640625, 12.509930228235941], [0.37450348858820304, 0.625496511411797], 1.0, 'Risk'], ['less_0', 9, 'prior_payments_delayed', 'car_new', 605, '500_to_1000', '4_to_7', 2, 'male', 'none', 1, 'car_other', 39, 'stores', 'own', 1, 'skilled', 1, 'none', 'yes', 1.0, 0.0, 1.0, 2.0, 0.0, 0.0, 1.0, 0.0, 0.0, 0.0, 1.0, 0.0, 0.0, [1.0, 0.0, 0.0, 2.0, 1.0, 0.0, 0.0, 1.0, 1.0, 0.0, 0.0, 0.0, 0.0, 9.0, 605.0, 2.0, 1.0, 9.0, 39.0, 1.0, 1.0], [16.302680898181485, 3.697319101818514], [0.8151340449090743, 0.18486595509092568], 0.0, 'No Risk'], ['less_0', 19, 'prior_payments_delayed', 'radio_tv', 2670, 'less_100', 'less_1', 3, 'male', 'none', 2, 'savings_insurance', 27, 'none', 'rent', 1, 'skilled', 1, 'none', 'yes', 1.0, 0.0, 3.0, 0.0, 0.0, 1.0, 0.0, 0.0, 3.0, 0.0, 0.0, 0.0, 0.0, [21, [0, 2, 4, 9, 13, 14, 15, 16, 17, 18, 19, 20], [1.0, 3.0, 3.0, 1.0, 19.0, 2670.0, 3.0, 2.0, 19.0, 27.0, 1.0, 1.0]], [18.608236440062214, 1.3917635599377867], [0.9304118220031107, 0.06958817799688934], 0.0, 'No Risk'], ['0_to_200', 16, 'prior_payments_delayed', 'car_new', 4134, 'greater_1000', '4_to_7', 3, 'male', 'co-applicant', 3, 'car_other', 42, 'none', 'free', 2, 'skilled', 2, 'yes', 'yes', 2.0, 0.0, 1.0, 3.0, 0.0, 2.0, 0.0, 0.0, 0.0, 1.0, 1.0, 0.0, 1.0, [2.0, 0.0, 0.0, 3.0, 1.0, 0.0, 1.0, 1.0, 0.0, 2.0, 0.0, 1.0, 0.0, 16.0, 4134.0, 3.0, 3.0, 16.0, 42.0, 2.0, 2.0], [12.680088508169133, 7.319911491830867], [0.6340044254084567, 0.36599557459154336], 0.0, 'No Risk'], ['0_to_200', 15, 'credits_paid_to_date', 'furniture', 250, 'less_100', '4_to_7', 2, 'female', 'none', 2, 'savings_insurance', 21, 'none', 'own', 1, 'skilled', 1, 'none', 'yes', 2.0, 1.0, 1.0, 0.0, 0.0, 0.0, 0.0, 0.0, 1.0, 0.0, 0.0, 1.0, 0.0, [2.0, 1.0, 1.0, 0.0, 1.0, 1.0, 0.0, 0.0, 0.0, 0.0, 0.0, 0.0, 0.0, 15.0, 250.0, 2.0, 2.0, 15.0, 21.0, 1.0, 1.0], [17.905420391704304, 2.094579608295697], [0.8952710195852152, 0.10472898041478484], 0.0, 'No Risk'], ['no_checking', 46, 'outstanding_credit', 'education', 7899, 'greater_1000', 'greater_7', 6, 'male', 'co-applicant', 5, 'car_other', 51, 'none', 'free', 2, 'skilled', 2, 'yes', 'yes', 0.0, 2.0, 2.0, 3.0, 0.0, 2.0, 0.0, 0.0, 7.0, 1.0, 1.0, 0.0, 1.0, [0.0, 2.0, 7.0, 3.0, 2.0, 0.0, 1.0, 1.0, 0.0, 2.0, 0.0, 1.0, 0.0, 46.0, 7899.0, 6.0, 5.0, 46.0, 51.0, 2.0, 2.0], [1.7493319606037074, 18.25066803939629], [0.08746659803018537, 0.9125334019698146], 1.0, 'Risk'], ['no_checking', 31, 'prior_payments_delayed', 'radio_tv', 4379, '500_to_1000', '4_to_7', 3, 'female', 'none', 3, 'savings_insurance', 30, 'none', 'own', 2, 'skilled', 1, 'none', 'yes', 0.0, 0.0, 1.0, 2.0, 0.0, 0.0, 0.0, 0.0, 3.0, 0.0, 0.0, 1.0, 0.0, [21, [2, 3, 4, 5, 13, 14, 15, 16, 17, 18, 19, 20], [3.0, 2.0, 1.0, 1.0, 31.0, 4379.0, 3.0, 3.0, 31.0, 30.0, 2.0, 1.0]], [10.79459083140281, 9.20540916859719], [0.5397295415701404, 0.46027045842985953], 0.0, 'No Risk'], ['less_0', 20, 'credits_paid_to_date', 'furniture', 2186, 'less_100', 'less_1', 1, 'male', 'none', 1, 'savings_insurance', 27, 'none', 'own', 1, 'skilled', 1, 'none', 'yes', 1.0, 1.0, 3.0, 0.0, 0.0, 0.0, 0.0, 0.0, 1.0, 0.0, 0.0, 0.0, 0.0, [21, [0, 1, 2, 4, 13, 14, 15, 16, 17, 18, 19, 20], [1.0, 1.0, 1.0, 3.0, 20.0, 2186.0, 1.0, 1.0, 20.0, 27.0, 1.0, 1.0]], [18.486839680740328, 1.5131603192596694], [0.9243419840370165, 0.07565801596298348], 0.0, 'No Risk'], ['no_checking', 25, 'prior_payments_delayed', 'car_used', 1395, '100_to_500', 'greater_7', 3, 'male', 'none', 4, 'car_other', 49, 'none', 'own', 1, 'skilled', 1, 'none', 'yes', 0.0, 0.0, 2.0, 1.0, 0.0, 0.0, 0.0, 0.0, 2.0, 0.0, 1.0, 0.0, 0.0, [21, [2, 3, 4, 7, 13, 14, 15, 16, 17, 18, 19, 20], [2.0, 1.0, 2.0, 1.0, 25.0, 1395.0, 3.0, 4.0, 25.0, 49.0, 1.0, 1.0]], [10.644293209806461, 9.355706790193539], [0.5322146604903231, 0.46778533950967693], 0.0, 'No Risk'], ['greater_200', 31, 'prior_payments_delayed', 'business', 3479, '500_to_1000', '1_to_4', 3, 'male', 'none', 3, 'savings_insurance', 24, 'none', 'own', 1, 'skilled', 1, 'yes', 'yes', 3.0, 0.0, 0.0, 2.0, 0.0, 0.0, 0.0, 0.0, 9.0, 0.0, 0.0, 0.0, 1.0, [21, [0, 2, 3, 11, 13, 14, 15, 16, 17, 18, 19, 20], [3.0, 9.0, 2.0, 1.0, 31.0, 3479.0, 3.0, 3.0, 31.0, 24.0, 1.0, 1.0]], [13.948080170029955, 6.0519198299700445], [0.6974040085014978, 0.30259599149850225], 0.0, 'No Risk'], ['greater_200', 45, 'prior_payments_delayed', 'repairs', 2783, 'greater_1000', 'greater_7', 5, 'male', 'none', 4, 'savings_insurance', 28, 'none', 'own', 1, 'skilled', 1, 'none', 'yes', 3.0, 0.0, 2.0, 3.0, 0.0, 0.0, 0.0, 0.0, 5.0, 0.0, 0.0, 0.0, 0.0, [21, [0, 2, 3, 4, 13, 14, 15, 16, 17, 18, 19, 20], [3.0, 5.0, 3.0, 2.0, 45.0, 2783.0, 5.0, 4.0, 45.0, 28.0, 1.0, 1.0]], [13.245761542971556, 6.754238457028445], [0.6622880771485777, 0.33771192285142226], 0.0, 'No Risk'], ['0_to_200', 4, 'all_credits_paid_back', 'car_new', 4559, 'less_100', '1_to_4', 2, 'female', 'none', 3, 'real_estate', 23, 'stores', 'own', 1, 'unskilled', 1, 'none', 'yes', 2.0, 3.0, 0.0, 0.0, 0.0, 0.0, 1.0, 1.0, 0.0, 0.0, 2.0, 1.0, 0.0, [2.0, 3.0, 0.0, 0.0, 0.0, 1.0, 0.0, 2.0, 1.0, 0.0, 1.0, 0.0, 0.0, 4.0, 4559.0, 2.0, 3.0, 4.0, 23.0, 1.0, 1.0], [18.394283374763525, 1.6057166252364754], [0.9197141687381762, 0.08028583126182377], 0.0, 'No Risk'], ['greater_200', 33, 'credits_paid_to_date', 'appliances', 5190, '100_to_500', 'less_1', 4, 'male', 'none', 3, 'savings_insurance', 31, 'none', 'own', 1, 'management_self-employed', 1, 'none', 'yes', 3.0, 1.0, 3.0, 1.0, 0.0, 0.0, 0.0, 2.0, 4.0, 0.0, 0.0, 0.0, 0.0, [3.0, 1.0, 4.0, 1.0, 3.0, 0.0, 0.0, 0.0, 0.0, 0.0, 2.0, 0.0, 0.0, 33.0, 5190.0, 4.0, 3.0, 33.0, 31.0, 1.0, 1.0], [13.436094614790813, 6.56390538520919], [0.6718047307395405, 0.32819526926045944], 0.0, 'No Risk'], ['less_0', 27, 'outstanding_credit', 'car_used', 2817, '100_to_500', 'less_1', 3, 'male', 'none', 3, 'savings_insurance', 28, 'none', 'own', 2, 'skilled', 1, 'yes', 'yes', 1.0, 2.0, 3.0, 1.0, 0.0, 0.0, 0.0, 0.0, 2.0, 0.0, 0.0, 0.0, 1.0, [1.0, 2.0, 2.0, 1.0, 3.0, 0.0, 0.0, 0.0, 0.0, 0.0, 0.0, 1.0, 0.0, 27.0, 2817.0, 3.0, 3.0, 27.0, 28.0, 2.0, 1.0], [14.488693941856756, 5.511306058143245], [0.7244346970928378, 0.27556530290716225], 0.0, 'No Risk'], ['0_to_200', 22, 'credits_paid_to_date', 'radio_tv', 6929, 'less_100', '4_to_7', 4, 'female', 'none', 2, 'savings_insurance', 31, 'none', 'own', 2, 'skilled', 1, 'none', 'yes', 2.0, 1.0, 1.0, 0.0, 0.0, 0.0, 0.0, 0.0, 3.0, 0.0, 0.0, 1.0, 0.0, [2.0, 1.0, 3.0, 0.0, 1.0, 1.0, 0.0, 0.0, 0.0, 0.0, 0.0, 0.0, 0.0, 22.0, 6929.0, 4.0, 2.0, 22.0, 31.0, 2.0, 1.0], [14.104170967276227, 5.895829032723775], [0.7052085483638113, 0.29479145163618875], 0.0, 'No Risk'], ['0_to_200', 36, 'prior_payments_delayed', 'radio_tv', 1880, '100_to_500', '4_to_7', 2, 'male', 'none', 1, 'car_other', 38, 'bank', 'own', 2, 'unemployed', 2, 'yes', 'yes', 2.0, 0.0, 1.0, 1.0, 0.0, 0.0, 2.0, 3.0, 3.0, 0.0, 1.0, 0.0, 1.0, [2.0, 0.0, 3.0, 1.0, 1.0, 0.0, 0.0, 1.0, 2.0, 0.0, 3.0, 1.0, 0.0, 36.0, 1880.0, 2.0, 1.0, 36.0, 38.0, 2.0, 2.0], [13.774624196179822, 6.225375803820178], [0.688731209808991, 0.3112687901910089], 0.0, 'No Risk'], ['less_0', 4, 'no_credits', 'car_new', 250, 'less_100', 'unemployed', 2, 'female', 'none', 2, 'savings_insurance', 20, 'none', 'own', 1, 'skilled', 1, 'none', 'yes', 1.0, 4.0, 4.0, 0.0, 0.0, 0.0, 0.0, 0.0, 0.0, 0.0, 0.0, 1.0, 0.0, [21, [0, 1, 4, 5, 13, 14, 15, 16, 17, 18, 19, 20], [1.0, 4.0, 4.0, 1.0, 4.0, 250.0, 2.0, 2.0, 4.0, 20.0, 1.0, 1.0]], [19.25117643933426, 0.748823560665737], [0.9625588219667132, 0.03744117803328686], 0.0, 'No Risk'], ['less_0', 4, 'credits_paid_to_date', 'car_new', 250, 'less_100', 'less_1', 1, 'female', 'co-applicant', 1, 'real_estate', 28, 'stores', 'rent', 1, 'skilled', 1, 'none', 'yes', 1.0, 1.0, 3.0, 0.0, 0.0, 1.0, 1.0, 0.0, 0.0, 1.0, 2.0, 1.0, 0.0, [1.0, 1.0, 0.0, 0.0, 3.0, 1.0, 1.0, 2.0, 1.0, 1.0, 0.0, 0.0, 0.0, 4.0, 250.0, 1.0, 1.0, 4.0, 28.0, 1.0, 1.0], [19.354648854060212, 0.6453511459397878], [0.9677324427030106, 0.032267557296989394], 0.0, 'No Risk'], ['no_checking', 33, 'outstanding_credit', 'radio_tv', 5540, '500_to_1000', '4_to_7', 4, 'male', 'none', 3, 'unknown', 44, 'none', 'own', 2, 'skilled', 2, 'yes', 'yes', 0.0, 2.0, 1.0, 2.0, 0.0, 0.0, 0.0, 0.0, 3.0, 0.0, 3.0, 0.0, 1.0, [0.0, 2.0, 3.0, 2.0, 1.0, 0.0, 0.0, 3.0, 0.0, 0.0, 0.0, 1.0, 0.0, 33.0, 5540.0, 4.0, 3.0, 33.0, 44.0, 2.0, 2.0], [7.440635922603934, 12.559364077396063], [0.37203179613019677, 0.6279682038698032], 1.0, 'Risk'], ['0_to_200', 13, 'credits_paid_to_date', 'car_new', 2632, '100_to_500', '4_to_7', 2, 'female', 'none', 3, 'car_other', 40, 'stores', 'own', 1, 'skilled', 1, 'none', 'no', 2.0, 1.0, 1.0, 1.0, 1.0, 0.0, 1.0, 0.0, 0.0, 0.0, 1.0, 1.0, 0.0, [2.0, 1.0, 0.0, 1.0, 1.0, 1.0, 0.0, 1.0, 1.0, 0.0, 0.0, 0.0, 1.0, 13.0, 2632.0, 2.0, 3.0, 13.0, 40.0, 1.0, 1.0], [13.910836155743727, 6.089163844256273], [0.6955418077871863, 0.30445819221281367], 0.0, 'No Risk'], ['no_checking', 9, 'credits_paid_to_date', 'car_used', 4964, 'less_100', '4_to_7', 4, 'male', 'guarantor', 3, 'car_other', 49, 'none', 'free', 2, 'skilled', 1, 'yes', 'yes', 0.0, 1.0, 1.0, 0.0, 0.0, 2.0, 0.0, 0.0, 2.0, 2.0, 1.0, 0.0, 1.0, [0.0, 1.0, 2.0, 0.0, 1.0, 0.0, 2.0, 1.0, 0.0, 2.0, 0.0, 1.0, 0.0, 9.0, 4964.0, 4.0, 3.0, 9.0, 49.0, 2.0, 1.0], [10.057115587038528, 9.94288441296147], [0.5028557793519264, 0.4971442206480735], 0.0, 'No Risk'], ['less_0', 4, 'all_credits_paid_back', 'car_new', 250, 'less_100', 'unemployed', 1, 'female', 'none', 2, 'real_estate', 19, 'none', 'rent', 1, 'skilled', 1, 'none', 'yes', 1.0, 3.0, 4.0, 0.0, 0.0, 1.0, 0.0, 0.0, 0.0, 0.0, 2.0, 1.0, 0.0, [1.0, 3.0, 0.0, 0.0, 4.0, 1.0, 0.0, 2.0, 0.0, 1.0, 0.0, 0.0, 0.0, 4.0, 250.0, 1.0, 2.0, 4.0, 19.0, 1.0, 1.0], [19.73822260499371, 0.2617773950062894], [0.9869111302496855, 0.01308886975031447], 0.0, 'No Risk'], ['no_checking', 37, 'credits_paid_to_date', 'furniture', 4668, 'unknown', 'greater_7', 4, 'male', 'co-applicant', 4, 'car_other', 40, 'none', 'own', 2, 'skilled', 1, 'none', 'yes', 0.0, 1.0, 2.0, 4.0, 0.0, 0.0, 0.0, 0.0, 1.0, 1.0, 1.0, 0.0, 0.0, [0.0, 1.0, 1.0, 4.0, 2.0, 0.0, 1.0, 1.0, 0.0, 0.0, 0.0, 0.0, 0.0, 37.0, 4668.0, 4.0, 4.0, 37.0, 40.0, 2.0, 1.0], [6.151984360715229, 13.848015639284773], [0.30759921803576146, 0.6924007819642386], 1.0, 'Risk'], ['0_to_200', 27, 'outstanding_credit', 'appliances', 5377, '100_to_500', 'greater_7', 3, 'male', 'none', 2, 'unknown', 47, 'none', 'own', 2, 'skilled', 1, 'yes', 'yes', 2.0, 2.0, 2.0, 1.0, 0.0, 0.0, 0.0, 0.0, 4.0, 0.0, 3.0, 0.0, 1.0, [2.0, 2.0, 4.0, 1.0, 2.0, 0.0, 0.0, 3.0, 0.0, 0.0, 0.0, 1.0, 0.0, 27.0, 5377.0, 3.0, 2.0, 27.0, 47.0, 2.0, 1.0], [9.03201835168366, 10.96798164831634], [0.451600917584183, 0.5483990824158169], 1.0, 'Risk'], ['no_checking', 28, 'prior_payments_delayed', 'furniture', 4875, '500_to_1000', 'greater_7', 4, 'male', 'none', 3, 'car_other', 45, 'bank', 'own', 1, 'unskilled', 1, 'yes', 'yes', 0.0, 0.0, 2.0, 2.0, 0.0, 0.0, 2.0, 1.0, 1.0, 0.0, 1.0, 0.0, 1.0, [0.0, 0.0, 1.0, 2.0, 2.0, 0.0, 0.0, 1.0, 2.0, 0.0, 1.0, 1.0, 0.0, 28.0, 4875.0, 4.0, 3.0, 28.0, 45.0, 1.0, 1.0], [8.11942849392675, 11.88057150607325], [0.40597142469633746, 0.5940285753036625], 1.0, 'Risk'], ['no_checking', 41, 'prior_payments_delayed', 'furniture', 5363, '500_to_1000', 'less_1', 4, 'male', 'none', 3, 'car_other', 36, 'stores', 'rent', 1, 'unskilled', 1, 'yes', 'yes', 0.0, 0.0, 3.0, 2.0, 0.0, 1.0, 1.0, 1.0, 1.0, 0.0, 1.0, 0.0, 1.0, [0.0, 0.0, 1.0, 2.0, 3.0, 0.0, 0.0, 1.0, 1.0, 1.0, 1.0, 1.0, 0.0, 41.0, 5363.0, 4.0, 3.0, 41.0, 36.0, 1.0, 1.0], [10.771143709031477, 9.228856290968524], [0.5385571854515738, 0.46144281454842623], 0.0, 'No Risk'], ['less_0', 20, 'no_credits', 'furniture', 622, 'less_100', 'unemployed', 1, 'female', 'none', 1, 'real_estate', 19, 'stores', 'rent', 1, 'skilled', 1, 'none', 'yes', 1.0, 4.0, 4.0, 0.0, 0.0, 1.0, 1.0, 0.0, 1.0, 0.0, 2.0, 1.0, 0.0, [1.0, 4.0, 1.0, 0.0, 4.0, 1.0, 0.0, 2.0, 1.0, 1.0, 0.0, 0.0, 0.0, 20.0, 622.0, 1.0, 1.0, 20.0, 19.0, 1.0, 1.0], [19.058357198333752, 0.9416428016662477], [0.9529178599166876, 0.047082140083312386], 0.0, 'No Risk'], ['less_0', 23, 'no_credits', 'car_new', 250, '500_to_1000', '4_to_7', 2, 'female', 'none', 2, 'real_estate', 20, 'stores', 'own', 1, 'unskilled', 1, 'none', 'yes', 1.0, 4.0, 1.0, 2.0, 0.0, 0.0, 1.0, 1.0, 0.0, 0.0, 2.0, 1.0, 0.0, [1.0, 4.0, 0.0, 2.0, 1.0, 1.0, 0.0, 2.0, 1.0, 0.0, 1.0, 0.0, 0.0, 23.0, 250.0, 2.0, 2.0, 23.0, 20.0, 1.0, 1.0], [17.40074129982973, 2.599258700170271], [0.8700370649914865, 0.12996293500851355], 0.0, 'No Risk'], ['less_0', 10, 'all_credits_paid_back', 'car_used', 250, 'less_100', '1_to_4', 2, 'female', 'none', 1, 'real_estate', 23, 'none', 'own', 1, 'skilled', 1, 'none', 'yes', 1.0, 3.0, 0.0, 0.0, 0.0, 0.0, 0.0, 0.0, 2.0, 0.0, 2.0, 1.0, 0.0, [1.0, 3.0, 2.0, 0.0, 0.0, 1.0, 0.0, 2.0, 0.0, 0.0, 0.0, 0.0, 0.0, 10.0, 250.0, 2.0, 1.0, 10.0, 23.0, 1.0, 1.0], [19.377649417701974, 0.6223505822980268], [0.9688824708850987, 0.031117529114901336], 0.0, 'No Risk'], ['no_checking', 35, 'prior_payments_delayed', 'appliances', 5195, '500_to_1000', '4_to_7', 3, 'female', 'none', 4, 'car_other', 43, 'none', 'free', 2, 'skilled', 1, 'yes', 'yes', 0.0, 0.0, 1.0, 2.0, 0.0, 2.0, 0.0, 0.0, 4.0, 0.0, 1.0, 1.0, 1.0, [0.0, 0.0, 4.0, 2.0, 1.0, 1.0, 0.0, 1.0, 0.0, 2.0, 0.0, 1.0, 0.0, 35.0, 5195.0, 3.0, 4.0, 35.0, 43.0, 2.0, 1.0], [7.940885044085123, 12.059114955914877], [0.39704425220425615, 0.6029557477957439], 1.0, 'Risk'], ['0_to_200', 32, 'credits_paid_to_date', 'car_used', 2704, 'greater_1000', '4_to_7', 4, 'male', 'none', 4, 'car_other', 39, 'none', 'own', 3, 'skilled', 1, 'none', 'yes', 2.0, 1.0, 1.0, 3.0, 0.0, 0.0, 0.0, 0.0, 2.0, 0.0, 1.0, 0.0, 0.0, [2.0, 1.0, 2.0, 3.0, 1.0, 0.0, 0.0, 1.0, 0.0, 0.0, 0.0, 0.0, 0.0, 32.0, 2704.0, 4.0, 4.0, 32.0, 39.0, 3.0, 1.0], [11.208553664473513, 8.791446335526487], [0.5604276832236756, 0.43957231677632436], 0.0, 'No Risk'], ['no_checking', 24, 'prior_payments_delayed', 'retraining', 5597, 'greater_1000', '4_to_7', 3, 'male', 'none', 3, 'car_other', 39, 'none', 'own', 2, 'skilled', 1, 'none', 'yes', 0.0, 0.0, 1.0, 3.0, 0.0, 0.0, 0.0, 0.0, 8.0, 0.0, 1.0, 0.0, 0.0, [21, [2, 3, 4, 7, 13, 14, 15, 16, 17, 18, 19, 20], [8.0, 3.0, 1.0, 1.0, 24.0, 5597.0, 3.0, 3.0, 24.0, 39.0, 2.0, 1.0]], [10.074070066279535, 9.925929933720466], [0.5037035033139767, 0.4962964966860233], 0.0, 'No Risk'], ['no_checking', 35, 'outstanding_credit', 'appliances', 8209, 'unknown', 'greater_7', 5, 'male', 'co-applicant', 3, 'unknown', 56, 'none', 'free', 2, 'skilled', 2, 'yes', 'yes', 0.0, 2.0, 2.0, 4.0, 0.0, 2.0, 0.0, 0.0, 4.0, 1.0, 3.0, 0.0, 1.0, [0.0, 2.0, 4.0, 4.0, 2.0, 0.0, 1.0, 3.0, 0.0, 2.0, 0.0, 1.0, 0.0, 35.0, 8209.0, 5.0, 3.0, 35.0, 56.0, 2.0, 2.0], [1.9485146247588239, 18.051485375241178], [0.09742573123794118, 0.9025742687620587], 1.0, 'Risk'], ['0_to_200', 22, 'credits_paid_to_date', 'retraining', 1533, 'less_100', '1_to_4', 2, 'female', 'none', 2, 'real_estate', 22, 'none', 'own', 1, 'skilled', 1, 'none', 'yes', 2.0, 1.0, 0.0, 0.0, 0.0, 0.0, 0.0, 0.0, 8.0, 0.0, 2.0, 1.0, 0.0, [2.0, 1.0, 8.0, 0.0, 0.0, 1.0, 0.0, 2.0, 0.0, 0.0, 0.0, 0.0, 0.0, 22.0, 1533.0, 2.0, 2.0, 22.0, 22.0, 1.0, 1.0], [17.733831218637427, 2.266168781362569], [0.8866915609318715, 0.11330843906812846], 0.0, 'No Risk'], ['less_0', 12, 'all_credits_paid_back', 'furniture', 3855, 'less_100', 'less_1', 1, 'female', 'none', 1, 'car_other', 24, 'stores', 'own', 1, 'unskilled', 1, 'none', 'yes', 1.0, 3.0, 3.0, 0.0, 0.0, 0.0, 1.0, 1.0, 1.0, 0.0, 1.0, 1.0, 0.0, [1.0, 3.0, 1.0, 0.0, 3.0, 1.0, 0.0, 1.0, 1.0, 0.0, 1.0, 0.0, 0.0, 12.0, 3855.0, 1.0, 1.0, 12.0, 24.0, 1.0, 1.0], [18.385990447331288, 1.614009552668709], [0.9192995223665645, 0.08070047763343546], 0.0, 'No Risk'], ['0_to_200', 15, 'credits_paid_to_date', 'furniture', 4016, '500_to_1000', 'less_1', 2, 'male', 'none', 2, 'car_other', 29, 'none', 'own', 1, 'skilled', 2, 'yes', 'yes', 2.0, 1.0, 3.0, 2.0, 0.0, 0.0, 0.0, 0.0, 1.0, 0.0, 1.0, 0.0, 1.0, [2.0, 1.0, 1.0, 2.0, 3.0, 0.0, 0.0, 1.0, 0.0, 0.0, 0.0, 1.0, 0.0, 15.0, 4016.0, 2.0, 2.0, 15.0, 29.0, 1.0, 2.0], [17.087174452221944, 2.9128255477780542], [0.8543587226110972, 0.1456412773889027], 0.0, 'No Risk'], ['less_0', 15, 'credits_paid_to_date', 'car_new', 250, 'less_100', '1_to_4', 1, 'female', 'none', 2, 'real_estate', 19, 'stores', 'rent', 1, 'skilled', 1, 'none', 'no', 1.0, 1.0, 0.0, 0.0, 1.0, 1.0, 1.0, 0.0, 0.0, 0.0, 2.0, 1.0, 0.0, [1.0, 1.0, 0.0, 0.0, 0.0, 1.0, 0.0, 2.0, 1.0, 1.0, 0.0, 0.0, 1.0, 15.0, 250.0, 1.0, 2.0, 15.0, 19.0, 1.0, 1.0], [19.15364831583715, 0.8463516841628522], [0.9576824157918574, 0.04231758420814261], 0.0, 'No Risk'], ['no_checking', 14, 'credits_paid_to_date', 'furniture', 2932, '100_to_500', 'less_1', 3, 'female', 'none', 3, 'real_estate', 39, 'none', 'rent', 1, 'management_self-employed', 1, 'none', 'yes', 0.0, 1.0, 3.0, 1.0, 0.0, 1.0, 0.0, 2.0, 1.0, 0.0, 2.0, 1.0, 0.0, [0.0, 1.0, 1.0, 1.0, 3.0, 1.0, 0.0, 2.0, 0.0, 1.0, 2.0, 0.0, 0.0, 14.0, 2932.0, 3.0, 3.0, 14.0, 39.0, 1.0, 1.0], [17.652902597178795, 2.347097402821205], [0.8826451298589397, 0.11735487014106025], 0.0, 'No Risk'], ['no_checking', 24, 'outstanding_credit', 'business', 7027, '500_to_1000', '4_to_7', 3, 'male', 'none', 2, 'car_other', 47, 'none', 'own', 1, 'skilled', 1, 'none', 'yes', 0.0, 2.0, 1.0, 2.0, 0.0, 0.0, 0.0, 0.0, 9.0, 0.0, 1.0, 0.0, 0.0, [0.0, 2.0, 9.0, 2.0, 1.0, 0.0, 0.0, 1.0, 0.0, 0.0, 0.0, 0.0, 0.0, 24.0, 7027.0, 3.0, 2.0, 24.0, 47.0, 1.0, 1.0], [10.842656363483677, 9.157343636516321], [0.5421328181741838, 0.4578671818258161], 0.0, 'No Risk'], ['greater_200', 22, 'credits_paid_to_date', 'car_new', 2731, '100_to_500', '4_to_7', 3, 'male', 'none', 4, 'savings_insurance', 40, 'none', 'own', 2, 'skilled', 1, 'none', 'yes', 3.0, 1.0, 1.0, 1.0, 0.0, 0.0, 0.0, 0.0, 0.0, 0.0, 0.0, 0.0, 0.0, [21, [0, 1, 3, 4, 13, 14, 15, 16, 17, 18, 19, 20], [3.0, 1.0, 1.0, 1.0, 22.0, 2731.0, 3.0, 4.0, 22.0, 40.0, 2.0, 1.0]], [12.977418712062839, 7.022581287937162], [0.6488709356031419, 0.3511290643968581], 0.0, 'No Risk'], ['less_0', 21, 'prior_payments_delayed', 'business', 1123, 'greater_1000', '4_to_7', 3, 'male', 'none', 2, 'car_other', 19, 'none', 'own', 1, 'skilled', 2, 'none', 'yes', 1.0, 0.0, 1.0, 3.0, 0.0, 0.0, 0.0, 0.0, 9.0, 0.0, 1.0, 0.0, 0.0, [1.0, 0.0, 9.0, 3.0, 1.0, 0.0, 0.0, 1.0, 0.0, 0.0, 0.0, 0.0, 0.0, 21.0, 1123.0, 3.0, 2.0, 21.0, 19.0, 1.0, 2.0], [16.230320179607716, 3.7696798203922848], [0.8115160089803858, 0.18848399101961424], 0.0, 'No Risk'], ['0_to_200', 26, 'outstanding_credit', 'car_used', 2814, '100_to_500', '4_to_7', 3, 'male', 'co-applicant', 3, 'car_other', 32, 'stores', 'own', 1, 'skilled', 1, 'none', 'yes', 2.0, 2.0, 1.0, 1.0, 0.0, 0.0, 1.0, 0.0, 2.0, 1.0, 1.0, 0.0, 0.0, [2.0, 2.0, 2.0, 1.0, 1.0, 0.0, 1.0, 1.0, 1.0, 0.0, 0.0, 0.0, 0.0, 26.0, 2814.0, 3.0, 3.0, 26.0, 32.0, 1.0, 1.0], [11.697443933447216, 8.302556066552782], [0.5848721966723608, 0.4151278033276391], 0.0, 'No Risk'], ['no_checking', 32, 'prior_payments_delayed', 'appliances', 7413, '100_to_500', '4_to_7', 4, 'male', 'none', 4, 'unknown', 37, 'none', 'free', 2, 'skilled', 1, 'yes', 'yes', 0.0, 0.0, 1.0, 1.0, 0.0, 2.0, 0.0, 0.0, 4.0, 0.0, 3.0, 0.0, 1.0, [0.0, 0.0, 4.0, 1.0, 1.0, 0.0, 0.0, 3.0, 0.0, 2.0, 0.0, 1.0, 0.0, 32.0, 7413.0, 4.0, 4.0, 32.0, 37.0, 2.0, 1.0], [7.157011359508256, 12.842988640491747], [0.3578505679754127, 0.6421494320245872], 1.0, 'Risk'], ['0_to_200', 4, 'all_credits_paid_back', 'car_new', 250, 'less_100', '1_to_4', 1, 'male', 'none', 1, 'savings_insurance', 36, 'stores', 'own', 1, 'skilled', 1, 'none', 'yes', 2.0, 3.0, 0.0, 0.0, 0.0, 0.0, 1.0, 0.0, 0.0, 0.0, 0.0, 0.0, 0.0, [21, [0, 1, 8, 13, 14, 15, 16, 17, 18, 19, 20], [2.0, 3.0, 1.0, 4.0, 250.0, 1.0, 1.0, 4.0, 36.0, 1.0, 1.0]], [17.606363186974104, 2.3936368130258927], [0.8803181593487054, 0.11968184065129465], 0.0, 'No Risk'], ['0_to_200', 18, 'prior_payments_delayed', 'car_used', 3642, 'less_100', '4_to_7', 3, 'male', 'none', 3, 'savings_insurance', 38, 'none', 'own', 1, 'skilled', 1, 'none', 'yes', 2.0, 0.0, 1.0, 0.0, 0.0, 0.0, 0.0, 0.0, 2.0, 0.0, 0.0, 0.0, 0.0, [21, [0, 2, 4, 13, 14, 15, 16, 17, 18, 19, 20], [2.0, 2.0, 1.0, 18.0, 3642.0, 3.0, 3.0, 18.0, 38.0, 1.0, 1.0]], [14.258984236197282, 5.74101576380272], [0.7129492118098641, 0.28705078819013596], 0.0, 'No Risk'], ['no_checking', 27, 'prior_payments_delayed', 'furniture', 4277, '100_to_500', '1_to_4', 4, 'male', 'none', 3, 'real_estate', 33, 'none', 'own', 1, 'management_self-employed', 1, 'none', 'yes', 0.0, 0.0, 0.0, 1.0, 0.0, 0.0, 0.0, 2.0, 1.0, 0.0, 2.0, 0.0, 0.0, [21, [2, 3, 7, 10, 13, 14, 15, 16, 17, 18, 19, 20], [1.0, 1.0, 2.0, 2.0, 27.0, 4277.0, 4.0, 3.0, 27.0, 33.0, 1.0, 1.0]], [14.20354392078189, 5.79645607921811], [0.7101771960390945, 0.28982280396090554], 0.0, 'No Risk'], ['0_to_200', 26, 'outstanding_credit', 'appliances', 3265, 'unknown', '1_to_4', 4, 'male', 'none', 4, 'unknown', 37, 'none', 'own', 2, 'skilled', 1, 'yes', 'yes', 2.0, 2.0, 0.0, 4.0, 0.0, 0.0, 0.0, 0.0, 4.0, 0.0, 3.0, 0.0, 1.0, [2.0, 2.0, 4.0, 4.0, 0.0, 0.0, 0.0, 3.0, 0.0, 0.0, 0.0, 1.0, 0.0, 26.0, 3265.0, 4.0, 4.0, 26.0, 37.0, 2.0, 1.0], [11.93837065596635, 8.061629344033653], [0.5969185327983174, 0.4030814672016826], 0.0, 'No Risk'], ['less_0', 8, 'prior_payments_delayed', 'car_new', 3776, 'less_100', 'less_1', 2, 'male', 'none', 2, 'savings_insurance', 21, 'none', 'own', 1, 'skilled', 1, 'none', 'yes', 1.0, 0.0, 3.0, 0.0, 0.0, 0.0, 0.0, 0.0, 0.0, 0.0, 0.0, 0.0, 0.0, [21, [0, 4, 13, 14, 15, 16, 17, 18, 19, 20], [1.0, 3.0, 8.0, 3776.0, 2.0, 2.0, 8.0, 21.0, 1.0, 1.0]], [18.834293375225435, 1.165706624774561], [0.941714668761272, 0.05828533123872807], 0.0, 'No Risk'], ['no_checking', 46, 'outstanding_credit', 'other', 7792, '500_to_1000', 'greater_7', 5, 'male', 'co-applicant', 3, 'unknown', 45, 'none', 'free', 2, 'skilled', 1, 'yes', 'yes', 0.0, 2.0, 2.0, 2.0, 0.0, 2.0, 0.0, 0.0, 10.0, 1.0, 3.0, 0.0, 1.0, [0.0, 2.0, 10.0, 2.0, 2.0, 0.0, 1.0, 3.0, 0.0, 2.0, 0.0, 1.0, 0.0, 46.0, 7792.0, 5.0, 3.0, 46.0, 45.0, 2.0, 1.0], [2.0156972117352763, 17.984302788264724], [0.10078486058676381, 0.8992151394132362], 1.0, 'Risk'], ['no_checking', 8, 'prior_payments_delayed', 'radio_tv', 6485, '500_to_1000', '1_to_4', 4, 'male', 'none', 3, 'savings_insurance', 43, 'none', 'own', 2, 'management_self-employed', 2, 'yes', 'yes', 0.0, 0.0, 0.0, 2.0, 0.0, 0.0, 0.0, 2.0, 3.0, 0.0, 0.0, 0.0, 1.0, [21, [2, 3, 10, 11, 13, 14, 15, 16, 17, 18, 19, 20], [3.0, 2.0, 2.0, 1.0, 8.0, 6485.0, 4.0, 3.0, 8.0, 43.0, 2.0, 2.0]], [13.397279470171425, 6.6027205298285745], [0.6698639735085712, 0.3301360264914287], 0.0, 'No Risk'], ['less_0', 15, 'credits_paid_to_date', 'car_used', 2481, '500_to_1000', 'unemployed', 1, 'male', 'none', 2, 'real_estate', 19, 'stores', 'rent', 1, 'skilled', 1, 'none', 'yes', 1.0, 1.0, 4.0, 2.0, 0.0, 1.0, 1.0, 0.0, 2.0, 0.0, 2.0, 0.0, 0.0, [1.0, 1.0, 2.0, 2.0, 4.0, 0.0, 0.0, 2.0, 1.0, 1.0, 0.0, 0.0, 0.0, 15.0, 2481.0, 1.0, 2.0, 15.0, 19.0, 1.0, 1.0], [19.037447892602678, 0.9625521073973174], [0.9518723946301341, 0.04812760536986588], 0.0, 'No Risk'], ['less_0', 15, 'all_credits_paid_back', 'car_used', 250, 'less_100', '1_to_4', 2, 'male', 'none', 1, 'savings_insurance', 32, 'stores', 'own', 1, 'skilled', 1, 'none', 'yes', 1.0, 3.0, 0.0, 0.0, 0.0, 0.0, 1.0, 0.0, 2.0, 0.0, 0.0, 0.0, 0.0, [21, [0, 1, 2, 8, 13, 14, 15, 16, 17, 18, 19, 20], [1.0, 3.0, 2.0, 1.0, 15.0, 250.0, 2.0, 1.0, 15.0, 32.0, 1.0, 1.0]], [18.10089451054659, 1.899105489453409], [0.9050447255273296, 0.09495527447267046], 0.0, 'No Risk'], ['0_to_200', 18, 'prior_payments_delayed', 'furniture', 2961, 'less_100', 'less_1', 3, 'male', 'none', 3, 'savings_insurance', 38, 'none', 'own', 1, 'management_self-employed', 1, 'none', 'yes', 2.0, 0.0, 3.0, 0.0, 0.0, 0.0, 0.0, 2.0, 1.0, 0.0, 0.0, 0.0, 0.0, [21, [0, 2, 4, 10, 13, 14, 15, 16, 17, 18, 19, 20], [2.0, 1.0, 3.0, 2.0, 18.0, 2961.0, 3.0, 3.0, 18.0, 38.0, 1.0, 1.0]], [15.772991960606847, 4.227008039393152], [0.7886495980303423, 0.21135040196965763], 0.0, 'No Risk'], ['no_checking', 22, 'all_credits_paid_back', 'car_used', 3967, 'less_100', '4_to_7', 2, 'male', 'none', 3, 'real_estate', 46, 'none', 'own', 1, 'skilled', 2, 'none', 'yes', 0.0, 3.0, 1.0, 0.0, 0.0, 0.0, 0.0, 0.0, 2.0, 0.0, 2.0, 0.0, 0.0, [21, [1, 2, 4, 7, 13, 14, 15, 16, 17, 18, 19, 20], [3.0, 2.0, 1.0, 2.0, 22.0, 3967.0, 2.0, 3.0, 22.0, 46.0, 1.0, 2.0]], [14.023871157246933, 5.976128842753071], [0.7011935578623465, 0.2988064421376535], 0.0, 'No Risk'], ['0_to_200', 4, 'prior_payments_delayed', 'car_used', 3224, 'less_100', 'unemployed', 2, 'female', 'none', 3, 'savings_insurance', 29, 'none', 'rent', 1, 'management_self-employed', 1, 'none', 'yes', 2.0, 0.0, 4.0, 0.0, 0.0, 1.0, 0.0, 2.0, 2.0, 0.0, 0.0, 1.0, 0.0, [2.0, 0.0, 2.0, 0.0, 4.0, 1.0, 0.0, 0.0, 0.0, 1.0, 2.0, 0.0, 0.0, 4.0, 3224.0, 2.0, 3.0, 4.0, 29.0, 1.0, 1.0], [16.79201476102054, 3.2079852389794636], [0.8396007380510268, 0.16039926194897317], 0.0, 'No Risk'], ['no_checking', 45, 'prior_payments_delayed', 'repairs', 6261, '500_to_1000', '4_to_7', 5, 'male', 'none', 5, 'unknown', 41, 'stores', 'own', 2, 'unskilled', 1, 'yes', 'yes', 0.0, 0.0, 1.0, 2.0, 0.0, 0.0, 1.0, 1.0, 5.0, 0.0, 3.0, 0.0, 1.0, [0.0, 0.0, 5.0, 2.0, 1.0, 0.0, 0.0, 3.0, 1.0, 0.0, 1.0, 1.0, 0.0, 45.0, 6261.0, 5.0, 5.0, 45.0, 41.0, 2.0, 1.0], [8.42734628803123, 11.57265371196877], [0.42136731440156155, 0.5786326855984385], 1.0, 'Risk'], ['no_checking', 14, 'credits_paid_to_date', 'car_new', 6961, 'less_100', '1_to_4', 2, 'male', 'none', 4, 'car_other', 34, 'none', 'own', 1, 'management_self-employed', 1, 'yes', 'yes', 0.0, 1.0, 0.0, 0.0, 0.0, 0.0, 0.0, 2.0, 0.0, 0.0, 1.0, 0.0, 1.0, [21, [1, 7, 10, 11, 13, 14, 15, 16, 17, 18, 19, 20], [1.0, 1.0, 2.0, 1.0, 14.0, 6961.0, 2.0, 4.0, 14.0, 34.0, 1.0, 1.0]], [12.717974616764357, 7.2820253832356405], [0.6358987308382179, 0.3641012691617821], 0.0, 'No Risk'], ['no_checking', 36, 'prior_payments_delayed', 'repairs', 5288, '500_to_1000', 'greater_7', 5, 'male', 'none', 5, 'car_other', 40, 'none', 'own', 1, 'management_self-employed', 2, 'none', 'yes', 0.0, 0.0, 2.0, 2.0, 0.0, 0.0, 0.0, 2.0, 5.0, 0.0, 1.0, 0.0, 0.0, [0.0, 0.0, 5.0, 2.0, 2.0, 0.0, 0.0, 1.0, 0.0, 0.0, 2.0, 0.0, 0.0, 36.0, 5288.0, 5.0, 5.0, 36.0, 40.0, 1.0, 2.0], [9.179342944962572, 10.820657055037428], [0.4589671472481286, 0.5410328527518714], 1.0, 'Risk'], ['less_0', 10, 'all_credits_paid_back', 'car_used', 1139, 'less_100', 'unemployed', 2, 'female', 'none', 2, 'real_estate', 20, 'none', 'own', 1, 'management_self-employed', 1, 'none', 'yes', 1.0, 3.0, 4.0, 0.0, 0.0, 0.0, 0.0, 2.0, 2.0, 0.0, 2.0, 1.0, 0.0, [1.0, 3.0, 2.0, 0.0, 4.0, 1.0, 0.0, 2.0, 0.0, 0.0, 2.0, 0.0, 0.0, 10.0, 1139.0, 2.0, 2.0, 10.0, 20.0, 1.0, 1.0], [19.659745310407047, 0.34025468959295274], [0.9829872655203523, 0.017012734479647636], 0.0, 'No Risk'], ['no_checking', 31, 'prior_payments_delayed', 'furniture', 5568, '500_to_1000', 'greater_7', 5, 'male', 'co-applicant', 4, 'unknown', 54, 'none', 'free', 2, 'skilled', 1, 'yes', 'yes', 0.0, 0.0, 2.0, 2.0, 0.0, 2.0, 0.0, 0.0, 1.0, 1.0, 3.0, 0.0, 1.0, [0.0, 0.0, 1.0, 2.0, 2.0, 0.0, 1.0, 3.0, 0.0, 2.0, 0.0, 1.0, 0.0, 31.0, 5568.0, 5.0, 4.0, 31.0, 54.0, 2.0, 1.0], [1.6941029494333204, 18.30589705056668], [0.08470514747166602, 0.9152948525283341], 1.0, 'Risk'], ['less_0', 16, 'credits_paid_to_date', 'car_new', 1736, 'less_100', 'less_1', 3, 'female', 'none', 2, 'real_estate', 21, 'none', 'rent', 1, 'skilled', 1, 'none', 'yes', 1.0, 1.0, 3.0, 0.0, 0.0, 1.0, 0.0, 0.0, 0.0, 0.0, 2.0, 1.0, 0.0, [1.0, 1.0, 0.0, 0.0, 3.0, 1.0, 0.0, 2.0, 0.0, 1.0, 0.0, 0.0, 0.0, 16.0, 1736.0, 3.0, 2.0, 16.0, 21.0, 1.0, 1.0], [19.429355675667743, 0.5706443243322562], [0.9714677837833872, 0.02853221621661281], 0.0, 'No Risk'], ['no_checking', 26, 'outstanding_credit', 'appliances', 5775, '500_to_1000', 'greater_7', 5, 'male', 'co-applicant', 4, 'unknown', 57, 'none', 'own', 2, 'management_self-employed', 2, 'yes', 'yes', 0.0, 2.0, 2.0, 2.0, 0.0, 0.0, 0.0, 2.0, 4.0, 1.0, 3.0, 0.0, 1.0, [0.0, 2.0, 4.0, 2.0, 2.0, 0.0, 1.0, 3.0, 0.0, 0.0, 2.0, 1.0, 0.0, 26.0, 5775.0, 5.0, 4.0, 26.0, 57.0, 2.0, 2.0], [3.681172940880484, 16.318827059119517], [0.1840586470440242, 0.8159413529559758], 1.0, 'Risk'], ['no_checking', 43, 'outstanding_credit', 'other', 8678, 'greater_1000', 'greater_7', 6, 'male', 'co-applicant', 5, 'unknown', 50, 'none', 'free', 3, 'management_self-employed', 2, 'yes', 'yes', 0.0, 2.0, 2.0, 3.0, 0.0, 2.0, 0.0, 2.0, 10.0, 1.0, 3.0, 0.0, 1.0, [0.0, 2.0, 10.0, 3.0, 2.0, 0.0, 1.0, 3.0, 0.0, 2.0, 2.0, 1.0, 0.0, 43.0, 8678.0, 6.0, 5.0, 43.0, 50.0, 3.0, 2.0], [1.2487383146359714, 18.751261685364028], [0.06243691573179857, 0.9375630842682015], 1.0, 'Risk'], ['greater_200', 36, 'outstanding_credit', 'radio_tv', 5954, '500_to_1000', 'greater_7', 4, 'male', 'co-applicant', 4, 'unknown', 52, 'none', 'free', 2, 'skilled', 1, 'yes', 'yes', 3.0, 2.0, 2.0, 2.0, 0.0, 2.0, 0.0, 0.0, 3.0, 1.0, 3.0, 0.0, 1.0, [3.0, 2.0, 3.0, 2.0, 2.0, 0.0, 1.0, 3.0, 0.0, 2.0, 0.0, 1.0, 0.0, 36.0, 5954.0, 4.0, 4.0, 36.0, 52.0, 2.0, 1.0], [3.629264420308011, 16.37073557969199], [0.18146322101540055, 0.8185367789845994], 1.0, 'Risk'], ['0_to_200', 25, 'credits_paid_to_date', 'radio_tv', 4437, 'less_100', 'less_1', 3, 'male', 'none', 2, 'car_other', 34, 'none', 'rent', 1, 'management_self-employed', 1, 'none', 'yes', 2.0, 1.0, 3.0, 0.0, 0.0, 1.0, 0.0, 2.0, 3.0, 0.0, 1.0, 0.0, 0.0, [2.0, 1.0, 3.0, 0.0, 3.0, 0.0, 0.0, 1.0, 0.0, 1.0, 2.0, 0.0, 0.0, 25.0, 4437.0, 3.0, 2.0, 25.0, 34.0, 1.0, 1.0], [14.780136853174684, 5.219863146825317], [0.7390068426587342, 0.2609931573412659], 0.0, 'No Risk'], ['0_to_200', 10, 'credits_paid_to_date', 'car_used', 266, 'less_100', 'less_1', 2, 'female', 'none', 1, 'real_estate', 27, 'none', 'own', 1, 'management_self-employed', 1, 'none', 'yes', 2.0, 1.0, 3.0, 0.0, 0.0, 0.0, 0.0, 2.0, 2.0, 0.0, 2.0, 1.0, 0.0, [2.0, 1.0, 2.0, 0.0, 3.0, 1.0, 0.0, 2.0, 0.0, 0.0, 2.0, 0.0, 0.0, 10.0, 266.0, 2.0, 1.0, 10.0, 27.0, 1.0, 1.0], [19.645101551388287, 0.3548984486117117], [0.9822550775694143, 0.017744922430585584], 0.0, 'No Risk'], ['no_checking', 42, 'prior_payments_delayed', 'retraining', 5988, '500_to_1000', '4_to_7', 5, 'male', 'none', 5, 'unknown', 52, 'none', 'free', 2, 'skilled', 1, 'yes', 'yes', 0.0, 0.0, 1.0, 2.0, 0.0, 2.0, 0.0, 0.0, 8.0, 0.0, 3.0, 0.0, 1.0, [0.0, 0.0, 8.0, 2.0, 1.0, 0.0, 0.0, 3.0, 0.0, 2.0, 0.0, 1.0, 0.0, 42.0, 5988.0, 5.0, 5.0, 42.0, 52.0, 2.0, 1.0], [3.95006997142917, 16.049930028570827], [0.19750349857145855, 0.8024965014285415], 1.0, 'Risk'], ['no_checking', 41, 'outstanding_credit', 'education', 6013, 'unknown', 'greater_7', 5, 'male', 'co-applicant', 5, 'unknown', 55, 'stores', 'own', 3, 'unskilled', 2, 'yes', 'yes', 0.0, 2.0, 2.0, 4.0, 0.0, 0.0, 1.0, 1.0, 7.0, 1.0, 3.0, 0.0, 1.0, [0.0, 2.0, 7.0, 4.0, 2.0, 0.0, 1.0, 3.0, 1.0, 0.0, 1.0, 1.0, 0.0, 41.0, 6013.0, 5.0, 5.0, 41.0, 55.0, 3.0, 2.0], [2.8042407459187024, 17.195759254081295], [0.14021203729593515, 0.8597879627040649], 1.0, 'Risk'], ['less_0', 13, 'prior_payments_delayed', 'furniture', 2607, 'less_100', '1_to_4', 3, 'female', 'none', 2, 'savings_insurance', 33, 'none', 'own', 1, 'skilled', 1, 'none', 'yes', 1.0, 0.0, 0.0, 0.0, 0.0, 0.0, 0.0, 0.0, 1.0, 0.0, 0.0, 1.0, 0.0, [21, [0, 2, 5, 13, 14, 15, 16, 17, 18, 19, 20], [1.0, 1.0, 1.0, 13.0, 2607.0, 3.0, 2.0, 13.0, 33.0, 1.0, 1.0]], [16.478007172864427, 3.5219928271355707], [0.8239003586432215, 0.17609964135677858], 0.0, 'No Risk'], ['0_to_200', 11, 'credits_paid_to_date', 'furniture', 1998, 'less_100', '1_to_4', 3, 'male', 'none', 3, 'real_estate', 36, 'none', 'own', 1, 'management_self-employed', 2, 'none', 'yes', 2.0, 1.0, 0.0, 0.0, 0.0, 0.0, 0.0, 2.0, 1.0, 0.0, 2.0, 0.0, 0.0, [2.0, 1.0, 1.0, 0.0, 0.0, 0.0, 0.0, 2.0, 0.0, 0.0, 2.0, 0.0, 0.0, 11.0, 1998.0, 3.0, 3.0, 11.0, 36.0, 1.0, 2.0], [17.274115928983978, 2.725884071016019], [0.8637057964491991, 0.13629420355080096], 0.0, 'No Risk'], ['no_checking', 19, 'credits_paid_to_date', 'furniture', 1924, 'greater_1000', '4_to_7', 3, 'male', 'none', 2, 'car_other', 36, 'none', 'own', 2, 'skilled', 1, 'none', 'yes', 0.0, 1.0, 1.0, 3.0, 0.0, 0.0, 0.0, 0.0, 1.0, 0.0, 1.0, 0.0, 0.0, [0.0, 1.0, 1.0, 3.0, 1.0, 0.0, 0.0, 1.0, 0.0, 0.0, 0.0, 0.0, 0.0, 19.0, 1924.0, 3.0, 2.0, 19.0, 36.0, 2.0, 1.0], [13.211591717331977, 6.788408282668023], [0.6605795858665988, 0.3394204141334011], 0.0, 'No Risk'], ['0_to_200', 26, 'credits_paid_to_date', 'radio_tv', 3118, '500_to_1000', 'greater_7', 4, 'female', 'none', 3, 'car_other', 38, 'none', 'rent', 1, 'skilled', 1, 'none', 'yes', 2.0, 1.0, 2.0, 2.0, 0.0, 1.0, 0.0, 0.0, 3.0, 0.0, 1.0, 1.0, 0.0, [2.0, 1.0, 3.0, 2.0, 2.0, 1.0, 0.0, 1.0, 0.0, 1.0, 0.0, 0.0, 0.0, 26.0, 3118.0, 4.0, 3.0, 26.0, 38.0, 1.0, 1.0], [10.774992565382526, 9.225007434617474], [0.5387496282691263, 0.4612503717308737], 0.0, 'No Risk'], ['less_0', 27, 'outstanding_credit', 'car_used', 1918, '500_to_1000', '4_to_7', 3, 'male', 'none', 3, 'car_other', 32, 'stores', 'rent', 1, 'unskilled', 1, 'yes', 'yes', 1.0, 2.0, 1.0, 2.0, 0.0, 1.0, 1.0, 1.0, 2.0, 0.0, 1.0, 0.0, 1.0, [1.0, 2.0, 2.0, 2.0, 1.0, 0.0, 0.0, 1.0, 1.0, 1.0, 1.0, 1.0, 0.0, 27.0, 1918.0, 3.0, 3.0, 27.0, 32.0, 1.0, 1.0], [13.073332238894325, 6.9266677611056755], [0.6536666119447163, 0.3463333880552838], 0.0, 'No Risk'], ['0_to_200', 13, 'prior_payments_delayed', 'retraining', 3908, '100_to_500', '4_to_7', 3, 'male', 'none', 2, 'car_other', 33, 'none', 'own', 1, 'skilled', 2, 'none', 'yes', 2.0, 0.0, 1.0, 1.0, 0.0, 0.0, 0.0, 0.0, 8.0, 0.0, 1.0, 0.0, 0.0, [2.0, 0.0, 8.0, 1.0, 1.0, 0.0, 0.0, 1.0, 0.0, 0.0, 0.0, 0.0, 0.0, 13.0, 3908.0, 3.0, 2.0, 13.0, 33.0, 1.0, 2.0], [15.926883389102935, 4.0731166108970625], [0.7963441694551469, 0.20365583054485317], 0.0, 'No Risk'], ['0_to_200', 7, 'all_credits_paid_back', 'car_new', 1325, '100_to_500', 'less_1', 3, 'male', 'none', 2, 'car_other', 28, 'none', 'own', 2, 'skilled', 1, 'yes', 'yes', 2.0, 3.0, 3.0, 1.0, 0.0, 0.0, 0.0, 0.0, 0.0, 0.0, 1.0, 0.0, 1.0, [2.0, 3.0, 0.0, 1.0, 3.0, 0.0, 0.0, 1.0, 0.0, 0.0, 0.0, 1.0, 0.0, 7.0, 1325.0, 3.0, 2.0, 7.0, 28.0, 2.0, 1.0], [17.491200933582057, 2.508799066417944], [0.8745600466791028, 0.1254399533208972], 0.0, 'No Risk'], ['greater_200', 20, 'all_credits_paid_back', 'car_used', 3138, '100_to_500', '4_to_7', 2, 'male', 'none', 2, 'savings_insurance', 32, 'none', 'free', 2, 'skilled', 1, 'yes', 'no', 3.0, 3.0, 1.0, 1.0, 1.0, 2.0, 0.0, 0.0, 2.0, 0.0, 0.0, 0.0, 1.0, [3.0, 3.0, 2.0, 1.0, 1.0, 0.0, 0.0, 0.0, 0.0, 2.0, 0.0, 1.0, 1.0, 20.0, 3138.0, 2.0, 2.0, 20.0, 32.0, 2.0, 1.0], [16.226665430670167, 3.7733345693298377], [0.8113332715335082, 0.18866672846649185], 0.0, 'No Risk'], ['no_checking', 43, 'prior_payments_delayed', 'repairs', 3819, '500_to_1000', '4_to_7', 3, 'male', 'guarantor', 3, 'savings_insurance', 49, 'none', 'free', 1, 'skilled', 1, 'yes', 'yes', 0.0, 0.0, 1.0, 2.0, 0.0, 2.0, 0.0, 0.0, 5.0, 2.0, 0.0, 0.0, 1.0, [0.0, 0.0, 5.0, 2.0, 1.0, 0.0, 2.0, 0.0, 0.0, 2.0, 0.0, 1.0, 0.0, 43.0, 3819.0, 3.0, 3.0, 43.0, 49.0, 1.0, 1.0], [7.953989371927435, 12.046010628072565], [0.39769946859637173, 0.6023005314036283], 1.0, 'Risk'], ['no_checking', 43, 'prior_payments_delayed', 'repairs', 6464, '500_to_1000', 'greater_7', 5, 'male', 'co-applicant', 5, 'unknown', 44, 'none', 'free', 2, 'skilled', 1, 'yes', 'yes', 0.0, 0.0, 2.0, 2.0, 0.0, 2.0, 0.0, 0.0, 5.0, 1.0, 3.0, 0.0, 1.0, [0.0, 0.0, 5.0, 2.0, 2.0, 0.0, 1.0, 3.0, 0.0, 2.0, 0.0, 1.0, 0.0, 43.0, 6464.0, 5.0, 5.0, 43.0, 44.0, 2.0, 1.0], [2.458578306918199, 17.5414216930818], [0.12292891534590995, 0.8770710846540901], 1.0, 'Risk'], ['greater_200', 29, 'prior_payments_delayed', 'education', 5048, '100_to_500', '1_to_4', 2, 'male', 'none', 2, 'unknown', 37, 'none', 'own', 1, 'skilled', 1, 'yes', 'yes', 3.0, 0.0, 0.0, 1.0, 0.0, 0.0, 0.0, 0.0, 7.0, 0.0, 3.0, 0.0, 1.0, [3.0, 0.0, 7.0, 1.0, 0.0, 0.0, 0.0, 3.0, 0.0, 0.0, 0.0, 1.0, 0.0, 29.0, 5048.0, 2.0, 2.0, 29.0, 37.0, 1.0, 1.0], [13.073487823812703, 6.926512176187297], [0.6536743911906352, 0.34632560880936486], 0.0, 'No Risk'], ['0_to_200', 4, 'prior_payments_delayed', 'car_new', 1173, 'less_100', '1_to_4', 2, 'female', 'none', 3, 'car_other', 27, 'none', 'own', 1, 'skilled', 1, 'none', 'yes', 2.0, 0.0, 0.0, 0.0, 0.0, 0.0, 0.0, 0.0, 0.0, 0.0, 1.0, 1.0, 0.0, [21, [0, 5, 7, 13, 14, 15, 16, 17, 18, 19, 20], [2.0, 1.0, 1.0, 4.0, 1173.0, 2.0, 3.0, 4.0, 27.0, 1.0, 1.0]], [15.827712219410452, 4.1722877805895475], [0.7913856109705226, 0.20861438902947738], 0.0, 'No Risk'], ['no_checking', 18, 'outstanding_credit', 'radio_tv', 4928, '100_to_500', '4_to_7', 4, 'male', 'none', 4, 'car_other', 47, 'none', 'own', 1, 'management_self-employed', 1, 'yes', 'yes', 0.0, 2.0, 1.0, 1.0, 0.0, 0.0, 0.0, 2.0, 3.0, 0.0, 1.0, 0.0, 1.0, [0.0, 2.0, 3.0, 1.0, 1.0, 0.0, 0.0, 1.0, 0.0, 0.0, 2.0, 1.0, 0.0, 18.0, 4928.0, 4.0, 4.0, 18.0, 47.0, 1.0, 1.0], [10.069004982010615, 9.930995017989384], [0.5034502491005307, 0.4965497508994692], 0.0, 'No Risk'], ['0_to_200', 16, 'credits_paid_to_date', 'car_used', 250, '500_to_1000', '1_to_4', 3, 'male', 'none', 2, 'real_estate', 26, 'none', 'own', 1, 'skilled', 1, 'none', 'yes', 2.0, 1.0, 0.0, 2.0, 0.0, 0.0, 0.0, 0.0, 2.0, 0.0, 2.0, 0.0, 0.0, [2.0, 1.0, 2.0, 2.0, 0.0, 0.0, 0.0, 2.0, 0.0, 0.0, 0.0, 0.0, 0.0, 16.0, 250.0, 3.0, 2.0, 16.0, 26.0, 1.0, 1.0], [18.832592804831044, 1.167407195168955], [0.9416296402415523, 0.05837035975844775], 0.0, 'No Risk'], ['no_checking', 13, 'prior_payments_delayed', 'furniture', 3850, '100_to_500', '1_to_4', 3, 'male', 'none', 3, 'savings_insurance', 38, 'none', 'own', 1, 'management_self-employed', 1, 'yes', 'yes', 0.0, 0.0, 0.0, 1.0, 0.0, 0.0, 0.0, 2.0, 1.0, 0.0, 0.0, 0.0, 1.0, [21, [2, 3, 10, 11, 13, 14, 15, 16, 17, 18, 19, 20], [1.0, 1.0, 2.0, 1.0, 13.0, 3850.0, 3.0, 3.0, 13.0, 38.0, 1.0, 1.0]], [14.673398191168936, 5.326601808831066], [0.7336699095584468, 0.2663300904415533], 0.0, 'No Risk'], ['0_to_200', 16, 'credits_paid_to_date', 'repairs', 2451, 'less_100', '4_to_7', 2, 'male', 'none', 2, 'car_other', 41, 'stores', 'own', 1, 'unskilled', 1, 'yes', 'yes', 2.0, 1.0, 1.0, 0.0, 0.0, 0.0, 1.0, 1.0, 5.0, 0.0, 1.0, 0.0, 1.0, [2.0, 1.0, 5.0, 0.0, 1.0, 0.0, 0.0, 1.0, 1.0, 0.0, 1.0, 1.0, 0.0, 16.0, 2451.0, 2.0, 2.0, 16.0, 41.0, 1.0, 1.0], [16.000685621138157, 3.999314378861844], [0.8000342810569079, 0.1999657189430922], 0.0, 'No Risk'], ['no_checking', 21, 'credits_paid_to_date', 'car_used', 7848, '100_to_500', '1_to_4', 4, 'male', 'none', 3, 'car_other', 41, 'none', 'own', 2, 'management_self-employed', 1, 'none', 'yes', 0.0, 1.0, 0.0, 1.0, 0.0, 0.0, 0.0, 2.0, 2.0, 0.0, 1.0, 0.0, 0.0, [0.0, 1.0, 2.0, 1.0, 0.0, 0.0, 0.0, 1.0, 0.0, 0.0, 2.0, 0.0, 0.0, 21.0, 7848.0, 4.0, 3.0, 21.0, 41.0, 2.0, 1.0], [12.07658171328694, 7.923418286713056], [0.6038290856643471, 0.3961709143356529], 0.0, 'No Risk'], ['less_0', 9, 'all_credits_paid_back', 'car_used', 281, 'less_100', '1_to_4', 2, 'female', 'none', 2, 'real_estate', 21, 'bank', 'rent', 1, 'unskilled', 1, 'none', 'yes', 1.0, 3.0, 0.0, 0.0, 0.0, 1.0, 2.0, 1.0, 2.0, 0.0, 2.0, 1.0, 0.0, [1.0, 3.0, 2.0, 0.0, 0.0, 1.0, 0.0, 2.0, 2.0, 1.0, 1.0, 0.0, 0.0, 9.0, 281.0, 2.0, 2.0, 9.0, 21.0, 1.0, 1.0], [19.378882849216225, 0.6211171507837759], [0.9689441424608113, 0.031055857539188797], 0.0, 'No Risk'], ['less_0', 15, 'credits_paid_to_date', 'car_used', 2913, '100_to_500', 'less_1', 2, 'female', 'none', 2, 'car_other', 33, 'none', 'own', 2, 'skilled', 1, 'none', 'yes', 1.0, 1.0, 3.0, 1.0, 0.0, 0.0, 0.0, 0.0, 2.0, 0.0, 1.0, 1.0, 0.0, [1.0, 1.0, 2.0, 1.0, 3.0, 1.0, 0.0, 1.0, 0.0, 0.0, 0.0, 0.0, 0.0, 15.0, 2913.0, 2.0, 2.0, 15.0, 33.0, 2.0, 1.0], [16.609448256038498, 3.390551743961498], [0.8304724128019251, 0.16952758719807492], 0.0, 'No Risk'], ['no_checking', 26, 'prior_payments_delayed', 'furniture', 4127, 'unknown', '4_to_7', 3, 'male', 'none', 4, 'car_other', 46, 'none', 'own', 2, 'skilled', 2, 'yes', 'yes', 0.0, 0.0, 1.0, 4.0, 0.0, 0.0, 0.0, 0.0, 1.0, 0.0, 1.0, 0.0, 1.0, [0.0, 0.0, 1.0, 4.0, 1.0, 0.0, 0.0, 1.0, 0.0, 0.0, 0.0, 1.0, 0.0, 26.0, 4127.0, 3.0, 4.0, 26.0, 46.0, 2.0, 2.0], [8.569285430302125, 11.430714569697873], [0.42846427151510624, 0.5715357284848936], 1.0, 'Risk'], ['no_checking', 15, 'credits_paid_to_date', 'car_used', 7755, '100_to_500', '4_to_7', 4, 'female', 'none', 4, 'car_other', 46, 'none', 'own', 2, 'skilled', 1, 'yes', 'yes', 0.0, 1.0, 1.0, 1.0, 0.0, 0.0, 0.0, 0.0, 2.0, 0.0, 1.0, 1.0, 1.0, [0.0, 1.0, 2.0, 1.0, 1.0, 1.0, 0.0, 1.0, 0.0, 0.0, 0.0, 1.0, 0.0, 15.0, 7755.0, 4.0, 4.0, 15.0, 46.0, 2.0, 1.0], [6.800682112523983, 13.199317887476015], [0.3400341056261992, 0.6599658943738007], 1.0, 'Risk'], ['0_to_200', 14, 'credits_paid_to_date', 'car_used', 1454, '500_to_1000', 'less_1', 3, 'female', 'none', 3, 'car_other', 31, 'none', 'rent', 1, 'skilled', 1, 'none', 'yes', 2.0, 1.0, 3.0, 2.0, 0.0, 1.0, 0.0, 0.0, 2.0, 0.0, 1.0, 1.0, 0.0, [2.0, 1.0, 2.0, 2.0, 3.0, 1.0, 0.0, 1.0, 0.0, 1.0, 0.0, 0.0, 0.0, 14.0, 1454.0, 3.0, 3.0, 14.0, 31.0, 1.0, 1.0], [16.474737841747896, 3.525262158252105], [0.8237368920873948, 0.17626310791260524], 0.0, 'No Risk'], ['no_checking', 30, 'prior_payments_delayed', 'furniture', 4524, '500_to_1000', '4_to_7', 3, 'male', 'guarantor', 4, 'savings_insurance', 53, 'bank', 'own', 1, 'unemployed', 1, 'yes', 'yes', 0.0, 0.0, 1.0, 2.0, 0.0, 0.0, 2.0, 3.0, 1.0, 2.0, 0.0, 0.0, 1.0, [0.0, 0.0, 1.0, 2.0, 1.0, 0.0, 2.0, 0.0, 2.0, 0.0, 3.0, 1.0, 0.0, 30.0, 4524.0, 3.0, 4.0, 30.0, 53.0, 1.0, 1.0], [8.178554844886335, 11.821445155113665], [0.40892774224431677, 0.5910722577556833], 1.0, 'Risk'], ['greater_200', 25, 'credits_paid_to_date', 'retraining', 3685, 'less_100', '1_to_4', 3, 'female', 'none', 3, 'savings_insurance', 39, 'none', 'own', 1, 'skilled', 2, 'none', 'yes', 3.0, 1.0, 0.0, 0.0, 0.0, 0.0, 0.0, 0.0, 8.0, 0.0, 0.0, 1.0, 0.0, [21, [0, 1, 2, 5, 13, 14, 15, 16, 17, 18, 19, 20], [3.0, 1.0, 8.0, 1.0, 25.0, 3685.0, 3.0, 3.0, 25.0, 39.0, 1.0, 2.0]], [13.673877546577804, 6.326122453422195], [0.6836938773288902, 0.31630612267110975], 0.0, 'No Risk'], ['no_checking', 43, 'prior_payments_delayed', 'appliances', 8848, '500_to_1000', 'greater_7', 5, 'male', 'co-applicant', 5, 'unknown', 43, 'none', 'free', 2, 'skilled', 1, 'yes', 'yes', 0.0, 0.0, 2.0, 2.0, 0.0, 2.0, 0.0, 0.0, 4.0, 1.0, 3.0, 0.0, 1.0, [0.0, 0.0, 4.0, 2.0, 2.0, 0.0, 1.0, 3.0, 0.0, 2.0, 0.0, 1.0, 0.0, 43.0, 8848.0, 5.0, 5.0, 43.0, 43.0, 2.0, 1.0], [2.458578306918199, 17.5414216930818], [0.12292891534590995, 0.8770710846540901], 1.0, 'Risk'], ['no_checking', 41, 'outstanding_credit', 'radio_tv', 4769, 'unknown', 'greater_7', 5, 'male', 'co-applicant', 3, 'unknown', 42, 'none', 'own', 3, 'skilled', 2, 'yes', 'yes', 0.0, 2.0, 2.0, 4.0, 0.0, 0.0, 0.0, 0.0, 3.0, 1.0, 3.0, 0.0, 1.0, [0.0, 2.0, 3.0, 4.0, 2.0, 0.0, 1.0, 3.0, 0.0, 0.0, 0.0, 1.0, 0.0, 41.0, 4769.0, 5.0, 3.0, 41.0, 42.0, 3.0, 2.0], [3.931203996635265, 16.068796003364735], [0.19656019983176326, 0.8034398001682368], 1.0, 'Risk'], ['0_to_200', 29, 'credits_paid_to_date', 'business', 3800, '100_to_500', 'greater_7', 3, 'male', 'none', 3, 'savings_insurance', 32, 'none', 'own', 1, 'skilled', 1, 'none', 'yes', 2.0, 1.0, 2.0, 1.0, 0.0, 0.0, 0.0, 0.0, 9.0, 0.0, 0.0, 0.0, 0.0, [2.0, 1.0, 9.0, 1.0, 2.0, 0.0, 0.0, 0.0, 0.0, 0.0, 0.0, 0.0, 0.0, 29.0, 3800.0, 3.0, 3.0, 29.0, 32.0, 1.0, 1.0], [13.518350117030996, 6.481649882969004], [0.6759175058515499, 0.3240824941484502], 0.0, 'No Risk'], ['greater_200', 32, 'prior_payments_delayed', 'appliances', 3659, '500_to_1000', '4_to_7', 3, 'male', 'none', 4, 'savings_insurance', 34, 'stores', 'own', 2, 'skilled', 2, 'yes', 'yes', 3.0, 0.0, 1.0, 2.0, 0.0, 0.0, 1.0, 0.0, 4.0, 0.0, 0.0, 0.0, 1.0, [3.0, 0.0, 4.0, 2.0, 1.0, 0.0, 0.0, 0.0, 1.0, 0.0, 0.0, 1.0, 0.0, 32.0, 3659.0, 3.0, 4.0, 32.0, 34.0, 2.0, 2.0], [11.300447971940326, 8.699552028059676], [0.5650223985970163, 0.4349776014029838], 0.0, 'No Risk'], ['greater_200', 26, 'prior_payments_delayed', 'furniture', 6249, '500_to_1000', 'less_1', 4, 'female', 'none', 3, 'car_other', 40, 'none', 'own', 2, 'skilled', 1, 'none', 'yes', 3.0, 0.0, 3.0, 2.0, 0.0, 0.0, 0.0, 0.0, 1.0, 0.0, 1.0, 1.0, 0.0, [3.0, 0.0, 1.0, 2.0, 3.0, 1.0, 0.0, 1.0, 0.0, 0.0, 0.0, 0.0, 0.0, 26.0, 6249.0, 4.0, 3.0, 26.0, 40.0, 2.0, 1.0], [12.32380434780908, 7.676195652190919], [0.616190217390454, 0.38380978260954596], 0.0, 'No Risk'], ['no_checking', 13, 'outstanding_credit', 'retraining', 5464, '100_to_500', 'greater_7', 5, 'male', 'none', 4, 'savings_insurance', 33, 'none', 'own', 1, 'management_self-employed', 1, 'yes', 'yes', 0.0, 2.0, 2.0, 1.0, 0.0, 0.0, 0.0, 2.0, 8.0, 0.0, 0.0, 0.0, 1.0, [0.0, 2.0, 8.0, 1.0, 2.0, 0.0, 0.0, 0.0, 0.0, 0.0, 2.0, 1.0, 0.0, 13.0, 5464.0, 5.0, 4.0, 13.0, 33.0, 1.0, 1.0], [11.748309730281031, 8.251690269718967], [0.5874154865140515, 0.4125845134859484], 0.0, 'No Risk'], ['no_checking', 40, 'prior_payments_delayed', 'vacation', 5951, 'unknown', '4_to_7', 5, 'male', 'none', 3, 'savings_insurance', 41, 'none', 'own', 2, 'skilled', 2, 'yes', 'yes', 0.0, 0.0, 1.0, 4.0, 0.0, 0.0, 0.0, 0.0, 6.0, 0.0, 0.0, 0.0, 1.0, [21, [2, 3, 4, 11, 13, 14, 15, 16, 17, 18, 19, 20], [6.0, 4.0, 1.0, 1.0, 40.0, 5951.0, 5.0, 3.0, 40.0, 41.0, 2.0, 2.0]], [10.479521246200733, 9.520478753799267], [0.5239760623100367, 0.4760239376899634], 0.0, 'No Risk'], ['no_checking', 29, 'credits_paid_to_date', 'radio_tv', 7490, 'greater_1000', '4_to_7', 5, 'male', 'none', 4, 'car_other', 39, 'none', 'free', 3, 'management_self-employed', 2, 'yes', 'yes', 0.0, 1.0, 1.0, 3.0, 0.0, 2.0, 0.0, 2.0, 3.0, 0.0, 1.0, 0.0, 1.0, [0.0, 1.0, 3.0, 3.0, 1.0, 0.0, 0.0, 1.0, 0.0, 2.0, 2.0, 1.0, 0.0, 29.0, 7490.0, 5.0, 4.0, 29.0, 39.0, 3.0, 2.0], [8.615107880278552, 11.384892119721448], [0.4307553940139276, 0.5692446059860724], 1.0, 'Risk'], ['no_checking', 43, 'credits_paid_to_date', 'education', 6439, 'unknown', '4_to_7', 5, 'male', 'none', 3, 'savings_insurance', 33, 'none', 'free', 3, 'skilled', 1, 'yes', 'yes', 0.0, 1.0, 1.0, 4.0, 0.0, 2.0, 0.0, 0.0, 7.0, 0.0, 0.0, 0.0, 1.0, [0.0, 1.0, 7.0, 4.0, 1.0, 0.0, 0.0, 0.0, 0.0, 2.0, 0.0, 1.0, 0.0, 43.0, 6439.0, 5.0, 3.0, 43.0, 33.0, 3.0, 1.0], [9.761405572491734, 10.238594427508266], [0.4880702786245867, 0.5119297213754133], 1.0, 'Risk'], ['less_0', 18, 'credits_paid_to_date', 'car_new', 347, '500_to_1000', '1_to_4', 2, 'male', 'none', 3, 'savings_insurance', 32, 'stores', 'own', 1, 'skilled', 1, 'yes', 'yes', 1.0, 1.0, 0.0, 2.0, 0.0, 0.0, 1.0, 0.0, 0.0, 0.0, 0.0, 0.0, 1.0, [1.0, 1.0, 0.0, 2.0, 0.0, 0.0, 0.0, 0.0, 1.0, 0.0, 0.0, 1.0, 0.0, 18.0, 347.0, 2.0, 3.0, 18.0, 32.0, 1.0, 1.0], [15.789448367281532, 4.21055163271847], [0.7894724183640766, 0.2105275816359235], 0.0, 'No Risk'], ['no_checking', 20, 'credits_paid_to_date', 'car_new', 4294, '100_to_500', 'less_1', 3, 'female', 'none', 3, 'real_estate', 37, 'none', 'own', 1, 'skilled', 1, 'yes', 'yes', 0.0, 1.0, 3.0, 1.0, 0.0, 0.0, 0.0, 0.0, 0.0, 0.0, 2.0, 1.0, 1.0, [0.0, 1.0, 0.0, 1.0, 3.0, 1.0, 0.0, 2.0, 0.0, 0.0, 0.0, 1.0, 0.0, 20.0, 4294.0, 3.0, 3.0, 20.0, 37.0, 1.0, 1.0], [16.952435018799882, 3.0475649812001184], [0.8476217509399941, 0.1523782490600059], 0.0, 'No Risk'], ['greater_200', 28, 'outstanding_credit', 'radio_tv', 4540, '500_to_1000', '1_to_4', 2, 'male', 'co-applicant', 3, 'car_other', 47, 'stores', 'own', 1, 'skilled', 1, 'yes', 'yes', 3.0, 2.0, 0.0, 2.0, 0.0, 0.0, 1.0, 0.0, 3.0, 1.0, 1.0, 0.0, 1.0, [3.0, 2.0, 3.0, 2.0, 0.0, 0.0, 1.0, 1.0, 1.0, 0.0, 0.0, 1.0, 0.0, 28.0, 4540.0, 2.0, 3.0, 28.0, 47.0, 1.0, 1.0], [10.081423039894831, 9.918576960105169], [0.5040711519947416, 0.49592884800525844], 0.0, 'No Risk'], ['less_0', 24, 'credits_paid_to_date', 'car_used', 974, '500_to_1000', '4_to_7', 3, 'male', 'none', 3, 'car_other', 29, 'none', 'own', 2, 'skilled', 1, 'yes', 'yes', 1.0, 1.0, 1.0, 2.0, 0.0, 0.0, 0.0, 0.0, 2.0, 0.0, 1.0, 0.0, 1.0, [1.0, 1.0, 2.0, 2.0, 1.0, 0.0, 0.0, 1.0, 0.0, 0.0, 0.0, 1.0, 0.0, 24.0, 974.0, 3.0, 3.0, 24.0, 29.0, 2.0, 1.0], [12.92464526633765, 7.075354733662349], [0.6462322633168825, 0.35376773668311745], 0.0, 'No Risk'], ['no_checking', 33, 'outstanding_credit', 'radio_tv', 6983, 'unknown', '4_to_7', 5, 'male', 'co-applicant', 5, 'car_other', 41, 'none', 'own', 2, 'skilled', 2, 'none', 'yes', 0.0, 2.0, 1.0, 4.0, 0.0, 0.0, 0.0, 0.0, 3.0, 1.0, 1.0, 0.0, 0.0, [0.0, 2.0, 3.0, 4.0, 1.0, 0.0, 1.0, 1.0, 0.0, 0.0, 0.0, 0.0, 0.0, 33.0, 6983.0, 5.0, 5.0, 33.0, 41.0, 2.0, 2.0], [6.092233602969358, 13.907766397030642], [0.3046116801484679, 0.695388319851532], 1.0, 'Risk'], ['less_0', 4, 'all_credits_paid_back', 'car_new', 250, 'less_100', 'unemployed', 1, 'female', 'none', 1, 'real_estate', 19, 'none', 'rent', 1, 'skilled', 1, 'none', 'yes', 1.0, 3.0, 4.0, 0.0, 0.0, 1.0, 0.0, 0.0, 0.0, 0.0, 2.0, 1.0, 0.0, [1.0, 3.0, 0.0, 0.0, 4.0, 1.0, 0.0, 2.0, 0.0, 1.0, 0.0, 0.0, 0.0, 4.0, 250.0, 1.0, 1.0, 4.0, 19.0, 1.0, 1.0], [19.73822260499371, 0.2617773950062894], [0.9869111302496855, 0.01308886975031447], 0.0, 'No Risk'], ['less_0', 20, 'credits_paid_to_date', 'car_used', 2404, '500_to_1000', '4_to_7', 2, 'female', 'none', 3, 'car_other', 32, 'stores', 'rent', 1, 'skilled', 1, 'none', 'no', 1.0, 1.0, 1.0, 2.0, 1.0, 1.0, 1.0, 0.0, 2.0, 0.0, 1.0, 1.0, 0.0, [1.0, 1.0, 2.0, 2.0, 1.0, 1.0, 0.0, 1.0, 1.0, 1.0, 0.0, 0.0, 1.0, 20.0, 2404.0, 2.0, 3.0, 20.0, 32.0, 1.0, 1.0], [13.70495996584751, 6.295040034152493], [0.6852479982923755, 0.31475200170762463], 0.0, 'No Risk'], ['no_checking', 9, 'credits_paid_to_date', 'vacation', 5026, 'less_100', '4_to_7', 3, 'female', 'none', 3, 'savings_insurance', 33, 'none', 'own', 1, 'skilled', 1, 'none', 'yes', 0.0, 1.0, 1.0, 0.0, 0.0, 0.0, 0.0, 0.0, 6.0, 0.0, 0.0, 1.0, 0.0, [21, [1, 2, 4, 5, 13, 14, 15, 16, 17, 18, 19, 20], [1.0, 6.0, 1.0, 1.0, 9.0, 5026.0, 3.0, 3.0, 9.0, 33.0, 1.0, 1.0]], [12.370553594365742, 7.629446405634257], [0.618527679718287, 0.38147232028171285], 0.0, 'No Risk'], ['no_checking', 15, 'credits_paid_to_date', 'furniture', 809, '100_to_500', '1_to_4', 2, 'male', 'none', 3, 'car_other', 39, 'none', 'free', 1, 'skilled', 1, 'none', 'yes', 0.0, 1.0, 0.0, 1.0, 0.0, 2.0, 0.0, 0.0, 1.0, 0.0, 1.0, 0.0, 0.0, [0.0, 1.0, 1.0, 1.0, 0.0, 0.0, 0.0, 1.0, 0.0, 2.0, 0.0, 0.0, 0.0, 15.0, 809.0, 2.0, 3.0, 15.0, 39.0, 1.0, 1.0], [13.126260191694934, 6.873739808305064], [0.6563130095847467, 0.3436869904152532], 0.0, 'No Risk'], ['no_checking', 31, 'prior_payments_delayed', 'car_used', 4429, '500_to_1000', 'greater_7', 3, 'male', 'none', 4, 'car_other', 43, 'none', 'own', 1, 'skilled', 1, 'yes', 'yes', 0.0, 0.0, 2.0, 2.0, 0.0, 0.0, 0.0, 0.0, 2.0, 0.0, 1.0, 0.0, 1.0, [0.0, 0.0, 2.0, 2.0, 2.0, 0.0, 0.0, 1.0, 0.0, 0.0, 0.0, 1.0, 0.0, 31.0, 4429.0, 3.0, 4.0, 31.0, 43.0, 1.0, 1.0], [8.166208936865948, 11.833791063134052], [0.40831044684329737, 0.5916895531567026], 1.0, 'Risk'], ['no_checking', 36, 'outstanding_credit', 'furniture', 6662, '500_to_1000', '4_to_7', 4, 'male', 'none', 3, 'savings_insurance', 45, 'none', 'free', 2, 'skilled', 1, 'yes', 'yes', 0.0, 2.0, 1.0, 2.0, 0.0, 2.0, 0.0, 0.0, 1.0, 0.0, 0.0, 0.0, 1.0, [0.0, 2.0, 1.0, 2.0, 1.0, 0.0, 0.0, 0.0, 0.0, 2.0, 0.0, 1.0, 0.0, 36.0, 6662.0, 4.0, 3.0, 36.0, 45.0, 2.0, 1.0], [8.150438406066206, 11.849561593933792], [0.4075219203033103, 0.5924780796966896], 1.0, 'Risk'], ['0_to_200', 27, 'outstanding_credit', 'car_used', 2566, '100_to_500', '4_to_7', 3, 'female', 'none', 2, 'savings_insurance', 43, 'bank', 'own', 1, 'unemployed', 1, 'yes', 'yes', 2.0, 2.0, 1.0, 1.0, 0.0, 0.0, 2.0, 3.0, 2.0, 0.0, 0.0, 1.0, 1.0, [2.0, 2.0, 2.0, 1.0, 1.0, 1.0, 0.0, 0.0, 2.0, 0.0, 3.0, 1.0, 0.0, 27.0, 2566.0, 3.0, 2.0, 27.0, 43.0, 1.0, 1.0], [14.56536922115961, 5.434630778840392], [0.7282684610579805, 0.27173153894201957], 0.0, 'No Risk'], ['less_0', 4, 'credits_paid_to_date', 'radio_tv', 250, 'less_100', 'unemployed', 1, 'male', 'none', 2, 'savings_insurance', 22, 'bank', 'rent', 1, 'unemployed', 1, 'none', 'yes', 1.0, 1.0, 4.0, 0.0, 0.0, 1.0, 2.0, 3.0, 3.0, 0.0, 0.0, 0.0, 0.0, [1.0, 1.0, 3.0, 0.0, 4.0, 0.0, 0.0, 0.0, 2.0, 1.0, 3.0, 0.0, 0.0, 4.0, 250.0, 1.0, 2.0, 4.0, 22.0, 1.0, 1.0], [19.304967027868862, 0.6950329721311377], [0.9652483513934431, 0.034751648606556884], 0.0, 'No Risk'], ['less_0', 9, 'all_credits_paid_back', 'car_new', 742, 'less_100', 'less_1', 2, 'male', 'none', 2, 'real_estate', 29, 'none', 'rent', 2, 'skilled', 1, 'none', 'yes', 1.0, 3.0, 3.0, 0.0, 0.0, 1.0, 0.0, 0.0, 0.0, 0.0, 2.0, 0.0, 0.0, [1.0, 3.0, 0.0, 0.0, 3.0, 0.0, 0.0, 2.0, 0.0, 1.0, 0.0, 0.0, 0.0, 9.0, 742.0, 2.0, 2.0, 9.0, 29.0, 2.0, 1.0], [19.303114303562438, 0.6968856964375597], [0.965155715178122, 0.03484428482187799], 0.0, 'No Risk'], ['less_0', 9, 'all_credits_paid_back', 'car_used', 1218, '100_to_500', 'less_1', 1, 'female', 'none', 1, 'real_estate', 23, 'none', 'rent', 1, 'skilled', 1, 'none', 'yes', 1.0, 3.0, 3.0, 1.0, 0.0, 1.0, 0.0, 0.0, 2.0, 0.0, 2.0, 1.0, 0.0, [1.0, 3.0, 2.0, 1.0, 3.0, 1.0, 0.0, 2.0, 0.0, 1.0, 0.0, 0.0, 0.0, 9.0, 1218.0, 1.0, 1.0, 9.0, 23.0, 1.0, 1.0], [19.441992141564846, 0.5580078584351545], [0.9720996070782423, 0.02790039292175773], 0.0, 'No Risk'], ['no_checking', 27, 'prior_payments_delayed', 'car_used', 6137, '100_to_500', '4_to_7', 4, 'male', 'guarantor', 5, 'car_other', 59, 'none', 'own', 1, 'skilled', 1, 'yes', 'yes', 0.0, 0.0, 1.0, 1.0, 0.0, 0.0, 0.0, 0.0, 2.0, 2.0, 1.0, 0.0, 1.0, [0.0, 0.0, 2.0, 1.0, 1.0, 0.0, 2.0, 1.0, 0.0, 0.0, 0.0, 1.0, 0.0, 27.0, 6137.0, 4.0, 5.0, 27.0, 59.0, 1.0, 1.0], [6.997595794524802, 13.002404205475198], [0.3498797897262401, 0.6501202102737599], 1.0, 'Risk'], ['less_0', 21, 'prior_payments_delayed', 'repairs', 1265, 'less_100', 'less_1', 3, 'male', 'none', 3, 'car_other', 24, 'none', 'own', 1, 'skilled', 1, 'none', 'yes', 1.0, 0.0, 3.0, 0.0, 0.0, 0.0, 0.0, 0.0, 5.0, 0.0, 1.0, 0.0, 0.0, [21, [0, 2, 4, 7, 13, 14, 15, 16, 17, 18, 19, 20], [1.0, 5.0, 3.0, 1.0, 21.0, 1265.0, 3.0, 3.0, 21.0, 24.0, 1.0, 1.0]], [16.705424465882697, 3.294575534117304], [0.8352712232941348, 0.16472877670586522], 0.0, 'No Risk'], ['greater_200', 25, 'outstanding_credit', 'car_used', 5764, '100_to_500', '4_to_7', 3, 'male', 'none', 4, 'unknown', 44, 'none', 'own', 2, 'skilled', 1, 'yes', 'yes', 3.0, 2.0, 1.0, 1.0, 0.0, 0.0, 0.0, 0.0, 2.0, 0.0, 3.0, 0.0, 1.0, [3.0, 2.0, 2.0, 1.0, 1.0, 0.0, 0.0, 3.0, 0.0, 0.0, 0.0, 1.0, 0.0, 25.0, 5764.0, 3.0, 4.0, 25.0, 44.0, 2.0, 1.0], [9.973592535612928, 10.026407464387072], [0.4986796267806464, 0.5013203732193536], 1.0, 'Risk'], ['less_0', 10, 'all_credits_paid_back', 'car_new', 5246, 'less_100', 'unemployed', 2, 'female', 'none', 1, 'real_estate', 21, 'none', 'own', 2, 'skilled', 1, 'none', 'yes', 1.0, 3.0, 4.0, 0.0, 0.0, 0.0, 0.0, 0.0, 0.0, 0.0, 2.0, 1.0, 0.0, [1.0, 3.0, 0.0, 0.0, 4.0, 1.0, 0.0, 2.0, 0.0, 0.0, 0.0, 0.0, 0.0, 10.0, 5246.0, 2.0, 1.0, 10.0, 21.0, 2.0, 1.0], [17.803344855534444, 2.196655144465556], [0.8901672427767222, 0.10983275722327782], 0.0, 'No Risk'], ['0_to_200', 23, 'credits_paid_to_date', 'furniture', 1860, 'less_100', '4_to_7', 3, 'female', 'none', 3, 'savings_insurance', 21, 'bank', 'own', 1, 'unskilled', 1, 'none', 'yes', 2.0, 1.0, 1.0, 0.0, 0.0, 0.0, 2.0, 1.0, 1.0, 0.0, 0.0, 1.0, 0.0, [2.0, 1.0, 1.0, 0.0, 1.0, 1.0, 0.0, 0.0, 2.0, 0.0, 1.0, 0.0, 0.0, 23.0, 1860.0, 3.0, 3.0, 23.0, 21.0, 1.0, 1.0], [15.037274445533194, 4.9627255544668065], [0.7518637222766598, 0.24813627772334032], 0.0, 'No Risk'], ['0_to_200', 20, 'prior_payments_delayed', 'car_used', 250, '100_to_500', 'greater_7', 2, 'male', 'none', 2, 'car_other', 28, 'stores', 'own', 1, 'skilled', 1, 'yes', 'yes', 2.0, 0.0, 2.0, 1.0, 0.0, 0.0, 1.0, 0.0, 2.0, 0.0, 1.0, 0.0, 1.0, [2.0, 0.0, 2.0, 1.0, 2.0, 0.0, 0.0, 1.0, 1.0, 0.0, 0.0, 1.0, 0.0, 20.0, 250.0, 2.0, 2.0, 20.0, 28.0, 1.0, 1.0], [15.808962738726743, 4.191037261273255], [0.7904481369363372, 0.20955186306366275], 0.0, 'No Risk'], ['less_0', 19, 'credits_paid_to_date', 'car_used', 5348, '500_to_1000', '4_to_7', 4, 'female', 'none', 3, 'car_other', 35, 'none', 'rent', 1, 'skilled', 1, 'none', 'yes', 1.0, 1.0, 1.0, 2.0, 0.0, 1.0, 0.0, 0.0, 2.0, 0.0, 1.0, 1.0, 0.0, [1.0, 1.0, 2.0, 2.0, 1.0, 1.0, 0.0, 1.0, 0.0, 1.0, 0.0, 0.0, 0.0, 19.0, 5348.0, 4.0, 3.0, 19.0, 35.0, 1.0, 1.0], [12.66959441592202, 7.3304055840779805], [0.633479720796101, 0.366520279203899], 0.0, 'No Risk'], ['no_checking', 11, 'no_credits', 'car_new', 3276, 'less_100', 'less_1', 3, 'female', 'none', 4, 'savings_insurance', 43, 'none', 'own', 1, 'management_self-employed', 1, 'none', 'yes', 0.0, 4.0, 3.0, 0.0, 0.0, 0.0, 0.0, 2.0, 0.0, 0.0, 0.0, 1.0, 0.0, [21, [1, 4, 5, 10, 13, 14, 15, 16, 17, 18, 19, 20], [4.0, 3.0, 1.0, 2.0, 11.0, 3276.0, 3.0, 4.0, 11.0, 43.0, 1.0, 1.0]], [16.39271823797794, 3.6072817620220547], [0.8196359118988973, 0.18036408810110277], 0.0, 'No Risk'], ['less_0', 25, 'all_credits_paid_back', 'car_used', 250, 'less_100', '4_to_7', 3, 'female', 'none', 2, 'savings_insurance', 25, 'stores', 'own', 1, 'unskilled', 1, 'none', 'yes', 1.0, 3.0, 1.0, 0.0, 0.0, 0.0, 1.0, 1.0, 2.0, 0.0, 0.0, 1.0, 0.0, [1.0, 3.0, 2.0, 0.0, 1.0, 1.0, 0.0, 0.0, 1.0, 0.0, 1.0, 0.0, 0.0, 25.0, 250.0, 3.0, 2.0, 25.0, 25.0, 1.0, 1.0], [15.838508975593696, 4.161491024406304], [0.7919254487796847, 0.2080745512203152], 0.0, 'No Risk'], ['no_checking', 28, 'prior_payments_delayed', 'retraining', 6500, '500_to_1000', '4_to_7', 4, 'female', 'none', 3, 'car_other', 43, 'none', 'own', 2, 'skilled', 2, 'yes', 'yes', 0.0, 0.0, 1.0, 2.0, 0.0, 0.0, 0.0, 0.0, 8.0, 0.0, 1.0, 1.0, 1.0, [0.0, 0.0, 8.0, 2.0, 1.0, 1.0, 0.0, 1.0, 0.0, 0.0, 0.0, 1.0, 0.0, 28.0, 6500.0, 4.0, 3.0, 28.0, 43.0, 2.0, 2.0], [8.242668409166647, 11.757331590833353], [0.41213342045833234, 0.5878665795416677], 1.0, 'Risk'], ['less_0', 4, 'all_credits_paid_back', 'car_new', 250, 'less_100', 'less_1', 2, 'male', 'none', 1, 'real_estate', 19, 'none', 'rent', 1, 'skilled', 1, 'none', 'yes', 1.0, 3.0, 3.0, 0.0, 0.0, 1.0, 0.0, 0.0, 0.0, 0.0, 2.0, 0.0, 0.0, [1.0, 3.0, 0.0, 0.0, 3.0, 0.0, 0.0, 2.0, 0.0, 1.0, 0.0, 0.0, 0.0, 4.0, 250.0, 2.0, 1.0, 4.0, 19.0, 1.0, 1.0], [19.73070246972027, 0.26929753027972864], [0.9865351234860136, 0.013464876513986432], 0.0, 'No Risk'], ['less_0', 22, 'credits_paid_to_date', 'radio_tv', 2293, 'less_100', 'less_1', 3, 'female', 'none', 3, 'savings_insurance', 26, 'bank', 'rent', 1, 'unskilled', 1, 'none', 'yes', 1.0, 1.0, 3.0, 0.0, 0.0, 1.0, 2.0, 1.0, 3.0, 0.0, 0.0, 1.0, 0.0, [1.0, 1.0, 3.0, 0.0, 3.0, 1.0, 0.0, 0.0, 2.0, 1.0, 1.0, 0.0, 0.0, 22.0, 2293.0, 3.0, 3.0, 22.0, 26.0, 1.0, 1.0], [17.37678218385566, 2.623217816144336], [0.8688391091927832, 0.13116089080721682], 0.0, 'No Risk'], ['no_checking', 25, 'prior_payments_delayed', 'radio_tv', 5711, '100_to_500', '1_to_4', 2, 'female', 'none', 2, 'savings_insurance', 39, 'none', 'own', 1, 'skilled', 1, 'none', 'yes', 0.0, 0.0, 0.0, 1.0, 0.0, 0.0, 0.0, 0.0, 3.0, 0.0, 0.0, 1.0, 0.0, [21, [2, 3, 5, 13, 14, 15, 16, 17, 18, 19, 20], [3.0, 1.0, 1.0, 25.0, 5711.0, 2.0, 2.0, 25.0, 39.0, 1.0, 1.0]], [12.71677395422923, 7.283226045770767], [0.6358386977114616, 0.3641613022885384], 0.0, 'No Risk'], ['0_to_200', 7, 'all_credits_paid_back', 'car_new', 250, 'less_100', '1_to_4', 3, 'male', 'none', 3, 'real_estate', 33, 'none', 'rent', 1, 'skilled', 1, 'none', 'yes', 2.0, 3.0, 0.0, 0.0, 0.0, 1.0, 0.0, 0.0, 0.0, 0.0, 2.0, 0.0, 0.0, [21, [0, 1, 7, 9, 13, 14, 15, 16, 17, 18, 19, 20], [2.0, 3.0, 2.0, 1.0, 7.0, 250.0, 3.0, 3.0, 7.0, 33.0, 1.0, 1.0]], [18.878957405912747, 1.121042594087253], [0.9439478702956373, 0.05605212970436265], 0.0, 'No Risk'], ['0_to_200', 16, 'credits_paid_to_date', 'furniture', 4203, 'less_100', '4_to_7', 4, 'male', 'none', 4, 'savings_insurance', 30, 'none', 'own', 2, 'management_self-employed', 1, 'none', 'yes', 2.0, 1.0, 1.0, 0.0, 0.0, 0.0, 0.0, 2.0, 1.0, 0.0, 0.0, 0.0, 0.0, [2.0, 1.0, 1.0, 0.0, 1.0, 0.0, 0.0, 0.0, 0.0, 0.0, 2.0, 0.0, 0.0, 16.0, 4203.0, 4.0, 4.0, 16.0, 30.0, 2.0, 1.0], [13.689813232158313, 6.310186767841687], [0.6844906616079156, 0.31550933839208434], 0.0, 'No Risk'], ['greater_200', 25, 'outstanding_credit', 'radio_tv', 4001, '500_to_1000', '4_to_7', 4, 'male', 'none', 4, 'savings_insurance', 32, 'stores', 'own', 1, 'unskilled', 1, 'yes', 'yes', 3.0, 2.0, 1.0, 2.0, 0.0, 0.0, 1.0, 1.0, 3.0, 0.0, 0.0, 0.0, 1.0, [3.0, 2.0, 3.0, 2.0, 1.0, 0.0, 0.0, 0.0, 1.0, 0.0, 1.0, 1.0, 0.0, 25.0, 4001.0, 4.0, 4.0, 25.0, 32.0, 1.0, 1.0], [13.038516445234675, 6.961483554765324], [0.6519258222617338, 0.3480741777382662], 0.0, 'No Risk'], ['greater_200', 12, 'prior_payments_delayed', 'car_used', 250, '100_to_500', '4_to_7', 3, 'female', 'none', 2, 'savings_insurance', 38, 'stores', 'own', 1, 'unskilled', 2, 'none', 'yes', 3.0, 0.0, 1.0, 1.0, 0.0, 0.0, 1.0, 1.0, 2.0, 0.0, 0.0, 1.0, 0.0, [3.0, 0.0, 2.0, 1.0, 1.0, 1.0, 0.0, 0.0, 1.0, 0.0, 1.0, 0.0, 0.0, 12.0, 250.0, 3.0, 2.0, 12.0, 38.0, 1.0, 2.0], [16.96150713426985, 3.038492865730144], [0.8480753567134928, 0.15192464328650723], 0.0, 'No Risk'], ['less_0', 16, 'credits_paid_to_date', 'furniture', 3435, 'less_100', 'less_1', 2, 'female', 'none', 1, 'car_other', 24, 'none', 'own', 1, 'skilled', 1, 'none', 'yes', 1.0, 1.0, 3.0, 0.0, 0.0, 0.0, 0.0, 0.0, 1.0, 0.0, 1.0, 1.0, 0.0, [1.0, 1.0, 1.0, 0.0, 3.0, 1.0, 0.0, 1.0, 0.0, 0.0, 0.0, 0.0, 0.0, 16.0, 3435.0, 2.0, 1.0, 16.0, 24.0, 1.0, 1.0], [17.98079445070144, 2.0192055492985608], [0.8990397225350719, 0.10096027746492804], 0.0, 'No Risk'], ['0_to_200', 14, 'credits_paid_to_date', 'car_new', 2422, 'less_100', 'less_1', 1, 'male', 'none', 1, 'savings_insurance', 33, 'stores', 'own', 1, 'skilled', 1, 'none', 'yes', 2.0, 1.0, 3.0, 0.0, 0.0, 0.0, 1.0, 0.0, 0.0, 0.0, 0.0, 0.0, 0.0, [21, [0, 1, 4, 8, 13, 14, 15, 16, 17, 18, 19, 20], [2.0, 1.0, 3.0, 1.0, 14.0, 2422.0, 1.0, 1.0, 14.0, 33.0, 1.0, 1.0]], [17.610968744522626, 2.3890312554773683], [0.8805484372261316, 0.11945156277386845], 0.0, 'No Risk'], ['0_to_200', 21, 'all_credits_paid_back', 'furniture', 1492, 'less_100', 'unemployed', 2, 'female', 'none', 3, 'savings_insurance', 30, 'none', 'own', 1, 'skilled', 1, 'none', 'yes', 2.0, 3.0, 4.0, 0.0, 0.0, 0.0, 0.0, 0.0, 1.0, 0.0, 0.0, 1.0, 0.0, [2.0, 3.0, 1.0, 0.0, 4.0, 1.0, 0.0, 0.0, 0.0, 0.0, 0.0, 0.0, 0.0, 21.0, 1492.0, 2.0, 3.0, 21.0, 30.0, 1.0, 1.0], [16.062732349476114, 3.937267650523887], [0.8031366174738057, 0.19686338252619434], 0.0, 'No Risk'], ['no_checking', 44, 'prior_payments_delayed', 'other', 9445, '500_to_1000', '4_to_7', 5, 'male', 'none', 4, 'unknown', 44, 'none', 'free', 2, 'skilled', 1, 'none', 'no', 0.0, 0.0, 1.0, 2.0, 1.0, 2.0, 0.0, 0.0, 10.0, 0.0, 3.0, 0.0, 0.0, [0.0, 0.0, 10.0, 2.0, 1.0, 0.0, 0.0, 3.0, 0.0, 2.0, 0.0, 0.0, 1.0, 44.0, 9445.0, 5.0, 4.0, 44.0, 44.0, 2.0, 1.0], [7.144405595003242, 12.85559440499676], [0.35722027975016213, 0.642779720249838], 1.0, 'Risk'], ['less_0', 8, 'all_credits_paid_back', 'car_new', 250, '100_to_500', '1_to_4', 1, 'male', 'none', 1, 'savings_insurance', 25, 'none', 'rent', 1, 'skilled', 1, 'none', 'yes', 1.0, 3.0, 0.0, 1.0, 0.0, 1.0, 0.0, 0.0, 0.0, 0.0, 0.0, 0.0, 0.0, [21, [0, 1, 3, 9, 13, 14, 15, 16, 17, 18, 19, 20], [1.0, 3.0, 1.0, 1.0, 8.0, 250.0, 1.0, 1.0, 8.0, 25.0, 1.0, 1.0]], [18.61813971184313, 1.3818602881568665], [0.9309069855921567, 0.06909301440784334], 0.0, 'No Risk'], ['no_checking', 30, 'prior_payments_delayed', 'car_used', 8662, '100_to_500', '4_to_7', 5, 'male', 'co-applicant', 5, 'car_other', 47, 'none', 'free', 2, 'management_self-employed', 1, 'yes', 'yes', 0.0, 0.0, 1.0, 1.0, 0.0, 2.0, 0.0, 2.0, 2.0, 1.0, 1.0, 0.0, 1.0, [0.0, 0.0, 2.0, 1.0, 1.0, 0.0, 1.0, 1.0, 0.0, 2.0, 2.0, 1.0, 0.0, 30.0, 8662.0, 5.0, 5.0, 30.0, 47.0, 2.0, 1.0], [3.7443258705067874, 16.255674129493208], [0.18721629352533942, 0.8127837064746606], 1.0, 'Risk'], ['0_to_200', 21, 'credits_paid_to_date', 'appliances', 2741, '500_to_1000', 'less_1', 3, 'male', 'co-applicant', 2, 'savings_insurance', 32, 'none', 'own', 1, 'skilled', 1, 'yes', 'yes', 2.0, 1.0, 3.0, 2.0, 0.0, 0.0, 0.0, 0.0, 4.0, 1.0, 0.0, 0.0, 1.0, [2.0, 1.0, 4.0, 2.0, 3.0, 0.0, 1.0, 0.0, 0.0, 0.0, 0.0, 1.0, 0.0, 21.0, 2741.0, 3.0, 2.0, 21.0, 32.0, 1.0, 1.0], [16.853339882256233, 3.1466601177437674], [0.8426669941128117, 0.15733300588718838], 0.0, 'No Risk'], ['no_checking', 40, 'prior_payments_delayed', 'vacation', 2998, '500_to_1000', 'greater_7', 5, 'male', 'none', 4, 'car_other', 49, 'none', 'free', 2, 'skilled', 1, 'yes', 'yes', 0.0, 0.0, 2.0, 2.0, 0.0, 2.0, 0.0, 0.0, 6.0, 0.0, 1.0, 0.0, 1.0, [0.0, 0.0, 6.0, 2.0, 2.0, 0.0, 0.0, 1.0, 0.0, 2.0, 0.0, 1.0, 0.0, 40.0, 2998.0, 5.0, 4.0, 40.0, 49.0, 2.0, 1.0], [4.688430780800958, 15.311569219199042], [0.23442153904004792, 0.7655784609599521], 1.0, 'Risk'], ['less_0', 11, 'prior_payments_delayed', 'retraining', 1491, 'less_100', 'less_1', 2, 'female', 'none', 1, 'savings_insurance', 25, 'none', 'own', 1, 'skilled', 1, 'none', 'yes', 1.0, 0.0, 3.0, 0.0, 0.0, 0.0, 0.0, 0.0, 8.0, 0.0, 0.0, 1.0, 0.0, [21, [0, 2, 4, 5, 13, 14, 15, 16, 17, 18, 19, 20], [1.0, 8.0, 3.0, 1.0, 11.0, 1491.0, 2.0, 1.0, 11.0, 25.0, 1.0, 1.0]], [19.054251214038196, 0.945748785961799], [0.95271256070191, 0.047287439298089956], 0.0, 'No Risk'], ['no_checking', 32, 'outstanding_credit', 'vacation', 7452, 'unknown', 'greater_7', 4, 'male', 'co-applicant', 3, 'unknown', 35, 'none', 'free', 2, 'skilled', 1, 'yes', 'yes', 0.0, 2.0, 2.0, 4.0, 0.0, 2.0, 0.0, 0.0, 6.0, 1.0, 3.0, 0.0, 1.0, [0.0, 2.0, 6.0, 4.0, 2.0, 0.0, 1.0, 3.0, 0.0, 2.0, 0.0, 1.0, 0.0, 32.0, 7452.0, 4.0, 3.0, 32.0, 35.0, 2.0, 1.0], [2.3992280416252476, 17.60077195837475], [0.11996140208126241, 0.8800385979187376], 1.0, 'Risk'], ['less_0', 15, 'prior_payments_delayed', 'repairs', 1271, '100_to_500', '1_to_4', 3, 'male', 'none', 1, 'car_other', 26, 'none', 'own', 1, 'skilled', 1, 'none', 'yes', 1.0, 0.0, 0.0, 1.0, 0.0, 0.0, 0.0, 0.0, 5.0, 0.0, 1.0, 0.0, 0.0, [21, [0, 2, 3, 7, 13, 14, 15, 16, 17, 18, 19, 20], [1.0, 5.0, 1.0, 1.0, 15.0, 1271.0, 3.0, 1.0, 15.0, 26.0, 1.0, 1.0]], [17.328412633916365, 2.6715873660836342], [0.8664206316958183, 0.1335793683041817], 0.0, 'No Risk'], ['0_to_200', 6, 'no_credits', 'car_new', 1035, 'less_100', 'unemployed', 1, 'male', 'none', 2, 'real_estate', 36, 'none', 'rent', 1, 'skilled', 1, 'none', 'yes', 2.0, 4.0, 4.0, 0.0, 0.0, 1.0, 0.0, 0.0, 0.0, 0.0, 2.0, 0.0, 0.0, [2.0, 4.0, 0.0, 0.0, 4.0, 0.0, 0.0, 2.0, 0.0, 1.0, 0.0, 0.0, 0.0, 6.0, 1035.0, 1.0, 2.0, 6.0, 36.0, 1.0, 1.0], [19.11454023500179, 0.8854597649982054], [0.9557270117500897, 0.04427298824991028], 0.0, 'No Risk'], ['no_checking', 10, 'credits_paid_to_date', 'vacation', 3557, '500_to_1000', '4_to_7', 4, 'male', 'none', 3, 'savings_insurance', 31, 'stores', 'own', 1, 'unskilled', 1, 'none', 'yes', 0.0, 1.0, 1.0, 2.0, 0.0, 0.0, 1.0, 1.0, 6.0, 0.0, 0.0, 0.0, 0.0, [0.0, 1.0, 6.0, 2.0, 1.0, 0.0, 0.0, 0.0, 1.0, 0.0, 1.0, 0.0, 0.0, 10.0, 3557.0, 4.0, 3.0, 10.0, 31.0, 1.0, 1.0], [13.91594500837765, 6.084054991622351], [0.6957972504188825, 0.3042027495811176], 0.0, 'No Risk'], ['no_checking', 25, 'prior_payments_delayed', 'business', 6588, '100_to_500', '4_to_7', 4, 'male', 'none', 4, 'savings_insurance', 36, 'none', 'own', 1, 'management_self-employed', 1, 'none', 'yes', 0.0, 0.0, 1.0, 1.0, 0.0, 0.0, 0.0, 2.0, 9.0, 0.0, 0.0, 0.0, 0.0, [21, [2, 3, 4, 10, 13, 14, 15, 16, 17, 18, 19, 20], [9.0, 1.0, 1.0, 2.0, 25.0, 6588.0, 4.0, 4.0, 25.0, 36.0, 1.0, 1.0]], [12.631754897216217, 7.368245102783784], [0.6315877448608108, 0.3684122551391892], 0.0, 'No Risk'], ['no_checking', 19, 'prior_payments_delayed', 'radio_tv', 4791, '100_to_500', '1_to_4', 4, 'male', 'none', 3, 'savings_insurance', 38, 'none', 'own', 1, 'management_self-employed', 2, 'none', 'yes', 0.0, 0.0, 0.0, 1.0, 0.0, 0.0, 0.0, 2.0, 3.0, 0.0, 0.0, 0.0, 0.0, [21, [2, 3, 10, 13, 14, 15, 16, 17, 18, 19, 20], [3.0, 1.0, 2.0, 19.0, 4791.0, 4.0, 3.0, 19.0, 38.0, 1.0, 2.0]], [12.763558811760173, 7.2364411882398265], [0.6381779405880087, 0.3618220594119913], 0.0, 'No Risk'], ['0_to_200', 4, 'all_credits_paid_back', 'education', 875, 'less_100', '1_to_4', 2, 'male', 'none', 2, 'real_estate', 19, 'none', 'own', 1, 'management_self-employed', 1, 'none', 'yes', 2.0, 3.0, 0.0, 0.0, 0.0, 0.0, 0.0, 2.0, 7.0, 0.0, 2.0, 0.0, 0.0, [2.0, 3.0, 7.0, 0.0, 0.0, 0.0, 0.0, 2.0, 0.0, 0.0, 2.0, 0.0, 0.0, 4.0, 875.0, 2.0, 2.0, 4.0, 19.0, 1.0, 1.0], [19.082312276708464, 0.9176877232915382], [0.954115613835423, 0.04588438616457691], 0.0, 'No Risk'], ['less_0', 11, 'all_credits_paid_back', 'furniture', 250, 'less_100', 'unemployed', 1, 'female', 'none', 2, 'real_estate', 19, 'none', 'rent', 1, 'skilled', 1, 'none', 'yes', 1.0, 3.0, 4.0, 0.0, 0.0, 1.0, 0.0, 0.0, 1.0, 0.0, 2.0, 1.0, 0.0, [1.0, 3.0, 1.0, 0.0, 4.0, 1.0, 0.0, 2.0, 0.0, 1.0, 0.0, 0.0, 0.0, 11.0, 250.0, 1.0, 2.0, 11.0, 19.0, 1.0, 1.0], [19.74827285624999, 0.25172714375000793], [0.9874136428124997, 0.012586357187500398], 0.0, 'No Risk'], ['no_checking', 27, 'credits_paid_to_date', 'business', 6981, 'less_100', '1_to_4', 3, 'male', 'none', 3, 'savings_insurance', 36, 'none', 'own', 1, 'management_self-employed', 1, 'none', 'yes', 0.0, 1.0, 0.0, 0.0, 0.0, 0.0, 0.0, 2.0, 9.0, 0.0, 0.0, 0.0, 0.0, [21, [1, 2, 10, 13, 14, 15, 16, 17, 18, 19, 20], [1.0, 9.0, 2.0, 27.0, 6981.0, 3.0, 3.0, 27.0, 36.0, 1.0, 1.0]], [13.911005635317002, 6.088994364682996], [0.6955502817658501, 0.3044497182341498], 0.0, 'No Risk'], ['0_to_200', 21, 'outstanding_credit', 'radio_tv', 3288, '500_to_1000', '1_to_4', 2, 'male', 'none', 2, 'savings_insurance', 33, 'none', 'own', 1, 'skilled', 1, 'none', 'yes', 2.0, 2.0, 0.0, 2.0, 0.0, 0.0, 0.0, 0.0, 3.0, 0.0, 0.0, 0.0, 0.0, [21, [0, 1, 2, 3, 13, 14, 15, 16, 17, 18, 19, 20], [2.0, 2.0, 3.0, 2.0, 21.0, 3288.0, 2.0, 2.0, 21.0, 33.0, 1.0, 1.0]], [15.283355417354468, 4.71664458264553], [0.7641677708677235, 0.23583222913227653], 0.0, 'No Risk'], ['0_to_200', 4, 'all_credits_paid_back', 'car_used', 250, 'less_100', 'less_1', 2, 'male', 'none', 1, 'real_estate', 19, 'bank', 'rent', 1, 'unemployed', 1, 'none', 'yes', 2.0, 3.0, 3.0, 0.0, 0.0, 1.0, 2.0, 3.0, 2.0, 0.0, 2.0, 0.0, 0.0, [2.0, 3.0, 2.0, 0.0, 3.0, 0.0, 0.0, 2.0, 2.0, 1.0, 3.0, 0.0, 0.0, 4.0, 250.0, 2.0, 1.0, 4.0, 19.0, 1.0, 1.0], [19.73070246972027, 0.26929753027972864], [0.9865351234860136, 0.013464876513986432], 0.0, 'No Risk'], ['0_to_200', 22, 'outstanding_credit', 'radio_tv', 5175, 'greater_1000', 'greater_7', 4, 'male', 'none', 4, 'car_other', 43, 'none', 'free', 3, 'skilled', 1, 'yes', 'yes', 2.0, 2.0, 2.0, 3.0, 0.0, 2.0, 0.0, 0.0, 3.0, 0.0, 1.0, 0.0, 1.0, [2.0, 2.0, 3.0, 3.0, 2.0, 0.0, 0.0, 1.0, 0.0, 2.0, 0.0, 1.0, 0.0, 22.0, 5175.0, 4.0, 4.0, 22.0, 43.0, 3.0, 1.0], [10.490039814048906, 9.509960185951094], [0.5245019907024453, 0.4754980092975547], 0.0, 'No Risk'], ['less_0', 16, 'prior_payments_delayed', 'furniture', 1480, 'greater_1000', '4_to_7', 3, 'male', 'none', 3, 'car_other', 30, 'bank', 'rent', 2, 'unemployed', 1, 'none', 'yes', 1.0, 0.0, 1.0, 3.0, 0.0, 1.0, 2.0, 3.0, 1.0, 0.0, 1.0, 0.0, 0.0, [1.0, 0.0, 1.0, 3.0, 1.0, 0.0, 0.0, 1.0, 2.0, 1.0, 3.0, 0.0, 0.0, 16.0, 1480.0, 3.0, 3.0, 16.0, 30.0, 2.0, 1.0], [14.911479310765207, 5.088520689234792], [0.7455739655382604, 0.2544260344617396], 0.0, 'No Risk'], ['less_0', 8, 'all_credits_paid_back', 'car_new', 250, 'less_100', '1_to_4', 2, 'female', 'none', 3, 'real_estate', 20, 'none', 'own', 1, 'skilled', 1, 'none', 'yes', 1.0, 3.0, 0.0, 0.0, 0.0, 0.0, 0.0, 0.0, 0.0, 0.0, 2.0, 1.0, 0.0, [21, [0, 1, 5, 7, 13, 14, 15, 16, 17, 18, 19, 20], [1.0, 3.0, 1.0, 2.0, 8.0, 250.0, 2.0, 3.0, 8.0, 20.0, 1.0, 1.0]], [19.143095902495954, 0.8569040975040474], [0.9571547951247977, 0.04284520487520237], 0.0, 'No Risk'], ['no_checking', 39, 'prior_payments_delayed', 'furniture', 6650, '500_to_1000', 'greater_7', 4, 'male', 'co-applicant', 5, 'savings_insurance', 39, 'none', 'free', 2, 'skilled', 1, 'yes', 'yes', 0.0, 0.0, 2.0, 2.0, 0.0, 2.0, 0.0, 0.0, 1.0, 1.0, 0.0, 0.0, 1.0, [0.0, 0.0, 1.0, 2.0, 2.0, 0.0, 1.0, 0.0, 0.0, 2.0, 0.0, 1.0, 0.0, 39.0, 6650.0, 4.0, 5.0, 39.0, 39.0, 2.0, 1.0], [5.081815193319455, 14.918184806680546], [0.2540907596659728, 0.7459092403340273], 1.0, 'Risk'], ['no_checking', 15, 'credits_paid_to_date', 'furniture', 3252, 'less_100', '4_to_7', 4, 'male', 'none', 4, 'savings_insurance', 32, 'none', 'own', 1, 'management_self-employed', 1, 'none', 'yes', 0.0, 1.0, 1.0, 0.0, 0.0, 0.0, 0.0, 2.0, 1.0, 0.0, 0.0, 0.0, 0.0, [21, [1, 2, 4, 10, 13, 14, 15, 16, 17, 18, 19, 20], [1.0, 1.0, 1.0, 2.0, 15.0, 3252.0, 4.0, 4.0, 15.0, 32.0, 1.0, 1.0]], [12.520251751755858, 7.4797482482441415], [0.6260125875877929, 0.37398741241220707], 0.0, 'No Risk'], ['greater_200', 24, 'prior_payments_delayed', 'furniture', 1593, '100_to_500', '1_to_4', 2, 'female', 'none', 3, 'savings_insurance', 22, 'stores', 'rent', 1, 'skilled', 1, 'none', 'yes', 3.0, 0.0, 0.0, 1.0, 0.0, 1.0, 1.0, 0.0, 1.0, 0.0, 0.0, 1.0, 0.0, [3.0, 0.0, 1.0, 1.0, 0.0, 1.0, 0.0, 0.0, 1.0, 1.0, 0.0, 0.0, 0.0, 24.0, 1593.0, 2.0, 3.0, 24.0, 22.0, 1.0, 1.0], [14.98986739002149, 5.010132609978512], [0.7494933695010745, 0.2505066304989256], 0.0, 'No Risk'], ['0_to_200', 15, 'credits_paid_to_date', 'furniture', 1555, 'less_100', 'less_1', 2, 'female', 'none', 3, 'savings_insurance', 43, 'none', 'own', 1, 'skilled', 1, 'none', 'yes', 2.0, 1.0, 3.0, 0.0, 0.0, 0.0, 0.0, 0.0, 1.0, 0.0, 0.0, 1.0, 0.0, [2.0, 1.0, 1.0, 0.0, 3.0, 1.0, 0.0, 0.0, 0.0, 0.0, 0.0, 0.0, 0.0, 15.0, 1555.0, 2.0, 3.0, 15.0, 43.0, 1.0, 1.0], [16.452631964681625, 3.5473680353183736], [0.8226315982340813, 0.17736840176591867], 0.0, 'No Risk'], ['less_0', 16, 'prior_payments_delayed', 'car_new', 250, 'less_100', '1_to_4', 2, 'male', 'none', 1, 'savings_insurance', 22, 'bank', 'rent', 1, 'unemployed', 2, 'yes', 'yes', 1.0, 0.0, 0.0, 0.0, 0.0, 1.0, 2.0, 3.0, 0.0, 0.0, 0.0, 0.0, 1.0, [1.0, 0.0, 0.0, 0.0, 0.0, 0.0, 0.0, 0.0, 2.0, 1.0, 3.0, 1.0, 0.0, 16.0, 250.0, 2.0, 1.0, 16.0, 22.0, 1.0, 2.0], [17.572673638815083, 2.4273263611849174], [0.8786336819407541, 0.12136631805924587], 0.0, 'No Risk'], ['no_checking', 31, 'prior_payments_delayed', 'business', 6640, '100_to_500', '4_to_7', 4, 'male', 'none', 3, 'savings_insurance', 35, 'stores', 'own', 2, 'unskilled', 1, 'none', 'yes', 0.0, 0.0, 1.0, 1.0, 0.0, 0.0, 1.0, 1.0, 9.0, 0.0, 0.0, 0.0, 0.0, [0.0, 0.0, 9.0, 1.0, 1.0, 0.0, 0.0, 0.0, 1.0, 0.0, 1.0, 0.0, 0.0, 31.0, 6640.0, 4.0, 3.0, 31.0, 35.0, 2.0, 1.0], [12.070793274834855, 7.929206725165147], [0.6035396637417426, 0.3964603362582573], 0.0, 'No Risk'], ['no_checking', 10, 'credits_paid_to_date', 'appliances', 3369, 'less_100', '1_to_4', 3, 'male', 'none', 4, 'savings_insurance', 40, 'none', 'free', 1, 'management_self-employed', 1, 'yes', 'no', 0.0, 1.0, 0.0, 0.0, 1.0, 2.0, 0.0, 2.0, 4.0, 0.0, 0.0, 0.0, 1.0, [0.0, 1.0, 4.0, 0.0, 0.0, 0.0, 0.0, 0.0, 0.0, 2.0, 2.0, 1.0, 1.0, 10.0, 3369.0, 3.0, 4.0, 10.0, 40.0, 1.0, 1.0], [15.237563275557191, 4.762436724442809], [0.7618781637778596, 0.23812183622214045], 0.0, 'No Risk'], ['less_0', 12, 'all_credits_paid_back', 'furniture', 2106, 'less_100', 'less_1', 2, 'female', 'none', 1, 'real_estate', 25, 'none', 'rent', 1, 'skilled', 1, 'none', 'yes', 1.0, 3.0, 3.0, 0.0, 0.0, 1.0, 0.0, 0.0, 1.0, 0.0, 2.0, 1.0, 0.0, [1.0, 3.0, 1.0, 0.0, 3.0, 1.0, 0.0, 2.0, 0.0, 1.0, 0.0, 0.0, 0.0, 12.0, 2106.0, 2.0, 1.0, 12.0, 25.0, 1.0, 1.0], [19.475735784300127, 0.524264215699868], [0.9737867892150065, 0.026213210784993408], 0.0, 'No Risk'], ['less_0', 15, 'prior_payments_delayed', 'car_new', 2465, 'less_100', 'unemployed', 1, 'male', 'none', 2, 'car_other', 27, 'none', 'own', 1, 'skilled', 1, 'none', 'yes', 1.0, 0.0, 4.0, 0.0, 0.0, 0.0, 0.0, 0.0, 0.0, 0.0, 1.0, 0.0, 0.0, [21, [0, 4, 7, 13, 14, 15, 16, 17, 18, 19, 20], [1.0, 4.0, 1.0, 15.0, 2465.0, 1.0, 2.0, 15.0, 27.0, 1.0, 1.0]], [18.242285448213845, 1.7577145517861525], [0.9121142724106924, 0.08788572758930764], 0.0, 'No Risk'], ['no_checking', 38, 'prior_payments_delayed', 'business', 7405, '500_to_1000', '4_to_7', 5, 'male', 'none', 3, 'car_other', 43, 'none', 'own', 1, 'management_self-employed', 1, 'none', 'yes', 0.0, 0.0, 1.0, 2.0, 0.0, 0.0, 0.0, 2.0, 9.0, 0.0, 1.0, 0.0, 0.0, [0.0, 0.0, 9.0, 2.0, 1.0, 0.0, 0.0, 1.0, 0.0, 0.0, 2.0, 0.0, 0.0, 38.0, 7405.0, 5.0, 3.0, 38.0, 43.0, 1.0, 1.0], [10.101191947138988, 9.898808052861014], [0.5050595973569494, 0.4949404026430507], 0.0, 'No Risk'], ['0_to_200', 30, 'outstanding_credit', 'appliances', 4448, 'unknown', 'greater_7', 3, 'male', 'none', 2, 'unknown', 31, 'stores', 'own', 2, 'skilled', 1, 'none', 'yes', 2.0, 2.0, 2.0, 4.0, 0.0, 0.0, 1.0, 0.0, 4.0, 0.0, 3.0, 0.0, 0.0, [2.0, 2.0, 4.0, 4.0, 2.0, 0.0, 0.0, 3.0, 1.0, 0.0, 0.0, 0.0, 0.0, 30.0, 4448.0, 3.0, 2.0, 30.0, 31.0, 2.0, 1.0], [10.975720793069444, 9.024279206930554], [0.5487860396534722, 0.4512139603465277], 0.0, 'No Risk'], ['less_0', 4, 'all_credits_paid_back', 'radio_tv', 250, 'less_100', 'unemployed', 1, 'male', 'none', 1, 'real_estate', 22, 'bank', 'rent', 1, 'unskilled', 1, 'none', 'yes', 1.0, 3.0, 4.0, 0.0, 0.0, 1.0, 2.0, 1.0, 3.0, 0.0, 2.0, 0.0, 0.0, [1.0, 3.0, 3.0, 0.0, 4.0, 0.0, 0.0, 2.0, 2.0, 1.0, 1.0, 0.0, 0.0, 4.0, 250.0, 1.0, 1.0, 4.0, 22.0, 1.0, 1.0], [19.73070246972027, 0.26929753027972864], [0.9865351234860136, 0.013464876513986432], 0.0, 'No Risk'], ['no_checking', 29, 'prior_payments_delayed', 'appliances', 2793, '500_to_1000', '4_to_7', 3, 'male', 'none', 2, 'car_other', 32, 'none', 'free', 1, 'skilled', 1, 'yes', 'yes', 0.0, 0.0, 1.0, 2.0, 0.0, 2.0, 0.0, 0.0, 4.0, 0.0, 1.0, 0.0, 1.0, [0.0, 0.0, 4.0, 2.0, 1.0, 0.0, 0.0, 1.0, 0.0, 2.0, 0.0, 1.0, 0.0, 29.0, 2793.0, 3.0, 2.0, 29.0, 32.0, 1.0, 1.0], [12.833969802575076, 7.166030197424927], [0.6416984901287537, 0.3583015098712463], 0.0, 'No Risk'], ['greater_200', 4, 'all_credits_paid_back', 'car_new', 2956, 'less_100', '1_to_4', 2, 'female', 'none', 3, 'savings_insurance', 35, 'none', 'own', 1, 'management_self-employed', 1, 'yes', 'yes', 3.0, 3.0, 0.0, 0.0, 0.0, 0.0, 0.0, 2.0, 0.0, 0.0, 0.0, 1.0, 1.0, [3.0, 3.0, 0.0, 0.0, 0.0, 1.0, 0.0, 0.0, 0.0, 0.0, 2.0, 1.0, 0.0, 4.0, 2956.0, 2.0, 3.0, 4.0, 35.0, 1.0, 1.0], [15.587455623035327, 4.412544376964674], [0.7793727811517663, 0.22062721884823372], 0.0, 'No Risk'], ['0_to_200', 16, 'credits_paid_to_date', 'vacation', 986, 'less_100', 'less_1', 3, 'male', 'none', 2, 'real_estate', 19, 'none', 'own', 1, 'skilled', 1, 'none', 'yes', 2.0, 1.0, 3.0, 0.0, 0.0, 0.0, 0.0, 0.0, 6.0, 0.0, 2.0, 0.0, 0.0, [2.0, 1.0, 6.0, 0.0, 3.0, 0.0, 0.0, 2.0, 0.0, 0.0, 0.0, 0.0, 0.0, 16.0, 986.0, 3.0, 2.0, 16.0, 19.0, 1.0, 1.0], [19.352448426314275, 0.6475515736857212], [0.967622421315714, 0.03237757868428607], 0.0, 'No Risk'], ['no_checking', 38, 'outstanding_credit', 'repairs', 5915, 'unknown', 'greater_7', 5, 'male', 'co-applicant', 4, 'unknown', 59, 'none', 'free', 3, 'skilled', 2, 'yes', 'yes', 0.0, 2.0, 2.0, 4.0, 0.0, 2.0, 0.0, 0.0, 5.0, 1.0, 3.0, 0.0, 1.0, [0.0, 2.0, 5.0, 4.0, 2.0, 0.0, 1.0, 3.0, 0.0, 2.0, 0.0, 1.0, 0.0, 38.0, 5915.0, 5.0, 4.0, 38.0, 59.0, 3.0, 2.0], [1.5150475753048247, 18.484952424695177], [0.07575237876524124, 0.9242476212347588], 1.0, 'Risk'], ['greater_200', 4, 'credits_paid_to_date', 'car_used', 746, 'less_100', 'less_1', 2, 'female', 'none', 3, 'real_estate', 21, 'none', 'own', 1, 'management_self-employed', 1, 'yes', 'yes', 3.0, 1.0, 3.0, 0.0, 0.0, 0.0, 0.0, 2.0, 2.0, 0.0, 2.0, 1.0, 1.0, [3.0, 1.0, 2.0, 0.0, 3.0, 1.0, 0.0, 2.0, 0.0, 0.0, 2.0, 1.0, 0.0, 4.0, 746.0, 2.0, 3.0, 4.0, 21.0, 1.0, 1.0], [18.67042054893861, 1.329579451061393], [0.9335210274469304, 0.06647897255306964], 0.0, 'No Risk'], ['0_to_200', 11, 'credits_paid_to_date', 'vacation', 250, 'less_100', 'less_1', 3, 'female', 'none', 3, 'real_estate', 24, 'none', 'own', 1, 'skilled', 1, 'none', 'yes', 2.0, 1.0, 3.0, 0.0, 0.0, 0.0, 0.0, 0.0, 6.0, 0.0, 2.0, 1.0, 0.0, [2.0, 1.0, 6.0, 0.0, 3.0, 1.0, 0.0, 2.0, 0.0, 0.0, 0.0, 0.0, 0.0, 11.0, 250.0, 3.0, 3.0, 11.0, 24.0, 1.0, 1.0], [19.276876494140105, 0.7231235058598933], [0.9638438247070054, 0.03615617529299467], 0.0, 'No Risk'], ['no_checking', 25, 'credits_paid_to_date', 'radio_tv', 7180, 'less_100', 'less_1', 3, 'female', 'co-applicant', 4, 'savings_insurance', 31, 'none', 'own', 1, 'skilled', 1, 'yes', 'yes', 0.0, 1.0, 3.0, 0.0, 0.0, 0.0, 0.0, 0.0, 3.0, 1.0, 0.0, 1.0, 1.0, [0.0, 1.0, 3.0, 0.0, 3.0, 1.0, 1.0, 0.0, 0.0, 0.0, 0.0, 1.0, 0.0, 25.0, 7180.0, 3.0, 4.0, 25.0, 31.0, 1.0, 1.0], [11.077432269465287, 8.92256773053471], [0.5538716134732644, 0.44612838652673553], 0.0, 'No Risk'], ['greater_200', 10, 'credits_paid_to_date', 'furniture', 451, 'less_100', 'less_1', 1, 'female', 'none', 3, 'savings_insurance', 43, 'none', 'own', 1, 'skilled', 1, 'none', 'yes', 3.0, 1.0, 3.0, 0.0, 0.0, 0.0, 0.0, 0.0, 1.0, 0.0, 0.0, 1.0, 0.0, [3.0, 1.0, 1.0, 0.0, 3.0, 1.0, 0.0, 0.0, 0.0, 0.0, 0.0, 0.0, 0.0, 10.0, 451.0, 1.0, 3.0, 10.0, 43.0, 1.0, 1.0], [15.876582330369578, 4.123417669630421], [0.7938291165184789, 0.20617088348152107], 0.0, 'No Risk'], ['less_0', 26, 'credits_paid_to_date', 'furniture', 4009, 'less_100', 'less_1', 3, 'male', 'none', 1, 'car_other', 40, 'none', 'own', 2, 'skilled', 2, 'yes', 'yes', 1.0, 1.0, 3.0, 0.0, 0.0, 0.0, 0.0, 0.0, 1.0, 0.0, 1.0, 0.0, 1.0, [1.0, 1.0, 1.0, 0.0, 3.0, 0.0, 0.0, 1.0, 0.0, 0.0, 0.0, 1.0, 0.0, 26.0, 4009.0, 3.0, 1.0, 26.0, 40.0, 2.0, 2.0], [15.020317017736172, 4.979682982263827], [0.7510158508868086, 0.24898414911319136], 0.0, 'No Risk'], ['no_checking', 13, 'credits_paid_to_date', 'furniture', 2191, 'less_100', 'less_1', 3, 'male', 'co-applicant', 3, 'real_estate', 44, 'none', 'own', 1, 'skilled', 1, 'none', 'yes', 0.0, 1.0, 3.0, 0.0, 0.0, 0.0, 0.0, 0.0, 1.0, 1.0, 2.0, 0.0, 0.0, [0.0, 1.0, 1.0, 0.0, 3.0, 0.0, 1.0, 2.0, 0.0, 0.0, 0.0, 0.0, 0.0, 13.0, 2191.0, 3.0, 3.0, 13.0, 44.0, 1.0, 1.0], [17.04270629072157, 2.957293709278432], [0.8521353145360784, 0.1478646854639216], 0.0, 'No Risk'], ['less_0', 13, 'all_credits_paid_back', 'furniture', 507, 'less_100', 'less_1', 1, 'male', 'none', 1, 'real_estate', 20, 'stores', 'rent', 1, 'skilled', 1, 'none', 'yes', 1.0, 3.0, 3.0, 0.0, 0.0, 1.0, 1.0, 0.0, 1.0, 0.0, 2.0, 0.0, 0.0, [1.0, 3.0, 1.0, 0.0, 3.0, 0.0, 0.0, 2.0, 1.0, 1.0, 0.0, 0.0, 0.0, 13.0, 507.0, 1.0, 1.0, 13.0, 20.0, 1.0, 1.0], [19.64786726149319, 0.3521327385068122], [0.9823933630746595, 0.01760663692534061], 0.0, 'No Risk'], ['no_checking', 40, 'prior_payments_delayed', 'furniture', 5717, '500_to_1000', 'greater_7', 5, 'male', 'co-applicant', 4, 'car_other', 45, 'none', 'own', 2, 'skilled', 1, 'yes', 'yes', 0.0, 0.0, 2.0, 2.0, 0.0, 0.0, 0.0, 0.0, 1.0, 1.0, 1.0, 0.0, 1.0, [0.0, 0.0, 1.0, 2.0, 2.0, 0.0, 1.0, 1.0, 0.0, 0.0, 0.0, 1.0, 0.0, 40.0, 5717.0, 5.0, 4.0, 40.0, 45.0, 2.0, 1.0], [4.185009057110273, 15.814990942889727], [0.20925045285551364, 0.7907495471444863], 1.0, 'Risk'], ['0_to_200', 13, 'prior_payments_delayed', 'radio_tv', 1981, 'less_100', '4_to_7', 3, 'male', 'none', 4, 'savings_insurance', 33, 'none', 'own', 2, 'management_self-employed', 2, 'yes', 'yes', 2.0, 0.0, 1.0, 0.0, 0.0, 0.0, 0.0, 2.0, 3.0, 0.0, 0.0, 0.0, 1.0, [2.0, 0.0, 3.0, 0.0, 1.0, 0.0, 0.0, 0.0, 0.0, 0.0, 2.0, 1.0, 0.0, 13.0, 1981.0, 3.0, 4.0, 13.0, 33.0, 2.0, 2.0], [13.34331470581089, 6.656685294189113], [0.6671657352905443, 0.3328342647094556], 0.0, 'No Risk'], ['greater_200', 25, 'outstanding_credit', 'car_used', 5764, '100_to_500', '4_to_7', 3, 'male', 'none', 4, 'unknown', 44, 'none', 'own', 2, 'skilled', 1, 'yes', 'yes', 3.0, 2.0, 1.0, 1.0, 0.0, 0.0, 0.0, 0.0, 2.0, 0.0, 3.0, 0.0, 1.0, [3.0, 2.0, 2.0, 1.0, 1.0, 0.0, 0.0, 3.0, 0.0, 0.0, 0.0, 1.0, 0.0, 25.0, 5764.0, 3.0, 4.0, 25.0, 44.0, 2.0, 1.0], [9.973592535612928, 10.026407464387072], [0.4986796267806464, 0.5013203732193536], 1.0, 'Risk'], ['no_checking', 39, 'prior_payments_delayed', 'furniture', 7373, 'greater_1000', 'greater_7', 4, 'male', 'co-applicant', 5, 'unknown', 55, 'none', 'free', 3, 'skilled', 2, 'yes', 'yes', 0.0, 0.0, 2.0, 3.0, 0.0, 2.0, 0.0, 0.0, 1.0, 1.0, 3.0, 0.0, 1.0, [0.0, 0.0, 1.0, 3.0, 2.0, 0.0, 1.0, 3.0, 0.0, 2.0, 0.0, 1.0, 0.0, 39.0, 7373.0, 4.0, 5.0, 39.0, 55.0, 3.0, 2.0], [1.4320642625357378, 18.56793573746426], [0.07160321312678689, 0.928396786873213], 1.0, 'Risk'], ['no_checking', 24, 'prior_payments_delayed', 'car_used', 6056, 'greater_1000', 'greater_7', 5, 'male', 'none', 3, 'car_other', 56, 'none', 'free', 2, 'skilled', 2, 'yes', 'yes', 0.0, 0.0, 2.0, 3.0, 0.0, 2.0, 0.0, 0.0, 2.0, 0.0, 1.0, 0.0, 1.0, [0.0, 0.0, 2.0, 3.0, 2.0, 0.0, 0.0, 1.0, 0.0, 2.0, 0.0, 1.0, 0.0, 24.0, 6056.0, 5.0, 3.0, 24.0, 56.0, 2.0, 2.0], [6.046123257530934, 13.953876742469067], [0.3023061628765467, 0.6976938371234533], 1.0, 'Risk'], ['no_checking', 44, 'prior_payments_delayed', 'repairs', 6775, '500_to_1000', 'greater_7', 5, 'male', 'co-applicant', 5, 'unknown', 51, 'none', 'free', 2, 'skilled', 1, 'yes', 'yes', 0.0, 0.0, 2.0, 2.0, 0.0, 2.0, 0.0, 0.0, 5.0, 1.0, 3.0, 0.0, 1.0, [0.0, 0.0, 5.0, 2.0, 2.0, 0.0, 1.0, 3.0, 0.0, 2.0, 0.0, 1.0, 0.0, 44.0, 6775.0, 5.0, 5.0, 44.0, 51.0, 2.0, 1.0], [1.3212143623450243, 18.678785637654975], [0.06606071811725121, 0.9339392818827488], 1.0, 'Risk'], ['less_0', 10, 'all_credits_paid_back', 'car_new', 1771, 'less_100', '1_to_4', 2, 'female', 'none', 3, 'savings_insurance', 39, 'none', 'own', 1, 'skilled', 1, 'none', 'yes', 1.0, 3.0, 0.0, 0.0, 0.0, 0.0, 0.0, 0.0, 0.0, 0.0, 0.0, 1.0, 0.0, [21, [0, 1, 5, 13, 14, 15, 16, 17, 18, 19, 20], [1.0, 3.0, 1.0, 10.0, 1771.0, 2.0, 3.0, 10.0, 39.0, 1.0, 1.0]], [15.951941012418692, 4.0480589875813076], [0.7975970506209346, 0.2024029493790654], 0.0, 'No Risk'], ['no_checking', 12, 'credits_paid_to_date', 'vacation', 1330, 'greater_1000', '1_to_4', 3, 'female', 'none', 2, 'real_estate', 25, 'none', 'rent', 1, 'skilled', 1, 'none', 'yes', 0.0, 1.0, 0.0, 3.0, 0.0, 1.0, 0.0, 0.0, 6.0, 0.0, 2.0, 1.0, 0.0, [0.0, 1.0, 6.0, 3.0, 0.0, 1.0, 0.0, 2.0, 0.0, 1.0, 0.0, 0.0, 0.0, 12.0, 1330.0, 3.0, 2.0, 12.0, 25.0, 1.0, 1.0], [18.420148754977127, 1.5798512450228694], [0.9210074377488565, 0.07899256225114348], 0.0, 'No Risk'], ['no_checking', 32, 'outstanding_credit', 'radio_tv', 5153, '500_to_1000', '4_to_7', 4, 'male', 'none', 4, 'savings_insurance', 47, 'none', 'own', 1, 'skilled', 1, 'yes', 'yes', 0.0, 2.0, 1.0, 2.0, 0.0, 0.0, 0.0, 0.0, 3.0, 0.0, 0.0, 0.0, 1.0, [0.0, 2.0, 3.0, 2.0, 1.0, 0.0, 0.0, 0.0, 0.0, 0.0, 0.0, 1.0, 0.0, 32.0, 5153.0, 4.0, 4.0, 32.0, 47.0, 1.0, 1.0], [9.489741307172848, 10.510258692827154], [0.4744870653586424, 0.5255129346413577], 1.0, 'Risk'], ['0_to_200', 16, 'credits_paid_to_date', 'vacation', 2548, 'less_100', '1_to_4', 2, 'female', 'none', 2, 'real_estate', 42, 'none', 'own', 1, 'skilled', 1, 'none', 'yes', 2.0, 1.0, 0.0, 0.0, 0.0, 0.0, 0.0, 0.0, 6.0, 0.0, 2.0, 1.0, 0.0, [2.0, 1.0, 6.0, 0.0, 0.0, 1.0, 0.0, 2.0, 0.0, 0.0, 0.0, 0.0, 0.0, 16.0, 2548.0, 2.0, 2.0, 16.0, 42.0, 1.0, 1.0], [17.67889586438122, 2.321104135618777], [0.883944793219061, 0.11605520678093886], 0.0, 'No Risk'], ['greater_200', 33, 'prior_payments_delayed', 'business', 7909, '100_to_500', '1_to_4', 4, 'male', 'none', 3, 'unknown', 32, 'none', 'own', 1, 'skilled', 1, 'yes', 'yes', 3.0, 0.0, 0.0, 1.0, 0.0, 0.0, 0.0, 0.0, 9.0, 0.0, 3.0, 0.0, 1.0, [3.0, 0.0, 9.0, 1.0, 0.0, 0.0, 0.0, 3.0, 0.0, 0.0, 0.0, 1.0, 0.0, 33.0, 7909.0, 4.0, 3.0, 33.0, 32.0, 1.0, 1.0], [11.203314516628284, 8.796685483371721], [0.560165725831414, 0.4398342741685859], 0.0, 'No Risk'], ['no_checking', 43, 'outstanding_credit', 'radio_tv', 5672, 'greater_1000', '4_to_7', 5, 'male', 'none', 3, 'savings_insurance', 28, 'none', 'own', 2, 'skilled', 2, 'none', 'yes', 0.0, 2.0, 1.0, 3.0, 0.0, 0.0, 0.0, 0.0, 3.0, 0.0, 0.0, 0.0, 0.0, [21, [1, 2, 3, 4, 13, 14, 15, 16, 17, 18, 19, 20], [2.0, 3.0, 3.0, 1.0, 43.0, 5672.0, 5.0, 3.0, 43.0, 28.0, 2.0, 2.0]], [11.64806851469835, 8.351931485301648], [0.5824034257349175, 0.4175965742650824], 0.0, 'No Risk'], ['less_0', 4, 'all_credits_paid_back', 'car_new', 250, 'less_100', 'unemployed', 1, 'female', 'none', 1, 'real_estate', 19, 'none', 'rent', 1, 'skilled', 1, 'none', 'yes', 1.0, 3.0, 4.0, 0.0, 0.0, 1.0, 0.0, 0.0, 0.0, 0.0, 2.0, 1.0, 0.0, [1.0, 3.0, 0.0, 0.0, 4.0, 1.0, 0.0, 2.0, 0.0, 1.0, 0.0, 0.0, 0.0, 4.0, 250.0, 1.0, 1.0, 4.0, 19.0, 1.0, 1.0], [19.73822260499371, 0.2617773950062894], [0.9869111302496855, 0.01308886975031447], 0.0, 'No Risk'], ['greater_200', 13, 'no_credits', 'car_used', 4398, '100_to_500', 'less_1', 3, 'female', 'none', 3, 'savings_insurance', 26, 'stores', 'rent', 2, 'unskilled', 1, 'none', 'yes', 3.0, 4.0, 3.0, 1.0, 0.0, 1.0, 1.0, 1.0, 2.0, 0.0, 0.0, 1.0, 0.0, [3.0, 4.0, 2.0, 1.0, 3.0, 1.0, 0.0, 0.0, 1.0, 1.0, 1.0, 0.0, 0.0, 13.0, 4398.0, 3.0, 3.0, 13.0, 26.0, 2.0, 1.0], [16.107914698690223, 3.8920853013097787], [0.8053957349345111, 0.19460426506548895], 0.0, 'No Risk'], ['0_to_200', 15, 'prior_payments_delayed', 'car_new', 5508, '500_to_1000', 'less_1', 2, 'male', 'none', 3, 'savings_insurance', 33, 'none', 'own', 1, 'skilled', 1, 'yes', 'yes', 2.0, 0.0, 3.0, 2.0, 0.0, 0.0, 0.0, 0.0, 0.0, 0.0, 0.0, 0.0, 1.0, [21, [0, 3, 4, 11, 13, 14, 15, 16, 17, 18, 19, 20], [2.0, 2.0, 3.0, 1.0, 15.0, 5508.0, 2.0, 3.0, 15.0, 33.0, 1.0, 1.0]], [15.958184928007862, 4.041815071992142], [0.797909246400393, 0.20209075359960704], 0.0, 'No Risk'], ['less_0', 4, 'credits_paid_to_date', 'car_new', 250, '100_to_500', '1_to_4', 1, 'female', 'none', 2, 'savings_insurance', 29, 'stores', 'rent', 2, 'skilled', 2, 'yes', 'yes', 1.0, 1.0, 0.0, 1.0, 0.0, 1.0, 1.0, 0.0, 0.0, 0.0, 0.0, 1.0, 1.0, [1.0, 1.0, 0.0, 1.0, 0.0, 1.0, 0.0, 0.0, 1.0, 1.0, 0.0, 1.0, 0.0, 4.0, 250.0, 1.0, 2.0, 4.0, 29.0, 2.0, 2.0], [17.810248793394, 2.189751206606], [0.8905124396697, 0.10948756033030001], 0.0, 'No Risk'], ['less_0', 23, 'prior_payments_delayed', 'car_new', 250, '500_to_1000', '4_to_7', 2, 'female', 'none', 2, 'savings_insurance', 30, 'stores', 'own', 1, 'unskilled', 1, 'none', 'yes', 1.0, 0.0, 1.0, 2.0, 0.0, 0.0, 1.0, 1.0, 0.0, 0.0, 0.0, 1.0, 0.0, [1.0, 0.0, 0.0, 2.0, 1.0, 1.0, 0.0, 0.0, 1.0, 0.0, 1.0, 0.0, 0.0, 23.0, 250.0, 2.0, 2.0, 23.0, 30.0, 1.0, 1.0], [16.75635687701319, 3.243643122986808], [0.8378178438506596, 0.16218215614934042], 0.0, 'No Risk'], ['no_checking', 50, 'outstanding_credit', 'education', 7986, 'unknown', 'greater_7', 4, 'male', 'co-applicant', 4, 'unknown', 45, 'stores', 'free', 2, 'unskilled', 1, 'yes', 'yes', 0.0, 2.0, 2.0, 4.0, 0.0, 2.0, 1.0, 1.0, 7.0, 1.0, 3.0, 0.0, 1.0, [0.0, 2.0, 7.0, 4.0, 2.0, 0.0, 1.0, 3.0, 1.0, 2.0, 1.0, 1.0, 0.0, 50.0, 7986.0, 4.0, 4.0, 50.0, 45.0, 2.0, 1.0], [2.6930420930613788, 17.30695790693862], [0.13465210465306893, 0.865347895346931], 1.0, 'Risk'], ['less_0', 15, 'prior_payments_delayed', 'business', 787, 'less_100', '1_to_4', 3, 'male', 'none', 2, 'savings_insurance', 25, 'none', 'own', 1, 'skilled', 1, 'yes', 'yes', 1.0, 0.0, 0.0, 0.0, 0.0, 0.0, 0.0, 0.0, 9.0, 0.0, 0.0, 0.0, 1.0, [21, [0, 2, 11, 13, 14, 15, 16, 17, 18, 19, 20], [1.0, 9.0, 1.0, 15.0, 787.0, 3.0, 2.0, 15.0, 25.0, 1.0, 1.0]], [17.65939765690559, 2.3406023430944103], [0.8829698828452794, 0.11703011715472052], 0.0, 'No Risk'], ['0_to_200', 29, 'credits_paid_to_date', 'furniture', 3633, 'greater_1000', '1_to_4', 3, 'male', 'none', 3, 'unknown', 43, 'none', 'own', 2, 'skilled', 1, 'none', 'yes', 2.0, 1.0, 0.0, 3.0, 0.0, 0.0, 0.0, 0.0, 1.0, 0.0, 3.0, 0.0, 0.0, [2.0, 1.0, 1.0, 3.0, 0.0, 0.0, 0.0, 3.0, 0.0, 0.0, 0.0, 0.0, 0.0, 29.0, 3633.0, 3.0, 3.0, 29.0, 43.0, 2.0, 1.0], [11.968796099992884, 8.031203900007116], [0.5984398049996442, 0.4015601950003558], 0.0, 'No Risk'], ['less_0', 8, 'all_credits_paid_back', 'car_used', 250, 'less_100', '1_to_4', 2, 'female', 'none', 1, 'real_estate', 24, 'stores', 'rent', 1, 'unskilled', 1, 'none', 'yes', 1.0, 3.0, 0.0, 0.0, 0.0, 1.0, 1.0, 1.0, 2.0, 0.0, 2.0, 1.0, 0.0, [1.0, 3.0, 2.0, 0.0, 0.0, 1.0, 0.0, 2.0, 1.0, 1.0, 1.0, 0.0, 0.0, 8.0, 250.0, 2.0, 1.0, 8.0, 24.0, 1.0, 1.0], [19.511217178641818, 0.4887828213581826], [0.9755608589320909, 0.024439141067909127], 0.0, 'No Risk'], ['less_0', 14, 'all_credits_paid_back', 'car_new', 2954, 'less_100', 'less_1', 3, 'female', 'none', 2, 'real_estate', 24, 'none', 'own', 1, 'skilled', 1, 'none', 'yes', 1.0, 3.0, 3.0, 0.0, 0.0, 0.0, 0.0, 0.0, 0.0, 0.0, 2.0, 1.0, 0.0, [1.0, 3.0, 0.0, 0.0, 3.0, 1.0, 0.0, 2.0, 0.0, 0.0, 0.0, 0.0, 0.0, 14.0, 2954.0, 3.0, 2.0, 14.0, 24.0, 1.0, 1.0], [19.256626305563152, 0.7433736944368463], [0.9628313152781576, 0.037168684721842316], 0.0, 'No Risk'], ['less_0', 21, 'prior_payments_delayed', 'radio_tv', 2977, 'less_100', '1_to_4', 2, 'male', 'co-applicant', 2, 'savings_insurance', 37, 'none', 'own', 1, 'skilled', 1, 'yes', 'yes', 1.0, 0.0, 0.0, 0.0, 0.0, 0.0, 0.0, 0.0, 3.0, 1.0, 0.0, 0.0, 1.0, [21, [0, 2, 6, 11, 13, 14, 15, 16, 17, 18, 19, 20], [1.0, 3.0, 1.0, 1.0, 21.0, 2977.0, 2.0, 2.0, 21.0, 37.0, 1.0, 1.0]], [15.137603001784221, 4.862396998215778], [0.7568801500892111, 0.2431198499107889], 0.0, 'No Risk'], ['0_to_200', 4, 'credits_paid_to_date', 'car_new', 250, 'less_100', 'less_1', 2, 'female', 'none', 2, 'savings_insurance', 28, 'none', 'own', 1, 'skilled', 1, 'yes', 'yes', 2.0, 1.0, 3.0, 0.0, 0.0, 0.0, 0.0, 0.0, 0.0, 0.0, 0.0, 1.0, 1.0, [2.0, 1.0, 0.0, 0.0, 3.0, 1.0, 0.0, 0.0, 0.0, 0.0, 0.0, 1.0, 0.0, 4.0, 250.0, 2.0, 2.0, 4.0, 28.0, 1.0, 1.0], [18.55867614224612, 1.441323857753878], [0.927933807112306, 0.0720661928876939], 0.0, 'No Risk'], ['no_checking', 32, 'outstanding_credit', 'appliances', 8116, '500_to_1000', '1_to_4', 4, 'male', 'none', 4, 'car_other', 40, 'none', 'own', 2, 'skilled', 1, 'none', 'yes', 0.0, 2.0, 0.0, 2.0, 0.0, 0.0, 0.0, 0.0, 4.0, 0.0, 1.0, 0.0, 0.0, [21, [1, 2, 3, 7, 13, 14, 15, 16, 17, 18, 19, 20], [2.0, 4.0, 2.0, 1.0, 32.0, 8116.0, 4.0, 4.0, 32.0, 40.0, 2.0, 1.0]], [10.661845380364337, 9.338154619635663], [0.5330922690182168, 0.4669077309817832], 0.0, 'No Risk'], ['no_checking', 25, 'outstanding_credit', 'business', 6843, '500_to_1000', '4_to_7', 5, 'male', 'none', 5, 'unknown', 47, 'none', 'own', 1, 'management_self-employed', 1, 'none', 'yes', 0.0, 2.0, 1.0, 2.0, 0.0, 0.0, 0.0, 2.0, 9.0, 0.0, 3.0, 0.0, 0.0, [0.0, 2.0, 9.0, 2.0, 1.0, 0.0, 0.0, 3.0, 0.0, 0.0, 2.0, 0.0, 0.0, 25.0, 6843.0, 5.0, 5.0, 25.0, 47.0, 1.0, 1.0], [7.58932715500959, 12.410672844990412], [0.3794663577504795, 0.6205336422495206], 1.0, 'Risk'], ['0_to_200', 17, 'prior_payments_delayed', 'car_new', 1852, '100_to_500', '1_to_4', 2, 'female', 'none', 3, 'savings_insurance', 38, 'none', 'own', 2, 'skilled', 2, 'yes', 'yes', 2.0, 0.0, 0.0, 1.0, 0.0, 0.0, 0.0, 0.0, 0.0, 0.0, 0.0, 1.0, 1.0, [21, [0, 3, 5, 11, 13, 14, 15, 16, 17, 18, 19, 20], [2.0, 1.0, 1.0, 1.0, 17.0, 1852.0, 2.0, 3.0, 17.0, 38.0, 2.0, 2.0]], [14.51698094160079, 5.483019058399213], [0.7258490470800394, 0.2741509529199606], 0.0, 'No Risk'], ['0_to_200', 33, 'prior_payments_delayed', 'appliances', 5787, 'less_100', '1_to_4', 3, 'male', 'none', 2, 'unknown', 33, 'none', 'own', 2, 'skilled', 1, 'yes', 'yes', 2.0, 0.0, 0.0, 0.0, 0.0, 0.0, 0.0, 0.0, 4.0, 0.0, 3.0, 0.0, 1.0, [21, [0, 2, 7, 11, 13, 14, 15, 16, 17, 18, 19, 20], [2.0, 4.0, 3.0, 1.0, 33.0, 5787.0, 3.0, 2.0, 33.0, 33.0, 2.0, 1.0]], [13.762022826479521, 6.2379771735204805], [0.688101141323976, 0.311898858676024], 0.0, 'No Risk'], ['greater_200', 27, 'credits_paid_to_date', 'radio_tv', 6070, 'greater_1000', '1_to_4', 4, 'male', 'none', 3, 'savings_insurance', 43, 'none', 'own', 2, 'skilled', 1, 'none', 'yes', 3.0, 1.0, 0.0, 3.0, 0.0, 0.0, 0.0, 0.0, 3.0, 0.0, 0.0, 0.0, 0.0, [21, [0, 1, 2, 3, 13, 14, 15, 16, 17, 18, 19, 20], [3.0, 1.0, 3.0, 3.0, 27.0, 6070.0, 4.0, 3.0, 27.0, 43.0, 2.0, 1.0]], [12.42684089965286, 7.573159100347142], [0.621342044982643, 0.3786579550173571], 0.0, 'No Risk'], ['greater_200', 24, 'credits_paid_to_date', 'car_used', 1837, 'less_100', '1_to_4', 2, 'male', 'none', 3, 'savings_insurance', 27, 'none', 'rent', 1, 'skilled', 1, 'none', 'yes', 3.0, 1.0, 0.0, 0.0, 0.0, 1.0, 0.0, 0.0, 2.0, 0.0, 0.0, 0.0, 0.0, [21, [0, 1, 2, 9, 13, 14, 15, 16, 17, 18, 19, 20], [3.0, 1.0, 2.0, 1.0, 24.0, 1837.0, 2.0, 3.0, 24.0, 27.0, 1.0, 1.0]], [15.23916795297858, 4.760832047021419], [0.761958397648929, 0.23804160235107097], 0.0, 'No Risk'], ['0_to_200', 40, 'outstanding_credit', 'other', 5120, '500_to_1000', 'greater_7', 5, 'male', 'none', 3, 'car_other', 54, 'none', 'free', 2, 'skilled', 1, 'yes', 'yes', 2.0, 2.0, 2.0, 2.0, 0.0, 2.0, 0.0, 0.0, 10.0, 0.0, 1.0, 0.0, 1.0, [2.0, 2.0, 10.0, 2.0, 2.0, 0.0, 0.0, 1.0, 0.0, 2.0, 0.0, 1.0, 0.0, 40.0, 5120.0, 5.0, 3.0, 40.0, 54.0, 2.0, 1.0], [6.4551019712085065, 13.544898028791494], [0.32275509856042534, 0.6772449014395747], 1.0, 'Risk'], ['greater_200', 21, 'credits_paid_to_date', 'car_new', 1141, '500_to_1000', 'less_1', 1, 'male', 'none', 3, 'savings_insurance', 31, 'none', 'own', 1, 'skilled', 1, 'yes', 'yes', 3.0, 1.0, 3.0, 2.0, 0.0, 0.0, 0.0, 0.0, 0.0, 0.0, 0.0, 0.0, 1.0, [3.0, 1.0, 0.0, 2.0, 3.0, 0.0, 0.0, 0.0, 0.0, 0.0, 0.0, 1.0, 0.0, 21.0, 1141.0, 1.0, 3.0, 21.0, 31.0, 1.0, 1.0], [16.73203821155149, 3.2679617884485093], [0.8366019105775745, 0.16339808942242545], 0.0, 'No Risk'], ['greater_200', 21, 'outstanding_credit', 'appliances', 3522, 'greater_1000', 'greater_7', 3, 'male', 'none', 4, 'car_other', 46, 'none', 'own', 2, 'skilled', 1, 'yes', 'yes', 3.0, 2.0, 2.0, 3.0, 0.0, 0.0, 0.0, 0.0, 4.0, 0.0, 1.0, 0.0, 1.0, [3.0, 2.0, 4.0, 3.0, 2.0, 0.0, 0.0, 1.0, 0.0, 0.0, 0.0, 1.0, 0.0, 21.0, 3522.0, 3.0, 4.0, 21.0, 46.0, 2.0, 1.0], [8.462842498500331, 11.53715750149967], [0.42314212492501657, 0.5768578750749835], 1.0, 'Risk'], ['no_checking', 29, 'outstanding_credit', 'radio_tv', 6487, '500_to_1000', 'greater_7', 3, 'male', 'none', 4, 'car_other', 58, 'none', 'free', 2, 'skilled', 1, 'yes', 'yes', 0.0, 2.0, 2.0, 2.0, 0.0, 2.0, 0.0, 0.0, 3.0, 0.0, 1.0, 0.0, 1.0, [0.0, 2.0, 3.0, 2.0, 2.0, 0.0, 0.0, 1.0, 0.0, 2.0, 0.0, 1.0, 0.0, 29.0, 6487.0, 3.0, 4.0, 29.0, 58.0, 2.0, 1.0], [5.169965298649451, 14.83003470135055], [0.2584982649324726, 0.7415017350675275], 1.0, 'Risk'], ['less_0', 4, 'no_credits', 'car_new', 250, 'less_100', 'unemployed', 1, 'male', 'none', 2, 'real_estate', 19, 'none', 'rent', 1, 'skilled', 1, 'none', 'yes', 1.0, 4.0, 4.0, 0.0, 0.0, 1.0, 0.0, 0.0, 0.0, 0.0, 2.0, 0.0, 0.0, [1.0, 4.0, 0.0, 0.0, 4.0, 0.0, 0.0, 2.0, 0.0, 1.0, 0.0, 0.0, 0.0, 4.0, 250.0, 1.0, 2.0, 4.0, 19.0, 1.0, 1.0], [19.73070246972027, 0.26929753027972864], [0.9865351234860136, 0.013464876513986432], 0.0, 'No Risk'], ['0_to_200', 29, 'credits_paid_to_date', 'radio_tv', 3010, '500_to_1000', 'greater_7', 3, 'male', 'none', 4, 'car_other', 40, 'none', 'own', 2, 'skilled', 1, 'none', 'yes', 2.0, 1.0, 2.0, 2.0, 0.0, 0.0, 0.0, 0.0, 3.0, 0.0, 1.0, 0.0, 0.0, [2.0, 1.0, 3.0, 2.0, 2.0, 0.0, 0.0, 1.0, 0.0, 0.0, 0.0, 0.0, 0.0, 29.0, 3010.0, 3.0, 4.0, 29.0, 40.0, 2.0, 1.0], [10.911639723169074, 9.088360276830924], [0.5455819861584537, 0.45441801384154623], 0.0, 'No Risk'], ['greater_200', 22, 'outstanding_credit', 'business', 1845, '100_to_500', '4_to_7', 2, 'male', 'none', 2, 'savings_insurance', 31, 'none', 'rent', 1, 'skilled', 1, 'none', 'no', 3.0, 2.0, 1.0, 1.0, 1.0, 1.0, 0.0, 0.0, 9.0, 0.0, 0.0, 0.0, 0.0, [3.0, 2.0, 9.0, 1.0, 1.0, 0.0, 0.0, 0.0, 0.0, 1.0, 0.0, 0.0, 1.0, 22.0, 1845.0, 2.0, 2.0, 22.0, 31.0, 1.0, 1.0], [16.078751253131212, 3.9212487468687893], [0.8039375626565606, 0.19606243734343948], 0.0, 'No Risk'], ['less_0', 4, 'all_credits_paid_back', 'car_new', 358, 'less_100', 'unemployed', 1, 'female', 'none', 1, 'savings_insurance', 19, 'none', 'rent', 1, 'skilled', 1, 'none', 'yes', 1.0, 3.0, 4.0, 0.0, 0.0, 1.0, 0.0, 0.0, 0.0, 0.0, 0.0, 1.0, 0.0, [1.0, 3.0, 0.0, 0.0, 4.0, 1.0, 0.0, 0.0, 0.0, 1.0, 0.0, 0.0, 0.0, 4.0, 358.0, 1.0, 1.0, 4.0, 19.0, 1.0, 1.0], [19.426082668760277, 0.5739173312397212], [0.971304133438014, 0.028695866561986066], 0.0, 'No Risk'], ['0_to_200', 37, 'prior_payments_delayed', 'repairs', 3056, '500_to_1000', 'less_1', 3, 'female', 'none', 3, 'savings_insurance', 36, 'bank', 'rent', 2, 'unemployed', 1, 'none', 'yes', 2.0, 0.0, 3.0, 2.0, 0.0, 1.0, 2.0, 3.0, 5.0, 0.0, 0.0, 1.0, 0.0, [2.0, 0.0, 5.0, 2.0, 3.0, 1.0, 0.0, 0.0, 2.0, 1.0, 3.0, 0.0, 0.0, 37.0, 3056.0, 3.0, 3.0, 37.0, 36.0, 2.0, 1.0], [14.18358061732965, 5.816419382670349], [0.7091790308664825, 0.29082096913351746], 0.0, 'No Risk'], ['no_checking', 25, 'prior_payments_delayed', 'radio_tv', 6983, 'greater_1000', '1_to_4', 3, 'male', 'none', 3, 'savings_insurance', 42, 'none', 'own', 2, 'management_self-employed', 1, 'none', 'yes', 0.0, 0.0, 0.0, 3.0, 0.0, 0.0, 0.0, 2.0, 3.0, 0.0, 0.0, 0.0, 0.0, [21, [2, 3, 10, 13, 14, 15, 16, 17, 18, 19, 20], [3.0, 3.0, 2.0, 25.0, 6983.0, 3.0, 3.0, 25.0, 42.0, 2.0, 1.0]], [12.351346403421331, 7.648653596578665], [0.6175673201710666, 0.3824326798289333], 0.0, 'No Risk'], ['no_checking', 8, 'credits_paid_to_date', 'vacation', 2632, 'less_100', 'less_1', 2, 'female', 'none', 2, 'real_estate', 33, 'stores', 'rent', 1, 'unskilled', 1, 'none', 'yes', 0.0, 1.0, 3.0, 0.0, 0.0, 1.0, 1.0, 1.0, 6.0, 0.0, 2.0, 1.0, 0.0, [0.0, 1.0, 6.0, 0.0, 3.0, 1.0, 0.0, 2.0, 1.0, 1.0, 1.0, 0.0, 0.0, 8.0, 2632.0, 2.0, 2.0, 8.0, 33.0, 1.0, 1.0], [18.893168733762693, 1.1068312662373088], [0.9446584366881347, 0.05534156331186544], 0.0, 'No Risk'], ['0_to_200', 28, 'outstanding_credit', 'appliances', 2158, 'unknown', '1_to_4', 2, 'male', 'none', 3, 'car_other', 25, 'stores', 'own', 1, 'skilled', 2, 'none', 'yes', 2.0, 2.0, 0.0, 4.0, 0.0, 0.0, 1.0, 0.0, 4.0, 0.0, 1.0, 0.0, 0.0, [2.0, 2.0, 4.0, 4.0, 0.0, 0.0, 0.0, 1.0, 1.0, 0.0, 0.0, 0.0, 0.0, 28.0, 2158.0, 2.0, 3.0, 28.0, 25.0, 1.0, 2.0], [14.250401121741392, 5.749598878258606], [0.7125200560870696, 0.2874799439129303], 0.0, 'No Risk'], ['less_0', 4, 'all_credits_paid_back', 'car_new', 250, 'less_100', 'less_1', 2, 'female', 'none', 3, 'real_estate', 36, 'none', 'own', 1, 'management_self-employed', 1, 'none', 'yes', 1.0, 3.0, 3.0, 0.0, 0.0, 0.0, 0.0, 2.0, 0.0, 0.0, 2.0, 1.0, 0.0, [1.0, 3.0, 0.0, 0.0, 3.0, 1.0, 0.0, 2.0, 0.0, 0.0, 2.0, 0.0, 0.0, 4.0, 250.0, 2.0, 3.0, 4.0, 36.0, 1.0, 1.0], [19.276910038365795, 0.7230899616342008], [0.9638455019182899, 0.03615449808171005], 0.0, 'No Risk'], ['less_0', 28, 'credits_paid_to_date', 'radio_tv', 5386, 'less_100', '1_to_4', 2, 'male', 'none', 2, 'car_other', 34, 'none', 'rent', 1, 'skilled', 1, 'none', 'yes', 1.0, 1.0, 0.0, 0.0, 0.0, 1.0, 0.0, 0.0, 3.0, 0.0, 1.0, 0.0, 0.0, [1.0, 1.0, 3.0, 0.0, 0.0, 0.0, 0.0, 1.0, 0.0, 1.0, 0.0, 0.0, 0.0, 28.0, 5386.0, 2.0, 2.0, 28.0, 34.0, 1.0, 1.0], [12.7894644110832, 7.210535588916801], [0.63947322055416, 0.36052677944584005], 0.0, 'No Risk'], ['0_to_200', 32, 'all_credits_paid_back', 'furniture', 1943, 'less_100', 'less_1', 2, 'female', 'none', 3, 'real_estate', 36, 'none', 'own', 1, 'skilled', 1, 'none', 'yes', 2.0, 3.0, 3.0, 0.0, 0.0, 0.0, 0.0, 0.0, 1.0, 0.0, 2.0, 1.0, 0.0, [2.0, 3.0, 1.0, 0.0, 3.0, 1.0, 0.0, 2.0, 0.0, 0.0, 0.0, 0.0, 0.0, 32.0, 1943.0, 2.0, 3.0, 32.0, 36.0, 1.0, 1.0], [16.048314083927426, 3.9516859160725746], [0.8024157041963713, 0.19758429580362874], 0.0, 'No Risk'], ['less_0', 4, 'all_credits_paid_back', 'car_new', 896, 'less_100', 'less_1', 2, 'female', 'none', 1, 'savings_insurance', 24, 'none', 'rent', 1, 'skilled', 1, 'none', 'yes', 1.0, 3.0, 3.0, 0.0, 0.0, 1.0, 0.0, 0.0, 0.0, 0.0, 0.0, 1.0, 0.0, [1.0, 3.0, 0.0, 0.0, 3.0, 1.0, 0.0, 0.0, 0.0, 1.0, 0.0, 0.0, 0.0, 4.0, 896.0, 2.0, 1.0, 4.0, 24.0, 1.0, 1.0], [19.190631708925885, 0.8093682910741067], [0.9595315854462946, 0.04046841455370535], 0.0, 'No Risk'], ['less_0', 4, 'credits_paid_to_date', 'car_new', 250, 'less_100', '4_to_7', 1, 'female', 'none', 1, 'savings_insurance', 31, 'stores', 'own', 1, 'skilled', 1, 'none', 'yes', 1.0, 1.0, 1.0, 0.0, 0.0, 0.0, 1.0, 0.0, 0.0, 0.0, 0.0, 1.0, 0.0, [1.0, 1.0, 0.0, 0.0, 1.0, 1.0, 0.0, 0.0, 1.0, 0.0, 0.0, 0.0, 0.0, 4.0, 250.0, 1.0, 1.0, 4.0, 31.0, 1.0, 1.0], [18.26025790047394, 1.7397420995260582], [0.9130128950236971, 0.08698710497630292], 0.0, 'No Risk'], ['no_checking', 38, 'outstanding_credit', 'radio_tv', 8072, 'greater_1000', 'greater_7', 5, 'male', 'co-applicant', 5, 'unknown', 49, 'none', 'free', 3, 'skilled', 2, 'yes', 'yes', 0.0, 2.0, 2.0, 3.0, 0.0, 2.0, 0.0, 0.0, 3.0, 1.0, 3.0, 0.0, 1.0, [0.0, 2.0, 3.0, 3.0, 2.0, 0.0, 1.0, 3.0, 0.0, 2.0, 0.0, 1.0, 0.0, 38.0, 8072.0, 5.0, 5.0, 38.0, 49.0, 3.0, 2.0], [1.2487383146359714, 18.751261685364028], [0.06243691573179857, 0.9375630842682015], 1.0, 'Risk'], ['no_checking', 24, 'prior_payments_delayed', 'radio_tv', 6829, '100_to_500', 'greater_7', 3, 'male', 'none', 4, 'savings_insurance', 41, 'none', 'free', 2, 'management_self-employed', 1, 'yes', 'yes', 0.0, 0.0, 2.0, 1.0, 0.0, 2.0, 0.0, 2.0, 3.0, 0.0, 0.0, 0.0, 1.0, [0.0, 0.0, 3.0, 1.0, 2.0, 0.0, 0.0, 0.0, 0.0, 2.0, 2.0, 1.0, 0.0, 24.0, 6829.0, 3.0, 4.0, 24.0, 41.0, 2.0, 1.0], [9.655750567188031, 10.344249432811969], [0.48278752835940153, 0.5172124716405985], 1.0, 'Risk'], ['less_0', 14, 'all_credits_paid_back', 'appliances', 2840, 'less_100', '4_to_7', 2, 'female', 'none', 2, 'savings_insurance', 31, 'none', 'own', 1, 'skilled', 1, 'none', 'yes', 1.0, 3.0, 1.0, 0.0, 0.0, 0.0, 0.0, 0.0, 4.0, 0.0, 0.0, 1.0, 0.0, [1.0, 3.0, 4.0, 0.0, 1.0, 1.0, 0.0, 0.0, 0.0, 0.0, 0.0, 0.0, 0.0, 14.0, 2840.0, 2.0, 2.0, 14.0, 31.0, 1.0, 1.0], [17.443092752638194, 2.556907247361811], [0.8721546376319095, 0.12784536236809052], 0.0, 'No Risk'], ['no_checking', 23, 'outstanding_credit', 'business', 5603, '500_to_1000', '1_to_4', 3, 'female', 'co-applicant', 4, 'car_other', 47, 'none', 'own', 1, 'skilled', 1, 'none', 'yes', 0.0, 2.0, 0.0, 2.0, 0.0, 0.0, 0.0, 0.0, 9.0, 1.0, 1.0, 1.0, 0.0, [0.0, 2.0, 9.0, 2.0, 0.0, 1.0, 1.0, 1.0, 0.0, 0.0, 0.0, 0.0, 0.0, 23.0, 5603.0, 3.0, 4.0, 23.0, 47.0, 1.0, 1.0], [10.938031646842434, 9.061968353157564], [0.5469015823421217, 0.45309841765787817], 0.0, 'No Risk'], ['less_0', 4, 'all_credits_paid_back', 'car_new', 250, 'less_100', 'unemployed', 2, 'female', 'none', 1, 'real_estate', 19, 'none', 'rent', 1, 'skilled', 1, 'none', 'yes', 1.0, 3.0, 4.0, 0.0, 0.0, 1.0, 0.0, 0.0, 0.0, 0.0, 2.0, 1.0, 0.0, [1.0, 3.0, 0.0, 0.0, 4.0, 1.0, 0.0, 2.0, 0.0, 1.0, 0.0, 0.0, 0.0, 4.0, 250.0, 2.0, 1.0, 4.0, 19.0, 1.0, 1.0], [19.73822260499371, 0.2617773950062894], [0.9869111302496855, 0.01308886975031447], 0.0, 'No Risk'], ['no_checking', 30, 'outstanding_credit', 'furniture', 6805, '500_to_1000', '1_to_4', 3, 'male', 'none', 4, 'unknown', 60, 'none', 'own', 2, 'skilled', 2, 'yes', 'yes', 0.0, 2.0, 0.0, 2.0, 0.0, 0.0, 0.0, 0.0, 1.0, 0.0, 3.0, 0.0, 1.0, [0.0, 2.0, 1.0, 2.0, 0.0, 0.0, 0.0, 3.0, 0.0, 0.0, 0.0, 1.0, 0.0, 30.0, 6805.0, 3.0, 4.0, 30.0, 60.0, 2.0, 2.0], [9.251406378797311, 10.74859362120269], [0.46257031893986555, 0.5374296810601346], 1.0, 'Risk'], ['less_0', 4, 'all_credits_paid_back', 'car_new', 250, 'less_100', 'unemployed', 1, 'female', 'none', 2, 'real_estate', 19, 'bank', 'rent', 1, 'unskilled', 1, 'none', 'yes', 1.0, 3.0, 4.0, 0.0, 0.0, 1.0, 2.0, 1.0, 0.0, 0.0, 2.0, 1.0, 0.0, [1.0, 3.0, 0.0, 0.0, 4.0, 1.0, 0.0, 2.0, 2.0, 1.0, 1.0, 0.0, 0.0, 4.0, 250.0, 1.0, 2.0, 4.0, 19.0, 1.0, 1.0], [19.73822260499371, 0.2617773950062894], [0.9869111302496855, 0.01308886975031447], 0.0, 'No Risk'], ['less_0', 13, 'no_credits', 'education', 250, 'less_100', 'unemployed', 1, 'female', 'none', 1, 'real_estate', 22, 'stores', 'rent', 1, 'unskilled', 1, 'none', 'yes', 1.0, 4.0, 4.0, 0.0, 0.0, 1.0, 1.0, 1.0, 7.0, 0.0, 2.0, 1.0, 0.0, [1.0, 4.0, 7.0, 0.0, 4.0, 1.0, 0.0, 2.0, 1.0, 1.0, 1.0, 0.0, 0.0, 13.0, 250.0, 1.0, 1.0, 13.0, 22.0, 1.0, 1.0], [19.667069869135887, 0.3329301308641113], [0.9833534934567945, 0.016646506543205566], 0.0, 'No Risk'], ['less_0', 9, 'all_credits_paid_back', 'car_used', 328, '100_to_500', 'less_1', 2, 'female', 'none', 1, 'savings_insurance', 35, 'none', 'own', 1, 'skilled', 1, 'none', 'yes', 1.0, 3.0, 3.0, 1.0, 0.0, 0.0, 0.0, 0.0, 2.0, 0.0, 0.0, 1.0, 0.0, [1.0, 3.0, 2.0, 1.0, 3.0, 1.0, 0.0, 0.0, 0.0, 0.0, 0.0, 0.0, 0.0, 9.0, 328.0, 2.0, 1.0, 9.0, 35.0, 1.0, 1.0], [18.388425415911673, 1.6115745840883209], [0.919421270795584, 0.08057872920441607], 0.0, 'No Risk'], ['0_to_200', 4, 'prior_payments_delayed', 'car_new', 250, '500_to_1000', 'unemployed', 2, 'female', 'none', 2, 'real_estate', 25, 'none', 'rent', 1, 'skilled', 1, 'none', 'yes', 2.0, 0.0, 4.0, 2.0, 0.0, 1.0, 0.0, 0.0, 0.0, 0.0, 2.0, 1.0, 0.0, [2.0, 0.0, 0.0, 2.0, 4.0, 1.0, 0.0, 2.0, 0.0, 1.0, 0.0, 0.0, 0.0, 4.0, 250.0, 2.0, 2.0, 4.0, 25.0, 1.0, 1.0], [19.704819323630403, 0.2951806763695961], [0.9852409661815201, 0.014759033818479806], 0.0, 'No Risk'], ['no_checking', 33, 'outstanding_credit', 'appliances', 5067, '500_to_1000', '4_to_7', 4, 'male', 'none', 4, 'unknown', 38, 'none', 'own', 1, 'management_self-employed', 1, 'none', 'yes', 0.0, 2.0, 1.0, 2.0, 0.0, 0.0, 0.0, 2.0, 4.0, 0.0, 3.0, 0.0, 0.0, [0.0, 2.0, 4.0, 2.0, 1.0, 0.0, 0.0, 3.0, 0.0, 0.0, 2.0, 0.0, 0.0, 33.0, 5067.0, 4.0, 4.0, 33.0, 38.0, 1.0, 1.0], [8.991212781089384, 11.008787218910616], [0.4495606390544692, 0.5504393609455308], 1.0, 'Risk'], ['no_checking', 26, 'outstanding_credit', 'radio_tv', 5843, 'unknown', '4_to_7', 4, 'male', 'guarantor', 6, 'unknown', 60, 'none', 'free', 2, 'skilled', 1, 'yes', 'yes', 0.0, 2.0, 1.0, 4.0, 0.0, 2.0, 0.0, 0.0, 3.0, 2.0, 3.0, 0.0, 1.0, [0.0, 2.0, 3.0, 4.0, 1.0, 0.0, 2.0, 3.0, 0.0, 2.0, 0.0, 1.0, 0.0, 26.0, 5843.0, 4.0, 6.0, 26.0, 60.0, 2.0, 1.0], [4.015289227227862, 15.984710772772136], [0.20076446136139312, 0.7992355386386067], 1.0, 'Risk'], ['greater_200', 16, 'prior_payments_delayed', 'furniture', 250, '100_to_500', '1_to_4', 2, 'male', 'none', 3, 'savings_insurance', 31, 'none', 'rent', 1, 'skilled', 1, 'none', 'yes', 3.0, 0.0, 0.0, 1.0, 0.0, 1.0, 0.0, 0.0, 1.0, 0.0, 0.0, 0.0, 0.0, [21, [0, 2, 3, 9, 13, 14, 15, 16, 17, 18, 19, 20], [3.0, 1.0, 1.0, 1.0, 16.0, 250.0, 2.0, 3.0, 16.0, 31.0, 1.0, 1.0]], [16.278259778775023, 3.721740221224972], [0.8139129889387513, 0.18608701106124864], 0.0, 'No Risk'], ['greater_200', 4, 'all_credits_paid_back', 'education', 3262, '500_to_1000', '1_to_4', 3, 'female', 'none', 2, 'savings_insurance', 32, 'stores', 'rent', 1, 'unskilled', 1, 'none', 'yes', 3.0, 3.0, 0.0, 2.0, 0.0, 1.0, 1.0, 1.0, 7.0, 0.0, 0.0, 1.0, 0.0, [3.0, 3.0, 7.0, 2.0, 0.0, 1.0, 0.0, 0.0, 1.0, 1.0, 1.0, 0.0, 0.0, 4.0, 3262.0, 3.0, 2.0, 4.0, 32.0, 1.0, 1.0], [17.833977796714088, 2.1660222032859098], [0.8916988898357046, 0.10830111016429551], 0.0, 'No Risk'], ['no_checking', 32, 'credits_paid_to_date', 'appliances', 8162, '100_to_500', '1_to_4', 3, 'female', 'none', 4, 'car_other', 38, 'none', 'own', 1, 'skilled', 1, 'yes', 'yes', 0.0, 1.0, 0.0, 1.0, 0.0, 0.0, 0.0, 0.0, 4.0, 0.0, 1.0, 1.0, 1.0, [0.0, 1.0, 4.0, 1.0, 0.0, 1.0, 0.0, 1.0, 0.0, 0.0, 0.0, 1.0, 0.0, 32.0, 8162.0, 3.0, 4.0, 32.0, 38.0, 1.0, 1.0], [9.918981976616822, 10.08101802338318], [0.4959490988308411, 0.504050901169159], 1.0, 'Risk'], ['less_0', 15, 'prior_payments_delayed', 'retraining', 2107, 'less_100', '4_to_7', 3, 'male', 'none', 3, 'car_other', 26, 'none', 'own', 1, 'skilled', 1, 'none', 'yes', 1.0, 0.0, 1.0, 0.0, 0.0, 0.0, 0.0, 0.0, 8.0, 0.0, 1.0, 0.0, 0.0, [21, [0, 2, 4, 7, 13, 14, 15, 16, 17, 18, 19, 20], [1.0, 8.0, 1.0, 1.0, 15.0, 2107.0, 3.0, 3.0, 15.0, 26.0, 1.0, 1.0]], [14.878968536832572, 5.121031463167427], [0.7439484268416285, 0.25605157315837135], 0.0, 'No Risk'], ['0_to_200', 30, 'outstanding_credit', 'furniture', 5842, '100_to_500', '4_to_7', 3, 'female', 'guarantor', 4, 'car_other', 50, 'stores', 'free', 1, 'unskilled', 1, 'yes', 'yes', 2.0, 2.0, 1.0, 1.0, 0.0, 2.0, 1.0, 1.0, 1.0, 2.0, 1.0, 1.0, 1.0, [2.0, 2.0, 1.0, 1.0, 1.0, 1.0, 2.0, 1.0, 1.0, 2.0, 1.0, 1.0, 0.0, 30.0, 5842.0, 3.0, 4.0, 30.0, 50.0, 1.0, 1.0], [7.320918262808053, 12.679081737191948], [0.3660459131404027, 0.6339540868595974], 1.0, 'Risk'], ['no_checking', 37, 'prior_payments_delayed', 'furniture', 8988, '500_to_1000', 'greater_7', 5, 'male', 'co-applicant', 4, 'unknown', 52, 'none', 'free', 2, 'skilled', 1, 'yes', 'yes', 0.0, 0.0, 2.0, 2.0, 0.0, 2.0, 0.0, 0.0, 1.0, 1.0, 3.0, 0.0, 1.0, [0.0, 0.0, 1.0, 2.0, 2.0, 0.0, 1.0, 3.0, 0.0, 2.0, 0.0, 1.0, 0.0, 37.0, 8988.0, 5.0, 4.0, 37.0, 52.0, 2.0, 1.0], [1.4154777987137237, 18.584522201286276], [0.07077388993568619, 0.9292261100643138], 1.0, 'Risk'], ['no_checking', 49, 'outstanding_credit', 'radio_tv', 8089, 'greater_1000', 'greater_7', 5, 'male', 'co-applicant', 5, 'unknown', 48, 'stores', 'free', 2, 'unemployed', 2, 'yes', 'yes', 0.0, 2.0, 2.0, 3.0, 0.0, 2.0, 1.0, 3.0, 3.0, 1.0, 3.0, 0.0, 1.0, [0.0, 2.0, 3.0, 3.0, 2.0, 0.0, 1.0, 3.0, 1.0, 2.0, 3.0, 1.0, 0.0, 49.0, 8089.0, 5.0, 5.0, 49.0, 48.0, 2.0, 2.0], [2.9127832308480706, 17.08721676915193], [0.14563916154240353, 0.8543608384575965], 1.0, 'Risk'], ['no_checking', 21, 'credits_paid_to_date', 'radio_tv', 3364, '100_to_500', 'less_1', 2, 'female', 'none', 3, 'savings_insurance', 40, 'none', 'own', 2, 'skilled', 1, 'none', 'yes', 0.0, 1.0, 3.0, 1.0, 0.0, 0.0, 0.0, 0.0, 3.0, 0.0, 0.0, 1.0, 0.0, [0.0, 1.0, 3.0, 1.0, 3.0, 1.0, 0.0, 0.0, 0.0, 0.0, 0.0, 0.0, 0.0, 21.0, 3364.0, 2.0, 3.0, 21.0, 40.0, 2.0, 1.0], [15.525902369326255, 4.474097630673741], [0.7762951184663129, 0.2237048815336871], 0.0, 'No Risk'], ['less_0', 15, 'credits_paid_to_date', 'furniture', 250, 'less_100', 'unemployed', 1, 'female', 'none', 1, 'savings_insurance', 19, 'stores', 'rent', 1, 'unskilled', 1, 'none', 'yes', 1.0, 1.0, 4.0, 0.0, 0.0, 1.0, 1.0, 1.0, 1.0, 0.0, 0.0, 1.0, 0.0, [1.0, 1.0, 1.0, 0.0, 4.0, 1.0, 0.0, 0.0, 1.0, 1.0, 1.0, 0.0, 0.0, 15.0, 250.0, 1.0, 1.0, 15.0, 19.0, 1.0, 1.0], [19.299339556130043, 0.7006604438699493], [0.9649669778065025, 0.03503302219349748], 0.0, 'No Risk'], ['no_checking', 27, 'outstanding_credit', 'radio_tv', 5655, 'unknown', '4_to_7', 4, 'male', 'none', 3, 'car_other', 50, 'none', 'own', 2, 'skilled', 2, 'yes', 'yes', 0.0, 2.0, 1.0, 4.0, 0.0, 0.0, 0.0, 0.0, 3.0, 0.0, 1.0, 0.0, 1.0, [0.0, 2.0, 3.0, 4.0, 1.0, 0.0, 0.0, 1.0, 0.0, 0.0, 0.0, 1.0, 0.0, 27.0, 5655.0, 4.0, 3.0, 27.0, 50.0, 2.0, 2.0], [8.157915412545103, 11.842084587454899], [0.4078957706272551, 0.592104229372745], 1.0, 'Risk'], ['less_0', 20, 'prior_payments_delayed', 'radio_tv', 1246, 'less_100', '4_to_7', 3, 'male', 'co-applicant', 2, 'unknown', 38, 'stores', 'own', 1, 'unskilled', 1, 'yes', 'yes', 1.0, 0.0, 1.0, 0.0, 0.0, 0.0, 1.0, 1.0, 3.0, 1.0, 3.0, 0.0, 1.0, [1.0, 0.0, 3.0, 0.0, 1.0, 0.0, 1.0, 3.0, 1.0, 0.0, 1.0, 1.0, 0.0, 20.0, 1246.0, 3.0, 2.0, 20.0, 38.0, 1.0, 1.0], [14.73768981198854, 5.262310188011462], [0.736884490599427, 0.2631155094005731], 0.0, 'No Risk'], ['no_checking', 28, 'outstanding_credit', 'furniture', 5486, 'unknown', 'greater_7', 4, 'male', 'co-applicant', 5, 'unknown', 59, 'none', 'free', 2, 'skilled', 2, 'yes', 'yes', 0.0, 2.0, 2.0, 4.0, 0.0, 2.0, 0.0, 0.0, 1.0, 1.0, 3.0, 0.0, 1.0, [0.0, 2.0, 1.0, 4.0, 2.0, 0.0, 1.0, 3.0, 0.0, 2.0, 0.0, 1.0, 0.0, 28.0, 5486.0, 4.0, 5.0, 28.0, 59.0, 2.0, 2.0], [2.2573481889350133, 17.742651811064984], [0.11286740944675068, 0.8871325905532493], 1.0, 'Risk'], ['0_to_200', 21, 'no_credits', 'furniture', 2053, '500_to_1000', '1_to_4', 1, 'male', 'none', 1, 'savings_insurance', 28, 'stores', 'own', 1, 'skilled', 1, 'none', 'yes', 2.0, 4.0, 0.0, 2.0, 0.0, 0.0, 1.0, 0.0, 1.0, 0.0, 0.0, 0.0, 0.0, [2.0, 4.0, 1.0, 2.0, 0.0, 0.0, 0.0, 0.0, 1.0, 0.0, 0.0, 0.0, 0.0, 21.0, 2053.0, 1.0, 1.0, 21.0, 28.0, 1.0, 1.0], [16.892587461359543, 3.107412538640454], [0.8446293730679774, 0.15537062693202272], 0.0, 'No Risk'], ['no_checking', 36, 'prior_payments_delayed', 'appliances', 6379, '500_to_1000', '1_to_4', 3, 'male', 'none', 3, 'unknown', 40, 'none', 'own', 1, 'skilled', 1, 'none', 'yes', 0.0, 0.0, 0.0, 2.0, 0.0, 0.0, 0.0, 0.0, 4.0, 0.0, 3.0, 0.0, 0.0, [21, [2, 3, 7, 13, 14, 15, 16, 17, 18, 19, 20], [4.0, 2.0, 3.0, 36.0, 6379.0, 3.0, 3.0, 36.0, 40.0, 1.0, 1.0]], [11.232166958971908, 8.767833041028092], [0.5616083479485954, 0.4383916520514046], 0.0, 'No Risk'], ['greater_200', 19, 'outstanding_credit', 'business', 5223, 'greater_1000', 'greater_7', 5, 'male', 'none', 2, 'unknown', 44, 'none', 'own', 2, 'skilled', 2, 'yes', 'yes', 3.0, 2.0, 2.0, 3.0, 0.0, 0.0, 0.0, 0.0, 9.0, 0.0, 3.0, 0.0, 1.0, [3.0, 2.0, 9.0, 3.0, 2.0, 0.0, 0.0, 3.0, 0.0, 0.0, 0.0, 1.0, 0.0, 19.0, 5223.0, 5.0, 2.0, 19.0, 44.0, 2.0, 2.0], [13.12934767249935, 6.87065232750065], [0.6564673836249675, 0.3435326163750325], 0.0, 'No Risk'], ['no_checking', 9, 'credits_paid_to_date', 'car_used', 358, 'less_100', '1_to_4', 1, 'female', 'none', 3, 'real_estate', 40, 'none', 'rent', 1, 'skilled', 1, 'none', 'yes', 0.0, 1.0, 0.0, 0.0, 0.0, 1.0, 0.0, 0.0, 2.0, 0.0, 2.0, 1.0, 0.0, [0.0, 1.0, 2.0, 0.0, 0.0, 1.0, 0.0, 2.0, 0.0, 1.0, 0.0, 0.0, 0.0, 9.0, 358.0, 1.0, 3.0, 9.0, 40.0, 1.0, 1.0], [17.60877728979521, 2.3912227102047887], [0.8804388644897605, 0.11956113551023943], 0.0, 'No Risk'], ['0_to_200', 26, 'all_credits_paid_back', 'vacation', 3273, '500_to_1000', '4_to_7', 3, 'male', 'none', 3, 'car_other', 28, 'bank', 'rent', 2, 'unemployed', 1, 'yes', 'yes', 2.0, 3.0, 1.0, 2.0, 0.0, 1.0, 2.0, 3.0, 6.0, 0.0, 1.0, 0.0, 1.0, [2.0, 3.0, 6.0, 2.0, 1.0, 0.0, 0.0, 1.0, 2.0, 1.0, 3.0, 1.0, 0.0, 26.0, 3273.0, 3.0, 3.0, 26.0, 28.0, 2.0, 1.0], [11.864643123398343, 8.135356876601655], [0.5932321561699172, 0.40676784383008274], 0.0, 'No Risk'], ['no_checking', 14, 'credits_paid_to_date', 'retraining', 5092, 'less_100', '4_to_7', 3, 'male', 'none', 3, 'savings_insurance', 38, 'none', 'own', 1, 'skilled', 1, 'yes', 'yes', 0.0, 1.0, 1.0, 0.0, 0.0, 0.0, 0.0, 0.0, 8.0, 0.0, 0.0, 0.0, 1.0, [21, [1, 2, 4, 11, 13, 14, 15, 16, 17, 18, 19, 20], [1.0, 8.0, 1.0, 1.0, 14.0, 5092.0, 3.0, 3.0, 14.0, 38.0, 1.0, 1.0]], [13.288565083293287, 6.711434916706715], [0.6644282541646643, 0.3355717458353357], 0.0, 'No Risk'], ['0_to_200', 36, 'prior_payments_delayed', 'radio_tv', 3377, '100_to_500', '4_to_7', 4, 'male', 'none', 3, 'car_other', 25, 'none', 'own', 1, 'skilled', 1, 'none', 'yes', 2.0, 0.0, 1.0, 1.0, 0.0, 0.0, 0.0, 0.0, 3.0, 0.0, 1.0, 0.0, 0.0, [2.0, 0.0, 3.0, 1.0, 1.0, 0.0, 0.0, 1.0, 0.0, 0.0, 0.0, 0.0, 0.0, 36.0, 3377.0, 4.0, 3.0, 36.0, 25.0, 1.0, 1.0], [12.637005407447015, 7.362994592552985], [0.6318502703723508, 0.36814972962764925], 0.0, 'No Risk'], ['0_to_200', 9, 'credits_paid_to_date', 'vacation', 3474, 'less_100', '4_to_7', 2, 'female', 'none', 3, 'car_other', 36, 'none', 'free', 1, 'skilled', 1, 'none', 'yes', 2.0, 1.0, 1.0, 0.0, 0.0, 2.0, 0.0, 0.0, 6.0, 0.0, 1.0, 1.0, 0.0, [2.0, 1.0, 6.0, 0.0, 1.0, 1.0, 0.0, 1.0, 0.0, 2.0, 0.0, 0.0, 0.0, 9.0, 3474.0, 2.0, 3.0, 9.0, 36.0, 1.0, 1.0], [14.246212517136506, 5.753787482863496], [0.7123106258568253, 0.2876893741431748], 0.0, 'No Risk'], ['0_to_200', 21, 'outstanding_credit', 'car_used', 3056, '500_to_1000', '1_to_4', 2, 'female', 'none', 2, 'savings_insurance', 41, 'stores', 'own', 1, 'skilled', 2, 'yes', 'yes', 2.0, 2.0, 0.0, 2.0, 0.0, 0.0, 1.0, 0.0, 2.0, 0.0, 0.0, 1.0, 1.0, [2.0, 2.0, 2.0, 2.0, 0.0, 1.0, 0.0, 0.0, 1.0, 0.0, 0.0, 1.0, 0.0, 21.0, 3056.0, 2.0, 2.0, 21.0, 41.0, 1.0, 2.0], [15.203083167954265, 4.796916832045734], [0.7601541583977133, 0.2398458416022867], 0.0, 'No Risk'], ['0_to_200', 24, 'outstanding_credit', 'business', 4890, '100_to_500', '4_to_7', 3, 'male', 'none', 2, 'savings_insurance', 32, 'none', 'own', 1, 'skilled', 2, 'yes', 'yes', 2.0, 2.0, 1.0, 1.0, 0.0, 0.0, 0.0, 0.0, 9.0, 0.0, 0.0, 0.0, 1.0, [2.0, 2.0, 9.0, 1.0, 1.0, 0.0, 0.0, 0.0, 0.0, 0.0, 0.0, 1.0, 0.0, 24.0, 4890.0, 3.0, 2.0, 24.0, 32.0, 1.0, 2.0], [14.933597238342728, 5.066402761657273], [0.7466798619171364, 0.2533201380828637], 0.0, 'No Risk'], ['less_0', 21, 'credits_paid_to_date', 'car_new', 1414, '100_to_500', '1_to_4', 3, 'male', 'none', 2, 'savings_insurance', 38, 'bank', 'rent', 2, 'unemployed', 1, 'none', 'yes', 1.0, 1.0, 0.0, 1.0, 0.0, 1.0, 2.0, 3.0, 0.0, 0.0, 0.0, 0.0, 0.0, [1.0, 1.0, 0.0, 1.0, 0.0, 0.0, 0.0, 0.0, 2.0, 1.0, 3.0, 0.0, 0.0, 21.0, 1414.0, 3.0, 2.0, 21.0, 38.0, 2.0, 1.0], [16.043853133381962, 3.9561468666180355], [0.8021926566690982, 0.1978073433309018], 0.0, 'No Risk'], ['no_checking', 29, 'outstanding_credit', 'radio_tv', 4769, 'unknown', '4_to_7', 3, 'male', 'co-applicant', 4, 'car_other', 47, 'none', 'own', 2, 'skilled', 1, 'yes', 'yes', 0.0, 2.0, 1.0, 4.0, 0.0, 0.0, 0.0, 0.0, 3.0, 1.0, 1.0, 0.0, 1.0, [0.0, 2.0, 3.0, 4.0, 1.0, 0.0, 1.0, 1.0, 0.0, 0.0, 0.0, 1.0, 0.0, 29.0, 4769.0, 3.0, 4.0, 29.0, 47.0, 2.0, 1.0], [5.7814975364399555, 14.218502463560043], [0.2890748768219978, 0.7109251231780022], 1.0, 'Risk'], ['less_0', 4, 'all_credits_paid_back', 'car_new', 1527, 'less_100', 'less_1', 1, 'female', 'none', 2, 'real_estate', 19, 'none', 'rent', 1, 'skilled', 1, 'none', 'yes', 1.0, 3.0, 3.0, 0.0, 0.0, 1.0, 0.0, 0.0, 0.0, 0.0, 2.0, 1.0, 0.0, [1.0, 3.0, 0.0, 0.0, 3.0, 1.0, 0.0, 2.0, 0.0, 1.0, 0.0, 0.0, 0.0, 4.0, 1527.0, 1.0, 2.0, 4.0, 19.0, 1.0, 1.0], [19.524674385176368, 0.4753256148236267], [0.9762337192588186, 0.02376628074118134], 0.0, 'No Risk'], ['less_0', 22, 'credits_paid_to_date', 'radio_tv', 2482, 'less_100', 'less_1', 1, 'female', 'none', 2, 'car_other', 27, 'stores', 'own', 2, 'skilled', 1, 'yes', 'yes', 1.0, 1.0, 3.0, 0.0, 0.0, 0.0, 1.0, 0.0, 3.0, 0.0, 1.0, 1.0, 1.0, [1.0, 1.0, 3.0, 0.0, 3.0, 1.0, 0.0, 1.0, 1.0, 0.0, 0.0, 1.0, 0.0, 22.0, 2482.0, 1.0, 2.0, 22.0, 27.0, 2.0, 1.0], [16.911982558605995, 3.0880174413940034], [0.8455991279302998, 0.15440087206970016], 0.0, 'No Risk'], ['less_0', 7, 'all_credits_paid_back', 'car_new', 250, 'less_100', '1_to_4', 2, 'female', 'none', 1, 'real_estate', 25, 'stores', 'own', 2, 'skilled', 1, 'none', 'yes', 1.0, 3.0, 0.0, 0.0, 0.0, 0.0, 1.0, 0.0, 0.0, 0.0, 2.0, 1.0, 0.0, [1.0, 3.0, 0.0, 0.0, 0.0, 1.0, 0.0, 2.0, 1.0, 0.0, 0.0, 0.0, 0.0, 7.0, 250.0, 2.0, 1.0, 7.0, 25.0, 2.0, 1.0], [18.611854793222125, 1.388145206777878], [0.9305927396611061, 0.06940726033889388], 0.0, 'No Risk'], ['less_0', 10, 'all_credits_paid_back', 'car_new', 3867, 'less_100', 'less_1', 3, 'male', 'none', 3, 'car_other', 19, 'none', 'rent', 1, 'skilled', 1, 'none', 'yes', 1.0, 3.0, 3.0, 0.0, 0.0, 1.0, 0.0, 0.0, 0.0, 0.0, 1.0, 0.0, 0.0, [1.0, 3.0, 0.0, 0.0, 3.0, 0.0, 0.0, 1.0, 0.0, 1.0, 0.0, 0.0, 0.0, 10.0, 3867.0, 3.0, 3.0, 10.0, 19.0, 1.0, 1.0], [17.134168112908142, 2.86583188709186], [0.856708405645407, 0.14329159435459296], 0.0, 'No Risk'], ['0_to_200', 14, 'credits_paid_to_date', 'furniture', 6280, 'less_100', '1_to_4', 3, 'female', 'none', 2, 'car_other', 39, 'none', 'own', 2, 'skilled', 1, 'none', 'yes', 2.0, 1.0, 0.0, 0.0, 0.0, 0.0, 0.0, 0.0, 1.0, 0.0, 1.0, 1.0, 0.0, [2.0, 1.0, 1.0, 0.0, 0.0, 1.0, 0.0, 1.0, 0.0, 0.0, 0.0, 0.0, 0.0, 14.0, 6280.0, 3.0, 2.0, 14.0, 39.0, 2.0, 1.0], [15.29332003570013, 4.70667996429987], [0.7646660017850065, 0.23533399821499348], 0.0, 'No Risk'], ['0_to_200', 24, 'credits_paid_to_date', 'car_new', 2524, 'greater_1000', '1_to_4', 3, 'male', 'none', 3, 'savings_insurance', 39, 'none', 'own', 3, 'skilled', 2, 'none', 'yes', 2.0, 1.0, 0.0, 3.0, 0.0, 0.0, 0.0, 0.0, 0.0, 0.0, 0.0, 0.0, 0.0, [21, [0, 1, 3, 13, 14, 15, 16, 17, 18, 19, 20], [2.0, 1.0, 3.0, 24.0, 2524.0, 3.0, 3.0, 24.0, 39.0, 3.0, 2.0]], [13.070982312816447, 6.9290176871835545], [0.6535491156408224, 0.3464508843591777], 0.0, 'No Risk'], ['0_to_200', 10, 'credits_paid_to_date', 'car_new', 250, '100_to_500', 'unemployed', 2, 'female', 'none', 3, 'real_estate', 19, 'none', 'rent', 1, 'skilled', 1, 'none', 'yes', 2.0, 1.0, 4.0, 1.0, 0.0, 1.0, 0.0, 0.0, 0.0, 0.0, 2.0, 1.0, 0.0, [2.0, 1.0, 0.0, 1.0, 4.0, 1.0, 0.0, 2.0, 0.0, 1.0, 0.0, 0.0, 0.0, 10.0, 250.0, 2.0, 3.0, 10.0, 19.0, 1.0, 1.0], [19.314861542756677, 0.6851384572433207], [0.965743077137834, 0.03425692286216604], 0.0, 'No Risk'], ['no_checking', 33, 'outstanding_credit', 'furniture', 5132, 'greater_1000', '4_to_7', 5, 'male', 'none', 3, 'unknown', 48, 'none', 'free', 3, 'skilled', 2, 'yes', 'yes', 0.0, 2.0, 1.0, 3.0, 0.0, 2.0, 0.0, 0.0, 1.0, 0.0, 3.0, 0.0, 1.0, [0.0, 2.0, 1.0, 3.0, 1.0, 0.0, 0.0, 3.0, 0.0, 2.0, 0.0, 1.0, 0.0, 33.0, 5132.0, 5.0, 3.0, 33.0, 48.0, 3.0, 2.0], [3.992116403882091, 16.007883596117907], [0.19960582019410458, 0.8003941798058954], 1.0, 'Risk'], ['0_to_200', 15, 'prior_payments_delayed', 'radio_tv', 2125, 'less_100', 'less_1', 3, 'male', 'none', 2, 'real_estate', 20, 'none', 'own', 1, 'skilled', 1, 'yes', 'yes', 2.0, 0.0, 3.0, 0.0, 0.0, 0.0, 0.0, 0.0, 3.0, 0.0, 2.0, 0.0, 1.0, [2.0, 0.0, 3.0, 0.0, 3.0, 0.0, 0.0, 2.0, 0.0, 0.0, 0.0, 1.0, 0.0, 15.0, 2125.0, 3.0, 2.0, 15.0, 20.0, 1.0, 1.0], [18.84772207537603, 1.1522779246239696], [0.9423861037688015, 0.05761389623119848], 0.0, 'No Risk'], ['no_checking', 9, 'no_credits', 'appliances', 3437, '500_to_1000', 'less_1', 3, 'male', 'none', 3, 'savings_insurance', 19, 'none', 'own', 1, 'management_self-employed', 1, 'none', 'yes', 0.0, 4.0, 3.0, 2.0, 0.0, 0.0, 0.0, 2.0, 4.0, 0.0, 0.0, 0.0, 0.0, [0.0, 4.0, 4.0, 2.0, 3.0, 0.0, 0.0, 0.0, 0.0, 0.0, 2.0, 0.0, 0.0, 9.0, 3437.0, 3.0, 3.0, 9.0, 19.0, 1.0, 1.0], [16.795561681380793, 3.2044383186192116], [0.8397780840690395, 0.16022191593096055], 0.0, 'No Risk'], ['greater_200', 22, 'outstanding_credit', 'furniture', 5178, '100_to_500', '4_to_7', 3, 'male', 'none', 3, 'savings_insurance', 48, 'none', 'own', 2, 'management_self-employed', 1, 'yes', 'yes', 3.0, 2.0, 1.0, 1.0, 0.0, 0.0, 0.0, 2.0, 1.0, 0.0, 0.0, 0.0, 1.0, [3.0, 2.0, 1.0, 1.0, 1.0, 0.0, 0.0, 0.0, 0.0, 0.0, 2.0, 1.0, 0.0, 22.0, 5178.0, 3.0, 3.0, 22.0, 48.0, 2.0, 1.0], [12.01281181716441, 7.987188182835592], [0.6006405908582205, 0.3993594091417796], 0.0, 'No Risk'], ['less_0', 11, 'prior_payments_delayed', 'appliances', 3641, 'less_100', '1_to_4', 3, 'female', 'none', 1, 'savings_insurance', 25, 'none', 'own', 1, 'skilled', 1, 'none', 'yes', 1.0, 0.0, 0.0, 0.0, 0.0, 0.0, 0.0, 0.0, 4.0, 0.0, 0.0, 1.0, 0.0, [21, [0, 2, 5, 13, 14, 15, 16, 17, 18, 19, 20], [1.0, 4.0, 1.0, 11.0, 3641.0, 3.0, 1.0, 11.0, 25.0, 1.0, 1.0]], [17.937513797495043, 2.062486202504958], [0.8968756898747522, 0.10312431012524789], 0.0, 'No Risk'], ['greater_200', 20, 'credits_paid_to_date', 'car_new', 5761, 'greater_1000', '1_to_4', 4, 'male', 'none', 3, 'car_other', 47, 'none', 'own', 2, 'skilled', 1, 'none', 'yes', 3.0, 1.0, 0.0, 3.0, 0.0, 0.0, 0.0, 0.0, 0.0, 0.0, 1.0, 0.0, 0.0, [21, [0, 1, 3, 7, 13, 14, 15, 16, 17, 18, 19, 20], [3.0, 1.0, 3.0, 1.0, 20.0, 5761.0, 4.0, 3.0, 20.0, 47.0, 2.0, 1.0]], [12.679021297388296, 7.320978702611705], [0.6339510648694148, 0.36604893513058523], 0.0, 'No Risk'], ['less_0', 9, 'no_credits', 'radio_tv', 2566, 'less_100', 'unemployed', 2, 'female', 'none', 1, 'real_estate', 19, 'none', 'rent', 2, 'management_self-employed', 1, 'none', 'yes', 1.0, 4.0, 4.0, 0.0, 0.0, 1.0, 0.0, 2.0, 3.0, 0.0, 2.0, 1.0, 0.0, [1.0, 4.0, 3.0, 0.0, 4.0, 1.0, 0.0, 2.0, 0.0, 1.0, 2.0, 0.0, 0.0, 9.0, 2566.0, 2.0, 1.0, 9.0, 19.0, 2.0, 1.0], [19.238500468460888, 0.7614995315391072], [0.9619250234230445, 0.03807497657695537], 0.0, 'No Risk'], ['no_checking', 40, 'prior_payments_delayed', 'other', 5923, '500_to_1000', '1_to_4', 4, 'male', 'none', 4, 'car_other', 42, 'none', 'own', 1, 'skilled', 1, 'none', 'yes', 0.0, 0.0, 0.0, 2.0, 0.0, 0.0, 0.0, 0.0, 10.0, 0.0, 1.0, 0.0, 0.0, [21, [2, 3, 7, 13, 14, 15, 16, 17, 18, 19, 20], [10.0, 2.0, 1.0, 40.0, 5923.0, 4.0, 4.0, 40.0, 42.0, 1.0, 1.0]], [10.454426689048814, 9.545573310951186], [0.5227213344524407, 0.47727866554755927], 0.0, 'No Risk'], ['no_checking', 36, 'prior_payments_delayed', 'repairs', 6490, '500_to_1000', '1_to_4', 4, 'male', 'guarantor', 5, 'car_other', 49, 'none', 'free', 2, 'skilled', 1, 'yes', 'yes', 0.0, 0.0, 0.0, 2.0, 0.0, 2.0, 0.0, 0.0, 5.0, 2.0, 1.0, 0.0, 1.0, [0.0, 0.0, 5.0, 2.0, 0.0, 0.0, 2.0, 1.0, 0.0, 2.0, 0.0, 1.0, 0.0, 36.0, 6490.0, 4.0, 5.0, 36.0, 49.0, 2.0, 1.0], [6.220231222785944, 13.779768777214056], [0.31101156113929723, 0.6889884388607028], 1.0, 'Risk'], ['no_checking', 21, 'outstanding_credit', 'appliances', 5092, 'unknown', 'greater_7', 3, 'male', 'guarantor', 5, 'unknown', 67, 'bank', 'own', 2, 'unemployed', 2, 'yes', 'yes', 0.0, 2.0, 2.0, 4.0, 0.0, 0.0, 2.0, 3.0, 4.0, 2.0, 3.0, 0.0, 1.0, [0.0, 2.0, 4.0, 4.0, 2.0, 0.0, 2.0, 3.0, 2.0, 0.0, 3.0, 1.0, 0.0, 21.0, 5092.0, 3.0, 5.0, 21.0, 67.0, 2.0, 2.0], [7.207675864019014, 12.79232413598099], [0.3603837932009506, 0.6396162067990494], 1.0, 'Risk'], ['0_to_200', 31, 'outstanding_credit', 'appliances', 3724, '100_to_500', 'greater_7', 4, 'male', 'none', 4, 'savings_insurance', 37, 'none', 'own', 1, 'skilled', 1, 'none', 'yes', 2.0, 2.0, 2.0, 1.0, 0.0, 0.0, 0.0, 0.0, 4.0, 0.0, 0.0, 0.0, 0.0, [2.0, 2.0, 4.0, 1.0, 2.0, 0.0, 0.0, 0.0, 0.0, 0.0, 0.0, 0.0, 0.0, 31.0, 3724.0, 4.0, 4.0, 31.0, 37.0, 1.0, 1.0], [12.278461949999727, 7.721538050000269], [0.6139230974999864, 0.3860769025000135], 0.0, 'No Risk'], ['0_to_200', 18, 'credits_paid_to_date', 'furniture', 2543, 'less_100', 'less_1', 3, 'female', 'none', 1, 'savings_insurance', 31, 'none', 'own', 1, 'skilled', 1, 'none', 'yes', 2.0, 1.0, 3.0, 0.0, 0.0, 0.0, 0.0, 0.0, 1.0, 0.0, 0.0, 1.0, 0.0, [2.0, 1.0, 1.0, 0.0, 3.0, 1.0, 0.0, 0.0, 0.0, 0.0, 0.0, 0.0, 0.0, 18.0, 2543.0, 3.0, 1.0, 18.0, 31.0, 1.0, 1.0], [17.838223819957513, 2.1617761800424873], [0.8919111909978756, 0.10808880900212436], 0.0, 'No Risk'], ['0_to_200', 11, 'prior_payments_delayed', 'retraining', 1333, '500_to_1000', 'greater_7', 3, 'male', 'none', 3, 'car_other', 47, 'none', 'own', 2, 'skilled', 1, 'none', 'yes', 2.0, 0.0, 2.0, 2.0, 0.0, 0.0, 0.0, 0.0, 8.0, 0.0, 1.0, 0.0, 0.0, [2.0, 0.0, 8.0, 2.0, 2.0, 0.0, 0.0, 1.0, 0.0, 0.0, 0.0, 0.0, 0.0, 11.0, 1333.0, 3.0, 3.0, 11.0, 47.0, 2.0, 1.0], [12.165423637850342, 7.8345763621496545], [0.6082711818925172, 0.3917288181074828], 0.0, 'No Risk'], ['0_to_200', 4, 'prior_payments_delayed', 'car_new', 1178, '500_to_1000', '4_to_7', 3, 'male', 'none', 3, 'savings_insurance', 36, 'bank', 'rent', 1, 'unskilled', 1, 'none', 'yes', 2.0, 0.0, 1.0, 2.0, 0.0, 1.0, 2.0, 1.0, 0.0, 0.0, 0.0, 0.0, 0.0, [2.0, 0.0, 0.0, 2.0, 1.0, 0.0, 0.0, 0.0, 2.0, 1.0, 1.0, 0.0, 0.0, 4.0, 1178.0, 3.0, 3.0, 4.0, 36.0, 1.0, 1.0], [15.590223932227643, 4.409776067772359], [0.7795111966113821, 0.22048880338861795], 0.0, 'No Risk'], ['less_0', 23, 'prior_payments_delayed', 'business', 2459, 'less_100', '1_to_4', 3, 'female', 'none', 2, 'real_estate', 31, 'bank', 'own', 1, 'unskilled', 2, 'none', 'yes', 1.0, 0.0, 0.0, 0.0, 0.0, 0.0, 2.0, 1.0, 9.0, 0.0, 2.0, 1.0, 0.0, [1.0, 0.0, 9.0, 0.0, 0.0, 1.0, 0.0, 2.0, 2.0, 0.0, 1.0, 0.0, 0.0, 23.0, 2459.0, 3.0, 2.0, 23.0, 31.0, 1.0, 2.0], [17.835959909880238, 2.164040090119761], [0.8917979954940118, 0.10820200450598805], 0.0, 'No Risk'], ['no_checking', 30, 'prior_payments_delayed', 'appliances', 5016, 'greater_1000', 'less_1', 2, 'female', 'none', 4, 'unknown', 43, 'none', 'own', 2, 'skilled', 1, 'yes', 'yes', 0.0, 0.0, 3.0, 3.0, 0.0, 0.0, 0.0, 0.0, 4.0, 0.0, 3.0, 1.0, 1.0, [0.0, 0.0, 4.0, 3.0, 3.0, 1.0, 0.0, 3.0, 0.0, 0.0, 0.0, 1.0, 0.0, 30.0, 5016.0, 2.0, 4.0, 30.0, 43.0, 2.0, 1.0], [11.73114661283404, 8.268853387165958], [0.586557330641702, 0.4134426693582979], 0.0, 'No Risk'], ['0_to_200', 4, 'all_credits_paid_back', 'car_new', 250, 'less_100', '1_to_4', 1, 'male', 'none', 2, 'real_estate', 19, 'stores', 'rent', 1, 'skilled', 1, 'none', 'yes', 2.0, 3.0, 0.0, 0.0, 0.0, 1.0, 1.0, 0.0, 0.0, 0.0, 2.0, 0.0, 0.0, [2.0, 3.0, 0.0, 0.0, 0.0, 0.0, 0.0, 2.0, 1.0, 1.0, 0.0, 0.0, 0.0, 4.0, 250.0, 1.0, 2.0, 4.0, 19.0, 1.0, 1.0], [19.25404491962405, 0.7459550803759493], [0.9627022459812025, 0.037297754018797466], 0.0, 'No Risk'], ['no_checking', 8, 'all_credits_paid_back', 'car_used', 250, 'less_100', '1_to_4', 3, 'female', 'none', 2, 'real_estate', 19, 'stores', 'rent', 1, 'unskilled', 1, 'none', 'yes', 0.0, 3.0, 0.0, 0.0, 0.0, 1.0, 1.0, 1.0, 2.0, 0.0, 2.0, 1.0, 0.0, [0.0, 3.0, 2.0, 0.0, 0.0, 1.0, 0.0, 2.0, 1.0, 1.0, 1.0, 0.0, 0.0, 8.0, 250.0, 3.0, 2.0, 8.0, 19.0, 1.0, 1.0], [18.660186653738062, 1.3398133462619362], [0.9330093326869031, 0.0669906673130968], 0.0, 'No Risk'], ['less_0', 6, 'prior_payments_delayed', 'furniture', 250, '500_to_1000', '4_to_7', 3, 'male', 'none', 2, 'savings_insurance', 40, 'bank', 'own', 2, 'unemployed', 2, 'yes', 'yes', 1.0, 0.0, 1.0, 2.0, 0.0, 0.0, 2.0, 3.0, 1.0, 0.0, 0.0, 0.0, 1.0, [1.0, 0.0, 1.0, 2.0, 1.0, 0.0, 0.0, 0.0, 2.0, 0.0, 3.0, 1.0, 0.0, 6.0, 250.0, 3.0, 2.0, 6.0, 40.0, 2.0, 2.0], [15.847732875823588, 4.1522671241764115], [0.7923866437911794, 0.20761335620882057], 0.0, 'No Risk'], ['greater_200', 21, 'prior_payments_delayed', 'car_used', 4683, '100_to_500', '1_to_4', 3, 'female', 'none', 4, 'savings_insurance', 51, 'stores', 'own', 1, 'unskilled', 1, 'none', 'yes', 3.0, 0.0, 0.0, 1.0, 0.0, 0.0, 1.0, 1.0, 2.0, 0.0, 0.0, 1.0, 0.0, [3.0, 0.0, 2.0, 1.0, 0.0, 1.0, 0.0, 0.0, 1.0, 0.0, 1.0, 0.0, 0.0, 21.0, 4683.0, 3.0, 4.0, 21.0, 51.0, 1.0, 1.0], [12.988166369764246, 7.011833630235755], [0.6494083184882122, 0.35059168151178777], 0.0, 'No Risk'], ['0_to_200', 11, 'prior_payments_delayed', 'furniture', 3637, 'greater_1000', '1_to_4', 2, 'female', 'co-applicant', 2, 'car_other', 30, 'stores', 'own', 1, 'unskilled', 1, 'none', 'yes', 2.0, 0.0, 0.0, 3.0, 0.0, 0.0, 1.0, 1.0, 1.0, 1.0, 1.0, 1.0, 0.0, [2.0, 0.0, 1.0, 3.0, 0.0, 1.0, 1.0, 1.0, 1.0, 0.0, 1.0, 0.0, 0.0, 11.0, 3637.0, 2.0, 2.0, 11.0, 30.0, 1.0, 1.0], [16.271776852629504, 3.7282231473704974], [0.8135888426314752, 0.18641115736852487], 0.0, 'No Risk'], ['greater_200', 21, 'outstanding_credit', 'appliances', 6156, '500_to_1000', 'greater_7', 5, 'male', 'none', 4, 'car_other', 42, 'none', 'own', 1, 'management_self-employed', 1, 'none', 'yes', 3.0, 2.0, 2.0, 2.0, 0.0, 0.0, 0.0, 2.0, 4.0, 0.0, 1.0, 0.0, 0.0, [3.0, 2.0, 4.0, 2.0, 2.0, 0.0, 0.0, 1.0, 0.0, 0.0, 2.0, 0.0, 0.0, 21.0, 6156.0, 5.0, 4.0, 21.0, 42.0, 1.0, 1.0], [11.206198378217879, 8.793801621782121], [0.560309918910894, 0.43969008108910607], 0.0, 'No Risk'], ['0_to_200', 5, 'no_credits', 'car_new', 250, 'less_100', '1_to_4', 2, 'male', 'none', 1, 'real_estate', 19, 'bank', 'rent', 1, 'unemployed', 1, 'none', 'yes', 2.0, 4.0, 0.0, 0.0, 0.0, 1.0, 2.0, 3.0, 0.0, 0.0, 2.0, 0.0, 0.0, [2.0, 4.0, 0.0, 0.0, 0.0, 0.0, 0.0, 2.0, 2.0, 1.0, 3.0, 0.0, 0.0, 5.0, 250.0, 2.0, 1.0, 5.0, 19.0, 1.0, 1.0], [19.256845540852762, 0.7431544591472404], [0.9628422770426379, 0.03715772295736201], 0.0, 'No Risk'], ['0_to_200', 5, 'all_credits_paid_back', 'car_new', 677, 'less_100', 'less_1', 2, 'female', 'none', 3, 'real_estate', 34, 'none', 'own', 1, 'management_self-employed', 1, 'none', 'yes', 2.0, 3.0, 3.0, 0.0, 0.0, 0.0, 0.0, 2.0, 0.0, 0.0, 2.0, 1.0, 0.0, [2.0, 3.0, 0.0, 0.0, 3.0, 1.0, 0.0, 2.0, 0.0, 0.0, 2.0, 0.0, 0.0, 5.0, 677.0, 2.0, 3.0, 5.0, 34.0, 1.0, 1.0], [19.25517731474025, 0.7448226852597437], [0.9627588657370127, 0.03724113426298719], 0.0, 'No Risk'], ['no_checking', 23, 'outstanding_credit', 'appliances', 2198, '500_to_1000', 'greater_7', 4, 'male', 'none', 4, 'savings_insurance', 34, 'stores', 'rent', 1, 'unskilled', 1, 'none', 'yes', 0.0, 2.0, 2.0, 2.0, 0.0, 1.0, 1.0, 1.0, 4.0, 0.0, 0.0, 0.0, 0.0, [0.0, 2.0, 4.0, 2.0, 2.0, 0.0, 0.0, 0.0, 1.0, 1.0, 1.0, 0.0, 0.0, 23.0, 2198.0, 4.0, 4.0, 23.0, 34.0, 1.0, 1.0], [12.509866029189002, 7.490133970810996], [0.6254933014594501, 0.3745066985405498], 0.0, 'No Risk'], ['no_checking', 31, 'prior_payments_delayed', 'appliances', 6237, '500_to_1000', '4_to_7', 3, 'male', 'none', 4, 'unknown', 53, 'none', 'own', 2, 'skilled', 1, 'yes', 'yes', 0.0, 0.0, 1.0, 2.0, 0.0, 0.0, 0.0, 0.0, 4.0, 0.0, 3.0, 0.0, 1.0, [0.0, 0.0, 4.0, 2.0, 1.0, 0.0, 0.0, 3.0, 0.0, 0.0, 0.0, 1.0, 0.0, 31.0, 6237.0, 3.0, 4.0, 31.0, 53.0, 2.0, 1.0], [5.88135703962904, 14.118642960370961], [0.294067851981452, 0.7059321480185481], 1.0, 'Risk'], ['no_checking', 36, 'outstanding_credit', 'furniture', 6133, 'unknown', 'greater_7', 5, 'female', 'co-applicant', 4, 'savings_insurance', 54, 'none', 'own', 3, 'management_self-employed', 2, 'yes', 'yes', 0.0, 2.0, 2.0, 4.0, 0.0, 0.0, 0.0, 2.0, 1.0, 1.0, 0.0, 1.0, 1.0, [0.0, 2.0, 1.0, 4.0, 2.0, 1.0, 1.0, 0.0, 0.0, 0.0, 2.0, 1.0, 0.0, 36.0, 6133.0, 5.0, 4.0, 36.0, 54.0, 3.0, 2.0], [4.328365473797272, 15.671634526202729], [0.2164182736898636, 0.7835817263101365], 1.0, 'Risk'], ['greater_200', 12, 'credits_paid_to_date', 'car_used', 5810, 'less_100', '1_to_4', 3, 'male', 'none', 3, 'savings_insurance', 29, 'none', 'own', 2, 'management_self-employed', 1, 'yes', 'yes', 3.0, 1.0, 0.0, 0.0, 0.0, 0.0, 0.0, 2.0, 2.0, 0.0, 0.0, 0.0, 1.0, [3.0, 1.0, 2.0, 0.0, 0.0, 0.0, 0.0, 0.0, 0.0, 0.0, 2.0, 1.0, 0.0, 12.0, 5810.0, 3.0, 3.0, 12.0, 29.0, 2.0, 1.0], [14.94709103442532, 5.052908965574681], [0.747354551721266, 0.25264544827873403], 0.0, 'No Risk'], ['less_0', 22, 'prior_payments_delayed', 'furniture', 1774, 'less_100', '1_to_4', 3, 'male', 'none', 3, 'savings_insurance', 26, 'none', 'own', 1, 'skilled', 1, 'none', 'yes', 1.0, 0.0, 0.0, 0.0, 0.0, 0.0, 0.0, 0.0, 1.0, 0.0, 0.0, 0.0, 0.0, [21, [0, 2, 13, 14, 15, 16, 17, 18, 19, 20], [1.0, 1.0, 22.0, 1774.0, 3.0, 3.0, 22.0, 26.0, 1.0, 1.0]], [15.230030313701347, 4.769969686298652], [0.7615015156850673, 0.23849848431493262], 0.0, 'No Risk'], ['less_0', 20, 'credits_paid_to_date', 'car_used', 393, 'less_100', '4_to_7', 1, 'female', 'none', 1, 'savings_insurance', 31, 'stores', 'own', 1, 'unskilled', 1, 'none', 'yes', 1.0, 1.0, 1.0, 0.0, 0.0, 0.0, 1.0, 1.0, 2.0, 0.0, 0.0, 1.0, 0.0, [1.0, 1.0, 2.0, 0.0, 1.0, 1.0, 0.0, 0.0, 1.0, 0.0, 1.0, 0.0, 0.0, 20.0, 393.0, 1.0, 1.0, 20.0, 31.0, 1.0, 1.0], [17.175682889987474, 2.824317110012524], [0.8587841444993737, 0.1412158555006262], 0.0, 'No Risk'], ['no_checking', 26, 'outstanding_credit', 'appliances', 6273, '500_to_1000', '1_to_4', 4, 'male', 'none', 5, 'unknown', 49, 'none', 'own', 3, 'management_self-employed', 2, 'yes', 'no', 0.0, 2.0, 0.0, 2.0, 1.0, 0.0, 0.0, 2.0, 4.0, 0.0, 3.0, 0.0, 1.0, [0.0, 2.0, 4.0, 2.0, 0.0, 0.0, 0.0, 3.0, 0.0, 0.0, 2.0, 1.0, 1.0, 26.0, 6273.0, 4.0, 5.0, 26.0, 49.0, 3.0, 2.0], [10.675614886010024, 9.324385113989976], [0.5337807443005012, 0.4662192556994988], 0.0, 'No Risk'], ['no_checking', 27, 'prior_payments_delayed', 'appliances', 4878, 'unknown', '4_to_7', 3, 'male', 'none', 4, 'car_other', 40, 'bank', 'own', 2, 'unskilled', 1, 'none', 'yes', 0.0, 0.0, 1.0, 4.0, 0.0, 0.0, 2.0, 1.0, 4.0, 0.0, 1.0, 0.0, 0.0, [0.0, 0.0, 4.0, 4.0, 1.0, 0.0, 0.0, 1.0, 2.0, 0.0, 1.0, 0.0, 0.0, 27.0, 4878.0, 3.0, 4.0, 27.0, 40.0, 2.0, 1.0], [11.067529228041964, 8.932470771958036], [0.5533764614020982, 0.44662353859790177], 0.0, 'No Risk'], ['greater_200', 40, 'prior_payments_delayed', 'furniture', 5082, 'unknown', '4_to_7', 4, 'male', 'guarantor', 4, 'car_other', 57, 'none', 'free', 3, 'skilled', 1, 'yes', 'yes', 3.0, 0.0, 1.0, 4.0, 0.0, 2.0, 0.0, 0.0, 1.0, 2.0, 1.0, 0.0, 1.0, [3.0, 0.0, 1.0, 4.0, 1.0, 0.0, 2.0, 1.0, 0.0, 2.0, 0.0, 1.0, 0.0, 40.0, 5082.0, 4.0, 4.0, 40.0, 57.0, 3.0, 1.0], [5.814168303905243, 14.185831696094759], [0.29070841519526214, 0.709291584804738], 1.0, 'Risk'], ['0_to_200', 12, 'credits_paid_to_date', 'car_new', 2472, 'less_100', 'less_1', 2, 'female', 'none', 2, 'real_estate', 19, 'none', 'own', 1, 'skilled', 1, 'none', 'yes', 2.0, 1.0, 3.0, 0.0, 0.0, 0.0, 0.0, 0.0, 0.0, 0.0, 2.0, 1.0, 0.0, [2.0, 1.0, 0.0, 0.0, 3.0, 1.0, 0.0, 2.0, 0.0, 0.0, 0.0, 0.0, 0.0, 12.0, 2472.0, 2.0, 2.0, 12.0, 19.0, 1.0, 1.0], [19.394297203063967, 0.6057027969360288], [0.9697148601531985, 0.030285139846801444], 0.0, 'No Risk'], ['less_0', 13, 'all_credits_paid_back', 'appliances', 400, 'less_100', 'less_1', 2, 'female', 'none', 1, 'savings_insurance', 24, 'none', 'own', 1, 'skilled', 1, 'yes', 'yes', 1.0, 3.0, 3.0, 0.0, 0.0, 0.0, 0.0, 0.0, 4.0, 0.0, 0.0, 1.0, 1.0, [1.0, 3.0, 4.0, 0.0, 3.0, 1.0, 0.0, 0.0, 0.0, 0.0, 0.0, 1.0, 0.0, 13.0, 400.0, 2.0, 1.0, 13.0, 24.0, 1.0, 1.0], [18.899321424422872, 1.100678575577123], [0.9449660712211438, 0.055033928778856156], 0.0, 'No Risk'], ['less_0', 13, 'all_credits_paid_back', 'car_used', 250, '500_to_1000', '1_to_4', 2, 'male', 'none', 3, 'real_estate', 21, 'stores', 'rent', 1, 'unskilled', 1, 'none', 'yes', 1.0, 3.0, 0.0, 2.0, 0.0, 1.0, 1.0, 1.0, 2.0, 0.0, 2.0, 0.0, 0.0, [1.0, 3.0, 2.0, 2.0, 0.0, 0.0, 0.0, 2.0, 1.0, 1.0, 1.0, 0.0, 0.0, 13.0, 250.0, 2.0, 3.0, 13.0, 21.0, 1.0, 1.0], [18.780655718797345, 1.2193442812026574], [0.939032785939867, 0.060967214060132856], 0.0, 'No Risk'], ['0_to_200', 23, 'credits_paid_to_date', 'radio_tv', 3783, 'less_100', '1_to_4', 3, 'male', 'none', 3, 'real_estate', 25, 'none', 'own', 1, 'skilled', 2, 'none', 'yes', 2.0, 1.0, 0.0, 0.0, 0.0, 0.0, 0.0, 0.0, 3.0, 0.0, 2.0, 0.0, 0.0, [21, [0, 1, 2, 7, 13, 14, 15, 16, 17, 18, 19, 20], [2.0, 1.0, 3.0, 2.0, 23.0, 3783.0, 3.0, 3.0, 23.0, 25.0, 1.0, 2.0]], [16.879183096039235, 3.1208169039607627], [0.8439591548019619, 0.15604084519803815], 0.0, 'No Risk'], ['greater_200', 11, 'prior_payments_delayed', 'appliances', 1167, '100_to_500', 'greater_7', 2, 'male', 'none', 3, 'savings_insurance', 25, 'none', 'own', 1, 'skilled', 1, 'none', 'yes', 3.0, 0.0, 2.0, 1.0, 0.0, 0.0, 0.0, 0.0, 4.0, 0.0, 0.0, 0.0, 0.0, [21, [0, 2, 3, 4, 13, 14, 15, 16, 17, 18, 19, 20], [3.0, 4.0, 1.0, 2.0, 11.0, 1167.0, 2.0, 3.0, 11.0, 25.0, 1.0, 1.0]], [16.214260251800532, 3.785739748199471], [0.8107130125900265, 0.18928698740997352], 0.0, 'No Risk'], ['no_checking', 31, 'prior_payments_delayed', 'furniture', 5181, 'greater_1000', '1_to_4', 4, 'male', 'none', 3, 'car_other', 51, 'none', 'own', 2, 'skilled', 1, 'none', 'yes', 0.0, 0.0, 0.0, 3.0, 0.0, 0.0, 0.0, 0.0, 1.0, 0.0, 1.0, 0.0, 0.0, [21, [2, 3, 7, 13, 14, 15, 16, 17, 18, 19, 20], [1.0, 3.0, 1.0, 31.0, 5181.0, 4.0, 3.0, 31.0, 51.0, 2.0, 1.0]], [9.36500758427121, 10.634992415728789], [0.4682503792135605, 0.5317496207864394], 1.0, 'Risk'], ['0_to_200', 29, 'all_credits_paid_back', 'furniture', 1683, 'less_100', 'less_1', 3, 'female', 'none', 1, 'savings_insurance', 26, 'none', 'own', 1, 'skilled', 1, 'none', 'yes', 2.0, 3.0, 3.0, 0.0, 0.0, 0.0, 0.0, 0.0, 1.0, 0.0, 0.0, 1.0, 0.0, [2.0, 3.0, 1.0, 0.0, 3.0, 1.0, 0.0, 0.0, 0.0, 0.0, 0.0, 0.0, 0.0, 29.0, 1683.0, 3.0, 1.0, 29.0, 26.0, 1.0, 1.0], [16.263782303450462, 3.736217696549539], [0.8131891151725231, 0.18681088482747693], 0.0, 'No Risk'], ['no_checking', 25, 'all_credits_paid_back', 'repairs', 5989, 'greater_1000', '4_to_7', 3, 'male', 'none', 2, 'car_other', 47, 'none', 'own', 2, 'skilled', 1, 'yes', 'yes', 0.0, 3.0, 1.0, 3.0, 0.0, 0.0, 0.0, 0.0, 5.0, 0.0, 1.0, 0.0, 1.0, [0.0, 3.0, 5.0, 3.0, 1.0, 0.0, 0.0, 1.0, 0.0, 0.0, 0.0, 1.0, 0.0, 25.0, 5989.0, 3.0, 2.0, 25.0, 47.0, 2.0, 1.0], [8.54133688494402, 11.45866311505598], [0.427066844247201, 0.572933155752799], 1.0, 'Risk'], ['0_to_200', 4, 'all_credits_paid_back', 'car_new', 1702, 'less_100', '1_to_4', 2, 'female', 'none', 1, 'savings_insurance', 26, 'none', 'rent', 1, 'skilled', 1, 'none', 'yes', 2.0, 3.0, 0.0, 0.0, 0.0, 1.0, 0.0, 0.0, 0.0, 0.0, 0.0, 1.0, 0.0, [21, [0, 1, 5, 9, 13, 14, 15, 16, 17, 18, 19, 20], [2.0, 3.0, 1.0, 1.0, 4.0, 1702.0, 2.0, 1.0, 4.0, 26.0, 1.0, 1.0]], [18.49171573027524, 1.508284269724762], [0.9245857865137619, 0.0754142134862381], 0.0, 'No Risk'], ['no_checking', 36, 'prior_payments_delayed', 'other', 7450, '100_to_500', '4_to_7', 5, 'male', 'co-applicant', 4, 'unknown', 47, 'none', 'free', 3, 'skilled', 1, 'yes', 'no', 0.0, 0.0, 1.0, 1.0, 1.0, 2.0, 0.0, 0.0, 10.0, 1.0, 3.0, 0.0, 1.0, [0.0, 0.0, 10.0, 1.0, 1.0, 0.0, 1.0, 3.0, 0.0, 2.0, 0.0, 1.0, 1.0, 36.0, 7450.0, 5.0, 4.0, 36.0, 47.0, 3.0, 1.0], [2.1386272576538863, 17.861372742346113], [0.10693136288269431, 0.8930686371173057], 1.0, 'Risk'], ['0_to_200', 17, 'credits_paid_to_date', 'car_new', 2509, 'less_100', '1_to_4', 3, 'male', 'none', 2, 'savings_insurance', 29, 'none', 'own', 1, 'skilled', 1, 'none', 'yes', 2.0, 1.0, 0.0, 0.0, 0.0, 0.0, 0.0, 0.0, 0.0, 0.0, 0.0, 0.0, 0.0, [21, [0, 1, 13, 14, 15, 16, 17, 18, 19, 20], [2.0, 1.0, 17.0, 2509.0, 3.0, 2.0, 17.0, 29.0, 1.0, 1.0]], [17.666012030111048, 2.333987969888952], [0.8833006015055525, 0.11669939849444759], 0.0, 'No Risk'], ['no_checking', 33, 'outstanding_credit', 'appliances', 7204, '500_to_1000', '4_to_7', 4, 'male', 'co-applicant', 5, 'car_other', 54, 'none', 'free', 2, 'management_self-employed', 2, 'yes', 'yes', 0.0, 2.0, 1.0, 2.0, 0.0, 2.0, 0.0, 2.0, 4.0, 1.0, 1.0, 0.0, 1.0, [0.0, 2.0, 4.0, 2.0, 1.0, 0.0, 1.0, 1.0, 0.0, 2.0, 2.0, 1.0, 0.0, 33.0, 7204.0, 4.0, 5.0, 33.0, 54.0, 2.0, 2.0], [3.069923152997692, 16.930076847002304], [0.15349615764988464, 0.8465038423501153], 1.0, 'Risk'], ['no_checking', 28, 'prior_payments_delayed', 'car_used', 6223, '100_to_500', 'greater_7', 3, 'male', 'co-applicant', 4, 'unknown', 45, 'none', 'free', 2, 'skilled', 1, 'none', 'yes', 0.0, 0.0, 2.0, 1.0, 0.0, 2.0, 0.0, 0.0, 2.0, 1.0, 3.0, 0.0, 0.0, [0.0, 0.0, 2.0, 1.0, 2.0, 0.0, 1.0, 3.0, 0.0, 2.0, 0.0, 0.0, 0.0, 28.0, 6223.0, 3.0, 4.0, 28.0, 45.0, 2.0, 1.0], [4.130620921462644, 15.869379078537355], [0.20653104607313222, 0.7934689539268678], 1.0, 'Risk'], ['0_to_200', 12, 'credits_paid_to_date', 'car_used', 250, '500_to_1000', 'less_1', 1, 'female', 'none', 2, 'savings_insurance', 31, 'bank', 'rent', 1, 'unemployed', 1, 'none', 'yes', 2.0, 1.0, 3.0, 2.0, 0.0, 1.0, 2.0, 3.0, 2.0, 0.0, 0.0, 1.0, 0.0, [2.0, 1.0, 2.0, 2.0, 3.0, 1.0, 0.0, 0.0, 2.0, 1.0, 3.0, 0.0, 0.0, 12.0, 250.0, 1.0, 2.0, 12.0, 31.0, 1.0, 1.0], [18.92734068860249, 1.0726593113975027], [0.9463670344301249, 0.05363296556987515], 0.0, 'No Risk'], ['no_checking', 10, 'prior_payments_delayed', 'car_new', 3631, '500_to_1000', 'greater_7', 4, 'male', 'none', 4, 'savings_insurance', 48, 'none', 'own', 2, 'skilled', 2, 'yes', 'yes', 0.0, 0.0, 2.0, 2.0, 0.0, 0.0, 0.0, 0.0, 0.0, 0.0, 0.0, 0.0, 1.0, [21, [3, 4, 11, 13, 14, 15, 16, 17, 18, 19, 20], [2.0, 2.0, 1.0, 10.0, 3631.0, 4.0, 4.0, 10.0, 48.0, 2.0, 2.0]], [9.845207198343468, 10.15479280165653], [0.49226035991717343, 0.5077396400828265], 1.0, 'Risk'], ['0_to_200', 4, 'all_credits_paid_back', 'radio_tv', 1477, '100_to_500', 'less_1', 1, 'female', 'none', 2, 'real_estate', 39, 'none', 'own', 1, 'skilled', 1, 'none', 'yes', 2.0, 3.0, 3.0, 1.0, 0.0, 0.0, 0.0, 0.0, 3.0, 0.0, 2.0, 1.0, 0.0, [2.0, 3.0, 3.0, 1.0, 3.0, 1.0, 0.0, 2.0, 0.0, 0.0, 0.0, 0.0, 0.0, 4.0, 1477.0, 1.0, 2.0, 4.0, 39.0, 1.0, 1.0], [18.58645347217447, 1.4135465278255288], [0.9293226736087236, 0.07067732639127645], 0.0, 'No Risk'], ['no_checking', 26, 'outstanding_credit', 'furniture', 5249, '500_to_1000', '4_to_7', 4, 'male', 'none', 5, 'unknown', 46, 'none', 'own', 1, 'skilled', 1, 'yes', 'yes', 0.0, 2.0, 1.0, 2.0, 0.0, 0.0, 0.0, 0.0, 1.0, 0.0, 3.0, 0.0, 1.0, [0.0, 2.0, 1.0, 2.0, 1.0, 0.0, 0.0, 3.0, 0.0, 0.0, 0.0, 1.0, 0.0, 26.0, 5249.0, 4.0, 5.0, 26.0, 46.0, 1.0, 1.0], [7.454231861222386, 12.545768138777616], [0.3727115930611193, 0.6272884069388808], 1.0, 'Risk'], ['no_checking', 42, 'outstanding_credit', 'repairs', 6938, 'greater_1000', 'greater_7', 4, 'male', 'co-applicant', 5, 'unknown', 50, 'bank', 'own', 2, 'unemployed', 2, 'yes', 'yes', 0.0, 2.0, 2.0, 3.0, 0.0, 0.0, 2.0, 3.0, 5.0, 1.0, 3.0, 0.0, 1.0, [0.0, 2.0, 5.0, 3.0, 2.0, 0.0, 1.0, 3.0, 2.0, 0.0, 3.0, 1.0, 0.0, 42.0, 6938.0, 4.0, 5.0, 42.0, 50.0, 2.0, 2.0], [4.2163799515109845, 15.783620048489016], [0.21081899757554923, 0.7891810024244508], 1.0, 'Risk'], ['greater_200', 27, 'outstanding_credit', 'appliances', 3891, '500_to_1000', 'greater_7', 3, 'male', 'none', 4, 'unknown', 38, 'bank', 'rent', 2, 'unskilled', 1, 'none', 'yes', 3.0, 2.0, 2.0, 2.0, 0.0, 1.0, 2.0, 1.0, 4.0, 0.0, 3.0, 0.0, 0.0, [3.0, 2.0, 4.0, 2.0, 2.0, 0.0, 0.0, 3.0, 2.0, 1.0, 1.0, 0.0, 0.0, 27.0, 3891.0, 3.0, 4.0, 27.0, 38.0, 2.0, 1.0], [11.443469945776668, 8.55653005422333], [0.5721734972888334, 0.4278265027111665], 0.0, 'No Risk'], ['greater_200', 27, 'credits_paid_to_date', 'radio_tv', 4699, '100_to_500', '4_to_7', 4, 'male', 'none', 4, 'car_other', 35, 'none', 'own', 2, 'management_self-employed', 2, 'yes', 'yes', 3.0, 1.0, 1.0, 1.0, 0.0, 0.0, 0.0, 2.0, 3.0, 0.0, 1.0, 0.0, 1.0, [3.0, 1.0, 3.0, 1.0, 1.0, 0.0, 0.0, 1.0, 0.0, 0.0, 2.0, 1.0, 0.0, 27.0, 4699.0, 4.0, 4.0, 27.0, 35.0, 2.0, 2.0], [10.225617471981508, 9.774382528018492], [0.5112808735990754, 0.48871912640092463], 0.0, 'No Risk'], ['no_checking', 40, 'prior_payments_delayed', 'other', 5427, 'unknown', '4_to_7', 4, 'male', 'none', 4, 'car_other', 35, 'none', 'own', 2, 'skilled', 1, 'yes', 'yes', 0.0, 0.0, 1.0, 4.0, 0.0, 0.0, 0.0, 0.0, 10.0, 0.0, 1.0, 0.0, 1.0, [0.0, 0.0, 10.0, 4.0, 1.0, 0.0, 0.0, 1.0, 0.0, 0.0, 0.0, 1.0, 0.0, 40.0, 5427.0, 4.0, 4.0, 40.0, 35.0, 2.0, 1.0], [9.055111713849858, 10.944888286150142], [0.45275558569249286, 0.5472444143075071], 1.0, 'Risk'], ['less_0', 19, 'prior_payments_delayed', 'radio_tv', 2282, 'less_100', 'less_1', 3, 'male', 'none', 3, 'car_other', 40, 'none', 'own', 1, 'skilled', 2, 'yes', 'yes', 1.0, 0.0, 3.0, 0.0, 0.0, 0.0, 0.0, 0.0, 3.0, 0.0, 1.0, 0.0, 1.0, [1.0, 0.0, 3.0, 0.0, 3.0, 0.0, 0.0, 1.0, 0.0, 0.0, 0.0, 1.0, 0.0, 19.0, 2282.0, 3.0, 3.0, 19.0, 40.0, 1.0, 2.0], [15.731837549773623, 4.268162450226377], [0.7865918774886811, 0.21340812251131885], 0.0, 'No Risk'], ['less_0', 30, 'outstanding_credit', 'appliances', 4144, 'greater_1000', '4_to_7', 2, 'male', 'none', 3, 'unknown', 32, 'stores', 'own', 2, 'unskilled', 2, 'yes', 'yes', 1.0, 2.0, 1.0, 3.0, 0.0, 0.0, 1.0, 1.0, 4.0, 0.0, 3.0, 0.0, 1.0, [1.0, 2.0, 4.0, 3.0, 1.0, 0.0, 0.0, 3.0, 1.0, 0.0, 1.0, 1.0, 0.0, 30.0, 4144.0, 2.0, 3.0, 30.0, 32.0, 2.0, 2.0], [10.050156114709905, 9.949843885290095], [0.5025078057354952, 0.49749219426450475], 0.0, 'No Risk'], ['0_to_200', 32, 'credits_paid_to_date', 'car_used', 2478, '100_to_500', '1_to_4', 3, 'female', 'none', 2, 'car_other', 36, 'bank', 'own', 1, 'unemployed', 2, 'yes', 'yes', 2.0, 1.0, 0.0, 1.0, 0.0, 0.0, 2.0, 3.0, 2.0, 0.0, 1.0, 1.0, 1.0, [2.0, 1.0, 2.0, 1.0, 0.0, 1.0, 0.0, 1.0, 2.0, 0.0, 3.0, 1.0, 0.0, 32.0, 2478.0, 3.0, 2.0, 32.0, 36.0, 1.0, 2.0], [15.448447380745602, 4.551552619254397], [0.7724223690372801, 0.22757763096271985], 0.0, 'No Risk'], ['no_checking', 27, 'prior_payments_delayed', 'car_used', 5364, '100_to_500', '1_to_4', 4, 'male', 'none', 4, 'car_other', 30, 'none', 'own', 1, 'management_self-employed', 1, 'none', 'yes', 0.0, 0.0, 0.0, 1.0, 0.0, 0.0, 0.0, 2.0, 2.0, 0.0, 1.0, 0.0, 0.0, [21, [2, 3, 7, 10, 13, 14, 15, 16, 17, 18, 19, 20], [2.0, 1.0, 1.0, 2.0, 27.0, 5364.0, 4.0, 4.0, 27.0, 30.0, 1.0, 1.0]], [11.887588302400536, 8.112411697599462], [0.5943794151200268, 0.4056205848799731], 0.0, 'No Risk'], ['no_checking', 26, 'prior_payments_delayed', 'car_used', 4273, 'greater_1000', '4_to_7', 4, 'male', 'guarantor', 4, 'savings_insurance', 54, 'none', 'own', 1, 'skilled', 1, 'yes', 'yes', 0.0, 0.0, 1.0, 3.0, 0.0, 0.0, 0.0, 0.0, 2.0, 2.0, 0.0, 0.0, 1.0, [0.0, 0.0, 2.0, 3.0, 1.0, 0.0, 2.0, 0.0, 0.0, 0.0, 0.0, 1.0, 0.0, 26.0, 4273.0, 4.0, 4.0, 26.0, 54.0, 1.0, 1.0], [9.176633395866446, 10.823366604133554], [0.4588316697933223, 0.5411683302066777], 1.0, 'Risk'], ['0_to_200', 21, 'credits_paid_to_date', 'car_used', 250, 'less_100', 'unemployed', 2, 'female', 'none', 3, 'savings_insurance', 19, 'bank', 'rent', 1, 'unemployed', 1, 'none', 'yes', 2.0, 1.0, 4.0, 0.0, 0.0, 1.0, 2.0, 3.0, 2.0, 0.0, 0.0, 1.0, 0.0, [2.0, 1.0, 2.0, 0.0, 4.0, 1.0, 0.0, 0.0, 2.0, 1.0, 3.0, 0.0, 0.0, 21.0, 250.0, 2.0, 3.0, 21.0, 19.0, 1.0, 1.0], [17.571145183938164, 2.428854816061835], [0.8785572591969082, 0.12144274080309174], 0.0, 'No Risk'], ['no_checking', 46, 'outstanding_credit', 'education', 10817, 'greater_1000', '4_to_7', 4, 'male', 'co-applicant', 3, 'unknown', 56, 'none', 'free', 3, 'skilled', 2, 'yes', 'yes', 0.0, 2.0, 1.0, 3.0, 0.0, 2.0, 0.0, 0.0, 7.0, 1.0, 3.0, 0.0, 1.0, [0.0, 2.0, 7.0, 3.0, 1.0, 0.0, 1.0, 3.0, 0.0, 2.0, 0.0, 1.0, 0.0, 46.0, 10817.0, 4.0, 3.0, 46.0, 56.0, 3.0, 2.0], [2.4500028209249196, 17.549997179075078], [0.122500141046246, 0.877499858953754], 1.0, 'Risk'], ['less_0', 10, 'prior_payments_delayed', 'furniture', 1447, '500_to_1000', '4_to_7', 3, 'male', 'none', 2, 'savings_insurance', 30, 'none', 'own', 1, 'skilled', 1, 'none', 'yes', 1.0, 0.0, 1.0, 2.0, 0.0, 0.0, 0.0, 0.0, 1.0, 0.0, 0.0, 0.0, 0.0, [21, [0, 2, 3, 4, 13, 14, 15, 16, 17, 18, 19, 20], [1.0, 1.0, 2.0, 1.0, 10.0, 1447.0, 3.0, 2.0, 10.0, 30.0, 1.0, 1.0]], [17.584817763944514, 2.4151822360554878], [0.8792408881972257, 0.12075911180277439], 0.0, 'No Risk'], ['0_to_200', 18, 'prior_payments_delayed', 'furniture', 3649, '100_to_500', 'less_1', 2, 'male', 'none', 3, 'car_other', 32, 'none', 'own', 2, 'skilled', 1, 'yes', 'yes', 2.0, 0.0, 3.0, 1.0, 0.0, 0.0, 0.0, 0.0, 1.0, 0.0, 1.0, 0.0, 1.0, [2.0, 0.0, 1.0, 1.0, 3.0, 0.0, 0.0, 1.0, 0.0, 0.0, 0.0, 1.0, 0.0, 18.0, 3649.0, 2.0, 3.0, 18.0, 32.0, 2.0, 1.0], [16.260352774510338, 3.7396472254896644], [0.8130176387255167, 0.1869823612744832], 0.0, 'No Risk'], ['0_to_200', 23, 'all_credits_paid_back', 'radio_tv', 2575, 'less_100', '1_to_4', 2, 'male', 'none', 2, 'real_estate', 27, 'none', 'own', 1, 'skilled', 1, 'none', 'yes', 2.0, 3.0, 0.0, 0.0, 0.0, 0.0, 0.0, 0.0, 3.0, 0.0, 2.0, 0.0, 0.0, [21, [0, 1, 2, 7, 13, 14, 15, 16, 17, 18, 19, 20], [2.0, 3.0, 3.0, 2.0, 23.0, 2575.0, 2.0, 2.0, 23.0, 27.0, 1.0, 1.0]], [17.54243974893814, 2.4575602510618584], [0.877121987446907, 0.12287801255309291], 0.0, 'No Risk'], ['no_checking', 17, 'credits_paid_to_date', 'appliances', 5723, 'less_100', '1_to_4', 4, 'female', 'none', 2, 'car_other', 45, 'none', 'own', 2, 'skilled', 2, 'yes', 'no', 0.0, 1.0, 0.0, 0.0, 1.0, 0.0, 0.0, 0.0, 4.0, 0.0, 1.0, 1.0, 1.0, [0.0, 1.0, 4.0, 0.0, 0.0, 1.0, 0.0, 1.0, 0.0, 0.0, 0.0, 1.0, 1.0, 17.0, 5723.0, 4.0, 2.0, 17.0, 45.0, 2.0, 2.0], [11.467262973048651, 8.532737026951347], [0.5733631486524325, 0.42663685134756735], 0.0, 'No Risk'], ['less_0', 4, 'all_credits_paid_back', 'car_new', 1417, 'less_100', '1_to_4', 2, 'female', 'none', 2, 'real_estate', 19, 'none', 'own', 1, 'skilled', 1, 'none', 'yes', 1.0, 3.0, 0.0, 0.0, 0.0, 0.0, 0.0, 0.0, 0.0, 0.0, 2.0, 1.0, 0.0, [21, [0, 1, 5, 7, 13, 14, 15, 16, 17, 18, 19, 20], [1.0, 3.0, 1.0, 2.0, 4.0, 1417.0, 2.0, 2.0, 4.0, 19.0, 1.0, 1.0]], [19.1588059459218, 0.8411940540782017], [0.95794029729609, 0.04205970270391009], 0.0, 'No Risk'], ['less_0', 20, 'prior_payments_delayed', 'car_used', 1136, 'less_100', '1_to_4', 3, 'male', 'none', 3, 'real_estate', 26, 'none', 'own', 1, 'management_self-employed', 1, 'yes', 'yes', 1.0, 0.0, 0.0, 0.0, 0.0, 0.0, 0.0, 2.0, 2.0, 0.0, 2.0, 0.0, 1.0, [1.0, 0.0, 2.0, 0.0, 0.0, 0.0, 0.0, 2.0, 0.0, 0.0, 2.0, 1.0, 0.0, 20.0, 1136.0, 3.0, 3.0, 20.0, 26.0, 1.0, 1.0], [17.03869376267357, 2.961306237326429], [0.8519346881336786, 0.14806531186632146], 0.0, 'No Risk'], ['0_to_200', 20, 'credits_paid_to_date', 'car_new', 2123, 'less_100', 'less_1', 2, 'male', 'none', 3, 'real_estate', 24, 'none', 'own', 1, 'skilled', 1, 'none', 'yes', 2.0, 1.0, 3.0, 0.0, 0.0, 0.0, 0.0, 0.0, 0.0, 0.0, 2.0, 0.0, 0.0, [21, [0, 1, 4, 7, 13, 14, 15, 16, 17, 18, 19, 20], [2.0, 1.0, 3.0, 2.0, 20.0, 2123.0, 2.0, 3.0, 20.0, 24.0, 1.0, 1.0]], [18.352631126933023, 1.6473688730669733], [0.9176315563466513, 0.08236844365334868], 0.0, 'No Risk'], ['less_0', 9, 'prior_payments_delayed', 'furniture', 250, 'less_100', 'less_1', 2, 'female', 'none', 2, 'savings_insurance', 19, 'stores', 'rent', 1, 'skilled', 1, 'none', 'yes', 1.0, 0.0, 3.0, 0.0, 0.0, 1.0, 1.0, 0.0, 1.0, 0.0, 0.0, 1.0, 0.0, [1.0, 0.0, 1.0, 0.0, 3.0, 1.0, 0.0, 0.0, 1.0, 1.0, 0.0, 0.0, 0.0, 9.0, 250.0, 2.0, 2.0, 9.0, 19.0, 1.0, 1.0], [19.231160970588142, 0.768839029411852], [0.9615580485294074, 0.038441951470592615], 0.0, 'No Risk'], ['less_0', 19, 'prior_payments_delayed', 'car_new', 3854, 'less_100', 'less_1', 2, 'male', 'none', 2, 'car_other', 29, 'stores', 'own', 1, 'skilled', 1, 'yes', 'yes', 1.0, 0.0, 3.0, 0.0, 0.0, 0.0, 1.0, 0.0, 0.0, 0.0, 1.0, 0.0, 1.0, [1.0, 0.0, 0.0, 0.0, 3.0, 0.0, 0.0, 1.0, 1.0, 0.0, 0.0, 1.0, 0.0, 19.0, 3854.0, 2.0, 2.0, 19.0, 29.0, 1.0, 1.0], [17.609285429793722, 2.3907145702062786], [0.8804642714896861, 0.11953572851031394], 0.0, 'No Risk'], ['less_0', 9, 'all_credits_paid_back', 'car_new', 4160, 'less_100', 'unemployed', 2, 'female', 'none', 2, 'savings_insurance', 25, 'none', 'rent', 1, 'skilled', 1, 'none', 'yes', 1.0, 3.0, 4.0, 0.0, 0.0, 1.0, 0.0, 0.0, 0.0, 0.0, 0.0, 1.0, 0.0, [1.0, 3.0, 0.0, 0.0, 4.0, 1.0, 0.0, 0.0, 0.0, 1.0, 0.0, 0.0, 0.0, 9.0, 4160.0, 2.0, 2.0, 9.0, 25.0, 1.0, 1.0], [18.718098983325675, 1.2819010166743232], [0.9359049491662839, 0.06409505083371617], 0.0, 'No Risk'], ['no_checking', 30, 'prior_payments_delayed', 'car_used', 6772, '500_to_1000', '4_to_7', 4, 'male', 'none', 4, 'car_other', 42, 'none', 'own', 2, 'skilled', 1, 'none', 'yes', 0.0, 0.0, 1.0, 2.0, 0.0, 0.0, 0.0, 0.0, 2.0, 0.0, 1.0, 0.0, 0.0, [21, [2, 3, 4, 7, 13, 14, 15, 16, 17, 18, 19, 20], [2.0, 2.0, 1.0, 1.0, 30.0, 6772.0, 4.0, 4.0, 30.0, 42.0, 2.0, 1.0]], [9.57492412166321, 10.42507587833679], [0.47874620608316054, 0.5212537939168395], 1.0, 'Risk'], ['less_0', 19, 'prior_payments_delayed', 'car_new', 3854, 'less_100', 'less_1', 2, 'male', 'none', 2, 'car_other', 29, 'stores', 'own', 1, 'skilled', 1, 'yes', 'yes', 1.0, 0.0, 3.0, 0.0, 0.0, 0.0, 1.0, 0.0, 0.0, 0.0, 1.0, 0.0, 1.0, [1.0, 0.0, 0.0, 0.0, 3.0, 0.0, 0.0, 1.0, 1.0, 0.0, 0.0, 1.0, 0.0, 19.0, 3854.0, 2.0, 2.0, 19.0, 29.0, 1.0, 1.0], [17.609285429793722, 2.3907145702062786], [0.8804642714896861, 0.11953572851031394], 0.0, 'No Risk'], ['0_to_200', 21, 'outstanding_credit', 'radio_tv', 4075, '100_to_500', 'greater_7', 4, 'female', 'none', 2, 'car_other', 40, 'stores', 'own', 1, 'skilled', 1, 'none', 'yes', 2.0, 2.0, 2.0, 1.0, 0.0, 0.0, 1.0, 0.0, 3.0, 0.0, 1.0, 1.0, 0.0, [2.0, 2.0, 3.0, 1.0, 2.0, 1.0, 0.0, 1.0, 1.0, 0.0, 0.0, 0.0, 0.0, 21.0, 4075.0, 4.0, 2.0, 21.0, 40.0, 1.0, 1.0], [13.960410564886596, 6.039589435113403], [0.6980205282443298, 0.3019794717556702], 0.0, 'No Risk'], ['no_checking', 37, 'prior_payments_delayed', 'appliances', 8443, '500_to_1000', '4_to_7', 4, 'male', 'co-applicant', 3, 'car_other', 49, 'none', 'own', 2, 'management_self-employed', 1, 'yes', 'yes', 0.0, 0.0, 1.0, 2.0, 0.0, 0.0, 0.0, 2.0, 4.0, 1.0, 1.0, 0.0, 1.0, [0.0, 0.0, 4.0, 2.0, 1.0, 0.0, 1.0, 1.0, 0.0, 0.0, 2.0, 1.0, 0.0, 37.0, 8443.0, 4.0, 3.0, 37.0, 49.0, 2.0, 1.0], [4.740315504013966, 15.259684495986033], [0.23701577520069833, 0.7629842247993016], 1.0, 'Risk'], ['less_0', 8, 'prior_payments_delayed', 'car_new', 1351, 'less_100', '1_to_4', 1, 'female', 'none', 1, 'savings_insurance', 33, 'stores', 'own', 1, 'skilled', 1, 'none', 'yes', 1.0, 0.0, 0.0, 0.0, 0.0, 0.0, 1.0, 0.0, 0.0, 0.0, 0.0, 1.0, 0.0, [21, [0, 5, 8, 13, 14, 15, 16, 17, 18, 19, 20], [1.0, 1.0, 1.0, 8.0, 1351.0, 1.0, 1.0, 8.0, 33.0, 1.0, 1.0]], [17.04388552212824, 2.9561144778717594], [0.852194276106412, 0.14780572389358798], 0.0, 'No Risk'], ['less_0', 31, 'credits_paid_to_date', 'car_used', 2281, 'less_100', '4_to_7', 3, 'male', 'none', 3, 'car_other', 32, 'none', 'own', 2, 'skilled', 1, 'none', 'yes', 1.0, 1.0, 1.0, 0.0, 0.0, 0.0, 0.0, 0.0, 2.0, 0.0, 1.0, 0.0, 0.0, [1.0, 1.0, 2.0, 0.0, 1.0, 0.0, 0.0, 1.0, 0.0, 0.0, 0.0, 0.0, 0.0, 31.0, 2281.0, 3.0, 3.0, 31.0, 32.0, 2.0, 1.0], [12.55879273120817, 7.441207268791828], [0.6279396365604085, 0.3720603634395914], 0.0, 'No Risk'], ['no_checking', 34, 'prior_payments_delayed', 'furniture', 6257, '500_to_1000', 'greater_7', 5, 'male', 'none', 5, 'savings_insurance', 44, 'none', 'own', 1, 'skilled', 1, 'yes', 'yes', 0.0, 0.0, 2.0, 2.0, 0.0, 0.0, 0.0, 0.0, 1.0, 0.0, 0.0, 0.0, 1.0, [21, [2, 3, 4, 11, 13, 14, 15, 16, 17, 18, 19, 20], [1.0, 2.0, 2.0, 1.0, 34.0, 6257.0, 5.0, 5.0, 34.0, 44.0, 1.0, 1.0]], [8.780801966415158, 11.219198033584844], [0.4390400983207579, 0.5609599016792421], 1.0, 'Risk'], ['no_checking', 44, 'prior_payments_delayed', 'radio_tv', 5548, 'unknown', '4_to_7', 4, 'male', 'co-applicant', 3, 'car_other', 38, 'none', 'own', 3, 'skilled', 2, 'yes', 'yes', 0.0, 0.0, 1.0, 4.0, 0.0, 0.0, 0.0, 0.0, 3.0, 1.0, 1.0, 0.0, 1.0, [0.0, 0.0, 3.0, 4.0, 1.0, 0.0, 1.0, 1.0, 0.0, 0.0, 0.0, 1.0, 0.0, 44.0, 5548.0, 4.0, 3.0, 44.0, 38.0, 3.0, 2.0], [5.261905306271024, 14.738094693728975], [0.2630952653135512, 0.7369047346864488], 1.0, 'Risk'], ['no_checking', 55, 'outstanding_credit', 'repairs', 3666, 'greater_1000', 'greater_7', 5, 'male', 'none', 3, 'car_other', 39, 'none', 'free', 1, 'skilled', 1, 'none', 'yes', 0.0, 2.0, 2.0, 3.0, 0.0, 2.0, 0.0, 0.0, 5.0, 0.0, 1.0, 0.0, 0.0, [0.0, 2.0, 5.0, 3.0, 2.0, 0.0, 0.0, 1.0, 0.0, 2.0, 0.0, 0.0, 0.0, 55.0, 3666.0, 5.0, 3.0, 55.0, 39.0, 1.0, 1.0], [8.601122463156159, 11.398877536843846], [0.4300561231578078, 0.5699438768421922], 1.0, 'Risk'], ['less_0', 18, 'prior_payments_delayed', 'radio_tv', 1607, 'less_100', 'less_1', 3, 'male', 'none', 1, 'savings_insurance', 26, 'none', 'own', 1, 'skilled', 1, 'none', 'yes', 1.0, 0.0, 3.0, 0.0, 0.0, 0.0, 0.0, 0.0, 3.0, 0.0, 0.0, 0.0, 0.0, [21, [0, 2, 4, 13, 14, 15, 16, 17, 18, 19, 20], [1.0, 3.0, 3.0, 18.0, 1607.0, 3.0, 1.0, 18.0, 26.0, 1.0, 1.0]], [18.740861309126927, 1.2591386908730677], [0.9370430654563465, 0.06295693454365339], 0.0, 'No Risk'], ['0_to_200', 15, 'credits_paid_to_date', 'car_new', 2567, '500_to_1000', '4_to_7', 2, 'male', 'none', 3, 'real_estate', 33, 'none', 'own', 1, 'skilled', 1, 'none', 'yes', 2.0, 1.0, 1.0, 2.0, 0.0, 0.0, 0.0, 0.0, 0.0, 0.0, 2.0, 0.0, 0.0, [2.0, 1.0, 0.0, 2.0, 1.0, 0.0, 0.0, 2.0, 0.0, 0.0, 0.0, 0.0, 0.0, 15.0, 2567.0, 2.0, 3.0, 15.0, 33.0, 1.0, 1.0], [17.353802979915702, 2.6461970200842937], [0.8676901489957852, 0.13230985100421472], 0.0, 'No Risk'], ['less_0', 16, 'credits_paid_to_date', 'car_new', 250, 'less_100', '1_to_4', 1, 'female', 'none', 2, 'real_estate', 19, 'stores', 'rent', 1, 'skilled', 1, 'none', 'yes', 1.0, 1.0, 0.0, 0.0, 0.0, 1.0, 1.0, 0.0, 0.0, 0.0, 2.0, 1.0, 0.0, [1.0, 1.0, 0.0, 0.0, 0.0, 1.0, 0.0, 2.0, 1.0, 1.0, 0.0, 0.0, 0.0, 16.0, 250.0, 1.0, 2.0, 16.0, 19.0, 1.0, 1.0], [19.15364831583715, 0.8463516841628522], [0.9576824157918574, 0.04231758420814261], 0.0, 'No Risk'], ['less_0', 32, 'credits_paid_to_date', 'furniture', 2677, 'less_100', '4_to_7', 2, 'female', 'none', 2, 'savings_insurance', 30, 'stores', 'own', 1, 'unskilled', 1, 'none', 'yes', 1.0, 1.0, 1.0, 0.0, 0.0, 0.0, 1.0, 1.0, 1.0, 0.0, 0.0, 1.0, 0.0, [1.0, 1.0, 1.0, 0.0, 1.0, 1.0, 0.0, 0.0, 1.0, 0.0, 1.0, 0.0, 0.0, 32.0, 2677.0, 2.0, 2.0, 32.0, 30.0, 1.0, 1.0], [15.556739168012122, 4.44326083198788], [0.7778369584006061, 0.22216304159939398], 0.0, 'No Risk'], ['0_to_200', 23, 'credits_paid_to_date', 'furniture', 250, '100_to_500', 'unemployed', 2, 'female', 'none', 3, 'real_estate', 19, 'none', 'rent', 1, 'skilled', 1, 'none', 'yes', 2.0, 1.0, 4.0, 1.0, 0.0, 1.0, 0.0, 0.0, 1.0, 0.0, 2.0, 1.0, 0.0, [2.0, 1.0, 1.0, 1.0, 4.0, 1.0, 0.0, 2.0, 0.0, 1.0, 0.0, 0.0, 0.0, 23.0, 250.0, 2.0, 3.0, 23.0, 19.0, 1.0, 1.0], [18.09956583548491, 1.9004341645150908], [0.9049782917742455, 0.09502170822575454], 0.0, 'No Risk'], ['0_to_200', 9, 'all_credits_paid_back', 'car_new', 1449, '100_to_500', 'less_1', 2, 'female', 'none', 2, 'real_estate', 28, 'none', 'rent', 1, 'skilled', 1, 'none', 'yes', 2.0, 3.0, 3.0, 1.0, 0.0, 1.0, 0.0, 0.0, 0.0, 0.0, 2.0, 1.0, 0.0, [2.0, 3.0, 0.0, 1.0, 3.0, 1.0, 0.0, 2.0, 0.0, 1.0, 0.0, 0.0, 0.0, 9.0, 1449.0, 2.0, 2.0, 9.0, 28.0, 1.0, 1.0], [19.363538277189868, 0.6364617228101284], [0.9681769138594936, 0.031823086140506426], 0.0, 'No Risk'], ['0_to_200', 30, 'prior_payments_delayed', 'car_used', 6255, '100_to_500', '4_to_7', 3, 'male', 'none', 4, 'unknown', 48, 'none', 'own', 3, 'skilled', 2, 'yes', 'yes', 2.0, 0.0, 1.0, 1.0, 0.0, 0.0, 0.0, 0.0, 2.0, 0.0, 3.0, 0.0, 1.0, [2.0, 0.0, 2.0, 1.0, 1.0, 0.0, 0.0, 3.0, 0.0, 0.0, 0.0, 1.0, 0.0, 30.0, 6255.0, 3.0, 4.0, 30.0, 48.0, 3.0, 2.0], [7.46480489287779, 12.535195107122211], [0.3732402446438895, 0.6267597553561106], 1.0, 'Risk'], ['less_0', 9, 'all_credits_paid_back', 'car_new', 742, 'less_100', 'less_1', 2, 'male', 'none', 2, 'real_estate', 29, 'none', 'rent', 2, 'skilled', 1, 'none', 'yes', 1.0, 3.0, 3.0, 0.0, 0.0, 1.0, 0.0, 0.0, 0.0, 0.0, 2.0, 0.0, 0.0, [1.0, 3.0, 0.0, 0.0, 3.0, 0.0, 0.0, 2.0, 0.0, 1.0, 0.0, 0.0, 0.0, 9.0, 742.0, 2.0, 2.0, 9.0, 29.0, 2.0, 1.0], [19.303114303562438, 0.6968856964375597], [0.965155715178122, 0.03484428482187799], 0.0, 'No Risk'], ['no_checking', 9, 'prior_payments_delayed', 'car_used', 2604, 'greater_1000', '1_to_4', 3, 'male', 'none', 4, 'savings_insurance', 24, 'none', 'own', 1, 'management_self-employed', 1, 'none', 'yes', 0.0, 0.0, 0.0, 3.0, 0.0, 0.0, 0.0, 2.0, 2.0, 0.0, 0.0, 0.0, 0.0, [21, [2, 3, 10, 13, 14, 15, 16, 17, 18, 19, 20], [2.0, 3.0, 2.0, 9.0, 2604.0, 3.0, 4.0, 9.0, 24.0, 1.0, 1.0]], [15.474007962450509, 4.525992037549489], [0.7737003981225254, 0.22629960187747447], 0.0, 'No Risk'], ['less_0', 9, 'all_credits_paid_back', 'car_new', 321, '100_to_500', 'less_1', 2, 'male', 'none', 2, 'savings_insurance', 24, 'none', 'rent', 1, 'skilled', 1, 'none', 'yes', 1.0, 3.0, 3.0, 1.0, 0.0, 1.0, 0.0, 0.0, 0.0, 0.0, 0.0, 0.0, 0.0, [1.0, 3.0, 0.0, 1.0, 3.0, 0.0, 0.0, 0.0, 0.0, 1.0, 0.0, 0.0, 0.0, 9.0, 321.0, 2.0, 2.0, 9.0, 24.0, 1.0, 1.0], [19.281641352677397, 0.7183586473226037], [0.9640820676338698, 0.03591793236613018], 0.0, 'No Risk'], ['no_checking', 41, 'outstanding_credit', 'radio_tv', 6173, 'unknown', 'greater_7', 5, 'male', 'co-applicant', 5, 'car_other', 53, 'stores', 'own', 2, 'unskilled', 2, 'yes', 'yes', 0.0, 2.0, 2.0, 4.0, 0.0, 0.0, 1.0, 1.0, 3.0, 1.0, 1.0, 0.0, 1.0, [0.0, 2.0, 3.0, 4.0, 2.0, 0.0, 1.0, 1.0, 1.0, 0.0, 1.0, 1.0, 0.0, 41.0, 6173.0, 5.0, 5.0, 41.0, 53.0, 2.0, 2.0], [3.1134417161312924, 16.886558283868705], [0.15567208580656464, 0.8443279141934354], 1.0, 'Risk'], ['no_checking', 36, 'outstanding_credit', 'furniture', 4705, 'unknown', 'greater_7', 3, 'male', 'co-applicant', 4, 'unknown', 44, 'none', 'own', 2, 'skilled', 2, 'yes', 'yes', 0.0, 2.0, 2.0, 4.0, 0.0, 0.0, 0.0, 0.0, 1.0, 1.0, 3.0, 0.0, 1.0, [0.0, 2.0, 1.0, 4.0, 2.0, 0.0, 1.0, 3.0, 0.0, 0.0, 0.0, 1.0, 0.0, 36.0, 4705.0, 3.0, 4.0, 36.0, 44.0, 2.0, 2.0], [3.850458655020358, 16.149541344979642], [0.1925229327510179, 0.8074770672489822], 1.0, 'Risk'], ['no_checking', 13, 'outstanding_credit', 'car_new', 3621, 'unknown', '4_to_7', 4, 'male', 'none', 4, 'car_other', 39, 'none', 'own', 1, 'skilled', 1, 'none', 'yes', 0.0, 2.0, 1.0, 4.0, 0.0, 0.0, 0.0, 0.0, 0.0, 0.0, 1.0, 0.0, 0.0, [21, [1, 3, 4, 7, 13, 14, 15, 16, 17, 18, 19, 20], [2.0, 4.0, 1.0, 1.0, 13.0, 3621.0, 4.0, 4.0, 13.0, 39.0, 1.0, 1.0]], [11.969905025990359, 8.03009497400964], [0.598495251299518, 0.401504748700482], 0.0, 'No Risk'], ['no_checking', 32, 'prior_payments_delayed', 'radio_tv', 5496, '500_to_1000', 'greater_7', 3, 'male', 'none', 3, 'car_other', 30, 'none', 'free', 1, 'skilled', 1, 'yes', 'yes', 0.0, 0.0, 2.0, 2.0, 0.0, 2.0, 0.0, 0.0, 3.0, 0.0, 1.0, 0.0, 1.0, [0.0, 0.0, 3.0, 2.0, 2.0, 0.0, 0.0, 1.0, 0.0, 2.0, 0.0, 1.0, 0.0, 32.0, 5496.0, 3.0, 3.0, 32.0, 30.0, 1.0, 1.0], [7.528547436159737, 12.471452563840264], [0.37642737180798685, 0.6235726281920132], 1.0, 'Risk'], ['no_checking', 10, 'credits_paid_to_date', 'vacation', 5945, '500_to_1000', 'less_1', 2, 'male', 'none', 3, 'real_estate', 26, 'none', 'own', 1, 'management_self-employed', 2, 'yes', 'yes', 0.0, 1.0, 3.0, 2.0, 0.0, 0.0, 0.0, 2.0, 6.0, 0.0, 2.0, 0.0, 1.0, [0.0, 1.0, 6.0, 2.0, 3.0, 0.0, 0.0, 2.0, 0.0, 0.0, 2.0, 1.0, 0.0, 10.0, 5945.0, 2.0, 3.0, 10.0, 26.0, 1.0, 2.0], [17.584504886023822, 2.415495113976178], [0.8792252443011911, 0.12077475569880891], 0.0, 'No Risk'], ['less_0', 5, 'credits_paid_to_date', 'car_used', 1669, 'less_100', 'less_1', 2, 'female', 'none', 3, 'savings_insurance', 25, 'none', 'rent', 1, 'skilled', 1, 'none', 'yes', 1.0, 1.0, 3.0, 0.0, 0.0, 1.0, 0.0, 0.0, 2.0, 0.0, 0.0, 1.0, 0.0, [1.0, 1.0, 2.0, 0.0, 3.0, 1.0, 0.0, 0.0, 0.0, 1.0, 0.0, 0.0, 0.0, 5.0, 1669.0, 2.0, 3.0, 5.0, 25.0, 1.0, 1.0], [17.8927585595928, 2.107241440407195], [0.8946379279796403, 0.10536207202035978], 0.0, 'No Risk'], ['less_0', 21, 'prior_payments_delayed', 'education', 7989, '500_to_1000', '4_to_7', 3, 'male', 'none', 4, 'unknown', 44, 'bank', 'own', 2, 'unemployed', 1, 'yes', 'yes', 1.0, 0.0, 1.0, 2.0, 0.0, 0.0, 2.0, 3.0, 7.0, 0.0, 3.0, 0.0, 1.0, [1.0, 0.0, 7.0, 2.0, 1.0, 0.0, 0.0, 3.0, 2.0, 0.0, 3.0, 1.0, 0.0, 21.0, 7989.0, 3.0, 4.0, 21.0, 44.0, 2.0, 1.0], [10.747650443099918, 9.252349556900082], [0.5373825221549959, 0.4626174778450041], 0.0, 'No Risk'], ['0_to_200', 38, 'outstanding_credit', 'appliances', 4532, '500_to_1000', '1_to_4', 4, 'male', 'none', 4, 'car_other', 43, 'none', 'own', 3, 'skilled', 2, 'yes', 'yes', 2.0, 2.0, 0.0, 2.0, 0.0, 0.0, 0.0, 0.0, 4.0, 0.0, 1.0, 0.0, 1.0, [2.0, 2.0, 4.0, 2.0, 0.0, 0.0, 0.0, 1.0, 0.0, 0.0, 0.0, 1.0, 0.0, 38.0, 4532.0, 4.0, 4.0, 38.0, 43.0, 3.0, 2.0], [10.242858608668586, 9.757141391331414], [0.5121429304334293, 0.4878570695665707], 0.0, 'No Risk'], ['no_checking', 33, 'prior_payments_delayed', 'furniture', 7193, '500_to_1000', 'greater_7', 5, 'male', 'co-applicant', 3, 'savings_insurance', 52, 'none', 'free', 2, 'skilled', 1, 'none', 'yes', 0.0, 0.0, 2.0, 2.0, 0.0, 2.0, 0.0, 0.0, 1.0, 1.0, 0.0, 0.0, 0.0, [0.0, 0.0, 1.0, 2.0, 2.0, 0.0, 1.0, 0.0, 0.0, 2.0, 0.0, 0.0, 0.0, 33.0, 7193.0, 5.0, 3.0, 33.0, 52.0, 2.0, 1.0], [5.107193619352282, 14.892806380647718], [0.2553596809676141, 0.7446403190323859], 1.0, 'Risk'], ['no_checking', 12, 'outstanding_credit', 'furniture', 1298, 'unknown', 'less_1', 2, 'male', 'none', 2, 'car_other', 39, 'none', 'own', 1, 'skilled', 2, 'yes', 'yes', 0.0, 2.0, 3.0, 4.0, 0.0, 0.0, 0.0, 0.0, 1.0, 0.0, 1.0, 0.0, 1.0, [0.0, 2.0, 1.0, 4.0, 3.0, 0.0, 0.0, 1.0, 0.0, 0.0, 0.0, 1.0, 0.0, 12.0, 1298.0, 2.0, 2.0, 12.0, 39.0, 1.0, 2.0], [16.16652439997288, 3.8334756000271226], [0.808326219998644, 0.19167378000135613], 0.0, 'No Risk'], ['no_checking', 31, 'outstanding_credit', 'other', 5308, '500_to_1000', '4_to_7', 4, 'male', 'none', 4, 'unknown', 30, 'none', 'own', 1, 'management_self-employed', 1, 'none', 'yes', 0.0, 2.0, 1.0, 2.0, 0.0, 0.0, 0.0, 2.0, 10.0, 0.0, 3.0, 0.0, 0.0, [0.0, 2.0, 10.0, 2.0, 1.0, 0.0, 0.0, 3.0, 0.0, 0.0, 2.0, 0.0, 0.0, 31.0, 5308.0, 4.0, 4.0, 31.0, 30.0, 1.0, 1.0], [8.997151999651345, 11.002848000348653], [0.44985759998256725, 0.5501424000174326], 1.0, 'Risk'], ['no_checking', 35, 'outstanding_credit', 'radio_tv', 3722, 'unknown', '1_to_4', 3, 'male', 'none', 4, 'savings_insurance', 39, 'none', 'own', 2, 'skilled', 1, 'yes', 'yes', 0.0, 2.0, 0.0, 4.0, 0.0, 0.0, 0.0, 0.0, 3.0, 0.0, 0.0, 0.0, 1.0, [21, [1, 2, 3, 11, 13, 14, 15, 16, 17, 18, 19, 20], [2.0, 3.0, 4.0, 1.0, 35.0, 3722.0, 3.0, 4.0, 35.0, 39.0, 2.0, 1.0]], [11.094273613855986, 8.905726386144016], [0.5547136806927992, 0.4452863193072008], 0.0, 'No Risk'], ['less_0', 25, 'credits_paid_to_date', 'furniture', 1639, '500_to_1000', 'less_1', 2, 'female', 'none', 2, 'savings_insurance', 25, 'stores', 'rent', 1, 'skilled', 2, 'yes', 'yes', 1.0, 1.0, 3.0, 2.0, 0.0, 1.0, 1.0, 0.0, 1.0, 0.0, 0.0, 1.0, 1.0, [1.0, 1.0, 1.0, 2.0, 3.0, 1.0, 0.0, 0.0, 1.0, 1.0, 0.0, 1.0, 0.0, 25.0, 1639.0, 2.0, 2.0, 25.0, 25.0, 1.0, 2.0], [16.400284728674364, 3.5997152713256373], [0.8200142364337182, 0.17998576356628188], 0.0, 'No Risk'], ['0_to_200', 4, 'all_credits_paid_back', 'car_new', 1182, 'less_100', '1_to_4', 2, 'female', 'none', 1, 'savings_insurance', 27, 'bank', 'own', 1, 'unskilled', 1, 'none', 'yes', 2.0, 3.0, 0.0, 0.0, 0.0, 0.0, 2.0, 1.0, 0.0, 0.0, 0.0, 1.0, 0.0, [2.0, 3.0, 0.0, 0.0, 0.0, 1.0, 0.0, 0.0, 2.0, 0.0, 1.0, 0.0, 0.0, 4.0, 1182.0, 2.0, 1.0, 4.0, 27.0, 1.0, 1.0], [18.513029229687, 1.4869707703129982], [0.9256514614843502, 0.07434853851564992], 0.0, 'No Risk'], ['less_0', 9, 'all_credits_paid_back', 'appliances', 250, 'less_100', 'less_1', 2, 'female', 'none', 1, 'real_estate', 19, 'stores', 'rent', 1, 'skilled', 1, 'none', 'yes', 1.0, 3.0, 3.0, 0.0, 0.0, 1.0, 1.0, 0.0, 4.0, 0.0, 2.0, 1.0, 0.0, [1.0, 3.0, 4.0, 0.0, 3.0, 1.0, 0.0, 2.0, 1.0, 1.0, 0.0, 0.0, 0.0, 9.0, 250.0, 2.0, 1.0, 9.0, 19.0, 1.0, 1.0], [19.69674795061583, 0.30325204938416955], [0.9848373975307915, 0.015162602469208478], 0.0, 'No Risk'], ['less_0', 12, 'prior_payments_delayed', 'furniture', 554, '500_to_1000', 'less_1', 2, 'female', 'none', 2, 'real_estate', 25, 'none', 'own', 1, 'skilled', 1, 'none', 'yes', 1.0, 0.0, 3.0, 2.0, 0.0, 0.0, 0.0, 0.0, 1.0, 0.0, 2.0, 1.0, 0.0, [1.0, 0.0, 1.0, 2.0, 3.0, 1.0, 0.0, 2.0, 0.0, 0.0, 0.0, 0.0, 0.0, 12.0, 554.0, 2.0, 2.0, 12.0, 25.0, 1.0, 1.0], [19.589929358016494, 0.41007064198350546], [0.9794964679008247, 0.020503532099175274], 0.0, 'No Risk'], ['no_checking', 26, 'outstanding_credit', 'radio_tv', 6972, '500_to_1000', 'greater_7', 4, 'male', 'co-applicant', 4, 'unknown', 51, 'none', 'free', 2, 'skilled', 2, 'yes', 'yes', 0.0, 2.0, 2.0, 2.0, 0.0, 2.0, 0.0, 0.0, 3.0, 1.0, 3.0, 0.0, 1.0, [0.0, 2.0, 3.0, 2.0, 2.0, 0.0, 1.0, 3.0, 0.0, 2.0, 0.0, 1.0, 0.0, 26.0, 6972.0, 4.0, 4.0, 26.0, 51.0, 2.0, 2.0], [2.2291563026064445, 17.770843697393556], [0.11145781513032223, 0.8885421848696777], 1.0, 'Risk'], ['no_checking', 20, 'prior_payments_delayed', 'radio_tv', 1683, '100_to_500', '1_to_4', 4, 'male', 'none', 4, 'savings_insurance', 50, 'none', 'own', 2, 'management_self-employed', 1, 'yes', 'yes', 0.0, 0.0, 0.0, 1.0, 0.0, 0.0, 0.0, 2.0, 3.0, 0.0, 0.0, 0.0, 1.0, [21, [2, 3, 10, 11, 13, 14, 15, 16, 17, 18, 19, 20], [3.0, 1.0, 2.0, 1.0, 20.0, 1683.0, 4.0, 4.0, 20.0, 50.0, 2.0, 1.0]], [12.180965130837363, 7.819034869162637], [0.6090482565418681, 0.3909517434581319], 0.0, 'No Risk'], ['0_to_200', 24, 'credits_paid_to_date', 'retraining', 4320, '500_to_1000', '1_to_4', 3, 'male', 'none', 3, 'savings_insurance', 32, 'none', 'rent', 1, 'skilled', 1, 'none', 'yes', 2.0, 1.0, 0.0, 2.0, 0.0, 1.0, 0.0, 0.0, 8.0, 0.0, 0.0, 0.0, 0.0, [2.0, 1.0, 8.0, 2.0, 0.0, 0.0, 0.0, 0.0, 0.0, 1.0, 0.0, 0.0, 0.0, 24.0, 4320.0, 3.0, 3.0, 24.0, 32.0, 1.0, 1.0], [14.780907738395062, 5.2190922616049376], [0.7390453869197531, 0.26095461308024687], 0.0, 'No Risk'], ['no_checking', 34, 'outstanding_credit', 'repairs', 8456, 'unknown', 'greater_7', 4, 'male', 'co-applicant', 5, 'unknown', 47, 'none', 'own', 2, 'skilled', 2, 'yes', 'yes', 0.0, 2.0, 2.0, 4.0, 0.0, 0.0, 0.0, 0.0, 5.0, 1.0, 3.0, 0.0, 1.0, [0.0, 2.0, 5.0, 4.0, 2.0, 0.0, 1.0, 3.0, 0.0, 0.0, 0.0, 1.0, 0.0, 34.0, 8456.0, 4.0, 5.0, 34.0, 47.0, 2.0, 2.0], [2.9548733326831056, 17.045126667316893], [0.14774366663415528, 0.8522563333658446], 1.0, 'Risk'], ['less_0', 9, 'all_credits_paid_back', 'car_new', 2985, 'less_100', 'less_1', 2, 'female', 'none', 3, 'savings_insurance', 26, 'none', 'own', 1, 'management_self-employed', 1, 'none', 'yes', 1.0, 3.0, 3.0, 0.0, 0.0, 0.0, 0.0, 2.0, 0.0, 0.0, 0.0, 1.0, 0.0, [1.0, 3.0, 0.0, 0.0, 3.0, 1.0, 0.0, 0.0, 0.0, 0.0, 2.0, 0.0, 0.0, 9.0, 2985.0, 2.0, 3.0, 9.0, 26.0, 1.0, 1.0], [17.903387777406714, 2.096612222593282], [0.8951693888703358, 0.10483061112966412], 0.0, 'No Risk'], ['greater_200', 18, 'all_credits_paid_back', 'furniture', 975, '500_to_1000', '1_to_4', 2, 'male', 'none', 3, 'savings_insurance', 36, 'none', 'own', 1, 'skilled', 1, 'yes', 'yes', 3.0, 3.0, 0.0, 2.0, 0.0, 0.0, 0.0, 0.0, 1.0, 0.0, 0.0, 0.0, 1.0, [3.0, 3.0, 1.0, 2.0, 0.0, 0.0, 0.0, 0.0, 0.0, 0.0, 0.0, 1.0, 0.0, 18.0, 975.0, 2.0, 3.0, 18.0, 36.0, 1.0, 1.0], [14.231801485463876, 5.768198514536126], [0.7115900742731938, 0.2884099257268063], 0.0, 'No Risk'], ['less_0', 12, 'all_credits_paid_back', 'car_new', 1212, '100_to_500', 'less_1', 2, 'female', 'none', 1, 'savings_insurance', 25, 'stores', 'rent', 1, 'skilled', 1, 'none', 'yes', 1.0, 3.0, 3.0, 1.0, 0.0, 1.0, 1.0, 0.0, 0.0, 0.0, 0.0, 1.0, 0.0, [1.0, 3.0, 0.0, 1.0, 3.0, 1.0, 0.0, 0.0, 1.0, 1.0, 0.0, 0.0, 0.0, 12.0, 1212.0, 2.0, 1.0, 12.0, 25.0, 1.0, 1.0], [18.958342865081562, 1.0416571349184303], [0.9479171432540784, 0.05208285674592153], 0.0, 'No Risk'], ['less_0', 4, 'all_credits_paid_back', 'car_new', 250, 'less_100', 'less_1', 1, 'female', 'none', 1, 'real_estate', 22, 'bank', 'rent', 1, 'unskilled', 1, 'none', 'yes', 1.0, 3.0, 3.0, 0.0, 0.0, 1.0, 2.0, 1.0, 0.0, 0.0, 2.0, 1.0, 0.0, [1.0, 3.0, 0.0, 0.0, 3.0, 1.0, 0.0, 2.0, 2.0, 1.0, 1.0, 0.0, 0.0, 4.0, 250.0, 1.0, 1.0, 4.0, 22.0, 1.0, 1.0], [19.73822260499371, 0.2617773950062894], [0.9869111302496855, 0.01308886975031447], 0.0, 'No Risk'], ['greater_200', 18, 'prior_payments_delayed', 'repairs', 4916, 'greater_1000', '1_to_4', 4, 'female', 'none', 2, 'savings_insurance', 33, 'none', 'own', 1, 'skilled', 1, 'none', 'yes', 3.0, 0.0, 0.0, 3.0, 0.0, 0.0, 0.0, 0.0, 5.0, 0.0, 0.0, 1.0, 0.0, [21, [0, 2, 3, 5, 13, 14, 15, 16, 17, 18, 19, 20], [3.0, 5.0, 3.0, 1.0, 18.0, 4916.0, 4.0, 2.0, 18.0, 33.0, 1.0, 1.0]], [15.45011052768483, 4.54988947231517], [0.7725055263842415, 0.22749447361575853], 0.0, 'No Risk'], ['no_checking', 26, 'prior_payments_delayed', 'appliances', 4990, '500_to_1000', 'greater_7', 4, 'male', 'none', 4, 'car_other', 49, 'none', 'free', 1, 'skilled', 1, 'none', 'yes', 0.0, 0.0, 2.0, 2.0, 0.0, 2.0, 0.0, 0.0, 4.0, 0.0, 1.0, 0.0, 0.0, [0.0, 0.0, 4.0, 2.0, 2.0, 0.0, 0.0, 1.0, 0.0, 2.0, 0.0, 0.0, 0.0, 26.0, 4990.0, 4.0, 4.0, 26.0, 49.0, 1.0, 1.0], [9.479270988939644, 10.520729011060357], [0.4739635494469822, 0.5260364505530178], 1.0, 'Risk'], ['less_0', 23, 'credits_paid_to_date', 'car_new', 250, 'less_100', '4_to_7', 3, 'male', 'co-applicant', 3, 'real_estate', 50, 'stores', 'own', 1, 'skilled', 1, 'yes', 'yes', 1.0, 1.0, 1.0, 0.0, 0.0, 0.0, 1.0, 0.0, 0.0, 1.0, 2.0, 0.0, 1.0, [1.0, 1.0, 0.0, 0.0, 1.0, 0.0, 1.0, 2.0, 1.0, 0.0, 0.0, 1.0, 0.0, 23.0, 250.0, 3.0, 3.0, 23.0, 50.0, 1.0, 1.0], [14.211328678194297, 5.7886713218057055], [0.7105664339097147, 0.2894335660902852], 0.0, 'No Risk'], ['less_0', 17, 'all_credits_paid_back', 'furniture', 1137, '100_to_500', 'less_1', 2, 'female', 'none', 2, 'savings_insurance', 33, 'none', 'rent', 1, 'skilled', 1, 'none', 'yes', 1.0, 3.0, 3.0, 1.0, 0.0, 1.0, 0.0, 0.0, 1.0, 0.0, 0.0, 1.0, 0.0, [1.0, 3.0, 1.0, 1.0, 3.0, 1.0, 0.0, 0.0, 0.0, 1.0, 0.0, 0.0, 0.0, 17.0, 1137.0, 2.0, 2.0, 17.0, 33.0, 1.0, 1.0], [17.47371908222964, 2.5262809177703556], [0.8736859541114823, 0.12631404588851783], 0.0, 'No Risk'], ['less_0', 8, 'all_credits_paid_back', 'education', 275, 'less_100', 'unemployed', 2, 'female', 'none', 2, 'real_estate', 24, 'none', 'rent', 1, 'skilled', 1, 'none', 'yes', 1.0, 3.0, 4.0, 0.0, 0.0, 1.0, 0.0, 0.0, 7.0, 0.0, 2.0, 1.0, 0.0, [1.0, 3.0, 7.0, 0.0, 4.0, 1.0, 0.0, 2.0, 0.0, 1.0, 0.0, 0.0, 0.0, 8.0, 275.0, 2.0, 2.0, 8.0, 24.0, 1.0, 1.0], [19.71648988136817, 0.28351011863183245], [0.9858244940684084, 0.014175505931591623], 0.0, 'No Risk'], ['less_0', 21, 'prior_payments_delayed', 'retraining', 5230, '100_to_500', 'greater_7', 4, 'female', 'none', 3, 'car_other', 37, 'none', 'own', 1, 'skilled', 1, 'none', 'yes', 1.0, 0.0, 2.0, 1.0, 0.0, 0.0, 0.0, 0.0, 8.0, 0.0, 1.0, 1.0, 0.0, [1.0, 0.0, 8.0, 1.0, 2.0, 1.0, 0.0, 1.0, 0.0, 0.0, 0.0, 0.0, 0.0, 21.0, 5230.0, 4.0, 3.0, 21.0, 37.0, 1.0, 1.0], [12.368849632820284, 7.631150367179717], [0.6184424816410142, 0.3815575183589858], 0.0, 'No Risk'], ['no_checking', 27, 'prior_payments_delayed', 'radio_tv', 7161, '500_to_1000', '1_to_4', 4, 'male', 'none', 5, 'savings_insurance', 22, 'none', 'free', 2, 'management_self-employed', 1, 'none', 'yes', 0.0, 0.0, 0.0, 2.0, 0.0, 2.0, 0.0, 2.0, 3.0, 0.0, 0.0, 0.0, 0.0, [21, [2, 3, 9, 10, 13, 14, 15, 16, 17, 18, 19, 20], [3.0, 2.0, 2.0, 2.0, 27.0, 7161.0, 4.0, 5.0, 27.0, 22.0, 2.0, 1.0]], [13.001220277425158, 6.998779722574839], [0.650061013871258, 0.349938986128742], 0.0, 'No Risk'], ['0_to_200', 8, 'prior_payments_delayed', 'car_used', 1345, 'greater_1000', '1_to_4', 3, 'male', 'none', 2, 'real_estate', 19, 'none', 'own', 1, 'skilled', 1, 'none', 'yes', 2.0, 0.0, 0.0, 3.0, 0.0, 0.0, 0.0, 0.0, 2.0, 0.0, 2.0, 0.0, 0.0, [21, [0, 2, 3, 7, 13, 14, 15, 16, 17, 18, 19, 20], [2.0, 2.0, 3.0, 2.0, 8.0, 1345.0, 3.0, 2.0, 8.0, 19.0, 1.0, 1.0]], [18.6227287257514, 1.3772712742486015], [0.9311364362875699, 0.06886356371243006], 0.0, 'No Risk'], ['less_0', 7, 'prior_payments_delayed', 'car_new', 2563, 'less_100', '4_to_7', 2, 'male', 'none', 3, 'unknown', 28, 'stores', 'own', 1, 'skilled', 1, 'none', 'yes', 1.0, 0.0, 1.0, 0.0, 0.0, 0.0, 1.0, 0.0, 0.0, 0.0, 3.0, 0.0, 0.0, [21, [0, 4, 7, 8, 13, 14, 15, 16, 17, 18, 19, 20], [1.0, 1.0, 3.0, 1.0, 7.0, 2563.0, 2.0, 3.0, 7.0, 28.0, 1.0, 1.0]], [15.247279243457777, 4.752720756542223], [0.7623639621728888, 0.23763603782711112], 0.0, 'No Risk'], ['no_checking', 31, 'outstanding_credit', 'repairs', 2814, 'greater_1000', '4_to_7', 4, 'male', 'none', 4, 'car_other', 48, 'none', 'own', 1, 'skilled', 1, 'yes', 'yes', 0.0, 2.0, 1.0, 3.0, 0.0, 0.0, 0.0, 0.0, 5.0, 0.0, 1.0, 0.0, 1.0, [0.0, 2.0, 5.0, 3.0, 1.0, 0.0, 0.0, 1.0, 0.0, 0.0, 0.0, 1.0, 0.0, 31.0, 2814.0, 4.0, 4.0, 31.0, 48.0, 1.0, 1.0], [8.429624800107035, 11.570375199892965], [0.42148124000535175, 0.5785187599946482], 1.0, 'Risk'], ['greater_200', 28, 'prior_payments_delayed', 'radio_tv', 6086, '100_to_500', 'greater_7', 3, 'female', 'none', 4, 'unknown', 34, 'none', 'own', 1, 'skilled', 1, 'none', 'yes', 3.0, 0.0, 2.0, 1.0, 0.0, 0.0, 0.0, 0.0, 3.0, 0.0, 3.0, 1.0, 0.0, [3.0, 0.0, 3.0, 1.0, 2.0, 1.0, 0.0, 3.0, 0.0, 0.0, 0.0, 0.0, 0.0, 28.0, 6086.0, 3.0, 4.0, 28.0, 34.0, 1.0, 1.0], [9.124690858759225, 10.875309141240775], [0.45623454293796123, 0.5437654570620387], 1.0, 'Risk'], ['0_to_200', 17, 'credits_paid_to_date', 'retraining', 618, 'less_100', '4_to_7', 2, 'female', 'none', 2, 'real_estate', 23, 'none', 'own', 1, 'skilled', 1, 'none', 'yes', 2.0, 1.0, 1.0, 0.0, 0.0, 0.0, 0.0, 0.0, 8.0, 0.0, 2.0, 1.0, 0.0, [2.0, 1.0, 8.0, 0.0, 1.0, 1.0, 0.0, 2.0, 0.0, 0.0, 0.0, 0.0, 0.0, 17.0, 618.0, 2.0, 2.0, 17.0, 23.0, 1.0, 1.0], [18.682467873722526, 1.3175321262774757], [0.9341233936861262, 0.06587660631387378], 0.0, 'No Risk'], ['less_0', 19, 'all_credits_paid_back', 'furniture', 988, 'less_100', '1_to_4', 2, 'male', 'co-applicant', 3, 'real_estate', 23, 'none', 'own', 1, 'skilled', 1, 'none', 'yes', 1.0, 3.0, 0.0, 0.0, 0.0, 0.0, 0.0, 0.0, 1.0, 1.0, 2.0, 0.0, 0.0, [1.0, 3.0, 1.0, 0.0, 0.0, 0.0, 1.0, 2.0, 0.0, 0.0, 0.0, 0.0, 0.0, 19.0, 988.0, 2.0, 3.0, 19.0, 23.0, 1.0, 1.0], [17.7501629269443, 2.249837073055704], [0.8875081463472148, 0.11249185365278518], 0.0, 'No Risk'], ['less_0', 20, 'prior_payments_delayed', 'car_used', 1370, 'less_100', '1_to_4', 1, 'female', 'none', 2, 'car_other', 30, 'stores', 'own', 1, 'skilled', 1, 'none', 'yes', 1.0, 0.0, 0.0, 0.0, 0.0, 0.0, 1.0, 0.0, 2.0, 0.0, 1.0, 1.0, 0.0, [1.0, 0.0, 2.0, 0.0, 0.0, 1.0, 0.0, 1.0, 1.0, 0.0, 0.0, 0.0, 0.0, 20.0, 1370.0, 1.0, 2.0, 20.0, 30.0, 1.0, 1.0], [15.98426020719921, 4.0157397928007885], [0.7992130103599605, 0.20078698964003944], 0.0, 'No Risk'], ['less_0', 4, 'no_credits', 'car_new', 250, 'less_100', 'less_1', 2, 'female', 'none', 1, 'real_estate', 19, 'none', 'rent', 1, 'management_self-employed', 1, 'none', 'yes', 1.0, 4.0, 3.0, 0.0, 0.0, 1.0, 0.0, 2.0, 0.0, 0.0, 2.0, 1.0, 0.0, [1.0, 4.0, 0.0, 0.0, 3.0, 1.0, 0.0, 2.0, 0.0, 1.0, 2.0, 0.0, 0.0, 4.0, 250.0, 2.0, 1.0, 4.0, 19.0, 1.0, 1.0], [19.73822260499371, 0.2617773950062894], [0.9869111302496855, 0.01308886975031447], 0.0, 'No Risk'], ['0_to_200', 21, 'credits_paid_to_date', 'appliances', 5178, 'less_100', '1_to_4', 3, 'female', 'none', 2, 'savings_insurance', 30, 'none', 'rent', 1, 'skilled', 1, 'none', 'yes', 2.0, 1.0, 0.0, 0.0, 0.0, 1.0, 0.0, 0.0, 4.0, 0.0, 0.0, 1.0, 0.0, [2.0, 1.0, 4.0, 0.0, 0.0, 1.0, 0.0, 0.0, 0.0, 1.0, 0.0, 0.0, 0.0, 21.0, 5178.0, 3.0, 2.0, 21.0, 30.0, 1.0, 1.0], [15.923656463008044, 4.0763435369919545], [0.7961828231504022, 0.20381717684959771], 0.0, 'No Risk'], ['no_checking', 31, 'outstanding_credit', 'furniture', 5447, 'greater_1000', 'greater_7', 4, 'male', 'none', 4, 'unknown', 47, 'none', 'own', 2, 'skilled', 1, 'yes', 'yes', 0.0, 2.0, 2.0, 3.0, 0.0, 0.0, 0.0, 0.0, 1.0, 0.0, 3.0, 0.0, 1.0, [0.0, 2.0, 1.0, 3.0, 2.0, 0.0, 0.0, 3.0, 0.0, 0.0, 0.0, 1.0, 0.0, 31.0, 5447.0, 4.0, 4.0, 31.0, 47.0, 2.0, 1.0], [5.297948014735041, 14.70205198526496], [0.26489740073675205, 0.7351025992632481], 1.0, 'Risk'], ['0_to_200', 17, 'prior_payments_delayed', 'furniture', 2908, '100_to_500', '4_to_7', 4, 'female', 'none', 3, 'savings_insurance', 47, 'bank', 'own', 1, 'unskilled', 1, 'none', 'yes', 2.0, 0.0, 1.0, 1.0, 0.0, 0.0, 2.0, 1.0, 1.0, 0.0, 0.0, 1.0, 0.0, [2.0, 0.0, 1.0, 1.0, 1.0, 1.0, 0.0, 0.0, 2.0, 0.0, 1.0, 0.0, 0.0, 17.0, 2908.0, 4.0, 3.0, 17.0, 47.0, 1.0, 1.0], [13.660193969947565, 6.339806030052437], [0.6830096984973781, 0.3169903015026218], 0.0, 'No Risk'], ['less_0', 10, 'all_credits_paid_back', 'appliances', 1994, 'less_100', '1_to_4', 2, 'female', 'none', 2, 'savings_insurance', 20, 'stores', 'rent', 1, 'skilled', 1, 'none', 'yes', 1.0, 3.0, 0.0, 0.0, 0.0, 1.0, 1.0, 0.0, 4.0, 0.0, 0.0, 1.0, 0.0, [1.0, 3.0, 4.0, 0.0, 0.0, 1.0, 0.0, 0.0, 1.0, 1.0, 0.0, 0.0, 0.0, 10.0, 1994.0, 2.0, 2.0, 10.0, 20.0, 1.0, 1.0], [18.145811196601095, 1.8541888033989082], [0.9072905598300546, 0.0927094401699454], 0.0, 'No Risk'], ['no_checking', 30, 'prior_payments_delayed', 'furniture', 7178, '100_to_500', '4_to_7', 4, 'male', 'none', 3, 'savings_insurance', 36, 'none', 'own', 2, 'management_self-employed', 2, 'yes', 'no', 0.0, 0.0, 1.0, 1.0, 1.0, 0.0, 0.0, 2.0, 1.0, 0.0, 0.0, 0.0, 1.0, [0.0, 0.0, 1.0, 1.0, 1.0, 0.0, 0.0, 0.0, 0.0, 0.0, 2.0, 1.0, 1.0, 30.0, 7178.0, 4.0, 3.0, 30.0, 36.0, 2.0, 2.0], [10.422602235836202, 9.577397764163798], [0.5211301117918101, 0.47886988820818993], 0.0, 'No Risk'], ['0_to_200', 5, 'prior_payments_delayed', 'car_used', 2167, 'less_100', 'unemployed', 2, 'male', 'none', 1, 'savings_insurance', 28, 'none', 'own', 1, 'management_self-employed', 1, 'none', 'yes', 2.0, 0.0, 4.0, 0.0, 0.0, 0.0, 0.0, 2.0, 2.0, 0.0, 0.0, 0.0, 0.0, [21, [0, 2, 4, 10, 13, 14, 15, 16, 17, 18, 19, 20], [2.0, 2.0, 4.0, 2.0, 5.0, 2167.0, 2.0, 1.0, 5.0, 28.0, 1.0, 1.0]], [18.686036230191085, 1.3139637698089155], [0.9343018115095543, 0.06569818849044577], 0.0, 'No Risk'], ['no_checking', 37, 'prior_payments_delayed', 'repairs', 9800, '100_to_500', '4_to_7', 5, 'male', 'co-applicant', 5, 'car_other', 44, 'stores', 'own', 2, 'unskilled', 1, 'yes', 'yes', 0.0, 0.0, 1.0, 1.0, 0.0, 0.0, 1.0, 1.0, 5.0, 1.0, 1.0, 0.0, 1.0, [0.0, 0.0, 5.0, 1.0, 1.0, 0.0, 1.0, 1.0, 1.0, 0.0, 1.0, 1.0, 0.0, 37.0, 9800.0, 5.0, 5.0, 37.0, 44.0, 2.0, 1.0], [6.064946753695517, 13.935053246304484], [0.30324733768477585, 0.6967526623152243], 1.0, 'Risk'], ['no_checking', 21, 'credits_paid_to_date', 'radio_tv', 1365, '100_to_500', '1_to_4', 2, 'female', 'none', 3, 'savings_insurance', 44, 'none', 'own', 1, 'skilled', 1, 'none', 'yes', 0.0, 1.0, 0.0, 1.0, 0.0, 0.0, 0.0, 0.0, 3.0, 0.0, 0.0, 1.0, 0.0, [21, [1, 2, 3, 5, 13, 14, 15, 16, 17, 18, 19, 20], [1.0, 3.0, 1.0, 1.0, 21.0, 1365.0, 2.0, 3.0, 21.0, 44.0, 1.0, 1.0]], [13.855056711470203, 6.144943288529792], [0.6927528355735104, 0.3072471644264897], 0.0, 'No Risk'], ['less_0', 9, 'prior_payments_delayed', 'vacation', 2380, '500_to_1000', '4_to_7', 2, 'male', 'none', 3, 'savings_insurance', 28, 'none', 'own', 1, 'skilled', 2, 'none', 'yes', 1.0, 0.0, 1.0, 2.0, 0.0, 0.0, 0.0, 0.0, 6.0, 0.0, 0.0, 0.0, 0.0, [21, [0, 2, 3, 4, 13, 14, 15, 16, 17, 18, 19, 20], [1.0, 6.0, 2.0, 1.0, 9.0, 2380.0, 2.0, 3.0, 9.0, 28.0, 1.0, 2.0]], [16.099575176016476, 3.9004248239835224], [0.8049787588008238, 0.19502124119917613], 0.0, 'No Risk'], ['less_0', 17, 'no_credits', 'car_new', 3047, 'less_100', 'unemployed', 1, 'male', 'none', 2, 'car_other', 26, 'bank', 'rent', 1, 'unemployed', 1, 'none', 'yes', 1.0, 4.0, 4.0, 0.0, 0.0, 1.0, 2.0, 3.0, 0.0, 0.0, 1.0, 0.0, 0.0, [1.0, 4.0, 0.0, 0.0, 4.0, 0.0, 0.0, 1.0, 2.0, 1.0, 3.0, 0.0, 0.0, 17.0, 3047.0, 1.0, 2.0, 17.0, 26.0, 1.0, 1.0], [18.08438233645997, 1.9156176635400253], [0.9042191168229987, 0.09578088317700129], 0.0, 'No Risk'], ['less_0', 17, 'all_credits_paid_back', 'car_new', 1026, 'less_100', 'less_1', 2, 'male', 'none', 2, 'real_estate', 25, 'none', 'own', 1, 'management_self-employed', 1, 'yes', 'yes', 1.0, 3.0, 3.0, 0.0, 0.0, 0.0, 0.0, 2.0, 0.0, 0.0, 2.0, 0.0, 1.0, [1.0, 3.0, 0.0, 0.0, 3.0, 0.0, 0.0, 2.0, 0.0, 0.0, 2.0, 1.0, 0.0, 17.0, 1026.0, 2.0, 2.0, 17.0, 25.0, 1.0, 1.0], [19.13389888666906, 0.8661011133309396], [0.9566949443334531, 0.04330505566654699], 0.0, 'No Risk'], ['greater_200', 28, 'outstanding_credit', 'radio_tv', 1411, 'unknown', 'greater_7', 3, 'male', 'none', 2, 'savings_insurance', 43, 'stores', 'own', 1, 'skilled', 1, 'yes', 'yes', 3.0, 2.0, 2.0, 4.0, 0.0, 0.0, 1.0, 0.0, 3.0, 0.0, 0.0, 0.0, 1.0, [3.0, 2.0, 3.0, 4.0, 2.0, 0.0, 0.0, 0.0, 1.0, 0.0, 0.0, 1.0, 0.0, 28.0, 1411.0, 3.0, 2.0, 28.0, 43.0, 1.0, 1.0], [12.873696466388973, 7.126303533611027], [0.6436848233194487, 0.35631517668055135], 0.0, 'No Risk'], ['greater_200', 35, 'prior_payments_delayed', 'appliances', 4109, '100_to_500', 'less_1', 3, 'male', 'none', 4, 'savings_insurance', 32, 'none', 'free', 3, 'skilled', 1, 'yes', 'yes', 3.0, 0.0, 3.0, 1.0, 0.0, 2.0, 0.0, 0.0, 4.0, 0.0, 0.0, 0.0, 1.0, [3.0, 0.0, 4.0, 1.0, 3.0, 0.0, 0.0, 0.0, 0.0, 2.0, 0.0, 1.0, 0.0, 35.0, 4109.0, 3.0, 4.0, 35.0, 32.0, 3.0, 1.0], [12.583766732155432, 7.4162332678445715], [0.6291883366077715, 0.3708116633922285], 0.0, 'No Risk'], ['no_checking', 11, 'outstanding_credit', 'car_new', 5253, '500_to_1000', '1_to_4', 2, 'female', 'guarantor', 3, 'unknown', 59, 'stores', 'own', 1, 'unskilled', 1, 'yes', 'no', 0.0, 2.0, 0.0, 2.0, 1.0, 0.0, 1.0, 1.0, 0.0, 2.0, 3.0, 1.0, 1.0, [0.0, 2.0, 0.0, 2.0, 0.0, 1.0, 2.0, 3.0, 1.0, 0.0, 1.0, 1.0, 1.0, 11.0, 5253.0, 2.0, 3.0, 11.0, 59.0, 1.0, 1.0], [11.538819586899109, 8.461180413100891], [0.5769409793449555, 0.4230590206550445], 0.0, 'No Risk']]}\n"
     ]
    }
   ],
   "source": [
    "import random\n",
    "\n",
    "with open('german_credit_feed.json', 'r') as scoring_file:\n",
    "    scoring_data = json.load(scoring_file)\n",
    "\n",
    "fields = scoring_data['fields']\n",
    "values = []\n",
    "for _ in range(1000):\n",
    "    values.append(random.choice(scoring_data['values']))\n",
    "payload_scoring = {\"fields\": fields, \"values\": values}\n",
    "\n",
    "scoring_response = wml_client.deployments.score(credit_risk_scoring_endpoint, payload_scoring)\n",
    "print(scoring_response)"
   ]
  },
  {
   "cell_type": "code",
   "execution_count": 55,
   "metadata": {
    "scrolled": false
   },
   "outputs": [
    {
     "data": {
      "text/plain": [
       "{'entity': {'asset': {'asset_id': 'b9473da0-9ae7-474a-a397-2b6ce7aa6b65',\n",
       "   'asset_type': 'model',\n",
       "   'created_at': '2019-03-19T14:00:27.876Z',\n",
       "   'name': 'Spark German Risk Model - Final',\n",
       "   'url': 'https://us-south.ml.cloud.ibm.com/v3/wml_instances/9e7215a4-16bb-464f-9e31-ff9270e66abb/published_models/b9473da0-9ae7-474a-a397-2b6ce7aa6b65'},\n",
       "  'asset_properties': {'categorical_fields': ['CheckingStatus',\n",
       "    'CreditHistory',\n",
       "    'LoanPurpose',\n",
       "    'ExistingSavings',\n",
       "    'EmploymentDuration',\n",
       "    'Sex',\n",
       "    'OthersOnLoan',\n",
       "    'OwnsProperty',\n",
       "    'InstallmentPlans',\n",
       "    'Housing',\n",
       "    'Job',\n",
       "    'Telephone',\n",
       "    'ForeignWorker'],\n",
       "   'feature_fields': ['CheckingStatus',\n",
       "    'LoanDuration',\n",
       "    'CreditHistory',\n",
       "    'LoanPurpose',\n",
       "    'LoanAmount',\n",
       "    'ExistingSavings',\n",
       "    'EmploymentDuration',\n",
       "    'InstallmentPercent',\n",
       "    'Sex',\n",
       "    'OthersOnLoan',\n",
       "    'CurrentResidenceDuration',\n",
       "    'OwnsProperty',\n",
       "    'Age',\n",
       "    'InstallmentPlans',\n",
       "    'Housing',\n",
       "    'ExistingCreditsCount',\n",
       "    'Job',\n",
       "    'Dependents',\n",
       "    'Telephone',\n",
       "    'ForeignWorker'],\n",
       "   'input_data_schema': {'fields': [{'metadata': {'measure': 'discrete',\n",
       "       'modeling_role': 'feature'},\n",
       "      'name': 'CheckingStatus',\n",
       "      'nullable': True,\n",
       "      'type': 'string'},\n",
       "     {'metadata': {'modeling_role': 'feature'},\n",
       "      'name': 'LoanDuration',\n",
       "      'nullable': True,\n",
       "      'type': 'integer'},\n",
       "     {'metadata': {'measure': 'discrete', 'modeling_role': 'feature'},\n",
       "      'name': 'CreditHistory',\n",
       "      'nullable': True,\n",
       "      'type': 'string'},\n",
       "     {'metadata': {'measure': 'discrete', 'modeling_role': 'feature'},\n",
       "      'name': 'LoanPurpose',\n",
       "      'nullable': True,\n",
       "      'type': 'string'},\n",
       "     {'metadata': {'modeling_role': 'feature'},\n",
       "      'name': 'LoanAmount',\n",
       "      'nullable': True,\n",
       "      'type': 'integer'},\n",
       "     {'metadata': {'measure': 'discrete', 'modeling_role': 'feature'},\n",
       "      'name': 'ExistingSavings',\n",
       "      'nullable': True,\n",
       "      'type': 'string'},\n",
       "     {'metadata': {'measure': 'discrete', 'modeling_role': 'feature'},\n",
       "      'name': 'EmploymentDuration',\n",
       "      'nullable': True,\n",
       "      'type': 'string'},\n",
       "     {'metadata': {'modeling_role': 'feature'},\n",
       "      'name': 'InstallmentPercent',\n",
       "      'nullable': True,\n",
       "      'type': 'integer'},\n",
       "     {'metadata': {'measure': 'discrete', 'modeling_role': 'feature'},\n",
       "      'name': 'Sex',\n",
       "      'nullable': True,\n",
       "      'type': 'string'},\n",
       "     {'metadata': {'measure': 'discrete', 'modeling_role': 'feature'},\n",
       "      'name': 'OthersOnLoan',\n",
       "      'nullable': True,\n",
       "      'type': 'string'},\n",
       "     {'metadata': {'modeling_role': 'feature'},\n",
       "      'name': 'CurrentResidenceDuration',\n",
       "      'nullable': True,\n",
       "      'type': 'integer'},\n",
       "     {'metadata': {'measure': 'discrete', 'modeling_role': 'feature'},\n",
       "      'name': 'OwnsProperty',\n",
       "      'nullable': True,\n",
       "      'type': 'string'},\n",
       "     {'metadata': {'modeling_role': 'feature'},\n",
       "      'name': 'Age',\n",
       "      'nullable': True,\n",
       "      'type': 'integer'},\n",
       "     {'metadata': {'measure': 'discrete', 'modeling_role': 'feature'},\n",
       "      'name': 'InstallmentPlans',\n",
       "      'nullable': True,\n",
       "      'type': 'string'},\n",
       "     {'metadata': {'measure': 'discrete', 'modeling_role': 'feature'},\n",
       "      'name': 'Housing',\n",
       "      'nullable': True,\n",
       "      'type': 'string'},\n",
       "     {'metadata': {'modeling_role': 'feature'},\n",
       "      'name': 'ExistingCreditsCount',\n",
       "      'nullable': True,\n",
       "      'type': 'integer'},\n",
       "     {'metadata': {'measure': 'discrete', 'modeling_role': 'feature'},\n",
       "      'name': 'Job',\n",
       "      'nullable': True,\n",
       "      'type': 'string'},\n",
       "     {'metadata': {'modeling_role': 'feature'},\n",
       "      'name': 'Dependents',\n",
       "      'nullable': True,\n",
       "      'type': 'integer'},\n",
       "     {'metadata': {'measure': 'discrete', 'modeling_role': 'feature'},\n",
       "      'name': 'Telephone',\n",
       "      'nullable': True,\n",
       "      'type': 'string'},\n",
       "     {'metadata': {'measure': 'discrete', 'modeling_role': 'feature'},\n",
       "      'name': 'ForeignWorker',\n",
       "      'nullable': True,\n",
       "      'type': 'string'}],\n",
       "    'type': 'struct'},\n",
       "   'input_data_type': 'structured',\n",
       "   'label_column': 'Risk',\n",
       "   'model_type': 'mllib-2.1',\n",
       "   'output_data_schema': {'fields': [{'metadata': {'measure': 'discrete',\n",
       "       'modeling_role': 'feature'},\n",
       "      'name': 'CheckingStatus',\n",
       "      'nullable': True,\n",
       "      'type': 'string'},\n",
       "     {'metadata': {'modeling_role': 'feature'},\n",
       "      'name': 'LoanDuration',\n",
       "      'nullable': True,\n",
       "      'type': 'integer'},\n",
       "     {'metadata': {'measure': 'discrete', 'modeling_role': 'feature'},\n",
       "      'name': 'CreditHistory',\n",
       "      'nullable': True,\n",
       "      'type': 'string'},\n",
       "     {'metadata': {'measure': 'discrete', 'modeling_role': 'feature'},\n",
       "      'name': 'LoanPurpose',\n",
       "      'nullable': True,\n",
       "      'type': 'string'},\n",
       "     {'metadata': {'modeling_role': 'feature'},\n",
       "      'name': 'LoanAmount',\n",
       "      'nullable': True,\n",
       "      'type': 'integer'},\n",
       "     {'metadata': {'measure': 'discrete', 'modeling_role': 'feature'},\n",
       "      'name': 'ExistingSavings',\n",
       "      'nullable': True,\n",
       "      'type': 'string'},\n",
       "     {'metadata': {'measure': 'discrete', 'modeling_role': 'feature'},\n",
       "      'name': 'EmploymentDuration',\n",
       "      'nullable': True,\n",
       "      'type': 'string'},\n",
       "     {'metadata': {'modeling_role': 'feature'},\n",
       "      'name': 'InstallmentPercent',\n",
       "      'nullable': True,\n",
       "      'type': 'integer'},\n",
       "     {'metadata': {'measure': 'discrete', 'modeling_role': 'feature'},\n",
       "      'name': 'Sex',\n",
       "      'nullable': True,\n",
       "      'type': 'string'},\n",
       "     {'metadata': {'measure': 'discrete', 'modeling_role': 'feature'},\n",
       "      'name': 'OthersOnLoan',\n",
       "      'nullable': True,\n",
       "      'type': 'string'},\n",
       "     {'metadata': {'modeling_role': 'feature'},\n",
       "      'name': 'CurrentResidenceDuration',\n",
       "      'nullable': True,\n",
       "      'type': 'integer'},\n",
       "     {'metadata': {'measure': 'discrete', 'modeling_role': 'feature'},\n",
       "      'name': 'OwnsProperty',\n",
       "      'nullable': True,\n",
       "      'type': 'string'},\n",
       "     {'metadata': {'modeling_role': 'feature'},\n",
       "      'name': 'Age',\n",
       "      'nullable': True,\n",
       "      'type': 'integer'},\n",
       "     {'metadata': {'measure': 'discrete', 'modeling_role': 'feature'},\n",
       "      'name': 'InstallmentPlans',\n",
       "      'nullable': True,\n",
       "      'type': 'string'},\n",
       "     {'metadata': {'measure': 'discrete', 'modeling_role': 'feature'},\n",
       "      'name': 'Housing',\n",
       "      'nullable': True,\n",
       "      'type': 'string'},\n",
       "     {'metadata': {'modeling_role': 'feature'},\n",
       "      'name': 'ExistingCreditsCount',\n",
       "      'nullable': True,\n",
       "      'type': 'integer'},\n",
       "     {'metadata': {'measure': 'discrete', 'modeling_role': 'feature'},\n",
       "      'name': 'Job',\n",
       "      'nullable': True,\n",
       "      'type': 'string'},\n",
       "     {'metadata': {'modeling_role': 'feature'},\n",
       "      'name': 'Dependents',\n",
       "      'nullable': True,\n",
       "      'type': 'integer'},\n",
       "     {'metadata': {'measure': 'discrete', 'modeling_role': 'feature'},\n",
       "      'name': 'Telephone',\n",
       "      'nullable': True,\n",
       "      'type': 'string'},\n",
       "     {'metadata': {'measure': 'discrete', 'modeling_role': 'feature'},\n",
       "      'name': 'ForeignWorker',\n",
       "      'nullable': True,\n",
       "      'type': 'string'},\n",
       "     {'metadata': {},\n",
       "      'name': 'CheckingStatus_IX',\n",
       "      'nullable': True,\n",
       "      'type': 'double'},\n",
       "     {'metadata': {},\n",
       "      'name': 'CreditHistory_IX',\n",
       "      'nullable': True,\n",
       "      'type': 'double'},\n",
       "     {'metadata': {},\n",
       "      'name': 'EmploymentDuration_IX',\n",
       "      'nullable': True,\n",
       "      'type': 'double'},\n",
       "     {'metadata': {},\n",
       "      'name': 'ExistingSavings_IX',\n",
       "      'nullable': True,\n",
       "      'type': 'double'},\n",
       "     {'metadata': {},\n",
       "      'name': 'ForeignWorker_IX',\n",
       "      'nullable': True,\n",
       "      'type': 'double'},\n",
       "     {'metadata': {},\n",
       "      'name': 'Housing_IX',\n",
       "      'nullable': True,\n",
       "      'type': 'double'},\n",
       "     {'metadata': {},\n",
       "      'name': 'InstallmentPlans_IX',\n",
       "      'nullable': True,\n",
       "      'type': 'double'},\n",
       "     {'metadata': {}, 'name': 'Job_IX', 'nullable': True, 'type': 'double'},\n",
       "     {'metadata': {},\n",
       "      'name': 'LoanPurpose_IX',\n",
       "      'nullable': True,\n",
       "      'type': 'double'},\n",
       "     {'metadata': {},\n",
       "      'name': 'OthersOnLoan_IX',\n",
       "      'nullable': True,\n",
       "      'type': 'double'},\n",
       "     {'metadata': {},\n",
       "      'name': 'OwnsProperty_IX',\n",
       "      'nullable': True,\n",
       "      'type': 'double'},\n",
       "     {'metadata': {}, 'name': 'Sex_IX', 'nullable': True, 'type': 'double'},\n",
       "     {'metadata': {},\n",
       "      'name': 'Telephone_IX',\n",
       "      'nullable': True,\n",
       "      'type': 'double'},\n",
       "     {'metadata': {},\n",
       "      'name': 'features',\n",
       "      'nullable': True,\n",
       "      'type': {'containsNull': True,\n",
       "       'elementType': 'string',\n",
       "       'type': 'array'}},\n",
       "     {'metadata': {},\n",
       "      'name': 'rawPrediction',\n",
       "      'nullable': True,\n",
       "      'type': {'containsNull': True,\n",
       "       'elementType': 'double',\n",
       "       'type': 'array'}},\n",
       "     {'metadata': {'modeling_role': 'probability'},\n",
       "      'name': 'probability',\n",
       "      'nullable': True,\n",
       "      'type': {'containsNull': True,\n",
       "       'elementType': 'double',\n",
       "       'type': 'array'}},\n",
       "     {'metadata': {'modeling_role': 'prediction'},\n",
       "      'name': 'prediction',\n",
       "      'nullable': True,\n",
       "      'type': 'double'},\n",
       "     {'metadata': {'modeling_role': 'decoded-target'},\n",
       "      'name': 'predictedLabel',\n",
       "      'nullable': True,\n",
       "      'type': 'string'},\n",
       "     {'metadata': {'modeling_role': 'debiased-prediction'},\n",
       "      'name': 'debiased_prediction',\n",
       "      'nullable': True,\n",
       "      'type': 'double'},\n",
       "     {'metadata': {'modeling_role': 'debiased-probability'},\n",
       "      'name': 'debiased_probability',\n",
       "      'nullable': True,\n",
       "      'type': {'containsNull': True,\n",
       "       'elementType': 'double',\n",
       "       'type': 'array'}}],\n",
       "    'type': 'struct'},\n",
       "   'predicted_target_field': 'predictedLabel',\n",
       "   'prediction_probability_field': 'probability',\n",
       "   'problem_type': 'binary',\n",
       "   'runtime_environment': 'spark-2.1',\n",
       "   'training_data_schema': {'fields': [{'metadata': {'measure': 'discrete',\n",
       "       'modeling_role': 'feature'},\n",
       "      'name': 'CheckingStatus',\n",
       "      'nullable': True,\n",
       "      'type': 'string'},\n",
       "     {'metadata': {'modeling_role': 'feature'},\n",
       "      'name': 'LoanDuration',\n",
       "      'nullable': True,\n",
       "      'type': 'integer'},\n",
       "     {'metadata': {'measure': 'discrete', 'modeling_role': 'feature'},\n",
       "      'name': 'CreditHistory',\n",
       "      'nullable': True,\n",
       "      'type': 'string'},\n",
       "     {'metadata': {'measure': 'discrete', 'modeling_role': 'feature'},\n",
       "      'name': 'LoanPurpose',\n",
       "      'nullable': True,\n",
       "      'type': 'string'},\n",
       "     {'metadata': {'modeling_role': 'feature'},\n",
       "      'name': 'LoanAmount',\n",
       "      'nullable': True,\n",
       "      'type': 'integer'},\n",
       "     {'metadata': {'measure': 'discrete', 'modeling_role': 'feature'},\n",
       "      'name': 'ExistingSavings',\n",
       "      'nullable': True,\n",
       "      'type': 'string'},\n",
       "     {'metadata': {'measure': 'discrete', 'modeling_role': 'feature'},\n",
       "      'name': 'EmploymentDuration',\n",
       "      'nullable': True,\n",
       "      'type': 'string'},\n",
       "     {'metadata': {'modeling_role': 'feature'},\n",
       "      'name': 'InstallmentPercent',\n",
       "      'nullable': True,\n",
       "      'type': 'integer'},\n",
       "     {'metadata': {'measure': 'discrete', 'modeling_role': 'feature'},\n",
       "      'name': 'Sex',\n",
       "      'nullable': True,\n",
       "      'type': 'string'},\n",
       "     {'metadata': {'measure': 'discrete', 'modeling_role': 'feature'},\n",
       "      'name': 'OthersOnLoan',\n",
       "      'nullable': True,\n",
       "      'type': 'string'},\n",
       "     {'metadata': {'modeling_role': 'feature'},\n",
       "      'name': 'CurrentResidenceDuration',\n",
       "      'nullable': True,\n",
       "      'type': 'integer'},\n",
       "     {'metadata': {'measure': 'discrete', 'modeling_role': 'feature'},\n",
       "      'name': 'OwnsProperty',\n",
       "      'nullable': True,\n",
       "      'type': 'string'},\n",
       "     {'metadata': {'modeling_role': 'feature'},\n",
       "      'name': 'Age',\n",
       "      'nullable': True,\n",
       "      'type': 'integer'},\n",
       "     {'metadata': {'measure': 'discrete', 'modeling_role': 'feature'},\n",
       "      'name': 'InstallmentPlans',\n",
       "      'nullable': True,\n",
       "      'type': 'string'},\n",
       "     {'metadata': {'measure': 'discrete', 'modeling_role': 'feature'},\n",
       "      'name': 'Housing',\n",
       "      'nullable': True,\n",
       "      'type': 'string'},\n",
       "     {'metadata': {'modeling_role': 'feature'},\n",
       "      'name': 'ExistingCreditsCount',\n",
       "      'nullable': True,\n",
       "      'type': 'integer'},\n",
       "     {'metadata': {'measure': 'discrete', 'modeling_role': 'feature'},\n",
       "      'name': 'Job',\n",
       "      'nullable': True,\n",
       "      'type': 'string'},\n",
       "     {'metadata': {'modeling_role': 'feature'},\n",
       "      'name': 'Dependents',\n",
       "      'nullable': True,\n",
       "      'type': 'integer'},\n",
       "     {'metadata': {'measure': 'discrete', 'modeling_role': 'feature'},\n",
       "      'name': 'Telephone',\n",
       "      'nullable': True,\n",
       "      'type': 'string'},\n",
       "     {'metadata': {'measure': 'discrete', 'modeling_role': 'feature'},\n",
       "      'name': 'ForeignWorker',\n",
       "      'nullable': True,\n",
       "      'type': 'string'},\n",
       "     {'metadata': {'modeling_role': 'target'},\n",
       "      'name': 'Risk',\n",
       "      'nullable': True,\n",
       "      'type': 'string'}],\n",
       "    'type': 'struct'}},\n",
       "  'configurations': [{'enabled': True,\n",
       "    'monitor_definition_id': 'payload_logging',\n",
       "    'type': 'payload_logging',\n",
       "    'url': '/v1/data_marts/f94e20cb-aa92-4636-97ce-08de6b714d02/service_bindings/9e7215a4-16bb-464f-9e31-ff9270e66abb/subscriptions/b9473da0-9ae7-474a-a397-2b6ce7aa6b65/configurations/payload_logging'},\n",
       "   {'enabled': False,\n",
       "    'monitor_definition_id': 'explainability',\n",
       "    'type': 'explainability',\n",
       "    'url': '/v1/data_marts/f94e20cb-aa92-4636-97ce-08de6b714d02/service_bindings/9e7215a4-16bb-464f-9e31-ff9270e66abb/subscriptions/b9473da0-9ae7-474a-a397-2b6ce7aa6b65/configurations/explainability'},\n",
       "   {'enabled': True,\n",
       "    'monitor_definition_id': 'performance_monitoring',\n",
       "    'type': 'performance_monitoring',\n",
       "    'url': '/v1/data_marts/f94e20cb-aa92-4636-97ce-08de6b714d02/service_bindings/9e7215a4-16bb-464f-9e31-ff9270e66abb/subscriptions/b9473da0-9ae7-474a-a397-2b6ce7aa6b65/configurations/performance_monitoring'},\n",
       "   {'enabled': True,\n",
       "    'monitor_definition_id': 'fairness_monitoring',\n",
       "    'type': 'fairness_monitoring',\n",
       "    'url': '/v1/data_marts/f94e20cb-aa92-4636-97ce-08de6b714d02/service_bindings/9e7215a4-16bb-464f-9e31-ff9270e66abb/subscriptions/b9473da0-9ae7-474a-a397-2b6ce7aa6b65/configurations/fairness_monitoring'},\n",
       "   {'enabled': True,\n",
       "    'monitor_definition_id': 'quality',\n",
       "    'type': 'quality_monitoring',\n",
       "    'url': '/v1/data_marts/f94e20cb-aa92-4636-97ce-08de6b714d02/service_bindings/9e7215a4-16bb-464f-9e31-ff9270e66abb/subscriptions/b9473da0-9ae7-474a-a397-2b6ce7aa6b65/configurations/quality'}],\n",
       "  'deployments': [{'created_at': '2019-03-19T14:00:27.898Z',\n",
       "    'deployment_id': '4d125552-83ee-456a-b1d4-3fd518743082',\n",
       "    'deployment_rn': '',\n",
       "    'deployment_type': 'online',\n",
       "    'name': 'Spark German Risk Deployment - Final',\n",
       "    'scoring_endpoint': {'request_headers': {'Content-Type': 'application/json'},\n",
       "     'url': 'https://us-south.ml.cloud.ibm.com/v3/wml_instances/9e7215a4-16bb-464f-9e31-ff9270e66abb/deployments/4d125552-83ee-456a-b1d4-3fd518743082/online'},\n",
       "    'url': 'https://us-south.ml.cloud.ibm.com/v3/wml_instances/9e7215a4-16bb-464f-9e31-ff9270e66abb/deployments/4d125552-83ee-456a-b1d4-3fd518743082'}],\n",
       "  'service_binding_id': '9e7215a4-16bb-464f-9e31-ff9270e66abb',\n",
       "  'status': {'state': 'active'}},\n",
       " 'metadata': {'created_at': '2019-03-19T14:02:56.917Z',\n",
       "  'guid': 'b9473da0-9ae7-474a-a397-2b6ce7aa6b65',\n",
       "  'modified_at': '2019-03-19T14:05:51.057Z',\n",
       "  'url': '/v1/data_marts/f94e20cb-aa92-4636-97ce-08de6b714d02/service_bindings/9e7215a4-16bb-464f-9e31-ff9270e66abb/subscriptions/b9473da0-9ae7-474a-a397-2b6ce7aa6b65'}}"
      ]
     },
     "execution_count": 55,
     "metadata": {},
     "output_type": "execute_result"
    }
   ],
   "source": [
    "subscription.get_details()"
   ]
  },
  {
   "cell_type": "markdown",
   "metadata": {},
   "source": [
    "# Insert historical payloads"
   ]
  },
  {
   "cell_type": "code",
   "execution_count": 56,
   "metadata": {
    "scrolled": false
   },
   "outputs": [
    {
     "name": "stdout",
     "output_type": "stream",
     "text": [
      "--2019-03-19 09:06:09--  https://raw.githubusercontent.com/emartensibm/german-credit/master/payload_history_1.json\n",
      "Resolving raw.githubusercontent.com (raw.githubusercontent.com)... 151.101.48.133\n",
      "Connecting to raw.githubusercontent.com (raw.githubusercontent.com)|151.101.48.133|:443... connected.\n",
      "HTTP request sent, awaiting response... 200 OK\n",
      "Length: 3817949 (3.6M) [text/plain]\n",
      "Saving to: ‘payload_history_1.json’\n",
      "\n",
      "100%[======================================>] 3,817,949   --.-K/s   in 0.1s    \n",
      "\n",
      "2019-03-19 09:06:09 (34.6 MB/s) - ‘payload_history_1.json’ saved [3817949/3817949]\n",
      "\n",
      "--2019-03-19 09:06:09--  https://raw.githubusercontent.com/emartensibm/german-credit/master/payload_history_2.json\n",
      "Resolving raw.githubusercontent.com (raw.githubusercontent.com)... 151.101.48.133\n",
      "Connecting to raw.githubusercontent.com (raw.githubusercontent.com)|151.101.48.133|:443... connected.\n",
      "HTTP request sent, awaiting response... 200 OK\n",
      "Length: 3818645 (3.6M) [text/plain]\n",
      "Saving to: ‘payload_history_2.json’\n",
      "\n",
      "100%[======================================>] 3,818,645   --.-K/s   in 0.1s    \n",
      "\n",
      "2019-03-19 09:06:09 (32.0 MB/s) - ‘payload_history_2.json’ saved [3818645/3818645]\n",
      "\n",
      "--2019-03-19 09:06:10--  https://raw.githubusercontent.com/emartensibm/german-credit/master/payload_history_3.json\n",
      "Resolving raw.githubusercontent.com (raw.githubusercontent.com)... 151.101.48.133\n",
      "Connecting to raw.githubusercontent.com (raw.githubusercontent.com)|151.101.48.133|:443... connected.\n",
      "HTTP request sent, awaiting response... 200 OK\n",
      "Length: 3818470 (3.6M) [text/plain]\n",
      "Saving to: ‘payload_history_3.json’\n",
      "\n",
      "100%[======================================>] 3,818,470   --.-K/s   in 0.1s    \n",
      "\n",
      "2019-03-19 09:06:10 (29.8 MB/s) - ‘payload_history_3.json’ saved [3818470/3818470]\n",
      "\n",
      "--2019-03-19 09:06:10--  https://raw.githubusercontent.com/emartensibm/german-credit/master/payload_history_4.json\n",
      "Resolving raw.githubusercontent.com (raw.githubusercontent.com)... 151.101.48.133\n",
      "Connecting to raw.githubusercontent.com (raw.githubusercontent.com)|151.101.48.133|:443... connected.\n",
      "HTTP request sent, awaiting response... 200 OK\n",
      "Length: 3818106 (3.6M) [text/plain]\n",
      "Saving to: ‘payload_history_4.json’\n",
      "\n",
      "100%[======================================>] 3,818,106   --.-K/s   in 0.1s    \n",
      "\n",
      "2019-03-19 09:06:10 (27.7 MB/s) - ‘payload_history_4.json’ saved [3818106/3818106]\n",
      "\n",
      "--2019-03-19 09:06:11--  https://raw.githubusercontent.com/emartensibm/german-credit/master/payload_history_5.json\n",
      "Resolving raw.githubusercontent.com (raw.githubusercontent.com)... 151.101.48.133\n",
      "Connecting to raw.githubusercontent.com (raw.githubusercontent.com)|151.101.48.133|:443... connected.\n",
      "HTTP request sent, awaiting response... 200 OK\n",
      "Length: 3817474 (3.6M) [text/plain]\n",
      "Saving to: ‘payload_history_5.json’\n",
      "\n",
      "100%[======================================>] 3,817,474   --.-K/s   in 0.1s    \n",
      "\n",
      "2019-03-19 09:06:11 (31.7 MB/s) - ‘payload_history_5.json’ saved [3817474/3817474]\n",
      "\n",
      "--2019-03-19 09:06:11--  https://raw.githubusercontent.com/emartensibm/german-credit/master/payload_history_6.json\n",
      "Resolving raw.githubusercontent.com (raw.githubusercontent.com)... 151.101.48.133\n",
      "Connecting to raw.githubusercontent.com (raw.githubusercontent.com)|151.101.48.133|:443... connected.\n",
      "HTTP request sent, awaiting response... 200 OK\n",
      "Length: 3817921 (3.6M) [text/plain]\n",
      "Saving to: ‘payload_history_6.json’\n",
      "\n",
      "100%[======================================>] 3,817,921   --.-K/s   in 0.1s    \n",
      "\n",
      "2019-03-19 09:06:11 (34.8 MB/s) - ‘payload_history_6.json’ saved [3817921/3817921]\n",
      "\n",
      "--2019-03-19 09:06:11--  https://raw.githubusercontent.com/emartensibm/german-credit/master/payload_history_7.json\n",
      "Resolving raw.githubusercontent.com (raw.githubusercontent.com)... 151.101.48.133\n",
      "Connecting to raw.githubusercontent.com (raw.githubusercontent.com)|151.101.48.133|:443... connected.\n",
      "HTTP request sent, awaiting response... 200 OK\n",
      "Length: 3818121 (3.6M) [text/plain]\n",
      "Saving to: ‘payload_history_7.json’\n",
      "\n",
      "100%[======================================>] 3,818,121   --.-K/s   in 0.1s    \n",
      "\n",
      "2019-03-19 09:06:12 (28.1 MB/s) - ‘payload_history_7.json’ saved [3818121/3818121]\n",
      "\n"
     ]
    }
   ],
   "source": [
    "!rm payload_history*.json\n",
    "!wget https://raw.githubusercontent.com/emartensibm/german-credit/master/payload_history_1.json\n",
    "!wget https://raw.githubusercontent.com/emartensibm/german-credit/master/payload_history_2.json\n",
    "!wget https://raw.githubusercontent.com/emartensibm/german-credit/master/payload_history_3.json\n",
    "!wget https://raw.githubusercontent.com/emartensibm/german-credit/master/payload_history_4.json\n",
    "!wget https://raw.githubusercontent.com/emartensibm/german-credit/master/payload_history_5.json\n",
    "!wget https://raw.githubusercontent.com/emartensibm/german-credit/master/payload_history_6.json\n",
    "!wget https://raw.githubusercontent.com/emartensibm/german-credit/master/payload_history_7.json"
   ]
  },
  {
   "cell_type": "code",
   "execution_count": 57,
   "metadata": {
    "scrolled": true
   },
   "outputs": [],
   "source": [
    "historyDays = 7"
   ]
  },
  {
   "cell_type": "code",
   "execution_count": 58,
   "metadata": {
    "scrolled": true
   },
   "outputs": [
    {
     "name": "stdout",
     "output_type": "stream",
     "text": [
      "Loading day 1\n",
      "Loading day 2\n",
      "Loading day 3\n",
      "Loading day 4\n",
      "Loading day 5\n",
      "Loading day 6\n",
      "Loading day 7\n",
      "Finished\n"
     ]
    }
   ],
   "source": [
    "from ibm_ai_openscale.supporting_classes import PayloadRecord, Feature\n",
    "import datetime\n",
    "import time\n",
    "\n",
    "for day in range(historyDays):\n",
    "    print('Loading day {}'.format(day + 1))\n",
    "    history_file = 'payload_history_' + str(day + 1) + '.json'\n",
    "    with open(history_file) as f:\n",
    "        payloads = json.load(f)\n",
    "        hourly_records = int(len(payloads) / 24)\n",
    "        index = 0\n",
    "        for hour in range(24):\n",
    "            recordsList = []\n",
    "            for i in range(hourly_records):\n",
    "                score_time = str(datetime.datetime.utcnow() + datetime.timedelta(hours=(-(24*day + hour + 1))))\n",
    "                recordsList.append(PayloadRecord(request=payloads[index]['request'], response=payloads[index]['response'], scoring_timestamp=score_time))\n",
    "                index += 1\n",
    "            subscription.payload_logging.store(records=recordsList)\n",
    "print('Finished')"
   ]
  },
  {
   "cell_type": "code",
   "execution_count": 59,
   "metadata": {
    "scrolled": true
   },
   "outputs": [
    {
     "name": "stdout",
     "output_type": "stream",
     "text": [
      "f94e20cb-aa92-4636-97ce-08de6b714d02\n"
     ]
    }
   ],
   "source": [
    "data_mart_id = subscription.get_details()['metadata']['url'].split('/service_bindings')[0].split('marts/')[1]\n",
    "print(data_mart_id)"
   ]
  },
  {
   "cell_type": "code",
   "execution_count": 60,
   "metadata": {
    "scrolled": true
   },
   "outputs": [
    {
     "name": "stdout",
     "output_type": "stream",
     "text": [
      "https://api.aiopenscale.cloud.ibm.com/v1/data_marts/f94e20cb-aa92-4636-97ce-08de6b714d02/metrics\n"
     ]
    }
   ],
   "source": [
    "performance_metrics_url = 'https://api.aiopenscale.cloud.ibm.com' + subscription.get_details()['metadata']['url'].split('/service_bindings')[0] + '/metrics'\n",
    "print(performance_metrics_url)"
   ]
  },
  {
   "cell_type": "markdown",
   "metadata": {},
   "source": [
    "## Insert historical fairness metrics"
   ]
  },
  {
   "cell_type": "code",
   "execution_count": 61,
   "metadata": {},
   "outputs": [
    {
     "name": "stdout",
     "output_type": "stream",
     "text": [
      "--2019-03-19 09:06:59--  https://raw.githubusercontent.com/emartensibm/german-credit/master/fairness_history.json\n",
      "Resolving raw.githubusercontent.com (raw.githubusercontent.com)... 151.101.48.133\n",
      "Connecting to raw.githubusercontent.com (raw.githubusercontent.com)|151.101.48.133|:443... connected.\n",
      "HTTP request sent, awaiting response... 200 OK\n",
      "Length: 877247 (857K) [text/plain]\n",
      "Saving to: ‘fairness_history.json’\n",
      "\n",
      "100%[======================================>] 877,247     --.-K/s   in 0.04s   \n",
      "\n",
      "2019-03-19 09:07:00 (18.9 MB/s) - ‘fairness_history.json’ saved [877247/877247]\n",
      "\n"
     ]
    }
   ],
   "source": [
    "!rm fairness_history.json\n",
    "!wget https://raw.githubusercontent.com/emartensibm/german-credit/master/fairness_history.json"
   ]
  },
  {
   "cell_type": "code",
   "execution_count": 62,
   "metadata": {
    "scrolled": true
   },
   "outputs": [
    {
     "name": "stdout",
     "output_type": "stream",
     "text": [
      "Day 1\n",
      "Day 2\n",
      "Day 3\n",
      "Day 4\n",
      "Day 5\n",
      "Day 6\n",
      "Day 7\n",
      "Finished\n"
     ]
    }
   ],
   "source": [
    "import random\n",
    "token_data = {\n",
    "    'grant_type': 'urn:ibm:params:oauth:grant-type:apikey',\n",
    "    'response_type': 'cloud_iam',\n",
    "    'apikey': AIOS_CREDENTIALS['apikey']\n",
    "}\n",
    "\n",
    "response = requests.post('https://iam.bluemix.net/identity/token', data=token_data)\n",
    "iam_token = response.json()['access_token']\n",
    "iam_headers = {\n",
    "    'Content-Type': 'application/json',\n",
    "    'Authorization': 'Bearer %s' % iam_token\n",
    "}\n",
    "\n",
    "with open('fairness_history.json', 'r') as history_file:\n",
    "    payloads = json.load(history_file)\n",
    "\n",
    "for day in range(historyDays):\n",
    "    print('Day', day + 1)\n",
    "    for hour in range(24):\n",
    "        score_time = (datetime.datetime.utcnow() + datetime.timedelta(hours=(-(24*day + hour + 1)))).strftime('%Y-%m-%dT%H:%M:%SZ')\n",
    "        \n",
    "        qualityMetric = {\n",
    "            'metric_type': 'fairness',\n",
    "            'binding_id': binding_uid,\n",
    "            'timestamp': score_time,\n",
    "            'subscription_id': model_uid,\n",
    "            'asset_revision': model_uid,\n",
    "            'deployment_id': deployment_uid,\n",
    "            'value': random.choice(payloads)\n",
    "        }\n",
    "\n",
    "        response = requests.post(performance_metrics_url, json=[qualityMetric], headers=iam_headers)\n",
    "print('Finished')"
   ]
  },
  {
   "cell_type": "markdown",
   "metadata": {},
   "source": [
    "## Insert historical quality metrics"
   ]
  },
  {
   "cell_type": "code",
   "execution_count": 63,
   "metadata": {
    "scrolled": true
   },
   "outputs": [
    {
     "name": "stdout",
     "output_type": "stream",
     "text": [
      "Day 1\n",
      "Day 2\n",
      "Day 3\n",
      "Day 4\n",
      "Day 5\n",
      "Day 6\n",
      "Day 7\n",
      "Finished\n"
     ]
    }
   ],
   "source": [
    "token_data = {\n",
    "    'grant_type': 'urn:ibm:params:oauth:grant-type:apikey',\n",
    "    'response_type': 'cloud_iam',\n",
    "    'apikey': AIOS_CREDENTIALS['apikey']\n",
    "}\n",
    "\n",
    "response = requests.post('https://iam.bluemix.net/identity/token', data=token_data)\n",
    "iam_token = response.json()['access_token']\n",
    "iam_headers = {\n",
    "    'Content-Type': 'application/json',\n",
    "    'Authorization': 'Bearer %s' % iam_token\n",
    "}\n",
    "\n",
    "measurements = [0.76, 0.78, 0.68, 0.72, 0.73, 0.77, 0.80]\n",
    "for day in range(historyDays):\n",
    "    print('Day', day + 1)\n",
    "    for hour in range(24):\n",
    "        score_time = (datetime.datetime.utcnow() + datetime.timedelta(hours=(-(24*day + hour + 1)))).strftime('%Y-%m-%dT%H:%M:%SZ')\n",
    "        \n",
    "        qualityMetric = {\n",
    "            'metric_type': 'quality',\n",
    "            'binding_id': binding_uid,\n",
    "            'timestamp': score_time,\n",
    "            'subscription_id': model_uid,\n",
    "            'asset_revision': model_uid,\n",
    "            'deployment_id': deployment_uid,\n",
    "            'value': {\n",
    "                'quality': measurements[day],\n",
    "                'threshold': 0.7,\n",
    "                'metrics': [\n",
    "                    {\n",
    "                        'name': 'auroc',\n",
    "                        'value': measurements[day],\n",
    "                        'threshold': 0.7\n",
    "                    }\n",
    "                ]\n",
    "            }\n",
    "        }\n",
    "\n",
    "        response = requests.post(performance_metrics_url, json=[qualityMetric], headers=iam_headers)\n",
    "print('Finished')"
   ]
  },
  {
   "cell_type": "markdown",
   "metadata": {},
   "source": [
    "## Insert historical performance metrics"
   ]
  },
  {
   "cell_type": "code",
   "execution_count": 64,
   "metadata": {},
   "outputs": [
    {
     "name": "stdout",
     "output_type": "stream",
     "text": [
      "Day 1\n",
      "Day 2\n",
      "Day 3\n",
      "Day 4\n",
      "Day 5\n",
      "Day 6\n",
      "Day 7\n",
      "Finished\n"
     ]
    }
   ],
   "source": [
    "token_data = {\n",
    "    'grant_type': 'urn:ibm:params:oauth:grant-type:apikey',\n",
    "    'response_type': 'cloud_iam',\n",
    "    'apikey': AIOS_CREDENTIALS['apikey']\n",
    "}\n",
    "\n",
    "response = requests.post('https://iam.bluemix.net/identity/token', data=token_data)\n",
    "iam_token = response.json()['access_token']\n",
    "iam_headers = {\n",
    "    'Content-Type': 'application/json',\n",
    "    'Authorization': 'Bearer %s' % iam_token\n",
    "}\n",
    "\n",
    "for day in range(historyDays):\n",
    "    print('Day', day + 1)\n",
    "    for hour in range(24):\n",
    "        score_time = (datetime.datetime.utcnow() + datetime.timedelta(hours=(-(24*day + hour + 1)))).strftime('%Y-%m-%dT%H:%M:%SZ')\n",
    "        score_count = random.randint(60, 600)\n",
    "        score_resp = random.uniform(60, 300)\n",
    "\n",
    "        performanceMetric = {\n",
    "            'metric_type': 'performance',\n",
    "            'binding_id': binding_uid,\n",
    "            'timestamp': score_time,\n",
    "            'subscription_id': model_uid,\n",
    "            'asset_revision': model_uid,\n",
    "            'deployment_id': deployment_uid,\n",
    "            'value': {\n",
    "                'response_time': score_resp,\n",
    "                'records': score_count\n",
    "            }\n",
    "        }\n",
    "\n",
    "        response = requests.post(performance_metrics_url, json=[performanceMetric], headers=iam_headers)\n",
    "print('Finished')"
   ]
  },
  {
   "cell_type": "markdown",
   "metadata": {},
   "source": [
    "## Configure Explainability"
   ]
  },
  {
   "cell_type": "code",
   "execution_count": 65,
   "metadata": {
    "scrolled": true
   },
   "outputs": [],
   "source": [
    "from ibm_ai_openscale.supporting_classes import *\n",
    "subscription.explainability.enable(training_data=pd_data)"
   ]
  },
  {
   "cell_type": "code",
   "execution_count": 66,
   "metadata": {
    "scrolled": true
   },
   "outputs": [
    {
     "data": {
      "text/plain": [
       "{'enabled': True,\n",
       " 'parameters': {'training_statistics': {'base_values': {'0': 'no_checking',\n",
       "    '1': 21.0,\n",
       "    '10': 3.0,\n",
       "    '11': 'savings_insurance',\n",
       "    '12': 36.0,\n",
       "    '13': 'none',\n",
       "    '14': 'own',\n",
       "    '15': 1.0,\n",
       "    '16': 'skilled',\n",
       "    '17': 1.0,\n",
       "    '18': 'none',\n",
       "    '19': 'yes',\n",
       "    '2': 'prior_payments_delayed',\n",
       "    '3': 'car_new',\n",
       "    '4': 3238.5,\n",
       "    '5': 'less_100',\n",
       "    '6': '1_to_4',\n",
       "    '7': 3.0,\n",
       "    '8': 'male',\n",
       "    '9': 'none'},\n",
       "   'categorical_columns': ['CheckingStatus',\n",
       "    'CreditHistory',\n",
       "    'LoanPurpose',\n",
       "    'ExistingSavings',\n",
       "    'EmploymentDuration',\n",
       "    'Sex',\n",
       "    'OthersOnLoan',\n",
       "    'OwnsProperty',\n",
       "    'InstallmentPlans',\n",
       "    'Housing',\n",
       "    'Job',\n",
       "    'Telephone',\n",
       "    'ForeignWorker'],\n",
       "   'categorical_columns_encoding_mapping': {'0': ['0_to_200',\n",
       "     'greater_200',\n",
       "     'less_0',\n",
       "     'no_checking'],\n",
       "    '11': ['car_other', 'real_estate', 'savings_insurance', 'unknown'],\n",
       "    '13': ['bank', 'none', 'stores'],\n",
       "    '14': ['free', 'own', 'rent'],\n",
       "    '16': ['management_self-employed', 'skilled', 'unemployed', 'unskilled'],\n",
       "    '18': ['none', 'yes'],\n",
       "    '19': ['no', 'yes'],\n",
       "    '2': ['all_credits_paid_back',\n",
       "     'credits_paid_to_date',\n",
       "     'no_credits',\n",
       "     'outstanding_credit',\n",
       "     'prior_payments_delayed'],\n",
       "    '3': ['appliances',\n",
       "     'business',\n",
       "     'car_new',\n",
       "     'car_used',\n",
       "     'education',\n",
       "     'furniture',\n",
       "     'other',\n",
       "     'radio_tv',\n",
       "     'repairs',\n",
       "     'retraining',\n",
       "     'vacation'],\n",
       "    '5': ['100_to_500', '500_to_1000', 'greater_1000', 'less_100', 'unknown'],\n",
       "    '6': ['1_to_4', '4_to_7', 'greater_7', 'less_1', 'unemployed'],\n",
       "    '8': ['female', 'male'],\n",
       "    '9': ['co-applicant', 'guarantor', 'none']},\n",
       "   'categorical_counts': {'0': {'0_to_200': 1304,\n",
       "     'greater_200': 305,\n",
       "     'less_0': 1398,\n",
       "     'no_checking': 1993},\n",
       "    '11': {'car_other': 1540,\n",
       "     'real_estate': 1087,\n",
       "     'savings_insurance': 1660,\n",
       "     'unknown': 713},\n",
       "    '13': {'bank': 466, 'none': 3517, 'stores': 1017},\n",
       "    '14': {'free': 739, 'own': 3195, 'rent': 1066},\n",
       "    '16': {'management_self-employed': 641,\n",
       "     'skilled': 3400,\n",
       "     'unemployed': 286,\n",
       "     'unskilled': 673},\n",
       "    '18': {'none': 2941, 'yes': 2059},\n",
       "    '19': {'no': 123, 'yes': 4877},\n",
       "    '2': {'all_credits_paid_back': 769,\n",
       "     'credits_paid_to_date': 1490,\n",
       "     'no_credits': 117,\n",
       "     'outstanding_credit': 938,\n",
       "     'prior_payments_delayed': 1686},\n",
       "    '3': {'appliances': 561,\n",
       "     'business': 146,\n",
       "     'car_new': 945,\n",
       "     'car_used': 808,\n",
       "     'education': 167,\n",
       "     'furniture': 853,\n",
       "     'other': 113,\n",
       "     'radio_tv': 755,\n",
       "     'repairs': 283,\n",
       "     'retraining': 164,\n",
       "     'vacation': 205},\n",
       "    '5': {'100_to_500': 1133,\n",
       "     '500_to_1000': 1078,\n",
       "     'greater_1000': 558,\n",
       "     'less_100': 1856,\n",
       "     'unknown': 375},\n",
       "    '6': {'1_to_4': 1470,\n",
       "     '4_to_7': 1400,\n",
       "     'greater_7': 930,\n",
       "     'less_1': 904,\n",
       "     'unemployed': 296},\n",
       "    '8': {'female': 1896, 'male': 3104},\n",
       "    '9': {'co-applicant': 717, 'guarantor': 110, 'none': 4173}},\n",
       "   'class_labels': ['No Risk', 'Risk'],\n",
       "   'd_bins': {'1': [13.0, 21.0, 29.0],\n",
       "    '10': [2.0, 3.0, 4.0],\n",
       "    '12': [28.0, 36.0, 44.0],\n",
       "    '15': [1.0, 1.0, 2.0],\n",
       "    '17': [1.0, 1.0, 1.0],\n",
       "    '4': [1326.75, 3238.5, 5355.0],\n",
       "    '7': [2.0, 3.0, 4.0]},\n",
       "   'd_maxs': {'1': [13.0, 21.0, 29.0, 64],\n",
       "    '10': [2.0, 3.0, 4.0, 6],\n",
       "    '12': [28.0, 36.0, 44.0, 74],\n",
       "    '15': [1.0, 2.0, 4],\n",
       "    '17': [1.0, 2],\n",
       "    '4': [1326.75, 3238.5, 5355.0, 11676],\n",
       "    '7': [2.0, 3.0, 4.0, 6]},\n",
       "   'd_means': {'1': [7.876363636363636,\n",
       "     17.343856655290104,\n",
       "     25.615767634854773,\n",
       "     36.010416666666664],\n",
       "    '10': [1.6606574761399788, 3.0, 4.0, 5.008403361344538],\n",
       "    '12': [22.81831610044313,\n",
       "     32.60750586395621,\n",
       "     40.36829268292683,\n",
       "     50.49076517150396],\n",
       "    '15': [1.0, 2.0, 3.005714285714286],\n",
       "    '17': [1.0, 2.0],\n",
       "    '4': [480.6648, 2291.952, 4282.900079936051, 6867.1305044035225],\n",
       "    '7': [1.6991202346041057, 3.0, 4.0, 5.039735099337748]},\n",
       "   'd_mins': {'1': [4, 13.0, 21.0, 29.0],\n",
       "    '10': [1, 2.0, 3.0, 4.0],\n",
       "    '12': [19, 28.0, 36.0, 44.0],\n",
       "    '15': [1, 1.0, 2.0],\n",
       "    '17': [1, 1.0],\n",
       "    '4': [250, 1326.75, 3238.5, 5355.0],\n",
       "    '7': [1, 2.0, 3.0, 4.0]},\n",
       "   'd_stds': {'1': [3.277136423855652,\n",
       "     2.3104647243135257,\n",
       "     2.2016780501487694,\n",
       "     5.480360081360561],\n",
       "    '10': [0.4734861934310266, 1e-11, 1e-11, 0.09128386968395145],\n",
       "    '12': [3.3320991295514313,\n",
       "     2.2814080024457186,\n",
       "     2.2498714352952085,\n",
       "     4.849734375521442],\n",
       "    '15': [1e-11, 1e-11, 0.0753766054858451],\n",
       "    '17': [1e-11, 1e-11],\n",
       "    '4': [341.97517167327516,\n",
       "     542.3014505752415,\n",
       "     614.7408612958544,\n",
       "     1206.6756003938751],\n",
       "    '7': [0.4586405260990112, 1e-11, 1e-11, 0.1953361748941403]},\n",
       "   'feature_columns': ['CheckingStatus',\n",
       "    'LoanDuration',\n",
       "    'CreditHistory',\n",
       "    'LoanPurpose',\n",
       "    'LoanAmount',\n",
       "    'ExistingSavings',\n",
       "    'EmploymentDuration',\n",
       "    'InstallmentPercent',\n",
       "    'Sex',\n",
       "    'OthersOnLoan',\n",
       "    'CurrentResidenceDuration',\n",
       "    'OwnsProperty',\n",
       "    'Age',\n",
       "    'InstallmentPlans',\n",
       "    'Housing',\n",
       "    'ExistingCreditsCount',\n",
       "    'Job',\n",
       "    'Dependents',\n",
       "    'Telephone',\n",
       "    'ForeignWorker'],\n",
       "   'feature_frequencies': {'0': [1304, 305, 1398, 1993],\n",
       "    '1': [1375, 1172, 1205, 1248],\n",
       "    '10': [1886, 1677, 1080, 357],\n",
       "    '11': [1540, 1087, 1660, 713],\n",
       "    '12': [1354, 1279, 1230, 1137],\n",
       "    '13': [466, 3517, 1017],\n",
       "    '14': [739, 3195, 1066],\n",
       "    '15': [2847, 1978, 175],\n",
       "    '16': [641, 3400, 286, 673],\n",
       "    '17': [4177, 823],\n",
       "    '18': [2941, 2059],\n",
       "    '19': [123, 4877],\n",
       "    '2': [769, 1490, 117, 938, 1686],\n",
       "    '3': [561, 146, 945, 808, 167, 853, 113, 755, 283, 164, 205],\n",
       "    '4': [1250, 1250, 1251, 1249],\n",
       "    '5': [1133, 1078, 558, 1856, 375],\n",
       "    '6': [1470, 1400, 930, 904, 296],\n",
       "    '7': [1705, 1636, 1206, 453],\n",
       "    '8': [1896, 3104],\n",
       "    '9': [717, 110, 4173]},\n",
       "   'feature_values': {'0': [0, 1, 2, 3],\n",
       "    '1': [0, 1, 2, 3],\n",
       "    '10': [0, 1, 2, 3],\n",
       "    '11': [0, 1, 2, 3],\n",
       "    '12': [0, 1, 2, 3],\n",
       "    '13': [0, 1, 2],\n",
       "    '14': [0, 1, 2],\n",
       "    '15': [0, 1, 2],\n",
       "    '16': [0, 1, 2, 3],\n",
       "    '17': [0, 1],\n",
       "    '18': [0, 1],\n",
       "    '19': [0, 1],\n",
       "    '2': [0, 1, 2, 3, 4],\n",
       "    '3': [0, 1, 2, 3, 4, 5, 6, 7, 8, 9, 10],\n",
       "    '4': [0, 1, 2, 3],\n",
       "    '5': [0, 1, 2, 3, 4],\n",
       "    '6': [0, 1, 2, 3, 4],\n",
       "    '7': [0, 1, 2, 3],\n",
       "    '8': [0, 1],\n",
       "    '9': [0, 1, 2]},\n",
       "   'maxs': {'1': 64, '10': 6, '12': 74, '15': 4, '17': 2, '4': 11676, '7': 6},\n",
       "   'mins': {'1': 4, '10': 1, '12': 19, '15': 1, '17': 1, '4': 250, '7': 1},\n",
       "   'stds': {'1': 11.161727061705102,\n",
       "    '10': 1.1155905879846781,\n",
       "    '12': 10.647470602917858,\n",
       "    '15': 0.565358611856227,\n",
       "    '17': 0.3708191472942033,\n",
       "    '4': 2487.983946968911,\n",
       "    '7': 1.126982803772977}}}}"
      ]
     },
     "execution_count": 66,
     "metadata": {},
     "output_type": "execute_result"
    }
   ],
   "source": [
    "subscription.explainability.get_details()"
   ]
  },
  {
   "cell_type": "markdown",
   "metadata": {},
   "source": [
    "## Run fairness monitor"
   ]
  },
  {
   "cell_type": "markdown",
   "metadata": {},
   "source": [
    "Kick off a fairness monitor run on current data. Depending on how fast the monitor runs, the table may not contain the most recent results."
   ]
  },
  {
   "cell_type": "code",
   "execution_count": 67,
   "metadata": {
    "scrolled": true
   },
   "outputs": [],
   "source": [
    "run_details = subscription.fairness_monitoring.run()"
   ]
  },
  {
   "cell_type": "code",
   "execution_count": 68,
   "metadata": {
    "scrolled": true
   },
   "outputs": [
    {
     "data": {
      "text/html": [
       "<HTML>\n",
       "        <body>\n",
       "            <h3>FairnessMetrics (binding_id=9e7215a4-16bb-464f-9e31-ff9270e66abb, subscription_id=b9473da0-9ae7-474a-a397-2b6ce7aa6b65)</h3>\n",
       "            <table style='border: 1px solid #dddddd; font-family: Courier'>\n",
       "                <th style='border: 1px solid #dddddd'>ts</th><th style='border: 1px solid #dddddd'>feature</th><th style='border: 1px solid #dddddd'>feature_value</th><th style='border: 1px solid #dddddd'>fairness_biased</th><th style='border: 1px solid #dddddd'>fairness_value</th><th style='border: 1px solid #dddddd'>fairness_fav_class</th><th style='border: 1px solid #dddddd'>binding_id</th><th style='border: 1px solid #dddddd'>subscription_id</th><th style='border: 1px solid #dddddd'>asset_revision</th><th style='border: 1px solid #dddddd'>deployment_id</th><th style='border: 1px solid #dddddd'>process</th>\n",
       "                <tr><td style='border: 1px solid #dddddd'>2019-03-19 13:07:07+00:00</td><td style='border: 1px solid #dddddd'>Sex</td><td style='border: 1px solid #dddddd'>female</td><td style='border: 1px solid #dddddd'>True</td><td style='border: 1px solid #dddddd'>0.918</td><td style='border: 1px solid #dddddd'>72.5</td><td style='border: 1px solid #dddddd'>9e7215a4-16bb-464f-9e31-ff9270e66abb</td><td style='border: 1px solid #dddddd'>b9473da0-9ae7-474a-a397-2b6ce7aa6b65</td><td style='border: 1px solid #dddddd'>b9473da0-9ae7-474a-a397-2b6ce7aa6b65</td><td style='border: 1px solid #dddddd'>4d125552-83ee-456a-b1d4-3fd518743082</td><td style='border: 1px solid #dddddd'></td></tr><tr><td style='border: 1px solid #dddddd'>2019-03-19 13:07:07+00:00</td><td style='border: 1px solid #dddddd'>Age</td><td style='border: 1px solid #dddddd'>[18, 25]</td><td style='border: 1px solid #dddddd'>False</td><td style='border: 1px solid #dddddd'>1.025</td><td style='border: 1px solid #dddddd'>83.65650969529086</td><td style='border: 1px solid #dddddd'>9e7215a4-16bb-464f-9e31-ff9270e66abb</td><td style='border: 1px solid #dddddd'>b9473da0-9ae7-474a-a397-2b6ce7aa6b65</td><td style='border: 1px solid #dddddd'>b9473da0-9ae7-474a-a397-2b6ce7aa6b65</td><td style='border: 1px solid #dddddd'>4d125552-83ee-456a-b1d4-3fd518743082</td><td style='border: 1px solid #dddddd'></td></tr><tr><td style='border: 1px solid #dddddd'>2019-03-19 14:08:43.777913+00:00</td><td style='border: 1px solid #dddddd'>Sex</td><td style='border: 1px solid #dddddd'>female</td><td style='border: 1px solid #dddddd'>True</td><td style='border: 1px solid #dddddd'>0.947</td><td style='border: 1px solid #dddddd'>72.7</td><td style='border: 1px solid #dddddd'>9e7215a4-16bb-464f-9e31-ff9270e66abb</td><td style='border: 1px solid #dddddd'>b9473da0-9ae7-474a-a397-2b6ce7aa6b65</td><td style='border: 1px solid #dddddd'>b9473da0-9ae7-474a-a397-2b6ce7aa6b65</td><td style='border: 1px solid #dddddd'>4d125552-83ee-456a-b1d4-3fd518743082</td><td style='border: 1px solid #dddddd'></td></tr><tr><td style='border: 1px solid #dddddd'>2019-03-19 14:08:43.777913+00:00</td><td style='border: 1px solid #dddddd'>Age</td><td style='border: 1px solid #dddddd'>[18, 25]</td><td style='border: 1px solid #dddddd'>False</td><td style='border: 1px solid #dddddd'>0.989</td><td style='border: 1px solid #dddddd'>79.24528301886792</td><td style='border: 1px solid #dddddd'>9e7215a4-16bb-464f-9e31-ff9270e66abb</td><td style='border: 1px solid #dddddd'>b9473da0-9ae7-474a-a397-2b6ce7aa6b65</td><td style='border: 1px solid #dddddd'>b9473da0-9ae7-474a-a397-2b6ce7aa6b65</td><td style='border: 1px solid #dddddd'>4d125552-83ee-456a-b1d4-3fd518743082</td><td style='border: 1px solid #dddddd'></td></tr><tr><td style='border: 1px solid #dddddd'>2019-03-19 14:11:48.569594+00:00</td><td style='border: 1px solid #dddddd'>Sex</td><td style='border: 1px solid #dddddd'>female</td><td style='border: 1px solid #dddddd'>True</td><td style='border: 1px solid #dddddd'>0.947</td><td style='border: 1px solid #dddddd'>72.7</td><td style='border: 1px solid #dddddd'>9e7215a4-16bb-464f-9e31-ff9270e66abb</td><td style='border: 1px solid #dddddd'>b9473da0-9ae7-474a-a397-2b6ce7aa6b65</td><td style='border: 1px solid #dddddd'>b9473da0-9ae7-474a-a397-2b6ce7aa6b65</td><td style='border: 1px solid #dddddd'>4d125552-83ee-456a-b1d4-3fd518743082</td><td style='border: 1px solid #dddddd'></td></tr><tr><td style='border: 1px solid #dddddd'>2019-03-19 14:11:48.569594+00:00</td><td style='border: 1px solid #dddddd'>Age</td><td style='border: 1px solid #dddddd'>[18, 25]</td><td style='border: 1px solid #dddddd'>False</td><td style='border: 1px solid #dddddd'>0.989</td><td style='border: 1px solid #dddddd'>79.24528301886792</td><td style='border: 1px solid #dddddd'>9e7215a4-16bb-464f-9e31-ff9270e66abb</td><td style='border: 1px solid #dddddd'>b9473da0-9ae7-474a-a397-2b6ce7aa6b65</td><td style='border: 1px solid #dddddd'>b9473da0-9ae7-474a-a397-2b6ce7aa6b65</td><td style='border: 1px solid #dddddd'>4d125552-83ee-456a-b1d4-3fd518743082</td><td style='border: 1px solid #dddddd'></td></tr>\n",
       "            </table>\n",
       "        </body>\n",
       "        </HTML>"
      ],
      "text/plain": [
       "<IPython.core.display.HTML object>"
      ]
     },
     "metadata": {},
     "output_type": "display_data"
    }
   ],
   "source": [
    "subscription.fairness_monitoring.show_table()"
   ]
  },
  {
   "cell_type": "markdown",
   "metadata": {},
   "source": [
    "## Additional data to help debugging"
   ]
  },
  {
   "cell_type": "code",
   "execution_count": 69,
   "metadata": {
    "scrolled": true
   },
   "outputs": [
    {
     "name": "stdout",
     "output_type": "stream",
     "text": [
      "Datamart: f94e20cb-aa92-4636-97ce-08de6b714d02\n",
      "Model: b9473da0-9ae7-474a-a397-2b6ce7aa6b65\n",
      "Deployment: 4d125552-83ee-456a-b1d4-3fd518743082\n",
      "Binding: 9e7215a4-16bb-464f-9e31-ff9270e66abb\n",
      "Scoring URL: https://us-south.ml.cloud.ibm.com/v3/wml_instances/9e7215a4-16bb-464f-9e31-ff9270e66abb/deployments/4d125552-83ee-456a-b1d4-3fd518743082/online\n"
     ]
    }
   ],
   "source": [
    "print('Datamart:', data_mart_id)\n",
    "print('Model:', model_uid)\n",
    "print('Deployment:', deployment_uid)\n",
    "print('Binding:', binding_uid)\n",
    "print('Scoring URL:', credit_risk_scoring_endpoint)"
   ]
  },
  {
   "cell_type": "markdown",
   "metadata": {},
   "source": [
    "## Identify transactions for Explainability"
   ]
  },
  {
   "cell_type": "markdown",
   "metadata": {},
   "source": [
    "Transaction IDs identified by the cells below can be copied and pasted into the Explainability tab of the OpenScale dashboard."
   ]
  },
  {
   "cell_type": "code",
   "execution_count": 70,
   "metadata": {},
   "outputs": [
    {
     "data": {
      "text/html": [
       "<div>\n",
       "<style scoped>\n",
       "    .dataframe tbody tr th:only-of-type {\n",
       "        vertical-align: middle;\n",
       "    }\n",
       "\n",
       "    .dataframe tbody tr th {\n",
       "        vertical-align: top;\n",
       "    }\n",
       "\n",
       "    .dataframe thead th {\n",
       "        text-align: right;\n",
       "    }\n",
       "</style>\n",
       "<table border=\"1\" class=\"dataframe\">\n",
       "  <thead>\n",
       "    <tr style=\"text-align: right;\">\n",
       "      <th></th>\n",
       "      <th>scoring_id</th>\n",
       "      <th>predictedLabel</th>\n",
       "      <th>probability</th>\n",
       "    </tr>\n",
       "  </thead>\n",
       "  <tbody>\n",
       "    <tr>\n",
       "      <th>0</th>\n",
       "      <td>dee896e754a91d3b0ef6428a3d190bc1-147</td>\n",
       "      <td>Risk</td>\n",
       "      <td>[0.39529250215656087, 0.6047074978434391]</td>\n",
       "    </tr>\n",
       "    <tr>\n",
       "      <th>1</th>\n",
       "      <td>dee896e754a91d3b0ef6428a3d190bc1-150</td>\n",
       "      <td>Risk</td>\n",
       "      <td>[0.16901307178954633, 0.8309869282104536]</td>\n",
       "    </tr>\n",
       "    <tr>\n",
       "      <th>2</th>\n",
       "      <td>dee896e754a91d3b0ef6428a3d190bc1-142</td>\n",
       "      <td>No Risk</td>\n",
       "      <td>[0.7983854192170071, 0.20161458078299285]</td>\n",
       "    </tr>\n",
       "    <tr>\n",
       "      <th>3</th>\n",
       "      <td>dee896e754a91d3b0ef6428a3d190bc1-146</td>\n",
       "      <td>No Risk</td>\n",
       "      <td>[0.6076710233097418, 0.39232897669025835]</td>\n",
       "    </tr>\n",
       "    <tr>\n",
       "      <th>4</th>\n",
       "      <td>dee896e754a91d3b0ef6428a3d190bc1-149</td>\n",
       "      <td>No Risk</td>\n",
       "      <td>[0.6761969235818277, 0.32380307641817224]</td>\n",
       "    </tr>\n",
       "    <tr>\n",
       "      <th>5</th>\n",
       "      <td>dee896e754a91d3b0ef6428a3d190bc1-15</td>\n",
       "      <td>No Risk</td>\n",
       "      <td>[0.6756922948373565, 0.3243077051626435]</td>\n",
       "    </tr>\n",
       "    <tr>\n",
       "      <th>6</th>\n",
       "      <td>dee896e754a91d3b0ef6428a3d190bc1-141</td>\n",
       "      <td>No Risk</td>\n",
       "      <td>[0.845919183590898, 0.15408081640910204]</td>\n",
       "    </tr>\n",
       "    <tr>\n",
       "      <th>7</th>\n",
       "      <td>dee896e754a91d3b0ef6428a3d190bc1-133</td>\n",
       "      <td>No Risk</td>\n",
       "      <td>[0.5266038757997153, 0.47339612420028454]</td>\n",
       "    </tr>\n",
       "    <tr>\n",
       "      <th>8</th>\n",
       "      <td>dee896e754a91d3b0ef6428a3d190bc1-145</td>\n",
       "      <td>No Risk</td>\n",
       "      <td>[0.920162863435178, 0.07983713656482216]</td>\n",
       "    </tr>\n",
       "    <tr>\n",
       "      <th>9</th>\n",
       "      <td>dee896e754a91d3b0ef6428a3d190bc1-121</td>\n",
       "      <td>No Risk</td>\n",
       "      <td>[0.7520103580613784, 0.2479896419386216]</td>\n",
       "    </tr>\n",
       "    <tr>\n",
       "      <th>10</th>\n",
       "      <td>dee896e754a91d3b0ef6428a3d190bc1-140</td>\n",
       "      <td>No Risk</td>\n",
       "      <td>[0.9042031133008084, 0.09579688669919163]</td>\n",
       "    </tr>\n",
       "    <tr>\n",
       "      <th>11</th>\n",
       "      <td>dee896e754a91d3b0ef6428a3d190bc1-148</td>\n",
       "      <td>No Risk</td>\n",
       "      <td>[0.8333062213266565, 0.1666937786733435]</td>\n",
       "    </tr>\n",
       "    <tr>\n",
       "      <th>12</th>\n",
       "      <td>dee896e754a91d3b0ef6428a3d190bc1-130</td>\n",
       "      <td>Risk</td>\n",
       "      <td>[0.17960162457744083, 0.8203983754225591]</td>\n",
       "    </tr>\n",
       "    <tr>\n",
       "      <th>13</th>\n",
       "      <td>dee896e754a91d3b0ef6428a3d190bc1-134</td>\n",
       "      <td>Risk</td>\n",
       "      <td>[0.1898545247079901, 0.8101454752920099]</td>\n",
       "    </tr>\n",
       "    <tr>\n",
       "      <th>14</th>\n",
       "      <td>dee896e754a91d3b0ef6428a3d190bc1-139</td>\n",
       "      <td>Risk</td>\n",
       "      <td>[0.2550112156683831, 0.744988784331617]</td>\n",
       "    </tr>\n",
       "    <tr>\n",
       "      <th>15</th>\n",
       "      <td>dee896e754a91d3b0ef6428a3d190bc1-131</td>\n",
       "      <td>No Risk</td>\n",
       "      <td>[0.7177564861272426, 0.28224351387275737]</td>\n",
       "    </tr>\n",
       "    <tr>\n",
       "      <th>16</th>\n",
       "      <td>dee896e754a91d3b0ef6428a3d190bc1-128</td>\n",
       "      <td>No Risk</td>\n",
       "      <td>[0.7659082055157764, 0.23409179448422354]</td>\n",
       "    </tr>\n",
       "    <tr>\n",
       "      <th>17</th>\n",
       "      <td>dee896e754a91d3b0ef6428a3d190bc1-114</td>\n",
       "      <td>No Risk</td>\n",
       "      <td>[0.5341996103746208, 0.4658003896253792]</td>\n",
       "    </tr>\n",
       "    <tr>\n",
       "      <th>18</th>\n",
       "      <td>dee896e754a91d3b0ef6428a3d190bc1-138</td>\n",
       "      <td>Risk</td>\n",
       "      <td>[0.44984781877040414, 0.5501521812295959]</td>\n",
       "    </tr>\n",
       "    <tr>\n",
       "      <th>19</th>\n",
       "      <td>dee896e754a91d3b0ef6428a3d190bc1-144</td>\n",
       "      <td>No Risk</td>\n",
       "      <td>[0.8003434024042031, 0.1996565975957969]</td>\n",
       "    </tr>\n",
       "    <tr>\n",
       "      <th>20</th>\n",
       "      <td>dee896e754a91d3b0ef6428a3d190bc1-120</td>\n",
       "      <td>No Risk</td>\n",
       "      <td>[0.7887122194468028, 0.2112877805531971]</td>\n",
       "    </tr>\n",
       "    <tr>\n",
       "      <th>21</th>\n",
       "      <td>dee896e754a91d3b0ef6428a3d190bc1-111</td>\n",
       "      <td>No Risk</td>\n",
       "      <td>[0.6217973223236626, 0.3782026776763374]</td>\n",
       "    </tr>\n",
       "    <tr>\n",
       "      <th>22</th>\n",
       "      <td>dee896e754a91d3b0ef6428a3d190bc1-136</td>\n",
       "      <td>No Risk</td>\n",
       "      <td>[0.6199282792795647, 0.3800717207204354]</td>\n",
       "    </tr>\n",
       "    <tr>\n",
       "      <th>23</th>\n",
       "      <td>dee896e754a91d3b0ef6428a3d190bc1-12</td>\n",
       "      <td>Risk</td>\n",
       "      <td>[0.4572618662748974, 0.5427381337251026]</td>\n",
       "    </tr>\n",
       "    <tr>\n",
       "      <th>24</th>\n",
       "      <td>dee896e754a91d3b0ef6428a3d190bc1-14</td>\n",
       "      <td>No Risk</td>\n",
       "      <td>[0.9131100350247267, 0.08688996497527345]</td>\n",
       "    </tr>\n",
       "    <tr>\n",
       "      <th>25</th>\n",
       "      <td>dee896e754a91d3b0ef6428a3d190bc1-143</td>\n",
       "      <td>No Risk</td>\n",
       "      <td>[0.6972360749634008, 0.30276392503659916]</td>\n",
       "    </tr>\n",
       "    <tr>\n",
       "      <th>26</th>\n",
       "      <td>dee896e754a91d3b0ef6428a3d190bc1-123</td>\n",
       "      <td>Risk</td>\n",
       "      <td>[0.14267193876249876, 0.8573280612375012]</td>\n",
       "    </tr>\n",
       "    <tr>\n",
       "      <th>27</th>\n",
       "      <td>dee896e754a91d3b0ef6428a3d190bc1-129</td>\n",
       "      <td>No Risk</td>\n",
       "      <td>[0.7979453175530322, 0.20205468244696778]</td>\n",
       "    </tr>\n",
       "    <tr>\n",
       "      <th>28</th>\n",
       "      <td>dee896e754a91d3b0ef6428a3d190bc1-115</td>\n",
       "      <td>No Risk</td>\n",
       "      <td>[0.951209553295112, 0.04879044670488806]</td>\n",
       "    </tr>\n",
       "    <tr>\n",
       "      <th>29</th>\n",
       "      <td>dee896e754a91d3b0ef6428a3d190bc1-106</td>\n",
       "      <td>Risk</td>\n",
       "      <td>[0.13744658384742087, 0.8625534161525792]</td>\n",
       "    </tr>\n",
       "    <tr>\n",
       "      <th>30</th>\n",
       "      <td>dee896e754a91d3b0ef6428a3d190bc1-103</td>\n",
       "      <td>No Risk</td>\n",
       "      <td>[0.6386179436433489, 0.3613820563566512]</td>\n",
       "    </tr>\n",
       "    <tr>\n",
       "      <th>31</th>\n",
       "      <td>dee896e754a91d3b0ef6428a3d190bc1-137</td>\n",
       "      <td>No Risk</td>\n",
       "      <td>[0.5779353142927051, 0.4220646857072949]</td>\n",
       "    </tr>\n",
       "    <tr>\n",
       "      <th>32</th>\n",
       "      <td>dee896e754a91d3b0ef6428a3d190bc1-119</td>\n",
       "      <td>Risk</td>\n",
       "      <td>[0.42650559416201367, 0.5734944058379864]</td>\n",
       "    </tr>\n",
       "    <tr>\n",
       "      <th>33</th>\n",
       "      <td>dee896e754a91d3b0ef6428a3d190bc1-127</td>\n",
       "      <td>No Risk</td>\n",
       "      <td>[0.9854484873047363, 0.014551512695263584]</td>\n",
       "    </tr>\n",
       "    <tr>\n",
       "      <th>34</th>\n",
       "      <td>dee896e754a91d3b0ef6428a3d190bc1-125</td>\n",
       "      <td>Risk</td>\n",
       "      <td>[0.176212225017051, 0.823787774982949]</td>\n",
       "    </tr>\n",
       "    <tr>\n",
       "      <th>35</th>\n",
       "      <td>dee896e754a91d3b0ef6428a3d190bc1-116</td>\n",
       "      <td>Risk</td>\n",
       "      <td>[0.1947106418440965, 0.8052893581559035]</td>\n",
       "    </tr>\n",
       "    <tr>\n",
       "      <th>36</th>\n",
       "      <td>dee896e754a91d3b0ef6428a3d190bc1-110</td>\n",
       "      <td>Risk</td>\n",
       "      <td>[0.3951568526391602, 0.6048431473608397]</td>\n",
       "    </tr>\n",
       "    <tr>\n",
       "      <th>37</th>\n",
       "      <td>dee896e754a91d3b0ef6428a3d190bc1-102</td>\n",
       "      <td>No Risk</td>\n",
       "      <td>[0.9757008899935263, 0.02429911000647368]</td>\n",
       "    </tr>\n",
       "    <tr>\n",
       "      <th>38</th>\n",
       "      <td>dee896e754a91d3b0ef6428a3d190bc1-13</td>\n",
       "      <td>Risk</td>\n",
       "      <td>[0.47424777738519797, 0.5257522226148021]</td>\n",
       "    </tr>\n",
       "    <tr>\n",
       "      <th>39</th>\n",
       "      <td>dee896e754a91d3b0ef6428a3d190bc1-135</td>\n",
       "      <td>No Risk</td>\n",
       "      <td>[0.9844613907671196, 0.01553860923288044]</td>\n",
       "    </tr>\n",
       "    <tr>\n",
       "      <th>40</th>\n",
       "      <td>dee896e754a91d3b0ef6428a3d190bc1-124</td>\n",
       "      <td>No Risk</td>\n",
       "      <td>[0.9060059803560065, 0.09399401964399354]</td>\n",
       "    </tr>\n",
       "    <tr>\n",
       "      <th>41</th>\n",
       "      <td>dee896e754a91d3b0ef6428a3d190bc1-118</td>\n",
       "      <td>No Risk</td>\n",
       "      <td>[0.6421684465760815, 0.35783155342391854]</td>\n",
       "    </tr>\n",
       "    <tr>\n",
       "      <th>42</th>\n",
       "      <td>dee896e754a91d3b0ef6428a3d190bc1-11</td>\n",
       "      <td>No Risk</td>\n",
       "      <td>[0.9795043497038316, 0.02049565029616848]</td>\n",
       "    </tr>\n",
       "    <tr>\n",
       "      <th>43</th>\n",
       "      <td>dee896e754a91d3b0ef6428a3d190bc1-10</td>\n",
       "      <td>No Risk</td>\n",
       "      <td>[0.7647920891799063, 0.23520791082009374]</td>\n",
       "    </tr>\n",
       "    <tr>\n",
       "      <th>44</th>\n",
       "      <td>dee896e754a91d3b0ef6428a3d190bc1-105</td>\n",
       "      <td>No Risk</td>\n",
       "      <td>[0.7623538506703823, 0.2376461493296178]</td>\n",
       "    </tr>\n",
       "    <tr>\n",
       "      <th>45</th>\n",
       "      <td>dee896e754a91d3b0ef6428a3d190bc1-107</td>\n",
       "      <td>Risk</td>\n",
       "      <td>[0.36448401471622205, 0.6355159852837781]</td>\n",
       "    </tr>\n",
       "    <tr>\n",
       "      <th>46</th>\n",
       "      <td>dee896e754a91d3b0ef6428a3d190bc1-109</td>\n",
       "      <td>No Risk</td>\n",
       "      <td>[0.9044326364545275, 0.09556736354547243]</td>\n",
       "    </tr>\n",
       "    <tr>\n",
       "      <th>47</th>\n",
       "      <td>dee896e754a91d3b0ef6428a3d190bc1-117</td>\n",
       "      <td>Risk</td>\n",
       "      <td>[0.3609636946211392, 0.6390363053788608]</td>\n",
       "    </tr>\n",
       "    <tr>\n",
       "      <th>48</th>\n",
       "      <td>dee896e754a91d3b0ef6428a3d190bc1-113</td>\n",
       "      <td>No Risk</td>\n",
       "      <td>[0.7591663641159098, 0.24083363588409012]</td>\n",
       "    </tr>\n",
       "    <tr>\n",
       "      <th>49</th>\n",
       "      <td>dee896e754a91d3b0ef6428a3d190bc1-104</td>\n",
       "      <td>Risk</td>\n",
       "      <td>[0.06606071811725121, 0.9339392818827488]</td>\n",
       "    </tr>\n",
       "    <tr>\n",
       "      <th>50</th>\n",
       "      <td>dee896e754a91d3b0ef6428a3d190bc1-112</td>\n",
       "      <td>No Risk</td>\n",
       "      <td>[0.7493407655178933, 0.2506592344821068]</td>\n",
       "    </tr>\n",
       "    <tr>\n",
       "      <th>51</th>\n",
       "      <td>dee896e754a91d3b0ef6428a3d190bc1-108</td>\n",
       "      <td>No Risk</td>\n",
       "      <td>[0.9826119008172005, 0.017388099182799478]</td>\n",
       "    </tr>\n",
       "    <tr>\n",
       "      <th>52</th>\n",
       "      <td>dee896e754a91d3b0ef6428a3d190bc1-132</td>\n",
       "      <td>Risk</td>\n",
       "      <td>[0.4593060253528935, 0.5406939746471064]</td>\n",
       "    </tr>\n",
       "    <tr>\n",
       "      <th>53</th>\n",
       "      <td>dee896e754a91d3b0ef6428a3d190bc1-101</td>\n",
       "      <td>No Risk</td>\n",
       "      <td>[0.9654984009083319, 0.03450159909166804]</td>\n",
       "    </tr>\n",
       "    <tr>\n",
       "      <th>54</th>\n",
       "      <td>dee896e754a91d3b0ef6428a3d190bc1-100</td>\n",
       "      <td>No Risk</td>\n",
       "      <td>[0.9457369271139425, 0.05426307288605749]</td>\n",
       "    </tr>\n",
       "    <tr>\n",
       "      <th>55</th>\n",
       "      <td>dee896e754a91d3b0ef6428a3d190bc1-1000</td>\n",
       "      <td>No Risk</td>\n",
       "      <td>[0.5769409793449555, 0.4230590206550445]</td>\n",
       "    </tr>\n",
       "    <tr>\n",
       "      <th>56</th>\n",
       "      <td>dee896e754a91d3b0ef6428a3d190bc1-126</td>\n",
       "      <td>Risk</td>\n",
       "      <td>[0.4334277705219418, 0.5665722294780582]</td>\n",
       "    </tr>\n",
       "    <tr>\n",
       "      <th>57</th>\n",
       "      <td>dee896e754a91d3b0ef6428a3d190bc1-122</td>\n",
       "      <td>No Risk</td>\n",
       "      <td>[0.774439767641814, 0.225560232358186]</td>\n",
       "    </tr>\n",
       "    <tr>\n",
       "      <th>58</th>\n",
       "      <td>dee896e754a91d3b0ef6428a3d190bc1-1</td>\n",
       "      <td>No Risk</td>\n",
       "      <td>[0.7858226239025958, 0.21417737609740412]</td>\n",
       "    </tr>\n",
       "    <tr>\n",
       "      <th>59</th>\n",
       "      <td>dee896e754a91d3b0ef6428a3d190bc1-151</td>\n",
       "      <td>No Risk</td>\n",
       "      <td>[0.7169294014883955, 0.28307059851160465]</td>\n",
       "    </tr>\n",
       "  </tbody>\n",
       "</table>\n",
       "</div>"
      ],
      "text/plain": [
       "                               scoring_id predictedLabel  \\\n",
       "0    dee896e754a91d3b0ef6428a3d190bc1-147           Risk   \n",
       "1    dee896e754a91d3b0ef6428a3d190bc1-150           Risk   \n",
       "2    dee896e754a91d3b0ef6428a3d190bc1-142        No Risk   \n",
       "3    dee896e754a91d3b0ef6428a3d190bc1-146        No Risk   \n",
       "4    dee896e754a91d3b0ef6428a3d190bc1-149        No Risk   \n",
       "5     dee896e754a91d3b0ef6428a3d190bc1-15        No Risk   \n",
       "6    dee896e754a91d3b0ef6428a3d190bc1-141        No Risk   \n",
       "7    dee896e754a91d3b0ef6428a3d190bc1-133        No Risk   \n",
       "8    dee896e754a91d3b0ef6428a3d190bc1-145        No Risk   \n",
       "9    dee896e754a91d3b0ef6428a3d190bc1-121        No Risk   \n",
       "10   dee896e754a91d3b0ef6428a3d190bc1-140        No Risk   \n",
       "11   dee896e754a91d3b0ef6428a3d190bc1-148        No Risk   \n",
       "12   dee896e754a91d3b0ef6428a3d190bc1-130           Risk   \n",
       "13   dee896e754a91d3b0ef6428a3d190bc1-134           Risk   \n",
       "14   dee896e754a91d3b0ef6428a3d190bc1-139           Risk   \n",
       "15   dee896e754a91d3b0ef6428a3d190bc1-131        No Risk   \n",
       "16   dee896e754a91d3b0ef6428a3d190bc1-128        No Risk   \n",
       "17   dee896e754a91d3b0ef6428a3d190bc1-114        No Risk   \n",
       "18   dee896e754a91d3b0ef6428a3d190bc1-138           Risk   \n",
       "19   dee896e754a91d3b0ef6428a3d190bc1-144        No Risk   \n",
       "20   dee896e754a91d3b0ef6428a3d190bc1-120        No Risk   \n",
       "21   dee896e754a91d3b0ef6428a3d190bc1-111        No Risk   \n",
       "22   dee896e754a91d3b0ef6428a3d190bc1-136        No Risk   \n",
       "23    dee896e754a91d3b0ef6428a3d190bc1-12           Risk   \n",
       "24    dee896e754a91d3b0ef6428a3d190bc1-14        No Risk   \n",
       "25   dee896e754a91d3b0ef6428a3d190bc1-143        No Risk   \n",
       "26   dee896e754a91d3b0ef6428a3d190bc1-123           Risk   \n",
       "27   dee896e754a91d3b0ef6428a3d190bc1-129        No Risk   \n",
       "28   dee896e754a91d3b0ef6428a3d190bc1-115        No Risk   \n",
       "29   dee896e754a91d3b0ef6428a3d190bc1-106           Risk   \n",
       "30   dee896e754a91d3b0ef6428a3d190bc1-103        No Risk   \n",
       "31   dee896e754a91d3b0ef6428a3d190bc1-137        No Risk   \n",
       "32   dee896e754a91d3b0ef6428a3d190bc1-119           Risk   \n",
       "33   dee896e754a91d3b0ef6428a3d190bc1-127        No Risk   \n",
       "34   dee896e754a91d3b0ef6428a3d190bc1-125           Risk   \n",
       "35   dee896e754a91d3b0ef6428a3d190bc1-116           Risk   \n",
       "36   dee896e754a91d3b0ef6428a3d190bc1-110           Risk   \n",
       "37   dee896e754a91d3b0ef6428a3d190bc1-102        No Risk   \n",
       "38    dee896e754a91d3b0ef6428a3d190bc1-13           Risk   \n",
       "39   dee896e754a91d3b0ef6428a3d190bc1-135        No Risk   \n",
       "40   dee896e754a91d3b0ef6428a3d190bc1-124        No Risk   \n",
       "41   dee896e754a91d3b0ef6428a3d190bc1-118        No Risk   \n",
       "42    dee896e754a91d3b0ef6428a3d190bc1-11        No Risk   \n",
       "43    dee896e754a91d3b0ef6428a3d190bc1-10        No Risk   \n",
       "44   dee896e754a91d3b0ef6428a3d190bc1-105        No Risk   \n",
       "45   dee896e754a91d3b0ef6428a3d190bc1-107           Risk   \n",
       "46   dee896e754a91d3b0ef6428a3d190bc1-109        No Risk   \n",
       "47   dee896e754a91d3b0ef6428a3d190bc1-117           Risk   \n",
       "48   dee896e754a91d3b0ef6428a3d190bc1-113        No Risk   \n",
       "49   dee896e754a91d3b0ef6428a3d190bc1-104           Risk   \n",
       "50   dee896e754a91d3b0ef6428a3d190bc1-112        No Risk   \n",
       "51   dee896e754a91d3b0ef6428a3d190bc1-108        No Risk   \n",
       "52   dee896e754a91d3b0ef6428a3d190bc1-132           Risk   \n",
       "53   dee896e754a91d3b0ef6428a3d190bc1-101        No Risk   \n",
       "54   dee896e754a91d3b0ef6428a3d190bc1-100        No Risk   \n",
       "55  dee896e754a91d3b0ef6428a3d190bc1-1000        No Risk   \n",
       "56   dee896e754a91d3b0ef6428a3d190bc1-126           Risk   \n",
       "57   dee896e754a91d3b0ef6428a3d190bc1-122        No Risk   \n",
       "58     dee896e754a91d3b0ef6428a3d190bc1-1        No Risk   \n",
       "59   dee896e754a91d3b0ef6428a3d190bc1-151        No Risk   \n",
       "\n",
       "                                   probability  \n",
       "0    [0.39529250215656087, 0.6047074978434391]  \n",
       "1    [0.16901307178954633, 0.8309869282104536]  \n",
       "2    [0.7983854192170071, 0.20161458078299285]  \n",
       "3    [0.6076710233097418, 0.39232897669025835]  \n",
       "4    [0.6761969235818277, 0.32380307641817224]  \n",
       "5     [0.6756922948373565, 0.3243077051626435]  \n",
       "6     [0.845919183590898, 0.15408081640910204]  \n",
       "7    [0.5266038757997153, 0.47339612420028454]  \n",
       "8     [0.920162863435178, 0.07983713656482216]  \n",
       "9     [0.7520103580613784, 0.2479896419386216]  \n",
       "10   [0.9042031133008084, 0.09579688669919163]  \n",
       "11    [0.8333062213266565, 0.1666937786733435]  \n",
       "12   [0.17960162457744083, 0.8203983754225591]  \n",
       "13    [0.1898545247079901, 0.8101454752920099]  \n",
       "14     [0.2550112156683831, 0.744988784331617]  \n",
       "15   [0.7177564861272426, 0.28224351387275737]  \n",
       "16   [0.7659082055157764, 0.23409179448422354]  \n",
       "17    [0.5341996103746208, 0.4658003896253792]  \n",
       "18   [0.44984781877040414, 0.5501521812295959]  \n",
       "19    [0.8003434024042031, 0.1996565975957969]  \n",
       "20    [0.7887122194468028, 0.2112877805531971]  \n",
       "21    [0.6217973223236626, 0.3782026776763374]  \n",
       "22    [0.6199282792795647, 0.3800717207204354]  \n",
       "23    [0.4572618662748974, 0.5427381337251026]  \n",
       "24   [0.9131100350247267, 0.08688996497527345]  \n",
       "25   [0.6972360749634008, 0.30276392503659916]  \n",
       "26   [0.14267193876249876, 0.8573280612375012]  \n",
       "27   [0.7979453175530322, 0.20205468244696778]  \n",
       "28    [0.951209553295112, 0.04879044670488806]  \n",
       "29   [0.13744658384742087, 0.8625534161525792]  \n",
       "30    [0.6386179436433489, 0.3613820563566512]  \n",
       "31    [0.5779353142927051, 0.4220646857072949]  \n",
       "32   [0.42650559416201367, 0.5734944058379864]  \n",
       "33  [0.9854484873047363, 0.014551512695263584]  \n",
       "34      [0.176212225017051, 0.823787774982949]  \n",
       "35    [0.1947106418440965, 0.8052893581559035]  \n",
       "36    [0.3951568526391602, 0.6048431473608397]  \n",
       "37   [0.9757008899935263, 0.02429911000647368]  \n",
       "38   [0.47424777738519797, 0.5257522226148021]  \n",
       "39   [0.9844613907671196, 0.01553860923288044]  \n",
       "40   [0.9060059803560065, 0.09399401964399354]  \n",
       "41   [0.6421684465760815, 0.35783155342391854]  \n",
       "42   [0.9795043497038316, 0.02049565029616848]  \n",
       "43   [0.7647920891799063, 0.23520791082009374]  \n",
       "44    [0.7623538506703823, 0.2376461493296178]  \n",
       "45   [0.36448401471622205, 0.6355159852837781]  \n",
       "46   [0.9044326364545275, 0.09556736354547243]  \n",
       "47    [0.3609636946211392, 0.6390363053788608]  \n",
       "48   [0.7591663641159098, 0.24083363588409012]  \n",
       "49   [0.06606071811725121, 0.9339392818827488]  \n",
       "50    [0.7493407655178933, 0.2506592344821068]  \n",
       "51  [0.9826119008172005, 0.017388099182799478]  \n",
       "52    [0.4593060253528935, 0.5406939746471064]  \n",
       "53   [0.9654984009083319, 0.03450159909166804]  \n",
       "54   [0.9457369271139425, 0.05426307288605749]  \n",
       "55    [0.5769409793449555, 0.4230590206550445]  \n",
       "56    [0.4334277705219418, 0.5665722294780582]  \n",
       "57      [0.774439767641814, 0.225560232358186]  \n",
       "58   [0.7858226239025958, 0.21417737609740412]  \n",
       "59   [0.7169294014883955, 0.28307059851160465]  "
      ]
     },
     "execution_count": 70,
     "metadata": {},
     "output_type": "execute_result"
    }
   ],
   "source": [
    "payload_data = subscription.payload_logging.get_table_content(limit=60)\n",
    "payload_data.filter(items=['scoring_id', 'predictedLabel', 'probability'])"
   ]
  },
  {
   "cell_type": "markdown",
   "metadata": {},
   "source": [
    "## Congratulations!\n",
    "\n",
    "You have finished the hands-on lab for IBM Watson OpenScale. You can now view the [OpenScale Dashboard](https://aiopenscale.cloud.ibm.com/). Click on the tile for the German Credit model to see fairness, accuracy, and performance monitors. Click on the timeseries graph to get detailed information on transactions during a specific time window.\n",
    "\n",
    "## Next steps\n",
    "\n",
    "OpenScale shows model performance over time. You have two options to keep data flowing to your OpenScale graphs:\n",
    "  * Download, configure and schedule the [model feed notebook](https://raw.githubusercontent.com/emartensibm/german-credit/master/german_credit_scoring_feed.ipynb). This notebook can be set up with your WML credentials, and scheduled to provide a consistent flow of scoring requests to your model, which will appear in your OpenScale monitors.\n",
    "  * Re-run this notebook. Running this notebook from the beginning will delete and re-create the model and deployment, and re-create the historical data. Please note that the payload and measurement logs for the previous deployment will continue to be stored in your datamart, and cal be deleted if necessary."
   ]
  },
  {
   "cell_type": "code",
   "execution_count": null,
   "metadata": {},
   "outputs": [],
   "source": []
  }
 ],
 "metadata": {
  "kernelspec": {
   "display_name": "Python 3.5 with Spark 2.1",
   "language": "python",
   "name": "python3-spark21"
  },
  "language_info": {
   "codemirror_mode": {
    "name": "ipython",
    "version": 3
   },
   "file_extension": ".py",
   "mimetype": "text/x-python",
   "name": "python",
   "nbconvert_exporter": "python",
   "pygments_lexer": "ipython3",
   "version": "3.5.4"
  }
 },
 "nbformat": 4,
 "nbformat_minor": 1
}
